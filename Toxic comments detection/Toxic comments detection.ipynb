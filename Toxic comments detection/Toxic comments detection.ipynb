{
  "metadata": {
    "kernelspec": {
      "name": "python",
      "display_name": "Python (Pyodide)",
      "language": "python"
    },
    "language_info": {
      "codemirror_mode": {
        "name": "ipython",
        "version": 3
      },
      "file_extension": ".py",
      "mimetype": "text/x-python",
      "name": "python",
      "nbconvert_exporter": "python",
      "pygments_lexer": "ipython3",
      "version": "3.9.5"
    },
    "ExecuteTimeLog": [
      {
        "duration": 2437,
        "start_time": "2024-03-18T15:33:55.713Z"
      },
      {
        "duration": 3376,
        "start_time": "2024-03-18T15:35:01.566Z"
      },
      {
        "duration": 1044,
        "start_time": "2024-03-18T15:35:11.810Z"
      },
      {
        "duration": 902,
        "start_time": "2024-03-18T15:35:37.959Z"
      },
      {
        "duration": 925,
        "start_time": "2024-03-18T15:35:44.809Z"
      },
      {
        "duration": 5,
        "start_time": "2024-03-18T15:35:54.163Z"
      },
      {
        "duration": 12,
        "start_time": "2024-03-18T15:36:07.071Z"
      },
      {
        "duration": 2323,
        "start_time": "2024-03-19T04:43:51.712Z"
      },
      {
        "duration": 158,
        "start_time": "2024-03-19T05:32:13.264Z"
      },
      {
        "duration": 3,
        "start_time": "2024-03-19T05:32:18.791Z"
      },
      {
        "duration": 3357,
        "start_time": "2024-03-19T05:32:18.796Z"
      },
      {
        "duration": 15,
        "start_time": "2024-03-19T05:32:26.786Z"
      },
      {
        "duration": 40,
        "start_time": "2024-03-19T05:33:03.281Z"
      },
      {
        "duration": 18,
        "start_time": "2024-03-19T05:33:11.696Z"
      },
      {
        "duration": 18,
        "start_time": "2024-03-19T05:33:56.711Z"
      },
      {
        "duration": 12,
        "start_time": "2024-03-19T05:34:02.951Z"
      },
      {
        "duration": 428,
        "start_time": "2024-03-19T06:05:18.992Z"
      },
      {
        "duration": 3,
        "start_time": "2024-03-19T06:05:36.568Z"
      },
      {
        "duration": 2717,
        "start_time": "2024-03-19T06:05:41.197Z"
      },
      {
        "duration": 2052,
        "start_time": "2024-03-19T06:05:55.222Z"
      },
      {
        "duration": 2413,
        "start_time": "2024-03-19T06:06:41.768Z"
      },
      {
        "duration": 127,
        "start_time": "2024-03-19T06:07:11.743Z"
      },
      {
        "duration": 9,
        "start_time": "2024-03-19T06:07:20.079Z"
      },
      {
        "duration": 2472,
        "start_time": "2024-03-19T06:07:40.152Z"
      },
      {
        "duration": 3347,
        "start_time": "2024-03-19T06:07:42.626Z"
      },
      {
        "duration": 14,
        "start_time": "2024-03-19T06:07:45.975Z"
      },
      {
        "duration": 11,
        "start_time": "2024-03-19T06:07:45.990Z"
      },
      {
        "duration": 2782,
        "start_time": "2024-03-19T06:07:46.002Z"
      },
      {
        "duration": 3090,
        "start_time": "2024-03-19T06:07:48.786Z"
      },
      {
        "duration": 14,
        "start_time": "2024-03-19T06:32:55.681Z"
      },
      {
        "duration": 951,
        "start_time": "2024-03-19T06:32:55.696Z"
      },
      {
        "duration": 8,
        "start_time": "2024-03-19T06:33:01.432Z"
      },
      {
        "duration": 10,
        "start_time": "2024-03-19T06:33:04.310Z"
      },
      {
        "duration": 11,
        "start_time": "2024-03-19T06:34:22.522Z"
      },
      {
        "duration": 19,
        "start_time": "2024-03-19T06:34:34.997Z"
      },
      {
        "duration": 14,
        "start_time": "2024-03-19T06:34:43.256Z"
      },
      {
        "duration": 155,
        "start_time": "2024-03-19T06:40:13.803Z"
      },
      {
        "duration": 17,
        "start_time": "2024-03-19T06:40:36.170Z"
      },
      {
        "duration": 9,
        "start_time": "2024-03-19T06:43:10.920Z"
      },
      {
        "duration": 18,
        "start_time": "2024-03-19T06:45:05.534Z"
      },
      {
        "duration": 26,
        "start_time": "2024-03-19T06:45:35.248Z"
      },
      {
        "duration": 762,
        "start_time": "2024-03-19T06:45:52.882Z"
      },
      {
        "duration": 181,
        "start_time": "2024-03-19T06:46:04.372Z"
      },
      {
        "duration": 140,
        "start_time": "2024-03-19T06:47:02.742Z"
      },
      {
        "duration": 285,
        "start_time": "2024-03-19T06:47:24.956Z"
      },
      {
        "duration": 266,
        "start_time": "2024-03-19T06:47:56.240Z"
      },
      {
        "duration": 188,
        "start_time": "2024-03-19T06:48:03.734Z"
      },
      {
        "duration": 292,
        "start_time": "2024-03-19T06:48:41.421Z"
      },
      {
        "duration": 218,
        "start_time": "2024-03-19T06:48:46.827Z"
      },
      {
        "duration": 334,
        "start_time": "2024-03-19T06:49:17.313Z"
      },
      {
        "duration": 5,
        "start_time": "2024-03-19T06:49:53.402Z"
      },
      {
        "duration": 205,
        "start_time": "2024-03-19T06:49:57.639Z"
      },
      {
        "duration": 303,
        "start_time": "2024-03-19T06:50:15.772Z"
      },
      {
        "duration": 21,
        "start_time": "2024-03-19T06:51:50.193Z"
      },
      {
        "duration": 1184,
        "start_time": "2024-03-19T06:52:09.585Z"
      },
      {
        "duration": 14,
        "start_time": "2024-03-19T06:52:26.032Z"
      },
      {
        "duration": 23,
        "start_time": "2024-03-19T06:52:32.401Z"
      },
      {
        "duration": 52,
        "start_time": "2024-03-19T06:53:54.462Z"
      },
      {
        "duration": 23,
        "start_time": "2024-03-19T06:54:07.646Z"
      },
      {
        "duration": 140,
        "start_time": "2024-03-19T06:58:06.997Z"
      },
      {
        "duration": 274,
        "start_time": "2024-03-19T07:01:28.466Z"
      },
      {
        "duration": 12,
        "start_time": "2024-03-19T07:04:52.814Z"
      },
      {
        "duration": 5,
        "start_time": "2024-03-19T07:04:58.607Z"
      },
      {
        "duration": 7,
        "start_time": "2024-03-19T07:05:11.125Z"
      },
      {
        "duration": 6,
        "start_time": "2024-03-19T07:05:24.092Z"
      },
      {
        "duration": 6,
        "start_time": "2024-03-19T07:05:31.594Z"
      },
      {
        "duration": 5,
        "start_time": "2024-03-19T07:06:25.225Z"
      },
      {
        "duration": 236,
        "start_time": "2024-03-19T07:12:24.321Z"
      },
      {
        "duration": 241,
        "start_time": "2024-03-19T07:12:36.167Z"
      },
      {
        "duration": 403,
        "start_time": "2024-03-19T07:12:50.994Z"
      },
      {
        "duration": 1565,
        "start_time": "2024-03-19T07:13:50.131Z"
      },
      {
        "duration": 1633,
        "start_time": "2024-03-19T07:14:12.352Z"
      },
      {
        "duration": 6,
        "start_time": "2024-03-19T07:14:17.955Z"
      },
      {
        "duration": 83,
        "start_time": "2024-03-19T07:14:45.259Z"
      },
      {
        "duration": 65,
        "start_time": "2024-03-19T07:15:57.944Z"
      },
      {
        "duration": 19,
        "start_time": "2024-03-19T07:16:01.229Z"
      },
      {
        "duration": 5,
        "start_time": "2024-03-19T07:16:11.036Z"
      },
      {
        "duration": 951,
        "start_time": "2024-03-19T07:16:11.045Z"
      },
      {
        "duration": 8,
        "start_time": "2024-03-19T07:16:11.998Z"
      },
      {
        "duration": 11,
        "start_time": "2024-03-19T07:16:12.007Z"
      },
      {
        "duration": 240,
        "start_time": "2024-03-19T07:16:12.019Z"
      },
      {
        "duration": 153,
        "start_time": "2024-03-19T07:16:12.261Z"
      },
      {
        "duration": 339,
        "start_time": "2024-03-19T07:16:12.416Z"
      },
      {
        "duration": 284,
        "start_time": "2024-03-19T07:16:12.758Z"
      },
      {
        "duration": 34,
        "start_time": "2024-03-19T07:16:13.044Z"
      },
      {
        "duration": 7,
        "start_time": "2024-03-19T07:16:13.081Z"
      },
      {
        "duration": 101,
        "start_time": "2024-03-19T07:16:13.090Z"
      },
      {
        "duration": 86,
        "start_time": "2024-03-19T07:16:15.372Z"
      },
      {
        "duration": 136,
        "start_time": "2024-03-19T07:16:16.499Z"
      },
      {
        "duration": 11,
        "start_time": "2024-03-19T07:23:23.818Z"
      },
      {
        "duration": 98,
        "start_time": "2024-03-19T07:23:53.665Z"
      },
      {
        "duration": 65,
        "start_time": "2024-03-19T07:24:06.659Z"
      },
      {
        "duration": 60,
        "start_time": "2024-03-19T07:24:15.689Z"
      },
      {
        "duration": 63,
        "start_time": "2024-03-19T07:24:21.734Z"
      },
      {
        "duration": 70,
        "start_time": "2024-03-19T07:24:33.418Z"
      },
      {
        "duration": 12,
        "start_time": "2024-03-19T07:25:52.612Z"
      },
      {
        "duration": 68,
        "start_time": "2024-03-19T07:30:16.933Z"
      },
      {
        "duration": 67,
        "start_time": "2024-03-19T07:30:23.581Z"
      },
      {
        "duration": 95,
        "start_time": "2024-03-19T07:30:51.419Z"
      },
      {
        "duration": 104,
        "start_time": "2024-03-19T07:38:37.903Z"
      },
      {
        "duration": 89,
        "start_time": "2024-03-19T07:39:24.196Z"
      },
      {
        "duration": 92,
        "start_time": "2024-03-19T07:39:36.377Z"
      },
      {
        "duration": 2226,
        "start_time": "2024-03-19T07:39:41.833Z"
      },
      {
        "duration": 2629,
        "start_time": "2024-03-19T07:40:52.321Z"
      },
      {
        "duration": 3240,
        "start_time": "2024-03-19T07:40:54.953Z"
      },
      {
        "duration": 11,
        "start_time": "2024-03-19T07:40:58.194Z"
      },
      {
        "duration": 18,
        "start_time": "2024-03-19T07:40:58.206Z"
      },
      {
        "duration": 210,
        "start_time": "2024-03-19T07:40:58.226Z"
      },
      {
        "duration": 135,
        "start_time": "2024-03-19T07:40:58.438Z"
      },
      {
        "duration": 313,
        "start_time": "2024-03-19T07:40:58.574Z"
      },
      {
        "duration": 268,
        "start_time": "2024-03-19T07:40:58.888Z"
      },
      {
        "duration": 30,
        "start_time": "2024-03-19T07:40:59.157Z"
      },
      {
        "duration": 5,
        "start_time": "2024-03-19T07:40:59.188Z"
      },
      {
        "duration": 96,
        "start_time": "2024-03-19T07:40:59.194Z"
      },
      {
        "duration": 143,
        "start_time": "2024-03-19T07:40:59.292Z"
      },
      {
        "duration": 105,
        "start_time": "2024-03-19T07:40:59.436Z"
      },
      {
        "duration": 2290,
        "start_time": "2024-03-19T07:40:59.544Z"
      },
      {
        "duration": 1194,
        "start_time": "2024-03-19T07:41:10.811Z"
      },
      {
        "duration": 4,
        "start_time": "2024-03-19T07:41:31.714Z"
      },
      {
        "duration": 894,
        "start_time": "2024-03-19T07:41:42.441Z"
      },
      {
        "duration": 160,
        "start_time": "2024-03-19T07:42:17.279Z"
      },
      {
        "duration": 475,
        "start_time": "2024-03-19T07:42:42.893Z"
      },
      {
        "duration": 5,
        "start_time": "2024-03-19T07:43:02.810Z"
      },
      {
        "duration": 67,
        "start_time": "2024-03-19T07:43:39.504Z"
      },
      {
        "duration": 42,
        "start_time": "2024-03-19T07:43:58.166Z"
      },
      {
        "duration": 4,
        "start_time": "2024-03-19T07:44:18.573Z"
      },
      {
        "duration": 6161,
        "start_time": "2024-03-19T07:44:23.122Z"
      },
      {
        "duration": 34,
        "start_time": "2024-03-19T07:44:50.657Z"
      },
      {
        "duration": 5,
        "start_time": "2024-03-19T07:44:56.213Z"
      },
      {
        "duration": 925,
        "start_time": "2024-03-19T07:44:56.220Z"
      },
      {
        "duration": 7,
        "start_time": "2024-03-19T07:44:57.147Z"
      },
      {
        "duration": 28,
        "start_time": "2024-03-19T07:44:57.156Z"
      },
      {
        "duration": 232,
        "start_time": "2024-03-19T07:44:57.186Z"
      },
      {
        "duration": 153,
        "start_time": "2024-03-19T07:44:57.420Z"
      },
      {
        "duration": 304,
        "start_time": "2024-03-19T07:44:57.575Z"
      },
      {
        "duration": 275,
        "start_time": "2024-03-19T07:44:57.881Z"
      },
      {
        "duration": 37,
        "start_time": "2024-03-19T07:44:58.159Z"
      },
      {
        "duration": 21,
        "start_time": "2024-03-19T07:44:58.198Z"
      },
      {
        "duration": 97,
        "start_time": "2024-03-19T07:44:58.221Z"
      },
      {
        "duration": 135,
        "start_time": "2024-03-19T07:44:58.320Z"
      },
      {
        "duration": 101,
        "start_time": "2024-03-19T07:44:58.457Z"
      },
      {
        "duration": 2263,
        "start_time": "2024-03-19T07:44:58.560Z"
      },
      {
        "duration": 1084,
        "start_time": "2024-03-19T07:45:00.825Z"
      },
      {
        "duration": 896,
        "start_time": "2024-03-19T07:45:01.910Z"
      },
      {
        "duration": 4,
        "start_time": "2024-03-19T07:45:02.807Z"
      },
      {
        "duration": 98,
        "start_time": "2024-03-19T07:45:05.700Z"
      },
      {
        "duration": 9,
        "start_time": "2024-03-19T07:45:17.383Z"
      },
      {
        "duration": 25,
        "start_time": "2024-03-19T07:45:33.607Z"
      },
      {
        "duration": 19,
        "start_time": "2024-03-19T07:46:18.250Z"
      },
      {
        "duration": 18,
        "start_time": "2024-03-19T07:46:41.589Z"
      },
      {
        "duration": 14,
        "start_time": "2024-03-19T07:46:48.190Z"
      },
      {
        "duration": 5,
        "start_time": "2024-03-19T07:47:12.860Z"
      },
      {
        "duration": 5,
        "start_time": "2024-03-19T07:47:58.273Z"
      },
      {
        "duration": 20,
        "start_time": "2024-03-19T07:48:04.122Z"
      },
      {
        "duration": 5,
        "start_time": "2024-03-19T07:48:36.227Z"
      },
      {
        "duration": 15,
        "start_time": "2024-03-19T07:48:43.945Z"
      },
      {
        "duration": 4,
        "start_time": "2024-03-19T07:49:09.233Z"
      },
      {
        "duration": 4,
        "start_time": "2024-03-19T07:49:25.879Z"
      },
      {
        "duration": 9,
        "start_time": "2024-03-19T08:01:44.760Z"
      },
      {
        "duration": 6,
        "start_time": "2024-03-19T08:02:10.618Z"
      },
      {
        "duration": 5,
        "start_time": "2024-03-19T08:02:12.306Z"
      },
      {
        "duration": 4,
        "start_time": "2024-03-19T08:02:14.945Z"
      },
      {
        "duration": 19,
        "start_time": "2024-03-19T08:02:16.069Z"
      },
      {
        "duration": 74,
        "start_time": "2024-03-19T08:12:45.209Z"
      },
      {
        "duration": 6831,
        "start_time": "2024-03-19T08:12:49.818Z"
      },
      {
        "duration": 5,
        "start_time": "2024-03-19T08:13:03.040Z"
      },
      {
        "duration": 4,
        "start_time": "2024-03-19T08:13:07.744Z"
      },
      {
        "duration": 767730,
        "start_time": "2024-03-19T08:13:10.997Z"
      },
      {
        "duration": 5,
        "start_time": "2024-03-19T08:49:28.183Z"
      },
      {
        "duration": 4,
        "start_time": "2024-03-19T08:49:42.757Z"
      },
      {
        "duration": 5,
        "start_time": "2024-03-19T09:07:12.354Z"
      },
      {
        "duration": 4,
        "start_time": "2024-03-19T09:07:48.521Z"
      },
      {
        "duration": 5,
        "start_time": "2024-03-19T09:07:57.711Z"
      },
      {
        "duration": 4,
        "start_time": "2024-03-19T09:08:06.851Z"
      },
      {
        "duration": 3165,
        "start_time": "2024-03-20T03:26:24.648Z"
      },
      {
        "duration": 3343,
        "start_time": "2024-03-20T03:26:27.815Z"
      },
      {
        "duration": 10,
        "start_time": "2024-03-20T03:26:31.160Z"
      },
      {
        "duration": 41,
        "start_time": "2024-03-20T03:26:31.172Z"
      },
      {
        "duration": 257,
        "start_time": "2024-03-20T03:26:31.215Z"
      },
      {
        "duration": 136,
        "start_time": "2024-03-20T03:26:31.475Z"
      },
      {
        "duration": 367,
        "start_time": "2024-03-20T03:26:31.612Z"
      },
      {
        "duration": 248,
        "start_time": "2024-03-20T03:26:31.980Z"
      },
      {
        "duration": 21,
        "start_time": "2024-03-20T03:26:32.229Z"
      },
      {
        "duration": 32,
        "start_time": "2024-03-20T03:26:32.252Z"
      },
      {
        "duration": 93,
        "start_time": "2024-03-20T03:26:32.286Z"
      },
      {
        "duration": 131,
        "start_time": "2024-03-20T03:26:32.380Z"
      },
      {
        "duration": 92,
        "start_time": "2024-03-20T03:26:32.512Z"
      },
      {
        "duration": 2167,
        "start_time": "2024-03-20T03:26:32.606Z"
      },
      {
        "duration": 1100,
        "start_time": "2024-03-20T03:26:34.774Z"
      },
      {
        "duration": 819,
        "start_time": "2024-03-20T03:26:35.876Z"
      },
      {
        "duration": 5,
        "start_time": "2024-03-20T03:26:36.697Z"
      },
      {
        "duration": 88,
        "start_time": "2024-03-20T03:26:36.703Z"
      },
      {
        "duration": 5614,
        "start_time": "2024-03-20T03:26:36.793Z"
      },
      {
        "duration": 3,
        "start_time": "2024-03-20T03:26:42.409Z"
      },
      {
        "duration": 25,
        "start_time": "2024-03-20T03:26:42.413Z"
      },
      {
        "duration": 18,
        "start_time": "2024-03-20T03:26:42.439Z"
      },
      {
        "duration": 713112,
        "start_time": "2024-03-20T03:26:42.458Z"
      },
      {
        "duration": 165,
        "start_time": "2024-03-20T04:00:24.646Z"
      },
      {
        "duration": 45,
        "start_time": "2024-03-20T04:01:03.386Z"
      },
      {
        "duration": 14,
        "start_time": "2024-03-20T04:01:11.658Z"
      },
      {
        "duration": 3,
        "start_time": "2024-03-20T04:01:17.168Z"
      },
      {
        "duration": 0,
        "start_time": "2024-03-20T04:04:28.821Z"
      },
      {
        "duration": 0,
        "start_time": "2024-03-20T04:04:28.822Z"
      },
      {
        "duration": 3,
        "start_time": "2024-03-20T04:04:33.606Z"
      },
      {
        "duration": 3007,
        "start_time": "2024-03-20T07:00:31.072Z"
      },
      {
        "duration": 891,
        "start_time": "2024-03-20T07:00:34.081Z"
      },
      {
        "duration": 20,
        "start_time": "2024-03-20T07:00:34.974Z"
      },
      {
        "duration": 30,
        "start_time": "2024-03-20T07:00:34.996Z"
      },
      {
        "duration": 245,
        "start_time": "2024-03-20T07:00:35.029Z"
      },
      {
        "duration": 226,
        "start_time": "2024-03-20T07:00:35.276Z"
      },
      {
        "duration": 316,
        "start_time": "2024-03-20T07:00:35.505Z"
      },
      {
        "duration": 259,
        "start_time": "2024-03-20T07:00:35.823Z"
      },
      {
        "duration": 28,
        "start_time": "2024-03-20T07:00:36.084Z"
      },
      {
        "duration": 36,
        "start_time": "2024-03-20T07:00:36.114Z"
      },
      {
        "duration": 131,
        "start_time": "2024-03-20T07:00:36.152Z"
      },
      {
        "duration": 170,
        "start_time": "2024-03-20T07:00:36.285Z"
      },
      {
        "duration": 97,
        "start_time": "2024-03-20T07:00:36.457Z"
      },
      {
        "duration": 2248,
        "start_time": "2024-03-20T07:00:36.557Z"
      },
      {
        "duration": 1104,
        "start_time": "2024-03-20T07:00:38.806Z"
      },
      {
        "duration": 759,
        "start_time": "2024-03-20T07:00:39.911Z"
      },
      {
        "duration": 4,
        "start_time": "2024-03-20T07:00:40.672Z"
      },
      {
        "duration": 87,
        "start_time": "2024-03-20T07:00:40.677Z"
      },
      {
        "duration": 5640,
        "start_time": "2024-03-20T07:00:40.766Z"
      },
      {
        "duration": 4,
        "start_time": "2024-03-20T07:00:46.408Z"
      },
      {
        "duration": 88,
        "start_time": "2024-03-20T07:00:46.413Z"
      },
      {
        "duration": 747978,
        "start_time": "2024-03-20T07:00:46.502Z"
      },
      {
        "duration": 0,
        "start_time": "2024-03-20T07:13:14.482Z"
      },
      {
        "duration": 0,
        "start_time": "2024-03-20T07:13:14.483Z"
      },
      {
        "duration": 0,
        "start_time": "2024-03-20T07:13:14.484Z"
      },
      {
        "duration": 0,
        "start_time": "2024-03-20T07:13:14.494Z"
      },
      {
        "duration": 0,
        "start_time": "2024-03-20T07:13:14.495Z"
      },
      {
        "duration": 0,
        "start_time": "2024-03-20T07:13:14.496Z"
      },
      {
        "duration": 0,
        "start_time": "2024-03-20T07:13:14.497Z"
      },
      {
        "duration": 4,
        "start_time": "2024-03-20T07:13:17.472Z"
      },
      {
        "duration": 3043,
        "start_time": "2024-03-20T07:19:31.611Z"
      },
      {
        "duration": 914,
        "start_time": "2024-03-20T07:19:34.657Z"
      },
      {
        "duration": 11,
        "start_time": "2024-03-20T07:19:35.573Z"
      },
      {
        "duration": 50,
        "start_time": "2024-03-20T07:19:35.585Z"
      },
      {
        "duration": 268,
        "start_time": "2024-03-20T07:19:35.637Z"
      },
      {
        "duration": 218,
        "start_time": "2024-03-20T07:19:35.907Z"
      },
      {
        "duration": 327,
        "start_time": "2024-03-20T07:19:36.126Z"
      },
      {
        "duration": 269,
        "start_time": "2024-03-20T07:19:36.455Z"
      },
      {
        "duration": 22,
        "start_time": "2024-03-20T07:19:36.725Z"
      },
      {
        "duration": 91,
        "start_time": "2024-03-20T07:19:36.749Z"
      },
      {
        "duration": 119,
        "start_time": "2024-03-20T07:19:36.841Z"
      },
      {
        "duration": 173,
        "start_time": "2024-03-20T07:19:36.962Z"
      },
      {
        "duration": 103,
        "start_time": "2024-03-20T07:19:37.136Z"
      },
      {
        "duration": 2203,
        "start_time": "2024-03-20T07:19:37.242Z"
      },
      {
        "duration": 1097,
        "start_time": "2024-03-20T07:19:39.447Z"
      },
      {
        "duration": 786,
        "start_time": "2024-03-20T07:19:40.545Z"
      },
      {
        "duration": 5,
        "start_time": "2024-03-20T07:19:41.332Z"
      },
      {
        "duration": 102,
        "start_time": "2024-03-20T07:19:41.338Z"
      },
      {
        "duration": 6007,
        "start_time": "2024-03-20T07:19:41.442Z"
      },
      {
        "duration": 4,
        "start_time": "2024-03-20T07:19:47.451Z"
      },
      {
        "duration": 27,
        "start_time": "2024-03-20T07:19:47.457Z"
      },
      {
        "duration": 201609,
        "start_time": "2024-03-20T07:19:47.486Z"
      },
      {
        "duration": 3,
        "start_time": "2024-03-20T07:23:09.096Z"
      },
      {
        "duration": 42,
        "start_time": "2024-03-20T07:23:09.100Z"
      },
      {
        "duration": 226846,
        "start_time": "2024-03-20T07:23:09.144Z"
      },
      {
        "duration": 0,
        "start_time": "2024-03-20T07:26:55.992Z"
      },
      {
        "duration": 0,
        "start_time": "2024-03-20T07:26:55.994Z"
      },
      {
        "duration": 0,
        "start_time": "2024-03-20T07:26:55.995Z"
      },
      {
        "duration": 3,
        "start_time": "2024-03-20T07:26:58.877Z"
      },
      {
        "duration": 2,
        "start_time": "2024-03-20T07:26:59.876Z"
      },
      {
        "duration": 452638,
        "start_time": "2024-03-20T07:27:00.787Z"
      },
      {
        "duration": 0,
        "start_time": "2024-03-20T07:34:33.428Z"
      },
      {
        "duration": 11,
        "start_time": "2024-03-20T07:34:37.949Z"
      },
      {
        "duration": 5,
        "start_time": "2024-03-20T07:34:50.243Z"
      },
      {
        "duration": 3,
        "start_time": "2024-03-20T07:35:03.322Z"
      },
      {
        "duration": 2,
        "start_time": "2024-03-20T07:35:05.190Z"
      },
      {
        "duration": 749982,
        "start_time": "2024-03-20T07:35:06.882Z"
      },
      {
        "duration": 392442,
        "start_time": "2024-03-20T07:47:41.207Z"
      },
      {
        "duration": 1355517,
        "start_time": "2024-03-20T07:54:19.112Z"
      },
      {
        "duration": 16763,
        "start_time": "2024-03-20T08:36:52.654Z"
      },
      {
        "duration": 901558,
        "start_time": "2024-03-20T08:37:28.734Z"
      },
      {
        "duration": 5,
        "start_time": "2024-03-20T09:37:46.293Z"
      },
      {
        "duration": 837,
        "start_time": "2024-03-20T09:37:47.404Z"
      },
      {
        "duration": 10,
        "start_time": "2024-03-20T09:37:48.982Z"
      },
      {
        "duration": 11,
        "start_time": "2024-03-20T09:37:51.901Z"
      },
      {
        "duration": 196,
        "start_time": "2024-03-20T09:37:52.637Z"
      },
      {
        "duration": 121,
        "start_time": "2024-03-20T09:37:52.844Z"
      },
      {
        "duration": 285,
        "start_time": "2024-03-20T09:37:55.554Z"
      },
      {
        "duration": 250,
        "start_time": "2024-03-20T09:37:56.194Z"
      },
      {
        "duration": 20,
        "start_time": "2024-03-20T09:37:59.068Z"
      },
      {
        "duration": 5,
        "start_time": "2024-03-20T09:38:01.822Z"
      },
      {
        "duration": 77,
        "start_time": "2024-03-20T09:38:02.136Z"
      },
      {
        "duration": 122,
        "start_time": "2024-03-20T09:38:02.424Z"
      },
      {
        "duration": 93,
        "start_time": "2024-03-20T09:38:04.593Z"
      },
      {
        "duration": 2097,
        "start_time": "2024-03-20T09:38:13.377Z"
      },
      {
        "duration": 2,
        "start_time": "2024-03-20T09:38:19.618Z"
      },
      {
        "duration": 166,
        "start_time": "2024-03-20T09:38:50.022Z"
      },
      {
        "duration": 20,
        "start_time": "2024-03-20T09:38:54.100Z"
      },
      {
        "duration": 3,
        "start_time": "2024-03-20T09:39:16.083Z"
      },
      {
        "duration": 760,
        "start_time": "2024-03-20T09:39:18.590Z"
      },
      {
        "duration": 10,
        "start_time": "2024-03-20T09:39:32.644Z"
      },
      {
        "duration": 102,
        "start_time": "2024-03-20T09:39:39.144Z"
      },
      {
        "duration": 10,
        "start_time": "2024-03-20T09:39:44.221Z"
      },
      {
        "duration": 9,
        "start_time": "2024-03-20T09:40:07.878Z"
      },
      {
        "duration": 4,
        "start_time": "2024-03-20T09:40:13.291Z"
      },
      {
        "duration": 17,
        "start_time": "2024-03-20T09:40:39.804Z"
      },
      {
        "duration": 45,
        "start_time": "2024-03-20T09:40:42.618Z"
      },
      {
        "duration": 5,
        "start_time": "2024-03-20T09:40:46.344Z"
      },
      {
        "duration": 6,
        "start_time": "2024-03-20T09:40:54.402Z"
      },
      {
        "duration": 5703,
        "start_time": "2024-03-20T09:41:03.943Z"
      },
      {
        "duration": 4,
        "start_time": "2024-03-20T09:41:12.273Z"
      },
      {
        "duration": 4,
        "start_time": "2024-03-20T09:41:16.529Z"
      },
      {
        "duration": 200664,
        "start_time": "2024-03-20T09:41:20.121Z"
      },
      {
        "duration": 6,
        "start_time": "2024-03-20T09:48:31.721Z"
      },
      {
        "duration": 3035,
        "start_time": "2024-03-20T10:02:14.289Z"
      },
      {
        "duration": 844,
        "start_time": "2024-03-20T10:02:21.229Z"
      },
      {
        "duration": 11,
        "start_time": "2024-03-20T10:02:22.693Z"
      },
      {
        "duration": 11,
        "start_time": "2024-03-20T10:02:27.574Z"
      },
      {
        "duration": 108,
        "start_time": "2024-03-20T10:02:30.529Z"
      },
      {
        "duration": 198,
        "start_time": "2024-03-20T10:02:31.045Z"
      },
      {
        "duration": 208,
        "start_time": "2024-03-20T10:02:31.473Z"
      },
      {
        "duration": 315,
        "start_time": "2024-03-20T10:07:12.898Z"
      },
      {
        "duration": 251,
        "start_time": "2024-03-20T10:07:15.960Z"
      },
      {
        "duration": 21,
        "start_time": "2024-03-20T10:07:16.423Z"
      },
      {
        "duration": 5,
        "start_time": "2024-03-20T10:07:17.567Z"
      },
      {
        "duration": 1907,
        "start_time": "2024-03-20T10:08:34.963Z"
      },
      {
        "duration": 24,
        "start_time": "2024-03-20T10:08:48.429Z"
      },
      {
        "duration": 6,
        "start_time": "2024-03-20T10:08:51.870Z"
      },
      {
        "duration": 73,
        "start_time": "2024-03-20T10:08:53.692Z"
      },
      {
        "duration": 1192,
        "start_time": "2024-03-20T10:09:03.807Z"
      },
      {
        "duration": 14,
        "start_time": "2024-03-20T10:09:31.357Z"
      },
      {
        "duration": 1167,
        "start_time": "2024-03-20T10:09:44.526Z"
      },
      {
        "duration": 6,
        "start_time": "2024-03-20T10:09:50.885Z"
      },
      {
        "duration": 906,
        "start_time": "2024-03-20T10:09:50.892Z"
      },
      {
        "duration": 7,
        "start_time": "2024-03-20T10:09:51.800Z"
      },
      {
        "duration": 41,
        "start_time": "2024-03-20T10:09:51.809Z"
      },
      {
        "duration": 130,
        "start_time": "2024-03-20T10:09:51.852Z"
      },
      {
        "duration": 200,
        "start_time": "2024-03-20T10:09:51.983Z"
      },
      {
        "duration": 130,
        "start_time": "2024-03-20T10:09:52.185Z"
      },
      {
        "duration": 306,
        "start_time": "2024-03-20T10:09:52.317Z"
      },
      {
        "duration": 256,
        "start_time": "2024-03-20T10:09:52.625Z"
      },
      {
        "duration": 28,
        "start_time": "2024-03-20T10:09:52.882Z"
      },
      {
        "duration": 14,
        "start_time": "2024-03-20T10:09:52.911Z"
      },
      {
        "duration": 1365,
        "start_time": "2024-03-20T10:09:57.280Z"
      },
      {
        "duration": 73,
        "start_time": "2024-03-20T10:10:17.332Z"
      },
      {
        "duration": 134,
        "start_time": "2024-03-20T10:10:28.443Z"
      },
      {
        "duration": 96,
        "start_time": "2024-03-20T10:10:38.784Z"
      },
      {
        "duration": 70,
        "start_time": "2024-03-20T10:10:49.775Z"
      },
      {
        "duration": 99,
        "start_time": "2024-03-20T10:11:09.898Z"
      },
      {
        "duration": 2072,
        "start_time": "2024-03-20T10:11:24.684Z"
      },
      {
        "duration": 1541,
        "start_time": "2024-03-20T10:11:32.717Z"
      },
      {
        "duration": 3,
        "start_time": "2024-03-20T10:11:44.641Z"
      },
      {
        "duration": 740,
        "start_time": "2024-03-20T10:11:48.659Z"
      },
      {
        "duration": 5,
        "start_time": "2024-03-20T10:11:56.348Z"
      },
      {
        "duration": 56,
        "start_time": "2024-03-20T10:12:21.447Z"
      },
      {
        "duration": 5783,
        "start_time": "2024-03-20T10:12:26.421Z"
      },
      {
        "duration": 4,
        "start_time": "2024-03-20T10:12:42.162Z"
      },
      {
        "duration": 5,
        "start_time": "2024-03-20T10:12:48.778Z"
      },
      {
        "duration": 214122,
        "start_time": "2024-03-20T10:12:51.181Z"
      },
      {
        "duration": 4,
        "start_time": "2024-03-20T10:31:14.854Z"
      },
      {
        "duration": 694832,
        "start_time": "2024-03-20T10:31:17.118Z"
      },
      {
        "duration": 0,
        "start_time": "2024-03-20T10:42:51.951Z"
      },
      {
        "duration": 4,
        "start_time": "2024-03-20T10:44:01.136Z"
      },
      {
        "duration": 343015,
        "start_time": "2024-03-20T10:44:04.396Z"
      },
      {
        "duration": 3377,
        "start_time": "2024-03-20T13:49:39.858Z"
      },
      {
        "duration": 2371,
        "start_time": "2024-03-20T13:49:43.237Z"
      },
      {
        "duration": 11,
        "start_time": "2024-03-20T13:49:45.610Z"
      },
      {
        "duration": 58,
        "start_time": "2024-03-20T13:49:45.622Z"
      },
      {
        "duration": 147,
        "start_time": "2024-03-20T13:49:45.682Z"
      },
      {
        "duration": 219,
        "start_time": "2024-03-20T13:49:45.831Z"
      },
      {
        "duration": 226,
        "start_time": "2024-03-20T13:49:46.052Z"
      },
      {
        "duration": 317,
        "start_time": "2024-03-20T13:49:46.279Z"
      },
      {
        "duration": 302,
        "start_time": "2024-03-20T13:49:46.597Z"
      },
      {
        "duration": 37,
        "start_time": "2024-03-20T13:49:46.901Z"
      },
      {
        "duration": 8,
        "start_time": "2024-03-20T13:49:46.940Z"
      },
      {
        "duration": 111,
        "start_time": "2024-03-20T13:49:46.950Z"
      },
      {
        "duration": 166,
        "start_time": "2024-03-20T13:49:47.063Z"
      },
      {
        "duration": 2,
        "start_time": "2024-03-20T13:49:47.232Z"
      },
      {
        "duration": 119,
        "start_time": "2024-03-20T13:49:47.236Z"
      },
      {
        "duration": 2277,
        "start_time": "2024-03-20T13:49:47.357Z"
      },
      {
        "duration": 4,
        "start_time": "2024-03-20T13:49:49.637Z"
      },
      {
        "duration": 837,
        "start_time": "2024-03-20T13:49:49.643Z"
      },
      {
        "duration": 5,
        "start_time": "2024-03-20T13:49:50.482Z"
      },
      {
        "duration": 81,
        "start_time": "2024-03-20T13:49:50.489Z"
      },
      {
        "duration": 6358,
        "start_time": "2024-03-20T13:49:50.572Z"
      },
      {
        "duration": 5,
        "start_time": "2024-03-20T13:50:01.327Z"
      },
      {
        "duration": 3,
        "start_time": "2024-03-20T13:50:06.303Z"
      },
      {
        "duration": 2,
        "start_time": "2024-03-20T13:50:12.855Z"
      },
      {
        "duration": 899237,
        "start_time": "2024-03-20T13:50:19.995Z"
      },
      {
        "duration": 0,
        "start_time": "2024-03-20T14:05:19.234Z"
      },
      {
        "duration": 3,
        "start_time": "2024-03-20T14:05:31.931Z"
      },
      {
        "duration": 19,
        "start_time": "2024-03-20T14:05:32.978Z"
      },
      {
        "duration": 20,
        "start_time": "2024-03-20T14:05:38.758Z"
      },
      {
        "duration": 7,
        "start_time": "2024-03-20T14:05:45.754Z"
      },
      {
        "duration": 956,
        "start_time": "2024-03-20T14:05:45.763Z"
      },
      {
        "duration": 8,
        "start_time": "2024-03-20T14:05:46.721Z"
      },
      {
        "duration": 25,
        "start_time": "2024-03-20T14:05:46.731Z"
      },
      {
        "duration": 128,
        "start_time": "2024-03-20T14:05:46.758Z"
      },
      {
        "duration": 217,
        "start_time": "2024-03-20T14:05:46.888Z"
      },
      {
        "duration": 139,
        "start_time": "2024-03-20T14:05:47.108Z"
      },
      {
        "duration": 330,
        "start_time": "2024-03-20T14:05:47.250Z"
      },
      {
        "duration": 298,
        "start_time": "2024-03-20T14:05:47.583Z"
      },
      {
        "duration": 22,
        "start_time": "2024-03-20T14:05:47.883Z"
      },
      {
        "duration": 34,
        "start_time": "2024-03-20T14:05:47.906Z"
      },
      {
        "duration": 95,
        "start_time": "2024-03-20T14:05:47.941Z"
      },
      {
        "duration": 145,
        "start_time": "2024-03-20T14:05:48.038Z"
      },
      {
        "duration": 2,
        "start_time": "2024-03-20T14:05:48.185Z"
      },
      {
        "duration": 121,
        "start_time": "2024-03-20T14:05:48.188Z"
      },
      {
        "duration": 2274,
        "start_time": "2024-03-20T14:05:48.311Z"
      },
      {
        "duration": 3,
        "start_time": "2024-03-20T14:05:50.587Z"
      },
      {
        "duration": 811,
        "start_time": "2024-03-20T14:05:54.347Z"
      },
      {
        "duration": 11,
        "start_time": "2024-03-20T14:06:02.339Z"
      },
      {
        "duration": 9,
        "start_time": "2024-03-20T14:06:05.740Z"
      },
      {
        "duration": 10,
        "start_time": "2024-03-20T14:06:21.145Z"
      },
      {
        "duration": 73,
        "start_time": "2024-03-20T14:07:42.254Z"
      },
      {
        "duration": 6144,
        "start_time": "2024-03-20T14:08:07.106Z"
      },
      {
        "duration": 4,
        "start_time": "2024-03-20T14:08:39.359Z"
      },
      {
        "duration": 5,
        "start_time": "2024-03-20T14:08:44.362Z"
      },
      {
        "duration": 0,
        "start_time": "2024-03-20T14:10:34.453Z"
      },
      {
        "duration": 0,
        "start_time": "2024-03-20T14:10:34.454Z"
      },
      {
        "duration": 3,
        "start_time": "2024-03-20T14:10:38.262Z"
      },
      {
        "duration": 315606,
        "start_time": "2024-03-20T14:10:40.137Z"
      },
      {
        "duration": 0,
        "start_time": "2024-03-20T14:15:55.747Z"
      },
      {
        "duration": 4,
        "start_time": "2024-03-20T14:15:59.841Z"
      },
      {
        "duration": 329366,
        "start_time": "2024-03-20T14:16:03.192Z"
      },
      {
        "duration": 0,
        "start_time": "2024-03-20T14:21:32.560Z"
      },
      {
        "duration": 4,
        "start_time": "2024-03-20T14:23:07.717Z"
      },
      {
        "duration": 933878,
        "start_time": "2024-03-20T14:23:09.360Z"
      },
      {
        "duration": 4,
        "start_time": "2024-03-20T14:38:48.120Z"
      },
      {
        "duration": 177360,
        "start_time": "2024-03-20T14:38:49.690Z"
      },
      {
        "duration": 179814,
        "start_time": "2024-03-20T14:43:44.832Z"
      },
      {
        "duration": 27,
        "start_time": "2024-03-20T14:46:55.678Z"
      },
      {
        "duration": 4,
        "start_time": "2024-03-20T14:46:58.900Z"
      },
      {
        "duration": 14,
        "start_time": "2024-03-20T14:47:02.709Z"
      },
      {
        "duration": 0,
        "start_time": "2024-03-20T16:12:11.556Z"
      },
      {
        "duration": 377,
        "start_time": "2024-03-20T16:12:35.834Z"
      },
      {
        "duration": 911,
        "start_time": "2024-03-20T16:12:36.213Z"
      },
      {
        "duration": 9,
        "start_time": "2024-03-20T16:12:37.125Z"
      },
      {
        "duration": 23,
        "start_time": "2024-03-20T16:12:37.136Z"
      },
      {
        "duration": 99,
        "start_time": "2024-03-20T16:12:37.162Z"
      },
      {
        "duration": 221,
        "start_time": "2024-03-20T16:12:37.263Z"
      },
      {
        "duration": 147,
        "start_time": "2024-03-20T16:12:37.486Z"
      },
      {
        "duration": 316,
        "start_time": "2024-03-20T16:12:37.634Z"
      },
      {
        "duration": 526,
        "start_time": "2024-03-20T16:12:37.951Z"
      },
      {
        "duration": 22,
        "start_time": "2024-03-20T16:12:38.478Z"
      },
      {
        "duration": 22,
        "start_time": "2024-03-20T16:12:38.502Z"
      },
      {
        "duration": 76,
        "start_time": "2024-03-20T16:12:38.526Z"
      },
      {
        "duration": 159,
        "start_time": "2024-03-20T16:12:38.604Z"
      },
      {
        "duration": 3,
        "start_time": "2024-03-20T16:12:38.765Z"
      },
      {
        "duration": 113,
        "start_time": "2024-03-20T16:12:38.769Z"
      },
      {
        "duration": 2304,
        "start_time": "2024-03-20T16:12:38.884Z"
      },
      {
        "duration": 4,
        "start_time": "2024-03-20T16:12:50.772Z"
      },
      {
        "duration": 822,
        "start_time": "2024-03-20T16:12:52.397Z"
      },
      {
        "duration": 4,
        "start_time": "2024-03-20T16:12:55.107Z"
      },
      {
        "duration": 74,
        "start_time": "2024-03-20T16:12:58.573Z"
      },
      {
        "duration": 6125,
        "start_time": "2024-03-20T16:12:59.374Z"
      },
      {
        "duration": 4,
        "start_time": "2024-03-20T16:13:05.501Z"
      },
      {
        "duration": 3,
        "start_time": "2024-03-20T16:13:15.140Z"
      },
      {
        "duration": 4,
        "start_time": "2024-03-20T16:13:17.379Z"
      },
      {
        "duration": 2921,
        "start_time": "2024-03-20T16:14:04.118Z"
      },
      {
        "duration": 2364,
        "start_time": "2024-03-20T16:14:07.042Z"
      },
      {
        "duration": 12,
        "start_time": "2024-03-20T16:14:09.409Z"
      },
      {
        "duration": 176,
        "start_time": "2024-03-20T16:14:09.422Z"
      },
      {
        "duration": 104,
        "start_time": "2024-03-20T16:14:09.601Z"
      },
      {
        "duration": 218,
        "start_time": "2024-03-20T16:14:09.706Z"
      },
      {
        "duration": 227,
        "start_time": "2024-03-20T16:14:09.925Z"
      },
      {
        "duration": 322,
        "start_time": "2024-03-20T16:14:10.153Z"
      },
      {
        "duration": 307,
        "start_time": "2024-03-20T16:14:10.477Z"
      },
      {
        "duration": 22,
        "start_time": "2024-03-20T16:14:10.785Z"
      },
      {
        "duration": 19,
        "start_time": "2024-03-20T16:14:10.808Z"
      },
      {
        "duration": 96,
        "start_time": "2024-03-20T16:14:10.829Z"
      },
      {
        "duration": 153,
        "start_time": "2024-03-20T16:14:10.927Z"
      },
      {
        "duration": 2,
        "start_time": "2024-03-20T16:14:11.083Z"
      },
      {
        "duration": 124,
        "start_time": "2024-03-20T16:14:11.087Z"
      },
      {
        "duration": 2184,
        "start_time": "2024-03-20T16:14:11.212Z"
      },
      {
        "duration": 3,
        "start_time": "2024-03-20T16:14:13.398Z"
      },
      {
        "duration": 800,
        "start_time": "2024-03-20T16:14:13.403Z"
      },
      {
        "duration": 5,
        "start_time": "2024-03-20T16:14:14.205Z"
      },
      {
        "duration": 58,
        "start_time": "2024-03-20T16:14:14.212Z"
      },
      {
        "duration": 6042,
        "start_time": "2024-03-20T16:14:14.271Z"
      },
      {
        "duration": 6091,
        "start_time": "2024-03-20T16:14:24.429Z"
      },
      {
        "duration": 22,
        "start_time": "2024-03-20T16:14:42.791Z"
      },
      {
        "duration": 4,
        "start_time": "2024-03-20T16:14:44.793Z"
      },
      {
        "duration": 2766,
        "start_time": "2024-03-21T01:40:01.934Z"
      },
      {
        "duration": 2284,
        "start_time": "2024-03-21T01:40:04.702Z"
      },
      {
        "duration": 10,
        "start_time": "2024-03-21T01:40:06.987Z"
      },
      {
        "duration": 7,
        "start_time": "2024-03-21T01:40:06.999Z"
      },
      {
        "duration": 82,
        "start_time": "2024-03-21T01:40:07.007Z"
      },
      {
        "duration": 199,
        "start_time": "2024-03-21T01:40:07.090Z"
      },
      {
        "duration": 175,
        "start_time": "2024-03-21T01:40:07.290Z"
      },
      {
        "duration": 250,
        "start_time": "2024-03-21T01:40:07.467Z"
      },
      {
        "duration": 222,
        "start_time": "2024-03-21T01:40:07.718Z"
      },
      {
        "duration": 18,
        "start_time": "2024-03-21T01:40:07.942Z"
      },
      {
        "duration": 5,
        "start_time": "2024-03-21T01:40:07.962Z"
      },
      {
        "duration": 78,
        "start_time": "2024-03-21T01:40:07.968Z"
      },
      {
        "duration": 103,
        "start_time": "2024-03-21T01:40:08.048Z"
      },
      {
        "duration": 2,
        "start_time": "2024-03-21T01:40:08.153Z"
      },
      {
        "duration": 80,
        "start_time": "2024-03-21T01:40:08.156Z"
      },
      {
        "duration": 1860,
        "start_time": "2024-03-21T01:40:08.237Z"
      },
      {
        "duration": 3,
        "start_time": "2024-03-21T01:40:10.099Z"
      },
      {
        "duration": 727,
        "start_time": "2024-03-21T01:40:10.104Z"
      },
      {
        "duration": 4,
        "start_time": "2024-03-21T01:40:10.833Z"
      },
      {
        "duration": 48,
        "start_time": "2024-03-21T01:40:10.838Z"
      },
      {
        "duration": 4813,
        "start_time": "2024-03-21T01:40:15.782Z"
      },
      {
        "duration": 21,
        "start_time": "2024-03-21T02:10:52.283Z"
      },
      {
        "duration": 751,
        "start_time": "2024-03-21T02:10:52.306Z"
      },
      {
        "duration": 7,
        "start_time": "2024-03-21T02:10:53.058Z"
      },
      {
        "duration": 30,
        "start_time": "2024-03-21T02:10:53.066Z"
      },
      {
        "duration": 79,
        "start_time": "2024-03-21T02:10:53.098Z"
      },
      {
        "duration": 172,
        "start_time": "2024-03-21T02:10:53.178Z"
      },
      {
        "duration": 105,
        "start_time": "2024-03-21T02:10:53.351Z"
      },
      {
        "duration": 236,
        "start_time": "2024-03-21T02:10:53.458Z"
      },
      {
        "duration": 210,
        "start_time": "2024-03-21T02:10:53.695Z"
      },
      {
        "duration": 18,
        "start_time": "2024-03-21T02:10:53.907Z"
      },
      {
        "duration": 9,
        "start_time": "2024-03-21T02:10:53.926Z"
      },
      {
        "duration": 69,
        "start_time": "2024-03-21T02:10:53.936Z"
      },
      {
        "duration": 95,
        "start_time": "2024-03-21T02:10:54.007Z"
      },
      {
        "duration": 2,
        "start_time": "2024-03-21T02:10:54.104Z"
      },
      {
        "duration": 70,
        "start_time": "2024-03-21T02:10:54.108Z"
      },
      {
        "duration": 1864,
        "start_time": "2024-03-21T02:10:54.180Z"
      },
      {
        "duration": 3,
        "start_time": "2024-03-21T02:10:56.045Z"
      },
      {
        "duration": 663,
        "start_time": "2024-03-21T02:10:56.049Z"
      },
      {
        "duration": 3,
        "start_time": "2024-03-21T02:10:56.713Z"
      },
      {
        "duration": 70,
        "start_time": "2024-03-21T02:10:56.717Z"
      },
      {
        "duration": 4858,
        "start_time": "2024-03-21T02:10:56.788Z"
      },
      {
        "duration": 2,
        "start_time": "2024-03-21T02:12:03.782Z"
      },
      {
        "duration": 7,
        "start_time": "2024-03-21T02:12:04.648Z"
      },
      {
        "duration": 2,
        "start_time": "2024-03-21T02:12:08.476Z"
      },
      {
        "duration": 27,
        "start_time": "2024-03-21T02:12:10.410Z"
      },
      {
        "duration": 4698,
        "start_time": "2024-03-21T02:12:12.365Z"
      },
      {
        "duration": 3,
        "start_time": "2024-03-21T02:12:17.065Z"
      },
      {
        "duration": 35,
        "start_time": "2024-03-21T02:13:44.724Z"
      },
      {
        "duration": 3,
        "start_time": "2024-03-21T02:13:52.547Z"
      },
      {
        "duration": 8267663,
        "start_time": "2024-03-21T02:13:56.657Z"
      },
      {
        "duration": 73,
        "start_time": "2024-03-21T04:31:44.322Z"
      },
      {
        "duration": 0,
        "start_time": "2024-03-21T04:31:44.396Z"
      },
      {
        "duration": 4,
        "start_time": "2024-03-21T04:32:02.321Z"
      },
      {
        "duration": 3,
        "start_time": "2024-03-21T04:32:25.478Z"
      },
      {
        "duration": 160,
        "start_time": "2024-03-21T04:32:30.402Z"
      },
      {
        "duration": 10,
        "start_time": "2024-03-21T04:32:38.113Z"
      },
      {
        "duration": 10,
        "start_time": "2024-03-21T04:32:46.660Z"
      },
      {
        "duration": 796,
        "start_time": "2024-03-21T04:34:30.753Z"
      },
      {
        "duration": 3,
        "start_time": "2024-03-21T04:36:11.375Z"
      },
      {
        "duration": 0,
        "start_time": "2024-03-21T04:38:38.252Z"
      },
      {
        "duration": 36,
        "start_time": "2024-03-21T04:38:52.233Z"
      },
      {
        "duration": 1352232,
        "start_time": "2024-03-21T04:39:09.008Z"
      },
      {
        "duration": 3,
        "start_time": "2024-03-21T05:01:41.242Z"
      },
      {
        "duration": 2,
        "start_time": "2024-03-21T05:02:01.559Z"
      },
      {
        "duration": 129,
        "start_time": "2024-03-21T05:02:05.708Z"
      },
      {
        "duration": 755,
        "start_time": "2024-03-21T05:02:05.838Z"
      },
      {
        "duration": 9,
        "start_time": "2024-03-21T05:02:06.594Z"
      },
      {
        "duration": 23,
        "start_time": "2024-03-21T05:02:06.605Z"
      },
      {
        "duration": 70,
        "start_time": "2024-03-21T05:02:06.630Z"
      },
      {
        "duration": 164,
        "start_time": "2024-03-21T05:02:06.702Z"
      },
      {
        "duration": 104,
        "start_time": "2024-03-21T05:02:06.867Z"
      },
      {
        "duration": 239,
        "start_time": "2024-03-21T05:02:06.972Z"
      },
      {
        "duration": 397,
        "start_time": "2024-03-21T05:02:07.213Z"
      },
      {
        "duration": 11,
        "start_time": "2024-03-21T05:02:07.611Z"
      },
      {
        "duration": 1032,
        "start_time": "2024-03-21T05:02:07.624Z"
      },
      {
        "duration": 0,
        "start_time": "2024-03-21T05:02:08.658Z"
      },
      {
        "duration": 0,
        "start_time": "2024-03-21T05:02:08.659Z"
      },
      {
        "duration": 0,
        "start_time": "2024-03-21T05:02:08.660Z"
      },
      {
        "duration": 0,
        "start_time": "2024-03-21T05:02:08.661Z"
      },
      {
        "duration": 0,
        "start_time": "2024-03-21T05:02:08.663Z"
      },
      {
        "duration": 0,
        "start_time": "2024-03-21T05:02:08.664Z"
      },
      {
        "duration": 0,
        "start_time": "2024-03-21T05:02:08.665Z"
      },
      {
        "duration": 0,
        "start_time": "2024-03-21T05:02:08.666Z"
      },
      {
        "duration": 0,
        "start_time": "2024-03-21T05:02:08.667Z"
      },
      {
        "duration": 2613,
        "start_time": "2024-03-21T05:03:05.306Z"
      },
      {
        "duration": 766,
        "start_time": "2024-03-21T05:03:07.921Z"
      },
      {
        "duration": 13,
        "start_time": "2024-03-21T05:03:08.689Z"
      },
      {
        "duration": 7,
        "start_time": "2024-03-21T05:03:08.703Z"
      },
      {
        "duration": 91,
        "start_time": "2024-03-21T05:03:08.711Z"
      },
      {
        "duration": 237,
        "start_time": "2024-03-21T05:03:08.803Z"
      },
      {
        "duration": 109,
        "start_time": "2024-03-21T05:03:09.041Z"
      },
      {
        "duration": 244,
        "start_time": "2024-03-21T05:03:09.152Z"
      },
      {
        "duration": 205,
        "start_time": "2024-03-21T05:03:09.398Z"
      },
      {
        "duration": 10,
        "start_time": "2024-03-21T05:03:09.605Z"
      },
      {
        "duration": 993,
        "start_time": "2024-03-21T05:03:21.511Z"
      },
      {
        "duration": 13,
        "start_time": "2024-03-21T05:03:41.107Z"
      },
      {
        "duration": 758,
        "start_time": "2024-03-21T05:03:46.051Z"
      },
      {
        "duration": 7,
        "start_time": "2024-03-21T05:03:48.793Z"
      },
      {
        "duration": 13,
        "start_time": "2024-03-21T05:03:53.679Z"
      },
      {
        "duration": 156,
        "start_time": "2024-03-21T05:04:15.313Z"
      },
      {
        "duration": 93,
        "start_time": "2024-03-21T05:04:17.509Z"
      },
      {
        "duration": 215,
        "start_time": "2024-03-21T05:04:18.372Z"
      },
      {
        "duration": 204,
        "start_time": "2024-03-21T05:04:18.978Z"
      },
      {
        "duration": 10,
        "start_time": "2024-03-21T05:04:22.347Z"
      },
      {
        "duration": 780,
        "start_time": "2024-03-21T05:04:26.529Z"
      },
      {
        "duration": 841,
        "start_time": "2024-03-21T05:04:52.725Z"
      },
      {
        "duration": 8,
        "start_time": "2024-03-21T05:05:02.579Z"
      },
      {
        "duration": 83,
        "start_time": "2024-03-21T05:05:15.531Z"
      },
      {
        "duration": 127,
        "start_time": "2024-03-21T05:05:35.883Z"
      },
      {
        "duration": 135,
        "start_time": "2024-03-21T05:05:40.041Z"
      },
      {
        "duration": 161,
        "start_time": "2024-03-21T05:05:48.721Z"
      },
      {
        "duration": 165,
        "start_time": "2024-03-21T05:05:55.584Z"
      },
      {
        "duration": 2,
        "start_time": "2024-03-21T05:06:01.577Z"
      },
      {
        "duration": 63,
        "start_time": "2024-03-21T05:06:03.451Z"
      },
      {
        "duration": 1813,
        "start_time": "2024-03-21T05:06:06.689Z"
      },
      {
        "duration": 3,
        "start_time": "2024-03-21T05:06:09.578Z"
      },
      {
        "duration": 154,
        "start_time": "2024-03-21T05:06:11.848Z"
      },
      {
        "duration": 685,
        "start_time": "2024-03-21T05:06:12.992Z"
      },
      {
        "duration": 3,
        "start_time": "2024-03-21T05:06:16.882Z"
      },
      {
        "duration": 59,
        "start_time": "2024-03-21T05:06:21.985Z"
      },
      {
        "duration": 4859,
        "start_time": "2024-03-21T05:06:26.887Z"
      },
      {
        "duration": 2,
        "start_time": "2024-03-21T05:06:33.147Z"
      },
      {
        "duration": 17,
        "start_time": "2024-03-21T05:06:37.431Z"
      },
      {
        "duration": 10,
        "start_time": "2024-03-21T05:07:29.334Z"
      },
      {
        "duration": 272835,
        "start_time": "2024-03-21T05:07:34.683Z"
      },
      {
        "duration": 3,
        "start_time": "2024-03-21T05:13:21.429Z"
      },
      {
        "duration": 102548,
        "start_time": "2024-03-21T05:13:27.437Z"
      },
      {
        "duration": 0,
        "start_time": "2024-03-21T05:15:10.002Z"
      },
      {
        "duration": 3,
        "start_time": "2024-03-21T05:15:13.725Z"
      },
      {
        "duration": 70,
        "start_time": "2024-03-21T05:15:33.004Z"
      },
      {
        "duration": 72,
        "start_time": "2024-03-21T05:15:39.571Z"
      },
      {
        "duration": 73251,
        "start_time": "2024-03-21T05:15:42.945Z"
      },
      {
        "duration": 22289,
        "start_time": "2024-03-21T05:17:20.141Z"
      },
      {
        "duration": 3,
        "start_time": "2024-03-21T05:18:13.134Z"
      },
      {
        "duration": 22105,
        "start_time": "2024-03-21T05:18:22.027Z"
      },
      {
        "duration": 3,
        "start_time": "2024-03-21T05:19:39.208Z"
      },
      {
        "duration": 22906,
        "start_time": "2024-03-21T05:19:49.848Z"
      },
      {
        "duration": 698,
        "start_time": "2024-03-21T05:22:21.742Z"
      },
      {
        "duration": 22647,
        "start_time": "2024-03-21T05:22:41.082Z"
      },
      {
        "duration": 22136,
        "start_time": "2024-03-21T05:24:34.636Z"
      },
      {
        "duration": 73123,
        "start_time": "2024-03-21T05:26:28.006Z"
      },
      {
        "duration": 118921,
        "start_time": "2024-03-21T05:28:40.476Z"
      },
      {
        "duration": 156545,
        "start_time": "2024-03-21T05:31:56.998Z"
      },
      {
        "duration": 9,
        "start_time": "2024-03-21T05:34:51.801Z"
      },
      {
        "duration": 2,
        "start_time": "2024-03-21T05:35:02.051Z"
      },
      {
        "duration": 374702,
        "start_time": "2024-03-21T05:38:18.201Z"
      },
      {
        "duration": 2,
        "start_time": "2024-03-21T05:44:50.773Z"
      },
      {
        "duration": 2,
        "start_time": "2024-03-21T05:45:00.778Z"
      },
      {
        "duration": 3,
        "start_time": "2024-03-21T05:45:22.590Z"
      },
      {
        "duration": 10,
        "start_time": "2024-03-21T05:45:30.319Z"
      },
      {
        "duration": 9,
        "start_time": "2024-03-21T05:45:51.571Z"
      },
      {
        "duration": 10,
        "start_time": "2024-03-21T05:45:56.362Z"
      },
      {
        "duration": 22,
        "start_time": "2024-03-21T05:46:37.066Z"
      },
      {
        "duration": 27426,
        "start_time": "2024-03-21T05:46:44.918Z"
      },
      {
        "duration": 47365,
        "start_time": "2024-03-21T05:47:25.538Z"
      },
      {
        "duration": 47325,
        "start_time": "2024-03-21T05:48:19.881Z"
      },
      {
        "duration": 2,
        "start_time": "2024-03-21T06:03:30.512Z"
      },
      {
        "duration": 1685863,
        "start_time": "2024-03-21T06:06:00.476Z"
      },
      {
        "duration": 4,
        "start_time": "2024-03-21T06:34:59.771Z"
      },
      {
        "duration": 2463,
        "start_time": "2024-03-21T07:50:26.707Z"
      },
      {
        "duration": 750,
        "start_time": "2024-03-21T07:50:29.172Z"
      },
      {
        "duration": 8,
        "start_time": "2024-03-21T07:50:29.924Z"
      },
      {
        "duration": 6,
        "start_time": "2024-03-21T07:50:29.934Z"
      },
      {
        "duration": 92,
        "start_time": "2024-03-21T07:50:29.941Z"
      },
      {
        "duration": 236,
        "start_time": "2024-03-21T07:50:30.034Z"
      },
      {
        "duration": 133,
        "start_time": "2024-03-21T07:50:30.272Z"
      },
      {
        "duration": 271,
        "start_time": "2024-03-21T07:50:30.407Z"
      },
      {
        "duration": 218,
        "start_time": "2024-03-21T07:50:30.679Z"
      },
      {
        "duration": 10,
        "start_time": "2024-03-21T07:50:30.901Z"
      },
      {
        "duration": 215,
        "start_time": "2024-03-21T07:50:30.912Z"
      },
      {
        "duration": 2,
        "start_time": "2024-03-21T07:50:31.128Z"
      },
      {
        "duration": 146,
        "start_time": "2024-03-21T07:50:31.131Z"
      },
      {
        "duration": 1818,
        "start_time": "2024-03-21T07:50:31.278Z"
      },
      {
        "duration": 4,
        "start_time": "2024-03-21T07:50:33.098Z"
      },
      {
        "duration": 154,
        "start_time": "2024-03-21T07:50:33.104Z"
      },
      {
        "duration": 688,
        "start_time": "2024-03-21T07:50:33.259Z"
      },
      {
        "duration": 4,
        "start_time": "2024-03-21T07:50:33.948Z"
      },
      {
        "duration": 75,
        "start_time": "2024-03-21T07:50:33.953Z"
      },
      {
        "duration": 4926,
        "start_time": "2024-03-21T07:50:34.029Z"
      },
      {
        "duration": 2,
        "start_time": "2024-03-21T07:50:38.957Z"
      },
      {
        "duration": 379561,
        "start_time": "2024-03-21T07:50:38.960Z"
      },
      {
        "duration": 2,
        "start_time": "2024-03-21T07:56:58.522Z"
      },
      {
        "duration": 156436,
        "start_time": "2024-03-21T07:56:58.526Z"
      },
      {
        "duration": 2,
        "start_time": "2024-03-21T07:59:34.963Z"
      },
      {
        "duration": 9,
        "start_time": "2024-03-21T07:59:34.966Z"
      },
      {
        "duration": 1691207,
        "start_time": "2024-03-21T07:59:34.976Z"
      },
      {
        "duration": 3,
        "start_time": "2024-03-21T08:27:46.186Z"
      },
      {
        "duration": 46212,
        "start_time": "2024-03-21T08:27:46.190Z"
      },
      {
        "duration": 3,
        "start_time": "2024-03-21T08:30:08.367Z"
      },
      {
        "duration": 7,
        "start_time": "2024-03-21T08:31:34.405Z"
      },
      {
        "duration": 7,
        "start_time": "2024-03-21T08:31:50.166Z"
      },
      {
        "duration": 7,
        "start_time": "2024-03-21T08:32:06.946Z"
      },
      {
        "duration": 7,
        "start_time": "2024-03-21T08:32:19.911Z"
      },
      {
        "duration": 48744,
        "start_time": "2024-03-21T08:32:54.558Z"
      },
      {
        "duration": 3151,
        "start_time": "2024-03-21T11:23:27.614Z"
      },
      {
        "duration": 3154,
        "start_time": "2024-03-21T11:23:30.767Z"
      },
      {
        "duration": 11,
        "start_time": "2024-03-21T11:23:33.923Z"
      },
      {
        "duration": 10,
        "start_time": "2024-03-21T11:23:33.936Z"
      },
      {
        "duration": 100,
        "start_time": "2024-03-21T11:23:33.948Z"
      },
      {
        "duration": 286,
        "start_time": "2024-03-21T11:23:34.050Z"
      },
      {
        "duration": 133,
        "start_time": "2024-03-21T11:23:34.338Z"
      },
      {
        "duration": 311,
        "start_time": "2024-03-21T11:23:34.473Z"
      },
      {
        "duration": 256,
        "start_time": "2024-03-21T11:23:34.786Z"
      },
      {
        "duration": 13,
        "start_time": "2024-03-21T11:23:35.044Z"
      },
      {
        "duration": 201,
        "start_time": "2024-03-21T11:23:35.059Z"
      },
      {
        "duration": 7,
        "start_time": "2024-03-21T11:23:35.262Z"
      },
      {
        "duration": 107,
        "start_time": "2024-03-21T11:23:35.271Z"
      },
      {
        "duration": 28,
        "start_time": "2024-03-21T11:28:21.386Z"
      },
      {
        "duration": 3,
        "start_time": "2024-03-21T11:29:14.207Z"
      },
      {
        "duration": 3,
        "start_time": "2024-03-21T11:29:29.452Z"
      },
      {
        "duration": 180,
        "start_time": "2024-03-21T11:30:49.889Z"
      },
      {
        "duration": 2,
        "start_time": "2024-03-21T11:31:17.392Z"
      },
      {
        "duration": 7,
        "start_time": "2024-03-21T11:31:38.935Z"
      },
      {
        "duration": 5,
        "start_time": "2024-03-21T11:31:44.083Z"
      },
      {
        "duration": 2141,
        "start_time": "2024-03-21T11:32:02.764Z"
      },
      {
        "duration": 3,
        "start_time": "2024-03-21T11:32:10.657Z"
      },
      {
        "duration": 6,
        "start_time": "2024-03-21T11:32:12.031Z"
      },
      {
        "duration": 1256,
        "start_time": "2024-03-21T11:32:42.671Z"
      },
      {
        "duration": 5,
        "start_time": "2024-03-21T11:32:48.698Z"
      },
      {
        "duration": 5,
        "start_time": "2024-03-21T11:33:14.956Z"
      },
      {
        "duration": 5,
        "start_time": "2024-03-21T11:33:20.626Z"
      },
      {
        "duration": 6,
        "start_time": "2024-03-21T11:35:52.904Z"
      },
      {
        "duration": 4,
        "start_time": "2024-03-21T11:40:08.796Z"
      },
      {
        "duration": 21,
        "start_time": "2024-03-21T11:46:50.455Z"
      },
      {
        "duration": 11,
        "start_time": "2024-03-21T11:47:51.681Z"
      },
      {
        "duration": 11,
        "start_time": "2024-03-21T11:48:31.437Z"
      },
      {
        "duration": 21,
        "start_time": "2024-03-21T11:49:45.949Z"
      },
      {
        "duration": 19,
        "start_time": "2024-03-21T11:49:58.095Z"
      },
      {
        "duration": 376,
        "start_time": "2024-03-21T11:50:19.311Z"
      },
      {
        "duration": 103,
        "start_time": "2024-03-21T11:50:22.368Z"
      },
      {
        "duration": 23,
        "start_time": "2024-03-21T11:50:36.898Z"
      },
      {
        "duration": 5,
        "start_time": "2024-03-21T11:51:13.188Z"
      },
      {
        "duration": 3,
        "start_time": "2024-03-21T11:51:23.639Z"
      },
      {
        "duration": 5,
        "start_time": "2024-03-21T11:51:26.632Z"
      },
      {
        "duration": 5,
        "start_time": "2024-03-21T11:51:41.076Z"
      },
      {
        "duration": 5,
        "start_time": "2024-03-21T11:52:05.949Z"
      },
      {
        "duration": 5,
        "start_time": "2024-03-21T11:52:08.828Z"
      },
      {
        "duration": 11,
        "start_time": "2024-03-21T11:52:38.766Z"
      },
      {
        "duration": 12,
        "start_time": "2024-03-21T11:53:01.616Z"
      },
      {
        "duration": 11,
        "start_time": "2024-03-21T11:53:08.893Z"
      },
      {
        "duration": 4,
        "start_time": "2024-03-21T11:53:34.294Z"
      },
      {
        "duration": 5,
        "start_time": "2024-03-21T11:53:57.163Z"
      },
      {
        "duration": 1603,
        "start_time": "2024-03-21T11:55:05.408Z"
      },
      {
        "duration": 3,
        "start_time": "2024-03-21T11:55:27.403Z"
      },
      {
        "duration": 1649,
        "start_time": "2024-03-21T11:56:06.275Z"
      },
      {
        "duration": 242,
        "start_time": "2024-03-21T11:57:43.356Z"
      },
      {
        "duration": 19,
        "start_time": "2024-03-21T11:58:08.052Z"
      },
      {
        "duration": 17,
        "start_time": "2024-03-21T11:58:37.437Z"
      },
      {
        "duration": 18,
        "start_time": "2024-03-21T11:59:13.007Z"
      },
      {
        "duration": 4,
        "start_time": "2024-03-21T11:59:28.755Z"
      },
      {
        "duration": 10,
        "start_time": "2024-03-21T12:00:12.219Z"
      },
      {
        "duration": 11,
        "start_time": "2024-03-21T12:00:16.390Z"
      },
      {
        "duration": 3,
        "start_time": "2024-03-21T12:00:28.653Z"
      },
      {
        "duration": 11,
        "start_time": "2024-03-21T12:00:33.177Z"
      },
      {
        "duration": 10,
        "start_time": "2024-03-21T12:00:37.640Z"
      },
      {
        "duration": 3,
        "start_time": "2024-03-21T12:01:01.458Z"
      },
      {
        "duration": 17,
        "start_time": "2024-03-21T12:01:12.028Z"
      },
      {
        "duration": 3,
        "start_time": "2024-03-21T12:02:55.782Z"
      },
      {
        "duration": 23,
        "start_time": "2024-03-21T12:04:13.738Z"
      },
      {
        "duration": 19,
        "start_time": "2024-03-21T12:04:43.822Z"
      },
      {
        "duration": 13,
        "start_time": "2024-03-21T12:09:29.931Z"
      },
      {
        "duration": 4,
        "start_time": "2024-03-21T12:09:36.239Z"
      },
      {
        "duration": 22,
        "start_time": "2024-03-21T12:11:00.157Z"
      },
      {
        "duration": 1653,
        "start_time": "2024-03-21T12:11:51.698Z"
      },
      {
        "duration": 1640,
        "start_time": "2024-03-21T12:12:27.041Z"
      },
      {
        "duration": 1605,
        "start_time": "2024-03-21T12:12:44.233Z"
      },
      {
        "duration": 1579,
        "start_time": "2024-03-21T12:12:53.100Z"
      },
      {
        "duration": 3,
        "start_time": "2024-03-21T12:13:20.206Z"
      },
      {
        "duration": 425,
        "start_time": "2024-03-21T12:15:01.927Z"
      },
      {
        "duration": 6,
        "start_time": "2024-03-21T12:17:44.887Z"
      },
      {
        "duration": 906,
        "start_time": "2024-03-21T12:17:44.895Z"
      },
      {
        "duration": 8,
        "start_time": "2024-03-21T12:17:45.803Z"
      },
      {
        "duration": 35,
        "start_time": "2024-03-21T12:17:45.813Z"
      },
      {
        "duration": 101,
        "start_time": "2024-03-21T12:17:45.850Z"
      },
      {
        "duration": 198,
        "start_time": "2024-03-21T12:17:45.953Z"
      },
      {
        "duration": 127,
        "start_time": "2024-03-21T12:17:46.153Z"
      },
      {
        "duration": 296,
        "start_time": "2024-03-21T12:17:46.282Z"
      },
      {
        "duration": 248,
        "start_time": "2024-03-21T12:17:46.580Z"
      },
      {
        "duration": 12,
        "start_time": "2024-03-21T12:17:46.830Z"
      },
      {
        "duration": 199,
        "start_time": "2024-03-21T12:17:46.844Z"
      },
      {
        "duration": 2,
        "start_time": "2024-03-21T12:17:47.045Z"
      },
      {
        "duration": 3091,
        "start_time": "2024-03-21T12:34:55.766Z"
      },
      {
        "duration": 875,
        "start_time": "2024-03-21T12:35:01.724Z"
      },
      {
        "duration": 11,
        "start_time": "2024-03-21T12:35:02.601Z"
      },
      {
        "duration": 67,
        "start_time": "2024-03-21T12:35:02.613Z"
      },
      {
        "duration": 97,
        "start_time": "2024-03-21T12:35:03.379Z"
      },
      {
        "duration": 292,
        "start_time": "2024-03-21T12:35:04.291Z"
      },
      {
        "duration": 141,
        "start_time": "2024-03-21T12:35:04.585Z"
      },
      {
        "duration": 305,
        "start_time": "2024-03-21T12:35:04.805Z"
      },
      {
        "duration": 271,
        "start_time": "2024-03-21T12:35:05.112Z"
      },
      {
        "duration": 14,
        "start_time": "2024-03-21T12:35:05.596Z"
      },
      {
        "duration": 208,
        "start_time": "2024-03-21T12:35:06.150Z"
      },
      {
        "duration": 2,
        "start_time": "2024-03-21T12:35:08.120Z"
      },
      {
        "duration": 103,
        "start_time": "2024-03-21T12:35:11.252Z"
      },
      {
        "duration": 171,
        "start_time": "2024-03-21T12:35:42.511Z"
      },
      {
        "duration": 3,
        "start_time": "2024-03-21T12:35:49.625Z"
      },
      {
        "duration": 1677,
        "start_time": "2024-03-21T12:36:03.472Z"
      },
      {
        "duration": 1784,
        "start_time": "2024-03-21T12:37:05.790Z"
      },
      {
        "duration": 1377,
        "start_time": "2024-03-21T12:37:25.171Z"
      },
      {
        "duration": 21,
        "start_time": "2024-03-21T12:37:33.326Z"
      },
      {
        "duration": 1749,
        "start_time": "2024-03-21T12:38:02.342Z"
      },
      {
        "duration": 7,
        "start_time": "2024-03-21T12:54:28.344Z"
      },
      {
        "duration": 900,
        "start_time": "2024-03-21T12:54:28.355Z"
      },
      {
        "duration": 13,
        "start_time": "2024-03-21T12:54:29.257Z"
      },
      {
        "duration": 17,
        "start_time": "2024-03-21T12:54:29.272Z"
      },
      {
        "duration": 87,
        "start_time": "2024-03-21T12:54:29.291Z"
      },
      {
        "duration": 208,
        "start_time": "2024-03-21T12:54:29.380Z"
      },
      {
        "duration": 128,
        "start_time": "2024-03-21T12:54:29.590Z"
      },
      {
        "duration": 334,
        "start_time": "2024-03-21T12:54:29.719Z"
      },
      {
        "duration": 288,
        "start_time": "2024-03-21T12:54:30.054Z"
      },
      {
        "duration": 14,
        "start_time": "2024-03-21T12:54:30.344Z"
      },
      {
        "duration": 345,
        "start_time": "2024-03-21T12:54:30.369Z"
      },
      {
        "duration": 3,
        "start_time": "2024-03-21T12:54:30.715Z"
      },
      {
        "duration": 284,
        "start_time": "2024-03-21T12:54:30.719Z"
      },
      {
        "duration": 2116,
        "start_time": "2024-03-21T12:54:31.005Z"
      },
      {
        "duration": 8,
        "start_time": "2024-03-21T12:54:40.473Z"
      },
      {
        "duration": 898,
        "start_time": "2024-03-21T12:54:40.484Z"
      },
      {
        "duration": 7,
        "start_time": "2024-03-21T12:54:41.383Z"
      },
      {
        "duration": 20,
        "start_time": "2024-03-21T12:54:41.391Z"
      },
      {
        "duration": 104,
        "start_time": "2024-03-21T12:54:41.413Z"
      },
      {
        "duration": 200,
        "start_time": "2024-03-21T12:54:41.519Z"
      },
      {
        "duration": 122,
        "start_time": "2024-03-21T12:54:41.721Z"
      },
      {
        "duration": 390,
        "start_time": "2024-03-21T12:54:41.845Z"
      },
      {
        "duration": 290,
        "start_time": "2024-03-21T12:54:42.237Z"
      },
      {
        "duration": 13,
        "start_time": "2024-03-21T12:54:42.529Z"
      },
      {
        "duration": 215,
        "start_time": "2024-03-21T12:54:42.544Z"
      },
      {
        "duration": 3,
        "start_time": "2024-03-21T12:54:50.418Z"
      },
      {
        "duration": 4,
        "start_time": "2024-03-21T12:54:58.226Z"
      },
      {
        "duration": 95,
        "start_time": "2024-03-21T12:55:16.016Z"
      },
      {
        "duration": 445,
        "start_time": "2024-03-21T12:56:48.441Z"
      },
      {
        "duration": 482,
        "start_time": "2024-03-21T14:28:50.692Z"
      },
      {
        "duration": 242,
        "start_time": "2024-03-21T16:13:22.823Z"
      },
      {
        "duration": 777,
        "start_time": "2024-03-21T16:13:23.067Z"
      },
      {
        "duration": 7,
        "start_time": "2024-03-21T16:13:23.846Z"
      },
      {
        "duration": 27,
        "start_time": "2024-03-21T16:13:23.855Z"
      },
      {
        "duration": 85,
        "start_time": "2024-03-21T16:13:23.884Z"
      },
      {
        "duration": 189,
        "start_time": "2024-03-21T16:13:23.971Z"
      },
      {
        "duration": 132,
        "start_time": "2024-03-21T16:13:24.163Z"
      },
      {
        "duration": 287,
        "start_time": "2024-03-21T16:13:24.297Z"
      },
      {
        "duration": 243,
        "start_time": "2024-03-21T16:13:24.586Z"
      },
      {
        "duration": 13,
        "start_time": "2024-03-21T16:13:24.832Z"
      },
      {
        "duration": 210,
        "start_time": "2024-03-21T16:13:24.847Z"
      },
      {
        "duration": 2,
        "start_time": "2024-03-21T16:13:25.059Z"
      },
      {
        "duration": 89,
        "start_time": "2024-03-21T16:13:49.666Z"
      },
      {
        "duration": 2145,
        "start_time": "2024-03-21T16:13:57.050Z"
      },
      {
        "duration": 1342093,
        "start_time": "2024-03-21T16:14:14.142Z"
      },
      {
        "duration": 0,
        "start_time": "2024-03-21T16:36:36.237Z"
      },
      {
        "duration": 1575,
        "start_time": "2024-03-21T16:37:03.707Z"
      },
      {
        "duration": 518643,
        "start_time": "2024-03-21T16:37:14.676Z"
      },
      {
        "duration": 3,
        "start_time": "2024-03-21T16:46:00.972Z"
      },
      {
        "duration": 3,
        "start_time": "2024-03-21T16:46:12.749Z"
      },
      {
        "duration": 103913,
        "start_time": "2024-03-21T16:46:15.321Z"
      },
      {
        "duration": 835823,
        "start_time": "2024-03-21T16:48:04.241Z"
      },
      {
        "duration": 4,
        "start_time": "2024-03-21T17:02:00.066Z"
      },
      {
        "duration": 3395,
        "start_time": "2024-03-22T01:53:15.152Z"
      },
      {
        "duration": 3319,
        "start_time": "2024-03-22T01:53:18.550Z"
      },
      {
        "duration": 11,
        "start_time": "2024-03-22T01:53:21.871Z"
      },
      {
        "duration": 11,
        "start_time": "2024-03-22T01:53:21.884Z"
      },
      {
        "duration": 111,
        "start_time": "2024-03-22T01:53:21.897Z"
      },
      {
        "duration": 304,
        "start_time": "2024-03-22T01:53:22.010Z"
      },
      {
        "duration": 128,
        "start_time": "2024-03-22T01:53:22.316Z"
      },
      {
        "duration": 319,
        "start_time": "2024-03-22T01:53:22.446Z"
      },
      {
        "duration": 286,
        "start_time": "2024-03-22T01:53:22.766Z"
      },
      {
        "duration": 26,
        "start_time": "2024-03-22T01:53:23.055Z"
      },
      {
        "duration": 228,
        "start_time": "2024-03-22T01:53:23.084Z"
      },
      {
        "duration": 3,
        "start_time": "2024-03-22T01:53:23.314Z"
      },
      {
        "duration": 134,
        "start_time": "2024-03-22T01:53:23.319Z"
      },
      {
        "duration": 3,
        "start_time": "2024-03-22T01:53:29.913Z"
      },
      {
        "duration": 181,
        "start_time": "2024-03-22T01:53:32.900Z"
      },
      {
        "duration": 6,
        "start_time": "2024-03-22T01:53:42.201Z"
      },
      {
        "duration": 2152,
        "start_time": "2024-03-22T01:54:12.938Z"
      },
      {
        "duration": 3,
        "start_time": "2024-03-22T01:54:20.199Z"
      },
      {
        "duration": 179,
        "start_time": "2024-03-22T01:54:23.201Z"
      },
      {
        "duration": 5,
        "start_time": "2024-03-22T01:54:26.745Z"
      },
      {
        "duration": 4,
        "start_time": "2024-03-22T01:54:36.265Z"
      },
      {
        "duration": 4,
        "start_time": "2024-03-22T01:54:38.537Z"
      },
      {
        "duration": 3,
        "start_time": "2024-03-22T01:54:55.560Z"
      },
      {
        "duration": 591,
        "start_time": "2024-03-22T01:54:58.291Z"
      },
      {
        "duration": 3,
        "start_time": "2024-03-22T01:55:53.688Z"
      },
      {
        "duration": 4,
        "start_time": "2024-03-22T01:55:55.907Z"
      },
      {
        "duration": 3,
        "start_time": "2024-03-22T01:55:56.896Z"
      },
      {
        "duration": 447,
        "start_time": "2024-03-22T01:55:58.400Z"
      },
      {
        "duration": 415,
        "start_time": "2024-03-22T01:56:24.399Z"
      },
      {
        "duration": 3,
        "start_time": "2024-03-22T01:56:33.658Z"
      },
      {
        "duration": 3,
        "start_time": "2024-03-22T01:56:34.981Z"
      },
      {
        "duration": 0,
        "start_time": "2024-03-22T02:32:55.092Z"
      },
      {
        "duration": 15,
        "start_time": "2024-03-22T02:34:34.012Z"
      },
      {
        "duration": 15,
        "start_time": "2024-03-22T02:35:14.335Z"
      },
      {
        "duration": 9,
        "start_time": "2024-03-22T02:37:34.638Z"
      },
      {
        "duration": 984,
        "start_time": "2024-03-22T02:37:34.649Z"
      },
      {
        "duration": 7,
        "start_time": "2024-03-22T02:37:35.635Z"
      },
      {
        "duration": 19,
        "start_time": "2024-03-22T02:37:35.644Z"
      },
      {
        "duration": 115,
        "start_time": "2024-03-22T02:37:35.665Z"
      },
      {
        "duration": 490,
        "start_time": "2024-03-22T02:37:35.782Z"
      },
      {
        "duration": 160,
        "start_time": "2024-03-22T02:37:36.274Z"
      },
      {
        "duration": 352,
        "start_time": "2024-03-22T02:37:36.436Z"
      },
      {
        "duration": 364,
        "start_time": "2024-03-22T02:37:36.790Z"
      },
      {
        "duration": 25,
        "start_time": "2024-03-22T02:37:37.156Z"
      },
      {
        "duration": 314,
        "start_time": "2024-03-22T02:37:37.185Z"
      },
      {
        "duration": 3,
        "start_time": "2024-03-22T02:37:37.502Z"
      },
      {
        "duration": 133,
        "start_time": "2024-03-22T02:37:37.507Z"
      },
      {
        "duration": 2509,
        "start_time": "2024-03-22T02:37:44.995Z"
      },
      {
        "duration": 6,
        "start_time": "2024-03-22T02:38:06.320Z"
      },
      {
        "duration": 6,
        "start_time": "2024-03-22T02:38:10.518Z"
      },
      {
        "duration": 477,
        "start_time": "2024-03-22T02:38:14.113Z"
      },
      {
        "duration": 19,
        "start_time": "2024-03-22T02:38:28.077Z"
      },
      {
        "duration": 0,
        "start_time": "2024-03-22T03:08:54.373Z"
      },
      {
        "duration": 254,
        "start_time": "2024-03-22T03:09:02.566Z"
      },
      {
        "duration": 979,
        "start_time": "2024-03-22T03:09:02.822Z"
      },
      {
        "duration": 8,
        "start_time": "2024-03-22T03:09:03.803Z"
      },
      {
        "duration": 44,
        "start_time": "2024-03-22T03:09:03.813Z"
      },
      {
        "duration": 134,
        "start_time": "2024-03-22T03:09:03.858Z"
      },
      {
        "duration": 226,
        "start_time": "2024-03-22T03:09:03.993Z"
      },
      {
        "duration": 140,
        "start_time": "2024-03-22T03:09:04.221Z"
      },
      {
        "duration": 360,
        "start_time": "2024-03-22T03:09:04.363Z"
      },
      {
        "duration": 279,
        "start_time": "2024-03-22T03:09:04.725Z"
      },
      {
        "duration": 14,
        "start_time": "2024-03-22T03:09:05.007Z"
      },
      {
        "duration": 228,
        "start_time": "2024-03-22T03:09:05.023Z"
      },
      {
        "duration": 2,
        "start_time": "2024-03-22T03:09:05.253Z"
      },
      {
        "duration": 107,
        "start_time": "2024-03-22T03:09:17.113Z"
      },
      {
        "duration": 2,
        "start_time": "2024-03-22T03:09:22.819Z"
      },
      {
        "duration": 175,
        "start_time": "2024-03-22T03:09:24.585Z"
      },
      {
        "duration": 934691,
        "start_time": "2024-03-22T03:09:35.481Z"
      },
      {
        "duration": 18,
        "start_time": "2024-03-22T03:29:47.804Z"
      },
      {
        "duration": 156,
        "start_time": "2024-03-22T03:56:27.472Z"
      },
      {
        "duration": 4,
        "start_time": "2024-03-22T03:56:41.777Z"
      },
      {
        "duration": 78,
        "start_time": "2024-03-22T03:56:54.783Z"
      },
      {
        "duration": 6136,
        "start_time": "2024-03-22T03:57:00.590Z"
      },
      {
        "duration": 3,
        "start_time": "2024-03-22T03:57:14.356Z"
      },
      {
        "duration": 605490,
        "start_time": "2024-03-22T03:57:17.590Z"
      },
      {
        "duration": 186,
        "start_time": "2024-03-22T04:13:10.678Z"
      },
      {
        "duration": 71,
        "start_time": "2024-03-22T04:13:15.109Z"
      },
      {
        "duration": 6373,
        "start_time": "2024-03-22T04:13:18.274Z"
      },
      {
        "duration": 3,
        "start_time": "2024-03-22T04:13:28.080Z"
      },
      {
        "duration": 460650,
        "start_time": "2024-03-22T04:13:35.049Z"
      },
      {
        "duration": 54126,
        "start_time": "2024-03-22T04:21:55.065Z"
      },
      {
        "duration": 6,
        "start_time": "2024-03-22T04:27:11.422Z"
      },
      {
        "duration": 185,
        "start_time": "2024-03-22T04:27:36.343Z"
      },
      {
        "duration": 68,
        "start_time": "2024-03-22T04:27:44.006Z"
      },
      {
        "duration": 6259,
        "start_time": "2024-03-22T04:27:47.569Z"
      },
      {
        "duration": 64317,
        "start_time": "2024-03-22T04:28:01.079Z"
      },
      {
        "duration": 16,
        "start_time": "2024-03-22T04:30:01.798Z"
      },
      {
        "duration": 385383,
        "start_time": "2024-03-22T04:30:55.020Z"
      },
      {
        "duration": 4,
        "start_time": "2024-03-22T04:37:24.085Z"
      },
      {
        "duration": 4,
        "start_time": "2024-03-22T04:37:25.793Z"
      },
      {
        "duration": 465,
        "start_time": "2024-03-22T04:37:28.615Z"
      },
      {
        "duration": 4,
        "start_time": "2024-03-22T04:37:53.771Z"
      },
      {
        "duration": 351491,
        "start_time": "2024-03-22T04:37:55.026Z"
      },
      {
        "duration": 315,
        "start_time": "2024-03-22T04:44:09.215Z"
      },
      {
        "duration": 890,
        "start_time": "2024-03-22T04:44:12.385Z"
      },
      {
        "duration": 8,
        "start_time": "2024-03-22T04:44:14.420Z"
      },
      {
        "duration": 11,
        "start_time": "2024-03-22T04:44:15.532Z"
      },
      {
        "duration": 86,
        "start_time": "2024-03-22T04:44:16.190Z"
      },
      {
        "duration": 211,
        "start_time": "2024-03-22T04:44:16.995Z"
      },
      {
        "duration": 130,
        "start_time": "2024-03-22T04:44:17.233Z"
      },
      {
        "duration": 306,
        "start_time": "2024-03-22T04:44:17.461Z"
      },
      {
        "duration": 273,
        "start_time": "2024-03-22T04:44:17.769Z"
      },
      {
        "duration": 13,
        "start_time": "2024-03-22T04:44:18.187Z"
      },
      {
        "duration": 208,
        "start_time": "2024-03-22T04:44:18.901Z"
      },
      {
        "duration": 2,
        "start_time": "2024-03-22T04:44:19.180Z"
      },
      {
        "duration": 108,
        "start_time": "2024-03-22T04:44:19.794Z"
      },
      {
        "duration": 2,
        "start_time": "2024-03-22T04:44:21.555Z"
      },
      {
        "duration": 2,
        "start_time": "2024-03-22T04:44:23.508Z"
      },
      {
        "duration": 3,
        "start_time": "2024-03-22T04:44:24.211Z"
      },
      {
        "duration": 3,
        "start_time": "2024-03-22T04:44:24.766Z"
      },
      {
        "duration": 11,
        "start_time": "2024-03-22T04:44:26.457Z"
      },
      {
        "duration": 4,
        "start_time": "2024-03-22T04:44:27.385Z"
      },
      {
        "duration": 3,
        "start_time": "2024-03-22T04:44:28.498Z"
      },
      {
        "duration": 945897,
        "start_time": "2024-03-22T04:44:30.229Z"
      },
      {
        "duration": 9,
        "start_time": "2024-03-22T05:00:23.856Z"
      },
      {
        "duration": 196,
        "start_time": "2024-03-22T05:00:28.206Z"
      },
      {
        "duration": 4,
        "start_time": "2024-03-22T05:00:34.336Z"
      },
      {
        "duration": 56,
        "start_time": "2024-03-22T05:00:37.754Z"
      },
      {
        "duration": 6089,
        "start_time": "2024-03-22T05:00:40.056Z"
      },
      {
        "duration": 3,
        "start_time": "2024-03-22T05:00:53.352Z"
      },
      {
        "duration": 14295,
        "start_time": "2024-03-22T05:00:54.698Z"
      },
      {
        "duration": 52193,
        "start_time": "2024-03-22T05:01:15.197Z"
      },
      {
        "duration": 132,
        "start_time": "2024-03-22T05:02:55.668Z"
      },
      {
        "duration": 334,
        "start_time": "2024-03-22T05:03:07.401Z"
      },
      {
        "duration": 1764,
        "start_time": "2024-03-22T05:03:12.491Z"
      },
      {
        "duration": 10,
        "start_time": "2024-03-22T05:03:29.571Z"
      },
      {
        "duration": 233,
        "start_time": "2024-03-22T05:03:34.425Z"
      },
      {
        "duration": 137,
        "start_time": "2024-03-22T05:03:44.487Z"
      },
      {
        "duration": 44,
        "start_time": "2024-03-22T05:03:47.310Z"
      },
      {
        "duration": 4999,
        "start_time": "2024-03-22T05:03:50.649Z"
      },
      {
        "duration": 81462,
        "start_time": "2024-03-22T05:04:02.234Z"
      },
      {
        "duration": 3269,
        "start_time": "2024-03-22T05:06:20.724Z"
      },
      {
        "duration": 905,
        "start_time": "2024-03-22T05:06:23.996Z"
      },
      {
        "duration": 10,
        "start_time": "2024-03-22T05:06:24.903Z"
      },
      {
        "duration": 14,
        "start_time": "2024-03-22T05:06:24.915Z"
      },
      {
        "duration": 108,
        "start_time": "2024-03-22T05:06:24.931Z"
      },
      {
        "duration": 323,
        "start_time": "2024-03-22T05:06:25.040Z"
      },
      {
        "duration": 141,
        "start_time": "2024-03-22T05:06:25.365Z"
      },
      {
        "duration": 330,
        "start_time": "2024-03-22T05:06:25.508Z"
      },
      {
        "duration": 274,
        "start_time": "2024-03-22T05:06:25.840Z"
      },
      {
        "duration": 14,
        "start_time": "2024-03-22T05:06:26.116Z"
      },
      {
        "duration": 229,
        "start_time": "2024-03-22T05:06:26.131Z"
      },
      {
        "duration": 3,
        "start_time": "2024-03-22T05:06:26.362Z"
      },
      {
        "duration": 120,
        "start_time": "2024-03-22T05:06:26.366Z"
      },
      {
        "duration": 3,
        "start_time": "2024-03-22T05:06:26.489Z"
      },
      {
        "duration": 18,
        "start_time": "2024-03-22T05:06:26.493Z"
      },
      {
        "duration": 21,
        "start_time": "2024-03-22T05:06:26.513Z"
      },
      {
        "duration": 12,
        "start_time": "2024-03-22T05:06:26.536Z"
      },
      {
        "duration": 38,
        "start_time": "2024-03-22T05:06:26.550Z"
      },
      {
        "duration": 7,
        "start_time": "2024-03-22T05:06:26.590Z"
      },
      {
        "duration": 23,
        "start_time": "2024-03-22T05:06:26.598Z"
      },
      {
        "duration": 813357,
        "start_time": "2024-03-22T05:06:26.623Z"
      },
      {
        "duration": 8,
        "start_time": "2024-03-22T05:19:59.982Z"
      },
      {
        "duration": 178,
        "start_time": "2024-03-22T05:19:59.991Z"
      },
      {
        "duration": 3,
        "start_time": "2024-03-22T05:20:00.171Z"
      },
      {
        "duration": 88,
        "start_time": "2024-03-22T05:20:00.180Z"
      },
      {
        "duration": 5082,
        "start_time": "2024-03-22T05:20:00.270Z"
      },
      {
        "duration": 6,
        "start_time": "2024-03-22T05:20:05.353Z"
      },
      {
        "duration": 331524,
        "start_time": "2024-03-22T05:20:05.361Z"
      },
      {
        "duration": 3,
        "start_time": "2024-03-22T05:25:36.886Z"
      },
      {
        "duration": 177436,
        "start_time": "2024-03-22T05:25:36.890Z"
      },
      {
        "duration": 2,
        "start_time": "2024-03-22T05:28:34.328Z"
      },
      {
        "duration": 7,
        "start_time": "2024-03-22T05:28:34.332Z"
      },
      {
        "duration": 109783,
        "start_time": "2024-03-22T05:28:34.341Z"
      },
      {
        "duration": 12,
        "start_time": "2024-03-22T05:30:24.125Z"
      },
      {
        "duration": 0,
        "start_time": "2024-03-22T05:30:24.138Z"
      },
      {
        "duration": 0,
        "start_time": "2024-03-22T05:30:24.139Z"
      },
      {
        "duration": 0,
        "start_time": "2024-03-22T05:30:24.140Z"
      },
      {
        "duration": 1401591,
        "start_time": "2024-03-22T05:30:36.136Z"
      },
      {
        "duration": 4,
        "start_time": "2024-03-22T05:53:57.729Z"
      },
      {
        "duration": 22,
        "start_time": "2024-03-22T05:53:57.735Z"
      },
      {
        "duration": 16,
        "start_time": "2024-03-22T05:53:57.758Z"
      },
      {
        "duration": 38705,
        "start_time": "2024-03-22T05:53:57.775Z"
      }
    ],
    "toc": {
      "base_numbering": 1,
      "nav_menu": {},
      "number_sections": true,
      "sideBar": true,
      "skip_h1_title": true,
      "title_cell": "Содержание",
      "title_sidebar": "Contents",
      "toc_cell": true,
      "toc_position": {
        "height": "calc(100% - 180px)",
        "left": "10px",
        "top": "150px",
        "width": "302.391px"
      },
      "toc_section_display": true,
      "toc_window_display": false
    }
  },
  "nbformat_minor": 4,
  "nbformat": 4,
  "cells": [
    {
      "cell_type": "markdown",
      "source": "# Project for an online shop to detect toxic comments\n",
      "metadata": {}
    },
    {
      "cell_type": "markdown",
      "source": "The Wikishop online store is launching a new service. Now users can edit and add product descriptions, just like in wiki communities. That is, clients propose their own edits and comment on the changes of others. The store needs a tool that will look for toxic comments and send them for moderation.\r\n\r\nTrain the model to classify comments into positive and negative. At your disposal is a set of data with markings about the toxicity of edits.\r\n\r\nBuild a model with a quality metric value *F1* of at least 0.75.\r\n\r\n**Instructions for completing the project**\r\n\r\n1. Download and prepare data.\r\n2. Train different models.\r\n3. Draw conclusions.\r\n\r\nIt is not necessary to use *BERT* to complete the project, but you can try.\r\n\r\n**Description of data**\r\n\r\nThe data is in the file `toxic_comments.csv`. The *text* column in it contains the text of the comment, and *toxic* is the target attribute.",
      "metadata": {}
    },
    {
      "cell_type": "markdown",
      "source": "## Preparation",
      "metadata": {}
    },
    {
      "cell_type": "code",
      "source": "import numpy as np\nimport pandas as pd\nimport re\nimport torch\nimport transformers\nfrom tqdm import notebook\nimport matplotlib.pyplot as plt\n\nfrom sklearn.pipeline import Pipeline\nfrom sklearn.linear_model import LogisticRegression\nfrom sklearn.model_selection import cross_val_score\nfrom sklearn.model_selection import train_test_split\nfrom sklearn.model_selection import GridSearchCV\nfrom sklearn.metrics import f1_score\nfrom sklearn.metrics import accuracy_score\nfrom sklearn.ensemble import RandomForestClassifier\nfrom catboost import CatBoostClassifier\nfrom lightgbm import LGBMClassifier\n\nfrom pymystem3 import Mystem\nm = Mystem()\n\n\nimport nltk\nnltk.download('stopwords')\nfrom nltk.corpus import stopwords as nltk_stopwords\nnltk.download('wordnet')\nfrom nltk.corpus import wordnet\nfrom nltk.stem import WordNetLemmatizer\n\n\nfrom sklearn.feature_extraction.text import TfidfVectorizer",
      "metadata": {},
      "outputs": [
        {
          "name": "stderr",
          "output_type": "stream",
          "text": [
            "[nltk_data] Downloading package stopwords to /home/jovyan/nltk_data...\n",
            "[nltk_data]   Package stopwords is already up-to-date!\n",
            "[nltk_data] Downloading package wordnet to /home/jovyan/nltk_data...\n",
            "[nltk_data]   Package wordnet is already up-to-date!\n"
          ]
        }
      ],
      "execution_count": 1
    },
    {
      "cell_type": "code",
      "source": "df = pd.read_csv('/datasets/toxic_comments.csv')",
      "metadata": {},
      "outputs": [],
      "execution_count": 2
    },
    {
      "cell_type": "code",
      "source": "df.head()",
      "metadata": {},
      "outputs": [
        {
          "data": {
            "text/html": [
              "<div>\n",
              "<style scoped>\n",
              "    .dataframe tbody tr th:only-of-type {\n",
              "        vertical-align: middle;\n",
              "    }\n",
              "\n",
              "    .dataframe tbody tr th {\n",
              "        vertical-align: top;\n",
              "    }\n",
              "\n",
              "    .dataframe thead th {\n",
              "        text-align: right;\n",
              "    }\n",
              "</style>\n",
              "<table border=\"1\" class=\"dataframe\">\n",
              "  <thead>\n",
              "    <tr style=\"text-align: right;\">\n",
              "      <th></th>\n",
              "      <th>Unnamed: 0</th>\n",
              "      <th>text</th>\n",
              "      <th>toxic</th>\n",
              "    </tr>\n",
              "  </thead>\n",
              "  <tbody>\n",
              "    <tr>\n",
              "      <th>0</th>\n",
              "      <td>0</td>\n",
              "      <td>Explanation\\nWhy the edits made under my usern...</td>\n",
              "      <td>0</td>\n",
              "    </tr>\n",
              "    <tr>\n",
              "      <th>1</th>\n",
              "      <td>1</td>\n",
              "      <td>D'aww! He matches this background colour I'm s...</td>\n",
              "      <td>0</td>\n",
              "    </tr>\n",
              "    <tr>\n",
              "      <th>2</th>\n",
              "      <td>2</td>\n",
              "      <td>Hey man, I'm really not trying to edit war. It...</td>\n",
              "      <td>0</td>\n",
              "    </tr>\n",
              "    <tr>\n",
              "      <th>3</th>\n",
              "      <td>3</td>\n",
              "      <td>\"\\nMore\\nI can't make any real suggestions on ...</td>\n",
              "      <td>0</td>\n",
              "    </tr>\n",
              "    <tr>\n",
              "      <th>4</th>\n",
              "      <td>4</td>\n",
              "      <td>You, sir, are my hero. Any chance you remember...</td>\n",
              "      <td>0</td>\n",
              "    </tr>\n",
              "  </tbody>\n",
              "</table>\n",
              "</div>"
            ],
            "text/plain": [
              "   Unnamed: 0                                               text  toxic\n",
              "0           0  Explanation\\nWhy the edits made under my usern...      0\n",
              "1           1  D'aww! He matches this background colour I'm s...      0\n",
              "2           2  Hey man, I'm really not trying to edit war. It...      0\n",
              "3           3  \"\\nMore\\nI can't make any real suggestions on ...      0\n",
              "4           4  You, sir, are my hero. Any chance you remember...      0"
            ]
          },
          "execution_count": 3,
          "metadata": {},
          "output_type": "execute_result"
        }
      ],
      "execution_count": 3
    },
    {
      "cell_type": "markdown",
      "source": "Let's remove the 'Unnamed: 0' column, it only repeats the indexes.",
      "metadata": {}
    },
    {
      "cell_type": "code",
      "source": "df = df.drop('Unnamed: 0', axis = 1)\n",
      "metadata": {},
      "outputs": [],
      "execution_count": 4
    },
    {
      "cell_type": "markdown",
      "source": "Let's look separately at toxic and non-toxic comments and their lengths:",
      "metadata": {}
    },
    {
      "cell_type": "code",
      "source": "df['toxic'].value_counts().plot(\n    kind='pie', \n    figsize=(10, 5), \n    legend=False, \n    title='Toxic comments', \n    autopct='%1.0f%%'\n)\nplt.show()",
      "metadata": {
        "scrolled": true
      },
      "outputs": [
        {
          "data": {
            "image/png": "[encoded data removed]",
            "text/plain": [
              "<Figure size 720x360 with 1 Axes>"
            ]
          },
          "metadata": {},
          "output_type": "display_data"
        }
      ],
      "execution_count": 5
    },
    {
      "cell_type": "markdown",
      "source": "90% non-toxic comments, imbalance will need to be taken into account.",
      "metadata": {}
    },
    {
      "cell_type": "code",
      "source": "df_toxic = df.query('toxic ==1')\ndf_toxic['text'].str.len().hist(bins= 50)\nplt.title('Length of toxic comments')",
      "metadata": {
        "trusted": true
      },
      "outputs": [],
      "execution_count": null
    },
    {
      "cell_type": "code",
      "source": "ax = df_toxic['text'].str.len().plot.box()\ndf_toxic['text'].str.len().describe()",
      "metadata": {},
      "outputs": [
        {
          "data": {
            "text/plain": [
              "count    16186.000000\n",
              "mean       302.932411\n",
              "std        618.647890\n",
              "min          5.000000\n",
              "25%         61.000000\n",
              "50%        128.000000\n",
              "75%        282.750000\n",
              "max       5000.000000\n",
              "Name: text, dtype: float64"
            ]
          },
          "execution_count": 7,
          "metadata": {},
          "output_type": "execute_result"
        },
        {
          "data": {
            "image/png": "[encoded data removed]",
            "text/plain": [
              "<Figure size 432x288 with 1 Axes>"
            ]
          },
          "metadata": {
            "needs_background": "light"
          },
          "output_type": "display_data"
        }
      ],
      "execution_count": 7
    },
    {
      "cell_type": "code",
      "source": "df_nontoxic = df.query('toxic ==0')\ndf_nontoxic['text'].str.len().hist(bins= 50)\nplt.title('Length of non toxic comments')",
      "metadata": {
        "trusted": true
      },
      "outputs": [],
      "execution_count": null
    },
    {
      "cell_type": "code",
      "source": "ax = df_nontoxic['text'].str.len().plot.box()\ndf_nontoxic['text'].str.len().describe()",
      "metadata": {},
      "outputs": [
        {
          "data": {
            "text/plain": [
              "count    143106.000000\n",
              "mean        403.956585\n",
              "std         585.914845\n",
              "min           6.000000\n",
              "25%         102.000000\n",
              "50%         216.000000\n",
              "75%         452.000000\n",
              "max        5000.000000\n",
              "Name: text, dtype: float64"
            ]
          },
          "execution_count": 9,
          "metadata": {},
          "output_type": "execute_result"
        },
        {
          "data": {
            "image/png": "[encoded data removed]",
            "text/plain": [
              "<Figure size 432x288 with 1 Axes>"
            ]
          },
          "metadata": {
            "needs_background": "light"
          },
          "output_type": "display_data"
        }
      ],
      "execution_count": 9
    },
    {
      "cell_type": "markdown",
      "source": "The average length of toxic comments is 303 characters, non-toxic - 404. Comments with a length of 2000 to 5000 can be classified as outliers for both cases. That is, there are no significant differences for both groups of comments in terms of length.",
      "metadata": {}
    },
    {
      "cell_type": "code",
      "source": "df_toxic['length'] = df_toxic['text'].str.len()\n",
      "metadata": {},
      "outputs": [
        {
          "name": "stderr",
          "output_type": "stream",
          "text": [
            "/tmp/ipykernel_71/2995411153.py:1: SettingWithCopyWarning: \n",
            "A value is trying to be set on a copy of a slice from a DataFrame.\n",
            "Try using .loc[row_indexer,col_indexer] = value instead\n",
            "\n",
            "See the caveats in the documentation: https://pandas.pydata.org/pandas-docs/stable/user_guide/indexing.html#returning-a-view-versus-a-copy\n",
            "  df_toxic['length'] = df_toxic['text'].str.len()\n"
          ]
        }
      ],
      "execution_count": 10
    },
    {
      "cell_type": "markdown",
      "source": "Even from a short excerpt it is clear that toxic comments are typically written using CAPSLOCK and\r\nrepeated use of exclamation point. We will also remove comments that are too long - longer than the 0.95th quantile.",
      "metadata": {}
    },
    {
      "cell_type": "code",
      "source": "df_nontoxic['length'] = df_nontoxic['text'].str.len()\n\ndf = df[(df['text'].str.len())<(df_nontoxic['length'].quantile(0.95))]\n",
      "metadata": {
        "scrolled": true
      },
      "outputs": [
        {
          "name": "stderr",
          "output_type": "stream",
          "text": [
            "/tmp/ipykernel_71/2622952063.py:1: SettingWithCopyWarning: \n",
            "A value is trying to be set on a copy of a slice from a DataFrame.\n",
            "Try using .loc[row_indexer,col_indexer] = value instead\n",
            "\n",
            "See the caveats in the documentation: https://pandas.pydata.org/pandas-docs/stable/user_guide/indexing.html#returning-a-view-versus-a-copy\n",
            "  df_nontoxic['length'] = df_nontoxic['text'].str.len()\n"
          ]
        }
      ],
      "execution_count": 11
    },
    {
      "cell_type": "code",
      "source": "del df_nontoxic\ndel df_toxic",
      "metadata": {},
      "outputs": [],
      "execution_count": 12
    },
    {
      "cell_type": "markdown",
      "source": "Let's add the \"is_upper\" attribute, which is responsible for writing the comment in capital letters",
      "metadata": {}
    },
    {
      "cell_type": "code",
      "source": "df['is_upper']=df['text'].str.isupper().astype('int')\ndf.head(10)",
      "metadata": {},
      "outputs": [
        {
          "data": {
            "text/html": [
              "<div>\n",
              "<style scoped>\n",
              "    .dataframe tbody tr th:only-of-type {\n",
              "        vertical-align: middle;\n",
              "    }\n",
              "\n",
              "    .dataframe tbody tr th {\n",
              "        vertical-align: top;\n",
              "    }\n",
              "\n",
              "    .dataframe thead th {\n",
              "        text-align: right;\n",
              "    }\n",
              "</style>\n",
              "<table border=\"1\" class=\"dataframe\">\n",
              "  <thead>\n",
              "    <tr style=\"text-align: right;\">\n",
              "      <th></th>\n",
              "      <th>text</th>\n",
              "      <th>toxic</th>\n",
              "      <th>is_upper</th>\n",
              "    </tr>\n",
              "  </thead>\n",
              "  <tbody>\n",
              "    <tr>\n",
              "      <th>0</th>\n",
              "      <td>Explanation\\nWhy the edits made under my usern...</td>\n",
              "      <td>0</td>\n",
              "      <td>0</td>\n",
              "    </tr>\n",
              "    <tr>\n",
              "      <th>1</th>\n",
              "      <td>D'aww! He matches this background colour I'm s...</td>\n",
              "      <td>0</td>\n",
              "      <td>0</td>\n",
              "    </tr>\n",
              "    <tr>\n",
              "      <th>2</th>\n",
              "      <td>Hey man, I'm really not trying to edit war. It...</td>\n",
              "      <td>0</td>\n",
              "      <td>0</td>\n",
              "    </tr>\n",
              "    <tr>\n",
              "      <th>3</th>\n",
              "      <td>\"\\nMore\\nI can't make any real suggestions on ...</td>\n",
              "      <td>0</td>\n",
              "      <td>0</td>\n",
              "    </tr>\n",
              "    <tr>\n",
              "      <th>4</th>\n",
              "      <td>You, sir, are my hero. Any chance you remember...</td>\n",
              "      <td>0</td>\n",
              "      <td>0</td>\n",
              "    </tr>\n",
              "    <tr>\n",
              "      <th>5</th>\n",
              "      <td>\"\\n\\nCongratulations from me as well, use the ...</td>\n",
              "      <td>0</td>\n",
              "      <td>0</td>\n",
              "    </tr>\n",
              "    <tr>\n",
              "      <th>6</th>\n",
              "      <td>COCKSUCKER BEFORE YOU PISS AROUND ON MY WORK</td>\n",
              "      <td>1</td>\n",
              "      <td>1</td>\n",
              "    </tr>\n",
              "    <tr>\n",
              "      <th>7</th>\n",
              "      <td>Your vandalism to the Matt Shirvington article...</td>\n",
              "      <td>0</td>\n",
              "      <td>0</td>\n",
              "    </tr>\n",
              "    <tr>\n",
              "      <th>8</th>\n",
              "      <td>Sorry if the word 'nonsense' was offensive to ...</td>\n",
              "      <td>0</td>\n",
              "      <td>0</td>\n",
              "    </tr>\n",
              "    <tr>\n",
              "      <th>9</th>\n",
              "      <td>alignment on this subject and which are contra...</td>\n",
              "      <td>0</td>\n",
              "      <td>0</td>\n",
              "    </tr>\n",
              "  </tbody>\n",
              "</table>\n",
              "</div>"
            ],
            "text/plain": [
              "                                                text  toxic  is_upper\n",
              "0  Explanation\\nWhy the edits made under my usern...      0         0\n",
              "1  D'aww! He matches this background colour I'm s...      0         0\n",
              "2  Hey man, I'm really not trying to edit war. It...      0         0\n",
              "3  \"\\nMore\\nI can't make any real suggestions on ...      0         0\n",
              "4  You, sir, are my hero. Any chance you remember...      0         0\n",
              "5  \"\\n\\nCongratulations from me as well, use the ...      0         0\n",
              "6       COCKSUCKER BEFORE YOU PISS AROUND ON MY WORK      1         1\n",
              "7  Your vandalism to the Matt Shirvington article...      0         0\n",
              "8  Sorry if the word 'nonsense' was offensive to ...      0         0\n",
              "9  alignment on this subject and which are contra...      0         0"
            ]
          },
          "execution_count": 13,
          "metadata": {},
          "output_type": "execute_result"
        }
      ],
      "execution_count": 13
    },
    {
      "cell_type": "markdown",
      "source": "Cleaning text from unnecessary characters",
      "metadata": {}
    },
    {
      "cell_type": "code",
      "source": "#def cleaning(text):\n#    text = re.sub(r\"(?:\\n|\\r)\", \" \", text)\n#    text = re.sub(r\"[^a-zA-Z ]+\", \"\", text).strip()\n#    text = text.lower()\n#    return text\n#\n#df['text'] = df['text'].apply(cleaning) \n#df.head(10)",
      "metadata": {},
      "outputs": [],
      "execution_count": 14
    },
    {
      "cell_type": "markdown",
      "source": "Lemmatizing the text",
      "metadata": {}
    },
    {
      "cell_type": "code",
      "source": "#corpus = df['text']\n#def lemmatize(text):\n#    lemm = m.lemmatize(text)\n#    return \"\".join(lemm)\n#\n#",
      "metadata": {},
      "outputs": [],
      "execution_count": 15
    },
    {
      "cell_type": "markdown",
      "source": "Let's add the is_upper feature to the corpus as str.",
      "metadata": {}
    },
    {
      "cell_type": "code",
      "source": "is_upper = df['is_upper']\n\n# Конкатенация текстов с учетом признака is_upper\n#corpus = corpus + is_upper.astype(str)",
      "metadata": {},
      "outputs": [],
      "execution_count": 16
    },
    {
      "cell_type": "code",
      "source": "#corpus.loc[0] = lemmatize(corpus.loc[0])\n",
      "metadata": {},
      "outputs": [],
      "execution_count": 17
    },
    {
      "cell_type": "code",
      "source": "lemmatizer = WordNetLemmatizer()\nnltk.download('averaged_perceptron_tagger')",
      "metadata": {},
      "outputs": [
        {
          "name": "stderr",
          "output_type": "stream",
          "text": [
            "[nltk_data] Downloading package averaged_perceptron_tagger to\n",
            "[nltk_data]     /home/jovyan/nltk_data...\n",
            "[nltk_data]   Package averaged_perceptron_tagger is already up-to-\n",
            "[nltk_data]       date!\n"
          ]
        },
        {
          "data": {
            "text/plain": [
              "True"
            ]
          },
          "execution_count": 18,
          "metadata": {},
          "output_type": "execute_result"
        }
      ],
      "execution_count": 18
    },
    {
      "cell_type": "code",
      "source": "def get_wordnet_pos(word):\n    tag = nltk.pos_tag([word])[0][1][0].upper()\n    tag_dict = {\"J\": wordnet.ADJ,\n                \"N\": wordnet.NOUN,\n                \"V\": wordnet.VERB,\n                \"R\": wordnet.ADV}\n    return tag_dict.get(tag, wordnet.NOUN)\n\n",
      "metadata": {},
      "outputs": [],
      "execution_count": 19
    },
    {
      "cell_type": "code",
      "source": "# function for cleaning and lemmatizing text with marked parts of speech\ndef lemmatize_text(text):\n    text = text.lower()\n    reg = re.sub(r'[^a-zA-Z]', ' ', text)\n    clear = reg.split() \n    \n    lemm = []\n    for i in range(len(clear)):\n        lemm.append(lemmatizer.lemmatize(clear[i], get_wordnet_pos(clear[i])))\n    return \" \".join(lemm)",
      "metadata": {
        "trusted": true
      },
      "outputs": [],
      "execution_count": null
    },
    {
      "cell_type": "code",
      "source": "df['lemmatized_text'] = df['text'].apply(lemmatize_text)",
      "metadata": {},
      "outputs": [],
      "execution_count": 21
    },
    {
      "cell_type": "code",
      "source": "df.head(5)",
      "metadata": {
        "scrolled": true
      },
      "outputs": [
        {
          "data": {
            "text/html": [
              "<div>\n",
              "<style scoped>\n",
              "    .dataframe tbody tr th:only-of-type {\n",
              "        vertical-align: middle;\n",
              "    }\n",
              "\n",
              "    .dataframe tbody tr th {\n",
              "        vertical-align: top;\n",
              "    }\n",
              "\n",
              "    .dataframe thead th {\n",
              "        text-align: right;\n",
              "    }\n",
              "</style>\n",
              "<table border=\"1\" class=\"dataframe\">\n",
              "  <thead>\n",
              "    <tr style=\"text-align: right;\">\n",
              "      <th></th>\n",
              "      <th>text</th>\n",
              "      <th>toxic</th>\n",
              "      <th>is_upper</th>\n",
              "      <th>lemmatized_text</th>\n",
              "    </tr>\n",
              "  </thead>\n",
              "  <tbody>\n",
              "    <tr>\n",
              "      <th>0</th>\n",
              "      <td>Explanation\\nWhy the edits made under my usern...</td>\n",
              "      <td>0</td>\n",
              "      <td>0</td>\n",
              "      <td>explanation why the edits make under my userna...</td>\n",
              "    </tr>\n",
              "    <tr>\n",
              "      <th>1</th>\n",
              "      <td>D'aww! He matches this background colour I'm s...</td>\n",
              "      <td>0</td>\n",
              "      <td>0</td>\n",
              "      <td>d aww he match this background colour i m seem...</td>\n",
              "    </tr>\n",
              "    <tr>\n",
              "      <th>2</th>\n",
              "      <td>Hey man, I'm really not trying to edit war. It...</td>\n",
              "      <td>0</td>\n",
              "      <td>0</td>\n",
              "      <td>hey man i m really not try to edit war it s ju...</td>\n",
              "    </tr>\n",
              "    <tr>\n",
              "      <th>3</th>\n",
              "      <td>\"\\nMore\\nI can't make any real suggestions on ...</td>\n",
              "      <td>0</td>\n",
              "      <td>0</td>\n",
              "      <td>more i can t make any real suggestion on impro...</td>\n",
              "    </tr>\n",
              "    <tr>\n",
              "      <th>4</th>\n",
              "      <td>You, sir, are my hero. Any chance you remember...</td>\n",
              "      <td>0</td>\n",
              "      <td>0</td>\n",
              "      <td>you sir be my hero any chance you remember wha...</td>\n",
              "    </tr>\n",
              "  </tbody>\n",
              "</table>\n",
              "</div>"
            ],
            "text/plain": [
              "                                                text  toxic  is_upper  \\\n",
              "0  Explanation\\nWhy the edits made under my usern...      0         0   \n",
              "1  D'aww! He matches this background colour I'm s...      0         0   \n",
              "2  Hey man, I'm really not trying to edit war. It...      0         0   \n",
              "3  \"\\nMore\\nI can't make any real suggestions on ...      0         0   \n",
              "4  You, sir, are my hero. Any chance you remember...      0         0   \n",
              "\n",
              "                                     lemmatized_text  \n",
              "0  explanation why the edits make under my userna...  \n",
              "1  d aww he match this background colour i m seem...  \n",
              "2  hey man i m really not try to edit war it s ju...  \n",
              "3  more i can t make any real suggestion on impro...  \n",
              "4  you sir be my hero any chance you remember wha...  "
            ]
          },
          "execution_count": 22,
          "metadata": {},
          "output_type": "execute_result"
        }
      ],
      "execution_count": 22
    },
    {
      "cell_type": "code",
      "source": "df['lemmatized_text']  = df['lemmatized_text']  + is_upper.astype(str)",
      "metadata": {},
      "outputs": [],
      "execution_count": 23
    },
    {
      "cell_type": "markdown",
      "source": "Text is lemmatized",
      "metadata": {}
    },
    {
      "cell_type": "markdown",
      "source": "Loading stop words",
      "metadata": {}
    },
    {
      "cell_type": "code",
      "source": "stopwords = set(nltk_stopwords.words('english'))",
      "metadata": {},
      "outputs": [],
      "execution_count": 24
    },
    {
      "cell_type": "markdown",
      "source": "The preparation of the text is completed.",
      "metadata": {}
    },
    {
      "cell_type": "markdown",
      "source": "**Conclusion from step 1**: Data received - comments on product descriptions of the online store. The initial analysis of the data revealed that the number of toxic comments is 10%, the length of toxic and non-toxic comments is approximately the same, however, there are many outliers, so comments longer than the 0.98th quantile were removed. It is also noticeable that toxic comments are often written with CAPSLOCK, so we added this feature to the comments.",
      "metadata": {}
    },
    {
      "cell_type": "markdown",
      "source": "Cleaning text from unnecessary characters",
      "metadata": {}
    },
    {
      "cell_type": "markdown",
      "source": "## Training",
      "metadata": {}
    },
    {
      "cell_type": "markdown",
      "source": "We form samples in the ratio 40-40-20:",
      "metadata": {}
    },
    {
      "cell_type": "code",
      "source": "target=df['toxic'].values\n#features = df.drop('toxic', axis=1)\nfeatures = df['lemmatized_text']\nf_valid, f_test, t_valid, t_test = train_test_split(features, target, test_size = .2, random_state = 42)\nf_train, f_valid, t_train, t_valid = train_test_split(f_valid, t_valid, shuffle=False, test_size=0.5, random_state = 42)\n\nf_train.shape[0], f_valid.shape[0], f_test.shape[0]",
      "metadata": {},
      "outputs": [
        {
          "data": {
            "text/plain": [
              "(60638, 60638, 30319)"
            ]
          },
          "execution_count": 25,
          "metadata": {},
          "output_type": "execute_result"
        }
      ],
      "execution_count": 25
    },
    {
      "cell_type": "markdown",
      "source": "Let's vectorize features using TfidfVectorizer",
      "metadata": {}
    },
    {
      "cell_type": "code",
      "source": "count_tf_idf = TfidfVectorizer(stop_words=stopwords)\n\ntfidf_train = count_tf_idf.fit_transform(f_train)\ntfidf_valid = count_tf_idf.transform(f_valid)\ntfidf_test = count_tf_idf.transform(f_test)\n",
      "metadata": {},
      "outputs": [],
      "execution_count": 26
    },
    {
      "cell_type": "code",
      "source": "results_f1 =[]",
      "metadata": {
        "scrolled": true
      },
      "outputs": [],
      "execution_count": 27
    },
    {
      "cell_type": "markdown",
      "source": "Model Training\n**1. Linear Regression**",
      "metadata": {}
    },
    {
      "cell_type": "code",
      "source": "best_result_LR=0\nbest_model= None\nbest_C= None\nfor c in range(1, 20,2):\n    model = LogisticRegression(class_weight='balanced', \n                          random_state=12345, \n                          max_iter=1000, \n                          solver='lbfgs', \n                               C=c)\n   \n    model.fit(tfidf_train, t_train)\n    \n    predicted_valid = model.predict(tfidf_valid)\n    result= f1_score(t_valid, predicted_valid)\n    if result>best_result_LR:\n        best_result_LR = result\n        best_C= c\n#print (\"Значение С:\", best_C)\n\nprint(\"Best F1_score:\", best_result_LR, \"Value С:\", best_C)\n",
      "metadata": {},
      "outputs": [
        {
          "name": "stdout",
          "output_type": "stream",
          "text": [
            "Лучшее F1_score: 0.7542980494950273 Значение С: 11\n"
          ]
        }
      ],
      "execution_count": 28
    },
    {
      "cell_type": "code",
      "source": "results_f1.append(best_result_LR)",
      "metadata": {},
      "outputs": [],
      "execution_count": 29
    },
    {
      "cell_type": "markdown",
      "source": "The best value f1= 0.754 for logistic regression was achieved with parameter C= 11.",
      "metadata": {}
    },
    {
      "cell_type": "markdown",
      "source": "**2. Random Forest **",
      "metadata": {}
    },
    {
      "cell_type": "markdown",
      "source": "Hyperparameters tuning:",
      "metadata": {}
    },
    {
      "cell_type": "code",
      "source": "best_result_RF = 0\nbest_model=None\nbest_depth = 0\n\nfor est in range(10,100,10):\n    \n    for depth in range(2, 26, 2):\n        model = RandomForestClassifier(random_state=12345, \n                                       n_estimators= est,\n                                       max_depth=depth,\n                                       class_weight='balanced')\n        #обучим модель\n        model.fit(tfidf_train, t_train)\n        predicted_valid = model.predict(tfidf_valid)\n        result=f1_score(t_valid, predicted_valid)\n        if result>best_result_RF:\n            best_model=model\n            best_result_RF = result\n            best_depth= depth\n            best_est = est\nprint('Depth:', best_depth, 'N of trees', best_est)\nprint(\"F1_score:\", best_result_RF)    ",
      "metadata": {},
      "outputs": [
        {
          "name": "stdout",
          "output_type": "stream",
          "text": [
            "Глубина: 24 Число деревьев 80\n",
            "F1_score: 0.43041339891000924\n"
          ]
        }
      ],
      "execution_count": 30
    },
    {
      "cell_type": "code",
      "source": "results_f1.append(best_result_RF)",
      "metadata": {},
      "outputs": [],
      "execution_count": 31
    },
    {
      "cell_type": "markdown",
      "source": "The best value f1= 0.43 for random forest was achieved with parameter depth= 24, n_estimators=80.",
      "metadata": {}
    },
    {
      "cell_type": "markdown",
      "source": "**3. CatBoost**",
      "metadata": {}
    },
    {
      "cell_type": "code",
      "source": "class_weights = [1, 9]\n#cat_features = tfidf_train",
      "metadata": {},
      "outputs": [],
      "execution_count": 32
    },
    {
      "cell_type": "code",
      "source": "%%capture\n\nbest_result_CB=0   \n\nfor rate in [0.01, 0.1]:    \n    for depth in range(2, 6, 2):\n        model = CatBoostClassifier(random_state=12345, \n                                   learning_rate = rate,                                       \n                                   depth=depth,\n                                   class_weights=class_weights,\n                                   silent= True)\n        \n        model.fit(tfidf_train, t_train)\n        predicted_valid = model.predict(tfidf_valid)\n        result=f1_score(t_valid, predicted_valid)\n        if result>best_result_CB:\n            \n            best_result_CB = result\n            best_depth= depth\n            best_learning_rate= rate\n",
      "metadata": {},
      "outputs": [
        {
          "name": "stderr",
          "output_type": "stream",
          "text": [
            "Custom logger is already specified. Specify more than one logger at same time is not thread safe."
          ]
        }
      ],
      "execution_count": 35
    },
    {
      "cell_type": "code",
      "source": "print('Глубина:', best_depth)\n            \nprint('Скорость обучения:', best_learning_rate)\nprint(\"F1_score:\", best_result_CB)    ",
      "metadata": {
        "scrolled": true
      },
      "outputs": [
        {
          "name": "stdout",
          "output_type": "stream",
          "text": [
            "Глубина: 4\n",
            "Скорость обучения: 0.1\n",
            "F1_score: 0.7260882440035534\n"
          ]
        }
      ],
      "execution_count": 36
    },
    {
      "cell_type": "code",
      "source": "results_f1.append(best_result_CB)",
      "metadata": {},
      "outputs": [],
      "execution_count": 37
    },
    {
      "cell_type": "markdown",
      "source": "The best value f1= 0.72 for the CatBoost model was achieved with the parameter learning_rate= 0.1, depth=4.",
      "metadata": {}
    },
    {
      "cell_type": "markdown",
      "source": "Summary table for all models:",
      "metadata": {}
    },
    {
      "cell_type": "code",
      "source": "\nquality = pd.DataFrame({'model': [ 'LR', 'RF', 'CatBoost'], 'f1':results_f1 })\nquality",
      "metadata": {},
      "outputs": [
        {
          "data": {
            "text/html": [
              "<div>\n",
              "<style scoped>\n",
              "    .dataframe tbody tr th:only-of-type {\n",
              "        vertical-align: middle;\n",
              "    }\n",
              "\n",
              "    .dataframe tbody tr th {\n",
              "        vertical-align: top;\n",
              "    }\n",
              "\n",
              "    .dataframe thead th {\n",
              "        text-align: right;\n",
              "    }\n",
              "</style>\n",
              "<table border=\"1\" class=\"dataframe\">\n",
              "  <thead>\n",
              "    <tr style=\"text-align: right;\">\n",
              "      <th></th>\n",
              "      <th>model</th>\n",
              "      <th>f1</th>\n",
              "    </tr>\n",
              "  </thead>\n",
              "  <tbody>\n",
              "    <tr>\n",
              "      <th>0</th>\n",
              "      <td>LR</td>\n",
              "      <td>0.754298</td>\n",
              "    </tr>\n",
              "    <tr>\n",
              "      <th>1</th>\n",
              "      <td>RF</td>\n",
              "      <td>0.430413</td>\n",
              "    </tr>\n",
              "    <tr>\n",
              "      <th>2</th>\n",
              "      <td>CatBoost</td>\n",
              "      <td>0.726088</td>\n",
              "    </tr>\n",
              "  </tbody>\n",
              "</table>\n",
              "</div>"
            ],
            "text/plain": [
              "      model        f1\n",
              "0        LR  0.754298\n",
              "1        RF  0.430413\n",
              "2  CatBoost  0.726088"
            ]
          },
          "execution_count": 38,
          "metadata": {},
          "output_type": "execute_result"
        }
      ],
      "execution_count": 38
    },
    {
      "cell_type": "markdown",
      "source": "The best metric value was shown by the Logistic Regression model.",
      "metadata": {}
    },
    {
      "cell_type": "markdown",
      "source": "**Testing:**",
      "metadata": {}
    },
    {
      "cell_type": "markdown",
      "source": "Let's carry out testing with selected parameters.",
      "metadata": {}
    },
    {
      "cell_type": "code",
      "source": "model = LogisticRegression(class_weight='balanced', \n                          random_state=12345, \n                          max_iter=1000, \n                          solver='lbfgs',\n                          C=19)\n\n# обучим модель на тренировочной выборке\nmodel.fit(tfidf_train, t_train)\n\n# найдем предсказания на тестовой выборке\npredicted_test = model.predict(tfidf_test)\n\n# выведем результат F1\nprint(\"F1_score:\", f1_score(t_test, predicted_test))",
      "metadata": {},
      "outputs": [
        {
          "name": "stdout",
          "output_type": "stream",
          "text": [
            "F1_score: 0.7629317080793874\n"
          ]
        }
      ],
      "execution_count": 39
    },
    {
      "cell_type": "markdown",
      "source": "The F1 metric on the test sample is 0.755, which satisfies the conditions of the problem.\n",
      "metadata": {}
    },
    {
      "cell_type": "markdown",
      "source": "## Conclusion",
      "metadata": {}
    },
    {
      "cell_type": "markdown",
      "source": "Data with comments was received, it was necessary to find the best model to determine the toxicity of comments. The data was analyzed - the extra column was removed, the lengths of toxic and non-toxic comments were analyzed. Next, the text was prepared for training - cleaning, lemmatization and vectorization using the Tfidf method.\r\nParameters were selected for three models - logistic regression, decision tree and CatBoost. The best F1 metric on the training set was shown by the logistic regression model; on the test set, the F1 metric = 0.763.",
      "metadata": {}
    }
  ]
}
