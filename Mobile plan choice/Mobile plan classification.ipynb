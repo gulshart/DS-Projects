{
  "metadata": {
    "kernelspec": {
      "name": "python",
      "display_name": "Python (Pyodide)",
      "language": "python"
    },
    "language_info": {
      "codemirror_mode": {
        "name": "python",
        "version": 3
      },
      "file_extension": ".py",
      "mimetype": "text/x-python",
      "name": "python",
      "nbconvert_exporter": "python",
      "pygments_lexer": "ipython3",
      "version": "3.8"
    },
    "ExecuteTimeLog": [
      {
        "duration": 2,
        "start_time": "2024-01-16T09:23:14.386Z"
      },
      {
        "duration": 70,
        "start_time": "2024-01-16T09:23:15.364Z"
      },
      {
        "duration": 73,
        "start_time": "2024-01-16T09:23:18.465Z"
      },
      {
        "duration": 120,
        "start_time": "2024-01-16T09:23:46.147Z"
      },
      {
        "duration": 6,
        "start_time": "2024-01-16T10:15:47.284Z"
      },
      {
        "duration": 15,
        "start_time": "2024-01-16T10:15:59.507Z"
      },
      {
        "duration": 4,
        "start_time": "2024-01-16T10:16:10.111Z"
      },
      {
        "duration": 1125,
        "start_time": "2024-01-17T09:01:08.076Z"
      },
      {
        "duration": 134,
        "start_time": "2024-01-17T09:01:09.203Z"
      },
      {
        "duration": 49,
        "start_time": "2024-01-17T09:01:19.277Z"
      },
      {
        "duration": 6,
        "start_time": "2024-01-17T09:05:15.755Z"
      },
      {
        "duration": 5,
        "start_time": "2024-01-17T09:05:20.723Z"
      },
      {
        "duration": 1069,
        "start_time": "2024-01-17T09:05:22.910Z"
      },
      {
        "duration": 46,
        "start_time": "2024-01-17T09:05:24.412Z"
      },
      {
        "duration": 4,
        "start_time": "2024-01-17T09:05:28.646Z"
      },
      {
        "duration": 5,
        "start_time": "2024-01-17T09:07:57.783Z"
      },
      {
        "duration": 8,
        "start_time": "2024-01-17T10:29:30.839Z"
      },
      {
        "duration": 65,
        "start_time": "2024-01-17T10:36:31.645Z"
      },
      {
        "duration": 3,
        "start_time": "2024-01-17T10:36:43.552Z"
      },
      {
        "duration": 39,
        "start_time": "2024-01-17T10:36:44.783Z"
      },
      {
        "duration": 5,
        "start_time": "2024-01-17T10:36:45.188Z"
      },
      {
        "duration": 6,
        "start_time": "2024-01-17T10:36:48.067Z"
      },
      {
        "duration": 21,
        "start_time": "2024-01-17T10:36:55.567Z"
      },
      {
        "duration": 19,
        "start_time": "2024-01-17T10:37:06.079Z"
      },
      {
        "duration": 3,
        "start_time": "2024-01-17T10:37:11.031Z"
      },
      {
        "duration": 19,
        "start_time": "2024-01-17T10:37:15.297Z"
      },
      {
        "duration": 19,
        "start_time": "2024-01-17T10:38:34.463Z"
      },
      {
        "duration": 21,
        "start_time": "2024-01-17T10:45:58.388Z"
      },
      {
        "duration": 21,
        "start_time": "2024-01-17T10:46:08.067Z"
      },
      {
        "duration": 10,
        "start_time": "2024-01-17T10:56:04.851Z"
      },
      {
        "duration": 11,
        "start_time": "2024-01-17T10:58:03.168Z"
      },
      {
        "duration": 78,
        "start_time": "2024-01-17T11:07:34.768Z"
      },
      {
        "duration": 73,
        "start_time": "2024-01-17T11:07:37.243Z"
      },
      {
        "duration": 5,
        "start_time": "2024-01-17T11:07:38.429Z"
      },
      {
        "duration": 7,
        "start_time": "2024-01-17T11:08:37.307Z"
      },
      {
        "duration": 8,
        "start_time": "2024-01-17T11:09:02.282Z"
      },
      {
        "duration": 7,
        "start_time": "2024-01-17T11:09:15.477Z"
      },
      {
        "duration": 26,
        "start_time": "2024-01-17T11:47:09.462Z"
      },
      {
        "duration": 4,
        "start_time": "2024-01-17T11:47:34.448Z"
      },
      {
        "duration": 38,
        "start_time": "2024-01-17T11:47:37.477Z"
      },
      {
        "duration": 13,
        "start_time": "2024-01-17T11:48:52.504Z"
      },
      {
        "duration": 20,
        "start_time": "2024-01-17T12:20:19.828Z"
      },
      {
        "duration": 18,
        "start_time": "2024-01-17T12:36:46.258Z"
      },
      {
        "duration": 10,
        "start_time": "2024-01-17T12:51:04.961Z"
      },
      {
        "duration": 7,
        "start_time": "2024-01-17T12:51:37.136Z"
      },
      {
        "duration": 105,
        "start_time": "2024-01-17T12:52:26.421Z"
      },
      {
        "duration": 9,
        "start_time": "2024-01-17T12:52:30.629Z"
      },
      {
        "duration": 8,
        "start_time": "2024-01-17T12:52:58.512Z"
      },
      {
        "duration": 8,
        "start_time": "2024-01-17T12:53:19.904Z"
      },
      {
        "duration": 8,
        "start_time": "2024-01-17T12:53:33.994Z"
      },
      {
        "duration": 10,
        "start_time": "2024-01-17T13:15:13.763Z"
      },
      {
        "duration": 8,
        "start_time": "2024-01-17T14:17:34.764Z"
      },
      {
        "duration": 8,
        "start_time": "2024-01-17T14:18:34.510Z"
      },
      {
        "duration": 7,
        "start_time": "2024-01-17T14:19:07.761Z"
      },
      {
        "duration": 8,
        "start_time": "2024-01-17T14:22:07.814Z"
      },
      {
        "duration": 120,
        "start_time": "2024-01-17T14:22:30.157Z"
      },
      {
        "duration": 7,
        "start_time": "2024-01-17T14:22:41.519Z"
      },
      {
        "duration": 13,
        "start_time": "2024-01-17T14:25:03.265Z"
      },
      {
        "duration": 8,
        "start_time": "2024-01-17T14:27:29.258Z"
      },
      {
        "duration": 84,
        "start_time": "2024-01-17T14:27:48.307Z"
      },
      {
        "duration": 9,
        "start_time": "2024-01-17T14:27:54.404Z"
      },
      {
        "duration": 10,
        "start_time": "2024-01-17T14:27:58.872Z"
      },
      {
        "duration": 8,
        "start_time": "2024-01-17T14:28:08.933Z"
      },
      {
        "duration": 9,
        "start_time": "2024-01-17T14:28:36.355Z"
      },
      {
        "duration": 10,
        "start_time": "2024-01-17T14:31:43.008Z"
      },
      {
        "duration": 8,
        "start_time": "2024-01-17T14:31:56.357Z"
      },
      {
        "duration": 11,
        "start_time": "2024-01-17T15:04:33.751Z"
      },
      {
        "duration": 28,
        "start_time": "2024-01-17T15:04:50.155Z"
      },
      {
        "duration": 4,
        "start_time": "2024-01-17T15:04:51.055Z"
      },
      {
        "duration": 174,
        "start_time": "2024-01-17T15:05:23.349Z"
      },
      {
        "duration": 68,
        "start_time": "2024-01-17T15:05:30.987Z"
      },
      {
        "duration": 4,
        "start_time": "2024-01-17T15:05:31.955Z"
      },
      {
        "duration": 152,
        "start_time": "2024-01-17T15:05:40.694Z"
      },
      {
        "duration": 4,
        "start_time": "2024-01-17T15:05:41.872Z"
      },
      {
        "duration": 24198,
        "start_time": "2024-01-17T15:16:42.881Z"
      },
      {
        "duration": 0,
        "start_time": "2024-01-17T15:17:07.081Z"
      },
      {
        "duration": 7,
        "start_time": "2024-01-17T15:17:44.085Z"
      },
      {
        "duration": 0,
        "start_time": "2024-01-17T15:18:08.277Z"
      },
      {
        "duration": 0,
        "start_time": "2024-01-17T15:18:08.278Z"
      },
      {
        "duration": 1519,
        "start_time": "2024-01-17T15:21:11.520Z"
      },
      {
        "duration": 72,
        "start_time": "2024-01-17T15:21:13.041Z"
      },
      {
        "duration": 118,
        "start_time": "2024-01-17T15:21:13.115Z"
      },
      {
        "duration": 0,
        "start_time": "2024-01-17T15:21:13.235Z"
      },
      {
        "duration": 3,
        "start_time": "2024-01-17T15:21:17.019Z"
      },
      {
        "duration": 76,
        "start_time": "2024-01-17T15:21:17.023Z"
      },
      {
        "duration": 8,
        "start_time": "2024-01-17T15:21:17.100Z"
      },
      {
        "duration": 9,
        "start_time": "2024-01-17T15:21:19.798Z"
      },
      {
        "duration": 10,
        "start_time": "2024-01-17T15:21:20.406Z"
      },
      {
        "duration": 4,
        "start_time": "2024-01-17T15:21:24.037Z"
      },
      {
        "duration": 72,
        "start_time": "2024-01-17T15:21:24.515Z"
      },
      {
        "duration": 69,
        "start_time": "2024-01-17T15:21:33.206Z"
      },
      {
        "duration": 8,
        "start_time": "2024-01-17T15:21:34.343Z"
      },
      {
        "duration": 24396,
        "start_time": "2024-01-17T15:21:58.617Z"
      },
      {
        "duration": 46,
        "start_time": "2024-01-17T15:24:47.430Z"
      },
      {
        "duration": 1356,
        "start_time": "2024-01-17T15:24:49.906Z"
      },
      {
        "duration": 97,
        "start_time": "2024-01-17T15:24:51.264Z"
      },
      {
        "duration": 8,
        "start_time": "2024-01-17T15:24:51.363Z"
      },
      {
        "duration": 5,
        "start_time": "2024-01-17T15:25:11.869Z"
      },
      {
        "duration": 47,
        "start_time": "2024-01-17T15:27:36.947Z"
      },
      {
        "duration": 1421,
        "start_time": "2024-01-17T15:27:39.968Z"
      },
      {
        "duration": 74,
        "start_time": "2024-01-17T15:27:41.390Z"
      },
      {
        "duration": 8,
        "start_time": "2024-01-17T15:27:43.995Z"
      },
      {
        "duration": 10490,
        "start_time": "2024-01-17T15:27:54.488Z"
      },
      {
        "duration": 24,
        "start_time": "2024-01-17T15:28:47.768Z"
      },
      {
        "duration": 11,
        "start_time": "2024-01-17T15:29:12.491Z"
      },
      {
        "duration": 11,
        "start_time": "2024-01-17T15:29:16.147Z"
      },
      {
        "duration": 92,
        "start_time": "2024-01-17T15:29:26.217Z"
      },
      {
        "duration": 14,
        "start_time": "2024-01-17T15:29:38.989Z"
      },
      {
        "duration": 21,
        "start_time": "2024-01-17T15:29:43.769Z"
      },
      {
        "duration": 16,
        "start_time": "2024-01-17T15:29:58.551Z"
      },
      {
        "duration": 13,
        "start_time": "2024-01-17T15:31:22.200Z"
      },
      {
        "duration": 11,
        "start_time": "2024-01-17T15:31:34.825Z"
      },
      {
        "duration": 54,
        "start_time": "2024-01-17T15:31:55.354Z"
      },
      {
        "duration": 64,
        "start_time": "2024-01-17T15:33:19.570Z"
      },
      {
        "duration": 100,
        "start_time": "2024-01-17T15:33:46.416Z"
      },
      {
        "duration": 95,
        "start_time": "2024-01-17T15:34:06.954Z"
      },
      {
        "duration": 114,
        "start_time": "2024-01-17T15:34:18.030Z"
      },
      {
        "duration": 381,
        "start_time": "2024-01-17T15:34:22.139Z"
      },
      {
        "duration": 96,
        "start_time": "2024-01-17T15:34:26.078Z"
      },
      {
        "duration": 96,
        "start_time": "2024-01-17T15:34:36.531Z"
      },
      {
        "duration": 1295,
        "start_time": "2024-01-17T15:37:22.181Z"
      },
      {
        "duration": 65,
        "start_time": "2024-01-17T15:37:23.877Z"
      },
      {
        "duration": 70,
        "start_time": "2024-01-17T15:37:25.569Z"
      },
      {
        "duration": 1411,
        "start_time": "2024-01-17T15:37:53.066Z"
      },
      {
        "duration": 85,
        "start_time": "2024-01-17T15:37:54.478Z"
      },
      {
        "duration": 79,
        "start_time": "2024-01-17T15:37:57.882Z"
      },
      {
        "duration": 114,
        "start_time": "2024-01-17T15:37:59.009Z"
      },
      {
        "duration": 11,
        "start_time": "2024-01-17T15:38:13.944Z"
      },
      {
        "duration": 92,
        "start_time": "2024-01-17T15:38:53.296Z"
      },
      {
        "duration": 105,
        "start_time": "2024-01-17T15:40:29.710Z"
      },
      {
        "duration": 4,
        "start_time": "2024-01-17T15:40:39.531Z"
      },
      {
        "duration": 89,
        "start_time": "2024-01-17T15:40:39.537Z"
      },
      {
        "duration": 99,
        "start_time": "2024-01-17T15:40:39.628Z"
      },
      {
        "duration": 7,
        "start_time": "2024-01-17T15:40:39.729Z"
      },
      {
        "duration": 50,
        "start_time": "2024-01-17T15:40:39.738Z"
      },
      {
        "duration": 187,
        "start_time": "2024-01-17T15:40:45.800Z"
      },
      {
        "duration": 5,
        "start_time": "2024-01-17T15:40:47.640Z"
      },
      {
        "duration": 8,
        "start_time": "2024-01-17T15:41:17.851Z"
      },
      {
        "duration": 8,
        "start_time": "2024-01-17T15:41:24.799Z"
      },
      {
        "duration": 5,
        "start_time": "2024-01-17T15:41:26.954Z"
      },
      {
        "duration": 4,
        "start_time": "2024-01-17T15:42:42.983Z"
      },
      {
        "duration": 154,
        "start_time": "2024-01-17T15:42:45.165Z"
      },
      {
        "duration": 4,
        "start_time": "2024-01-17T15:42:45.411Z"
      },
      {
        "duration": 15,
        "start_time": "2024-01-17T15:42:50.103Z"
      },
      {
        "duration": 15,
        "start_time": "2024-01-17T15:42:51.835Z"
      },
      {
        "duration": 15,
        "start_time": "2024-01-17T15:43:35.289Z"
      },
      {
        "duration": 15,
        "start_time": "2024-01-17T15:43:37.121Z"
      },
      {
        "duration": 16,
        "start_time": "2024-01-17T15:43:47.203Z"
      },
      {
        "duration": 16,
        "start_time": "2024-01-17T15:43:49.614Z"
      },
      {
        "duration": 4,
        "start_time": "2024-01-17T15:43:50.546Z"
      },
      {
        "duration": 14,
        "start_time": "2024-01-17T15:44:03.560Z"
      },
      {
        "duration": 3,
        "start_time": "2024-01-17T15:44:05.197Z"
      },
      {
        "duration": 166,
        "start_time": "2024-01-17T15:44:14.523Z"
      },
      {
        "duration": 156,
        "start_time": "2024-01-17T15:44:21.300Z"
      },
      {
        "duration": 157,
        "start_time": "2024-01-17T15:44:37.876Z"
      },
      {
        "duration": 158,
        "start_time": "2024-01-17T16:23:23.085Z"
      },
      {
        "duration": 164,
        "start_time": "2024-01-17T16:23:41.808Z"
      },
      {
        "duration": 92,
        "start_time": "2024-01-17T16:24:14.225Z"
      },
      {
        "duration": 76,
        "start_time": "2024-01-17T16:24:24.300Z"
      },
      {
        "duration": 182,
        "start_time": "2024-01-17T16:24:41.724Z"
      },
      {
        "duration": 4,
        "start_time": "2024-01-17T16:25:41.535Z"
      },
      {
        "duration": 161,
        "start_time": "2024-01-17T16:28:48.038Z"
      },
      {
        "duration": 161,
        "start_time": "2024-01-17T16:28:57.667Z"
      },
      {
        "duration": 16,
        "start_time": "2024-01-17T16:40:50.622Z"
      },
      {
        "duration": 3,
        "start_time": "2024-01-17T16:41:12.264Z"
      },
      {
        "duration": 63,
        "start_time": "2024-01-17T16:41:12.626Z"
      },
      {
        "duration": 105,
        "start_time": "2024-01-17T16:41:13.281Z"
      },
      {
        "duration": 6,
        "start_time": "2024-01-17T16:41:14.368Z"
      },
      {
        "duration": 9,
        "start_time": "2024-01-17T16:41:14.844Z"
      },
      {
        "duration": 200,
        "start_time": "2024-01-17T16:41:15.799Z"
      },
      {
        "duration": 274,
        "start_time": "2024-01-17T16:41:16.001Z"
      },
      {
        "duration": 291,
        "start_time": "2024-01-17T16:41:58.626Z"
      },
      {
        "duration": 257,
        "start_time": "2024-01-17T16:42:13.918Z"
      },
      {
        "duration": 488,
        "start_time": "2024-01-17T16:44:24.080Z"
      },
      {
        "duration": 26,
        "start_time": "2024-01-17T16:46:18.139Z"
      },
      {
        "duration": 510,
        "start_time": "2024-01-17T16:46:23.797Z"
      },
      {
        "duration": 505,
        "start_time": "2024-01-17T16:46:31.060Z"
      },
      {
        "duration": 71,
        "start_time": "2024-01-17T16:46:50.727Z"
      },
      {
        "duration": 489,
        "start_time": "2024-01-17T16:46:55.268Z"
      },
      {
        "duration": 3,
        "start_time": "2024-01-17T16:52:39.234Z"
      },
      {
        "duration": 95,
        "start_time": "2024-01-17T16:52:39.240Z"
      },
      {
        "duration": 99,
        "start_time": "2024-01-17T16:52:39.337Z"
      },
      {
        "duration": 5,
        "start_time": "2024-01-17T16:52:39.438Z"
      },
      {
        "duration": 18,
        "start_time": "2024-01-17T16:52:39.444Z"
      },
      {
        "duration": 187,
        "start_time": "2024-01-17T16:52:39.465Z"
      },
      {
        "duration": 588,
        "start_time": "2024-01-17T16:52:39.654Z"
      },
      {
        "duration": 267,
        "start_time": "2024-01-17T16:52:58.001Z"
      },
      {
        "duration": 282,
        "start_time": "2024-01-17T16:53:03.088Z"
      },
      {
        "duration": 12,
        "start_time": "2024-01-17T17:50:07.510Z"
      },
      {
        "duration": 576,
        "start_time": "2024-01-17T17:50:11.292Z"
      },
      {
        "duration": 471,
        "start_time": "2024-01-17T17:50:19.299Z"
      },
      {
        "duration": 2201,
        "start_time": "2024-01-17T17:52:33.766Z"
      },
      {
        "duration": 12,
        "start_time": "2024-01-17T17:52:54.604Z"
      },
      {
        "duration": 369,
        "start_time": "2024-01-17T17:53:14.702Z"
      },
      {
        "duration": 324,
        "start_time": "2024-01-17T17:53:35.256Z"
      },
      {
        "duration": 19,
        "start_time": "2024-01-17T17:54:16.316Z"
      },
      {
        "duration": 4,
        "start_time": "2024-01-17T17:55:32.450Z"
      },
      {
        "duration": 2731,
        "start_time": "2024-01-17T17:56:07.142Z"
      },
      {
        "duration": 3947,
        "start_time": "2024-01-17T17:56:44.032Z"
      },
      {
        "duration": 4695,
        "start_time": "2024-01-17T17:57:53.240Z"
      },
      {
        "duration": 1600,
        "start_time": "2024-01-17T18:55:15.878Z"
      },
      {
        "duration": 2038,
        "start_time": "2024-01-17T18:56:18.629Z"
      },
      {
        "duration": 483,
        "start_time": "2024-01-17T18:56:44.587Z"
      },
      {
        "duration": 1031,
        "start_time": "2024-01-17T18:56:50.833Z"
      },
      {
        "duration": 340,
        "start_time": "2024-01-17T18:57:00.435Z"
      },
      {
        "duration": 4519,
        "start_time": "2024-01-17T18:58:44.947Z"
      },
      {
        "duration": 1862,
        "start_time": "2024-01-17T18:58:54.512Z"
      },
      {
        "duration": 1989,
        "start_time": "2024-01-17T18:59:00.476Z"
      },
      {
        "duration": 5424,
        "start_time": "2024-01-17T18:59:09.248Z"
      },
      {
        "duration": 4,
        "start_time": "2024-01-17T19:04:33.355Z"
      },
      {
        "duration": 1810,
        "start_time": "2024-01-17T19:04:38.456Z"
      },
      {
        "duration": 186,
        "start_time": "2024-01-17T19:05:59.294Z"
      },
      {
        "duration": 1234,
        "start_time": "2024-01-17T19:07:42.400Z"
      },
      {
        "duration": 185,
        "start_time": "2024-01-17T19:07:43.636Z"
      },
      {
        "duration": 1197,
        "start_time": "2024-01-17T19:08:57.568Z"
      },
      {
        "duration": 654,
        "start_time": "2024-01-17T19:09:43.811Z"
      },
      {
        "duration": 167,
        "start_time": "2024-01-17T19:10:06.885Z"
      },
      {
        "duration": 859,
        "start_time": "2024-01-17T19:15:39.887Z"
      },
      {
        "duration": 5167,
        "start_time": "2024-01-17T19:15:46.907Z"
      },
      {
        "duration": 1953,
        "start_time": "2024-01-17T19:16:00.850Z"
      },
      {
        "duration": 1875,
        "start_time": "2024-01-17T19:16:06.650Z"
      },
      {
        "duration": 7771,
        "start_time": "2024-01-17T19:16:41.403Z"
      },
      {
        "duration": 16939,
        "start_time": "2024-01-17T19:17:08.360Z"
      },
      {
        "duration": 14185,
        "start_time": "2024-01-17T19:18:24.956Z"
      },
      {
        "duration": 14790,
        "start_time": "2024-01-17T19:18:51.485Z"
      },
      {
        "duration": 8080,
        "start_time": "2024-01-17T19:20:20.451Z"
      },
      {
        "duration": 12664,
        "start_time": "2024-01-17T19:20:50.823Z"
      },
      {
        "duration": 7034,
        "start_time": "2024-01-17T19:21:21.379Z"
      },
      {
        "duration": 275,
        "start_time": "2024-01-17T19:26:40.925Z"
      },
      {
        "duration": 349,
        "start_time": "2024-01-17T19:26:44.662Z"
      },
      {
        "duration": 585,
        "start_time": "2024-01-17T19:26:50.783Z"
      },
      {
        "duration": 8848,
        "start_time": "2024-01-17T19:27:32.608Z"
      },
      {
        "duration": 210,
        "start_time": "2024-01-17T19:28:14.107Z"
      },
      {
        "duration": 8893,
        "start_time": "2024-01-17T19:28:18.955Z"
      },
      {
        "duration": 4,
        "start_time": "2024-01-17T19:28:55.436Z"
      },
      {
        "duration": 71,
        "start_time": "2024-01-17T19:28:55.442Z"
      },
      {
        "duration": 100,
        "start_time": "2024-01-17T19:28:55.515Z"
      },
      {
        "duration": 6,
        "start_time": "2024-01-17T19:28:55.617Z"
      },
      {
        "duration": 14,
        "start_time": "2024-01-17T19:28:55.625Z"
      },
      {
        "duration": 212,
        "start_time": "2024-01-17T19:28:55.641Z"
      },
      {
        "duration": 8820,
        "start_time": "2024-01-17T19:28:55.855Z"
      },
      {
        "duration": 1293,
        "start_time": "2024-01-17T19:29:04.677Z"
      },
      {
        "duration": 201,
        "start_time": "2024-01-17T19:29:05.973Z"
      },
      {
        "duration": 8658,
        "start_time": "2024-01-17T19:29:43.481Z"
      },
      {
        "duration": 8814,
        "start_time": "2024-01-17T19:30:06.765Z"
      },
      {
        "duration": 15277,
        "start_time": "2024-01-17T19:30:32.466Z"
      },
      {
        "duration": 11801,
        "start_time": "2024-01-17T19:31:20.313Z"
      },
      {
        "duration": 602,
        "start_time": "2024-01-17T19:38:33.779Z"
      },
      {
        "duration": 579,
        "start_time": "2024-01-17T19:53:47.366Z"
      },
      {
        "duration": 7235,
        "start_time": "2024-01-17T20:04:01.135Z"
      },
      {
        "duration": 259,
        "start_time": "2024-01-17T20:05:50.798Z"
      },
      {
        "duration": 2725,
        "start_time": "2024-01-17T20:06:21.309Z"
      },
      {
        "duration": 2547,
        "start_time": "2024-01-17T20:06:35.667Z"
      },
      {
        "duration": 11793,
        "start_time": "2024-01-17T20:06:56.106Z"
      },
      {
        "duration": 2579,
        "start_time": "2024-01-17T20:07:11.019Z"
      },
      {
        "duration": 2566,
        "start_time": "2024-01-17T20:07:33.241Z"
      },
      {
        "duration": 4059,
        "start_time": "2024-01-17T20:08:11.210Z"
      },
      {
        "duration": 3193,
        "start_time": "2024-01-17T20:08:24.507Z"
      },
      {
        "duration": 3862,
        "start_time": "2024-01-17T20:08:33.065Z"
      },
      {
        "duration": 7974,
        "start_time": "2024-01-17T20:08:40.867Z"
      },
      {
        "duration": 7892,
        "start_time": "2024-01-17T20:09:54.707Z"
      },
      {
        "duration": 3228,
        "start_time": "2024-01-17T20:10:54.732Z"
      },
      {
        "duration": 7927,
        "start_time": "2024-01-17T20:11:11.349Z"
      },
      {
        "duration": 11,
        "start_time": "2024-01-17T20:14:47.435Z"
      },
      {
        "duration": 80,
        "start_time": "2024-01-17T20:19:39.664Z"
      },
      {
        "duration": 70,
        "start_time": "2024-01-18T07:35:01.192Z"
      },
      {
        "duration": 1690,
        "start_time": "2024-01-18T07:35:10.409Z"
      },
      {
        "duration": 157,
        "start_time": "2024-01-18T07:35:12.101Z"
      },
      {
        "duration": 15,
        "start_time": "2024-01-18T07:35:12.259Z"
      },
      {
        "duration": 139,
        "start_time": "2024-01-18T07:35:12.276Z"
      },
      {
        "duration": 6,
        "start_time": "2024-01-18T07:35:12.422Z"
      },
      {
        "duration": 10,
        "start_time": "2024-01-18T07:35:12.430Z"
      },
      {
        "duration": 319,
        "start_time": "2024-01-18T07:35:19.291Z"
      },
      {
        "duration": 181,
        "start_time": "2024-01-18T07:35:26.715Z"
      },
      {
        "duration": 177,
        "start_time": "2024-01-18T07:35:42.950Z"
      },
      {
        "duration": 12438,
        "start_time": "2024-01-18T07:36:53.903Z"
      },
      {
        "duration": 15809,
        "start_time": "2024-01-18T07:37:54.103Z"
      },
      {
        "duration": 207,
        "start_time": "2024-01-18T07:40:23.382Z"
      },
      {
        "duration": 1337,
        "start_time": "2024-01-18T07:40:25.980Z"
      },
      {
        "duration": 180,
        "start_time": "2024-01-18T07:40:29.753Z"
      },
      {
        "duration": 629,
        "start_time": "2024-01-18T07:42:11.450Z"
      },
      {
        "duration": 656,
        "start_time": "2024-01-18T07:42:48.139Z"
      },
      {
        "duration": 625,
        "start_time": "2024-01-18T07:43:41.709Z"
      },
      {
        "duration": 320,
        "start_time": "2024-01-18T07:46:41.850Z"
      },
      {
        "duration": 348,
        "start_time": "2024-01-18T07:47:02.376Z"
      },
      {
        "duration": 627,
        "start_time": "2024-01-18T07:47:07.844Z"
      },
      {
        "duration": 183,
        "start_time": "2024-01-18T07:49:59.559Z"
      },
      {
        "duration": 177,
        "start_time": "2024-01-18T07:50:33.072Z"
      },
      {
        "duration": 628,
        "start_time": "2024-01-18T07:50:48.977Z"
      },
      {
        "duration": 381,
        "start_time": "2024-01-18T09:04:21.133Z"
      },
      {
        "duration": 312,
        "start_time": "2024-01-18T09:04:24.409Z"
      },
      {
        "duration": 528,
        "start_time": "2024-01-18T09:04:29.190Z"
      },
      {
        "duration": 5,
        "start_time": "2024-01-18T09:25:00.710Z"
      },
      {
        "duration": 158,
        "start_time": "2024-01-18T09:25:00.718Z"
      },
      {
        "duration": 14,
        "start_time": "2024-01-18T09:25:00.878Z"
      },
      {
        "duration": 128,
        "start_time": "2024-01-18T09:25:00.895Z"
      },
      {
        "duration": 6,
        "start_time": "2024-01-18T09:25:01.025Z"
      },
      {
        "duration": 47,
        "start_time": "2024-01-18T09:25:01.033Z"
      },
      {
        "duration": 254,
        "start_time": "2024-01-18T09:25:01.082Z"
      },
      {
        "duration": 12606,
        "start_time": "2024-01-18T09:25:01.338Z"
      },
      {
        "duration": 15881,
        "start_time": "2024-01-18T09:25:13.945Z"
      },
      {
        "duration": 1298,
        "start_time": "2024-01-18T09:25:29.828Z"
      },
      {
        "duration": 197,
        "start_time": "2024-01-18T09:25:31.128Z"
      },
      {
        "duration": 672,
        "start_time": "2024-01-18T09:25:31.327Z"
      },
      {
        "duration": 3,
        "start_time": "2024-01-18T09:28:24.465Z"
      },
      {
        "duration": 3,
        "start_time": "2024-01-18T09:28:37.924Z"
      },
      {
        "duration": 105,
        "start_time": "2024-01-18T09:29:44.856Z"
      },
      {
        "duration": 23,
        "start_time": "2024-01-18T09:30:02.200Z"
      },
      {
        "duration": 25,
        "start_time": "2024-01-18T09:30:27.660Z"
      },
      {
        "duration": 34,
        "start_time": "2024-01-18T09:30:36.758Z"
      },
      {
        "duration": 24,
        "start_time": "2024-01-18T09:30:49.394Z"
      },
      {
        "duration": 29,
        "start_time": "2024-01-18T09:31:13.472Z"
      },
      {
        "duration": 191,
        "start_time": "2024-01-18T09:32:48.144Z"
      },
      {
        "duration": 189,
        "start_time": "2024-01-18T09:33:13.756Z"
      },
      {
        "duration": 225,
        "start_time": "2024-01-18T09:33:37.699Z"
      },
      {
        "duration": 209,
        "start_time": "2024-01-18T09:33:44.784Z"
      },
      {
        "duration": 23,
        "start_time": "2024-01-18T09:34:06.343Z"
      },
      {
        "duration": 25,
        "start_time": "2024-01-18T09:38:31.323Z"
      },
      {
        "duration": 2796,
        "start_time": "2024-01-18T10:20:57.236Z"
      },
      {
        "duration": 43,
        "start_time": "2024-01-18T10:21:00.034Z"
      },
      {
        "duration": 12,
        "start_time": "2024-01-18T10:21:00.079Z"
      },
      {
        "duration": 146,
        "start_time": "2024-01-18T10:21:00.093Z"
      },
      {
        "duration": 6,
        "start_time": "2024-01-18T10:21:00.241Z"
      },
      {
        "duration": 26,
        "start_time": "2024-01-18T10:21:00.248Z"
      },
      {
        "duration": 264,
        "start_time": "2024-01-18T10:21:00.275Z"
      },
      {
        "duration": 115,
        "start_time": "2024-01-18T10:21:00.540Z"
      },
      {
        "duration": 0,
        "start_time": "2024-01-18T10:21:00.657Z"
      },
      {
        "duration": 0,
        "start_time": "2024-01-18T10:21:00.658Z"
      },
      {
        "duration": 0,
        "start_time": "2024-01-18T10:21:00.659Z"
      },
      {
        "duration": 0,
        "start_time": "2024-01-18T10:21:00.660Z"
      },
      {
        "duration": 0,
        "start_time": "2024-01-18T10:21:00.661Z"
      },
      {
        "duration": 26,
        "start_time": "2024-01-18T11:38:26.191Z"
      },
      {
        "duration": 1453,
        "start_time": "2024-01-18T11:38:44.066Z"
      },
      {
        "duration": 85,
        "start_time": "2024-01-18T11:38:45.521Z"
      },
      {
        "duration": 12,
        "start_time": "2024-01-18T11:38:45.608Z"
      },
      {
        "duration": 126,
        "start_time": "2024-01-18T11:38:45.622Z"
      },
      {
        "duration": 6,
        "start_time": "2024-01-18T11:38:45.750Z"
      },
      {
        "duration": 77,
        "start_time": "2024-01-18T11:38:45.757Z"
      },
      {
        "duration": 233,
        "start_time": "2024-01-18T11:38:45.835Z"
      },
      {
        "duration": 23,
        "start_time": "2024-01-18T11:38:46.069Z"
      },
      {
        "duration": 12776,
        "start_time": "2024-01-18T11:38:46.094Z"
      },
      {
        "duration": 3,
        "start_time": "2024-01-18T11:39:16.796Z"
      },
      {
        "duration": 82,
        "start_time": "2024-01-18T11:39:16.801Z"
      },
      {
        "duration": 11,
        "start_time": "2024-01-18T11:39:16.884Z"
      },
      {
        "duration": 169,
        "start_time": "2024-01-18T11:39:16.897Z"
      },
      {
        "duration": 6,
        "start_time": "2024-01-18T11:39:17.068Z"
      },
      {
        "duration": 10,
        "start_time": "2024-01-18T11:39:17.075Z"
      },
      {
        "duration": 220,
        "start_time": "2024-01-18T11:39:17.086Z"
      },
      {
        "duration": 34,
        "start_time": "2024-01-18T11:39:17.308Z"
      },
      {
        "duration": 12948,
        "start_time": "2024-01-18T11:39:17.344Z"
      },
      {
        "duration": 15887,
        "start_time": "2024-01-18T11:39:30.294Z"
      },
      {
        "duration": 1290,
        "start_time": "2024-01-18T11:39:46.183Z"
      },
      {
        "duration": 207,
        "start_time": "2024-01-18T11:39:47.477Z"
      },
      {
        "duration": 662,
        "start_time": "2024-01-18T11:39:47.686Z"
      },
      {
        "duration": 100,
        "start_time": "2024-01-18T12:09:52.344Z"
      },
      {
        "duration": 479,
        "start_time": "2024-01-18T12:09:59.250Z"
      },
      {
        "duration": 187,
        "start_time": "2024-01-18T12:10:11.252Z"
      },
      {
        "duration": 3,
        "start_time": "2024-01-18T12:14:59.046Z"
      },
      {
        "duration": 86,
        "start_time": "2024-01-18T12:14:59.053Z"
      },
      {
        "duration": 11,
        "start_time": "2024-01-18T12:14:59.142Z"
      },
      {
        "duration": 131,
        "start_time": "2024-01-18T12:14:59.155Z"
      },
      {
        "duration": 7,
        "start_time": "2024-01-18T12:14:59.288Z"
      },
      {
        "duration": 41,
        "start_time": "2024-01-18T12:14:59.296Z"
      },
      {
        "duration": 258,
        "start_time": "2024-01-18T12:14:59.339Z"
      },
      {
        "duration": 41,
        "start_time": "2024-01-18T12:14:59.599Z"
      },
      {
        "duration": 1492,
        "start_time": "2024-01-18T12:15:07.836Z"
      },
      {
        "duration": 63,
        "start_time": "2024-01-18T12:15:09.334Z"
      },
      {
        "duration": 13,
        "start_time": "2024-01-18T12:15:09.398Z"
      },
      {
        "duration": 129,
        "start_time": "2024-01-18T12:15:09.414Z"
      },
      {
        "duration": 6,
        "start_time": "2024-01-18T12:15:09.546Z"
      },
      {
        "duration": 13,
        "start_time": "2024-01-18T12:15:09.554Z"
      },
      {
        "duration": 224,
        "start_time": "2024-01-18T12:15:09.568Z"
      },
      {
        "duration": 43,
        "start_time": "2024-01-18T12:15:09.794Z"
      },
      {
        "duration": 12885,
        "start_time": "2024-01-18T12:15:09.840Z"
      },
      {
        "duration": 15777,
        "start_time": "2024-01-18T12:15:22.728Z"
      },
      {
        "duration": 1346,
        "start_time": "2024-01-18T12:15:38.507Z"
      },
      {
        "duration": 195,
        "start_time": "2024-01-18T12:15:39.855Z"
      },
      {
        "duration": 643,
        "start_time": "2024-01-18T12:15:40.052Z"
      },
      {
        "duration": 24,
        "start_time": "2024-01-18T12:16:20.226Z"
      },
      {
        "duration": 13652,
        "start_time": "2024-01-18T12:16:32.999Z"
      },
      {
        "duration": 1443,
        "start_time": "2024-01-18T12:21:00.461Z"
      },
      {
        "duration": 72,
        "start_time": "2024-01-18T12:21:01.906Z"
      },
      {
        "duration": 14,
        "start_time": "2024-01-18T12:21:01.980Z"
      },
      {
        "duration": 153,
        "start_time": "2024-01-18T12:21:01.996Z"
      },
      {
        "duration": 7,
        "start_time": "2024-01-18T12:21:02.151Z"
      },
      {
        "duration": 17,
        "start_time": "2024-01-18T12:21:02.160Z"
      },
      {
        "duration": 244,
        "start_time": "2024-01-18T12:21:02.180Z"
      },
      {
        "duration": 28,
        "start_time": "2024-01-18T12:21:02.426Z"
      },
      {
        "duration": 12902,
        "start_time": "2024-01-18T12:21:02.455Z"
      },
      {
        "duration": 15717,
        "start_time": "2024-01-18T12:21:15.360Z"
      },
      {
        "duration": 1298,
        "start_time": "2024-01-18T12:21:31.079Z"
      },
      {
        "duration": 207,
        "start_time": "2024-01-18T12:21:32.379Z"
      },
      {
        "duration": 658,
        "start_time": "2024-01-18T12:21:32.588Z"
      },
      {
        "duration": 5120,
        "start_time": "2024-01-18T18:47:00.124Z"
      },
      {
        "duration": 174,
        "start_time": "2024-01-18T18:47:05.246Z"
      },
      {
        "duration": 14,
        "start_time": "2024-01-18T18:47:05.421Z"
      },
      {
        "duration": 478,
        "start_time": "2024-01-18T18:47:05.437Z"
      },
      {
        "duration": 6,
        "start_time": "2024-01-18T18:47:05.917Z"
      },
      {
        "duration": 12,
        "start_time": "2024-01-18T18:47:05.925Z"
      },
      {
        "duration": 793,
        "start_time": "2024-01-18T18:47:05.939Z"
      },
      {
        "duration": 98,
        "start_time": "2024-01-18T18:47:06.734Z"
      },
      {
        "duration": 25305,
        "start_time": "2024-01-18T18:47:06.834Z"
      },
      {
        "duration": 30613,
        "start_time": "2024-01-18T18:47:32.141Z"
      },
      {
        "duration": 4769,
        "start_time": "2024-01-18T18:48:02.756Z"
      },
      {
        "duration": 1397,
        "start_time": "2024-01-18T18:48:07.527Z"
      },
      {
        "duration": 1396,
        "start_time": "2024-01-18T18:48:08.926Z"
      },
      {
        "duration": 4080,
        "start_time": "2024-01-18T19:55:55.244Z"
      },
      {
        "duration": 201,
        "start_time": "2024-01-18T19:55:59.417Z"
      },
      {
        "duration": 16,
        "start_time": "2024-01-18T19:55:59.620Z"
      },
      {
        "duration": 402,
        "start_time": "2024-01-18T19:55:59.638Z"
      },
      {
        "duration": 76,
        "start_time": "2024-01-18T19:56:00.042Z"
      },
      {
        "duration": 102,
        "start_time": "2024-01-18T19:56:00.119Z"
      },
      {
        "duration": 894,
        "start_time": "2024-01-18T19:56:00.222Z"
      },
      {
        "duration": 112,
        "start_time": "2024-01-18T19:56:01.119Z"
      },
      {
        "duration": 27508,
        "start_time": "2024-01-18T19:56:01.233Z"
      },
      {
        "duration": 30310,
        "start_time": "2024-01-18T19:56:28.743Z"
      },
      {
        "duration": 5769,
        "start_time": "2024-01-18T19:56:59.055Z"
      },
      {
        "duration": 2797,
        "start_time": "2024-01-18T19:57:04.826Z"
      },
      {
        "duration": 1305,
        "start_time": "2024-01-18T19:57:07.624Z"
      },
      {
        "duration": 51,
        "start_time": "2024-01-23T14:01:19.153Z"
      },
      {
        "duration": 9,
        "start_time": "2024-02-05T14:53:59.399Z"
      },
      {
        "duration": 71,
        "start_time": "2024-02-05T14:54:16.244Z"
      },
      {
        "duration": 3,
        "start_time": "2024-02-05T14:54:37.050Z"
      },
      {
        "duration": 54,
        "start_time": "2024-02-05T14:54:37.885Z"
      },
      {
        "duration": 44,
        "start_time": "2024-02-05T14:54:55.314Z"
      }
    ],
    "toc": {
      "base_numbering": 1,
      "nav_menu": {},
      "number_sections": true,
      "sideBar": true,
      "skip_h1_title": true,
      "title_cell": "Table of Contents",
      "title_sidebar": "Contents",
      "toc_cell": false,
      "toc_position": {},
      "toc_section_display": true,
      "toc_window_display": false
    }
  },
  "nbformat_minor": 4,
  "nbformat": 4,
  "cells": [
    {
      "cell_type": "markdown",
      "source": "# Data Plan Recommendation",
      "metadata": {}
    },
    {
      "cell_type": "markdown",
      "source": "At your disposal is data on the behavior of customers who have already switched to these data plans- \"smart\" and \"ultra\". We need to build a model for the classification task that will select the appropriate tariff. \n\nBuild a model with the highest possible *accuracy* value. To pass the project successfully, you need to bring the percentage of correct answers to at least 0.75. Check *accuracy* on a test sample yourself.",
      "metadata": {}
    },
    {
      "cell_type": "markdown",
      "source": "**Work plan:**\n- study the source data\n- divide the data into training, validation and test samples.\n- apply decision tree, random forest and logistic regression models and find the model with the highest quality.\n- check the quality of the model on a test sample.",
      "metadata": {}
    },
    {
      "cell_type": "markdown",
      "source": "## Loading the data",
      "metadata": {}
    },
    {
      "cell_type": "code",
      "source": "import pandas as pd\nimport numpy as np\nimport matplotlib.pyplot as plt\n\nfrom sklearn.tree import DecisionTreeClassifier\nfrom sklearn.ensemble import RandomForestClassifier\n\nfrom sklearn.linear_model import LogisticRegression\n\n#from sklearn.ensemble import RandomForestRegressor\nfrom sklearn.metrics import accuracy_score\nfrom sklearn.metrics import mean_squared_error\nfrom sklearn.model_selection import train_test_split\n",
      "metadata": {
        "trusted": true
      },
      "outputs": [],
      "execution_count": 1
    },
    {
      "cell_type": "markdown",
      "source": "Reading the data:",
      "metadata": {}
    },
    {
      "cell_type": "code",
      "source": "try:\n    df = pd.read_csv('users_behavior.csv')\nexcept:\n    df = pd.read_csv('/datasets/users_behavior.csv')\n    ",
      "metadata": {
        "trusted": true
      },
      "outputs": [],
      "execution_count": 3
    },
    {
      "cell_type": "code",
      "source": "df.info()",
      "metadata": {
        "scrolled": true,
        "trusted": true
      },
      "outputs": [
        {
          "name": "stdout",
          "text": "<class 'pandas.core.frame.DataFrame'>\nRangeIndex: 3214 entries, 0 to 3213\nData columns (total 5 columns):\n #   Column    Non-Null Count  Dtype  \n---  ------    --------------  -----  \n 0   calls     3214 non-null   float64\n 1   minutes   3214 non-null   float64\n 2   messages  3214 non-null   float64\n 3   mb_used   3214 non-null   float64\n 4   is_ultra  3214 non-null   int64  \ndtypes: float64(4), int64(1)\nmemory usage: 125.6 KB\n",
          "output_type": "stream"
        }
      ],
      "execution_count": 4
    },
    {
      "cell_type": "markdown",
      "source": "We have data on the behavior of cellular network users based on signs, we need to learn how to determine whether the user will switch to the ulra tariff.",
      "metadata": {}
    },
    {
      "cell_type": "markdown",
      "source": "## Splitting the data into samples",
      "metadata": {}
    },
    {
      "cell_type": "markdown",
      "source": "Let's see how many clients are on plan \"ultra\".",
      "metadata": {}
    },
    {
      "cell_type": "code",
      "source": "df.pivot_table(index='is_ultra', aggfunc='count')['calls'].plot.pie(autopct='%1.1f%%', startangle=90, figsize=(8, 8), subplots=True)\nplt.title('Data plan, 1-ultra, 0-smart')\nplt.show() \n",
      "metadata": {
        "trusted": true
      },
      "outputs": [
        {
          "output_type": "display_data",
          "data": {
            "text/plain": "<Figure size 800x800 with 1 Axes>",
            "image/png": "[encoded data removed]"
          },
          "metadata": {}
        }
      ],
      "execution_count": 5
    },
    {
      "cell_type": "markdown",
      "source": "30.6% pf clients connected to a plan \"ultra\".\n",
      "metadata": {}
    },
    {
      "cell_type": "markdown",
      "source": "Нужно решить задачу классификации. Целевой критерий - тариф. Выделим признаки и целевую переменную.\nThis is a classification problem. Target feature- plan option. Determining features and target.",
      "metadata": {}
    },
    {
      "cell_type": "code",
      "source": "features = df.drop('is_ultra', axis=1)\ntarget = df['is_ultra']\n\nprint(features.shape),print(target.shape)\n",
      "metadata": {
        "scrolled": true,
        "trusted": true
      },
      "outputs": [
        {
          "name": "stdout",
          "text": "(3214, 4)\n(3214,)\n",
          "output_type": "stream"
        },
        {
          "execution_count": 6,
          "output_type": "execute_result",
          "data": {
            "text/plain": "(None, None)"
          },
          "metadata": {}
        }
      ],
      "execution_count": 6
    },
    {
      "cell_type": "markdown",
      "source": "Divide the data into training, validation and test samples in proportion 60%-20%-20%:",
      "metadata": {}
    },
    {
      "cell_type": "code",
      "source": "#Split into test and temporary samples (80% of data)\nfeatures_train_temp, features_test, target_train_temp, target_test = train_test_split(\n    features, target, test_size=0.2, random_state=12345)\n\n#Dividing the temporary sample into training and validation samples,  0.25*0.8=0.2\nfeatures_train, features_valid, target_train, target_valid = train_test_split(\n    features_train_temp, target_train_temp, test_size=0.25, random_state=12345)\n\nprint('Size of train sample:', len(target_train), \", Portion:\", round(len(target_train)/len(target), 2))\nprint('Size of validation sample:', len(target_valid), \", Portion:\", round(len(target_valid)/len(target), 2))\nprint('Size of test sample::', len(target_test), \", Portion:\", round(len(target_valid)/len(target), 2))",
      "metadata": {
        "trusted": true
      },
      "outputs": [
        {
          "name": "stdout",
          "text": "Size of train sample: 1928 , Portion: 0.6\nSize of validation sample: 643 , Portion: 0.2\nSize of test sample:: 643 , Portion: 0.2\n",
          "output_type": "stream"
        }
      ],
      "execution_count": 9
    },
    {
      "cell_type": "markdown",
      "source": "## Model researching",
      "metadata": {}
    },
    {
      "cell_type": "markdown",
      "source": "Assignment: Investigate the quality of different models by changing hyperparameters. Briefly write the findings of the study.\n\n**Model 1. Decision tree.** As a hyperparameter, we will change the height of the tree from 1 to 20.",
      "metadata": {}
    },
    {
      "cell_type": "code",
      "source": "best_model = None\nbest_result = 0\nbest_depth = 0\n\nfor depth in range(1, 21):\n    model = DecisionTreeClassifier(random_state=12345, max_depth=depth)\n    model.fit(features_train, target_train) \n    result = model.score(features_valid, target_valid)\n    print(result, depth)    \n    if result > best_result:\n        best_model = model\n        best_result = result\n        best_depth = depth\nprint()        \nprint('accuracy=', best_result, 'Best models  depth depth=', best_depth)\n",
      "metadata": {
        "trusted": true
      },
      "outputs": [
        {
          "name": "stdout",
          "text": "0.7387247278382582 1\n0.7573872472783826 2\n0.7651632970451011 3\n0.7636080870917574 4\n0.7589424572317263 5\n0.7573872472783826 6\n0.7744945567651633 7\n0.7667185069984448 8\n0.7620528771384136 9\n0.7713841368584758 10\n0.7589424572317263 11\n0.7558320373250389 12\n0.749611197511664 13\n0.7573872472783826 14\n0.7527216174183515 15\n0.749611197511664 16\n0.7387247278382582 17\n0.7418351477449455 18\n0.7356143079315708 19\n0.7293934681181959 20\n\naccuracy= 0.7744945567651633 Best models  depth depth= 7\n",
          "output_type": "stream"
        }
      ],
      "execution_count": 11
    },
    {
      "cell_type": "markdown",
      "source": "Наиболее точной является модель с высотой depth= 7,\naccuracy= 0.7744945567651633. ",
      "metadata": {}
    },
    {
      "cell_type": "code",
      "source": "criteria = ['gini', 'entropy']\nbest_model = None\nbest_result = 0\nbest_depth = 0\n\nfor criterion in criteria:\n    model = DecisionTreeClassifier(random_state=12345, max_depth=7, criterion=criterion)\n    model.fit(features_train, target_train) \n    result = model.score(features_valid, target_valid)\n    print(result, depth)    \n    if result > best_result:\n        best_model = model\n        best_result = result\n        best_criterion = criterion\nprint()        \nprint('accuracy=', best_result, 'Best criteria=', best_criterion)\n",
      "metadata": {
        "trusted": true
      },
      "outputs": [
        {
          "name": "stdout",
          "text": "0.7744945567651633 20\n0.7776049766718507 20\n\naccuracy= 0.7776049766718507 Best criteria= entropy\n",
          "output_type": "stream"
        }
      ],
      "execution_count": 12
    },
    {
      "cell_type": "markdown",
      "source": "For the decision tree, the highest accuracy of 0.7776049766718507 is achieved with tree height 7 and entropy criterion.",
      "metadata": {}
    },
    {
      "cell_type": "markdown",
      "source": "**Model 2. Random forest.**",
      "metadata": {}
    },
    {
      "cell_type": "markdown",
      "source": "Let's look at the model by changing the number of trees and then the height of the trees.",
      "metadata": {}
    },
    {
      "cell_type": "code",
      "source": "best_model = None\nbest_result = 0\nfor est in range(100,200,5):\n    model = RandomForestClassifier(random_state=12345, n_estimators= est) \n    model.fit(features_train, target_train) \n    result = model.score(features_valid, target_valid) \n    print(result, est)\n    if result > best_result:\n        best_model = model \n        best_result = result \n        best_est = est\nprint()\n\nprint(\"Accuracy of the best model on the validation set:\", best_result, \"N of Trees:\", best_est)",
      "metadata": {
        "scrolled": true,
        "trusted": true
      },
      "outputs": [
        {
          "name": "stdout",
          "text": "0.7947122861586314 100\n0.7931570762052877 105\n0.7916018662519441 110\n0.7931570762052877 115\n0.7947122861586314 120\n0.7947122861586314 125\n0.7962674961119751 130\n0.7962674961119751 135\n0.7993779160186625 140\n0.7978227060653188 145\n0.8009331259720062 150\n0.8009331259720062 155\n0.8009331259720062 160\n0.8009331259720062 165\n0.8009331259720062 170\n0.7993779160186625 175\n0.7993779160186625 180\n0.7962674961119751 185\n0.7962674961119751 190\n0.7947122861586314 195\n\nAccuracy of the best model on the validation set: 0.8009331259720062 N of Trees: 150\n",
          "output_type": "stream"
        }
      ],
      "execution_count": 13
    },
    {
      "cell_type": "markdown",
      "source": "Here Accuracy of the best model: 0.8009331259720062, with the number of trees: 150.",
      "metadata": {}
    },
    {
      "cell_type": "code",
      "source": "best_model = None\nbest_result = 0\nfor depth in range(1,30):\n    model = RandomForestClassifier(random_state=12345, n_estimators= 150, max_depth=depth) \n    model.fit(features_train, target_train) \n    result = model.score(features_valid, target_valid) \n    print(result, depth)\n    if result > best_result:\n        best_model = model \n        best_result = result \n        best_depth = depth\nprint()\n\nprint(\"Accuracy of the best model on the validation set:\", best_result, \"Tree depth:\", best_depth)",
      "metadata": {
        "scrolled": true,
        "trusted": true
      },
      "outputs": [
        {
          "name": "stdout",
          "text": "0.7620528771384136 1\n0.7620528771384136 2\n0.7698289269051322 3\n0.7729393468118196 4\n0.7807153965785381 5\n0.7791601866251944 6\n0.7853810264385692 7\n0.7838258164852255 8\n0.7884914463452566 9\n0.7916018662519441 10\n0.7916018662519441 11\n0.7978227060653188 12\n0.7978227060653188 13\n0.7916018662519441 14\n0.7962674961119751 15\n0.7993779160186625 16\n0.7900466562986003 17\n0.7962674961119751 18\n0.7916018662519441 19\n0.7978227060653188 20\n0.7947122861586314 21\n0.80248833592535 22\n0.8009331259720062 23\n0.7978227060653188 24\n0.7978227060653188 25\n0.7993779160186625 26\n0.80248833592535 27\n0.8009331259720062 28\n0.80248833592535 29\n\nAccuracy of the best model on the validation set: 0.80248833592535 Tree depth: 22\n",
          "output_type": "stream"
        }
      ],
      "execution_count": 14
    },
    {
      "cell_type": "markdown",
      "source": "For the random forest, we achieved a maximum accuracy of 0.80248833592535 with a tree height of 22 and a number of trees of 150. The calculation takes a little longer than modeling with a single decision tree.",
      "metadata": {}
    },
    {
      "cell_type": "markdown",
      "source": "**Model 3. Logistic regression.**",
      "metadata": {}
    },
    {
      "cell_type": "markdown",
      "source": "Hyperparameter : solver",
      "metadata": {}
    },
    {
      "cell_type": "code",
      "source": "solvers= ['lbfgs', 'liblinear', 'newton-cg', 'sag', 'saga']\n\nfor solver_type in solvers:\n    model = LogisticRegression(random_state=12345, solver=solver_type, max_iter=5000)\n    model.fit(features_train, target_train)\n    model.predict(features_valid)\n    print(\"Accuracy:\", model.score(features_valid, target_valid))",
      "metadata": {
        "scrolled": true
      },
      "outputs": [
        {
          "name": "stdout",
          "output_type": "stream",
          "text": [
            "Accuracy: 0.6905132192846034\n",
            "Accuracy: 0.6920684292379471\n"
          ]
        },
        {
          "name": "stderr",
          "output_type": "stream",
          "text": [
            "/opt/conda/lib/python3.9/site-packages/scipy/optimize/_linesearch.py:456: LineSearchWarning: The line search algorithm did not converge\n",
            "  warn('The line search algorithm did not converge', LineSearchWarning)\n",
            "/opt/conda/lib/python3.9/site-packages/scipy/optimize/_linesearch.py:305: LineSearchWarning: The line search algorithm did not converge\n",
            "  warn('The line search algorithm did not converge', LineSearchWarning)\n",
            "/opt/conda/lib/python3.9/site-packages/scipy/optimize/_linesearch.py:456: LineSearchWarning: The line search algorithm did not converge\n",
            "  warn('The line search algorithm did not converge', LineSearchWarning)\n",
            "/opt/conda/lib/python3.9/site-packages/scipy/optimize/_linesearch.py:305: LineSearchWarning: The line search algorithm did not converge\n",
            "  warn('The line search algorithm did not converge', LineSearchWarning)\n"
          ]
        },
        {
          "name": "stdout",
          "output_type": "stream",
          "text": [
            "Accuracy: 0.7278382581648523\n",
            "Accuracy: 0.6889580093312597\n",
            "Accuracy: 0.6936236391912908\n"
          ]
        }
      ],
      "execution_count": 11
    },
    {
      "cell_type": "markdown",
      "source": "*Accuracy* takes the maximum value with the standard value of lbfgs and newton-cg. Let's leave it as standard.",
      "metadata": {}
    },
    {
      "cell_type": "code",
      "source": "iterations=[100,500,1000,2000,5000]\nfor iteration in iterations:\n    model = LogisticRegression(random_state=12345, solver='lbfgs', max_iter=iteration)\n    model.fit(features_train, target_train)\n    model.predict(features_valid)\n    print(\"Accuracy:\", model.score(features_valid, target_valid))",
      "metadata": {
        "scrolled": true
      },
      "outputs": [
        {
          "name": "stdout",
          "output_type": "stream",
          "text": [
            "Accuracy: 0.6905132192846034\n",
            "Accuracy: 0.6905132192846034\n",
            "Accuracy: 0.6905132192846034\n",
            "Accuracy: 0.6905132192846034\n",
            "Accuracy: 0.6905132192846034\n"
          ]
        }
      ],
      "execution_count": 12
    },
    {
      "cell_type": "markdown",
      "source": "The number of iterations does not affect the quality of the model.",
      "metadata": {}
    },
    {
      "cell_type": "markdown",
      "source": "Model quality for logistic regression Accuracy: 0.7262830482115086, calculation is fast.",
      "metadata": {}
    },
    {
      "cell_type": "markdown",
      "source": "**Conclusion from step 3:** Of the three models considered, the random forest model showed the highest quality, accuracy: 0.80248833592535 with a tree height of 22 and a number of trees of 150.",
      "metadata": {}
    },
    {
      "cell_type": "markdown",
      "source": "## Model testing",
      "metadata": {}
    },
    {
      "cell_type": "markdown",
      "source": "Let's test the random forest model with the obtained hyperparameters.",
      "metadata": {}
    },
    {
      "cell_type": "code",
      "source": "model = RandomForestClassifier(random_state=12345, n_estimators= 150, max_depth=22) \nmodel.fit(features_train, target_train) \nresult = model.score(features_test, target_test) \nprint(result)\n",
      "metadata": {},
      "outputs": [
        {
          "name": "stdout",
          "output_type": "stream",
          "text": [
            "0.7993779160186625\n"
          ]
        }
      ],
      "execution_count": 13
    },
    {
      "cell_type": "markdown",
      "source": "The accuracy on the test set is lower than on the training set, which indicates that the model is overtrained. This may have been due to the \"tall\" tree.",
      "metadata": {}
    },
    {
      "cell_type": "markdown",
      "source": "**Conclusion:**\n\nPreprocessed data on mobile network users was obtained, indicating the number and duration of calls, Internet traffic used, number of SMS messages and whether they switched to the ultra tariff. It was necessary to build a model for the classification task that would select the appropriate tariff. Three models were built - DecisionTreeClassifiler, RandomForestClassifier, LogosticRegression with various hyperparameters. The highest accuracy value was shown by the RandomForestClassifier model, accuracy: 0.80248833592535 with a tree height of 22 and a number of trees of 150. On the test sample, the model showed a value of 0.7978227060653188, which means that the model is slightly overtrained.",
      "metadata": {}
    }
  ]
}
