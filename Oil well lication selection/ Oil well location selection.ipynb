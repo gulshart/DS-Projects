{
  "metadata": {
    "kernelspec": {
      "name": "python",
      "display_name": "Python (Pyodide)",
      "language": "python"
    },
    "language_info": {
      "codemirror_mode": {
        "name": "python",
        "version": 3
      },
      "file_extension": ".py",
      "mimetype": "text/x-python",
      "name": "python",
      "nbconvert_exporter": "python",
      "pygments_lexer": "ipython3",
      "version": "3.8"
    },
    "ExecuteTimeLog": [
      {
        "duration": 52,
        "start_time": "2024-02-03T06:22:28.394Z"
      },
      {
        "duration": 390,
        "start_time": "2024-02-03T06:22:39.468Z"
      },
      {
        "duration": 92,
        "start_time": "2024-02-03T06:22:41.737Z"
      },
      {
        "duration": 71,
        "start_time": "2024-02-03T06:22:44.653Z"
      },
      {
        "duration": 107,
        "start_time": "2024-02-03T06:22:48.034Z"
      },
      {
        "duration": 386,
        "start_time": "2024-02-03T06:25:04.892Z"
      },
      {
        "duration": 578,
        "start_time": "2024-02-03T06:26:16.313Z"
      },
      {
        "duration": 19,
        "start_time": "2024-02-03T06:27:59.406Z"
      },
      {
        "duration": 12,
        "start_time": "2024-02-03T06:28:11.998Z"
      },
      {
        "duration": 22,
        "start_time": "2024-02-03T06:28:26.079Z"
      },
      {
        "duration": 12,
        "start_time": "2024-02-03T06:28:59.607Z"
      },
      {
        "duration": 25,
        "start_time": "2024-02-03T06:29:10.413Z"
      },
      {
        "duration": 40,
        "start_time": "2024-02-03T06:29:27.827Z"
      },
      {
        "duration": 12,
        "start_time": "2024-02-03T06:31:00.217Z"
      },
      {
        "duration": 51,
        "start_time": "2024-02-03T06:31:40.459Z"
      },
      {
        "duration": 122,
        "start_time": "2024-02-03T06:31:43.659Z"
      },
      {
        "duration": 49,
        "start_time": "2024-02-03T06:31:50.106Z"
      },
      {
        "duration": 142,
        "start_time": "2024-02-03T06:32:03.650Z"
      },
      {
        "duration": 82,
        "start_time": "2024-02-03T06:38:48.381Z"
      },
      {
        "duration": 8,
        "start_time": "2024-02-03T06:46:08.960Z"
      },
      {
        "duration": 23,
        "start_time": "2024-02-03T06:46:25.982Z"
      },
      {
        "duration": 7,
        "start_time": "2024-02-03T06:46:51.972Z"
      },
      {
        "duration": 15,
        "start_time": "2024-02-03T06:48:04.545Z"
      },
      {
        "duration": 67,
        "start_time": "2024-02-03T06:57:54.688Z"
      },
      {
        "duration": 74,
        "start_time": "2024-02-03T06:58:10.117Z"
      },
      {
        "duration": 8,
        "start_time": "2024-02-03T06:58:25.897Z"
      },
      {
        "duration": 7,
        "start_time": "2024-02-03T06:58:41.991Z"
      },
      {
        "duration": 7,
        "start_time": "2024-02-03T06:58:47.677Z"
      },
      {
        "duration": 87,
        "start_time": "2024-02-03T07:05:30.290Z"
      },
      {
        "duration": 4,
        "start_time": "2024-02-03T07:05:54.745Z"
      },
      {
        "duration": 13,
        "start_time": "2024-02-03T07:06:58.589Z"
      },
      {
        "duration": 1422,
        "start_time": "2024-02-03T07:07:17.210Z"
      },
      {
        "duration": 43,
        "start_time": "2024-02-03T07:07:24.491Z"
      },
      {
        "duration": 60,
        "start_time": "2024-02-03T07:08:07.964Z"
      },
      {
        "duration": 25,
        "start_time": "2024-02-03T07:13:19.922Z"
      },
      {
        "duration": 6,
        "start_time": "2024-02-03T07:13:26.730Z"
      },
      {
        "duration": 5,
        "start_time": "2024-02-03T07:13:29.410Z"
      },
      {
        "duration": 4,
        "start_time": "2024-02-03T07:15:13.968Z"
      },
      {
        "duration": 38,
        "start_time": "2024-02-03T07:16:52.798Z"
      },
      {
        "duration": 41,
        "start_time": "2024-02-03T07:17:44.330Z"
      },
      {
        "duration": 30,
        "start_time": "2024-02-03T07:18:25.243Z"
      },
      {
        "duration": 18,
        "start_time": "2024-02-03T07:18:27.230Z"
      },
      {
        "duration": 13,
        "start_time": "2024-02-03T07:18:41.134Z"
      },
      {
        "duration": 16,
        "start_time": "2024-02-03T07:19:27.223Z"
      },
      {
        "duration": 23,
        "start_time": "2024-02-03T07:19:34.104Z"
      },
      {
        "duration": 4,
        "start_time": "2024-02-03T07:20:07.383Z"
      },
      {
        "duration": 21,
        "start_time": "2024-02-03T07:21:09.488Z"
      },
      {
        "duration": 14,
        "start_time": "2024-02-03T07:21:24.731Z"
      },
      {
        "duration": 13,
        "start_time": "2024-02-03T07:21:26.058Z"
      },
      {
        "duration": 15,
        "start_time": "2024-02-03T07:23:05.353Z"
      },
      {
        "duration": 4,
        "start_time": "2024-02-03T07:24:07.787Z"
      },
      {
        "duration": 6,
        "start_time": "2024-02-03T07:24:50.728Z"
      },
      {
        "duration": 14,
        "start_time": "2024-02-03T07:25:35.909Z"
      },
      {
        "duration": 15,
        "start_time": "2024-02-03T07:25:39.487Z"
      },
      {
        "duration": 9,
        "start_time": "2024-02-03T07:26:58.253Z"
      },
      {
        "duration": 6,
        "start_time": "2024-02-03T07:27:14.815Z"
      },
      {
        "duration": 4,
        "start_time": "2024-02-03T07:28:14.693Z"
      },
      {
        "duration": 5,
        "start_time": "2024-02-03T07:29:09.871Z"
      },
      {
        "duration": 5,
        "start_time": "2024-02-03T07:30:51.237Z"
      },
      {
        "duration": 5,
        "start_time": "2024-02-03T07:31:45.186Z"
      },
      {
        "duration": 5,
        "start_time": "2024-02-03T07:31:45.585Z"
      },
      {
        "duration": 5,
        "start_time": "2024-02-03T07:31:45.895Z"
      },
      {
        "duration": 5,
        "start_time": "2024-02-03T07:31:59.559Z"
      },
      {
        "duration": 5,
        "start_time": "2024-02-03T07:32:01.161Z"
      },
      {
        "duration": 6,
        "start_time": "2024-02-03T07:35:16.950Z"
      },
      {
        "duration": 88,
        "start_time": "2024-02-03T07:50:24.936Z"
      },
      {
        "duration": 21,
        "start_time": "2024-02-03T07:50:30.750Z"
      },
      {
        "duration": 20,
        "start_time": "2024-02-03T07:50:37.647Z"
      },
      {
        "duration": 16,
        "start_time": "2024-02-03T07:50:39.696Z"
      },
      {
        "duration": 17,
        "start_time": "2024-02-03T07:50:41.202Z"
      },
      {
        "duration": 7,
        "start_time": "2024-02-03T14:32:06.096Z"
      },
      {
        "duration": 3,
        "start_time": "2024-02-03T14:32:09.380Z"
      },
      {
        "duration": 9,
        "start_time": "2024-02-03T14:32:13.080Z"
      },
      {
        "duration": 3,
        "start_time": "2024-02-03T14:32:59.792Z"
      },
      {
        "duration": 3,
        "start_time": "2024-02-03T14:33:00.970Z"
      },
      {
        "duration": 3,
        "start_time": "2024-02-03T14:33:06.937Z"
      },
      {
        "duration": 3,
        "start_time": "2024-02-03T14:33:07.896Z"
      },
      {
        "duration": 2,
        "start_time": "2024-02-03T14:33:17.105Z"
      },
      {
        "duration": 3,
        "start_time": "2024-02-03T14:33:21.767Z"
      },
      {
        "duration": 71,
        "start_time": "2024-02-03T15:46:44.435Z"
      },
      {
        "duration": 62,
        "start_time": "2024-02-03T15:46:45.522Z"
      },
      {
        "duration": 3,
        "start_time": "2024-02-03T16:18:31.652Z"
      },
      {
        "duration": 2,
        "start_time": "2024-02-03T16:27:01.279Z"
      },
      {
        "duration": 39,
        "start_time": "2024-02-03T16:27:12.343Z"
      },
      {
        "duration": 8,
        "start_time": "2024-02-03T16:27:22.921Z"
      },
      {
        "duration": 3,
        "start_time": "2024-02-03T16:27:52.305Z"
      },
      {
        "duration": 6,
        "start_time": "2024-02-03T16:28:10.593Z"
      },
      {
        "duration": 5,
        "start_time": "2024-02-03T16:28:23.238Z"
      },
      {
        "duration": 3,
        "start_time": "2024-02-03T16:29:05.168Z"
      },
      {
        "duration": 6,
        "start_time": "2024-02-03T16:29:21.995Z"
      },
      {
        "duration": 3,
        "start_time": "2024-02-03T16:29:29.433Z"
      },
      {
        "duration": 6,
        "start_time": "2024-02-03T16:29:43.050Z"
      },
      {
        "duration": 4,
        "start_time": "2024-02-03T16:29:53.039Z"
      },
      {
        "duration": 3,
        "start_time": "2024-02-03T16:30:14.300Z"
      },
      {
        "duration": 9,
        "start_time": "2024-02-03T16:30:36.404Z"
      },
      {
        "duration": 3,
        "start_time": "2024-02-03T16:30:44.519Z"
      },
      {
        "duration": 4,
        "start_time": "2024-02-03T16:30:46.537Z"
      },
      {
        "duration": 7,
        "start_time": "2024-02-03T16:30:46.839Z"
      },
      {
        "duration": 2,
        "start_time": "2024-02-03T16:31:45.488Z"
      },
      {
        "duration": 4,
        "start_time": "2024-02-03T16:31:49.574Z"
      },
      {
        "duration": 3,
        "start_time": "2024-02-03T16:32:31.008Z"
      },
      {
        "duration": 7,
        "start_time": "2024-02-03T16:32:31.468Z"
      },
      {
        "duration": 3,
        "start_time": "2024-02-03T16:32:36.791Z"
      },
      {
        "duration": 3,
        "start_time": "2024-02-03T16:32:38.072Z"
      },
      {
        "duration": 4,
        "start_time": "2024-02-03T16:32:39.033Z"
      },
      {
        "duration": 2,
        "start_time": "2024-02-03T16:32:41.215Z"
      },
      {
        "duration": 6,
        "start_time": "2024-02-03T16:32:56.406Z"
      },
      {
        "duration": 3,
        "start_time": "2024-02-03T16:33:03.518Z"
      },
      {
        "duration": 3,
        "start_time": "2024-02-03T16:33:04.660Z"
      },
      {
        "duration": 3,
        "start_time": "2024-02-03T16:33:39.207Z"
      },
      {
        "duration": 7,
        "start_time": "2024-02-03T16:33:39.714Z"
      },
      {
        "duration": 3,
        "start_time": "2024-02-03T16:36:28.102Z"
      },
      {
        "duration": 3,
        "start_time": "2024-02-03T16:36:29.855Z"
      },
      {
        "duration": 3,
        "start_time": "2024-02-03T16:38:20.646Z"
      },
      {
        "duration": 3,
        "start_time": "2024-02-03T16:38:21.334Z"
      },
      {
        "duration": 3,
        "start_time": "2024-02-03T16:38:21.881Z"
      },
      {
        "duration": 3,
        "start_time": "2024-02-03T16:38:40.593Z"
      },
      {
        "duration": 7,
        "start_time": "2024-02-03T16:38:41.574Z"
      },
      {
        "duration": 3,
        "start_time": "2024-02-03T16:38:55.115Z"
      },
      {
        "duration": 7,
        "start_time": "2024-02-03T16:38:56.447Z"
      },
      {
        "duration": 3,
        "start_time": "2024-02-03T16:40:29.347Z"
      },
      {
        "duration": 2,
        "start_time": "2024-02-03T16:40:29.628Z"
      },
      {
        "duration": 3,
        "start_time": "2024-02-03T16:40:32.141Z"
      },
      {
        "duration": 3,
        "start_time": "2024-02-03T16:42:15.603Z"
      },
      {
        "duration": 3,
        "start_time": "2024-02-03T16:42:16.320Z"
      },
      {
        "duration": 2,
        "start_time": "2024-02-03T16:42:29.394Z"
      },
      {
        "duration": 84,
        "start_time": "2024-02-03T16:42:42.327Z"
      },
      {
        "duration": 3,
        "start_time": "2024-02-03T16:42:46.692Z"
      },
      {
        "duration": 3,
        "start_time": "2024-02-03T16:54:26.037Z"
      },
      {
        "duration": 4,
        "start_time": "2024-02-03T16:54:28.662Z"
      },
      {
        "duration": 4,
        "start_time": "2024-02-03T16:54:38.532Z"
      },
      {
        "duration": 3,
        "start_time": "2024-02-03T16:55:33.575Z"
      },
      {
        "duration": 8,
        "start_time": "2024-02-03T16:55:34.456Z"
      },
      {
        "duration": 3,
        "start_time": "2024-02-03T16:55:44.925Z"
      },
      {
        "duration": 4,
        "start_time": "2024-02-03T16:55:45.878Z"
      },
      {
        "duration": 4,
        "start_time": "2024-02-03T16:56:06.894Z"
      },
      {
        "duration": 4,
        "start_time": "2024-02-03T16:56:07.214Z"
      },
      {
        "duration": 3,
        "start_time": "2024-02-03T16:56:24.744Z"
      },
      {
        "duration": 7,
        "start_time": "2024-02-03T16:56:38.865Z"
      },
      {
        "duration": 5,
        "start_time": "2024-02-03T16:56:48.695Z"
      },
      {
        "duration": 3,
        "start_time": "2024-02-03T16:57:44.614Z"
      },
      {
        "duration": 3,
        "start_time": "2024-02-03T16:57:45.000Z"
      },
      {
        "duration": 6,
        "start_time": "2024-02-03T16:58:18.750Z"
      },
      {
        "duration": 4,
        "start_time": "2024-02-03T16:58:19.081Z"
      },
      {
        "duration": 4,
        "start_time": "2024-02-03T16:58:44.502Z"
      },
      {
        "duration": 4,
        "start_time": "2024-02-03T16:58:46.270Z"
      },
      {
        "duration": 4,
        "start_time": "2024-02-03T16:58:46.521Z"
      },
      {
        "duration": 5,
        "start_time": "2024-02-03T16:58:53.009Z"
      },
      {
        "duration": 4,
        "start_time": "2024-02-03T16:59:25.501Z"
      },
      {
        "duration": 4,
        "start_time": "2024-02-03T16:59:27.666Z"
      },
      {
        "duration": 4,
        "start_time": "2024-02-03T17:02:09.862Z"
      },
      {
        "duration": 4,
        "start_time": "2024-02-03T17:02:10.375Z"
      },
      {
        "duration": 5,
        "start_time": "2024-02-03T17:07:25.957Z"
      },
      {
        "duration": 4,
        "start_time": "2024-02-03T17:07:26.370Z"
      },
      {
        "duration": 10,
        "start_time": "2024-02-03T17:07:32.748Z"
      },
      {
        "duration": 4,
        "start_time": "2024-02-03T17:07:33.190Z"
      },
      {
        "duration": 73,
        "start_time": "2024-02-03T17:08:30.116Z"
      },
      {
        "duration": 4,
        "start_time": "2024-02-03T17:08:30.406Z"
      },
      {
        "duration": 3,
        "start_time": "2024-02-03T17:08:35.683Z"
      },
      {
        "duration": 8,
        "start_time": "2024-02-03T17:08:36.043Z"
      },
      {
        "duration": 4,
        "start_time": "2024-02-03T17:08:50.893Z"
      },
      {
        "duration": 8,
        "start_time": "2024-02-03T17:08:51.158Z"
      },
      {
        "duration": 3,
        "start_time": "2024-02-03T17:09:58.821Z"
      },
      {
        "duration": 11,
        "start_time": "2024-02-03T17:09:59.157Z"
      },
      {
        "duration": 3,
        "start_time": "2024-02-03T17:11:14.684Z"
      },
      {
        "duration": 5,
        "start_time": "2024-02-03T17:11:17.563Z"
      },
      {
        "duration": 3,
        "start_time": "2024-02-03T17:11:18.543Z"
      },
      {
        "duration": 2032,
        "start_time": "2024-02-04T04:29:21.933Z"
      },
      {
        "duration": 1612,
        "start_time": "2024-02-04T04:29:23.967Z"
      },
      {
        "duration": 21,
        "start_time": "2024-02-04T04:29:25.582Z"
      },
      {
        "duration": 57,
        "start_time": "2024-02-04T04:29:25.606Z"
      },
      {
        "duration": 138,
        "start_time": "2024-02-04T04:29:25.680Z"
      },
      {
        "duration": 39,
        "start_time": "2024-02-04T04:29:25.820Z"
      },
      {
        "duration": 4,
        "start_time": "2024-02-04T04:29:25.861Z"
      },
      {
        "duration": 24,
        "start_time": "2024-02-04T04:29:25.881Z"
      },
      {
        "duration": 178,
        "start_time": "2024-02-04T04:29:25.906Z"
      },
      {
        "duration": 194,
        "start_time": "2024-02-04T04:29:26.087Z"
      },
      {
        "duration": 101,
        "start_time": "2024-02-04T04:29:26.284Z"
      },
      {
        "duration": 102,
        "start_time": "2024-02-04T04:29:26.388Z"
      },
      {
        "duration": 5,
        "start_time": "2024-02-04T04:29:26.581Z"
      },
      {
        "duration": 6,
        "start_time": "2024-02-04T04:29:26.587Z"
      },
      {
        "duration": 5,
        "start_time": "2024-02-04T04:29:26.594Z"
      },
      {
        "duration": 4,
        "start_time": "2024-02-04T04:29:26.601Z"
      },
      {
        "duration": 180,
        "start_time": "2024-02-04T04:29:26.607Z"
      },
      {
        "duration": 3,
        "start_time": "2024-02-04T05:11:08.138Z"
      },
      {
        "duration": 3,
        "start_time": "2024-02-04T06:45:51.281Z"
      },
      {
        "duration": 118,
        "start_time": "2024-02-04T06:48:02.759Z"
      },
      {
        "duration": 3,
        "start_time": "2024-02-04T06:49:35.764Z"
      },
      {
        "duration": 25,
        "start_time": "2024-02-04T06:49:36.620Z"
      },
      {
        "duration": 4,
        "start_time": "2024-02-04T06:49:55.568Z"
      },
      {
        "duration": 14,
        "start_time": "2024-02-04T06:49:56.174Z"
      },
      {
        "duration": 15,
        "start_time": "2024-02-04T06:50:12.430Z"
      },
      {
        "duration": 17,
        "start_time": "2024-02-04T06:50:22.778Z"
      },
      {
        "duration": 19,
        "start_time": "2024-02-04T06:50:34.374Z"
      },
      {
        "duration": 46,
        "start_time": "2024-02-04T06:51:48.499Z"
      },
      {
        "duration": 35,
        "start_time": "2024-02-04T06:52:20.148Z"
      },
      {
        "duration": 4,
        "start_time": "2024-02-04T06:52:33.025Z"
      },
      {
        "duration": 20,
        "start_time": "2024-02-04T06:53:00.061Z"
      },
      {
        "duration": 14,
        "start_time": "2024-02-04T06:53:00.901Z"
      },
      {
        "duration": 17,
        "start_time": "2024-02-04T06:53:01.388Z"
      },
      {
        "duration": 10,
        "start_time": "2024-02-04T06:53:07.318Z"
      },
      {
        "duration": 5,
        "start_time": "2024-02-04T06:53:07.761Z"
      },
      {
        "duration": 3,
        "start_time": "2024-02-04T06:57:02.906Z"
      },
      {
        "duration": 3,
        "start_time": "2024-02-04T06:58:41.086Z"
      },
      {
        "duration": 4,
        "start_time": "2024-02-04T07:03:23.410Z"
      },
      {
        "duration": 3,
        "start_time": "2024-02-04T07:03:31.181Z"
      },
      {
        "duration": 29,
        "start_time": "2024-02-04T07:03:32.179Z"
      },
      {
        "duration": 5,
        "start_time": "2024-02-04T07:03:33.114Z"
      },
      {
        "duration": 15,
        "start_time": "2024-02-04T07:03:34.462Z"
      },
      {
        "duration": 15,
        "start_time": "2024-02-04T07:03:35.384Z"
      },
      {
        "duration": 14,
        "start_time": "2024-02-04T07:03:36.192Z"
      },
      {
        "duration": 10,
        "start_time": "2024-02-04T07:03:36.998Z"
      },
      {
        "duration": 6,
        "start_time": "2024-02-04T07:03:37.399Z"
      },
      {
        "duration": 5,
        "start_time": "2024-02-04T07:03:38.630Z"
      },
      {
        "duration": 6,
        "start_time": "2024-02-04T07:03:39.160Z"
      },
      {
        "duration": 5,
        "start_time": "2024-02-04T07:03:39.674Z"
      },
      {
        "duration": 3,
        "start_time": "2024-02-04T07:42:27.215Z"
      },
      {
        "duration": 3,
        "start_time": "2024-02-04T07:42:32.366Z"
      },
      {
        "duration": 4,
        "start_time": "2024-02-04T07:42:47.467Z"
      },
      {
        "duration": 3,
        "start_time": "2024-02-04T07:43:29.045Z"
      },
      {
        "duration": 3,
        "start_time": "2024-02-04T07:43:29.895Z"
      },
      {
        "duration": 4,
        "start_time": "2024-02-04T07:51:12.501Z"
      },
      {
        "duration": 11,
        "start_time": "2024-02-04T07:51:24.970Z"
      },
      {
        "duration": 9,
        "start_time": "2024-02-04T07:51:46.089Z"
      },
      {
        "duration": 10,
        "start_time": "2024-02-04T08:02:13.049Z"
      },
      {
        "duration": 10,
        "start_time": "2024-02-04T08:02:23.925Z"
      },
      {
        "duration": 28,
        "start_time": "2024-02-04T08:02:28.115Z"
      },
      {
        "duration": 20,
        "start_time": "2024-02-04T08:02:48.528Z"
      },
      {
        "duration": 22,
        "start_time": "2024-02-04T08:03:28.711Z"
      },
      {
        "duration": 19,
        "start_time": "2024-02-04T08:04:23.060Z"
      },
      {
        "duration": 18,
        "start_time": "2024-02-04T08:05:12.591Z"
      },
      {
        "duration": 58,
        "start_time": "2024-02-04T08:54:49.384Z"
      },
      {
        "duration": 65,
        "start_time": "2024-02-04T08:55:13.044Z"
      },
      {
        "duration": 67,
        "start_time": "2024-02-04T08:55:16.168Z"
      },
      {
        "duration": 70,
        "start_time": "2024-02-04T09:02:03.873Z"
      },
      {
        "duration": 64,
        "start_time": "2024-02-04T09:02:34.240Z"
      },
      {
        "duration": 5,
        "start_time": "2024-02-04T09:02:54.390Z"
      },
      {
        "duration": 12,
        "start_time": "2024-02-04T09:03:19.833Z"
      },
      {
        "duration": 28,
        "start_time": "2024-02-04T09:04:17.031Z"
      },
      {
        "duration": 22,
        "start_time": "2024-02-04T09:05:07.059Z"
      },
      {
        "duration": 19,
        "start_time": "2024-02-04T09:05:13.879Z"
      },
      {
        "duration": 22,
        "start_time": "2024-02-04T09:05:47.155Z"
      },
      {
        "duration": 18,
        "start_time": "2024-02-04T09:05:57.607Z"
      },
      {
        "duration": 3,
        "start_time": "2024-02-04T09:07:09.330Z"
      },
      {
        "duration": 3,
        "start_time": "2024-02-04T09:07:23.118Z"
      },
      {
        "duration": 28,
        "start_time": "2024-02-04T09:09:13.290Z"
      },
      {
        "duration": 3,
        "start_time": "2024-02-04T09:09:20.165Z"
      },
      {
        "duration": 25,
        "start_time": "2024-02-04T09:09:20.661Z"
      },
      {
        "duration": 3,
        "start_time": "2024-02-04T09:09:28.829Z"
      },
      {
        "duration": 3,
        "start_time": "2024-02-04T09:09:32.770Z"
      },
      {
        "duration": 15,
        "start_time": "2024-02-04T09:09:33.012Z"
      },
      {
        "duration": 4,
        "start_time": "2024-02-04T09:10:06.882Z"
      },
      {
        "duration": 28,
        "start_time": "2024-02-04T09:10:09.319Z"
      },
      {
        "duration": 29,
        "start_time": "2024-02-04T09:10:15.186Z"
      },
      {
        "duration": 29,
        "start_time": "2024-02-04T09:10:36.465Z"
      },
      {
        "duration": 30,
        "start_time": "2024-02-04T09:10:49.402Z"
      },
      {
        "duration": 28,
        "start_time": "2024-02-04T09:11:03.675Z"
      },
      {
        "duration": 41,
        "start_time": "2024-02-04T09:11:15.061Z"
      },
      {
        "duration": 64,
        "start_time": "2024-02-04T09:11:19.021Z"
      },
      {
        "duration": 58,
        "start_time": "2024-02-04T09:11:24.483Z"
      },
      {
        "duration": 42,
        "start_time": "2024-02-04T09:12:00.639Z"
      },
      {
        "duration": 47,
        "start_time": "2024-02-04T09:12:18.527Z"
      },
      {
        "duration": 139,
        "start_time": "2024-02-04T09:12:39.362Z"
      },
      {
        "duration": 62,
        "start_time": "2024-02-04T09:12:59.722Z"
      },
      {
        "duration": 59,
        "start_time": "2024-02-04T09:13:03.654Z"
      },
      {
        "duration": 62,
        "start_time": "2024-02-04T09:13:39.284Z"
      },
      {
        "duration": 57,
        "start_time": "2024-02-04T09:14:52.959Z"
      },
      {
        "duration": 40,
        "start_time": "2024-02-04T09:15:01.720Z"
      },
      {
        "duration": 41,
        "start_time": "2024-02-04T09:15:16.023Z"
      },
      {
        "duration": 41,
        "start_time": "2024-02-04T09:15:23.308Z"
      },
      {
        "duration": 42,
        "start_time": "2024-02-04T09:15:26.624Z"
      },
      {
        "duration": 6,
        "start_time": "2024-02-04T09:25:59.404Z"
      },
      {
        "duration": 3,
        "start_time": "2024-02-04T09:26:13.696Z"
      },
      {
        "duration": 19,
        "start_time": "2024-02-04T09:26:15.389Z"
      },
      {
        "duration": 25,
        "start_time": "2024-02-04T09:26:24.988Z"
      },
      {
        "duration": 5,
        "start_time": "2024-02-04T09:26:48.768Z"
      },
      {
        "duration": 17,
        "start_time": "2024-02-04T09:27:14.426Z"
      },
      {
        "duration": 11,
        "start_time": "2024-02-04T09:27:27.723Z"
      },
      {
        "duration": 9,
        "start_time": "2024-02-04T09:27:38.573Z"
      },
      {
        "duration": 5,
        "start_time": "2024-02-04T09:32:36.037Z"
      },
      {
        "duration": 15,
        "start_time": "2024-02-04T09:32:49.437Z"
      },
      {
        "duration": 9,
        "start_time": "2024-02-04T09:33:40.667Z"
      },
      {
        "duration": 10,
        "start_time": "2024-02-04T09:34:11.328Z"
      },
      {
        "duration": 5,
        "start_time": "2024-02-04T09:34:24.087Z"
      },
      {
        "duration": 4,
        "start_time": "2024-02-04T09:54:14.246Z"
      },
      {
        "duration": 26,
        "start_time": "2024-02-04T09:56:11.164Z"
      },
      {
        "duration": 11,
        "start_time": "2024-02-04T10:01:19.436Z"
      },
      {
        "duration": 15,
        "start_time": "2024-02-04T10:01:30.483Z"
      },
      {
        "duration": 22,
        "start_time": "2024-02-04T10:01:46.860Z"
      },
      {
        "duration": 110,
        "start_time": "2024-02-04T10:02:08.079Z"
      },
      {
        "duration": 6,
        "start_time": "2024-02-04T10:02:47.180Z"
      },
      {
        "duration": 9,
        "start_time": "2024-02-04T10:03:01.000Z"
      },
      {
        "duration": 13,
        "start_time": "2024-02-04T10:24:23.137Z"
      },
      {
        "duration": 8,
        "start_time": "2024-02-04T10:24:27.645Z"
      },
      {
        "duration": 6,
        "start_time": "2024-02-04T10:25:02.457Z"
      },
      {
        "duration": 7,
        "start_time": "2024-02-04T10:25:10.458Z"
      },
      {
        "duration": 8,
        "start_time": "2024-02-04T10:25:32.432Z"
      },
      {
        "duration": 4,
        "start_time": "2024-02-04T10:30:36.349Z"
      },
      {
        "duration": 11,
        "start_time": "2024-02-04T10:30:43.491Z"
      },
      {
        "duration": 27,
        "start_time": "2024-02-04T10:32:12.980Z"
      },
      {
        "duration": 3,
        "start_time": "2024-02-04T10:32:30.405Z"
      },
      {
        "duration": 24,
        "start_time": "2024-02-04T10:32:37.175Z"
      },
      {
        "duration": 19,
        "start_time": "2024-02-04T10:35:27.772Z"
      },
      {
        "duration": 175,
        "start_time": "2024-02-04T11:20:27.204Z"
      },
      {
        "duration": 11,
        "start_time": "2024-02-04T11:21:11.857Z"
      },
      {
        "duration": 1558,
        "start_time": "2024-02-05T04:55:08.857Z"
      },
      {
        "duration": 1556,
        "start_time": "2024-02-05T04:55:10.417Z"
      },
      {
        "duration": 18,
        "start_time": "2024-02-05T04:55:11.975Z"
      },
      {
        "duration": 48,
        "start_time": "2024-02-05T04:55:11.996Z"
      },
      {
        "duration": 120,
        "start_time": "2024-02-05T04:55:12.045Z"
      },
      {
        "duration": 4,
        "start_time": "2024-02-05T04:55:12.166Z"
      },
      {
        "duration": 42,
        "start_time": "2024-02-05T04:55:12.171Z"
      },
      {
        "duration": 4,
        "start_time": "2024-02-05T04:55:12.214Z"
      },
      {
        "duration": 41,
        "start_time": "2024-02-05T04:55:12.219Z"
      },
      {
        "duration": 197,
        "start_time": "2024-02-05T04:55:12.265Z"
      },
      {
        "duration": 106,
        "start_time": "2024-02-05T04:55:12.464Z"
      },
      {
        "duration": 188,
        "start_time": "2024-02-05T04:55:12.572Z"
      },
      {
        "duration": 97,
        "start_time": "2024-02-05T04:55:12.763Z"
      },
      {
        "duration": 11,
        "start_time": "2024-02-05T04:55:12.862Z"
      },
      {
        "duration": 114,
        "start_time": "2024-02-05T04:55:12.875Z"
      },
      {
        "duration": 0,
        "start_time": "2024-02-05T04:55:12.991Z"
      },
      {
        "duration": 0,
        "start_time": "2024-02-05T04:55:12.993Z"
      },
      {
        "duration": 0,
        "start_time": "2024-02-05T04:55:12.994Z"
      },
      {
        "duration": 0,
        "start_time": "2024-02-05T04:55:12.995Z"
      },
      {
        "duration": 0,
        "start_time": "2024-02-05T04:55:12.997Z"
      },
      {
        "duration": 0,
        "start_time": "2024-02-05T04:55:12.998Z"
      },
      {
        "duration": 0,
        "start_time": "2024-02-05T04:55:13.000Z"
      },
      {
        "duration": 0,
        "start_time": "2024-02-05T04:55:13.001Z"
      },
      {
        "duration": 12,
        "start_time": "2024-02-05T05:02:06.896Z"
      },
      {
        "duration": 13,
        "start_time": "2024-02-05T05:02:24.067Z"
      },
      {
        "duration": 6,
        "start_time": "2024-02-05T05:05:16.552Z"
      },
      {
        "duration": 14,
        "start_time": "2024-02-05T05:05:55.699Z"
      },
      {
        "duration": 13,
        "start_time": "2024-02-05T05:23:48.099Z"
      },
      {
        "duration": 11,
        "start_time": "2024-02-05T05:24:51.991Z"
      },
      {
        "duration": 5,
        "start_time": "2024-02-05T05:25:02.630Z"
      },
      {
        "duration": 6,
        "start_time": "2024-02-05T05:25:29.321Z"
      },
      {
        "duration": 10,
        "start_time": "2024-02-05T05:25:49.995Z"
      },
      {
        "duration": 10,
        "start_time": "2024-02-05T05:26:01.552Z"
      },
      {
        "duration": 12,
        "start_time": "2024-02-05T05:26:29.427Z"
      },
      {
        "duration": 3,
        "start_time": "2024-02-05T05:26:40.977Z"
      },
      {
        "duration": 7,
        "start_time": "2024-02-05T05:26:51.946Z"
      },
      {
        "duration": 13,
        "start_time": "2024-02-05T05:27:12.156Z"
      },
      {
        "duration": 12,
        "start_time": "2024-02-05T05:27:46.880Z"
      },
      {
        "duration": 6,
        "start_time": "2024-02-05T05:28:19.829Z"
      },
      {
        "duration": 13,
        "start_time": "2024-02-05T05:28:27.471Z"
      },
      {
        "duration": 9,
        "start_time": "2024-02-05T05:30:24.382Z"
      },
      {
        "duration": 3,
        "start_time": "2024-02-05T05:30:29.608Z"
      },
      {
        "duration": 10,
        "start_time": "2024-02-05T05:30:30.924Z"
      },
      {
        "duration": 6,
        "start_time": "2024-02-05T05:30:32.633Z"
      },
      {
        "duration": 17,
        "start_time": "2024-02-05T05:37:45.405Z"
      },
      {
        "duration": 11,
        "start_time": "2024-02-05T05:38:30.034Z"
      },
      {
        "duration": 6,
        "start_time": "2024-02-05T05:39:23.922Z"
      },
      {
        "duration": 9,
        "start_time": "2024-02-05T05:43:53.599Z"
      },
      {
        "duration": 9,
        "start_time": "2024-02-05T05:44:07.935Z"
      },
      {
        "duration": 22,
        "start_time": "2024-02-05T05:45:19.084Z"
      },
      {
        "duration": 4,
        "start_time": "2024-02-05T05:45:29.663Z"
      },
      {
        "duration": 323,
        "start_time": "2024-02-05T05:58:34.543Z"
      },
      {
        "duration": 392,
        "start_time": "2024-02-05T05:58:59.283Z"
      },
      {
        "duration": 11,
        "start_time": "2024-02-05T05:59:29.003Z"
      },
      {
        "duration": 318,
        "start_time": "2024-02-05T06:00:05.255Z"
      },
      {
        "duration": 885,
        "start_time": "2024-02-05T06:01:04.990Z"
      },
      {
        "duration": 844,
        "start_time": "2024-02-05T06:01:20.076Z"
      },
      {
        "duration": 866,
        "start_time": "2024-02-05T06:01:38.362Z"
      },
      {
        "duration": 915,
        "start_time": "2024-02-05T06:02:13.427Z"
      },
      {
        "duration": 1055,
        "start_time": "2024-02-05T06:02:36.364Z"
      },
      {
        "duration": 952,
        "start_time": "2024-02-05T06:02:45.771Z"
      },
      {
        "duration": 11,
        "start_time": "2024-02-05T06:09:43.691Z"
      },
      {
        "duration": 3,
        "start_time": "2024-02-05T06:10:14.447Z"
      },
      {
        "duration": 30,
        "start_time": "2024-02-05T06:11:12.203Z"
      },
      {
        "duration": 12,
        "start_time": "2024-02-05T06:11:17.859Z"
      },
      {
        "duration": 11,
        "start_time": "2024-02-05T06:11:19.609Z"
      },
      {
        "duration": 13,
        "start_time": "2024-02-05T06:11:20.661Z"
      },
      {
        "duration": 10,
        "start_time": "2024-02-05T06:11:22.349Z"
      },
      {
        "duration": 6,
        "start_time": "2024-02-05T06:11:23.488Z"
      },
      {
        "duration": 5,
        "start_time": "2024-02-05T06:11:23.690Z"
      },
      {
        "duration": 5,
        "start_time": "2024-02-05T06:11:24.043Z"
      },
      {
        "duration": 3,
        "start_time": "2024-02-05T06:11:27.271Z"
      },
      {
        "duration": 8,
        "start_time": "2024-02-05T06:11:27.818Z"
      },
      {
        "duration": 4,
        "start_time": "2024-02-05T06:11:37.175Z"
      },
      {
        "duration": 472,
        "start_time": "2024-02-05T06:11:37.181Z"
      },
      {
        "duration": 12,
        "start_time": "2024-02-05T06:11:37.654Z"
      },
      {
        "duration": 37,
        "start_time": "2024-02-05T06:11:37.667Z"
      },
      {
        "duration": 123,
        "start_time": "2024-02-05T06:11:37.706Z"
      },
      {
        "duration": 935,
        "start_time": "2024-02-05T06:11:37.831Z"
      },
      {
        "duration": 4,
        "start_time": "2024-02-05T06:11:38.767Z"
      },
      {
        "duration": 27,
        "start_time": "2024-02-05T06:11:38.772Z"
      },
      {
        "duration": 3,
        "start_time": "2024-02-05T06:11:38.800Z"
      },
      {
        "duration": 25,
        "start_time": "2024-02-05T06:11:38.805Z"
      },
      {
        "duration": 33,
        "start_time": "2024-02-05T06:11:38.832Z"
      },
      {
        "duration": 94,
        "start_time": "2024-02-05T06:11:38.867Z"
      },
      {
        "duration": 99,
        "start_time": "2024-02-05T06:11:38.963Z"
      },
      {
        "duration": 195,
        "start_time": "2024-02-05T06:11:39.065Z"
      },
      {
        "duration": 8,
        "start_time": "2024-02-05T06:11:39.262Z"
      },
      {
        "duration": 87,
        "start_time": "2024-02-05T06:11:39.273Z"
      },
      {
        "duration": 6,
        "start_time": "2024-02-05T06:11:39.362Z"
      },
      {
        "duration": 3,
        "start_time": "2024-02-05T06:11:39.370Z"
      },
      {
        "duration": 9,
        "start_time": "2024-02-05T06:11:39.374Z"
      },
      {
        "duration": 0,
        "start_time": "2024-02-05T06:11:39.385Z"
      },
      {
        "duration": 0,
        "start_time": "2024-02-05T06:11:39.386Z"
      },
      {
        "duration": 0,
        "start_time": "2024-02-05T06:11:39.387Z"
      },
      {
        "duration": 4,
        "start_time": "2024-02-05T06:15:36.252Z"
      },
      {
        "duration": 3,
        "start_time": "2024-02-05T06:15:41.311Z"
      },
      {
        "duration": 19,
        "start_time": "2024-02-05T06:15:45.824Z"
      },
      {
        "duration": 15,
        "start_time": "2024-02-05T06:19:48.783Z"
      },
      {
        "duration": 17,
        "start_time": "2024-02-05T06:19:50.770Z"
      },
      {
        "duration": 12,
        "start_time": "2024-02-05T06:19:51.965Z"
      },
      {
        "duration": 17,
        "start_time": "2024-02-05T06:19:53.621Z"
      },
      {
        "duration": 12,
        "start_time": "2024-02-05T06:19:59.913Z"
      },
      {
        "duration": 4,
        "start_time": "2024-02-05T06:20:02.333Z"
      },
      {
        "duration": 4,
        "start_time": "2024-02-05T06:20:03.442Z"
      },
      {
        "duration": 5,
        "start_time": "2024-02-05T06:20:04.142Z"
      },
      {
        "duration": 3,
        "start_time": "2024-02-05T06:20:06.544Z"
      },
      {
        "duration": 4,
        "start_time": "2024-02-05T06:20:07.145Z"
      },
      {
        "duration": 4,
        "start_time": "2024-02-05T06:20:09.146Z"
      },
      {
        "duration": 19,
        "start_time": "2024-02-05T06:20:10.893Z"
      },
      {
        "duration": 3,
        "start_time": "2024-02-05T06:20:50.455Z"
      },
      {
        "duration": 378,
        "start_time": "2024-02-05T06:20:50.459Z"
      },
      {
        "duration": 11,
        "start_time": "2024-02-05T06:20:50.839Z"
      },
      {
        "duration": 51,
        "start_time": "2024-02-05T06:20:50.851Z"
      },
      {
        "duration": 106,
        "start_time": "2024-02-05T06:20:50.904Z"
      },
      {
        "duration": 955,
        "start_time": "2024-02-05T06:20:51.011Z"
      },
      {
        "duration": 4,
        "start_time": "2024-02-05T06:20:51.967Z"
      },
      {
        "duration": 31,
        "start_time": "2024-02-05T06:20:51.972Z"
      },
      {
        "duration": 4,
        "start_time": "2024-02-05T06:20:52.005Z"
      },
      {
        "duration": 27,
        "start_time": "2024-02-05T06:20:52.010Z"
      },
      {
        "duration": 36,
        "start_time": "2024-02-05T06:20:52.039Z"
      },
      {
        "duration": 187,
        "start_time": "2024-02-05T06:20:52.076Z"
      },
      {
        "duration": 103,
        "start_time": "2024-02-05T06:20:52.266Z"
      },
      {
        "duration": 102,
        "start_time": "2024-02-05T06:20:52.460Z"
      },
      {
        "duration": 94,
        "start_time": "2024-02-05T06:20:52.568Z"
      },
      {
        "duration": 5,
        "start_time": "2024-02-05T06:20:52.663Z"
      },
      {
        "duration": 7,
        "start_time": "2024-02-05T06:20:52.670Z"
      },
      {
        "duration": 3,
        "start_time": "2024-02-05T06:20:52.678Z"
      },
      {
        "duration": 6,
        "start_time": "2024-02-05T06:20:52.682Z"
      },
      {
        "duration": 6,
        "start_time": "2024-02-05T06:20:52.689Z"
      },
      {
        "duration": 19,
        "start_time": "2024-02-05T06:20:52.696Z"
      },
      {
        "duration": 1381,
        "start_time": "2024-02-05T06:25:06.169Z"
      },
      {
        "duration": 404,
        "start_time": "2024-02-05T06:25:07.552Z"
      },
      {
        "duration": 14,
        "start_time": "2024-02-05T06:25:07.958Z"
      },
      {
        "duration": 40,
        "start_time": "2024-02-05T06:25:07.974Z"
      },
      {
        "duration": 130,
        "start_time": "2024-02-05T06:25:08.016Z"
      },
      {
        "duration": 934,
        "start_time": "2024-02-05T06:25:08.148Z"
      },
      {
        "duration": 2,
        "start_time": "2024-02-05T06:25:09.084Z"
      },
      {
        "duration": 35,
        "start_time": "2024-02-05T06:25:09.088Z"
      },
      {
        "duration": 3,
        "start_time": "2024-02-05T06:25:09.124Z"
      },
      {
        "duration": 40,
        "start_time": "2024-02-05T06:25:09.129Z"
      },
      {
        "duration": 13,
        "start_time": "2024-02-05T06:25:09.171Z"
      },
      {
        "duration": 177,
        "start_time": "2024-02-05T06:25:09.185Z"
      },
      {
        "duration": 198,
        "start_time": "2024-02-05T06:25:09.364Z"
      },
      {
        "duration": 195,
        "start_time": "2024-02-05T06:25:09.567Z"
      },
      {
        "duration": 5,
        "start_time": "2024-02-05T06:25:09.858Z"
      },
      {
        "duration": 5,
        "start_time": "2024-02-05T06:25:09.865Z"
      },
      {
        "duration": 6,
        "start_time": "2024-02-05T06:25:09.872Z"
      },
      {
        "duration": 3,
        "start_time": "2024-02-05T06:25:09.879Z"
      },
      {
        "duration": 14,
        "start_time": "2024-02-05T06:25:09.883Z"
      },
      {
        "duration": 4,
        "start_time": "2024-02-05T06:25:09.898Z"
      },
      {
        "duration": 20,
        "start_time": "2024-02-05T06:25:09.903Z"
      },
      {
        "duration": 130,
        "start_time": "2024-02-05T06:25:09.924Z"
      },
      {
        "duration": 924,
        "start_time": "2024-02-05T06:39:32.415Z"
      },
      {
        "duration": 5,
        "start_time": "2024-02-05T07:57:58.236Z"
      },
      {
        "duration": 22,
        "start_time": "2024-02-05T07:58:09.690Z"
      },
      {
        "duration": 17,
        "start_time": "2024-02-05T08:08:15.804Z"
      },
      {
        "duration": 18,
        "start_time": "2024-02-05T08:09:02.193Z"
      },
      {
        "duration": 6,
        "start_time": "2024-02-05T08:37:21.828Z"
      },
      {
        "duration": 13,
        "start_time": "2024-02-05T08:38:10.712Z"
      },
      {
        "duration": 14,
        "start_time": "2024-02-05T08:38:18.510Z"
      },
      {
        "duration": 6,
        "start_time": "2024-02-05T08:38:29.357Z"
      },
      {
        "duration": 12,
        "start_time": "2024-02-05T08:38:31.646Z"
      },
      {
        "duration": 6,
        "start_time": "2024-02-05T08:39:23.018Z"
      },
      {
        "duration": 1107,
        "start_time": "2024-02-05T08:39:25.446Z"
      },
      {
        "duration": 1213,
        "start_time": "2024-02-05T08:39:55.215Z"
      },
      {
        "duration": 1100,
        "start_time": "2024-02-05T08:40:33.643Z"
      },
      {
        "duration": 9,
        "start_time": "2024-02-05T11:37:54.298Z"
      },
      {
        "duration": 44,
        "start_time": "2024-02-05T11:38:14.349Z"
      },
      {
        "duration": 1559,
        "start_time": "2024-02-05T11:45:02.392Z"
      },
      {
        "duration": 1582,
        "start_time": "2024-02-05T11:45:03.953Z"
      },
      {
        "duration": 16,
        "start_time": "2024-02-05T11:45:05.537Z"
      },
      {
        "duration": 47,
        "start_time": "2024-02-05T11:45:05.555Z"
      },
      {
        "duration": 116,
        "start_time": "2024-02-05T11:45:05.603Z"
      },
      {
        "duration": 968,
        "start_time": "2024-02-05T11:45:05.720Z"
      },
      {
        "duration": 4,
        "start_time": "2024-02-05T11:45:06.693Z"
      },
      {
        "duration": 77,
        "start_time": "2024-02-05T11:45:06.698Z"
      },
      {
        "duration": 13,
        "start_time": "2024-02-05T11:45:06.777Z"
      },
      {
        "duration": 25,
        "start_time": "2024-02-05T11:45:06.792Z"
      },
      {
        "duration": 12,
        "start_time": "2024-02-05T11:45:06.818Z"
      },
      {
        "duration": 104,
        "start_time": "2024-02-05T11:45:06.896Z"
      },
      {
        "duration": 99,
        "start_time": "2024-02-05T11:45:07.004Z"
      },
      {
        "duration": 188,
        "start_time": "2024-02-05T11:45:07.106Z"
      },
      {
        "duration": 95,
        "start_time": "2024-02-05T11:45:07.300Z"
      },
      {
        "duration": 6,
        "start_time": "2024-02-05T11:45:07.396Z"
      },
      {
        "duration": 5,
        "start_time": "2024-02-05T11:45:07.403Z"
      },
      {
        "duration": 9,
        "start_time": "2024-02-05T11:45:07.409Z"
      },
      {
        "duration": 22,
        "start_time": "2024-02-05T11:45:07.420Z"
      },
      {
        "duration": 31,
        "start_time": "2024-02-05T11:45:07.443Z"
      },
      {
        "duration": 58,
        "start_time": "2024-02-05T11:45:07.475Z"
      },
      {
        "duration": 5,
        "start_time": "2024-02-05T11:59:55.070Z"
      },
      {
        "duration": 72,
        "start_time": "2024-02-05T11:59:58.622Z"
      },
      {
        "duration": 5,
        "start_time": "2024-02-05T12:00:14.054Z"
      },
      {
        "duration": 950,
        "start_time": "2024-02-05T12:00:38.990Z"
      },
      {
        "duration": 2999,
        "start_time": "2024-02-05T12:14:38.192Z"
      },
      {
        "duration": 5,
        "start_time": "2024-02-05T12:14:54.542Z"
      },
      {
        "duration": 3455,
        "start_time": "2024-02-05T12:14:55.900Z"
      },
      {
        "duration": 7,
        "start_time": "2024-02-05T12:17:45.402Z"
      },
      {
        "duration": 3314,
        "start_time": "2024-02-05T12:17:46.041Z"
      },
      {
        "duration": 7,
        "start_time": "2024-02-05T12:19:24.909Z"
      },
      {
        "duration": 3000,
        "start_time": "2024-02-05T12:19:25.791Z"
      },
      {
        "duration": 6,
        "start_time": "2024-02-05T12:19:38.789Z"
      },
      {
        "duration": 2961,
        "start_time": "2024-02-05T12:19:39.136Z"
      },
      {
        "duration": 2902,
        "start_time": "2024-02-05T12:33:57.741Z"
      },
      {
        "duration": 2944,
        "start_time": "2024-02-05T12:34:21.931Z"
      },
      {
        "duration": 7,
        "start_time": "2024-02-05T12:34:51.703Z"
      },
      {
        "duration": 3006,
        "start_time": "2024-02-05T12:34:52.682Z"
      },
      {
        "duration": 5,
        "start_time": "2024-02-05T12:35:05.302Z"
      },
      {
        "duration": 5,
        "start_time": "2024-02-05T12:35:41.783Z"
      },
      {
        "duration": 2977,
        "start_time": "2024-02-05T12:35:49.899Z"
      },
      {
        "duration": 2938,
        "start_time": "2024-02-05T12:39:20.664Z"
      },
      {
        "duration": 6,
        "start_time": "2024-02-05T12:41:15.705Z"
      },
      {
        "duration": 3039,
        "start_time": "2024-02-05T12:41:16.002Z"
      },
      {
        "duration": 6,
        "start_time": "2024-02-05T12:41:49.045Z"
      },
      {
        "duration": 2940,
        "start_time": "2024-02-05T12:41:49.314Z"
      },
      {
        "duration": 5,
        "start_time": "2024-02-05T12:41:57.690Z"
      },
      {
        "duration": 2970,
        "start_time": "2024-02-05T12:42:00.575Z"
      },
      {
        "duration": 5,
        "start_time": "2024-02-05T12:42:08.345Z"
      },
      {
        "duration": 5,
        "start_time": "2024-02-05T12:42:59.339Z"
      },
      {
        "duration": 2998,
        "start_time": "2024-02-05T12:42:59.571Z"
      },
      {
        "duration": 5,
        "start_time": "2024-02-05T12:43:26.627Z"
      },
      {
        "duration": 3079,
        "start_time": "2024-02-05T12:43:29.294Z"
      },
      {
        "duration": 6,
        "start_time": "2024-02-05T12:44:00.948Z"
      },
      {
        "duration": 2995,
        "start_time": "2024-02-05T12:44:01.189Z"
      },
      {
        "duration": 6,
        "start_time": "2024-02-05T12:44:19.627Z"
      },
      {
        "duration": 6,
        "start_time": "2024-02-05T12:44:29.863Z"
      },
      {
        "duration": 2960,
        "start_time": "2024-02-05T12:44:30.167Z"
      },
      {
        "duration": 6,
        "start_time": "2024-02-05T12:44:45.788Z"
      },
      {
        "duration": 3130,
        "start_time": "2024-02-05T12:44:48.175Z"
      },
      {
        "duration": 5,
        "start_time": "2024-02-05T12:47:04.625Z"
      },
      {
        "duration": 2880,
        "start_time": "2024-02-05T12:47:05.000Z"
      },
      {
        "duration": 6,
        "start_time": "2024-02-05T12:53:13.698Z"
      },
      {
        "duration": 2900,
        "start_time": "2024-02-05T12:53:16.491Z"
      },
      {
        "duration": 2996,
        "start_time": "2024-02-05T12:56:53.043Z"
      },
      {
        "duration": 2953,
        "start_time": "2024-02-05T12:58:34.146Z"
      },
      {
        "duration": 6,
        "start_time": "2024-02-05T13:00:08.676Z"
      },
      {
        "duration": 2929,
        "start_time": "2024-02-05T13:00:11.307Z"
      },
      {
        "duration": 2891,
        "start_time": "2024-02-05T13:00:18.868Z"
      },
      {
        "duration": 3114,
        "start_time": "2024-02-05T13:00:53.295Z"
      },
      {
        "duration": 2911,
        "start_time": "2024-02-05T13:02:59.099Z"
      },
      {
        "duration": 2969,
        "start_time": "2024-02-05T13:04:06.040Z"
      },
      {
        "duration": 73,
        "start_time": "2024-02-05T13:08:12.018Z"
      },
      {
        "duration": 1377,
        "start_time": "2024-02-05T13:17:59.813Z"
      },
      {
        "duration": 409,
        "start_time": "2024-02-05T13:18:01.191Z"
      },
      {
        "duration": 14,
        "start_time": "2024-02-05T13:18:01.601Z"
      },
      {
        "duration": 104,
        "start_time": "2024-02-05T13:18:01.617Z"
      },
      {
        "duration": 179,
        "start_time": "2024-02-05T13:18:01.722Z"
      },
      {
        "duration": 992,
        "start_time": "2024-02-05T13:18:01.903Z"
      },
      {
        "duration": 3,
        "start_time": "2024-02-05T13:18:02.897Z"
      },
      {
        "duration": 78,
        "start_time": "2024-02-05T13:18:02.901Z"
      },
      {
        "duration": 12,
        "start_time": "2024-02-05T13:18:02.981Z"
      },
      {
        "duration": 54,
        "start_time": "2024-02-05T13:18:02.995Z"
      },
      {
        "duration": 12,
        "start_time": "2024-02-05T13:18:03.050Z"
      },
      {
        "duration": 139,
        "start_time": "2024-02-05T13:18:03.064Z"
      },
      {
        "duration": 208,
        "start_time": "2024-02-05T13:18:03.205Z"
      },
      {
        "duration": 106,
        "start_time": "2024-02-05T13:18:03.495Z"
      },
      {
        "duration": 194,
        "start_time": "2024-02-05T13:18:03.603Z"
      },
      {
        "duration": 70,
        "start_time": "2024-02-05T13:18:03.798Z"
      },
      {
        "duration": 39,
        "start_time": "2024-02-05T13:18:03.870Z"
      },
      {
        "duration": 27,
        "start_time": "2024-02-05T13:18:03.911Z"
      },
      {
        "duration": 53,
        "start_time": "2024-02-05T13:18:03.939Z"
      },
      {
        "duration": 38,
        "start_time": "2024-02-05T13:18:03.994Z"
      },
      {
        "duration": 71,
        "start_time": "2024-02-05T13:18:04.034Z"
      },
      {
        "duration": 20,
        "start_time": "2024-02-05T13:18:04.106Z"
      },
      {
        "duration": 2976,
        "start_time": "2024-02-05T13:18:04.128Z"
      },
      {
        "duration": 4,
        "start_time": "2024-02-05T13:23:34.214Z"
      },
      {
        "duration": 1359,
        "start_time": "2024-02-05T13:25:28.577Z"
      },
      {
        "duration": 391,
        "start_time": "2024-02-05T13:25:29.938Z"
      },
      {
        "duration": 14,
        "start_time": "2024-02-05T13:25:30.331Z"
      },
      {
        "duration": 75,
        "start_time": "2024-02-05T13:25:30.347Z"
      },
      {
        "duration": 131,
        "start_time": "2024-02-05T13:25:30.423Z"
      },
      {
        "duration": 1012,
        "start_time": "2024-02-05T13:25:30.556Z"
      },
      {
        "duration": 3,
        "start_time": "2024-02-05T13:25:31.570Z"
      },
      {
        "duration": 71,
        "start_time": "2024-02-05T13:25:31.575Z"
      },
      {
        "duration": 32,
        "start_time": "2024-02-05T13:25:31.647Z"
      },
      {
        "duration": 64,
        "start_time": "2024-02-05T13:25:31.681Z"
      },
      {
        "duration": 59,
        "start_time": "2024-02-05T13:25:31.746Z"
      },
      {
        "duration": 187,
        "start_time": "2024-02-05T13:25:31.810Z"
      },
      {
        "duration": 114,
        "start_time": "2024-02-05T13:25:31.999Z"
      },
      {
        "duration": 103,
        "start_time": "2024-02-05T13:25:32.195Z"
      },
      {
        "duration": 94,
        "start_time": "2024-02-05T13:25:32.303Z"
      },
      {
        "duration": 19,
        "start_time": "2024-02-05T13:25:32.399Z"
      },
      {
        "duration": 15,
        "start_time": "2024-02-05T13:25:32.420Z"
      },
      {
        "duration": 5,
        "start_time": "2024-02-05T13:25:32.437Z"
      },
      {
        "duration": 9,
        "start_time": "2024-02-05T13:25:32.443Z"
      },
      {
        "duration": 27,
        "start_time": "2024-02-05T13:25:32.453Z"
      },
      {
        "duration": 84,
        "start_time": "2024-02-05T13:25:32.482Z"
      },
      {
        "duration": 9,
        "start_time": "2024-02-05T13:25:32.567Z"
      },
      {
        "duration": 2895,
        "start_time": "2024-02-05T13:25:32.577Z"
      },
      {
        "duration": 16,
        "start_time": "2024-02-05T13:28:47.506Z"
      },
      {
        "duration": 4,
        "start_time": "2024-02-05T13:29:12.953Z"
      },
      {
        "duration": 390,
        "start_time": "2024-02-05T13:29:12.958Z"
      },
      {
        "duration": 12,
        "start_time": "2024-02-05T13:29:13.349Z"
      },
      {
        "duration": 83,
        "start_time": "2024-02-05T13:29:13.362Z"
      },
      {
        "duration": 126,
        "start_time": "2024-02-05T13:29:13.447Z"
      },
      {
        "duration": 1044,
        "start_time": "2024-02-05T13:29:13.574Z"
      },
      {
        "duration": 3,
        "start_time": "2024-02-05T13:29:14.619Z"
      },
      {
        "duration": 71,
        "start_time": "2024-02-05T13:29:14.624Z"
      },
      {
        "duration": 4,
        "start_time": "2024-02-05T13:29:14.697Z"
      },
      {
        "duration": 40,
        "start_time": "2024-02-05T13:29:14.702Z"
      },
      {
        "duration": 54,
        "start_time": "2024-02-05T13:29:14.744Z"
      },
      {
        "duration": 98,
        "start_time": "2024-02-05T13:29:14.800Z"
      },
      {
        "duration": 201,
        "start_time": "2024-02-05T13:29:14.902Z"
      },
      {
        "duration": 194,
        "start_time": "2024-02-05T13:29:15.105Z"
      },
      {
        "duration": 93,
        "start_time": "2024-02-05T13:29:15.302Z"
      },
      {
        "duration": 150,
        "start_time": "2024-02-05T13:29:15.397Z"
      },
      {
        "duration": 32,
        "start_time": "2024-02-05T13:29:15.549Z"
      },
      {
        "duration": 30,
        "start_time": "2024-02-05T13:29:15.582Z"
      },
      {
        "duration": 36,
        "start_time": "2024-02-05T13:29:15.613Z"
      },
      {
        "duration": 27,
        "start_time": "2024-02-05T13:29:15.650Z"
      },
      {
        "duration": 35,
        "start_time": "2024-02-05T13:29:15.679Z"
      },
      {
        "duration": 12,
        "start_time": "2024-02-05T13:29:15.716Z"
      },
      {
        "duration": 2959,
        "start_time": "2024-02-05T13:29:15.729Z"
      },
      {
        "duration": 4,
        "start_time": "2024-02-05T13:38:50.186Z"
      },
      {
        "duration": 413,
        "start_time": "2024-02-05T13:38:50.192Z"
      },
      {
        "duration": 12,
        "start_time": "2024-02-05T13:38:50.607Z"
      },
      {
        "duration": 54,
        "start_time": "2024-02-05T13:38:50.620Z"
      },
      {
        "duration": 136,
        "start_time": "2024-02-05T13:38:50.676Z"
      },
      {
        "duration": 962,
        "start_time": "2024-02-05T13:38:50.814Z"
      },
      {
        "duration": 3,
        "start_time": "2024-02-05T13:38:51.778Z"
      },
      {
        "duration": 63,
        "start_time": "2024-02-05T13:38:51.782Z"
      },
      {
        "duration": 17,
        "start_time": "2024-02-05T13:38:51.847Z"
      },
      {
        "duration": 45,
        "start_time": "2024-02-05T13:38:51.865Z"
      },
      {
        "duration": 186,
        "start_time": "2024-02-05T13:38:51.912Z"
      },
      {
        "duration": 193,
        "start_time": "2024-02-05T13:38:52.103Z"
      },
      {
        "duration": 107,
        "start_time": "2024-02-05T13:38:52.298Z"
      },
      {
        "duration": 187,
        "start_time": "2024-02-05T13:38:52.407Z"
      },
      {
        "duration": 31,
        "start_time": "2024-02-05T13:38:52.597Z"
      },
      {
        "duration": 27,
        "start_time": "2024-02-05T13:38:52.630Z"
      },
      {
        "duration": 29,
        "start_time": "2024-02-05T13:38:52.659Z"
      },
      {
        "duration": 39,
        "start_time": "2024-02-05T13:38:52.689Z"
      },
      {
        "duration": 23,
        "start_time": "2024-02-05T13:38:52.731Z"
      },
      {
        "duration": 38,
        "start_time": "2024-02-05T13:38:52.757Z"
      },
      {
        "duration": 33,
        "start_time": "2024-02-05T13:38:52.796Z"
      },
      {
        "duration": 2967,
        "start_time": "2024-02-05T13:38:52.831Z"
      },
      {
        "duration": 3,
        "start_time": "2024-02-05T13:40:38.544Z"
      },
      {
        "duration": 408,
        "start_time": "2024-02-05T13:40:38.549Z"
      },
      {
        "duration": 12,
        "start_time": "2024-02-05T13:40:38.958Z"
      },
      {
        "duration": 51,
        "start_time": "2024-02-05T13:40:38.972Z"
      },
      {
        "duration": 121,
        "start_time": "2024-02-05T13:40:39.025Z"
      },
      {
        "duration": 954,
        "start_time": "2024-02-05T13:40:39.148Z"
      },
      {
        "duration": 3,
        "start_time": "2024-02-05T13:40:40.104Z"
      },
      {
        "duration": 50,
        "start_time": "2024-02-05T13:40:40.108Z"
      },
      {
        "duration": 24,
        "start_time": "2024-02-05T13:40:40.160Z"
      },
      {
        "duration": 43,
        "start_time": "2024-02-05T13:40:40.185Z"
      },
      {
        "duration": 176,
        "start_time": "2024-02-05T13:40:40.230Z"
      },
      {
        "duration": 199,
        "start_time": "2024-02-05T13:40:40.409Z"
      },
      {
        "duration": 191,
        "start_time": "2024-02-05T13:40:40.612Z"
      },
      {
        "duration": 97,
        "start_time": "2024-02-05T13:40:40.897Z"
      },
      {
        "duration": 5,
        "start_time": "2024-02-05T13:40:40.996Z"
      },
      {
        "duration": 69,
        "start_time": "2024-02-05T13:40:41.002Z"
      },
      {
        "duration": 23,
        "start_time": "2024-02-05T13:40:41.073Z"
      },
      {
        "duration": 19,
        "start_time": "2024-02-05T13:40:41.098Z"
      },
      {
        "duration": 14,
        "start_time": "2024-02-05T13:40:41.119Z"
      },
      {
        "duration": 30,
        "start_time": "2024-02-05T13:40:41.134Z"
      },
      {
        "duration": 12,
        "start_time": "2024-02-05T13:40:41.166Z"
      },
      {
        "duration": 2914,
        "start_time": "2024-02-05T13:40:41.180Z"
      },
      {
        "duration": 25,
        "start_time": "2024-02-05T13:44:05.649Z"
      },
      {
        "duration": 4,
        "start_time": "2024-02-05T13:44:11.898Z"
      },
      {
        "duration": 402,
        "start_time": "2024-02-05T13:44:13.106Z"
      },
      {
        "duration": 11,
        "start_time": "2024-02-05T13:44:13.510Z"
      },
      {
        "duration": 46,
        "start_time": "2024-02-05T13:44:13.523Z"
      },
      {
        "duration": 126,
        "start_time": "2024-02-05T13:44:14.056Z"
      },
      {
        "duration": 964,
        "start_time": "2024-02-05T13:44:14.184Z"
      },
      {
        "duration": 3,
        "start_time": "2024-02-05T13:44:15.150Z"
      },
      {
        "duration": 48,
        "start_time": "2024-02-05T13:44:15.154Z"
      },
      {
        "duration": 4,
        "start_time": "2024-02-05T13:44:15.203Z"
      },
      {
        "duration": 24,
        "start_time": "2024-02-05T13:44:15.675Z"
      },
      {
        "duration": 18,
        "start_time": "2024-02-05T13:44:16.085Z"
      },
      {
        "duration": 12,
        "start_time": "2024-02-05T13:44:16.295Z"
      },
      {
        "duration": 11,
        "start_time": "2024-02-05T13:44:16.939Z"
      },
      {
        "duration": 10,
        "start_time": "2024-02-05T13:44:17.531Z"
      },
      {
        "duration": 5,
        "start_time": "2024-02-05T13:44:18.033Z"
      },
      {
        "duration": 6,
        "start_time": "2024-02-05T13:44:18.210Z"
      },
      {
        "duration": 5,
        "start_time": "2024-02-05T13:44:18.550Z"
      },
      {
        "duration": 2,
        "start_time": "2024-02-05T13:44:23.547Z"
      },
      {
        "duration": 4,
        "start_time": "2024-02-05T13:44:24.111Z"
      },
      {
        "duration": 4,
        "start_time": "2024-02-05T13:44:24.336Z"
      },
      {
        "duration": 18,
        "start_time": "2024-02-05T13:44:24.414Z"
      },
      {
        "duration": 6,
        "start_time": "2024-02-05T13:44:24.521Z"
      },
      {
        "duration": 2933,
        "start_time": "2024-02-05T13:44:24.559Z"
      },
      {
        "duration": 1398,
        "start_time": "2024-02-05T13:44:48.362Z"
      },
      {
        "duration": 387,
        "start_time": "2024-02-05T13:44:49.763Z"
      },
      {
        "duration": 14,
        "start_time": "2024-02-05T13:44:50.152Z"
      },
      {
        "duration": 65,
        "start_time": "2024-02-05T13:44:50.168Z"
      },
      {
        "duration": 116,
        "start_time": "2024-02-05T13:44:50.235Z"
      },
      {
        "duration": 978,
        "start_time": "2024-02-05T13:44:50.353Z"
      },
      {
        "duration": 3,
        "start_time": "2024-02-05T13:44:51.333Z"
      },
      {
        "duration": 39,
        "start_time": "2024-02-05T13:44:51.337Z"
      },
      {
        "duration": 4,
        "start_time": "2024-02-05T13:44:51.377Z"
      },
      {
        "duration": 32,
        "start_time": "2024-02-05T13:44:51.395Z"
      },
      {
        "duration": 14,
        "start_time": "2024-02-05T13:44:51.432Z"
      },
      {
        "duration": 102,
        "start_time": "2024-02-05T13:44:51.498Z"
      },
      {
        "duration": 13,
        "start_time": "2024-02-05T13:44:51.694Z"
      },
      {
        "duration": 202,
        "start_time": "2024-02-05T13:44:51.709Z"
      },
      {
        "duration": 181,
        "start_time": "2024-02-05T13:44:51.913Z"
      },
      {
        "duration": 39,
        "start_time": "2024-02-05T13:44:52.096Z"
      },
      {
        "duration": 21,
        "start_time": "2024-02-05T13:44:52.137Z"
      },
      {
        "duration": 14,
        "start_time": "2024-02-05T13:44:52.160Z"
      },
      {
        "duration": 26,
        "start_time": "2024-02-05T13:44:52.176Z"
      },
      {
        "duration": 6,
        "start_time": "2024-02-05T13:44:52.203Z"
      },
      {
        "duration": 44,
        "start_time": "2024-02-05T13:44:52.210Z"
      },
      {
        "duration": 20,
        "start_time": "2024-02-05T13:44:52.255Z"
      },
      {
        "duration": 2850,
        "start_time": "2024-02-05T13:44:52.276Z"
      },
      {
        "duration": 5,
        "start_time": "2024-02-05T13:52:05.977Z"
      },
      {
        "duration": 5,
        "start_time": "2024-02-05T13:52:06.755Z"
      },
      {
        "duration": 5,
        "start_time": "2024-02-05T13:52:07.507Z"
      },
      {
        "duration": 1386,
        "start_time": "2024-02-05T13:57:39.871Z"
      },
      {
        "duration": 391,
        "start_time": "2024-02-05T13:57:41.259Z"
      },
      {
        "duration": 14,
        "start_time": "2024-02-05T13:57:41.651Z"
      },
      {
        "duration": 68,
        "start_time": "2024-02-05T13:57:41.666Z"
      },
      {
        "duration": 119,
        "start_time": "2024-02-05T13:57:41.737Z"
      },
      {
        "duration": 948,
        "start_time": "2024-02-05T13:57:41.858Z"
      },
      {
        "duration": 4,
        "start_time": "2024-02-05T13:57:42.807Z"
      },
      {
        "duration": 65,
        "start_time": "2024-02-05T13:57:42.812Z"
      },
      {
        "duration": 31,
        "start_time": "2024-02-05T13:57:42.878Z"
      },
      {
        "duration": 57,
        "start_time": "2024-02-05T13:57:42.911Z"
      },
      {
        "duration": 20,
        "start_time": "2024-02-05T13:57:42.969Z"
      },
      {
        "duration": 198,
        "start_time": "2024-02-05T13:57:42.997Z"
      },
      {
        "duration": 105,
        "start_time": "2024-02-05T13:57:43.200Z"
      },
      {
        "duration": 195,
        "start_time": "2024-02-05T13:57:43.310Z"
      },
      {
        "duration": 203,
        "start_time": "2024-02-05T13:57:43.507Z"
      },
      {
        "duration": 51,
        "start_time": "2024-02-05T13:57:43.711Z"
      },
      {
        "duration": 23,
        "start_time": "2024-02-05T13:57:43.763Z"
      },
      {
        "duration": 34,
        "start_time": "2024-02-05T13:57:43.788Z"
      },
      {
        "duration": 36,
        "start_time": "2024-02-05T13:57:43.824Z"
      },
      {
        "duration": 28,
        "start_time": "2024-02-05T13:57:43.862Z"
      },
      {
        "duration": 57,
        "start_time": "2024-02-05T13:57:43.892Z"
      },
      {
        "duration": 28,
        "start_time": "2024-02-05T13:57:43.951Z"
      },
      {
        "duration": 2855,
        "start_time": "2024-02-05T13:57:43.980Z"
      },
      {
        "duration": 18,
        "start_time": "2024-02-05T14:57:09.441Z"
      },
      {
        "duration": 13,
        "start_time": "2024-02-05T15:06:52.192Z"
      },
      {
        "duration": 20,
        "start_time": "2024-02-05T15:07:26.670Z"
      },
      {
        "duration": 23,
        "start_time": "2024-02-05T15:07:41.207Z"
      },
      {
        "duration": 145,
        "start_time": "2024-02-05T15:10:50.212Z"
      },
      {
        "duration": 25,
        "start_time": "2024-02-05T15:11:02.327Z"
      },
      {
        "duration": 28,
        "start_time": "2024-02-05T15:11:13.226Z"
      },
      {
        "duration": 52,
        "start_time": "2024-02-05T15:11:30.288Z"
      },
      {
        "duration": 994,
        "start_time": "2024-02-05T15:15:27.181Z"
      },
      {
        "duration": 61,
        "start_time": "2024-02-05T15:16:55.626Z"
      },
      {
        "duration": 980,
        "start_time": "2024-02-05T15:16:59.721Z"
      },
      {
        "duration": 1001,
        "start_time": "2024-02-05T15:18:08.015Z"
      },
      {
        "duration": 68,
        "start_time": "2024-02-05T15:18:26.920Z"
      },
      {
        "duration": 1182,
        "start_time": "2024-02-05T15:18:43.861Z"
      },
      {
        "duration": 1046,
        "start_time": "2024-02-05T15:19:40.523Z"
      },
      {
        "duration": 6,
        "start_time": "2024-02-05T15:21:40.222Z"
      },
      {
        "duration": 107,
        "start_time": "2024-02-05T15:21:50.227Z"
      },
      {
        "duration": 22,
        "start_time": "2024-02-05T15:22:00.760Z"
      },
      {
        "duration": 16,
        "start_time": "2024-02-05T15:22:05.393Z"
      },
      {
        "duration": 28,
        "start_time": "2024-02-05T15:22:17.033Z"
      },
      {
        "duration": 48,
        "start_time": "2024-02-05T15:22:23.349Z"
      },
      {
        "duration": 20,
        "start_time": "2024-02-05T15:25:50.130Z"
      },
      {
        "duration": 21,
        "start_time": "2024-02-05T15:25:58.508Z"
      },
      {
        "duration": 13,
        "start_time": "2024-02-05T15:26:01.068Z"
      },
      {
        "duration": 17,
        "start_time": "2024-02-05T15:26:11.819Z"
      },
      {
        "duration": 32,
        "start_time": "2024-02-05T15:26:33.371Z"
      },
      {
        "duration": 28,
        "start_time": "2024-02-05T15:26:40.239Z"
      },
      {
        "duration": 26,
        "start_time": "2024-02-05T15:26:54.084Z"
      },
      {
        "duration": 22,
        "start_time": "2024-02-05T15:27:07.897Z"
      },
      {
        "duration": 17,
        "start_time": "2024-02-05T15:27:11.717Z"
      },
      {
        "duration": 27,
        "start_time": "2024-02-05T15:27:20.141Z"
      },
      {
        "duration": 43,
        "start_time": "2024-02-05T15:27:32.152Z"
      },
      {
        "duration": 35,
        "start_time": "2024-02-05T15:27:38.087Z"
      },
      {
        "duration": 40,
        "start_time": "2024-02-05T15:28:06.219Z"
      },
      {
        "duration": 11,
        "start_time": "2024-02-05T15:32:30.911Z"
      },
      {
        "duration": 14,
        "start_time": "2024-02-05T15:32:45.919Z"
      },
      {
        "duration": 12,
        "start_time": "2024-02-05T15:32:49.897Z"
      },
      {
        "duration": 159,
        "start_time": "2024-02-05T15:33:17.406Z"
      },
      {
        "duration": 149,
        "start_time": "2024-02-05T15:33:24.262Z"
      },
      {
        "duration": 154,
        "start_time": "2024-02-05T15:35:10.472Z"
      },
      {
        "duration": 171,
        "start_time": "2024-02-05T15:35:19.839Z"
      },
      {
        "duration": 4,
        "start_time": "2024-02-05T15:35:35.678Z"
      },
      {
        "duration": 437,
        "start_time": "2024-02-05T15:35:35.683Z"
      },
      {
        "duration": 22,
        "start_time": "2024-02-05T15:35:36.121Z"
      },
      {
        "duration": 57,
        "start_time": "2024-02-05T15:35:36.145Z"
      },
      {
        "duration": 38,
        "start_time": "2024-02-05T15:35:36.203Z"
      },
      {
        "duration": 138,
        "start_time": "2024-02-05T15:35:36.243Z"
      },
      {
        "duration": 1084,
        "start_time": "2024-02-05T15:35:36.382Z"
      },
      {
        "duration": 62,
        "start_time": "2024-02-05T15:35:37.468Z"
      },
      {
        "duration": 104,
        "start_time": "2024-02-05T15:35:37.532Z"
      },
      {
        "duration": 38,
        "start_time": "2024-02-05T15:35:37.637Z"
      },
      {
        "duration": 265,
        "start_time": "2024-02-05T15:35:40.098Z"
      },
      {
        "duration": 163,
        "start_time": "2024-02-05T15:35:47.547Z"
      },
      {
        "duration": 187,
        "start_time": "2024-02-05T15:35:52.758Z"
      },
      {
        "duration": 186,
        "start_time": "2024-02-05T15:35:55.814Z"
      },
      {
        "duration": 202,
        "start_time": "2024-02-05T15:35:59.171Z"
      },
      {
        "duration": 261,
        "start_time": "2024-02-05T15:36:03.882Z"
      },
      {
        "duration": 213,
        "start_time": "2024-02-05T15:36:13.978Z"
      },
      {
        "duration": 161,
        "start_time": "2024-02-05T15:36:18.022Z"
      },
      {
        "duration": 197,
        "start_time": "2024-02-05T15:36:23.301Z"
      },
      {
        "duration": 297,
        "start_time": "2024-02-05T15:37:03.871Z"
      },
      {
        "duration": 188,
        "start_time": "2024-02-05T15:37:17.569Z"
      },
      {
        "duration": 166,
        "start_time": "2024-02-05T15:37:28.462Z"
      },
      {
        "duration": 3,
        "start_time": "2024-02-05T15:37:35.548Z"
      },
      {
        "duration": 404,
        "start_time": "2024-02-05T15:37:35.553Z"
      },
      {
        "duration": 23,
        "start_time": "2024-02-05T15:37:35.958Z"
      },
      {
        "duration": 45,
        "start_time": "2024-02-05T15:37:35.983Z"
      },
      {
        "duration": 68,
        "start_time": "2024-02-05T15:37:36.030Z"
      },
      {
        "duration": 121,
        "start_time": "2024-02-05T15:37:36.099Z"
      },
      {
        "duration": 1112,
        "start_time": "2024-02-05T15:37:36.221Z"
      },
      {
        "duration": 43,
        "start_time": "2024-02-05T15:37:37.334Z"
      },
      {
        "duration": 69,
        "start_time": "2024-02-05T15:37:37.379Z"
      },
      {
        "duration": 53,
        "start_time": "2024-02-05T15:37:37.450Z"
      },
      {
        "duration": 202,
        "start_time": "2024-02-05T15:37:37.505Z"
      },
      {
        "duration": 178,
        "start_time": "2024-02-05T15:37:37.709Z"
      },
      {
        "duration": 195,
        "start_time": "2024-02-05T15:37:37.893Z"
      },
      {
        "duration": 162,
        "start_time": "2024-02-05T15:38:09.842Z"
      },
      {
        "duration": 172,
        "start_time": "2024-02-05T15:38:15.236Z"
      },
      {
        "duration": 299,
        "start_time": "2024-02-05T15:38:19.399Z"
      },
      {
        "duration": 177,
        "start_time": "2024-02-05T15:39:29.518Z"
      },
      {
        "duration": 165,
        "start_time": "2024-02-05T15:39:32.871Z"
      },
      {
        "duration": 166,
        "start_time": "2024-02-05T15:39:37.652Z"
      },
      {
        "duration": 15,
        "start_time": "2024-02-05T15:42:14.801Z"
      },
      {
        "duration": 248,
        "start_time": "2024-02-05T15:43:06.011Z"
      },
      {
        "duration": 272,
        "start_time": "2024-02-05T15:43:23.886Z"
      },
      {
        "duration": 247,
        "start_time": "2024-02-05T15:45:25.407Z"
      },
      {
        "duration": 251,
        "start_time": "2024-02-05T15:45:37.798Z"
      },
      {
        "duration": 67,
        "start_time": "2024-02-05T15:56:29.180Z"
      },
      {
        "duration": 4,
        "start_time": "2024-02-05T16:03:54.158Z"
      },
      {
        "duration": 4,
        "start_time": "2024-02-05T16:10:52.490Z"
      },
      {
        "duration": 243,
        "start_time": "2024-02-05T16:12:53.957Z"
      },
      {
        "duration": 5,
        "start_time": "2024-02-05T16:12:59.399Z"
      },
      {
        "duration": 272,
        "start_time": "2024-02-05T16:13:00.623Z"
      },
      {
        "duration": 5,
        "start_time": "2024-02-05T16:13:07.391Z"
      },
      {
        "duration": 244,
        "start_time": "2024-02-05T16:13:09.751Z"
      },
      {
        "duration": 4,
        "start_time": "2024-02-05T16:13:25.978Z"
      },
      {
        "duration": 445,
        "start_time": "2024-02-05T16:13:25.984Z"
      },
      {
        "duration": 21,
        "start_time": "2024-02-05T16:13:26.430Z"
      },
      {
        "duration": 60,
        "start_time": "2024-02-05T16:13:26.453Z"
      },
      {
        "duration": 41,
        "start_time": "2024-02-05T16:13:26.515Z"
      },
      {
        "duration": 138,
        "start_time": "2024-02-05T16:13:26.557Z"
      },
      {
        "duration": 1018,
        "start_time": "2024-02-05T16:13:26.696Z"
      },
      {
        "duration": 43,
        "start_time": "2024-02-05T16:13:27.716Z"
      },
      {
        "duration": 61,
        "start_time": "2024-02-05T16:13:27.761Z"
      },
      {
        "duration": 34,
        "start_time": "2024-02-05T16:13:27.824Z"
      },
      {
        "duration": 268,
        "start_time": "2024-02-05T16:13:27.860Z"
      },
      {
        "duration": 176,
        "start_time": "2024-02-05T16:13:28.130Z"
      },
      {
        "duration": 190,
        "start_time": "2024-02-05T16:13:28.307Z"
      },
      {
        "duration": 262,
        "start_time": "2024-02-05T16:13:28.498Z"
      },
      {
        "duration": 278,
        "start_time": "2024-02-05T16:13:28.762Z"
      },
      {
        "duration": 283,
        "start_time": "2024-02-05T16:13:29.042Z"
      },
      {
        "duration": 5,
        "start_time": "2024-02-05T16:13:29.326Z"
      },
      {
        "duration": 362,
        "start_time": "2024-02-05T16:13:29.332Z"
      },
      {
        "duration": 0,
        "start_time": "2024-02-05T16:13:29.697Z"
      },
      {
        "duration": 0,
        "start_time": "2024-02-05T16:13:29.699Z"
      },
      {
        "duration": 0,
        "start_time": "2024-02-05T16:13:29.700Z"
      },
      {
        "duration": 0,
        "start_time": "2024-02-05T16:13:29.701Z"
      },
      {
        "duration": 0,
        "start_time": "2024-02-05T16:13:29.703Z"
      },
      {
        "duration": 0,
        "start_time": "2024-02-05T16:13:29.704Z"
      },
      {
        "duration": 0,
        "start_time": "2024-02-05T16:13:29.704Z"
      },
      {
        "duration": 0,
        "start_time": "2024-02-05T16:13:29.795Z"
      },
      {
        "duration": 0,
        "start_time": "2024-02-05T16:13:29.796Z"
      },
      {
        "duration": 0,
        "start_time": "2024-02-05T16:13:29.797Z"
      },
      {
        "duration": 0,
        "start_time": "2024-02-05T16:13:29.798Z"
      },
      {
        "duration": 0,
        "start_time": "2024-02-05T16:13:29.799Z"
      },
      {
        "duration": 0,
        "start_time": "2024-02-05T16:13:29.800Z"
      },
      {
        "duration": 0,
        "start_time": "2024-02-05T16:13:29.801Z"
      },
      {
        "duration": 0,
        "start_time": "2024-02-05T16:13:29.802Z"
      },
      {
        "duration": 25,
        "start_time": "2024-02-05T16:13:58.758Z"
      },
      {
        "duration": 334,
        "start_time": "2024-02-05T16:14:29.565Z"
      },
      {
        "duration": 4,
        "start_time": "2024-02-05T16:14:32.455Z"
      },
      {
        "duration": 69,
        "start_time": "2024-02-05T16:15:39.528Z"
      },
      {
        "duration": 183,
        "start_time": "2024-02-05T16:15:46.731Z"
      },
      {
        "duration": 155,
        "start_time": "2024-02-05T16:16:13.841Z"
      },
      {
        "duration": 7,
        "start_time": "2024-02-05T16:16:20.534Z"
      },
      {
        "duration": 6,
        "start_time": "2024-02-05T16:16:28.526Z"
      },
      {
        "duration": 4,
        "start_time": "2024-02-05T16:16:31.923Z"
      },
      {
        "duration": 4,
        "start_time": "2024-02-05T16:16:48.540Z"
      },
      {
        "duration": 4,
        "start_time": "2024-02-05T16:16:59.367Z"
      },
      {
        "duration": 4,
        "start_time": "2024-02-05T16:17:02.331Z"
      },
      {
        "duration": 3,
        "start_time": "2024-02-05T16:17:12.902Z"
      },
      {
        "duration": 3,
        "start_time": "2024-02-05T16:17:51.983Z"
      },
      {
        "duration": 5,
        "start_time": "2024-02-05T16:29:40.390Z"
      },
      {
        "duration": 7,
        "start_time": "2024-02-05T16:29:41.841Z"
      },
      {
        "duration": 4,
        "start_time": "2024-02-05T16:29:42.793Z"
      },
      {
        "duration": 4,
        "start_time": "2024-02-05T16:29:44.492Z"
      },
      {
        "duration": 4,
        "start_time": "2024-02-05T16:29:45.109Z"
      },
      {
        "duration": 3,
        "start_time": "2024-02-05T16:29:45.753Z"
      },
      {
        "duration": 5,
        "start_time": "2024-02-05T16:29:56.630Z"
      },
      {
        "duration": 7,
        "start_time": "2024-02-05T16:29:56.943Z"
      },
      {
        "duration": 3,
        "start_time": "2024-02-05T16:29:57.500Z"
      },
      {
        "duration": 4,
        "start_time": "2024-02-05T16:29:58.128Z"
      },
      {
        "duration": 4,
        "start_time": "2024-02-05T16:29:58.348Z"
      },
      {
        "duration": 3,
        "start_time": "2024-02-05T16:29:58.550Z"
      },
      {
        "duration": 5,
        "start_time": "2024-02-05T16:30:19.091Z"
      },
      {
        "duration": 6,
        "start_time": "2024-02-05T16:30:20.284Z"
      },
      {
        "duration": 4,
        "start_time": "2024-02-05T16:30:20.596Z"
      },
      {
        "duration": 3,
        "start_time": "2024-02-05T16:30:21.024Z"
      },
      {
        "duration": 4,
        "start_time": "2024-02-05T16:30:21.195Z"
      },
      {
        "duration": 3,
        "start_time": "2024-02-05T16:30:21.322Z"
      },
      {
        "duration": 4,
        "start_time": "2024-02-05T16:43:38.038Z"
      },
      {
        "duration": 18,
        "start_time": "2024-02-05T16:43:41.434Z"
      },
      {
        "duration": 18,
        "start_time": "2024-02-05T16:44:04.283Z"
      },
      {
        "duration": 18,
        "start_time": "2024-02-05T16:44:30.963Z"
      },
      {
        "duration": 19,
        "start_time": "2024-02-05T16:44:41.367Z"
      },
      {
        "duration": 18,
        "start_time": "2024-02-05T16:44:48.568Z"
      },
      {
        "duration": 19,
        "start_time": "2024-02-05T16:44:55.977Z"
      },
      {
        "duration": 18,
        "start_time": "2024-02-05T16:45:06.799Z"
      },
      {
        "duration": 3,
        "start_time": "2024-02-05T16:47:14.699Z"
      },
      {
        "duration": 380,
        "start_time": "2024-02-05T16:47:14.704Z"
      },
      {
        "duration": 30,
        "start_time": "2024-02-05T16:47:15.086Z"
      },
      {
        "duration": 76,
        "start_time": "2024-02-05T16:47:15.117Z"
      },
      {
        "duration": 47,
        "start_time": "2024-02-05T16:47:15.195Z"
      },
      {
        "duration": 130,
        "start_time": "2024-02-05T16:47:15.243Z"
      },
      {
        "duration": 994,
        "start_time": "2024-02-05T16:47:15.374Z"
      },
      {
        "duration": 50,
        "start_time": "2024-02-05T16:47:16.369Z"
      },
      {
        "duration": 52,
        "start_time": "2024-02-05T16:47:16.421Z"
      },
      {
        "duration": 39,
        "start_time": "2024-02-05T16:47:16.474Z"
      },
      {
        "duration": 174,
        "start_time": "2024-02-05T16:47:16.515Z"
      },
      {
        "duration": 177,
        "start_time": "2024-02-05T16:47:16.693Z"
      },
      {
        "duration": 265,
        "start_time": "2024-02-05T16:47:16.872Z"
      },
      {
        "duration": 259,
        "start_time": "2024-02-05T16:47:17.138Z"
      },
      {
        "duration": 244,
        "start_time": "2024-02-05T16:47:17.398Z"
      },
      {
        "duration": 287,
        "start_time": "2024-02-05T16:47:17.643Z"
      },
      {
        "duration": 5,
        "start_time": "2024-02-05T16:47:17.931Z"
      },
      {
        "duration": 19,
        "start_time": "2024-02-05T16:47:17.937Z"
      },
      {
        "duration": 12,
        "start_time": "2024-02-05T16:47:17.957Z"
      },
      {
        "duration": 4,
        "start_time": "2024-02-05T16:47:17.971Z"
      },
      {
        "duration": 18,
        "start_time": "2024-02-05T16:47:17.976Z"
      },
      {
        "duration": 3,
        "start_time": "2024-02-05T16:47:17.996Z"
      },
      {
        "duration": 3,
        "start_time": "2024-02-05T16:47:18.000Z"
      },
      {
        "duration": 4,
        "start_time": "2024-02-05T16:47:18.005Z"
      },
      {
        "duration": 3,
        "start_time": "2024-02-05T16:47:18.010Z"
      },
      {
        "duration": 19,
        "start_time": "2024-02-05T16:47:21.677Z"
      },
      {
        "duration": 5,
        "start_time": "2024-02-05T16:47:34.608Z"
      },
      {
        "duration": 2897,
        "start_time": "2024-02-05T16:47:36.802Z"
      },
      {
        "duration": 6,
        "start_time": "2024-02-05T16:48:05.093Z"
      },
      {
        "duration": 2917,
        "start_time": "2024-02-05T16:48:06.209Z"
      },
      {
        "duration": 4,
        "start_time": "2024-02-05T16:48:31.885Z"
      },
      {
        "duration": 18,
        "start_time": "2024-02-05T16:48:33.261Z"
      },
      {
        "duration": 6,
        "start_time": "2024-02-05T16:48:35.698Z"
      },
      {
        "duration": 2914,
        "start_time": "2024-02-05T16:48:38.594Z"
      },
      {
        "duration": 6,
        "start_time": "2024-02-05T16:48:50.177Z"
      },
      {
        "duration": 2844,
        "start_time": "2024-02-05T16:48:50.710Z"
      },
      {
        "duration": 6,
        "start_time": "2024-02-05T16:49:41.947Z"
      },
      {
        "duration": 2917,
        "start_time": "2024-02-05T16:49:42.651Z"
      },
      {
        "duration": 1328,
        "start_time": "2024-02-05T16:51:54.723Z"
      },
      {
        "duration": 381,
        "start_time": "2024-02-05T16:51:56.053Z"
      },
      {
        "duration": 25,
        "start_time": "2024-02-05T16:51:56.435Z"
      },
      {
        "duration": 52,
        "start_time": "2024-02-05T16:51:56.461Z"
      },
      {
        "duration": 88,
        "start_time": "2024-02-05T16:51:56.514Z"
      },
      {
        "duration": 124,
        "start_time": "2024-02-05T16:51:56.604Z"
      },
      {
        "duration": 1004,
        "start_time": "2024-02-05T16:51:56.729Z"
      },
      {
        "duration": 40,
        "start_time": "2024-02-05T16:51:57.734Z"
      },
      {
        "duration": 88,
        "start_time": "2024-02-05T16:51:57.775Z"
      },
      {
        "duration": 33,
        "start_time": "2024-02-05T16:51:57.866Z"
      },
      {
        "duration": 237,
        "start_time": "2024-02-05T16:51:57.900Z"
      },
      {
        "duration": 173,
        "start_time": "2024-02-05T16:51:58.138Z"
      },
      {
        "duration": 178,
        "start_time": "2024-02-05T16:51:58.312Z"
      },
      {
        "duration": 265,
        "start_time": "2024-02-05T16:51:58.491Z"
      },
      {
        "duration": 279,
        "start_time": "2024-02-05T16:51:58.757Z"
      },
      {
        "duration": 262,
        "start_time": "2024-02-05T16:51:59.038Z"
      },
      {
        "duration": 5,
        "start_time": "2024-02-05T16:51:59.302Z"
      },
      {
        "duration": 125,
        "start_time": "2024-02-05T16:51:59.308Z"
      },
      {
        "duration": 0,
        "start_time": "2024-02-05T16:51:59.435Z"
      },
      {
        "duration": 0,
        "start_time": "2024-02-05T16:51:59.436Z"
      },
      {
        "duration": 0,
        "start_time": "2024-02-05T16:51:59.438Z"
      },
      {
        "duration": 0,
        "start_time": "2024-02-05T16:51:59.439Z"
      },
      {
        "duration": 0,
        "start_time": "2024-02-05T16:51:59.441Z"
      },
      {
        "duration": 0,
        "start_time": "2024-02-05T16:51:59.442Z"
      },
      {
        "duration": 0,
        "start_time": "2024-02-05T16:51:59.444Z"
      },
      {
        "duration": 0,
        "start_time": "2024-02-05T16:51:59.446Z"
      },
      {
        "duration": 0,
        "start_time": "2024-02-05T16:51:59.447Z"
      },
      {
        "duration": 0,
        "start_time": "2024-02-05T16:51:59.449Z"
      },
      {
        "duration": 1365,
        "start_time": "2024-02-05T16:53:19.959Z"
      },
      {
        "duration": 408,
        "start_time": "2024-02-05T16:53:21.326Z"
      },
      {
        "duration": 29,
        "start_time": "2024-02-05T16:53:21.736Z"
      },
      {
        "duration": 59,
        "start_time": "2024-02-05T16:53:21.768Z"
      },
      {
        "duration": 96,
        "start_time": "2024-02-05T16:53:21.829Z"
      },
      {
        "duration": 143,
        "start_time": "2024-02-05T16:53:21.927Z"
      },
      {
        "duration": 1009,
        "start_time": "2024-02-05T16:53:22.072Z"
      },
      {
        "duration": 50,
        "start_time": "2024-02-05T16:53:23.083Z"
      },
      {
        "duration": 66,
        "start_time": "2024-02-05T16:53:23.135Z"
      },
      {
        "duration": 36,
        "start_time": "2024-02-05T16:53:23.204Z"
      },
      {
        "duration": 254,
        "start_time": "2024-02-05T16:53:23.242Z"
      },
      {
        "duration": 176,
        "start_time": "2024-02-05T16:53:23.498Z"
      },
      {
        "duration": 172,
        "start_time": "2024-02-05T16:53:23.676Z"
      },
      {
        "duration": 294,
        "start_time": "2024-02-05T16:53:23.850Z"
      },
      {
        "duration": 286,
        "start_time": "2024-02-05T16:53:24.146Z"
      },
      {
        "duration": 222,
        "start_time": "2024-02-05T16:53:24.434Z"
      },
      {
        "duration": 6,
        "start_time": "2024-02-05T16:53:24.658Z"
      },
      {
        "duration": 110,
        "start_time": "2024-02-05T16:53:24.695Z"
      },
      {
        "duration": 0,
        "start_time": "2024-02-05T16:53:24.807Z"
      },
      {
        "duration": 0,
        "start_time": "2024-02-05T16:53:24.809Z"
      },
      {
        "duration": 0,
        "start_time": "2024-02-05T16:53:24.810Z"
      },
      {
        "duration": 0,
        "start_time": "2024-02-05T16:53:24.811Z"
      },
      {
        "duration": 0,
        "start_time": "2024-02-05T16:53:24.813Z"
      },
      {
        "duration": 0,
        "start_time": "2024-02-05T16:53:24.814Z"
      },
      {
        "duration": 0,
        "start_time": "2024-02-05T16:53:24.816Z"
      },
      {
        "duration": 0,
        "start_time": "2024-02-05T16:53:24.817Z"
      },
      {
        "duration": 0,
        "start_time": "2024-02-05T16:53:24.818Z"
      },
      {
        "duration": 10,
        "start_time": "2024-02-05T16:55:08.505Z"
      },
      {
        "duration": 4,
        "start_time": "2024-02-05T16:55:27.619Z"
      },
      {
        "duration": 11,
        "start_time": "2024-02-05T16:55:28.411Z"
      },
      {
        "duration": 373,
        "start_time": "2024-02-05T16:55:41.333Z"
      },
      {
        "duration": 4,
        "start_time": "2024-02-05T16:55:42.677Z"
      },
      {
        "duration": 1352,
        "start_time": "2024-02-05T16:55:55.725Z"
      },
      {
        "duration": 409,
        "start_time": "2024-02-05T16:55:57.079Z"
      },
      {
        "duration": 27,
        "start_time": "2024-02-05T16:55:57.489Z"
      },
      {
        "duration": 40,
        "start_time": "2024-02-05T16:55:57.518Z"
      },
      {
        "duration": 106,
        "start_time": "2024-02-05T16:55:57.559Z"
      },
      {
        "duration": 138,
        "start_time": "2024-02-05T16:55:57.667Z"
      },
      {
        "duration": 1027,
        "start_time": "2024-02-05T16:55:57.806Z"
      },
      {
        "duration": 43,
        "start_time": "2024-02-05T16:55:58.835Z"
      },
      {
        "duration": 78,
        "start_time": "2024-02-05T16:55:58.880Z"
      },
      {
        "duration": 37,
        "start_time": "2024-02-05T16:55:58.960Z"
      },
      {
        "duration": 246,
        "start_time": "2024-02-05T16:55:58.999Z"
      },
      {
        "duration": 181,
        "start_time": "2024-02-05T16:55:59.246Z"
      },
      {
        "duration": 170,
        "start_time": "2024-02-05T16:55:59.429Z"
      },
      {
        "duration": 278,
        "start_time": "2024-02-05T16:55:59.601Z"
      },
      {
        "duration": 283,
        "start_time": "2024-02-05T16:55:59.881Z"
      },
      {
        "duration": 269,
        "start_time": "2024-02-05T16:56:00.165Z"
      },
      {
        "duration": 4,
        "start_time": "2024-02-05T16:56:00.436Z"
      },
      {
        "duration": 463,
        "start_time": "2024-02-05T16:56:00.442Z"
      },
      {
        "duration": 5,
        "start_time": "2024-02-05T16:56:00.908Z"
      },
      {
        "duration": 133,
        "start_time": "2024-02-05T16:56:00.995Z"
      },
      {
        "duration": 46,
        "start_time": "2024-02-05T16:56:01.130Z"
      },
      {
        "duration": 33,
        "start_time": "2024-02-05T16:56:01.178Z"
      },
      {
        "duration": 43,
        "start_time": "2024-02-05T16:56:01.212Z"
      },
      {
        "duration": 71,
        "start_time": "2024-02-05T16:56:01.257Z"
      },
      {
        "duration": 51,
        "start_time": "2024-02-05T16:56:01.329Z"
      },
      {
        "duration": 82,
        "start_time": "2024-02-05T16:56:01.381Z"
      },
      {
        "duration": 14,
        "start_time": "2024-02-05T16:56:01.465Z"
      },
      {
        "duration": 2966,
        "start_time": "2024-02-05T16:56:01.482Z"
      },
      {
        "duration": 48,
        "start_time": "2024-04-21T20:16:06.233Z"
      },
      {
        "duration": 1423,
        "start_time": "2024-04-21T20:16:17.935Z"
      },
      {
        "duration": 1656,
        "start_time": "2024-04-21T20:16:19.360Z"
      },
      {
        "duration": 26,
        "start_time": "2024-04-21T20:16:21.018Z"
      },
      {
        "duration": 39,
        "start_time": "2024-04-21T20:16:21.045Z"
      },
      {
        "duration": 90,
        "start_time": "2024-04-21T20:16:21.086Z"
      },
      {
        "duration": 160,
        "start_time": "2024-04-21T20:16:21.177Z"
      },
      {
        "duration": 1106,
        "start_time": "2024-04-21T20:16:21.339Z"
      },
      {
        "duration": 54,
        "start_time": "2024-04-21T20:16:22.447Z"
      },
      {
        "duration": 49,
        "start_time": "2024-04-21T20:16:22.503Z"
      },
      {
        "duration": 50,
        "start_time": "2024-04-21T20:16:22.555Z"
      },
      {
        "duration": 256,
        "start_time": "2024-04-21T20:16:22.607Z"
      },
      {
        "duration": 175,
        "start_time": "2024-04-21T20:16:22.865Z"
      },
      {
        "duration": 177,
        "start_time": "2024-04-21T20:16:23.041Z"
      },
      {
        "duration": 259,
        "start_time": "2024-04-21T20:16:23.220Z"
      },
      {
        "duration": 275,
        "start_time": "2024-04-21T20:16:23.481Z"
      },
      {
        "duration": 292,
        "start_time": "2024-04-21T20:16:23.758Z"
      },
      {
        "duration": 6,
        "start_time": "2024-04-21T20:16:24.051Z"
      },
      {
        "duration": 438,
        "start_time": "2024-04-21T20:16:24.058Z"
      },
      {
        "duration": 5,
        "start_time": "2024-04-21T20:16:24.499Z"
      },
      {
        "duration": 5,
        "start_time": "2024-04-21T20:16:24.593Z"
      },
      {
        "duration": 99,
        "start_time": "2024-04-21T20:16:24.601Z"
      },
      {
        "duration": 21,
        "start_time": "2024-04-21T20:16:24.701Z"
      },
      {
        "duration": 17,
        "start_time": "2024-04-21T20:16:24.723Z"
      },
      {
        "duration": 28,
        "start_time": "2024-04-21T20:16:24.741Z"
      },
      {
        "duration": 25,
        "start_time": "2024-04-21T20:16:24.770Z"
      },
      {
        "duration": 99,
        "start_time": "2024-04-21T20:16:24.797Z"
      },
      {
        "duration": 0,
        "start_time": "2024-04-21T20:16:24.898Z"
      },
      {
        "duration": 0,
        "start_time": "2024-04-21T20:16:24.899Z"
      },
      {
        "duration": 20,
        "start_time": "2024-04-21T20:16:54.321Z"
      },
      {
        "duration": 19,
        "start_time": "2024-04-21T20:17:06.184Z"
      },
      {
        "duration": 21,
        "start_time": "2024-04-21T20:17:36.952Z"
      },
      {
        "duration": 19,
        "start_time": "2024-04-21T20:17:45.130Z"
      },
      {
        "duration": 159,
        "start_time": "2024-04-21T20:17:48.221Z"
      },
      {
        "duration": 6,
        "start_time": "2024-04-21T20:17:57.727Z"
      },
      {
        "duration": 5,
        "start_time": "2024-04-21T20:18:05.015Z"
      },
      {
        "duration": 3078,
        "start_time": "2024-04-21T20:18:11.619Z"
      }
    ],
    "toc": {
      "base_numbering": 1,
      "nav_menu": {
        "height": "243px",
        "width": "160px"
      },
      "number_sections": true,
      "sideBar": true,
      "skip_h1_title": true,
      "title_cell": "Table of Contents",
      "title_sidebar": "Contents",
      "toc_cell": false,
      "toc_position": {},
      "toc_section_display": true,
      "toc_window_display": false
    }
  },
  "nbformat_minor": 4,
  "nbformat": 4,
  "cells": [
    {
      "cell_type": "markdown",
      "source": "# Selecting a location for a well",
      "metadata": {}
    },
    {
      "cell_type": "markdown",
      "source": "Let's say you work for the mining company GlavRosGosNeft. We need to decide where to drill a new well.\r\n\r\nYou were provided with oil samples in three regions: in each 10,000 fields, where the quality of oil and the volume of its reserves were measured. Build a machine learning model that will help determine the region where mining will bring the greatest profit. Analyze the possible profits and risks using the *Bootstrap.* technique\r\n\r\nSteps to select a location:\r\n\r\n- Deposits are searched for in the selected region, and the characteristic values are determined for each;\r\n- Build a model and estimate the volume of reserves;\r\n- Deposits with the highest estimated values are selected. The number of fields depends on the company’s budget and the cost of developing one well;\r\n- Profit is equal to the total profit of the selected fields.",
      "metadata": {}
    },
    {
      "cell_type": "markdown",
      "source": "1. Loading and preparing data",
      "metadata": {}
    },
    {
      "cell_type": "markdown",
      "source": "It is necessary to solve a regression problem, where the target feature is the volume of oil production.",
      "metadata": {}
    },
    {
      "cell_type": "code",
      "source": "import pandas as pd\nimport numpy as np\nimport matplotlib.pyplot as plt\nimport seaborn as sns\n\nfrom sklearn.linear_model import LinearRegression\nfrom sklearn.preprocessing import StandardScaler\n\nfrom sklearn.utils import shuffle\nfrom sklearn.model_selection import train_test_split\n\n#from sklearn.ensemble import RandomForestRegressor\nfrom sklearn.metrics import (accuracy_score,\n                             mean_squared_error,\n                             confusion_matrix ,\n                             f1_score,\n                             roc_curve,\n                             roc_auc_score\n                            )\n\n\n",
      "metadata": {},
      "outputs": [],
      "execution_count": 1
    },
    {
      "cell_type": "code",
      "source": "try:\n    df_0 = pd.read_csv('/datasets/geo_data_0.csv')\n    df_1 = pd.read_csv('/datasets/geo_data_1.csv')\n    df_2 = pd.read_csv('/datasets/geo_data_2.csv')\n        \nexcept:\n    df_0 = pd.read_csv('geo_data_0.csv')\n    df_1 = pd.read_csv('geo_data_1.csv')\n    df_2 = pd.read_csv('geo_data_2.csv')",
      "metadata": {},
      "outputs": [],
      "execution_count": 2
    },

    {
      "cell_type": "code",
      "source": "display(df_0.head()), display(df_1.head()), display(df_2.head())",
      "metadata": {},
      "outputs": [
        {
          "data": {
            "text/html": [
              "<div>\n",
              "<style scoped>\n",
              "    .dataframe tbody tr th:only-of-type {\n",
              "        vertical-align: middle;\n",
              "    }\n",
              "\n",
              "    .dataframe tbody tr th {\n",
              "        vertical-align: top;\n",
              "    }\n",
              "\n",
              "    .dataframe thead th {\n",
              "        text-align: right;\n",
              "    }\n",
              "</style>\n",
              "<table border=\"1\" class=\"dataframe\">\n",
              "  <thead>\n",
              "    <tr style=\"text-align: right;\">\n",
              "      <th></th>\n",
              "      <th>id</th>\n",
              "      <th>f0</th>\n",
              "      <th>f1</th>\n",
              "      <th>f2</th>\n",
              "      <th>product</th>\n",
              "    </tr>\n",
              "  </thead>\n",
              "  <tbody>\n",
              "    <tr>\n",
              "      <th>0</th>\n",
              "      <td>txEyH</td>\n",
              "      <td>0.705745</td>\n",
              "      <td>-0.497823</td>\n",
              "      <td>1.221170</td>\n",
              "      <td>105.280062</td>\n",
              "    </tr>\n",
              "    <tr>\n",
              "      <th>1</th>\n",
              "      <td>2acmU</td>\n",
              "      <td>1.334711</td>\n",
              "      <td>-0.340164</td>\n",
              "      <td>4.365080</td>\n",
              "      <td>73.037750</td>\n",
              "    </tr>\n",
              "    <tr>\n",
              "      <th>2</th>\n",
              "      <td>409Wp</td>\n",
              "      <td>1.022732</td>\n",
              "      <td>0.151990</td>\n",
              "      <td>1.419926</td>\n",
              "      <td>85.265647</td>\n",
              "    </tr>\n",
              "    <tr>\n",
              "      <th>3</th>\n",
              "      <td>iJLyR</td>\n",
              "      <td>-0.032172</td>\n",
              "      <td>0.139033</td>\n",
              "      <td>2.978566</td>\n",
              "      <td>168.620776</td>\n",
              "    </tr>\n",
              "    <tr>\n",
              "      <th>4</th>\n",
              "      <td>Xdl7t</td>\n",
              "      <td>1.988431</td>\n",
              "      <td>0.155413</td>\n",
              "      <td>4.751769</td>\n",
              "      <td>154.036647</td>\n",
              "    </tr>\n",
              "  </tbody>\n",
              "</table>\n",
              "</div>"
            ],
            "text/plain": [
              "      id        f0        f1        f2     product\n",
              "0  txEyH  0.705745 -0.497823  1.221170  105.280062\n",
              "1  2acmU  1.334711 -0.340164  4.365080   73.037750\n",
              "2  409Wp  1.022732  0.151990  1.419926   85.265647\n",
              "3  iJLyR -0.032172  0.139033  2.978566  168.620776\n",
              "4  Xdl7t  1.988431  0.155413  4.751769  154.036647"
            ]
          },
          "metadata": {},
          "output_type": "display_data"
        },
        {
          "data": {
            "text/html": [
              "<div>\n",
              "<style scoped>\n",
              "    .dataframe tbody tr th:only-of-type {\n",
              "        vertical-align: middle;\n",
              "    }\n",
              "\n",
              "    .dataframe tbody tr th {\n",
              "        vertical-align: top;\n",
              "    }\n",
              "\n",
              "    .dataframe thead th {\n",
              "        text-align: right;\n",
              "    }\n",
              "</style>\n",
              "<table border=\"1\" class=\"dataframe\">\n",
              "  <thead>\n",
              "    <tr style=\"text-align: right;\">\n",
              "      <th></th>\n",
              "      <th>id</th>\n",
              "      <th>f0</th>\n",
              "      <th>f1</th>\n",
              "      <th>f2</th>\n",
              "      <th>product</th>\n",
              "    </tr>\n",
              "  </thead>\n",
              "  <tbody>\n",
              "    <tr>\n",
              "      <th>0</th>\n",
              "      <td>kBEdx</td>\n",
              "      <td>-15.001348</td>\n",
              "      <td>-8.276000</td>\n",
              "      <td>-0.005876</td>\n",
              "      <td>3.179103</td>\n",
              "    </tr>\n",
              "    <tr>\n",
              "      <th>1</th>\n",
              "      <td>62mP7</td>\n",
              "      <td>14.272088</td>\n",
              "      <td>-3.475083</td>\n",
              "      <td>0.999183</td>\n",
              "      <td>26.953261</td>\n",
              "    </tr>\n",
              "    <tr>\n",
              "      <th>2</th>\n",
              "      <td>vyE1P</td>\n",
              "      <td>6.263187</td>\n",
              "      <td>-5.948386</td>\n",
              "      <td>5.001160</td>\n",
              "      <td>134.766305</td>\n",
              "    </tr>\n",
              "    <tr>\n",
              "      <th>3</th>\n",
              "      <td>KcrkZ</td>\n",
              "      <td>-13.081196</td>\n",
              "      <td>-11.506057</td>\n",
              "      <td>4.999415</td>\n",
              "      <td>137.945408</td>\n",
              "    </tr>\n",
              "    <tr>\n",
              "      <th>4</th>\n",
              "      <td>AHL4O</td>\n",
              "      <td>12.702195</td>\n",
              "      <td>-8.147433</td>\n",
              "      <td>5.004363</td>\n",
              "      <td>134.766305</td>\n",
              "    </tr>\n",
              "  </tbody>\n",
              "</table>\n",
              "</div>"
            ],
            "text/plain": [
              "      id         f0         f1        f2     product\n",
              "0  kBEdx -15.001348  -8.276000 -0.005876    3.179103\n",
              "1  62mP7  14.272088  -3.475083  0.999183   26.953261\n",
              "2  vyE1P   6.263187  -5.948386  5.001160  134.766305\n",
              "3  KcrkZ -13.081196 -11.506057  4.999415  137.945408\n",
              "4  AHL4O  12.702195  -8.147433  5.004363  134.766305"
            ]
          },
          "metadata": {},
          "output_type": "display_data"
        },
        {
          "data": {
            "text/html": [
              "<div>\n",
              "<style scoped>\n",
              "    .dataframe tbody tr th:only-of-type {\n",
              "        vertical-align: middle;\n",
              "    }\n",
              "\n",
              "    .dataframe tbody tr th {\n",
              "        vertical-align: top;\n",
              "    }\n",
              "\n",
              "    .dataframe thead th {\n",
              "        text-align: right;\n",
              "    }\n",
              "</style>\n",
              "<table border=\"1\" class=\"dataframe\">\n",
              "  <thead>\n",
              "    <tr style=\"text-align: right;\">\n",
              "      <th></th>\n",
              "      <th>id</th>\n",
              "      <th>f0</th>\n",
              "      <th>f1</th>\n",
              "      <th>f2</th>\n",
              "      <th>product</th>\n",
              "    </tr>\n",
              "  </thead>\n",
              "  <tbody>\n",
              "    <tr>\n",
              "      <th>0</th>\n",
              "      <td>fwXo0</td>\n",
              "      <td>-1.146987</td>\n",
              "      <td>0.963328</td>\n",
              "      <td>-0.828965</td>\n",
              "      <td>27.758673</td>\n",
              "    </tr>\n",
              "    <tr>\n",
              "      <th>1</th>\n",
              "      <td>WJtFt</td>\n",
              "      <td>0.262778</td>\n",
              "      <td>0.269839</td>\n",
              "      <td>-2.530187</td>\n",
              "      <td>56.069697</td>\n",
              "    </tr>\n",
              "    <tr>\n",
              "      <th>2</th>\n",
              "      <td>ovLUW</td>\n",
              "      <td>0.194587</td>\n",
              "      <td>0.289035</td>\n",
              "      <td>-5.586433</td>\n",
              "      <td>62.871910</td>\n",
              "    </tr>\n",
              "    <tr>\n",
              "      <th>3</th>\n",
              "      <td>q6cA6</td>\n",
              "      <td>2.236060</td>\n",
              "      <td>-0.553760</td>\n",
              "      <td>0.930038</td>\n",
              "      <td>114.572842</td>\n",
              "    </tr>\n",
              "    <tr>\n",
              "      <th>4</th>\n",
              "      <td>WPMUX</td>\n",
              "      <td>-0.515993</td>\n",
              "      <td>1.716266</td>\n",
              "      <td>5.899011</td>\n",
              "      <td>149.600746</td>\n",
              "    </tr>\n",
              "  </tbody>\n",
              "</table>\n",
              "</div>"
            ],
            "text/plain": [
              "      id        f0        f1        f2     product\n",
              "0  fwXo0 -1.146987  0.963328 -0.828965   27.758673\n",
              "1  WJtFt  0.262778  0.269839 -2.530187   56.069697\n",
              "2  ovLUW  0.194587  0.289035 -5.586433   62.871910\n",
              "3  q6cA6  2.236060 -0.553760  0.930038  114.572842\n",
              "4  WPMUX -0.515993  1.716266  5.899011  149.600746"
            ]
          },
          "metadata": {},
          "output_type": "display_data"
        },
        {
          "data": {
            "text/plain": [
              "(None, None, None)"
            ]
          },
          "execution_count": 3,
          "metadata": {},
          "output_type": "execute_result"
        }
      ],
      "execution_count": 3
    },
    {
      "cell_type": "code",
      "source": "df_0.info(), df_1.info(), df_2.info()\n",
      "metadata": {
        "scrolled": true
      },
      "outputs": [
        {
          "name": "stdout",
          "output_type": "stream",
          "text": [
            "<class 'pandas.core.frame.DataFrame'>\n",
            "RangeIndex: 100000 entries, 0 to 99999\n",
            "Data columns (total 5 columns):\n",
            " #   Column   Non-Null Count   Dtype  \n",
            "---  ------   --------------   -----  \n",
            " 0   id       100000 non-null  object \n",
            " 1   f0       100000 non-null  float64\n",
            " 2   f1       100000 non-null  float64\n",
            " 3   f2       100000 non-null  float64\n",
            " 4   product  100000 non-null  float64\n",
            "dtypes: float64(4), object(1)\n",
            "memory usage: 3.8+ MB\n",
            "<class 'pandas.core.frame.DataFrame'>\n",
            "RangeIndex: 100000 entries, 0 to 99999\n",
            "Data columns (total 5 columns):\n",
            " #   Column   Non-Null Count   Dtype  \n",
            "---  ------   --------------   -----  \n",
            " 0   id       100000 non-null  object \n",
            " 1   f0       100000 non-null  float64\n",
            " 2   f1       100000 non-null  float64\n",
            " 3   f2       100000 non-null  float64\n",
            " 4   product  100000 non-null  float64\n",
            "dtypes: float64(4), object(1)\n",
            "memory usage: 3.8+ MB\n",
            "<class 'pandas.core.frame.DataFrame'>\n",
            "RangeIndex: 100000 entries, 0 to 99999\n",
            "Data columns (total 5 columns):\n",
            " #   Column   Non-Null Count   Dtype  \n",
            "---  ------   --------------   -----  \n",
            " 0   id       100000 non-null  object \n",
            " 1   f0       100000 non-null  float64\n",
            " 2   f1       100000 non-null  float64\n",
            " 3   f2       100000 non-null  float64\n",
            " 4   product  100000 non-null  float64\n",
            "dtypes: float64(4), object(1)\n",
            "memory usage: 3.8+ MB\n"
          ]
        },
        {
          "data": {
            "text/plain": [
              "(None, None, None)"
            ]
          },
          "execution_count": 4,
          "metadata": {},
          "output_type": "execute_result"
        }
      ],
      "execution_count": 4
    },
    {
      "cell_type": "markdown",
      "source": "Let's look at the number of passes:",
      "metadata": {}
    },
    {
      "cell_type": "code",
      "source": "display(pd.DataFrame(round(df_0.isna().mean()*100,)).style.background_gradient('coolwarm'))\ndisplay(pd.DataFrame(round(df_1.isna().mean()*100,)).style.background_gradient('coolwarm'))\ndisplay(pd.DataFrame(round(df_2.isna().mean()*100,)).style.background_gradient('coolwarm'))",
      "metadata": {},
      "outputs": [
        {
          "data": {
            "text/html": [
              "<style  type=\"text/css\" >\n",
              "#T_4c4fc_row0_col0,#T_4c4fc_row1_col0,#T_4c4fc_row2_col0,#T_4c4fc_row3_col0,#T_4c4fc_row4_col0{\n",
              "            background-color:  #3b4cc0;\n",
              "            color:  #f1f1f1;\n",
              "        }</style><table id=\"T_4c4fc_\" ><thead>    <tr>        <th class=\"blank level0\" ></th>        <th class=\"col_heading level0 col0\" >0</th>    </tr></thead><tbody>\n",
              "                <tr>\n",
              "                        <th id=\"T_4c4fc_level0_row0\" class=\"row_heading level0 row0\" >id</th>\n",
              "                        <td id=\"T_4c4fc_row0_col0\" class=\"data row0 col0\" >0.000000</td>\n",
              "            </tr>\n",
              "            <tr>\n",
              "                        <th id=\"T_4c4fc_level0_row1\" class=\"row_heading level0 row1\" >f0</th>\n",
              "                        <td id=\"T_4c4fc_row1_col0\" class=\"data row1 col0\" >0.000000</td>\n",
              "            </tr>\n",
              "            <tr>\n",
              "                        <th id=\"T_4c4fc_level0_row2\" class=\"row_heading level0 row2\" >f1</th>\n",
              "                        <td id=\"T_4c4fc_row2_col0\" class=\"data row2 col0\" >0.000000</td>\n",
              "            </tr>\n",
              "            <tr>\n",
              "                        <th id=\"T_4c4fc_level0_row3\" class=\"row_heading level0 row3\" >f2</th>\n",
              "                        <td id=\"T_4c4fc_row3_col0\" class=\"data row3 col0\" >0.000000</td>\n",
              "            </tr>\n",
              "            <tr>\n",
              "                        <th id=\"T_4c4fc_level0_row4\" class=\"row_heading level0 row4\" >product</th>\n",
              "                        <td id=\"T_4c4fc_row4_col0\" class=\"data row4 col0\" >0.000000</td>\n",
              "            </tr>\n",
              "    </tbody></table>"
            ],
            "text/plain": [
              "<pandas.io.formats.style.Styler at 0x7f9fdad941f0>"
            ]
          },
          "metadata": {},
          "output_type": "display_data"
        },
        {
          "data": {
            "text/html": [
              "<style  type=\"text/css\" >\n",
              "#T_e5861_row0_col0,#T_e5861_row1_col0,#T_e5861_row2_col0,#T_e5861_row3_col0,#T_e5861_row4_col0{\n",
              "            background-color:  #3b4cc0;\n",
              "            color:  #f1f1f1;\n",
              "        }</style><table id=\"T_e5861_\" ><thead>    <tr>        <th class=\"blank level0\" ></th>        <th class=\"col_heading level0 col0\" >0</th>    </tr></thead><tbody>\n",
              "                <tr>\n",
              "                        <th id=\"T_e5861_level0_row0\" class=\"row_heading level0 row0\" >id</th>\n",
              "                        <td id=\"T_e5861_row0_col0\" class=\"data row0 col0\" >0.000000</td>\n",
              "            </tr>\n",
              "            <tr>\n",
              "                        <th id=\"T_e5861_level0_row1\" class=\"row_heading level0 row1\" >f0</th>\n",
              "                        <td id=\"T_e5861_row1_col0\" class=\"data row1 col0\" >0.000000</td>\n",
              "            </tr>\n",
              "            <tr>\n",
              "                        <th id=\"T_e5861_level0_row2\" class=\"row_heading level0 row2\" >f1</th>\n",
              "                        <td id=\"T_e5861_row2_col0\" class=\"data row2 col0\" >0.000000</td>\n",
              "            </tr>\n",
              "            <tr>\n",
              "                        <th id=\"T_e5861_level0_row3\" class=\"row_heading level0 row3\" >f2</th>\n",
              "                        <td id=\"T_e5861_row3_col0\" class=\"data row3 col0\" >0.000000</td>\n",
              "            </tr>\n",
              "            <tr>\n",
              "                        <th id=\"T_e5861_level0_row4\" class=\"row_heading level0 row4\" >product</th>\n",
              "                        <td id=\"T_e5861_row4_col0\" class=\"data row4 col0\" >0.000000</td>\n",
              "            </tr>\n",
              "    </tbody></table>"
            ],
            "text/plain": [
              "<pandas.io.formats.style.Styler at 0x7f9fdabbd8e0>"
            ]
          },
          "metadata": {},
          "output_type": "display_data"
        },
        {
          "data": {
            "text/html": [
              "<style  type=\"text/css\" >\n",
              "#T_71430_row0_col0,#T_71430_row1_col0,#T_71430_row2_col0,#T_71430_row3_col0,#T_71430_row4_col0{\n",
              "            background-color:  #3b4cc0;\n",
              "            color:  #f1f1f1;\n",
              "        }</style><table id=\"T_71430_\" ><thead>    <tr>        <th class=\"blank level0\" ></th>        <th class=\"col_heading level0 col0\" >0</th>    </tr></thead><tbody>\n",
              "                <tr>\n",
              "                        <th id=\"T_71430_level0_row0\" class=\"row_heading level0 row0\" >id</th>\n",
              "                        <td id=\"T_71430_row0_col0\" class=\"data row0 col0\" >0.000000</td>\n",
              "            </tr>\n",
              "            <tr>\n",
              "                        <th id=\"T_71430_level0_row1\" class=\"row_heading level0 row1\" >f0</th>\n",
              "                        <td id=\"T_71430_row1_col0\" class=\"data row1 col0\" >0.000000</td>\n",
              "            </tr>\n",
              "            <tr>\n",
              "                        <th id=\"T_71430_level0_row2\" class=\"row_heading level0 row2\" >f1</th>\n",
              "                        <td id=\"T_71430_row2_col0\" class=\"data row2 col0\" >0.000000</td>\n",
              "            </tr>\n",
              "            <tr>\n",
              "                        <th id=\"T_71430_level0_row3\" class=\"row_heading level0 row3\" >f2</th>\n",
              "                        <td id=\"T_71430_row3_col0\" class=\"data row3 col0\" >0.000000</td>\n",
              "            </tr>\n",
              "            <tr>\n",
              "                        <th id=\"T_71430_level0_row4\" class=\"row_heading level0 row4\" >product</th>\n",
              "                        <td id=\"T_71430_row4_col0\" class=\"data row4 col0\" >0.000000</td>\n",
              "            </tr>\n",
              "    </tbody></table>"
            ],
            "text/plain": [
              "<pandas.io.formats.style.Styler at 0x7f9fdabbd970>"
            ]
          },
          "metadata": {},
          "output_type": "display_data"
        }
      ],
      "execution_count": 5
    },
    {
      "cell_type": "markdown",
      "source": "No gaps found. Checking for **obvious** duplicates:",
      "metadata": {}
    },
    {
      "cell_type": "code",
      "source": "df_0.duplicated().sum(), df_1.duplicated().sum(), df_2.duplicated().sum()",
      "metadata": {},
      "outputs": [
        {
          "data": {
            "text/plain": [
              "(0, 0, 0)"
            ]
          },
          "execution_count": 6,
          "metadata": {},
          "output_type": "execute_result"
        }
      ],
      "execution_count": 6
    },
    {
      "cell_type": "markdown",
      "source": "Let's look at the boxplots of features:",
      "metadata": {}
    },
    {
      "cell_type": "code",
      "source": "df_0.drop(['product'], axis=1).boxplot()\nplt.title('Boxplot for well characteristics in region 0')\nplt.ylabel('Numeric value')\nplt.xlabel('Attributes of points for a well')\nplt.show(\n    \n), df_1.drop(['product'], axis=1).boxplot()\nplt.title('Boxplot for region 1 well characteristics')\nplt.ylabel('Numeric value')\nplt.xlabel('Attributes of points for a well')\nplt.show()\n\ndf_2.drop(['product'], axis=1).boxplot()\nplt.title('Boxplot for region 2 well characteristics')\nplt.ylabel('Numeric value')\nplt.xlabel('Attributes of points for a well')\nplt.show()",
      "metadata": {
        "scrolled": true
      },
      "outputs": [
        {
          "data": {
            "image/png": "[encoded data removed]",
            "text/plain": [
              "<Figure size 432x288 with 1 Axes>"
            ]
          },
          "metadata": {
            "needs_background": "light"
          },
          "output_type": "display_data"
        },
        {
          "data": {
            "image/png": "[encoded data removed]",
            "text/plain": [
              "<Figure size 432x288 with 1 Axes>"
            ]
          },
          "metadata": {
            "needs_background": "light"
          },
          "output_type": "display_data"
        },
        {
          "data": {
            "image/png": "[encoded data removed]",
            "text/plain": [
              "<Figure size 432x288 with 1 Axes>"
            ]
          },
          "metadata": {
            "needs_background": "light"
          },
          "output_type": "display_data"
        }
      ],
      "execution_count": 7
    },
    {
      "cell_type": "markdown",
      "source": "<div class=\"alert alert-info\">\n\n\nОси и графики подписала\n    \n</div>",
      "metadata": {}
    },
    {
      "cell_type": "markdown",
      "source": "We see that data normalization will be needed.",
      "metadata": {}
    },
    {
      "cell_type": "markdown",
      "source": "<div class=\"alert alert-info\">\n\nДополняю проверку неявных дубликатов:\n    \n</div>",
      "metadata": {}
    },
    {
      "cell_type": "markdown",
      "source": "Checking for **implicit** duplicates:",
      "metadata": {}
    },
    {
      "cell_type": "code",
      "source": "df_0['id'].duplicated().sum(), df_1['id'].duplicated().sum(), df_2['id'].duplicated().sum()",
      "metadata": {},
      "outputs": [
        {
          "data": {
            "text/plain": [
              "(10, 4, 4)"
            ]
          },
          "execution_count": 8,
          "metadata": {},
          "output_type": "execute_result"
        }
      ],
      "execution_count": 8
    },
    {
      "cell_type": "markdown",
      "source": "We found 10 identical ids for df_0, 4 ids for df_1 and 4 ids for df_2, delete the corresponding rows from the data.",
      "metadata": {}
    },
    {
      "cell_type": "code",
      "source": "df_0=df_0[~df_0['id'].duplicated()]\ndf_1=df_1[~df_1['id'].duplicated()]\ndf_2=df_2[~df_2['id'].duplicated()]",
      "metadata": {},
      "outputs": [],
      "execution_count": 9
    },
    {
      "cell_type": "code",
      "source": "df_0['id'].duplicated().sum(), df_1['id'].duplicated().sum(), df_2['id'].duplicated().sum()",
      "metadata": {},
      "outputs": [
        {
          "data": {
            "text/plain": [
              "(0, 0, 0)"
            ]
          },
          "execution_count": 10,
          "metadata": {},
          "output_type": "execute_result"
        }
      ],
      "execution_count": 10
    },
    {
      "cell_type": "markdown",
      "source": "Let's look at the distribution of the target variable 'product' depending on the region.",
      "metadata": {}
    },
    {
      "cell_type": "code",
      "source": "df_0['product'].hist(bins=20)\nplt.title('Distribution of oil volume for wells in region 0')\nplt.ylabel('Number of wells')\nplt.xlabel('Volume, thousand barrels')\nplt.show()",
      "metadata": {},
      "outputs": [
        {
          "data": {
            "image/png": "[encoded data removed]",
            "text/plain": [
              "<Figure size 432x288 with 1 Axes>"
            ]
          },
          "metadata": {
            "needs_background": "light"
          },
          "output_type": "display_data"
        }
      ],
      "execution_count": 11
    },
    {
      "cell_type": "code",
      "source": "df_1['product'].hist(bins=20)\nplt.title('Distribution of oil volume for wells in region 1')\nplt.ylabel('Number of wells')\nplt.xlabel('Volume, thousand barrels')\nplt.show()",
      "metadata": {},
      "outputs": [
        {
          "data": {
            "image/png": "[encoded data removed]",
            "text/plain": [
              "<Figure size 432x288 with 1 Axes>"
            ]
          },
          "metadata": {
            "needs_background": "light"
          },
          "output_type": "display_data"
        }
      ],
      "execution_count": 12
    },
    {
      "cell_type": "code",
      "source": "df_2['product'].hist(bins=20)\nplt.title('Distribution of oil volume for wells in region 0')\nplt.ylabel('Number of wells')\nplt.xlabel('Volume, thousand barrels')\nplt.show()",
      "metadata": {},
      "outputs": [
        {
          "data": {
            "image/png": "[encoded data removed]",
            "text/plain": [
              "<Figure size 432x288 with 1 Axes>"
            ]
          },
          "metadata": {
            "needs_background": "light"
          },
          "output_type": "display_data"
        }
      ],
      "execution_count": 13
    },
    {
      "cell_type": "markdown",
      "source": "The distribution of the target variable 0 and 2 are similar and close to normal, and in region 1 there is a large value of wells with zero volume of raw materials and maximum...",
      "metadata": {}
    },
    {
      "cell_type": "markdown",
      "source": "Let's conduct a study on collinearity of features:",
      "metadata": {}
    },
    {
      "cell_type": "code",
      "source": "sns.heatmap(df_0.corr())\nplt.show()",
      "metadata": {},
      "outputs": [
        {
          "data": {
            "image/png": "[encoded data removed]",
            "text/plain": [
              "<Figure size 432x288 with 2 Axes>"
            ]
          },
          "metadata": {
            "needs_background": "light"
          },
          "output_type": "display_data"
        }
      ],
      "execution_count": 14
    },
    {
      "cell_type": "markdown",
      "source": "None of the features has a high correlation with the target feature; there is a very low correlation between f1, f0.",
      "metadata": {}
    },
    {
      "cell_type": "code",
      "source": "sns.heatmap(df_1.corr())\nplt.show()",
      "metadata": {},
      "outputs": [
        {
          "data": {
            "image/png": "[encoded data removed]",
            "text/plain": [
              "<Figure size 432x288 with 2 Axes>"
            ]
          },
          "metadata": {
            "needs_background": "light"
          },
          "output_type": "display_data"
        }
      ],
      "execution_count": 15
    },
    {
      "cell_type": "markdown",
      "source": "For region 1 there is also no strong correlation between the characteristics; there is a low correlation between all f0, f1, f2 and a high correlation between f2 and the target feature.",
      "metadata": {}
    },
    {
      "cell_type": "code",
      "source": "sns.heatmap(df_2.corr())\nplt.show()",
      "metadata": {
        "scrolled": true
      },
      "outputs": [
        {
          "data": {
            "image/png": "[encoded data removed]",
            "text/plain": [
              "<Figure size 432x288 with 2 Axes>"
            ]
          },
          "metadata": {
            "needs_background": "light"
          },
          "output_type": "display_data"
        }
      ],
      "execution_count": 16
    },
    {
      "cell_type": "markdown",
      "source": "Also very low correlation between the target variable and other features.\r\n\r\nConclusion: a strong linear relationship between non-target features was not found for any of the regions.",
      "metadata": {}
    },
    {
      "cell_type": "markdown",
      "source": "**Conclusion from step 1:** Oil data for three regions has been imported, no gaps or duplicates were found, the data type is correct.",
      "metadata": {}
    },
    {
      "cell_type": "markdown",
      "source": "## Training and checking models",
      "metadata": {}
    },
    {
      "cell_type": "markdown",
      "source": "2.1. Split the data into training and validation sets in a ratio of 75:25.\r\n  Let's remove the unnecessary 'id' column",
      "metadata": {}
    },
    {
      "cell_type": "markdown",
      "source": "2.2. Train the model and make predictions on the validation set.\n",
      "metadata": {}
    },
    {
      "cell_type": "markdown",
      "source": "Since we are using a linear model, we need to scale the numerical features:\r\nLet's write a function to train the model:",
      "metadata": {}
    },
    {
      "cell_type": "markdown",
      "source": "2.3. Store predictions and correct answers on the validation set.",
      "metadata": {}
    },
    {
      "cell_type": "code",
      "source": "def split_sample(data):\n    #разбивка\n    data_target_train, data_target_valid, data_feature_train, data_feature_valid = train_test_split(\n    data['product'],\n        data.drop(['product','id'], axis=1), \n        test_size=0.25, \n        random_state=12345)\n    \n    #масштабирование\n    scaler = StandardScaler()\n    scaler.fit(data_feature_train)\n    data_feature_train = scaler.transform(data_feature_train)\n    data_feature_valid = scaler.transform(data_feature_valid)\n    \n    #обучение модели\n    model = LinearRegression()\n    model.fit(data_feature_train, data_target_train) \n    model.predict(data_feature_valid)\n    \n    \n    #оценка среднего значения запаса в скажинах\n    predictions_valid = model.predict(data_feature_valid) \n    reserve = round(predictions_valid.mean(),2)\n        \n    #print(\"Средний запас предсказзаного сырья для местности 0:\", reserve_0)\n    \n    \n    # значение метрики RMSE на валидационной выборке\n    result = mean_squared_error(data_target_valid, predictions_valid)**0.5\n    \n    return data_target_train, data_target_valid, data_feature_train, data_feature_valid, predictions_valid, reserve, result\n    ",
      "metadata": {},
      "outputs": [],
      "execution_count": 17
    },
    {
      "cell_type": "code",
      "source": "#определение признкаов и разбивка, оценка среднего объема и ошибки для df_0\ndf_0_target_train, df_0_target_valid, df_0_features_train, df_0_features_valid, predictions_valid_0, reserve_0, result_0 = split_sample(df_0)\n\n#определение признкаов и разбивка ,оценка среднего объема и ошибки для df_1\ndf_1_target_train, df_1_target_valid, df_1_features_train, df_1_features_valid, predictions_valid_1, reserve_1, result_1 = split_sample(df_1)\n\n#определение признкаов и разбивка ,оценка среднего объема и ошибки для df_2\ndf_2_target_train, df_2_target_valid, df_2_features_train, df_2_features_valid, predictions_valid_2, reserve_2, result_2 = split_sample(df_2)\n",
      "metadata": {
        "scrolled": true
      },
      "outputs": [],
      "execution_count": 18
    },
    {
      "cell_type": "code",
      "source": "df_0_features_train.shape, df_1_features_train.shape, df_2_features_train.shape",
      "metadata": {
        "scrolled": true
      },
      "outputs": [
        {
          "data": {
            "text/plain": [
              "((74992, 3), (74997, 3), (74997, 3))"
            ]
          },
          "execution_count": 19,
          "metadata": {},
          "output_type": "execute_result"
        }
      ],
      "execution_count": 19
    },
    {
      "cell_type": "markdown",
      "source": " 2.4. Напечатайте на экране средний запас предсказанного сырья и RMSE модели. ",
      "metadata": {}
    },
    {
      "cell_type": "code",
      "source": " # средний запас предсказанного сырья\nprint(\"Average reserve of predicted raw materials for area 0:\", reserve_0)\n\nprint(\"RMSE of linear regression model on validation set df_0:\", result_0)",
      "metadata": {},
      "outputs": [
        {
          "name": "stdout",
          "output_type": "stream",
          "text": [
            "Average reserve of predicted raw materials for area 0: 92.79\n",
            "RMSE of linear regression model on validation set df_0: 37.853527328872964\n"
          ]
        }
      ],
      "execution_count": 20
    },
    {
      "cell_type": "code",
      "source": "print(\"Average stock of predicted raw materials for area 1:\", reserve_1)\n\nprint(\"RMSE of linear regression model on validation set df_1:\", result_1)",
      "metadata": {
        "scrolled": true
      },
      "outputs": [
        {
          "name": "stdout",
          "output_type": "stream",
          "text": [
            "Average stock of predicted raw materials for area 1: 69.18\n",
            "RMSE of linear regression model on validation set df_1: 0.8920592647717033\n"
          ]
        }
      ],
      "execution_count": 21
    },
    {
      "cell_type": "code",
      "source": "print(\"Average reserve of predicted raw materials for area 2:\", reserve_2)\n\nprint(\"RMSE of linear regression model on validation set df_2:\", result_2)",
      "metadata": {},
      "outputs": [
        {
          "name": "stdout",
          "output_type": "stream",
          "text": [
            "Average reserve of predicted raw materials for area 2: 94.87\n",
            "RMSE of linear regression model on validation set df_2: 40.07585073246016\n"
          ]
        }
      ],
      "execution_count": 22
    },
    {
      "cell_type": "markdown",
      "source": "The training showed that the largest supply of predicted raw materials is in the region for df_2, but the error is also the largest there, and in the region for df_1 it is the smallest.",
      "metadata": {}
    },
    {
      "cell_type": "markdown",
      "source": "## Preparation for profit calculation",
      "metadata": {}
    },
    {
      "cell_type": "markdown",
      "source": "Prepare to calculate your profit:\r\n\r\n  3.1. Save all key values for calculations in separate variables.",
      "metadata": {}
    },
    {
      "cell_type": "markdown",
      "source": "Let's keep in the variables the price per thousand barrels of oil - 450 thousand rubles, the budget for the development of wells in the region - 10 billion rubles, 500 points for research and 200 of the best of them.",
      "metadata": {}
    },
    {
      "cell_type": "code",
      "source": "PRICE_PER_TSD_BARREL = 450000\nCOSTS_PER_REGION= 10*10**9\nN_EXAMINE = 500\nN_BEST = 200",
      "metadata": {},
      "outputs": [],
      "execution_count": 23
    },
    {
      "cell_type": "markdown",
      "source": "3.2. Calculate the sufficient volume of raw materials to break even the development of a new well. Compare the resulting volume of raw materials with the average stock in each region",
      "metadata": {}
    },
    {
      "cell_type": "code",
      "source": "VOLUME_MIN = round(COSTS_PER_REGION/(PRICE_PER_TSD_BARREL*N_BEST) ,2)\nVOLUME_MIN",
      "metadata": {},
      "outputs": [
        {
          "data": {
            "text/plain": [
              "111.11"
            ]
          },
          "execution_count": 24,
          "metadata": {},
          "output_type": "execute_result"
        }
      ],
      "execution_count": 24
    },
    {
      "cell_type": "markdown",
      "source": "The minimum production volume from one well must be no less than 111.11 thousand barrels for the well to break even.4\r\n\r\nAccording to the calculations above, the average volume for each region is 92.79,69.18, 94.86 thousand barrels, which is lower than the required volume of 111.111 thousand barrels.",
      "metadata": {}
    },
    {
      "cell_type": "markdown",
      "source": "3.3. Write conclusions on the stage of preparing the profit calculation.",
      "metadata": {}
    },
    {
      "cell_type": "markdown",
      "source": "Based on calculations, the average volume of oil reserves in one well in any region does not reach the payback point of 111.11 thousand barrels. The largest average reserve reserve was found in region 1",
      "metadata": {}
    },
    {
      "cell_type": "markdown",
      "source": "During model training, the expected average volume of oil in wells was predicted and the break-even threshold was calculated. Since the calculation was carried out for all wells in each region, and from the distribution we saw that there was a significant portion of wells with zero reserves, the average value turned out to be below the payback point. During field development, 500 points will be explored, of which 200 will be developed and the risk and profit must be assessed. To do this, we will use the bootstrap technique.",
      "metadata": {}
    },
    {
      "cell_type": "markdown",
      "source": "## Calculation of profits and risks",
      "metadata": {}
    },
    {
      "cell_type": "markdown",
      "source": "Write a function to calculate profits for selected wells and model predictions:\r\n\r\n  4.1. Select wells with maximum prediction values.\r\n \r\n  4.2. Sum up the raw material volume target corresponding to these predictions.\r\n \r\n  4.3. Calculate the profit for the received volume of raw materials.",
      "metadata": {}
    },
    {
      "cell_type": "code",
      "source": "def revenue(target, predictions,n ):\n    #в целевом признаке сбросим индексы \n    target_reset = target.reset_index(drop=True)\n    #преобразуем предсказания в объект Series, чтобы получить индексы, и отсортируем \n    predict_sorted = pd.Series(predictions).sort_values(ascending=False)\n    #выберем целевое значение, соответствующее 200 макс. предсказаниям \n    selected = target_reset[predict_sorted.index][:n]  \n    #посчитаем прибыль с этих скважин\n\n    return (PRICE_PER_TSD_BARREL *selected.sum()-COSTS_PER_REGION)/10**6\n",
      "metadata": {},
      "outputs": [],
      "execution_count": 25
    },
    {
      "cell_type": "markdown",
      "source": "We display the profit for the resulting volume for each region.",
      "metadata": {}
    },
    {
      "cell_type": "code",
      "source": "print(\"Profit from 200 wells with maximum oil reserves for region 0:\", round(\n    revenue(df_0_target_valid,predictions_valid_0, N_BEST),3),\"mil rub\")\nprint(\"for region 1:\", round(revenue(df_1_target_valid,predictions_valid_1,N_BEST),3),\"mil. rub.\")\nprint(\"for region 2:\", round(revenue(df_2_target_valid,predictions_valid_2,N_BEST),3),\"mil. rub.\")",
      "metadata": {
        "scrolled": true
      },
      "outputs": [
        {
          "name": "stdout",
          "output_type": "stream",
          "text": [
            "Profit from 200 wells with maximum oil reserves for region 0: 3365.187 mil rub\n",
            "for region 1: 2415.087 mil. rub.\n",
            "for region 2: 2501.284 mil. rub.\n"
          ]
        }
      ],
      "execution_count": 30
    },
    {
      "cell_type": "markdown",
      "source": "The calculation shows that the greatest profit would be brought by wells developed in the region 0 - 3.365 billion rubles.",
      "metadata": {}
    },
    {
      "cell_type": "markdown",
      "source": "Calculate the risks and benefits for each region:\r\n\r\n  5.1. Apply the Bootstrap technique with 1000 samples to find the profit distribution.\r\n \r\n  5.2. Find the average return, 95% confidence interval, and risk of loss. A loss is a negative profit.\r\n \r\n  5.3. Write your conclusions: suggest a region for well development and justify your choice.",
      "metadata": {}
    },
    {
      "cell_type": "code",
      "source": "state = np.random.RandomState(12345)   \n\ndef bootstrap_revenue(target, predictions):\n    values = []\n    for i in range(1000):\n  \n        target_subsample = target.reset_index(drop=True).sample(n=N_EXAMINE, replace=True, random_state=state)\n        pred_subsample = predictions[target_subsample.index]\n        values.append(revenue(target_subsample, pred_subsample, N_BEST))\n\n    values = pd.Series(values)\n    lower = values.quantile(0.025) \n    upper = values.quantile(0.975)\n    confidence_interval = (lower, upper)\n\n    mean = values.mean()\n    print(\"Average revenue:\", round(mean,2),\"mln. rub.\")\n    loss_probability = round(((values < 0).mean()*100),2)\n      \n    print(\"Confidence interval, minimum:\", round(lower,2),\"million rubles.\")\n    print(\"Confidence interval, maximum:\", round(upper,2),\"million rubles.\")\n    print(\"Risks of loss:\", loss_probability ,\"%\")\n    print()\n",
      "metadata": {},
      "outputs": [],
      "execution_count": 33
    },
    {
      "cell_type": "markdown",
      "source": "**GENERAL CONCLUSION:**\r\n- Data were obtained for three regions with characteristics for each well. The data were analyzed and no preprocessing was required.\r\n\r\n- A linear regression model was used for the study.\r\n\r\n- The break-even point was found - 111.11 thousand barrels for one well.\r\n\r\n- Profit was found for each region with the 200 most profitable wells: Profit from 200 wells with the maximum volume of oil reserves\r\n\r\n     for region 0: 3365.187 million rubles.\r\n    \r\n     for region 1: 2415.087 million rubles.\r\n    \r\n     for region 2: 2501.284 million rubles.\r\n    \r\n\r\n  - Using the bootstrap technique, the average profit, 95% confidence interval and risk of loss for each region were found. It turned out that the lowest risk of loss in the region is 1-0.6% and the maximum profit is 479.16 million rubles.\r\n \r\n  Based on this study, development should be carried out in Region 1.",
      "metadata": {}
    }
  ]
}
