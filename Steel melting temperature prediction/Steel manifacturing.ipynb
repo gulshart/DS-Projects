{
  "metadata": {
    "kernelspec": {
      "name": "python",
      "display_name": "Python (Pyodide)",
      "language": "python"
    },
    "language_info": {
      "codemirror_mode": {
        "name": "ipython",
        "version": 3
      },
      "file_extension": ".py",
      "mimetype": "text/x-python",
      "name": "python",
      "nbconvert_exporter": "python",
      "pygments_lexer": "ipython3",
      "version": "3.9.5"
    },
    "ExecuteTimeLog": [
      {
        "duration": 394,
        "start_time": "2024-04-12T09:41:33.253Z"
      },
      {
        "duration": 2,
        "start_time": "2024-04-12T09:41:35.787Z"
      },
      {
        "duration": 184,
        "start_time": "2024-04-12T09:45:24.736Z"
      },
      {
        "duration": 62,
        "start_time": "2024-04-12T09:45:28.667Z"
      },
      {
        "duration": 61,
        "start_time": "2024-04-12T09:45:40.297Z"
      },
      {
        "duration": 119,
        "start_time": "2024-04-12T09:45:50.755Z"
      },
      {
        "duration": 94,
        "start_time": "2024-04-12T09:46:19.671Z"
      },
      {
        "duration": 108,
        "start_time": "2024-04-12T09:46:32.194Z"
      },
      {
        "duration": 166,
        "start_time": "2024-04-12T09:47:18.050Z"
      },
      {
        "duration": 113,
        "start_time": "2024-04-12T09:47:19.572Z"
      },
      {
        "duration": 115,
        "start_time": "2024-04-12T09:47:20.818Z"
      },
      {
        "duration": 39,
        "start_time": "2024-04-12T09:47:37.388Z"
      },
      {
        "duration": 40,
        "start_time": "2024-04-12T09:47:55.823Z"
      },
      {
        "duration": 109,
        "start_time": "2024-04-12T09:55:01.290Z"
      },
      {
        "duration": 56,
        "start_time": "2024-04-12T09:55:05.111Z"
      },
      {
        "duration": 63,
        "start_time": "2024-04-12T09:55:12.398Z"
      },
      {
        "duration": 4,
        "start_time": "2024-04-12T10:00:12.180Z"
      },
      {
        "duration": 4,
        "start_time": "2024-04-12T10:00:16.165Z"
      },
      {
        "duration": 5,
        "start_time": "2024-04-12T10:00:33.522Z"
      },
      {
        "duration": 5,
        "start_time": "2024-04-12T10:00:45.599Z"
      },
      {
        "duration": 48,
        "start_time": "2024-04-12T10:21:05.852Z"
      },
      {
        "duration": 43,
        "start_time": "2024-04-12T10:21:28.607Z"
      },
      {
        "duration": 46,
        "start_time": "2024-04-12T10:21:34.965Z"
      },
      {
        "duration": 35,
        "start_time": "2024-04-12T10:27:57.195Z"
      },
      {
        "duration": 32,
        "start_time": "2024-04-12T10:28:24.345Z"
      },
      {
        "duration": 31,
        "start_time": "2024-04-12T10:28:33.733Z"
      },
      {
        "duration": 29,
        "start_time": "2024-04-12T10:28:41.582Z"
      },
      {
        "duration": 35,
        "start_time": "2024-04-12T10:28:53.436Z"
      },
      {
        "duration": 113,
        "start_time": "2024-04-12T11:58:36.943Z"
      },
      {
        "duration": 3,
        "start_time": "2024-04-12T11:58:48.929Z"
      },
      {
        "duration": 10,
        "start_time": "2024-04-12T11:59:04.184Z"
      },
      {
        "duration": 7,
        "start_time": "2024-04-12T11:59:07.235Z"
      },
      {
        "duration": 4,
        "start_time": "2024-04-12T11:59:12.732Z"
      },
      {
        "duration": 4,
        "start_time": "2024-04-12T11:59:25.176Z"
      },
      {
        "duration": 3,
        "start_time": "2024-04-12T11:59:31.559Z"
      },
      {
        "duration": 4,
        "start_time": "2024-04-12T11:59:36.222Z"
      },
      {
        "duration": 4,
        "start_time": "2024-04-12T11:59:41.037Z"
      },
      {
        "duration": 5,
        "start_time": "2024-04-12T12:51:17.508Z"
      },
      {
        "duration": 4,
        "start_time": "2024-04-12T12:51:23.256Z"
      },
      {
        "duration": 48,
        "start_time": "2024-04-12T14:42:43.545Z"
      },
      {
        "duration": 46,
        "start_time": "2024-04-12T14:43:08.095Z"
      },
      {
        "duration": 425,
        "start_time": "2024-04-13T11:32:06.071Z"
      },
      {
        "duration": 2,
        "start_time": "2024-04-13T11:32:14.171Z"
      },
      {
        "duration": 60,
        "start_time": "2024-04-13T11:33:12.428Z"
      },
      {
        "duration": 3,
        "start_time": "2024-04-13T11:33:18.424Z"
      },
      {
        "duration": 96,
        "start_time": "2024-04-13T11:37:29.559Z"
      },
      {
        "duration": 24,
        "start_time": "2024-04-13T11:37:31.332Z"
      },
      {
        "duration": 509,
        "start_time": "2024-04-13T11:39:54.998Z"
      },
      {
        "duration": 3,
        "start_time": "2024-04-13T11:40:56.513Z"
      },
      {
        "duration": 610,
        "start_time": "2024-04-13T11:41:19.347Z"
      },
      {
        "duration": 3,
        "start_time": "2024-04-13T11:42:00.890Z"
      },
      {
        "duration": 302,
        "start_time": "2024-04-13T11:42:04.614Z"
      },
      {
        "duration": 3,
        "start_time": "2024-04-13T11:42:38.659Z"
      },
      {
        "duration": 264,
        "start_time": "2024-04-13T11:42:45.010Z"
      },
      {
        "duration": 279,
        "start_time": "2024-04-13T11:43:08.686Z"
      },
      {
        "duration": 272,
        "start_time": "2024-04-13T11:43:14.673Z"
      },
      {
        "duration": 456,
        "start_time": "2024-04-13T11:45:10.156Z"
      },
      {
        "duration": 2,
        "start_time": "2024-04-13T11:45:53.799Z"
      },
      {
        "duration": 549,
        "start_time": "2024-04-13T11:45:56.856Z"
      },
      {
        "duration": 444,
        "start_time": "2024-04-13T11:46:13.355Z"
      },
      {
        "duration": 441,
        "start_time": "2024-04-13T11:46:22.983Z"
      },
      {
        "duration": 471,
        "start_time": "2024-04-13T11:46:26.914Z"
      },
      {
        "duration": 3,
        "start_time": "2024-04-13T11:46:59.937Z"
      },
      {
        "duration": 286,
        "start_time": "2024-04-13T11:47:03.899Z"
      },
      {
        "duration": 3,
        "start_time": "2024-04-13T11:47:13.689Z"
      },
      {
        "duration": 322,
        "start_time": "2024-04-13T11:47:15.441Z"
      },
      {
        "duration": 3,
        "start_time": "2024-04-13T11:47:39.565Z"
      },
      {
        "duration": 295,
        "start_time": "2024-04-13T11:47:41.246Z"
      },
      {
        "duration": 3,
        "start_time": "2024-04-13T11:47:56.935Z"
      },
      {
        "duration": 474,
        "start_time": "2024-04-13T11:47:58.061Z"
      },
      {
        "duration": 3,
        "start_time": "2024-04-13T11:49:16.419Z"
      },
      {
        "duration": 339,
        "start_time": "2024-04-13T11:49:17.615Z"
      },
      {
        "duration": 99,
        "start_time": "2024-04-13T11:51:01.169Z"
      },
      {
        "duration": 453,
        "start_time": "2024-04-13T11:51:01.507Z"
      },
      {
        "duration": 3,
        "start_time": "2024-04-13T11:51:09.094Z"
      },
      {
        "duration": 31,
        "start_time": "2024-04-13T11:51:09.440Z"
      },
      {
        "duration": 3,
        "start_time": "2024-04-13T11:51:20.659Z"
      },
      {
        "duration": 256,
        "start_time": "2024-04-13T11:51:21.492Z"
      },
      {
        "duration": 988,
        "start_time": "2024-04-13T11:52:40.857Z"
      },
      {
        "duration": 3,
        "start_time": "2024-04-13T11:52:52.018Z"
      },
      {
        "duration": 366,
        "start_time": "2024-04-13T11:52:52.402Z"
      },
      {
        "duration": 1033,
        "start_time": "2024-04-13T11:52:52.770Z"
      },
      {
        "duration": 1060,
        "start_time": "2024-04-13T11:53:01.580Z"
      },
      {
        "duration": 4,
        "start_time": "2024-04-13T11:53:08.224Z"
      },
      {
        "duration": 260,
        "start_time": "2024-04-13T11:53:08.773Z"
      },
      {
        "duration": 1242,
        "start_time": "2024-04-13T11:53:09.093Z"
      },
      {
        "duration": 57,
        "start_time": "2024-04-13T11:53:10.336Z"
      },
      {
        "duration": 3,
        "start_time": "2024-04-13T11:53:17.153Z"
      },
      {
        "duration": 244,
        "start_time": "2024-04-13T11:53:17.835Z"
      },
      {
        "duration": 951,
        "start_time": "2024-04-13T11:53:18.123Z"
      },
      {
        "duration": 55,
        "start_time": "2024-04-13T11:53:19.075Z"
      },
      {
        "duration": 46,
        "start_time": "2024-04-13T11:53:21.737Z"
      },
      {
        "duration": 1048,
        "start_time": "2024-04-13T11:53:28.513Z"
      },
      {
        "duration": 3,
        "start_time": "2024-04-13T11:55:00.793Z"
      },
      {
        "duration": 354,
        "start_time": "2024-04-13T11:55:07.271Z"
      },
      {
        "duration": 261,
        "start_time": "2024-04-13T11:55:17.557Z"
      },
      {
        "duration": 6,
        "start_time": "2024-04-13T11:55:18.564Z"
      },
      {
        "duration": 1205,
        "start_time": "2024-04-13T11:55:34.821Z"
      },
      {
        "duration": 1210,
        "start_time": "2024-04-13T11:55:41.957Z"
      },
      {
        "duration": 58,
        "start_time": "2024-04-13T11:55:43.169Z"
      },
      {
        "duration": 1510,
        "start_time": "2024-04-13T11:55:46.702Z"
      },
      {
        "duration": 54,
        "start_time": "2024-04-13T11:55:48.214Z"
      },
      {
        "duration": 227,
        "start_time": "2024-04-13T11:55:58.821Z"
      },
      {
        "duration": 1469,
        "start_time": "2024-04-13T11:55:59.121Z"
      },
      {
        "duration": 3,
        "start_time": "2024-04-13T11:56:09.564Z"
      },
      {
        "duration": 214,
        "start_time": "2024-04-13T11:56:10.395Z"
      },
      {
        "duration": 263,
        "start_time": "2024-04-13T11:56:16.618Z"
      },
      {
        "duration": 1508,
        "start_time": "2024-04-13T11:56:16.982Z"
      },
      {
        "duration": 272,
        "start_time": "2024-04-13T11:56:22.019Z"
      },
      {
        "duration": 1486,
        "start_time": "2024-04-13T11:56:22.293Z"
      },
      {
        "duration": 261,
        "start_time": "2024-04-13T11:56:28.084Z"
      },
      {
        "duration": 261,
        "start_time": "2024-04-13T11:56:32.398Z"
      },
      {
        "duration": 1447,
        "start_time": "2024-04-13T11:56:33.073Z"
      },
      {
        "duration": 249,
        "start_time": "2024-04-13T11:56:38.670Z"
      },
      {
        "duration": 3,
        "start_time": "2024-04-13T12:00:03.997Z"
      },
      {
        "duration": 255,
        "start_time": "2024-04-13T12:00:04.745Z"
      },
      {
        "duration": 5,
        "start_time": "2024-04-13T12:00:54.433Z"
      },
      {
        "duration": 268,
        "start_time": "2024-04-13T12:00:54.755Z"
      },
      {
        "duration": 351,
        "start_time": "2024-04-13T12:01:04.932Z"
      },
      {
        "duration": 3,
        "start_time": "2024-04-13T12:30:00.622Z"
      },
      {
        "duration": 268,
        "start_time": "2024-04-13T12:30:00.945Z"
      },
      {
        "duration": 1434,
        "start_time": "2024-04-13T12:30:02.373Z"
      },
      {
        "duration": 38,
        "start_time": "2024-04-13T12:30:41.016Z"
      },
      {
        "duration": 4,
        "start_time": "2024-04-13T12:30:52.900Z"
      },
      {
        "duration": 257,
        "start_time": "2024-04-13T12:30:55.869Z"
      },
      {
        "duration": 1512,
        "start_time": "2024-04-13T12:31:03.113Z"
      },
      {
        "duration": 38,
        "start_time": "2024-04-13T12:31:11.008Z"
      },
      {
        "duration": 16,
        "start_time": "2024-04-13T12:31:24.800Z"
      },
      {
        "duration": 12,
        "start_time": "2024-04-13T12:32:04.981Z"
      },
      {
        "duration": 10,
        "start_time": "2024-04-13T12:32:08.619Z"
      },
      {
        "duration": 19,
        "start_time": "2024-04-13T12:32:34.077Z"
      },
      {
        "duration": 13,
        "start_time": "2024-04-13T12:32:49.551Z"
      },
      {
        "duration": 163,
        "start_time": "2024-04-13T12:33:10.007Z"
      },
      {
        "duration": 152,
        "start_time": "2024-04-13T12:33:30.054Z"
      },
      {
        "duration": 144,
        "start_time": "2024-04-13T12:33:57.415Z"
      },
      {
        "duration": 709,
        "start_time": "2024-04-13T12:34:13.830Z"
      },
      {
        "duration": 859,
        "start_time": "2024-04-13T12:34:22.888Z"
      },
      {
        "duration": 851,
        "start_time": "2024-04-13T12:34:30.082Z"
      },
      {
        "duration": 26,
        "start_time": "2024-04-13T12:34:58.567Z"
      },
      {
        "duration": 10,
        "start_time": "2024-04-13T12:35:12.112Z"
      },
      {
        "duration": 11,
        "start_time": "2024-04-13T12:35:19.591Z"
      },
      {
        "duration": 17,
        "start_time": "2024-04-13T12:35:29.534Z"
      },
      {
        "duration": 18,
        "start_time": "2024-04-13T12:37:23.014Z"
      },
      {
        "duration": 219,
        "start_time": "2024-04-13T12:37:41.636Z"
      },
      {
        "duration": 1120,
        "start_time": "2024-04-13T12:37:47.090Z"
      },
      {
        "duration": 327,
        "start_time": "2024-04-13T12:37:52.246Z"
      },
      {
        "duration": 254,
        "start_time": "2024-04-13T12:38:02.038Z"
      },
      {
        "duration": 255,
        "start_time": "2024-04-13T12:38:09.140Z"
      },
      {
        "duration": 287,
        "start_time": "2024-04-13T12:38:15.272Z"
      },
      {
        "duration": 5,
        "start_time": "2024-04-13T13:23:58.559Z"
      },
      {
        "duration": 9,
        "start_time": "2024-04-13T13:24:12.492Z"
      },
      {
        "duration": 8,
        "start_time": "2024-04-13T13:24:28.371Z"
      },
      {
        "duration": 133,
        "start_time": "2024-04-13T13:25:01.250Z"
      },
      {
        "duration": 8,
        "start_time": "2024-04-13T13:25:48.210Z"
      },
      {
        "duration": 87,
        "start_time": "2024-04-13T13:26:26.028Z"
      },
      {
        "duration": 82,
        "start_time": "2024-04-13T13:26:44.546Z"
      },
      {
        "duration": 59,
        "start_time": "2024-04-13T13:27:04.589Z"
      },
      {
        "duration": 89,
        "start_time": "2024-04-13T13:27:09.617Z"
      },
      {
        "duration": 4,
        "start_time": "2024-04-13T13:29:19.050Z"
      },
      {
        "duration": 6,
        "start_time": "2024-04-13T13:29:25.268Z"
      },
      {
        "duration": 361,
        "start_time": "2024-04-13T13:29:31.494Z"
      },
      {
        "duration": 249,
        "start_time": "2024-04-13T13:29:59.270Z"
      },
      {
        "duration": 246,
        "start_time": "2024-04-13T13:30:05.658Z"
      },
      {
        "duration": 121,
        "start_time": "2024-04-13T13:32:11.293Z"
      },
      {
        "duration": 155,
        "start_time": "2024-04-13T13:32:20.873Z"
      },
      {
        "duration": 158,
        "start_time": "2024-04-13T13:32:42.443Z"
      },
      {
        "duration": 12,
        "start_time": "2024-04-13T13:35:55.734Z"
      },
      {
        "duration": 18,
        "start_time": "2024-04-13T13:36:07.202Z"
      },
      {
        "duration": 18,
        "start_time": "2024-04-13T13:36:23.943Z"
      },
      {
        "duration": 17,
        "start_time": "2024-04-13T13:36:43.129Z"
      },
      {
        "duration": 30,
        "start_time": "2024-04-13T13:38:03.414Z"
      },
      {
        "duration": 30,
        "start_time": "2024-04-13T13:56:39.752Z"
      },
      {
        "duration": 12,
        "start_time": "2024-04-13T13:56:53.254Z"
      },
      {
        "duration": 11,
        "start_time": "2024-04-13T13:57:08.880Z"
      },
      {
        "duration": 19,
        "start_time": "2024-04-13T13:57:16.727Z"
      },
      {
        "duration": 69,
        "start_time": "2024-04-13T14:44:28.913Z"
      },
      {
        "duration": 0,
        "start_time": "2024-04-13T14:44:28.984Z"
      },
      {
        "duration": 148,
        "start_time": "2024-04-13T14:44:35.487Z"
      },
      {
        "duration": 157,
        "start_time": "2024-04-13T14:44:53.389Z"
      },
      {
        "duration": 293,
        "start_time": "2024-04-13T14:46:29.055Z"
      },
      {
        "duration": 149,
        "start_time": "2024-04-13T14:46:35.159Z"
      },
      {
        "duration": 54,
        "start_time": "2024-04-13T14:48:26.569Z"
      },
      {
        "duration": 55,
        "start_time": "2024-04-13T14:49:30.554Z"
      },
      {
        "duration": 10,
        "start_time": "2024-04-13T14:49:37.447Z"
      },
      {
        "duration": 4,
        "start_time": "2024-04-13T14:49:45.533Z"
      },
      {
        "duration": 17,
        "start_time": "2024-04-13T14:49:49.289Z"
      },
      {
        "duration": 13,
        "start_time": "2024-04-13T14:49:53.786Z"
      },
      {
        "duration": 2,
        "start_time": "2024-04-13T14:52:11.384Z"
      },
      {
        "duration": 189,
        "start_time": "2024-04-13T14:52:11.388Z"
      },
      {
        "duration": 3,
        "start_time": "2024-04-13T14:52:11.579Z"
      },
      {
        "duration": 301,
        "start_time": "2024-04-13T14:52:11.583Z"
      },
      {
        "duration": 161,
        "start_time": "2024-04-13T14:52:11.886Z"
      },
      {
        "duration": 1464,
        "start_time": "2024-04-13T14:52:12.049Z"
      },
      {
        "duration": 17,
        "start_time": "2024-04-13T14:52:13.515Z"
      },
      {
        "duration": 28,
        "start_time": "2024-04-13T14:52:13.533Z"
      },
      {
        "duration": 154,
        "start_time": "2024-04-13T14:52:13.563Z"
      },
      {
        "duration": 169,
        "start_time": "2024-04-13T14:52:13.719Z"
      },
      {
        "duration": 855,
        "start_time": "2024-04-13T14:52:13.890Z"
      },
      {
        "duration": 13,
        "start_time": "2024-04-13T14:52:14.746Z"
      },
      {
        "duration": 38,
        "start_time": "2024-04-13T14:52:14.761Z"
      },
      {
        "duration": 45,
        "start_time": "2024-04-14T15:41:24.244Z"
      },
      {
        "duration": 774,
        "start_time": "2024-04-14T15:41:29.097Z"
      },
      {
        "duration": 626,
        "start_time": "2024-04-14T15:41:35.531Z"
      },
      {
        "duration": 3,
        "start_time": "2024-04-14T15:41:36.860Z"
      },
      {
        "duration": 315,
        "start_time": "2024-04-14T15:41:38.880Z"
      },
      {
        "duration": 12,
        "start_time": "2024-04-14T15:41:41.705Z"
      },
      {
        "duration": 3,
        "start_time": "2024-04-14T15:43:08.181Z"
      },
      {
        "duration": 12,
        "start_time": "2024-04-14T15:43:12.497Z"
      },
      {
        "duration": 154,
        "start_time": "2024-04-14T15:43:33.006Z"
      },
      {
        "duration": 188,
        "start_time": "2024-04-14T15:43:38.877Z"
      },
      {
        "duration": 1487,
        "start_time": "2024-04-14T15:43:44.672Z"
      },
      {
        "duration": 79,
        "start_time": "2024-04-14T15:45:16.254Z"
      },
      {
        "duration": 9,
        "start_time": "2024-04-14T15:45:21.263Z"
      },
      {
        "duration": 4,
        "start_time": "2024-04-14T15:45:26.706Z"
      },
      {
        "duration": 5,
        "start_time": "2024-04-14T15:50:17.625Z"
      },
      {
        "duration": 3,
        "start_time": "2024-04-14T15:51:01.741Z"
      },
      {
        "duration": 292,
        "start_time": "2024-04-14T15:51:01.746Z"
      },
      {
        "duration": 30,
        "start_time": "2024-04-14T15:51:02.040Z"
      },
      {
        "duration": 377,
        "start_time": "2024-04-14T15:51:02.072Z"
      },
      {
        "duration": 5,
        "start_time": "2024-04-14T15:51:02.451Z"
      },
      {
        "duration": 357,
        "start_time": "2024-04-14T15:51:02.457Z"
      },
      {
        "duration": 1389,
        "start_time": "2024-04-14T15:51:02.815Z"
      },
      {
        "duration": 17,
        "start_time": "2024-04-14T15:51:04.206Z"
      },
      {
        "duration": 133,
        "start_time": "2024-04-14T15:51:04.225Z"
      },
      {
        "duration": 180,
        "start_time": "2024-04-14T15:51:04.360Z"
      },
      {
        "duration": 3,
        "start_time": "2024-04-14T15:51:04.541Z"
      },
      {
        "duration": 484,
        "start_time": "2024-04-14T15:51:04.545Z"
      },
      {
        "duration": 6,
        "start_time": "2024-04-14T15:51:05.030Z"
      },
      {
        "duration": 833,
        "start_time": "2024-04-14T15:51:05.038Z"
      },
      {
        "duration": 13,
        "start_time": "2024-04-14T15:51:05.872Z"
      },
      {
        "duration": 34,
        "start_time": "2024-04-14T15:51:05.886Z"
      },
      {
        "duration": 12,
        "start_time": "2024-04-14T15:58:04.637Z"
      },
      {
        "duration": 9,
        "start_time": "2024-04-14T15:58:10.639Z"
      },
      {
        "duration": 37,
        "start_time": "2024-04-14T15:59:41.768Z"
      },
      {
        "duration": 99,
        "start_time": "2024-04-14T15:59:56.754Z"
      },
      {
        "duration": 6,
        "start_time": "2024-04-14T16:00:33.780Z"
      },
      {
        "duration": 96,
        "start_time": "2024-04-14T16:01:10.046Z"
      },
      {
        "duration": 6,
        "start_time": "2024-04-14T16:01:32.845Z"
      },
      {
        "duration": 7,
        "start_time": "2024-04-14T16:01:37.662Z"
      },
      {
        "duration": 82,
        "start_time": "2024-04-14T16:01:47.722Z"
      },
      {
        "duration": 275,
        "start_time": "2024-04-14T16:01:53.113Z"
      },
      {
        "duration": 146,
        "start_time": "2024-04-14T16:02:03.733Z"
      },
      {
        "duration": 133,
        "start_time": "2024-04-14T16:03:40.813Z"
      },
      {
        "duration": 14,
        "start_time": "2024-04-14T16:03:57.255Z"
      },
      {
        "duration": 121,
        "start_time": "2024-04-14T16:04:06.984Z"
      },
      {
        "duration": 4,
        "start_time": "2024-04-14T16:04:35.494Z"
      },
      {
        "duration": 252,
        "start_time": "2024-04-14T16:04:35.500Z"
      },
      {
        "duration": 3,
        "start_time": "2024-04-14T16:04:35.754Z"
      },
      {
        "duration": 404,
        "start_time": "2024-04-14T16:04:35.758Z"
      },
      {
        "duration": 5,
        "start_time": "2024-04-14T16:04:36.164Z"
      },
      {
        "duration": 201,
        "start_time": "2024-04-14T16:04:36.171Z"
      },
      {
        "duration": 1576,
        "start_time": "2024-04-14T16:04:36.374Z"
      },
      {
        "duration": 18,
        "start_time": "2024-04-14T16:04:37.951Z"
      },
      {
        "duration": 34,
        "start_time": "2024-04-14T16:04:37.970Z"
      },
      {
        "duration": 139,
        "start_time": "2024-04-14T16:04:38.006Z"
      },
      {
        "duration": 4,
        "start_time": "2024-04-14T16:04:38.146Z"
      },
      {
        "duration": 186,
        "start_time": "2024-04-14T16:04:38.151Z"
      },
      {
        "duration": 9,
        "start_time": "2024-04-14T16:04:38.339Z"
      },
      {
        "duration": 1138,
        "start_time": "2024-04-14T16:04:38.350Z"
      },
      {
        "duration": 13,
        "start_time": "2024-04-14T16:04:39.493Z"
      },
      {
        "duration": 23,
        "start_time": "2024-04-14T16:04:39.508Z"
      },
      {
        "duration": 3,
        "start_time": "2024-04-14T16:07:55.983Z"
      },
      {
        "duration": 372,
        "start_time": "2024-04-14T16:08:00.422Z"
      },
      {
        "duration": 2,
        "start_time": "2024-04-14T16:08:15.338Z"
      },
      {
        "duration": 206,
        "start_time": "2024-04-14T16:08:15.342Z"
      },
      {
        "duration": 3,
        "start_time": "2024-04-14T16:08:15.689Z"
      },
      {
        "duration": 420,
        "start_time": "2024-04-14T16:08:15.694Z"
      },
      {
        "duration": 3,
        "start_time": "2024-04-14T16:09:50.088Z"
      },
      {
        "duration": 202,
        "start_time": "2024-04-14T16:09:50.092Z"
      },
      {
        "duration": 3,
        "start_time": "2024-04-14T16:09:50.295Z"
      },
      {
        "duration": 445,
        "start_time": "2024-04-14T16:09:50.300Z"
      },
      {
        "duration": 4,
        "start_time": "2024-04-14T16:09:50.746Z"
      },
      {
        "duration": 282,
        "start_time": "2024-04-14T16:09:50.751Z"
      },
      {
        "duration": 1683,
        "start_time": "2024-04-14T16:09:51.034Z"
      },
      {
        "duration": 18,
        "start_time": "2024-04-14T16:09:52.718Z"
      },
      {
        "duration": 50,
        "start_time": "2024-04-14T16:09:52.737Z"
      },
      {
        "duration": 246,
        "start_time": "2024-04-14T16:09:52.789Z"
      },
      {
        "duration": 3,
        "start_time": "2024-04-14T16:09:53.036Z"
      },
      {
        "duration": 253,
        "start_time": "2024-04-14T16:09:53.041Z"
      },
      {
        "duration": 8,
        "start_time": "2024-04-14T16:09:53.295Z"
      },
      {
        "duration": 1083,
        "start_time": "2024-04-14T16:09:53.305Z"
      },
      {
        "duration": 20,
        "start_time": "2024-04-14T16:09:54.389Z"
      },
      {
        "duration": 27,
        "start_time": "2024-04-14T16:09:54.411Z"
      },
      {
        "duration": 9,
        "start_time": "2024-04-14T16:14:03.359Z"
      },
      {
        "duration": 9,
        "start_time": "2024-04-14T16:14:15.839Z"
      },
      {
        "duration": 11,
        "start_time": "2024-04-14T16:19:28.066Z"
      },
      {
        "duration": 7,
        "start_time": "2024-04-14T16:20:40.647Z"
      },
      {
        "duration": 4,
        "start_time": "2024-04-14T16:20:55.425Z"
      },
      {
        "duration": 8,
        "start_time": "2024-04-14T16:20:59.815Z"
      },
      {
        "duration": 7,
        "start_time": "2024-04-14T16:21:09.092Z"
      },
      {
        "duration": 4,
        "start_time": "2024-04-14T16:21:18.058Z"
      },
      {
        "duration": 151,
        "start_time": "2024-04-14T16:21:19.610Z"
      },
      {
        "duration": 12,
        "start_time": "2024-04-14T16:21:25.590Z"
      },
      {
        "duration": 6,
        "start_time": "2024-04-14T16:21:34.432Z"
      },
      {
        "duration": 5,
        "start_time": "2024-04-14T16:22:02.243Z"
      },
      {
        "duration": 13,
        "start_time": "2024-04-14T16:22:11.652Z"
      },
      {
        "duration": 10,
        "start_time": "2024-04-14T16:22:33.101Z"
      },
      {
        "duration": 12,
        "start_time": "2024-04-14T16:23:31.333Z"
      },
      {
        "duration": 7,
        "start_time": "2024-04-14T16:23:47.633Z"
      },
      {
        "duration": 11,
        "start_time": "2024-04-14T16:23:55.490Z"
      },
      {
        "duration": 11,
        "start_time": "2024-04-14T16:24:06.314Z"
      },
      {
        "duration": 27,
        "start_time": "2024-04-14T16:35:54.596Z"
      },
      {
        "duration": 884,
        "start_time": "2024-04-14T19:56:50.012Z"
      },
      {
        "duration": 633,
        "start_time": "2024-04-14T19:56:50.899Z"
      },
      {
        "duration": 4,
        "start_time": "2024-04-14T19:56:51.534Z"
      },
      {
        "duration": 480,
        "start_time": "2024-04-14T19:56:56.732Z"
      },
      {
        "duration": 511,
        "start_time": "2024-04-14T19:57:04.952Z"
      },
      {
        "duration": 1592,
        "start_time": "2024-04-14T19:57:16.729Z"
      },
      {
        "duration": 5,
        "start_time": "2024-04-14T19:57:21.424Z"
      },
      {
        "duration": 175,
        "start_time": "2024-04-14T19:57:23.476Z"
      },
      {
        "duration": 427,
        "start_time": "2024-04-14T19:57:30.672Z"
      },
      {
        "duration": 4,
        "start_time": "2024-04-14T20:05:03.215Z"
      },
      {
        "duration": 400,
        "start_time": "2024-04-14T20:05:04.949Z"
      },
      {
        "duration": 4,
        "start_time": "2024-04-14T20:07:32.500Z"
      },
      {
        "duration": 187,
        "start_time": "2024-04-14T20:08:16.708Z"
      },
      {
        "duration": 66,
        "start_time": "2024-04-14T20:08:22.381Z"
      },
      {
        "duration": 15,
        "start_time": "2024-04-14T20:09:12.448Z"
      },
      {
        "duration": 3,
        "start_time": "2024-04-14T20:09:23.876Z"
      },
      {
        "duration": 299,
        "start_time": "2024-04-14T20:09:52.214Z"
      },
      {
        "duration": 27,
        "start_time": "2024-04-14T20:11:31.319Z"
      },
      {
        "duration": 10,
        "start_time": "2024-04-14T20:11:35.172Z"
      },
      {
        "duration": 4,
        "start_time": "2024-04-14T20:11:43.921Z"
      },
      {
        "duration": 7,
        "start_time": "2024-04-14T20:12:25.910Z"
      },
      {
        "duration": 6,
        "start_time": "2024-04-14T20:12:35.959Z"
      },
      {
        "duration": 13,
        "start_time": "2024-04-14T20:12:42.374Z"
      },
      {
        "duration": 10,
        "start_time": "2024-04-14T20:12:46.020Z"
      },
      {
        "duration": 5,
        "start_time": "2024-04-14T20:12:52.348Z"
      },
      {
        "duration": 6,
        "start_time": "2024-04-14T20:15:11.360Z"
      },
      {
        "duration": 93,
        "start_time": "2024-04-14T20:17:31.476Z"
      },
      {
        "duration": 4,
        "start_time": "2024-04-14T20:17:41.459Z"
      },
      {
        "duration": 11,
        "start_time": "2024-04-14T20:17:57.135Z"
      },
      {
        "duration": 11,
        "start_time": "2024-04-14T20:18:18.425Z"
      },
      {
        "duration": 296,
        "start_time": "2024-04-14T20:18:39.376Z"
      },
      {
        "duration": 8,
        "start_time": "2024-04-14T20:36:18.696Z"
      },
      {
        "duration": 10,
        "start_time": "2024-04-14T20:36:26.703Z"
      },
      {
        "duration": 20,
        "start_time": "2024-04-14T20:36:42.339Z"
      },
      {
        "duration": 13,
        "start_time": "2024-04-14T20:37:18.161Z"
      },
      {
        "duration": 5,
        "start_time": "2024-04-14T20:42:49.991Z"
      },
      {
        "duration": 0,
        "start_time": "2024-04-14T20:44:56.093Z"
      },
      {
        "duration": 131,
        "start_time": "2024-04-14T20:45:13.336Z"
      },
      {
        "duration": 163,
        "start_time": "2024-04-14T20:45:29.962Z"
      },
      {
        "duration": 269,
        "start_time": "2024-04-14T20:45:41.811Z"
      },
      {
        "duration": 329,
        "start_time": "2024-04-14T20:46:00.335Z"
      },
      {
        "duration": 225,
        "start_time": "2024-04-14T20:46:03.878Z"
      },
      {
        "duration": 263,
        "start_time": "2024-04-14T20:46:07.563Z"
      },
      {
        "duration": 285,
        "start_time": "2024-04-14T20:46:14.759Z"
      },
      {
        "duration": 256,
        "start_time": "2024-04-14T20:48:09.063Z"
      },
      {
        "duration": 271,
        "start_time": "2024-04-14T20:48:22.473Z"
      },
      {
        "duration": 166,
        "start_time": "2024-04-14T20:48:36.146Z"
      },
      {
        "duration": 771,
        "start_time": "2024-04-17T07:23:04.397Z"
      },
      {
        "duration": 573,
        "start_time": "2024-04-17T07:23:05.170Z"
      },
      {
        "duration": 5,
        "start_time": "2024-04-17T07:23:05.745Z"
      },
      {
        "duration": 485,
        "start_time": "2024-04-17T07:23:05.752Z"
      },
      {
        "duration": 8,
        "start_time": "2024-04-17T07:23:06.239Z"
      },
      {
        "duration": 168,
        "start_time": "2024-04-17T07:23:06.248Z"
      },
      {
        "duration": 1840,
        "start_time": "2024-04-17T07:23:06.417Z"
      },
      {
        "duration": 3,
        "start_time": "2024-04-17T07:23:08.259Z"
      },
      {
        "duration": 12,
        "start_time": "2024-04-17T07:23:08.263Z"
      },
      {
        "duration": 32,
        "start_time": "2024-04-17T07:23:08.278Z"
      },
      {
        "duration": 354,
        "start_time": "2024-04-17T07:23:08.312Z"
      },
      {
        "duration": 4,
        "start_time": "2024-04-17T07:23:08.668Z"
      },
      {
        "duration": 285,
        "start_time": "2024-04-17T07:23:08.674Z"
      },
      {
        "duration": 69,
        "start_time": "2024-04-17T07:23:08.960Z"
      },
      {
        "duration": 0,
        "start_time": "2024-04-17T07:23:09.030Z"
      },
      {
        "duration": 0,
        "start_time": "2024-04-17T07:23:09.032Z"
      },
      {
        "duration": 0,
        "start_time": "2024-04-17T07:23:09.045Z"
      },
      {
        "duration": 0,
        "start_time": "2024-04-17T07:23:09.047Z"
      },
      {
        "duration": 0,
        "start_time": "2024-04-17T07:23:09.048Z"
      },
      {
        "duration": 0,
        "start_time": "2024-04-17T07:23:09.049Z"
      },
      {
        "duration": 0,
        "start_time": "2024-04-17T07:23:09.050Z"
      },
      {
        "duration": 0,
        "start_time": "2024-04-17T07:23:09.051Z"
      },
      {
        "duration": 5,
        "start_time": "2024-04-17T07:56:14.942Z"
      },
      {
        "duration": 249,
        "start_time": "2024-04-17T07:56:16.325Z"
      },
      {
        "duration": 145,
        "start_time": "2024-04-17T07:56:18.335Z"
      },
      {
        "duration": 4,
        "start_time": "2024-04-17T07:56:37.631Z"
      },
      {
        "duration": 10,
        "start_time": "2024-04-17T07:56:40.975Z"
      },
      {
        "duration": 179,
        "start_time": "2024-04-17T08:13:07.835Z"
      },
      {
        "duration": 22,
        "start_time": "2024-04-17T08:13:13.100Z"
      },
      {
        "duration": 6,
        "start_time": "2024-04-17T08:13:22.560Z"
      },
      {
        "duration": 178,
        "start_time": "2024-04-17T08:13:38.287Z"
      },
      {
        "duration": 19,
        "start_time": "2024-04-17T08:13:56.415Z"
      },
      {
        "duration": 14,
        "start_time": "2024-04-17T08:27:00.866Z"
      },
      {
        "duration": 11,
        "start_time": "2024-04-17T08:27:16.202Z"
      },
      {
        "duration": 14,
        "start_time": "2024-04-17T08:27:22.323Z"
      },
      {
        "duration": 125,
        "start_time": "2024-04-17T08:27:32.673Z"
      },
      {
        "duration": 137,
        "start_time": "2024-04-17T08:27:45.025Z"
      },
      {
        "duration": 9,
        "start_time": "2024-04-17T08:27:54.945Z"
      },
      {
        "duration": 10,
        "start_time": "2024-04-17T08:28:15.259Z"
      },
      {
        "duration": 128,
        "start_time": "2024-04-17T08:28:18.498Z"
      },
      {
        "duration": 14,
        "start_time": "2024-04-17T08:28:26.209Z"
      },
      {
        "duration": 261,
        "start_time": "2024-04-17T08:30:47.253Z"
      },
      {
        "duration": 218,
        "start_time": "2024-04-17T08:30:50.941Z"
      },
      {
        "duration": 220,
        "start_time": "2024-04-17T08:30:54.796Z"
      },
      {
        "duration": 8,
        "start_time": "2024-04-17T08:31:09.976Z"
      },
      {
        "duration": 14,
        "start_time": "2024-04-17T08:31:13.617Z"
      },
      {
        "duration": 180,
        "start_time": "2024-04-17T08:31:22.373Z"
      },
      {
        "duration": 11,
        "start_time": "2024-04-17T08:31:27.704Z"
      },
      {
        "duration": 182,
        "start_time": "2024-04-17T08:31:49.899Z"
      },
      {
        "duration": 220,
        "start_time": "2024-04-17T08:31:57.556Z"
      },
      {
        "duration": 11,
        "start_time": "2024-04-17T08:32:04.802Z"
      },
      {
        "duration": 11,
        "start_time": "2024-04-17T08:32:35.692Z"
      },
      {
        "duration": 177,
        "start_time": "2024-04-17T08:32:40.826Z"
      },
      {
        "duration": 10,
        "start_time": "2024-04-17T08:32:44.945Z"
      },
      {
        "duration": 177,
        "start_time": "2024-04-17T08:33:04.012Z"
      },
      {
        "duration": 9,
        "start_time": "2024-04-17T08:33:08.899Z"
      },
      {
        "duration": 5,
        "start_time": "2024-04-17T08:33:16.136Z"
      },
      {
        "duration": 12,
        "start_time": "2024-04-17T08:33:20.300Z"
      },
      {
        "duration": 3,
        "start_time": "2024-04-17T08:33:30.935Z"
      },
      {
        "duration": 255,
        "start_time": "2024-04-17T08:33:30.939Z"
      },
      {
        "duration": 4,
        "start_time": "2024-04-17T08:33:31.196Z"
      },
      {
        "duration": 596,
        "start_time": "2024-04-17T08:33:31.202Z"
      },
      {
        "duration": 4,
        "start_time": "2024-04-17T08:33:31.799Z"
      },
      {
        "duration": 192,
        "start_time": "2024-04-17T08:33:31.805Z"
      },
      {
        "duration": 1770,
        "start_time": "2024-04-17T08:33:31.999Z"
      },
      {
        "duration": 2,
        "start_time": "2024-04-17T08:33:33.771Z"
      },
      {
        "duration": 23,
        "start_time": "2024-04-17T08:33:33.775Z"
      },
      {
        "duration": 10,
        "start_time": "2024-04-17T08:33:35.635Z"
      },
      {
        "duration": 3,
        "start_time": "2024-04-17T08:33:54.202Z"
      },
      {
        "duration": 2,
        "start_time": "2024-04-17T08:34:04.477Z"
      },
      {
        "duration": 5,
        "start_time": "2024-04-17T08:34:08.168Z"
      },
      {
        "duration": 112,
        "start_time": "2024-04-17T08:34:15.261Z"
      },
      {
        "duration": 7,
        "start_time": "2024-04-17T08:34:20.387Z"
      },
      {
        "duration": 2,
        "start_time": "2024-04-17T08:34:47.937Z"
      },
      {
        "duration": 182,
        "start_time": "2024-04-17T08:34:47.941Z"
      },
      {
        "duration": 3,
        "start_time": "2024-04-17T08:34:48.125Z"
      },
      {
        "duration": 427,
        "start_time": "2024-04-17T08:34:48.130Z"
      },
      {
        "duration": 4,
        "start_time": "2024-04-17T08:34:48.559Z"
      },
      {
        "duration": 167,
        "start_time": "2024-04-17T08:34:48.564Z"
      },
      {
        "duration": 1760,
        "start_time": "2024-04-17T08:34:48.732Z"
      },
      {
        "duration": 2,
        "start_time": "2024-04-17T08:34:50.494Z"
      },
      {
        "duration": 24,
        "start_time": "2024-04-17T08:34:50.498Z"
      },
      {
        "duration": 11,
        "start_time": "2024-04-17T08:36:58.174Z"
      },
      {
        "duration": 12,
        "start_time": "2024-04-17T08:37:31.587Z"
      },
      {
        "duration": 10,
        "start_time": "2024-04-17T08:38:02.263Z"
      },
      {
        "duration": 7,
        "start_time": "2024-04-17T08:43:33.410Z"
      },
      {
        "duration": 6,
        "start_time": "2024-04-17T08:43:49.290Z"
      },
      {
        "duration": 10,
        "start_time": "2024-04-17T08:43:58.250Z"
      },
      {
        "duration": 7,
        "start_time": "2024-04-17T08:44:23.210Z"
      },
      {
        "duration": 10,
        "start_time": "2024-04-17T08:44:47.397Z"
      },
      {
        "duration": 64,
        "start_time": "2024-04-17T08:45:37.462Z"
      },
      {
        "duration": 8,
        "start_time": "2024-04-17T08:45:41.195Z"
      },
      {
        "duration": 9,
        "start_time": "2024-04-17T08:45:53.581Z"
      },
      {
        "duration": 15,
        "start_time": "2024-04-17T08:45:56.849Z"
      },
      {
        "duration": 16,
        "start_time": "2024-04-17T08:46:30.141Z"
      },
      {
        "duration": 8,
        "start_time": "2024-04-17T08:46:34.488Z"
      },
      {
        "duration": 8,
        "start_time": "2024-04-17T08:48:02.402Z"
      },
      {
        "duration": 8,
        "start_time": "2024-04-17T08:48:07.231Z"
      },
      {
        "duration": 13,
        "start_time": "2024-04-17T08:49:11.416Z"
      },
      {
        "duration": 13,
        "start_time": "2024-04-17T08:49:22.793Z"
      },
      {
        "duration": 22,
        "start_time": "2024-04-17T08:49:26.340Z"
      },
      {
        "duration": 15,
        "start_time": "2024-04-17T08:49:30.501Z"
      },
      {
        "duration": 9,
        "start_time": "2024-04-17T08:49:35.151Z"
      },
      {
        "duration": 5,
        "start_time": "2024-04-17T08:53:58.695Z"
      },
      {
        "duration": 8,
        "start_time": "2024-04-17T08:54:02.998Z"
      },
      {
        "duration": 17,
        "start_time": "2024-04-17T08:56:07.633Z"
      },
      {
        "duration": 63,
        "start_time": "2024-04-17T08:56:19.441Z"
      },
      {
        "duration": 6,
        "start_time": "2024-04-17T08:56:24.724Z"
      },
      {
        "duration": 243,
        "start_time": "2024-04-17T08:56:29.495Z"
      },
      {
        "duration": 5,
        "start_time": "2024-04-17T08:56:58.703Z"
      },
      {
        "duration": 11,
        "start_time": "2024-04-17T08:57:02.794Z"
      },
      {
        "duration": 11,
        "start_time": "2024-04-17T08:57:17.928Z"
      },
      {
        "duration": 6,
        "start_time": "2024-04-17T08:59:42.209Z"
      },
      {
        "duration": 11,
        "start_time": "2024-04-17T08:59:54.073Z"
      },
      {
        "duration": 9,
        "start_time": "2024-04-17T09:00:41.361Z"
      },
      {
        "duration": 6,
        "start_time": "2024-04-17T09:00:48.181Z"
      },
      {
        "duration": 11,
        "start_time": "2024-04-17T09:00:52.693Z"
      },
      {
        "duration": 15,
        "start_time": "2024-04-17T09:01:04.287Z"
      },
      {
        "duration": 12,
        "start_time": "2024-04-17T09:04:02.079Z"
      },
      {
        "duration": 3,
        "start_time": "2024-04-17T09:10:48.003Z"
      },
      {
        "duration": 5,
        "start_time": "2024-04-17T09:11:33.009Z"
      },
      {
        "duration": 1741,
        "start_time": "2024-04-17T09:11:38.434Z"
      },
      {
        "duration": 14,
        "start_time": "2024-04-17T09:12:49.428Z"
      },
      {
        "duration": 22,
        "start_time": "2024-04-17T09:13:25.174Z"
      },
      {
        "duration": 23,
        "start_time": "2024-04-17T09:13:51.711Z"
      },
      {
        "duration": 25,
        "start_time": "2024-04-17T09:14:03.369Z"
      },
      {
        "duration": 33,
        "start_time": "2024-04-17T09:14:17.644Z"
      },
      {
        "duration": 4,
        "start_time": "2024-04-17T09:16:45.184Z"
      },
      {
        "duration": 411,
        "start_time": "2024-04-17T09:16:47.821Z"
      },
      {
        "duration": 4,
        "start_time": "2024-04-17T09:17:10.855Z"
      },
      {
        "duration": 542,
        "start_time": "2024-04-17T09:17:13.142Z"
      },
      {
        "duration": 1820,
        "start_time": "2024-04-17T09:17:29.847Z"
      },
      {
        "duration": 1187,
        "start_time": "2024-04-17T09:17:58.863Z"
      },
      {
        "duration": 13,
        "start_time": "2024-04-17T09:18:11.463Z"
      },
      {
        "duration": 11,
        "start_time": "2024-04-17T09:19:04.689Z"
      },
      {
        "duration": 20,
        "start_time": "2024-04-17T09:19:21.535Z"
      },
      {
        "duration": 15,
        "start_time": "2024-04-17T09:19:53.942Z"
      },
      {
        "duration": 11,
        "start_time": "2024-04-17T09:19:57.902Z"
      },
      {
        "duration": 22,
        "start_time": "2024-04-17T09:20:22.083Z"
      },
      {
        "duration": 20,
        "start_time": "2024-04-17T09:20:29.563Z"
      },
      {
        "duration": 12,
        "start_time": "2024-04-17T10:48:01.797Z"
      },
      {
        "duration": 4,
        "start_time": "2024-04-17T10:49:00.458Z"
      },
      {
        "duration": 269,
        "start_time": "2024-04-17T10:49:02.919Z"
      },
      {
        "duration": 10,
        "start_time": "2024-04-17T10:49:08.847Z"
      },
      {
        "duration": 8,
        "start_time": "2024-04-17T10:49:42.024Z"
      },
      {
        "duration": 7,
        "start_time": "2024-04-17T10:49:49.604Z"
      },
      {
        "duration": 2,
        "start_time": "2024-04-17T10:51:39.222Z"
      },
      {
        "duration": 9,
        "start_time": "2024-04-17T10:52:05.532Z"
      },
      {
        "duration": 8,
        "start_time": "2024-04-17T10:52:21.208Z"
      },
      {
        "duration": 8,
        "start_time": "2024-04-17T10:53:21.065Z"
      },
      {
        "duration": 10,
        "start_time": "2024-04-17T10:53:30.080Z"
      },
      {
        "duration": 87,
        "start_time": "2024-04-17T10:53:50.749Z"
      },
      {
        "duration": 10,
        "start_time": "2024-04-17T10:54:01.664Z"
      },
      {
        "duration": 10,
        "start_time": "2024-04-17T10:55:57.143Z"
      },
      {
        "duration": 5,
        "start_time": "2024-04-17T10:56:52.481Z"
      },
      {
        "duration": 5,
        "start_time": "2024-04-17T10:56:59.371Z"
      },
      {
        "duration": 50,
        "start_time": "2024-04-17T10:57:22.278Z"
      },
      {
        "duration": 9,
        "start_time": "2024-04-17T10:57:24.020Z"
      },
      {
        "duration": 11,
        "start_time": "2024-04-17T10:57:27.244Z"
      },
      {
        "duration": 1074,
        "start_time": "2024-04-17T10:57:43.567Z"
      },
      {
        "duration": 8,
        "start_time": "2024-04-17T10:57:46.703Z"
      },
      {
        "duration": 6,
        "start_time": "2024-04-17T10:58:25.515Z"
      },
      {
        "duration": 950,
        "start_time": "2024-04-17T10:58:30.116Z"
      },
      {
        "duration": 6,
        "start_time": "2024-04-17T10:58:33.643Z"
      },
      {
        "duration": 10,
        "start_time": "2024-04-17T10:58:38.958Z"
      },
      {
        "duration": 9,
        "start_time": "2024-04-17T10:59:54.576Z"
      },
      {
        "duration": 8,
        "start_time": "2024-04-17T11:00:00.090Z"
      },
      {
        "duration": 9,
        "start_time": "2024-04-17T11:00:05.240Z"
      },
      {
        "duration": 3,
        "start_time": "2024-04-17T11:01:52.038Z"
      },
      {
        "duration": 13,
        "start_time": "2024-04-17T11:01:56.007Z"
      },
      {
        "duration": 55,
        "start_time": "2024-04-17T11:03:17.120Z"
      },
      {
        "duration": 7,
        "start_time": "2024-04-17T11:03:22.410Z"
      },
      {
        "duration": 12,
        "start_time": "2024-04-17T11:03:31.067Z"
      },
      {
        "duration": 884,
        "start_time": "2024-04-17T11:04:39.333Z"
      },
      {
        "duration": 5,
        "start_time": "2024-04-17T11:04:55.521Z"
      },
      {
        "duration": 1325,
        "start_time": "2024-04-17T11:05:28.172Z"
      },
      {
        "duration": 948,
        "start_time": "2024-04-17T11:05:54.112Z"
      },
      {
        "duration": 972,
        "start_time": "2024-04-17T11:06:18.337Z"
      },
      {
        "duration": 9,
        "start_time": "2024-04-17T11:06:41.217Z"
      },
      {
        "duration": 1018,
        "start_time": "2024-04-17T11:06:44.035Z"
      },
      {
        "duration": 4,
        "start_time": "2024-04-17T11:08:14.967Z"
      },
      {
        "duration": 93,
        "start_time": "2024-04-17T11:08:24.700Z"
      },
      {
        "duration": 913,
        "start_time": "2024-04-17T11:08:31.578Z"
      },
      {
        "duration": 5,
        "start_time": "2024-04-17T11:10:57.874Z"
      },
      {
        "duration": 11,
        "start_time": "2024-04-17T11:11:01.358Z"
      },
      {
        "duration": 9,
        "start_time": "2024-04-17T11:11:05.383Z"
      },
      {
        "duration": 4,
        "start_time": "2024-04-17T11:12:39.772Z"
      },
      {
        "duration": 873,
        "start_time": "2024-04-17T11:13:25.663Z"
      },
      {
        "duration": 1032,
        "start_time": "2024-04-17T11:13:37.457Z"
      },
      {
        "duration": 927,
        "start_time": "2024-04-17T11:13:45.749Z"
      },
      {
        "duration": 834,
        "start_time": "2024-04-17T11:13:57.778Z"
      },
      {
        "duration": 10,
        "start_time": "2024-04-17T11:14:22.637Z"
      },
      {
        "duration": 6,
        "start_time": "2024-04-17T11:14:34.054Z"
      },
      {
        "duration": 5,
        "start_time": "2024-04-17T11:14:39.304Z"
      },
      {
        "duration": 63,
        "start_time": "2024-04-17T11:15:10.558Z"
      },
      {
        "duration": 99,
        "start_time": "2024-04-17T11:15:15.188Z"
      },
      {
        "duration": 5,
        "start_time": "2024-04-17T11:15:20.412Z"
      },
      {
        "duration": 1870,
        "start_time": "2024-04-17T11:15:42.790Z"
      },
      {
        "duration": 2891,
        "start_time": "2024-04-17T11:15:59.261Z"
      },
      {
        "duration": 1867,
        "start_time": "2024-04-17T11:23:27.697Z"
      },
      {
        "duration": 2833,
        "start_time": "2024-04-17T11:23:44.435Z"
      },
      {
        "duration": 76,
        "start_time": "2024-04-17T11:24:06.940Z"
      },
      {
        "duration": 2846,
        "start_time": "2024-04-17T11:24:20.361Z"
      },
      {
        "duration": 7,
        "start_time": "2024-04-17T11:30:33.932Z"
      },
      {
        "duration": 10,
        "start_time": "2024-04-17T11:30:38.419Z"
      },
      {
        "duration": 8,
        "start_time": "2024-04-17T11:30:44.653Z"
      },
      {
        "duration": 5,
        "start_time": "2024-04-17T11:30:46.838Z"
      },
      {
        "duration": 4,
        "start_time": "2024-04-17T11:30:51.736Z"
      },
      {
        "duration": 9,
        "start_time": "2024-04-17T11:31:03.068Z"
      },
      {
        "duration": 5,
        "start_time": "2024-04-17T11:32:13.735Z"
      },
      {
        "duration": 61,
        "start_time": "2024-04-17T11:32:27.117Z"
      },
      {
        "duration": 6,
        "start_time": "2024-04-17T11:32:30.571Z"
      },
      {
        "duration": 5,
        "start_time": "2024-04-17T11:33:08.185Z"
      },
      {
        "duration": 4,
        "start_time": "2024-04-17T11:33:16.096Z"
      },
      {
        "duration": 6,
        "start_time": "2024-04-17T11:33:18.345Z"
      },
      {
        "duration": 10,
        "start_time": "2024-04-17T11:33:23.490Z"
      },
      {
        "duration": 5,
        "start_time": "2024-04-17T11:49:39.110Z"
      },
      {
        "duration": 9,
        "start_time": "2024-04-17T11:49:46.224Z"
      },
      {
        "duration": 5,
        "start_time": "2024-04-17T11:49:55.618Z"
      },
      {
        "duration": 5,
        "start_time": "2024-04-17T11:50:04.573Z"
      },
      {
        "duration": 9,
        "start_time": "2024-04-17T11:50:06.730Z"
      },
      {
        "duration": 5,
        "start_time": "2024-04-17T11:50:14.236Z"
      },
      {
        "duration": 8,
        "start_time": "2024-04-17T11:50:15.737Z"
      },
      {
        "duration": 4,
        "start_time": "2024-04-17T11:50:36.280Z"
      },
      {
        "duration": 4,
        "start_time": "2024-04-17T11:50:40.102Z"
      },
      {
        "duration": 4,
        "start_time": "2024-04-17T11:50:44.101Z"
      },
      {
        "duration": 8,
        "start_time": "2024-04-17T11:50:54.604Z"
      },
      {
        "duration": 1086,
        "start_time": "2024-04-17T11:51:29.751Z"
      },
      {
        "duration": 10,
        "start_time": "2024-04-17T11:51:35.032Z"
      },
      {
        "duration": 66,
        "start_time": "2024-04-17T11:54:00.795Z"
      },
      {
        "duration": 7,
        "start_time": "2024-04-17T11:54:12.220Z"
      },
      {
        "duration": 3,
        "start_time": "2024-04-17T11:54:28.069Z"
      },
      {
        "duration": 6,
        "start_time": "2024-04-17T11:54:30.626Z"
      },
      {
        "duration": 4,
        "start_time": "2024-04-17T11:54:42.474Z"
      },
      {
        "duration": 8,
        "start_time": "2024-04-17T11:57:42.407Z"
      },
      {
        "duration": 15,
        "start_time": "2024-04-17T11:58:24.927Z"
      },
      {
        "duration": 13,
        "start_time": "2024-04-17T11:58:45.810Z"
      },
      {
        "duration": 12,
        "start_time": "2024-04-17T11:58:59.469Z"
      },
      {
        "duration": 51,
        "start_time": "2024-04-17T11:59:49.097Z"
      },
      {
        "duration": 14,
        "start_time": "2024-04-17T11:59:51.979Z"
      },
      {
        "duration": 19,
        "start_time": "2024-04-17T11:59:58.856Z"
      },
      {
        "duration": 23,
        "start_time": "2024-04-17T12:00:38.643Z"
      },
      {
        "duration": 4,
        "start_time": "2024-04-17T12:01:09.277Z"
      },
      {
        "duration": 11,
        "start_time": "2024-04-17T12:01:24.926Z"
      },
      {
        "duration": 4,
        "start_time": "2024-04-17T12:01:38.697Z"
      },
      {
        "duration": 13,
        "start_time": "2024-04-17T12:01:49.225Z"
      },
      {
        "duration": 16,
        "start_time": "2024-04-17T12:04:54.840Z"
      },
      {
        "duration": 10,
        "start_time": "2024-04-17T12:11:18.310Z"
      },
      {
        "duration": 9,
        "start_time": "2024-04-17T12:12:17.422Z"
      },
      {
        "duration": 3348,
        "start_time": "2024-04-17T12:13:04.526Z"
      },
      {
        "duration": 3439,
        "start_time": "2024-04-17T12:13:15.437Z"
      },
      {
        "duration": 5,
        "start_time": "2024-04-17T12:16:11.883Z"
      },
      {
        "duration": 15,
        "start_time": "2024-04-17T12:16:37.794Z"
      },
      {
        "duration": 21,
        "start_time": "2024-04-17T12:16:54.163Z"
      },
      {
        "duration": 2129,
        "start_time": "2024-04-17T12:19:07.186Z"
      },
      {
        "duration": 920,
        "start_time": "2024-04-17T12:19:21.170Z"
      },
      {
        "duration": 940,
        "start_time": "2024-04-17T12:19:25.918Z"
      },
      {
        "duration": 14,
        "start_time": "2024-04-17T12:19:44.592Z"
      },
      {
        "duration": 21,
        "start_time": "2024-04-17T12:20:41.734Z"
      },
      {
        "duration": 12,
        "start_time": "2024-04-17T12:21:04.463Z"
      },
      {
        "duration": 10,
        "start_time": "2024-04-17T12:21:10.193Z"
      },
      {
        "duration": 9,
        "start_time": "2024-04-17T12:21:13.567Z"
      },
      {
        "duration": 9,
        "start_time": "2024-04-17T12:21:27.956Z"
      },
      {
        "duration": 9,
        "start_time": "2024-04-17T12:21:34.104Z"
      },
      {
        "duration": 2,
        "start_time": "2024-04-17T12:21:38.065Z"
      },
      {
        "duration": 194,
        "start_time": "2024-04-17T12:21:38.069Z"
      },
      {
        "duration": 4,
        "start_time": "2024-04-17T12:21:38.264Z"
      },
      {
        "duration": 477,
        "start_time": "2024-04-17T12:21:38.269Z"
      },
      {
        "duration": 4,
        "start_time": "2024-04-17T12:21:38.748Z"
      },
      {
        "duration": 190,
        "start_time": "2024-04-17T12:21:38.754Z"
      },
      {
        "duration": 1960,
        "start_time": "2024-04-17T12:21:38.947Z"
      },
      {
        "duration": 3,
        "start_time": "2024-04-17T12:21:40.909Z"
      },
      {
        "duration": 7,
        "start_time": "2024-04-17T12:21:40.913Z"
      },
      {
        "duration": 26,
        "start_time": "2024-04-17T12:21:40.922Z"
      },
      {
        "duration": 23,
        "start_time": "2024-04-17T12:21:40.952Z"
      },
      {
        "duration": 375,
        "start_time": "2024-04-17T12:21:40.976Z"
      },
      {
        "duration": 4,
        "start_time": "2024-04-17T12:21:41.353Z"
      },
      {
        "duration": 19,
        "start_time": "2024-04-17T12:21:41.359Z"
      },
      {
        "duration": 297,
        "start_time": "2024-04-17T12:21:41.379Z"
      },
      {
        "duration": 168,
        "start_time": "2024-04-17T12:21:41.677Z"
      },
      {
        "duration": 7,
        "start_time": "2024-04-17T12:21:41.847Z"
      },
      {
        "duration": 54,
        "start_time": "2024-04-17T12:21:41.855Z"
      },
      {
        "duration": 12,
        "start_time": "2024-04-17T12:21:41.911Z"
      },
      {
        "duration": 1202,
        "start_time": "2024-04-17T12:21:41.925Z"
      },
      {
        "duration": 24,
        "start_time": "2024-04-17T12:21:43.128Z"
      },
      {
        "duration": 33,
        "start_time": "2024-04-17T12:21:43.156Z"
      },
      {
        "duration": 80,
        "start_time": "2024-04-17T12:21:43.191Z"
      },
      {
        "duration": 10,
        "start_time": "2024-04-17T12:21:43.273Z"
      },
      {
        "duration": 38,
        "start_time": "2024-04-17T12:21:43.285Z"
      },
      {
        "duration": 36,
        "start_time": "2024-04-17T12:21:43.324Z"
      },
      {
        "duration": 32,
        "start_time": "2024-04-17T12:21:43.362Z"
      },
      {
        "duration": 11,
        "start_time": "2024-04-17T12:21:54.679Z"
      },
      {
        "duration": 15,
        "start_time": "2024-04-17T12:21:57.198Z"
      },
      {
        "duration": 15,
        "start_time": "2024-04-17T12:22:06.757Z"
      },
      {
        "duration": 13,
        "start_time": "2024-04-17T12:22:26.220Z"
      },
      {
        "duration": 14,
        "start_time": "2024-04-17T12:24:22.954Z"
      },
      {
        "duration": 15,
        "start_time": "2024-04-17T12:24:31.008Z"
      },
      {
        "duration": 17,
        "start_time": "2024-04-17T12:25:55.829Z"
      },
      {
        "duration": 18,
        "start_time": "2024-04-17T12:26:30.354Z"
      },
      {
        "duration": 2502,
        "start_time": "2024-04-17T12:30:46.050Z"
      },
      {
        "duration": 4,
        "start_time": "2024-04-17T12:47:06.210Z"
      },
      {
        "duration": 255,
        "start_time": "2024-04-17T12:47:06.216Z"
      },
      {
        "duration": 4,
        "start_time": "2024-04-17T12:47:06.472Z"
      },
      {
        "duration": 448,
        "start_time": "2024-04-17T12:47:06.477Z"
      },
      {
        "duration": 4,
        "start_time": "2024-04-17T12:47:06.926Z"
      },
      {
        "duration": 181,
        "start_time": "2024-04-17T12:47:06.932Z"
      },
      {
        "duration": 2116,
        "start_time": "2024-04-17T12:47:07.114Z"
      },
      {
        "duration": 3,
        "start_time": "2024-04-17T12:47:09.231Z"
      },
      {
        "duration": 17,
        "start_time": "2024-04-17T12:47:09.237Z"
      },
      {
        "duration": 21,
        "start_time": "2024-04-17T12:47:09.256Z"
      },
      {
        "duration": 28,
        "start_time": "2024-04-17T12:47:09.278Z"
      },
      {
        "duration": 329,
        "start_time": "2024-04-17T12:47:09.308Z"
      },
      {
        "duration": 8,
        "start_time": "2024-04-17T12:47:09.638Z"
      },
      {
        "duration": 26,
        "start_time": "2024-04-17T12:47:09.649Z"
      },
      {
        "duration": 271,
        "start_time": "2024-04-17T12:47:09.677Z"
      },
      {
        "duration": 158,
        "start_time": "2024-04-17T12:47:09.950Z"
      },
      {
        "duration": 5,
        "start_time": "2024-04-17T12:47:10.109Z"
      },
      {
        "duration": 22,
        "start_time": "2024-04-17T12:47:10.116Z"
      },
      {
        "duration": 11,
        "start_time": "2024-04-17T12:47:10.140Z"
      },
      {
        "duration": 1379,
        "start_time": "2024-04-17T12:47:10.155Z"
      },
      {
        "duration": 36,
        "start_time": "2024-04-17T12:47:11.536Z"
      },
      {
        "duration": 11,
        "start_time": "2024-04-17T12:47:11.573Z"
      },
      {
        "duration": 25,
        "start_time": "2024-04-17T12:47:11.585Z"
      },
      {
        "duration": 5,
        "start_time": "2024-04-17T12:47:11.614Z"
      },
      {
        "duration": 37,
        "start_time": "2024-04-17T12:47:11.621Z"
      },
      {
        "duration": 6,
        "start_time": "2024-04-17T12:47:11.660Z"
      },
      {
        "duration": 29,
        "start_time": "2024-04-17T12:47:21.510Z"
      },
      {
        "duration": 3,
        "start_time": "2024-04-17T12:48:53.188Z"
      },
      {
        "duration": 215,
        "start_time": "2024-04-17T12:48:53.192Z"
      },
      {
        "duration": 3,
        "start_time": "2024-04-17T12:48:53.409Z"
      },
      {
        "duration": 535,
        "start_time": "2024-04-17T12:48:53.415Z"
      },
      {
        "duration": 4,
        "start_time": "2024-04-17T12:48:53.952Z"
      },
      {
        "duration": 193,
        "start_time": "2024-04-17T12:48:53.958Z"
      },
      {
        "duration": 2071,
        "start_time": "2024-04-17T12:48:54.153Z"
      },
      {
        "duration": 5,
        "start_time": "2024-04-17T12:48:56.226Z"
      },
      {
        "duration": 20,
        "start_time": "2024-04-17T12:48:56.234Z"
      },
      {
        "duration": 21,
        "start_time": "2024-04-17T12:48:56.260Z"
      },
      {
        "duration": 26,
        "start_time": "2024-04-17T12:48:56.283Z"
      },
      {
        "duration": 321,
        "start_time": "2024-04-17T12:48:56.311Z"
      },
      {
        "duration": 14,
        "start_time": "2024-04-17T12:48:56.633Z"
      },
      {
        "duration": 4,
        "start_time": "2024-04-17T12:48:56.650Z"
      },
      {
        "duration": 461,
        "start_time": "2024-04-17T12:48:56.656Z"
      },
      {
        "duration": 179,
        "start_time": "2024-04-17T12:48:57.119Z"
      },
      {
        "duration": 5,
        "start_time": "2024-04-17T12:48:57.299Z"
      },
      {
        "duration": 25,
        "start_time": "2024-04-17T12:48:57.305Z"
      },
      {
        "duration": 9,
        "start_time": "2024-04-17T12:48:57.331Z"
      },
      {
        "duration": 1338,
        "start_time": "2024-04-17T12:48:57.341Z"
      },
      {
        "duration": 15,
        "start_time": "2024-04-17T12:48:58.681Z"
      },
      {
        "duration": 10,
        "start_time": "2024-04-17T12:48:58.697Z"
      },
      {
        "duration": 40,
        "start_time": "2024-04-17T12:48:58.708Z"
      },
      {
        "duration": 10,
        "start_time": "2024-04-17T12:48:58.753Z"
      },
      {
        "duration": 18,
        "start_time": "2024-04-17T12:48:58.766Z"
      },
      {
        "duration": 11,
        "start_time": "2024-04-17T12:48:58.786Z"
      },
      {
        "duration": 15,
        "start_time": "2024-04-17T12:48:58.799Z"
      },
      {
        "duration": 12,
        "start_time": "2024-04-17T12:49:12.320Z"
      },
      {
        "duration": 13,
        "start_time": "2024-04-17T12:49:52.130Z"
      },
      {
        "duration": 20,
        "start_time": "2024-04-17T12:50:21.589Z"
      },
      {
        "duration": 20,
        "start_time": "2024-04-17T12:50:41.366Z"
      },
      {
        "duration": 14,
        "start_time": "2024-04-17T12:52:13.412Z"
      },
      {
        "duration": 21,
        "start_time": "2024-04-17T12:56:37.145Z"
      },
      {
        "duration": 15,
        "start_time": "2024-04-17T12:58:58.651Z"
      },
      {
        "duration": 9,
        "start_time": "2024-04-17T12:59:18.770Z"
      },
      {
        "duration": 12,
        "start_time": "2024-04-17T12:59:27.825Z"
      },
      {
        "duration": 215,
        "start_time": "2024-04-17T12:59:38.670Z"
      },
      {
        "duration": 7,
        "start_time": "2024-04-17T13:00:02.388Z"
      },
      {
        "duration": 14,
        "start_time": "2024-04-17T13:00:09.590Z"
      },
      {
        "duration": 244,
        "start_time": "2024-04-17T13:00:33.088Z"
      },
      {
        "duration": 4,
        "start_time": "2024-04-17T13:00:48.347Z"
      },
      {
        "duration": 11,
        "start_time": "2024-04-17T13:00:53.091Z"
      },
      {
        "duration": 14,
        "start_time": "2024-04-17T13:01:06.575Z"
      },
      {
        "duration": 4,
        "start_time": "2024-04-17T13:01:12.666Z"
      },
      {
        "duration": 17,
        "start_time": "2024-04-17T13:01:16.244Z"
      },
      {
        "duration": 61,
        "start_time": "2024-04-17T13:19:01.823Z"
      },
      {
        "duration": 12,
        "start_time": "2024-04-17T13:19:08.907Z"
      },
      {
        "duration": 9,
        "start_time": "2024-04-17T13:21:54.366Z"
      },
      {
        "duration": 15,
        "start_time": "2024-04-17T13:21:58.112Z"
      },
      {
        "duration": 15,
        "start_time": "2024-04-17T13:25:19.646Z"
      },
      {
        "duration": 12,
        "start_time": "2024-04-17T13:25:30.893Z"
      },
      {
        "duration": 12,
        "start_time": "2024-04-17T13:29:57.325Z"
      },
      {
        "duration": 7,
        "start_time": "2024-04-17T13:31:30.941Z"
      },
      {
        "duration": 12,
        "start_time": "2024-04-17T13:31:36.178Z"
      },
      {
        "duration": 25,
        "start_time": "2024-04-17T13:32:00.834Z"
      },
      {
        "duration": 5,
        "start_time": "2024-04-17T13:32:20.873Z"
      },
      {
        "duration": 5,
        "start_time": "2024-04-17T13:32:26.287Z"
      },
      {
        "duration": 11,
        "start_time": "2024-04-17T13:32:32.973Z"
      },
      {
        "duration": 9,
        "start_time": "2024-04-17T13:32:58.905Z"
      },
      {
        "duration": 10,
        "start_time": "2024-04-17T13:33:09.042Z"
      },
      {
        "duration": 8,
        "start_time": "2024-04-17T13:35:12.756Z"
      },
      {
        "duration": 5,
        "start_time": "2024-04-17T13:35:40.217Z"
      },
      {
        "duration": 14,
        "start_time": "2024-04-17T13:35:43.716Z"
      },
      {
        "duration": 16,
        "start_time": "2024-04-17T13:36:50.211Z"
      },
      {
        "duration": 95,
        "start_time": "2024-04-17T13:37:11.042Z"
      },
      {
        "duration": 7,
        "start_time": "2024-04-17T13:37:24.602Z"
      },
      {
        "duration": 13,
        "start_time": "2024-04-17T13:37:50.802Z"
      },
      {
        "duration": 11,
        "start_time": "2024-04-17T13:39:02.122Z"
      },
      {
        "duration": 15,
        "start_time": "2024-04-17T13:39:29.766Z"
      },
      {
        "duration": 14,
        "start_time": "2024-04-17T13:39:34.727Z"
      },
      {
        "duration": 14,
        "start_time": "2024-04-17T13:39:38.763Z"
      },
      {
        "duration": 11,
        "start_time": "2024-04-17T13:39:50.510Z"
      },
      {
        "duration": 18,
        "start_time": "2024-04-17T13:39:55.333Z"
      },
      {
        "duration": 15,
        "start_time": "2024-04-17T13:42:38.085Z"
      },
      {
        "duration": 12,
        "start_time": "2024-04-17T13:43:06.787Z"
      },
      {
        "duration": 13,
        "start_time": "2024-04-17T14:07:53.644Z"
      },
      {
        "duration": 18,
        "start_time": "2024-04-17T14:08:10.952Z"
      },
      {
        "duration": 21,
        "start_time": "2024-04-17T14:08:41.875Z"
      },
      {
        "duration": 16,
        "start_time": "2024-04-17T14:08:46.402Z"
      },
      {
        "duration": 19,
        "start_time": "2024-04-17T14:08:58.223Z"
      },
      {
        "duration": 12,
        "start_time": "2024-04-17T14:10:29.334Z"
      },
      {
        "duration": 18,
        "start_time": "2024-04-17T14:10:37.164Z"
      },
      {
        "duration": 251,
        "start_time": "2024-04-17T14:11:07.556Z"
      },
      {
        "duration": 242,
        "start_time": "2024-04-17T14:13:06.867Z"
      },
      {
        "duration": 16,
        "start_time": "2024-04-17T14:13:23.432Z"
      },
      {
        "duration": 7,
        "start_time": "2024-04-17T14:14:09.679Z"
      },
      {
        "duration": 12,
        "start_time": "2024-04-17T14:14:21.045Z"
      },
      {
        "duration": 18,
        "start_time": "2024-04-17T14:16:18.281Z"
      },
      {
        "duration": 22,
        "start_time": "2024-04-17T14:16:27.490Z"
      },
      {
        "duration": 839,
        "start_time": "2024-04-17T14:16:32.694Z"
      },
      {
        "duration": 17,
        "start_time": "2024-04-17T14:16:37.439Z"
      },
      {
        "duration": 17,
        "start_time": "2024-04-17T14:16:53.670Z"
      },
      {
        "duration": 20,
        "start_time": "2024-04-17T14:16:57.961Z"
      },
      {
        "duration": 15,
        "start_time": "2024-04-17T14:17:04.165Z"
      },
      {
        "duration": 17,
        "start_time": "2024-04-17T14:17:11.176Z"
      },
      {
        "duration": 19,
        "start_time": "2024-04-17T14:19:10.722Z"
      },
      {
        "duration": 13,
        "start_time": "2024-04-17T14:19:22.916Z"
      },
      {
        "duration": 17,
        "start_time": "2024-04-17T14:19:54.144Z"
      },
      {
        "duration": 53,
        "start_time": "2024-04-17T14:20:26.159Z"
      },
      {
        "duration": 20,
        "start_time": "2024-04-17T14:20:29.379Z"
      },
      {
        "duration": 19,
        "start_time": "2024-04-17T14:20:45.039Z"
      },
      {
        "duration": 22,
        "start_time": "2024-04-17T14:20:48.859Z"
      },
      {
        "duration": 21,
        "start_time": "2024-04-17T14:20:52.270Z"
      },
      {
        "duration": 15,
        "start_time": "2024-04-17T14:20:57.351Z"
      },
      {
        "duration": 15,
        "start_time": "2024-04-17T14:22:38.673Z"
      },
      {
        "duration": 14,
        "start_time": "2024-04-17T14:22:41.291Z"
      },
      {
        "duration": 15,
        "start_time": "2024-04-17T14:22:54.322Z"
      },
      {
        "duration": 14,
        "start_time": "2024-04-17T14:24:03.336Z"
      },
      {
        "duration": 13,
        "start_time": "2024-04-17T14:24:19.856Z"
      },
      {
        "duration": 15,
        "start_time": "2024-04-17T14:24:23.047Z"
      },
      {
        "duration": 32,
        "start_time": "2024-04-17T14:25:29.306Z"
      },
      {
        "duration": 23,
        "start_time": "2024-04-17T14:25:36.902Z"
      },
      {
        "duration": 25,
        "start_time": "2024-04-17T14:26:20.330Z"
      },
      {
        "duration": 18,
        "start_time": "2024-04-17T14:26:29.410Z"
      },
      {
        "duration": 15,
        "start_time": "2024-04-17T14:26:35.728Z"
      },
      {
        "duration": 18,
        "start_time": "2024-04-17T14:27:41.351Z"
      },
      {
        "duration": 17,
        "start_time": "2024-04-17T14:27:43.818Z"
      },
      {
        "duration": 17,
        "start_time": "2024-04-17T14:27:46.993Z"
      },
      {
        "duration": 17,
        "start_time": "2024-04-17T14:28:17.590Z"
      },
      {
        "duration": 57,
        "start_time": "2024-04-17T14:28:55.184Z"
      },
      {
        "duration": 27,
        "start_time": "2024-04-17T14:28:59.043Z"
      },
      {
        "duration": 22,
        "start_time": "2024-04-17T14:29:09.443Z"
      },
      {
        "duration": 14,
        "start_time": "2024-04-17T14:29:33.188Z"
      },
      {
        "duration": 13,
        "start_time": "2024-04-17T14:29:44.153Z"
      },
      {
        "duration": 13,
        "start_time": "2024-04-17T14:29:49.443Z"
      },
      {
        "duration": 16,
        "start_time": "2024-04-17T14:30:51.818Z"
      },
      {
        "duration": 52,
        "start_time": "2024-04-17T14:31:08.402Z"
      },
      {
        "duration": 83,
        "start_time": "2024-04-17T14:31:11.123Z"
      },
      {
        "duration": 23,
        "start_time": "2024-04-17T14:31:18.747Z"
      },
      {
        "duration": 24,
        "start_time": "2024-04-17T14:31:46.010Z"
      },
      {
        "duration": 22,
        "start_time": "2024-04-17T14:34:01.880Z"
      },
      {
        "duration": 17,
        "start_time": "2024-04-17T14:34:24.400Z"
      },
      {
        "duration": 8,
        "start_time": "2024-04-17T14:34:28.101Z"
      },
      {
        "duration": 15,
        "start_time": "2024-04-17T14:34:34.671Z"
      },
      {
        "duration": 14,
        "start_time": "2024-04-17T14:35:29.283Z"
      },
      {
        "duration": 32,
        "start_time": "2024-04-17T14:35:33.554Z"
      },
      {
        "duration": 34,
        "start_time": "2024-04-17T14:35:43.330Z"
      },
      {
        "duration": 14,
        "start_time": "2024-04-17T14:36:03.607Z"
      },
      {
        "duration": 22,
        "start_time": "2024-04-17T14:36:07.304Z"
      },
      {
        "duration": 29,
        "start_time": "2024-04-17T14:37:06.791Z"
      },
      {
        "duration": 29,
        "start_time": "2024-04-17T14:39:25.958Z"
      },
      {
        "duration": 29,
        "start_time": "2024-04-17T14:39:30.723Z"
      },
      {
        "duration": 27,
        "start_time": "2024-04-17T14:40:09.460Z"
      },
      {
        "duration": 24,
        "start_time": "2024-04-17T14:40:25.029Z"
      },
      {
        "duration": 46,
        "start_time": "2024-04-17T14:40:57.705Z"
      },
      {
        "duration": 32,
        "start_time": "2024-04-17T14:41:13.529Z"
      },
      {
        "duration": 25,
        "start_time": "2024-04-17T14:41:19.580Z"
      },
      {
        "duration": 24,
        "start_time": "2024-04-17T14:42:01.839Z"
      },
      {
        "duration": 15,
        "start_time": "2024-04-17T14:48:39.973Z"
      },
      {
        "duration": 32,
        "start_time": "2024-04-17T14:51:50.008Z"
      },
      {
        "duration": 3,
        "start_time": "2024-04-17T14:52:21.004Z"
      },
      {
        "duration": 25,
        "start_time": "2024-04-17T14:52:30.842Z"
      },
      {
        "duration": 13,
        "start_time": "2024-04-17T15:00:23.567Z"
      },
      {
        "duration": 13,
        "start_time": "2024-04-17T15:01:00.801Z"
      },
      {
        "duration": 24,
        "start_time": "2024-04-17T15:01:03.818Z"
      },
      {
        "duration": 25,
        "start_time": "2024-04-17T15:01:15.945Z"
      },
      {
        "duration": 27,
        "start_time": "2024-04-17T15:01:36.579Z"
      },
      {
        "duration": 21,
        "start_time": "2024-04-17T15:01:56.010Z"
      },
      {
        "duration": 3,
        "start_time": "2024-04-17T15:15:35.998Z"
      },
      {
        "duration": 190,
        "start_time": "2024-04-17T15:15:36.003Z"
      },
      {
        "duration": 3,
        "start_time": "2024-04-17T15:15:36.195Z"
      },
      {
        "duration": 441,
        "start_time": "2024-04-17T15:15:36.200Z"
      },
      {
        "duration": 4,
        "start_time": "2024-04-17T15:15:36.645Z"
      },
      {
        "duration": 198,
        "start_time": "2024-04-17T15:15:36.650Z"
      },
      {
        "duration": 1942,
        "start_time": "2024-04-17T15:15:36.849Z"
      },
      {
        "duration": 3,
        "start_time": "2024-04-17T15:15:38.793Z"
      },
      {
        "duration": 14,
        "start_time": "2024-04-17T15:15:38.799Z"
      },
      {
        "duration": 11,
        "start_time": "2024-04-17T15:15:38.815Z"
      },
      {
        "duration": 35,
        "start_time": "2024-04-17T15:15:38.827Z"
      },
      {
        "duration": 268,
        "start_time": "2024-04-17T15:15:38.864Z"
      },
      {
        "duration": 12,
        "start_time": "2024-04-17T15:15:39.133Z"
      },
      {
        "duration": 35,
        "start_time": "2024-04-17T15:15:39.147Z"
      },
      {
        "duration": 294,
        "start_time": "2024-04-17T15:15:39.184Z"
      },
      {
        "duration": 267,
        "start_time": "2024-04-17T15:15:39.479Z"
      },
      {
        "duration": 5,
        "start_time": "2024-04-17T15:15:39.748Z"
      },
      {
        "duration": 16,
        "start_time": "2024-04-17T15:15:39.754Z"
      },
      {
        "duration": 6,
        "start_time": "2024-04-17T15:15:39.772Z"
      },
      {
        "duration": 1137,
        "start_time": "2024-04-17T15:15:39.779Z"
      },
      {
        "duration": 15,
        "start_time": "2024-04-17T15:15:40.917Z"
      },
      {
        "duration": 18,
        "start_time": "2024-04-17T15:15:40.934Z"
      },
      {
        "duration": 44,
        "start_time": "2024-04-17T15:15:40.954Z"
      },
      {
        "duration": 11,
        "start_time": "2024-04-17T15:15:41.001Z"
      },
      {
        "duration": 24,
        "start_time": "2024-04-17T15:15:41.013Z"
      },
      {
        "duration": 50,
        "start_time": "2024-04-17T15:15:41.039Z"
      },
      {
        "duration": 25,
        "start_time": "2024-04-17T15:17:16.745Z"
      },
      {
        "duration": 21,
        "start_time": "2024-04-17T15:22:20.282Z"
      },
      {
        "duration": 37,
        "start_time": "2024-04-17T15:22:24.921Z"
      },
      {
        "duration": 18,
        "start_time": "2024-04-17T15:22:34.745Z"
      },
      {
        "duration": 18,
        "start_time": "2024-04-17T15:22:40.112Z"
      },
      {
        "duration": 23,
        "start_time": "2024-04-17T15:22:44.872Z"
      },
      {
        "duration": 18,
        "start_time": "2024-04-17T15:22:47.186Z"
      },
      {
        "duration": 17,
        "start_time": "2024-04-17T15:22:49.638Z"
      },
      {
        "duration": 18,
        "start_time": "2024-04-17T15:22:52.928Z"
      },
      {
        "duration": 16,
        "start_time": "2024-04-17T15:22:55.106Z"
      },
      {
        "duration": 19,
        "start_time": "2024-04-17T15:22:57.436Z"
      },
      {
        "duration": 19,
        "start_time": "2024-04-17T15:23:04.787Z"
      },
      {
        "duration": 26,
        "start_time": "2024-04-17T15:23:22.544Z"
      },
      {
        "duration": 21,
        "start_time": "2024-04-17T15:23:49.959Z"
      },
      {
        "duration": 19,
        "start_time": "2024-04-17T15:23:55.903Z"
      },
      {
        "duration": 21,
        "start_time": "2024-04-17T15:24:04.274Z"
      },
      {
        "duration": 15,
        "start_time": "2024-04-17T15:24:23.235Z"
      },
      {
        "duration": 14,
        "start_time": "2024-04-17T15:24:43.865Z"
      },
      {
        "duration": 7,
        "start_time": "2024-04-17T15:25:11.657Z"
      },
      {
        "duration": 15,
        "start_time": "2024-04-17T15:25:16.845Z"
      },
      {
        "duration": 10,
        "start_time": "2024-04-17T15:25:26.675Z"
      },
      {
        "duration": 6,
        "start_time": "2024-04-17T15:25:39.482Z"
      },
      {
        "duration": 12,
        "start_time": "2024-04-17T15:26:50.180Z"
      },
      {
        "duration": 23,
        "start_time": "2024-04-17T15:26:53.740Z"
      },
      {
        "duration": 35,
        "start_time": "2024-04-17T15:27:07.644Z"
      },
      {
        "duration": 18,
        "start_time": "2024-04-17T15:27:17.262Z"
      },
      {
        "duration": 16,
        "start_time": "2024-04-17T15:27:32.908Z"
      },
      {
        "duration": 24,
        "start_time": "2024-04-17T15:27:36.995Z"
      },
      {
        "duration": 25,
        "start_time": "2024-04-17T15:31:06.112Z"
      },
      {
        "duration": 24,
        "start_time": "2024-04-17T15:31:42.501Z"
      },
      {
        "duration": 8,
        "start_time": "2024-04-17T15:31:54.067Z"
      },
      {
        "duration": 12,
        "start_time": "2024-04-17T15:31:58.979Z"
      },
      {
        "duration": 25,
        "start_time": "2024-04-17T15:32:45.252Z"
      },
      {
        "duration": 16,
        "start_time": "2024-04-17T15:32:57.802Z"
      },
      {
        "duration": 27,
        "start_time": "2024-04-17T15:32:59.854Z"
      },
      {
        "duration": 20,
        "start_time": "2024-04-17T15:34:44.317Z"
      },
      {
        "duration": 5,
        "start_time": "2024-04-17T15:35:01.244Z"
      },
      {
        "duration": 25,
        "start_time": "2024-04-17T15:35:07.529Z"
      },
      {
        "duration": 26,
        "start_time": "2024-04-17T15:35:22.822Z"
      },
      {
        "duration": 17,
        "start_time": "2024-04-17T15:36:31.526Z"
      },
      {
        "duration": 24,
        "start_time": "2024-04-17T15:36:37.227Z"
      },
      {
        "duration": 10,
        "start_time": "2024-04-17T15:37:25.073Z"
      },
      {
        "duration": 9,
        "start_time": "2024-04-17T15:38:12.997Z"
      },
      {
        "duration": 20,
        "start_time": "2024-04-17T15:40:59.989Z"
      },
      {
        "duration": 23,
        "start_time": "2024-04-17T15:41:11.148Z"
      },
      {
        "duration": 83,
        "start_time": "2024-04-17T15:41:19.016Z"
      },
      {
        "duration": 25,
        "start_time": "2024-04-17T15:41:22.765Z"
      },
      {
        "duration": 21,
        "start_time": "2024-04-17T15:41:33.964Z"
      },
      {
        "duration": 29,
        "start_time": "2024-04-17T15:41:53.173Z"
      },
      {
        "duration": 27,
        "start_time": "2024-04-17T15:42:01.948Z"
      },
      {
        "duration": 29,
        "start_time": "2024-04-17T15:42:10.962Z"
      },
      {
        "duration": 21,
        "start_time": "2024-04-17T15:42:29.444Z"
      },
      {
        "duration": 4,
        "start_time": "2024-04-17T15:42:57.606Z"
      },
      {
        "duration": 3,
        "start_time": "2024-04-17T15:43:02.195Z"
      },
      {
        "duration": 29,
        "start_time": "2024-04-17T15:43:13.634Z"
      },
      {
        "duration": 21,
        "start_time": "2024-04-17T15:43:32.741Z"
      },
      {
        "duration": 23,
        "start_time": "2024-04-17T15:44:31.871Z"
      },
      {
        "duration": 19,
        "start_time": "2024-04-17T15:44:42.699Z"
      },
      {
        "duration": 10,
        "start_time": "2024-04-17T15:44:47.990Z"
      },
      {
        "duration": 11,
        "start_time": "2024-04-17T15:44:54.281Z"
      },
      {
        "duration": 21,
        "start_time": "2024-04-17T15:45:02.155Z"
      },
      {
        "duration": 24,
        "start_time": "2024-04-17T15:45:08.606Z"
      },
      {
        "duration": 9,
        "start_time": "2024-04-17T15:45:35.967Z"
      },
      {
        "duration": 24,
        "start_time": "2024-04-17T15:46:31.671Z"
      },
      {
        "duration": 24,
        "start_time": "2024-04-17T15:46:37.805Z"
      },
      {
        "duration": 25,
        "start_time": "2024-04-17T15:47:20.453Z"
      },
      {
        "duration": 17,
        "start_time": "2024-04-17T15:47:28.592Z"
      },
      {
        "duration": 16,
        "start_time": "2024-04-17T15:47:47.259Z"
      },
      {
        "duration": 15,
        "start_time": "2024-04-17T15:48:03.102Z"
      },
      {
        "duration": 9,
        "start_time": "2024-04-17T15:48:07.147Z"
      },
      {
        "duration": 14,
        "start_time": "2024-04-17T15:49:11.470Z"
      },
      {
        "duration": 16,
        "start_time": "2024-04-17T15:49:45.760Z"
      },
      {
        "duration": 4,
        "start_time": "2024-04-17T15:52:02.799Z"
      },
      {
        "duration": 10,
        "start_time": "2024-04-17T15:52:04.261Z"
      },
      {
        "duration": 4,
        "start_time": "2024-04-17T15:52:29.209Z"
      },
      {
        "duration": 8,
        "start_time": "2024-04-17T15:52:32.128Z"
      },
      {
        "duration": 9,
        "start_time": "2024-04-17T15:54:01.609Z"
      },
      {
        "duration": 7,
        "start_time": "2024-04-17T15:54:13.111Z"
      },
      {
        "duration": 6,
        "start_time": "2024-04-17T15:56:10.814Z"
      },
      {
        "duration": 4,
        "start_time": "2024-04-17T15:56:16.984Z"
      },
      {
        "duration": 8,
        "start_time": "2024-04-17T15:56:19.273Z"
      },
      {
        "duration": 743,
        "start_time": "2024-04-17T15:56:23.732Z"
      },
      {
        "duration": 3,
        "start_time": "2024-04-17T15:56:30.768Z"
      },
      {
        "duration": 268,
        "start_time": "2024-04-17T15:56:30.773Z"
      },
      {
        "duration": 3,
        "start_time": "2024-04-17T15:56:31.043Z"
      },
      {
        "duration": 507,
        "start_time": "2024-04-17T15:56:31.048Z"
      },
      {
        "duration": 4,
        "start_time": "2024-04-17T15:56:31.557Z"
      },
      {
        "duration": 300,
        "start_time": "2024-04-17T15:56:31.562Z"
      },
      {
        "duration": 1874,
        "start_time": "2024-04-17T15:56:31.863Z"
      },
      {
        "duration": 3,
        "start_time": "2024-04-17T15:56:33.744Z"
      },
      {
        "duration": 7,
        "start_time": "2024-04-17T15:56:33.751Z"
      },
      {
        "duration": 14,
        "start_time": "2024-04-17T15:56:33.759Z"
      },
      {
        "duration": 22,
        "start_time": "2024-04-17T15:56:33.774Z"
      },
      {
        "duration": 290,
        "start_time": "2024-04-17T15:56:33.797Z"
      },
      {
        "duration": 4,
        "start_time": "2024-04-17T15:56:34.088Z"
      },
      {
        "duration": 10,
        "start_time": "2024-04-17T15:56:34.093Z"
      },
      {
        "duration": 280,
        "start_time": "2024-04-17T15:56:34.104Z"
      },
      {
        "duration": 155,
        "start_time": "2024-04-17T15:56:34.385Z"
      },
      {
        "duration": 4,
        "start_time": "2024-04-17T15:56:34.544Z"
      },
      {
        "duration": 11,
        "start_time": "2024-04-17T15:56:34.550Z"
      },
      {
        "duration": 6,
        "start_time": "2024-04-17T15:56:34.562Z"
      },
      {
        "duration": 1255,
        "start_time": "2024-04-17T15:56:34.570Z"
      },
      {
        "duration": 21,
        "start_time": "2024-04-17T15:56:35.826Z"
      },
      {
        "duration": 9,
        "start_time": "2024-04-17T15:56:35.849Z"
      },
      {
        "duration": 19,
        "start_time": "2024-04-17T15:56:35.859Z"
      },
      {
        "duration": 10,
        "start_time": "2024-04-17T15:56:35.881Z"
      },
      {
        "duration": 20,
        "start_time": "2024-04-17T15:56:35.892Z"
      },
      {
        "duration": 38,
        "start_time": "2024-04-17T15:56:35.914Z"
      },
      {
        "duration": 22,
        "start_time": "2024-04-17T15:56:35.953Z"
      },
      {
        "duration": 8,
        "start_time": "2024-04-17T15:56:35.976Z"
      },
      {
        "duration": 22,
        "start_time": "2024-04-17T15:56:35.986Z"
      },
      {
        "duration": 4,
        "start_time": "2024-04-17T15:56:36.010Z"
      },
      {
        "duration": 5,
        "start_time": "2024-04-17T15:56:38.359Z"
      },
      {
        "duration": 4,
        "start_time": "2024-04-17T15:56:39.331Z"
      },
      {
        "duration": 7,
        "start_time": "2024-04-17T15:56:40.008Z"
      },
      {
        "duration": 3,
        "start_time": "2024-04-17T15:57:03.615Z"
      },
      {
        "duration": 191,
        "start_time": "2024-04-17T15:57:03.620Z"
      },
      {
        "duration": 3,
        "start_time": "2024-04-17T15:57:03.812Z"
      },
      {
        "duration": 443,
        "start_time": "2024-04-17T15:57:03.818Z"
      },
      {
        "duration": 4,
        "start_time": "2024-04-17T15:57:04.263Z"
      },
      {
        "duration": 192,
        "start_time": "2024-04-17T15:57:04.269Z"
      },
      {
        "duration": 1883,
        "start_time": "2024-04-17T15:57:04.462Z"
      },
      {
        "duration": 3,
        "start_time": "2024-04-17T15:57:06.346Z"
      },
      {
        "duration": 27,
        "start_time": "2024-04-17T15:57:06.351Z"
      },
      {
        "duration": 42,
        "start_time": "2024-04-17T15:57:06.379Z"
      },
      {
        "duration": 39,
        "start_time": "2024-04-17T15:57:06.422Z"
      },
      {
        "duration": 362,
        "start_time": "2024-04-17T15:57:06.462Z"
      },
      {
        "duration": 3,
        "start_time": "2024-04-17T15:57:06.826Z"
      },
      {
        "duration": 38,
        "start_time": "2024-04-17T15:57:06.830Z"
      },
      {
        "duration": 290,
        "start_time": "2024-04-17T15:57:06.870Z"
      },
      {
        "duration": 174,
        "start_time": "2024-04-17T15:57:07.163Z"
      },
      {
        "duration": 7,
        "start_time": "2024-04-17T15:57:07.339Z"
      },
      {
        "duration": 39,
        "start_time": "2024-04-17T15:57:07.348Z"
      },
      {
        "duration": 19,
        "start_time": "2024-04-17T15:57:07.388Z"
      },
      {
        "duration": 1132,
        "start_time": "2024-04-17T15:57:07.409Z"
      },
      {
        "duration": 14,
        "start_time": "2024-04-17T15:57:08.544Z"
      },
      {
        "duration": 9,
        "start_time": "2024-04-17T15:57:08.560Z"
      },
      {
        "duration": 21,
        "start_time": "2024-04-17T15:57:08.571Z"
      },
      {
        "duration": 11,
        "start_time": "2024-04-17T15:57:08.595Z"
      },
      {
        "duration": 47,
        "start_time": "2024-04-17T15:57:08.607Z"
      },
      {
        "duration": 119,
        "start_time": "2024-04-17T15:57:08.656Z"
      },
      {
        "duration": 21,
        "start_time": "2024-04-17T15:57:08.777Z"
      },
      {
        "duration": 5,
        "start_time": "2024-04-17T15:57:08.800Z"
      },
      {
        "duration": 16,
        "start_time": "2024-04-17T15:57:08.806Z"
      },
      {
        "duration": 24,
        "start_time": "2024-04-17T15:57:08.824Z"
      },
      {
        "duration": 5,
        "start_time": "2024-04-17T15:57:11.273Z"
      },
      {
        "duration": 13,
        "start_time": "2024-04-17T15:57:14.632Z"
      },
      {
        "duration": 7,
        "start_time": "2024-04-17T15:57:31.722Z"
      },
      {
        "duration": 9,
        "start_time": "2024-04-17T15:58:01.461Z"
      },
      {
        "duration": 717,
        "start_time": "2024-04-17T15:58:06.506Z"
      },
      {
        "duration": 4,
        "start_time": "2024-04-17T15:58:09.742Z"
      },
      {
        "duration": 202,
        "start_time": "2024-04-17T15:58:09.747Z"
      },
      {
        "duration": 3,
        "start_time": "2024-04-17T15:58:09.950Z"
      },
      {
        "duration": 432,
        "start_time": "2024-04-17T15:58:09.955Z"
      },
      {
        "duration": 3,
        "start_time": "2024-04-17T15:58:10.389Z"
      },
      {
        "duration": 168,
        "start_time": "2024-04-17T15:58:10.394Z"
      },
      {
        "duration": 1890,
        "start_time": "2024-04-17T15:58:10.564Z"
      },
      {
        "duration": 4,
        "start_time": "2024-04-17T15:58:12.455Z"
      },
      {
        "duration": 13,
        "start_time": "2024-04-17T15:58:12.462Z"
      },
      {
        "duration": 11,
        "start_time": "2024-04-17T15:58:12.476Z"
      },
      {
        "duration": 24,
        "start_time": "2024-04-17T15:58:12.489Z"
      },
      {
        "duration": 290,
        "start_time": "2024-04-17T15:58:12.514Z"
      },
      {
        "duration": 4,
        "start_time": "2024-04-17T15:58:12.805Z"
      },
      {
        "duration": 7,
        "start_time": "2024-04-17T15:58:12.810Z"
      },
      {
        "duration": 274,
        "start_time": "2024-04-17T15:58:12.819Z"
      },
      {
        "duration": 150,
        "start_time": "2024-04-17T15:58:13.095Z"
      },
      {
        "duration": 4,
        "start_time": "2024-04-17T15:58:13.246Z"
      },
      {
        "duration": 25,
        "start_time": "2024-04-17T15:58:13.252Z"
      },
      {
        "duration": 9,
        "start_time": "2024-04-17T15:58:13.278Z"
      },
      {
        "duration": 1233,
        "start_time": "2024-04-17T15:58:13.288Z"
      },
      {
        "duration": 14,
        "start_time": "2024-04-17T15:58:14.523Z"
      },
      {
        "duration": 9,
        "start_time": "2024-04-17T15:58:14.545Z"
      },
      {
        "duration": 22,
        "start_time": "2024-04-17T15:58:14.556Z"
      },
      {
        "duration": 10,
        "start_time": "2024-04-17T15:58:14.581Z"
      },
      {
        "duration": 15,
        "start_time": "2024-04-17T15:58:14.592Z"
      },
      {
        "duration": 42,
        "start_time": "2024-04-17T15:58:14.609Z"
      },
      {
        "duration": 19,
        "start_time": "2024-04-17T15:58:14.652Z"
      },
      {
        "duration": 8,
        "start_time": "2024-04-17T15:58:14.673Z"
      },
      {
        "duration": 16,
        "start_time": "2024-04-17T15:58:14.682Z"
      },
      {
        "duration": 13,
        "start_time": "2024-04-17T15:58:14.699Z"
      },
      {
        "duration": 7,
        "start_time": "2024-04-17T15:58:24.857Z"
      },
      {
        "duration": 6,
        "start_time": "2024-04-17T16:01:37.993Z"
      },
      {
        "duration": 15,
        "start_time": "2024-04-17T16:01:41.718Z"
      },
      {
        "duration": 15,
        "start_time": "2024-04-17T16:03:32.815Z"
      },
      {
        "duration": 14,
        "start_time": "2024-04-17T16:03:52.011Z"
      },
      {
        "duration": 3,
        "start_time": "2024-04-17T16:04:13.106Z"
      },
      {
        "duration": 194,
        "start_time": "2024-04-17T16:04:13.111Z"
      },
      {
        "duration": 3,
        "start_time": "2024-04-17T16:04:13.307Z"
      },
      {
        "duration": 450,
        "start_time": "2024-04-17T16:04:13.312Z"
      },
      {
        "duration": 5,
        "start_time": "2024-04-17T16:04:13.763Z"
      },
      {
        "duration": 185,
        "start_time": "2024-04-17T16:04:13.769Z"
      },
      {
        "duration": 1865,
        "start_time": "2024-04-17T16:04:13.955Z"
      },
      {
        "duration": 3,
        "start_time": "2024-04-17T16:04:15.822Z"
      },
      {
        "duration": 24,
        "start_time": "2024-04-17T16:04:15.827Z"
      },
      {
        "duration": 16,
        "start_time": "2024-04-17T16:04:15.852Z"
      },
      {
        "duration": 46,
        "start_time": "2024-04-17T16:04:15.869Z"
      },
      {
        "duration": 336,
        "start_time": "2024-04-17T16:04:15.916Z"
      },
      {
        "duration": 4,
        "start_time": "2024-04-17T16:04:16.253Z"
      },
      {
        "duration": 14,
        "start_time": "2024-04-17T16:04:16.258Z"
      },
      {
        "duration": 266,
        "start_time": "2024-04-17T16:04:16.273Z"
      },
      {
        "duration": 147,
        "start_time": "2024-04-17T16:04:16.541Z"
      },
      {
        "duration": 4,
        "start_time": "2024-04-17T16:04:16.689Z"
      },
      {
        "duration": 62,
        "start_time": "2024-04-17T16:04:16.695Z"
      },
      {
        "duration": 24,
        "start_time": "2024-04-17T16:04:16.759Z"
      },
      {
        "duration": 1148,
        "start_time": "2024-04-17T16:04:16.785Z"
      },
      {
        "duration": 18,
        "start_time": "2024-04-17T16:04:17.934Z"
      },
      {
        "duration": 15,
        "start_time": "2024-04-17T16:04:17.954Z"
      },
      {
        "duration": 22,
        "start_time": "2024-04-17T16:04:17.970Z"
      },
      {
        "duration": 11,
        "start_time": "2024-04-17T16:04:17.995Z"
      },
      {
        "duration": 40,
        "start_time": "2024-04-17T16:04:18.008Z"
      },
      {
        "duration": 112,
        "start_time": "2024-04-17T16:04:18.050Z"
      },
      {
        "duration": 22,
        "start_time": "2024-04-17T16:04:18.163Z"
      },
      {
        "duration": 7,
        "start_time": "2024-04-17T16:04:18.186Z"
      },
      {
        "duration": 21,
        "start_time": "2024-04-17T16:04:18.194Z"
      },
      {
        "duration": 38,
        "start_time": "2024-04-17T16:04:18.218Z"
      },
      {
        "duration": 15,
        "start_time": "2024-04-17T16:04:18.258Z"
      },
      {
        "duration": 21,
        "start_time": "2024-04-17T16:04:18.274Z"
      },
      {
        "duration": 15,
        "start_time": "2024-04-17T16:04:34.294Z"
      },
      {
        "duration": 15,
        "start_time": "2024-04-17T16:05:34.998Z"
      },
      {
        "duration": 16,
        "start_time": "2024-04-17T16:07:48.582Z"
      },
      {
        "duration": 17,
        "start_time": "2024-04-17T16:07:53.959Z"
      },
      {
        "duration": 17,
        "start_time": "2024-04-17T16:08:03.111Z"
      },
      {
        "duration": 25,
        "start_time": "2024-04-17T16:08:07.474Z"
      },
      {
        "duration": 6,
        "start_time": "2024-04-17T16:11:15.064Z"
      },
      {
        "duration": 15,
        "start_time": "2024-04-17T16:11:44.816Z"
      },
      {
        "duration": 4,
        "start_time": "2024-04-17T16:12:00.150Z"
      },
      {
        "duration": 245,
        "start_time": "2024-04-17T16:12:00.155Z"
      },
      {
        "duration": 3,
        "start_time": "2024-04-17T16:12:00.402Z"
      },
      {
        "duration": 511,
        "start_time": "2024-04-17T16:12:00.408Z"
      },
      {
        "duration": 5,
        "start_time": "2024-04-17T16:12:00.921Z"
      },
      {
        "duration": 279,
        "start_time": "2024-04-17T16:12:00.927Z"
      },
      {
        "duration": 1866,
        "start_time": "2024-04-17T16:12:01.208Z"
      },
      {
        "duration": 3,
        "start_time": "2024-04-17T16:12:03.076Z"
      },
      {
        "duration": 14,
        "start_time": "2024-04-17T16:12:03.083Z"
      },
      {
        "duration": 16,
        "start_time": "2024-04-17T16:12:03.099Z"
      },
      {
        "duration": 43,
        "start_time": "2024-04-17T16:12:03.117Z"
      },
      {
        "duration": 274,
        "start_time": "2024-04-17T16:12:03.162Z"
      },
      {
        "duration": 3,
        "start_time": "2024-04-17T16:12:03.444Z"
      },
      {
        "duration": 12,
        "start_time": "2024-04-17T16:12:03.449Z"
      },
      {
        "duration": 317,
        "start_time": "2024-04-17T16:12:03.463Z"
      },
      {
        "duration": 152,
        "start_time": "2024-04-17T16:12:03.782Z"
      },
      {
        "duration": 10,
        "start_time": "2024-04-17T16:12:03.935Z"
      },
      {
        "duration": 11,
        "start_time": "2024-04-17T16:12:03.947Z"
      },
      {
        "duration": 29,
        "start_time": "2024-04-17T16:12:03.960Z"
      },
      {
        "duration": 1220,
        "start_time": "2024-04-17T16:12:03.990Z"
      },
      {
        "duration": 14,
        "start_time": "2024-04-17T16:12:05.211Z"
      },
      {
        "duration": 22,
        "start_time": "2024-04-17T16:12:05.226Z"
      },
      {
        "duration": 22,
        "start_time": "2024-04-17T16:12:05.249Z"
      },
      {
        "duration": 10,
        "start_time": "2024-04-17T16:12:05.273Z"
      },
      {
        "duration": 16,
        "start_time": "2024-04-17T16:12:05.285Z"
      },
      {
        "duration": 43,
        "start_time": "2024-04-17T16:12:05.302Z"
      },
      {
        "duration": 21,
        "start_time": "2024-04-17T16:12:05.346Z"
      },
      {
        "duration": 5,
        "start_time": "2024-04-17T16:12:05.369Z"
      },
      {
        "duration": 29,
        "start_time": "2024-04-17T16:12:05.376Z"
      },
      {
        "duration": 14,
        "start_time": "2024-04-17T16:12:05.407Z"
      },
      {
        "duration": 27,
        "start_time": "2024-04-17T16:12:05.422Z"
      },
      {
        "duration": 25,
        "start_time": "2024-04-17T16:12:05.451Z"
      },
      {
        "duration": 28,
        "start_time": "2024-04-17T16:12:05.478Z"
      },
      {
        "duration": 4,
        "start_time": "2024-04-17T16:12:05.508Z"
      },
      {
        "duration": 30,
        "start_time": "2024-04-17T16:12:07.967Z"
      },
      {
        "duration": 38,
        "start_time": "2024-04-17T16:13:04.971Z"
      },
      {
        "duration": 573,
        "start_time": "2024-04-17T16:14:13.601Z"
      },
      {
        "duration": 85840,
        "start_time": "2024-04-17T16:14:33.968Z"
      },
      {
        "duration": 1100,
        "start_time": "2024-04-17T16:16:13.642Z"
      },
      {
        "duration": 179,
        "start_time": "2024-04-17T16:16:14.744Z"
      },
      {
        "duration": 3,
        "start_time": "2024-04-17T16:16:14.925Z"
      },
      {
        "duration": 468,
        "start_time": "2024-04-17T16:16:14.930Z"
      },
      {
        "duration": 5,
        "start_time": "2024-04-17T16:16:15.400Z"
      },
      {
        "duration": 200,
        "start_time": "2024-04-17T16:16:15.407Z"
      },
      {
        "duration": 1843,
        "start_time": "2024-04-17T16:16:15.609Z"
      },
      {
        "duration": 3,
        "start_time": "2024-04-17T16:16:17.454Z"
      },
      {
        "duration": 28,
        "start_time": "2024-04-17T16:16:17.458Z"
      },
      {
        "duration": 22,
        "start_time": "2024-04-17T16:16:17.488Z"
      },
      {
        "duration": 34,
        "start_time": "2024-04-17T16:16:17.512Z"
      },
      {
        "duration": 317,
        "start_time": "2024-04-17T16:16:17.547Z"
      },
      {
        "duration": 3,
        "start_time": "2024-04-17T16:16:17.865Z"
      },
      {
        "duration": 32,
        "start_time": "2024-04-17T16:16:17.870Z"
      },
      {
        "duration": 276,
        "start_time": "2024-04-17T16:16:17.903Z"
      },
      {
        "duration": 274,
        "start_time": "2024-04-17T16:16:18.181Z"
      },
      {
        "duration": 5,
        "start_time": "2024-04-17T16:16:18.456Z"
      },
      {
        "duration": 27,
        "start_time": "2024-04-17T16:16:18.462Z"
      },
      {
        "duration": 31,
        "start_time": "2024-04-17T16:16:18.490Z"
      },
      {
        "duration": 1148,
        "start_time": "2024-04-17T16:16:18.522Z"
      },
      {
        "duration": 14,
        "start_time": "2024-04-17T16:16:19.672Z"
      },
      {
        "duration": 19,
        "start_time": "2024-04-17T16:16:19.687Z"
      },
      {
        "duration": 49,
        "start_time": "2024-04-17T16:16:19.708Z"
      },
      {
        "duration": 22,
        "start_time": "2024-04-17T16:16:19.758Z"
      },
      {
        "duration": 37,
        "start_time": "2024-04-17T16:16:19.781Z"
      },
      {
        "duration": 33,
        "start_time": "2024-04-17T16:16:19.820Z"
      },
      {
        "duration": 48,
        "start_time": "2024-04-17T16:16:19.854Z"
      },
      {
        "duration": 6,
        "start_time": "2024-04-17T16:16:19.905Z"
      },
      {
        "duration": 25,
        "start_time": "2024-04-17T16:16:19.912Z"
      },
      {
        "duration": 15,
        "start_time": "2024-04-17T16:16:19.938Z"
      },
      {
        "duration": 15,
        "start_time": "2024-04-17T16:16:19.954Z"
      },
      {
        "duration": 34,
        "start_time": "2024-04-17T16:16:19.970Z"
      },
      {
        "duration": 54,
        "start_time": "2024-04-17T16:16:20.006Z"
      },
      {
        "duration": 2,
        "start_time": "2024-04-17T16:16:20.062Z"
      },
      {
        "duration": 265104,
        "start_time": "2024-04-17T16:16:20.066Z"
      },
      {
        "duration": 4256,
        "start_time": "2024-04-17T16:22:02.878Z"
      },
      {
        "duration": 100,
        "start_time": "2024-04-17T16:24:50.322Z"
      },
      {
        "duration": 4,
        "start_time": "2024-04-17T16:25:05.337Z"
      },
      {
        "duration": 11,
        "start_time": "2024-04-17T16:25:53.376Z"
      },
      {
        "duration": 10,
        "start_time": "2024-04-17T16:26:55.210Z"
      },
      {
        "duration": 74,
        "start_time": "2024-04-17T16:27:12.603Z"
      },
      {
        "duration": 693,
        "start_time": "2024-04-17T16:27:19.916Z"
      },
      {
        "duration": 4,
        "start_time": "2024-04-17T16:27:29.217Z"
      },
      {
        "duration": 7,
        "start_time": "2024-04-17T16:27:32.566Z"
      },
      {
        "duration": 19,
        "start_time": "2024-04-17T16:28:32.441Z"
      },
      {
        "duration": 6,
        "start_time": "2024-04-17T16:29:01.941Z"
      },
      {
        "duration": 33,
        "start_time": "2024-04-17T16:29:06.581Z"
      },
      {
        "duration": 41,
        "start_time": "2024-04-17T16:29:34.376Z"
      },
      {
        "duration": 4,
        "start_time": "2024-04-17T16:29:44.689Z"
      },
      {
        "duration": 229,
        "start_time": "2024-04-17T16:29:44.695Z"
      },
      {
        "duration": 5,
        "start_time": "2024-04-17T16:29:44.926Z"
      },
      {
        "duration": 477,
        "start_time": "2024-04-17T16:29:44.933Z"
      },
      {
        "duration": 4,
        "start_time": "2024-04-17T16:29:45.411Z"
      },
      {
        "duration": 246,
        "start_time": "2024-04-17T16:29:45.416Z"
      },
      {
        "duration": 1759,
        "start_time": "2024-04-17T16:29:45.663Z"
      },
      {
        "duration": 3,
        "start_time": "2024-04-17T16:29:47.424Z"
      },
      {
        "duration": 21,
        "start_time": "2024-04-17T16:29:47.429Z"
      },
      {
        "duration": 16,
        "start_time": "2024-04-17T16:29:47.451Z"
      },
      {
        "duration": 27,
        "start_time": "2024-04-17T16:29:47.468Z"
      },
      {
        "duration": 286,
        "start_time": "2024-04-17T16:29:47.497Z"
      },
      {
        "duration": 3,
        "start_time": "2024-04-17T16:29:47.785Z"
      },
      {
        "duration": 9,
        "start_time": "2024-04-17T16:29:47.790Z"
      },
      {
        "duration": 277,
        "start_time": "2024-04-17T16:29:47.800Z"
      },
      {
        "duration": 160,
        "start_time": "2024-04-17T16:29:48.079Z"
      },
      {
        "duration": 5,
        "start_time": "2024-04-17T16:29:48.241Z"
      },
      {
        "duration": 14,
        "start_time": "2024-04-17T16:29:48.248Z"
      },
      {
        "duration": 7,
        "start_time": "2024-04-17T16:29:48.263Z"
      },
      {
        "duration": 1101,
        "start_time": "2024-04-17T16:29:48.271Z"
      },
      {
        "duration": 15,
        "start_time": "2024-04-17T16:29:49.374Z"
      },
      {
        "duration": 22,
        "start_time": "2024-04-17T16:29:49.391Z"
      },
      {
        "duration": 19,
        "start_time": "2024-04-17T16:29:49.414Z"
      },
      {
        "duration": 10,
        "start_time": "2024-04-17T16:29:49.447Z"
      },
      {
        "duration": 16,
        "start_time": "2024-04-17T16:29:49.459Z"
      },
      {
        "duration": 26,
        "start_time": "2024-04-17T16:29:49.476Z"
      },
      {
        "duration": 23,
        "start_time": "2024-04-17T16:29:49.503Z"
      },
      {
        "duration": 6,
        "start_time": "2024-04-17T16:29:49.545Z"
      },
      {
        "duration": 15,
        "start_time": "2024-04-17T16:29:49.552Z"
      },
      {
        "duration": 24,
        "start_time": "2024-04-17T16:29:49.568Z"
      },
      {
        "duration": 14,
        "start_time": "2024-04-17T16:29:49.594Z"
      },
      {
        "duration": 13,
        "start_time": "2024-04-17T16:29:49.609Z"
      },
      {
        "duration": 48,
        "start_time": "2024-04-17T16:29:49.623Z"
      },
      {
        "duration": 5,
        "start_time": "2024-04-17T16:29:53.664Z"
      },
      {
        "duration": 6,
        "start_time": "2024-04-17T16:29:55.778Z"
      },
      {
        "duration": 31,
        "start_time": "2024-04-17T16:29:56.210Z"
      },
      {
        "duration": 23,
        "start_time": "2024-04-17T16:30:07.626Z"
      },
      {
        "duration": 3,
        "start_time": "2024-04-17T16:31:11.151Z"
      },
      {
        "duration": 17,
        "start_time": "2024-04-17T16:31:16.808Z"
      },
      {
        "duration": 9,
        "start_time": "2024-04-17T16:33:15.591Z"
      },
      {
        "duration": 16,
        "start_time": "2024-04-17T16:34:00.412Z"
      },
      {
        "duration": 10,
        "start_time": "2024-04-17T16:34:46.049Z"
      },
      {
        "duration": 21,
        "start_time": "2024-04-17T16:34:52.328Z"
      },
      {
        "duration": 6,
        "start_time": "2024-04-17T16:34:58.429Z"
      },
      {
        "duration": 6,
        "start_time": "2024-04-17T16:35:24.435Z"
      },
      {
        "duration": 29,
        "start_time": "2024-04-17T16:35:29.398Z"
      },
      {
        "duration": 47,
        "start_time": "2024-04-17T16:35:37.517Z"
      },
      {
        "duration": 14,
        "start_time": "2024-04-17T16:36:39.316Z"
      },
      {
        "duration": 7,
        "start_time": "2024-04-17T16:36:51.161Z"
      },
      {
        "duration": 44,
        "start_time": "2024-04-17T16:36:55.855Z"
      },
      {
        "duration": 22,
        "start_time": "2024-04-17T16:37:52.394Z"
      },
      {
        "duration": 7,
        "start_time": "2024-04-17T16:38:00.022Z"
      },
      {
        "duration": 14,
        "start_time": "2024-04-17T16:38:29.126Z"
      },
      {
        "duration": 6,
        "start_time": "2024-04-17T16:38:35.524Z"
      },
      {
        "duration": 183,
        "start_time": "2024-04-17T16:38:35.532Z"
      },
      {
        "duration": 3,
        "start_time": "2024-04-17T16:38:35.716Z"
      },
      {
        "duration": 420,
        "start_time": "2024-04-17T16:38:35.721Z"
      },
      {
        "duration": 5,
        "start_time": "2024-04-17T16:38:36.142Z"
      },
      {
        "duration": 169,
        "start_time": "2024-04-17T16:38:36.148Z"
      },
      {
        "duration": 1793,
        "start_time": "2024-04-17T16:38:36.318Z"
      },
      {
        "duration": 3,
        "start_time": "2024-04-17T16:38:38.113Z"
      },
      {
        "duration": 11,
        "start_time": "2024-04-17T16:38:38.117Z"
      },
      {
        "duration": 22,
        "start_time": "2024-04-17T16:38:38.130Z"
      },
      {
        "duration": 17,
        "start_time": "2024-04-17T16:38:38.154Z"
      },
      {
        "duration": 23,
        "start_time": "2024-04-17T16:38:38.172Z"
      },
      {
        "duration": 279,
        "start_time": "2024-04-17T16:38:38.196Z"
      },
      {
        "duration": 4,
        "start_time": "2024-04-17T16:38:38.476Z"
      },
      {
        "duration": 5,
        "start_time": "2024-04-17T16:38:38.482Z"
      },
      {
        "duration": 277,
        "start_time": "2024-04-17T16:38:38.488Z"
      },
      {
        "duration": 144,
        "start_time": "2024-04-17T16:38:38.766Z"
      },
      {
        "duration": 3,
        "start_time": "2024-04-17T16:38:38.912Z"
      },
      {
        "duration": 23,
        "start_time": "2024-04-17T16:38:38.917Z"
      },
      {
        "duration": 6,
        "start_time": "2024-04-17T16:38:38.941Z"
      },
      {
        "duration": 1115,
        "start_time": "2024-04-17T16:38:38.948Z"
      },
      {
        "duration": 13,
        "start_time": "2024-04-17T16:38:40.065Z"
      },
      {
        "duration": 86,
        "start_time": "2024-04-17T16:38:40.079Z"
      },
      {
        "duration": 31,
        "start_time": "2024-04-17T16:38:40.167Z"
      },
      {
        "duration": 10,
        "start_time": "2024-04-17T16:38:40.199Z"
      },
      {
        "duration": 20,
        "start_time": "2024-04-17T16:38:40.211Z"
      },
      {
        "duration": 14,
        "start_time": "2024-04-17T16:38:40.232Z"
      },
      {
        "duration": 33,
        "start_time": "2024-04-17T16:38:40.248Z"
      },
      {
        "duration": 19,
        "start_time": "2024-04-17T16:38:40.283Z"
      },
      {
        "duration": 16,
        "start_time": "2024-04-17T16:38:40.304Z"
      },
      {
        "duration": 13,
        "start_time": "2024-04-17T16:38:40.321Z"
      },
      {
        "duration": 9,
        "start_time": "2024-04-17T16:38:40.336Z"
      },
      {
        "duration": 12,
        "start_time": "2024-04-17T16:38:40.347Z"
      },
      {
        "duration": 58,
        "start_time": "2024-04-17T16:38:48.242Z"
      },
      {
        "duration": 18,
        "start_time": "2024-04-17T16:39:31.936Z"
      },
      {
        "duration": 13879,
        "start_time": "2024-04-17T16:39:39.592Z"
      },
      {
        "duration": 5,
        "start_time": "2024-04-17T16:40:19.076Z"
      },
      {
        "duration": 188,
        "start_time": "2024-04-17T16:40:19.082Z"
      },
      {
        "duration": 3,
        "start_time": "2024-04-17T16:40:19.272Z"
      },
      {
        "duration": 485,
        "start_time": "2024-04-17T16:40:19.276Z"
      },
      {
        "duration": 4,
        "start_time": "2024-04-17T16:40:19.763Z"
      },
      {
        "duration": 178,
        "start_time": "2024-04-17T16:40:19.768Z"
      },
      {
        "duration": 1748,
        "start_time": "2024-04-17T16:40:19.947Z"
      },
      {
        "duration": 3,
        "start_time": "2024-04-17T16:40:21.697Z"
      },
      {
        "duration": 9,
        "start_time": "2024-04-17T16:40:21.701Z"
      },
      {
        "duration": 15,
        "start_time": "2024-04-17T16:40:21.711Z"
      },
      {
        "duration": 19,
        "start_time": "2024-04-17T16:40:21.727Z"
      },
      {
        "duration": 21,
        "start_time": "2024-04-17T16:40:21.747Z"
      },
      {
        "duration": 275,
        "start_time": "2024-04-17T16:40:21.771Z"
      },
      {
        "duration": 4,
        "start_time": "2024-04-17T16:40:22.048Z"
      },
      {
        "duration": 6,
        "start_time": "2024-04-17T16:40:22.054Z"
      },
      {
        "duration": 278,
        "start_time": "2024-04-17T16:40:22.061Z"
      },
      {
        "duration": 141,
        "start_time": "2024-04-17T16:40:22.345Z"
      },
      {
        "duration": 4,
        "start_time": "2024-04-17T16:40:22.488Z"
      },
      {
        "duration": 14,
        "start_time": "2024-04-17T16:40:22.493Z"
      },
      {
        "duration": 6,
        "start_time": "2024-04-17T16:40:22.508Z"
      },
      {
        "duration": 1055,
        "start_time": "2024-04-17T16:40:22.515Z"
      },
      {
        "duration": 14,
        "start_time": "2024-04-17T16:40:23.571Z"
      },
      {
        "duration": 26,
        "start_time": "2024-04-17T16:40:23.586Z"
      },
      {
        "duration": 27,
        "start_time": "2024-04-17T16:40:23.613Z"
      },
      {
        "duration": 29,
        "start_time": "2024-04-17T16:40:23.645Z"
      },
      {
        "duration": 53,
        "start_time": "2024-04-17T16:40:23.676Z"
      },
      {
        "duration": 15,
        "start_time": "2024-04-17T16:40:23.730Z"
      },
      {
        "duration": 20,
        "start_time": "2024-04-17T16:40:23.746Z"
      },
      {
        "duration": 7,
        "start_time": "2024-04-17T16:40:23.768Z"
      },
      {
        "duration": 15,
        "start_time": "2024-04-17T16:40:23.776Z"
      },
      {
        "duration": 17,
        "start_time": "2024-04-17T16:40:23.793Z"
      },
      {
        "duration": 6,
        "start_time": "2024-04-17T16:40:23.811Z"
      },
      {
        "duration": 38,
        "start_time": "2024-04-17T16:40:23.818Z"
      },
      {
        "duration": 14,
        "start_time": "2024-04-17T16:40:23.858Z"
      },
      {
        "duration": 3,
        "start_time": "2024-04-17T16:40:23.873Z"
      },
      {
        "duration": 4374,
        "start_time": "2024-04-17T16:40:23.877Z"
      },
      {
        "duration": 4,
        "start_time": "2024-04-17T16:40:28.254Z"
      },
      {
        "duration": 14,
        "start_time": "2024-04-17T16:40:32.504Z"
      },
      {
        "duration": 7,
        "start_time": "2024-04-17T16:40:46.508Z"
      },
      {
        "duration": 28,
        "start_time": "2024-04-17T16:40:48.004Z"
      },
      {
        "duration": 3,
        "start_time": "2024-04-17T16:40:51.654Z"
      },
      {
        "duration": 112,
        "start_time": "2024-04-17T16:40:53.039Z"
      },
      {
        "duration": 35,
        "start_time": "2024-04-17T16:41:33.823Z"
      },
      {
        "duration": 44,
        "start_time": "2024-04-17T16:41:37.928Z"
      },
      {
        "duration": 19,
        "start_time": "2024-04-17T16:41:45.845Z"
      },
      {
        "duration": 101,
        "start_time": "2024-04-17T16:42:05.053Z"
      },
      {
        "duration": 116,
        "start_time": "2024-04-17T16:42:32.634Z"
      },
      {
        "duration": 436461,
        "start_time": "2024-04-17T16:44:04.267Z"
      },
      {
        "duration": 92,
        "start_time": "2024-04-17T20:01:21.731Z"
      },
      {
        "duration": 1526,
        "start_time": "2024-04-17T20:01:31.656Z"
      },
      {
        "duration": 556,
        "start_time": "2024-04-17T20:01:33.183Z"
      },
      {
        "duration": 3,
        "start_time": "2024-04-17T20:01:33.740Z"
      },
      {
        "duration": 429,
        "start_time": "2024-04-17T20:01:33.744Z"
      },
      {
        "duration": 4,
        "start_time": "2024-04-17T20:01:34.174Z"
      },
      {
        "duration": 154,
        "start_time": "2024-04-17T20:01:34.179Z"
      },
      {
        "duration": 1503,
        "start_time": "2024-04-17T20:01:34.334Z"
      },
      {
        "duration": 2,
        "start_time": "2024-04-17T20:01:35.839Z"
      },
      {
        "duration": 10,
        "start_time": "2024-04-17T20:01:35.843Z"
      },
      {
        "duration": 24,
        "start_time": "2024-04-17T20:01:35.856Z"
      },
      {
        "duration": 31,
        "start_time": "2024-04-17T20:01:35.881Z"
      },
      {
        "duration": 41,
        "start_time": "2024-04-17T20:01:35.913Z"
      },
      {
        "duration": 206,
        "start_time": "2024-04-17T20:01:35.956Z"
      },
      {
        "duration": 3,
        "start_time": "2024-04-17T20:01:36.163Z"
      },
      {
        "duration": 5,
        "start_time": "2024-04-17T20:01:36.167Z"
      },
      {
        "duration": 230,
        "start_time": "2024-04-17T20:01:36.173Z"
      },
      {
        "duration": 129,
        "start_time": "2024-04-17T20:01:36.404Z"
      },
      {
        "duration": 4,
        "start_time": "2024-04-17T20:01:36.534Z"
      },
      {
        "duration": 24,
        "start_time": "2024-04-17T20:01:36.540Z"
      },
      {
        "duration": 5,
        "start_time": "2024-04-17T20:01:36.565Z"
      },
      {
        "duration": 936,
        "start_time": "2024-04-17T20:01:36.571Z"
      },
      {
        "duration": 12,
        "start_time": "2024-04-17T20:01:37.508Z"
      },
      {
        "duration": 43,
        "start_time": "2024-04-17T20:01:37.521Z"
      },
      {
        "duration": 24,
        "start_time": "2024-04-17T20:01:37.565Z"
      },
      {
        "duration": 14,
        "start_time": "2024-04-17T20:01:37.590Z"
      },
      {
        "duration": 14,
        "start_time": "2024-04-17T20:01:37.606Z"
      },
      {
        "duration": 12,
        "start_time": "2024-04-17T20:01:37.621Z"
      },
      {
        "duration": 16,
        "start_time": "2024-04-17T20:01:37.635Z"
      },
      {
        "duration": 4,
        "start_time": "2024-04-17T20:01:37.652Z"
      },
      {
        "duration": 27,
        "start_time": "2024-04-17T20:01:37.657Z"
      },
      {
        "duration": 22,
        "start_time": "2024-04-17T20:01:37.686Z"
      },
      {
        "duration": 23,
        "start_time": "2024-04-17T20:01:37.709Z"
      },
      {
        "duration": 11,
        "start_time": "2024-04-17T20:01:37.733Z"
      },
      {
        "duration": 15,
        "start_time": "2024-04-17T20:01:37.745Z"
      },
      {
        "duration": 3511,
        "start_time": "2024-04-17T20:01:37.761Z"
      },
      {
        "duration": 3,
        "start_time": "2024-04-17T20:01:41.273Z"
      },
      {
        "duration": 24,
        "start_time": "2024-04-17T20:01:41.277Z"
      },
      {
        "duration": 25,
        "start_time": "2024-04-17T20:01:41.302Z"
      },
      {
        "duration": 82,
        "start_time": "2024-04-17T20:01:41.328Z"
      },
      {
        "duration": 1550949,
        "start_time": "2024-04-17T20:02:39.244Z"
      },
      {
        "duration": 75,
        "start_time": "2024-04-17T20:29:52.151Z"
      },
      {
        "duration": 1233,
        "start_time": "2024-04-17T20:32:03.982Z"
      },
      {
        "duration": 50,
        "start_time": "2024-04-17T20:32:57.283Z"
      },
      {
        "duration": 61,
        "start_time": "2024-04-17T20:33:07.000Z"
      },
      {
        "duration": 1518,
        "start_time": "2024-04-17T20:33:28.586Z"
      },
      {
        "duration": 3,
        "start_time": "2024-04-17T20:34:38.133Z"
      },
      {
        "duration": 1539,
        "start_time": "2024-04-17T20:34:41.742Z"
      },
      {
        "duration": 1593,
        "start_time": "2024-04-17T20:35:37.770Z"
      },
      {
        "duration": 1495,
        "start_time": "2024-04-17T20:36:57.662Z"
      },
      {
        "duration": 3120894,
        "start_time": "2024-04-17T20:41:28.162Z"
      },
      {
        "duration": 52,
        "start_time": "2024-04-17T21:33:29.057Z"
      },
      {
        "duration": 10,
        "start_time": "2024-04-17T21:35:11.884Z"
      },
      {
        "duration": 14260,
        "start_time": "2024-04-17T21:35:43.947Z"
      },
      {
        "duration": 14616,
        "start_time": "2024-04-17T21:36:44.591Z"
      },
      {
        "duration": 8,
        "start_time": "2024-04-17T21:39:10.845Z"
      },
      {
        "duration": 8,
        "start_time": "2024-04-17T21:39:18.792Z"
      },
      {
        "duration": 3058,
        "start_time": "2024-04-17T21:39:33.579Z"
      },
      {
        "duration": 1062586,
        "start_time": "2024-04-17T22:05:44.125Z"
      },
      {
        "duration": 756046,
        "start_time": "2024-04-17T22:23:34.677Z"
      },
      {
        "duration": 3503,
        "start_time": "2024-04-17T22:36:10.725Z"
      },
      {
        "duration": 4322,
        "start_time": "2024-04-17T22:37:41.114Z"
      },
      {
        "duration": 3440,
        "start_time": "2024-04-17T22:37:49.195Z"
      },
      {
        "duration": 3268,
        "start_time": "2024-04-17T22:41:46.461Z"
      },
      {
        "duration": 3223,
        "start_time": "2024-04-17T22:42:01.204Z"
      },
      {
        "duration": 3557,
        "start_time": "2024-04-17T22:43:02.658Z"
      },
      {
        "duration": 3839,
        "start_time": "2024-04-17T22:43:17.054Z"
      },
      {
        "duration": 11,
        "start_time": "2024-04-17T22:45:41.282Z"
      },
      {
        "duration": 4,
        "start_time": "2024-04-17T22:46:03.352Z"
      },
      {
        "duration": 11,
        "start_time": "2024-04-17T22:46:13.178Z"
      },
      {
        "duration": 10,
        "start_time": "2024-04-17T22:46:27.740Z"
      },
      {
        "duration": 17,
        "start_time": "2024-04-17T22:46:30.203Z"
      },
      {
        "duration": 17,
        "start_time": "2024-04-17T22:46:33.847Z"
      },
      {
        "duration": 145207,
        "start_time": "2024-04-17T22:47:07.414Z"
      },
      {
        "duration": 0,
        "start_time": "2024-04-17T22:49:32.701Z"
      },
      {
        "duration": 126870,
        "start_time": "2024-04-17T22:50:44.648Z"
      },
      {
        "duration": 116346,
        "start_time": "2024-04-17T22:53:42.668Z"
      },
      {
        "duration": 8,
        "start_time": "2024-04-17T22:57:14.215Z"
      },
      {
        "duration": 3,
        "start_time": "2024-04-17T22:57:19.491Z"
      },
      {
        "duration": 69409,
        "start_time": "2024-04-17T22:57:22.314Z"
      },
      {
        "duration": 4,
        "start_time": "2024-04-17T22:58:43.617Z"
      },
      {
        "duration": 2,
        "start_time": "2024-04-17T22:58:49.430Z"
      },
      {
        "duration": 2,
        "start_time": "2024-04-17T22:58:56.460Z"
      },
      {
        "duration": 3,
        "start_time": "2024-04-17T22:59:07.127Z"
      },
      {
        "duration": 4,
        "start_time": "2024-04-17T22:59:11.044Z"
      },
      {
        "duration": 310249,
        "start_time": "2024-04-17T22:59:46.176Z"
      },
      {
        "duration": 4900,
        "start_time": "2024-04-17T23:05:32.801Z"
      },
      {
        "duration": 4145,
        "start_time": "2024-04-17T23:06:04.367Z"
      },
      {
        "duration": 4,
        "start_time": "2024-04-17T23:09:07.867Z"
      },
      {
        "duration": 5,
        "start_time": "2024-04-17T23:09:09.414Z"
      },
      {
        "duration": 9,
        "start_time": "2024-04-17T23:09:12.083Z"
      },
      {
        "duration": 6,
        "start_time": "2024-04-17T23:09:12.304Z"
      },
      {
        "duration": 20,
        "start_time": "2024-04-17T23:09:12.812Z"
      },
      {
        "duration": 210,
        "start_time": "2024-04-17T23:09:13.230Z"
      },
      {
        "duration": 3,
        "start_time": "2024-04-17T23:09:13.669Z"
      },
      {
        "duration": 3,
        "start_time": "2024-04-17T23:09:13.972Z"
      },
      {
        "duration": 599,
        "start_time": "2024-04-17T23:09:14.138Z"
      },
      {
        "duration": 119,
        "start_time": "2024-04-17T23:09:14.739Z"
      },
      {
        "duration": 4,
        "start_time": "2024-04-17T23:09:14.860Z"
      },
      {
        "duration": 14,
        "start_time": "2024-04-17T23:09:14.866Z"
      },
      {
        "duration": 9,
        "start_time": "2024-04-17T23:09:15.243Z"
      },
      {
        "duration": 857,
        "start_time": "2024-04-17T23:09:15.605Z"
      },
      {
        "duration": 11,
        "start_time": "2024-04-17T23:09:16.464Z"
      },
      {
        "duration": 10,
        "start_time": "2024-04-17T23:09:16.476Z"
      },
      {
        "duration": 23,
        "start_time": "2024-04-17T23:09:16.490Z"
      },
      {
        "duration": 10,
        "start_time": "2024-04-17T23:09:18.193Z"
      },
      {
        "duration": 13,
        "start_time": "2024-04-17T23:09:18.744Z"
      },
      {
        "duration": 111,
        "start_time": "2024-04-17T23:09:19.425Z"
      },
      {
        "duration": 18,
        "start_time": "2024-04-17T23:09:20.039Z"
      },
      {
        "duration": 6,
        "start_time": "2024-04-17T23:09:20.871Z"
      },
      {
        "duration": 13,
        "start_time": "2024-04-17T23:09:22.143Z"
      },
      {
        "duration": 11,
        "start_time": "2024-04-17T23:09:25.155Z"
      },
      {
        "duration": 7,
        "start_time": "2024-04-17T23:09:28.829Z"
      },
      {
        "duration": 11,
        "start_time": "2024-04-17T23:09:29.491Z"
      },
      {
        "duration": 32,
        "start_time": "2024-04-17T23:09:29.909Z"
      },
      {
        "duration": 3164,
        "start_time": "2024-04-17T23:09:31.499Z"
      },
      {
        "duration": 16,
        "start_time": "2024-04-17T23:11:39.363Z"
      },
      {
        "duration": 4,
        "start_time": "2024-04-17T23:11:43.993Z"
      },
      {
        "duration": 164,
        "start_time": "2024-04-17T23:11:43.998Z"
      },
      {
        "duration": 2,
        "start_time": "2024-04-17T23:11:44.164Z"
      },
      {
        "duration": 454,
        "start_time": "2024-04-17T23:11:44.168Z"
      },
      {
        "duration": 4,
        "start_time": "2024-04-17T23:11:44.623Z"
      },
      {
        "duration": 137,
        "start_time": "2024-04-17T23:11:44.628Z"
      },
      {
        "duration": 1492,
        "start_time": "2024-04-17T23:11:44.766Z"
      },
      {
        "duration": 4,
        "start_time": "2024-04-17T23:11:46.551Z"
      },
      {
        "duration": 5,
        "start_time": "2024-04-17T23:11:50.849Z"
      },
      {
        "duration": 8,
        "start_time": "2024-04-17T23:11:51.650Z"
      },
      {
        "duration": 3,
        "start_time": "2024-04-17T23:12:05.539Z"
      },
      {
        "duration": 168,
        "start_time": "2024-04-17T23:12:05.544Z"
      },
      {
        "duration": 3,
        "start_time": "2024-04-17T23:12:05.714Z"
      },
      {
        "duration": 385,
        "start_time": "2024-04-17T23:12:05.718Z"
      },
      {
        "duration": 4,
        "start_time": "2024-04-17T23:12:06.104Z"
      },
      {
        "duration": 137,
        "start_time": "2024-04-17T23:12:06.109Z"
      },
      {
        "duration": 1546,
        "start_time": "2024-04-17T23:12:06.247Z"
      },
      {
        "duration": 6,
        "start_time": "2024-04-17T23:12:07.795Z"
      },
      {
        "duration": 8,
        "start_time": "2024-04-17T23:12:07.802Z"
      },
      {
        "duration": 20,
        "start_time": "2024-04-17T23:12:07.812Z"
      },
      {
        "duration": 12,
        "start_time": "2024-04-17T23:12:07.833Z"
      },
      {
        "duration": 31,
        "start_time": "2024-04-17T23:12:07.846Z"
      },
      {
        "duration": 234,
        "start_time": "2024-04-17T23:12:07.879Z"
      },
      {
        "duration": 3,
        "start_time": "2024-04-17T23:12:08.114Z"
      },
      {
        "duration": 14,
        "start_time": "2024-04-17T23:12:08.118Z"
      },
      {
        "duration": 246,
        "start_time": "2024-04-17T23:12:08.133Z"
      },
      {
        "duration": 142,
        "start_time": "2024-04-17T23:12:08.381Z"
      },
      {
        "duration": 4,
        "start_time": "2024-04-17T23:12:08.524Z"
      },
      {
        "duration": 13,
        "start_time": "2024-04-17T23:12:08.529Z"
      },
      {
        "duration": 19,
        "start_time": "2024-04-17T23:12:08.544Z"
      },
      {
        "duration": 1008,
        "start_time": "2024-04-17T23:12:08.565Z"
      },
      {
        "duration": 11,
        "start_time": "2024-04-17T23:12:09.574Z"
      },
      {
        "duration": 17,
        "start_time": "2024-04-17T23:12:09.586Z"
      },
      {
        "duration": 17,
        "start_time": "2024-04-17T23:12:26.070Z"
      },
      {
        "duration": 9,
        "start_time": "2024-04-17T23:12:27.760Z"
      },
      {
        "duration": 14,
        "start_time": "2024-04-17T23:12:30.523Z"
      },
      {
        "duration": 12,
        "start_time": "2024-04-17T23:12:32.798Z"
      },
      {
        "duration": 17,
        "start_time": "2024-04-17T23:12:33.045Z"
      },
      {
        "duration": 5,
        "start_time": "2024-04-17T23:12:33.263Z"
      },
      {
        "duration": 13,
        "start_time": "2024-04-17T23:12:33.860Z"
      },
      {
        "duration": 14,
        "start_time": "2024-04-17T23:12:35.984Z"
      },
      {
        "duration": 6,
        "start_time": "2024-04-17T23:12:37.018Z"
      },
      {
        "duration": 15,
        "start_time": "2024-04-17T23:12:39.183Z"
      },
      {
        "duration": 31,
        "start_time": "2024-04-17T23:12:42.238Z"
      },
      {
        "duration": 11,
        "start_time": "2024-04-17T23:12:47.392Z"
      },
      {
        "duration": 19,
        "start_time": "2024-04-17T23:12:49.562Z"
      },
      {
        "duration": 111568,
        "start_time": "2024-04-17T23:13:10.953Z"
      },
      {
        "duration": 4103,
        "start_time": "2024-04-17T23:15:24.465Z"
      },
      {
        "duration": 3438,
        "start_time": "2024-04-17T23:16:02.789Z"
      },
      {
        "duration": 12,
        "start_time": "2024-04-17T23:19:37.677Z"
      },
      {
        "duration": 11,
        "start_time": "2024-04-17T23:19:43.912Z"
      },
      {
        "duration": 4,
        "start_time": "2024-04-17T23:20:13.209Z"
      },
      {
        "duration": 4,
        "start_time": "2024-04-17T23:20:22.558Z"
      },
      {
        "duration": 163,
        "start_time": "2024-04-17T23:20:22.563Z"
      },
      {
        "duration": 3,
        "start_time": "2024-04-17T23:20:22.728Z"
      },
      {
        "duration": 450,
        "start_time": "2024-04-17T23:20:22.733Z"
      },
      {
        "duration": 4,
        "start_time": "2024-04-17T23:20:23.185Z"
      },
      {
        "duration": 144,
        "start_time": "2024-04-17T23:20:23.190Z"
      },
      {
        "duration": 1505,
        "start_time": "2024-04-17T23:20:23.335Z"
      },
      {
        "duration": 4,
        "start_time": "2024-04-17T23:20:24.841Z"
      },
      {
        "duration": 30,
        "start_time": "2024-04-17T23:20:24.848Z"
      },
      {
        "duration": 28,
        "start_time": "2024-04-17T23:20:24.879Z"
      },
      {
        "duration": 5,
        "start_time": "2024-04-17T23:20:24.909Z"
      },
      {
        "duration": 37,
        "start_time": "2024-04-17T23:20:24.915Z"
      },
      {
        "duration": 232,
        "start_time": "2024-04-17T23:20:24.954Z"
      },
      {
        "duration": 4,
        "start_time": "2024-04-17T23:20:25.187Z"
      },
      {
        "duration": 4,
        "start_time": "2024-04-17T23:20:25.202Z"
      },
      {
        "duration": 260,
        "start_time": "2024-04-17T23:20:25.207Z"
      },
      {
        "duration": 119,
        "start_time": "2024-04-17T23:20:25.468Z"
      },
      {
        "duration": 4,
        "start_time": "2024-04-17T23:20:25.588Z"
      },
      {
        "duration": 24,
        "start_time": "2024-04-17T23:20:25.593Z"
      },
      {
        "duration": 6,
        "start_time": "2024-04-17T23:20:25.618Z"
      },
      {
        "duration": 935,
        "start_time": "2024-04-17T23:20:25.625Z"
      },
      {
        "duration": 11,
        "start_time": "2024-04-17T23:20:26.561Z"
      },
      {
        "duration": 10,
        "start_time": "2024-04-17T23:20:26.573Z"
      },
      {
        "duration": 17,
        "start_time": "2024-04-17T23:20:26.585Z"
      },
      {
        "duration": 19,
        "start_time": "2024-04-17T23:20:26.603Z"
      },
      {
        "duration": 11,
        "start_time": "2024-04-17T23:20:26.623Z"
      },
      {
        "duration": 12,
        "start_time": "2024-04-17T23:20:26.636Z"
      },
      {
        "duration": 11,
        "start_time": "2024-04-17T23:20:26.649Z"
      },
      {
        "duration": 39,
        "start_time": "2024-04-17T23:20:26.662Z"
      },
      {
        "duration": 4,
        "start_time": "2024-04-17T23:20:26.703Z"
      },
      {
        "duration": 13,
        "start_time": "2024-04-17T23:20:26.708Z"
      },
      {
        "duration": 11,
        "start_time": "2024-04-17T23:20:26.722Z"
      },
      {
        "duration": 6,
        "start_time": "2024-04-17T23:20:26.734Z"
      },
      {
        "duration": 23,
        "start_time": "2024-04-17T23:20:26.741Z"
      },
      {
        "duration": 47,
        "start_time": "2024-04-17T23:20:26.765Z"
      },
      {
        "duration": 1882,
        "start_time": "2024-04-17T23:20:31.458Z"
      },
      {
        "duration": 3,
        "start_time": "2024-04-17T23:21:01.608Z"
      },
      {
        "duration": 10,
        "start_time": "2024-04-17T23:21:09.632Z"
      },
      {
        "duration": 15,
        "start_time": "2024-04-17T23:21:12.818Z"
      },
      {
        "duration": 3368,
        "start_time": "2024-04-17T23:21:25.856Z"
      },
      {
        "duration": 3,
        "start_time": "2024-04-17T23:23:39.858Z"
      },
      {
        "duration": 175,
        "start_time": "2024-04-17T23:23:39.863Z"
      },
      {
        "duration": 3,
        "start_time": "2024-04-17T23:23:40.040Z"
      },
      {
        "duration": 418,
        "start_time": "2024-04-17T23:23:40.044Z"
      },
      {
        "duration": 3,
        "start_time": "2024-04-17T23:23:40.464Z"
      },
      {
        "duration": 145,
        "start_time": "2024-04-17T23:23:40.468Z"
      },
      {
        "duration": 1512,
        "start_time": "2024-04-17T23:23:40.615Z"
      },
      {
        "duration": 3,
        "start_time": "2024-04-17T23:23:42.129Z"
      },
      {
        "duration": 7,
        "start_time": "2024-04-17T23:23:42.134Z"
      },
      {
        "duration": 8,
        "start_time": "2024-04-17T23:23:42.142Z"
      },
      {
        "duration": 14,
        "start_time": "2024-04-17T23:23:42.151Z"
      },
      {
        "duration": 109,
        "start_time": "2024-04-17T23:23:42.166Z"
      },
      {
        "duration": 225,
        "start_time": "2024-04-17T23:23:42.276Z"
      },
      {
        "duration": 3,
        "start_time": "2024-04-17T23:23:42.503Z"
      },
      {
        "duration": 5,
        "start_time": "2024-04-17T23:23:42.507Z"
      },
      {
        "duration": 236,
        "start_time": "2024-04-17T23:23:42.513Z"
      },
      {
        "duration": 124,
        "start_time": "2024-04-17T23:23:42.750Z"
      },
      {
        "duration": 4,
        "start_time": "2024-04-17T23:23:42.875Z"
      },
      {
        "duration": 8,
        "start_time": "2024-04-17T23:23:42.881Z"
      },
      {
        "duration": 5,
        "start_time": "2024-04-17T23:23:42.901Z"
      },
      {
        "duration": 994,
        "start_time": "2024-04-17T23:23:42.908Z"
      },
      {
        "duration": 12,
        "start_time": "2024-04-17T23:23:43.904Z"
      },
      {
        "duration": 23,
        "start_time": "2024-04-17T23:23:43.917Z"
      },
      {
        "duration": 7,
        "start_time": "2024-04-17T23:23:43.943Z"
      },
      {
        "duration": 17,
        "start_time": "2024-04-17T23:23:43.952Z"
      },
      {
        "duration": 12,
        "start_time": "2024-04-17T23:23:43.971Z"
      },
      {
        "duration": 18,
        "start_time": "2024-04-17T23:23:43.984Z"
      },
      {
        "duration": 11,
        "start_time": "2024-04-17T23:23:44.004Z"
      },
      {
        "duration": 17,
        "start_time": "2024-04-17T23:23:44.016Z"
      },
      {
        "duration": 5,
        "start_time": "2024-04-17T23:23:44.034Z"
      },
      {
        "duration": 19,
        "start_time": "2024-04-17T23:23:44.040Z"
      },
      {
        "duration": 11,
        "start_time": "2024-04-17T23:23:44.060Z"
      },
      {
        "duration": 5,
        "start_time": "2024-04-17T23:23:44.072Z"
      },
      {
        "duration": 11,
        "start_time": "2024-04-17T23:23:44.101Z"
      },
      {
        "duration": 29,
        "start_time": "2024-04-17T23:23:44.114Z"
      },
      {
        "duration": 1793,
        "start_time": "2024-04-17T23:23:44.144Z"
      },
      {
        "duration": 10,
        "start_time": "2024-04-17T23:23:56.654Z"
      },
      {
        "duration": 15,
        "start_time": "2024-04-17T23:23:59.462Z"
      },
      {
        "duration": 103226,
        "start_time": "2024-04-17T23:24:18.058Z"
      },
      {
        "duration": 13752,
        "start_time": "2024-04-17T23:26:12.545Z"
      },
      {
        "duration": 3224,
        "start_time": "2024-04-17T23:26:31.206Z"
      },
      {
        "duration": 456592,
        "start_time": "2024-04-17T23:27:16.904Z"
      },
      {
        "duration": 9,
        "start_time": "2024-04-17T23:35:15.147Z"
      },
      {
        "duration": 3,
        "start_time": "2024-04-17T23:35:25.795Z"
      },
      {
        "duration": 11,
        "start_time": "2024-04-17T23:35:26.559Z"
      },
      {
        "duration": 6,
        "start_time": "2024-04-17T23:35:39.125Z"
      },
      {
        "duration": 1370,
        "start_time": "2024-04-17T23:36:09.598Z"
      },
      {
        "duration": 174,
        "start_time": "2024-04-17T23:36:10.969Z"
      },
      {
        "duration": 4,
        "start_time": "2024-04-17T23:36:11.144Z"
      },
      {
        "duration": 433,
        "start_time": "2024-04-17T23:36:11.150Z"
      },
      {
        "duration": 3,
        "start_time": "2024-04-17T23:36:11.584Z"
      },
      {
        "duration": 147,
        "start_time": "2024-04-17T23:36:11.588Z"
      },
      {
        "duration": 1476,
        "start_time": "2024-04-17T23:36:11.736Z"
      },
      {
        "duration": 4,
        "start_time": "2024-04-17T23:36:13.214Z"
      },
      {
        "duration": 13,
        "start_time": "2024-04-17T23:36:13.220Z"
      },
      {
        "duration": 21,
        "start_time": "2024-04-17T23:36:13.236Z"
      },
      {
        "duration": 6,
        "start_time": "2024-04-17T23:36:13.258Z"
      },
      {
        "duration": 36,
        "start_time": "2024-04-17T23:36:13.266Z"
      },
      {
        "duration": 226,
        "start_time": "2024-04-17T23:36:13.303Z"
      },
      {
        "duration": 2,
        "start_time": "2024-04-17T23:36:13.531Z"
      },
      {
        "duration": 4,
        "start_time": "2024-04-17T23:36:13.535Z"
      },
      {
        "duration": 227,
        "start_time": "2024-04-17T23:36:13.540Z"
      },
      {
        "duration": 113,
        "start_time": "2024-04-17T23:36:13.768Z"
      },
      {
        "duration": 3,
        "start_time": "2024-04-17T23:36:13.882Z"
      },
      {
        "duration": 20,
        "start_time": "2024-04-17T23:36:13.886Z"
      },
      {
        "duration": 5,
        "start_time": "2024-04-17T23:36:13.907Z"
      },
      {
        "duration": 935,
        "start_time": "2024-04-17T23:36:13.913Z"
      },
      {
        "duration": 11,
        "start_time": "2024-04-17T23:36:14.849Z"
      },
      {
        "duration": 19,
        "start_time": "2024-04-17T23:36:14.861Z"
      },
      {
        "duration": 5,
        "start_time": "2024-04-17T23:36:14.881Z"
      },
      {
        "duration": 21,
        "start_time": "2024-04-17T23:36:14.887Z"
      },
      {
        "duration": 16,
        "start_time": "2024-04-17T23:36:14.909Z"
      },
      {
        "duration": 16,
        "start_time": "2024-04-17T23:36:14.926Z"
      },
      {
        "duration": 12,
        "start_time": "2024-04-17T23:36:14.945Z"
      },
      {
        "duration": 15,
        "start_time": "2024-04-17T23:36:14.958Z"
      },
      {
        "duration": 5,
        "start_time": "2024-04-17T23:36:14.974Z"
      },
      {
        "duration": 27,
        "start_time": "2024-04-17T23:36:14.980Z"
      },
      {
        "duration": 10,
        "start_time": "2024-04-17T23:36:15.009Z"
      },
      {
        "duration": 29,
        "start_time": "2024-04-17T23:36:15.020Z"
      },
      {
        "duration": 22,
        "start_time": "2024-04-17T23:36:15.050Z"
      },
      {
        "duration": 70,
        "start_time": "2024-04-17T23:36:15.073Z"
      },
      {
        "duration": 1791,
        "start_time": "2024-04-17T23:36:15.145Z"
      },
      {
        "duration": 11,
        "start_time": "2024-04-17T23:36:16.937Z"
      },
      {
        "duration": 54,
        "start_time": "2024-04-17T23:36:16.949Z"
      },
      {
        "duration": 473192,
        "start_time": "2024-04-17T23:36:17.005Z"
      },
      {
        "duration": 4535,
        "start_time": "2024-04-17T23:44:10.201Z"
      },
      {
        "duration": 0,
        "start_time": "2024-04-17T23:44:14.737Z"
      },
      {
        "duration": 0,
        "start_time": "2024-04-17T23:44:14.738Z"
      },
      {
        "duration": 0,
        "start_time": "2024-04-17T23:44:14.739Z"
      },
      {
        "duration": 0,
        "start_time": "2024-04-17T23:44:14.740Z"
      },
      {
        "duration": 0,
        "start_time": "2024-04-17T23:44:14.741Z"
      },
      {
        "duration": 1879,
        "start_time": "2024-04-18T05:45:18.782Z"
      },
      {
        "duration": 593,
        "start_time": "2024-04-18T05:45:20.663Z"
      },
      {
        "duration": 4,
        "start_time": "2024-04-18T05:45:21.258Z"
      },
      {
        "duration": 569,
        "start_time": "2024-04-18T05:45:21.264Z"
      },
      {
        "duration": 4,
        "start_time": "2024-04-18T05:45:21.835Z"
      },
      {
        "duration": 213,
        "start_time": "2024-04-18T05:45:21.840Z"
      },
      {
        "duration": 2050,
        "start_time": "2024-04-18T05:45:22.055Z"
      },
      {
        "duration": 5,
        "start_time": "2024-04-18T05:45:24.106Z"
      },
      {
        "duration": 22,
        "start_time": "2024-04-18T05:45:24.112Z"
      },
      {
        "duration": 10,
        "start_time": "2024-04-18T05:45:24.137Z"
      },
      {
        "duration": 6,
        "start_time": "2024-04-18T05:45:24.149Z"
      },
      {
        "duration": 23,
        "start_time": "2024-04-18T05:45:24.176Z"
      },
      {
        "duration": 283,
        "start_time": "2024-04-18T05:45:24.200Z"
      },
      {
        "duration": 4,
        "start_time": "2024-04-18T05:45:24.484Z"
      },
      {
        "duration": 10,
        "start_time": "2024-04-18T05:45:24.489Z"
      },
      {
        "duration": 288,
        "start_time": "2024-04-18T05:45:24.500Z"
      },
      {
        "duration": 152,
        "start_time": "2024-04-18T05:45:24.789Z"
      },
      {
        "duration": 5,
        "start_time": "2024-04-18T05:45:24.942Z"
      },
      {
        "duration": 26,
        "start_time": "2024-04-18T05:45:24.948Z"
      },
      {
        "duration": 20,
        "start_time": "2024-04-18T05:45:24.981Z"
      },
      {
        "duration": 1266,
        "start_time": "2024-04-18T05:45:25.002Z"
      },
      {
        "duration": 21,
        "start_time": "2024-04-18T05:45:26.280Z"
      },
      {
        "duration": 9,
        "start_time": "2024-04-18T05:45:26.303Z"
      },
      {
        "duration": 11,
        "start_time": "2024-04-18T05:45:26.313Z"
      },
      {
        "duration": 19,
        "start_time": "2024-04-18T05:45:26.326Z"
      },
      {
        "duration": 29,
        "start_time": "2024-04-18T05:45:26.347Z"
      },
      {
        "duration": 16,
        "start_time": "2024-04-18T05:45:26.378Z"
      },
      {
        "duration": 14,
        "start_time": "2024-04-18T05:45:26.398Z"
      },
      {
        "duration": 23,
        "start_time": "2024-04-18T05:45:26.413Z"
      },
      {
        "duration": 5,
        "start_time": "2024-04-18T05:45:26.438Z"
      },
      {
        "duration": 48,
        "start_time": "2024-04-18T05:45:26.445Z"
      },
      {
        "duration": 20,
        "start_time": "2024-04-18T05:45:26.495Z"
      },
      {
        "duration": 6,
        "start_time": "2024-04-18T05:45:26.516Z"
      },
      {
        "duration": 16,
        "start_time": "2024-04-18T05:45:26.524Z"
      },
      {
        "duration": 66,
        "start_time": "2024-04-18T05:45:26.541Z"
      },
      {
        "duration": 2488,
        "start_time": "2024-04-18T05:45:26.608Z"
      },
      {
        "duration": 16,
        "start_time": "2024-04-18T05:45:29.098Z"
      },
      {
        "duration": 54,
        "start_time": "2024-04-18T05:45:29.115Z"
      },
      {
        "duration": 514560,
        "start_time": "2024-04-18T05:45:29.171Z"
      },
      {
        "duration": 4805,
        "start_time": "2024-04-18T05:54:03.732Z"
      },
      {
        "duration": 0,
        "start_time": "2024-04-18T05:54:08.539Z"
      },
      {
        "duration": 0,
        "start_time": "2024-04-18T05:54:08.541Z"
      },
      {
        "duration": 0,
        "start_time": "2024-04-18T05:54:08.542Z"
      },
      {
        "duration": 0,
        "start_time": "2024-04-18T05:54:08.543Z"
      },
      {
        "duration": 0,
        "start_time": "2024-04-18T05:54:08.544Z"
      },
      {
        "duration": 9,
        "start_time": "2024-04-18T05:57:40.912Z"
      },
      {
        "duration": 11,
        "start_time": "2024-04-18T05:58:24.473Z"
      },
      {
        "duration": 5,
        "start_time": "2024-04-18T05:58:33.608Z"
      },
      {
        "duration": 25,
        "start_time": "2024-04-18T05:58:51.483Z"
      },
      {
        "duration": 26,
        "start_time": "2024-04-18T05:59:14.650Z"
      },
      {
        "duration": 44,
        "start_time": "2024-04-18T05:59:54.904Z"
      },
      {
        "duration": 6658,
        "start_time": "2024-04-18T05:59:58.942Z"
      },
      {
        "duration": 4,
        "start_time": "2024-04-18T06:00:11.621Z"
      },
      {
        "duration": 183,
        "start_time": "2024-04-18T06:00:11.627Z"
      },
      {
        "duration": 4,
        "start_time": "2024-04-18T06:00:11.812Z"
      },
      {
        "duration": 500,
        "start_time": "2024-04-18T06:00:11.817Z"
      },
      {
        "duration": 5,
        "start_time": "2024-04-18T06:00:12.320Z"
      },
      {
        "duration": 311,
        "start_time": "2024-04-18T06:00:12.326Z"
      },
      {
        "duration": 2023,
        "start_time": "2024-04-18T06:00:12.638Z"
      },
      {
        "duration": 11,
        "start_time": "2024-04-18T06:00:14.663Z"
      },
      {
        "duration": 13,
        "start_time": "2024-04-18T06:00:14.675Z"
      },
      {
        "duration": 11,
        "start_time": "2024-04-18T06:00:14.689Z"
      },
      {
        "duration": 5,
        "start_time": "2024-04-18T06:00:14.702Z"
      },
      {
        "duration": 37,
        "start_time": "2024-04-18T06:00:14.708Z"
      },
      {
        "duration": 286,
        "start_time": "2024-04-18T06:00:14.746Z"
      },
      {
        "duration": 3,
        "start_time": "2024-04-18T06:00:15.034Z"
      },
      {
        "duration": 86,
        "start_time": "2024-04-18T06:00:15.038Z"
      },
      {
        "duration": 307,
        "start_time": "2024-04-18T06:00:15.126Z"
      },
      {
        "duration": 174,
        "start_time": "2024-04-18T06:00:15.434Z"
      },
      {
        "duration": 5,
        "start_time": "2024-04-18T06:00:15.610Z"
      },
      {
        "duration": 35,
        "start_time": "2024-04-18T06:00:15.617Z"
      },
      {
        "duration": 14,
        "start_time": "2024-04-18T06:00:15.654Z"
      },
      {
        "duration": 1325,
        "start_time": "2024-04-18T06:00:15.671Z"
      },
      {
        "duration": 23,
        "start_time": "2024-04-18T06:00:17.002Z"
      },
      {
        "duration": 13,
        "start_time": "2024-04-18T06:00:17.027Z"
      },
      {
        "duration": 28,
        "start_time": "2024-04-18T06:00:17.042Z"
      },
      {
        "duration": 40,
        "start_time": "2024-04-18T06:00:17.071Z"
      },
      {
        "duration": 16,
        "start_time": "2024-04-18T06:00:17.113Z"
      },
      {
        "duration": 17,
        "start_time": "2024-04-18T06:00:17.131Z"
      },
      {
        "duration": 19,
        "start_time": "2024-04-18T06:00:17.150Z"
      },
      {
        "duration": 22,
        "start_time": "2024-04-18T06:00:17.173Z"
      },
      {
        "duration": 12,
        "start_time": "2024-04-18T06:00:17.197Z"
      },
      {
        "duration": 31,
        "start_time": "2024-04-18T06:00:17.211Z"
      },
      {
        "duration": 16,
        "start_time": "2024-04-18T06:00:17.244Z"
      },
      {
        "duration": 20,
        "start_time": "2024-04-18T06:00:17.262Z"
      },
      {
        "duration": 16,
        "start_time": "2024-04-18T06:00:17.284Z"
      },
      {
        "duration": 45,
        "start_time": "2024-04-18T06:00:17.302Z"
      },
      {
        "duration": 2109,
        "start_time": "2024-04-18T06:00:21.211Z"
      },
      {
        "duration": 13,
        "start_time": "2024-04-18T06:00:33.588Z"
      },
      {
        "duration": 27,
        "start_time": "2024-04-18T06:00:34.924Z"
      },
      {
        "duration": 42,
        "start_time": "2024-04-18T06:00:45.830Z"
      },
      {
        "duration": 4234,
        "start_time": "2024-04-18T06:01:00.405Z"
      },
      {
        "duration": 4,
        "start_time": "2024-04-18T06:01:11.840Z"
      },
      {
        "duration": 39,
        "start_time": "2024-04-18T06:01:19.314Z"
      },
      {
        "duration": 4839,
        "start_time": "2024-04-18T06:01:26.540Z"
      },
      {
        "duration": 638946,
        "start_time": "2024-04-18T06:01:39.237Z"
      },
      {
        "duration": 28268,
        "start_time": "2024-04-18T06:12:54.076Z"
      },
      {
        "duration": 17548,
        "start_time": "2024-04-18T06:13:46.120Z"
      },
      {
        "duration": 3485,
        "start_time": "2024-04-18T06:18:15.176Z"
      },
      {
        "duration": 20581,
        "start_time": "2024-04-18T06:18:44.016Z"
      },
      {
        "duration": 5,
        "start_time": "2024-04-18T06:19:46.112Z"
      },
      {
        "duration": 17,
        "start_time": "2024-04-18T06:19:52.882Z"
      },
      {
        "duration": 6,
        "start_time": "2024-04-18T06:19:56.976Z"
      },
      {
        "duration": 5,
        "start_time": "2024-04-18T06:21:00.336Z"
      },
      {
        "duration": 4080,
        "start_time": "2024-04-18T19:06:23.714Z"
      },
      {
        "duration": 634,
        "start_time": "2024-04-18T19:06:27.796Z"
      },
      {
        "duration": 4,
        "start_time": "2024-04-18T19:06:49.916Z"
      },
      {
        "duration": 553,
        "start_time": "2024-04-18T19:06:51.851Z"
      },
      {
        "duration": 4,
        "start_time": "2024-04-18T19:08:09.363Z"
      },
      {
        "duration": 183,
        "start_time": "2024-04-18T19:08:09.981Z"
      },
      {
        "duration": 1997,
        "start_time": "2024-04-18T19:08:53.855Z"
      },
      {
        "duration": 4,
        "start_time": "2024-04-18T19:09:22.180Z"
      },
      {
        "duration": 6,
        "start_time": "2024-04-18T19:09:23.581Z"
      },
      {
        "duration": 12,
        "start_time": "2024-04-18T19:09:25.407Z"
      },
      {
        "duration": 6,
        "start_time": "2024-04-18T19:09:26.575Z"
      },
      {
        "duration": 26,
        "start_time": "2024-04-18T19:10:16.901Z"
      },
      {
        "duration": 274,
        "start_time": "2024-04-18T19:11:08.265Z"
      },
      {
        "duration": 4,
        "start_time": "2024-04-18T19:11:10.617Z"
      },
      {
        "duration": 4,
        "start_time": "2024-04-18T19:11:33.716Z"
      },
      {
        "duration": 304,
        "start_time": "2024-04-18T19:11:34.674Z"
      },
      {
        "duration": 167,
        "start_time": "2024-04-18T19:11:35.390Z"
      },
      {
        "duration": 5,
        "start_time": "2024-04-18T19:11:36.377Z"
      },
      {
        "duration": 13,
        "start_time": "2024-04-18T19:12:41.574Z"
      },
      {
        "duration": 27,
        "start_time": "2024-04-18T19:12:41.594Z"
      },
      {
        "duration": 1347,
        "start_time": "2024-04-18T19:12:48.857Z"
      },
      {
        "duration": 16,
        "start_time": "2024-04-18T19:12:50.276Z"
      },
      {
        "duration": 10,
        "start_time": "2024-04-18T19:12:51.499Z"
      },
      {
        "duration": 3,
        "start_time": "2024-04-18T19:13:00.493Z"
      },
      {
        "duration": 30,
        "start_time": "2024-04-18T19:14:06.095Z"
      },
      {
        "duration": 13,
        "start_time": "2024-04-18T19:14:56.088Z"
      },
      {
        "duration": 20,
        "start_time": "2024-04-18T19:15:01.172Z"
      },
      {
        "duration": 15,
        "start_time": "2024-04-18T19:15:24.667Z"
      },
      {
        "duration": 20,
        "start_time": "2024-04-18T19:15:29.344Z"
      },
      {
        "duration": 7,
        "start_time": "2024-04-18T19:15:36.119Z"
      },
      {
        "duration": 18,
        "start_time": "2024-04-18T19:15:36.983Z"
      },
      {
        "duration": 19,
        "start_time": "2024-04-18T19:16:24.955Z"
      },
      {
        "duration": 9,
        "start_time": "2024-04-18T19:17:08.664Z"
      },
      {
        "duration": 15,
        "start_time": "2024-04-18T19:17:09.158Z"
      },
      {
        "duration": 47,
        "start_time": "2024-04-18T19:17:28.501Z"
      },
      {
        "duration": 6,
        "start_time": "2024-04-18T19:19:24.626Z"
      },
      {
        "duration": 2381,
        "start_time": "2024-04-18T19:19:30.603Z"
      },
      {
        "duration": 13,
        "start_time": "2024-04-18T19:23:10.803Z"
      },
      {
        "duration": 64,
        "start_time": "2024-04-18T19:24:02.628Z"
      },
      {
        "duration": 80460,
        "start_time": "2024-04-18T19:24:52.706Z"
      },
      {
        "duration": 4704,
        "start_time": "2024-04-18T19:26:19.660Z"
      },
      {
        "duration": 214822,
        "start_time": "2024-04-18T19:26:47.084Z"
      },
      {
        "duration": 5026,
        "start_time": "2024-04-18T19:30:21.908Z"
      },
      {
        "duration": 19195,
        "start_time": "2024-04-18T19:30:26.935Z"
      },
      {
        "duration": 3631,
        "start_time": "2024-04-18T19:30:46.132Z"
      },
      {
        "duration": 4047,
        "start_time": "2024-04-18T19:30:49.765Z"
      },
      {
        "duration": 50,
        "start_time": "2024-04-18T20:42:07.295Z"
      },
      {
        "duration": 1702,
        "start_time": "2024-04-18T20:42:10.502Z"
      },
      {
        "duration": 650,
        "start_time": "2024-04-18T20:42:12.206Z"
      },
      {
        "duration": 4,
        "start_time": "2024-04-18T20:42:12.858Z"
      },
      {
        "duration": 533,
        "start_time": "2024-04-18T20:42:12.864Z"
      },
      {
        "duration": 4,
        "start_time": "2024-04-18T20:42:13.399Z"
      },
      {
        "duration": 172,
        "start_time": "2024-04-18T20:42:13.404Z"
      },
      {
        "duration": 1883,
        "start_time": "2024-04-18T20:42:13.578Z"
      },
      {
        "duration": 4,
        "start_time": "2024-04-18T20:42:15.463Z"
      },
      {
        "duration": 42,
        "start_time": "2024-04-18T20:42:15.470Z"
      },
      {
        "duration": 29,
        "start_time": "2024-04-18T20:42:15.515Z"
      },
      {
        "duration": 10,
        "start_time": "2024-04-18T20:42:15.545Z"
      },
      {
        "duration": 50,
        "start_time": "2024-04-18T20:42:15.557Z"
      },
      {
        "duration": 272,
        "start_time": "2024-04-18T20:42:15.609Z"
      },
      {
        "duration": 4,
        "start_time": "2024-04-18T20:42:15.882Z"
      },
      {
        "duration": 10,
        "start_time": "2024-04-18T20:42:15.887Z"
      },
      {
        "duration": 264,
        "start_time": "2024-04-18T20:42:15.898Z"
      },
      {
        "duration": 152,
        "start_time": "2024-04-18T20:42:16.164Z"
      },
      {
        "duration": 4,
        "start_time": "2024-04-18T20:42:16.318Z"
      },
      {
        "duration": 38,
        "start_time": "2024-04-18T20:42:16.323Z"
      },
      {
        "duration": 55,
        "start_time": "2024-04-18T20:42:16.362Z"
      },
      {
        "duration": 1167,
        "start_time": "2024-04-18T20:42:16.418Z"
      },
      {
        "duration": 14,
        "start_time": "2024-04-18T20:42:17.587Z"
      },
      {
        "duration": 18,
        "start_time": "2024-04-18T20:42:17.602Z"
      },
      {
        "duration": 4,
        "start_time": "2024-04-18T20:42:17.621Z"
      },
      {
        "duration": 21,
        "start_time": "2024-04-18T20:42:17.626Z"
      },
      {
        "duration": 24,
        "start_time": "2024-04-18T20:42:17.649Z"
      },
      {
        "duration": 16,
        "start_time": "2024-04-18T20:42:17.674Z"
      },
      {
        "duration": 14,
        "start_time": "2024-04-18T20:42:17.693Z"
      },
      {
        "duration": 30,
        "start_time": "2024-04-18T20:42:17.708Z"
      },
      {
        "duration": 6,
        "start_time": "2024-04-18T20:42:17.739Z"
      },
      {
        "duration": 36,
        "start_time": "2024-04-18T20:42:17.746Z"
      },
      {
        "duration": 14,
        "start_time": "2024-04-18T20:42:17.783Z"
      },
      {
        "duration": 23,
        "start_time": "2024-04-18T20:42:17.799Z"
      },
      {
        "duration": 23,
        "start_time": "2024-04-18T20:42:17.824Z"
      },
      {
        "duration": 40,
        "start_time": "2024-04-18T20:42:24.941Z"
      },
      {
        "duration": 11,
        "start_time": "2024-04-18T20:42:33.162Z"
      },
      {
        "duration": 17,
        "start_time": "2024-04-18T20:42:36.669Z"
      },
      {
        "duration": 97,
        "start_time": "2024-04-18T20:43:50.109Z"
      },
      {
        "duration": 5,
        "start_time": "2024-04-18T20:43:58.234Z"
      },
      {
        "duration": 195,
        "start_time": "2024-04-18T20:43:58.241Z"
      },
      {
        "duration": 5,
        "start_time": "2024-04-18T20:43:58.438Z"
      },
      {
        "duration": 571,
        "start_time": "2024-04-18T20:43:58.446Z"
      },
      {
        "duration": 4,
        "start_time": "2024-04-18T20:43:59.019Z"
      },
      {
        "duration": 235,
        "start_time": "2024-04-18T20:43:59.024Z"
      },
      {
        "duration": 1973,
        "start_time": "2024-04-18T20:43:59.261Z"
      },
      {
        "duration": 4,
        "start_time": "2024-04-18T20:44:01.235Z"
      },
      {
        "duration": 56,
        "start_time": "2024-04-18T20:44:01.241Z"
      },
      {
        "duration": 52,
        "start_time": "2024-04-18T20:44:01.298Z"
      },
      {
        "duration": 88,
        "start_time": "2024-04-18T20:44:01.352Z"
      },
      {
        "duration": 63,
        "start_time": "2024-04-18T20:44:01.442Z"
      },
      {
        "duration": 364,
        "start_time": "2024-04-18T20:44:01.507Z"
      },
      {
        "duration": 4,
        "start_time": "2024-04-18T20:44:01.872Z"
      },
      {
        "duration": 60,
        "start_time": "2024-04-18T20:44:01.877Z"
      },
      {
        "duration": 391,
        "start_time": "2024-04-18T20:44:01.939Z"
      },
      {
        "duration": 158,
        "start_time": "2024-04-18T20:44:02.332Z"
      },
      {
        "duration": 5,
        "start_time": "2024-04-18T20:44:02.491Z"
      },
      {
        "duration": 20,
        "start_time": "2024-04-18T20:44:02.497Z"
      },
      {
        "duration": 16,
        "start_time": "2024-04-18T20:44:02.519Z"
      },
      {
        "duration": 1204,
        "start_time": "2024-04-18T20:44:02.537Z"
      },
      {
        "duration": 13,
        "start_time": "2024-04-18T20:44:03.743Z"
      },
      {
        "duration": 9,
        "start_time": "2024-04-18T20:44:03.770Z"
      },
      {
        "duration": 5,
        "start_time": "2024-04-18T20:44:03.781Z"
      },
      {
        "duration": 35,
        "start_time": "2024-04-18T20:44:03.787Z"
      },
      {
        "duration": 11,
        "start_time": "2024-04-18T20:44:03.823Z"
      },
      {
        "duration": 15,
        "start_time": "2024-04-18T20:44:03.835Z"
      },
      {
        "duration": 28,
        "start_time": "2024-04-18T20:44:03.852Z"
      },
      {
        "duration": 19,
        "start_time": "2024-04-18T20:44:03.882Z"
      },
      {
        "duration": 6,
        "start_time": "2024-04-18T20:44:03.903Z"
      },
      {
        "duration": 21,
        "start_time": "2024-04-18T20:44:03.910Z"
      },
      {
        "duration": 13,
        "start_time": "2024-04-18T20:44:03.932Z"
      },
      {
        "duration": 28,
        "start_time": "2024-04-18T20:44:03.946Z"
      },
      {
        "duration": 17,
        "start_time": "2024-04-18T20:44:03.976Z"
      },
      {
        "duration": 55,
        "start_time": "2024-04-18T20:44:23.524Z"
      },
      {
        "duration": 11,
        "start_time": "2024-04-18T20:44:35.965Z"
      },
      {
        "duration": 22,
        "start_time": "2024-04-18T20:44:38.546Z"
      },
      {
        "duration": 21,
        "start_time": "2024-04-18T20:44:41.076Z"
      },
      {
        "duration": 16,
        "start_time": "2024-04-18T20:44:49.914Z"
      },
      {
        "duration": 5,
        "start_time": "2024-04-18T20:44:54.823Z"
      },
      {
        "duration": 212,
        "start_time": "2024-04-18T20:44:54.830Z"
      },
      {
        "duration": 5,
        "start_time": "2024-04-18T20:44:55.044Z"
      },
      {
        "duration": 556,
        "start_time": "2024-04-18T20:44:55.050Z"
      },
      {
        "duration": 3,
        "start_time": "2024-04-18T20:44:55.608Z"
      },
      {
        "duration": 166,
        "start_time": "2024-04-18T20:44:55.612Z"
      },
      {
        "duration": 1891,
        "start_time": "2024-04-18T20:44:55.780Z"
      },
      {
        "duration": 5,
        "start_time": "2024-04-18T20:44:57.673Z"
      },
      {
        "duration": 13,
        "start_time": "2024-04-18T20:44:57.680Z"
      },
      {
        "duration": 21,
        "start_time": "2024-04-18T20:44:57.695Z"
      },
      {
        "duration": 6,
        "start_time": "2024-04-18T20:44:57.719Z"
      },
      {
        "duration": 34,
        "start_time": "2024-04-18T20:44:57.727Z"
      },
      {
        "duration": 285,
        "start_time": "2024-04-18T20:44:57.763Z"
      },
      {
        "duration": 4,
        "start_time": "2024-04-18T20:44:58.050Z"
      },
      {
        "duration": 17,
        "start_time": "2024-04-18T20:44:58.056Z"
      },
      {
        "duration": 312,
        "start_time": "2024-04-18T20:44:58.075Z"
      },
      {
        "duration": 163,
        "start_time": "2024-04-18T20:44:58.389Z"
      },
      {
        "duration": 5,
        "start_time": "2024-04-18T20:44:58.553Z"
      },
      {
        "duration": 19,
        "start_time": "2024-04-18T20:44:58.559Z"
      },
      {
        "duration": 6,
        "start_time": "2024-04-18T20:44:58.579Z"
      },
      {
        "duration": 1209,
        "start_time": "2024-04-18T20:44:58.587Z"
      },
      {
        "duration": 13,
        "start_time": "2024-04-18T20:44:59.798Z"
      },
      {
        "duration": 13,
        "start_time": "2024-04-18T20:44:59.813Z"
      },
      {
        "duration": 6,
        "start_time": "2024-04-18T20:44:59.827Z"
      },
      {
        "duration": 34,
        "start_time": "2024-04-18T20:44:59.835Z"
      },
      {
        "duration": 12,
        "start_time": "2024-04-18T20:44:59.871Z"
      },
      {
        "duration": 20,
        "start_time": "2024-04-18T20:44:59.885Z"
      },
      {
        "duration": 14,
        "start_time": "2024-04-18T20:44:59.907Z"
      },
      {
        "duration": 24,
        "start_time": "2024-04-18T20:44:59.925Z"
      },
      {
        "duration": 8,
        "start_time": "2024-04-18T20:44:59.970Z"
      },
      {
        "duration": 18,
        "start_time": "2024-04-18T20:44:59.980Z"
      },
      {
        "duration": 15,
        "start_time": "2024-04-18T20:45:00.000Z"
      },
      {
        "duration": 22,
        "start_time": "2024-04-18T20:45:00.016Z"
      },
      {
        "duration": 133,
        "start_time": "2024-04-18T20:45:00.040Z"
      },
      {
        "duration": 39,
        "start_time": "2024-04-18T20:45:08.449Z"
      },
      {
        "duration": 11,
        "start_time": "2024-04-18T20:45:13.567Z"
      },
      {
        "duration": 17,
        "start_time": "2024-04-18T20:45:19.707Z"
      },
      {
        "duration": 7,
        "start_time": "2024-04-18T20:55:56.272Z"
      },
      {
        "duration": 15,
        "start_time": "2024-04-18T20:56:15.775Z"
      },
      {
        "duration": 15,
        "start_time": "2024-04-18T20:56:23.464Z"
      },
      {
        "duration": 13,
        "start_time": "2024-04-18T20:56:29.860Z"
      },
      {
        "duration": 14,
        "start_time": "2024-04-18T20:56:37.512Z"
      },
      {
        "duration": 13,
        "start_time": "2024-04-18T20:58:19.386Z"
      },
      {
        "duration": 10,
        "start_time": "2024-04-18T20:58:37.609Z"
      },
      {
        "duration": 12,
        "start_time": "2024-04-18T20:58:40.213Z"
      },
      {
        "duration": 4,
        "start_time": "2024-04-18T20:58:53.568Z"
      },
      {
        "duration": 14,
        "start_time": "2024-04-18T20:58:57.232Z"
      },
      {
        "duration": 6,
        "start_time": "2024-04-18T20:59:08.962Z"
      },
      {
        "duration": 4,
        "start_time": "2024-04-18T20:59:18.004Z"
      },
      {
        "duration": 5,
        "start_time": "2024-04-18T20:59:25.139Z"
      },
      {
        "duration": 15,
        "start_time": "2024-04-18T20:59:35.803Z"
      },
      {
        "duration": 12,
        "start_time": "2024-04-18T21:04:17.905Z"
      },
      {
        "duration": 13,
        "start_time": "2024-04-18T21:09:07.504Z"
      },
      {
        "duration": 11,
        "start_time": "2024-04-18T21:09:28.575Z"
      },
      {
        "duration": 15,
        "start_time": "2024-04-18T21:09:32.215Z"
      },
      {
        "duration": 6,
        "start_time": "2024-04-18T21:10:06.158Z"
      },
      {
        "duration": 17,
        "start_time": "2024-04-18T21:10:08.185Z"
      },
      {
        "duration": 5,
        "start_time": "2024-04-18T21:10:16.084Z"
      },
      {
        "duration": 16,
        "start_time": "2024-04-18T21:10:20.669Z"
      },
      {
        "duration": 4,
        "start_time": "2024-04-18T21:10:27.647Z"
      },
      {
        "duration": 184,
        "start_time": "2024-04-18T21:10:27.653Z"
      },
      {
        "duration": 4,
        "start_time": "2024-04-18T21:10:27.838Z"
      },
      {
        "duration": 458,
        "start_time": "2024-04-18T21:10:27.843Z"
      },
      {
        "duration": 4,
        "start_time": "2024-04-18T21:10:28.304Z"
      },
      {
        "duration": 162,
        "start_time": "2024-04-18T21:10:28.309Z"
      },
      {
        "duration": 10,
        "start_time": "2024-04-18T21:10:28.473Z"
      },
      {
        "duration": 28,
        "start_time": "2024-04-18T21:10:28.484Z"
      },
      {
        "duration": 9,
        "start_time": "2024-04-18T21:10:28.513Z"
      },
      {
        "duration": 9,
        "start_time": "2024-04-18T21:10:28.523Z"
      },
      {
        "duration": 0,
        "start_time": "2024-04-18T21:10:28.534Z"
      },
      {
        "duration": 0,
        "start_time": "2024-04-18T21:10:28.536Z"
      },
      {
        "duration": 0,
        "start_time": "2024-04-18T21:10:28.537Z"
      },
      {
        "duration": 0,
        "start_time": "2024-04-18T21:10:28.538Z"
      },
      {
        "duration": 0,
        "start_time": "2024-04-18T21:10:28.539Z"
      },
      {
        "duration": 0,
        "start_time": "2024-04-18T21:10:28.540Z"
      },
      {
        "duration": 0,
        "start_time": "2024-04-18T21:10:28.541Z"
      },
      {
        "duration": 0,
        "start_time": "2024-04-18T21:10:28.541Z"
      },
      {
        "duration": 0,
        "start_time": "2024-04-18T21:10:28.542Z"
      },
      {
        "duration": 0,
        "start_time": "2024-04-18T21:10:28.544Z"
      },
      {
        "duration": 0,
        "start_time": "2024-04-18T21:10:28.545Z"
      },
      {
        "duration": 0,
        "start_time": "2024-04-18T21:10:28.546Z"
      },
      {
        "duration": 0,
        "start_time": "2024-04-18T21:10:28.547Z"
      },
      {
        "duration": 0,
        "start_time": "2024-04-18T21:10:28.570Z"
      },
      {
        "duration": 0,
        "start_time": "2024-04-18T21:10:28.571Z"
      },
      {
        "duration": 0,
        "start_time": "2024-04-18T21:10:28.572Z"
      },
      {
        "duration": 0,
        "start_time": "2024-04-18T21:10:28.573Z"
      },
      {
        "duration": 0,
        "start_time": "2024-04-18T21:10:28.575Z"
      },
      {
        "duration": 0,
        "start_time": "2024-04-18T21:10:28.576Z"
      },
      {
        "duration": 0,
        "start_time": "2024-04-18T21:10:28.576Z"
      },
      {
        "duration": 0,
        "start_time": "2024-04-18T21:10:28.577Z"
      },
      {
        "duration": 0,
        "start_time": "2024-04-18T21:10:28.578Z"
      },
      {
        "duration": 0,
        "start_time": "2024-04-18T21:10:28.579Z"
      },
      {
        "duration": 0,
        "start_time": "2024-04-18T21:10:28.580Z"
      },
      {
        "duration": 0,
        "start_time": "2024-04-18T21:10:28.582Z"
      },
      {
        "duration": 0,
        "start_time": "2024-04-18T21:10:28.583Z"
      },
      {
        "duration": 0,
        "start_time": "2024-04-18T21:10:28.584Z"
      },
      {
        "duration": 0,
        "start_time": "2024-04-18T21:10:28.585Z"
      },
      {
        "duration": 0,
        "start_time": "2024-04-18T21:10:28.586Z"
      },
      {
        "duration": 0,
        "start_time": "2024-04-18T21:10:28.587Z"
      },
      {
        "duration": 0,
        "start_time": "2024-04-18T21:10:28.588Z"
      },
      {
        "duration": 0,
        "start_time": "2024-04-18T21:10:28.589Z"
      },
      {
        "duration": 0,
        "start_time": "2024-04-18T21:10:28.590Z"
      },
      {
        "duration": 0,
        "start_time": "2024-04-18T21:10:28.591Z"
      },
      {
        "duration": 0,
        "start_time": "2024-04-18T21:10:28.592Z"
      },
      {
        "duration": 0,
        "start_time": "2024-04-18T21:10:28.593Z"
      },
      {
        "duration": 0,
        "start_time": "2024-04-18T21:10:28.594Z"
      },
      {
        "duration": 0,
        "start_time": "2024-04-18T21:10:28.595Z"
      },
      {
        "duration": 0,
        "start_time": "2024-04-18T21:10:28.596Z"
      },
      {
        "duration": 0,
        "start_time": "2024-04-18T21:10:28.597Z"
      },
      {
        "duration": 0,
        "start_time": "2024-04-18T21:10:28.598Z"
      },
      {
        "duration": 0,
        "start_time": "2024-04-18T21:10:28.599Z"
      },
      {
        "duration": 15,
        "start_time": "2024-04-18T21:10:49.951Z"
      },
      {
        "duration": 4,
        "start_time": "2024-04-18T21:11:57.183Z"
      },
      {
        "duration": 199,
        "start_time": "2024-04-18T21:11:57.188Z"
      },
      {
        "duration": 4,
        "start_time": "2024-04-18T21:11:57.389Z"
      },
      {
        "duration": 549,
        "start_time": "2024-04-18T21:11:57.394Z"
      },
      {
        "duration": 3,
        "start_time": "2024-04-18T21:11:57.945Z"
      },
      {
        "duration": 188,
        "start_time": "2024-04-18T21:11:57.949Z"
      },
      {
        "duration": 14,
        "start_time": "2024-04-18T21:11:58.139Z"
      },
      {
        "duration": 11,
        "start_time": "2024-04-18T21:11:58.154Z"
      },
      {
        "duration": 6,
        "start_time": "2024-04-18T21:11:58.167Z"
      },
      {
        "duration": 13,
        "start_time": "2024-04-18T21:11:58.174Z"
      },
      {
        "duration": 1967,
        "start_time": "2024-04-18T21:11:58.189Z"
      },
      {
        "duration": 5,
        "start_time": "2024-04-18T21:12:00.157Z"
      },
      {
        "duration": 74,
        "start_time": "2024-04-18T21:12:00.169Z"
      },
      {
        "duration": 53,
        "start_time": "2024-04-18T21:12:00.245Z"
      },
      {
        "duration": 45,
        "start_time": "2024-04-18T21:12:00.299Z"
      },
      {
        "duration": 76,
        "start_time": "2024-04-18T21:12:00.346Z"
      },
      {
        "duration": 292,
        "start_time": "2024-04-18T21:12:00.424Z"
      },
      {
        "duration": 3,
        "start_time": "2024-04-18T21:12:00.718Z"
      },
      {
        "duration": 91,
        "start_time": "2024-04-18T21:12:00.723Z"
      },
      {
        "duration": 373,
        "start_time": "2024-04-18T21:12:00.815Z"
      },
      {
        "duration": 152,
        "start_time": "2024-04-18T21:12:01.189Z"
      },
      {
        "duration": 4,
        "start_time": "2024-04-18T21:12:01.343Z"
      },
      {
        "duration": 35,
        "start_time": "2024-04-18T21:12:01.348Z"
      },
      {
        "duration": 37,
        "start_time": "2024-04-18T21:12:01.385Z"
      },
      {
        "duration": 1226,
        "start_time": "2024-04-18T21:12:01.423Z"
      },
      {
        "duration": 20,
        "start_time": "2024-04-18T21:12:02.651Z"
      },
      {
        "duration": 63,
        "start_time": "2024-04-18T21:12:02.673Z"
      },
      {
        "duration": 26,
        "start_time": "2024-04-18T21:12:02.738Z"
      },
      {
        "duration": 49,
        "start_time": "2024-04-18T21:12:02.767Z"
      },
      {
        "duration": 50,
        "start_time": "2024-04-18T21:12:02.818Z"
      },
      {
        "duration": 49,
        "start_time": "2024-04-18T21:12:02.870Z"
      },
      {
        "duration": 36,
        "start_time": "2024-04-18T21:12:02.921Z"
      },
      {
        "duration": 31,
        "start_time": "2024-04-18T21:12:02.959Z"
      },
      {
        "duration": 39,
        "start_time": "2024-04-18T21:12:02.991Z"
      },
      {
        "duration": 35,
        "start_time": "2024-04-18T21:12:03.031Z"
      },
      {
        "duration": 15,
        "start_time": "2024-04-18T21:12:03.067Z"
      },
      {
        "duration": 6,
        "start_time": "2024-04-18T21:12:03.083Z"
      },
      {
        "duration": 14,
        "start_time": "2024-04-18T21:12:03.090Z"
      },
      {
        "duration": 37,
        "start_time": "2024-04-18T21:12:03.106Z"
      },
      {
        "duration": 2,
        "start_time": "2024-04-18T21:12:03.145Z"
      },
      {
        "duration": 6,
        "start_time": "2024-04-18T21:12:03.170Z"
      },
      {
        "duration": 15,
        "start_time": "2024-04-18T21:12:11.134Z"
      },
      {
        "duration": 4,
        "start_time": "2024-04-18T21:12:15.414Z"
      },
      {
        "duration": 238,
        "start_time": "2024-04-18T21:12:15.420Z"
      },
      {
        "duration": 4,
        "start_time": "2024-04-18T21:12:15.660Z"
      },
      {
        "duration": 467,
        "start_time": "2024-04-18T21:12:15.665Z"
      },
      {
        "duration": 5,
        "start_time": "2024-04-18T21:12:16.134Z"
      },
      {
        "duration": 178,
        "start_time": "2024-04-18T21:12:16.140Z"
      },
      {
        "duration": 11,
        "start_time": "2024-04-18T21:12:16.320Z"
      },
      {
        "duration": 10,
        "start_time": "2024-04-18T21:12:16.333Z"
      },
      {
        "duration": 15,
        "start_time": "2024-04-18T21:12:16.344Z"
      },
      {
        "duration": 20,
        "start_time": "2024-04-18T21:12:16.360Z"
      },
      {
        "duration": 1873,
        "start_time": "2024-04-18T21:12:16.384Z"
      },
      {
        "duration": 12,
        "start_time": "2024-04-18T21:12:18.258Z"
      },
      {
        "duration": 25,
        "start_time": "2024-04-18T21:12:18.271Z"
      },
      {
        "duration": 50,
        "start_time": "2024-04-18T21:12:18.298Z"
      },
      {
        "duration": 12,
        "start_time": "2024-04-18T21:12:18.349Z"
      },
      {
        "duration": 34,
        "start_time": "2024-04-18T21:12:18.363Z"
      },
      {
        "duration": 256,
        "start_time": "2024-04-18T21:12:18.398Z"
      },
      {
        "duration": 3,
        "start_time": "2024-04-18T21:12:18.655Z"
      },
      {
        "duration": 20,
        "start_time": "2024-04-18T21:12:18.660Z"
      },
      {
        "duration": 374,
        "start_time": "2024-04-18T21:12:18.682Z"
      },
      {
        "duration": 151,
        "start_time": "2024-04-18T21:12:19.058Z"
      },
      {
        "duration": 4,
        "start_time": "2024-04-18T21:12:19.210Z"
      },
      {
        "duration": 12,
        "start_time": "2024-04-18T21:12:19.215Z"
      },
      {
        "duration": 7,
        "start_time": "2024-04-18T21:12:19.228Z"
      },
      {
        "duration": 1151,
        "start_time": "2024-04-18T21:12:19.236Z"
      },
      {
        "duration": 15,
        "start_time": "2024-04-18T21:12:20.389Z"
      },
      {
        "duration": 73,
        "start_time": "2024-04-18T21:12:20.405Z"
      },
      {
        "duration": 18,
        "start_time": "2024-04-18T21:12:20.480Z"
      },
      {
        "duration": 123,
        "start_time": "2024-04-18T21:12:20.502Z"
      },
      {
        "duration": 110,
        "start_time": "2024-04-18T21:12:20.627Z"
      },
      {
        "duration": 31,
        "start_time": "2024-04-18T21:12:20.739Z"
      },
      {
        "duration": 30,
        "start_time": "2024-04-18T21:12:20.771Z"
      },
      {
        "duration": 57,
        "start_time": "2024-04-18T21:12:20.802Z"
      },
      {
        "duration": 30,
        "start_time": "2024-04-18T21:12:20.861Z"
      },
      {
        "duration": 72,
        "start_time": "2024-04-18T21:12:20.893Z"
      },
      {
        "duration": 42,
        "start_time": "2024-04-18T21:12:20.966Z"
      },
      {
        "duration": 17,
        "start_time": "2024-04-18T21:12:21.010Z"
      },
      {
        "duration": 54,
        "start_time": "2024-04-18T21:12:21.028Z"
      },
      {
        "duration": 39,
        "start_time": "2024-04-18T21:12:21.083Z"
      },
      {
        "duration": 7,
        "start_time": "2024-04-18T21:12:27.135Z"
      },
      {
        "duration": 2340,
        "start_time": "2024-04-18T21:12:29.757Z"
      },
      {
        "duration": 12,
        "start_time": "2024-04-18T21:12:41.280Z"
      },
      {
        "duration": 21,
        "start_time": "2024-04-18T21:12:44.760Z"
      },
      {
        "duration": 17,
        "start_time": "2024-04-18T21:13:43.350Z"
      },
      {
        "duration": 53,
        "start_time": "2024-04-19T19:20:19.886Z"
      },
      {
        "duration": 1868,
        "start_time": "2024-04-19T19:20:28.190Z"
      },
      {
        "duration": 659,
        "start_time": "2024-04-19T19:20:30.061Z"
      },
      {
        "duration": 4,
        "start_time": "2024-04-19T19:20:30.721Z"
      },
      {
        "duration": 657,
        "start_time": "2024-04-19T19:20:30.727Z"
      },
      {
        "duration": 5,
        "start_time": "2024-04-19T19:20:31.385Z"
      },
      {
        "duration": 287,
        "start_time": "2024-04-19T19:20:31.391Z"
      },
      {
        "duration": 12,
        "start_time": "2024-04-19T19:20:31.680Z"
      },
      {
        "duration": 135,
        "start_time": "2024-04-19T19:20:31.694Z"
      },
      {
        "duration": 36,
        "start_time": "2024-04-19T19:20:31.831Z"
      },
      {
        "duration": 39,
        "start_time": "2024-04-19T19:20:31.869Z"
      },
      {
        "duration": 6,
        "start_time": "2024-04-19T19:20:35.661Z"
      },
      {
        "duration": 13,
        "start_time": "2024-04-19T19:20:43.373Z"
      },
      {
        "duration": 6,
        "start_time": "2024-04-19T19:22:11.911Z"
      },
      {
        "duration": 211,
        "start_time": "2024-04-19T19:22:11.919Z"
      },
      {
        "duration": 4,
        "start_time": "2024-04-19T19:22:12.131Z"
      },
      {
        "duration": 480,
        "start_time": "2024-04-19T19:22:12.137Z"
      },
      {
        "duration": 4,
        "start_time": "2024-04-19T19:22:12.619Z"
      },
      {
        "duration": 181,
        "start_time": "2024-04-19T19:22:12.624Z"
      },
      {
        "duration": 12,
        "start_time": "2024-04-19T19:22:12.806Z"
      },
      {
        "duration": 13,
        "start_time": "2024-04-19T19:22:12.819Z"
      },
      {
        "duration": 15,
        "start_time": "2024-04-19T19:22:12.834Z"
      },
      {
        "duration": 24,
        "start_time": "2024-04-19T19:22:12.850Z"
      },
      {
        "duration": 17,
        "start_time": "2024-04-19T19:22:12.876Z"
      },
      {
        "duration": 2017,
        "start_time": "2024-04-19T19:22:12.894Z"
      },
      {
        "duration": 5,
        "start_time": "2024-04-19T19:22:14.912Z"
      },
      {
        "duration": 18,
        "start_time": "2024-04-19T19:22:14.919Z"
      },
      {
        "duration": 23,
        "start_time": "2024-04-19T19:22:14.939Z"
      },
      {
        "duration": 8,
        "start_time": "2024-04-19T19:22:14.964Z"
      },
      {
        "duration": 50,
        "start_time": "2024-04-19T19:22:14.973Z"
      },
      {
        "duration": 337,
        "start_time": "2024-04-19T19:22:15.024Z"
      },
      {
        "duration": 9,
        "start_time": "2024-04-19T19:22:15.362Z"
      },
      {
        "duration": 20,
        "start_time": "2024-04-19T19:22:15.372Z"
      },
      {
        "duration": 347,
        "start_time": "2024-04-19T19:22:15.393Z"
      },
      {
        "duration": 175,
        "start_time": "2024-04-19T19:22:15.742Z"
      },
      {
        "duration": 5,
        "start_time": "2024-04-19T19:22:15.918Z"
      },
      {
        "duration": 17,
        "start_time": "2024-04-19T19:22:15.927Z"
      },
      {
        "duration": 9,
        "start_time": "2024-04-19T19:22:15.946Z"
      },
      {
        "duration": 1287,
        "start_time": "2024-04-19T19:22:15.970Z"
      },
      {
        "duration": 20,
        "start_time": "2024-04-19T19:22:17.259Z"
      },
      {
        "duration": 12,
        "start_time": "2024-04-19T19:22:17.281Z"
      },
      {
        "duration": 13,
        "start_time": "2024-04-19T19:22:17.295Z"
      },
      {
        "duration": 23,
        "start_time": "2024-04-19T19:22:17.309Z"
      },
      {
        "duration": 14,
        "start_time": "2024-04-19T19:22:17.334Z"
      },
      {
        "duration": 41,
        "start_time": "2024-04-19T19:22:17.350Z"
      },
      {
        "duration": 20,
        "start_time": "2024-04-19T19:22:17.393Z"
      },
      {
        "duration": 27,
        "start_time": "2024-04-19T19:22:17.415Z"
      },
      {
        "duration": 28,
        "start_time": "2024-04-19T19:22:17.443Z"
      },
      {
        "duration": 17,
        "start_time": "2024-04-19T19:22:17.472Z"
      },
      {
        "duration": 14,
        "start_time": "2024-04-19T19:22:17.491Z"
      },
      {
        "duration": 11,
        "start_time": "2024-04-19T19:22:17.507Z"
      },
      {
        "duration": 13,
        "start_time": "2024-04-19T19:22:17.520Z"
      },
      {
        "duration": 64,
        "start_time": "2024-04-19T19:22:17.535Z"
      },
      {
        "duration": 82,
        "start_time": "2024-04-19T19:22:22.018Z"
      },
      {
        "duration": 13,
        "start_time": "2024-04-19T19:23:35.664Z"
      },
      {
        "duration": 6,
        "start_time": "2024-04-19T19:24:10.742Z"
      },
      {
        "duration": 12,
        "start_time": "2024-04-19T19:24:16.219Z"
      },
      {
        "duration": 8,
        "start_time": "2024-04-19T19:24:22.121Z"
      },
      {
        "duration": 12,
        "start_time": "2024-04-19T19:24:49.210Z"
      },
      {
        "duration": 13,
        "start_time": "2024-04-19T19:24:54.966Z"
      },
      {
        "duration": 13,
        "start_time": "2024-04-19T19:25:17.051Z"
      },
      {
        "duration": 5,
        "start_time": "2024-04-19T19:25:36.614Z"
      },
      {
        "duration": 197,
        "start_time": "2024-04-19T19:25:36.621Z"
      },
      {
        "duration": 5,
        "start_time": "2024-04-19T19:25:36.820Z"
      },
      {
        "duration": 530,
        "start_time": "2024-04-19T19:25:36.827Z"
      },
      {
        "duration": 11,
        "start_time": "2024-04-19T19:25:37.360Z"
      },
      {
        "duration": 276,
        "start_time": "2024-04-19T19:25:37.373Z"
      },
      {
        "duration": 19,
        "start_time": "2024-04-19T19:25:37.651Z"
      },
      {
        "duration": 18,
        "start_time": "2024-04-19T19:25:37.672Z"
      },
      {
        "duration": 6,
        "start_time": "2024-04-19T19:25:37.692Z"
      },
      {
        "duration": 27,
        "start_time": "2024-04-19T19:25:37.700Z"
      },
      {
        "duration": 25,
        "start_time": "2024-04-19T19:25:37.729Z"
      },
      {
        "duration": 0,
        "start_time": "2024-04-19T19:25:37.757Z"
      },
      {
        "duration": 0,
        "start_time": "2024-04-19T19:25:37.758Z"
      },
      {
        "duration": 0,
        "start_time": "2024-04-19T19:25:37.759Z"
      },
      {
        "duration": 0,
        "start_time": "2024-04-19T19:25:37.760Z"
      },
      {
        "duration": 0,
        "start_time": "2024-04-19T19:25:37.769Z"
      },
      {
        "duration": 0,
        "start_time": "2024-04-19T19:25:37.770Z"
      },
      {
        "duration": 0,
        "start_time": "2024-04-19T19:25:37.771Z"
      },
      {
        "duration": 0,
        "start_time": "2024-04-19T19:25:37.772Z"
      },
      {
        "duration": 0,
        "start_time": "2024-04-19T19:25:37.773Z"
      },
      {
        "duration": 0,
        "start_time": "2024-04-19T19:25:37.774Z"
      },
      {
        "duration": 0,
        "start_time": "2024-04-19T19:25:37.775Z"
      },
      {
        "duration": 0,
        "start_time": "2024-04-19T19:25:37.776Z"
      },
      {
        "duration": 0,
        "start_time": "2024-04-19T19:25:37.777Z"
      },
      {
        "duration": 0,
        "start_time": "2024-04-19T19:25:37.778Z"
      },
      {
        "duration": 0,
        "start_time": "2024-04-19T19:25:37.779Z"
      },
      {
        "duration": 0,
        "start_time": "2024-04-19T19:25:37.780Z"
      },
      {
        "duration": 0,
        "start_time": "2024-04-19T19:25:37.781Z"
      },
      {
        "duration": 0,
        "start_time": "2024-04-19T19:25:37.782Z"
      },
      {
        "duration": 0,
        "start_time": "2024-04-19T19:25:37.783Z"
      },
      {
        "duration": 0,
        "start_time": "2024-04-19T19:25:37.784Z"
      },
      {
        "duration": 0,
        "start_time": "2024-04-19T19:25:37.785Z"
      },
      {
        "duration": 0,
        "start_time": "2024-04-19T19:25:37.786Z"
      },
      {
        "duration": 0,
        "start_time": "2024-04-19T19:25:37.787Z"
      },
      {
        "duration": 0,
        "start_time": "2024-04-19T19:25:37.788Z"
      },
      {
        "duration": 0,
        "start_time": "2024-04-19T19:25:37.789Z"
      },
      {
        "duration": 0,
        "start_time": "2024-04-19T19:25:37.790Z"
      },
      {
        "duration": 0,
        "start_time": "2024-04-19T19:25:37.791Z"
      },
      {
        "duration": 0,
        "start_time": "2024-04-19T19:25:37.792Z"
      },
      {
        "duration": 5,
        "start_time": "2024-04-19T19:25:44.889Z"
      },
      {
        "duration": 187,
        "start_time": "2024-04-19T19:25:44.896Z"
      },
      {
        "duration": 5,
        "start_time": "2024-04-19T19:25:45.085Z"
      },
      {
        "duration": 490,
        "start_time": "2024-04-19T19:25:45.091Z"
      },
      {
        "duration": 4,
        "start_time": "2024-04-19T19:25:45.583Z"
      },
      {
        "duration": 211,
        "start_time": "2024-04-19T19:25:45.589Z"
      },
      {
        "duration": 11,
        "start_time": "2024-04-19T19:25:45.802Z"
      },
      {
        "duration": 25,
        "start_time": "2024-04-19T19:25:45.815Z"
      },
      {
        "duration": 14,
        "start_time": "2024-04-19T19:25:45.842Z"
      },
      {
        "duration": 15,
        "start_time": "2024-04-19T19:25:45.858Z"
      },
      {
        "duration": 25,
        "start_time": "2024-04-19T19:25:45.875Z"
      },
      {
        "duration": 0,
        "start_time": "2024-04-19T19:25:45.902Z"
      },
      {
        "duration": 0,
        "start_time": "2024-04-19T19:25:45.904Z"
      },
      {
        "duration": 0,
        "start_time": "2024-04-19T19:25:45.905Z"
      },
      {
        "duration": 0,
        "start_time": "2024-04-19T19:25:45.906Z"
      },
      {
        "duration": 0,
        "start_time": "2024-04-19T19:25:45.907Z"
      },
      {
        "duration": 0,
        "start_time": "2024-04-19T19:25:45.908Z"
      },
      {
        "duration": 0,
        "start_time": "2024-04-19T19:25:45.909Z"
      },
      {
        "duration": 0,
        "start_time": "2024-04-19T19:25:45.910Z"
      },
      {
        "duration": 0,
        "start_time": "2024-04-19T19:25:45.911Z"
      },
      {
        "duration": 0,
        "start_time": "2024-04-19T19:25:45.912Z"
      },
      {
        "duration": 0,
        "start_time": "2024-04-19T19:25:45.914Z"
      },
      {
        "duration": 0,
        "start_time": "2024-04-19T19:25:45.914Z"
      },
      {
        "duration": 0,
        "start_time": "2024-04-19T19:25:45.916Z"
      },
      {
        "duration": 0,
        "start_time": "2024-04-19T19:25:45.917Z"
      },
      {
        "duration": 0,
        "start_time": "2024-04-19T19:25:45.918Z"
      },
      {
        "duration": 0,
        "start_time": "2024-04-19T19:25:45.920Z"
      },
      {
        "duration": 0,
        "start_time": "2024-04-19T19:25:45.922Z"
      },
      {
        "duration": 0,
        "start_time": "2024-04-19T19:25:45.923Z"
      },
      {
        "duration": 0,
        "start_time": "2024-04-19T19:25:45.924Z"
      },
      {
        "duration": 1,
        "start_time": "2024-04-19T19:25:45.925Z"
      },
      {
        "duration": 0,
        "start_time": "2024-04-19T19:25:45.928Z"
      },
      {
        "duration": 0,
        "start_time": "2024-04-19T19:25:45.970Z"
      },
      {
        "duration": 0,
        "start_time": "2024-04-19T19:25:45.971Z"
      },
      {
        "duration": 0,
        "start_time": "2024-04-19T19:25:45.972Z"
      },
      {
        "duration": 0,
        "start_time": "2024-04-19T19:25:45.974Z"
      },
      {
        "duration": 0,
        "start_time": "2024-04-19T19:25:45.975Z"
      },
      {
        "duration": 0,
        "start_time": "2024-04-19T19:25:45.977Z"
      },
      {
        "duration": 0,
        "start_time": "2024-04-19T19:25:45.978Z"
      },
      {
        "duration": 5,
        "start_time": "2024-04-19T19:25:56.680Z"
      },
      {
        "duration": 883,
        "start_time": "2024-04-19T19:25:57.791Z"
      },
      {
        "duration": 4,
        "start_time": "2024-04-19T19:25:58.744Z"
      },
      {
        "duration": 175,
        "start_time": "2024-04-19T19:25:59.470Z"
      },
      {
        "duration": 133,
        "start_time": "2024-04-19T19:26:00.408Z"
      },
      {
        "duration": 184,
        "start_time": "2024-04-19T19:26:00.624Z"
      },
      {
        "duration": 58,
        "start_time": "2024-04-19T19:26:00.810Z"
      },
      {
        "duration": 15,
        "start_time": "2024-04-19T19:26:00.968Z"
      },
      {
        "duration": 23,
        "start_time": "2024-04-19T19:26:01.167Z"
      },
      {
        "duration": 1949,
        "start_time": "2024-04-19T19:26:02.089Z"
      },
      {
        "duration": 4,
        "start_time": "2024-04-19T19:26:04.040Z"
      },
      {
        "duration": 11,
        "start_time": "2024-04-19T19:26:04.046Z"
      },
      {
        "duration": 11,
        "start_time": "2024-04-19T19:26:04.445Z"
      },
      {
        "duration": 6,
        "start_time": "2024-04-19T19:26:04.665Z"
      },
      {
        "duration": 25,
        "start_time": "2024-04-19T19:26:06.212Z"
      },
      {
        "duration": 253,
        "start_time": "2024-04-19T19:26:07.433Z"
      },
      {
        "duration": 4,
        "start_time": "2024-04-19T19:26:07.687Z"
      },
      {
        "duration": 27,
        "start_time": "2024-04-19T19:26:07.692Z"
      },
      {
        "duration": 311,
        "start_time": "2024-04-19T19:26:07.721Z"
      },
      {
        "duration": 166,
        "start_time": "2024-04-19T19:26:08.033Z"
      },
      {
        "duration": 6,
        "start_time": "2024-04-19T19:26:08.613Z"
      },
      {
        "duration": 12,
        "start_time": "2024-04-19T19:26:09.370Z"
      },
      {
        "duration": 11,
        "start_time": "2024-04-19T19:26:09.678Z"
      },
      {
        "duration": 1279,
        "start_time": "2024-04-19T19:26:10.364Z"
      },
      {
        "duration": 25,
        "start_time": "2024-04-19T19:26:11.645Z"
      },
      {
        "duration": 10,
        "start_time": "2024-04-19T19:26:11.672Z"
      },
      {
        "duration": 3,
        "start_time": "2024-04-19T19:26:12.363Z"
      },
      {
        "duration": 20,
        "start_time": "2024-04-19T19:26:13.063Z"
      },
      {
        "duration": 13,
        "start_time": "2024-04-19T19:26:15.014Z"
      },
      {
        "duration": 18,
        "start_time": "2024-04-19T19:26:15.617Z"
      },
      {
        "duration": 16,
        "start_time": "2024-04-19T19:26:16.705Z"
      },
      {
        "duration": 21,
        "start_time": "2024-04-19T19:26:18.466Z"
      },
      {
        "duration": 7,
        "start_time": "2024-04-19T19:26:19.438Z"
      },
      {
        "duration": 17,
        "start_time": "2024-04-19T19:26:19.973Z"
      },
      {
        "duration": 17,
        "start_time": "2024-04-19T19:26:20.788Z"
      },
      {
        "duration": 6,
        "start_time": "2024-04-19T19:26:22.025Z"
      },
      {
        "duration": 14,
        "start_time": "2024-04-19T19:26:33.425Z"
      },
      {
        "duration": 5,
        "start_time": "2024-04-19T19:26:39.798Z"
      },
      {
        "duration": 46,
        "start_time": "2024-04-19T19:26:42.339Z"
      },
      {
        "duration": 2420,
        "start_time": "2024-04-19T19:26:59.254Z"
      },
      {
        "duration": 14,
        "start_time": "2024-04-19T19:27:01.676Z"
      },
      {
        "duration": 77,
        "start_time": "2024-04-19T19:27:01.691Z"
      },
      {
        "duration": 7512,
        "start_time": "2024-04-19T19:27:03.137Z"
      },
      {
        "duration": 754336,
        "start_time": "2024-04-19T19:27:14.173Z"
      },
      {
        "duration": 1753968,
        "start_time": "2024-04-19T19:46:25.622Z"
      },
      {
        "duration": 17,
        "start_time": "2024-04-19T20:15:39.592Z"
      },
      {
        "duration": 11,
        "start_time": "2024-04-19T20:16:42.836Z"
      },
      {
        "duration": 12,
        "start_time": "2024-04-19T20:16:46.444Z"
      },
      {
        "duration": 5,
        "start_time": "2024-04-19T20:16:57.665Z"
      },
      {
        "duration": 188,
        "start_time": "2024-04-19T20:16:57.672Z"
      },
      {
        "duration": 4,
        "start_time": "2024-04-19T20:16:57.861Z"
      },
      {
        "duration": 446,
        "start_time": "2024-04-19T20:16:57.867Z"
      },
      {
        "duration": 5,
        "start_time": "2024-04-19T20:16:58.314Z"
      },
      {
        "duration": 257,
        "start_time": "2024-04-19T20:16:58.320Z"
      },
      {
        "duration": 10,
        "start_time": "2024-04-19T20:16:58.578Z"
      },
      {
        "duration": 10,
        "start_time": "2024-04-19T20:16:58.590Z"
      },
      {
        "duration": 5,
        "start_time": "2024-04-19T20:16:58.602Z"
      },
      {
        "duration": 5,
        "start_time": "2024-04-19T20:17:19.768Z"
      },
      {
        "duration": 199,
        "start_time": "2024-04-19T20:17:19.775Z"
      },
      {
        "duration": 4,
        "start_time": "2024-04-19T20:17:19.976Z"
      },
      {
        "duration": 461,
        "start_time": "2024-04-19T20:17:19.982Z"
      },
      {
        "duration": 5,
        "start_time": "2024-04-19T20:17:20.445Z"
      },
      {
        "duration": 185,
        "start_time": "2024-04-19T20:17:20.452Z"
      },
      {
        "duration": 18,
        "start_time": "2024-04-19T20:17:20.639Z"
      },
      {
        "duration": 10,
        "start_time": "2024-04-19T20:17:24.688Z"
      },
      {
        "duration": 5,
        "start_time": "2024-04-19T20:21:10.620Z"
      },
      {
        "duration": 204,
        "start_time": "2024-04-19T20:21:10.627Z"
      },
      {
        "duration": 4,
        "start_time": "2024-04-19T20:21:10.833Z"
      },
      {
        "duration": 464,
        "start_time": "2024-04-19T20:21:10.840Z"
      },
      {
        "duration": 5,
        "start_time": "2024-04-19T20:21:11.306Z"
      },
      {
        "duration": 194,
        "start_time": "2024-04-19T20:21:11.312Z"
      },
      {
        "duration": 1867,
        "start_time": "2024-04-19T20:21:11.507Z"
      },
      {
        "duration": 5,
        "start_time": "2024-04-19T20:21:13.375Z"
      },
      {
        "duration": 11,
        "start_time": "2024-04-19T20:21:13.382Z"
      },
      {
        "duration": 14,
        "start_time": "2024-04-19T20:21:13.394Z"
      },
      {
        "duration": 6,
        "start_time": "2024-04-19T20:21:13.409Z"
      },
      {
        "duration": 27,
        "start_time": "2024-04-19T20:21:13.417Z"
      },
      {
        "duration": 296,
        "start_time": "2024-04-19T20:21:13.446Z"
      },
      {
        "duration": 3,
        "start_time": "2024-04-19T20:21:13.744Z"
      },
      {
        "duration": 37,
        "start_time": "2024-04-19T20:21:13.749Z"
      },
      {
        "duration": 447,
        "start_time": "2024-04-19T20:21:13.788Z"
      },
      {
        "duration": 147,
        "start_time": "2024-04-19T20:21:14.237Z"
      },
      {
        "duration": 4,
        "start_time": "2024-04-19T20:21:14.386Z"
      },
      {
        "duration": 22,
        "start_time": "2024-04-19T20:21:14.391Z"
      },
      {
        "duration": 6,
        "start_time": "2024-04-19T20:21:14.414Z"
      },
      {
        "duration": 1145,
        "start_time": "2024-04-19T20:21:14.421Z"
      },
      {
        "duration": 13,
        "start_time": "2024-04-19T20:21:15.569Z"
      },
      {
        "duration": 57,
        "start_time": "2024-04-19T20:21:15.583Z"
      },
      {
        "duration": 15,
        "start_time": "2024-04-19T20:21:15.643Z"
      },
      {
        "duration": 41,
        "start_time": "2024-04-19T20:21:15.659Z"
      },
      {
        "duration": 28,
        "start_time": "2024-04-19T20:21:15.702Z"
      },
      {
        "duration": 21,
        "start_time": "2024-04-19T20:21:15.732Z"
      },
      {
        "duration": 15,
        "start_time": "2024-04-19T20:21:15.755Z"
      },
      {
        "duration": 20,
        "start_time": "2024-04-19T20:21:15.772Z"
      },
      {
        "duration": 11,
        "start_time": "2024-04-19T20:21:15.794Z"
      },
      {
        "duration": 29,
        "start_time": "2024-04-19T20:21:15.806Z"
      },
      {
        "duration": 15,
        "start_time": "2024-04-19T20:21:15.837Z"
      },
      {
        "duration": 13,
        "start_time": "2024-04-19T20:21:38.888Z"
      },
      {
        "duration": 11,
        "start_time": "2024-04-19T20:21:58.833Z"
      },
      {
        "duration": 10,
        "start_time": "2024-04-19T20:21:59.452Z"
      },
      {
        "duration": 5,
        "start_time": "2024-04-19T20:22:02.914Z"
      },
      {
        "duration": 11,
        "start_time": "2024-04-19T20:22:03.770Z"
      },
      {
        "duration": 12,
        "start_time": "2024-04-19T20:22:23.667Z"
      },
      {
        "duration": 12,
        "start_time": "2024-04-19T20:22:57.071Z"
      },
      {
        "duration": 7,
        "start_time": "2024-04-19T20:23:02.242Z"
      },
      {
        "duration": 15,
        "start_time": "2024-04-19T20:23:04.175Z"
      },
      {
        "duration": 7,
        "start_time": "2024-04-19T20:23:16.051Z"
      },
      {
        "duration": 41,
        "start_time": "2024-04-19T20:23:17.226Z"
      },
      {
        "duration": 4,
        "start_time": "2024-04-19T20:32:50.361Z"
      },
      {
        "duration": 205,
        "start_time": "2024-04-19T20:32:50.367Z"
      },
      {
        "duration": 5,
        "start_time": "2024-04-19T20:32:50.575Z"
      },
      {
        "duration": 662,
        "start_time": "2024-04-19T20:32:50.582Z"
      },
      {
        "duration": 5,
        "start_time": "2024-04-19T20:32:51.248Z"
      },
      {
        "duration": 242,
        "start_time": "2024-04-19T20:32:51.254Z"
      },
      {
        "duration": 2101,
        "start_time": "2024-04-19T20:32:51.497Z"
      },
      {
        "duration": 4,
        "start_time": "2024-04-19T20:32:53.600Z"
      },
      {
        "duration": 15,
        "start_time": "2024-04-19T20:32:53.606Z"
      },
      {
        "duration": 12,
        "start_time": "2024-04-19T20:32:53.623Z"
      },
      {
        "duration": 6,
        "start_time": "2024-04-19T20:32:53.638Z"
      },
      {
        "duration": 50,
        "start_time": "2024-04-19T20:32:53.646Z"
      },
      {
        "duration": 309,
        "start_time": "2024-04-19T20:32:53.698Z"
      },
      {
        "duration": 3,
        "start_time": "2024-04-19T20:32:54.009Z"
      },
      {
        "duration": 12,
        "start_time": "2024-04-19T20:32:54.014Z"
      },
      {
        "duration": 295,
        "start_time": "2024-04-19T20:32:54.027Z"
      },
      {
        "duration": 161,
        "start_time": "2024-04-19T20:32:54.324Z"
      },
      {
        "duration": 4,
        "start_time": "2024-04-19T20:32:54.486Z"
      },
      {
        "duration": 11,
        "start_time": "2024-04-19T20:32:54.492Z"
      },
      {
        "duration": 6,
        "start_time": "2024-04-19T20:32:54.505Z"
      },
      {
        "duration": 1345,
        "start_time": "2024-04-19T20:32:54.512Z"
      },
      {
        "duration": 28,
        "start_time": "2024-04-19T20:32:55.859Z"
      },
      {
        "duration": 30,
        "start_time": "2024-04-19T20:32:55.889Z"
      },
      {
        "duration": 21,
        "start_time": "2024-04-19T20:32:55.920Z"
      },
      {
        "duration": 37,
        "start_time": "2024-04-19T20:32:55.942Z"
      },
      {
        "duration": 13,
        "start_time": "2024-04-19T20:32:55.981Z"
      },
      {
        "duration": 24,
        "start_time": "2024-04-19T20:32:55.995Z"
      },
      {
        "duration": 15,
        "start_time": "2024-04-19T20:32:56.021Z"
      },
      {
        "duration": 44,
        "start_time": "2024-04-19T20:32:56.039Z"
      },
      {
        "duration": 7,
        "start_time": "2024-04-19T20:32:56.085Z"
      },
      {
        "duration": 30,
        "start_time": "2024-04-19T20:32:56.094Z"
      },
      {
        "duration": 16,
        "start_time": "2024-04-19T20:32:56.126Z"
      },
      {
        "duration": 17,
        "start_time": "2024-04-19T20:32:56.146Z"
      },
      {
        "duration": 13,
        "start_time": "2024-04-19T20:32:56.170Z"
      },
      {
        "duration": 6,
        "start_time": "2024-04-19T20:32:56.185Z"
      },
      {
        "duration": 11,
        "start_time": "2024-04-19T20:32:56.193Z"
      },
      {
        "duration": 17,
        "start_time": "2024-04-19T20:32:56.206Z"
      },
      {
        "duration": 7,
        "start_time": "2024-04-19T20:32:56.225Z"
      },
      {
        "duration": 53,
        "start_time": "2024-04-19T20:32:56.233Z"
      },
      {
        "duration": 8,
        "start_time": "2024-04-19T20:33:29.591Z"
      },
      {
        "duration": 43,
        "start_time": "2024-04-19T20:33:59.274Z"
      },
      {
        "duration": 57,
        "start_time": "2024-04-19T20:34:11.611Z"
      },
      {
        "duration": 47,
        "start_time": "2024-04-19T20:34:20.202Z"
      },
      {
        "duration": 8,
        "start_time": "2024-04-19T20:34:31.290Z"
      },
      {
        "duration": 15766,
        "start_time": "2024-04-19T20:34:35.641Z"
      },
      {
        "duration": 16,
        "start_time": "2024-04-19T20:34:58.563Z"
      },
      {
        "duration": 857,
        "start_time": "2024-04-19T20:35:01.022Z"
      },
      {
        "duration": 4,
        "start_time": "2024-04-19T20:35:07.715Z"
      },
      {
        "duration": 211,
        "start_time": "2024-04-19T20:35:07.721Z"
      },
      {
        "duration": 5,
        "start_time": "2024-04-19T20:35:07.934Z"
      },
      {
        "duration": 522,
        "start_time": "2024-04-19T20:35:07.941Z"
      },
      {
        "duration": 4,
        "start_time": "2024-04-19T20:35:08.464Z"
      },
      {
        "duration": 177,
        "start_time": "2024-04-19T20:35:08.470Z"
      },
      {
        "duration": 2248,
        "start_time": "2024-04-19T20:35:08.649Z"
      },
      {
        "duration": 5,
        "start_time": "2024-04-19T20:35:10.899Z"
      },
      {
        "duration": 12,
        "start_time": "2024-04-19T20:35:10.906Z"
      },
      {
        "duration": 15,
        "start_time": "2024-04-19T20:35:10.920Z"
      },
      {
        "duration": 17,
        "start_time": "2024-04-19T20:35:10.937Z"
      },
      {
        "duration": 45,
        "start_time": "2024-04-19T20:35:10.956Z"
      },
      {
        "duration": 307,
        "start_time": "2024-04-19T20:35:11.002Z"
      },
      {
        "duration": 3,
        "start_time": "2024-04-19T20:35:11.311Z"
      },
      {
        "duration": 6,
        "start_time": "2024-04-19T20:35:11.315Z"
      },
      {
        "duration": 496,
        "start_time": "2024-04-19T20:35:11.323Z"
      },
      {
        "duration": 179,
        "start_time": "2024-04-19T20:35:11.821Z"
      },
      {
        "duration": 5,
        "start_time": "2024-04-19T20:35:12.002Z"
      },
      {
        "duration": 17,
        "start_time": "2024-04-19T20:35:12.009Z"
      },
      {
        "duration": 7,
        "start_time": "2024-04-19T20:35:12.027Z"
      },
      {
        "duration": 1225,
        "start_time": "2024-04-19T20:35:12.036Z"
      },
      {
        "duration": 27,
        "start_time": "2024-04-19T20:35:13.264Z"
      },
      {
        "duration": 21,
        "start_time": "2024-04-19T20:35:13.292Z"
      },
      {
        "duration": 11,
        "start_time": "2024-04-19T20:35:13.316Z"
      },
      {
        "duration": 23,
        "start_time": "2024-04-19T20:35:13.328Z"
      },
      {
        "duration": 11,
        "start_time": "2024-04-19T20:35:13.352Z"
      },
      {
        "duration": 29,
        "start_time": "2024-04-19T20:35:13.364Z"
      },
      {
        "duration": 33,
        "start_time": "2024-04-19T20:35:13.394Z"
      },
      {
        "duration": 21,
        "start_time": "2024-04-19T20:35:13.429Z"
      },
      {
        "duration": 6,
        "start_time": "2024-04-19T20:35:13.452Z"
      },
      {
        "duration": 36,
        "start_time": "2024-04-19T20:35:13.459Z"
      },
      {
        "duration": 14,
        "start_time": "2024-04-19T20:35:13.497Z"
      },
      {
        "duration": 12,
        "start_time": "2024-04-19T20:35:13.513Z"
      },
      {
        "duration": 11,
        "start_time": "2024-04-19T20:35:13.527Z"
      },
      {
        "duration": 9,
        "start_time": "2024-04-19T20:35:13.540Z"
      },
      {
        "duration": 35,
        "start_time": "2024-04-19T20:35:13.550Z"
      },
      {
        "duration": 12,
        "start_time": "2024-04-19T20:35:13.587Z"
      },
      {
        "duration": 6,
        "start_time": "2024-04-19T20:35:13.600Z"
      },
      {
        "duration": 19,
        "start_time": "2024-04-19T20:35:13.607Z"
      },
      {
        "duration": 5,
        "start_time": "2024-04-19T20:35:13.627Z"
      },
      {
        "duration": 78,
        "start_time": "2024-04-19T20:35:13.634Z"
      },
      {
        "duration": 3,
        "start_time": "2024-04-19T20:35:13.713Z"
      },
      {
        "duration": 11,
        "start_time": "2024-04-19T20:35:13.718Z"
      },
      {
        "duration": 3072,
        "start_time": "2024-04-19T20:35:13.730Z"
      },
      {
        "duration": 13,
        "start_time": "2024-04-19T20:35:16.804Z"
      },
      {
        "duration": 50,
        "start_time": "2024-04-19T20:36:15.919Z"
      },
      {
        "duration": 4,
        "start_time": "2024-04-19T20:36:46.390Z"
      },
      {
        "duration": 205,
        "start_time": "2024-04-19T20:36:46.396Z"
      },
      {
        "duration": 3,
        "start_time": "2024-04-19T20:36:46.604Z"
      },
      {
        "duration": 539,
        "start_time": "2024-04-19T20:36:46.609Z"
      },
      {
        "duration": 5,
        "start_time": "2024-04-19T20:36:47.150Z"
      },
      {
        "duration": 192,
        "start_time": "2024-04-19T20:36:47.156Z"
      },
      {
        "duration": 2440,
        "start_time": "2024-04-19T20:36:47.350Z"
      },
      {
        "duration": 5,
        "start_time": "2024-04-19T20:36:49.791Z"
      },
      {
        "duration": 25,
        "start_time": "2024-04-19T20:36:49.797Z"
      },
      {
        "duration": 21,
        "start_time": "2024-04-19T20:36:49.823Z"
      },
      {
        "duration": 17,
        "start_time": "2024-04-19T20:36:49.846Z"
      },
      {
        "duration": 50,
        "start_time": "2024-04-19T20:36:49.865Z"
      },
      {
        "duration": 372,
        "start_time": "2024-04-19T20:36:49.917Z"
      },
      {
        "duration": 5,
        "start_time": "2024-04-19T20:36:50.291Z"
      },
      {
        "duration": 6,
        "start_time": "2024-04-19T20:36:50.298Z"
      },
      {
        "duration": 352,
        "start_time": "2024-04-19T20:36:50.306Z"
      },
      {
        "duration": 178,
        "start_time": "2024-04-19T20:36:50.659Z"
      },
      {
        "duration": 5,
        "start_time": "2024-04-19T20:36:50.839Z"
      },
      {
        "duration": 32,
        "start_time": "2024-04-19T20:36:50.846Z"
      },
      {
        "duration": 19,
        "start_time": "2024-04-19T20:36:50.880Z"
      },
      {
        "duration": 1563,
        "start_time": "2024-04-19T20:36:50.901Z"
      },
      {
        "duration": 26,
        "start_time": "2024-04-19T20:36:52.465Z"
      },
      {
        "duration": 17,
        "start_time": "2024-04-19T20:36:52.492Z"
      },
      {
        "duration": 11,
        "start_time": "2024-04-19T20:36:52.510Z"
      },
      {
        "duration": 38,
        "start_time": "2024-04-19T20:36:52.522Z"
      },
      {
        "duration": 32,
        "start_time": "2024-04-19T20:36:52.562Z"
      },
      {
        "duration": 16,
        "start_time": "2024-04-19T20:36:52.596Z"
      },
      {
        "duration": 14,
        "start_time": "2024-04-19T20:36:52.613Z"
      },
      {
        "duration": 20,
        "start_time": "2024-04-19T20:36:52.630Z"
      },
      {
        "duration": 6,
        "start_time": "2024-04-19T20:36:52.652Z"
      },
      {
        "duration": 56,
        "start_time": "2024-04-19T20:36:52.659Z"
      },
      {
        "duration": 13,
        "start_time": "2024-04-19T20:36:52.716Z"
      },
      {
        "duration": 10,
        "start_time": "2024-04-19T20:36:52.731Z"
      },
      {
        "duration": 17,
        "start_time": "2024-04-19T20:36:52.742Z"
      },
      {
        "duration": 11,
        "start_time": "2024-04-19T20:36:52.760Z"
      },
      {
        "duration": 18,
        "start_time": "2024-04-19T20:36:52.773Z"
      },
      {
        "duration": 36,
        "start_time": "2024-04-19T20:36:52.793Z"
      },
      {
        "duration": 7,
        "start_time": "2024-04-19T20:36:52.830Z"
      },
      {
        "duration": 39,
        "start_time": "2024-04-19T20:36:52.839Z"
      },
      {
        "duration": 46,
        "start_time": "2024-04-19T20:37:48.181Z"
      },
      {
        "duration": 15,
        "start_time": "2024-04-19T20:38:27.816Z"
      },
      {
        "duration": 5,
        "start_time": "2024-04-19T20:38:43.095Z"
      },
      {
        "duration": 206,
        "start_time": "2024-04-19T20:38:43.101Z"
      },
      {
        "duration": 4,
        "start_time": "2024-04-19T20:38:43.308Z"
      },
      {
        "duration": 529,
        "start_time": "2024-04-19T20:38:43.314Z"
      },
      {
        "duration": 4,
        "start_time": "2024-04-19T20:38:43.845Z"
      },
      {
        "duration": 207,
        "start_time": "2024-04-19T20:38:43.850Z"
      },
      {
        "duration": 2356,
        "start_time": "2024-04-19T20:38:44.059Z"
      },
      {
        "duration": 5,
        "start_time": "2024-04-19T20:38:46.417Z"
      },
      {
        "duration": 25,
        "start_time": "2024-04-19T20:38:46.424Z"
      },
      {
        "duration": 36,
        "start_time": "2024-04-19T20:38:46.451Z"
      },
      {
        "duration": 7,
        "start_time": "2024-04-19T20:38:46.489Z"
      },
      {
        "duration": 25,
        "start_time": "2024-04-19T20:38:46.498Z"
      },
      {
        "duration": 325,
        "start_time": "2024-04-19T20:38:46.525Z"
      },
      {
        "duration": 9,
        "start_time": "2024-04-19T20:38:46.851Z"
      },
      {
        "duration": 15,
        "start_time": "2024-04-19T20:38:46.867Z"
      },
      {
        "duration": 488,
        "start_time": "2024-04-19T20:38:46.884Z"
      },
      {
        "duration": 179,
        "start_time": "2024-04-19T20:38:47.374Z"
      },
      {
        "duration": 5,
        "start_time": "2024-04-19T20:38:47.554Z"
      },
      {
        "duration": 32,
        "start_time": "2024-04-19T20:38:47.560Z"
      },
      {
        "duration": 8,
        "start_time": "2024-04-19T20:38:47.595Z"
      },
      {
        "duration": 1326,
        "start_time": "2024-04-19T20:38:47.604Z"
      },
      {
        "duration": 13,
        "start_time": "2024-04-19T20:38:48.931Z"
      },
      {
        "duration": 23,
        "start_time": "2024-04-19T20:38:48.946Z"
      },
      {
        "duration": 6,
        "start_time": "2024-04-19T20:38:48.976Z"
      },
      {
        "duration": 40,
        "start_time": "2024-04-19T20:38:48.984Z"
      },
      {
        "duration": 11,
        "start_time": "2024-04-19T20:38:49.026Z"
      },
      {
        "duration": 20,
        "start_time": "2024-04-19T20:38:49.038Z"
      },
      {
        "duration": 39,
        "start_time": "2024-04-19T20:38:49.059Z"
      },
      {
        "duration": 21,
        "start_time": "2024-04-19T20:38:49.100Z"
      },
      {
        "duration": 7,
        "start_time": "2024-04-19T20:38:49.123Z"
      },
      {
        "duration": 24,
        "start_time": "2024-04-19T20:38:49.132Z"
      },
      {
        "duration": 26,
        "start_time": "2024-04-19T20:38:49.158Z"
      },
      {
        "duration": 14,
        "start_time": "2024-04-19T20:38:49.191Z"
      },
      {
        "duration": 10,
        "start_time": "2024-04-19T20:38:49.207Z"
      },
      {
        "duration": 9,
        "start_time": "2024-04-19T20:38:49.219Z"
      },
      {
        "duration": 10,
        "start_time": "2024-04-19T20:38:49.229Z"
      },
      {
        "duration": 41,
        "start_time": "2024-04-19T20:38:49.241Z"
      },
      {
        "duration": 14,
        "start_time": "2024-04-19T20:38:49.284Z"
      },
      {
        "duration": 28,
        "start_time": "2024-04-19T20:38:49.300Z"
      },
      {
        "duration": 5,
        "start_time": "2024-04-19T20:38:49.329Z"
      },
      {
        "duration": 7,
        "start_time": "2024-04-19T20:39:04.524Z"
      },
      {
        "duration": 15,
        "start_time": "2024-04-19T20:39:09.492Z"
      },
      {
        "duration": 41,
        "start_time": "2024-04-19T20:39:18.962Z"
      },
      {
        "duration": 2784,
        "start_time": "2024-04-19T20:39:30.072Z"
      },
      {
        "duration": 4,
        "start_time": "2024-04-19T20:40:09.147Z"
      },
      {
        "duration": 175,
        "start_time": "2024-04-19T20:40:09.153Z"
      },
      {
        "duration": 3,
        "start_time": "2024-04-19T20:40:09.330Z"
      },
      {
        "duration": 474,
        "start_time": "2024-04-19T20:40:09.335Z"
      },
      {
        "duration": 4,
        "start_time": "2024-04-19T20:40:09.811Z"
      },
      {
        "duration": 194,
        "start_time": "2024-04-19T20:40:09.816Z"
      },
      {
        "duration": 2020,
        "start_time": "2024-04-19T20:40:10.012Z"
      },
      {
        "duration": 6,
        "start_time": "2024-04-19T20:40:12.034Z"
      },
      {
        "duration": 10,
        "start_time": "2024-04-19T20:40:12.042Z"
      },
      {
        "duration": 20,
        "start_time": "2024-04-19T20:40:12.054Z"
      },
      {
        "duration": 6,
        "start_time": "2024-04-19T20:40:12.076Z"
      },
      {
        "duration": 31,
        "start_time": "2024-04-19T20:40:12.083Z"
      },
      {
        "duration": 300,
        "start_time": "2024-04-19T20:40:12.115Z"
      },
      {
        "duration": 4,
        "start_time": "2024-04-19T20:40:12.418Z"
      },
      {
        "duration": 5,
        "start_time": "2024-04-19T20:40:12.424Z"
      },
      {
        "duration": 423,
        "start_time": "2024-04-19T20:40:12.431Z"
      },
      {
        "duration": 152,
        "start_time": "2024-04-19T20:40:12.856Z"
      },
      {
        "duration": 5,
        "start_time": "2024-04-19T20:40:13.010Z"
      },
      {
        "duration": 15,
        "start_time": "2024-04-19T20:40:13.016Z"
      },
      {
        "duration": 7,
        "start_time": "2024-04-19T20:40:13.032Z"
      },
      {
        "duration": 1142,
        "start_time": "2024-04-19T20:40:13.041Z"
      },
      {
        "duration": 14,
        "start_time": "2024-04-19T20:40:14.184Z"
      },
      {
        "duration": 31,
        "start_time": "2024-04-19T20:40:14.200Z"
      },
      {
        "duration": 4,
        "start_time": "2024-04-19T20:40:14.234Z"
      },
      {
        "duration": 24,
        "start_time": "2024-04-19T20:40:14.240Z"
      },
      {
        "duration": 11,
        "start_time": "2024-04-19T20:40:14.270Z"
      },
      {
        "duration": 30,
        "start_time": "2024-04-19T20:40:14.282Z"
      },
      {
        "duration": 16,
        "start_time": "2024-04-19T20:40:14.313Z"
      },
      {
        "duration": 21,
        "start_time": "2024-04-19T20:40:14.331Z"
      },
      {
        "duration": 21,
        "start_time": "2024-04-19T20:40:14.353Z"
      },
      {
        "duration": 21,
        "start_time": "2024-04-19T20:40:14.375Z"
      },
      {
        "duration": 25,
        "start_time": "2024-04-19T20:40:14.397Z"
      },
      {
        "duration": 12,
        "start_time": "2024-04-19T20:40:14.424Z"
      },
      {
        "duration": 16,
        "start_time": "2024-04-19T20:40:14.437Z"
      },
      {
        "duration": 6,
        "start_time": "2024-04-19T20:40:14.469Z"
      },
      {
        "duration": 19,
        "start_time": "2024-04-19T20:40:14.476Z"
      },
      {
        "duration": 31,
        "start_time": "2024-04-19T20:40:14.497Z"
      },
      {
        "duration": 7,
        "start_time": "2024-04-19T20:40:14.529Z"
      },
      {
        "duration": 34,
        "start_time": "2024-04-19T20:40:14.538Z"
      },
      {
        "duration": 12,
        "start_time": "2024-04-19T20:40:14.573Z"
      },
      {
        "duration": 17,
        "start_time": "2024-04-19T20:40:14.586Z"
      },
      {
        "duration": 33,
        "start_time": "2024-04-19T20:41:21.002Z"
      },
      {
        "duration": 2863,
        "start_time": "2024-04-19T20:41:30.947Z"
      },
      {
        "duration": 12,
        "start_time": "2024-04-19T20:42:00.713Z"
      },
      {
        "duration": 25,
        "start_time": "2024-04-19T20:42:03.349Z"
      },
      {
        "duration": 69525,
        "start_time": "2024-04-19T20:42:23.683Z"
      },
      {
        "duration": 56,
        "start_time": "2024-04-19T20:43:57.816Z"
      },
      {
        "duration": 579507,
        "start_time": "2024-04-19T20:44:00.494Z"
      },
      {
        "duration": 2168,
        "start_time": "2024-04-19T20:59:08.536Z"
      },
      {
        "duration": 188,
        "start_time": "2024-04-19T20:59:10.706Z"
      },
      {
        "duration": 4,
        "start_time": "2024-04-19T20:59:10.896Z"
      },
      {
        "duration": 572,
        "start_time": "2024-04-19T20:59:10.901Z"
      },
      {
        "duration": 4,
        "start_time": "2024-04-19T20:59:11.475Z"
      },
      {
        "duration": 176,
        "start_time": "2024-04-19T20:59:11.480Z"
      },
      {
        "duration": 1968,
        "start_time": "2024-04-19T20:59:11.657Z"
      },
      {
        "duration": 5,
        "start_time": "2024-04-19T20:59:13.626Z"
      },
      {
        "duration": 14,
        "start_time": "2024-04-19T20:59:13.632Z"
      },
      {
        "duration": 22,
        "start_time": "2024-04-19T20:59:13.649Z"
      },
      {
        "duration": 6,
        "start_time": "2024-04-19T20:59:13.672Z"
      },
      {
        "duration": 24,
        "start_time": "2024-04-19T20:59:13.680Z"
      },
      {
        "duration": 298,
        "start_time": "2024-04-19T20:59:13.706Z"
      },
      {
        "duration": 4,
        "start_time": "2024-04-19T20:59:14.006Z"
      },
      {
        "duration": 13,
        "start_time": "2024-04-19T20:59:14.012Z"
      },
      {
        "duration": 307,
        "start_time": "2024-04-19T20:59:14.027Z"
      },
      {
        "duration": 163,
        "start_time": "2024-04-19T20:59:14.336Z"
      },
      {
        "duration": 5,
        "start_time": "2024-04-19T20:59:14.501Z"
      },
      {
        "duration": 11,
        "start_time": "2024-04-19T20:59:14.508Z"
      },
      {
        "duration": 7,
        "start_time": "2024-04-19T20:59:14.521Z"
      },
      {
        "duration": 1268,
        "start_time": "2024-04-19T20:59:14.530Z"
      },
      {
        "duration": 15,
        "start_time": "2024-04-19T20:59:15.800Z"
      },
      {
        "duration": 10,
        "start_time": "2024-04-19T20:59:15.817Z"
      },
      {
        "duration": 4,
        "start_time": "2024-04-19T20:59:15.828Z"
      },
      {
        "duration": 46,
        "start_time": "2024-04-19T20:59:15.833Z"
      },
      {
        "duration": 12,
        "start_time": "2024-04-19T20:59:15.881Z"
      },
      {
        "duration": 25,
        "start_time": "2024-04-19T20:59:15.894Z"
      },
      {
        "duration": 14,
        "start_time": "2024-04-19T20:59:15.924Z"
      },
      {
        "duration": 48,
        "start_time": "2024-04-19T20:59:15.940Z"
      },
      {
        "duration": 15,
        "start_time": "2024-04-19T20:59:15.990Z"
      },
      {
        "duration": 30,
        "start_time": "2024-04-19T20:59:16.007Z"
      },
      {
        "duration": 14,
        "start_time": "2024-04-19T20:59:16.038Z"
      },
      {
        "duration": 16,
        "start_time": "2024-04-19T20:59:16.053Z"
      },
      {
        "duration": 10,
        "start_time": "2024-04-19T20:59:16.071Z"
      },
      {
        "duration": 12,
        "start_time": "2024-04-19T20:59:16.083Z"
      },
      {
        "duration": 12,
        "start_time": "2024-04-19T20:59:16.097Z"
      },
      {
        "duration": 15,
        "start_time": "2024-04-19T20:59:16.110Z"
      },
      {
        "duration": 7,
        "start_time": "2024-04-19T20:59:16.127Z"
      },
      {
        "duration": 39,
        "start_time": "2024-04-19T20:59:16.136Z"
      },
      {
        "duration": 6,
        "start_time": "2024-04-19T20:59:16.177Z"
      },
      {
        "duration": 19,
        "start_time": "2024-04-19T20:59:16.185Z"
      },
      {
        "duration": 42,
        "start_time": "2024-04-19T20:59:16.206Z"
      },
      {
        "duration": 2,
        "start_time": "2024-04-19T20:59:16.250Z"
      },
      {
        "duration": 40,
        "start_time": "2024-04-19T20:59:16.253Z"
      },
      {
        "duration": 2330,
        "start_time": "2024-04-19T20:59:16.295Z"
      },
      {
        "duration": 11,
        "start_time": "2024-04-19T20:59:18.626Z"
      },
      {
        "duration": 36,
        "start_time": "2024-04-19T20:59:18.638Z"
      },
      {
        "duration": 575257,
        "start_time": "2024-04-19T20:59:18.676Z"
      },
      {
        "duration": 3738,
        "start_time": "2024-04-19T21:08:53.934Z"
      },
      {
        "duration": 97416,
        "start_time": "2024-04-19T21:08:57.674Z"
      },
      {
        "duration": 3469,
        "start_time": "2024-04-19T21:10:35.091Z"
      },
      {
        "duration": 17123,
        "start_time": "2024-04-19T21:10:38.562Z"
      },
      {
        "duration": 3450,
        "start_time": "2024-04-19T21:10:55.686Z"
      },
      {
        "duration": 3469,
        "start_time": "2024-04-19T21:10:59.137Z"
      },
      {
        "duration": 80,
        "start_time": "2024-04-19T21:15:20.258Z"
      },
      {
        "duration": 4326,
        "start_time": "2024-04-20T13:18:58.683Z"
      },
      {
        "duration": 562,
        "start_time": "2024-04-20T13:19:03.011Z"
      },
      {
        "duration": 4,
        "start_time": "2024-04-20T13:19:03.574Z"
      },
      {
        "duration": 541,
        "start_time": "2024-04-20T13:19:03.580Z"
      },
      {
        "duration": 5,
        "start_time": "2024-04-20T13:19:04.123Z"
      },
      {
        "duration": 176,
        "start_time": "2024-04-20T13:19:04.129Z"
      },
      {
        "duration": 1905,
        "start_time": "2024-04-20T13:19:05.027Z"
      },
      {
        "duration": 4,
        "start_time": "2024-04-20T13:19:07.808Z"
      },
      {
        "duration": 6,
        "start_time": "2024-04-20T13:19:07.981Z"
      },
      {
        "duration": 12,
        "start_time": "2024-04-20T13:19:08.978Z"
      },
      {
        "duration": 6,
        "start_time": "2024-04-20T13:19:09.620Z"
      },
      {
        "duration": 23,
        "start_time": "2024-04-20T13:19:10.795Z"
      },
      {
        "duration": 236,
        "start_time": "2024-04-20T13:19:11.481Z"
      },
      {
        "duration": 3,
        "start_time": "2024-04-20T13:19:12.144Z"
      },
      {
        "duration": 4,
        "start_time": "2024-04-20T13:19:12.840Z"
      },
      {
        "duration": 268,
        "start_time": "2024-04-20T13:19:13.167Z"
      },
      {
        "duration": 148,
        "start_time": "2024-04-20T13:19:13.437Z"
      },
      {
        "duration": 5,
        "start_time": "2024-04-20T13:19:13.587Z"
      },
      {
        "duration": 11,
        "start_time": "2024-04-20T13:19:14.039Z"
      },
      {
        "duration": 7,
        "start_time": "2024-04-20T13:19:14.251Z"
      },
      {
        "duration": 1159,
        "start_time": "2024-04-20T13:19:14.614Z"
      },
      {
        "duration": 14,
        "start_time": "2024-04-20T13:19:15.775Z"
      },
      {
        "duration": 29,
        "start_time": "2024-04-20T13:19:15.790Z"
      },
      {
        "duration": 20,
        "start_time": "2024-04-20T13:19:15.821Z"
      },
      {
        "duration": 24,
        "start_time": "2024-04-20T13:19:16.862Z"
      },
      {
        "duration": 11,
        "start_time": "2024-04-20T13:19:20.430Z"
      },
      {
        "duration": 16,
        "start_time": "2024-04-20T13:19:20.846Z"
      },
      {
        "duration": 14,
        "start_time": "2024-04-20T13:19:21.313Z"
      },
      {
        "duration": 19,
        "start_time": "2024-04-20T13:19:23.568Z"
      },
      {
        "duration": 7,
        "start_time": "2024-04-20T13:19:24.137Z"
      },
      {
        "duration": 17,
        "start_time": "2024-04-20T13:19:26.457Z"
      },
      {
        "duration": 13,
        "start_time": "2024-04-20T13:19:28.003Z"
      },
      {
        "duration": 12,
        "start_time": "2024-04-20T13:20:04.496Z"
      },
      {
        "duration": 10,
        "start_time": "2024-04-20T13:20:05.325Z"
      },
      {
        "duration": 6,
        "start_time": "2024-04-20T13:20:05.830Z"
      },
      {
        "duration": 11,
        "start_time": "2024-04-20T13:20:07.205Z"
      },
      {
        "duration": 13,
        "start_time": "2024-04-20T13:20:07.778Z"
      },
      {
        "duration": 11,
        "start_time": "2024-04-20T13:20:09.084Z"
      },
      {
        "duration": 16,
        "start_time": "2024-04-20T13:20:09.606Z"
      },
      {
        "duration": 7,
        "start_time": "2024-04-20T13:20:19.229Z"
      },
      {
        "duration": 13,
        "start_time": "2024-04-20T13:20:19.836Z"
      },
      {
        "duration": 32,
        "start_time": "2024-04-20T13:20:21.966Z"
      },
      {
        "duration": 6,
        "start_time": "2024-04-20T13:20:38.538Z"
      },
      {
        "duration": 2256,
        "start_time": "2024-04-20T13:20:42.152Z"
      },
      {
        "duration": 12,
        "start_time": "2024-04-20T13:20:46.058Z"
      },
      {
        "duration": 110,
        "start_time": "2024-04-20T13:21:43.229Z"
      },
      {
        "duration": 7,
        "start_time": "2024-04-20T13:22:05.483Z"
      },
      {
        "duration": 13,
        "start_time": "2024-04-20T13:22:06.151Z"
      },
      {
        "duration": 4,
        "start_time": "2024-04-20T13:22:12.456Z"
      },
      {
        "duration": 169,
        "start_time": "2024-04-20T13:22:13.812Z"
      },
      {
        "duration": 4,
        "start_time": "2024-04-20T13:22:15.479Z"
      },
      {
        "duration": 443,
        "start_time": "2024-04-20T13:22:16.311Z"
      },
      {
        "duration": 4,
        "start_time": "2024-04-20T13:22:17.172Z"
      },
      {
        "duration": 267,
        "start_time": "2024-04-20T13:22:17.352Z"
      },
      {
        "duration": 1971,
        "start_time": "2024-04-20T13:22:18.542Z"
      },
      {
        "duration": 4,
        "start_time": "2024-04-20T13:22:20.516Z"
      },
      {
        "duration": 25,
        "start_time": "2024-04-20T13:22:20.522Z"
      },
      {
        "duration": 14,
        "start_time": "2024-04-20T13:22:20.549Z"
      },
      {
        "duration": 6,
        "start_time": "2024-04-20T13:22:20.921Z"
      },
      {
        "duration": 25,
        "start_time": "2024-04-20T13:22:21.892Z"
      },
      {
        "duration": 275,
        "start_time": "2024-04-20T13:22:23.627Z"
      },
      {
        "duration": 3,
        "start_time": "2024-04-20T13:22:23.987Z"
      },
      {
        "duration": 5,
        "start_time": "2024-04-20T13:22:24.636Z"
      },
      {
        "duration": 274,
        "start_time": "2024-04-20T13:22:24.857Z"
      },
      {
        "duration": 147,
        "start_time": "2024-04-20T13:22:25.133Z"
      },
      {
        "duration": 4,
        "start_time": "2024-04-20T13:22:25.286Z"
      },
      {
        "duration": 13,
        "start_time": "2024-04-20T13:22:25.843Z"
      },
      {
        "duration": 8,
        "start_time": "2024-04-20T13:22:26.038Z"
      },
      {
        "duration": 1210,
        "start_time": "2024-04-20T13:22:26.406Z"
      },
      {
        "duration": 13,
        "start_time": "2024-04-20T13:22:27.619Z"
      },
      {
        "duration": 11,
        "start_time": "2024-04-20T13:22:27.634Z"
      },
      {
        "duration": 6,
        "start_time": "2024-04-20T13:22:27.665Z"
      },
      {
        "duration": 20,
        "start_time": "2024-04-20T13:22:27.916Z"
      },
      {
        "duration": 11,
        "start_time": "2024-04-20T13:22:31.429Z"
      },
      {
        "duration": 16,
        "start_time": "2024-04-20T13:22:32.399Z"
      },
      {
        "duration": 15,
        "start_time": "2024-04-20T13:22:32.899Z"
      },
      {
        "duration": 22,
        "start_time": "2024-04-20T13:22:33.119Z"
      },
      {
        "duration": 6,
        "start_time": "2024-04-20T13:22:33.377Z"
      },
      {
        "duration": 17,
        "start_time": "2024-04-20T13:22:33.613Z"
      },
      {
        "duration": 14,
        "start_time": "2024-04-20T13:22:34.575Z"
      },
      {
        "duration": 11,
        "start_time": "2024-04-20T13:22:36.432Z"
      },
      {
        "duration": 12,
        "start_time": "2024-04-20T13:22:36.850Z"
      },
      {
        "duration": 5,
        "start_time": "2024-04-20T13:22:37.087Z"
      },
      {
        "duration": 11,
        "start_time": "2024-04-20T13:22:37.363Z"
      },
      {
        "duration": 12,
        "start_time": "2024-04-20T13:22:37.717Z"
      },
      {
        "duration": 8,
        "start_time": "2024-04-20T13:22:38.263Z"
      },
      {
        "duration": 14,
        "start_time": "2024-04-20T13:22:38.829Z"
      },
      {
        "duration": 5,
        "start_time": "2024-04-20T13:22:41.529Z"
      },
      {
        "duration": 17,
        "start_time": "2024-04-20T13:22:42.539Z"
      },
      {
        "duration": 31,
        "start_time": "2024-04-20T13:22:43.886Z"
      },
      {
        "duration": 4,
        "start_time": "2024-04-20T13:23:04.815Z"
      },
      {
        "duration": 170,
        "start_time": "2024-04-20T13:23:06.920Z"
      },
      {
        "duration": 4,
        "start_time": "2024-04-20T13:23:07.515Z"
      },
      {
        "duration": 491,
        "start_time": "2024-04-20T13:23:08.703Z"
      },
      {
        "duration": 4,
        "start_time": "2024-04-20T13:23:09.361Z"
      },
      {
        "duration": 167,
        "start_time": "2024-04-20T13:23:09.542Z"
      },
      {
        "duration": 1825,
        "start_time": "2024-04-20T13:23:10.243Z"
      },
      {
        "duration": 4,
        "start_time": "2024-04-20T13:23:12.070Z"
      },
      {
        "duration": 6,
        "start_time": "2024-04-20T13:23:12.075Z"
      },
      {
        "duration": 10,
        "start_time": "2024-04-20T13:23:12.083Z"
      },
      {
        "duration": 5,
        "start_time": "2024-04-20T13:23:12.094Z"
      },
      {
        "duration": 21,
        "start_time": "2024-04-20T13:23:12.200Z"
      },
      {
        "duration": 280,
        "start_time": "2024-04-20T13:23:15.766Z"
      },
      {
        "duration": 3,
        "start_time": "2024-04-20T13:23:16.135Z"
      },
      {
        "duration": 4,
        "start_time": "2024-04-20T13:23:16.637Z"
      },
      {
        "duration": 246,
        "start_time": "2024-04-20T13:23:16.809Z"
      },
      {
        "duration": 276,
        "start_time": "2024-04-20T13:23:17.057Z"
      },
      {
        "duration": 5,
        "start_time": "2024-04-20T13:23:17.335Z"
      },
      {
        "duration": 11,
        "start_time": "2024-04-20T13:23:17.661Z"
      },
      {
        "duration": 7,
        "start_time": "2024-04-20T13:23:17.838Z"
      },
      {
        "duration": 1123,
        "start_time": "2024-04-20T13:23:18.186Z"
      },
      {
        "duration": 13,
        "start_time": "2024-04-20T13:23:19.311Z"
      },
      {
        "duration": 11,
        "start_time": "2024-04-20T13:23:19.326Z"
      },
      {
        "duration": 6,
        "start_time": "2024-04-20T13:23:19.339Z"
      },
      {
        "duration": 19,
        "start_time": "2024-04-20T13:23:19.565Z"
      },
      {
        "duration": 13,
        "start_time": "2024-04-20T13:23:21.102Z"
      },
      {
        "duration": 18,
        "start_time": "2024-04-20T13:23:21.440Z"
      },
      {
        "duration": 16,
        "start_time": "2024-04-20T13:23:21.776Z"
      },
      {
        "duration": 20,
        "start_time": "2024-04-20T13:23:22.538Z"
      },
      {
        "duration": 6,
        "start_time": "2024-04-20T13:23:23.116Z"
      },
      {
        "duration": 24,
        "start_time": "2024-04-20T13:23:23.798Z"
      },
      {
        "duration": 15,
        "start_time": "2024-04-20T13:23:25.246Z"
      },
      {
        "duration": 12,
        "start_time": "2024-04-20T13:23:27.356Z"
      },
      {
        "duration": 9,
        "start_time": "2024-04-20T13:23:27.857Z"
      },
      {
        "duration": 6,
        "start_time": "2024-04-20T13:23:28.273Z"
      },
      {
        "duration": 10,
        "start_time": "2024-04-20T13:23:28.796Z"
      },
      {
        "duration": 12,
        "start_time": "2024-04-20T13:23:29.322Z"
      },
      {
        "duration": 8,
        "start_time": "2024-04-20T13:23:30.449Z"
      },
      {
        "duration": 13,
        "start_time": "2024-04-20T13:23:30.897Z"
      },
      {
        "duration": 6,
        "start_time": "2024-04-20T13:23:32.408Z"
      },
      {
        "duration": 13,
        "start_time": "2024-04-20T13:23:32.870Z"
      },
      {
        "duration": 31,
        "start_time": "2024-04-20T13:23:33.333Z"
      },
      {
        "duration": 172,
        "start_time": "2024-04-20T14:06:40.506Z"
      },
      {
        "duration": 3,
        "start_time": "2024-04-20T14:06:41.673Z"
      },
      {
        "duration": 580,
        "start_time": "2024-04-20T14:06:42.340Z"
      },
      {
        "duration": 14,
        "start_time": "2024-04-20T14:06:43.166Z"
      },
      {
        "duration": 159,
        "start_time": "2024-04-20T14:06:43.322Z"
      },
      {
        "duration": 1851,
        "start_time": "2024-04-20T14:06:43.989Z"
      },
      {
        "duration": 5,
        "start_time": "2024-04-20T14:06:45.843Z"
      },
      {
        "duration": 26,
        "start_time": "2024-04-20T14:06:45.850Z"
      },
      {
        "duration": 10,
        "start_time": "2024-04-20T14:06:45.922Z"
      },
      {
        "duration": 6,
        "start_time": "2024-04-20T14:06:46.161Z"
      },
      {
        "duration": 24,
        "start_time": "2024-04-20T14:06:46.948Z"
      },
      {
        "duration": 242,
        "start_time": "2024-04-20T14:06:47.834Z"
      },
      {
        "duration": 3,
        "start_time": "2024-04-20T14:06:48.266Z"
      },
      {
        "duration": 4,
        "start_time": "2024-04-20T14:06:49.035Z"
      },
      {
        "duration": 264,
        "start_time": "2024-04-20T14:06:49.240Z"
      },
      {
        "duration": 156,
        "start_time": "2024-04-20T14:06:49.505Z"
      },
      {
        "duration": 5,
        "start_time": "2024-04-20T14:06:49.860Z"
      },
      {
        "duration": 11,
        "start_time": "2024-04-20T14:06:50.353Z"
      },
      {
        "duration": 7,
        "start_time": "2024-04-20T14:06:50.660Z"
      },
      {
        "duration": 1213,
        "start_time": "2024-04-20T14:06:51.139Z"
      },
      {
        "duration": 16,
        "start_time": "2024-04-20T14:06:52.353Z"
      },
      {
        "duration": 24,
        "start_time": "2024-04-20T14:06:52.370Z"
      },
      {
        "duration": 26,
        "start_time": "2024-04-20T14:06:52.396Z"
      },
      {
        "duration": 20,
        "start_time": "2024-04-20T14:06:52.498Z"
      },
      {
        "duration": 11,
        "start_time": "2024-04-20T14:06:53.673Z"
      },
      {
        "duration": 17,
        "start_time": "2024-04-20T14:06:53.987Z"
      },
      {
        "duration": 15,
        "start_time": "2024-04-20T14:06:54.309Z"
      },
      {
        "duration": 34,
        "start_time": "2024-04-20T14:06:54.483Z"
      },
      {
        "duration": 7,
        "start_time": "2024-04-20T14:06:55.485Z"
      },
      {
        "duration": 17,
        "start_time": "2024-04-20T14:06:56.483Z"
      },
      {
        "duration": 18,
        "start_time": "2024-04-20T14:06:57.826Z"
      },
      {
        "duration": 11,
        "start_time": "2024-04-20T14:07:19.208Z"
      },
      {
        "duration": 10,
        "start_time": "2024-04-20T14:07:20.447Z"
      },
      {
        "duration": 6,
        "start_time": "2024-04-20T14:07:20.997Z"
      },
      {
        "duration": 14,
        "start_time": "2024-04-20T14:07:21.562Z"
      },
      {
        "duration": 15,
        "start_time": "2024-04-20T14:07:22.055Z"
      },
      {
        "duration": 7,
        "start_time": "2024-04-20T14:07:23.060Z"
      },
      {
        "duration": 14,
        "start_time": "2024-04-20T14:07:23.617Z"
      },
      {
        "duration": 6,
        "start_time": "2024-04-20T14:07:26.167Z"
      },
      {
        "duration": 10,
        "start_time": "2024-04-20T14:07:26.804Z"
      },
      {
        "duration": 5,
        "start_time": "2024-04-20T14:07:34.452Z"
      },
      {
        "duration": 13,
        "start_time": "2024-04-20T14:07:37.264Z"
      },
      {
        "duration": 14,
        "start_time": "2024-04-20T14:07:45.473Z"
      },
      {
        "duration": 173,
        "start_time": "2024-04-20T14:08:16.406Z"
      },
      {
        "duration": 3,
        "start_time": "2024-04-20T14:08:17.119Z"
      },
      {
        "duration": 463,
        "start_time": "2024-04-20T14:08:17.669Z"
      },
      {
        "duration": 5,
        "start_time": "2024-04-20T14:08:19.034Z"
      },
      {
        "duration": 165,
        "start_time": "2024-04-20T14:08:19.341Z"
      },
      {
        "duration": 1921,
        "start_time": "2024-04-20T14:08:20.064Z"
      },
      {
        "duration": 5,
        "start_time": "2024-04-20T14:08:21.988Z"
      },
      {
        "duration": 14,
        "start_time": "2024-04-20T14:08:21.995Z"
      },
      {
        "duration": 12,
        "start_time": "2024-04-20T14:08:22.011Z"
      },
      {
        "duration": 7,
        "start_time": "2024-04-20T14:08:22.025Z"
      },
      {
        "duration": 24,
        "start_time": "2024-04-20T14:08:22.108Z"
      },
      {
        "duration": 277,
        "start_time": "2024-04-20T14:08:23.710Z"
      },
      {
        "duration": 4,
        "start_time": "2024-04-20T14:08:23.989Z"
      },
      {
        "duration": 12,
        "start_time": "2024-04-20T14:08:23.995Z"
      },
      {
        "duration": 407,
        "start_time": "2024-04-20T14:08:24.009Z"
      },
      {
        "duration": 138,
        "start_time": "2024-04-20T14:08:24.501Z"
      },
      {
        "duration": 4,
        "start_time": "2024-04-20T14:08:24.715Z"
      },
      {
        "duration": 12,
        "start_time": "2024-04-20T14:08:25.898Z"
      },
      {
        "duration": 7,
        "start_time": "2024-04-20T14:08:26.323Z"
      },
      {
        "duration": 1080,
        "start_time": "2024-04-20T14:08:26.921Z"
      },
      {
        "duration": 13,
        "start_time": "2024-04-20T14:08:28.003Z"
      },
      {
        "duration": 15,
        "start_time": "2024-04-20T14:08:28.018Z"
      },
      {
        "duration": 4,
        "start_time": "2024-04-20T14:08:28.247Z"
      },
      {
        "duration": 22,
        "start_time": "2024-04-20T14:08:28.876Z"
      },
      {
        "duration": 13,
        "start_time": "2024-04-20T14:08:40.147Z"
      },
      {
        "duration": 17,
        "start_time": "2024-04-20T14:08:40.814Z"
      },
      {
        "duration": 15,
        "start_time": "2024-04-20T14:08:41.120Z"
      },
      {
        "duration": 20,
        "start_time": "2024-04-20T14:08:41.349Z"
      },
      {
        "duration": 6,
        "start_time": "2024-04-20T14:08:43.315Z"
      },
      {
        "duration": 18,
        "start_time": "2024-04-20T14:08:43.504Z"
      },
      {
        "duration": 15,
        "start_time": "2024-04-20T14:08:44.015Z"
      },
      {
        "duration": 12,
        "start_time": "2024-04-20T14:08:44.963Z"
      },
      {
        "duration": 10,
        "start_time": "2024-04-20T14:08:45.122Z"
      },
      {
        "duration": 6,
        "start_time": "2024-04-20T14:08:45.275Z"
      },
      {
        "duration": 12,
        "start_time": "2024-04-20T14:08:45.427Z"
      },
      {
        "duration": 12,
        "start_time": "2024-04-20T14:08:45.711Z"
      },
      {
        "duration": 7,
        "start_time": "2024-04-20T14:08:46.039Z"
      },
      {
        "duration": 13,
        "start_time": "2024-04-20T14:08:46.214Z"
      },
      {
        "duration": 6,
        "start_time": "2024-04-20T14:08:46.715Z"
      },
      {
        "duration": 4,
        "start_time": "2024-04-20T14:08:47.055Z"
      },
      {
        "duration": 20,
        "start_time": "2024-04-20T14:08:47.204Z"
      },
      {
        "duration": 30,
        "start_time": "2024-04-20T14:08:54.013Z"
      },
      {
        "duration": 168,
        "start_time": "2024-04-20T14:09:38.371Z"
      },
      {
        "duration": 3,
        "start_time": "2024-04-20T14:09:38.983Z"
      },
      {
        "duration": 552,
        "start_time": "2024-04-20T14:09:39.418Z"
      },
      {
        "duration": 5,
        "start_time": "2024-04-20T14:09:39.981Z"
      },
      {
        "duration": 156,
        "start_time": "2024-04-20T14:09:40.304Z"
      },
      {
        "duration": 1863,
        "start_time": "2024-04-20T14:09:41.578Z"
      },
      {
        "duration": 5,
        "start_time": "2024-04-20T14:09:43.443Z"
      },
      {
        "duration": 16,
        "start_time": "2024-04-20T14:09:43.449Z"
      },
      {
        "duration": 10,
        "start_time": "2024-04-20T14:09:43.466Z"
      },
      {
        "duration": 7,
        "start_time": "2024-04-20T14:09:43.478Z"
      },
      {
        "duration": 27,
        "start_time": "2024-04-20T14:09:43.747Z"
      },
      {
        "duration": 257,
        "start_time": "2024-04-20T14:11:36.518Z"
      },
      {
        "duration": 3,
        "start_time": "2024-04-20T14:11:37.477Z"
      },
      {
        "duration": 4,
        "start_time": "2024-04-20T14:11:38.508Z"
      },
      {
        "duration": 291,
        "start_time": "2024-04-20T14:11:38.658Z"
      },
      {
        "duration": 163,
        "start_time": "2024-04-20T14:11:38.951Z"
      },
      {
        "duration": 4,
        "start_time": "2024-04-20T14:11:39.116Z"
      },
      {
        "duration": 11,
        "start_time": "2024-04-20T14:11:39.538Z"
      },
      {
        "duration": 7,
        "start_time": "2024-04-20T14:11:39.759Z"
      },
      {
        "duration": 1214,
        "start_time": "2024-04-20T14:11:40.154Z"
      },
      {
        "duration": 14,
        "start_time": "2024-04-20T14:11:41.370Z"
      },
      {
        "duration": 12,
        "start_time": "2024-04-20T14:11:41.386Z"
      },
      {
        "duration": 5,
        "start_time": "2024-04-20T14:11:41.400Z"
      },
      {
        "duration": 21,
        "start_time": "2024-04-20T14:11:41.630Z"
      },
      {
        "duration": 12,
        "start_time": "2024-04-20T14:11:43.432Z"
      },
      {
        "duration": 24,
        "start_time": "2024-04-20T14:11:43.810Z"
      },
      {
        "duration": 15,
        "start_time": "2024-04-20T14:11:44.548Z"
      },
      {
        "duration": 21,
        "start_time": "2024-04-20T14:11:44.730Z"
      },
      {
        "duration": 6,
        "start_time": "2024-04-20T14:11:44.927Z"
      },
      {
        "duration": 17,
        "start_time": "2024-04-20T14:11:45.186Z"
      },
      {
        "duration": 16,
        "start_time": "2024-04-20T14:11:46.225Z"
      },
      {
        "duration": 11,
        "start_time": "2024-04-20T14:12:04.565Z"
      },
      {
        "duration": 10,
        "start_time": "2024-04-20T14:12:05.038Z"
      },
      {
        "duration": 5,
        "start_time": "2024-04-20T14:12:05.606Z"
      },
      {
        "duration": 11,
        "start_time": "2024-04-20T14:12:06.116Z"
      },
      {
        "duration": 14,
        "start_time": "2024-04-20T14:12:06.344Z"
      },
      {
        "duration": 7,
        "start_time": "2024-04-20T14:12:06.941Z"
      },
      {
        "duration": 14,
        "start_time": "2024-04-20T14:12:07.406Z"
      },
      {
        "duration": 6,
        "start_time": "2024-04-20T14:12:09.144Z"
      },
      {
        "duration": 3,
        "start_time": "2024-04-20T14:12:09.573Z"
      },
      {
        "duration": 13,
        "start_time": "2024-04-20T14:12:10.428Z"
      },
      {
        "duration": 21,
        "start_time": "2024-04-20T14:13:12.535Z"
      },
      {
        "duration": 4,
        "start_time": "2024-04-20T14:21:55.831Z"
      },
      {
        "duration": 170,
        "start_time": "2024-04-20T14:22:03.104Z"
      },
      {
        "duration": 4,
        "start_time": "2024-04-20T14:22:03.607Z"
      },
      {
        "duration": 437,
        "start_time": "2024-04-20T14:22:04.114Z"
      },
      {
        "duration": 4,
        "start_time": "2024-04-20T14:22:04.792Z"
      },
      {
        "duration": 158,
        "start_time": "2024-04-20T14:22:04.982Z"
      },
      {
        "duration": 1812,
        "start_time": "2024-04-20T14:22:05.875Z"
      },
      {
        "duration": 4,
        "start_time": "2024-04-20T14:22:07.688Z"
      },
      {
        "duration": 7,
        "start_time": "2024-04-20T14:22:07.693Z"
      },
      {
        "duration": 13,
        "start_time": "2024-04-20T14:22:07.702Z"
      },
      {
        "duration": 6,
        "start_time": "2024-04-20T14:22:07.716Z"
      },
      {
        "duration": 23,
        "start_time": "2024-04-20T14:22:08.281Z"
      },
      {
        "duration": 246,
        "start_time": "2024-04-20T14:22:09.229Z"
      },
      {
        "duration": 3,
        "start_time": "2024-04-20T14:22:09.632Z"
      },
      {
        "duration": 4,
        "start_time": "2024-04-20T14:22:10.111Z"
      },
      {
        "duration": 381,
        "start_time": "2024-04-20T14:22:10.295Z"
      },
      {
        "duration": 139,
        "start_time": "2024-04-20T14:22:10.678Z"
      },
      {
        "duration": 5,
        "start_time": "2024-04-20T14:22:10.818Z"
      },
      {
        "duration": 11,
        "start_time": "2024-04-20T14:22:11.675Z"
      },
      {
        "duration": 6,
        "start_time": "2024-04-20T14:22:11.834Z"
      },
      {
        "duration": 1056,
        "start_time": "2024-04-20T14:22:12.183Z"
      },
      {
        "duration": 13,
        "start_time": "2024-04-20T14:22:13.241Z"
      },
      {
        "duration": 9,
        "start_time": "2024-04-20T14:22:13.265Z"
      },
      {
        "duration": 3,
        "start_time": "2024-04-20T14:22:13.276Z"
      },
      {
        "duration": 20,
        "start_time": "2024-04-20T14:22:13.581Z"
      },
      {
        "duration": 11,
        "start_time": "2024-04-20T14:22:14.675Z"
      },
      {
        "duration": 16,
        "start_time": "2024-04-20T14:22:15.291Z"
      },
      {
        "duration": 14,
        "start_time": "2024-04-20T14:22:16.042Z"
      },
      {
        "duration": 21,
        "start_time": "2024-04-20T14:22:16.239Z"
      },
      {
        "duration": 6,
        "start_time": "2024-04-20T14:22:16.436Z"
      },
      {
        "duration": 17,
        "start_time": "2024-04-20T14:22:16.776Z"
      },
      {
        "duration": 14,
        "start_time": "2024-04-20T14:22:17.329Z"
      },
      {
        "duration": 11,
        "start_time": "2024-04-20T14:22:18.417Z"
      },
      {
        "duration": 12,
        "start_time": "2024-04-20T14:22:18.844Z"
      },
      {
        "duration": 5,
        "start_time": "2024-04-20T14:22:19.089Z"
      },
      {
        "duration": 10,
        "start_time": "2024-04-20T14:22:19.326Z"
      },
      {
        "duration": 12,
        "start_time": "2024-04-20T14:22:19.579Z"
      },
      {
        "duration": 6,
        "start_time": "2024-04-20T14:22:20.098Z"
      },
      {
        "duration": 14,
        "start_time": "2024-04-20T14:22:20.447Z"
      },
      {
        "duration": 5,
        "start_time": "2024-04-20T14:22:21.875Z"
      },
      {
        "duration": 4,
        "start_time": "2024-04-20T14:22:22.065Z"
      },
      {
        "duration": 19,
        "start_time": "2024-04-20T14:22:23.401Z"
      },
      {
        "duration": 15,
        "start_time": "2024-04-20T14:22:24.630Z"
      },
      {
        "duration": 29,
        "start_time": "2024-04-20T14:23:40.619Z"
      },
      {
        "duration": 7,
        "start_time": "2024-04-20T14:23:44.049Z"
      },
      {
        "duration": 2529,
        "start_time": "2024-04-20T14:23:45.312Z"
      },
      {
        "duration": 25,
        "start_time": "2024-04-20T14:23:47.843Z"
      },
      {
        "duration": 13,
        "start_time": "2024-04-20T14:23:53.420Z"
      },
      {
        "duration": 7,
        "start_time": "2024-04-20T14:39:14.215Z"
      },
      {
        "duration": 169,
        "start_time": "2024-04-20T14:40:28.323Z"
      },
      {
        "duration": 4,
        "start_time": "2024-04-20T14:40:29.440Z"
      },
      {
        "duration": 459,
        "start_time": "2024-04-20T14:40:30.590Z"
      },
      {
        "duration": 4,
        "start_time": "2024-04-20T14:40:31.659Z"
      },
      {
        "duration": 167,
        "start_time": "2024-04-20T14:40:31.831Z"
      },
      {
        "duration": 1896,
        "start_time": "2024-04-20T14:40:33.114Z"
      },
      {
        "duration": 4,
        "start_time": "2024-04-20T14:40:35.012Z"
      },
      {
        "duration": 21,
        "start_time": "2024-04-20T14:40:35.018Z"
      },
      {
        "duration": 23,
        "start_time": "2024-04-20T14:40:35.040Z"
      },
      {
        "duration": 14,
        "start_time": "2024-04-20T14:40:35.064Z"
      },
      {
        "duration": 24,
        "start_time": "2024-04-20T14:40:35.080Z"
      },
      {
        "duration": 258,
        "start_time": "2024-04-20T14:40:35.698Z"
      },
      {
        "duration": 4,
        "start_time": "2024-04-20T14:40:36.044Z"
      },
      {
        "duration": 4,
        "start_time": "2024-04-20T14:40:36.533Z"
      },
      {
        "duration": 404,
        "start_time": "2024-04-20T14:40:36.714Z"
      },
      {
        "duration": 156,
        "start_time": "2024-04-20T14:40:37.119Z"
      },
      {
        "duration": 4,
        "start_time": "2024-04-20T14:40:37.276Z"
      },
      {
        "duration": 11,
        "start_time": "2024-04-20T14:40:37.580Z"
      },
      {
        "duration": 7,
        "start_time": "2024-04-20T14:40:37.754Z"
      },
      {
        "duration": 1087,
        "start_time": "2024-04-20T14:40:38.172Z"
      },
      {
        "duration": 17,
        "start_time": "2024-04-20T14:40:39.260Z"
      },
      {
        "duration": 16,
        "start_time": "2024-04-20T14:40:39.279Z"
      },
      {
        "duration": 12,
        "start_time": "2024-04-20T14:40:39.297Z"
      },
      {
        "duration": 22,
        "start_time": "2024-04-20T14:40:39.756Z"
      },
      {
        "duration": 11,
        "start_time": "2024-04-20T14:40:40.858Z"
      },
      {
        "duration": 17,
        "start_time": "2024-04-20T14:40:41.285Z"
      },
      {
        "duration": 16,
        "start_time": "2024-04-20T14:40:41.937Z"
      },
      {
        "duration": 21,
        "start_time": "2024-04-20T14:40:42.126Z"
      },
      {
        "duration": 6,
        "start_time": "2024-04-20T14:40:42.347Z"
      },
      {
        "duration": 16,
        "start_time": "2024-04-20T14:40:42.537Z"
      },
      {
        "duration": 16,
        "start_time": "2024-04-20T14:40:43.615Z"
      },
      {
        "duration": 17,
        "start_time": "2024-04-20T14:40:44.993Z"
      },
      {
        "duration": 10,
        "start_time": "2024-04-20T14:40:45.207Z"
      },
      {
        "duration": 5,
        "start_time": "2024-04-20T14:40:45.529Z"
      },
      {
        "duration": 10,
        "start_time": "2024-04-20T14:40:45.859Z"
      },
      {
        "duration": 11,
        "start_time": "2024-04-20T14:40:46.372Z"
      },
      {
        "duration": 7,
        "start_time": "2024-04-20T14:40:47.126Z"
      },
      {
        "duration": 14,
        "start_time": "2024-04-20T14:40:47.332Z"
      },
      {
        "duration": 6,
        "start_time": "2024-04-20T14:40:48.205Z"
      },
      {
        "duration": 3,
        "start_time": "2024-04-20T14:40:48.544Z"
      },
      {
        "duration": 19,
        "start_time": "2024-04-20T14:40:49.545Z"
      },
      {
        "duration": 14,
        "start_time": "2024-04-20T14:41:03.164Z"
      },
      {
        "duration": 6,
        "start_time": "2024-04-20T14:41:23.271Z"
      },
      {
        "duration": 4,
        "start_time": "2024-04-20T14:41:24.152Z"
      },
      {
        "duration": 26,
        "start_time": "2024-04-20T14:41:52.239Z"
      },
      {
        "duration": 16,
        "start_time": "2024-04-20T14:42:05.850Z"
      },
      {
        "duration": 34,
        "start_time": "2024-04-20T14:42:08.772Z"
      },
      {
        "duration": 13,
        "start_time": "2024-04-20T14:44:00.864Z"
      },
      {
        "duration": 1765,
        "start_time": "2024-04-20T16:22:07.727Z"
      },
      {
        "duration": 651,
        "start_time": "2024-04-20T16:22:09.494Z"
      },
      {
        "duration": 3,
        "start_time": "2024-04-20T16:22:10.147Z"
      },
      {
        "duration": 557,
        "start_time": "2024-04-20T16:22:10.153Z"
      },
      {
        "duration": 5,
        "start_time": "2024-04-20T16:22:10.712Z"
      },
      {
        "duration": 198,
        "start_time": "2024-04-20T16:22:10.719Z"
      },
      {
        "duration": 1889,
        "start_time": "2024-04-20T16:22:10.919Z"
      },
      {
        "duration": 4,
        "start_time": "2024-04-20T16:22:12.809Z"
      },
      {
        "duration": 16,
        "start_time": "2024-04-20T16:22:12.814Z"
      },
      {
        "duration": 12,
        "start_time": "2024-04-20T16:22:12.832Z"
      },
      {
        "duration": 5,
        "start_time": "2024-04-20T16:22:12.845Z"
      },
      {
        "duration": 29,
        "start_time": "2024-04-20T16:22:12.851Z"
      },
      {
        "duration": 272,
        "start_time": "2024-04-20T16:22:12.882Z"
      },
      {
        "duration": 8,
        "start_time": "2024-04-20T16:22:13.160Z"
      },
      {
        "duration": 29,
        "start_time": "2024-04-20T16:22:13.170Z"
      },
      {
        "duration": 298,
        "start_time": "2024-04-20T16:22:13.201Z"
      },
      {
        "duration": 154,
        "start_time": "2024-04-20T16:22:13.501Z"
      },
      {
        "duration": 4,
        "start_time": "2024-04-20T16:22:13.656Z"
      },
      {
        "duration": 11,
        "start_time": "2024-04-20T16:22:13.669Z"
      },
      {
        "duration": 13,
        "start_time": "2024-04-20T16:22:13.681Z"
      },
      {
        "duration": 1208,
        "start_time": "2024-04-20T16:22:13.695Z"
      },
      {
        "duration": 13,
        "start_time": "2024-04-20T16:22:14.905Z"
      },
      {
        "duration": 23,
        "start_time": "2024-04-20T16:22:14.919Z"
      },
      {
        "duration": 21,
        "start_time": "2024-04-20T16:22:14.943Z"
      },
      {
        "duration": 35,
        "start_time": "2024-04-20T16:22:14.966Z"
      },
      {
        "duration": 50,
        "start_time": "2024-04-20T16:22:15.003Z"
      },
      {
        "duration": 48,
        "start_time": "2024-04-20T16:22:15.055Z"
      },
      {
        "duration": 36,
        "start_time": "2024-04-20T16:22:15.107Z"
      },
      {
        "duration": 34,
        "start_time": "2024-04-20T16:22:15.145Z"
      },
      {
        "duration": 24,
        "start_time": "2024-04-20T16:22:15.181Z"
      },
      {
        "duration": 44,
        "start_time": "2024-04-20T16:22:15.207Z"
      },
      {
        "duration": 64,
        "start_time": "2024-04-20T16:22:15.253Z"
      },
      {
        "duration": 43,
        "start_time": "2024-04-20T16:22:15.319Z"
      },
      {
        "duration": 28,
        "start_time": "2024-04-20T16:22:15.364Z"
      },
      {
        "duration": 42,
        "start_time": "2024-04-20T16:22:15.394Z"
      },
      {
        "duration": 44,
        "start_time": "2024-04-20T16:22:15.437Z"
      },
      {
        "duration": 40,
        "start_time": "2024-04-20T16:22:15.483Z"
      },
      {
        "duration": 32,
        "start_time": "2024-04-20T16:22:15.525Z"
      },
      {
        "duration": 77,
        "start_time": "2024-04-20T16:22:15.558Z"
      },
      {
        "duration": 37,
        "start_time": "2024-04-20T16:22:15.636Z"
      },
      {
        "duration": 33,
        "start_time": "2024-04-20T16:22:15.675Z"
      },
      {
        "duration": 53,
        "start_time": "2024-04-20T16:22:15.709Z"
      },
      {
        "duration": 15,
        "start_time": "2024-04-20T16:22:33.057Z"
      },
      {
        "duration": 18,
        "start_time": "2024-04-20T16:28:13.592Z"
      },
      {
        "duration": 4,
        "start_time": "2024-04-20T16:28:20.593Z"
      },
      {
        "duration": 199,
        "start_time": "2024-04-20T16:28:20.599Z"
      },
      {
        "duration": 3,
        "start_time": "2024-04-20T16:28:20.800Z"
      },
      {
        "duration": 477,
        "start_time": "2024-04-20T16:28:20.805Z"
      },
      {
        "duration": 5,
        "start_time": "2024-04-20T16:28:21.284Z"
      },
      {
        "duration": 185,
        "start_time": "2024-04-20T16:28:21.291Z"
      },
      {
        "duration": 2021,
        "start_time": "2024-04-20T16:28:21.477Z"
      },
      {
        "duration": 5,
        "start_time": "2024-04-20T16:28:23.499Z"
      },
      {
        "duration": 34,
        "start_time": "2024-04-20T16:28:23.506Z"
      },
      {
        "duration": 28,
        "start_time": "2024-04-20T16:28:23.542Z"
      },
      {
        "duration": 28,
        "start_time": "2024-04-20T16:28:23.571Z"
      },
      {
        "duration": 32,
        "start_time": "2024-04-20T16:28:23.600Z"
      },
      {
        "duration": 258,
        "start_time": "2024-04-20T16:28:23.633Z"
      },
      {
        "duration": 3,
        "start_time": "2024-04-20T16:28:23.893Z"
      },
      {
        "duration": 37,
        "start_time": "2024-04-20T16:28:23.897Z"
      },
      {
        "duration": 433,
        "start_time": "2024-04-20T16:28:23.936Z"
      },
      {
        "duration": 161,
        "start_time": "2024-04-20T16:28:24.371Z"
      },
      {
        "duration": 5,
        "start_time": "2024-04-20T16:28:24.533Z"
      },
      {
        "duration": 22,
        "start_time": "2024-04-20T16:28:24.540Z"
      },
      {
        "duration": 13,
        "start_time": "2024-04-20T16:28:24.569Z"
      },
      {
        "duration": 1155,
        "start_time": "2024-04-20T16:28:24.584Z"
      },
      {
        "duration": 15,
        "start_time": "2024-04-20T16:28:25.740Z"
      },
      {
        "duration": 25,
        "start_time": "2024-04-20T16:28:25.756Z"
      },
      {
        "duration": 11,
        "start_time": "2024-04-20T16:28:25.784Z"
      },
      {
        "duration": 36,
        "start_time": "2024-04-20T16:28:25.797Z"
      },
      {
        "duration": 12,
        "start_time": "2024-04-20T16:28:25.835Z"
      },
      {
        "duration": 21,
        "start_time": "2024-04-20T16:28:25.849Z"
      },
      {
        "duration": 16,
        "start_time": "2024-04-20T16:28:25.872Z"
      },
      {
        "duration": 23,
        "start_time": "2024-04-20T16:28:25.890Z"
      },
      {
        "duration": 7,
        "start_time": "2024-04-20T16:28:25.915Z"
      },
      {
        "duration": 46,
        "start_time": "2024-04-20T16:28:25.923Z"
      },
      {
        "duration": 17,
        "start_time": "2024-04-20T16:28:25.971Z"
      },
      {
        "duration": 21,
        "start_time": "2024-04-20T16:28:25.990Z"
      },
      {
        "duration": 25,
        "start_time": "2024-04-20T16:28:26.013Z"
      },
      {
        "duration": 19,
        "start_time": "2024-04-20T16:28:26.039Z"
      },
      {
        "duration": 13,
        "start_time": "2024-04-20T16:28:26.059Z"
      },
      {
        "duration": 23,
        "start_time": "2024-04-20T16:28:26.073Z"
      },
      {
        "duration": 7,
        "start_time": "2024-04-20T16:28:26.098Z"
      },
      {
        "duration": 27,
        "start_time": "2024-04-20T16:28:26.107Z"
      },
      {
        "duration": 7,
        "start_time": "2024-04-20T16:28:26.135Z"
      },
      {
        "duration": 4,
        "start_time": "2024-04-20T16:28:26.144Z"
      },
      {
        "duration": 41,
        "start_time": "2024-04-20T16:28:26.150Z"
      },
      {
        "duration": 17,
        "start_time": "2024-04-20T16:29:19.113Z"
      },
      {
        "duration": 32,
        "start_time": "2024-04-20T16:29:31.297Z"
      },
      {
        "duration": 5,
        "start_time": "2024-04-20T16:29:45.558Z"
      },
      {
        "duration": 2435,
        "start_time": "2024-04-20T16:29:59.346Z"
      },
      {
        "duration": 12,
        "start_time": "2024-04-20T16:30:08.316Z"
      },
      {
        "duration": 106,
        "start_time": "2024-04-20T16:30:16.364Z"
      },
      {
        "duration": 716783,
        "start_time": "2024-04-20T16:30:25.100Z"
      },
      {
        "duration": 2253,
        "start_time": "2024-04-20T16:45:41.804Z"
      },
      {
        "duration": 190,
        "start_time": "2024-04-20T16:45:44.059Z"
      },
      {
        "duration": 3,
        "start_time": "2024-04-20T16:45:44.251Z"
      },
      {
        "duration": 544,
        "start_time": "2024-04-20T16:45:44.257Z"
      },
      {
        "duration": 4,
        "start_time": "2024-04-20T16:45:44.803Z"
      },
      {
        "duration": 180,
        "start_time": "2024-04-20T16:45:44.808Z"
      },
      {
        "duration": 1976,
        "start_time": "2024-04-20T16:45:44.990Z"
      },
      {
        "duration": 4,
        "start_time": "2024-04-20T16:45:46.970Z"
      },
      {
        "duration": 25,
        "start_time": "2024-04-20T16:45:46.975Z"
      },
      {
        "duration": 23,
        "start_time": "2024-04-20T16:45:47.002Z"
      },
      {
        "duration": 6,
        "start_time": "2024-04-20T16:45:47.027Z"
      },
      {
        "duration": 26,
        "start_time": "2024-04-20T16:45:47.035Z"
      },
      {
        "duration": 289,
        "start_time": "2024-04-20T16:45:47.062Z"
      },
      {
        "duration": 4,
        "start_time": "2024-04-20T16:45:47.353Z"
      },
      {
        "duration": 13,
        "start_time": "2024-04-20T16:45:47.358Z"
      },
      {
        "duration": 299,
        "start_time": "2024-04-20T16:45:47.373Z"
      },
      {
        "duration": 155,
        "start_time": "2024-04-20T16:45:47.674Z"
      },
      {
        "duration": 4,
        "start_time": "2024-04-20T16:45:47.831Z"
      },
      {
        "duration": 12,
        "start_time": "2024-04-20T16:45:47.836Z"
      },
      {
        "duration": 20,
        "start_time": "2024-04-20T16:45:47.849Z"
      },
      {
        "duration": 1301,
        "start_time": "2024-04-20T16:45:47.871Z"
      },
      {
        "duration": 14,
        "start_time": "2024-04-20T16:45:49.173Z"
      },
      {
        "duration": 19,
        "start_time": "2024-04-20T16:45:49.188Z"
      },
      {
        "duration": 5,
        "start_time": "2024-04-20T16:45:49.208Z"
      },
      {
        "duration": 22,
        "start_time": "2024-04-20T16:45:49.214Z"
      },
      {
        "duration": 36,
        "start_time": "2024-04-20T16:45:49.238Z"
      },
      {
        "duration": 24,
        "start_time": "2024-04-20T16:45:49.276Z"
      },
      {
        "duration": 14,
        "start_time": "2024-04-20T16:45:49.304Z"
      },
      {
        "duration": 22,
        "start_time": "2024-04-20T16:45:49.320Z"
      },
      {
        "duration": 31,
        "start_time": "2024-04-20T16:45:49.344Z"
      },
      {
        "duration": 29,
        "start_time": "2024-04-20T16:45:49.377Z"
      },
      {
        "duration": 15,
        "start_time": "2024-04-20T16:45:49.408Z"
      },
      {
        "duration": 14,
        "start_time": "2024-04-20T16:45:49.424Z"
      },
      {
        "duration": 30,
        "start_time": "2024-04-20T16:45:49.440Z"
      },
      {
        "duration": 7,
        "start_time": "2024-04-20T16:45:49.472Z"
      },
      {
        "duration": 19,
        "start_time": "2024-04-20T16:45:49.480Z"
      },
      {
        "duration": 23,
        "start_time": "2024-04-20T16:45:49.500Z"
      },
      {
        "duration": 25,
        "start_time": "2024-04-20T16:45:49.525Z"
      },
      {
        "duration": 34,
        "start_time": "2024-04-20T16:45:49.552Z"
      },
      {
        "duration": 19,
        "start_time": "2024-04-20T16:45:49.588Z"
      },
      {
        "duration": 14,
        "start_time": "2024-04-20T16:45:49.609Z"
      },
      {
        "duration": 54,
        "start_time": "2024-04-20T16:45:49.624Z"
      },
      {
        "duration": 25,
        "start_time": "2024-04-20T16:45:49.680Z"
      },
      {
        "duration": 38,
        "start_time": "2024-04-20T16:45:49.706Z"
      },
      {
        "duration": 6,
        "start_time": "2024-04-20T16:45:49.746Z"
      },
      {
        "duration": 2504,
        "start_time": "2024-04-20T16:45:49.753Z"
      },
      {
        "duration": 16,
        "start_time": "2024-04-20T16:45:52.259Z"
      },
      {
        "duration": 29,
        "start_time": "2024-04-20T16:45:52.277Z"
      },
      {
        "duration": 727091,
        "start_time": "2024-04-20T16:45:52.371Z"
      },
      {
        "duration": 4980,
        "start_time": "2024-04-20T16:57:59.464Z"
      },
      {
        "duration": 98448,
        "start_time": "2024-04-20T16:58:04.445Z"
      },
      {
        "duration": 3851,
        "start_time": "2024-04-20T16:59:42.895Z"
      },
      {
        "duration": 18496,
        "start_time": "2024-04-20T16:59:46.748Z"
      },
      {
        "duration": 4436,
        "start_time": "2024-04-20T17:00:05.246Z"
      },
      {
        "duration": 3619,
        "start_time": "2024-04-20T17:00:09.684Z"
      },
      {
        "duration": 4,
        "start_time": "2024-04-20T17:41:26.776Z"
      },
      {
        "duration": 182,
        "start_time": "2024-04-20T17:41:26.782Z"
      },
      {
        "duration": 4,
        "start_time": "2024-04-20T17:41:26.966Z"
      },
      {
        "duration": 470,
        "start_time": "2024-04-20T17:41:26.972Z"
      },
      {
        "duration": 5,
        "start_time": "2024-04-20T17:41:27.444Z"
      },
      {
        "duration": 200,
        "start_time": "2024-04-20T17:41:27.451Z"
      },
      {
        "duration": 2115,
        "start_time": "2024-04-20T17:41:27.653Z"
      },
      {
        "duration": 5,
        "start_time": "2024-04-20T17:41:29.770Z"
      },
      {
        "duration": 5,
        "start_time": "2024-04-20T17:41:29.777Z"
      },
      {
        "duration": 12,
        "start_time": "2024-04-20T17:41:29.784Z"
      },
      {
        "duration": 6,
        "start_time": "2024-04-20T17:41:29.799Z"
      },
      {
        "duration": 25,
        "start_time": "2024-04-20T17:41:29.807Z"
      },
      {
        "duration": 337,
        "start_time": "2024-04-20T17:41:29.834Z"
      },
      {
        "duration": 4,
        "start_time": "2024-04-20T17:41:30.172Z"
      },
      {
        "duration": 79,
        "start_time": "2024-04-20T17:41:30.178Z"
      },
      {
        "duration": 635,
        "start_time": "2024-04-20T17:41:30.259Z"
      },
      {
        "duration": 166,
        "start_time": "2024-04-20T17:41:30.896Z"
      },
      {
        "duration": 6,
        "start_time": "2024-04-20T17:41:31.069Z"
      },
      {
        "duration": 70,
        "start_time": "2024-04-20T17:41:31.077Z"
      },
      {
        "duration": 56,
        "start_time": "2024-04-20T17:41:31.149Z"
      },
      {
        "duration": 1141,
        "start_time": "2024-04-20T17:41:31.207Z"
      },
      {
        "duration": 31,
        "start_time": "2024-04-20T17:41:32.350Z"
      },
      {
        "duration": 14,
        "start_time": "2024-04-20T17:41:32.384Z"
      },
      {
        "duration": 5,
        "start_time": "2024-04-20T17:41:32.400Z"
      },
      {
        "duration": 23,
        "start_time": "2024-04-20T17:41:32.406Z"
      },
      {
        "duration": 17,
        "start_time": "2024-04-20T17:41:32.431Z"
      },
      {
        "duration": 26,
        "start_time": "2024-04-20T17:41:32.449Z"
      },
      {
        "duration": 15,
        "start_time": "2024-04-20T17:41:32.477Z"
      },
      {
        "duration": 21,
        "start_time": "2024-04-20T17:41:32.495Z"
      },
      {
        "duration": 7,
        "start_time": "2024-04-20T17:41:32.518Z"
      },
      {
        "duration": 50,
        "start_time": "2024-04-20T17:41:32.527Z"
      },
      {
        "duration": 19,
        "start_time": "2024-04-20T17:41:32.579Z"
      },
      {
        "duration": 15,
        "start_time": "2024-04-20T17:41:32.601Z"
      },
      {
        "duration": 13,
        "start_time": "2024-04-20T17:41:32.619Z"
      },
      {
        "duration": 10,
        "start_time": "2024-04-20T17:41:32.634Z"
      },
      {
        "duration": 32,
        "start_time": "2024-04-20T17:41:32.646Z"
      },
      {
        "duration": 17,
        "start_time": "2024-04-20T17:41:32.680Z"
      },
      {
        "duration": 7,
        "start_time": "2024-04-20T17:41:32.699Z"
      },
      {
        "duration": 16,
        "start_time": "2024-04-20T17:41:32.708Z"
      },
      {
        "duration": 7,
        "start_time": "2024-04-20T17:41:45.775Z"
      },
      {
        "duration": 5,
        "start_time": "2024-04-20T17:41:47.268Z"
      },
      {
        "duration": 21,
        "start_time": "2024-04-20T17:41:48.458Z"
      },
      {
        "duration": 21,
        "start_time": "2024-04-20T17:41:54.142Z"
      },
      {
        "duration": 35,
        "start_time": "2024-04-20T17:41:56.543Z"
      },
      {
        "duration": 2532,
        "start_time": "2024-04-20T17:42:06.788Z"
      },
      {
        "duration": 1610,
        "start_time": "2024-04-20T17:42:50.868Z"
      },
      {
        "duration": 190,
        "start_time": "2024-04-20T17:42:52.480Z"
      },
      {
        "duration": 3,
        "start_time": "2024-04-20T17:42:52.671Z"
      },
      {
        "duration": 555,
        "start_time": "2024-04-20T17:42:52.676Z"
      },
      {
        "duration": 3,
        "start_time": "2024-04-20T17:42:53.233Z"
      },
      {
        "duration": 207,
        "start_time": "2024-04-20T17:42:53.237Z"
      },
      {
        "duration": 1991,
        "start_time": "2024-04-20T17:42:53.446Z"
      },
      {
        "duration": 4,
        "start_time": "2024-04-20T17:42:55.439Z"
      },
      {
        "duration": 15,
        "start_time": "2024-04-20T17:42:55.444Z"
      },
      {
        "duration": 19,
        "start_time": "2024-04-20T17:42:55.461Z"
      },
      {
        "duration": 6,
        "start_time": "2024-04-20T17:42:55.481Z"
      },
      {
        "duration": 27,
        "start_time": "2024-04-20T17:42:55.488Z"
      },
      {
        "duration": 286,
        "start_time": "2024-04-20T17:42:55.517Z"
      },
      {
        "duration": 4,
        "start_time": "2024-04-20T17:42:55.804Z"
      },
      {
        "duration": 5,
        "start_time": "2024-04-20T17:42:55.809Z"
      },
      {
        "duration": 314,
        "start_time": "2024-04-20T17:42:55.815Z"
      },
      {
        "duration": 157,
        "start_time": "2024-04-20T17:42:56.131Z"
      },
      {
        "duration": 4,
        "start_time": "2024-04-20T17:42:56.290Z"
      },
      {
        "duration": 17,
        "start_time": "2024-04-20T17:42:56.296Z"
      },
      {
        "duration": 7,
        "start_time": "2024-04-20T17:42:56.314Z"
      },
      {
        "duration": 1248,
        "start_time": "2024-04-20T17:42:56.322Z"
      },
      {
        "duration": 18,
        "start_time": "2024-04-20T17:42:57.572Z"
      },
      {
        "duration": 18,
        "start_time": "2024-04-20T17:42:57.592Z"
      },
      {
        "duration": 7,
        "start_time": "2024-04-20T17:42:57.611Z"
      },
      {
        "duration": 27,
        "start_time": "2024-04-20T17:42:57.620Z"
      },
      {
        "duration": 30,
        "start_time": "2024-04-20T17:42:57.649Z"
      },
      {
        "duration": 23,
        "start_time": "2024-04-20T17:42:57.681Z"
      },
      {
        "duration": 22,
        "start_time": "2024-04-20T17:42:57.708Z"
      },
      {
        "duration": 38,
        "start_time": "2024-04-20T17:42:57.732Z"
      },
      {
        "duration": 7,
        "start_time": "2024-04-20T17:42:57.772Z"
      },
      {
        "duration": 22,
        "start_time": "2024-04-20T17:42:57.781Z"
      },
      {
        "duration": 18,
        "start_time": "2024-04-20T17:42:57.804Z"
      },
      {
        "duration": 15,
        "start_time": "2024-04-20T17:42:57.823Z"
      },
      {
        "duration": 39,
        "start_time": "2024-04-20T17:42:57.840Z"
      },
      {
        "duration": 9,
        "start_time": "2024-04-20T17:42:57.880Z"
      },
      {
        "duration": 10,
        "start_time": "2024-04-20T17:42:57.890Z"
      },
      {
        "duration": 17,
        "start_time": "2024-04-20T17:42:57.902Z"
      },
      {
        "duration": 6,
        "start_time": "2024-04-20T17:42:57.921Z"
      },
      {
        "duration": 45,
        "start_time": "2024-04-20T17:42:57.929Z"
      },
      {
        "duration": 6,
        "start_time": "2024-04-20T17:42:57.975Z"
      },
      {
        "duration": 4,
        "start_time": "2024-04-20T17:42:57.982Z"
      },
      {
        "duration": 21,
        "start_time": "2024-04-20T17:42:57.988Z"
      },
      {
        "duration": 15,
        "start_time": "2024-04-20T17:42:58.010Z"
      },
      {
        "duration": 62,
        "start_time": "2024-04-20T17:42:58.026Z"
      },
      {
        "duration": 5,
        "start_time": "2024-04-20T17:42:58.090Z"
      },
      {
        "duration": 2465,
        "start_time": "2024-04-20T17:42:58.096Z"
      },
      {
        "duration": 13,
        "start_time": "2024-04-20T17:43:00.562Z"
      },
      {
        "duration": 113,
        "start_time": "2024-04-20T17:43:00.577Z"
      },
      {
        "duration": 720372,
        "start_time": "2024-04-20T17:43:00.770Z"
      },
      {
        "duration": 4793,
        "start_time": "2024-04-20T17:55:01.144Z"
      },
      {
        "duration": 1949264,
        "start_time": "2024-04-20T17:55:05.939Z"
      },
      {
        "duration": 23444,
        "start_time": "2024-04-20T18:27:35.205Z"
      },
      {
        "duration": 19056,
        "start_time": "2024-04-20T18:27:58.651Z"
      },
      {
        "duration": 3886,
        "start_time": "2024-04-20T18:28:17.709Z"
      },
      {
        "duration": 4103,
        "start_time": "2024-04-20T18:28:21.596Z"
      }
    ],
    "toc": {
      "base_numbering": 1,
      "nav_menu": {},
      "number_sections": true,
      "sideBar": true,
      "skip_h1_title": true,
      "title_cell": "Table of Contents",
      "title_sidebar": "Contents",
      "toc_cell": false,
      "toc_position": {},
      "toc_section_display": true,
      "toc_window_display": false
    }
  },
  "nbformat_minor": 5,
  "nbformat": 4,
  "cells": [
    {
      "id": "69d775f2",
      "cell_type": "markdown",
      "source": "## Project description: Steel melting temperature prediction\nTo optimize production costs, the metallurgical plant decided to reduce energy consumption at the steel processing stage. To do this, the plant needs to control the temperature of the alloy. The task is to build a model that will predict it.",
      "metadata": {}
    },
    {
      "id": "ccf9840f",
      "cell_type": "markdown",
      "source": "Description of the processing stage\n\nThe steel is processed in a metal ladle with a capacity of about 100 tons. To ensure that the ladle can withstand high temperatures, the inside is lined with refractory bricks. Molten steel is poured into a ladle and heated to the desired temperature with graphite electrodes. They are installed in the bucket lid.\nSulfur is removed from the alloy (this process is desulfurization), the chemical composition is adjusted by adding impurities, and samples are taken. The steel is alloyed - its composition is changed - by feeding pieces of the alloy from a bunker for bulk materials or wire through a special tribe apparatus .\nBefore introducing alloying additives for the first time, the temperature of the steel is measured and its chemical analysis is performed. Then the temperature is raised for several minutes, alloying materials are added and the alloy is purged with an inert gas. Then it is mixed and measurements are taken again. This cycle is repeated until the target chemical composition and optimal melting temperature are achieved.\nThen the molten steel is sent for metal finishing or enters a continuous casting machine. From there the finished product comes out in the form of slabs.",
      "metadata": {}
    },
    {
      "id": "c3b59899",
      "cell_type": "markdown",
      "source": "1.1 Data loading and primary processing.",
      "metadata": {}
    },
    {
      "id": "f8e5ae51",
      "cell_type": "code",
      "source": "import pandas as pd\nimport numpy as np\nimport matplotlib.pyplot as plt\nimport datetime as dt\nimport warnings\nwarnings.filterwarnings('ignore')\nimport seaborn as sns\n\nfrom scipy import stats as st\nfrom sklearn.model_selection import train_test_split\nfrom sklearn.metrics import mean_absolute_error\nfrom sklearn.model_selection import cross_val_score\nfrom sklearn.model_selection import GridSearchCV\n#from pyod.models.knn import KNN\nfrom sklearn.linear_model import LinearRegression\nfrom sklearn.ensemble import RandomForestRegressor\nfrom catboost import CatBoostRegressor\nfrom lightgbm import LGBMRegressor\nfrom xgboost import XGBRegressor\nfrom sklearn.preprocessing import StandardScaler",
      "metadata": {
        "trusted": true
      },
      "outputs": [],
      "execution_count": null
    },
    {
      "id": "d855cef1",
      "cell_type": "markdown",
      "source": "data_arc_new.csv — data about electrodes;  \ndata_bulk_new.csv — data on the supply of bulk materials (volume);  \ndata_bulk_time_new.csv — data on the supply of bulk materials (time);  \ndata_gas_new.csv — data on purging the alloy with gas;  \ndata_temp_new.csv — temperature measurement results;  \ndata_wire_new.csv — data on wire materials (volume);  \ndata_wire_time_new.csv - data about wire materials (time).  ",
      "metadata": {}
    },
    {
      "id": "656661fe",
      "cell_type": "code",
      "source": "try: \n    data_arc_new = pd.read_csv('/datasets/data_arc_new.csv')\n    data_bulk_new = pd.read_csv('/datasets/data_bulk_new.csv')\n    data_bulk_time_new = pd.read_csv('/datasets/data_bulk_time_new.csv')\n    data_gas_new = pd.read_csv('/datasets/data_gas_new.csv')\n    data_temp_new = pd.read_csv('/datasets/data_temp_new.csv')\n    data_wire_new = pd.read_csv('/datasets/data_wire_new.csv')\n    data_wire_time_new = pd.read_csv('/datasets/data_wire_time_new.csv')\n    \nexcept:\n    data_arc_new = pd.read_csv('/data_arc_new.csv')\n    data_bulk_new = pd.read_csv('/data_bulk_new.csv')\n    data_bulk_time_new = pd.read_csv('/data_bulk_time_new.csv')\n    data_gas_new = pd.read_csv('/data_gas_new.csv')\n    data_temp_new = pd.read_csv('/data_temp_new.csv')\n    data_wire_new = pd.read_csv('/data_wire_new.csv')\n    data_wire_time_new = pd.read_csv('/data_wire_time_new.csv')\n    \n    ",
      "metadata": {},
      "outputs": [],
      "execution_count": 2
    },
    {
      "id": "03799761",
      "cell_type": "code",
      "source": "def describe_data(data, bins, size):\n   \n    display(data.head(10))\n    data.info()\n    display(data.describe())\n    data.drop('key',axis=1).hist( bins= bins,figsize=size)\n    \n    plt.show()\n    data.drop('key', axis=1).boxplot()\n    ",
      "metadata": {},
      "outputs": [],
      "execution_count": 3
    },
    {
      "id": "e77c7b7b",
      "cell_type": "markdown",
      "source": "Let's conduct an initial data analysis:",
      "metadata": {}
    },
    {
      "id": "9c8ee929",
      "cell_type": "markdown",
      "source": "**Electrode data:**",
      "metadata": {}
    },
    {
      "id": "ef8f22fd",
      "cell_type": "code",
      "source": "describe_data(data_arc_new, 20, (10,5))",
      "metadata": {
        "scrolled": true,
        "trusted": true
      },
      "outputs": [],
      "execution_count": null
    },
    {
      "id": "8c1f7443",
      "cell_type": "markdown",
      "source": "There are no gaps. In the 'Reactive power' column there is an outlier with a value of ~-700, let's remove it.\r\nAlso in the data you need to bring the column names to the generally accepted form.",
      "metadata": {}
    },
    {
      "id": "a0e05fa8",
      "cell_type": "code",
      "source": "data_arc_new = data_arc_new.rename(columns={'Начало нагрева дугой':'arc_heating_start',\n                                            'Конец нагрева дугой':'arc_heating_end',\n                                           'Активная мощность':'active_power',\n                                           'Реактивная мощность':'reactive_power'})\n",
      "metadata": {
        "trusted": true
      },
      "outputs": [],
      "execution_count": null
    },
    {
      "id": "033f79f0",
      "cell_type": "code",
      "source": "data_arc_new = data_arc_new[data_arc_new['reactive_power']>-100]\ndata_arc_new['reactive_power'].hist(bins=50)\nplt.title('Реактивная мощность')\nplt.show()",
      "metadata": {
        "scrolled": true
      },
      "outputs": [
        {
          "data": {
            "image/png": "[encoded data removed]",
            "text/plain": [
              "<Figure size 432x288 with 1 Axes>"
            ]
          },
          "metadata": {
            "needs_background": "light"
          },
          "output_type": "display_data"
        }
      ],
      "execution_count": 6
    },
    {
      "id": "ff8d5ca5",
      "cell_type": "markdown",
      "source": "**Data on supply of bulk materials (volume):**",
      "metadata": {}
    },
    {
      "id": "a12b5454",
      "cell_type": "code",
      "source": "describe_data(data_bulk_new,20, (10,10))",
      "metadata": {
        "scrolled": true
      },
      "outputs": [
        {
          "data": {
            "text/html": [
              "<div>\n",
              "<style scoped>\n",
              "    .dataframe tbody tr th:only-of-type {\n",
              "        vertical-align: middle;\n",
              "    }\n",
              "\n",
              "    .dataframe tbody tr th {\n",
              "        vertical-align: top;\n",
              "    }\n",
              "\n",
              "    .dataframe thead th {\n",
              "        text-align: right;\n",
              "    }\n",
              "</style>\n",
              "<table border=\"1\" class=\"dataframe\">\n",
              "  <thead>\n",
              "    <tr style=\"text-align: right;\">\n",
              "      <th></th>\n",
              "      <th>key</th>\n",
              "      <th>Bulk 1</th>\n",
              "      <th>Bulk 2</th>\n",
              "      <th>Bulk 3</th>\n",
              "      <th>Bulk 4</th>\n",
              "      <th>Bulk 5</th>\n",
              "      <th>Bulk 6</th>\n",
              "      <th>Bulk 7</th>\n",
              "      <th>Bulk 8</th>\n",
              "      <th>Bulk 9</th>\n",
              "      <th>Bulk 10</th>\n",
              "      <th>Bulk 11</th>\n",
              "      <th>Bulk 12</th>\n",
              "      <th>Bulk 13</th>\n",
              "      <th>Bulk 14</th>\n",
              "      <th>Bulk 15</th>\n",
              "    </tr>\n",
              "  </thead>\n",
              "  <tbody>\n",
              "    <tr>\n",
              "      <th>0</th>\n",
              "      <td>1</td>\n",
              "      <td>NaN</td>\n",
              "      <td>NaN</td>\n",
              "      <td>NaN</td>\n",
              "      <td>43.0</td>\n",
              "      <td>NaN</td>\n",
              "      <td>NaN</td>\n",
              "      <td>NaN</td>\n",
              "      <td>NaN</td>\n",
              "      <td>NaN</td>\n",
              "      <td>NaN</td>\n",
              "      <td>NaN</td>\n",
              "      <td>206.0</td>\n",
              "      <td>NaN</td>\n",
              "      <td>150.0</td>\n",
              "      <td>154.0</td>\n",
              "    </tr>\n",
              "    <tr>\n",
              "      <th>1</th>\n",
              "      <td>2</td>\n",
              "      <td>NaN</td>\n",
              "      <td>NaN</td>\n",
              "      <td>NaN</td>\n",
              "      <td>73.0</td>\n",
              "      <td>NaN</td>\n",
              "      <td>NaN</td>\n",
              "      <td>NaN</td>\n",
              "      <td>NaN</td>\n",
              "      <td>NaN</td>\n",
              "      <td>NaN</td>\n",
              "      <td>NaN</td>\n",
              "      <td>206.0</td>\n",
              "      <td>NaN</td>\n",
              "      <td>149.0</td>\n",
              "      <td>154.0</td>\n",
              "    </tr>\n",
              "    <tr>\n",
              "      <th>2</th>\n",
              "      <td>3</td>\n",
              "      <td>NaN</td>\n",
              "      <td>NaN</td>\n",
              "      <td>NaN</td>\n",
              "      <td>34.0</td>\n",
              "      <td>NaN</td>\n",
              "      <td>NaN</td>\n",
              "      <td>NaN</td>\n",
              "      <td>NaN</td>\n",
              "      <td>NaN</td>\n",
              "      <td>NaN</td>\n",
              "      <td>NaN</td>\n",
              "      <td>205.0</td>\n",
              "      <td>NaN</td>\n",
              "      <td>152.0</td>\n",
              "      <td>153.0</td>\n",
              "    </tr>\n",
              "    <tr>\n",
              "      <th>3</th>\n",
              "      <td>4</td>\n",
              "      <td>NaN</td>\n",
              "      <td>NaN</td>\n",
              "      <td>NaN</td>\n",
              "      <td>81.0</td>\n",
              "      <td>NaN</td>\n",
              "      <td>NaN</td>\n",
              "      <td>NaN</td>\n",
              "      <td>NaN</td>\n",
              "      <td>NaN</td>\n",
              "      <td>NaN</td>\n",
              "      <td>NaN</td>\n",
              "      <td>207.0</td>\n",
              "      <td>NaN</td>\n",
              "      <td>153.0</td>\n",
              "      <td>154.0</td>\n",
              "    </tr>\n",
              "    <tr>\n",
              "      <th>4</th>\n",
              "      <td>5</td>\n",
              "      <td>NaN</td>\n",
              "      <td>NaN</td>\n",
              "      <td>NaN</td>\n",
              "      <td>78.0</td>\n",
              "      <td>NaN</td>\n",
              "      <td>NaN</td>\n",
              "      <td>NaN</td>\n",
              "      <td>NaN</td>\n",
              "      <td>NaN</td>\n",
              "      <td>NaN</td>\n",
              "      <td>NaN</td>\n",
              "      <td>203.0</td>\n",
              "      <td>NaN</td>\n",
              "      <td>151.0</td>\n",
              "      <td>152.0</td>\n",
              "    </tr>\n",
              "    <tr>\n",
              "      <th>5</th>\n",
              "      <td>6</td>\n",
              "      <td>NaN</td>\n",
              "      <td>NaN</td>\n",
              "      <td>NaN</td>\n",
              "      <td>117.0</td>\n",
              "      <td>NaN</td>\n",
              "      <td>NaN</td>\n",
              "      <td>NaN</td>\n",
              "      <td>NaN</td>\n",
              "      <td>NaN</td>\n",
              "      <td>NaN</td>\n",
              "      <td>NaN</td>\n",
              "      <td>204.0</td>\n",
              "      <td>NaN</td>\n",
              "      <td>201.0</td>\n",
              "      <td>154.0</td>\n",
              "    </tr>\n",
              "    <tr>\n",
              "      <th>6</th>\n",
              "      <td>7</td>\n",
              "      <td>NaN</td>\n",
              "      <td>NaN</td>\n",
              "      <td>NaN</td>\n",
              "      <td>117.0</td>\n",
              "      <td>NaN</td>\n",
              "      <td>NaN</td>\n",
              "      <td>NaN</td>\n",
              "      <td>NaN</td>\n",
              "      <td>NaN</td>\n",
              "      <td>NaN</td>\n",
              "      <td>NaN</td>\n",
              "      <td>204.0</td>\n",
              "      <td>NaN</td>\n",
              "      <td>152.0</td>\n",
              "      <td>154.0</td>\n",
              "    </tr>\n",
              "    <tr>\n",
              "      <th>7</th>\n",
              "      <td>8</td>\n",
              "      <td>NaN</td>\n",
              "      <td>NaN</td>\n",
              "      <td>NaN</td>\n",
              "      <td>99.0</td>\n",
              "      <td>NaN</td>\n",
              "      <td>NaN</td>\n",
              "      <td>NaN</td>\n",
              "      <td>NaN</td>\n",
              "      <td>NaN</td>\n",
              "      <td>NaN</td>\n",
              "      <td>NaN</td>\n",
              "      <td>410.0</td>\n",
              "      <td>NaN</td>\n",
              "      <td>252.0</td>\n",
              "      <td>153.0</td>\n",
              "    </tr>\n",
              "    <tr>\n",
              "      <th>8</th>\n",
              "      <td>9</td>\n",
              "      <td>NaN</td>\n",
              "      <td>NaN</td>\n",
              "      <td>NaN</td>\n",
              "      <td>117.0</td>\n",
              "      <td>NaN</td>\n",
              "      <td>NaN</td>\n",
              "      <td>NaN</td>\n",
              "      <td>NaN</td>\n",
              "      <td>NaN</td>\n",
              "      <td>NaN</td>\n",
              "      <td>NaN</td>\n",
              "      <td>107.0</td>\n",
              "      <td>NaN</td>\n",
              "      <td>99.0</td>\n",
              "      <td>203.0</td>\n",
              "    </tr>\n",
              "    <tr>\n",
              "      <th>9</th>\n",
              "      <td>10</td>\n",
              "      <td>NaN</td>\n",
              "      <td>NaN</td>\n",
              "      <td>NaN</td>\n",
              "      <td>NaN</td>\n",
              "      <td>NaN</td>\n",
              "      <td>NaN</td>\n",
              "      <td>NaN</td>\n",
              "      <td>NaN</td>\n",
              "      <td>NaN</td>\n",
              "      <td>NaN</td>\n",
              "      <td>NaN</td>\n",
              "      <td>203.0</td>\n",
              "      <td>NaN</td>\n",
              "      <td>102.0</td>\n",
              "      <td>204.0</td>\n",
              "    </tr>\n",
              "  </tbody>\n",
              "</table>\n",
              "</div>"
            ],
            "text/plain": [
              "   key  Bulk 1  Bulk 2  Bulk 3  Bulk 4  Bulk 5  Bulk 6  Bulk 7  Bulk 8  \\\n",
              "0    1     NaN     NaN     NaN    43.0     NaN     NaN     NaN     NaN   \n",
              "1    2     NaN     NaN     NaN    73.0     NaN     NaN     NaN     NaN   \n",
              "2    3     NaN     NaN     NaN    34.0     NaN     NaN     NaN     NaN   \n",
              "3    4     NaN     NaN     NaN    81.0     NaN     NaN     NaN     NaN   \n",
              "4    5     NaN     NaN     NaN    78.0     NaN     NaN     NaN     NaN   \n",
              "5    6     NaN     NaN     NaN   117.0     NaN     NaN     NaN     NaN   \n",
              "6    7     NaN     NaN     NaN   117.0     NaN     NaN     NaN     NaN   \n",
              "7    8     NaN     NaN     NaN    99.0     NaN     NaN     NaN     NaN   \n",
              "8    9     NaN     NaN     NaN   117.0     NaN     NaN     NaN     NaN   \n",
              "9   10     NaN     NaN     NaN     NaN     NaN     NaN     NaN     NaN   \n",
              "\n",
              "   Bulk 9  Bulk 10  Bulk 11  Bulk 12  Bulk 13  Bulk 14  Bulk 15  \n",
              "0     NaN      NaN      NaN    206.0      NaN    150.0    154.0  \n",
              "1     NaN      NaN      NaN    206.0      NaN    149.0    154.0  \n",
              "2     NaN      NaN      NaN    205.0      NaN    152.0    153.0  \n",
              "3     NaN      NaN      NaN    207.0      NaN    153.0    154.0  \n",
              "4     NaN      NaN      NaN    203.0      NaN    151.0    152.0  \n",
              "5     NaN      NaN      NaN    204.0      NaN    201.0    154.0  \n",
              "6     NaN      NaN      NaN    204.0      NaN    152.0    154.0  \n",
              "7     NaN      NaN      NaN    410.0      NaN    252.0    153.0  \n",
              "8     NaN      NaN      NaN    107.0      NaN     99.0    203.0  \n",
              "9     NaN      NaN      NaN    203.0      NaN    102.0    204.0  "
            ]
          },
          "metadata": {},
          "output_type": "display_data"
        },
        {
          "name": "stdout",
          "output_type": "stream",
          "text": [
            "<class 'pandas.core.frame.DataFrame'>\n",
            "RangeIndex: 3129 entries, 0 to 3128\n",
            "Data columns (total 16 columns):\n",
            " #   Column   Non-Null Count  Dtype  \n",
            "---  ------   --------------  -----  \n",
            " 0   key      3129 non-null   int64  \n",
            " 1   Bulk 1   252 non-null    float64\n",
            " 2   Bulk 2   22 non-null     float64\n",
            " 3   Bulk 3   1298 non-null   float64\n",
            " 4   Bulk 4   1014 non-null   float64\n",
            " 5   Bulk 5   77 non-null     float64\n",
            " 6   Bulk 6   576 non-null    float64\n",
            " 7   Bulk 7   25 non-null     float64\n",
            " 8   Bulk 8   1 non-null      float64\n",
            " 9   Bulk 9   19 non-null     float64\n",
            " 10  Bulk 10  176 non-null    float64\n",
            " 11  Bulk 11  177 non-null    float64\n",
            " 12  Bulk 12  2450 non-null   float64\n",
            " 13  Bulk 13  18 non-null     float64\n",
            " 14  Bulk 14  2806 non-null   float64\n",
            " 15  Bulk 15  2248 non-null   float64\n",
            "dtypes: float64(15), int64(1)\n",
            "memory usage: 391.2 KB\n"
          ]
        },
        {
          "data": {
            "text/html": [
              "<div>\n",
              "<style scoped>\n",
              "    .dataframe tbody tr th:only-of-type {\n",
              "        vertical-align: middle;\n",
              "    }\n",
              "\n",
              "    .dataframe tbody tr th {\n",
              "        vertical-align: top;\n",
              "    }\n",
              "\n",
              "    .dataframe thead th {\n",
              "        text-align: right;\n",
              "    }\n",
              "</style>\n",
              "<table border=\"1\" class=\"dataframe\">\n",
              "  <thead>\n",
              "    <tr style=\"text-align: right;\">\n",
              "      <th></th>\n",
              "      <th>key</th>\n",
              "      <th>Bulk 1</th>\n",
              "      <th>Bulk 2</th>\n",
              "      <th>Bulk 3</th>\n",
              "      <th>Bulk 4</th>\n",
              "      <th>Bulk 5</th>\n",
              "      <th>Bulk 6</th>\n",
              "      <th>Bulk 7</th>\n",
              "      <th>Bulk 8</th>\n",
              "      <th>Bulk 9</th>\n",
              "      <th>Bulk 10</th>\n",
              "      <th>Bulk 11</th>\n",
              "      <th>Bulk 12</th>\n",
              "      <th>Bulk 13</th>\n",
              "      <th>Bulk 14</th>\n",
              "      <th>Bulk 15</th>\n",
              "    </tr>\n",
              "  </thead>\n",
              "  <tbody>\n",
              "    <tr>\n",
              "      <th>count</th>\n",
              "      <td>3129.000000</td>\n",
              "      <td>252.000000</td>\n",
              "      <td>22.000000</td>\n",
              "      <td>1298.000000</td>\n",
              "      <td>1014.000000</td>\n",
              "      <td>77.000000</td>\n",
              "      <td>576.000000</td>\n",
              "      <td>25.000000</td>\n",
              "      <td>1.0</td>\n",
              "      <td>19.000000</td>\n",
              "      <td>176.000000</td>\n",
              "      <td>177.000000</td>\n",
              "      <td>2450.000000</td>\n",
              "      <td>18.000000</td>\n",
              "      <td>2806.000000</td>\n",
              "      <td>2248.000000</td>\n",
              "    </tr>\n",
              "    <tr>\n",
              "      <th>mean</th>\n",
              "      <td>1624.383509</td>\n",
              "      <td>39.242063</td>\n",
              "      <td>253.045455</td>\n",
              "      <td>113.879045</td>\n",
              "      <td>104.394477</td>\n",
              "      <td>107.025974</td>\n",
              "      <td>118.925347</td>\n",
              "      <td>305.600000</td>\n",
              "      <td>49.0</td>\n",
              "      <td>76.315789</td>\n",
              "      <td>83.284091</td>\n",
              "      <td>76.819209</td>\n",
              "      <td>260.471020</td>\n",
              "      <td>181.111111</td>\n",
              "      <td>170.284747</td>\n",
              "      <td>160.513345</td>\n",
              "    </tr>\n",
              "    <tr>\n",
              "      <th>std</th>\n",
              "      <td>933.337642</td>\n",
              "      <td>18.277654</td>\n",
              "      <td>21.180578</td>\n",
              "      <td>75.483494</td>\n",
              "      <td>48.184126</td>\n",
              "      <td>81.790646</td>\n",
              "      <td>72.057776</td>\n",
              "      <td>191.022904</td>\n",
              "      <td>NaN</td>\n",
              "      <td>21.720581</td>\n",
              "      <td>26.060347</td>\n",
              "      <td>59.655365</td>\n",
              "      <td>120.649269</td>\n",
              "      <td>46.088009</td>\n",
              "      <td>65.868652</td>\n",
              "      <td>51.765319</td>\n",
              "    </tr>\n",
              "    <tr>\n",
              "      <th>min</th>\n",
              "      <td>1.000000</td>\n",
              "      <td>10.000000</td>\n",
              "      <td>228.000000</td>\n",
              "      <td>6.000000</td>\n",
              "      <td>12.000000</td>\n",
              "      <td>11.000000</td>\n",
              "      <td>17.000000</td>\n",
              "      <td>47.000000</td>\n",
              "      <td>49.0</td>\n",
              "      <td>63.000000</td>\n",
              "      <td>24.000000</td>\n",
              "      <td>8.000000</td>\n",
              "      <td>53.000000</td>\n",
              "      <td>151.000000</td>\n",
              "      <td>16.000000</td>\n",
              "      <td>1.000000</td>\n",
              "    </tr>\n",
              "    <tr>\n",
              "      <th>25%</th>\n",
              "      <td>816.000000</td>\n",
              "      <td>27.000000</td>\n",
              "      <td>242.000000</td>\n",
              "      <td>58.000000</td>\n",
              "      <td>72.000000</td>\n",
              "      <td>70.000000</td>\n",
              "      <td>69.750000</td>\n",
              "      <td>155.000000</td>\n",
              "      <td>49.0</td>\n",
              "      <td>66.000000</td>\n",
              "      <td>64.000000</td>\n",
              "      <td>25.000000</td>\n",
              "      <td>204.000000</td>\n",
              "      <td>153.250000</td>\n",
              "      <td>119.000000</td>\n",
              "      <td>105.000000</td>\n",
              "    </tr>\n",
              "    <tr>\n",
              "      <th>50%</th>\n",
              "      <td>1622.000000</td>\n",
              "      <td>31.000000</td>\n",
              "      <td>251.500000</td>\n",
              "      <td>97.500000</td>\n",
              "      <td>102.000000</td>\n",
              "      <td>86.000000</td>\n",
              "      <td>100.000000</td>\n",
              "      <td>298.000000</td>\n",
              "      <td>49.0</td>\n",
              "      <td>68.000000</td>\n",
              "      <td>86.500000</td>\n",
              "      <td>64.000000</td>\n",
              "      <td>208.000000</td>\n",
              "      <td>155.500000</td>\n",
              "      <td>151.000000</td>\n",
              "      <td>160.000000</td>\n",
              "    </tr>\n",
              "    <tr>\n",
              "      <th>75%</th>\n",
              "      <td>2431.000000</td>\n",
              "      <td>46.000000</td>\n",
              "      <td>257.750000</td>\n",
              "      <td>152.000000</td>\n",
              "      <td>133.000000</td>\n",
              "      <td>132.000000</td>\n",
              "      <td>157.000000</td>\n",
              "      <td>406.000000</td>\n",
              "      <td>49.0</td>\n",
              "      <td>70.500000</td>\n",
              "      <td>102.000000</td>\n",
              "      <td>106.000000</td>\n",
              "      <td>316.000000</td>\n",
              "      <td>203.500000</td>\n",
              "      <td>205.750000</td>\n",
              "      <td>205.000000</td>\n",
              "    </tr>\n",
              "    <tr>\n",
              "      <th>max</th>\n",
              "      <td>3241.000000</td>\n",
              "      <td>185.000000</td>\n",
              "      <td>325.000000</td>\n",
              "      <td>454.000000</td>\n",
              "      <td>281.000000</td>\n",
              "      <td>603.000000</td>\n",
              "      <td>503.000000</td>\n",
              "      <td>772.000000</td>\n",
              "      <td>49.0</td>\n",
              "      <td>147.000000</td>\n",
              "      <td>159.000000</td>\n",
              "      <td>313.000000</td>\n",
              "      <td>1849.000000</td>\n",
              "      <td>305.000000</td>\n",
              "      <td>636.000000</td>\n",
              "      <td>405.000000</td>\n",
              "    </tr>\n",
              "  </tbody>\n",
              "</table>\n",
              "</div>"
            ],
            "text/plain": [
              "               key      Bulk 1      Bulk 2       Bulk 3       Bulk 4  \\\n",
              "count  3129.000000  252.000000   22.000000  1298.000000  1014.000000   \n",
              "mean   1624.383509   39.242063  253.045455   113.879045   104.394477   \n",
              "std     933.337642   18.277654   21.180578    75.483494    48.184126   \n",
              "min       1.000000   10.000000  228.000000     6.000000    12.000000   \n",
              "25%     816.000000   27.000000  242.000000    58.000000    72.000000   \n",
              "50%    1622.000000   31.000000  251.500000    97.500000   102.000000   \n",
              "75%    2431.000000   46.000000  257.750000   152.000000   133.000000   \n",
              "max    3241.000000  185.000000  325.000000   454.000000   281.000000   \n",
              "\n",
              "           Bulk 5      Bulk 6      Bulk 7  Bulk 8      Bulk 9     Bulk 10  \\\n",
              "count   77.000000  576.000000   25.000000     1.0   19.000000  176.000000   \n",
              "mean   107.025974  118.925347  305.600000    49.0   76.315789   83.284091   \n",
              "std     81.790646   72.057776  191.022904     NaN   21.720581   26.060347   \n",
              "min     11.000000   17.000000   47.000000    49.0   63.000000   24.000000   \n",
              "25%     70.000000   69.750000  155.000000    49.0   66.000000   64.000000   \n",
              "50%     86.000000  100.000000  298.000000    49.0   68.000000   86.500000   \n",
              "75%    132.000000  157.000000  406.000000    49.0   70.500000  102.000000   \n",
              "max    603.000000  503.000000  772.000000    49.0  147.000000  159.000000   \n",
              "\n",
              "          Bulk 11      Bulk 12     Bulk 13      Bulk 14      Bulk 15  \n",
              "count  177.000000  2450.000000   18.000000  2806.000000  2248.000000  \n",
              "mean    76.819209   260.471020  181.111111   170.284747   160.513345  \n",
              "std     59.655365   120.649269   46.088009    65.868652    51.765319  \n",
              "min      8.000000    53.000000  151.000000    16.000000     1.000000  \n",
              "25%     25.000000   204.000000  153.250000   119.000000   105.000000  \n",
              "50%     64.000000   208.000000  155.500000   151.000000   160.000000  \n",
              "75%    106.000000   316.000000  203.500000   205.750000   205.000000  \n",
              "max    313.000000  1849.000000  305.000000   636.000000   405.000000  "
            ]
          },
          "metadata": {},
          "output_type": "display_data"
        },
        {
          "data": {
            "image/png": "[encoded data removed]",
            "text/plain": [
              "<Figure size 720x720 with 16 Axes>"
            ]
          },
          "metadata": {
            "needs_background": "light"
          },
          "output_type": "display_data"
        },
        {
          "data": {
            "image/png": "[encoded data removed]",
            "text/plain": [
              "<Figure size 432x288 with 1 Axes>"
            ]
          },
          "metadata": {
            "needs_background": "light"
          },
          "output_type": "display_data"
        }
      ],
      "execution_count": 7
    },
    {
      "id": "f7127afa",
      "cell_type": "markdown",
      "source": "There are many gaps in the material data, which means that these materials were not added at a certain iteration. The gap can be replaced with 0. Let's remove the space in the column names and remove the outlier for the volume Bulk 12. Bulk 8,9,13,2 can be removed because very few lines are contained with them.",
      "metadata": {}
    },
    {
      "id": "fc92601e",
      "cell_type": "code",
      "source": "data_bulk_new.columns = data_bulk_new.columns.str.replace(' ', '_')\ndata_bulk_new = data_bulk_new.drop(['Bulk_8','Bulk_9','Bulk_13','Bulk_2'], axis=1)",
      "metadata": {},
      "outputs": [],
      "execution_count": 8
    },
    {
      "id": "73fa3862",
      "cell_type": "code",
      "source": "#data_bulk_new = data_bulk_new.query('Bulk_12<1750') ",
      "metadata": {},
      "outputs": [],
      "execution_count": 9
    },
    {
      "id": "b49ef660",
      "cell_type": "markdown",
      "source": "It is not clear from the data what exactly these materials are, only the volume and time are given, so they cannot be aggregated by batch. Let's see which of these materials were used more and which less.",
      "metadata": {}
    },
    {
      "id": "1f536fc3",
      "cell_type": "code",
      "source": "data_bulk_new = data_bulk_new.fillna(0)\n\ndf_bulk_sorted = (data_bulk_new.drop('key',axis=1).sum())\ndf_bulk_sorted= pd.DataFrame(data=df_bulk_sorted, columns=['Vol'] ).sort_values(by ='Vol', ascending=False)\ndf_bulk_sorted",
      "metadata": {
        "trusted": true
      },
      "outputs": [],
      "execution_count": null
    },
    {
      "id": "86574a69",
      "cell_type": "code",
      "source": "data_bulk_new.isna().sum()",
      "metadata": {},
      "outputs": [
        {
          "data": {
            "text/plain": [
              "key        0\n",
              "Bulk_1     0\n",
              "Bulk_3     0\n",
              "Bulk_4     0\n",
              "Bulk_5     0\n",
              "Bulk_6     0\n",
              "Bulk_7     0\n",
              "Bulk_10    0\n",
              "Bulk_11    0\n",
              "Bulk_12    0\n",
              "Bulk_14    0\n",
              "Bulk_15    0\n",
              "dtype: int64"
            ]
          },
          "execution_count": 11,
          "metadata": {},
          "output_type": "execute_result"
        }
      ],
      "execution_count": 11
    },
    {
      "id": "b7724165",
      "cell_type": "markdown",
      "source": "The largest volume of bulk additive was for materials Bulk 12, 14, 15, 3, 4. The smallest was 13, 9, 8.",
      "metadata": {}
    },
    {
      "id": "768be023",
      "cell_type": "markdown",
      "source": "**Data on supply of bulk materials (time):**",
      "metadata": {}
    },
    {
      "id": "fb8faa36",
      "cell_type": "code",
      "source": "data_bulk_time_new.columns = data_bulk_time_new.columns.str.replace(' ', '_')\ndisplay(data_bulk_time_new.head())\ndata_bulk_time_new.info()\n",
      "metadata": {
        "scrolled": true
      },
      "outputs": [
        {
          "data": {
            "text/html": [
              "<div>\n",
              "<style scoped>\n",
              "    .dataframe tbody tr th:only-of-type {\n",
              "        vertical-align: middle;\n",
              "    }\n",
              "\n",
              "    .dataframe tbody tr th {\n",
              "        vertical-align: top;\n",
              "    }\n",
              "\n",
              "    .dataframe thead th {\n",
              "        text-align: right;\n",
              "    }\n",
              "</style>\n",
              "<table border=\"1\" class=\"dataframe\">\n",
              "  <thead>\n",
              "    <tr style=\"text-align: right;\">\n",
              "      <th></th>\n",
              "      <th>key</th>\n",
              "      <th>Bulk_1</th>\n",
              "      <th>Bulk_2</th>\n",
              "      <th>Bulk_3</th>\n",
              "      <th>Bulk_4</th>\n",
              "      <th>Bulk_5</th>\n",
              "      <th>Bulk_6</th>\n",
              "      <th>Bulk_7</th>\n",
              "      <th>Bulk_8</th>\n",
              "      <th>Bulk_9</th>\n",
              "      <th>Bulk_10</th>\n",
              "      <th>Bulk_11</th>\n",
              "      <th>Bulk_12</th>\n",
              "      <th>Bulk_13</th>\n",
              "      <th>Bulk_14</th>\n",
              "      <th>Bulk_15</th>\n",
              "    </tr>\n",
              "  </thead>\n",
              "  <tbody>\n",
              "    <tr>\n",
              "      <th>0</th>\n",
              "      <td>1</td>\n",
              "      <td>NaN</td>\n",
              "      <td>NaN</td>\n",
              "      <td>NaN</td>\n",
              "      <td>2019-05-03 11:28:48</td>\n",
              "      <td>NaN</td>\n",
              "      <td>NaN</td>\n",
              "      <td>NaN</td>\n",
              "      <td>NaN</td>\n",
              "      <td>NaN</td>\n",
              "      <td>NaN</td>\n",
              "      <td>NaN</td>\n",
              "      <td>2019-05-03 11:24:31</td>\n",
              "      <td>NaN</td>\n",
              "      <td>2019-05-03 11:14:50</td>\n",
              "      <td>2019-05-03 11:10:43</td>\n",
              "    </tr>\n",
              "    <tr>\n",
              "      <th>1</th>\n",
              "      <td>2</td>\n",
              "      <td>NaN</td>\n",
              "      <td>NaN</td>\n",
              "      <td>NaN</td>\n",
              "      <td>2019-05-03 11:36:50</td>\n",
              "      <td>NaN</td>\n",
              "      <td>NaN</td>\n",
              "      <td>NaN</td>\n",
              "      <td>NaN</td>\n",
              "      <td>NaN</td>\n",
              "      <td>NaN</td>\n",
              "      <td>NaN</td>\n",
              "      <td>2019-05-03 11:53:30</td>\n",
              "      <td>NaN</td>\n",
              "      <td>2019-05-03 11:48:37</td>\n",
              "      <td>2019-05-03 11:44:39</td>\n",
              "    </tr>\n",
              "    <tr>\n",
              "      <th>2</th>\n",
              "      <td>3</td>\n",
              "      <td>NaN</td>\n",
              "      <td>NaN</td>\n",
              "      <td>NaN</td>\n",
              "      <td>2019-05-03 12:32:39</td>\n",
              "      <td>NaN</td>\n",
              "      <td>NaN</td>\n",
              "      <td>NaN</td>\n",
              "      <td>NaN</td>\n",
              "      <td>NaN</td>\n",
              "      <td>NaN</td>\n",
              "      <td>NaN</td>\n",
              "      <td>2019-05-03 12:27:13</td>\n",
              "      <td>NaN</td>\n",
              "      <td>2019-05-03 12:21:01</td>\n",
              "      <td>2019-05-03 12:16:16</td>\n",
              "    </tr>\n",
              "    <tr>\n",
              "      <th>3</th>\n",
              "      <td>4</td>\n",
              "      <td>NaN</td>\n",
              "      <td>NaN</td>\n",
              "      <td>NaN</td>\n",
              "      <td>2019-05-03 12:43:22</td>\n",
              "      <td>NaN</td>\n",
              "      <td>NaN</td>\n",
              "      <td>NaN</td>\n",
              "      <td>NaN</td>\n",
              "      <td>NaN</td>\n",
              "      <td>NaN</td>\n",
              "      <td>NaN</td>\n",
              "      <td>2019-05-03 12:58:00</td>\n",
              "      <td>NaN</td>\n",
              "      <td>2019-05-03 12:51:11</td>\n",
              "      <td>2019-05-03 12:46:36</td>\n",
              "    </tr>\n",
              "    <tr>\n",
              "      <th>4</th>\n",
              "      <td>5</td>\n",
              "      <td>NaN</td>\n",
              "      <td>NaN</td>\n",
              "      <td>NaN</td>\n",
              "      <td>2019-05-03 13:30:47</td>\n",
              "      <td>NaN</td>\n",
              "      <td>NaN</td>\n",
              "      <td>NaN</td>\n",
              "      <td>NaN</td>\n",
              "      <td>NaN</td>\n",
              "      <td>NaN</td>\n",
              "      <td>NaN</td>\n",
              "      <td>2019-05-03 13:30:47</td>\n",
              "      <td>NaN</td>\n",
              "      <td>2019-05-03 13:34:12</td>\n",
              "      <td>2019-05-03 13:30:47</td>\n",
              "    </tr>\n",
              "  </tbody>\n",
              "</table>\n",
              "</div>"
            ],
            "text/plain": [
              "   key Bulk_1 Bulk_2 Bulk_3               Bulk_4 Bulk_5 Bulk_6 Bulk_7 Bulk_8  \\\n",
              "0    1    NaN    NaN    NaN  2019-05-03 11:28:48    NaN    NaN    NaN    NaN   \n",
              "1    2    NaN    NaN    NaN  2019-05-03 11:36:50    NaN    NaN    NaN    NaN   \n",
              "2    3    NaN    NaN    NaN  2019-05-03 12:32:39    NaN    NaN    NaN    NaN   \n",
              "3    4    NaN    NaN    NaN  2019-05-03 12:43:22    NaN    NaN    NaN    NaN   \n",
              "4    5    NaN    NaN    NaN  2019-05-03 13:30:47    NaN    NaN    NaN    NaN   \n",
              "\n",
              "  Bulk_9 Bulk_10 Bulk_11              Bulk_12 Bulk_13              Bulk_14  \\\n",
              "0    NaN     NaN     NaN  2019-05-03 11:24:31     NaN  2019-05-03 11:14:50   \n",
              "1    NaN     NaN     NaN  2019-05-03 11:53:30     NaN  2019-05-03 11:48:37   \n",
              "2    NaN     NaN     NaN  2019-05-03 12:27:13     NaN  2019-05-03 12:21:01   \n",
              "3    NaN     NaN     NaN  2019-05-03 12:58:00     NaN  2019-05-03 12:51:11   \n",
              "4    NaN     NaN     NaN  2019-05-03 13:30:47     NaN  2019-05-03 13:34:12   \n",
              "\n",
              "               Bulk_15  \n",
              "0  2019-05-03 11:10:43  \n",
              "1  2019-05-03 11:44:39  \n",
              "2  2019-05-03 12:16:16  \n",
              "3  2019-05-03 12:46:36  \n",
              "4  2019-05-03 13:30:47  "
            ]
          },
          "metadata": {},
          "output_type": "display_data"
        },
        {
          "name": "stdout",
          "output_type": "stream",
          "text": [
            "<class 'pandas.core.frame.DataFrame'>\n",
            "RangeIndex: 3129 entries, 0 to 3128\n",
            "Data columns (total 16 columns):\n",
            " #   Column   Non-Null Count  Dtype \n",
            "---  ------   --------------  ----- \n",
            " 0   key      3129 non-null   int64 \n",
            " 1   Bulk_1   252 non-null    object\n",
            " 2   Bulk_2   22 non-null     object\n",
            " 3   Bulk_3   1298 non-null   object\n",
            " 4   Bulk_4   1014 non-null   object\n",
            " 5   Bulk_5   77 non-null     object\n",
            " 6   Bulk_6   576 non-null    object\n",
            " 7   Bulk_7   25 non-null     object\n",
            " 8   Bulk_8   1 non-null      object\n",
            " 9   Bulk_9   19 non-null     object\n",
            " 10  Bulk_10  176 non-null    object\n",
            " 11  Bulk_11  177 non-null    object\n",
            " 12  Bulk_12  2450 non-null   object\n",
            " 13  Bulk_13  18 non-null     object\n",
            " 14  Bulk_14  2806 non-null   object\n",
            " 15  Bulk_15  2248 non-null   object\n",
            "dtypes: int64(1), object(15)\n",
            "memory usage: 391.2+ KB\n"
          ]
        }
      ],
      "execution_count": 12
    },
    {
      "id": "3bc1bdfb",
      "cell_type": "markdown",
      "source": "Accordingly, the time data is also empty if there were no additives. Submission time data may not be taken into account in the problem.",
      "metadata": {}
    },
    {
      "id": "fd6c21a0",
      "cell_type": "markdown",
      "source": "**Data on alloy gas purging:**",
      "metadata": {}
    },
    {
      "id": "763cc699",
      "cell_type": "code",
      "source": "describe_data(data_gas_new,20, (5,5))\n",
      "metadata": {
        "scrolled": true
      },
      "outputs": [
        {
          "data": {
            "text/html": [
              "<div>\n",
              "<style scoped>\n",
              "    .dataframe tbody tr th:only-of-type {\n",
              "        vertical-align: middle;\n",
              "    }\n",
              "\n",
              "    .dataframe tbody tr th {\n",
              "        vertical-align: top;\n",
              "    }\n",
              "\n",
              "    .dataframe thead th {\n",
              "        text-align: right;\n",
              "    }\n",
              "</style>\n",
              "<table border=\"1\" class=\"dataframe\">\n",
              "  <thead>\n",
              "    <tr style=\"text-align: right;\">\n",
              "      <th></th>\n",
              "      <th>key</th>\n",
              "      <th>Газ 1</th>\n",
              "    </tr>\n",
              "  </thead>\n",
              "  <tbody>\n",
              "    <tr>\n",
              "      <th>0</th>\n",
              "      <td>1</td>\n",
              "      <td>29.749986</td>\n",
              "    </tr>\n",
              "    <tr>\n",
              "      <th>1</th>\n",
              "      <td>2</td>\n",
              "      <td>12.555561</td>\n",
              "    </tr>\n",
              "    <tr>\n",
              "      <th>2</th>\n",
              "      <td>3</td>\n",
              "      <td>28.554793</td>\n",
              "    </tr>\n",
              "    <tr>\n",
              "      <th>3</th>\n",
              "      <td>4</td>\n",
              "      <td>18.841219</td>\n",
              "    </tr>\n",
              "    <tr>\n",
              "      <th>4</th>\n",
              "      <td>5</td>\n",
              "      <td>5.413692</td>\n",
              "    </tr>\n",
              "    <tr>\n",
              "      <th>5</th>\n",
              "      <td>6</td>\n",
              "      <td>11.273392</td>\n",
              "    </tr>\n",
              "    <tr>\n",
              "      <th>6</th>\n",
              "      <td>7</td>\n",
              "      <td>9.836267</td>\n",
              "    </tr>\n",
              "    <tr>\n",
              "      <th>7</th>\n",
              "      <td>8</td>\n",
              "      <td>15.171553</td>\n",
              "    </tr>\n",
              "    <tr>\n",
              "      <th>8</th>\n",
              "      <td>9</td>\n",
              "      <td>8.216623</td>\n",
              "    </tr>\n",
              "    <tr>\n",
              "      <th>9</th>\n",
              "      <td>10</td>\n",
              "      <td>6.529891</td>\n",
              "    </tr>\n",
              "  </tbody>\n",
              "</table>\n",
              "</div>"
            ],
            "text/plain": [
              "   key      Газ 1\n",
              "0    1  29.749986\n",
              "1    2  12.555561\n",
              "2    3  28.554793\n",
              "3    4  18.841219\n",
              "4    5   5.413692\n",
              "5    6  11.273392\n",
              "6    7   9.836267\n",
              "7    8  15.171553\n",
              "8    9   8.216623\n",
              "9   10   6.529891"
            ]
          },
          "metadata": {},
          "output_type": "display_data"
        },
        {
          "name": "stdout",
          "output_type": "stream",
          "text": [
            "<class 'pandas.core.frame.DataFrame'>\n",
            "RangeIndex: 3239 entries, 0 to 3238\n",
            "Data columns (total 2 columns):\n",
            " #   Column  Non-Null Count  Dtype  \n",
            "---  ------  --------------  -----  \n",
            " 0   key     3239 non-null   int64  \n",
            " 1   Газ 1   3239 non-null   float64\n",
            "dtypes: float64(1), int64(1)\n",
            "memory usage: 50.7 KB\n"
          ]
        },
        {
          "data": {
            "text/html": [
              "<div>\n",
              "<style scoped>\n",
              "    .dataframe tbody tr th:only-of-type {\n",
              "        vertical-align: middle;\n",
              "    }\n",
              "\n",
              "    .dataframe tbody tr th {\n",
              "        vertical-align: top;\n",
              "    }\n",
              "\n",
              "    .dataframe thead th {\n",
              "        text-align: right;\n",
              "    }\n",
              "</style>\n",
              "<table border=\"1\" class=\"dataframe\">\n",
              "  <thead>\n",
              "    <tr style=\"text-align: right;\">\n",
              "      <th></th>\n",
              "      <th>key</th>\n",
              "      <th>Газ 1</th>\n",
              "    </tr>\n",
              "  </thead>\n",
              "  <tbody>\n",
              "    <tr>\n",
              "      <th>count</th>\n",
              "      <td>3239.000000</td>\n",
              "      <td>3239.000000</td>\n",
              "    </tr>\n",
              "    <tr>\n",
              "      <th>mean</th>\n",
              "      <td>1621.861377</td>\n",
              "      <td>11.002062</td>\n",
              "    </tr>\n",
              "    <tr>\n",
              "      <th>std</th>\n",
              "      <td>935.386334</td>\n",
              "      <td>6.220327</td>\n",
              "    </tr>\n",
              "    <tr>\n",
              "      <th>min</th>\n",
              "      <td>1.000000</td>\n",
              "      <td>0.008399</td>\n",
              "    </tr>\n",
              "    <tr>\n",
              "      <th>25%</th>\n",
              "      <td>812.500000</td>\n",
              "      <td>7.043089</td>\n",
              "    </tr>\n",
              "    <tr>\n",
              "      <th>50%</th>\n",
              "      <td>1622.000000</td>\n",
              "      <td>9.836267</td>\n",
              "    </tr>\n",
              "    <tr>\n",
              "      <th>75%</th>\n",
              "      <td>2431.500000</td>\n",
              "      <td>13.769915</td>\n",
              "    </tr>\n",
              "    <tr>\n",
              "      <th>max</th>\n",
              "      <td>3241.000000</td>\n",
              "      <td>77.995040</td>\n",
              "    </tr>\n",
              "  </tbody>\n",
              "</table>\n",
              "</div>"
            ],
            "text/plain": [
              "               key        Газ 1\n",
              "count  3239.000000  3239.000000\n",
              "mean   1621.861377    11.002062\n",
              "std     935.386334     6.220327\n",
              "min       1.000000     0.008399\n",
              "25%     812.500000     7.043089\n",
              "50%    1622.000000     9.836267\n",
              "75%    2431.500000    13.769915\n",
              "max    3241.000000    77.995040"
            ]
          },
          "metadata": {},
          "output_type": "display_data"
        },
        {
          "data": {
            "image/png": "[encoded data removed]",
            "text/plain": [
              "<Figure size 360x360 with 1 Axes>"
            ]
          },
          "metadata": {
            "needs_background": "light"
          },
          "output_type": "display_data"
        },
        {
          "data": {
            "image/png": "[encoded data removed]",
            "text/plain": [
              "<Figure size 432x288 with 1 Axes>"
            ]
          },
          "metadata": {
            "needs_background": "light"
          },
          "output_type": "display_data"
        }
      ],
      "execution_count": 13
    },
    {
      "id": "1408698a",
      "cell_type": "markdown",
      "source": "There are no gaps, the average value is about 10. Let's replace the column names.",
      "metadata": {}
    },
    {
      "id": "aab3e5fd",
      "cell_type": "code",
      "source": "data_gas_new= data_gas_new.rename(columns={'Газ 1':'Gas_1'})",
      "metadata": {
        "trusted": true
      },
      "outputs": [],
      "execution_count": null
    },
    {
      "id": "70d3218f",
      "cell_type": "markdown",
      "source": "**Temperature measurement results:**",
      "metadata": {}
    },
    {
      "id": "e5a6dbf0",
      "cell_type": "code",
      "source": "data_temp_new = data_temp_new.rename(columns={'Время замера':'measure_time', 'Температура':'temperature'})\n",
      "metadata": {},
      "outputs": [],
      "execution_count": 15
    },
    {
      "id": "d3f37e00",
      "cell_type": "code",
      "source": "describe_data(data_temp_new,30, (5,5))",
      "metadata": {
        "scrolled": true
      },
      "outputs": [
        {
          "data": {
            "text/html": [
              "<div>\n",
              "<style scoped>\n",
              "    .dataframe tbody tr th:only-of-type {\n",
              "        vertical-align: middle;\n",
              "    }\n",
              "\n",
              "    .dataframe tbody tr th {\n",
              "        vertical-align: top;\n",
              "    }\n",
              "\n",
              "    .dataframe thead th {\n",
              "        text-align: right;\n",
              "    }\n",
              "</style>\n",
              "<table border=\"1\" class=\"dataframe\">\n",
              "  <thead>\n",
              "    <tr style=\"text-align: right;\">\n",
              "      <th></th>\n",
              "      <th>key</th>\n",
              "      <th>measure_time</th>\n",
              "      <th>temperature</th>\n",
              "    </tr>\n",
              "  </thead>\n",
              "  <tbody>\n",
              "    <tr>\n",
              "      <th>0</th>\n",
              "      <td>1</td>\n",
              "      <td>2019-05-03 11:02:04</td>\n",
              "      <td>1571.0</td>\n",
              "    </tr>\n",
              "    <tr>\n",
              "      <th>1</th>\n",
              "      <td>1</td>\n",
              "      <td>2019-05-03 11:07:18</td>\n",
              "      <td>1604.0</td>\n",
              "    </tr>\n",
              "    <tr>\n",
              "      <th>2</th>\n",
              "      <td>1</td>\n",
              "      <td>2019-05-03 11:11:34</td>\n",
              "      <td>1618.0</td>\n",
              "    </tr>\n",
              "    <tr>\n",
              "      <th>3</th>\n",
              "      <td>1</td>\n",
              "      <td>2019-05-03 11:18:04</td>\n",
              "      <td>1601.0</td>\n",
              "    </tr>\n",
              "    <tr>\n",
              "      <th>4</th>\n",
              "      <td>1</td>\n",
              "      <td>2019-05-03 11:25:59</td>\n",
              "      <td>1606.0</td>\n",
              "    </tr>\n",
              "    <tr>\n",
              "      <th>5</th>\n",
              "      <td>1</td>\n",
              "      <td>2019-05-03 11:30:38</td>\n",
              "      <td>1613.0</td>\n",
              "    </tr>\n",
              "    <tr>\n",
              "      <th>6</th>\n",
              "      <td>2</td>\n",
              "      <td>2019-05-03 11:34:04</td>\n",
              "      <td>1581.0</td>\n",
              "    </tr>\n",
              "    <tr>\n",
              "      <th>7</th>\n",
              "      <td>2</td>\n",
              "      <td>2019-05-03 11:38:40</td>\n",
              "      <td>1577.0</td>\n",
              "    </tr>\n",
              "    <tr>\n",
              "      <th>8</th>\n",
              "      <td>2</td>\n",
              "      <td>2019-05-03 11:46:09</td>\n",
              "      <td>1589.0</td>\n",
              "    </tr>\n",
              "    <tr>\n",
              "      <th>9</th>\n",
              "      <td>2</td>\n",
              "      <td>2019-05-03 11:49:38</td>\n",
              "      <td>1604.0</td>\n",
              "    </tr>\n",
              "  </tbody>\n",
              "</table>\n",
              "</div>"
            ],
            "text/plain": [
              "   key         measure_time  temperature\n",
              "0    1  2019-05-03 11:02:04       1571.0\n",
              "1    1  2019-05-03 11:07:18       1604.0\n",
              "2    1  2019-05-03 11:11:34       1618.0\n",
              "3    1  2019-05-03 11:18:04       1601.0\n",
              "4    1  2019-05-03 11:25:59       1606.0\n",
              "5    1  2019-05-03 11:30:38       1613.0\n",
              "6    2  2019-05-03 11:34:04       1581.0\n",
              "7    2  2019-05-03 11:38:40       1577.0\n",
              "8    2  2019-05-03 11:46:09       1589.0\n",
              "9    2  2019-05-03 11:49:38       1604.0"
            ]
          },
          "metadata": {},
          "output_type": "display_data"
        },
        {
          "name": "stdout",
          "output_type": "stream",
          "text": [
            "<class 'pandas.core.frame.DataFrame'>\n",
            "RangeIndex: 18092 entries, 0 to 18091\n",
            "Data columns (total 3 columns):\n",
            " #   Column        Non-Null Count  Dtype  \n",
            "---  ------        --------------  -----  \n",
            " 0   key           18092 non-null  int64  \n",
            " 1   measure_time  18092 non-null  object \n",
            " 2   temperature   14665 non-null  float64\n",
            "dtypes: float64(1), int64(1), object(1)\n",
            "memory usage: 424.2+ KB\n"
          ]
        },
        {
          "data": {
            "text/html": [
              "<div>\n",
              "<style scoped>\n",
              "    .dataframe tbody tr th:only-of-type {\n",
              "        vertical-align: middle;\n",
              "    }\n",
              "\n",
              "    .dataframe tbody tr th {\n",
              "        vertical-align: top;\n",
              "    }\n",
              "\n",
              "    .dataframe thead th {\n",
              "        text-align: right;\n",
              "    }\n",
              "</style>\n",
              "<table border=\"1\" class=\"dataframe\">\n",
              "  <thead>\n",
              "    <tr style=\"text-align: right;\">\n",
              "      <th></th>\n",
              "      <th>key</th>\n",
              "      <th>temperature</th>\n",
              "    </tr>\n",
              "  </thead>\n",
              "  <tbody>\n",
              "    <tr>\n",
              "      <th>count</th>\n",
              "      <td>18092.000000</td>\n",
              "      <td>14665.000000</td>\n",
              "    </tr>\n",
              "    <tr>\n",
              "      <th>mean</th>\n",
              "      <td>1616.460977</td>\n",
              "      <td>1590.722741</td>\n",
              "    </tr>\n",
              "    <tr>\n",
              "      <th>std</th>\n",
              "      <td>934.641385</td>\n",
              "      <td>20.394381</td>\n",
              "    </tr>\n",
              "    <tr>\n",
              "      <th>min</th>\n",
              "      <td>1.000000</td>\n",
              "      <td>1191.000000</td>\n",
              "    </tr>\n",
              "    <tr>\n",
              "      <th>25%</th>\n",
              "      <td>807.750000</td>\n",
              "      <td>1580.000000</td>\n",
              "    </tr>\n",
              "    <tr>\n",
              "      <th>50%</th>\n",
              "      <td>1618.000000</td>\n",
              "      <td>1590.000000</td>\n",
              "    </tr>\n",
              "    <tr>\n",
              "      <th>75%</th>\n",
              "      <td>2429.000000</td>\n",
              "      <td>1599.000000</td>\n",
              "    </tr>\n",
              "    <tr>\n",
              "      <th>max</th>\n",
              "      <td>3241.000000</td>\n",
              "      <td>1705.000000</td>\n",
              "    </tr>\n",
              "  </tbody>\n",
              "</table>\n",
              "</div>"
            ],
            "text/plain": [
              "                key   temperature\n",
              "count  18092.000000  14665.000000\n",
              "mean    1616.460977   1590.722741\n",
              "std      934.641385     20.394381\n",
              "min        1.000000   1191.000000\n",
              "25%      807.750000   1580.000000\n",
              "50%     1618.000000   1590.000000\n",
              "75%     2429.000000   1599.000000\n",
              "max     3241.000000   1705.000000"
            ]
          },
          "metadata": {},
          "output_type": "display_data"
        },
        {
          "data": {
            "image/png": "[encoded data removed]",
            "text/plain": [
              "<Figure size 360x360 with 1 Axes>"
            ]
          },
          "metadata": {
            "needs_background": "light"
          },
          "output_type": "display_data"
        },
        {
          "data": {
            "image/png": "[encoded data removed]",
            "text/plain": [
              "<Figure size 432x288 with 1 Axes>"
            ]
          },
          "metadata": {
            "needs_background": "light"
          },
          "output_type": "display_data"
        }
      ],
      "execution_count": 16
    },
    {
      "id": "2cdedac7",
      "cell_type": "code",
      "source": "data_temp_new.groupby('key')['temperature'].count().hist(bins=25)\nplt.show()",
      "metadata": {},
      "outputs": [
        {
          "data": {
            "image/png": "[encoded data removed]",
            "text/plain": [
              "<Figure size 432x288 with 1 Axes>"
            ]
          },
          "metadata": {
            "needs_background": "light"
          },
          "output_type": "display_data"
        }
      ],
      "execution_count": 17
    },
    {
      "id": "477cbe09",
      "cell_type": "code",
      "source": "data_temp_new['temperature'].isna().sum()",
      "metadata": {
        "scrolled": true
      },
      "outputs": [
        {
          "data": {
            "text/plain": [
              "3427"
            ]
          },
          "execution_count": 18,
          "metadata": {},
          "output_type": "execute_result"
        }
      ],
      "execution_count": 18
    },
    {
      "id": "22bd4007",
      "cell_type": "markdown",
      "source": "Temperature measurements at iterations are given for each batch. Quite a lot of gaps for temperature were found here, since this is the target attribute, you need to delete the lines with these gaps. There are also emissions in the region of 1200 degrees, the melting point of steel is much higher, so we delete these lines too.",
      "metadata": {}
    },
    {
      "id": "c5070548",
      "cell_type": "code",
      "source": "data_temp_new = data_temp_new.query('temperature>1500')\ndata_temp_new = data_temp_new.dropna()\n#проверка на пропуски:\ndata_temp_new['temperature'].isna().sum()",
      "metadata": {
        "scrolled": true
      },
      "outputs": [
        {
          "data": {
            "text/plain": [
              "0"
            ]
          },
          "execution_count": 19,
          "metadata": {},
          "output_type": "execute_result"
        }
      ],
      "execution_count": 19
    },
    {
      "id": "8052b457",
      "cell_type": "code",
      "source": "data_temp_new['measure_time'] = pd.to_datetime(\n    data_temp_new['measure_time'], format='%Y-%m-%dT%H:%M:%S' )",
      "metadata": {},
      "outputs": [],
      "execution_count": 20
    },
    {
      "id": "0a969a52",
      "cell_type": "markdown",
      "source": "**Data on wire materials (volume):**",
      "metadata": {}
    },
    {
      "id": "c6713c8d",
      "cell_type": "code",
      "source": "describe_data(data_wire_new, 20, (10,7))\n",
      "metadata": {},
      "outputs": [
        {
          "data": {
            "text/html": [
              "<div>\n",
              "<style scoped>\n",
              "    .dataframe tbody tr th:only-of-type {\n",
              "        vertical-align: middle;\n",
              "    }\n",
              "\n",
              "    .dataframe tbody tr th {\n",
              "        vertical-align: top;\n",
              "    }\n",
              "\n",
              "    .dataframe thead th {\n",
              "        text-align: right;\n",
              "    }\n",
              "</style>\n",
              "<table border=\"1\" class=\"dataframe\">\n",
              "  <thead>\n",
              "    <tr style=\"text-align: right;\">\n",
              "      <th></th>\n",
              "      <th>key</th>\n",
              "      <th>Wire 1</th>\n",
              "      <th>Wire 2</th>\n",
              "      <th>Wire 3</th>\n",
              "      <th>Wire 4</th>\n",
              "      <th>Wire 5</th>\n",
              "      <th>Wire 6</th>\n",
              "      <th>Wire 7</th>\n",
              "      <th>Wire 8</th>\n",
              "      <th>Wire 9</th>\n",
              "    </tr>\n",
              "  </thead>\n",
              "  <tbody>\n",
              "    <tr>\n",
              "      <th>0</th>\n",
              "      <td>1</td>\n",
              "      <td>60.059998</td>\n",
              "      <td>NaN</td>\n",
              "      <td>NaN</td>\n",
              "      <td>NaN</td>\n",
              "      <td>NaN</td>\n",
              "      <td>NaN</td>\n",
              "      <td>NaN</td>\n",
              "      <td>NaN</td>\n",
              "      <td>NaN</td>\n",
              "    </tr>\n",
              "    <tr>\n",
              "      <th>1</th>\n",
              "      <td>2</td>\n",
              "      <td>96.052315</td>\n",
              "      <td>NaN</td>\n",
              "      <td>NaN</td>\n",
              "      <td>NaN</td>\n",
              "      <td>NaN</td>\n",
              "      <td>NaN</td>\n",
              "      <td>NaN</td>\n",
              "      <td>NaN</td>\n",
              "      <td>NaN</td>\n",
              "    </tr>\n",
              "    <tr>\n",
              "      <th>2</th>\n",
              "      <td>3</td>\n",
              "      <td>91.160157</td>\n",
              "      <td>NaN</td>\n",
              "      <td>NaN</td>\n",
              "      <td>NaN</td>\n",
              "      <td>NaN</td>\n",
              "      <td>NaN</td>\n",
              "      <td>NaN</td>\n",
              "      <td>NaN</td>\n",
              "      <td>NaN</td>\n",
              "    </tr>\n",
              "    <tr>\n",
              "      <th>3</th>\n",
              "      <td>4</td>\n",
              "      <td>89.063515</td>\n",
              "      <td>NaN</td>\n",
              "      <td>NaN</td>\n",
              "      <td>NaN</td>\n",
              "      <td>NaN</td>\n",
              "      <td>NaN</td>\n",
              "      <td>NaN</td>\n",
              "      <td>NaN</td>\n",
              "      <td>NaN</td>\n",
              "    </tr>\n",
              "    <tr>\n",
              "      <th>4</th>\n",
              "      <td>5</td>\n",
              "      <td>89.238236</td>\n",
              "      <td>9.114560</td>\n",
              "      <td>NaN</td>\n",
              "      <td>NaN</td>\n",
              "      <td>NaN</td>\n",
              "      <td>NaN</td>\n",
              "      <td>NaN</td>\n",
              "      <td>NaN</td>\n",
              "      <td>NaN</td>\n",
              "    </tr>\n",
              "    <tr>\n",
              "      <th>5</th>\n",
              "      <td>6</td>\n",
              "      <td>99.109917</td>\n",
              "      <td>9.114560</td>\n",
              "      <td>NaN</td>\n",
              "      <td>NaN</td>\n",
              "      <td>NaN</td>\n",
              "      <td>NaN</td>\n",
              "      <td>NaN</td>\n",
              "      <td>NaN</td>\n",
              "      <td>NaN</td>\n",
              "    </tr>\n",
              "    <tr>\n",
              "      <th>6</th>\n",
              "      <td>7</td>\n",
              "      <td>98.061600</td>\n",
              "      <td>NaN</td>\n",
              "      <td>NaN</td>\n",
              "      <td>NaN</td>\n",
              "      <td>NaN</td>\n",
              "      <td>NaN</td>\n",
              "      <td>NaN</td>\n",
              "      <td>NaN</td>\n",
              "      <td>NaN</td>\n",
              "    </tr>\n",
              "    <tr>\n",
              "      <th>7</th>\n",
              "      <td>8</td>\n",
              "      <td>155.282394</td>\n",
              "      <td>NaN</td>\n",
              "      <td>NaN</td>\n",
              "      <td>NaN</td>\n",
              "      <td>NaN</td>\n",
              "      <td>NaN</td>\n",
              "      <td>NaN</td>\n",
              "      <td>NaN</td>\n",
              "      <td>NaN</td>\n",
              "    </tr>\n",
              "    <tr>\n",
              "      <th>8</th>\n",
              "      <td>9</td>\n",
              "      <td>113.393279</td>\n",
              "      <td>9.143681</td>\n",
              "      <td>NaN</td>\n",
              "      <td>NaN</td>\n",
              "      <td>NaN</td>\n",
              "      <td>NaN</td>\n",
              "      <td>NaN</td>\n",
              "      <td>NaN</td>\n",
              "      <td>NaN</td>\n",
              "    </tr>\n",
              "    <tr>\n",
              "      <th>9</th>\n",
              "      <td>10</td>\n",
              "      <td>81.244796</td>\n",
              "      <td>12.376000</td>\n",
              "      <td>NaN</td>\n",
              "      <td>NaN</td>\n",
              "      <td>NaN</td>\n",
              "      <td>NaN</td>\n",
              "      <td>NaN</td>\n",
              "      <td>NaN</td>\n",
              "      <td>NaN</td>\n",
              "    </tr>\n",
              "  </tbody>\n",
              "</table>\n",
              "</div>"
            ],
            "text/plain": [
              "   key      Wire 1     Wire 2  Wire 3  Wire 4  Wire 5  Wire 6  Wire 7  Wire 8  \\\n",
              "0    1   60.059998        NaN     NaN     NaN     NaN     NaN     NaN     NaN   \n",
              "1    2   96.052315        NaN     NaN     NaN     NaN     NaN     NaN     NaN   \n",
              "2    3   91.160157        NaN     NaN     NaN     NaN     NaN     NaN     NaN   \n",
              "3    4   89.063515        NaN     NaN     NaN     NaN     NaN     NaN     NaN   \n",
              "4    5   89.238236   9.114560     NaN     NaN     NaN     NaN     NaN     NaN   \n",
              "5    6   99.109917   9.114560     NaN     NaN     NaN     NaN     NaN     NaN   \n",
              "6    7   98.061600        NaN     NaN     NaN     NaN     NaN     NaN     NaN   \n",
              "7    8  155.282394        NaN     NaN     NaN     NaN     NaN     NaN     NaN   \n",
              "8    9  113.393279   9.143681     NaN     NaN     NaN     NaN     NaN     NaN   \n",
              "9   10   81.244796  12.376000     NaN     NaN     NaN     NaN     NaN     NaN   \n",
              "\n",
              "   Wire 9  \n",
              "0     NaN  \n",
              "1     NaN  \n",
              "2     NaN  \n",
              "3     NaN  \n",
              "4     NaN  \n",
              "5     NaN  \n",
              "6     NaN  \n",
              "7     NaN  \n",
              "8     NaN  \n",
              "9     NaN  "
            ]
          },
          "metadata": {},
          "output_type": "display_data"
        },
        {
          "name": "stdout",
          "output_type": "stream",
          "text": [
            "<class 'pandas.core.frame.DataFrame'>\n",
            "RangeIndex: 3081 entries, 0 to 3080\n",
            "Data columns (total 10 columns):\n",
            " #   Column  Non-Null Count  Dtype  \n",
            "---  ------  --------------  -----  \n",
            " 0   key     3081 non-null   int64  \n",
            " 1   Wire 1  3055 non-null   float64\n",
            " 2   Wire 2  1079 non-null   float64\n",
            " 3   Wire 3  63 non-null     float64\n",
            " 4   Wire 4  14 non-null     float64\n",
            " 5   Wire 5  1 non-null      float64\n",
            " 6   Wire 6  73 non-null     float64\n",
            " 7   Wire 7  11 non-null     float64\n",
            " 8   Wire 8  19 non-null     float64\n",
            " 9   Wire 9  29 non-null     float64\n",
            "dtypes: float64(9), int64(1)\n",
            "memory usage: 240.8 KB\n"
          ]
        },
        {
          "data": {
            "text/html": [
              "<div>\n",
              "<style scoped>\n",
              "    .dataframe tbody tr th:only-of-type {\n",
              "        vertical-align: middle;\n",
              "    }\n",
              "\n",
              "    .dataframe tbody tr th {\n",
              "        vertical-align: top;\n",
              "    }\n",
              "\n",
              "    .dataframe thead th {\n",
              "        text-align: right;\n",
              "    }\n",
              "</style>\n",
              "<table border=\"1\" class=\"dataframe\">\n",
              "  <thead>\n",
              "    <tr style=\"text-align: right;\">\n",
              "      <th></th>\n",
              "      <th>key</th>\n",
              "      <th>Wire 1</th>\n",
              "      <th>Wire 2</th>\n",
              "      <th>Wire 3</th>\n",
              "      <th>Wire 4</th>\n",
              "      <th>Wire 5</th>\n",
              "      <th>Wire 6</th>\n",
              "      <th>Wire 7</th>\n",
              "      <th>Wire 8</th>\n",
              "      <th>Wire 9</th>\n",
              "    </tr>\n",
              "  </thead>\n",
              "  <tbody>\n",
              "    <tr>\n",
              "      <th>count</th>\n",
              "      <td>3081.000000</td>\n",
              "      <td>3055.000000</td>\n",
              "      <td>1079.000000</td>\n",
              "      <td>63.000000</td>\n",
              "      <td>14.000000</td>\n",
              "      <td>1.000</td>\n",
              "      <td>73.000000</td>\n",
              "      <td>11.000000</td>\n",
              "      <td>19.000000</td>\n",
              "      <td>29.000000</td>\n",
              "    </tr>\n",
              "    <tr>\n",
              "      <th>mean</th>\n",
              "      <td>1623.426485</td>\n",
              "      <td>100.895853</td>\n",
              "      <td>50.577323</td>\n",
              "      <td>189.482681</td>\n",
              "      <td>57.442841</td>\n",
              "      <td>15.132</td>\n",
              "      <td>48.016974</td>\n",
              "      <td>10.039007</td>\n",
              "      <td>53.625193</td>\n",
              "      <td>34.155752</td>\n",
              "    </tr>\n",
              "    <tr>\n",
              "      <th>std</th>\n",
              "      <td>932.996726</td>\n",
              "      <td>42.012518</td>\n",
              "      <td>39.320216</td>\n",
              "      <td>99.513444</td>\n",
              "      <td>28.824667</td>\n",
              "      <td>NaN</td>\n",
              "      <td>33.919845</td>\n",
              "      <td>8.610584</td>\n",
              "      <td>16.881728</td>\n",
              "      <td>19.931616</td>\n",
              "    </tr>\n",
              "    <tr>\n",
              "      <th>min</th>\n",
              "      <td>1.000000</td>\n",
              "      <td>1.918800</td>\n",
              "      <td>0.030160</td>\n",
              "      <td>0.144144</td>\n",
              "      <td>24.148801</td>\n",
              "      <td>15.132</td>\n",
              "      <td>0.034320</td>\n",
              "      <td>0.234208</td>\n",
              "      <td>45.076721</td>\n",
              "      <td>4.622800</td>\n",
              "    </tr>\n",
              "    <tr>\n",
              "      <th>25%</th>\n",
              "      <td>823.000000</td>\n",
              "      <td>72.115684</td>\n",
              "      <td>20.193680</td>\n",
              "      <td>95.135044</td>\n",
              "      <td>40.807002</td>\n",
              "      <td>15.132</td>\n",
              "      <td>25.053600</td>\n",
              "      <td>6.762756</td>\n",
              "      <td>46.094879</td>\n",
              "      <td>22.058401</td>\n",
              "    </tr>\n",
              "    <tr>\n",
              "      <th>50%</th>\n",
              "      <td>1619.000000</td>\n",
              "      <td>100.158234</td>\n",
              "      <td>40.142956</td>\n",
              "      <td>235.194977</td>\n",
              "      <td>45.234282</td>\n",
              "      <td>15.132</td>\n",
              "      <td>42.076324</td>\n",
              "      <td>9.017009</td>\n",
              "      <td>46.279999</td>\n",
              "      <td>30.066399</td>\n",
              "    </tr>\n",
              "    <tr>\n",
              "      <th>75%</th>\n",
              "      <td>2434.000000</td>\n",
              "      <td>126.060483</td>\n",
              "      <td>70.227558</td>\n",
              "      <td>276.252014</td>\n",
              "      <td>76.124619</td>\n",
              "      <td>15.132</td>\n",
              "      <td>64.212723</td>\n",
              "      <td>11.886057</td>\n",
              "      <td>48.089603</td>\n",
              "      <td>43.862003</td>\n",
              "    </tr>\n",
              "    <tr>\n",
              "      <th>max</th>\n",
              "      <td>3241.000000</td>\n",
              "      <td>330.314424</td>\n",
              "      <td>282.780152</td>\n",
              "      <td>385.008668</td>\n",
              "      <td>113.231044</td>\n",
              "      <td>15.132</td>\n",
              "      <td>180.454575</td>\n",
              "      <td>32.847674</td>\n",
              "      <td>102.762401</td>\n",
              "      <td>90.053604</td>\n",
              "    </tr>\n",
              "  </tbody>\n",
              "</table>\n",
              "</div>"
            ],
            "text/plain": [
              "               key       Wire 1       Wire 2      Wire 3      Wire 4  Wire 5  \\\n",
              "count  3081.000000  3055.000000  1079.000000   63.000000   14.000000   1.000   \n",
              "mean   1623.426485   100.895853    50.577323  189.482681   57.442841  15.132   \n",
              "std     932.996726    42.012518    39.320216   99.513444   28.824667     NaN   \n",
              "min       1.000000     1.918800     0.030160    0.144144   24.148801  15.132   \n",
              "25%     823.000000    72.115684    20.193680   95.135044   40.807002  15.132   \n",
              "50%    1619.000000   100.158234    40.142956  235.194977   45.234282  15.132   \n",
              "75%    2434.000000   126.060483    70.227558  276.252014   76.124619  15.132   \n",
              "max    3241.000000   330.314424   282.780152  385.008668  113.231044  15.132   \n",
              "\n",
              "           Wire 6     Wire 7      Wire 8     Wire 9  \n",
              "count   73.000000  11.000000   19.000000  29.000000  \n",
              "mean    48.016974  10.039007   53.625193  34.155752  \n",
              "std     33.919845   8.610584   16.881728  19.931616  \n",
              "min      0.034320   0.234208   45.076721   4.622800  \n",
              "25%     25.053600   6.762756   46.094879  22.058401  \n",
              "50%     42.076324   9.017009   46.279999  30.066399  \n",
              "75%     64.212723  11.886057   48.089603  43.862003  \n",
              "max    180.454575  32.847674  102.762401  90.053604  "
            ]
          },
          "metadata": {},
          "output_type": "display_data"
        },
        {
          "data": {
            "image/png": "[encoded data removed]",
            "text/plain": [
              "<Figure size 720x504 with 9 Axes>"
            ]
          },
          "metadata": {
            "needs_background": "light"
          },
          "output_type": "display_data"
        },
        {
          "data": {
            "image/png": "[encoded data removed]",
            "text/plain": [
              "<Figure size 432x288 with 1 Axes>"
            ]
          },
          "metadata": {
            "needs_background": "light"
          },
          "output_type": "display_data"
        }
      ],
      "execution_count": 21
    },
    {
      "id": "c0cb02fd",
      "cell_type": "markdown",
      "source": "Here you can also replace spaces with 0.\n",
      "metadata": {}
    },
    {
      "id": "58fe9ef6",
      "cell_type": "code",
      "source": "data_wire_new = data_wire_new.fillna(0)\ndata_wire_new.columns = data_wire_new.columns.str.replace(' ', '_')\ndata_wire_new.head()",
      "metadata": {
        "scrolled": true
      },
      "outputs": [
        {
          "data": {
            "text/html": [
              "<div>\n",
              "<style scoped>\n",
              "    .dataframe tbody tr th:only-of-type {\n",
              "        vertical-align: middle;\n",
              "    }\n",
              "\n",
              "    .dataframe tbody tr th {\n",
              "        vertical-align: top;\n",
              "    }\n",
              "\n",
              "    .dataframe thead th {\n",
              "        text-align: right;\n",
              "    }\n",
              "</style>\n",
              "<table border=\"1\" class=\"dataframe\">\n",
              "  <thead>\n",
              "    <tr style=\"text-align: right;\">\n",
              "      <th></th>\n",
              "      <th>key</th>\n",
              "      <th>Wire_1</th>\n",
              "      <th>Wire_2</th>\n",
              "      <th>Wire_3</th>\n",
              "      <th>Wire_4</th>\n",
              "      <th>Wire_5</th>\n",
              "      <th>Wire_6</th>\n",
              "      <th>Wire_7</th>\n",
              "      <th>Wire_8</th>\n",
              "      <th>Wire_9</th>\n",
              "    </tr>\n",
              "  </thead>\n",
              "  <tbody>\n",
              "    <tr>\n",
              "      <th>0</th>\n",
              "      <td>1</td>\n",
              "      <td>60.059998</td>\n",
              "      <td>0.00000</td>\n",
              "      <td>0.0</td>\n",
              "      <td>0.0</td>\n",
              "      <td>0.0</td>\n",
              "      <td>0.0</td>\n",
              "      <td>0.0</td>\n",
              "      <td>0.0</td>\n",
              "      <td>0.0</td>\n",
              "    </tr>\n",
              "    <tr>\n",
              "      <th>1</th>\n",
              "      <td>2</td>\n",
              "      <td>96.052315</td>\n",
              "      <td>0.00000</td>\n",
              "      <td>0.0</td>\n",
              "      <td>0.0</td>\n",
              "      <td>0.0</td>\n",
              "      <td>0.0</td>\n",
              "      <td>0.0</td>\n",
              "      <td>0.0</td>\n",
              "      <td>0.0</td>\n",
              "    </tr>\n",
              "    <tr>\n",
              "      <th>2</th>\n",
              "      <td>3</td>\n",
              "      <td>91.160157</td>\n",
              "      <td>0.00000</td>\n",
              "      <td>0.0</td>\n",
              "      <td>0.0</td>\n",
              "      <td>0.0</td>\n",
              "      <td>0.0</td>\n",
              "      <td>0.0</td>\n",
              "      <td>0.0</td>\n",
              "      <td>0.0</td>\n",
              "    </tr>\n",
              "    <tr>\n",
              "      <th>3</th>\n",
              "      <td>4</td>\n",
              "      <td>89.063515</td>\n",
              "      <td>0.00000</td>\n",
              "      <td>0.0</td>\n",
              "      <td>0.0</td>\n",
              "      <td>0.0</td>\n",
              "      <td>0.0</td>\n",
              "      <td>0.0</td>\n",
              "      <td>0.0</td>\n",
              "      <td>0.0</td>\n",
              "    </tr>\n",
              "    <tr>\n",
              "      <th>4</th>\n",
              "      <td>5</td>\n",
              "      <td>89.238236</td>\n",
              "      <td>9.11456</td>\n",
              "      <td>0.0</td>\n",
              "      <td>0.0</td>\n",
              "      <td>0.0</td>\n",
              "      <td>0.0</td>\n",
              "      <td>0.0</td>\n",
              "      <td>0.0</td>\n",
              "      <td>0.0</td>\n",
              "    </tr>\n",
              "  </tbody>\n",
              "</table>\n",
              "</div>"
            ],
            "text/plain": [
              "   key     Wire_1   Wire_2  Wire_3  Wire_4  Wire_5  Wire_6  Wire_7  Wire_8  \\\n",
              "0    1  60.059998  0.00000     0.0     0.0     0.0     0.0     0.0     0.0   \n",
              "1    2  96.052315  0.00000     0.0     0.0     0.0     0.0     0.0     0.0   \n",
              "2    3  91.160157  0.00000     0.0     0.0     0.0     0.0     0.0     0.0   \n",
              "3    4  89.063515  0.00000     0.0     0.0     0.0     0.0     0.0     0.0   \n",
              "4    5  89.238236  9.11456     0.0     0.0     0.0     0.0     0.0     0.0   \n",
              "\n",
              "   Wire_9  \n",
              "0     0.0  \n",
              "1     0.0  \n",
              "2     0.0  \n",
              "3     0.0  \n",
              "4     0.0  "
            ]
          },
          "execution_count": 22,
          "metadata": {},
          "output_type": "execute_result"
        }
      ],
      "execution_count": 22
    },
    {
      "id": "93620fad",
      "cell_type": "code",
      "source": "data_wire_sorted = (data_wire_new.drop('key',axis=1).sum())\ndata_wire_sorted= pd.DataFrame(data=data_wire_sorted, columns=['Vol'] ).sort_values(by ='Vol', ascending=False)\ndata_wire_sorted",
      "metadata": {},
      "outputs": [
        {
          "data": {
            "text/html": [
              "<div>\n",
              "<style scoped>\n",
              "    .dataframe tbody tr th:only-of-type {\n",
              "        vertical-align: middle;\n",
              "    }\n",
              "\n",
              "    .dataframe tbody tr th {\n",
              "        vertical-align: top;\n",
              "    }\n",
              "\n",
              "    .dataframe thead th {\n",
              "        text-align: right;\n",
              "    }\n",
              "</style>\n",
              "<table border=\"1\" class=\"dataframe\">\n",
              "  <thead>\n",
              "    <tr style=\"text-align: right;\">\n",
              "      <th></th>\n",
              "      <th>Vol</th>\n",
              "    </tr>\n",
              "  </thead>\n",
              "  <tbody>\n",
              "    <tr>\n",
              "      <th>Wire_1</th>\n",
              "      <td>308236.830606</td>\n",
              "    </tr>\n",
              "    <tr>\n",
              "      <th>Wire_2</th>\n",
              "      <td>54572.931650</td>\n",
              "    </tr>\n",
              "    <tr>\n",
              "      <th>Wire_3</th>\n",
              "      <td>11937.408916</td>\n",
              "    </tr>\n",
              "    <tr>\n",
              "      <th>Wire_6</th>\n",
              "      <td>3505.239099</td>\n",
              "    </tr>\n",
              "    <tr>\n",
              "      <th>Wire_8</th>\n",
              "      <td>1018.878666</td>\n",
              "    </tr>\n",
              "    <tr>\n",
              "      <th>Wire_9</th>\n",
              "      <td>990.516814</td>\n",
              "    </tr>\n",
              "    <tr>\n",
              "      <th>Wire_4</th>\n",
              "      <td>804.199781</td>\n",
              "    </tr>\n",
              "    <tr>\n",
              "      <th>Wire_7</th>\n",
              "      <td>110.429080</td>\n",
              "    </tr>\n",
              "    <tr>\n",
              "      <th>Wire_5</th>\n",
              "      <td>15.132000</td>\n",
              "    </tr>\n",
              "  </tbody>\n",
              "</table>\n",
              "</div>"
            ],
            "text/plain": [
              "                  Vol\n",
              "Wire_1  308236.830606\n",
              "Wire_2   54572.931650\n",
              "Wire_3   11937.408916\n",
              "Wire_6    3505.239099\n",
              "Wire_8    1018.878666\n",
              "Wire_9     990.516814\n",
              "Wire_4     804.199781\n",
              "Wire_7     110.429080\n",
              "Wire_5      15.132000"
            ]
          },
          "execution_count": 23,
          "metadata": {},
          "output_type": "execute_result"
        }
      ],
      "execution_count": 23
    },
    {
      "id": "1f5572f3",
      "cell_type": "markdown",
      "source": "Let's remove types of material for which there is very little data - Wire 5, 4, 7, 8, 9.",
      "metadata": {}
    },
    {
      "id": "06a41e31",
      "cell_type": "code",
      "source": "data_wire_new = data_wire_new.drop(['Wire_5','Wire_4', 'Wire_7','Wire_8','Wire_9'],axis=1)",
      "metadata": {},
      "outputs": [],
      "execution_count": 24
    },
    {
      "id": "1c6a8d36",
      "cell_type": "markdown",
      "source": "**Data on the introduction of wire materials (time):**",
      "metadata": {}
    },
    {
      "id": "7c237153",
      "cell_type": "code",
      "source": "data_wire_time_new.columns = data_wire_time_new.columns.str.replace(' ', '_')\ndisplay(data_wire_time_new.head(10))\ndata_wire_time_new.info()",
      "metadata": {},
      "outputs": [
        {
          "data": {
            "text/html": [
              "<div>\n",
              "<style scoped>\n",
              "    .dataframe tbody tr th:only-of-type {\n",
              "        vertical-align: middle;\n",
              "    }\n",
              "\n",
              "    .dataframe tbody tr th {\n",
              "        vertical-align: top;\n",
              "    }\n",
              "\n",
              "    .dataframe thead th {\n",
              "        text-align: right;\n",
              "    }\n",
              "</style>\n",
              "<table border=\"1\" class=\"dataframe\">\n",
              "  <thead>\n",
              "    <tr style=\"text-align: right;\">\n",
              "      <th></th>\n",
              "      <th>key</th>\n",
              "      <th>Wire_1</th>\n",
              "      <th>Wire_2</th>\n",
              "      <th>Wire_3</th>\n",
              "      <th>Wire_4</th>\n",
              "      <th>Wire_5</th>\n",
              "      <th>Wire_6</th>\n",
              "      <th>Wire_7</th>\n",
              "      <th>Wire_8</th>\n",
              "      <th>Wire_9</th>\n",
              "    </tr>\n",
              "  </thead>\n",
              "  <tbody>\n",
              "    <tr>\n",
              "      <th>0</th>\n",
              "      <td>1</td>\n",
              "      <td>2019-05-03 11:06:19</td>\n",
              "      <td>NaN</td>\n",
              "      <td>NaN</td>\n",
              "      <td>NaN</td>\n",
              "      <td>NaN</td>\n",
              "      <td>NaN</td>\n",
              "      <td>NaN</td>\n",
              "      <td>NaN</td>\n",
              "      <td>NaN</td>\n",
              "    </tr>\n",
              "    <tr>\n",
              "      <th>1</th>\n",
              "      <td>2</td>\n",
              "      <td>2019-05-03 11:36:50</td>\n",
              "      <td>NaN</td>\n",
              "      <td>NaN</td>\n",
              "      <td>NaN</td>\n",
              "      <td>NaN</td>\n",
              "      <td>NaN</td>\n",
              "      <td>NaN</td>\n",
              "      <td>NaN</td>\n",
              "      <td>NaN</td>\n",
              "    </tr>\n",
              "    <tr>\n",
              "      <th>2</th>\n",
              "      <td>3</td>\n",
              "      <td>2019-05-03 12:11:46</td>\n",
              "      <td>NaN</td>\n",
              "      <td>NaN</td>\n",
              "      <td>NaN</td>\n",
              "      <td>NaN</td>\n",
              "      <td>NaN</td>\n",
              "      <td>NaN</td>\n",
              "      <td>NaN</td>\n",
              "      <td>NaN</td>\n",
              "    </tr>\n",
              "    <tr>\n",
              "      <th>3</th>\n",
              "      <td>4</td>\n",
              "      <td>2019-05-03 12:43:22</td>\n",
              "      <td>NaN</td>\n",
              "      <td>NaN</td>\n",
              "      <td>NaN</td>\n",
              "      <td>NaN</td>\n",
              "      <td>NaN</td>\n",
              "      <td>NaN</td>\n",
              "      <td>NaN</td>\n",
              "      <td>NaN</td>\n",
              "    </tr>\n",
              "    <tr>\n",
              "      <th>4</th>\n",
              "      <td>5</td>\n",
              "      <td>2019-05-03 13:20:44</td>\n",
              "      <td>2019-05-03 13:15:34</td>\n",
              "      <td>NaN</td>\n",
              "      <td>NaN</td>\n",
              "      <td>NaN</td>\n",
              "      <td>NaN</td>\n",
              "      <td>NaN</td>\n",
              "      <td>NaN</td>\n",
              "      <td>NaN</td>\n",
              "    </tr>\n",
              "    <tr>\n",
              "      <th>5</th>\n",
              "      <td>6</td>\n",
              "      <td>2019-05-03 13:57:27</td>\n",
              "      <td>2019-05-03 13:48:52</td>\n",
              "      <td>NaN</td>\n",
              "      <td>NaN</td>\n",
              "      <td>NaN</td>\n",
              "      <td>NaN</td>\n",
              "      <td>NaN</td>\n",
              "      <td>NaN</td>\n",
              "      <td>NaN</td>\n",
              "    </tr>\n",
              "    <tr>\n",
              "      <th>6</th>\n",
              "      <td>7</td>\n",
              "      <td>2019-05-03 14:18:58</td>\n",
              "      <td>NaN</td>\n",
              "      <td>NaN</td>\n",
              "      <td>NaN</td>\n",
              "      <td>NaN</td>\n",
              "      <td>NaN</td>\n",
              "      <td>NaN</td>\n",
              "      <td>NaN</td>\n",
              "      <td>NaN</td>\n",
              "    </tr>\n",
              "    <tr>\n",
              "      <th>7</th>\n",
              "      <td>8</td>\n",
              "      <td>2019-05-03 15:01:30</td>\n",
              "      <td>NaN</td>\n",
              "      <td>NaN</td>\n",
              "      <td>NaN</td>\n",
              "      <td>NaN</td>\n",
              "      <td>NaN</td>\n",
              "      <td>NaN</td>\n",
              "      <td>NaN</td>\n",
              "      <td>NaN</td>\n",
              "    </tr>\n",
              "    <tr>\n",
              "      <th>8</th>\n",
              "      <td>9</td>\n",
              "      <td>2019-05-03 15:45:44</td>\n",
              "      <td>2019-05-03 15:39:37</td>\n",
              "      <td>NaN</td>\n",
              "      <td>NaN</td>\n",
              "      <td>NaN</td>\n",
              "      <td>NaN</td>\n",
              "      <td>NaN</td>\n",
              "      <td>NaN</td>\n",
              "      <td>NaN</td>\n",
              "    </tr>\n",
              "    <tr>\n",
              "      <th>9</th>\n",
              "      <td>10</td>\n",
              "      <td>2019-05-03 16:27:00</td>\n",
              "      <td>2019-05-03 16:22:36</td>\n",
              "      <td>NaN</td>\n",
              "      <td>NaN</td>\n",
              "      <td>NaN</td>\n",
              "      <td>NaN</td>\n",
              "      <td>NaN</td>\n",
              "      <td>NaN</td>\n",
              "      <td>NaN</td>\n",
              "    </tr>\n",
              "  </tbody>\n",
              "</table>\n",
              "</div>"
            ],
            "text/plain": [
              "   key               Wire_1               Wire_2 Wire_3 Wire_4 Wire_5 Wire_6  \\\n",
              "0    1  2019-05-03 11:06:19                  NaN    NaN    NaN    NaN    NaN   \n",
              "1    2  2019-05-03 11:36:50                  NaN    NaN    NaN    NaN    NaN   \n",
              "2    3  2019-05-03 12:11:46                  NaN    NaN    NaN    NaN    NaN   \n",
              "3    4  2019-05-03 12:43:22                  NaN    NaN    NaN    NaN    NaN   \n",
              "4    5  2019-05-03 13:20:44  2019-05-03 13:15:34    NaN    NaN    NaN    NaN   \n",
              "5    6  2019-05-03 13:57:27  2019-05-03 13:48:52    NaN    NaN    NaN    NaN   \n",
              "6    7  2019-05-03 14:18:58                  NaN    NaN    NaN    NaN    NaN   \n",
              "7    8  2019-05-03 15:01:30                  NaN    NaN    NaN    NaN    NaN   \n",
              "8    9  2019-05-03 15:45:44  2019-05-03 15:39:37    NaN    NaN    NaN    NaN   \n",
              "9   10  2019-05-03 16:27:00  2019-05-03 16:22:36    NaN    NaN    NaN    NaN   \n",
              "\n",
              "  Wire_7 Wire_8 Wire_9  \n",
              "0    NaN    NaN    NaN  \n",
              "1    NaN    NaN    NaN  \n",
              "2    NaN    NaN    NaN  \n",
              "3    NaN    NaN    NaN  \n",
              "4    NaN    NaN    NaN  \n",
              "5    NaN    NaN    NaN  \n",
              "6    NaN    NaN    NaN  \n",
              "7    NaN    NaN    NaN  \n",
              "8    NaN    NaN    NaN  \n",
              "9    NaN    NaN    NaN  "
            ]
          },
          "metadata": {},
          "output_type": "display_data"
        },
        {
          "name": "stdout",
          "output_type": "stream",
          "text": [
            "<class 'pandas.core.frame.DataFrame'>\n",
            "RangeIndex: 3081 entries, 0 to 3080\n",
            "Data columns (total 10 columns):\n",
            " #   Column  Non-Null Count  Dtype \n",
            "---  ------  --------------  ----- \n",
            " 0   key     3081 non-null   int64 \n",
            " 1   Wire_1  3055 non-null   object\n",
            " 2   Wire_2  1079 non-null   object\n",
            " 3   Wire_3  63 non-null     object\n",
            " 4   Wire_4  14 non-null     object\n",
            " 5   Wire_5  1 non-null      object\n",
            " 6   Wire_6  73 non-null     object\n",
            " 7   Wire_7  11 non-null     object\n",
            " 8   Wire_8  19 non-null     object\n",
            " 9   Wire_9  29 non-null     object\n",
            "dtypes: int64(1), object(9)\n",
            "memory usage: 240.8+ KB\n"
          ]
        }
      ],
      "execution_count": 25
    },
    {
      "id": "b454c55e",
      "cell_type": "markdown",
      "source": "Data on the time of insertion of the wire are not important, and they also can be ignored in the problem.",
      "metadata": {}
    },
    {
      "id": "682a29d1",
      "cell_type": "markdown",
      "source": "### Conclusion on part 1:\r\n\r\n- Data collected from various sources. Outliers were detected and eliminated for reactive power and temperature measurements.\r\n- Time data is not in the correct format.\r\n- The target characteristic is the measurement temperature at the last iteration, which corresponds to the proper chemical composition of the steel. Using intermediate temperature values will be a data leak, so you need to leave the original temperature value as the input feature and the final value as the target feature.\r\n- The data needs to be combined into one dataframe by batch.\r\n- The values for reactive and active energy cannot be summed in their original form and you need to find the root of the sum of squares as a new parameter.",
      "metadata": {}
    },
    {
      "id": "b807b2a8",
      "cell_type": "markdown",
      "source": "## Data merging.",
      "metadata": {}
    },
    {
      "id": "569ac30a",
      "cell_type": "markdown",
      "source": "To merge data, you need to transform data_temp_new. First, let's find the first iteration for each batch, that is, the initial temperature of the mixture.\n",
      "metadata": {}
    },
    {
      "id": "271242f0",
      "cell_type": "code",
      "source": "#create a sign for the iteration number of each batch\ndata_temp_new['key_iteration'] = data_temp_new.groupby('key').cumcount()\ndata_temp_new.head() ",
      "metadata": {
        "scrolled": true,
        "trusted": true
      },
      "outputs": [],
      "execution_count": null
    },
    {
      "id": "e9291c09",
      "cell_type": "markdown",
      "source": "Let's select the found temperature in a separate column \"temperature_start\"",
      "metadata": {}
    },
    {
      "id": "6b460306",
      "cell_type": "code",
      "source": "data_temp_new_start = data_temp_new.copy()\ndata_temp_new_start.loc[data_temp_new['key_iteration'] == 0, 'temperature_start']=data_temp_new['temperature']\ndata_temp_new_start",
      "metadata": {},
      "outputs": [
        {
          "data": {
            "text/html": [
              "<div>\n",
              "<style scoped>\n",
              "    .dataframe tbody tr th:only-of-type {\n",
              "        vertical-align: middle;\n",
              "    }\n",
              "\n",
              "    .dataframe tbody tr th {\n",
              "        vertical-align: top;\n",
              "    }\n",
              "\n",
              "    .dataframe thead th {\n",
              "        text-align: right;\n",
              "    }\n",
              "</style>\n",
              "<table border=\"1\" class=\"dataframe\">\n",
              "  <thead>\n",
              "    <tr style=\"text-align: right;\">\n",
              "      <th></th>\n",
              "      <th>key</th>\n",
              "      <th>measure_time</th>\n",
              "      <th>temperature</th>\n",
              "      <th>key_iteration</th>\n",
              "      <th>temperature_start</th>\n",
              "    </tr>\n",
              "  </thead>\n",
              "  <tbody>\n",
              "    <tr>\n",
              "      <th>0</th>\n",
              "      <td>1</td>\n",
              "      <td>2019-05-03 11:02:04</td>\n",
              "      <td>1571.0</td>\n",
              "      <td>0</td>\n",
              "      <td>1571.0</td>\n",
              "    </tr>\n",
              "    <tr>\n",
              "      <th>1</th>\n",
              "      <td>1</td>\n",
              "      <td>2019-05-03 11:07:18</td>\n",
              "      <td>1604.0</td>\n",
              "      <td>1</td>\n",
              "      <td>NaN</td>\n",
              "    </tr>\n",
              "    <tr>\n",
              "      <th>2</th>\n",
              "      <td>1</td>\n",
              "      <td>2019-05-03 11:11:34</td>\n",
              "      <td>1618.0</td>\n",
              "      <td>2</td>\n",
              "      <td>NaN</td>\n",
              "    </tr>\n",
              "    <tr>\n",
              "      <th>3</th>\n",
              "      <td>1</td>\n",
              "      <td>2019-05-03 11:18:04</td>\n",
              "      <td>1601.0</td>\n",
              "      <td>3</td>\n",
              "      <td>NaN</td>\n",
              "    </tr>\n",
              "    <tr>\n",
              "      <th>4</th>\n",
              "      <td>1</td>\n",
              "      <td>2019-05-03 11:25:59</td>\n",
              "      <td>1606.0</td>\n",
              "      <td>4</td>\n",
              "      <td>NaN</td>\n",
              "    </tr>\n",
              "    <tr>\n",
              "      <th>...</th>\n",
              "      <td>...</td>\n",
              "      <td>...</td>\n",
              "      <td>...</td>\n",
              "      <td>...</td>\n",
              "      <td>...</td>\n",
              "    </tr>\n",
              "    <tr>\n",
              "      <th>18061</th>\n",
              "      <td>3237</td>\n",
              "      <td>2019-09-06 11:31:15</td>\n",
              "      <td>1569.0</td>\n",
              "      <td>0</td>\n",
              "      <td>1569.0</td>\n",
              "    </tr>\n",
              "    <tr>\n",
              "      <th>18067</th>\n",
              "      <td>3238</td>\n",
              "      <td>2019-09-06 12:16:15</td>\n",
              "      <td>1584.0</td>\n",
              "      <td>0</td>\n",
              "      <td>1584.0</td>\n",
              "    </tr>\n",
              "    <tr>\n",
              "      <th>18071</th>\n",
              "      <td>3239</td>\n",
              "      <td>2019-09-06 14:16:50</td>\n",
              "      <td>1598.0</td>\n",
              "      <td>0</td>\n",
              "      <td>1598.0</td>\n",
              "    </tr>\n",
              "    <tr>\n",
              "      <th>18080</th>\n",
              "      <td>3240</td>\n",
              "      <td>2019-09-06 15:25:21</td>\n",
              "      <td>1617.0</td>\n",
              "      <td>0</td>\n",
              "      <td>1617.0</td>\n",
              "    </tr>\n",
              "    <tr>\n",
              "      <th>18086</th>\n",
              "      <td>3241</td>\n",
              "      <td>2019-09-06 16:48:55</td>\n",
              "      <td>1586.0</td>\n",
              "      <td>0</td>\n",
              "      <td>1586.0</td>\n",
              "    </tr>\n",
              "  </tbody>\n",
              "</table>\n",
              "<p>14660 rows × 5 columns</p>\n",
              "</div>"
            ],
            "text/plain": [
              "        key        measure_time  temperature  key_iteration  temperature_start\n",
              "0         1 2019-05-03 11:02:04       1571.0              0             1571.0\n",
              "1         1 2019-05-03 11:07:18       1604.0              1                NaN\n",
              "2         1 2019-05-03 11:11:34       1618.0              2                NaN\n",
              "3         1 2019-05-03 11:18:04       1601.0              3                NaN\n",
              "4         1 2019-05-03 11:25:59       1606.0              4                NaN\n",
              "...     ...                 ...          ...            ...                ...\n",
              "18061  3237 2019-09-06 11:31:15       1569.0              0             1569.0\n",
              "18067  3238 2019-09-06 12:16:15       1584.0              0             1584.0\n",
              "18071  3239 2019-09-06 14:16:50       1598.0              0             1598.0\n",
              "18080  3240 2019-09-06 15:25:21       1617.0              0             1617.0\n",
              "18086  3241 2019-09-06 16:48:55       1586.0              0             1586.0\n",
              "\n",
              "[14660 rows x 5 columns]"
            ]
          },
          "execution_count": 27,
          "metadata": {},
          "output_type": "execute_result"
        }
      ],
      "execution_count": 27
    },
    {
      "id": "a77419d0",
      "cell_type": "markdown",
      "source": "Now let’s find the final temperature for each batch and also highlight it as a separate feature.",
      "metadata": {}
    },
    {
      "id": "52135323",
      "cell_type": "code",
      "source": "#смотрим на последнюю по времени итерацию для каждой партии\ntemp = data_temp_new.groupby('key').agg({\n    'measure_time': [ 'max']}) \n#создадим список из этих данных, чтобы по времени найти соответсвующую оследней итерации температуру \nlist_end= temp['measure_time'].squeeze().tolist()\n",
      "metadata": {
        "trusted": true
      },
      "outputs": [],
      "execution_count": null
    },
    {
      "id": "6e16ce6e",
      "cell_type": "code",
      "source": "#также исключим партии, где была только одна итерация.\ndata_temp_new_end = data_temp_new.query('measure_time in @list_end and key_iteration!=0')\ndata_temp_new_end['temperature_end'] = data_temp_new_end['temperature']\ndata_temp_new_end.tail()",
      "metadata": {
        "scrolled": true
      },
      "outputs": [
        {
          "data": {
            "text/html": [
              "<div>\n",
              "<style scoped>\n",
              "    .dataframe tbody tr th:only-of-type {\n",
              "        vertical-align: middle;\n",
              "    }\n",
              "\n",
              "    .dataframe tbody tr th {\n",
              "        vertical-align: top;\n",
              "    }\n",
              "\n",
              "    .dataframe thead th {\n",
              "        text-align: right;\n",
              "    }\n",
              "</style>\n",
              "<table border=\"1\" class=\"dataframe\">\n",
              "  <thead>\n",
              "    <tr style=\"text-align: right;\">\n",
              "      <th></th>\n",
              "      <th>key</th>\n",
              "      <th>measure_time</th>\n",
              "      <th>temperature</th>\n",
              "      <th>key_iteration</th>\n",
              "      <th>temperature_end</th>\n",
              "    </tr>\n",
              "  </thead>\n",
              "  <tbody>\n",
              "    <tr>\n",
              "      <th>13903</th>\n",
              "      <td>2495</td>\n",
              "      <td>2019-08-10 11:50:47</td>\n",
              "      <td>1591.0</td>\n",
              "      <td>4</td>\n",
              "      <td>1591.0</td>\n",
              "    </tr>\n",
              "    <tr>\n",
              "      <th>13910</th>\n",
              "      <td>2496</td>\n",
              "      <td>2019-08-10 12:25:13</td>\n",
              "      <td>1591.0</td>\n",
              "      <td>6</td>\n",
              "      <td>1591.0</td>\n",
              "    </tr>\n",
              "    <tr>\n",
              "      <th>13914</th>\n",
              "      <td>2497</td>\n",
              "      <td>2019-08-10 12:53:28</td>\n",
              "      <td>1589.0</td>\n",
              "      <td>3</td>\n",
              "      <td>1589.0</td>\n",
              "    </tr>\n",
              "    <tr>\n",
              "      <th>13920</th>\n",
              "      <td>2498</td>\n",
              "      <td>2019-08-10 13:23:31</td>\n",
              "      <td>1594.0</td>\n",
              "      <td>5</td>\n",
              "      <td>1594.0</td>\n",
              "    </tr>\n",
              "    <tr>\n",
              "      <th>13925</th>\n",
              "      <td>2499</td>\n",
              "      <td>2019-08-10 13:58:58</td>\n",
              "      <td>1603.0</td>\n",
              "      <td>4</td>\n",
              "      <td>1603.0</td>\n",
              "    </tr>\n",
              "  </tbody>\n",
              "</table>\n",
              "</div>"
            ],
            "text/plain": [
              "        key        measure_time  temperature  key_iteration  temperature_end\n",
              "13903  2495 2019-08-10 11:50:47       1591.0              4           1591.0\n",
              "13910  2496 2019-08-10 12:25:13       1591.0              6           1591.0\n",
              "13914  2497 2019-08-10 12:53:28       1589.0              3           1589.0\n",
              "13920  2498 2019-08-10 13:23:31       1594.0              5           1594.0\n",
              "13925  2499 2019-08-10 13:58:58       1603.0              4           1603.0"
            ]
          },
          "execution_count": 29,
          "metadata": {},
          "output_type": "execute_result"
        }
      ],
      "execution_count": 29
    },
    {
      "id": "92aa39a8",
      "cell_type": "code",
      "source": "data_temp_new_start= data_temp_new_start.dropna()",
      "metadata": {},
      "outputs": [],
      "execution_count": 30
    },
    {
      "id": "e2549350",
      "cell_type": "code",
      "source": "data_final = pd.merge(data_temp_new_start, data_temp_new_end, on=['key'], how='right')\n#объединяя по правой части, мы также исключаем партии, у которых только одна-первая итерация\ndata_final= data_final.drop(\n    ['measure_time_y','key_iteration_y','temperature_y','key_iteration_y','key_iteration_x','measure_time_x', 'temperature_x'],axis=1)\ndata_final",
      "metadata": {},
      "outputs": [
        {
          "data": {
            "text/html": [
              "<div>\n",
              "<style scoped>\n",
              "    .dataframe tbody tr th:only-of-type {\n",
              "        vertical-align: middle;\n",
              "    }\n",
              "\n",
              "    .dataframe tbody tr th {\n",
              "        vertical-align: top;\n",
              "    }\n",
              "\n",
              "    .dataframe thead th {\n",
              "        text-align: right;\n",
              "    }\n",
              "</style>\n",
              "<table border=\"1\" class=\"dataframe\">\n",
              "  <thead>\n",
              "    <tr style=\"text-align: right;\">\n",
              "      <th></th>\n",
              "      <th>key</th>\n",
              "      <th>temperature_start</th>\n",
              "      <th>temperature_end</th>\n",
              "    </tr>\n",
              "  </thead>\n",
              "  <tbody>\n",
              "    <tr>\n",
              "      <th>0</th>\n",
              "      <td>1</td>\n",
              "      <td>1571.0</td>\n",
              "      <td>1613.0</td>\n",
              "    </tr>\n",
              "    <tr>\n",
              "      <th>1</th>\n",
              "      <td>2</td>\n",
              "      <td>1581.0</td>\n",
              "      <td>1602.0</td>\n",
              "    </tr>\n",
              "    <tr>\n",
              "      <th>2</th>\n",
              "      <td>3</td>\n",
              "      <td>1596.0</td>\n",
              "      <td>1599.0</td>\n",
              "    </tr>\n",
              "    <tr>\n",
              "      <th>3</th>\n",
              "      <td>4</td>\n",
              "      <td>1601.0</td>\n",
              "      <td>1625.0</td>\n",
              "    </tr>\n",
              "    <tr>\n",
              "      <th>4</th>\n",
              "      <td>5</td>\n",
              "      <td>1576.0</td>\n",
              "      <td>1602.0</td>\n",
              "    </tr>\n",
              "    <tr>\n",
              "      <th>...</th>\n",
              "      <td>...</td>\n",
              "      <td>...</td>\n",
              "      <td>...</td>\n",
              "    </tr>\n",
              "    <tr>\n",
              "      <th>2470</th>\n",
              "      <td>2495</td>\n",
              "      <td>1570.0</td>\n",
              "      <td>1591.0</td>\n",
              "    </tr>\n",
              "    <tr>\n",
              "      <th>2471</th>\n",
              "      <td>2496</td>\n",
              "      <td>1554.0</td>\n",
              "      <td>1591.0</td>\n",
              "    </tr>\n",
              "    <tr>\n",
              "      <th>2472</th>\n",
              "      <td>2497</td>\n",
              "      <td>1571.0</td>\n",
              "      <td>1589.0</td>\n",
              "    </tr>\n",
              "    <tr>\n",
              "      <th>2473</th>\n",
              "      <td>2498</td>\n",
              "      <td>1591.0</td>\n",
              "      <td>1594.0</td>\n",
              "    </tr>\n",
              "    <tr>\n",
              "      <th>2474</th>\n",
              "      <td>2499</td>\n",
              "      <td>1569.0</td>\n",
              "      <td>1603.0</td>\n",
              "    </tr>\n",
              "  </tbody>\n",
              "</table>\n",
              "<p>2475 rows × 3 columns</p>\n",
              "</div>"
            ],
            "text/plain": [
              "       key  temperature_start  temperature_end\n",
              "0        1             1571.0           1613.0\n",
              "1        2             1581.0           1602.0\n",
              "2        3             1596.0           1599.0\n",
              "3        4             1601.0           1625.0\n",
              "4        5             1576.0           1602.0\n",
              "...    ...                ...              ...\n",
              "2470  2495             1570.0           1591.0\n",
              "2471  2496             1554.0           1591.0\n",
              "2472  2497             1571.0           1589.0\n",
              "2473  2498             1591.0           1594.0\n",
              "2474  2499             1569.0           1603.0\n",
              "\n",
              "[2475 rows x 3 columns]"
            ]
          },
          "execution_count": 31,
          "metadata": {},
          "output_type": "execute_result"
        }
      ],
      "execution_count": 31
    },
    {
      "id": "a28e81ef",
      "cell_type": "markdown",
      "source": "We received a table with the target attribute temperature_end , all that remains is to attach the remaining data by batch. But first, let's create one more sign - for full power.",
      "metadata": {}
    },
    {
      "id": "67ad6ad5",
      "cell_type": "code",
      "source": "data_arc_new['total_power']=(data_arc_new['active_power']**2+data_arc_new['reactive_power']**2)**0.5\ndata_arc_new",
      "metadata": {
        "scrolled": true
      },
      "outputs": [
        {
          "data": {
            "text/html": [
              "<div>\n",
              "<style scoped>\n",
              "    .dataframe tbody tr th:only-of-type {\n",
              "        vertical-align: middle;\n",
              "    }\n",
              "\n",
              "    .dataframe tbody tr th {\n",
              "        vertical-align: top;\n",
              "    }\n",
              "\n",
              "    .dataframe thead th {\n",
              "        text-align: right;\n",
              "    }\n",
              "</style>\n",
              "<table border=\"1\" class=\"dataframe\">\n",
              "  <thead>\n",
              "    <tr style=\"text-align: right;\">\n",
              "      <th></th>\n",
              "      <th>key</th>\n",
              "      <th>arc_heating_start</th>\n",
              "      <th>arc_heating_end</th>\n",
              "      <th>active_power</th>\n",
              "      <th>reactive_power</th>\n",
              "      <th>total_power</th>\n",
              "    </tr>\n",
              "  </thead>\n",
              "  <tbody>\n",
              "    <tr>\n",
              "      <th>0</th>\n",
              "      <td>1</td>\n",
              "      <td>2019-05-03 11:02:14</td>\n",
              "      <td>2019-05-03 11:06:02</td>\n",
              "      <td>0.305130</td>\n",
              "      <td>0.211253</td>\n",
              "      <td>0.371123</td>\n",
              "    </tr>\n",
              "    <tr>\n",
              "      <th>1</th>\n",
              "      <td>1</td>\n",
              "      <td>2019-05-03 11:07:28</td>\n",
              "      <td>2019-05-03 11:10:33</td>\n",
              "      <td>0.765658</td>\n",
              "      <td>0.477438</td>\n",
              "      <td>0.902319</td>\n",
              "    </tr>\n",
              "    <tr>\n",
              "      <th>2</th>\n",
              "      <td>1</td>\n",
              "      <td>2019-05-03 11:11:44</td>\n",
              "      <td>2019-05-03 11:14:36</td>\n",
              "      <td>0.580313</td>\n",
              "      <td>0.430460</td>\n",
              "      <td>0.722536</td>\n",
              "    </tr>\n",
              "    <tr>\n",
              "      <th>3</th>\n",
              "      <td>1</td>\n",
              "      <td>2019-05-03 11:18:14</td>\n",
              "      <td>2019-05-03 11:24:19</td>\n",
              "      <td>0.518496</td>\n",
              "      <td>0.379979</td>\n",
              "      <td>0.642824</td>\n",
              "    </tr>\n",
              "    <tr>\n",
              "      <th>4</th>\n",
              "      <td>1</td>\n",
              "      <td>2019-05-03 11:26:09</td>\n",
              "      <td>2019-05-03 11:28:37</td>\n",
              "      <td>0.867133</td>\n",
              "      <td>0.643691</td>\n",
              "      <td>1.079934</td>\n",
              "    </tr>\n",
              "    <tr>\n",
              "      <th>...</th>\n",
              "      <td>...</td>\n",
              "      <td>...</td>\n",
              "      <td>...</td>\n",
              "      <td>...</td>\n",
              "      <td>...</td>\n",
              "      <td>...</td>\n",
              "    </tr>\n",
              "    <tr>\n",
              "      <th>14871</th>\n",
              "      <td>3241</td>\n",
              "      <td>2019-09-06 16:49:05</td>\n",
              "      <td>2019-09-06 16:51:42</td>\n",
              "      <td>0.439735</td>\n",
              "      <td>0.299579</td>\n",
              "      <td>0.532085</td>\n",
              "    </tr>\n",
              "    <tr>\n",
              "      <th>14872</th>\n",
              "      <td>3241</td>\n",
              "      <td>2019-09-06 16:55:11</td>\n",
              "      <td>2019-09-06 16:58:11</td>\n",
              "      <td>0.646498</td>\n",
              "      <td>0.458240</td>\n",
              "      <td>0.792429</td>\n",
              "    </tr>\n",
              "    <tr>\n",
              "      <th>14873</th>\n",
              "      <td>3241</td>\n",
              "      <td>2019-09-06 17:06:48</td>\n",
              "      <td>2019-09-06 17:09:52</td>\n",
              "      <td>1.039726</td>\n",
              "      <td>0.769302</td>\n",
              "      <td>1.293389</td>\n",
              "    </tr>\n",
              "    <tr>\n",
              "      <th>14874</th>\n",
              "      <td>3241</td>\n",
              "      <td>2019-09-06 17:21:58</td>\n",
              "      <td>2019-09-06 17:22:55</td>\n",
              "      <td>0.530267</td>\n",
              "      <td>0.361543</td>\n",
              "      <td>0.641792</td>\n",
              "    </tr>\n",
              "    <tr>\n",
              "      <th>14875</th>\n",
              "      <td>3241</td>\n",
              "      <td>2019-09-06 17:24:54</td>\n",
              "      <td>2019-09-06 17:26:15</td>\n",
              "      <td>0.389057</td>\n",
              "      <td>0.251347</td>\n",
              "      <td>0.463185</td>\n",
              "    </tr>\n",
              "  </tbody>\n",
              "</table>\n",
              "<p>14875 rows × 6 columns</p>\n",
              "</div>"
            ],
            "text/plain": [
              "        key    arc_heating_start      arc_heating_end  active_power  \\\n",
              "0         1  2019-05-03 11:02:14  2019-05-03 11:06:02      0.305130   \n",
              "1         1  2019-05-03 11:07:28  2019-05-03 11:10:33      0.765658   \n",
              "2         1  2019-05-03 11:11:44  2019-05-03 11:14:36      0.580313   \n",
              "3         1  2019-05-03 11:18:14  2019-05-03 11:24:19      0.518496   \n",
              "4         1  2019-05-03 11:26:09  2019-05-03 11:28:37      0.867133   \n",
              "...     ...                  ...                  ...           ...   \n",
              "14871  3241  2019-09-06 16:49:05  2019-09-06 16:51:42      0.439735   \n",
              "14872  3241  2019-09-06 16:55:11  2019-09-06 16:58:11      0.646498   \n",
              "14873  3241  2019-09-06 17:06:48  2019-09-06 17:09:52      1.039726   \n",
              "14874  3241  2019-09-06 17:21:58  2019-09-06 17:22:55      0.530267   \n",
              "14875  3241  2019-09-06 17:24:54  2019-09-06 17:26:15      0.389057   \n",
              "\n",
              "       reactive_power  total_power  \n",
              "0            0.211253     0.371123  \n",
              "1            0.477438     0.902319  \n",
              "2            0.430460     0.722536  \n",
              "3            0.379979     0.642824  \n",
              "4            0.643691     1.079934  \n",
              "...               ...          ...  \n",
              "14871        0.299579     0.532085  \n",
              "14872        0.458240     0.792429  \n",
              "14873        0.769302     1.293389  \n",
              "14874        0.361543     0.641792  \n",
              "14875        0.251347     0.463185  \n",
              "\n",
              "[14875 rows x 6 columns]"
            ]
          },
          "execution_count": 32,
          "metadata": {},
          "output_type": "execute_result"
        }
      ],
      "execution_count": 32
    },
    {
      "id": "99f9eaf9",
      "cell_type": "markdown",
      "source": "From the start and end times of electrode heating, we will generate an additional sign - the duration of heating in minutes.",
      "metadata": {}
    },
    {
      "id": "51a2600b",
      "cell_type": "code",
      "source": "data_arc_new['arc_heating_start'] = pd.to_datetime(\n    data_arc_new['arc_heating_start'], format='%Y-%m-%dT%H:%M:%S' )\n\ndata_arc_new['arc_heating_end'] = pd.to_datetime(\n    data_arc_new['arc_heating_end'], format='%Y-%m-%dT%H:%M:%S' )",
      "metadata": {},
      "outputs": [],
      "execution_count": 33
    },
    {
      "id": "84c94faa",
      "cell_type": "code",
      "source": "data_arc_new.head()",
      "metadata": {},
      "outputs": [
        {
          "data": {
            "text/html": [
              "<div>\n",
              "<style scoped>\n",
              "    .dataframe tbody tr th:only-of-type {\n",
              "        vertical-align: middle;\n",
              "    }\n",
              "\n",
              "    .dataframe tbody tr th {\n",
              "        vertical-align: top;\n",
              "    }\n",
              "\n",
              "    .dataframe thead th {\n",
              "        text-align: right;\n",
              "    }\n",
              "</style>\n",
              "<table border=\"1\" class=\"dataframe\">\n",
              "  <thead>\n",
              "    <tr style=\"text-align: right;\">\n",
              "      <th></th>\n",
              "      <th>key</th>\n",
              "      <th>arc_heating_start</th>\n",
              "      <th>arc_heating_end</th>\n",
              "      <th>active_power</th>\n",
              "      <th>reactive_power</th>\n",
              "      <th>total_power</th>\n",
              "    </tr>\n",
              "  </thead>\n",
              "  <tbody>\n",
              "    <tr>\n",
              "      <th>0</th>\n",
              "      <td>1</td>\n",
              "      <td>2019-05-03 11:02:14</td>\n",
              "      <td>2019-05-03 11:06:02</td>\n",
              "      <td>0.305130</td>\n",
              "      <td>0.211253</td>\n",
              "      <td>0.371123</td>\n",
              "    </tr>\n",
              "    <tr>\n",
              "      <th>1</th>\n",
              "      <td>1</td>\n",
              "      <td>2019-05-03 11:07:28</td>\n",
              "      <td>2019-05-03 11:10:33</td>\n",
              "      <td>0.765658</td>\n",
              "      <td>0.477438</td>\n",
              "      <td>0.902319</td>\n",
              "    </tr>\n",
              "    <tr>\n",
              "      <th>2</th>\n",
              "      <td>1</td>\n",
              "      <td>2019-05-03 11:11:44</td>\n",
              "      <td>2019-05-03 11:14:36</td>\n",
              "      <td>0.580313</td>\n",
              "      <td>0.430460</td>\n",
              "      <td>0.722536</td>\n",
              "    </tr>\n",
              "    <tr>\n",
              "      <th>3</th>\n",
              "      <td>1</td>\n",
              "      <td>2019-05-03 11:18:14</td>\n",
              "      <td>2019-05-03 11:24:19</td>\n",
              "      <td>0.518496</td>\n",
              "      <td>0.379979</td>\n",
              "      <td>0.642824</td>\n",
              "    </tr>\n",
              "    <tr>\n",
              "      <th>4</th>\n",
              "      <td>1</td>\n",
              "      <td>2019-05-03 11:26:09</td>\n",
              "      <td>2019-05-03 11:28:37</td>\n",
              "      <td>0.867133</td>\n",
              "      <td>0.643691</td>\n",
              "      <td>1.079934</td>\n",
              "    </tr>\n",
              "  </tbody>\n",
              "</table>\n",
              "</div>"
            ],
            "text/plain": [
              "   key   arc_heating_start     arc_heating_end  active_power  reactive_power  \\\n",
              "0    1 2019-05-03 11:02:14 2019-05-03 11:06:02      0.305130        0.211253   \n",
              "1    1 2019-05-03 11:07:28 2019-05-03 11:10:33      0.765658        0.477438   \n",
              "2    1 2019-05-03 11:11:44 2019-05-03 11:14:36      0.580313        0.430460   \n",
              "3    1 2019-05-03 11:18:14 2019-05-03 11:24:19      0.518496        0.379979   \n",
              "4    1 2019-05-03 11:26:09 2019-05-03 11:28:37      0.867133        0.643691   \n",
              "\n",
              "   total_power  \n",
              "0     0.371123  \n",
              "1     0.902319  \n",
              "2     0.722536  \n",
              "3     0.642824  \n",
              "4     1.079934  "
            ]
          },
          "execution_count": 34,
          "metadata": {},
          "output_type": "execute_result"
        }
      ],
      "execution_count": 34
    },
    {
      "id": "b9883214",
      "cell_type": "code",
      "source": "data_arc_new['heating_duration'] = data_arc_new['arc_heating_end'] - data_arc_new['arc_heating_start']\ndata_arc_new['heating_duration']=data_arc_new['heating_duration'].dt.total_seconds() / 60",
      "metadata": {},
      "outputs": [],
      "execution_count": 35
    },
    {
      "id": "048badb1",
      "cell_type": "code",
      "source": "data_arc_new.head()",
      "metadata": {
        "scrolled": true
      },
      "outputs": [
        {
          "data": {
            "text/html": [
              "<div>\n",
              "<style scoped>\n",
              "    .dataframe tbody tr th:only-of-type {\n",
              "        vertical-align: middle;\n",
              "    }\n",
              "\n",
              "    .dataframe tbody tr th {\n",
              "        vertical-align: top;\n",
              "    }\n",
              "\n",
              "    .dataframe thead th {\n",
              "        text-align: right;\n",
              "    }\n",
              "</style>\n",
              "<table border=\"1\" class=\"dataframe\">\n",
              "  <thead>\n",
              "    <tr style=\"text-align: right;\">\n",
              "      <th></th>\n",
              "      <th>key</th>\n",
              "      <th>arc_heating_start</th>\n",
              "      <th>arc_heating_end</th>\n",
              "      <th>active_power</th>\n",
              "      <th>reactive_power</th>\n",
              "      <th>total_power</th>\n",
              "      <th>heating_duration</th>\n",
              "    </tr>\n",
              "  </thead>\n",
              "  <tbody>\n",
              "    <tr>\n",
              "      <th>0</th>\n",
              "      <td>1</td>\n",
              "      <td>2019-05-03 11:02:14</td>\n",
              "      <td>2019-05-03 11:06:02</td>\n",
              "      <td>0.305130</td>\n",
              "      <td>0.211253</td>\n",
              "      <td>0.371123</td>\n",
              "      <td>3.800000</td>\n",
              "    </tr>\n",
              "    <tr>\n",
              "      <th>1</th>\n",
              "      <td>1</td>\n",
              "      <td>2019-05-03 11:07:28</td>\n",
              "      <td>2019-05-03 11:10:33</td>\n",
              "      <td>0.765658</td>\n",
              "      <td>0.477438</td>\n",
              "      <td>0.902319</td>\n",
              "      <td>3.083333</td>\n",
              "    </tr>\n",
              "    <tr>\n",
              "      <th>2</th>\n",
              "      <td>1</td>\n",
              "      <td>2019-05-03 11:11:44</td>\n",
              "      <td>2019-05-03 11:14:36</td>\n",
              "      <td>0.580313</td>\n",
              "      <td>0.430460</td>\n",
              "      <td>0.722536</td>\n",
              "      <td>2.866667</td>\n",
              "    </tr>\n",
              "    <tr>\n",
              "      <th>3</th>\n",
              "      <td>1</td>\n",
              "      <td>2019-05-03 11:18:14</td>\n",
              "      <td>2019-05-03 11:24:19</td>\n",
              "      <td>0.518496</td>\n",
              "      <td>0.379979</td>\n",
              "      <td>0.642824</td>\n",
              "      <td>6.083333</td>\n",
              "    </tr>\n",
              "    <tr>\n",
              "      <th>4</th>\n",
              "      <td>1</td>\n",
              "      <td>2019-05-03 11:26:09</td>\n",
              "      <td>2019-05-03 11:28:37</td>\n",
              "      <td>0.867133</td>\n",
              "      <td>0.643691</td>\n",
              "      <td>1.079934</td>\n",
              "      <td>2.466667</td>\n",
              "    </tr>\n",
              "  </tbody>\n",
              "</table>\n",
              "</div>"
            ],
            "text/plain": [
              "   key   arc_heating_start     arc_heating_end  active_power  reactive_power  \\\n",
              "0    1 2019-05-03 11:02:14 2019-05-03 11:06:02      0.305130        0.211253   \n",
              "1    1 2019-05-03 11:07:28 2019-05-03 11:10:33      0.765658        0.477438   \n",
              "2    1 2019-05-03 11:11:44 2019-05-03 11:14:36      0.580313        0.430460   \n",
              "3    1 2019-05-03 11:18:14 2019-05-03 11:24:19      0.518496        0.379979   \n",
              "4    1 2019-05-03 11:26:09 2019-05-03 11:28:37      0.867133        0.643691   \n",
              "\n",
              "   total_power  heating_duration  \n",
              "0     0.371123          3.800000  \n",
              "1     0.902319          3.083333  \n",
              "2     0.722536          2.866667  \n",
              "3     0.642824          6.083333  \n",
              "4     1.079934          2.466667  "
            ]
          },
          "execution_count": 36,
          "metadata": {},
          "output_type": "execute_result"
        }
      ],
      "execution_count": 36
    },
    {
      "id": "6effbbd9",
      "cell_type": "code",
      "source": "data_heating_duration = data_arc_new.groupby('key').agg('sum').drop(['active_power','reactive_power','total_power'], axis= 1)\ndata_heating_duration",
      "metadata": {
        "scrolled": true
      },
      "outputs": [
        {
          "data": {
            "text/html": [
              "<div>\n",
              "<style scoped>\n",
              "    .dataframe tbody tr th:only-of-type {\n",
              "        vertical-align: middle;\n",
              "    }\n",
              "\n",
              "    .dataframe tbody tr th {\n",
              "        vertical-align: top;\n",
              "    }\n",
              "\n",
              "    .dataframe thead th {\n",
              "        text-align: right;\n",
              "    }\n",
              "</style>\n",
              "<table border=\"1\" class=\"dataframe\">\n",
              "  <thead>\n",
              "    <tr style=\"text-align: right;\">\n",
              "      <th></th>\n",
              "      <th>heating_duration</th>\n",
              "    </tr>\n",
              "    <tr>\n",
              "      <th>key</th>\n",
              "      <th></th>\n",
              "    </tr>\n",
              "  </thead>\n",
              "  <tbody>\n",
              "    <tr>\n",
              "      <th>1</th>\n",
              "      <td>18.300000</td>\n",
              "    </tr>\n",
              "    <tr>\n",
              "      <th>2</th>\n",
              "      <td>13.516667</td>\n",
              "    </tr>\n",
              "    <tr>\n",
              "      <th>3</th>\n",
              "      <td>10.916667</td>\n",
              "    </tr>\n",
              "    <tr>\n",
              "      <th>4</th>\n",
              "      <td>12.350000</td>\n",
              "    </tr>\n",
              "    <tr>\n",
              "      <th>5</th>\n",
              "      <td>14.483333</td>\n",
              "    </tr>\n",
              "    <tr>\n",
              "      <th>...</th>\n",
              "      <td>...</td>\n",
              "    </tr>\n",
              "    <tr>\n",
              "      <th>3237</th>\n",
              "      <td>15.150000</td>\n",
              "    </tr>\n",
              "    <tr>\n",
              "      <th>3238</th>\n",
              "      <td>9.100000</td>\n",
              "    </tr>\n",
              "    <tr>\n",
              "      <th>3239</th>\n",
              "      <td>20.266667</td>\n",
              "    </tr>\n",
              "    <tr>\n",
              "      <th>3240</th>\n",
              "      <td>13.983333</td>\n",
              "    </tr>\n",
              "    <tr>\n",
              "      <th>3241</th>\n",
              "      <td>10.983333</td>\n",
              "    </tr>\n",
              "  </tbody>\n",
              "</table>\n",
              "<p>3214 rows × 1 columns</p>\n",
              "</div>"
            ],
            "text/plain": [
              "      heating_duration\n",
              "key                   \n",
              "1            18.300000\n",
              "2            13.516667\n",
              "3            10.916667\n",
              "4            12.350000\n",
              "5            14.483333\n",
              "...                ...\n",
              "3237         15.150000\n",
              "3238          9.100000\n",
              "3239         20.266667\n",
              "3240         13.983333\n",
              "3241         10.983333\n",
              "\n",
              "[3214 rows x 1 columns]"
            ]
          },
          "execution_count": 37,
          "metadata": {},
          "output_type": "execute_result"
        }
      ],
      "execution_count": 37
    },
    {
      "id": "28461d15",
      "cell_type": "code",
      "source": "data_arc_new_power = data_arc_new.groupby('key')['total_power'].sum()\ndata_arc_new_power",
      "metadata": {},
      "outputs": [
        {
          "data": {
            "text/plain": [
              "key\n",
              "1       3.718736\n",
              "2       2.588349\n",
              "3       5.019223\n",
              "4       3.400038\n",
              "5       2.816980\n",
              "          ...   \n",
              "3237    3.250657\n",
              "3238    1.723937\n",
              "3239    6.014480\n",
              "3240    4.082920\n",
              "3241    3.722880\n",
              "Name: total_power, Length: 3214, dtype: float64"
            ]
          },
          "execution_count": 38,
          "metadata": {},
          "output_type": "execute_result"
        }
      ],
      "execution_count": 38
    },
    {
      "id": "dc1df81d",
      "cell_type": "code",
      "source": "data_final = pd.merge(data_final,data_arc_new_power, on ='key', how ='inner') \ndata_final",
      "metadata": {},
      "outputs": [
        {
          "data": {
            "text/html": [
              "<div>\n",
              "<style scoped>\n",
              "    .dataframe tbody tr th:only-of-type {\n",
              "        vertical-align: middle;\n",
              "    }\n",
              "\n",
              "    .dataframe tbody tr th {\n",
              "        vertical-align: top;\n",
              "    }\n",
              "\n",
              "    .dataframe thead th {\n",
              "        text-align: right;\n",
              "    }\n",
              "</style>\n",
              "<table border=\"1\" class=\"dataframe\">\n",
              "  <thead>\n",
              "    <tr style=\"text-align: right;\">\n",
              "      <th></th>\n",
              "      <th>key</th>\n",
              "      <th>temperature_start</th>\n",
              "      <th>temperature_end</th>\n",
              "      <th>total_power</th>\n",
              "    </tr>\n",
              "  </thead>\n",
              "  <tbody>\n",
              "    <tr>\n",
              "      <th>0</th>\n",
              "      <td>1</td>\n",
              "      <td>1571.0</td>\n",
              "      <td>1613.0</td>\n",
              "      <td>3.718736</td>\n",
              "    </tr>\n",
              "    <tr>\n",
              "      <th>1</th>\n",
              "      <td>2</td>\n",
              "      <td>1581.0</td>\n",
              "      <td>1602.0</td>\n",
              "      <td>2.588349</td>\n",
              "    </tr>\n",
              "    <tr>\n",
              "      <th>2</th>\n",
              "      <td>3</td>\n",
              "      <td>1596.0</td>\n",
              "      <td>1599.0</td>\n",
              "      <td>5.019223</td>\n",
              "    </tr>\n",
              "    <tr>\n",
              "      <th>3</th>\n",
              "      <td>4</td>\n",
              "      <td>1601.0</td>\n",
              "      <td>1625.0</td>\n",
              "      <td>3.400038</td>\n",
              "    </tr>\n",
              "    <tr>\n",
              "      <th>4</th>\n",
              "      <td>5</td>\n",
              "      <td>1576.0</td>\n",
              "      <td>1602.0</td>\n",
              "      <td>2.816980</td>\n",
              "    </tr>\n",
              "    <tr>\n",
              "      <th>...</th>\n",
              "      <td>...</td>\n",
              "      <td>...</td>\n",
              "      <td>...</td>\n",
              "      <td>...</td>\n",
              "    </tr>\n",
              "    <tr>\n",
              "      <th>2470</th>\n",
              "      <td>2495</td>\n",
              "      <td>1570.0</td>\n",
              "      <td>1591.0</td>\n",
              "      <td>3.868721</td>\n",
              "    </tr>\n",
              "    <tr>\n",
              "      <th>2471</th>\n",
              "      <td>2496</td>\n",
              "      <td>1554.0</td>\n",
              "      <td>1591.0</td>\n",
              "      <td>5.070316</td>\n",
              "    </tr>\n",
              "    <tr>\n",
              "      <th>2472</th>\n",
              "      <td>2497</td>\n",
              "      <td>1571.0</td>\n",
              "      <td>1589.0</td>\n",
              "      <td>4.360918</td>\n",
              "    </tr>\n",
              "    <tr>\n",
              "      <th>2473</th>\n",
              "      <td>2498</td>\n",
              "      <td>1591.0</td>\n",
              "      <td>1594.0</td>\n",
              "      <td>3.909917</td>\n",
              "    </tr>\n",
              "    <tr>\n",
              "      <th>2474</th>\n",
              "      <td>2499</td>\n",
              "      <td>1569.0</td>\n",
              "      <td>1603.0</td>\n",
              "      <td>2.169252</td>\n",
              "    </tr>\n",
              "  </tbody>\n",
              "</table>\n",
              "<p>2475 rows × 4 columns</p>\n",
              "</div>"
            ],
            "text/plain": [
              "       key  temperature_start  temperature_end  total_power\n",
              "0        1             1571.0           1613.0     3.718736\n",
              "1        2             1581.0           1602.0     2.588349\n",
              "2        3             1596.0           1599.0     5.019223\n",
              "3        4             1601.0           1625.0     3.400038\n",
              "4        5             1576.0           1602.0     2.816980\n",
              "...    ...                ...              ...          ...\n",
              "2470  2495             1570.0           1591.0     3.868721\n",
              "2471  2496             1554.0           1591.0     5.070316\n",
              "2472  2497             1571.0           1589.0     4.360918\n",
              "2473  2498             1591.0           1594.0     3.909917\n",
              "2474  2499             1569.0           1603.0     2.169252\n",
              "\n",
              "[2475 rows x 4 columns]"
            ]
          },
          "execution_count": 39,
          "metadata": {},
          "output_type": "execute_result"
        }
      ],
      "execution_count": 39
    },
    {
      "id": "bbf59496",
      "cell_type": "markdown",
      "source": "Now we add the rest of the data:",
      "metadata": {}
    },
    {
      "id": "293f3911",
      "cell_type": "code",
      "source": "data_final = pd.merge(data_final, data_heating_duration, on ='key', how ='inner')   ",
      "metadata": {
        "scrolled": true
      },
      "outputs": [],
      "execution_count": 40
    },
    {
      "id": "b7034a9e",
      "cell_type": "code",
      "source": "data_final.shape",
      "metadata": {},
      "outputs": [
        {
          "data": {
            "text/plain": [
              "(2475, 5)"
            ]
          },
          "execution_count": 41,
          "metadata": {},
          "output_type": "execute_result"
        }
      ],
      "execution_count": 41
    },
    {
      "id": "c74138e1",
      "cell_type": "code",
      "source": "data_bulk_new",
      "metadata": {},
      "outputs": [
        {
          "data": {
            "text/html": [
              "<div>\n",
              "<style scoped>\n",
              "    .dataframe tbody tr th:only-of-type {\n",
              "        vertical-align: middle;\n",
              "    }\n",
              "\n",
              "    .dataframe tbody tr th {\n",
              "        vertical-align: top;\n",
              "    }\n",
              "\n",
              "    .dataframe thead th {\n",
              "        text-align: right;\n",
              "    }\n",
              "</style>\n",
              "<table border=\"1\" class=\"dataframe\">\n",
              "  <thead>\n",
              "    <tr style=\"text-align: right;\">\n",
              "      <th></th>\n",
              "      <th>key</th>\n",
              "      <th>Bulk_1</th>\n",
              "      <th>Bulk_3</th>\n",
              "      <th>Bulk_4</th>\n",
              "      <th>Bulk_5</th>\n",
              "      <th>Bulk_6</th>\n",
              "      <th>Bulk_7</th>\n",
              "      <th>Bulk_10</th>\n",
              "      <th>Bulk_11</th>\n",
              "      <th>Bulk_12</th>\n",
              "      <th>Bulk_14</th>\n",
              "      <th>Bulk_15</th>\n",
              "    </tr>\n",
              "  </thead>\n",
              "  <tbody>\n",
              "    <tr>\n",
              "      <th>0</th>\n",
              "      <td>1</td>\n",
              "      <td>0.0</td>\n",
              "      <td>0.0</td>\n",
              "      <td>43.0</td>\n",
              "      <td>0.0</td>\n",
              "      <td>0.0</td>\n",
              "      <td>0.0</td>\n",
              "      <td>0.0</td>\n",
              "      <td>0.0</td>\n",
              "      <td>206.0</td>\n",
              "      <td>150.0</td>\n",
              "      <td>154.0</td>\n",
              "    </tr>\n",
              "    <tr>\n",
              "      <th>1</th>\n",
              "      <td>2</td>\n",
              "      <td>0.0</td>\n",
              "      <td>0.0</td>\n",
              "      <td>73.0</td>\n",
              "      <td>0.0</td>\n",
              "      <td>0.0</td>\n",
              "      <td>0.0</td>\n",
              "      <td>0.0</td>\n",
              "      <td>0.0</td>\n",
              "      <td>206.0</td>\n",
              "      <td>149.0</td>\n",
              "      <td>154.0</td>\n",
              "    </tr>\n",
              "    <tr>\n",
              "      <th>2</th>\n",
              "      <td>3</td>\n",
              "      <td>0.0</td>\n",
              "      <td>0.0</td>\n",
              "      <td>34.0</td>\n",
              "      <td>0.0</td>\n",
              "      <td>0.0</td>\n",
              "      <td>0.0</td>\n",
              "      <td>0.0</td>\n",
              "      <td>0.0</td>\n",
              "      <td>205.0</td>\n",
              "      <td>152.0</td>\n",
              "      <td>153.0</td>\n",
              "    </tr>\n",
              "    <tr>\n",
              "      <th>3</th>\n",
              "      <td>4</td>\n",
              "      <td>0.0</td>\n",
              "      <td>0.0</td>\n",
              "      <td>81.0</td>\n",
              "      <td>0.0</td>\n",
              "      <td>0.0</td>\n",
              "      <td>0.0</td>\n",
              "      <td>0.0</td>\n",
              "      <td>0.0</td>\n",
              "      <td>207.0</td>\n",
              "      <td>153.0</td>\n",
              "      <td>154.0</td>\n",
              "    </tr>\n",
              "    <tr>\n",
              "      <th>4</th>\n",
              "      <td>5</td>\n",
              "      <td>0.0</td>\n",
              "      <td>0.0</td>\n",
              "      <td>78.0</td>\n",
              "      <td>0.0</td>\n",
              "      <td>0.0</td>\n",
              "      <td>0.0</td>\n",
              "      <td>0.0</td>\n",
              "      <td>0.0</td>\n",
              "      <td>203.0</td>\n",
              "      <td>151.0</td>\n",
              "      <td>152.0</td>\n",
              "    </tr>\n",
              "    <tr>\n",
              "      <th>...</th>\n",
              "      <td>...</td>\n",
              "      <td>...</td>\n",
              "      <td>...</td>\n",
              "      <td>...</td>\n",
              "      <td>...</td>\n",
              "      <td>...</td>\n",
              "      <td>...</td>\n",
              "      <td>...</td>\n",
              "      <td>...</td>\n",
              "      <td>...</td>\n",
              "      <td>...</td>\n",
              "      <td>...</td>\n",
              "    </tr>\n",
              "    <tr>\n",
              "      <th>3124</th>\n",
              "      <td>3237</td>\n",
              "      <td>0.0</td>\n",
              "      <td>170.0</td>\n",
              "      <td>0.0</td>\n",
              "      <td>0.0</td>\n",
              "      <td>0.0</td>\n",
              "      <td>0.0</td>\n",
              "      <td>0.0</td>\n",
              "      <td>0.0</td>\n",
              "      <td>252.0</td>\n",
              "      <td>130.0</td>\n",
              "      <td>206.0</td>\n",
              "    </tr>\n",
              "    <tr>\n",
              "      <th>3125</th>\n",
              "      <td>3238</td>\n",
              "      <td>0.0</td>\n",
              "      <td>126.0</td>\n",
              "      <td>0.0</td>\n",
              "      <td>0.0</td>\n",
              "      <td>0.0</td>\n",
              "      <td>0.0</td>\n",
              "      <td>0.0</td>\n",
              "      <td>0.0</td>\n",
              "      <td>254.0</td>\n",
              "      <td>108.0</td>\n",
              "      <td>106.0</td>\n",
              "    </tr>\n",
              "    <tr>\n",
              "      <th>3126</th>\n",
              "      <td>3239</td>\n",
              "      <td>0.0</td>\n",
              "      <td>0.0</td>\n",
              "      <td>0.0</td>\n",
              "      <td>0.0</td>\n",
              "      <td>114.0</td>\n",
              "      <td>0.0</td>\n",
              "      <td>0.0</td>\n",
              "      <td>0.0</td>\n",
              "      <td>158.0</td>\n",
              "      <td>270.0</td>\n",
              "      <td>88.0</td>\n",
              "    </tr>\n",
              "    <tr>\n",
              "      <th>3127</th>\n",
              "      <td>3240</td>\n",
              "      <td>0.0</td>\n",
              "      <td>0.0</td>\n",
              "      <td>0.0</td>\n",
              "      <td>0.0</td>\n",
              "      <td>26.0</td>\n",
              "      <td>0.0</td>\n",
              "      <td>0.0</td>\n",
              "      <td>0.0</td>\n",
              "      <td>0.0</td>\n",
              "      <td>192.0</td>\n",
              "      <td>54.0</td>\n",
              "    </tr>\n",
              "    <tr>\n",
              "      <th>3128</th>\n",
              "      <td>3241</td>\n",
              "      <td>0.0</td>\n",
              "      <td>0.0</td>\n",
              "      <td>0.0</td>\n",
              "      <td>0.0</td>\n",
              "      <td>0.0</td>\n",
              "      <td>0.0</td>\n",
              "      <td>0.0</td>\n",
              "      <td>0.0</td>\n",
              "      <td>0.0</td>\n",
              "      <td>180.0</td>\n",
              "      <td>52.0</td>\n",
              "    </tr>\n",
              "  </tbody>\n",
              "</table>\n",
              "<p>3129 rows × 12 columns</p>\n",
              "</div>"
            ],
            "text/plain": [
              "       key  Bulk_1  Bulk_3  Bulk_4  Bulk_5  Bulk_6  Bulk_7  Bulk_10  Bulk_11  \\\n",
              "0        1     0.0     0.0    43.0     0.0     0.0     0.0      0.0      0.0   \n",
              "1        2     0.0     0.0    73.0     0.0     0.0     0.0      0.0      0.0   \n",
              "2        3     0.0     0.0    34.0     0.0     0.0     0.0      0.0      0.0   \n",
              "3        4     0.0     0.0    81.0     0.0     0.0     0.0      0.0      0.0   \n",
              "4        5     0.0     0.0    78.0     0.0     0.0     0.0      0.0      0.0   \n",
              "...    ...     ...     ...     ...     ...     ...     ...      ...      ...   \n",
              "3124  3237     0.0   170.0     0.0     0.0     0.0     0.0      0.0      0.0   \n",
              "3125  3238     0.0   126.0     0.0     0.0     0.0     0.0      0.0      0.0   \n",
              "3126  3239     0.0     0.0     0.0     0.0   114.0     0.0      0.0      0.0   \n",
              "3127  3240     0.0     0.0     0.0     0.0    26.0     0.0      0.0      0.0   \n",
              "3128  3241     0.0     0.0     0.0     0.0     0.0     0.0      0.0      0.0   \n",
              "\n",
              "      Bulk_12  Bulk_14  Bulk_15  \n",
              "0       206.0    150.0    154.0  \n",
              "1       206.0    149.0    154.0  \n",
              "2       205.0    152.0    153.0  \n",
              "3       207.0    153.0    154.0  \n",
              "4       203.0    151.0    152.0  \n",
              "...       ...      ...      ...  \n",
              "3124    252.0    130.0    206.0  \n",
              "3125    254.0    108.0    106.0  \n",
              "3126    158.0    270.0     88.0  \n",
              "3127      0.0    192.0     54.0  \n",
              "3128      0.0    180.0     52.0  \n",
              "\n",
              "[3129 rows x 12 columns]"
            ]
          },
          "execution_count": 42,
          "metadata": {},
          "output_type": "execute_result"
        }
      ],
      "execution_count": 42
    },
    {
      "id": "887ce54f",
      "cell_type": "code",
      "source": "data_final = pd.merge(data_final, data_bulk_new, on ='key', how ='inner')\nprint(data_final.shape)\ndata_final = pd.merge(data_final, data_gas_new, on ='key', how ='inner')\nprint(data_final.shape)\ndata_final = pd.merge(data_final, data_wire_new, on ='key', how ='inner') \ndata_final.shape",
      "metadata": {},
      "outputs": [
        {
          "name": "stdout",
          "output_type": "stream",
          "text": [
            "(2407, 16)\n",
            "(2405, 17)\n"
          ]
        },
        {
          "data": {
            "text/plain": [
              "(2329, 21)"
            ]
          },
          "execution_count": 43,
          "metadata": {},
          "output_type": "execute_result"
        }
      ],
      "execution_count": 43
    },
    {
      "id": "5911c450",
      "cell_type": "code",
      "source": "data_final = data_final.dropna().drop('key',axis=1)\ndata_final",
      "metadata": {},
      "outputs": [
        {
          "data": {
            "text/html": [
              "<div>\n",
              "<style scoped>\n",
              "    .dataframe tbody tr th:only-of-type {\n",
              "        vertical-align: middle;\n",
              "    }\n",
              "\n",
              "    .dataframe tbody tr th {\n",
              "        vertical-align: top;\n",
              "    }\n",
              "\n",
              "    .dataframe thead th {\n",
              "        text-align: right;\n",
              "    }\n",
              "</style>\n",
              "<table border=\"1\" class=\"dataframe\">\n",
              "  <thead>\n",
              "    <tr style=\"text-align: right;\">\n",
              "      <th></th>\n",
              "      <th>temperature_start</th>\n",
              "      <th>temperature_end</th>\n",
              "      <th>total_power</th>\n",
              "      <th>heating_duration</th>\n",
              "      <th>Bulk_1</th>\n",
              "      <th>Bulk_3</th>\n",
              "      <th>Bulk_4</th>\n",
              "      <th>Bulk_5</th>\n",
              "      <th>Bulk_6</th>\n",
              "      <th>Bulk_7</th>\n",
              "      <th>Bulk_10</th>\n",
              "      <th>Bulk_11</th>\n",
              "      <th>Bulk_12</th>\n",
              "      <th>Bulk_14</th>\n",
              "      <th>Bulk_15</th>\n",
              "      <th>Gas_1</th>\n",
              "      <th>Wire_1</th>\n",
              "      <th>Wire_2</th>\n",
              "      <th>Wire_3</th>\n",
              "      <th>Wire_6</th>\n",
              "    </tr>\n",
              "  </thead>\n",
              "  <tbody>\n",
              "    <tr>\n",
              "      <th>0</th>\n",
              "      <td>1571.0</td>\n",
              "      <td>1613.0</td>\n",
              "      <td>3.718736</td>\n",
              "      <td>18.300000</td>\n",
              "      <td>0.0</td>\n",
              "      <td>0.0</td>\n",
              "      <td>43.0</td>\n",
              "      <td>0.0</td>\n",
              "      <td>0.0</td>\n",
              "      <td>0.0</td>\n",
              "      <td>0.0</td>\n",
              "      <td>0.0</td>\n",
              "      <td>206.0</td>\n",
              "      <td>150.0</td>\n",
              "      <td>154.0</td>\n",
              "      <td>29.749986</td>\n",
              "      <td>60.059998</td>\n",
              "      <td>0.00000</td>\n",
              "      <td>0.0</td>\n",
              "      <td>0.0</td>\n",
              "    </tr>\n",
              "    <tr>\n",
              "      <th>1</th>\n",
              "      <td>1581.0</td>\n",
              "      <td>1602.0</td>\n",
              "      <td>2.588349</td>\n",
              "      <td>13.516667</td>\n",
              "      <td>0.0</td>\n",
              "      <td>0.0</td>\n",
              "      <td>73.0</td>\n",
              "      <td>0.0</td>\n",
              "      <td>0.0</td>\n",
              "      <td>0.0</td>\n",
              "      <td>0.0</td>\n",
              "      <td>0.0</td>\n",
              "      <td>206.0</td>\n",
              "      <td>149.0</td>\n",
              "      <td>154.0</td>\n",
              "      <td>12.555561</td>\n",
              "      <td>96.052315</td>\n",
              "      <td>0.00000</td>\n",
              "      <td>0.0</td>\n",
              "      <td>0.0</td>\n",
              "    </tr>\n",
              "    <tr>\n",
              "      <th>2</th>\n",
              "      <td>1596.0</td>\n",
              "      <td>1599.0</td>\n",
              "      <td>5.019223</td>\n",
              "      <td>10.916667</td>\n",
              "      <td>0.0</td>\n",
              "      <td>0.0</td>\n",
              "      <td>34.0</td>\n",
              "      <td>0.0</td>\n",
              "      <td>0.0</td>\n",
              "      <td>0.0</td>\n",
              "      <td>0.0</td>\n",
              "      <td>0.0</td>\n",
              "      <td>205.0</td>\n",
              "      <td>152.0</td>\n",
              "      <td>153.0</td>\n",
              "      <td>28.554793</td>\n",
              "      <td>91.160157</td>\n",
              "      <td>0.00000</td>\n",
              "      <td>0.0</td>\n",
              "      <td>0.0</td>\n",
              "    </tr>\n",
              "    <tr>\n",
              "      <th>3</th>\n",
              "      <td>1601.0</td>\n",
              "      <td>1625.0</td>\n",
              "      <td>3.400038</td>\n",
              "      <td>12.350000</td>\n",
              "      <td>0.0</td>\n",
              "      <td>0.0</td>\n",
              "      <td>81.0</td>\n",
              "      <td>0.0</td>\n",
              "      <td>0.0</td>\n",
              "      <td>0.0</td>\n",
              "      <td>0.0</td>\n",
              "      <td>0.0</td>\n",
              "      <td>207.0</td>\n",
              "      <td>153.0</td>\n",
              "      <td>154.0</td>\n",
              "      <td>18.841219</td>\n",
              "      <td>89.063515</td>\n",
              "      <td>0.00000</td>\n",
              "      <td>0.0</td>\n",
              "      <td>0.0</td>\n",
              "    </tr>\n",
              "    <tr>\n",
              "      <th>4</th>\n",
              "      <td>1576.0</td>\n",
              "      <td>1602.0</td>\n",
              "      <td>2.816980</td>\n",
              "      <td>14.483333</td>\n",
              "      <td>0.0</td>\n",
              "      <td>0.0</td>\n",
              "      <td>78.0</td>\n",
              "      <td>0.0</td>\n",
              "      <td>0.0</td>\n",
              "      <td>0.0</td>\n",
              "      <td>0.0</td>\n",
              "      <td>0.0</td>\n",
              "      <td>203.0</td>\n",
              "      <td>151.0</td>\n",
              "      <td>152.0</td>\n",
              "      <td>5.413692</td>\n",
              "      <td>89.238236</td>\n",
              "      <td>9.11456</td>\n",
              "      <td>0.0</td>\n",
              "      <td>0.0</td>\n",
              "    </tr>\n",
              "    <tr>\n",
              "      <th>...</th>\n",
              "      <td>...</td>\n",
              "      <td>...</td>\n",
              "      <td>...</td>\n",
              "      <td>...</td>\n",
              "      <td>...</td>\n",
              "      <td>...</td>\n",
              "      <td>...</td>\n",
              "      <td>...</td>\n",
              "      <td>...</td>\n",
              "      <td>...</td>\n",
              "      <td>...</td>\n",
              "      <td>...</td>\n",
              "      <td>...</td>\n",
              "      <td>...</td>\n",
              "      <td>...</td>\n",
              "      <td>...</td>\n",
              "      <td>...</td>\n",
              "      <td>...</td>\n",
              "      <td>...</td>\n",
              "      <td>...</td>\n",
              "    </tr>\n",
              "    <tr>\n",
              "      <th>2324</th>\n",
              "      <td>1570.0</td>\n",
              "      <td>1591.0</td>\n",
              "      <td>3.868721</td>\n",
              "      <td>12.050000</td>\n",
              "      <td>0.0</td>\n",
              "      <td>21.0</td>\n",
              "      <td>0.0</td>\n",
              "      <td>0.0</td>\n",
              "      <td>0.0</td>\n",
              "      <td>0.0</td>\n",
              "      <td>90.0</td>\n",
              "      <td>0.0</td>\n",
              "      <td>256.0</td>\n",
              "      <td>129.0</td>\n",
              "      <td>223.0</td>\n",
              "      <td>7.125735</td>\n",
              "      <td>89.150879</td>\n",
              "      <td>0.00000</td>\n",
              "      <td>0.0</td>\n",
              "      <td>0.0</td>\n",
              "    </tr>\n",
              "    <tr>\n",
              "      <th>2325</th>\n",
              "      <td>1554.0</td>\n",
              "      <td>1591.0</td>\n",
              "      <td>5.070316</td>\n",
              "      <td>15.666667</td>\n",
              "      <td>0.0</td>\n",
              "      <td>0.0</td>\n",
              "      <td>63.0</td>\n",
              "      <td>0.0</td>\n",
              "      <td>0.0</td>\n",
              "      <td>0.0</td>\n",
              "      <td>122.0</td>\n",
              "      <td>0.0</td>\n",
              "      <td>256.0</td>\n",
              "      <td>129.0</td>\n",
              "      <td>226.0</td>\n",
              "      <td>9.412616</td>\n",
              "      <td>114.179527</td>\n",
              "      <td>0.00000</td>\n",
              "      <td>0.0</td>\n",
              "      <td>0.0</td>\n",
              "    </tr>\n",
              "    <tr>\n",
              "      <th>2326</th>\n",
              "      <td>1571.0</td>\n",
              "      <td>1589.0</td>\n",
              "      <td>4.360918</td>\n",
              "      <td>9.483333</td>\n",
              "      <td>0.0</td>\n",
              "      <td>0.0</td>\n",
              "      <td>85.0</td>\n",
              "      <td>0.0</td>\n",
              "      <td>0.0</td>\n",
              "      <td>0.0</td>\n",
              "      <td>0.0</td>\n",
              "      <td>0.0</td>\n",
              "      <td>230.0</td>\n",
              "      <td>124.0</td>\n",
              "      <td>226.0</td>\n",
              "      <td>6.271699</td>\n",
              "      <td>94.086723</td>\n",
              "      <td>9.04800</td>\n",
              "      <td>0.0</td>\n",
              "      <td>0.0</td>\n",
              "    </tr>\n",
              "    <tr>\n",
              "      <th>2327</th>\n",
              "      <td>1591.0</td>\n",
              "      <td>1594.0</td>\n",
              "      <td>3.909917</td>\n",
              "      <td>12.500000</td>\n",
              "      <td>0.0</td>\n",
              "      <td>90.0</td>\n",
              "      <td>0.0</td>\n",
              "      <td>0.0</td>\n",
              "      <td>0.0</td>\n",
              "      <td>0.0</td>\n",
              "      <td>101.0</td>\n",
              "      <td>0.0</td>\n",
              "      <td>206.0</td>\n",
              "      <td>129.0</td>\n",
              "      <td>207.0</td>\n",
              "      <td>14.953657</td>\n",
              "      <td>118.110717</td>\n",
              "      <td>0.00000</td>\n",
              "      <td>0.0</td>\n",
              "      <td>0.0</td>\n",
              "    </tr>\n",
              "    <tr>\n",
              "      <th>2328</th>\n",
              "      <td>1569.0</td>\n",
              "      <td>1603.0</td>\n",
              "      <td>2.169252</td>\n",
              "      <td>14.716667</td>\n",
              "      <td>0.0</td>\n",
              "      <td>47.0</td>\n",
              "      <td>0.0</td>\n",
              "      <td>0.0</td>\n",
              "      <td>0.0</td>\n",
              "      <td>0.0</td>\n",
              "      <td>0.0</td>\n",
              "      <td>0.0</td>\n",
              "      <td>233.0</td>\n",
              "      <td>126.0</td>\n",
              "      <td>227.0</td>\n",
              "      <td>11.336151</td>\n",
              "      <td>110.160958</td>\n",
              "      <td>50.00528</td>\n",
              "      <td>0.0</td>\n",
              "      <td>0.0</td>\n",
              "    </tr>\n",
              "  </tbody>\n",
              "</table>\n",
              "<p>2329 rows × 20 columns</p>\n",
              "</div>"
            ],
            "text/plain": [
              "      temperature_start  temperature_end  total_power  heating_duration  \\\n",
              "0                1571.0           1613.0     3.718736         18.300000   \n",
              "1                1581.0           1602.0     2.588349         13.516667   \n",
              "2                1596.0           1599.0     5.019223         10.916667   \n",
              "3                1601.0           1625.0     3.400038         12.350000   \n",
              "4                1576.0           1602.0     2.816980         14.483333   \n",
              "...                 ...              ...          ...               ...   \n",
              "2324             1570.0           1591.0     3.868721         12.050000   \n",
              "2325             1554.0           1591.0     5.070316         15.666667   \n",
              "2326             1571.0           1589.0     4.360918          9.483333   \n",
              "2327             1591.0           1594.0     3.909917         12.500000   \n",
              "2328             1569.0           1603.0     2.169252         14.716667   \n",
              "\n",
              "      Bulk_1  Bulk_3  Bulk_4  Bulk_5  Bulk_6  Bulk_7  Bulk_10  Bulk_11  \\\n",
              "0        0.0     0.0    43.0     0.0     0.0     0.0      0.0      0.0   \n",
              "1        0.0     0.0    73.0     0.0     0.0     0.0      0.0      0.0   \n",
              "2        0.0     0.0    34.0     0.0     0.0     0.0      0.0      0.0   \n",
              "3        0.0     0.0    81.0     0.0     0.0     0.0      0.0      0.0   \n",
              "4        0.0     0.0    78.0     0.0     0.0     0.0      0.0      0.0   \n",
              "...      ...     ...     ...     ...     ...     ...      ...      ...   \n",
              "2324     0.0    21.0     0.0     0.0     0.0     0.0     90.0      0.0   \n",
              "2325     0.0     0.0    63.0     0.0     0.0     0.0    122.0      0.0   \n",
              "2326     0.0     0.0    85.0     0.0     0.0     0.0      0.0      0.0   \n",
              "2327     0.0    90.0     0.0     0.0     0.0     0.0    101.0      0.0   \n",
              "2328     0.0    47.0     0.0     0.0     0.0     0.0      0.0      0.0   \n",
              "\n",
              "      Bulk_12  Bulk_14  Bulk_15      Gas_1      Wire_1    Wire_2  Wire_3  \\\n",
              "0       206.0    150.0    154.0  29.749986   60.059998   0.00000     0.0   \n",
              "1       206.0    149.0    154.0  12.555561   96.052315   0.00000     0.0   \n",
              "2       205.0    152.0    153.0  28.554793   91.160157   0.00000     0.0   \n",
              "3       207.0    153.0    154.0  18.841219   89.063515   0.00000     0.0   \n",
              "4       203.0    151.0    152.0   5.413692   89.238236   9.11456     0.0   \n",
              "...       ...      ...      ...        ...         ...       ...     ...   \n",
              "2324    256.0    129.0    223.0   7.125735   89.150879   0.00000     0.0   \n",
              "2325    256.0    129.0    226.0   9.412616  114.179527   0.00000     0.0   \n",
              "2326    230.0    124.0    226.0   6.271699   94.086723   9.04800     0.0   \n",
              "2327    206.0    129.0    207.0  14.953657  118.110717   0.00000     0.0   \n",
              "2328    233.0    126.0    227.0  11.336151  110.160958  50.00528     0.0   \n",
              "\n",
              "      Wire_6  \n",
              "0        0.0  \n",
              "1        0.0  \n",
              "2        0.0  \n",
              "3        0.0  \n",
              "4        0.0  \n",
              "...      ...  \n",
              "2324     0.0  \n",
              "2325     0.0  \n",
              "2326     0.0  \n",
              "2327     0.0  \n",
              "2328     0.0  \n",
              "\n",
              "[2329 rows x 20 columns]"
            ]
          },
          "execution_count": 44,
          "metadata": {},
          "output_type": "execute_result"
        }
      ],
      "execution_count": 44
    },
    {
      "id": "f125dd2f",
      "cell_type": "code",
      "source": "data_final.isna().sum()",
      "metadata": {},
      "outputs": [
        {
          "data": {
            "text/plain": [
              "temperature_start    0\n",
              "temperature_end      0\n",
              "total_power          0\n",
              "heating_duration     0\n",
              "Bulk_1               0\n",
              "Bulk_3               0\n",
              "Bulk_4               0\n",
              "Bulk_5               0\n",
              "Bulk_6               0\n",
              "Bulk_7               0\n",
              "Bulk_10              0\n",
              "Bulk_11              0\n",
              "Bulk_12              0\n",
              "Bulk_14              0\n",
              "Bulk_15              0\n",
              "Gas_1                0\n",
              "Wire_1               0\n",
              "Wire_2               0\n",
              "Wire_3               0\n",
              "Wire_6               0\n",
              "dtype: int64"
            ]
          },
          "execution_count": 45,
          "metadata": {},
          "output_type": "execute_result"
        }
      ],
      "execution_count": 45
    },
    {
      "id": "ce224999",
      "cell_type": "markdown",
      "source": "## Step 4. Exploratory analysis and preprocessing of the combined dataframe data",
      "metadata": {}
    },
    {
      "id": "1f4abe79",
      "cell_type": "markdown",
      "source": "Now let's look at collinearity of features.",
      "metadata": {}
    },
    {
      "id": "57412028",
      "cell_type": "code",
      "source": "data_steel_knn = data_final.copy()\ncorr_heatmap_data = data_steel_knn.corr()\n\nfig, ax = plt.subplots(figsize=(20,20))\nax.set_xticks(np.arange(len(corr_heatmap_data.index)))\nax.set_yticks(np.arange(len(corr_heatmap_data.index)))\n\nax.set_xticklabels(corr_heatmap_data.index)\nax.set_yticklabels(corr_heatmap_data.index)\n\nplt.setp(ax.get_xticklabels(), rotation=45, ha=\"right\",\n         rotation_mode=\"anchor\")\n\ndata = corr_heatmap_data.values\n\nfor i in range(len(corr_heatmap_data.index)):\n    for j in range(len(corr_heatmap_data.index)):\n        text = ax.text(j, i, '{:.2}'.format(data[i, j]),\n                       ha=\"center\", va=\"center\", color=\"w\")\n        \nim = ax.imshow(corr_heatmap_data.corr(), cmap='Reds')",
      "metadata": {},
      "outputs": [
        {
          "data": {
            "image/png": "[encoded data removed]",
            "text/plain": [
              "<Figure size 1440x1440 with 1 Axes>"
            ]
          },
          "metadata": {
            "needs_background": "light"
          },
          "output_type": "display_data"
        }
      ],
      "execution_count": 46
    },
    {
      "id": "c5d2becc",
      "cell_type": "markdown",
      "source": "Conclusion from step 3 and 4: New features were generated - aggregated power, time at the beginning of the process, the target feature was identified and a collinearity analysis of the features was carried out. No signs with collinearity greater than 0.9 were found.",
      "metadata": {}
    },
    {
      "id": "a9d15838",
      "cell_type": "markdown",
      "source": "## Step 5. Data preparation",
      "metadata": {}
    },
    {
      "id": "d4d63316",
      "cell_type": "markdown",
      "source": "We divide the data into samples and perform scaling:",
      "metadata": {}
    },
    {
      "id": "7f842ef6",
      "cell_type": "code",
      "source": "random_state = 12042024\n\nfeatures = data_final.drop('temperature_end', axis=1)\ntarget = data_final['temperature_end']\n\nfeatures_train, features_test, target_train, target_test = train_test_split(\n                                                            features, \n                                                            target, \n                                                            test_size=0.25, \n                                                            random_state=random_state)\ncv_counts = 5\n\nscaler = StandardScaler()\nscaler.fit(features_train)\nfeatures_train = scaler.transform(features_train)\nfeatures_test = scaler.transform(features_test)",
      "metadata": {},
      "outputs": [],
      "execution_count": 47
    },
    {
      "id": "81dfe972",
      "cell_type": "markdown",
      "source": "We can start training models now\n.",
      "metadata": {}
    },
    {
      "id": "f8563577",
      "cell_type": "markdown",
      "source": "## Step 6. Train machine learning models",
      "metadata": {}
    },
    {
      "id": "4c70ccb4",
      "cell_type": "markdown",
      "source": "**Model\nLinearRegression**",
      "metadata": {}
    },
    {
      "id": "4e36b85f",
      "cell_type": "code",
      "source": "regressor = LinearRegression()\nprint('# Train for mean_absolute_error')\nprint()\ncv_MAE_LR = (cross_val_score(regressor, \n                             features_train, \n                             target_train, \n                             cv=cv_counts, \n                             scoring='neg_mean_absolute_error').mean() * -1)\nprint('Mean MAE from CV of LinearRegression =', cv_MAE_LR)",
      "metadata": {},
      "outputs": [
        {
          "name": "stdout",
          "output_type": "stream",
          "text": [
            "# Train for mean_absolute_error\n",
            "\n",
            "Mean MAE from CV of LinearRegression = 6.485283590378136\n"
          ]
        }
      ],
      "execution_count": 48
    },
    {
      "id": "98f9b81f",
      "cell_type": "markdown",
      "source": "MAE for LR =  6.48",
      "metadata": {}
    },
    {
      "id": "30cdd109",
      "cell_type": "markdown",
      "source": "**Model 2. RandomForestRegressor**",
      "metadata": {}
    },
    {
      "id": "4f13fff0",
      "cell_type": "code",
      "source": "%%time\n\nregressor = RandomForestRegressor() \nhyperparams = [{'criterion':['mse'],\n                'n_estimators':[x for x in range(100, 601, 50)], \n                'max_depth':[x for x in range(10, 19, 2)],\n                'random_state':[random_state]}]\nprint()\nclf = GridSearchCV(regressor, hyperparams, scoring='neg_mean_absolute_error', cv=cv_counts)\nclf.fit(features_train, target_train)\nprint(\"Best parameters set found on development set:\")\nprint()\nbest_params_RFR = clf.best_params_\nprint(clf.best_params_)\nprint()\nprint(\"Grid scores on development set:\")\nprint()\nmeans = clf.cv_results_['mean_test_score']\nstds = clf.cv_results_['std_test_score']\nfor mean, std, params in zip(means, stds, clf.cv_results_['params']):\n    print(\"%0.6f for %r\"% ((mean*-1), params))\nprint()\n\ncv_MAE_RFR = (max(means)*-1)",
      "metadata": {
        "scrolled": true
      },
      "outputs": [
        {
          "name": "stdout",
          "output_type": "stream",
          "text": [
            "\n",
            "Best parameters set found on development set:\n",
            "\n",
            "{'criterion': 'mse', 'max_depth': 12, 'n_estimators': 400, 'random_state': 12042024}\n",
            "\n",
            "Grid scores on development set:\n",
            "\n",
            "6.339545 for {'criterion': 'mse', 'max_depth': 10, 'n_estimators': 100, 'random_state': 12042024}\n",
            "6.325205 for {'criterion': 'mse', 'max_depth': 10, 'n_estimators': 150, 'random_state': 12042024}\n",
            "6.326119 for {'criterion': 'mse', 'max_depth': 10, 'n_estimators': 200, 'random_state': 12042024}\n",
            "6.315965 for {'criterion': 'mse', 'max_depth': 10, 'n_estimators': 250, 'random_state': 12042024}\n",
            "6.314011 for {'criterion': 'mse', 'max_depth': 10, 'n_estimators': 300, 'random_state': 12042024}\n",
            "6.316996 for {'criterion': 'mse', 'max_depth': 10, 'n_estimators': 350, 'random_state': 12042024}\n",
            "6.314845 for {'criterion': 'mse', 'max_depth': 10, 'n_estimators': 400, 'random_state': 12042024}\n",
            "6.314834 for {'criterion': 'mse', 'max_depth': 10, 'n_estimators': 450, 'random_state': 12042024}\n",
            "6.315682 for {'criterion': 'mse', 'max_depth': 10, 'n_estimators': 500, 'random_state': 12042024}\n",
            "6.312267 for {'criterion': 'mse', 'max_depth': 10, 'n_estimators': 550, 'random_state': 12042024}\n",
            "6.312924 for {'criterion': 'mse', 'max_depth': 10, 'n_estimators': 600, 'random_state': 12042024}\n",
            "6.341885 for {'criterion': 'mse', 'max_depth': 12, 'n_estimators': 100, 'random_state': 12042024}\n",
            "6.323453 for {'criterion': 'mse', 'max_depth': 12, 'n_estimators': 150, 'random_state': 12042024}\n",
            "6.321906 for {'criterion': 'mse', 'max_depth': 12, 'n_estimators': 200, 'random_state': 12042024}\n",
            "6.311441 for {'criterion': 'mse', 'max_depth': 12, 'n_estimators': 250, 'random_state': 12042024}\n",
            "6.308850 for {'criterion': 'mse', 'max_depth': 12, 'n_estimators': 300, 'random_state': 12042024}\n",
            "6.309970 for {'criterion': 'mse', 'max_depth': 12, 'n_estimators': 350, 'random_state': 12042024}\n",
            "6.305358 for {'criterion': 'mse', 'max_depth': 12, 'n_estimators': 400, 'random_state': 12042024}\n",
            "6.306912 for {'criterion': 'mse', 'max_depth': 12, 'n_estimators': 450, 'random_state': 12042024}\n",
            "6.308378 for {'criterion': 'mse', 'max_depth': 12, 'n_estimators': 500, 'random_state': 12042024}\n",
            "6.307977 for {'criterion': 'mse', 'max_depth': 12, 'n_estimators': 550, 'random_state': 12042024}\n",
            "6.308884 for {'criterion': 'mse', 'max_depth': 12, 'n_estimators': 600, 'random_state': 12042024}\n",
            "6.361132 for {'criterion': 'mse', 'max_depth': 14, 'n_estimators': 100, 'random_state': 12042024}\n",
            "6.341286 for {'criterion': 'mse', 'max_depth': 14, 'n_estimators': 150, 'random_state': 12042024}\n",
            "6.338919 for {'criterion': 'mse', 'max_depth': 14, 'n_estimators': 200, 'random_state': 12042024}\n",
            "6.330634 for {'criterion': 'mse', 'max_depth': 14, 'n_estimators': 250, 'random_state': 12042024}\n",
            "6.326960 for {'criterion': 'mse', 'max_depth': 14, 'n_estimators': 300, 'random_state': 12042024}\n",
            "6.328805 for {'criterion': 'mse', 'max_depth': 14, 'n_estimators': 350, 'random_state': 12042024}\n",
            "6.324364 for {'criterion': 'mse', 'max_depth': 14, 'n_estimators': 400, 'random_state': 12042024}\n",
            "6.321543 for {'criterion': 'mse', 'max_depth': 14, 'n_estimators': 450, 'random_state': 12042024}\n",
            "6.322254 for {'criterion': 'mse', 'max_depth': 14, 'n_estimators': 500, 'random_state': 12042024}\n",
            "6.319540 for {'criterion': 'mse', 'max_depth': 14, 'n_estimators': 550, 'random_state': 12042024}\n",
            "6.319487 for {'criterion': 'mse', 'max_depth': 14, 'n_estimators': 600, 'random_state': 12042024}\n",
            "6.368011 for {'criterion': 'mse', 'max_depth': 16, 'n_estimators': 100, 'random_state': 12042024}\n",
            "6.347904 for {'criterion': 'mse', 'max_depth': 16, 'n_estimators': 150, 'random_state': 12042024}\n",
            "6.346978 for {'criterion': 'mse', 'max_depth': 16, 'n_estimators': 200, 'random_state': 12042024}\n",
            "6.336313 for {'criterion': 'mse', 'max_depth': 16, 'n_estimators': 250, 'random_state': 12042024}\n",
            "6.331814 for {'criterion': 'mse', 'max_depth': 16, 'n_estimators': 300, 'random_state': 12042024}\n",
            "6.332673 for {'criterion': 'mse', 'max_depth': 16, 'n_estimators': 350, 'random_state': 12042024}\n",
            "6.329014 for {'criterion': 'mse', 'max_depth': 16, 'n_estimators': 400, 'random_state': 12042024}\n",
            "6.327009 for {'criterion': 'mse', 'max_depth': 16, 'n_estimators': 450, 'random_state': 12042024}\n",
            "6.329388 for {'criterion': 'mse', 'max_depth': 16, 'n_estimators': 500, 'random_state': 12042024}\n",
            "6.324385 for {'criterion': 'mse', 'max_depth': 16, 'n_estimators': 550, 'random_state': 12042024}\n",
            "6.323645 for {'criterion': 'mse', 'max_depth': 16, 'n_estimators': 600, 'random_state': 12042024}\n",
            "6.384179 for {'criterion': 'mse', 'max_depth': 18, 'n_estimators': 100, 'random_state': 12042024}\n",
            "6.362008 for {'criterion': 'mse', 'max_depth': 18, 'n_estimators': 150, 'random_state': 12042024}\n",
            "6.359935 for {'criterion': 'mse', 'max_depth': 18, 'n_estimators': 200, 'random_state': 12042024}\n",
            "6.355378 for {'criterion': 'mse', 'max_depth': 18, 'n_estimators': 250, 'random_state': 12042024}\n",
            "6.347324 for {'criterion': 'mse', 'max_depth': 18, 'n_estimators': 300, 'random_state': 12042024}\n",
            "6.345049 for {'criterion': 'mse', 'max_depth': 18, 'n_estimators': 350, 'random_state': 12042024}\n",
            "6.339905 for {'criterion': 'mse', 'max_depth': 18, 'n_estimators': 400, 'random_state': 12042024}\n",
            "6.336956 for {'criterion': 'mse', 'max_depth': 18, 'n_estimators': 450, 'random_state': 12042024}\n",
            "6.334323 for {'criterion': 'mse', 'max_depth': 18, 'n_estimators': 500, 'random_state': 12042024}\n",
            "6.330417 for {'criterion': 'mse', 'max_depth': 18, 'n_estimators': 550, 'random_state': 12042024}\n",
            "6.329713 for {'criterion': 'mse', 'max_depth': 18, 'n_estimators': 600, 'random_state': 12042024}\n",
            "\n",
            "CPU times: user 11min 57s, sys: 1.72 s, total: 11min 59s\n",
            "Wall time: 12min\n"
          ]
        }
      ],
      "execution_count": 49
    },
    {
      "id": "789c9333",
      "cell_type": "markdown",
      "source": "Lowest MAE 6.3 for parameters 'max_depth': 12, 'n_estimators': 400.",
      "metadata": {}
    },
    {
      "id": "bfe07842",
      "cell_type": "markdown",
      "source": "Посмотрим на важность признаков:",
      "metadata": {}
    },
    {
      "id": "78f54e42",
      "cell_type": "code",
      "source": "regressor = RandomForestRegressor(max_depth=16,n_estimators=450, random_state=random_state)\nregressor.fit(features_train, target_train)\nimportances = regressor.feature_importances_\nfeature_names=features.columns\nforest_importances = pd.Series(importances, index=feature_names)\n\nfig, ax = plt.subplots()\nforest_importances.plot.bar(yerr=std, ax=ax)\nax.set_title(\"Feature importance\")\nax.set_ylabel(\"Decrease in impurity\")\n\nfig.tight_layout()",
      "metadata": {
        "trusted": true
      },
      "outputs": [],
      "execution_count": null
    },
    {
      "id": "321f218a",
      "cell_type": "markdown",
      "source": "The attributes \"temperature_start\", \"heatingduration\", \"Bulk_12\", \"Gas1\", \"Wire_1\" have the greatest impact on the target feature.",
      "metadata": {}
    },
    {
      "id": "7c26b197",
      "cell_type": "markdown",
      "source": "**Model 3.XboostRegressor**",
      "metadata": {}
    },
    {
      "id": "cf40a925",
      "cell_type": "code",
      "source": "regressor = XGBRegressor() \nhyperparams = [{'learning_rate':[0.01, 0.05, 0.07, 0.08, 0.1, 1],\n                'random_state':[random_state]                \n                 }]\n#[x/100 for x in range(1, 51)]\nprint()\nmodel_XGB = GridSearchCV(regressor, hyperparams, scoring='neg_mean_absolute_error', cv=cv_counts)\nmodel_XGB.fit(features_train, target_train)\nprint(\"Best parameters set found on development set:\")\nprint()\nbest_params_XGBR = model_XGB.best_params_\nprint(model_XGB.best_params_)\nprint()\nprint(\"Grid scores on development set:\")\nprint()\nmeans = model_XGB.cv_results_['mean_test_score']\nstds = model_XGB.cv_results_['std_test_score']\nfor mean, std, params in zip(means, stds, model_XGB.cv_results_['params']):\n    print(\"%0.6f for %r\"% ((mean*-1), params))\nprint()\n\ncv_MAE_XGBR = (max(means)*-1)",
      "metadata": {
        "scrolled": true
      },
      "outputs": [
        {
          "name": "stdout",
          "output_type": "stream",
          "text": [
            "\n",
            "Best parameters set found on development set:\n",
            "\n",
            "{'learning_rate': 0.08, 'random_state': 12042024}\n",
            "\n",
            "Grid scores on development set:\n",
            "\n",
            "583.430665 for {'learning_rate': 0.01, 'random_state': 12042024}\n",
            "10.674086 for {'learning_rate': 0.05, 'random_state': 12042024}\n",
            "6.326028 for {'learning_rate': 0.07, 'random_state': 12042024}\n",
            "6.281906 for {'learning_rate': 0.08, 'random_state': 12042024}\n",
            "6.302055 for {'learning_rate': 0.1, 'random_state': 12042024}\n",
            "8.237537 for {'learning_rate': 1, 'random_state': 12042024}\n",
            "\n"
          ]
        }
      ],
      "execution_count": 51
    },
    {
      "id": "c0826943",
      "cell_type": "markdown",
      "source": "The smallest MAE for XboostRegressor 6.28 was achieved with learning_rate 0.08",
      "metadata": {}
    },
    {
      "id": "6ab283af",
      "cell_type": "markdown",
      "source": "Let's look at the importance of the factors.",
      "metadata": {}
    },
    {
      "id": "36da8a22",
      "cell_type": "code",
      "source": "model = XGBRegressor()\nmodel.fit(features_train, target_train)\nprint(model.feature_importances_)\n# plot\nfeature_importances = model.feature_importances_\nplt.bar(range(len(feature_importances)), feature_importances)\n\n\nplt.xticks(range(len(feature_importances)), feature_names, rotation=90)\nplt.title('Feature importance')\nplt.show()",
      "metadata": {
        "trusted": true
      },
      "outputs": [],
      "execution_count": null
    },
    {
      "id": "9f916a06",
      "cell_type": "markdown",
      "source": "The most important features are Wire 6, heating duration, Bulk 7.",
      "metadata": {}
    },
    {
      "id": "d942d920",
      "cell_type": "markdown",
      "source": "**Model 4. CatBoostRegressor**",
      "metadata": {}
    },
    {
      "id": "6f6096b1",
      "cell_type": "code",
      "source": "\nregressor = CatBoostRegressor(verbose=False, random_state=random_state)\nprint('# Train for mean_absolute_error')\nprint()\ncv_MAE_CBR = (cross_val_score(regressor, \n                             features_train, \n                             target_train, \n                             cv=cv_counts, \n                             scoring='neg_mean_absolute_error').mean() * -1)\nprint('Mean MAE from CV of CatBoostRegressor =', cv_MAE_CBR)",
      "metadata": {},
      "outputs": [
        {
          "name": "stdout",
          "output_type": "stream",
          "text": [
            "# Train for mean_absolute_error\n",
            "\n",
            "Mean MAE from CV of CatBoostRegressor = 6.290529676104917\n"
          ]
        }
      ],
      "execution_count": 53
    },
    {
      "id": "9382034b",
      "cell_type": "code",
      "source": "best_params_CBR = CatBoostRegressor(verbose=False, \n                                    random_state=random_state).fit(features_train, \n                                        target_train).get_all_params()\nbest_params_CBR",
      "metadata": {},
      "outputs": [
        {
          "data": {
            "text/plain": [
              "{'nan_mode': 'Min',\n",
              " 'eval_metric': 'RMSE',\n",
              " 'iterations': 1000,\n",
              " 'sampling_frequency': 'PerTree',\n",
              " 'leaf_estimation_method': 'Newton',\n",
              " 'grow_policy': 'SymmetricTree',\n",
              " 'penalties_coefficient': 1,\n",
              " 'boosting_type': 'Plain',\n",
              " 'model_shrink_mode': 'Constant',\n",
              " 'feature_border_type': 'GreedyLogSum',\n",
              " 'bayesian_matrix_reg': 0.10000000149011612,\n",
              " 'force_unit_auto_pair_weights': False,\n",
              " 'l2_leaf_reg': 3,\n",
              " 'random_strength': 1,\n",
              " 'rsm': 1,\n",
              " 'boost_from_average': True,\n",
              " 'model_size_reg': 0.5,\n",
              " 'pool_metainfo_options': {'tags': {}},\n",
              " 'subsample': 0.800000011920929,\n",
              " 'use_best_model': False,\n",
              " 'random_seed': 12042024,\n",
              " 'depth': 6,\n",
              " 'posterior_sampling': False,\n",
              " 'border_count': 254,\n",
              " 'classes_count': 0,\n",
              " 'auto_class_weights': 'None',\n",
              " 'sparse_features_conflict_fraction': 0,\n",
              " 'leaf_estimation_backtracking': 'AnyImprovement',\n",
              " 'best_model_min_trees': 1,\n",
              " 'model_shrink_rate': 0,\n",
              " 'min_data_in_leaf': 1,\n",
              " 'loss_function': 'RMSE',\n",
              " 'learning_rate': 0.04471199959516525,\n",
              " 'score_function': 'Cosine',\n",
              " 'task_type': 'CPU',\n",
              " 'leaf_estimation_iterations': 1,\n",
              " 'bootstrap_type': 'MVS',\n",
              " 'max_leaves': 64}"
            ]
          },
          "execution_count": 54,
          "metadata": {},
          "output_type": "execute_result"
        }
      ],
      "execution_count": 54
    },
    {
      "id": "734f814e",
      "cell_type": "markdown",
      "source": "Для Catboost метрика MAE составляет  ~~7.35~~ 6.29.",
      "metadata": {}
    },
    {
      "id": "858ca273",
      "cell_type": "markdown",
      "source": "## Step 7. Selecting the best model",
      "metadata": {}
    },
    {
      "id": "f38170e8",
      "cell_type": "markdown",
      "source": "Let's test the best model on test data:",
      "metadata": {}
    },
    {
      "id": "2c94076e",
      "cell_type": "code",
      "source": "model = XGBRegressor()\nmodel.set_params(**best_params_XGBR)\nmodel.fit(features_train, target_train)\ntarget_predict = model.predict(features_test)\ntest_MAE_XGBR = mean_absolute_error(target_predict, target_test)\nprint('MAE on test of XGBRegressor =', test_MAE_XGBR)",
      "metadata": {},
      "outputs": [
        {
          "name": "stdout",
          "output_type": "stream",
          "text": [
            "MAE on test of XGBRegressor = 5.986269288365674\n"
          ]
        }
      ],
      "execution_count": 55
    },
    {
      "id": "0dd53187",
      "cell_type": "markdown",
      "source": "On test data, the MAE metric is 5.98",
      "metadata": {}
    },
    {
      "id": "7c556333",
      "cell_type": "markdown",
      "source": "## Step 8. General conclusion and recommendations to the customer",
      "metadata": {}
    },
    {
      "id": "89a6ece4",
      "cell_type": "markdown",
      "source": "- Data on the steel melting process were obtained. Data types have been changed, omissions and outliers have been handled. Unnecessary data has been removed.\r\n- Signs have been prepared. A single table was compiled with all the data for the model. The target feature is highlighted as the last measurement in a series of measurements. The data is divided into features and target with data mixing.\r\n- Several models were trained with selection of parameters. The importance of the features was analyzed: the most important were “temperature_start”, “total_power”, “Bulk_12”, “Gas1”, “Wire_1”, “Wire 4”. By adjusting their values during production, you can optimize the process and reduce energy costs.\r\n- The effectiveness of the model was assessed on a test sample.\r\nThe best model turned out to be XGBRegressor with a mae value on the test sample of 5.9",
      "metadata": {}
    },
    {
      "id": "4b7b7a48",
      "cell_type": "code",
      "source": "",
      "metadata": {},
      "outputs": [],
      "execution_count": null
    }
  ]
}
