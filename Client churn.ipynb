{
  "metadata": {
    "kernelspec": {
      "name": "python",
      "display_name": "Python (Pyodide)",
      "language": "python"
    },
    "language_info": {
      "codemirror_mode": {
        "name": "python",
        "version": 3
      },
      "file_extension": ".py",
      "mimetype": "text/x-python",
      "name": "python",
      "nbconvert_exporter": "python",
      "pygments_lexer": "ipython3",
      "version": "3.8"
    },
    "ExecuteTimeLog": [
      {
        "duration": 465,
        "start_time": "2024-01-21T18:52:16.957Z"
      },
      {
        "duration": 87,
        "start_time": "2024-01-21T18:53:31.094Z"
      },
      {
        "duration": 39,
        "start_time": "2024-01-21T18:53:38.351Z"
      },
      {
        "duration": 67,
        "start_time": "2024-01-21T18:53:56.647Z"
      },
      {
        "duration": 3,
        "start_time": "2024-01-21T18:55:44.130Z"
      },
      {
        "duration": 53,
        "start_time": "2024-01-21T18:55:44.361Z"
      },
      {
        "duration": 14,
        "start_time": "2024-01-21T19:07:07.662Z"
      },
      {
        "duration": 6,
        "start_time": "2024-01-21T19:08:28.975Z"
      },
      {
        "duration": 5,
        "start_time": "2024-01-21T19:08:36.362Z"
      },
      {
        "duration": 5,
        "start_time": "2024-01-21T19:08:48.812Z"
      },
      {
        "duration": 5,
        "start_time": "2024-01-21T19:10:37.268Z"
      },
      {
        "duration": 477,
        "start_time": "2024-01-21T19:12:11.401Z"
      },
      {
        "duration": 30,
        "start_time": "2024-01-21T19:15:36.127Z"
      },
      {
        "duration": 11,
        "start_time": "2024-01-21T19:15:50.638Z"
      },
      {
        "duration": 19,
        "start_time": "2024-01-21T19:15:54.601Z"
      },
      {
        "duration": 11,
        "start_time": "2024-01-21T19:16:50.512Z"
      },
      {
        "duration": 10,
        "start_time": "2024-01-21T19:16:56.028Z"
      },
      {
        "duration": 12,
        "start_time": "2024-01-21T19:16:59.061Z"
      },
      {
        "duration": 5,
        "start_time": "2024-01-21T19:17:34.347Z"
      },
      {
        "duration": 4,
        "start_time": "2024-01-21T19:18:23.607Z"
      },
      {
        "duration": 87,
        "start_time": "2024-01-21T19:23:22.876Z"
      },
      {
        "duration": 11,
        "start_time": "2024-01-21T19:23:31.405Z"
      },
      {
        "duration": 6,
        "start_time": "2024-01-21T19:23:59.219Z"
      },
      {
        "duration": 9,
        "start_time": "2024-01-21T19:24:22.636Z"
      },
      {
        "duration": 22,
        "start_time": "2024-01-21T19:24:29.452Z"
      },
      {
        "duration": 11,
        "start_time": "2024-01-21T19:24:49.601Z"
      },
      {
        "duration": 24,
        "start_time": "2024-01-21T19:24:59.005Z"
      },
      {
        "duration": 33,
        "start_time": "2024-01-21T19:25:25.100Z"
      },
      {
        "duration": 20,
        "start_time": "2024-01-21T19:25:56.711Z"
      },
      {
        "duration": 25,
        "start_time": "2024-01-21T19:26:15.005Z"
      },
      {
        "duration": 29,
        "start_time": "2024-01-21T19:26:33.638Z"
      },
      {
        "duration": 15,
        "start_time": "2024-01-21T19:27:04.737Z"
      },
      {
        "duration": 27,
        "start_time": "2024-01-21T19:28:15.385Z"
      },
      {
        "duration": 27,
        "start_time": "2024-01-21T19:29:53.554Z"
      },
      {
        "duration": 13,
        "start_time": "2024-01-21T19:31:24.891Z"
      },
      {
        "duration": 28,
        "start_time": "2024-01-21T19:31:30.584Z"
      },
      {
        "duration": 26,
        "start_time": "2024-01-21T19:34:51.355Z"
      },
      {
        "duration": 28,
        "start_time": "2024-01-21T19:36:29.154Z"
      },
      {
        "duration": 19,
        "start_time": "2024-01-21T19:36:46.216Z"
      },
      {
        "duration": 18,
        "start_time": "2024-01-21T19:36:52.517Z"
      },
      {
        "duration": 12,
        "start_time": "2024-01-21T19:37:52.538Z"
      },
      {
        "duration": 12,
        "start_time": "2024-01-21T19:38:42.886Z"
      },
      {
        "duration": 10,
        "start_time": "2024-01-21T19:38:48.995Z"
      },
      {
        "duration": 10,
        "start_time": "2024-01-21T19:40:45.440Z"
      },
      {
        "duration": 27,
        "start_time": "2024-01-21T19:40:49.222Z"
      },
      {
        "duration": 13,
        "start_time": "2024-01-21T19:41:10.320Z"
      },
      {
        "duration": 15,
        "start_time": "2024-01-21T19:41:23.309Z"
      },
      {
        "duration": 13,
        "start_time": "2024-01-21T19:41:47.282Z"
      },
      {
        "duration": 3,
        "start_time": "2024-01-21T19:41:53.191Z"
      },
      {
        "duration": 59,
        "start_time": "2024-01-21T19:41:53.196Z"
      },
      {
        "duration": 15,
        "start_time": "2024-01-21T19:41:53.256Z"
      },
      {
        "duration": 20,
        "start_time": "2024-01-21T19:41:53.273Z"
      },
      {
        "duration": 22,
        "start_time": "2024-01-21T19:41:53.295Z"
      },
      {
        "duration": 46,
        "start_time": "2024-01-21T19:41:53.320Z"
      },
      {
        "duration": 11,
        "start_time": "2024-01-21T19:41:57.850Z"
      },
      {
        "duration": 29,
        "start_time": "2024-01-21T19:41:59.581Z"
      },
      {
        "duration": 16,
        "start_time": "2024-01-21T19:42:06.612Z"
      },
      {
        "duration": 26,
        "start_time": "2024-01-21T19:42:11.541Z"
      },
      {
        "duration": 27,
        "start_time": "2024-01-21T19:42:19.963Z"
      },
      {
        "duration": 13,
        "start_time": "2024-01-21T19:42:39.159Z"
      },
      {
        "duration": 16,
        "start_time": "2024-01-21T20:10:28.301Z"
      },
      {
        "duration": 3,
        "start_time": "2024-01-21T20:10:57.848Z"
      },
      {
        "duration": 52,
        "start_time": "2024-01-21T20:10:58.814Z"
      },
      {
        "duration": 13,
        "start_time": "2024-01-21T20:11:00.109Z"
      },
      {
        "duration": 15,
        "start_time": "2024-01-21T20:11:02.277Z"
      },
      {
        "duration": 19,
        "start_time": "2024-01-21T20:11:07.074Z"
      },
      {
        "duration": 13,
        "start_time": "2024-01-21T20:11:09.729Z"
      },
      {
        "duration": 18,
        "start_time": "2024-01-21T20:11:13.131Z"
      },
      {
        "duration": 8,
        "start_time": "2024-01-21T20:11:46.213Z"
      },
      {
        "duration": 18,
        "start_time": "2024-01-21T20:11:56.716Z"
      },
      {
        "duration": 20,
        "start_time": "2024-01-21T20:12:32.266Z"
      },
      {
        "duration": 3,
        "start_time": "2024-01-21T20:12:48.726Z"
      },
      {
        "duration": 54,
        "start_time": "2024-01-21T20:12:48.732Z"
      },
      {
        "duration": 13,
        "start_time": "2024-01-21T20:12:48.788Z"
      },
      {
        "duration": 18,
        "start_time": "2024-01-21T20:12:48.802Z"
      },
      {
        "duration": 38,
        "start_time": "2024-01-21T20:12:48.822Z"
      },
      {
        "duration": 12,
        "start_time": "2024-01-21T20:12:48.862Z"
      },
      {
        "duration": 20,
        "start_time": "2024-01-21T20:12:51.349Z"
      },
      {
        "duration": 14,
        "start_time": "2024-01-21T20:14:10.190Z"
      },
      {
        "duration": 27,
        "start_time": "2024-01-21T20:14:18.573Z"
      },
      {
        "duration": 21,
        "start_time": "2024-01-21T20:14:27.008Z"
      },
      {
        "duration": 20,
        "start_time": "2024-01-21T20:14:48.829Z"
      },
      {
        "duration": 13,
        "start_time": "2024-01-21T20:15:29.547Z"
      },
      {
        "duration": 13,
        "start_time": "2024-01-21T20:15:33.377Z"
      },
      {
        "duration": 27,
        "start_time": "2024-01-21T20:15:39.348Z"
      },
      {
        "duration": 11,
        "start_time": "2024-01-21T20:16:25.614Z"
      },
      {
        "duration": 29,
        "start_time": "2024-01-21T20:16:26.636Z"
      },
      {
        "duration": 10,
        "start_time": "2024-01-21T20:16:29.794Z"
      },
      {
        "duration": 777,
        "start_time": "2024-01-21T20:18:47.522Z"
      },
      {
        "duration": 13,
        "start_time": "2024-01-21T20:20:04.314Z"
      },
      {
        "duration": 80,
        "start_time": "2024-01-21T20:21:49.499Z"
      },
      {
        "duration": 117,
        "start_time": "2024-01-21T20:21:51.038Z"
      },
      {
        "duration": 43,
        "start_time": "2024-01-21T20:22:17.589Z"
      },
      {
        "duration": 25,
        "start_time": "2024-01-21T20:22:33.914Z"
      },
      {
        "duration": 84,
        "start_time": "2024-01-21T20:22:38.499Z"
      },
      {
        "duration": 262,
        "start_time": "2024-01-21T20:22:38.802Z"
      },
      {
        "duration": 90,
        "start_time": "2024-01-21T20:23:07.909Z"
      },
      {
        "duration": 1127,
        "start_time": "2024-01-22T14:22:15.181Z"
      },
      {
        "duration": 172,
        "start_time": "2024-01-22T14:22:16.310Z"
      },
      {
        "duration": 13,
        "start_time": "2024-01-22T14:22:16.483Z"
      },
      {
        "duration": 490,
        "start_time": "2024-01-22T14:22:16.498Z"
      },
      {
        "duration": 24,
        "start_time": "2024-01-22T14:22:16.990Z"
      },
      {
        "duration": 16,
        "start_time": "2024-01-22T14:22:17.016Z"
      },
      {
        "duration": 29,
        "start_time": "2024-01-22T14:22:17.034Z"
      },
      {
        "duration": 29,
        "start_time": "2024-01-22T14:22:17.065Z"
      },
      {
        "duration": 5,
        "start_time": "2024-01-22T14:22:17.096Z"
      },
      {
        "duration": 105,
        "start_time": "2024-01-22T14:22:17.103Z"
      },
      {
        "duration": 134,
        "start_time": "2024-01-22T14:22:17.209Z"
      },
      {
        "duration": 254,
        "start_time": "2024-01-22T14:22:17.344Z"
      },
      {
        "duration": 14,
        "start_time": "2024-01-22T14:23:03.073Z"
      },
      {
        "duration": 14,
        "start_time": "2024-01-22T14:23:38.480Z"
      },
      {
        "duration": 84,
        "start_time": "2024-01-22T14:25:35.704Z"
      },
      {
        "duration": 1345,
        "start_time": "2024-01-22T14:25:54.907Z"
      },
      {
        "duration": 131,
        "start_time": "2024-01-22T14:26:17.472Z"
      },
      {
        "duration": 15,
        "start_time": "2024-01-22T14:26:38.903Z"
      },
      {
        "duration": 3,
        "start_time": "2024-01-22T14:26:45.676Z"
      },
      {
        "duration": 72,
        "start_time": "2024-01-22T14:26:45.681Z"
      },
      {
        "duration": 13,
        "start_time": "2024-01-22T14:26:45.755Z"
      },
      {
        "duration": 17,
        "start_time": "2024-01-22T14:26:45.769Z"
      },
      {
        "duration": 17,
        "start_time": "2024-01-22T14:26:45.788Z"
      },
      {
        "duration": 16,
        "start_time": "2024-01-22T14:26:45.806Z"
      },
      {
        "duration": 25,
        "start_time": "2024-01-22T14:26:45.823Z"
      },
      {
        "duration": 9,
        "start_time": "2024-01-22T14:26:45.849Z"
      },
      {
        "duration": 5,
        "start_time": "2024-01-22T14:27:00.393Z"
      },
      {
        "duration": 9,
        "start_time": "2024-01-22T14:29:02.541Z"
      },
      {
        "duration": 121,
        "start_time": "2024-01-22T14:31:28.192Z"
      },
      {
        "duration": 122,
        "start_time": "2024-01-22T14:33:35.866Z"
      },
      {
        "duration": 141,
        "start_time": "2024-01-22T14:33:49.468Z"
      },
      {
        "duration": 196,
        "start_time": "2024-01-22T14:33:57.562Z"
      },
      {
        "duration": 113,
        "start_time": "2024-01-22T14:34:01.648Z"
      },
      {
        "duration": 122,
        "start_time": "2024-01-22T14:34:04.387Z"
      },
      {
        "duration": 136,
        "start_time": "2024-01-22T14:34:08.977Z"
      },
      {
        "duration": 116,
        "start_time": "2024-01-22T14:34:16.866Z"
      },
      {
        "duration": 9,
        "start_time": "2024-01-22T14:36:30.543Z"
      },
      {
        "duration": 63,
        "start_time": "2024-01-22T14:36:59.838Z"
      },
      {
        "duration": 176,
        "start_time": "2024-01-22T14:37:49.904Z"
      },
      {
        "duration": 61,
        "start_time": "2024-01-22T14:38:12.456Z"
      },
      {
        "duration": 173,
        "start_time": "2024-01-22T14:38:18.008Z"
      },
      {
        "duration": 16,
        "start_time": "2024-01-22T14:41:33.307Z"
      },
      {
        "duration": 132,
        "start_time": "2024-01-22T14:48:43.820Z"
      },
      {
        "duration": 115,
        "start_time": "2024-01-22T14:48:49.130Z"
      },
      {
        "duration": 122,
        "start_time": "2024-01-22T14:48:54.144Z"
      },
      {
        "duration": 202,
        "start_time": "2024-01-22T14:49:02.365Z"
      },
      {
        "duration": 130,
        "start_time": "2024-01-22T14:49:29.780Z"
      },
      {
        "duration": 96,
        "start_time": "2024-01-22T14:50:22.983Z"
      },
      {
        "duration": 152,
        "start_time": "2024-01-22T14:51:11.287Z"
      },
      {
        "duration": 122,
        "start_time": "2024-01-22T14:51:23.553Z"
      },
      {
        "duration": 32,
        "start_time": "2024-01-22T15:19:07.637Z"
      },
      {
        "duration": 40,
        "start_time": "2024-01-22T15:21:15.604Z"
      },
      {
        "duration": 28,
        "start_time": "2024-01-22T15:21:39.907Z"
      },
      {
        "duration": 20,
        "start_time": "2024-01-22T15:21:47.212Z"
      },
      {
        "duration": 4,
        "start_time": "2024-01-22T15:21:56.372Z"
      },
      {
        "duration": 53,
        "start_time": "2024-01-22T15:21:56.380Z"
      },
      {
        "duration": 16,
        "start_time": "2024-01-22T15:21:56.436Z"
      },
      {
        "duration": 26,
        "start_time": "2024-01-22T15:21:56.454Z"
      },
      {
        "duration": 18,
        "start_time": "2024-01-22T15:21:56.483Z"
      },
      {
        "duration": 12,
        "start_time": "2024-01-22T15:21:56.503Z"
      },
      {
        "duration": 26,
        "start_time": "2024-01-22T15:21:56.517Z"
      },
      {
        "duration": 9,
        "start_time": "2024-01-22T15:21:56.545Z"
      },
      {
        "duration": 167,
        "start_time": "2024-01-22T15:21:56.556Z"
      },
      {
        "duration": 135,
        "start_time": "2024-01-22T15:21:56.724Z"
      },
      {
        "duration": 115,
        "start_time": "2024-01-22T15:21:56.861Z"
      },
      {
        "duration": 18,
        "start_time": "2024-01-22T15:21:56.977Z"
      },
      {
        "duration": 92,
        "start_time": "2024-01-22T15:21:56.996Z"
      },
      {
        "duration": 107,
        "start_time": "2024-01-22T15:21:57.090Z"
      },
      {
        "duration": 14,
        "start_time": "2024-01-22T15:22:29.897Z"
      },
      {
        "duration": 44,
        "start_time": "2024-01-22T15:22:30.311Z"
      },
      {
        "duration": 103,
        "start_time": "2024-01-22T15:22:31.096Z"
      },
      {
        "duration": 479012,
        "start_time": "2024-01-22T15:54:39.598Z"
      },
      {
        "duration": 1395,
        "start_time": "2024-01-22T16:19:13.817Z"
      },
      {
        "duration": 52,
        "start_time": "2024-01-22T16:19:15.214Z"
      },
      {
        "duration": 33,
        "start_time": "2024-01-22T16:19:15.268Z"
      },
      {
        "duration": 51,
        "start_time": "2024-01-22T16:19:15.306Z"
      },
      {
        "duration": 16,
        "start_time": "2024-01-22T16:19:15.359Z"
      },
      {
        "duration": 52,
        "start_time": "2024-01-22T16:19:15.376Z"
      },
      {
        "duration": 44,
        "start_time": "2024-01-22T16:19:15.430Z"
      },
      {
        "duration": 11,
        "start_time": "2024-01-22T16:19:15.475Z"
      },
      {
        "duration": 40,
        "start_time": "2024-01-22T16:19:15.487Z"
      },
      {
        "duration": 142,
        "start_time": "2024-01-22T16:19:15.530Z"
      },
      {
        "duration": 134,
        "start_time": "2024-01-22T16:19:15.673Z"
      },
      {
        "duration": 113,
        "start_time": "2024-01-22T16:19:15.809Z"
      },
      {
        "duration": 6,
        "start_time": "2024-01-22T16:19:15.923Z"
      },
      {
        "duration": 95,
        "start_time": "2024-01-22T16:19:15.930Z"
      },
      {
        "duration": 137,
        "start_time": "2024-01-22T16:19:16.027Z"
      },
      {
        "duration": 344,
        "start_time": "2024-01-22T16:19:16.165Z"
      },
      {
        "duration": 113,
        "start_time": "2024-01-22T16:20:28.326Z"
      },
      {
        "duration": 4,
        "start_time": "2024-01-22T16:20:49.103Z"
      },
      {
        "duration": 9,
        "start_time": "2024-01-22T16:20:53.775Z"
      },
      {
        "duration": 7,
        "start_time": "2024-01-22T16:20:56.236Z"
      },
      {
        "duration": 18,
        "start_time": "2024-01-22T16:21:04.790Z"
      },
      {
        "duration": 19,
        "start_time": "2024-01-22T16:21:26.392Z"
      },
      {
        "duration": 25,
        "start_time": "2024-01-22T16:26:38.390Z"
      },
      {
        "duration": 13,
        "start_time": "2024-01-22T16:26:40.970Z"
      },
      {
        "duration": 34,
        "start_time": "2024-01-22T16:26:47.311Z"
      },
      {
        "duration": 13,
        "start_time": "2024-01-22T16:26:50.355Z"
      },
      {
        "duration": 13,
        "start_time": "2024-01-22T16:27:58.361Z"
      },
      {
        "duration": 13,
        "start_time": "2024-01-22T16:28:03.717Z"
      },
      {
        "duration": 20,
        "start_time": "2024-01-22T16:28:12.092Z"
      },
      {
        "duration": 12,
        "start_time": "2024-01-22T16:28:14.406Z"
      },
      {
        "duration": 12,
        "start_time": "2024-01-22T16:28:20.949Z"
      },
      {
        "duration": 48,
        "start_time": "2024-01-22T16:28:28.688Z"
      },
      {
        "duration": 3,
        "start_time": "2024-01-22T16:28:49.137Z"
      },
      {
        "duration": 67,
        "start_time": "2024-01-22T16:28:49.142Z"
      },
      {
        "duration": 14,
        "start_time": "2024-01-22T16:28:49.210Z"
      },
      {
        "duration": 24,
        "start_time": "2024-01-22T16:28:49.226Z"
      },
      {
        "duration": 29,
        "start_time": "2024-01-22T16:28:49.252Z"
      },
      {
        "duration": 33,
        "start_time": "2024-01-22T16:28:49.282Z"
      },
      {
        "duration": 40,
        "start_time": "2024-01-22T16:28:49.317Z"
      },
      {
        "duration": 8,
        "start_time": "2024-01-22T16:28:49.359Z"
      },
      {
        "duration": 3,
        "start_time": "2024-01-22T16:34:38.290Z"
      },
      {
        "duration": 52,
        "start_time": "2024-01-22T16:34:39.165Z"
      },
      {
        "duration": 13,
        "start_time": "2024-01-22T16:34:39.632Z"
      },
      {
        "duration": 14,
        "start_time": "2024-01-22T16:34:40.279Z"
      },
      {
        "duration": 27,
        "start_time": "2024-01-22T16:34:41.684Z"
      },
      {
        "duration": 11,
        "start_time": "2024-01-22T16:34:42.781Z"
      },
      {
        "duration": 26,
        "start_time": "2024-01-22T16:34:44.919Z"
      },
      {
        "duration": 9,
        "start_time": "2024-01-22T16:34:52.606Z"
      },
      {
        "duration": 5,
        "start_time": "2024-01-22T16:34:54.005Z"
      },
      {
        "duration": 24,
        "start_time": "2024-01-22T16:35:03.783Z"
      },
      {
        "duration": 3,
        "start_time": "2024-01-22T16:35:28.171Z"
      },
      {
        "duration": 82,
        "start_time": "2024-01-22T16:35:28.177Z"
      },
      {
        "duration": 12,
        "start_time": "2024-01-22T16:35:28.261Z"
      },
      {
        "duration": 13,
        "start_time": "2024-01-22T16:35:28.275Z"
      },
      {
        "duration": 36,
        "start_time": "2024-01-22T16:35:28.290Z"
      },
      {
        "duration": 10,
        "start_time": "2024-01-22T16:35:28.328Z"
      },
      {
        "duration": 25,
        "start_time": "2024-01-22T16:35:28.339Z"
      },
      {
        "duration": 8,
        "start_time": "2024-01-22T16:35:28.366Z"
      },
      {
        "duration": 8,
        "start_time": "2024-01-22T16:35:28.375Z"
      },
      {
        "duration": 9,
        "start_time": "2024-01-22T16:38:44.035Z"
      },
      {
        "duration": 1463,
        "start_time": "2024-01-22T16:38:58.506Z"
      },
      {
        "duration": 64,
        "start_time": "2024-01-22T16:38:59.971Z"
      },
      {
        "duration": 12,
        "start_time": "2024-01-22T16:39:00.037Z"
      },
      {
        "duration": 90,
        "start_time": "2024-01-22T16:39:00.051Z"
      },
      {
        "duration": 18,
        "start_time": "2024-01-22T16:39:00.142Z"
      },
      {
        "duration": 45,
        "start_time": "2024-01-22T16:39:00.162Z"
      },
      {
        "duration": 41,
        "start_time": "2024-01-22T16:39:00.208Z"
      },
      {
        "duration": 10,
        "start_time": "2024-01-22T16:39:00.251Z"
      },
      {
        "duration": 19,
        "start_time": "2024-01-22T16:39:00.262Z"
      },
      {
        "duration": 134,
        "start_time": "2024-01-22T16:39:00.283Z"
      },
      {
        "duration": 0,
        "start_time": "2024-01-22T16:39:00.419Z"
      },
      {
        "duration": 0,
        "start_time": "2024-01-22T16:39:00.420Z"
      },
      {
        "duration": 0,
        "start_time": "2024-01-22T16:39:00.422Z"
      },
      {
        "duration": 0,
        "start_time": "2024-01-22T16:39:00.423Z"
      },
      {
        "duration": 0,
        "start_time": "2024-01-22T16:39:00.425Z"
      },
      {
        "duration": 0,
        "start_time": "2024-01-22T16:39:00.426Z"
      },
      {
        "duration": 3,
        "start_time": "2024-01-22T16:39:48.407Z"
      },
      {
        "duration": 62,
        "start_time": "2024-01-22T16:39:48.417Z"
      },
      {
        "duration": 10,
        "start_time": "2024-01-22T16:39:48.481Z"
      },
      {
        "duration": 25,
        "start_time": "2024-01-22T16:39:48.493Z"
      },
      {
        "duration": 17,
        "start_time": "2024-01-22T16:39:48.520Z"
      },
      {
        "duration": 12,
        "start_time": "2024-01-22T16:39:48.538Z"
      },
      {
        "duration": 26,
        "start_time": "2024-01-22T16:39:48.552Z"
      },
      {
        "duration": 26,
        "start_time": "2024-01-22T16:39:48.579Z"
      },
      {
        "duration": 4,
        "start_time": "2024-01-22T16:39:48.608Z"
      },
      {
        "duration": 12,
        "start_time": "2024-01-22T16:39:48.614Z"
      },
      {
        "duration": 0,
        "start_time": "2024-01-22T16:39:48.627Z"
      },
      {
        "duration": 0,
        "start_time": "2024-01-22T16:39:48.629Z"
      },
      {
        "duration": 0,
        "start_time": "2024-01-22T16:39:48.630Z"
      },
      {
        "duration": 0,
        "start_time": "2024-01-22T16:39:48.631Z"
      },
      {
        "duration": 0,
        "start_time": "2024-01-22T16:39:48.632Z"
      },
      {
        "duration": 0,
        "start_time": "2024-01-22T16:39:48.633Z"
      },
      {
        "duration": 2,
        "start_time": "2024-01-22T16:42:56.970Z"
      },
      {
        "duration": 4,
        "start_time": "2024-01-22T16:43:00.297Z"
      },
      {
        "duration": 3,
        "start_time": "2024-01-22T16:43:04.949Z"
      },
      {
        "duration": 64,
        "start_time": "2024-01-22T16:43:04.954Z"
      },
      {
        "duration": 14,
        "start_time": "2024-01-22T16:43:05.021Z"
      },
      {
        "duration": 29,
        "start_time": "2024-01-22T16:43:05.038Z"
      },
      {
        "duration": 61,
        "start_time": "2024-01-22T16:43:05.069Z"
      },
      {
        "duration": 18,
        "start_time": "2024-01-22T16:43:05.132Z"
      },
      {
        "duration": 25,
        "start_time": "2024-01-22T16:43:05.152Z"
      },
      {
        "duration": 70,
        "start_time": "2024-01-22T16:43:05.178Z"
      },
      {
        "duration": 69,
        "start_time": "2024-01-22T16:43:05.251Z"
      },
      {
        "duration": 9,
        "start_time": "2024-01-22T16:43:09.634Z"
      },
      {
        "duration": 2,
        "start_time": "2024-01-22T16:43:09.868Z"
      },
      {
        "duration": 1462,
        "start_time": "2024-01-22T16:45:07.864Z"
      },
      {
        "duration": 56,
        "start_time": "2024-01-22T16:45:09.328Z"
      },
      {
        "duration": 19,
        "start_time": "2024-01-22T16:45:09.386Z"
      },
      {
        "duration": 57,
        "start_time": "2024-01-22T16:45:09.407Z"
      },
      {
        "duration": 19,
        "start_time": "2024-01-22T16:45:09.466Z"
      },
      {
        "duration": 28,
        "start_time": "2024-01-22T16:45:09.486Z"
      },
      {
        "duration": 28,
        "start_time": "2024-01-22T16:45:09.516Z"
      },
      {
        "duration": 10,
        "start_time": "2024-01-22T16:45:09.546Z"
      },
      {
        "duration": 7,
        "start_time": "2024-01-22T16:45:09.558Z"
      },
      {
        "duration": 21,
        "start_time": "2024-01-22T16:45:09.568Z"
      },
      {
        "duration": 125,
        "start_time": "2024-01-22T16:45:09.596Z"
      },
      {
        "duration": 0,
        "start_time": "2024-01-22T16:45:09.723Z"
      },
      {
        "duration": 0,
        "start_time": "2024-01-22T16:45:09.724Z"
      },
      {
        "duration": 0,
        "start_time": "2024-01-22T16:45:09.725Z"
      },
      {
        "duration": 0,
        "start_time": "2024-01-22T16:45:09.726Z"
      },
      {
        "duration": 0,
        "start_time": "2024-01-22T16:45:09.728Z"
      },
      {
        "duration": 0,
        "start_time": "2024-01-22T16:45:09.729Z"
      },
      {
        "duration": 3,
        "start_time": "2024-01-22T16:45:49.793Z"
      },
      {
        "duration": 3,
        "start_time": "2024-01-22T16:45:52.906Z"
      },
      {
        "duration": 8,
        "start_time": "2024-01-22T16:46:00.309Z"
      },
      {
        "duration": 3,
        "start_time": "2024-01-22T16:46:11.062Z"
      },
      {
        "duration": 48,
        "start_time": "2024-01-22T16:46:12.208Z"
      },
      {
        "duration": 12,
        "start_time": "2024-01-22T16:46:13.751Z"
      },
      {
        "duration": 13,
        "start_time": "2024-01-22T16:46:14.737Z"
      },
      {
        "duration": 17,
        "start_time": "2024-01-22T16:46:15.278Z"
      },
      {
        "duration": 11,
        "start_time": "2024-01-22T16:46:15.923Z"
      },
      {
        "duration": 25,
        "start_time": "2024-01-22T16:46:16.406Z"
      },
      {
        "duration": 8,
        "start_time": "2024-01-22T16:46:17.369Z"
      },
      {
        "duration": 4,
        "start_time": "2024-01-22T16:46:18.270Z"
      },
      {
        "duration": 8,
        "start_time": "2024-01-22T16:46:19.080Z"
      },
      {
        "duration": 3,
        "start_time": "2024-01-22T16:46:35.977Z"
      },
      {
        "duration": 47,
        "start_time": "2024-01-22T16:46:36.714Z"
      },
      {
        "duration": 11,
        "start_time": "2024-01-22T16:46:37.854Z"
      },
      {
        "duration": 14,
        "start_time": "2024-01-22T16:46:38.835Z"
      },
      {
        "duration": 16,
        "start_time": "2024-01-22T16:46:39.754Z"
      },
      {
        "duration": 11,
        "start_time": "2024-01-22T16:46:40.829Z"
      },
      {
        "duration": 24,
        "start_time": "2024-01-22T16:46:42.829Z"
      },
      {
        "duration": 9,
        "start_time": "2024-01-22T16:46:44.208Z"
      },
      {
        "duration": 4,
        "start_time": "2024-01-22T16:46:46.161Z"
      },
      {
        "duration": 7,
        "start_time": "2024-01-22T16:46:47.607Z"
      },
      {
        "duration": 8,
        "start_time": "2024-01-22T16:46:51.035Z"
      },
      {
        "duration": 8,
        "start_time": "2024-01-22T16:46:57.323Z"
      },
      {
        "duration": 2,
        "start_time": "2024-01-22T16:47:02.291Z"
      },
      {
        "duration": 47,
        "start_time": "2024-01-22T16:47:03.140Z"
      },
      {
        "duration": 13,
        "start_time": "2024-01-22T16:47:03.902Z"
      },
      {
        "duration": 12,
        "start_time": "2024-01-22T16:47:04.634Z"
      },
      {
        "duration": 17,
        "start_time": "2024-01-22T16:47:05.423Z"
      },
      {
        "duration": 11,
        "start_time": "2024-01-22T16:47:06.248Z"
      },
      {
        "duration": 25,
        "start_time": "2024-01-22T16:47:06.935Z"
      },
      {
        "duration": 24,
        "start_time": "2024-01-22T16:47:08.449Z"
      },
      {
        "duration": 4,
        "start_time": "2024-01-22T16:47:20.672Z"
      },
      {
        "duration": 8,
        "start_time": "2024-01-22T16:47:27.646Z"
      },
      {
        "duration": 3,
        "start_time": "2024-01-22T16:50:14.384Z"
      },
      {
        "duration": 93,
        "start_time": "2024-01-22T16:50:14.389Z"
      },
      {
        "duration": 12,
        "start_time": "2024-01-22T16:50:14.484Z"
      },
      {
        "duration": 23,
        "start_time": "2024-01-22T16:50:14.498Z"
      },
      {
        "duration": 16,
        "start_time": "2024-01-22T16:50:14.524Z"
      },
      {
        "duration": 17,
        "start_time": "2024-01-22T16:50:14.541Z"
      },
      {
        "duration": 63,
        "start_time": "2024-01-22T16:50:14.559Z"
      },
      {
        "duration": 39,
        "start_time": "2024-01-22T16:50:14.623Z"
      },
      {
        "duration": 42,
        "start_time": "2024-01-22T16:50:14.664Z"
      },
      {
        "duration": 30,
        "start_time": "2024-01-22T16:50:14.707Z"
      },
      {
        "duration": 0,
        "start_time": "2024-01-22T16:50:14.738Z"
      },
      {
        "duration": 0,
        "start_time": "2024-01-22T16:50:14.739Z"
      },
      {
        "duration": 0,
        "start_time": "2024-01-22T16:50:14.740Z"
      },
      {
        "duration": 0,
        "start_time": "2024-01-22T16:50:14.741Z"
      },
      {
        "duration": 0,
        "start_time": "2024-01-22T16:50:14.742Z"
      },
      {
        "duration": 0,
        "start_time": "2024-01-22T16:50:14.743Z"
      },
      {
        "duration": 12,
        "start_time": "2024-01-22T16:50:28.696Z"
      },
      {
        "duration": 9,
        "start_time": "2024-01-22T16:50:35.306Z"
      },
      {
        "duration": 1406,
        "start_time": "2024-01-22T16:50:44.420Z"
      },
      {
        "duration": 54,
        "start_time": "2024-01-22T16:50:45.827Z"
      },
      {
        "duration": 17,
        "start_time": "2024-01-22T16:50:45.882Z"
      },
      {
        "duration": 53,
        "start_time": "2024-01-22T16:50:45.902Z"
      },
      {
        "duration": 16,
        "start_time": "2024-01-22T16:50:45.957Z"
      },
      {
        "duration": 31,
        "start_time": "2024-01-22T16:50:45.974Z"
      },
      {
        "duration": 25,
        "start_time": "2024-01-22T16:50:46.008Z"
      },
      {
        "duration": 23,
        "start_time": "2024-01-22T16:50:46.035Z"
      },
      {
        "duration": 3,
        "start_time": "2024-01-22T16:50:46.060Z"
      },
      {
        "duration": 142,
        "start_time": "2024-01-22T16:50:46.065Z"
      },
      {
        "duration": 0,
        "start_time": "2024-01-22T16:50:46.208Z"
      },
      {
        "duration": 1,
        "start_time": "2024-01-22T16:50:46.209Z"
      },
      {
        "duration": 0,
        "start_time": "2024-01-22T16:50:46.211Z"
      },
      {
        "duration": 0,
        "start_time": "2024-01-22T16:50:46.212Z"
      },
      {
        "duration": 0,
        "start_time": "2024-01-22T16:50:46.212Z"
      },
      {
        "duration": 0,
        "start_time": "2024-01-22T16:50:46.214Z"
      },
      {
        "duration": 8,
        "start_time": "2024-01-22T16:51:00.939Z"
      },
      {
        "duration": 1416,
        "start_time": "2024-01-22T16:51:20.119Z"
      },
      {
        "duration": 54,
        "start_time": "2024-01-22T16:51:21.537Z"
      },
      {
        "duration": 19,
        "start_time": "2024-01-22T16:51:21.592Z"
      },
      {
        "duration": 53,
        "start_time": "2024-01-22T16:51:21.613Z"
      },
      {
        "duration": 39,
        "start_time": "2024-01-22T16:51:21.668Z"
      },
      {
        "duration": 12,
        "start_time": "2024-01-22T16:51:21.708Z"
      },
      {
        "duration": 31,
        "start_time": "2024-01-22T16:51:21.721Z"
      },
      {
        "duration": 24,
        "start_time": "2024-01-22T16:51:21.754Z"
      },
      {
        "duration": 30,
        "start_time": "2024-01-22T16:51:21.793Z"
      },
      {
        "duration": 147,
        "start_time": "2024-01-22T16:51:21.825Z"
      },
      {
        "duration": 134,
        "start_time": "2024-01-22T16:51:21.973Z"
      },
      {
        "duration": 124,
        "start_time": "2024-01-22T16:51:22.110Z"
      },
      {
        "duration": 6,
        "start_time": "2024-01-22T16:51:22.236Z"
      },
      {
        "duration": 95,
        "start_time": "2024-01-22T16:51:22.244Z"
      },
      {
        "duration": 141,
        "start_time": "2024-01-22T16:51:22.340Z"
      },
      {
        "duration": 324,
        "start_time": "2024-01-22T16:51:22.482Z"
      },
      {
        "duration": 4,
        "start_time": "2024-01-22T17:01:32.410Z"
      },
      {
        "duration": 47,
        "start_time": "2024-01-22T17:01:33.615Z"
      },
      {
        "duration": 12,
        "start_time": "2024-01-22T17:01:34.346Z"
      },
      {
        "duration": 15,
        "start_time": "2024-01-22T17:01:34.923Z"
      },
      {
        "duration": 17,
        "start_time": "2024-01-22T17:01:35.633Z"
      },
      {
        "duration": 13,
        "start_time": "2024-01-22T17:01:36.516Z"
      },
      {
        "duration": 25,
        "start_time": "2024-01-22T17:01:37.326Z"
      },
      {
        "duration": 23,
        "start_time": "2024-01-22T17:01:38.506Z"
      },
      {
        "duration": 19,
        "start_time": "2024-01-22T17:01:39.472Z"
      },
      {
        "duration": 4,
        "start_time": "2024-01-22T17:01:53.034Z"
      },
      {
        "duration": 110,
        "start_time": "2024-01-22T17:01:55.043Z"
      },
      {
        "duration": 4,
        "start_time": "2024-01-22T17:02:09.703Z"
      },
      {
        "duration": 52,
        "start_time": "2024-01-22T17:02:09.710Z"
      },
      {
        "duration": 11,
        "start_time": "2024-01-22T17:02:09.763Z"
      },
      {
        "duration": 31,
        "start_time": "2024-01-22T17:02:09.776Z"
      },
      {
        "duration": 18,
        "start_time": "2024-01-22T17:02:09.809Z"
      },
      {
        "duration": 17,
        "start_time": "2024-01-22T17:02:09.829Z"
      },
      {
        "duration": 60,
        "start_time": "2024-01-22T17:02:09.847Z"
      },
      {
        "duration": 24,
        "start_time": "2024-01-22T17:02:09.909Z"
      },
      {
        "duration": 19,
        "start_time": "2024-01-22T17:02:13.771Z"
      },
      {
        "duration": 4,
        "start_time": "2024-01-22T17:02:20.575Z"
      },
      {
        "duration": 14,
        "start_time": "2024-01-22T17:02:28.994Z"
      },
      {
        "duration": 10,
        "start_time": "2024-01-22T17:03:09.799Z"
      },
      {
        "duration": 9,
        "start_time": "2024-01-22T17:04:53.868Z"
      },
      {
        "duration": 3,
        "start_time": "2024-01-22T17:04:58.018Z"
      },
      {
        "duration": 53,
        "start_time": "2024-01-22T17:04:58.025Z"
      },
      {
        "duration": 11,
        "start_time": "2024-01-22T17:04:58.080Z"
      },
      {
        "duration": 22,
        "start_time": "2024-01-22T17:04:58.092Z"
      },
      {
        "duration": 17,
        "start_time": "2024-01-22T17:04:58.116Z"
      },
      {
        "duration": 10,
        "start_time": "2024-01-22T17:04:58.134Z"
      },
      {
        "duration": 25,
        "start_time": "2024-01-22T17:04:58.145Z"
      },
      {
        "duration": 46,
        "start_time": "2024-01-22T17:04:58.172Z"
      },
      {
        "duration": 14,
        "start_time": "2024-01-22T17:04:58.220Z"
      },
      {
        "duration": 12,
        "start_time": "2024-01-22T17:06:25.077Z"
      },
      {
        "duration": 11,
        "start_time": "2024-01-22T17:06:41.358Z"
      },
      {
        "duration": 6,
        "start_time": "2024-01-22T17:08:22.491Z"
      },
      {
        "duration": 62,
        "start_time": "2024-01-22T17:08:22.505Z"
      },
      {
        "duration": 11,
        "start_time": "2024-01-22T17:08:22.568Z"
      },
      {
        "duration": 26,
        "start_time": "2024-01-22T17:08:22.580Z"
      },
      {
        "duration": 16,
        "start_time": "2024-01-22T17:08:22.607Z"
      },
      {
        "duration": 10,
        "start_time": "2024-01-22T17:08:22.625Z"
      },
      {
        "duration": 23,
        "start_time": "2024-01-22T17:08:22.636Z"
      },
      {
        "duration": 22,
        "start_time": "2024-01-22T17:08:22.660Z"
      },
      {
        "duration": 8,
        "start_time": "2024-01-22T17:08:22.701Z"
      },
      {
        "duration": 137,
        "start_time": "2024-01-22T17:08:22.711Z"
      },
      {
        "duration": 204,
        "start_time": "2024-01-22T17:08:22.850Z"
      },
      {
        "duration": 108,
        "start_time": "2024-01-22T17:08:23.056Z"
      },
      {
        "duration": 5,
        "start_time": "2024-01-22T17:08:23.166Z"
      },
      {
        "duration": 18,
        "start_time": "2024-01-22T17:08:23.172Z"
      },
      {
        "duration": 33,
        "start_time": "2024-01-22T17:08:23.194Z"
      },
      {
        "duration": 167,
        "start_time": "2024-01-22T17:08:23.228Z"
      },
      {
        "duration": 2,
        "start_time": "2024-01-22T17:10:16.411Z"
      },
      {
        "duration": 4,
        "start_time": "2024-01-22T17:10:19.101Z"
      },
      {
        "duration": 3,
        "start_time": "2024-01-22T17:11:20.022Z"
      },
      {
        "duration": 14,
        "start_time": "2024-01-22T17:11:56.813Z"
      },
      {
        "duration": 3,
        "start_time": "2024-01-22T17:12:38.106Z"
      },
      {
        "duration": 99,
        "start_time": "2024-01-22T17:12:38.111Z"
      },
      {
        "duration": 11,
        "start_time": "2024-01-22T17:12:38.212Z"
      },
      {
        "duration": 15,
        "start_time": "2024-01-22T17:12:38.225Z"
      },
      {
        "duration": 23,
        "start_time": "2024-01-22T17:12:38.241Z"
      },
      {
        "duration": 25,
        "start_time": "2024-01-22T17:12:38.265Z"
      },
      {
        "duration": 36,
        "start_time": "2024-01-22T17:12:38.292Z"
      },
      {
        "duration": 43,
        "start_time": "2024-01-22T17:12:38.330Z"
      },
      {
        "duration": 52,
        "start_time": "2024-01-22T17:12:38.375Z"
      },
      {
        "duration": 133,
        "start_time": "2024-01-22T17:12:38.429Z"
      },
      {
        "duration": 123,
        "start_time": "2024-01-22T17:12:38.564Z"
      },
      {
        "duration": 104,
        "start_time": "2024-01-22T17:12:38.701Z"
      },
      {
        "duration": 5,
        "start_time": "2024-01-22T17:12:38.810Z"
      },
      {
        "duration": 25,
        "start_time": "2024-01-22T17:12:38.816Z"
      },
      {
        "duration": 21,
        "start_time": "2024-01-22T17:12:38.843Z"
      },
      {
        "duration": 45,
        "start_time": "2024-01-22T17:12:38.865Z"
      },
      {
        "duration": 15,
        "start_time": "2024-01-22T17:14:00.667Z"
      },
      {
        "duration": 14,
        "start_time": "2024-01-22T17:14:20.785Z"
      },
      {
        "duration": 52,
        "start_time": "2024-01-22T17:14:40.565Z"
      },
      {
        "duration": 17,
        "start_time": "2024-01-22T17:14:54.905Z"
      },
      {
        "duration": 3,
        "start_time": "2024-01-22T17:15:18.187Z"
      },
      {
        "duration": 63,
        "start_time": "2024-01-22T17:15:18.197Z"
      },
      {
        "duration": 12,
        "start_time": "2024-01-22T17:15:18.261Z"
      },
      {
        "duration": 34,
        "start_time": "2024-01-22T17:15:18.274Z"
      },
      {
        "duration": 16,
        "start_time": "2024-01-22T17:15:18.309Z"
      },
      {
        "duration": 11,
        "start_time": "2024-01-22T17:15:18.327Z"
      },
      {
        "duration": 46,
        "start_time": "2024-01-22T17:15:18.339Z"
      },
      {
        "duration": 55,
        "start_time": "2024-01-22T17:15:18.386Z"
      },
      {
        "duration": 15,
        "start_time": "2024-01-22T17:15:18.442Z"
      },
      {
        "duration": 15,
        "start_time": "2024-01-22T17:15:26.050Z"
      },
      {
        "duration": 19,
        "start_time": "2024-01-22T17:15:39.492Z"
      },
      {
        "duration": 3,
        "start_time": "2024-01-22T17:15:43.422Z"
      },
      {
        "duration": 54,
        "start_time": "2024-01-22T17:15:43.427Z"
      },
      {
        "duration": 17,
        "start_time": "2024-01-22T17:15:43.482Z"
      },
      {
        "duration": 19,
        "start_time": "2024-01-22T17:15:43.501Z"
      },
      {
        "duration": 24,
        "start_time": "2024-01-22T17:15:43.522Z"
      },
      {
        "duration": 10,
        "start_time": "2024-01-22T17:15:43.548Z"
      },
      {
        "duration": 44,
        "start_time": "2024-01-22T17:15:43.560Z"
      },
      {
        "duration": 23,
        "start_time": "2024-01-22T17:15:43.608Z"
      },
      {
        "duration": 30,
        "start_time": "2024-01-22T17:15:43.633Z"
      },
      {
        "duration": 16,
        "start_time": "2024-01-22T17:15:45.625Z"
      },
      {
        "duration": 4,
        "start_time": "2024-01-22T17:16:34.077Z"
      },
      {
        "duration": 56,
        "start_time": "2024-01-22T17:16:34.083Z"
      },
      {
        "duration": 13,
        "start_time": "2024-01-22T17:16:34.141Z"
      },
      {
        "duration": 13,
        "start_time": "2024-01-22T17:16:34.155Z"
      },
      {
        "duration": 20,
        "start_time": "2024-01-22T17:16:34.170Z"
      },
      {
        "duration": 20,
        "start_time": "2024-01-22T17:16:34.191Z"
      },
      {
        "duration": 30,
        "start_time": "2024-01-22T17:16:34.212Z"
      },
      {
        "duration": 24,
        "start_time": "2024-01-22T17:16:34.244Z"
      },
      {
        "duration": 38,
        "start_time": "2024-01-22T17:16:34.270Z"
      },
      {
        "duration": 31,
        "start_time": "2024-01-22T17:16:43.276Z"
      },
      {
        "duration": 3,
        "start_time": "2024-01-22T17:17:00.122Z"
      },
      {
        "duration": 92,
        "start_time": "2024-01-22T17:17:00.126Z"
      },
      {
        "duration": 53,
        "start_time": "2024-01-22T17:17:00.220Z"
      },
      {
        "duration": 86,
        "start_time": "2024-01-22T17:17:00.275Z"
      },
      {
        "duration": 29,
        "start_time": "2024-01-22T17:17:00.362Z"
      },
      {
        "duration": 97,
        "start_time": "2024-01-22T17:17:00.393Z"
      },
      {
        "duration": 30,
        "start_time": "2024-01-22T17:17:00.492Z"
      },
      {
        "duration": 54,
        "start_time": "2024-01-22T17:17:00.524Z"
      },
      {
        "duration": 46,
        "start_time": "2024-01-22T17:17:00.580Z"
      },
      {
        "duration": 17,
        "start_time": "2024-01-22T17:19:30.853Z"
      },
      {
        "duration": 3,
        "start_time": "2024-01-22T17:19:52.162Z"
      },
      {
        "duration": 103,
        "start_time": "2024-01-22T17:19:52.166Z"
      },
      {
        "duration": 10,
        "start_time": "2024-01-22T17:19:52.271Z"
      },
      {
        "duration": 29,
        "start_time": "2024-01-22T17:19:52.283Z"
      },
      {
        "duration": 50,
        "start_time": "2024-01-22T17:19:52.314Z"
      },
      {
        "duration": 25,
        "start_time": "2024-01-22T17:19:52.365Z"
      },
      {
        "duration": 46,
        "start_time": "2024-01-22T17:19:52.391Z"
      },
      {
        "duration": 33,
        "start_time": "2024-01-22T17:19:52.439Z"
      },
      {
        "duration": 130,
        "start_time": "2024-01-22T17:20:34.271Z"
      },
      {
        "duration": 114,
        "start_time": "2024-01-22T17:20:38.583Z"
      },
      {
        "duration": 97,
        "start_time": "2024-01-22T17:20:41.121Z"
      },
      {
        "duration": 6,
        "start_time": "2024-01-22T17:20:43.712Z"
      },
      {
        "duration": 139,
        "start_time": "2024-01-22T17:20:44.339Z"
      },
      {
        "duration": 107,
        "start_time": "2024-01-22T17:20:46.400Z"
      },
      {
        "duration": 347,
        "start_time": "2024-01-22T17:20:47.849Z"
      },
      {
        "duration": 39,
        "start_time": "2024-01-22T17:21:07.584Z"
      },
      {
        "duration": 54,
        "start_time": "2024-01-22T17:21:11.115Z"
      },
      {
        "duration": 3,
        "start_time": "2024-01-22T17:21:23.756Z"
      },
      {
        "duration": 53,
        "start_time": "2024-01-22T17:21:23.761Z"
      },
      {
        "duration": 12,
        "start_time": "2024-01-22T17:21:23.816Z"
      },
      {
        "duration": 14,
        "start_time": "2024-01-22T17:21:23.830Z"
      },
      {
        "duration": 17,
        "start_time": "2024-01-22T17:21:23.847Z"
      },
      {
        "duration": 44,
        "start_time": "2024-01-22T17:21:23.866Z"
      },
      {
        "duration": 23,
        "start_time": "2024-01-22T17:21:23.912Z"
      },
      {
        "duration": 24,
        "start_time": "2024-01-22T17:21:23.936Z"
      },
      {
        "duration": 35,
        "start_time": "2024-01-22T17:21:23.961Z"
      },
      {
        "duration": 137,
        "start_time": "2024-01-22T17:21:23.998Z"
      },
      {
        "duration": 137,
        "start_time": "2024-01-22T17:21:24.138Z"
      },
      {
        "duration": 105,
        "start_time": "2024-01-22T17:21:24.276Z"
      },
      {
        "duration": 5,
        "start_time": "2024-01-22T17:21:24.382Z"
      },
      {
        "duration": 33,
        "start_time": "2024-01-22T17:21:24.394Z"
      },
      {
        "duration": 303,
        "start_time": "2024-01-22T17:21:48.895Z"
      },
      {
        "duration": 3,
        "start_time": "2024-01-22T17:25:22.069Z"
      },
      {
        "duration": 57,
        "start_time": "2024-01-22T17:25:22.074Z"
      },
      {
        "duration": 12,
        "start_time": "2024-01-22T17:25:22.132Z"
      },
      {
        "duration": 15,
        "start_time": "2024-01-22T17:25:22.145Z"
      },
      {
        "duration": 24,
        "start_time": "2024-01-22T17:25:22.161Z"
      },
      {
        "duration": 9,
        "start_time": "2024-01-22T17:25:22.187Z"
      },
      {
        "duration": 41,
        "start_time": "2024-01-22T17:25:22.198Z"
      },
      {
        "duration": 23,
        "start_time": "2024-01-22T17:25:22.241Z"
      },
      {
        "duration": 18,
        "start_time": "2024-01-22T17:25:22.266Z"
      },
      {
        "duration": 137,
        "start_time": "2024-01-22T17:25:22.285Z"
      },
      {
        "duration": 214,
        "start_time": "2024-01-22T17:25:22.424Z"
      },
      {
        "duration": 108,
        "start_time": "2024-01-22T17:25:22.639Z"
      },
      {
        "duration": 5,
        "start_time": "2024-01-22T17:25:22.748Z"
      },
      {
        "duration": 40,
        "start_time": "2024-01-22T17:25:22.755Z"
      },
      {
        "duration": 22,
        "start_time": "2024-01-22T17:25:22.796Z"
      },
      {
        "duration": 22,
        "start_time": "2024-01-22T17:25:49.228Z"
      },
      {
        "duration": 8,
        "start_time": "2024-01-22T17:26:06.378Z"
      },
      {
        "duration": 50,
        "start_time": "2024-01-23T12:18:33.082Z"
      },
      {
        "duration": 1777,
        "start_time": "2024-01-23T12:18:38.930Z"
      },
      {
        "duration": 189,
        "start_time": "2024-01-23T12:18:40.709Z"
      },
      {
        "duration": 13,
        "start_time": "2024-01-23T12:18:40.900Z"
      },
      {
        "duration": 70,
        "start_time": "2024-01-23T12:18:40.915Z"
      },
      {
        "duration": 19,
        "start_time": "2024-01-23T12:18:40.987Z"
      },
      {
        "duration": 13,
        "start_time": "2024-01-23T12:18:41.008Z"
      },
      {
        "duration": 27,
        "start_time": "2024-01-23T12:18:41.023Z"
      },
      {
        "duration": 53,
        "start_time": "2024-01-23T12:18:41.051Z"
      },
      {
        "duration": 18,
        "start_time": "2024-01-23T12:18:41.106Z"
      },
      {
        "duration": 178,
        "start_time": "2024-01-23T12:18:41.126Z"
      },
      {
        "duration": 138,
        "start_time": "2024-01-23T12:18:41.306Z"
      },
      {
        "duration": 132,
        "start_time": "2024-01-23T12:18:41.446Z"
      },
      {
        "duration": 8,
        "start_time": "2024-01-23T12:18:41.580Z"
      },
      {
        "duration": 25,
        "start_time": "2024-01-23T12:18:44.247Z"
      },
      {
        "duration": 24,
        "start_time": "2024-01-23T13:36:55.906Z"
      },
      {
        "duration": 3,
        "start_time": "2024-01-23T13:37:12.203Z"
      },
      {
        "duration": 55,
        "start_time": "2024-01-23T13:37:12.211Z"
      },
      {
        "duration": 83,
        "start_time": "2024-01-23T13:37:12.269Z"
      },
      {
        "duration": 20,
        "start_time": "2024-01-23T13:37:12.354Z"
      },
      {
        "duration": 17,
        "start_time": "2024-01-23T13:37:12.376Z"
      },
      {
        "duration": 11,
        "start_time": "2024-01-23T13:37:12.395Z"
      },
      {
        "duration": 26,
        "start_time": "2024-01-23T13:37:12.407Z"
      },
      {
        "duration": 49,
        "start_time": "2024-01-23T13:37:12.434Z"
      },
      {
        "duration": 18,
        "start_time": "2024-01-23T13:37:12.485Z"
      },
      {
        "duration": 146,
        "start_time": "2024-01-23T13:37:12.504Z"
      },
      {
        "duration": 145,
        "start_time": "2024-01-23T13:37:12.653Z"
      },
      {
        "duration": 108,
        "start_time": "2024-01-23T13:37:12.800Z"
      },
      {
        "duration": 5,
        "start_time": "2024-01-23T13:37:12.910Z"
      },
      {
        "duration": 26,
        "start_time": "2024-01-23T13:37:12.916Z"
      },
      {
        "duration": 212,
        "start_time": "2024-01-23T13:59:24.962Z"
      },
      {
        "duration": 9,
        "start_time": "2024-01-23T14:00:31.722Z"
      },
      {
        "duration": 149,
        "start_time": "2024-01-23T14:01:53.927Z"
      },
      {
        "duration": 199,
        "start_time": "2024-01-23T14:06:11.773Z"
      },
      {
        "duration": 4,
        "start_time": "2024-01-23T14:06:32.176Z"
      },
      {
        "duration": 52,
        "start_time": "2024-01-23T14:06:32.876Z"
      },
      {
        "duration": 13,
        "start_time": "2024-01-23T14:06:33.637Z"
      },
      {
        "duration": 19,
        "start_time": "2024-01-23T14:06:33.744Z"
      },
      {
        "duration": 17,
        "start_time": "2024-01-23T14:06:33.837Z"
      },
      {
        "duration": 11,
        "start_time": "2024-01-23T14:06:33.872Z"
      },
      {
        "duration": 27,
        "start_time": "2024-01-23T14:06:33.948Z"
      },
      {
        "duration": 24,
        "start_time": "2024-01-23T14:06:34.015Z"
      },
      {
        "duration": 22,
        "start_time": "2024-01-23T14:06:34.088Z"
      },
      {
        "duration": 140,
        "start_time": "2024-01-23T14:06:34.345Z"
      },
      {
        "duration": 136,
        "start_time": "2024-01-23T14:06:34.486Z"
      },
      {
        "duration": 116,
        "start_time": "2024-01-23T14:06:34.623Z"
      },
      {
        "duration": 5,
        "start_time": "2024-01-23T14:06:34.740Z"
      },
      {
        "duration": 40,
        "start_time": "2024-01-23T14:06:34.746Z"
      },
      {
        "duration": 9,
        "start_time": "2024-01-23T14:06:34.787Z"
      },
      {
        "duration": 175,
        "start_time": "2024-01-23T14:06:34.798Z"
      },
      {
        "duration": 86,
        "start_time": "2024-01-23T14:06:39.189Z"
      },
      {
        "duration": 69,
        "start_time": "2024-01-23T14:07:06.105Z"
      },
      {
        "duration": 100,
        "start_time": "2024-01-23T14:07:51.676Z"
      },
      {
        "duration": 90,
        "start_time": "2024-01-23T14:07:59.584Z"
      },
      {
        "duration": 3,
        "start_time": "2024-01-23T14:23:02.153Z"
      },
      {
        "duration": 59,
        "start_time": "2024-01-23T14:23:02.160Z"
      },
      {
        "duration": 12,
        "start_time": "2024-01-23T14:23:02.220Z"
      },
      {
        "duration": 20,
        "start_time": "2024-01-23T14:23:02.234Z"
      },
      {
        "duration": 32,
        "start_time": "2024-01-23T14:23:02.256Z"
      },
      {
        "duration": 12,
        "start_time": "2024-01-23T14:23:02.289Z"
      },
      {
        "duration": 29,
        "start_time": "2024-01-23T14:23:02.303Z"
      },
      {
        "duration": 51,
        "start_time": "2024-01-23T14:23:02.334Z"
      },
      {
        "duration": 18,
        "start_time": "2024-01-23T14:23:02.387Z"
      },
      {
        "duration": 153,
        "start_time": "2024-01-23T14:23:02.407Z"
      },
      {
        "duration": 715,
        "start_time": "2024-01-23T14:23:13.297Z"
      },
      {
        "duration": 761,
        "start_time": "2024-01-23T14:23:21.774Z"
      },
      {
        "duration": 874,
        "start_time": "2024-01-23T14:23:35.505Z"
      },
      {
        "duration": 3,
        "start_time": "2024-01-23T14:23:58.828Z"
      },
      {
        "duration": 53,
        "start_time": "2024-01-23T14:23:58.837Z"
      },
      {
        "duration": 12,
        "start_time": "2024-01-23T14:23:58.891Z"
      },
      {
        "duration": 25,
        "start_time": "2024-01-23T14:23:58.905Z"
      },
      {
        "duration": 17,
        "start_time": "2024-01-23T14:23:58.932Z"
      },
      {
        "duration": 28,
        "start_time": "2024-01-23T14:23:58.950Z"
      },
      {
        "duration": 26,
        "start_time": "2024-01-23T14:23:58.979Z"
      },
      {
        "duration": 24,
        "start_time": "2024-01-23T14:23:59.006Z"
      },
      {
        "duration": 43,
        "start_time": "2024-01-23T14:23:59.032Z"
      },
      {
        "duration": 143,
        "start_time": "2024-01-23T14:23:59.077Z"
      },
      {
        "duration": 979,
        "start_time": "2024-01-23T14:24:04.760Z"
      },
      {
        "duration": 871,
        "start_time": "2024-01-23T14:24:43.297Z"
      },
      {
        "duration": 964,
        "start_time": "2024-01-23T14:24:53.821Z"
      },
      {
        "duration": 934,
        "start_time": "2024-01-23T14:25:31.708Z"
      },
      {
        "duration": 993,
        "start_time": "2024-01-23T14:25:40.525Z"
      },
      {
        "duration": 105,
        "start_time": "2024-01-23T14:25:45.217Z"
      },
      {
        "duration": 60,
        "start_time": "2024-01-23T19:25:36.146Z"
      },
      {
        "duration": 1725,
        "start_time": "2024-01-23T19:25:40.404Z"
      },
      {
        "duration": 118,
        "start_time": "2024-01-23T19:25:42.131Z"
      },
      {
        "duration": 19,
        "start_time": "2024-01-23T19:25:42.251Z"
      },
      {
        "duration": 59,
        "start_time": "2024-01-23T19:25:42.273Z"
      },
      {
        "duration": 36,
        "start_time": "2024-01-23T19:25:42.334Z"
      },
      {
        "duration": 14,
        "start_time": "2024-01-23T19:25:42.372Z"
      },
      {
        "duration": 39,
        "start_time": "2024-01-23T19:25:42.387Z"
      },
      {
        "duration": 45,
        "start_time": "2024-01-23T19:25:42.428Z"
      },
      {
        "duration": 23,
        "start_time": "2024-01-23T19:25:42.475Z"
      },
      {
        "duration": 1063,
        "start_time": "2024-01-23T19:25:42.500Z"
      },
      {
        "duration": 158,
        "start_time": "2024-01-23T19:25:43.565Z"
      },
      {
        "duration": 157,
        "start_time": "2024-01-23T19:25:45.238Z"
      },
      {
        "duration": 112,
        "start_time": "2024-01-23T19:25:45.780Z"
      },
      {
        "duration": 111,
        "start_time": "2024-01-23T19:25:47.169Z"
      },
      {
        "duration": 6,
        "start_time": "2024-01-23T19:25:52.969Z"
      },
      {
        "duration": 27,
        "start_time": "2024-01-23T19:25:54.674Z"
      },
      {
        "duration": 10,
        "start_time": "2024-01-23T19:25:55.335Z"
      },
      {
        "duration": 126,
        "start_time": "2024-01-23T19:25:56.142Z"
      },
      {
        "duration": 235,
        "start_time": "2024-01-23T19:27:05.397Z"
      },
      {
        "duration": 2045,
        "start_time": "2024-01-24T10:04:20.471Z"
      },
      {
        "duration": 91,
        "start_time": "2024-01-24T10:04:22.517Z"
      },
      {
        "duration": 12,
        "start_time": "2024-01-24T10:04:22.610Z"
      },
      {
        "duration": 48,
        "start_time": "2024-01-24T10:04:22.624Z"
      },
      {
        "duration": 15,
        "start_time": "2024-01-24T10:04:22.673Z"
      },
      {
        "duration": 10,
        "start_time": "2024-01-24T10:04:22.690Z"
      },
      {
        "duration": 38,
        "start_time": "2024-01-24T10:04:22.701Z"
      },
      {
        "duration": 22,
        "start_time": "2024-01-24T10:04:22.740Z"
      },
      {
        "duration": 19,
        "start_time": "2024-01-24T10:04:22.763Z"
      },
      {
        "duration": 891,
        "start_time": "2024-01-24T10:04:22.784Z"
      },
      {
        "duration": 134,
        "start_time": "2024-01-24T10:04:23.677Z"
      },
      {
        "duration": 104,
        "start_time": "2024-01-24T10:04:23.812Z"
      },
      {
        "duration": 100,
        "start_time": "2024-01-24T10:04:23.917Z"
      },
      {
        "duration": 5,
        "start_time": "2024-01-24T10:04:24.018Z"
      },
      {
        "duration": 22,
        "start_time": "2024-01-24T10:04:24.033Z"
      },
      {
        "duration": 8,
        "start_time": "2024-01-24T10:04:24.056Z"
      },
      {
        "duration": 355,
        "start_time": "2024-01-24T10:04:24.065Z"
      },
      {
        "duration": 117,
        "start_time": "2024-01-24T10:04:30.318Z"
      },
      {
        "duration": 71,
        "start_time": "2024-01-24T10:04:45.369Z"
      },
      {
        "duration": 39,
        "start_time": "2024-01-24T10:05:10.706Z"
      },
      {
        "duration": 37,
        "start_time": "2024-01-24T10:17:47.398Z"
      },
      {
        "duration": 8,
        "start_time": "2024-01-24T10:19:03.034Z"
      },
      {
        "duration": 39,
        "start_time": "2024-01-24T10:19:05.615Z"
      },
      {
        "duration": 1716,
        "start_time": "2024-01-24T12:56:23.411Z"
      },
      {
        "duration": 173,
        "start_time": "2024-01-24T12:56:25.130Z"
      },
      {
        "duration": 15,
        "start_time": "2024-01-24T12:56:25.305Z"
      },
      {
        "duration": 69,
        "start_time": "2024-01-24T12:56:25.323Z"
      },
      {
        "duration": 20,
        "start_time": "2024-01-24T12:56:25.394Z"
      },
      {
        "duration": 12,
        "start_time": "2024-01-24T12:56:25.416Z"
      },
      {
        "duration": 34,
        "start_time": "2024-01-24T12:56:25.429Z"
      },
      {
        "duration": 47,
        "start_time": "2024-01-24T12:56:25.465Z"
      },
      {
        "duration": 19,
        "start_time": "2024-01-24T12:56:25.513Z"
      },
      {
        "duration": 993,
        "start_time": "2024-01-24T12:56:25.535Z"
      },
      {
        "duration": 152,
        "start_time": "2024-01-24T12:56:26.530Z"
      },
      {
        "duration": 114,
        "start_time": "2024-01-24T12:56:26.684Z"
      },
      {
        "duration": 121,
        "start_time": "2024-01-24T12:56:26.800Z"
      },
      {
        "duration": 6,
        "start_time": "2024-01-24T12:56:26.923Z"
      },
      {
        "duration": 31,
        "start_time": "2024-01-24T12:56:26.930Z"
      },
      {
        "duration": 10,
        "start_time": "2024-01-24T12:56:26.963Z"
      },
      {
        "duration": 102,
        "start_time": "2024-01-24T12:56:26.991Z"
      },
      {
        "duration": 119,
        "start_time": "2024-01-24T14:32:13.472Z"
      },
      {
        "duration": 32,
        "start_time": "2024-01-24T14:32:47.852Z"
      },
      {
        "duration": 5,
        "start_time": "2024-01-24T14:32:54.041Z"
      },
      {
        "duration": 68,
        "start_time": "2024-01-24T14:32:54.048Z"
      },
      {
        "duration": 14,
        "start_time": "2024-01-24T14:32:54.118Z"
      },
      {
        "duration": 15,
        "start_time": "2024-01-24T14:32:54.133Z"
      },
      {
        "duration": 44,
        "start_time": "2024-01-24T14:32:54.150Z"
      },
      {
        "duration": 14,
        "start_time": "2024-01-24T14:32:54.195Z"
      },
      {
        "duration": 30,
        "start_time": "2024-01-24T14:32:54.211Z"
      },
      {
        "duration": 54,
        "start_time": "2024-01-24T14:32:54.243Z"
      },
      {
        "duration": 24,
        "start_time": "2024-01-24T14:32:54.299Z"
      },
      {
        "duration": 988,
        "start_time": "2024-01-24T14:32:54.324Z"
      },
      {
        "duration": 267,
        "start_time": "2024-01-24T14:32:55.315Z"
      },
      {
        "duration": 121,
        "start_time": "2024-01-24T14:32:55.584Z"
      },
      {
        "duration": 119,
        "start_time": "2024-01-24T14:32:55.706Z"
      },
      {
        "duration": 7,
        "start_time": "2024-01-24T14:32:55.826Z"
      },
      {
        "duration": 62,
        "start_time": "2024-01-24T14:32:55.835Z"
      },
      {
        "duration": 11,
        "start_time": "2024-01-24T14:32:55.899Z"
      },
      {
        "duration": 86,
        "start_time": "2024-01-24T14:32:55.912Z"
      },
      {
        "duration": 194,
        "start_time": "2024-01-24T14:32:56.001Z"
      },
      {
        "duration": 25,
        "start_time": "2024-01-24T14:38:37.527Z"
      },
      {
        "duration": 559,
        "start_time": "2024-01-24T14:39:01.517Z"
      },
      {
        "duration": 567,
        "start_time": "2024-01-24T14:39:29.431Z"
      },
      {
        "duration": 69,
        "start_time": "2024-01-24T14:56:02.925Z"
      },
      {
        "duration": 1659,
        "start_time": "2024-01-24T15:11:07.561Z"
      },
      {
        "duration": 1678,
        "start_time": "2024-01-24T15:11:13.738Z"
      },
      {
        "duration": 1723,
        "start_time": "2024-01-24T15:11:40.374Z"
      },
      {
        "duration": 1739,
        "start_time": "2024-01-24T15:11:52.455Z"
      },
      {
        "duration": 1590,
        "start_time": "2024-01-24T15:12:25.425Z"
      },
      {
        "duration": 1663,
        "start_time": "2024-01-24T15:12:40.159Z"
      },
      {
        "duration": 160,
        "start_time": "2024-01-24T15:13:14.433Z"
      },
      {
        "duration": 1834,
        "start_time": "2024-01-24T15:13:22.058Z"
      },
      {
        "duration": 871,
        "start_time": "2024-01-24T15:27:48.357Z"
      },
      {
        "duration": 711,
        "start_time": "2024-01-24T15:28:00.409Z"
      },
      {
        "duration": 712,
        "start_time": "2024-01-24T15:28:06.099Z"
      },
      {
        "duration": 710,
        "start_time": "2024-01-24T15:28:20.241Z"
      },
      {
        "duration": 3817,
        "start_time": "2024-01-24T15:29:07.977Z"
      },
      {
        "duration": 1693,
        "start_time": "2024-01-24T15:29:16.399Z"
      },
      {
        "duration": 66,
        "start_time": "2024-01-24T15:53:54.828Z"
      },
      {
        "duration": 48,
        "start_time": "2024-01-24T15:53:59.444Z"
      },
      {
        "duration": 61,
        "start_time": "2024-01-24T15:54:07.832Z"
      },
      {
        "duration": 13,
        "start_time": "2024-01-24T15:54:38.425Z"
      },
      {
        "duration": 9654,
        "start_time": "2024-01-24T15:54:45.547Z"
      },
      {
        "duration": 11,
        "start_time": "2024-01-24T15:55:20.472Z"
      },
      {
        "duration": 1418,
        "start_time": "2024-01-24T15:56:47.837Z"
      },
      {
        "duration": 57,
        "start_time": "2024-01-24T15:56:49.258Z"
      },
      {
        "duration": 14,
        "start_time": "2024-01-24T15:56:49.317Z"
      },
      {
        "duration": 61,
        "start_time": "2024-01-24T15:56:49.333Z"
      },
      {
        "duration": 19,
        "start_time": "2024-01-24T15:56:49.395Z"
      },
      {
        "duration": 12,
        "start_time": "2024-01-24T15:56:49.415Z"
      },
      {
        "duration": 26,
        "start_time": "2024-01-24T15:56:49.429Z"
      },
      {
        "duration": 53,
        "start_time": "2024-01-24T15:56:49.457Z"
      },
      {
        "duration": 20,
        "start_time": "2024-01-24T15:56:49.512Z"
      },
      {
        "duration": 1000,
        "start_time": "2024-01-24T15:56:49.534Z"
      },
      {
        "duration": 147,
        "start_time": "2024-01-24T15:56:50.536Z"
      },
      {
        "duration": 117,
        "start_time": "2024-01-24T15:56:50.684Z"
      },
      {
        "duration": 114,
        "start_time": "2024-01-24T15:56:50.803Z"
      },
      {
        "duration": 5,
        "start_time": "2024-01-24T15:56:50.919Z"
      },
      {
        "duration": 37,
        "start_time": "2024-01-24T15:56:50.926Z"
      },
      {
        "duration": 9,
        "start_time": "2024-01-24T15:56:50.964Z"
      },
      {
        "duration": 124,
        "start_time": "2024-01-24T15:56:50.975Z"
      },
      {
        "duration": 1791,
        "start_time": "2024-01-24T15:56:51.101Z"
      },
      {
        "duration": 657,
        "start_time": "2024-01-24T15:56:52.899Z"
      },
      {
        "duration": 747,
        "start_time": "2024-01-24T15:56:53.558Z"
      },
      {
        "duration": 15448,
        "start_time": "2024-01-24T15:56:58.744Z"
      },
      {
        "duration": 15437,
        "start_time": "2024-01-24T15:57:33.556Z"
      },
      {
        "duration": 52,
        "start_time": "2024-01-24T15:58:07.640Z"
      },
      {
        "duration": 45,
        "start_time": "2024-01-24T15:58:13.048Z"
      },
      {
        "duration": 205,
        "start_time": "2024-01-24T15:59:13.222Z"
      },
      {
        "duration": 542,
        "start_time": "2024-01-24T16:23:49.274Z"
      },
      {
        "duration": 1667,
        "start_time": "2024-01-24T18:25:05.425Z"
      },
      {
        "duration": 1721,
        "start_time": "2024-01-24T18:25:08.872Z"
      },
      {
        "duration": 83,
        "start_time": "2024-01-24T18:25:42.911Z"
      },
      {
        "duration": 48,
        "start_time": "2024-01-24T18:26:00.646Z"
      },
      {
        "duration": 119,
        "start_time": "2024-01-24T18:26:06.172Z"
      },
      {
        "duration": 24830,
        "start_time": "2024-01-24T18:26:37.950Z"
      },
      {
        "duration": 18348,
        "start_time": "2024-01-24T18:31:28.561Z"
      },
      {
        "duration": 167,
        "start_time": "2024-01-24T18:33:46.982Z"
      },
      {
        "duration": 119,
        "start_time": "2024-01-24T18:34:26.917Z"
      },
      {
        "duration": 10,
        "start_time": "2024-01-24T18:35:04.978Z"
      },
      {
        "duration": 8,
        "start_time": "2024-01-24T18:36:19.522Z"
      },
      {
        "duration": 927,
        "start_time": "2024-01-24T18:38:06.018Z"
      },
      {
        "duration": 868,
        "start_time": "2024-01-24T18:38:09.458Z"
      },
      {
        "duration": 10,
        "start_time": "2024-01-24T18:48:50.810Z"
      },
      {
        "duration": 4,
        "start_time": "2024-01-24T18:48:55.368Z"
      },
      {
        "duration": 121,
        "start_time": "2024-01-24T18:48:55.374Z"
      },
      {
        "duration": 13,
        "start_time": "2024-01-24T18:48:55.497Z"
      },
      {
        "duration": 32,
        "start_time": "2024-01-24T18:48:55.513Z"
      },
      {
        "duration": 36,
        "start_time": "2024-01-24T18:48:55.547Z"
      },
      {
        "duration": 14,
        "start_time": "2024-01-24T18:48:55.585Z"
      },
      {
        "duration": 34,
        "start_time": "2024-01-24T18:48:55.601Z"
      },
      {
        "duration": 26,
        "start_time": "2024-01-24T18:48:55.637Z"
      },
      {
        "duration": 32,
        "start_time": "2024-01-24T18:48:55.667Z"
      },
      {
        "duration": 904,
        "start_time": "2024-01-24T18:48:55.701Z"
      },
      {
        "duration": 265,
        "start_time": "2024-01-24T18:48:56.607Z"
      },
      {
        "duration": 120,
        "start_time": "2024-01-24T18:48:56.874Z"
      },
      {
        "duration": 128,
        "start_time": "2024-01-24T18:48:56.996Z"
      },
      {
        "duration": 6,
        "start_time": "2024-01-24T18:48:57.126Z"
      },
      {
        "duration": 46,
        "start_time": "2024-01-24T18:48:57.133Z"
      },
      {
        "duration": 31,
        "start_time": "2024-01-24T18:48:57.180Z"
      },
      {
        "duration": 82,
        "start_time": "2024-01-24T18:48:57.212Z"
      },
      {
        "duration": 739,
        "start_time": "2024-01-24T18:48:57.296Z"
      },
      {
        "duration": 24770,
        "start_time": "2024-01-24T18:48:58.038Z"
      },
      {
        "duration": 855,
        "start_time": "2024-01-24T18:49:22.810Z"
      },
      {
        "duration": 4,
        "start_time": "2024-01-24T18:49:50.236Z"
      },
      {
        "duration": 7,
        "start_time": "2024-01-24T18:49:56.983Z"
      },
      {
        "duration": 7,
        "start_time": "2024-01-24T19:27:26.718Z"
      },
      {
        "duration": 45,
        "start_time": "2024-01-25T05:46:13.040Z"
      },
      {
        "duration": 1607,
        "start_time": "2024-01-25T05:46:16.204Z"
      },
      {
        "duration": 93,
        "start_time": "2024-01-25T05:46:17.812Z"
      },
      {
        "duration": 15,
        "start_time": "2024-01-25T05:46:17.907Z"
      },
      {
        "duration": 47,
        "start_time": "2024-01-25T05:46:17.924Z"
      },
      {
        "duration": 16,
        "start_time": "2024-01-25T05:46:17.973Z"
      },
      {
        "duration": 32,
        "start_time": "2024-01-25T05:46:17.990Z"
      },
      {
        "duration": 27,
        "start_time": "2024-01-25T05:46:18.023Z"
      },
      {
        "duration": 28,
        "start_time": "2024-01-25T05:46:18.052Z"
      },
      {
        "duration": 49,
        "start_time": "2024-01-25T05:46:18.082Z"
      },
      {
        "duration": 895,
        "start_time": "2024-01-25T05:46:18.134Z"
      },
      {
        "duration": 136,
        "start_time": "2024-01-25T05:46:19.030Z"
      },
      {
        "duration": 7,
        "start_time": "2024-01-25T05:46:19.167Z"
      },
      {
        "duration": 9,
        "start_time": "2024-01-25T05:46:38.117Z"
      },
      {
        "duration": 8,
        "start_time": "2024-01-25T05:48:37.256Z"
      },
      {
        "duration": 101,
        "start_time": "2024-01-25T05:49:18.238Z"
      },
      {
        "duration": 7,
        "start_time": "2024-01-25T05:49:22.543Z"
      },
      {
        "duration": 9,
        "start_time": "2024-01-25T05:49:37.780Z"
      },
      {
        "duration": 11,
        "start_time": "2024-01-25T05:50:01.188Z"
      },
      {
        "duration": 9,
        "start_time": "2024-01-25T05:52:00.913Z"
      },
      {
        "duration": 113,
        "start_time": "2024-01-25T05:54:39.913Z"
      },
      {
        "duration": 113,
        "start_time": "2024-01-25T05:54:58.679Z"
      },
      {
        "duration": 116,
        "start_time": "2024-01-25T05:55:25.397Z"
      },
      {
        "duration": 124,
        "start_time": "2024-01-25T05:55:33.469Z"
      },
      {
        "duration": 14,
        "start_time": "2024-01-25T05:56:19.659Z"
      },
      {
        "duration": 7,
        "start_time": "2024-01-25T05:56:31.726Z"
      },
      {
        "duration": 72,
        "start_time": "2024-01-25T05:57:41.751Z"
      },
      {
        "duration": 69,
        "start_time": "2024-01-25T05:58:18.937Z"
      },
      {
        "duration": 87,
        "start_time": "2024-01-25T05:58:33.095Z"
      },
      {
        "duration": 76,
        "start_time": "2024-01-25T05:58:41.567Z"
      },
      {
        "duration": 7,
        "start_time": "2024-01-25T05:58:55.402Z"
      },
      {
        "duration": 6,
        "start_time": "2024-01-25T05:59:28.117Z"
      },
      {
        "duration": 5,
        "start_time": "2024-01-25T05:59:34.878Z"
      },
      {
        "duration": 8,
        "start_time": "2024-01-25T05:59:51.510Z"
      },
      {
        "duration": 11,
        "start_time": "2024-01-25T06:00:04.041Z"
      },
      {
        "duration": 11,
        "start_time": "2024-01-25T06:00:12.364Z"
      },
      {
        "duration": 112,
        "start_time": "2024-01-25T06:04:26.187Z"
      },
      {
        "duration": 1524,
        "start_time": "2024-01-25T06:04:30.694Z"
      },
      {
        "duration": 14,
        "start_time": "2024-01-25T06:04:48.933Z"
      },
      {
        "duration": 1271,
        "start_time": "2024-01-25T06:05:02.115Z"
      },
      {
        "duration": 99,
        "start_time": "2024-01-25T06:05:35.183Z"
      },
      {
        "duration": 1633,
        "start_time": "2024-01-25T06:05:48.572Z"
      },
      {
        "duration": 113,
        "start_time": "2024-01-25T06:05:57.364Z"
      },
      {
        "duration": 23,
        "start_time": "2024-01-25T06:06:03.730Z"
      },
      {
        "duration": 6,
        "start_time": "2024-01-25T06:06:26.992Z"
      },
      {
        "duration": 9,
        "start_time": "2024-01-25T06:06:46.333Z"
      },
      {
        "duration": 10,
        "start_time": "2024-01-25T06:07:08.661Z"
      },
      {
        "duration": 12,
        "start_time": "2024-01-25T06:07:53.423Z"
      },
      {
        "duration": 15,
        "start_time": "2024-01-25T06:08:54.297Z"
      },
      {
        "duration": 15,
        "start_time": "2024-01-25T06:09:33.768Z"
      },
      {
        "duration": 18,
        "start_time": "2024-01-25T06:09:51.150Z"
      },
      {
        "duration": 12,
        "start_time": "2024-01-25T06:45:30.426Z"
      },
      {
        "duration": 4,
        "start_time": "2024-01-25T06:45:41.252Z"
      },
      {
        "duration": 59,
        "start_time": "2024-01-25T06:45:41.258Z"
      },
      {
        "duration": 13,
        "start_time": "2024-01-25T06:45:41.319Z"
      },
      {
        "duration": 12,
        "start_time": "2024-01-25T06:45:41.333Z"
      },
      {
        "duration": 15,
        "start_time": "2024-01-25T06:45:41.347Z"
      },
      {
        "duration": 15,
        "start_time": "2024-01-25T06:45:41.364Z"
      },
      {
        "duration": 48,
        "start_time": "2024-01-25T06:45:41.380Z"
      },
      {
        "duration": 24,
        "start_time": "2024-01-25T06:45:41.429Z"
      },
      {
        "duration": 19,
        "start_time": "2024-01-25T06:45:41.454Z"
      },
      {
        "duration": 843,
        "start_time": "2024-01-25T06:45:41.475Z"
      },
      {
        "duration": 133,
        "start_time": "2024-01-25T06:45:42.320Z"
      },
      {
        "duration": 6,
        "start_time": "2024-01-25T06:45:42.455Z"
      },
      {
        "duration": 235,
        "start_time": "2024-01-25T06:45:42.462Z"
      },
      {
        "duration": 20,
        "start_time": "2024-01-25T06:45:42.698Z"
      },
      {
        "duration": 103,
        "start_time": "2024-01-25T06:45:42.719Z"
      },
      {
        "duration": 6,
        "start_time": "2024-01-25T06:45:42.824Z"
      },
      {
        "duration": 118,
        "start_time": "2024-01-25T06:45:42.831Z"
      },
      {
        "duration": 126,
        "start_time": "2024-01-25T06:45:42.951Z"
      },
      {
        "duration": 12,
        "start_time": "2024-01-25T06:45:43.078Z"
      },
      {
        "duration": 30,
        "start_time": "2024-01-25T06:45:43.091Z"
      },
      {
        "duration": 24,
        "start_time": "2024-01-25T06:45:43.123Z"
      },
      {
        "duration": 9,
        "start_time": "2024-01-25T06:45:43.148Z"
      },
      {
        "duration": 82,
        "start_time": "2024-01-25T06:45:53.137Z"
      },
      {
        "duration": 509,
        "start_time": "2024-01-25T06:46:08.285Z"
      },
      {
        "duration": 42,
        "start_time": "2024-01-25T06:46:21.977Z"
      },
      {
        "duration": 1688,
        "start_time": "2024-01-25T16:05:43.369Z"
      },
      {
        "duration": 175,
        "start_time": "2024-01-25T16:05:45.059Z"
      },
      {
        "duration": 15,
        "start_time": "2024-01-25T16:05:45.236Z"
      },
      {
        "duration": 81,
        "start_time": "2024-01-25T16:05:45.253Z"
      },
      {
        "duration": 36,
        "start_time": "2024-01-25T16:05:45.336Z"
      },
      {
        "duration": 24,
        "start_time": "2024-01-25T16:05:45.374Z"
      },
      {
        "duration": 92,
        "start_time": "2024-01-25T16:05:45.399Z"
      },
      {
        "duration": 39,
        "start_time": "2024-01-25T16:05:45.493Z"
      },
      {
        "duration": 57,
        "start_time": "2024-01-25T16:05:45.534Z"
      },
      {
        "duration": 1023,
        "start_time": "2024-01-25T16:05:45.594Z"
      },
      {
        "duration": 155,
        "start_time": "2024-01-25T16:05:46.619Z"
      },
      {
        "duration": 15,
        "start_time": "2024-01-25T16:05:46.776Z"
      },
      {
        "duration": 118,
        "start_time": "2024-01-25T16:05:46.793Z"
      },
      {
        "duration": 11,
        "start_time": "2024-01-25T16:05:46.913Z"
      },
      {
        "duration": 125,
        "start_time": "2024-01-25T16:05:46.926Z"
      },
      {
        "duration": 7,
        "start_time": "2024-01-25T16:05:47.053Z"
      },
      {
        "duration": 151,
        "start_time": "2024-01-25T16:05:47.061Z"
      },
      {
        "duration": 148,
        "start_time": "2024-01-25T16:05:47.214Z"
      },
      {
        "duration": 12,
        "start_time": "2024-01-25T16:05:47.363Z"
      },
      {
        "duration": 28,
        "start_time": "2024-01-25T16:05:47.377Z"
      },
      {
        "duration": 25,
        "start_time": "2024-01-25T16:05:47.406Z"
      },
      {
        "duration": 9,
        "start_time": "2024-01-25T16:05:47.432Z"
      },
      {
        "duration": 70,
        "start_time": "2024-01-25T16:05:47.443Z"
      },
      {
        "duration": 743,
        "start_time": "2024-01-25T16:05:47.514Z"
      },
      {
        "duration": 24696,
        "start_time": "2024-01-25T16:05:48.259Z"
      },
      {
        "duration": 853,
        "start_time": "2024-01-25T16:06:12.957Z"
      },
      {
        "duration": 6,
        "start_time": "2024-01-25T16:06:13.812Z"
      },
      {
        "duration": 206,
        "start_time": "2024-01-25T16:06:13.821Z"
      },
      {
        "duration": 4,
        "start_time": "2024-01-25T16:07:07.182Z"
      },
      {
        "duration": 114,
        "start_time": "2024-01-25T16:07:33.979Z"
      },
      {
        "duration": 59,
        "start_time": "2024-01-25T16:29:57.171Z"
      },
      {
        "duration": 1281,
        "start_time": "2024-01-25T17:40:49.466Z"
      },
      {
        "duration": 128,
        "start_time": "2024-01-25T17:44:21.864Z"
      },
      {
        "duration": 1260,
        "start_time": "2024-01-25T17:44:23.971Z"
      },
      {
        "duration": 1324,
        "start_time": "2024-01-25T17:45:27.680Z"
      },
      {
        "duration": 12,
        "start_time": "2024-01-25T18:19:42.260Z"
      },
      {
        "duration": 4,
        "start_time": "2024-01-25T18:19:56.937Z"
      },
      {
        "duration": 75,
        "start_time": "2024-01-25T18:19:56.943Z"
      },
      {
        "duration": 20,
        "start_time": "2024-01-25T18:19:57.020Z"
      },
      {
        "duration": 21,
        "start_time": "2024-01-25T18:19:57.043Z"
      },
      {
        "duration": 39,
        "start_time": "2024-01-25T18:19:57.066Z"
      },
      {
        "duration": 13,
        "start_time": "2024-01-25T18:19:57.107Z"
      },
      {
        "duration": 28,
        "start_time": "2024-01-25T18:19:57.121Z"
      },
      {
        "duration": 56,
        "start_time": "2024-01-25T18:19:57.151Z"
      },
      {
        "duration": 21,
        "start_time": "2024-01-25T18:19:57.211Z"
      },
      {
        "duration": 1053,
        "start_time": "2024-01-25T18:19:57.234Z"
      },
      {
        "duration": 172,
        "start_time": "2024-01-25T18:19:58.288Z"
      },
      {
        "duration": 8,
        "start_time": "2024-01-25T18:19:58.462Z"
      },
      {
        "duration": 125,
        "start_time": "2024-01-25T18:19:58.472Z"
      },
      {
        "duration": 13,
        "start_time": "2024-01-25T18:19:58.599Z"
      },
      {
        "duration": 123,
        "start_time": "2024-01-25T18:19:58.613Z"
      },
      {
        "duration": 7,
        "start_time": "2024-01-25T18:19:58.737Z"
      },
      {
        "duration": 188,
        "start_time": "2024-01-25T18:19:58.746Z"
      },
      {
        "duration": 132,
        "start_time": "2024-01-25T18:19:58.936Z"
      },
      {
        "duration": 12,
        "start_time": "2024-01-25T18:19:59.070Z"
      },
      {
        "duration": 20,
        "start_time": "2024-01-25T18:19:59.092Z"
      },
      {
        "duration": 24,
        "start_time": "2024-01-25T18:19:59.114Z"
      },
      {
        "duration": 9,
        "start_time": "2024-01-25T18:19:59.140Z"
      },
      {
        "duration": 68,
        "start_time": "2024-01-25T18:19:59.150Z"
      },
      {
        "duration": 723,
        "start_time": "2024-01-25T18:19:59.221Z"
      },
      {
        "duration": 24531,
        "start_time": "2024-01-25T18:19:59.946Z"
      },
      {
        "duration": 845,
        "start_time": "2024-01-25T18:20:24.479Z"
      },
      {
        "duration": 5,
        "start_time": "2024-01-25T18:20:25.326Z"
      },
      {
        "duration": 846,
        "start_time": "2024-01-25T18:20:43.825Z"
      },
      {
        "duration": 6,
        "start_time": "2024-01-25T18:20:47.347Z"
      },
      {
        "duration": 10,
        "start_time": "2024-01-25T18:20:51.696Z"
      },
      {
        "duration": 24808,
        "start_time": "2024-01-25T18:23:41.271Z"
      },
      {
        "duration": 855,
        "start_time": "2024-01-25T18:24:17.258Z"
      },
      {
        "duration": 3,
        "start_time": "2024-01-25T18:24:58.681Z"
      },
      {
        "duration": 10,
        "start_time": "2024-01-25T18:25:14.260Z"
      },
      {
        "duration": 3,
        "start_time": "2024-01-25T18:48:58.301Z"
      },
      {
        "duration": 4,
        "start_time": "2024-01-25T18:50:56.904Z"
      },
      {
        "duration": 7,
        "start_time": "2024-01-25T18:55:16.269Z"
      },
      {
        "duration": 10,
        "start_time": "2024-01-25T18:58:37.741Z"
      },
      {
        "duration": 18,
        "start_time": "2024-01-25T19:02:00.220Z"
      },
      {
        "duration": 11,
        "start_time": "2024-01-25T19:02:11.672Z"
      },
      {
        "duration": 11,
        "start_time": "2024-01-25T19:02:40.029Z"
      },
      {
        "duration": 10,
        "start_time": "2024-01-25T19:03:05.488Z"
      },
      {
        "duration": 13,
        "start_time": "2024-01-25T19:03:10.637Z"
      },
      {
        "duration": 10,
        "start_time": "2024-01-25T19:03:33.746Z"
      },
      {
        "duration": 54,
        "start_time": "2024-01-25T19:04:06.852Z"
      },
      {
        "duration": 4,
        "start_time": "2024-01-25T19:04:41.457Z"
      },
      {
        "duration": 64,
        "start_time": "2024-01-25T19:04:41.463Z"
      },
      {
        "duration": 13,
        "start_time": "2024-01-25T19:04:41.528Z"
      },
      {
        "duration": 23,
        "start_time": "2024-01-25T19:04:41.542Z"
      },
      {
        "duration": 25,
        "start_time": "2024-01-25T19:04:41.566Z"
      },
      {
        "duration": 11,
        "start_time": "2024-01-25T19:04:41.593Z"
      },
      {
        "duration": 27,
        "start_time": "2024-01-25T19:04:41.606Z"
      },
      {
        "duration": 26,
        "start_time": "2024-01-25T19:04:41.635Z"
      },
      {
        "duration": 47,
        "start_time": "2024-01-25T19:04:41.663Z"
      },
      {
        "duration": 1016,
        "start_time": "2024-01-25T19:04:41.712Z"
      },
      {
        "duration": 149,
        "start_time": "2024-01-25T19:04:42.730Z"
      },
      {
        "duration": 12,
        "start_time": "2024-01-25T19:04:42.881Z"
      },
      {
        "duration": 119,
        "start_time": "2024-01-25T19:04:42.895Z"
      },
      {
        "duration": 12,
        "start_time": "2024-01-25T19:04:43.016Z"
      },
      {
        "duration": 122,
        "start_time": "2024-01-25T19:04:43.029Z"
      },
      {
        "duration": 7,
        "start_time": "2024-01-25T19:04:43.152Z"
      },
      {
        "duration": 160,
        "start_time": "2024-01-25T19:04:43.160Z"
      },
      {
        "duration": 135,
        "start_time": "2024-01-25T19:04:43.322Z"
      },
      {
        "duration": 13,
        "start_time": "2024-01-25T19:04:43.458Z"
      },
      {
        "duration": 36,
        "start_time": "2024-01-25T19:04:43.473Z"
      },
      {
        "duration": 27,
        "start_time": "2024-01-25T19:04:43.510Z"
      },
      {
        "duration": 12,
        "start_time": "2024-01-25T19:04:43.539Z"
      },
      {
        "duration": 66,
        "start_time": "2024-01-25T19:04:43.552Z"
      },
      {
        "duration": 78,
        "start_time": "2024-01-25T19:04:50.415Z"
      },
      {
        "duration": 450,
        "start_time": "2024-01-25T19:05:08.074Z"
      },
      {
        "duration": 20306,
        "start_time": "2024-01-25T19:05:28.900Z"
      },
      {
        "duration": 27122,
        "start_time": "2024-01-25T19:06:14.489Z"
      },
      {
        "duration": 5,
        "start_time": "2024-01-25T19:07:10.190Z"
      },
      {
        "duration": 77,
        "start_time": "2024-01-25T19:08:31.218Z"
      },
      {
        "duration": 465,
        "start_time": "2024-01-25T19:08:54.746Z"
      },
      {
        "duration": 27142,
        "start_time": "2024-01-25T19:08:58.712Z"
      },
      {
        "duration": 3,
        "start_time": "2024-01-25T19:09:25.856Z"
      },
      {
        "duration": 7,
        "start_time": "2024-01-25T19:10:09.785Z"
      },
      {
        "duration": 101,
        "start_time": "2024-01-25T19:10:20.992Z"
      },
      {
        "duration": 1052,
        "start_time": "2024-01-25T19:10:24.545Z"
      },
      {
        "duration": 1032,
        "start_time": "2024-01-25T19:16:52.585Z"
      },
      {
        "duration": 775,
        "start_time": "2024-01-25T19:17:48.231Z"
      },
      {
        "duration": 491,
        "start_time": "2024-01-25T19:20:49.044Z"
      },
      {
        "duration": 486,
        "start_time": "2024-01-25T19:20:58.761Z"
      },
      {
        "duration": 66,
        "start_time": "2024-01-25T19:21:49.527Z"
      },
      {
        "duration": 28631,
        "start_time": "2024-01-25T19:23:01.179Z"
      },
      {
        "duration": 21793,
        "start_time": "2024-01-25T19:23:49.607Z"
      },
      {
        "duration": 72,
        "start_time": "2024-01-25T19:25:54.021Z"
      },
      {
        "duration": 1068,
        "start_time": "2024-01-25T19:26:18.980Z"
      },
      {
        "duration": 51,
        "start_time": "2024-01-25T19:27:21.310Z"
      },
      {
        "duration": 1078,
        "start_time": "2024-01-25T19:27:37.911Z"
      },
      {
        "duration": 1027,
        "start_time": "2024-01-25T19:27:45.551Z"
      },
      {
        "duration": 55,
        "start_time": "2024-01-25T19:27:49.022Z"
      },
      {
        "duration": 27,
        "start_time": "2024-01-25T19:28:47.202Z"
      },
      {
        "duration": 44,
        "start_time": "2024-01-25T19:29:08.553Z"
      },
      {
        "duration": 1005,
        "start_time": "2024-01-25T19:29:12.238Z"
      },
      {
        "duration": 1055,
        "start_time": "2024-01-25T19:29:46.848Z"
      },
      {
        "duration": 13,
        "start_time": "2024-01-25T19:32:13.743Z"
      },
      {
        "duration": 23,
        "start_time": "2024-01-25T19:32:16.338Z"
      },
      {
        "duration": 21,
        "start_time": "2024-01-25T19:32:19.650Z"
      },
      {
        "duration": 1027,
        "start_time": "2024-01-25T19:33:03.117Z"
      },
      {
        "duration": 396,
        "start_time": "2024-01-25T19:33:24.375Z"
      },
      {
        "duration": 1042,
        "start_time": "2024-01-25T19:42:06.092Z"
      },
      {
        "duration": 1196,
        "start_time": "2024-01-25T19:43:01.120Z"
      },
      {
        "duration": 1261,
        "start_time": "2024-01-25T19:43:20.715Z"
      },
      {
        "duration": 1195,
        "start_time": "2024-01-25T19:43:31.426Z"
      },
      {
        "duration": 1035,
        "start_time": "2024-01-25T19:44:33.716Z"
      },
      {
        "duration": 694,
        "start_time": "2024-01-25T19:44:39.854Z"
      },
      {
        "duration": 1002,
        "start_time": "2024-01-25T19:44:44.530Z"
      },
      {
        "duration": 995,
        "start_time": "2024-01-25T19:45:02.044Z"
      },
      {
        "duration": 20916,
        "start_time": "2024-01-25T19:46:20.832Z"
      },
      {
        "duration": 19350,
        "start_time": "2024-01-25T19:47:38.348Z"
      },
      {
        "duration": 19941,
        "start_time": "2024-01-25T19:48:13.470Z"
      },
      {
        "duration": 2185,
        "start_time": "2024-01-25T19:49:28.096Z"
      },
      {
        "duration": 1049,
        "start_time": "2024-01-25T19:49:45.581Z"
      },
      {
        "duration": 1870,
        "start_time": "2024-01-25T19:50:07.916Z"
      },
      {
        "duration": 1972,
        "start_time": "2024-01-25T19:50:13.262Z"
      },
      {
        "duration": 1778,
        "start_time": "2024-01-25T19:50:18.446Z"
      },
      {
        "duration": 38,
        "start_time": "2024-01-25T19:50:49.629Z"
      },
      {
        "duration": 1508,
        "start_time": "2024-01-28T05:11:36.404Z"
      },
      {
        "duration": 95,
        "start_time": "2024-01-28T05:11:37.914Z"
      },
      {
        "duration": 14,
        "start_time": "2024-01-28T05:11:38.011Z"
      },
      {
        "duration": 50,
        "start_time": "2024-01-28T05:11:38.027Z"
      },
      {
        "duration": 16,
        "start_time": "2024-01-28T05:11:38.078Z"
      },
      {
        "duration": 10,
        "start_time": "2024-01-28T05:11:38.096Z"
      },
      {
        "duration": 25,
        "start_time": "2024-01-28T05:11:38.107Z"
      },
      {
        "duration": 46,
        "start_time": "2024-01-28T05:11:38.133Z"
      },
      {
        "duration": 19,
        "start_time": "2024-01-28T05:11:38.181Z"
      },
      {
        "duration": 946,
        "start_time": "2024-01-28T05:11:38.202Z"
      },
      {
        "duration": 131,
        "start_time": "2024-01-28T05:11:39.150Z"
      },
      {
        "duration": 8,
        "start_time": "2024-01-28T05:11:39.283Z"
      },
      {
        "duration": 115,
        "start_time": "2024-01-28T05:11:39.292Z"
      },
      {
        "duration": 12,
        "start_time": "2024-01-28T05:11:39.409Z"
      },
      {
        "duration": 116,
        "start_time": "2024-01-28T05:11:39.423Z"
      },
      {
        "duration": 8,
        "start_time": "2024-01-28T05:11:39.541Z"
      },
      {
        "duration": 130,
        "start_time": "2024-01-28T05:11:39.551Z"
      },
      {
        "duration": 132,
        "start_time": "2024-01-28T05:11:39.683Z"
      },
      {
        "duration": 11,
        "start_time": "2024-01-28T05:11:39.817Z"
      },
      {
        "duration": 59,
        "start_time": "2024-01-28T05:11:39.830Z"
      },
      {
        "duration": 22,
        "start_time": "2024-01-28T05:11:39.890Z"
      },
      {
        "duration": 11,
        "start_time": "2024-01-28T05:11:39.913Z"
      },
      {
        "duration": 52,
        "start_time": "2024-01-28T05:11:39.925Z"
      },
      {
        "duration": 215,
        "start_time": "2024-01-28T05:11:40.071Z"
      },
      {
        "duration": 0,
        "start_time": "2024-01-28T05:11:40.287Z"
      },
      {
        "duration": 0,
        "start_time": "2024-01-28T05:11:40.289Z"
      },
      {
        "duration": 0,
        "start_time": "2024-01-28T05:11:40.290Z"
      },
      {
        "duration": 0,
        "start_time": "2024-01-28T05:11:40.292Z"
      },
      {
        "duration": 0,
        "start_time": "2024-01-28T05:11:40.293Z"
      },
      {
        "duration": 0,
        "start_time": "2024-01-28T05:11:40.294Z"
      },
      {
        "duration": 0,
        "start_time": "2024-01-28T05:11:40.296Z"
      },
      {
        "duration": 0,
        "start_time": "2024-01-28T05:11:40.297Z"
      },
      {
        "duration": 0,
        "start_time": "2024-01-28T05:11:40.298Z"
      },
      {
        "duration": 0,
        "start_time": "2024-01-28T05:11:40.299Z"
      },
      {
        "duration": 0,
        "start_time": "2024-01-28T05:11:40.300Z"
      },
      {
        "duration": 0,
        "start_time": "2024-01-28T05:11:40.301Z"
      },
      {
        "duration": 415,
        "start_time": "2024-01-28T05:13:41.057Z"
      },
      {
        "duration": 4,
        "start_time": "2024-01-28T05:14:10.171Z"
      },
      {
        "duration": 50,
        "start_time": "2024-01-28T05:14:10.179Z"
      },
      {
        "duration": 11,
        "start_time": "2024-01-28T05:14:10.231Z"
      },
      {
        "duration": 12,
        "start_time": "2024-01-28T05:14:10.244Z"
      },
      {
        "duration": 19,
        "start_time": "2024-01-28T05:14:10.257Z"
      },
      {
        "duration": 11,
        "start_time": "2024-01-28T05:14:10.277Z"
      },
      {
        "duration": 23,
        "start_time": "2024-01-28T05:14:10.289Z"
      },
      {
        "duration": 22,
        "start_time": "2024-01-28T05:14:10.313Z"
      },
      {
        "duration": 44,
        "start_time": "2024-01-28T05:14:10.336Z"
      },
      {
        "duration": 796,
        "start_time": "2024-01-28T05:14:10.381Z"
      },
      {
        "duration": 224,
        "start_time": "2024-01-28T05:14:11.179Z"
      },
      {
        "duration": 6,
        "start_time": "2024-01-28T05:14:11.404Z"
      },
      {
        "duration": 102,
        "start_time": "2024-01-28T05:14:11.411Z"
      },
      {
        "duration": 9,
        "start_time": "2024-01-28T05:14:11.515Z"
      },
      {
        "duration": 103,
        "start_time": "2024-01-28T05:14:11.525Z"
      },
      {
        "duration": 7,
        "start_time": "2024-01-28T05:14:11.630Z"
      },
      {
        "duration": 117,
        "start_time": "2024-01-28T05:14:11.638Z"
      },
      {
        "duration": 123,
        "start_time": "2024-01-28T05:14:11.757Z"
      },
      {
        "duration": 11,
        "start_time": "2024-01-28T05:14:11.882Z"
      },
      {
        "duration": 16,
        "start_time": "2024-01-28T05:14:11.894Z"
      },
      {
        "duration": 21,
        "start_time": "2024-01-28T05:14:11.911Z"
      },
      {
        "duration": 32,
        "start_time": "2024-01-28T05:14:11.933Z"
      },
      {
        "duration": 101,
        "start_time": "2024-01-28T05:14:11.967Z"
      },
      {
        "duration": 515,
        "start_time": "2024-01-28T05:14:12.070Z"
      },
      {
        "duration": 18488,
        "start_time": "2024-01-28T05:14:12.586Z"
      },
      {
        "duration": 16734,
        "start_time": "2024-01-28T05:14:31.076Z"
      },
      {
        "duration": 2,
        "start_time": "2024-01-28T05:14:47.812Z"
      },
      {
        "duration": 21,
        "start_time": "2024-01-28T05:14:47.815Z"
      },
      {
        "duration": 49,
        "start_time": "2024-01-28T05:14:47.839Z"
      },
      {
        "duration": 114,
        "start_time": "2024-01-28T05:14:47.967Z"
      },
      {
        "duration": 911,
        "start_time": "2024-01-28T05:14:48.083Z"
      },
      {
        "duration": 10,
        "start_time": "2024-01-28T05:14:48.996Z"
      },
      {
        "duration": 68,
        "start_time": "2024-01-28T05:14:49.007Z"
      },
      {
        "duration": 14,
        "start_time": "2024-01-28T05:14:49.166Z"
      },
      {
        "duration": 361,
        "start_time": "2024-01-28T05:14:49.182Z"
      },
      {
        "duration": 1559,
        "start_time": "2024-01-28T05:14:49.545Z"
      },
      {
        "duration": 33,
        "start_time": "2024-01-28T05:42:11.010Z"
      },
      {
        "duration": 32,
        "start_time": "2024-01-28T05:42:24.777Z"
      },
      {
        "duration": 100,
        "start_time": "2024-01-28T05:43:41.566Z"
      },
      {
        "duration": 42,
        "start_time": "2024-01-28T05:44:24.726Z"
      },
      {
        "duration": 79,
        "start_time": "2024-01-28T05:46:06.386Z"
      },
      {
        "duration": 34,
        "start_time": "2024-01-28T05:46:09.859Z"
      },
      {
        "duration": 34,
        "start_time": "2024-01-28T05:46:13.553Z"
      },
      {
        "duration": 35,
        "start_time": "2024-01-28T05:46:18.578Z"
      },
      {
        "duration": 412,
        "start_time": "2024-01-28T05:47:17.937Z"
      },
      {
        "duration": 398,
        "start_time": "2024-01-28T05:48:05.909Z"
      },
      {
        "duration": 440,
        "start_time": "2024-01-28T05:48:53.294Z"
      },
      {
        "duration": 658,
        "start_time": "2024-01-28T05:49:24.117Z"
      },
      {
        "duration": 674,
        "start_time": "2024-01-28T05:49:57.366Z"
      },
      {
        "duration": 250,
        "start_time": "2024-01-28T05:50:26.521Z"
      },
      {
        "duration": 248,
        "start_time": "2024-01-28T05:51:41.325Z"
      },
      {
        "duration": 17282,
        "start_time": "2024-01-28T05:52:46.441Z"
      },
      {
        "duration": 30637,
        "start_time": "2024-01-28T05:53:21.415Z"
      },
      {
        "duration": 34342,
        "start_time": "2024-01-28T05:54:14.482Z"
      },
      {
        "duration": 16904,
        "start_time": "2024-01-28T05:57:54.418Z"
      },
      {
        "duration": 16885,
        "start_time": "2024-01-28T05:59:20.580Z"
      },
      {
        "duration": 16820,
        "start_time": "2024-01-28T06:02:25.248Z"
      },
      {
        "duration": 11761,
        "start_time": "2024-01-28T06:03:12.067Z"
      },
      {
        "duration": 17206,
        "start_time": "2024-01-28T06:03:37.745Z"
      },
      {
        "duration": 11637,
        "start_time": "2024-01-28T06:04:45.556Z"
      },
      {
        "duration": 26,
        "start_time": "2024-01-28T06:06:57.573Z"
      },
      {
        "duration": 1565,
        "start_time": "2024-01-28T06:07:11.587Z"
      },
      {
        "duration": 28,
        "start_time": "2024-01-28T06:07:32.872Z"
      },
      {
        "duration": 327,
        "start_time": "2024-01-28T06:09:06.950Z"
      },
      {
        "duration": 50,
        "start_time": "2024-01-28T08:19:27.599Z"
      },
      {
        "duration": 1522,
        "start_time": "2024-01-28T08:19:31.117Z"
      },
      {
        "duration": 158,
        "start_time": "2024-01-28T08:19:32.641Z"
      },
      {
        "duration": 14,
        "start_time": "2024-01-28T08:19:32.800Z"
      },
      {
        "duration": 60,
        "start_time": "2024-01-28T08:19:32.816Z"
      },
      {
        "duration": 21,
        "start_time": "2024-01-28T08:19:32.877Z"
      },
      {
        "duration": 21,
        "start_time": "2024-01-28T08:19:32.900Z"
      },
      {
        "duration": 29,
        "start_time": "2024-01-28T08:19:32.922Z"
      },
      {
        "duration": 24,
        "start_time": "2024-01-28T08:19:32.952Z"
      },
      {
        "duration": 19,
        "start_time": "2024-01-28T08:19:32.994Z"
      },
      {
        "duration": 886,
        "start_time": "2024-01-28T08:19:33.015Z"
      },
      {
        "duration": 133,
        "start_time": "2024-01-28T08:19:33.903Z"
      },
      {
        "duration": 8,
        "start_time": "2024-01-28T08:19:34.037Z"
      },
      {
        "duration": 153,
        "start_time": "2024-01-28T08:19:34.047Z"
      },
      {
        "duration": 11,
        "start_time": "2024-01-28T08:19:34.201Z"
      },
      {
        "duration": 106,
        "start_time": "2024-01-28T08:19:34.213Z"
      },
      {
        "duration": 7,
        "start_time": "2024-01-28T08:19:34.320Z"
      },
      {
        "duration": 127,
        "start_time": "2024-01-28T08:19:34.329Z"
      },
      {
        "duration": 126,
        "start_time": "2024-01-28T08:19:34.457Z"
      },
      {
        "duration": 17,
        "start_time": "2024-01-28T08:19:34.584Z"
      },
      {
        "duration": 20,
        "start_time": "2024-01-28T08:19:34.602Z"
      },
      {
        "duration": 23,
        "start_time": "2024-01-28T08:19:34.623Z"
      },
      {
        "duration": 10,
        "start_time": "2024-01-28T08:19:34.648Z"
      },
      {
        "duration": 140,
        "start_time": "2024-01-28T08:19:34.659Z"
      },
      {
        "duration": 380,
        "start_time": "2024-01-28T08:19:34.801Z"
      },
      {
        "duration": 12040,
        "start_time": "2024-01-28T08:19:35.183Z"
      },
      {
        "duration": 17635,
        "start_time": "2024-01-28T08:19:47.225Z"
      },
      {
        "duration": 12,
        "start_time": "2024-01-28T08:20:04.861Z"
      },
      {
        "duration": 129,
        "start_time": "2024-01-28T08:20:04.876Z"
      },
      {
        "duration": 113,
        "start_time": "2024-01-28T08:20:05.007Z"
      },
      {
        "duration": 1785,
        "start_time": "2024-01-28T08:20:05.121Z"
      },
      {
        "duration": 336,
        "start_time": "2024-01-28T08:20:06.908Z"
      },
      {
        "duration": 1622,
        "start_time": "2024-01-28T08:20:11.545Z"
      },
      {
        "duration": 326,
        "start_time": "2024-01-28T08:20:19.325Z"
      },
      {
        "duration": 16456,
        "start_time": "2024-01-28T08:21:15.770Z"
      },
      {
        "duration": 58,
        "start_time": "2024-01-28T08:22:28.233Z"
      },
      {
        "duration": 28174,
        "start_time": "2024-01-28T08:22:40.938Z"
      },
      {
        "duration": 24238,
        "start_time": "2024-01-28T08:24:16.918Z"
      },
      {
        "duration": 15774,
        "start_time": "2024-01-28T08:25:09.062Z"
      },
      {
        "duration": 15747,
        "start_time": "2024-01-28T08:25:57.844Z"
      },
      {
        "duration": 524,
        "start_time": "2024-01-28T08:26:31.415Z"
      },
      {
        "duration": 16039,
        "start_time": "2024-01-28T08:26:39.160Z"
      },
      {
        "duration": 1556,
        "start_time": "2024-01-29T04:42:29.506Z"
      },
      {
        "duration": 172,
        "start_time": "2024-01-29T04:42:31.063Z"
      },
      {
        "duration": 15,
        "start_time": "2024-01-29T04:42:31.237Z"
      },
      {
        "duration": 71,
        "start_time": "2024-01-29T04:42:31.254Z"
      },
      {
        "duration": 17,
        "start_time": "2024-01-29T04:42:31.326Z"
      },
      {
        "duration": 29,
        "start_time": "2024-01-29T04:42:31.344Z"
      },
      {
        "duration": 31,
        "start_time": "2024-01-29T04:42:31.374Z"
      },
      {
        "duration": 29,
        "start_time": "2024-01-29T04:42:31.407Z"
      },
      {
        "duration": 27,
        "start_time": "2024-01-29T04:42:31.438Z"
      },
      {
        "duration": 916,
        "start_time": "2024-01-29T04:42:31.468Z"
      },
      {
        "duration": 132,
        "start_time": "2024-01-29T04:42:32.385Z"
      },
      {
        "duration": 8,
        "start_time": "2024-01-29T04:42:32.519Z"
      },
      {
        "duration": 143,
        "start_time": "2024-01-29T04:42:32.528Z"
      },
      {
        "duration": 10,
        "start_time": "2024-01-29T04:42:32.673Z"
      },
      {
        "duration": 106,
        "start_time": "2024-01-29T04:42:32.684Z"
      },
      {
        "duration": 6,
        "start_time": "2024-01-29T04:42:32.791Z"
      },
      {
        "duration": 127,
        "start_time": "2024-01-29T04:42:32.798Z"
      },
      {
        "duration": 128,
        "start_time": "2024-01-29T04:42:32.926Z"
      },
      {
        "duration": 12,
        "start_time": "2024-01-29T04:42:33.056Z"
      },
      {
        "duration": 95,
        "start_time": "2024-01-29T04:42:33.069Z"
      },
      {
        "duration": 26,
        "start_time": "2024-01-29T04:42:33.166Z"
      },
      {
        "duration": 44,
        "start_time": "2024-01-29T04:42:33.193Z"
      },
      {
        "duration": 124,
        "start_time": "2024-01-29T04:42:33.238Z"
      },
      {
        "duration": 354,
        "start_time": "2024-01-29T04:42:33.458Z"
      },
      {
        "duration": 11755,
        "start_time": "2024-01-29T04:42:33.814Z"
      },
      {
        "duration": 17108,
        "start_time": "2024-01-29T04:42:45.570Z"
      },
      {
        "duration": 13,
        "start_time": "2024-01-29T04:43:02.679Z"
      },
      {
        "duration": 152,
        "start_time": "2024-01-29T04:43:02.694Z"
      },
      {
        "duration": 126,
        "start_time": "2024-01-29T04:43:02.848Z"
      },
      {
        "duration": 1642,
        "start_time": "2024-01-29T04:43:02.975Z"
      },
      {
        "duration": 329,
        "start_time": "2024-01-29T04:43:04.619Z"
      },
      {
        "duration": 15544,
        "start_time": "2024-01-29T04:43:04.949Z"
      },
      {
        "duration": 10,
        "start_time": "2024-01-29T04:43:20.495Z"
      },
      {
        "duration": 53,
        "start_time": "2024-01-29T04:43:20.507Z"
      },
      {
        "duration": 102,
        "start_time": "2024-01-29T04:43:20.562Z"
      },
      {
        "duration": 369,
        "start_time": "2024-01-29T04:43:20.666Z"
      },
      {
        "duration": 1595,
        "start_time": "2024-01-29T04:43:21.036Z"
      },
      {
        "duration": 1466,
        "start_time": "2024-01-29T04:44:29.041Z"
      },
      {
        "duration": 860,
        "start_time": "2024-01-29T04:44:45.798Z"
      },
      {
        "duration": 36,
        "start_time": "2024-01-29T04:45:58.417Z"
      },
      {
        "duration": 278,
        "start_time": "2024-01-29T04:46:40.206Z"
      },
      {
        "duration": 27,
        "start_time": "2024-01-29T04:46:57.660Z"
      },
      {
        "duration": 30,
        "start_time": "2024-01-29T04:47:11.874Z"
      },
      {
        "duration": 27,
        "start_time": "2024-01-29T04:47:19.845Z"
      },
      {
        "duration": 324,
        "start_time": "2024-01-29T04:48:25.962Z"
      },
      {
        "duration": 481,
        "start_time": "2024-01-29T04:48:33.217Z"
      },
      {
        "duration": 806,
        "start_time": "2024-01-29T04:48:53.273Z"
      },
      {
        "duration": 223,
        "start_time": "2024-01-29T04:49:05.772Z"
      },
      {
        "duration": 172,
        "start_time": "2024-01-29T04:49:15.000Z"
      },
      {
        "duration": 24,
        "start_time": "2024-01-29T04:52:06.859Z"
      },
      {
        "duration": 24,
        "start_time": "2024-01-29T04:52:44.449Z"
      },
      {
        "duration": 28,
        "start_time": "2024-01-29T04:53:17.501Z"
      },
      {
        "duration": 23,
        "start_time": "2024-01-29T04:59:27.503Z"
      },
      {
        "duration": 23,
        "start_time": "2024-01-29T04:59:40.373Z"
      },
      {
        "duration": 24,
        "start_time": "2024-01-29T04:59:49.921Z"
      },
      {
        "duration": 23,
        "start_time": "2024-01-29T04:59:53.116Z"
      },
      {
        "duration": 23,
        "start_time": "2024-01-29T05:00:10.358Z"
      },
      {
        "duration": 22,
        "start_time": "2024-01-29T05:00:19.973Z"
      },
      {
        "duration": 29,
        "start_time": "2024-01-29T05:03:47.564Z"
      },
      {
        "duration": 6414,
        "start_time": "2024-01-29T05:08:03.577Z"
      },
      {
        "duration": 2646,
        "start_time": "2024-01-29T05:08:17.609Z"
      },
      {
        "duration": 6867,
        "start_time": "2024-01-29T05:08:38.733Z"
      },
      {
        "duration": 3882,
        "start_time": "2024-01-29T05:10:33.117Z"
      },
      {
        "duration": 4670,
        "start_time": "2024-01-29T05:10:50.613Z"
      },
      {
        "duration": 16069,
        "start_time": "2024-01-29T05:12:30.783Z"
      },
      {
        "duration": 16041,
        "start_time": "2024-01-29T05:12:54.528Z"
      },
      {
        "duration": 4,
        "start_time": "2024-01-29T05:14:14.564Z"
      },
      {
        "duration": 64,
        "start_time": "2024-01-29T05:14:14.574Z"
      },
      {
        "duration": 13,
        "start_time": "2024-01-29T05:14:14.640Z"
      },
      {
        "duration": 12,
        "start_time": "2024-01-29T05:14:14.655Z"
      },
      {
        "duration": 16,
        "start_time": "2024-01-29T05:14:14.669Z"
      },
      {
        "duration": 10,
        "start_time": "2024-01-29T05:14:14.686Z"
      },
      {
        "duration": 23,
        "start_time": "2024-01-29T05:14:14.698Z"
      },
      {
        "duration": 57,
        "start_time": "2024-01-29T05:14:14.723Z"
      },
      {
        "duration": 29,
        "start_time": "2024-01-29T05:14:14.781Z"
      },
      {
        "duration": 989,
        "start_time": "2024-01-29T05:14:14.811Z"
      },
      {
        "duration": 138,
        "start_time": "2024-01-29T05:14:15.802Z"
      },
      {
        "duration": 7,
        "start_time": "2024-01-29T05:14:15.941Z"
      },
      {
        "duration": 103,
        "start_time": "2024-01-29T05:14:15.959Z"
      },
      {
        "duration": 11,
        "start_time": "2024-01-29T05:14:16.063Z"
      },
      {
        "duration": 112,
        "start_time": "2024-01-29T05:14:16.075Z"
      },
      {
        "duration": 7,
        "start_time": "2024-01-29T05:14:16.188Z"
      },
      {
        "duration": 126,
        "start_time": "2024-01-29T05:14:16.196Z"
      },
      {
        "duration": 129,
        "start_time": "2024-01-29T05:14:16.323Z"
      },
      {
        "duration": 14,
        "start_time": "2024-01-29T05:14:16.454Z"
      },
      {
        "duration": 25,
        "start_time": "2024-01-29T05:14:16.470Z"
      },
      {
        "duration": 22,
        "start_time": "2024-01-29T05:14:16.497Z"
      },
      {
        "duration": 39,
        "start_time": "2024-01-29T05:14:16.522Z"
      },
      {
        "duration": 102,
        "start_time": "2024-01-29T05:14:16.562Z"
      },
      {
        "duration": 408,
        "start_time": "2024-01-29T05:14:16.666Z"
      },
      {
        "duration": 11751,
        "start_time": "2024-01-29T05:14:17.075Z"
      },
      {
        "duration": 17319,
        "start_time": "2024-01-29T05:14:28.828Z"
      },
      {
        "duration": 16,
        "start_time": "2024-01-29T05:14:46.148Z"
      },
      {
        "duration": 95,
        "start_time": "2024-01-29T05:14:46.166Z"
      },
      {
        "duration": 116,
        "start_time": "2024-01-29T05:14:46.266Z"
      },
      {
        "duration": 1688,
        "start_time": "2024-01-29T05:14:46.384Z"
      },
      {
        "duration": 191,
        "start_time": "2024-01-29T05:14:48.074Z"
      },
      {
        "duration": 16257,
        "start_time": "2024-01-29T05:14:48.267Z"
      },
      {
        "duration": 10,
        "start_time": "2024-01-29T05:15:04.525Z"
      },
      {
        "duration": 37,
        "start_time": "2024-01-29T05:15:04.536Z"
      },
      {
        "duration": 191,
        "start_time": "2024-01-29T05:15:04.575Z"
      },
      {
        "duration": 369,
        "start_time": "2024-01-29T05:15:04.769Z"
      },
      {
        "duration": 4730,
        "start_time": "2024-01-29T05:15:05.139Z"
      },
      {
        "duration": 15760,
        "start_time": "2024-01-29T05:15:09.870Z"
      },
      {
        "duration": 18,
        "start_time": "2024-01-29T05:31:41.386Z"
      },
      {
        "duration": 16,
        "start_time": "2024-01-29T05:31:50.767Z"
      },
      {
        "duration": 17,
        "start_time": "2024-01-29T05:32:22.359Z"
      },
      {
        "duration": 18,
        "start_time": "2024-01-29T05:32:51.494Z"
      },
      {
        "duration": 1744,
        "start_time": "2024-01-30T05:44:02.945Z"
      },
      {
        "duration": 5,
        "start_time": "2024-01-30T05:44:14.321Z"
      },
      {
        "duration": 179,
        "start_time": "2024-01-30T05:44:14.328Z"
      },
      {
        "duration": 15,
        "start_time": "2024-01-30T05:44:14.509Z"
      },
      {
        "duration": 66,
        "start_time": "2024-01-30T05:44:14.526Z"
      },
      {
        "duration": 19,
        "start_time": "2024-01-30T05:44:14.594Z"
      },
      {
        "duration": 12,
        "start_time": "2024-01-30T05:44:14.615Z"
      },
      {
        "duration": 52,
        "start_time": "2024-01-30T05:44:14.629Z"
      },
      {
        "duration": 28,
        "start_time": "2024-01-30T05:44:14.683Z"
      },
      {
        "duration": 19,
        "start_time": "2024-01-30T05:44:14.714Z"
      },
      {
        "duration": 971,
        "start_time": "2024-01-30T05:44:14.735Z"
      },
      {
        "duration": 159,
        "start_time": "2024-01-30T05:44:15.708Z"
      },
      {
        "duration": 13,
        "start_time": "2024-01-30T05:44:15.869Z"
      },
      {
        "duration": 131,
        "start_time": "2024-01-30T05:44:15.884Z"
      },
      {
        "duration": 11,
        "start_time": "2024-01-30T05:44:16.016Z"
      },
      {
        "duration": 117,
        "start_time": "2024-01-30T05:44:16.029Z"
      },
      {
        "duration": 7,
        "start_time": "2024-01-30T05:44:16.147Z"
      },
      {
        "duration": 129,
        "start_time": "2024-01-30T05:44:16.155Z"
      },
      {
        "duration": 136,
        "start_time": "2024-01-30T05:44:16.286Z"
      },
      {
        "duration": 11,
        "start_time": "2024-01-30T05:44:16.424Z"
      },
      {
        "duration": 23,
        "start_time": "2024-01-30T05:44:16.437Z"
      },
      {
        "duration": 37,
        "start_time": "2024-01-30T05:44:16.461Z"
      },
      {
        "duration": 26,
        "start_time": "2024-01-30T05:44:16.500Z"
      },
      {
        "duration": 78,
        "start_time": "2024-01-30T05:44:16.527Z"
      },
      {
        "duration": 412,
        "start_time": "2024-01-30T05:44:16.681Z"
      },
      {
        "duration": 12938,
        "start_time": "2024-01-30T05:44:17.095Z"
      },
      {
        "duration": 18926,
        "start_time": "2024-01-30T05:44:30.035Z"
      },
      {
        "duration": 22,
        "start_time": "2024-01-30T05:44:48.962Z"
      },
      {
        "duration": 104,
        "start_time": "2024-01-30T05:44:48.985Z"
      },
      {
        "duration": 123,
        "start_time": "2024-01-30T05:44:49.091Z"
      },
      {
        "duration": 1778,
        "start_time": "2024-01-30T05:44:49.216Z"
      },
      {
        "duration": 186,
        "start_time": "2024-01-30T05:44:50.996Z"
      },
      {
        "duration": 17439,
        "start_time": "2024-01-30T05:44:51.184Z"
      },
      {
        "duration": 12,
        "start_time": "2024-01-30T05:45:08.624Z"
      },
      {
        "duration": 52,
        "start_time": "2024-01-30T05:45:08.638Z"
      },
      {
        "duration": 101,
        "start_time": "2024-01-30T05:45:08.693Z"
      },
      {
        "duration": 451,
        "start_time": "2024-01-30T05:45:08.796Z"
      },
      {
        "duration": 5106,
        "start_time": "2024-01-30T05:45:09.249Z"
      },
      {
        "duration": 17256,
        "start_time": "2024-01-30T05:45:14.356Z"
      },
      {
        "duration": 203,
        "start_time": "2024-01-30T05:46:39.717Z"
      },
      {
        "duration": 206,
        "start_time": "2024-01-30T05:46:52.764Z"
      },
      {
        "duration": 49,
        "start_time": "2024-01-30T06:12:35.537Z"
      },
      {
        "duration": 141,
        "start_time": "2024-01-30T06:12:42.805Z"
      },
      {
        "duration": 37,
        "start_time": "2024-01-30T06:12:46.349Z"
      },
      {
        "duration": 536,
        "start_time": "2024-01-30T06:23:33.975Z"
      },
      {
        "duration": 1756,
        "start_time": "2024-01-30T06:26:51.699Z"
      },
      {
        "duration": 17626,
        "start_time": "2024-01-30T06:29:04.447Z"
      },
      {
        "duration": 17037,
        "start_time": "2024-01-30T06:29:59.146Z"
      },
      {
        "duration": 30,
        "start_time": "2024-01-30T06:33:44.476Z"
      },
      {
        "duration": 229,
        "start_time": "2024-01-30T06:38:55.094Z"
      },
      {
        "duration": 5102,
        "start_time": "2024-01-30T06:41:21.346Z"
      },
      {
        "duration": 2382,
        "start_time": "2024-01-30T06:41:50.855Z"
      },
      {
        "duration": 3689,
        "start_time": "2024-01-30T06:42:02.713Z"
      },
      {
        "duration": 153,
        "start_time": "2024-01-30T06:49:07.048Z"
      },
      {
        "duration": 5,
        "start_time": "2024-01-30T06:49:25.626Z"
      },
      {
        "duration": 6,
        "start_time": "2024-01-30T06:49:32.386Z"
      },
      {
        "duration": 61,
        "start_time": "2024-01-30T06:49:32.394Z"
      },
      {
        "duration": 13,
        "start_time": "2024-01-30T06:49:32.457Z"
      },
      {
        "duration": 15,
        "start_time": "2024-01-30T06:49:32.473Z"
      },
      {
        "duration": 19,
        "start_time": "2024-01-30T06:49:32.489Z"
      },
      {
        "duration": 15,
        "start_time": "2024-01-30T06:49:32.583Z"
      },
      {
        "duration": 28,
        "start_time": "2024-01-30T06:49:32.600Z"
      },
      {
        "duration": 25,
        "start_time": "2024-01-30T06:49:32.629Z"
      },
      {
        "duration": 24,
        "start_time": "2024-01-30T06:49:32.681Z"
      },
      {
        "duration": 1006,
        "start_time": "2024-01-30T06:49:32.707Z"
      },
      {
        "duration": 167,
        "start_time": "2024-01-30T06:49:33.715Z"
      },
      {
        "duration": 8,
        "start_time": "2024-01-30T06:49:33.884Z"
      },
      {
        "duration": 123,
        "start_time": "2024-01-30T06:49:33.894Z"
      },
      {
        "duration": 12,
        "start_time": "2024-01-30T06:49:34.019Z"
      },
      {
        "duration": 115,
        "start_time": "2024-01-30T06:49:34.033Z"
      },
      {
        "duration": 7,
        "start_time": "2024-01-30T06:49:34.150Z"
      },
      {
        "duration": 136,
        "start_time": "2024-01-30T06:49:34.159Z"
      },
      {
        "duration": 132,
        "start_time": "2024-01-30T06:49:34.297Z"
      },
      {
        "duration": 12,
        "start_time": "2024-01-30T06:49:34.432Z"
      },
      {
        "duration": 23,
        "start_time": "2024-01-30T06:49:34.445Z"
      },
      {
        "duration": 32,
        "start_time": "2024-01-30T06:49:34.481Z"
      },
      {
        "duration": 14,
        "start_time": "2024-01-30T06:49:34.515Z"
      },
      {
        "duration": 150,
        "start_time": "2024-01-30T06:49:34.530Z"
      },
      {
        "duration": 441,
        "start_time": "2024-01-30T06:49:34.682Z"
      },
      {
        "duration": 12962,
        "start_time": "2024-01-30T06:49:35.124Z"
      },
      {
        "duration": 19038,
        "start_time": "2024-01-30T06:49:48.087Z"
      },
      {
        "duration": 13,
        "start_time": "2024-01-30T06:50:07.126Z"
      },
      {
        "duration": 53,
        "start_time": "2024-01-30T06:50:07.141Z"
      },
      {
        "duration": 186,
        "start_time": "2024-01-30T06:50:07.196Z"
      },
      {
        "duration": 120,
        "start_time": "2024-01-30T06:50:07.384Z"
      },
      {
        "duration": 559,
        "start_time": "2024-01-30T06:50:07.505Z"
      },
      {
        "duration": 1769,
        "start_time": "2024-01-30T06:50:08.066Z"
      },
      {
        "duration": 17436,
        "start_time": "2024-01-30T06:50:09.837Z"
      },
      {
        "duration": 16718,
        "start_time": "2024-01-30T06:50:27.279Z"
      },
      {
        "duration": 12,
        "start_time": "2024-01-30T06:50:43.998Z"
      },
      {
        "duration": 70,
        "start_time": "2024-01-30T06:50:44.012Z"
      },
      {
        "duration": 332,
        "start_time": "2024-01-30T06:50:44.086Z"
      },
      {
        "duration": 413,
        "start_time": "2024-01-30T06:50:44.420Z"
      },
      {
        "duration": 3676,
        "start_time": "2024-01-30T06:50:44.835Z"
      },
      {
        "duration": 17421,
        "start_time": "2024-01-30T06:50:48.513Z"
      },
      {
        "duration": 219,
        "start_time": "2024-01-30T06:51:05.935Z"
      },
      {
        "duration": 79,
        "start_time": "2024-01-30T06:51:06.157Z"
      },
      {
        "duration": 143,
        "start_time": "2024-01-30T06:52:27.441Z"
      },
      {
        "duration": 4,
        "start_time": "2024-01-30T06:53:06.247Z"
      },
      {
        "duration": 56,
        "start_time": "2024-01-30T06:53:06.253Z"
      },
      {
        "duration": 12,
        "start_time": "2024-01-30T06:53:06.311Z"
      },
      {
        "duration": 16,
        "start_time": "2024-01-30T06:53:06.325Z"
      },
      {
        "duration": 38,
        "start_time": "2024-01-30T06:53:06.343Z"
      },
      {
        "duration": 11,
        "start_time": "2024-01-30T06:53:06.383Z"
      },
      {
        "duration": 26,
        "start_time": "2024-01-30T06:53:06.395Z"
      },
      {
        "duration": 25,
        "start_time": "2024-01-30T06:53:06.423Z"
      },
      {
        "duration": 50,
        "start_time": "2024-01-30T06:53:06.450Z"
      },
      {
        "duration": 1017,
        "start_time": "2024-01-30T06:53:06.502Z"
      },
      {
        "duration": 160,
        "start_time": "2024-01-30T06:53:07.521Z"
      },
      {
        "duration": 8,
        "start_time": "2024-01-30T06:53:07.683Z"
      },
      {
        "duration": 121,
        "start_time": "2024-01-30T06:53:07.694Z"
      },
      {
        "duration": 11,
        "start_time": "2024-01-30T06:53:07.816Z"
      },
      {
        "duration": 136,
        "start_time": "2024-01-30T06:53:07.830Z"
      },
      {
        "duration": 7,
        "start_time": "2024-01-30T06:53:07.967Z"
      },
      {
        "duration": 121,
        "start_time": "2024-01-30T06:53:07.980Z"
      },
      {
        "duration": 135,
        "start_time": "2024-01-30T06:53:08.103Z"
      },
      {
        "duration": 12,
        "start_time": "2024-01-30T06:53:08.240Z"
      },
      {
        "duration": 31,
        "start_time": "2024-01-30T06:53:08.253Z"
      },
      {
        "duration": 24,
        "start_time": "2024-01-30T06:53:08.285Z"
      },
      {
        "duration": 10,
        "start_time": "2024-01-30T06:53:08.310Z"
      },
      {
        "duration": 90,
        "start_time": "2024-01-30T06:53:16.391Z"
      },
      {
        "duration": 48,
        "start_time": "2024-01-30T06:53:33.033Z"
      },
      {
        "duration": 13,
        "start_time": "2024-01-30T06:53:34.646Z"
      },
      {
        "duration": 11,
        "start_time": "2024-01-30T06:55:05.304Z"
      },
      {
        "duration": 313,
        "start_time": "2024-01-30T06:55:07.467Z"
      },
      {
        "duration": 8,
        "start_time": "2024-01-30T06:55:10.980Z"
      },
      {
        "duration": 8,
        "start_time": "2024-01-30T06:55:30.885Z"
      },
      {
        "duration": 317,
        "start_time": "2024-01-30T06:55:32.557Z"
      },
      {
        "duration": 10,
        "start_time": "2024-01-30T06:55:33.443Z"
      },
      {
        "duration": 9,
        "start_time": "2024-01-30T06:55:47.152Z"
      },
      {
        "duration": 8,
        "start_time": "2024-01-30T06:55:55.596Z"
      },
      {
        "duration": 4,
        "start_time": "2024-01-30T06:56:02.390Z"
      },
      {
        "duration": 66,
        "start_time": "2024-01-30T06:56:02.396Z"
      },
      {
        "duration": 14,
        "start_time": "2024-01-30T06:56:02.465Z"
      },
      {
        "duration": 27,
        "start_time": "2024-01-30T06:56:02.481Z"
      },
      {
        "duration": 21,
        "start_time": "2024-01-30T06:56:02.510Z"
      },
      {
        "duration": 16,
        "start_time": "2024-01-30T06:56:02.533Z"
      },
      {
        "duration": 40,
        "start_time": "2024-01-30T06:56:02.551Z"
      },
      {
        "duration": 26,
        "start_time": "2024-01-30T06:56:02.593Z"
      },
      {
        "duration": 42,
        "start_time": "2024-01-30T06:56:02.621Z"
      },
      {
        "duration": 1009,
        "start_time": "2024-01-30T06:56:02.665Z"
      },
      {
        "duration": 153,
        "start_time": "2024-01-30T06:56:03.680Z"
      },
      {
        "duration": 7,
        "start_time": "2024-01-30T06:56:03.835Z"
      },
      {
        "duration": 134,
        "start_time": "2024-01-30T06:56:03.843Z"
      },
      {
        "duration": 12,
        "start_time": "2024-01-30T06:56:03.979Z"
      },
      {
        "duration": 123,
        "start_time": "2024-01-30T06:56:03.993Z"
      },
      {
        "duration": 7,
        "start_time": "2024-01-30T06:56:04.118Z"
      },
      {
        "duration": 147,
        "start_time": "2024-01-30T06:56:04.127Z"
      },
      {
        "duration": 140,
        "start_time": "2024-01-30T06:56:04.276Z"
      },
      {
        "duration": 14,
        "start_time": "2024-01-30T06:56:04.418Z"
      },
      {
        "duration": 29,
        "start_time": "2024-01-30T06:56:04.433Z"
      },
      {
        "duration": 41,
        "start_time": "2024-01-30T06:56:04.463Z"
      },
      {
        "duration": 11,
        "start_time": "2024-01-30T06:56:04.506Z"
      },
      {
        "duration": 166,
        "start_time": "2024-01-30T06:56:04.519Z"
      },
      {
        "duration": 99,
        "start_time": "2024-01-30T06:56:04.688Z"
      },
      {
        "duration": 511,
        "start_time": "2024-01-30T06:56:04.790Z"
      },
      {
        "duration": 8,
        "start_time": "2024-01-30T06:56:05.302Z"
      },
      {
        "duration": 12931,
        "start_time": "2024-01-30T06:56:05.311Z"
      },
      {
        "duration": 18993,
        "start_time": "2024-01-30T06:56:18.243Z"
      },
      {
        "duration": 94,
        "start_time": "2024-01-30T06:57:07.359Z"
      },
      {
        "duration": 105,
        "start_time": "2024-01-30T06:59:03.579Z"
      },
      {
        "duration": 43,
        "start_time": "2024-01-30T06:59:06.006Z"
      },
      {
        "duration": 9,
        "start_time": "2024-01-30T06:59:08.852Z"
      },
      {
        "duration": 13,
        "start_time": "2024-01-30T06:59:23.005Z"
      },
      {
        "duration": 30,
        "start_time": "2024-01-30T06:59:24.357Z"
      },
      {
        "duration": 529,
        "start_time": "2024-01-30T06:59:25.745Z"
      },
      {
        "duration": 8,
        "start_time": "2024-01-30T06:59:27.455Z"
      },
      {
        "duration": 5,
        "start_time": "2024-01-30T06:59:39.991Z"
      },
      {
        "duration": 64,
        "start_time": "2024-01-30T06:59:39.998Z"
      },
      {
        "duration": 12,
        "start_time": "2024-01-30T06:59:40.064Z"
      },
      {
        "duration": 20,
        "start_time": "2024-01-30T06:59:40.078Z"
      },
      {
        "duration": 17,
        "start_time": "2024-01-30T06:59:40.100Z"
      },
      {
        "duration": 12,
        "start_time": "2024-01-30T06:59:40.339Z"
      },
      {
        "duration": 28,
        "start_time": "2024-01-30T06:59:40.353Z"
      },
      {
        "duration": 25,
        "start_time": "2024-01-30T06:59:40.383Z"
      },
      {
        "duration": 19,
        "start_time": "2024-01-30T06:59:40.409Z"
      },
      {
        "duration": 1029,
        "start_time": "2024-01-30T06:59:40.430Z"
      },
      {
        "duration": 146,
        "start_time": "2024-01-30T06:59:41.461Z"
      },
      {
        "duration": 6,
        "start_time": "2024-01-30T06:59:41.609Z"
      },
      {
        "duration": 123,
        "start_time": "2024-01-30T06:59:41.616Z"
      },
      {
        "duration": 12,
        "start_time": "2024-01-30T06:59:41.741Z"
      },
      {
        "duration": 113,
        "start_time": "2024-01-30T06:59:41.755Z"
      },
      {
        "duration": 12,
        "start_time": "2024-01-30T06:59:41.870Z"
      },
      {
        "duration": 133,
        "start_time": "2024-01-30T06:59:41.885Z"
      },
      {
        "duration": 159,
        "start_time": "2024-01-30T06:59:42.019Z"
      },
      {
        "duration": 13,
        "start_time": "2024-01-30T06:59:42.179Z"
      },
      {
        "duration": 38,
        "start_time": "2024-01-30T06:59:42.194Z"
      },
      {
        "duration": 36,
        "start_time": "2024-01-30T06:59:42.234Z"
      },
      {
        "duration": 15,
        "start_time": "2024-01-30T06:59:42.281Z"
      },
      {
        "duration": 85,
        "start_time": "2024-01-30T06:59:42.298Z"
      },
      {
        "duration": 101,
        "start_time": "2024-01-30T06:59:42.385Z"
      },
      {
        "duration": 415,
        "start_time": "2024-01-30T06:59:42.488Z"
      },
      {
        "duration": 7,
        "start_time": "2024-01-30T06:59:42.905Z"
      },
      {
        "duration": 13089,
        "start_time": "2024-01-30T06:59:42.914Z"
      },
      {
        "duration": 19137,
        "start_time": "2024-01-30T06:59:56.005Z"
      },
      {
        "duration": 102,
        "start_time": "2024-01-30T07:00:15.144Z"
      },
      {
        "duration": 13,
        "start_time": "2024-01-30T07:00:15.248Z"
      },
      {
        "duration": 64,
        "start_time": "2024-01-30T07:00:15.263Z"
      },
      {
        "duration": 104,
        "start_time": "2024-01-30T07:00:15.381Z"
      },
      {
        "duration": 126,
        "start_time": "2024-01-30T07:00:15.489Z"
      },
      {
        "duration": 589,
        "start_time": "2024-01-30T07:00:15.617Z"
      },
      {
        "duration": 9,
        "start_time": "2024-01-30T07:00:16.208Z"
      },
      {
        "duration": 9,
        "start_time": "2024-01-30T07:09:02.267Z"
      },
      {
        "duration": 4,
        "start_time": "2024-01-30T07:10:57.751Z"
      },
      {
        "duration": 7,
        "start_time": "2024-01-30T07:11:10.428Z"
      },
      {
        "duration": 316,
        "start_time": "2024-01-30T07:11:51.209Z"
      },
      {
        "duration": 8,
        "start_time": "2024-01-30T07:11:55.424Z"
      },
      {
        "duration": 7,
        "start_time": "2024-01-30T07:11:57.383Z"
      },
      {
        "duration": 13592,
        "start_time": "2024-01-30T07:12:26.734Z"
      },
      {
        "duration": 19351,
        "start_time": "2024-01-30T07:12:48.204Z"
      },
      {
        "duration": 97,
        "start_time": "2024-01-30T07:13:43.526Z"
      },
      {
        "duration": 94,
        "start_time": "2024-01-30T07:13:50.590Z"
      },
      {
        "duration": 13,
        "start_time": "2024-01-30T07:14:45.922Z"
      },
      {
        "duration": 59,
        "start_time": "2024-01-30T07:14:48.424Z"
      },
      {
        "duration": 9,
        "start_time": "2024-01-30T07:14:50.022Z"
      },
      {
        "duration": 29,
        "start_time": "2024-01-30T07:14:56.411Z"
      },
      {
        "duration": 547,
        "start_time": "2024-01-30T07:15:03.409Z"
      },
      {
        "duration": 8,
        "start_time": "2024-01-30T07:15:10.536Z"
      },
      {
        "duration": 9,
        "start_time": "2024-01-30T07:15:48.734Z"
      },
      {
        "duration": 7,
        "start_time": "2024-01-30T07:15:50.703Z"
      },
      {
        "duration": 18060,
        "start_time": "2024-01-30T07:15:59.145Z"
      },
      {
        "duration": 17002,
        "start_time": "2024-01-30T07:16:17.207Z"
      },
      {
        "duration": 70,
        "start_time": "2024-01-30T07:16:34.211Z"
      },
      {
        "duration": 17211,
        "start_time": "2024-01-30T07:16:53.677Z"
      },
      {
        "duration": 71,
        "start_time": "2024-01-30T07:17:10.890Z"
      },
      {
        "duration": 69,
        "start_time": "2024-01-30T07:17:14.167Z"
      },
      {
        "duration": 16890,
        "start_time": "2024-01-30T07:17:44.690Z"
      },
      {
        "duration": 56,
        "start_time": "2024-01-30T07:19:04.832Z"
      },
      {
        "duration": 17000,
        "start_time": "2024-01-30T07:19:11.687Z"
      },
      {
        "duration": 4,
        "start_time": "2024-01-30T07:20:43.472Z"
      },
      {
        "duration": 70,
        "start_time": "2024-01-30T07:20:43.478Z"
      },
      {
        "duration": 12,
        "start_time": "2024-01-30T07:20:43.550Z"
      },
      {
        "duration": 15,
        "start_time": "2024-01-30T07:20:43.564Z"
      },
      {
        "duration": 17,
        "start_time": "2024-01-30T07:20:43.581Z"
      },
      {
        "duration": 11,
        "start_time": "2024-01-30T07:20:43.600Z"
      },
      {
        "duration": 26,
        "start_time": "2024-01-30T07:20:43.613Z"
      },
      {
        "duration": 49,
        "start_time": "2024-01-30T07:20:43.641Z"
      },
      {
        "duration": 20,
        "start_time": "2024-01-30T07:20:43.692Z"
      },
      {
        "duration": 1026,
        "start_time": "2024-01-30T07:20:43.714Z"
      },
      {
        "duration": 152,
        "start_time": "2024-01-30T07:20:44.741Z"
      },
      {
        "duration": 7,
        "start_time": "2024-01-30T07:20:44.894Z"
      },
      {
        "duration": 124,
        "start_time": "2024-01-30T07:20:44.903Z"
      },
      {
        "duration": 11,
        "start_time": "2024-01-30T07:20:45.029Z"
      },
      {
        "duration": 122,
        "start_time": "2024-01-30T07:20:45.042Z"
      },
      {
        "duration": 7,
        "start_time": "2024-01-30T07:20:45.165Z"
      },
      {
        "duration": 139,
        "start_time": "2024-01-30T07:20:45.180Z"
      },
      {
        "duration": 143,
        "start_time": "2024-01-30T07:20:45.321Z"
      },
      {
        "duration": 20,
        "start_time": "2024-01-30T07:20:45.468Z"
      },
      {
        "duration": 43,
        "start_time": "2024-01-30T07:20:45.490Z"
      },
      {
        "duration": 34,
        "start_time": "2024-01-30T07:20:45.535Z"
      },
      {
        "duration": 11,
        "start_time": "2024-01-30T07:20:45.571Z"
      },
      {
        "duration": 100,
        "start_time": "2024-01-30T07:20:45.583Z"
      },
      {
        "duration": 95,
        "start_time": "2024-01-30T07:20:45.685Z"
      },
      {
        "duration": 40,
        "start_time": "2024-01-30T07:20:45.782Z"
      },
      {
        "duration": 471,
        "start_time": "2024-01-30T07:20:45.825Z"
      },
      {
        "duration": 7,
        "start_time": "2024-01-30T07:20:46.298Z"
      },
      {
        "duration": 13024,
        "start_time": "2024-01-30T07:20:46.307Z"
      },
      {
        "duration": 19055,
        "start_time": "2024-01-30T07:20:59.332Z"
      },
      {
        "duration": 100,
        "start_time": "2024-01-30T07:21:18.388Z"
      },
      {
        "duration": 13,
        "start_time": "2024-01-30T07:21:18.490Z"
      },
      {
        "duration": 77,
        "start_time": "2024-01-30T07:21:18.504Z"
      },
      {
        "duration": 99,
        "start_time": "2024-01-30T07:21:18.584Z"
      },
      {
        "duration": 116,
        "start_time": "2024-01-30T07:21:18.686Z"
      },
      {
        "duration": 577,
        "start_time": "2024-01-30T07:21:18.803Z"
      },
      {
        "duration": 9,
        "start_time": "2024-01-30T07:21:19.381Z"
      },
      {
        "duration": 1782,
        "start_time": "2024-01-30T07:21:19.391Z"
      },
      {
        "duration": 17632,
        "start_time": "2024-01-30T07:21:21.174Z"
      },
      {
        "duration": 17662,
        "start_time": "2024-01-30T07:22:57.594Z"
      },
      {
        "duration": 17232,
        "start_time": "2024-01-30T07:23:15.258Z"
      },
      {
        "duration": 69,
        "start_time": "2024-01-30T07:24:04.737Z"
      },
      {
        "duration": 3,
        "start_time": "2024-01-30T07:24:13.424Z"
      },
      {
        "duration": 68,
        "start_time": "2024-01-30T07:24:16.239Z"
      },
      {
        "duration": 17007,
        "start_time": "2024-01-30T07:24:25.767Z"
      },
      {
        "duration": 69,
        "start_time": "2024-01-30T07:25:14.259Z"
      },
      {
        "duration": 4,
        "start_time": "2024-01-30T07:25:17.920Z"
      },
      {
        "duration": 77,
        "start_time": "2024-01-30T07:25:18.733Z"
      },
      {
        "duration": 540,
        "start_time": "2024-01-30T07:26:30.648Z"
      },
      {
        "duration": 3715,
        "start_time": "2024-01-30T07:27:12.632Z"
      },
      {
        "duration": 454,
        "start_time": "2024-01-30T07:27:33.193Z"
      },
      {
        "duration": 3739,
        "start_time": "2024-01-30T07:28:11.631Z"
      },
      {
        "duration": 3669,
        "start_time": "2024-01-30T07:30:06.413Z"
      },
      {
        "duration": 17038,
        "start_time": "2024-01-30T07:30:13.811Z"
      },
      {
        "duration": 17453,
        "start_time": "2024-01-30T07:31:38.305Z"
      },
      {
        "duration": 17386,
        "start_time": "2024-01-30T07:49:23.650Z"
      },
      {
        "duration": 17489,
        "start_time": "2024-01-30T07:49:53.200Z"
      },
      {
        "duration": 12,
        "start_time": "2024-01-30T07:54:20.513Z"
      },
      {
        "duration": 3,
        "start_time": "2024-01-30T07:54:22.664Z"
      },
      {
        "duration": 73,
        "start_time": "2024-01-30T07:54:23.602Z"
      },
      {
        "duration": 17630,
        "start_time": "2024-01-30T07:55:50.107Z"
      },
      {
        "duration": 5,
        "start_time": "2024-01-30T07:56:27.330Z"
      },
      {
        "duration": 52,
        "start_time": "2024-01-30T07:56:27.337Z"
      },
      {
        "duration": 12,
        "start_time": "2024-01-30T07:56:27.391Z"
      },
      {
        "duration": 15,
        "start_time": "2024-01-30T07:56:27.405Z"
      },
      {
        "duration": 25,
        "start_time": "2024-01-30T07:56:27.422Z"
      },
      {
        "duration": 36,
        "start_time": "2024-01-30T07:56:27.450Z"
      },
      {
        "duration": 27,
        "start_time": "2024-01-30T07:56:27.487Z"
      },
      {
        "duration": 27,
        "start_time": "2024-01-30T07:56:27.516Z"
      },
      {
        "duration": 43,
        "start_time": "2024-01-30T07:56:27.545Z"
      },
      {
        "duration": 880,
        "start_time": "2024-01-30T07:56:27.589Z"
      },
      {
        "duration": 141,
        "start_time": "2024-01-30T07:56:28.479Z"
      },
      {
        "duration": 8,
        "start_time": "2024-01-30T07:56:28.622Z"
      },
      {
        "duration": 226,
        "start_time": "2024-01-30T07:56:28.632Z"
      },
      {
        "duration": 11,
        "start_time": "2024-01-30T07:56:28.860Z"
      },
      {
        "duration": 116,
        "start_time": "2024-01-30T07:56:28.881Z"
      },
      {
        "duration": 7,
        "start_time": "2024-01-30T07:56:28.999Z"
      },
      {
        "duration": 141,
        "start_time": "2024-01-30T07:56:29.007Z"
      },
      {
        "duration": 140,
        "start_time": "2024-01-30T07:56:29.150Z"
      },
      {
        "duration": 12,
        "start_time": "2024-01-30T07:56:29.292Z"
      },
      {
        "duration": 22,
        "start_time": "2024-01-30T07:56:29.306Z"
      },
      {
        "duration": 37,
        "start_time": "2024-01-30T07:56:29.330Z"
      },
      {
        "duration": 19,
        "start_time": "2024-01-30T07:56:29.379Z"
      },
      {
        "duration": 84,
        "start_time": "2024-01-30T07:56:29.400Z"
      },
      {
        "duration": 96,
        "start_time": "2024-01-30T07:56:29.485Z"
      },
      {
        "duration": 17,
        "start_time": "2024-01-30T07:56:29.583Z"
      },
      {
        "duration": 416,
        "start_time": "2024-01-30T07:56:29.680Z"
      },
      {
        "duration": 13402,
        "start_time": "2024-01-30T07:56:30.098Z"
      },
      {
        "duration": 19531,
        "start_time": "2024-01-30T07:56:43.502Z"
      },
      {
        "duration": 13,
        "start_time": "2024-01-30T07:57:03.038Z"
      },
      {
        "duration": 134,
        "start_time": "2024-01-30T07:57:03.053Z"
      },
      {
        "duration": 197,
        "start_time": "2024-01-30T07:57:03.189Z"
      },
      {
        "duration": 575,
        "start_time": "2024-01-30T07:57:03.387Z"
      },
      {
        "duration": 1816,
        "start_time": "2024-01-30T07:57:03.964Z"
      },
      {
        "duration": 17905,
        "start_time": "2024-01-30T07:57:05.782Z"
      },
      {
        "duration": 17135,
        "start_time": "2024-01-30T07:57:23.688Z"
      },
      {
        "duration": 11,
        "start_time": "2024-01-30T07:57:40.825Z"
      },
      {
        "duration": 48,
        "start_time": "2024-01-30T07:57:40.838Z"
      },
      {
        "duration": 439,
        "start_time": "2024-01-30T07:57:40.888Z"
      },
      {
        "duration": 445,
        "start_time": "2024-01-30T07:57:41.330Z"
      },
      {
        "duration": 3805,
        "start_time": "2024-01-30T07:57:41.780Z"
      },
      {
        "duration": 17251,
        "start_time": "2024-01-30T07:57:45.587Z"
      },
      {
        "duration": 17988,
        "start_time": "2024-01-30T07:58:02.840Z"
      },
      {
        "duration": 1096,
        "start_time": "2024-01-30T08:02:33.038Z"
      },
      {
        "duration": 1090,
        "start_time": "2024-01-30T08:04:33.090Z"
      },
      {
        "duration": 813,
        "start_time": "2024-01-30T08:05:45.379Z"
      },
      {
        "duration": 803,
        "start_time": "2024-01-30T08:06:10.168Z"
      },
      {
        "duration": 11,
        "start_time": "2024-01-30T08:07:17.260Z"
      },
      {
        "duration": 10,
        "start_time": "2024-01-30T08:07:36.253Z"
      },
      {
        "duration": 14,
        "start_time": "2024-01-30T08:07:46.264Z"
      },
      {
        "duration": 10,
        "start_time": "2024-01-30T08:08:15.277Z"
      },
      {
        "duration": 385,
        "start_time": "2024-01-30T08:11:29.554Z"
      },
      {
        "duration": 1086,
        "start_time": "2024-01-30T08:11:49.974Z"
      },
      {
        "duration": 1090,
        "start_time": "2024-01-30T08:12:08.738Z"
      },
      {
        "duration": 17044,
        "start_time": "2024-01-30T08:14:04.169Z"
      },
      {
        "duration": 1456,
        "start_time": "2024-01-30T08:27:38.177Z"
      },
      {
        "duration": 56,
        "start_time": "2024-01-30T08:27:39.635Z"
      },
      {
        "duration": 15,
        "start_time": "2024-01-30T08:27:39.692Z"
      },
      {
        "duration": 55,
        "start_time": "2024-01-30T08:27:39.708Z"
      },
      {
        "duration": 19,
        "start_time": "2024-01-30T08:27:39.781Z"
      },
      {
        "duration": 11,
        "start_time": "2024-01-30T08:27:39.802Z"
      },
      {
        "duration": 29,
        "start_time": "2024-01-30T08:27:39.815Z"
      },
      {
        "duration": 49,
        "start_time": "2024-01-30T08:27:39.845Z"
      },
      {
        "duration": 20,
        "start_time": "2024-01-30T08:27:39.896Z"
      },
      {
        "duration": 984,
        "start_time": "2024-01-30T08:27:39.918Z"
      },
      {
        "duration": 154,
        "start_time": "2024-01-30T08:27:40.904Z"
      },
      {
        "duration": 7,
        "start_time": "2024-01-30T08:27:41.060Z"
      },
      {
        "duration": 119,
        "start_time": "2024-01-30T08:27:41.068Z"
      },
      {
        "duration": 12,
        "start_time": "2024-01-30T08:27:41.191Z"
      },
      {
        "duration": 120,
        "start_time": "2024-01-30T08:27:41.204Z"
      },
      {
        "duration": 7,
        "start_time": "2024-01-30T08:27:41.325Z"
      },
      {
        "duration": 139,
        "start_time": "2024-01-30T08:27:41.333Z"
      },
      {
        "duration": 134,
        "start_time": "2024-01-30T08:27:41.474Z"
      },
      {
        "duration": 12,
        "start_time": "2024-01-30T08:27:41.609Z"
      },
      {
        "duration": 24,
        "start_time": "2024-01-30T08:27:41.622Z"
      },
      {
        "duration": 40,
        "start_time": "2024-01-30T08:27:41.647Z"
      },
      {
        "duration": 11,
        "start_time": "2024-01-30T08:27:41.688Z"
      },
      {
        "duration": 89,
        "start_time": "2024-01-30T08:27:41.701Z"
      },
      {
        "duration": 5,
        "start_time": "2024-01-30T08:27:41.881Z"
      },
      {
        "duration": 103,
        "start_time": "2024-01-30T08:27:41.888Z"
      },
      {
        "duration": 508,
        "start_time": "2024-01-30T08:27:41.993Z"
      },
      {
        "duration": 12875,
        "start_time": "2024-01-30T08:27:42.502Z"
      },
      {
        "duration": 19028,
        "start_time": "2024-01-30T08:27:55.380Z"
      },
      {
        "duration": 14,
        "start_time": "2024-01-30T08:28:14.410Z"
      },
      {
        "duration": 154,
        "start_time": "2024-01-30T08:28:14.426Z"
      },
      {
        "duration": 119,
        "start_time": "2024-01-30T08:28:14.583Z"
      },
      {
        "duration": 556,
        "start_time": "2024-01-30T08:28:14.704Z"
      },
      {
        "duration": 1748,
        "start_time": "2024-01-30T08:28:15.262Z"
      },
      {
        "duration": 17445,
        "start_time": "2024-01-30T08:28:17.011Z"
      },
      {
        "duration": 16683,
        "start_time": "2024-01-30T08:28:34.458Z"
      },
      {
        "duration": 11,
        "start_time": "2024-01-30T08:28:51.142Z"
      },
      {
        "duration": 37,
        "start_time": "2024-01-30T08:28:51.154Z"
      },
      {
        "duration": 329,
        "start_time": "2024-01-30T08:28:51.282Z"
      },
      {
        "duration": 456,
        "start_time": "2024-01-30T08:28:51.615Z"
      },
      {
        "duration": 3692,
        "start_time": "2024-01-30T08:28:52.072Z"
      },
      {
        "duration": 16947,
        "start_time": "2024-01-30T08:28:55.768Z"
      },
      {
        "duration": 1063,
        "start_time": "2024-01-30T08:29:12.717Z"
      },
      {
        "duration": 1056,
        "start_time": "2024-01-30T08:29:13.782Z"
      },
      {
        "duration": 190146,
        "start_time": "2024-01-30T08:29:14.840Z"
      },
      {
        "duration": 128,
        "start_time": "2024-01-30T08:32:24.988Z"
      },
      {
        "duration": 0,
        "start_time": "2024-01-30T08:32:25.123Z"
      },
      {
        "duration": 0,
        "start_time": "2024-01-30T08:32:25.124Z"
      },
      {
        "duration": 0,
        "start_time": "2024-01-30T08:32:25.124Z"
      },
      {
        "duration": 0,
        "start_time": "2024-01-30T08:32:25.125Z"
      },
      {
        "duration": 0,
        "start_time": "2024-01-30T08:32:25.126Z"
      },
      {
        "duration": 0,
        "start_time": "2024-01-30T08:32:25.127Z"
      },
      {
        "duration": 0,
        "start_time": "2024-01-30T08:32:25.128Z"
      },
      {
        "duration": 0,
        "start_time": "2024-01-30T08:32:25.129Z"
      },
      {
        "duration": 0,
        "start_time": "2024-01-30T08:32:25.130Z"
      },
      {
        "duration": 0,
        "start_time": "2024-01-30T08:32:25.131Z"
      },
      {
        "duration": 0,
        "start_time": "2024-01-30T08:32:25.131Z"
      },
      {
        "duration": 0,
        "start_time": "2024-01-30T08:32:25.132Z"
      },
      {
        "duration": 0,
        "start_time": "2024-01-30T08:32:25.133Z"
      },
      {
        "duration": 0,
        "start_time": "2024-01-30T08:32:25.134Z"
      },
      {
        "duration": 0,
        "start_time": "2024-01-30T08:32:25.135Z"
      },
      {
        "duration": 0,
        "start_time": "2024-01-30T08:32:25.136Z"
      },
      {
        "duration": 0,
        "start_time": "2024-01-30T08:32:25.137Z"
      },
      {
        "duration": 0,
        "start_time": "2024-01-30T08:32:25.139Z"
      },
      {
        "duration": 0,
        "start_time": "2024-01-30T08:32:25.140Z"
      },
      {
        "duration": 0,
        "start_time": "2024-01-30T08:32:25.141Z"
      },
      {
        "duration": 0,
        "start_time": "2024-01-30T08:32:25.142Z"
      },
      {
        "duration": 0,
        "start_time": "2024-01-30T08:32:25.180Z"
      },
      {
        "duration": 0,
        "start_time": "2024-01-30T08:32:25.181Z"
      },
      {
        "duration": 0,
        "start_time": "2024-01-30T08:32:25.182Z"
      },
      {
        "duration": 0,
        "start_time": "2024-01-30T08:32:25.183Z"
      },
      {
        "duration": 0,
        "start_time": "2024-01-30T08:32:25.184Z"
      },
      {
        "duration": 0,
        "start_time": "2024-01-30T08:32:25.185Z"
      },
      {
        "duration": 0,
        "start_time": "2024-01-30T08:32:25.186Z"
      },
      {
        "duration": 0,
        "start_time": "2024-01-30T08:32:25.187Z"
      },
      {
        "duration": 0,
        "start_time": "2024-01-30T08:32:25.188Z"
      },
      {
        "duration": 0,
        "start_time": "2024-01-30T08:32:25.189Z"
      },
      {
        "duration": 0,
        "start_time": "2024-01-30T08:32:25.190Z"
      },
      {
        "duration": 0,
        "start_time": "2024-01-30T08:32:25.191Z"
      },
      {
        "duration": 0,
        "start_time": "2024-01-30T08:32:25.192Z"
      },
      {
        "duration": 0,
        "start_time": "2024-01-30T08:32:25.193Z"
      },
      {
        "duration": 0,
        "start_time": "2024-01-30T08:32:25.194Z"
      },
      {
        "duration": 0,
        "start_time": "2024-01-30T08:32:25.195Z"
      },
      {
        "duration": 0,
        "start_time": "2024-01-30T08:32:25.196Z"
      },
      {
        "duration": 0,
        "start_time": "2024-01-30T08:32:25.197Z"
      },
      {
        "duration": 0,
        "start_time": "2024-01-30T08:32:25.198Z"
      },
      {
        "duration": 0,
        "start_time": "2024-01-30T08:32:25.199Z"
      },
      {
        "duration": 0,
        "start_time": "2024-01-30T08:32:25.200Z"
      },
      {
        "duration": 0,
        "start_time": "2024-01-30T08:32:25.201Z"
      },
      {
        "duration": 1460,
        "start_time": "2024-01-30T08:32:33.578Z"
      },
      {
        "duration": 4,
        "start_time": "2024-01-30T08:32:46.806Z"
      },
      {
        "duration": 67,
        "start_time": "2024-01-30T08:32:46.812Z"
      },
      {
        "duration": 13,
        "start_time": "2024-01-30T08:32:46.881Z"
      },
      {
        "duration": 53,
        "start_time": "2024-01-30T08:32:46.895Z"
      },
      {
        "duration": 33,
        "start_time": "2024-01-30T08:32:46.950Z"
      },
      {
        "duration": 12,
        "start_time": "2024-01-30T08:32:46.985Z"
      },
      {
        "duration": 27,
        "start_time": "2024-01-30T08:32:46.999Z"
      },
      {
        "duration": 54,
        "start_time": "2024-01-30T08:32:47.027Z"
      },
      {
        "duration": 19,
        "start_time": "2024-01-30T08:32:47.083Z"
      },
      {
        "duration": 987,
        "start_time": "2024-01-30T08:32:47.103Z"
      },
      {
        "duration": 142,
        "start_time": "2024-01-30T08:32:48.092Z"
      },
      {
        "duration": 8,
        "start_time": "2024-01-30T08:32:48.235Z"
      },
      {
        "duration": 126,
        "start_time": "2024-01-30T08:32:48.244Z"
      },
      {
        "duration": 14,
        "start_time": "2024-01-30T08:32:48.373Z"
      },
      {
        "duration": 123,
        "start_time": "2024-01-30T08:32:48.388Z"
      },
      {
        "duration": 8,
        "start_time": "2024-01-30T08:32:48.512Z"
      },
      {
        "duration": 139,
        "start_time": "2024-01-30T08:32:48.521Z"
      },
      {
        "duration": 149,
        "start_time": "2024-01-30T08:32:48.662Z"
      },
      {
        "duration": 12,
        "start_time": "2024-01-30T08:32:48.812Z"
      },
      {
        "duration": 37,
        "start_time": "2024-01-30T08:32:48.826Z"
      },
      {
        "duration": 41,
        "start_time": "2024-01-30T08:32:48.865Z"
      },
      {
        "duration": 11,
        "start_time": "2024-01-30T08:32:48.908Z"
      },
      {
        "duration": 65,
        "start_time": "2024-01-30T08:32:48.921Z"
      },
      {
        "duration": 98,
        "start_time": "2024-01-30T08:32:48.987Z"
      },
      {
        "duration": 98,
        "start_time": "2024-01-30T08:32:49.087Z"
      },
      {
        "duration": 503,
        "start_time": "2024-01-30T08:32:49.187Z"
      },
      {
        "duration": 12997,
        "start_time": "2024-01-30T08:32:49.692Z"
      },
      {
        "duration": 19192,
        "start_time": "2024-01-30T08:33:02.691Z"
      },
      {
        "duration": 12,
        "start_time": "2024-01-30T08:33:21.885Z"
      },
      {
        "duration": 89,
        "start_time": "2024-01-30T08:33:21.899Z"
      },
      {
        "duration": 200,
        "start_time": "2024-01-30T08:33:21.990Z"
      },
      {
        "duration": 567,
        "start_time": "2024-01-30T08:33:22.192Z"
      },
      {
        "duration": 1724,
        "start_time": "2024-01-30T08:33:22.760Z"
      },
      {
        "duration": 17294,
        "start_time": "2024-01-30T08:33:24.486Z"
      },
      {
        "duration": 16803,
        "start_time": "2024-01-30T08:33:41.782Z"
      },
      {
        "duration": 12,
        "start_time": "2024-01-30T08:33:58.587Z"
      },
      {
        "duration": 179,
        "start_time": "2024-01-30T08:33:58.601Z"
      },
      {
        "duration": 331,
        "start_time": "2024-01-30T08:33:58.782Z"
      },
      {
        "duration": 445,
        "start_time": "2024-01-30T08:33:59.114Z"
      },
      {
        "duration": 3727,
        "start_time": "2024-01-30T08:33:59.560Z"
      },
      {
        "duration": 16829,
        "start_time": "2024-01-30T08:34:03.291Z"
      },
      {
        "duration": 1044,
        "start_time": "2024-01-30T08:34:20.122Z"
      },
      {
        "duration": 456,
        "start_time": "2024-01-30T08:34:21.168Z"
      },
      {
        "duration": 190482,
        "start_time": "2024-01-30T08:35:21.156Z"
      },
      {
        "duration": 195094,
        "start_time": "2024-01-30T08:41:44.341Z"
      },
      {
        "duration": 162445,
        "start_time": "2024-01-30T08:47:03.222Z"
      },
      {
        "duration": 7,
        "start_time": "2024-01-30T08:52:14.224Z"
      },
      {
        "duration": 69,
        "start_time": "2024-01-30T08:52:14.233Z"
      },
      {
        "duration": 19,
        "start_time": "2024-01-30T08:52:14.304Z"
      },
      {
        "duration": 26,
        "start_time": "2024-01-30T08:52:14.325Z"
      },
      {
        "duration": 31,
        "start_time": "2024-01-30T08:52:14.353Z"
      },
      {
        "duration": 11,
        "start_time": "2024-01-30T08:52:14.386Z"
      },
      {
        "duration": 26,
        "start_time": "2024-01-30T08:52:14.399Z"
      },
      {
        "duration": 60,
        "start_time": "2024-01-30T08:52:14.427Z"
      },
      {
        "duration": 28,
        "start_time": "2024-01-30T08:52:14.491Z"
      },
      {
        "duration": 932,
        "start_time": "2024-01-30T08:52:14.521Z"
      },
      {
        "duration": 267,
        "start_time": "2024-01-30T08:52:15.455Z"
      },
      {
        "duration": 10,
        "start_time": "2024-01-30T08:52:15.724Z"
      },
      {
        "duration": 151,
        "start_time": "2024-01-30T08:52:15.736Z"
      },
      {
        "duration": 13,
        "start_time": "2024-01-30T08:52:15.889Z"
      },
      {
        "duration": 131,
        "start_time": "2024-01-30T08:52:15.904Z"
      },
      {
        "duration": 9,
        "start_time": "2024-01-30T08:52:16.037Z"
      },
      {
        "duration": 145,
        "start_time": "2024-01-30T08:52:16.048Z"
      },
      {
        "duration": 147,
        "start_time": "2024-01-30T08:52:16.196Z"
      },
      {
        "duration": 13,
        "start_time": "2024-01-30T08:52:16.345Z"
      },
      {
        "duration": 48,
        "start_time": "2024-01-30T08:52:16.360Z"
      },
      {
        "duration": 25,
        "start_time": "2024-01-30T08:52:16.409Z"
      },
      {
        "duration": 11,
        "start_time": "2024-01-30T08:52:16.436Z"
      },
      {
        "duration": 82,
        "start_time": "2024-01-30T08:52:16.448Z"
      },
      {
        "duration": 6,
        "start_time": "2024-01-30T08:52:16.584Z"
      },
      {
        "duration": 104,
        "start_time": "2024-01-30T08:52:16.591Z"
      },
      {
        "duration": 540,
        "start_time": "2024-01-30T08:52:16.698Z"
      },
      {
        "duration": 13569,
        "start_time": "2024-01-30T08:52:17.240Z"
      },
      {
        "duration": 147645,
        "start_time": "2024-01-30T08:52:35.523Z"
      },
      {
        "duration": 41038,
        "start_time": "2024-01-30T08:55:48.102Z"
      },
      {
        "duration": 13389,
        "start_time": "2024-01-30T08:56:48.485Z"
      },
      {
        "duration": 45,
        "start_time": "2024-01-30T11:37:07.289Z"
      },
      {
        "duration": 1614,
        "start_time": "2024-01-30T11:37:12.332Z"
      },
      {
        "duration": 167,
        "start_time": "2024-01-30T11:37:13.948Z"
      },
      {
        "duration": 14,
        "start_time": "2024-01-30T11:37:14.117Z"
      },
      {
        "duration": 56,
        "start_time": "2024-01-30T11:37:14.133Z"
      },
      {
        "duration": 17,
        "start_time": "2024-01-30T11:37:14.191Z"
      },
      {
        "duration": 8,
        "start_time": "2024-01-30T11:37:14.210Z"
      },
      {
        "duration": 12,
        "start_time": "2024-01-30T11:37:32.285Z"
      },
      {
        "duration": 76,
        "start_time": "2024-01-30T11:38:56.999Z"
      },
      {
        "duration": 9,
        "start_time": "2024-01-30T11:42:42.652Z"
      },
      {
        "duration": 10,
        "start_time": "2024-01-30T11:43:41.294Z"
      },
      {
        "duration": 12,
        "start_time": "2024-01-30T11:43:45.941Z"
      },
      {
        "duration": 11,
        "start_time": "2024-01-30T11:43:52.552Z"
      },
      {
        "duration": 11,
        "start_time": "2024-01-30T11:44:31.255Z"
      },
      {
        "duration": 10,
        "start_time": "2024-01-30T11:44:32.391Z"
      },
      {
        "duration": 10,
        "start_time": "2024-01-30T11:44:36.182Z"
      },
      {
        "duration": 10,
        "start_time": "2024-01-30T11:44:37.147Z"
      },
      {
        "duration": 5,
        "start_time": "2024-01-30T11:44:43.439Z"
      },
      {
        "duration": 61,
        "start_time": "2024-01-30T11:44:43.445Z"
      },
      {
        "duration": 12,
        "start_time": "2024-01-30T11:44:43.508Z"
      },
      {
        "duration": 14,
        "start_time": "2024-01-30T11:44:43.521Z"
      },
      {
        "duration": 10,
        "start_time": "2024-01-30T11:44:43.537Z"
      },
      {
        "duration": 15,
        "start_time": "2024-01-30T11:44:43.549Z"
      },
      {
        "duration": 24,
        "start_time": "2024-01-30T11:44:43.565Z"
      },
      {
        "duration": 23,
        "start_time": "2024-01-30T11:44:43.638Z"
      },
      {
        "duration": 18,
        "start_time": "2024-01-30T11:44:43.663Z"
      },
      {
        "duration": 939,
        "start_time": "2024-01-30T11:44:43.683Z"
      },
      {
        "duration": 138,
        "start_time": "2024-01-30T11:44:44.624Z"
      },
      {
        "duration": 7,
        "start_time": "2024-01-30T11:44:44.764Z"
      },
      {
        "duration": 106,
        "start_time": "2024-01-30T11:44:44.772Z"
      },
      {
        "duration": 12,
        "start_time": "2024-01-30T11:44:44.879Z"
      },
      {
        "duration": 106,
        "start_time": "2024-01-30T11:44:44.892Z"
      },
      {
        "duration": 7,
        "start_time": "2024-01-30T11:44:45.001Z"
      },
      {
        "duration": 154,
        "start_time": "2024-01-30T11:44:45.010Z"
      },
      {
        "duration": 127,
        "start_time": "2024-01-30T11:44:45.166Z"
      },
      {
        "duration": 12,
        "start_time": "2024-01-30T11:44:45.294Z"
      },
      {
        "duration": 42,
        "start_time": "2024-01-30T11:44:45.307Z"
      },
      {
        "duration": 30,
        "start_time": "2024-01-30T11:44:45.353Z"
      },
      {
        "duration": 45,
        "start_time": "2024-01-30T11:44:45.384Z"
      },
      {
        "duration": 128,
        "start_time": "2024-01-30T11:44:45.431Z"
      },
      {
        "duration": 98,
        "start_time": "2024-01-30T11:44:45.562Z"
      },
      {
        "duration": 37,
        "start_time": "2024-01-30T11:44:45.661Z"
      },
      {
        "duration": 460,
        "start_time": "2024-01-30T11:44:45.700Z"
      },
      {
        "duration": 12411,
        "start_time": "2024-01-30T11:44:46.162Z"
      },
      {
        "duration": 36468,
        "start_time": "2024-01-30T11:44:58.574Z"
      },
      {
        "duration": 17266,
        "start_time": "2024-01-30T11:45:35.044Z"
      },
      {
        "duration": 10,
        "start_time": "2024-01-30T11:45:52.311Z"
      },
      {
        "duration": 55,
        "start_time": "2024-01-30T11:45:52.323Z"
      },
      {
        "duration": 196,
        "start_time": "2024-01-30T11:45:52.380Z"
      },
      {
        "duration": 508,
        "start_time": "2024-01-30T11:45:52.578Z"
      },
      {
        "duration": 1574,
        "start_time": "2024-01-30T11:45:53.088Z"
      },
      {
        "duration": 15924,
        "start_time": "2024-01-30T11:45:54.663Z"
      },
      {
        "duration": 15477,
        "start_time": "2024-01-30T11:46:10.589Z"
      },
      {
        "duration": 11,
        "start_time": "2024-01-30T11:46:26.067Z"
      },
      {
        "duration": 84,
        "start_time": "2024-01-30T11:46:26.079Z"
      },
      {
        "duration": 326,
        "start_time": "2024-01-30T11:46:26.165Z"
      },
      {
        "duration": 449,
        "start_time": "2024-01-30T11:46:26.493Z"
      },
      {
        "duration": 3428,
        "start_time": "2024-01-30T11:46:26.944Z"
      },
      {
        "duration": 15376,
        "start_time": "2024-01-30T11:46:30.373Z"
      },
      {
        "duration": 985,
        "start_time": "2024-01-30T11:46:45.751Z"
      },
      {
        "duration": 414,
        "start_time": "2024-01-30T11:46:46.737Z"
      },
      {
        "duration": 142302,
        "start_time": "2024-01-30T11:46:47.153Z"
      },
      {
        "duration": 16,
        "start_time": "2024-01-30T11:49:09.458Z"
      },
      {
        "duration": 0,
        "start_time": "2024-01-30T11:49:09.476Z"
      },
      {
        "duration": 0,
        "start_time": "2024-01-30T11:49:09.478Z"
      },
      {
        "duration": 16699,
        "start_time": "2024-01-30T11:49:48.296Z"
      },
      {
        "duration": 33303,
        "start_time": "2024-01-30T11:52:00.521Z"
      },
      {
        "duration": 1573,
        "start_time": "2024-01-30T15:48:58.595Z"
      },
      {
        "duration": 171,
        "start_time": "2024-01-30T15:49:00.170Z"
      },
      {
        "duration": 14,
        "start_time": "2024-01-30T15:49:00.342Z"
      },
      {
        "duration": 81,
        "start_time": "2024-01-30T15:49:00.357Z"
      },
      {
        "duration": 12,
        "start_time": "2024-01-30T15:49:00.440Z"
      },
      {
        "duration": 36,
        "start_time": "2024-01-30T15:49:00.453Z"
      },
      {
        "duration": 39,
        "start_time": "2024-01-30T15:49:00.490Z"
      },
      {
        "duration": 35,
        "start_time": "2024-01-30T15:49:00.530Z"
      },
      {
        "duration": 38,
        "start_time": "2024-01-30T15:49:00.567Z"
      },
      {
        "duration": 948,
        "start_time": "2024-01-30T15:49:00.606Z"
      },
      {
        "duration": 140,
        "start_time": "2024-01-30T15:49:01.555Z"
      },
      {
        "duration": 7,
        "start_time": "2024-01-30T15:49:01.696Z"
      },
      {
        "duration": 171,
        "start_time": "2024-01-30T15:49:01.704Z"
      },
      {
        "duration": 223,
        "start_time": "2024-01-30T15:49:01.878Z"
      },
      {
        "duration": 231,
        "start_time": "2024-01-30T15:49:02.103Z"
      },
      {
        "duration": 20,
        "start_time": "2024-01-30T15:49:02.335Z"
      },
      {
        "duration": 169,
        "start_time": "2024-01-30T15:49:02.357Z"
      },
      {
        "duration": 130,
        "start_time": "2024-01-30T15:49:02.528Z"
      },
      {
        "duration": 12,
        "start_time": "2024-01-30T15:49:02.660Z"
      },
      {
        "duration": 160,
        "start_time": "2024-01-30T15:49:02.673Z"
      },
      {
        "duration": 56,
        "start_time": "2024-01-30T15:49:02.834Z"
      },
      {
        "duration": 10,
        "start_time": "2024-01-30T15:49:02.892Z"
      },
      {
        "duration": 100,
        "start_time": "2024-01-30T15:49:02.903Z"
      },
      {
        "duration": 203,
        "start_time": "2024-01-30T15:49:03.005Z"
      },
      {
        "duration": 174,
        "start_time": "2024-01-30T15:49:03.210Z"
      },
      {
        "duration": 513,
        "start_time": "2024-01-30T15:49:03.386Z"
      },
      {
        "duration": 11789,
        "start_time": "2024-01-30T15:49:03.902Z"
      },
      {
        "duration": 34258,
        "start_time": "2024-01-30T15:49:15.692Z"
      },
      {
        "duration": 11,
        "start_time": "2024-01-30T15:49:49.952Z"
      },
      {
        "duration": 133,
        "start_time": "2024-01-30T15:49:49.964Z"
      },
      {
        "duration": 127,
        "start_time": "2024-01-30T15:49:50.099Z"
      },
      {
        "duration": 486,
        "start_time": "2024-01-30T15:49:50.227Z"
      },
      {
        "duration": 1583,
        "start_time": "2024-01-30T15:49:50.714Z"
      },
      {
        "duration": 15732,
        "start_time": "2024-01-30T15:49:52.298Z"
      },
      {
        "duration": 15660,
        "start_time": "2024-01-30T15:50:08.031Z"
      },
      {
        "duration": 11,
        "start_time": "2024-01-30T15:50:23.693Z"
      },
      {
        "duration": 92,
        "start_time": "2024-01-30T15:50:23.705Z"
      },
      {
        "duration": 335,
        "start_time": "2024-01-30T15:50:23.799Z"
      },
      {
        "duration": 432,
        "start_time": "2024-01-30T15:50:24.136Z"
      },
      {
        "duration": 3506,
        "start_time": "2024-01-30T15:50:24.569Z"
      },
      {
        "duration": 15359,
        "start_time": "2024-01-30T15:50:28.078Z"
      },
      {
        "duration": 952,
        "start_time": "2024-01-30T15:50:43.439Z"
      },
      {
        "duration": 406,
        "start_time": "2024-01-30T15:50:44.393Z"
      },
      {
        "duration": 142291,
        "start_time": "2024-01-30T15:50:44.801Z"
      },
      {
        "duration": 109,
        "start_time": "2024-01-30T15:53:07.094Z"
      },
      {
        "duration": 0,
        "start_time": "2024-01-30T15:53:07.205Z"
      },
      {
        "duration": 1013,
        "start_time": "2024-01-30T16:03:41.370Z"
      },
      {
        "duration": 221,
        "start_time": "2024-01-30T16:03:59.917Z"
      },
      {
        "duration": 213,
        "start_time": "2024-01-30T16:04:11.032Z"
      },
      {
        "duration": 243,
        "start_time": "2024-01-30T16:04:17.500Z"
      },
      {
        "duration": 17,
        "start_time": "2024-01-30T16:04:22.989Z"
      },
      {
        "duration": 16,
        "start_time": "2024-01-30T16:04:27.798Z"
      },
      {
        "duration": 311,
        "start_time": "2024-01-30T16:04:32.133Z"
      },
      {
        "duration": 208,
        "start_time": "2024-01-30T16:04:40.730Z"
      },
      {
        "duration": 141764,
        "start_time": "2024-01-30T16:05:20.532Z"
      },
      {
        "duration": 246,
        "start_time": "2024-01-30T16:07:42.297Z"
      },
      {
        "duration": 30115,
        "start_time": "2024-01-30T16:18:58.260Z"
      },
      {
        "duration": 15662,
        "start_time": "2024-01-30T16:19:28.377Z"
      },
      {
        "duration": 7451,
        "start_time": "2024-01-30T16:20:51.000Z"
      },
      {
        "duration": 3426,
        "start_time": "2024-01-30T16:22:40.486Z"
      },
      {
        "duration": 4,
        "start_time": "2024-01-30T16:22:58.433Z"
      },
      {
        "duration": 94,
        "start_time": "2024-01-30T16:22:58.440Z"
      },
      {
        "duration": 11,
        "start_time": "2024-01-30T16:22:58.536Z"
      },
      {
        "duration": 39,
        "start_time": "2024-01-30T16:22:58.548Z"
      },
      {
        "duration": 32,
        "start_time": "2024-01-30T16:22:58.590Z"
      },
      {
        "duration": 35,
        "start_time": "2024-01-30T16:22:58.624Z"
      },
      {
        "duration": 58,
        "start_time": "2024-01-30T16:22:58.660Z"
      },
      {
        "duration": 30,
        "start_time": "2024-01-30T16:22:58.719Z"
      },
      {
        "duration": 30,
        "start_time": "2024-01-30T16:22:58.751Z"
      },
      {
        "duration": 927,
        "start_time": "2024-01-30T16:22:58.783Z"
      },
      {
        "duration": 138,
        "start_time": "2024-01-30T16:22:59.713Z"
      },
      {
        "duration": 7,
        "start_time": "2024-01-30T16:22:59.853Z"
      },
      {
        "duration": 121,
        "start_time": "2024-01-30T16:22:59.861Z"
      },
      {
        "duration": 16,
        "start_time": "2024-01-30T16:22:59.984Z"
      },
      {
        "duration": 136,
        "start_time": "2024-01-30T16:23:00.002Z"
      },
      {
        "duration": 7,
        "start_time": "2024-01-30T16:23:00.140Z"
      },
      {
        "duration": 175,
        "start_time": "2024-01-30T16:23:00.148Z"
      },
      {
        "duration": 123,
        "start_time": "2024-01-30T16:23:00.325Z"
      },
      {
        "duration": 11,
        "start_time": "2024-01-30T16:23:00.450Z"
      },
      {
        "duration": 57,
        "start_time": "2024-01-30T16:23:00.462Z"
      },
      {
        "duration": 59,
        "start_time": "2024-01-30T16:23:00.520Z"
      },
      {
        "duration": 21,
        "start_time": "2024-01-30T16:23:00.582Z"
      },
      {
        "duration": 92,
        "start_time": "2024-01-30T16:23:00.605Z"
      },
      {
        "duration": 97,
        "start_time": "2024-01-30T16:23:00.698Z"
      },
      {
        "duration": 55,
        "start_time": "2024-01-30T16:23:00.797Z"
      },
      {
        "duration": 452,
        "start_time": "2024-01-30T16:23:00.853Z"
      },
      {
        "duration": 12279,
        "start_time": "2024-01-30T16:23:01.306Z"
      },
      {
        "duration": 34172,
        "start_time": "2024-01-30T16:23:13.587Z"
      },
      {
        "duration": 11,
        "start_time": "2024-01-30T16:23:47.761Z"
      },
      {
        "duration": 228,
        "start_time": "2024-01-30T16:23:47.773Z"
      },
      {
        "duration": 210,
        "start_time": "2024-01-30T16:23:48.003Z"
      },
      {
        "duration": 561,
        "start_time": "2024-01-30T16:23:48.215Z"
      },
      {
        "duration": 1613,
        "start_time": "2024-01-30T16:23:48.778Z"
      },
      {
        "duration": 15845,
        "start_time": "2024-01-30T16:23:50.392Z"
      },
      {
        "duration": 15863,
        "start_time": "2024-01-30T16:24:06.239Z"
      },
      {
        "duration": 11,
        "start_time": "2024-01-30T16:24:22.103Z"
      },
      {
        "duration": 83,
        "start_time": "2024-01-30T16:24:22.115Z"
      },
      {
        "duration": 311,
        "start_time": "2024-01-30T16:24:22.203Z"
      },
      {
        "duration": 426,
        "start_time": "2024-01-30T16:24:22.515Z"
      },
      {
        "duration": 3414,
        "start_time": "2024-01-30T16:24:22.942Z"
      },
      {
        "duration": 11570,
        "start_time": "2024-01-30T16:28:26.350Z"
      },
      {
        "duration": 5716,
        "start_time": "2024-01-30T16:29:07.741Z"
      },
      {
        "duration": 3509,
        "start_time": "2024-01-30T16:30:35.586Z"
      },
      {
        "duration": 49658,
        "start_time": "2024-01-30T16:31:00.072Z"
      },
      {
        "duration": 15169,
        "start_time": "2024-01-30T16:31:49.732Z"
      },
      {
        "duration": 111781,
        "start_time": "2024-01-30T16:32:37.373Z"
      },
      {
        "duration": 6748,
        "start_time": "2024-01-30T16:34:56.291Z"
      },
      {
        "duration": 4,
        "start_time": "2024-01-30T16:37:06.804Z"
      },
      {
        "duration": 125,
        "start_time": "2024-01-30T16:37:06.814Z"
      },
      {
        "duration": 10,
        "start_time": "2024-01-30T16:37:06.941Z"
      },
      {
        "duration": 12,
        "start_time": "2024-01-30T16:37:06.952Z"
      },
      {
        "duration": 16,
        "start_time": "2024-01-30T16:37:06.965Z"
      },
      {
        "duration": 11,
        "start_time": "2024-01-30T16:37:07.029Z"
      },
      {
        "duration": 25,
        "start_time": "2024-01-30T16:37:07.041Z"
      },
      {
        "duration": 23,
        "start_time": "2024-01-30T16:37:07.068Z"
      },
      {
        "duration": 32,
        "start_time": "2024-01-30T16:37:07.092Z"
      },
      {
        "duration": 937,
        "start_time": "2024-01-30T16:37:07.125Z"
      },
      {
        "duration": 132,
        "start_time": "2024-01-30T16:37:08.064Z"
      },
      {
        "duration": 7,
        "start_time": "2024-01-30T16:37:08.198Z"
      },
      {
        "duration": 121,
        "start_time": "2024-01-30T16:37:08.207Z"
      },
      {
        "duration": 11,
        "start_time": "2024-01-30T16:37:08.330Z"
      },
      {
        "duration": 104,
        "start_time": "2024-01-30T16:37:08.343Z"
      },
      {
        "duration": 8,
        "start_time": "2024-01-30T16:37:08.448Z"
      },
      {
        "duration": 132,
        "start_time": "2024-01-30T16:37:08.457Z"
      },
      {
        "duration": 114,
        "start_time": "2024-01-30T16:37:08.590Z"
      },
      {
        "duration": 11,
        "start_time": "2024-01-30T16:37:08.707Z"
      },
      {
        "duration": 46,
        "start_time": "2024-01-30T16:37:08.719Z"
      },
      {
        "duration": 40,
        "start_time": "2024-01-30T16:37:08.767Z"
      },
      {
        "duration": 11,
        "start_time": "2024-01-30T16:37:08.809Z"
      },
      {
        "duration": 76,
        "start_time": "2024-01-30T16:37:08.821Z"
      },
      {
        "duration": 97,
        "start_time": "2024-01-30T16:37:08.899Z"
      },
      {
        "duration": 51,
        "start_time": "2024-01-30T16:37:08.998Z"
      },
      {
        "duration": 384,
        "start_time": "2024-01-30T16:37:09.094Z"
      },
      {
        "duration": 11699,
        "start_time": "2024-01-30T16:37:09.479Z"
      },
      {
        "duration": 33645,
        "start_time": "2024-01-30T16:37:21.179Z"
      },
      {
        "duration": 14,
        "start_time": "2024-01-30T16:37:54.826Z"
      },
      {
        "duration": 62,
        "start_time": "2024-01-30T16:37:54.842Z"
      },
      {
        "duration": 206,
        "start_time": "2024-01-30T16:37:54.906Z"
      },
      {
        "duration": 528,
        "start_time": "2024-01-30T16:37:55.113Z"
      },
      {
        "duration": 1554,
        "start_time": "2024-01-30T16:37:55.642Z"
      },
      {
        "duration": 47893,
        "start_time": "2024-01-30T16:38:07.224Z"
      },
      {
        "duration": 11,
        "start_time": "2024-01-30T16:41:37.184Z"
      },
      {
        "duration": 25,
        "start_time": "2024-01-30T16:41:38.913Z"
      },
      {
        "duration": 211,
        "start_time": "2024-01-30T16:41:39.602Z"
      },
      {
        "duration": 411,
        "start_time": "2024-01-30T16:41:40.897Z"
      },
      {
        "duration": 49406,
        "start_time": "2024-01-30T16:41:42.340Z"
      },
      {
        "duration": 49324,
        "start_time": "2024-01-30T16:43:58.896Z"
      },
      {
        "duration": 951,
        "start_time": "2024-01-30T16:45:28.773Z"
      },
      {
        "duration": 1018,
        "start_time": "2024-01-30T16:45:43.692Z"
      },
      {
        "duration": 28245,
        "start_time": "2024-01-30T16:48:41.560Z"
      },
      {
        "duration": 29359,
        "start_time": "2024-01-30T16:51:10.790Z"
      },
      {
        "duration": 162,
        "start_time": "2024-01-30T16:52:39.910Z"
      },
      {
        "duration": 379,
        "start_time": "2024-01-30T16:53:14.816Z"
      },
      {
        "duration": 159,
        "start_time": "2024-01-30T16:53:28.655Z"
      },
      {
        "duration": 230,
        "start_time": "2024-01-30T16:54:38.147Z"
      },
      {
        "duration": 225,
        "start_time": "2024-01-30T16:54:45.932Z"
      },
      {
        "duration": 168,
        "start_time": "2024-01-30T16:55:02.420Z"
      },
      {
        "duration": 167,
        "start_time": "2024-01-30T16:55:34.622Z"
      },
      {
        "duration": 193,
        "start_time": "2024-01-30T16:55:51.956Z"
      },
      {
        "duration": 168,
        "start_time": "2024-01-30T16:55:55.137Z"
      },
      {
        "duration": 167,
        "start_time": "2024-01-30T16:57:16.847Z"
      },
      {
        "duration": 146559,
        "start_time": "2024-01-30T17:00:05.669Z"
      },
      {
        "duration": 77713,
        "start_time": "2024-01-30T17:02:32.230Z"
      },
      {
        "duration": 331932,
        "start_time": "2024-01-30T17:07:58.534Z"
      },
      {
        "duration": 177,
        "start_time": "2024-01-30T17:19:14.376Z"
      },
      {
        "duration": 1389,
        "start_time": "2024-01-30T17:22:02.889Z"
      },
      {
        "duration": 55,
        "start_time": "2024-01-30T17:22:04.280Z"
      },
      {
        "duration": 13,
        "start_time": "2024-01-30T17:22:04.336Z"
      },
      {
        "duration": 60,
        "start_time": "2024-01-30T17:22:04.351Z"
      },
      {
        "duration": 13,
        "start_time": "2024-01-30T17:22:04.412Z"
      },
      {
        "duration": 53,
        "start_time": "2024-01-30T17:22:04.426Z"
      },
      {
        "duration": 43,
        "start_time": "2024-01-30T17:22:04.481Z"
      },
      {
        "duration": 24,
        "start_time": "2024-01-30T17:22:04.526Z"
      },
      {
        "duration": 17,
        "start_time": "2024-01-30T17:22:04.551Z"
      },
      {
        "duration": 937,
        "start_time": "2024-01-30T17:22:04.570Z"
      },
      {
        "duration": 135,
        "start_time": "2024-01-30T17:22:05.508Z"
      },
      {
        "duration": 6,
        "start_time": "2024-01-30T17:22:05.644Z"
      },
      {
        "duration": 126,
        "start_time": "2024-01-30T17:22:05.652Z"
      },
      {
        "duration": 10,
        "start_time": "2024-01-30T17:22:05.779Z"
      },
      {
        "duration": 103,
        "start_time": "2024-01-30T17:22:05.794Z"
      },
      {
        "duration": 7,
        "start_time": "2024-01-30T17:22:05.898Z"
      },
      {
        "duration": 115,
        "start_time": "2024-01-30T17:22:05.906Z"
      },
      {
        "duration": 129,
        "start_time": "2024-01-30T17:22:06.023Z"
      },
      {
        "duration": 11,
        "start_time": "2024-01-30T17:22:06.154Z"
      },
      {
        "duration": 33,
        "start_time": "2024-01-30T17:22:06.167Z"
      },
      {
        "duration": 26,
        "start_time": "2024-01-30T17:22:06.201Z"
      },
      {
        "duration": 10,
        "start_time": "2024-01-30T17:22:06.228Z"
      },
      {
        "duration": 155,
        "start_time": "2024-01-30T17:22:06.239Z"
      },
      {
        "duration": 4,
        "start_time": "2024-01-30T17:22:06.396Z"
      },
      {
        "duration": 109,
        "start_time": "2024-01-30T17:22:06.402Z"
      },
      {
        "duration": 462,
        "start_time": "2024-01-30T17:22:06.514Z"
      },
      {
        "duration": 12069,
        "start_time": "2024-01-30T17:22:06.978Z"
      },
      {
        "duration": 34488,
        "start_time": "2024-01-30T17:22:19.050Z"
      },
      {
        "duration": 11,
        "start_time": "2024-01-30T17:22:53.540Z"
      },
      {
        "duration": 63,
        "start_time": "2024-01-30T17:22:53.553Z"
      },
      {
        "duration": 120,
        "start_time": "2024-01-30T17:22:53.695Z"
      },
      {
        "duration": 521,
        "start_time": "2024-01-30T17:22:53.817Z"
      },
      {
        "duration": 1648,
        "start_time": "2024-01-30T17:22:54.340Z"
      },
      {
        "duration": 47890,
        "start_time": "2024-01-30T17:22:55.993Z"
      },
      {
        "duration": 16,
        "start_time": "2024-01-30T17:23:43.885Z"
      },
      {
        "duration": 95,
        "start_time": "2024-01-30T17:23:43.902Z"
      },
      {
        "duration": 327,
        "start_time": "2024-01-30T17:23:43.999Z"
      },
      {
        "duration": 451,
        "start_time": "2024-01-30T17:23:44.328Z"
      },
      {
        "duration": 50050,
        "start_time": "2024-01-30T17:23:44.780Z"
      },
      {
        "duration": 75407,
        "start_time": "2024-01-30T17:24:34.831Z"
      },
      {
        "duration": 169,
        "start_time": "2024-01-30T17:25:50.239Z"
      },
      {
        "duration": 207,
        "start_time": "2024-01-30T17:25:50.614Z"
      },
      {
        "duration": 47732,
        "start_time": "2024-01-30T17:26:14.907Z"
      },
      {
        "duration": 1414,
        "start_time": "2024-01-30T17:32:22.287Z"
      },
      {
        "duration": 57,
        "start_time": "2024-01-30T17:32:23.702Z"
      },
      {
        "duration": 18,
        "start_time": "2024-01-30T17:32:23.761Z"
      },
      {
        "duration": 66,
        "start_time": "2024-01-30T17:32:23.781Z"
      },
      {
        "duration": 11,
        "start_time": "2024-01-30T17:32:23.848Z"
      },
      {
        "duration": 23,
        "start_time": "2024-01-30T17:32:23.860Z"
      },
      {
        "duration": 56,
        "start_time": "2024-01-30T17:32:23.885Z"
      },
      {
        "duration": 39,
        "start_time": "2024-01-30T17:32:23.942Z"
      },
      {
        "duration": 29,
        "start_time": "2024-01-30T17:32:23.983Z"
      },
      {
        "duration": 913,
        "start_time": "2024-01-30T17:32:24.014Z"
      },
      {
        "duration": 139,
        "start_time": "2024-01-30T17:32:24.931Z"
      },
      {
        "duration": 6,
        "start_time": "2024-01-30T17:32:25.071Z"
      },
      {
        "duration": 111,
        "start_time": "2024-01-30T17:32:25.078Z"
      },
      {
        "duration": 10,
        "start_time": "2024-01-30T17:32:25.194Z"
      },
      {
        "duration": 108,
        "start_time": "2024-01-30T17:32:25.205Z"
      },
      {
        "duration": 8,
        "start_time": "2024-01-30T17:32:25.315Z"
      },
      {
        "duration": 150,
        "start_time": "2024-01-30T17:32:25.324Z"
      },
      {
        "duration": 120,
        "start_time": "2024-01-30T17:32:25.475Z"
      },
      {
        "duration": 10,
        "start_time": "2024-01-30T17:32:25.597Z"
      },
      {
        "duration": 34,
        "start_time": "2024-01-30T17:32:25.609Z"
      },
      {
        "duration": 43,
        "start_time": "2024-01-30T17:32:25.645Z"
      },
      {
        "duration": 10,
        "start_time": "2024-01-30T17:32:25.690Z"
      },
      {
        "duration": 96,
        "start_time": "2024-01-30T17:32:25.701Z"
      },
      {
        "duration": 5,
        "start_time": "2024-01-30T17:32:25.799Z"
      },
      {
        "duration": 146,
        "start_time": "2024-01-30T17:32:25.805Z"
      },
      {
        "duration": 388,
        "start_time": "2024-01-30T17:32:25.996Z"
      },
      {
        "duration": 11734,
        "start_time": "2024-01-30T17:32:26.385Z"
      },
      {
        "duration": 33250,
        "start_time": "2024-01-30T17:32:38.122Z"
      },
      {
        "duration": 10,
        "start_time": "2024-01-30T17:33:11.374Z"
      },
      {
        "duration": 116,
        "start_time": "2024-01-30T17:33:11.386Z"
      },
      {
        "duration": 209,
        "start_time": "2024-01-30T17:33:11.504Z"
      },
      {
        "duration": 516,
        "start_time": "2024-01-30T17:33:11.714Z"
      },
      {
        "duration": 1548,
        "start_time": "2024-01-30T17:33:12.232Z"
      },
      {
        "duration": 46400,
        "start_time": "2024-01-30T17:33:13.781Z"
      },
      {
        "duration": 20,
        "start_time": "2024-01-30T17:34:00.182Z"
      },
      {
        "duration": 91,
        "start_time": "2024-01-30T17:34:00.203Z"
      },
      {
        "duration": 328,
        "start_time": "2024-01-30T17:34:00.296Z"
      },
      {
        "duration": 413,
        "start_time": "2024-01-30T17:34:00.626Z"
      },
      {
        "duration": 48892,
        "start_time": "2024-01-30T17:34:01.040Z"
      },
      {
        "duration": 75260,
        "start_time": "2024-01-30T17:34:49.934Z"
      },
      {
        "duration": 169,
        "start_time": "2024-01-30T17:36:05.195Z"
      },
      {
        "duration": 168,
        "start_time": "2024-01-30T17:39:28.332Z"
      },
      {
        "duration": 167,
        "start_time": "2024-01-30T17:39:35.613Z"
      },
      {
        "duration": 115,
        "start_time": "2024-01-31T02:40:36.870Z"
      },
      {
        "duration": 1594,
        "start_time": "2024-01-31T02:46:17.733Z"
      },
      {
        "duration": 4,
        "start_time": "2024-01-31T03:06:38.921Z"
      },
      {
        "duration": 94,
        "start_time": "2024-01-31T03:09:45.321Z"
      },
      {
        "duration": 12,
        "start_time": "2024-01-31T03:09:45.875Z"
      },
      {
        "duration": 52,
        "start_time": "2024-01-31T03:09:46.814Z"
      },
      {
        "duration": 4,
        "start_time": "2024-01-31T03:38:45.278Z"
      },
      {
        "duration": 4,
        "start_time": "2024-01-31T07:29:30.970Z"
      },
      {
        "duration": 3,
        "start_time": "2024-01-31T07:30:18.440Z"
      },
      {
        "duration": 3,
        "start_time": "2024-01-31T07:30:27.277Z"
      },
      {
        "duration": 2,
        "start_time": "2024-01-31T07:37:31.505Z"
      },
      {
        "duration": 6677,
        "start_time": "2024-01-31T07:37:46.846Z"
      },
      {
        "duration": 91,
        "start_time": "2024-01-31T07:37:53.524Z"
      },
      {
        "duration": 12,
        "start_time": "2024-01-31T07:37:53.616Z"
      },
      {
        "duration": 47,
        "start_time": "2024-01-31T07:37:53.629Z"
      },
      {
        "duration": 10,
        "start_time": "2024-01-31T07:37:53.678Z"
      },
      {
        "duration": 10,
        "start_time": "2024-01-31T07:37:53.690Z"
      },
      {
        "duration": 22,
        "start_time": "2024-01-31T07:37:53.701Z"
      },
      {
        "duration": 38,
        "start_time": "2024-01-31T07:37:53.725Z"
      },
      {
        "duration": 19,
        "start_time": "2024-01-31T07:37:53.765Z"
      },
      {
        "duration": 775,
        "start_time": "2024-01-31T07:37:53.786Z"
      },
      {
        "duration": 128,
        "start_time": "2024-01-31T07:37:54.563Z"
      },
      {
        "duration": 8,
        "start_time": "2024-01-31T07:37:54.692Z"
      },
      {
        "duration": 120,
        "start_time": "2024-01-31T07:37:54.701Z"
      },
      {
        "duration": 12,
        "start_time": "2024-01-31T07:37:54.823Z"
      },
      {
        "duration": 85,
        "start_time": "2024-01-31T07:37:54.845Z"
      },
      {
        "duration": 16,
        "start_time": "2024-01-31T07:37:54.931Z"
      },
      {
        "duration": 109,
        "start_time": "2024-01-31T07:37:54.948Z"
      },
      {
        "duration": 214,
        "start_time": "2024-01-31T07:37:55.058Z"
      },
      {
        "duration": 11,
        "start_time": "2024-01-31T07:37:55.273Z"
      },
      {
        "duration": 27,
        "start_time": "2024-01-31T07:37:55.285Z"
      },
      {
        "duration": 2,
        "start_time": "2024-01-31T07:37:55.313Z"
      },
      {
        "duration": 9,
        "start_time": "2024-01-31T08:32:29.506Z"
      },
      {
        "duration": 23,
        "start_time": "2024-01-31T08:37:02.033Z"
      },
      {
        "duration": 111,
        "start_time": "2024-01-31T08:38:21.358Z"
      },
      {
        "duration": 5,
        "start_time": "2024-01-31T08:38:26.343Z"
      },
      {
        "duration": 60,
        "start_time": "2024-01-31T08:38:26.364Z"
      },
      {
        "duration": 12,
        "start_time": "2024-01-31T08:38:26.426Z"
      },
      {
        "duration": 32,
        "start_time": "2024-01-31T08:38:26.439Z"
      },
      {
        "duration": 10,
        "start_time": "2024-01-31T08:38:26.557Z"
      },
      {
        "duration": 41,
        "start_time": "2024-01-31T08:38:26.569Z"
      },
      {
        "duration": 50,
        "start_time": "2024-01-31T08:38:26.611Z"
      },
      {
        "duration": 21,
        "start_time": "2024-01-31T08:38:26.662Z"
      },
      {
        "duration": 31,
        "start_time": "2024-01-31T08:38:26.684Z"
      },
      {
        "duration": 862,
        "start_time": "2024-01-31T08:38:26.716Z"
      },
      {
        "duration": 145,
        "start_time": "2024-01-31T08:38:27.580Z"
      },
      {
        "duration": 8,
        "start_time": "2024-01-31T08:38:27.726Z"
      },
      {
        "duration": 103,
        "start_time": "2024-01-31T08:38:27.750Z"
      },
      {
        "duration": 12,
        "start_time": "2024-01-31T08:38:27.854Z"
      },
      {
        "duration": 114,
        "start_time": "2024-01-31T08:38:27.867Z"
      },
      {
        "duration": 6,
        "start_time": "2024-01-31T08:38:27.983Z"
      },
      {
        "duration": 125,
        "start_time": "2024-01-31T08:38:27.991Z"
      },
      {
        "duration": 123,
        "start_time": "2024-01-31T08:38:28.117Z"
      },
      {
        "duration": 21,
        "start_time": "2024-01-31T08:38:28.241Z"
      },
      {
        "duration": 39,
        "start_time": "2024-01-31T08:38:28.263Z"
      },
      {
        "duration": 51,
        "start_time": "2024-01-31T08:38:28.303Z"
      },
      {
        "duration": 40,
        "start_time": "2024-01-31T08:38:28.356Z"
      },
      {
        "duration": 21,
        "start_time": "2024-01-31T08:38:31.742Z"
      },
      {
        "duration": 11,
        "start_time": "2024-01-31T08:39:32.232Z"
      },
      {
        "duration": 6233,
        "start_time": "2024-01-31T08:46:41.000Z"
      },
      {
        "duration": 2263,
        "start_time": "2024-01-31T08:47:16.853Z"
      },
      {
        "duration": 1428,
        "start_time": "2024-01-31T08:47:19.118Z"
      },
      {
        "duration": 52,
        "start_time": "2024-01-31T08:47:20.548Z"
      },
      {
        "duration": 10,
        "start_time": "2024-01-31T08:47:20.601Z"
      },
      {
        "duration": 54,
        "start_time": "2024-01-31T08:47:20.613Z"
      },
      {
        "duration": 27,
        "start_time": "2024-01-31T08:47:20.669Z"
      },
      {
        "duration": 157,
        "start_time": "2024-01-31T08:47:20.697Z"
      },
      {
        "duration": 22,
        "start_time": "2024-01-31T08:47:20.855Z"
      },
      {
        "duration": 23,
        "start_time": "2024-01-31T08:47:20.879Z"
      },
      {
        "duration": 20,
        "start_time": "2024-01-31T08:47:20.904Z"
      },
      {
        "duration": 770,
        "start_time": "2024-01-31T08:47:20.926Z"
      },
      {
        "duration": 189,
        "start_time": "2024-01-31T08:47:21.697Z"
      },
      {
        "duration": 195,
        "start_time": "2024-01-31T08:47:21.888Z"
      },
      {
        "duration": 136,
        "start_time": "2024-01-31T08:47:22.085Z"
      },
      {
        "duration": 11,
        "start_time": "2024-01-31T08:47:22.223Z"
      },
      {
        "duration": 124,
        "start_time": "2024-01-31T08:47:22.235Z"
      },
      {
        "duration": 6,
        "start_time": "2024-01-31T08:47:22.360Z"
      },
      {
        "duration": 123,
        "start_time": "2024-01-31T08:47:22.368Z"
      },
      {
        "duration": 111,
        "start_time": "2024-01-31T08:47:22.493Z"
      },
      {
        "duration": 11,
        "start_time": "2024-01-31T08:47:22.606Z"
      },
      {
        "duration": 29,
        "start_time": "2024-01-31T08:47:22.618Z"
      },
      {
        "duration": 32,
        "start_time": "2024-01-31T08:47:22.648Z"
      },
      {
        "duration": 36,
        "start_time": "2024-01-31T08:47:22.682Z"
      },
      {
        "duration": 26,
        "start_time": "2024-01-31T08:47:22.720Z"
      },
      {
        "duration": 24,
        "start_time": "2024-01-31T08:47:22.747Z"
      },
      {
        "duration": 168,
        "start_time": "2024-01-31T08:47:22.773Z"
      },
      {
        "duration": 0,
        "start_time": "2024-01-31T08:47:22.942Z"
      },
      {
        "duration": 0,
        "start_time": "2024-01-31T08:47:22.944Z"
      },
      {
        "duration": 0,
        "start_time": "2024-01-31T08:47:22.945Z"
      },
      {
        "duration": 0,
        "start_time": "2024-01-31T08:47:22.946Z"
      },
      {
        "duration": 0,
        "start_time": "2024-01-31T08:47:22.947Z"
      },
      {
        "duration": 0,
        "start_time": "2024-01-31T08:47:22.948Z"
      },
      {
        "duration": 0,
        "start_time": "2024-01-31T08:47:22.949Z"
      },
      {
        "duration": 0,
        "start_time": "2024-01-31T08:47:22.949Z"
      },
      {
        "duration": 0,
        "start_time": "2024-01-31T08:47:22.950Z"
      },
      {
        "duration": 0,
        "start_time": "2024-01-31T08:47:22.951Z"
      },
      {
        "duration": 0,
        "start_time": "2024-01-31T08:47:22.952Z"
      },
      {
        "duration": 0,
        "start_time": "2024-01-31T08:47:22.953Z"
      },
      {
        "duration": 0,
        "start_time": "2024-01-31T08:47:22.954Z"
      },
      {
        "duration": 0,
        "start_time": "2024-01-31T08:47:22.955Z"
      },
      {
        "duration": 1,
        "start_time": "2024-01-31T08:47:22.955Z"
      },
      {
        "duration": 0,
        "start_time": "2024-01-31T08:47:22.956Z"
      },
      {
        "duration": 1,
        "start_time": "2024-01-31T08:47:22.957Z"
      },
      {
        "duration": 1,
        "start_time": "2024-01-31T08:47:22.958Z"
      },
      {
        "duration": 0,
        "start_time": "2024-01-31T08:47:22.959Z"
      },
      {
        "duration": 0,
        "start_time": "2024-01-31T08:47:22.960Z"
      },
      {
        "duration": 15,
        "start_time": "2024-01-31T09:04:29.711Z"
      },
      {
        "duration": 14,
        "start_time": "2024-01-31T09:04:56.418Z"
      },
      {
        "duration": 14,
        "start_time": "2024-01-31T09:09:34.485Z"
      },
      {
        "duration": 2,
        "start_time": "2024-01-31T09:12:25.830Z"
      },
      {
        "duration": 8,
        "start_time": "2024-01-31T09:15:19.132Z"
      },
      {
        "duration": 7,
        "start_time": "2024-01-31T09:22:31.747Z"
      },
      {
        "duration": 9,
        "start_time": "2024-01-31T09:22:36.331Z"
      },
      {
        "duration": 3,
        "start_time": "2024-01-31T09:22:40.327Z"
      },
      {
        "duration": 9,
        "start_time": "2024-01-31T09:28:06.785Z"
      },
      {
        "duration": 5,
        "start_time": "2024-01-31T09:29:17.990Z"
      },
      {
        "duration": 11,
        "start_time": "2024-01-31T09:29:22.603Z"
      },
      {
        "duration": 35,
        "start_time": "2024-01-31T09:29:31.595Z"
      },
      {
        "duration": 3,
        "start_time": "2024-01-31T09:30:24.466Z"
      },
      {
        "duration": 22,
        "start_time": "2024-01-31T09:46:49.821Z"
      },
      {
        "duration": 17,
        "start_time": "2024-01-31T09:48:27.247Z"
      },
      {
        "duration": 15,
        "start_time": "2024-01-31T09:48:29.490Z"
      },
      {
        "duration": 16,
        "start_time": "2024-01-31T09:48:38.368Z"
      },
      {
        "duration": 15,
        "start_time": "2024-01-31T09:48:39.408Z"
      },
      {
        "duration": 2291,
        "start_time": "2024-01-31T09:49:01.741Z"
      },
      {
        "duration": 6,
        "start_time": "2024-01-31T09:49:04.034Z"
      },
      {
        "duration": 123,
        "start_time": "2024-01-31T09:49:04.041Z"
      },
      {
        "duration": 12,
        "start_time": "2024-01-31T09:49:04.165Z"
      },
      {
        "duration": 14,
        "start_time": "2024-01-31T09:49:04.178Z"
      },
      {
        "duration": 36,
        "start_time": "2024-01-31T09:49:04.193Z"
      },
      {
        "duration": 15,
        "start_time": "2024-01-31T09:49:04.231Z"
      },
      {
        "duration": 28,
        "start_time": "2024-01-31T09:49:04.247Z"
      },
      {
        "duration": 25,
        "start_time": "2024-01-31T09:49:04.276Z"
      },
      {
        "duration": 37,
        "start_time": "2024-01-31T09:49:04.303Z"
      },
      {
        "duration": 806,
        "start_time": "2024-01-31T09:49:04.345Z"
      },
      {
        "duration": 128,
        "start_time": "2024-01-31T09:49:05.153Z"
      },
      {
        "duration": 7,
        "start_time": "2024-01-31T09:49:05.282Z"
      },
      {
        "duration": 235,
        "start_time": "2024-01-31T09:49:05.290Z"
      },
      {
        "duration": 19,
        "start_time": "2024-01-31T09:49:05.526Z"
      },
      {
        "duration": 113,
        "start_time": "2024-01-31T09:49:05.546Z"
      },
      {
        "duration": 6,
        "start_time": "2024-01-31T09:49:05.661Z"
      },
      {
        "duration": 142,
        "start_time": "2024-01-31T09:49:05.668Z"
      },
      {
        "duration": 120,
        "start_time": "2024-01-31T09:49:05.812Z"
      },
      {
        "duration": 20,
        "start_time": "2024-01-31T09:49:05.934Z"
      },
      {
        "duration": 18,
        "start_time": "2024-01-31T09:49:05.955Z"
      },
      {
        "duration": 3,
        "start_time": "2024-01-31T09:49:05.974Z"
      },
      {
        "duration": 39,
        "start_time": "2024-01-31T09:49:05.978Z"
      },
      {
        "duration": 20,
        "start_time": "2024-01-31T09:49:06.019Z"
      },
      {
        "duration": 43,
        "start_time": "2024-01-31T09:49:06.040Z"
      },
      {
        "duration": 107,
        "start_time": "2024-01-31T09:49:06.085Z"
      },
      {
        "duration": 16,
        "start_time": "2024-01-31T09:49:15.562Z"
      },
      {
        "duration": 11,
        "start_time": "2024-01-31T09:49:56.143Z"
      },
      {
        "duration": 16,
        "start_time": "2024-01-31T09:50:14.178Z"
      },
      {
        "duration": 13,
        "start_time": "2024-01-31T09:51:03.092Z"
      },
      {
        "duration": 283,
        "start_time": "2024-01-31T09:51:03.666Z"
      },
      {
        "duration": 23,
        "start_time": "2024-01-31T09:52:03.632Z"
      },
      {
        "duration": 9,
        "start_time": "2024-01-31T09:57:50.310Z"
      },
      {
        "duration": 18,
        "start_time": "2024-01-31T09:58:42.393Z"
      },
      {
        "duration": 17,
        "start_time": "2024-01-31T10:00:54.385Z"
      },
      {
        "duration": 2332,
        "start_time": "2024-01-31T10:01:06.863Z"
      },
      {
        "duration": 5,
        "start_time": "2024-01-31T10:01:09.198Z"
      },
      {
        "duration": 82,
        "start_time": "2024-01-31T10:01:09.204Z"
      },
      {
        "duration": 13,
        "start_time": "2024-01-31T10:01:09.288Z"
      },
      {
        "duration": 26,
        "start_time": "2024-01-31T10:01:09.303Z"
      },
      {
        "duration": 11,
        "start_time": "2024-01-31T10:01:09.331Z"
      },
      {
        "duration": 28,
        "start_time": "2024-01-31T10:01:09.343Z"
      },
      {
        "duration": 52,
        "start_time": "2024-01-31T10:01:09.372Z"
      },
      {
        "duration": 56,
        "start_time": "2024-01-31T10:01:09.426Z"
      },
      {
        "duration": 49,
        "start_time": "2024-01-31T10:01:09.484Z"
      },
      {
        "duration": 797,
        "start_time": "2024-01-31T10:01:09.535Z"
      },
      {
        "duration": 133,
        "start_time": "2024-01-31T10:01:10.334Z"
      },
      {
        "duration": 7,
        "start_time": "2024-01-31T10:01:10.469Z"
      },
      {
        "duration": 110,
        "start_time": "2024-01-31T10:01:10.479Z"
      },
      {
        "duration": 11,
        "start_time": "2024-01-31T10:01:10.590Z"
      },
      {
        "duration": 217,
        "start_time": "2024-01-31T10:01:10.602Z"
      },
      {
        "duration": 6,
        "start_time": "2024-01-31T10:01:10.821Z"
      },
      {
        "duration": 137,
        "start_time": "2024-01-31T10:01:10.828Z"
      },
      {
        "duration": 119,
        "start_time": "2024-01-31T10:01:10.967Z"
      },
      {
        "duration": 11,
        "start_time": "2024-01-31T10:01:11.088Z"
      },
      {
        "duration": 41,
        "start_time": "2024-01-31T10:01:11.100Z"
      },
      {
        "duration": 42,
        "start_time": "2024-01-31T10:01:11.143Z"
      },
      {
        "duration": 27,
        "start_time": "2024-01-31T10:01:11.186Z"
      },
      {
        "duration": 30,
        "start_time": "2024-01-31T10:01:11.215Z"
      },
      {
        "duration": 15,
        "start_time": "2024-01-31T10:02:07.153Z"
      },
      {
        "duration": 5,
        "start_time": "2024-01-31T10:02:21.283Z"
      },
      {
        "duration": 17,
        "start_time": "2024-01-31T10:02:23.941Z"
      },
      {
        "duration": 3,
        "start_time": "2024-01-31T10:02:57.221Z"
      },
      {
        "duration": 6,
        "start_time": "2024-01-31T10:02:59.702Z"
      },
      {
        "duration": 239,
        "start_time": "2024-01-31T10:05:33.637Z"
      },
      {
        "duration": 4,
        "start_time": "2024-01-31T10:06:53.874Z"
      },
      {
        "duration": 31683,
        "start_time": "2024-01-31T10:08:07.481Z"
      },
      {
        "duration": 94,
        "start_time": "2024-01-31T10:10:13.886Z"
      },
      {
        "duration": 3,
        "start_time": "2024-01-31T10:10:18.564Z"
      },
      {
        "duration": 4,
        "start_time": "2024-01-31T10:10:46.708Z"
      },
      {
        "duration": 4,
        "start_time": "2024-01-31T10:10:58.113Z"
      },
      {
        "duration": 4975,
        "start_time": "2024-01-31T10:12:58.740Z"
      },
      {
        "duration": 45,
        "start_time": "2024-01-31T10:14:24.664Z"
      },
      {
        "duration": 170585,
        "start_time": "2024-01-31T10:15:50.302Z"
      },
      {
        "duration": 42353,
        "start_time": "2024-01-31T10:19:30.928Z"
      },
      {
        "duration": 16,
        "start_time": "2024-01-31T10:24:41.896Z"
      },
      {
        "duration": 8,
        "start_time": "2024-01-31T10:24:48.825Z"
      },
      {
        "duration": 38,
        "start_time": "2024-01-31T10:25:02.441Z"
      },
      {
        "duration": 19,
        "start_time": "2024-01-31T10:26:37.585Z"
      },
      {
        "duration": 2282,
        "start_time": "2024-01-31T10:31:31.470Z"
      },
      {
        "duration": 2172,
        "start_time": "2024-01-31T10:31:33.754Z"
      },
      {
        "duration": 5,
        "start_time": "2024-01-31T10:31:35.928Z"
      },
      {
        "duration": 82,
        "start_time": "2024-01-31T10:31:35.934Z"
      },
      {
        "duration": 14,
        "start_time": "2024-01-31T10:31:36.017Z"
      },
      {
        "duration": 31,
        "start_time": "2024-01-31T10:31:36.032Z"
      },
      {
        "duration": 31,
        "start_time": "2024-01-31T10:31:36.065Z"
      },
      {
        "duration": 15,
        "start_time": "2024-01-31T10:31:36.098Z"
      },
      {
        "duration": 38,
        "start_time": "2024-01-31T10:31:36.115Z"
      },
      {
        "duration": 23,
        "start_time": "2024-01-31T10:31:36.156Z"
      },
      {
        "duration": 30,
        "start_time": "2024-01-31T10:31:36.180Z"
      },
      {
        "duration": 811,
        "start_time": "2024-01-31T10:31:36.211Z"
      },
      {
        "duration": 126,
        "start_time": "2024-01-31T10:31:37.024Z"
      },
      {
        "duration": 8,
        "start_time": "2024-01-31T10:31:37.151Z"
      },
      {
        "duration": 139,
        "start_time": "2024-01-31T10:31:37.160Z"
      },
      {
        "duration": 10,
        "start_time": "2024-01-31T10:31:37.301Z"
      },
      {
        "duration": 93,
        "start_time": "2024-01-31T10:31:37.312Z"
      },
      {
        "duration": 6,
        "start_time": "2024-01-31T10:31:37.407Z"
      },
      {
        "duration": 121,
        "start_time": "2024-01-31T10:31:37.414Z"
      },
      {
        "duration": 120,
        "start_time": "2024-01-31T10:31:37.537Z"
      },
      {
        "duration": 11,
        "start_time": "2024-01-31T10:31:37.659Z"
      },
      {
        "duration": 25,
        "start_time": "2024-01-31T10:31:37.671Z"
      },
      {
        "duration": 31,
        "start_time": "2024-01-31T10:31:37.697Z"
      },
      {
        "duration": 10,
        "start_time": "2024-01-31T10:31:37.744Z"
      },
      {
        "duration": 20,
        "start_time": "2024-01-31T10:31:37.755Z"
      },
      {
        "duration": 72,
        "start_time": "2024-01-31T10:31:37.776Z"
      },
      {
        "duration": 94,
        "start_time": "2024-01-31T10:31:37.853Z"
      },
      {
        "duration": 18,
        "start_time": "2024-01-31T10:31:37.950Z"
      },
      {
        "duration": 406,
        "start_time": "2024-01-31T10:31:37.971Z"
      },
      {
        "duration": 3,
        "start_time": "2024-01-31T10:31:38.378Z"
      },
      {
        "duration": 42030,
        "start_time": "2024-01-31T10:31:38.383Z"
      },
      {
        "duration": 4,
        "start_time": "2024-01-31T10:32:20.414Z"
      },
      {
        "duration": 53,
        "start_time": "2024-01-31T10:32:20.419Z"
      },
      {
        "duration": 67,
        "start_time": "2024-01-31T14:35:25.891Z"
      },
      {
        "duration": 8406,
        "start_time": "2024-01-31T14:35:42.171Z"
      },
      {
        "duration": 7017,
        "start_time": "2024-01-31T14:35:50.580Z"
      },
      {
        "duration": 1618,
        "start_time": "2024-01-31T14:35:57.600Z"
      },
      {
        "duration": 104,
        "start_time": "2024-01-31T14:35:59.220Z"
      },
      {
        "duration": 12,
        "start_time": "2024-01-31T14:35:59.326Z"
      },
      {
        "duration": 83,
        "start_time": "2024-01-31T14:35:59.340Z"
      },
      {
        "duration": 10,
        "start_time": "2024-01-31T14:35:59.425Z"
      },
      {
        "duration": 31,
        "start_time": "2024-01-31T14:35:59.437Z"
      },
      {
        "duration": 54,
        "start_time": "2024-01-31T14:35:59.470Z"
      },
      {
        "duration": 24,
        "start_time": "2024-01-31T14:35:59.526Z"
      },
      {
        "duration": 22,
        "start_time": "2024-01-31T14:35:59.552Z"
      },
      {
        "duration": 1148,
        "start_time": "2024-01-31T14:35:59.576Z"
      },
      {
        "duration": 171,
        "start_time": "2024-01-31T14:36:00.726Z"
      },
      {
        "duration": 10,
        "start_time": "2024-01-31T14:36:00.900Z"
      },
      {
        "duration": 251,
        "start_time": "2024-01-31T14:36:00.911Z"
      },
      {
        "duration": 106,
        "start_time": "2024-01-31T14:36:01.164Z"
      },
      {
        "duration": 168,
        "start_time": "2024-01-31T14:36:01.272Z"
      },
      {
        "duration": 6,
        "start_time": "2024-01-31T14:36:01.442Z"
      },
      {
        "duration": 213,
        "start_time": "2024-01-31T14:36:01.450Z"
      },
      {
        "duration": 162,
        "start_time": "2024-01-31T14:36:01.665Z"
      },
      {
        "duration": 17,
        "start_time": "2024-01-31T14:36:01.829Z"
      },
      {
        "duration": 41,
        "start_time": "2024-01-31T14:36:01.848Z"
      },
      {
        "duration": 29,
        "start_time": "2024-01-31T14:36:01.891Z"
      },
      {
        "duration": 10,
        "start_time": "2024-01-31T14:36:01.922Z"
      },
      {
        "duration": 42,
        "start_time": "2024-01-31T14:36:01.933Z"
      },
      {
        "duration": 94,
        "start_time": "2024-01-31T14:36:01.977Z"
      },
      {
        "duration": 5,
        "start_time": "2024-01-31T14:37:28.049Z"
      },
      {
        "duration": 19,
        "start_time": "2024-01-31T14:37:32.195Z"
      },
      {
        "duration": 5,
        "start_time": "2024-01-31T14:37:36.568Z"
      },
      {
        "duration": 9,
        "start_time": "2024-01-31T14:37:36.857Z"
      },
      {
        "duration": 296,
        "start_time": "2024-01-31T14:37:38.318Z"
      },
      {
        "duration": 4,
        "start_time": "2024-01-31T14:37:44.253Z"
      },
      {
        "duration": 52787,
        "start_time": "2024-01-31T14:37:48.903Z"
      },
      {
        "duration": 2,
        "start_time": "2024-01-31T14:39:49.652Z"
      },
      {
        "duration": 80,
        "start_time": "2024-01-31T14:39:50.210Z"
      },
      {
        "duration": 144,
        "start_time": "2024-01-31T14:40:34.573Z"
      },
      {
        "duration": 4,
        "start_time": "2024-01-31T14:40:37.937Z"
      },
      {
        "duration": 31,
        "start_time": "2024-01-31T14:45:52.511Z"
      },
      {
        "duration": 23,
        "start_time": "2024-01-31T14:48:34.628Z"
      },
      {
        "duration": 2,
        "start_time": "2024-01-31T14:49:49.525Z"
      },
      {
        "duration": 95,
        "start_time": "2024-01-31T14:51:45.227Z"
      },
      {
        "duration": 4,
        "start_time": "2024-01-31T14:52:19.786Z"
      },
      {
        "duration": 16,
        "start_time": "2024-01-31T14:52:21.766Z"
      },
      {
        "duration": 13,
        "start_time": "2024-01-31T14:52:39.268Z"
      },
      {
        "duration": 2,
        "start_time": "2024-01-31T14:53:22.320Z"
      },
      {
        "duration": 16,
        "start_time": "2024-01-31T14:53:22.562Z"
      },
      {
        "duration": 13,
        "start_time": "2024-01-31T14:54:27.815Z"
      },
      {
        "duration": 12,
        "start_time": "2024-01-31T14:54:34.539Z"
      },
      {
        "duration": 12,
        "start_time": "2024-01-31T14:57:21.653Z"
      },
      {
        "duration": 12,
        "start_time": "2024-01-31T14:58:16.820Z"
      },
      {
        "duration": 13,
        "start_time": "2024-01-31T14:58:45.827Z"
      },
      {
        "duration": 4,
        "start_time": "2024-01-31T15:09:57.563Z"
      },
      {
        "duration": 12,
        "start_time": "2024-01-31T15:09:59.914Z"
      },
      {
        "duration": 10,
        "start_time": "2024-01-31T15:10:30.596Z"
      },
      {
        "duration": 13,
        "start_time": "2024-01-31T15:12:03.669Z"
      },
      {
        "duration": 4,
        "start_time": "2024-01-31T15:12:34.794Z"
      },
      {
        "duration": 3,
        "start_time": "2024-01-31T15:12:43.922Z"
      },
      {
        "duration": 10,
        "start_time": "2024-01-31T15:12:47.340Z"
      },
      {
        "duration": 11,
        "start_time": "2024-01-31T15:12:49.758Z"
      },
      {
        "duration": 2787,
        "start_time": "2024-01-31T15:23:00.000Z"
      },
      {
        "duration": 2746,
        "start_time": "2024-01-31T15:23:02.790Z"
      },
      {
        "duration": 5,
        "start_time": "2024-01-31T15:23:05.538Z"
      },
      {
        "duration": 90,
        "start_time": "2024-01-31T15:23:05.545Z"
      },
      {
        "duration": 14,
        "start_time": "2024-01-31T15:23:05.637Z"
      },
      {
        "duration": 58,
        "start_time": "2024-01-31T15:23:05.652Z"
      },
      {
        "duration": 21,
        "start_time": "2024-01-31T15:23:05.712Z"
      },
      {
        "duration": 14,
        "start_time": "2024-01-31T15:23:05.735Z"
      },
      {
        "duration": 34,
        "start_time": "2024-01-31T15:23:05.751Z"
      },
      {
        "duration": 40,
        "start_time": "2024-01-31T15:23:05.788Z"
      },
      {
        "duration": 49,
        "start_time": "2024-01-31T15:23:05.830Z"
      },
      {
        "duration": 1026,
        "start_time": "2024-01-31T15:23:05.881Z"
      },
      {
        "duration": 312,
        "start_time": "2024-01-31T15:23:06.909Z"
      },
      {
        "duration": 9,
        "start_time": "2024-01-31T15:23:07.223Z"
      },
      {
        "duration": 137,
        "start_time": "2024-01-31T15:23:07.233Z"
      },
      {
        "duration": 16,
        "start_time": "2024-01-31T15:23:07.373Z"
      },
      {
        "duration": 145,
        "start_time": "2024-01-31T15:23:07.391Z"
      },
      {
        "duration": 6,
        "start_time": "2024-01-31T15:23:07.538Z"
      },
      {
        "duration": 150,
        "start_time": "2024-01-31T15:23:07.546Z"
      },
      {
        "duration": 145,
        "start_time": "2024-01-31T15:23:07.699Z"
      },
      {
        "duration": 21,
        "start_time": "2024-01-31T15:23:07.846Z"
      },
      {
        "duration": 27,
        "start_time": "2024-01-31T15:23:07.869Z"
      },
      {
        "duration": 36,
        "start_time": "2024-01-31T15:23:07.898Z"
      },
      {
        "duration": 10,
        "start_time": "2024-01-31T15:23:07.936Z"
      },
      {
        "duration": 23,
        "start_time": "2024-01-31T15:23:07.967Z"
      },
      {
        "duration": 3,
        "start_time": "2024-01-31T15:23:07.992Z"
      },
      {
        "duration": 3,
        "start_time": "2024-01-31T15:31:54.990Z"
      },
      {
        "duration": 422,
        "start_time": "2024-01-31T15:33:01.602Z"
      },
      {
        "duration": 13,
        "start_time": "2024-01-31T16:21:03.016Z"
      },
      {
        "duration": 6,
        "start_time": "2024-01-31T16:21:19.633Z"
      },
      {
        "duration": 2378,
        "start_time": "2024-01-31T16:33:27.452Z"
      },
      {
        "duration": 2390,
        "start_time": "2024-01-31T16:33:29.832Z"
      },
      {
        "duration": 1256,
        "start_time": "2024-01-31T16:33:32.225Z"
      },
      {
        "duration": 60,
        "start_time": "2024-01-31T16:33:33.483Z"
      },
      {
        "duration": 14,
        "start_time": "2024-01-31T16:33:33.545Z"
      },
      {
        "duration": 85,
        "start_time": "2024-01-31T16:33:33.561Z"
      },
      {
        "duration": 12,
        "start_time": "2024-01-31T16:33:33.647Z"
      },
      {
        "duration": 12,
        "start_time": "2024-01-31T16:33:33.660Z"
      },
      {
        "duration": 26,
        "start_time": "2024-01-31T16:33:33.674Z"
      },
      {
        "duration": 25,
        "start_time": "2024-01-31T16:33:33.701Z"
      },
      {
        "duration": 40,
        "start_time": "2024-01-31T16:33:33.727Z"
      },
      {
        "duration": 980,
        "start_time": "2024-01-31T16:33:33.768Z"
      },
      {
        "duration": 146,
        "start_time": "2024-01-31T16:33:34.749Z"
      },
      {
        "duration": 7,
        "start_time": "2024-01-31T16:33:34.898Z"
      },
      {
        "duration": 143,
        "start_time": "2024-01-31T16:33:34.907Z"
      },
      {
        "duration": 23,
        "start_time": "2024-01-31T16:33:35.051Z"
      },
      {
        "duration": 119,
        "start_time": "2024-01-31T16:33:35.076Z"
      },
      {
        "duration": 7,
        "start_time": "2024-01-31T16:33:35.197Z"
      },
      {
        "duration": 139,
        "start_time": "2024-01-31T16:33:35.206Z"
      },
      {
        "duration": 133,
        "start_time": "2024-01-31T16:33:35.346Z"
      },
      {
        "duration": 12,
        "start_time": "2024-01-31T16:33:35.480Z"
      },
      {
        "duration": 30,
        "start_time": "2024-01-31T16:33:35.493Z"
      },
      {
        "duration": 7,
        "start_time": "2024-01-31T16:36:16.802Z"
      },
      {
        "duration": 71,
        "start_time": "2024-01-31T16:37:37.695Z"
      },
      {
        "duration": 9,
        "start_time": "2024-01-31T16:38:00.031Z"
      },
      {
        "duration": 11,
        "start_time": "2024-01-31T16:38:04.770Z"
      },
      {
        "duration": 138,
        "start_time": "2024-01-31T16:39:08.950Z"
      },
      {
        "duration": 11,
        "start_time": "2024-01-31T16:39:40.616Z"
      },
      {
        "duration": 13,
        "start_time": "2024-01-31T16:42:17.651Z"
      },
      {
        "duration": 18,
        "start_time": "2024-01-31T16:43:15.917Z"
      },
      {
        "duration": 15,
        "start_time": "2024-01-31T16:43:39.342Z"
      },
      {
        "duration": 86,
        "start_time": "2024-01-31T16:44:40.806Z"
      },
      {
        "duration": 80,
        "start_time": "2024-01-31T16:44:45.619Z"
      },
      {
        "duration": 3420,
        "start_time": "2024-01-31T16:44:55.777Z"
      },
      {
        "duration": 13,
        "start_time": "2024-01-31T16:45:37.961Z"
      },
      {
        "duration": 19,
        "start_time": "2024-01-31T16:45:47.691Z"
      },
      {
        "duration": 12,
        "start_time": "2024-01-31T16:45:54.192Z"
      },
      {
        "duration": 11,
        "start_time": "2024-01-31T16:49:48.956Z"
      },
      {
        "duration": 10,
        "start_time": "2024-01-31T16:51:19.063Z"
      },
      {
        "duration": 4,
        "start_time": "2024-01-31T16:51:21.905Z"
      },
      {
        "duration": 10,
        "start_time": "2024-01-31T16:52:34.474Z"
      },
      {
        "duration": 18,
        "start_time": "2024-01-31T16:54:22.342Z"
      },
      {
        "duration": 12,
        "start_time": "2024-01-31T16:56:06.073Z"
      },
      {
        "duration": 15,
        "start_time": "2024-01-31T16:56:21.288Z"
      },
      {
        "duration": 24,
        "start_time": "2024-01-31T17:00:05.338Z"
      },
      {
        "duration": 23,
        "start_time": "2024-01-31T17:00:25.760Z"
      },
      {
        "duration": 18,
        "start_time": "2024-01-31T17:01:25.497Z"
      },
      {
        "duration": 24,
        "start_time": "2024-01-31T17:01:41.853Z"
      },
      {
        "duration": 336,
        "start_time": "2024-01-31T17:03:33.705Z"
      },
      {
        "duration": 2,
        "start_time": "2024-01-31T17:03:42.204Z"
      },
      {
        "duration": 11,
        "start_time": "2024-01-31T17:03:52.800Z"
      },
      {
        "duration": 12,
        "start_time": "2024-01-31T17:04:12.348Z"
      },
      {
        "duration": 15,
        "start_time": "2024-01-31T17:04:24.076Z"
      },
      {
        "duration": 20,
        "start_time": "2024-01-31T17:04:33.562Z"
      },
      {
        "duration": 13,
        "start_time": "2024-01-31T17:04:48.812Z"
      },
      {
        "duration": 17,
        "start_time": "2024-01-31T17:05:55.907Z"
      },
      {
        "duration": 14,
        "start_time": "2024-01-31T17:06:11.122Z"
      },
      {
        "duration": 12,
        "start_time": "2024-01-31T17:06:21.425Z"
      },
      {
        "duration": 12,
        "start_time": "2024-01-31T17:06:35.550Z"
      },
      {
        "duration": 14,
        "start_time": "2024-01-31T17:06:44.662Z"
      },
      {
        "duration": 14,
        "start_time": "2024-01-31T17:06:51.192Z"
      },
      {
        "duration": 14,
        "start_time": "2024-01-31T17:08:08.947Z"
      },
      {
        "duration": 17,
        "start_time": "2024-01-31T17:09:36.447Z"
      },
      {
        "duration": 19,
        "start_time": "2024-01-31T17:11:14.612Z"
      },
      {
        "duration": 14,
        "start_time": "2024-01-31T17:11:22.266Z"
      },
      {
        "duration": 18,
        "start_time": "2024-01-31T17:11:49.107Z"
      },
      {
        "duration": 15,
        "start_time": "2024-01-31T17:12:17.377Z"
      },
      {
        "duration": 14,
        "start_time": "2024-01-31T17:12:26.546Z"
      },
      {
        "duration": 22,
        "start_time": "2024-01-31T17:12:46.466Z"
      },
      {
        "duration": 72,
        "start_time": "2024-01-31T17:14:09.306Z"
      },
      {
        "duration": 12,
        "start_time": "2024-01-31T17:17:06.699Z"
      },
      {
        "duration": 11,
        "start_time": "2024-01-31T17:17:12.163Z"
      },
      {
        "duration": 18,
        "start_time": "2024-01-31T17:17:14.090Z"
      },
      {
        "duration": 21,
        "start_time": "2024-01-31T17:17:30.974Z"
      },
      {
        "duration": 34,
        "start_time": "2024-01-31T17:18:22.718Z"
      },
      {
        "duration": 30,
        "start_time": "2024-01-31T17:19:29.380Z"
      },
      {
        "duration": 17,
        "start_time": "2024-01-31T17:19:41.177Z"
      },
      {
        "duration": 30,
        "start_time": "2024-01-31T17:19:50.128Z"
      },
      {
        "duration": 97,
        "start_time": "2024-01-31T17:30:12.924Z"
      },
      {
        "duration": 4,
        "start_time": "2024-01-31T17:30:19.168Z"
      },
      {
        "duration": 4,
        "start_time": "2024-01-31T17:35:08.792Z"
      },
      {
        "duration": 11,
        "start_time": "2024-01-31T17:35:17.527Z"
      },
      {
        "duration": 3,
        "start_time": "2024-01-31T17:35:33.993Z"
      },
      {
        "duration": 32,
        "start_time": "2024-01-31T17:35:54.790Z"
      },
      {
        "duration": 27,
        "start_time": "2024-01-31T17:37:01.693Z"
      },
      {
        "duration": 30,
        "start_time": "2024-01-31T17:38:52.812Z"
      },
      {
        "duration": 2400,
        "start_time": "2024-01-31T17:39:13.913Z"
      },
      {
        "duration": 2386,
        "start_time": "2024-01-31T17:39:16.315Z"
      },
      {
        "duration": 2346,
        "start_time": "2024-01-31T17:39:18.703Z"
      },
      {
        "duration": 4,
        "start_time": "2024-01-31T17:39:21.051Z"
      },
      {
        "duration": 55,
        "start_time": "2024-01-31T17:39:21.057Z"
      },
      {
        "duration": 12,
        "start_time": "2024-01-31T17:39:21.114Z"
      },
      {
        "duration": 24,
        "start_time": "2024-01-31T17:39:21.127Z"
      },
      {
        "duration": 10,
        "start_time": "2024-01-31T17:39:21.152Z"
      },
      {
        "duration": 11,
        "start_time": "2024-01-31T17:39:21.164Z"
      },
      {
        "duration": 26,
        "start_time": "2024-01-31T17:39:21.176Z"
      },
      {
        "duration": 24,
        "start_time": "2024-01-31T17:39:21.204Z"
      },
      {
        "duration": 42,
        "start_time": "2024-01-31T17:39:21.230Z"
      },
      {
        "duration": 810,
        "start_time": "2024-01-31T17:39:21.274Z"
      },
      {
        "duration": 134,
        "start_time": "2024-01-31T17:39:22.086Z"
      },
      {
        "duration": 6,
        "start_time": "2024-01-31T17:39:22.221Z"
      },
      {
        "duration": 114,
        "start_time": "2024-01-31T17:39:22.229Z"
      },
      {
        "duration": 20,
        "start_time": "2024-01-31T17:39:22.345Z"
      },
      {
        "duration": 226,
        "start_time": "2024-01-31T17:39:22.367Z"
      },
      {
        "duration": 6,
        "start_time": "2024-01-31T17:39:22.595Z"
      },
      {
        "duration": 157,
        "start_time": "2024-01-31T17:39:22.602Z"
      },
      {
        "duration": 123,
        "start_time": "2024-01-31T17:39:22.765Z"
      },
      {
        "duration": 11,
        "start_time": "2024-01-31T17:39:22.889Z"
      },
      {
        "duration": 19,
        "start_time": "2024-01-31T17:39:22.901Z"
      },
      {
        "duration": 18,
        "start_time": "2024-01-31T17:39:22.921Z"
      },
      {
        "duration": 28,
        "start_time": "2024-01-31T17:39:22.941Z"
      },
      {
        "duration": 35,
        "start_time": "2024-01-31T17:39:22.971Z"
      },
      {
        "duration": 25,
        "start_time": "2024-01-31T17:39:23.007Z"
      },
      {
        "duration": 41,
        "start_time": "2024-01-31T17:39:23.034Z"
      },
      {
        "duration": 4,
        "start_time": "2024-01-31T17:42:17.069Z"
      },
      {
        "duration": 2338,
        "start_time": "2024-01-31T17:42:42.307Z"
      },
      {
        "duration": 2379,
        "start_time": "2024-01-31T17:42:44.647Z"
      },
      {
        "duration": 2335,
        "start_time": "2024-01-31T17:42:47.028Z"
      },
      {
        "duration": 1307,
        "start_time": "2024-01-31T17:42:49.365Z"
      },
      {
        "duration": 57,
        "start_time": "2024-01-31T17:42:50.673Z"
      },
      {
        "duration": 11,
        "start_time": "2024-01-31T17:42:50.732Z"
      },
      {
        "duration": 62,
        "start_time": "2024-01-31T17:42:50.744Z"
      },
      {
        "duration": 12,
        "start_time": "2024-01-31T17:42:50.807Z"
      },
      {
        "duration": 25,
        "start_time": "2024-01-31T17:42:50.820Z"
      },
      {
        "duration": 48,
        "start_time": "2024-01-31T17:42:50.848Z"
      },
      {
        "duration": 24,
        "start_time": "2024-01-31T17:42:50.897Z"
      },
      {
        "duration": 18,
        "start_time": "2024-01-31T17:42:50.923Z"
      },
      {
        "duration": 926,
        "start_time": "2024-01-31T17:42:50.942Z"
      },
      {
        "duration": 136,
        "start_time": "2024-01-31T17:42:51.870Z"
      },
      {
        "duration": 8,
        "start_time": "2024-01-31T17:42:52.007Z"
      },
      {
        "duration": 117,
        "start_time": "2024-01-31T17:42:52.016Z"
      },
      {
        "duration": 10,
        "start_time": "2024-01-31T17:42:52.134Z"
      },
      {
        "duration": 107,
        "start_time": "2024-01-31T17:42:52.145Z"
      },
      {
        "duration": 13,
        "start_time": "2024-01-31T17:42:52.254Z"
      },
      {
        "duration": 121,
        "start_time": "2024-01-31T17:42:52.268Z"
      },
      {
        "duration": 133,
        "start_time": "2024-01-31T17:42:52.391Z"
      },
      {
        "duration": 12,
        "start_time": "2024-01-31T17:42:52.526Z"
      },
      {
        "duration": 32,
        "start_time": "2024-01-31T17:42:52.540Z"
      },
      {
        "duration": 5,
        "start_time": "2024-01-31T17:42:52.573Z"
      },
      {
        "duration": 15,
        "start_time": "2024-01-31T17:42:52.579Z"
      },
      {
        "duration": 307,
        "start_time": "2024-01-31T17:44:24.077Z"
      },
      {
        "duration": 34,
        "start_time": "2024-01-31T17:44:45.110Z"
      },
      {
        "duration": 27,
        "start_time": "2024-01-31T17:44:50.667Z"
      },
      {
        "duration": 33,
        "start_time": "2024-01-31T17:44:57.545Z"
      },
      {
        "duration": 4,
        "start_time": "2024-01-31T17:45:13.501Z"
      },
      {
        "duration": 26,
        "start_time": "2024-01-31T17:45:31.406Z"
      },
      {
        "duration": 33,
        "start_time": "2024-01-31T17:45:55.876Z"
      },
      {
        "duration": 27,
        "start_time": "2024-01-31T17:48:09.733Z"
      },
      {
        "duration": 26,
        "start_time": "2024-01-31T17:48:25.268Z"
      },
      {
        "duration": 7293,
        "start_time": "2024-02-01T02:40:19.092Z"
      },
      {
        "duration": 3019,
        "start_time": "2024-02-01T02:40:26.388Z"
      },
      {
        "duration": 5868,
        "start_time": "2024-02-01T02:40:29.409Z"
      },
      {
        "duration": 1360,
        "start_time": "2024-02-01T02:40:35.280Z"
      },
      {
        "duration": 95,
        "start_time": "2024-02-01T02:40:36.642Z"
      },
      {
        "duration": 12,
        "start_time": "2024-02-01T02:40:36.738Z"
      },
      {
        "duration": 45,
        "start_time": "2024-02-01T02:40:36.751Z"
      },
      {
        "duration": 10,
        "start_time": "2024-02-01T02:40:36.798Z"
      },
      {
        "duration": 10,
        "start_time": "2024-02-01T02:40:36.809Z"
      },
      {
        "duration": 42,
        "start_time": "2024-02-01T02:40:36.821Z"
      },
      {
        "duration": 23,
        "start_time": "2024-02-01T02:40:36.866Z"
      },
      {
        "duration": 17,
        "start_time": "2024-02-01T02:40:36.890Z"
      },
      {
        "duration": 892,
        "start_time": "2024-02-01T02:40:36.908Z"
      },
      {
        "duration": 127,
        "start_time": "2024-02-01T02:40:37.802Z"
      },
      {
        "duration": 6,
        "start_time": "2024-02-01T02:40:37.931Z"
      },
      {
        "duration": 98,
        "start_time": "2024-02-01T02:40:37.938Z"
      },
      {
        "duration": 16,
        "start_time": "2024-02-01T02:40:38.038Z"
      },
      {
        "duration": 99,
        "start_time": "2024-02-01T02:40:38.055Z"
      },
      {
        "duration": 6,
        "start_time": "2024-02-01T02:40:38.155Z"
      },
      {
        "duration": 111,
        "start_time": "2024-02-01T02:40:38.162Z"
      },
      {
        "duration": 123,
        "start_time": "2024-02-01T02:40:38.274Z"
      },
      {
        "duration": 11,
        "start_time": "2024-02-01T02:40:38.399Z"
      },
      {
        "duration": 25,
        "start_time": "2024-02-01T02:40:38.411Z"
      },
      {
        "duration": 16,
        "start_time": "2024-02-01T02:40:38.437Z"
      },
      {
        "duration": 11,
        "start_time": "2024-02-01T02:40:38.454Z"
      },
      {
        "duration": 3,
        "start_time": "2024-02-01T02:41:46.451Z"
      },
      {
        "duration": 14,
        "start_time": "2024-02-01T02:41:53.105Z"
      },
      {
        "duration": 11,
        "start_time": "2024-02-01T02:42:17.518Z"
      },
      {
        "duration": 11,
        "start_time": "2024-02-01T02:42:31.561Z"
      },
      {
        "duration": 10,
        "start_time": "2024-02-01T02:42:39.873Z"
      },
      {
        "duration": 12,
        "start_time": "2024-02-01T02:43:23.070Z"
      },
      {
        "duration": 18,
        "start_time": "2024-02-01T02:43:29.908Z"
      },
      {
        "duration": 14,
        "start_time": "2024-02-01T02:44:03.794Z"
      },
      {
        "duration": 14,
        "start_time": "2024-02-01T02:44:09.235Z"
      },
      {
        "duration": 12,
        "start_time": "2024-02-01T02:44:27.545Z"
      },
      {
        "duration": 14,
        "start_time": "2024-02-01T02:44:33.641Z"
      },
      {
        "duration": 14,
        "start_time": "2024-02-01T02:44:50.175Z"
      },
      {
        "duration": 14,
        "start_time": "2024-02-01T02:45:02.171Z"
      },
      {
        "duration": 15,
        "start_time": "2024-02-01T02:45:47.293Z"
      },
      {
        "duration": 14,
        "start_time": "2024-02-01T02:47:26.861Z"
      },
      {
        "duration": 16,
        "start_time": "2024-02-01T02:47:33.818Z"
      },
      {
        "duration": 14,
        "start_time": "2024-02-01T02:47:54.826Z"
      },
      {
        "duration": 22,
        "start_time": "2024-02-01T02:48:07.451Z"
      },
      {
        "duration": 34,
        "start_time": "2024-02-01T02:49:13.680Z"
      },
      {
        "duration": 22,
        "start_time": "2024-02-01T02:50:22.425Z"
      },
      {
        "duration": 15,
        "start_time": "2024-02-01T02:50:57.271Z"
      },
      {
        "duration": 34,
        "start_time": "2024-02-01T02:51:43.846Z"
      },
      {
        "duration": 116,
        "start_time": "2024-02-01T02:51:52.153Z"
      },
      {
        "duration": 12,
        "start_time": "2024-02-01T02:52:15.883Z"
      },
      {
        "duration": 12,
        "start_time": "2024-02-01T02:52:25.593Z"
      },
      {
        "duration": 18,
        "start_time": "2024-02-01T02:52:59.568Z"
      },
      {
        "duration": 12,
        "start_time": "2024-02-01T02:53:05.238Z"
      },
      {
        "duration": 12,
        "start_time": "2024-02-01T02:53:09.941Z"
      },
      {
        "duration": 2282,
        "start_time": "2024-02-01T02:53:29.797Z"
      },
      {
        "duration": 2246,
        "start_time": "2024-02-01T02:53:32.081Z"
      },
      {
        "duration": 2180,
        "start_time": "2024-02-01T02:53:34.329Z"
      },
      {
        "duration": 5,
        "start_time": "2024-02-01T02:53:36.511Z"
      },
      {
        "duration": 58,
        "start_time": "2024-02-01T02:53:36.517Z"
      },
      {
        "duration": 12,
        "start_time": "2024-02-01T02:53:36.577Z"
      },
      {
        "duration": 12,
        "start_time": "2024-02-01T02:53:36.590Z"
      },
      {
        "duration": 10,
        "start_time": "2024-02-01T02:53:36.604Z"
      },
      {
        "duration": 43,
        "start_time": "2024-02-01T02:53:36.616Z"
      },
      {
        "duration": 25,
        "start_time": "2024-02-01T02:53:36.660Z"
      },
      {
        "duration": 22,
        "start_time": "2024-02-01T02:53:36.687Z"
      },
      {
        "duration": 17,
        "start_time": "2024-02-01T02:53:36.711Z"
      },
      {
        "duration": 787,
        "start_time": "2024-02-01T02:53:36.753Z"
      },
      {
        "duration": 240,
        "start_time": "2024-02-01T02:53:37.542Z"
      },
      {
        "duration": 7,
        "start_time": "2024-02-01T02:53:37.784Z"
      },
      {
        "duration": 110,
        "start_time": "2024-02-01T02:53:37.792Z"
      },
      {
        "duration": 23,
        "start_time": "2024-02-01T02:53:37.904Z"
      },
      {
        "duration": 107,
        "start_time": "2024-02-01T02:53:37.928Z"
      },
      {
        "duration": 16,
        "start_time": "2024-02-01T02:53:38.036Z"
      },
      {
        "duration": 120,
        "start_time": "2024-02-01T02:53:38.053Z"
      },
      {
        "duration": 117,
        "start_time": "2024-02-01T02:53:38.174Z"
      },
      {
        "duration": 14,
        "start_time": "2024-02-01T02:53:38.294Z"
      },
      {
        "duration": 21,
        "start_time": "2024-02-01T02:53:38.310Z"
      },
      {
        "duration": 21,
        "start_time": "2024-02-01T02:53:38.332Z"
      },
      {
        "duration": 9,
        "start_time": "2024-02-01T02:53:38.355Z"
      },
      {
        "duration": 15,
        "start_time": "2024-02-01T02:53:53.055Z"
      },
      {
        "duration": 2272,
        "start_time": "2024-02-01T02:54:13.435Z"
      },
      {
        "duration": 2270,
        "start_time": "2024-02-01T02:54:15.709Z"
      },
      {
        "duration": 2237,
        "start_time": "2024-02-01T02:54:17.981Z"
      },
      {
        "duration": 6,
        "start_time": "2024-02-01T02:54:20.221Z"
      },
      {
        "duration": 66,
        "start_time": "2024-02-01T02:54:20.228Z"
      },
      {
        "duration": 11,
        "start_time": "2024-02-01T02:54:20.296Z"
      },
      {
        "duration": 13,
        "start_time": "2024-02-01T02:54:20.308Z"
      },
      {
        "duration": 10,
        "start_time": "2024-02-01T02:54:20.323Z"
      },
      {
        "duration": 9,
        "start_time": "2024-02-01T02:54:20.352Z"
      },
      {
        "duration": 22,
        "start_time": "2024-02-01T02:54:20.363Z"
      },
      {
        "duration": 21,
        "start_time": "2024-02-01T02:54:20.387Z"
      },
      {
        "duration": 44,
        "start_time": "2024-02-01T02:54:20.409Z"
      },
      {
        "duration": 779,
        "start_time": "2024-02-01T02:54:20.455Z"
      },
      {
        "duration": 138,
        "start_time": "2024-02-01T02:54:21.236Z"
      },
      {
        "duration": 8,
        "start_time": "2024-02-01T02:54:21.375Z"
      },
      {
        "duration": 191,
        "start_time": "2024-02-01T02:54:21.384Z"
      },
      {
        "duration": 10,
        "start_time": "2024-02-01T02:54:21.577Z"
      },
      {
        "duration": 108,
        "start_time": "2024-02-01T02:54:21.588Z"
      },
      {
        "duration": 6,
        "start_time": "2024-02-01T02:54:21.698Z"
      },
      {
        "duration": 119,
        "start_time": "2024-02-01T02:54:21.705Z"
      },
      {
        "duration": 122,
        "start_time": "2024-02-01T02:54:21.826Z"
      },
      {
        "duration": 11,
        "start_time": "2024-02-01T02:54:21.952Z"
      },
      {
        "duration": 20,
        "start_time": "2024-02-01T02:54:21.964Z"
      },
      {
        "duration": 5,
        "start_time": "2024-02-01T02:54:21.986Z"
      },
      {
        "duration": 15,
        "start_time": "2024-02-01T02:54:21.992Z"
      },
      {
        "duration": 18,
        "start_time": "2024-02-01T02:54:22.008Z"
      },
      {
        "duration": 11,
        "start_time": "2024-02-01T02:55:09.119Z"
      },
      {
        "duration": 75,
        "start_time": "2024-02-01T02:56:04.439Z"
      },
      {
        "duration": 22,
        "start_time": "2024-02-01T02:56:10.323Z"
      },
      {
        "duration": 2232,
        "start_time": "2024-02-01T02:56:19.009Z"
      },
      {
        "duration": 2201,
        "start_time": "2024-02-01T02:56:21.243Z"
      },
      {
        "duration": 2220,
        "start_time": "2024-02-01T02:56:23.445Z"
      },
      {
        "duration": 5,
        "start_time": "2024-02-01T02:56:25.667Z"
      },
      {
        "duration": 84,
        "start_time": "2024-02-01T02:56:25.674Z"
      },
      {
        "duration": 12,
        "start_time": "2024-02-01T02:56:25.759Z"
      },
      {
        "duration": 12,
        "start_time": "2024-02-01T02:56:25.773Z"
      },
      {
        "duration": 11,
        "start_time": "2024-02-01T02:56:25.787Z"
      },
      {
        "duration": 14,
        "start_time": "2024-02-01T02:56:25.800Z"
      },
      {
        "duration": 37,
        "start_time": "2024-02-01T02:56:25.816Z"
      },
      {
        "duration": 22,
        "start_time": "2024-02-01T02:56:25.854Z"
      },
      {
        "duration": 21,
        "start_time": "2024-02-01T02:56:25.877Z"
      },
      {
        "duration": 791,
        "start_time": "2024-02-01T02:56:25.900Z"
      },
      {
        "duration": 123,
        "start_time": "2024-02-01T02:56:26.693Z"
      },
      {
        "duration": 6,
        "start_time": "2024-02-01T02:56:26.817Z"
      },
      {
        "duration": 98,
        "start_time": "2024-02-01T02:56:26.824Z"
      },
      {
        "duration": 10,
        "start_time": "2024-02-01T02:56:26.924Z"
      },
      {
        "duration": 194,
        "start_time": "2024-02-01T02:56:26.935Z"
      },
      {
        "duration": 6,
        "start_time": "2024-02-01T02:56:27.130Z"
      },
      {
        "duration": 115,
        "start_time": "2024-02-01T02:56:27.138Z"
      },
      {
        "duration": 118,
        "start_time": "2024-02-01T02:56:27.255Z"
      },
      {
        "duration": 16,
        "start_time": "2024-02-01T02:56:27.374Z"
      },
      {
        "duration": 18,
        "start_time": "2024-02-01T02:56:27.391Z"
      },
      {
        "duration": 5,
        "start_time": "2024-02-01T02:56:27.410Z"
      },
      {
        "duration": 36,
        "start_time": "2024-02-01T02:56:27.416Z"
      },
      {
        "duration": 15,
        "start_time": "2024-02-01T02:56:27.454Z"
      },
      {
        "duration": 21,
        "start_time": "2024-02-01T02:56:31.843Z"
      },
      {
        "duration": 21,
        "start_time": "2024-02-01T02:56:58.206Z"
      },
      {
        "duration": 20,
        "start_time": "2024-02-01T02:57:08.703Z"
      },
      {
        "duration": 15,
        "start_time": "2024-02-01T02:57:58.438Z"
      },
      {
        "duration": 23,
        "start_time": "2024-02-01T02:58:19.905Z"
      },
      {
        "duration": 2260,
        "start_time": "2024-02-01T02:58:26.849Z"
      },
      {
        "duration": 2287,
        "start_time": "2024-02-01T02:58:29.111Z"
      },
      {
        "duration": 2233,
        "start_time": "2024-02-01T02:58:31.399Z"
      },
      {
        "duration": 4,
        "start_time": "2024-02-01T02:58:33.634Z"
      },
      {
        "duration": 67,
        "start_time": "2024-02-01T02:58:33.640Z"
      },
      {
        "duration": 12,
        "start_time": "2024-02-01T02:58:33.708Z"
      },
      {
        "duration": 16,
        "start_time": "2024-02-01T02:58:33.721Z"
      },
      {
        "duration": 17,
        "start_time": "2024-02-01T02:58:33.738Z"
      },
      {
        "duration": 11,
        "start_time": "2024-02-01T02:58:33.757Z"
      },
      {
        "duration": 22,
        "start_time": "2024-02-01T02:58:33.769Z"
      },
      {
        "duration": 34,
        "start_time": "2024-02-01T02:58:33.793Z"
      },
      {
        "duration": 24,
        "start_time": "2024-02-01T02:58:33.853Z"
      },
      {
        "duration": 787,
        "start_time": "2024-02-01T02:58:33.879Z"
      },
      {
        "duration": 126,
        "start_time": "2024-02-01T02:58:34.669Z"
      },
      {
        "duration": 7,
        "start_time": "2024-02-01T02:58:34.796Z"
      },
      {
        "duration": 98,
        "start_time": "2024-02-01T02:58:34.804Z"
      },
      {
        "duration": 12,
        "start_time": "2024-02-01T02:58:34.904Z"
      },
      {
        "duration": 115,
        "start_time": "2024-02-01T02:58:34.917Z"
      },
      {
        "duration": 8,
        "start_time": "2024-02-01T02:58:35.033Z"
      },
      {
        "duration": 240,
        "start_time": "2024-02-01T02:58:35.042Z"
      },
      {
        "duration": 113,
        "start_time": "2024-02-01T02:58:35.283Z"
      },
      {
        "duration": 10,
        "start_time": "2024-02-01T02:58:35.397Z"
      },
      {
        "duration": 21,
        "start_time": "2024-02-01T02:58:35.409Z"
      },
      {
        "duration": 4,
        "start_time": "2024-02-01T02:58:35.431Z"
      },
      {
        "duration": 16,
        "start_time": "2024-02-01T02:58:35.451Z"
      },
      {
        "duration": 15,
        "start_time": "2024-02-01T02:58:35.468Z"
      },
      {
        "duration": 23,
        "start_time": "2024-02-01T02:58:37.994Z"
      },
      {
        "duration": 28,
        "start_time": "2024-02-01T02:58:44.240Z"
      },
      {
        "duration": 2267,
        "start_time": "2024-02-01T02:58:58.504Z"
      },
      {
        "duration": 2427,
        "start_time": "2024-02-01T02:59:00.773Z"
      },
      {
        "duration": 2212,
        "start_time": "2024-02-01T02:59:03.201Z"
      },
      {
        "duration": 4,
        "start_time": "2024-02-01T02:59:05.416Z"
      },
      {
        "duration": 63,
        "start_time": "2024-02-01T02:59:05.421Z"
      },
      {
        "duration": 11,
        "start_time": "2024-02-01T02:59:05.486Z"
      },
      {
        "duration": 12,
        "start_time": "2024-02-01T02:59:05.498Z"
      },
      {
        "duration": 9,
        "start_time": "2024-02-01T02:59:05.512Z"
      },
      {
        "duration": 19,
        "start_time": "2024-02-01T02:59:05.522Z"
      },
      {
        "duration": 21,
        "start_time": "2024-02-01T02:59:05.551Z"
      },
      {
        "duration": 20,
        "start_time": "2024-02-01T02:59:05.574Z"
      },
      {
        "duration": 18,
        "start_time": "2024-02-01T02:59:05.595Z"
      },
      {
        "duration": 772,
        "start_time": "2024-02-01T02:59:05.614Z"
      },
      {
        "duration": 123,
        "start_time": "2024-02-01T02:59:06.388Z"
      },
      {
        "duration": 8,
        "start_time": "2024-02-01T02:59:06.512Z"
      },
      {
        "duration": 101,
        "start_time": "2024-02-01T02:59:06.521Z"
      },
      {
        "duration": 11,
        "start_time": "2024-02-01T02:59:06.623Z"
      },
      {
        "duration": 101,
        "start_time": "2024-02-01T02:59:06.635Z"
      },
      {
        "duration": 17,
        "start_time": "2024-02-01T02:59:06.738Z"
      },
      {
        "duration": 119,
        "start_time": "2024-02-01T02:59:06.757Z"
      },
      {
        "duration": 219,
        "start_time": "2024-02-01T02:59:06.878Z"
      },
      {
        "duration": 13,
        "start_time": "2024-02-01T02:59:07.099Z"
      },
      {
        "duration": 17,
        "start_time": "2024-02-01T02:59:07.114Z"
      },
      {
        "duration": 20,
        "start_time": "2024-02-01T02:59:07.133Z"
      },
      {
        "duration": 24,
        "start_time": "2024-02-01T02:59:07.154Z"
      },
      {
        "duration": 15,
        "start_time": "2024-02-01T02:59:07.179Z"
      },
      {
        "duration": 22,
        "start_time": "2024-02-01T02:59:09.217Z"
      },
      {
        "duration": 15,
        "start_time": "2024-02-01T02:59:39.806Z"
      },
      {
        "duration": 2254,
        "start_time": "2024-02-01T02:59:49.474Z"
      },
      {
        "duration": 2211,
        "start_time": "2024-02-01T02:59:51.731Z"
      },
      {
        "duration": 2179,
        "start_time": "2024-02-01T02:59:53.944Z"
      },
      {
        "duration": 4,
        "start_time": "2024-02-01T02:59:56.125Z"
      },
      {
        "duration": 60,
        "start_time": "2024-02-01T02:59:56.131Z"
      },
      {
        "duration": 11,
        "start_time": "2024-02-01T02:59:56.192Z"
      },
      {
        "duration": 26,
        "start_time": "2024-02-01T02:59:56.205Z"
      },
      {
        "duration": 10,
        "start_time": "2024-02-01T02:59:56.233Z"
      },
      {
        "duration": 12,
        "start_time": "2024-02-01T02:59:56.244Z"
      },
      {
        "duration": 22,
        "start_time": "2024-02-01T02:59:56.257Z"
      },
      {
        "duration": 21,
        "start_time": "2024-02-01T02:59:56.281Z"
      },
      {
        "duration": 17,
        "start_time": "2024-02-01T02:59:56.303Z"
      },
      {
        "duration": 764,
        "start_time": "2024-02-01T02:59:56.321Z"
      },
      {
        "duration": 141,
        "start_time": "2024-02-01T02:59:57.088Z"
      },
      {
        "duration": 7,
        "start_time": "2024-02-01T02:59:57.230Z"
      },
      {
        "duration": 91,
        "start_time": "2024-02-01T02:59:57.252Z"
      },
      {
        "duration": 13,
        "start_time": "2024-02-01T02:59:57.352Z"
      },
      {
        "duration": 109,
        "start_time": "2024-02-01T02:59:57.366Z"
      },
      {
        "duration": 6,
        "start_time": "2024-02-01T02:59:57.476Z"
      },
      {
        "duration": 115,
        "start_time": "2024-02-01T02:59:57.483Z"
      },
      {
        "duration": 115,
        "start_time": "2024-02-01T02:59:57.600Z"
      },
      {
        "duration": 15,
        "start_time": "2024-02-01T02:59:57.717Z"
      },
      {
        "duration": 40,
        "start_time": "2024-02-01T02:59:57.734Z"
      },
      {
        "duration": 5,
        "start_time": "2024-02-01T02:59:57.776Z"
      },
      {
        "duration": 9,
        "start_time": "2024-02-01T02:59:57.783Z"
      },
      {
        "duration": 17,
        "start_time": "2024-02-01T02:59:57.793Z"
      },
      {
        "duration": 14,
        "start_time": "2024-02-01T02:59:57.811Z"
      },
      {
        "duration": 19,
        "start_time": "2024-02-01T03:00:44.392Z"
      },
      {
        "duration": 24,
        "start_time": "2024-02-01T03:00:59.725Z"
      },
      {
        "duration": 10,
        "start_time": "2024-02-01T03:01:07.099Z"
      },
      {
        "duration": 33,
        "start_time": "2024-02-01T03:01:59.458Z"
      },
      {
        "duration": 11,
        "start_time": "2024-02-01T03:02:56.184Z"
      },
      {
        "duration": 22,
        "start_time": "2024-02-01T03:04:06.447Z"
      },
      {
        "duration": 20,
        "start_time": "2024-02-01T03:04:20.188Z"
      },
      {
        "duration": 2235,
        "start_time": "2024-02-01T03:04:25.131Z"
      },
      {
        "duration": 2273,
        "start_time": "2024-02-01T03:04:27.368Z"
      },
      {
        "duration": 2283,
        "start_time": "2024-02-01T03:04:29.643Z"
      },
      {
        "duration": 111,
        "start_time": "2024-02-01T03:04:31.928Z"
      },
      {
        "duration": 72,
        "start_time": "2024-02-01T03:04:32.041Z"
      },
      {
        "duration": 11,
        "start_time": "2024-02-01T03:04:32.114Z"
      },
      {
        "duration": 13,
        "start_time": "2024-02-01T03:04:32.126Z"
      },
      {
        "duration": 11,
        "start_time": "2024-02-01T03:04:32.140Z"
      },
      {
        "duration": 16,
        "start_time": "2024-02-01T03:04:32.152Z"
      },
      {
        "duration": 29,
        "start_time": "2024-02-01T03:04:32.170Z"
      },
      {
        "duration": 31,
        "start_time": "2024-02-01T03:04:32.200Z"
      },
      {
        "duration": 22,
        "start_time": "2024-02-01T03:04:32.232Z"
      },
      {
        "duration": 759,
        "start_time": "2024-02-01T03:04:32.255Z"
      },
      {
        "duration": 126,
        "start_time": "2024-02-01T03:04:33.016Z"
      },
      {
        "duration": 12,
        "start_time": "2024-02-01T03:04:33.144Z"
      },
      {
        "duration": 105,
        "start_time": "2024-02-01T03:04:33.157Z"
      },
      {
        "duration": 11,
        "start_time": "2024-02-01T03:04:33.263Z"
      },
      {
        "duration": 107,
        "start_time": "2024-02-01T03:04:33.275Z"
      },
      {
        "duration": 7,
        "start_time": "2024-02-01T03:04:33.383Z"
      },
      {
        "duration": 123,
        "start_time": "2024-02-01T03:04:33.391Z"
      },
      {
        "duration": 118,
        "start_time": "2024-02-01T03:04:33.515Z"
      },
      {
        "duration": 18,
        "start_time": "2024-02-01T03:04:33.635Z"
      },
      {
        "duration": 20,
        "start_time": "2024-02-01T03:04:33.655Z"
      },
      {
        "duration": 5,
        "start_time": "2024-02-01T03:04:33.676Z"
      },
      {
        "duration": 15,
        "start_time": "2024-02-01T03:04:33.682Z"
      },
      {
        "duration": 30,
        "start_time": "2024-02-01T03:04:33.698Z"
      },
      {
        "duration": 10,
        "start_time": "2024-02-01T03:04:33.729Z"
      },
      {
        "duration": 40,
        "start_time": "2024-02-01T03:04:33.740Z"
      },
      {
        "duration": 29,
        "start_time": "2024-02-01T03:04:39.113Z"
      },
      {
        "duration": 12,
        "start_time": "2024-02-01T03:05:04.084Z"
      },
      {
        "duration": 21,
        "start_time": "2024-02-01T03:05:37.801Z"
      },
      {
        "duration": 22,
        "start_time": "2024-02-01T03:05:52.277Z"
      },
      {
        "duration": 22,
        "start_time": "2024-02-01T03:06:04.665Z"
      },
      {
        "duration": 2308,
        "start_time": "2024-02-01T03:06:09.438Z"
      },
      {
        "duration": 2293,
        "start_time": "2024-02-01T03:06:11.749Z"
      },
      {
        "duration": 2304,
        "start_time": "2024-02-01T03:06:14.044Z"
      },
      {
        "duration": 5,
        "start_time": "2024-02-01T03:06:16.350Z"
      },
      {
        "duration": 60,
        "start_time": "2024-02-01T03:06:16.357Z"
      },
      {
        "duration": 11,
        "start_time": "2024-02-01T03:06:16.418Z"
      },
      {
        "duration": 28,
        "start_time": "2024-02-01T03:06:16.430Z"
      },
      {
        "duration": 27,
        "start_time": "2024-02-01T03:06:16.459Z"
      },
      {
        "duration": 24,
        "start_time": "2024-02-01T03:06:16.488Z"
      },
      {
        "duration": 31,
        "start_time": "2024-02-01T03:06:16.514Z"
      },
      {
        "duration": 23,
        "start_time": "2024-02-01T03:06:16.547Z"
      },
      {
        "duration": 16,
        "start_time": "2024-02-01T03:06:16.572Z"
      },
      {
        "duration": 918,
        "start_time": "2024-02-01T03:06:16.589Z"
      },
      {
        "duration": 135,
        "start_time": "2024-02-01T03:06:17.510Z"
      },
      {
        "duration": 6,
        "start_time": "2024-02-01T03:06:17.651Z"
      },
      {
        "duration": 99,
        "start_time": "2024-02-01T03:06:17.659Z"
      },
      {
        "duration": 11,
        "start_time": "2024-02-01T03:06:17.759Z"
      },
      {
        "duration": 106,
        "start_time": "2024-02-01T03:06:17.772Z"
      },
      {
        "duration": 8,
        "start_time": "2024-02-01T03:06:17.879Z"
      },
      {
        "duration": 127,
        "start_time": "2024-02-01T03:06:17.889Z"
      },
      {
        "duration": 124,
        "start_time": "2024-02-01T03:06:18.018Z"
      },
      {
        "duration": 17,
        "start_time": "2024-02-01T03:06:18.144Z"
      },
      {
        "duration": 21,
        "start_time": "2024-02-01T03:06:18.163Z"
      },
      {
        "duration": 4,
        "start_time": "2024-02-01T03:06:18.186Z"
      },
      {
        "duration": 26,
        "start_time": "2024-02-01T03:06:18.191Z"
      },
      {
        "duration": 14,
        "start_time": "2024-02-01T03:06:18.219Z"
      },
      {
        "duration": 21,
        "start_time": "2024-02-01T03:06:18.234Z"
      },
      {
        "duration": 24,
        "start_time": "2024-02-01T03:06:18.257Z"
      },
      {
        "duration": 32,
        "start_time": "2024-02-01T03:06:37.958Z"
      },
      {
        "duration": 2344,
        "start_time": "2024-02-01T03:09:27.837Z"
      },
      {
        "duration": 2295,
        "start_time": "2024-02-01T03:09:30.183Z"
      },
      {
        "duration": 2292,
        "start_time": "2024-02-01T03:09:32.480Z"
      },
      {
        "duration": 4,
        "start_time": "2024-02-01T03:09:34.775Z"
      },
      {
        "duration": 62,
        "start_time": "2024-02-01T03:09:34.780Z"
      },
      {
        "duration": 12,
        "start_time": "2024-02-01T03:09:34.843Z"
      },
      {
        "duration": 13,
        "start_time": "2024-02-01T03:09:34.856Z"
      },
      {
        "duration": 9,
        "start_time": "2024-02-01T03:09:34.871Z"
      },
      {
        "duration": 18,
        "start_time": "2024-02-01T03:09:34.882Z"
      },
      {
        "duration": 22,
        "start_time": "2024-02-01T03:09:34.902Z"
      },
      {
        "duration": 42,
        "start_time": "2024-02-01T03:09:34.926Z"
      },
      {
        "duration": 17,
        "start_time": "2024-02-01T03:09:34.969Z"
      },
      {
        "duration": 916,
        "start_time": "2024-02-01T03:09:34.987Z"
      },
      {
        "duration": 126,
        "start_time": "2024-02-01T03:09:35.904Z"
      },
      {
        "duration": 7,
        "start_time": "2024-02-01T03:09:36.031Z"
      },
      {
        "duration": 105,
        "start_time": "2024-02-01T03:09:36.039Z"
      },
      {
        "duration": 10,
        "start_time": "2024-02-01T03:09:36.151Z"
      },
      {
        "duration": 176,
        "start_time": "2024-02-01T03:09:36.162Z"
      },
      {
        "duration": 13,
        "start_time": "2024-02-01T03:09:36.339Z"
      },
      {
        "duration": 112,
        "start_time": "2024-02-01T03:09:36.354Z"
      },
      {
        "duration": 120,
        "start_time": "2024-02-01T03:09:36.467Z"
      },
      {
        "duration": 10,
        "start_time": "2024-02-01T03:09:36.589Z"
      },
      {
        "duration": 26,
        "start_time": "2024-02-01T03:09:36.600Z"
      },
      {
        "duration": 11,
        "start_time": "2024-02-01T03:09:36.627Z"
      },
      {
        "duration": 17,
        "start_time": "2024-02-01T03:09:36.639Z"
      },
      {
        "duration": 11,
        "start_time": "2024-02-01T03:09:36.658Z"
      },
      {
        "duration": 25,
        "start_time": "2024-02-01T03:09:36.671Z"
      },
      {
        "duration": 15,
        "start_time": "2024-02-01T03:09:36.699Z"
      },
      {
        "duration": 18,
        "start_time": "2024-02-01T03:09:44.073Z"
      },
      {
        "duration": 12,
        "start_time": "2024-02-01T03:13:46.718Z"
      },
      {
        "duration": 14,
        "start_time": "2024-02-01T03:14:10.400Z"
      },
      {
        "duration": 2280,
        "start_time": "2024-02-01T03:14:29.884Z"
      },
      {
        "duration": 2308,
        "start_time": "2024-02-01T03:14:32.166Z"
      },
      {
        "duration": 2282,
        "start_time": "2024-02-01T03:14:34.477Z"
      },
      {
        "duration": 5,
        "start_time": "2024-02-01T03:14:36.761Z"
      },
      {
        "duration": 66,
        "start_time": "2024-02-01T03:14:36.769Z"
      },
      {
        "duration": 11,
        "start_time": "2024-02-01T03:14:36.836Z"
      },
      {
        "duration": 14,
        "start_time": "2024-02-01T03:14:36.848Z"
      },
      {
        "duration": 14,
        "start_time": "2024-02-01T03:14:36.863Z"
      },
      {
        "duration": 12,
        "start_time": "2024-02-01T03:14:36.878Z"
      },
      {
        "duration": 24,
        "start_time": "2024-02-01T03:14:36.891Z"
      },
      {
        "duration": 54,
        "start_time": "2024-02-01T03:14:36.916Z"
      },
      {
        "duration": 18,
        "start_time": "2024-02-01T03:14:36.971Z"
      },
      {
        "duration": 924,
        "start_time": "2024-02-01T03:14:36.991Z"
      },
      {
        "duration": 129,
        "start_time": "2024-02-01T03:14:37.918Z"
      },
      {
        "duration": 8,
        "start_time": "2024-02-01T03:14:38.049Z"
      },
      {
        "duration": 106,
        "start_time": "2024-02-01T03:14:38.059Z"
      },
      {
        "duration": 11,
        "start_time": "2024-02-01T03:14:38.167Z"
      },
      {
        "duration": 117,
        "start_time": "2024-02-01T03:14:38.179Z"
      },
      {
        "duration": 6,
        "start_time": "2024-02-01T03:14:38.298Z"
      },
      {
        "duration": 116,
        "start_time": "2024-02-01T03:14:38.306Z"
      },
      {
        "duration": 131,
        "start_time": "2024-02-01T03:14:38.423Z"
      },
      {
        "duration": 12,
        "start_time": "2024-02-01T03:14:38.556Z"
      },
      {
        "duration": 23,
        "start_time": "2024-02-01T03:14:38.569Z"
      },
      {
        "duration": 4,
        "start_time": "2024-02-01T03:14:38.593Z"
      },
      {
        "duration": 18,
        "start_time": "2024-02-01T03:14:38.599Z"
      },
      {
        "duration": 12,
        "start_time": "2024-02-01T03:14:41.844Z"
      },
      {
        "duration": 6,
        "start_time": "2024-02-01T03:14:55.946Z"
      },
      {
        "duration": 7,
        "start_time": "2024-02-01T03:15:04.396Z"
      },
      {
        "duration": 14,
        "start_time": "2024-02-01T03:15:06.671Z"
      },
      {
        "duration": 11,
        "start_time": "2024-02-01T03:15:33.510Z"
      },
      {
        "duration": 6,
        "start_time": "2024-02-01T03:17:41.887Z"
      },
      {
        "duration": 7,
        "start_time": "2024-02-01T03:18:07.656Z"
      },
      {
        "duration": 21,
        "start_time": "2024-02-01T03:18:38.429Z"
      },
      {
        "duration": 12,
        "start_time": "2024-02-01T03:18:39.675Z"
      },
      {
        "duration": 11,
        "start_time": "2024-02-01T03:18:49.724Z"
      },
      {
        "duration": 24,
        "start_time": "2024-02-01T03:18:58.031Z"
      },
      {
        "duration": 15,
        "start_time": "2024-02-01T03:19:35.739Z"
      },
      {
        "duration": 28,
        "start_time": "2024-02-01T03:20:00.973Z"
      },
      {
        "duration": 12,
        "start_time": "2024-02-01T03:20:07.643Z"
      },
      {
        "duration": 13,
        "start_time": "2024-02-01T03:20:19.886Z"
      },
      {
        "duration": 2277,
        "start_time": "2024-02-01T03:20:27.107Z"
      },
      {
        "duration": 2286,
        "start_time": "2024-02-01T03:20:29.386Z"
      },
      {
        "duration": 2219,
        "start_time": "2024-02-01T03:20:31.674Z"
      },
      {
        "duration": 5,
        "start_time": "2024-02-01T03:20:33.895Z"
      },
      {
        "duration": 58,
        "start_time": "2024-02-01T03:20:33.902Z"
      },
      {
        "duration": 12,
        "start_time": "2024-02-01T03:20:33.962Z"
      },
      {
        "duration": 13,
        "start_time": "2024-02-01T03:20:33.975Z"
      },
      {
        "duration": 20,
        "start_time": "2024-02-01T03:20:33.990Z"
      },
      {
        "duration": 10,
        "start_time": "2024-02-01T03:20:34.012Z"
      },
      {
        "duration": 53,
        "start_time": "2024-02-01T03:20:34.025Z"
      },
      {
        "duration": 30,
        "start_time": "2024-02-01T03:20:34.080Z"
      },
      {
        "duration": 18,
        "start_time": "2024-02-01T03:20:34.111Z"
      },
      {
        "duration": 896,
        "start_time": "2024-02-01T03:20:34.131Z"
      },
      {
        "duration": 145,
        "start_time": "2024-02-01T03:20:35.032Z"
      },
      {
        "duration": 7,
        "start_time": "2024-02-01T03:20:35.179Z"
      },
      {
        "duration": 120,
        "start_time": "2024-02-01T03:20:35.188Z"
      },
      {
        "duration": 10,
        "start_time": "2024-02-01T03:20:35.309Z"
      },
      {
        "duration": 108,
        "start_time": "2024-02-01T03:20:35.320Z"
      },
      {
        "duration": 6,
        "start_time": "2024-02-01T03:20:35.430Z"
      },
      {
        "duration": 120,
        "start_time": "2024-02-01T03:20:35.437Z"
      },
      {
        "duration": 118,
        "start_time": "2024-02-01T03:20:35.558Z"
      },
      {
        "duration": 10,
        "start_time": "2024-02-01T03:20:35.678Z"
      },
      {
        "duration": 19,
        "start_time": "2024-02-01T03:20:35.689Z"
      },
      {
        "duration": 5,
        "start_time": "2024-02-01T03:20:35.709Z"
      },
      {
        "duration": 18,
        "start_time": "2024-02-01T03:20:35.716Z"
      },
      {
        "duration": 20,
        "start_time": "2024-02-01T03:20:35.735Z"
      },
      {
        "duration": 21,
        "start_time": "2024-02-01T03:20:35.757Z"
      },
      {
        "duration": 13,
        "start_time": "2024-02-01T03:20:35.781Z"
      },
      {
        "duration": 33,
        "start_time": "2024-02-01T03:20:35.796Z"
      },
      {
        "duration": 27,
        "start_time": "2024-02-01T03:20:35.831Z"
      },
      {
        "duration": 18,
        "start_time": "2024-02-01T03:20:49.228Z"
      },
      {
        "duration": 23,
        "start_time": "2024-02-01T03:21:47.695Z"
      },
      {
        "duration": 14,
        "start_time": "2024-02-01T03:23:50.758Z"
      },
      {
        "duration": 10,
        "start_time": "2024-02-01T03:28:21.814Z"
      },
      {
        "duration": 7,
        "start_time": "2024-02-01T03:29:49.168Z"
      },
      {
        "duration": 9,
        "start_time": "2024-02-01T03:32:03.031Z"
      },
      {
        "duration": 6,
        "start_time": "2024-02-01T03:32:03.333Z"
      },
      {
        "duration": 13,
        "start_time": "2024-02-01T03:32:03.839Z"
      },
      {
        "duration": 21,
        "start_time": "2024-02-01T03:32:05.777Z"
      },
      {
        "duration": 22,
        "start_time": "2024-02-01T03:32:06.173Z"
      },
      {
        "duration": 2,
        "start_time": "2024-02-01T03:33:56.042Z"
      },
      {
        "duration": 2,
        "start_time": "2024-02-01T03:34:37.233Z"
      },
      {
        "duration": 22,
        "start_time": "2024-02-01T03:35:03.680Z"
      },
      {
        "duration": 2314,
        "start_time": "2024-02-01T03:35:45.523Z"
      },
      {
        "duration": 2352,
        "start_time": "2024-02-01T03:35:47.839Z"
      },
      {
        "duration": 2224,
        "start_time": "2024-02-01T03:35:50.193Z"
      },
      {
        "duration": 6,
        "start_time": "2024-02-01T03:35:52.420Z"
      },
      {
        "duration": 75,
        "start_time": "2024-02-01T03:35:52.429Z"
      },
      {
        "duration": 11,
        "start_time": "2024-02-01T03:35:52.506Z"
      },
      {
        "duration": 14,
        "start_time": "2024-02-01T03:35:52.518Z"
      },
      {
        "duration": 11,
        "start_time": "2024-02-01T03:35:52.533Z"
      },
      {
        "duration": 15,
        "start_time": "2024-02-01T03:35:52.546Z"
      },
      {
        "duration": 32,
        "start_time": "2024-02-01T03:35:52.563Z"
      },
      {
        "duration": 26,
        "start_time": "2024-02-01T03:35:52.597Z"
      },
      {
        "duration": 46,
        "start_time": "2024-02-01T03:35:52.625Z"
      },
      {
        "duration": 786,
        "start_time": "2024-02-01T03:35:52.673Z"
      },
      {
        "duration": 250,
        "start_time": "2024-02-01T03:35:53.462Z"
      },
      {
        "duration": 6,
        "start_time": "2024-02-01T03:35:53.713Z"
      },
      {
        "duration": 115,
        "start_time": "2024-02-01T03:35:53.721Z"
      },
      {
        "duration": 11,
        "start_time": "2024-02-01T03:35:53.837Z"
      },
      {
        "duration": 93,
        "start_time": "2024-02-01T03:35:53.849Z"
      },
      {
        "duration": 12,
        "start_time": "2024-02-01T03:35:53.944Z"
      },
      {
        "duration": 127,
        "start_time": "2024-02-01T03:35:53.957Z"
      },
      {
        "duration": 125,
        "start_time": "2024-02-01T03:35:54.086Z"
      },
      {
        "duration": 12,
        "start_time": "2024-02-01T03:35:54.212Z"
      },
      {
        "duration": 33,
        "start_time": "2024-02-01T03:35:54.226Z"
      },
      {
        "duration": 3,
        "start_time": "2024-02-01T03:35:54.261Z"
      },
      {
        "duration": 15,
        "start_time": "2024-02-01T03:35:54.265Z"
      },
      {
        "duration": 25,
        "start_time": "2024-02-01T03:35:54.282Z"
      },
      {
        "duration": 20,
        "start_time": "2024-02-01T03:35:54.309Z"
      },
      {
        "duration": 21,
        "start_time": "2024-02-01T03:35:54.330Z"
      },
      {
        "duration": 21,
        "start_time": "2024-02-01T03:35:54.352Z"
      },
      {
        "duration": 20,
        "start_time": "2024-02-01T03:35:54.374Z"
      },
      {
        "duration": 148,
        "start_time": "2024-02-01T03:36:12.905Z"
      },
      {
        "duration": 3,
        "start_time": "2024-02-01T03:36:15.752Z"
      },
      {
        "duration": 267,
        "start_time": "2024-02-01T03:36:24.057Z"
      },
      {
        "duration": 42689,
        "start_time": "2024-02-01T03:37:04.385Z"
      },
      {
        "duration": 18,
        "start_time": "2024-02-01T03:41:07.976Z"
      },
      {
        "duration": 33,
        "start_time": "2024-02-01T03:41:16.100Z"
      },
      {
        "duration": 26,
        "start_time": "2024-02-01T03:41:37.383Z"
      },
      {
        "duration": 110,
        "start_time": "2024-02-01T03:41:43.954Z"
      },
      {
        "duration": 10,
        "start_time": "2024-02-01T03:42:23.303Z"
      },
      {
        "duration": 11,
        "start_time": "2024-02-01T03:42:45.180Z"
      },
      {
        "duration": 649,
        "start_time": "2024-02-01T03:43:15.262Z"
      },
      {
        "duration": 658,
        "start_time": "2024-02-01T03:43:42.047Z"
      },
      {
        "duration": 53211,
        "start_time": "2024-02-01T03:44:22.782Z"
      },
      {
        "duration": 665,
        "start_time": "2024-02-01T03:45:53.893Z"
      },
      {
        "duration": 9,
        "start_time": "2024-02-01T03:46:18.330Z"
      },
      {
        "duration": 10,
        "start_time": "2024-02-01T03:46:22.842Z"
      },
      {
        "duration": 116,
        "start_time": "2024-02-01T03:46:25.236Z"
      },
      {
        "duration": 214,
        "start_time": "2024-02-01T03:46:30.468Z"
      },
      {
        "duration": 378,
        "start_time": "2024-02-01T03:46:33.070Z"
      },
      {
        "duration": 4,
        "start_time": "2024-02-01T03:48:07.320Z"
      },
      {
        "duration": 4,
        "start_time": "2024-02-01T03:49:23.019Z"
      },
      {
        "duration": 1157,
        "start_time": "2024-02-01T03:51:24.913Z"
      },
      {
        "duration": 1175,
        "start_time": "2024-02-01T03:52:04.491Z"
      },
      {
        "duration": 167,
        "start_time": "2024-02-01T03:52:29.307Z"
      },
      {
        "duration": 9,
        "start_time": "2024-02-01T03:54:58.495Z"
      },
      {
        "duration": 4,
        "start_time": "2024-02-01T03:55:35.045Z"
      },
      {
        "duration": 16,
        "start_time": "2024-02-01T03:56:15.708Z"
      },
      {
        "duration": 9,
        "start_time": "2024-02-01T03:56:20.953Z"
      },
      {
        "duration": 67,
        "start_time": "2024-02-01T03:56:31.187Z"
      },
      {
        "duration": 236,
        "start_time": "2024-02-01T03:56:39.116Z"
      },
      {
        "duration": 201,
        "start_time": "2024-02-01T03:56:50.698Z"
      },
      {
        "duration": 358,
        "start_time": "2024-02-01T03:57:41.993Z"
      },
      {
        "duration": 44628,
        "start_time": "2024-02-01T03:58:50.608Z"
      },
      {
        "duration": 2296,
        "start_time": "2024-02-01T04:01:08.018Z"
      },
      {
        "duration": 2206,
        "start_time": "2024-02-01T04:01:10.316Z"
      },
      {
        "duration": 1221,
        "start_time": "2024-02-01T04:01:12.524Z"
      },
      {
        "duration": 58,
        "start_time": "2024-02-01T04:01:13.747Z"
      },
      {
        "duration": 12,
        "start_time": "2024-02-01T04:01:13.806Z"
      },
      {
        "duration": 66,
        "start_time": "2024-02-01T04:01:13.819Z"
      },
      {
        "duration": 10,
        "start_time": "2024-02-01T04:01:13.887Z"
      },
      {
        "duration": 16,
        "start_time": "2024-02-01T04:01:13.899Z"
      },
      {
        "duration": 37,
        "start_time": "2024-02-01T04:01:13.917Z"
      },
      {
        "duration": 28,
        "start_time": "2024-02-01T04:01:13.956Z"
      },
      {
        "duration": 17,
        "start_time": "2024-02-01T04:01:13.985Z"
      },
      {
        "duration": 842,
        "start_time": "2024-02-01T04:01:14.004Z"
      },
      {
        "duration": 123,
        "start_time": "2024-02-01T04:01:14.851Z"
      },
      {
        "duration": 9,
        "start_time": "2024-02-01T04:01:14.976Z"
      },
      {
        "duration": 175,
        "start_time": "2024-02-01T04:01:14.987Z"
      },
      {
        "duration": 22,
        "start_time": "2024-02-01T04:01:15.164Z"
      },
      {
        "duration": 114,
        "start_time": "2024-02-01T04:01:15.189Z"
      },
      {
        "duration": 6,
        "start_time": "2024-02-01T04:01:15.305Z"
      },
      {
        "duration": 117,
        "start_time": "2024-02-01T04:01:15.312Z"
      },
      {
        "duration": 123,
        "start_time": "2024-02-01T04:01:15.431Z"
      },
      {
        "duration": 13,
        "start_time": "2024-02-01T04:01:15.556Z"
      },
      {
        "duration": 23,
        "start_time": "2024-02-01T04:01:15.571Z"
      },
      {
        "duration": 3,
        "start_time": "2024-02-01T04:01:15.595Z"
      },
      {
        "duration": 60,
        "start_time": "2024-02-01T04:01:15.599Z"
      },
      {
        "duration": 32,
        "start_time": "2024-02-01T04:01:15.661Z"
      },
      {
        "duration": 42,
        "start_time": "2024-02-01T04:01:15.695Z"
      },
      {
        "duration": 22,
        "start_time": "2024-02-01T04:01:15.738Z"
      },
      {
        "duration": 22,
        "start_time": "2024-02-01T04:01:15.763Z"
      },
      {
        "duration": 23,
        "start_time": "2024-02-01T04:01:15.786Z"
      },
      {
        "duration": 50,
        "start_time": "2024-02-01T04:01:15.811Z"
      },
      {
        "duration": 4,
        "start_time": "2024-02-01T04:01:15.863Z"
      },
      {
        "duration": 120,
        "start_time": "2024-02-01T04:01:15.953Z"
      },
      {
        "duration": 401,
        "start_time": "2024-02-01T04:01:16.151Z"
      },
      {
        "duration": 43002,
        "start_time": "2024-02-01T04:01:16.554Z"
      },
      {
        "duration": 4,
        "start_time": "2024-02-01T04:01:59.558Z"
      },
      {
        "duration": 35,
        "start_time": "2024-02-01T04:01:59.564Z"
      },
      {
        "duration": 55,
        "start_time": "2024-02-01T04:01:59.601Z"
      },
      {
        "duration": 825,
        "start_time": "2024-02-01T04:01:59.658Z"
      },
      {
        "duration": 53133,
        "start_time": "2024-02-01T04:02:00.484Z"
      },
      {
        "duration": 4,
        "start_time": "2024-02-01T04:02:53.619Z"
      },
      {
        "duration": 11,
        "start_time": "2024-02-01T04:02:53.625Z"
      },
      {
        "duration": 32,
        "start_time": "2024-02-01T04:02:53.638Z"
      },
      {
        "duration": 397,
        "start_time": "2024-02-01T04:02:53.672Z"
      },
      {
        "duration": 44866,
        "start_time": "2024-02-01T04:02:54.070Z"
      },
      {
        "duration": 3,
        "start_time": "2024-02-01T04:03:38.938Z"
      },
      {
        "duration": 1169,
        "start_time": "2024-02-01T04:03:38.952Z"
      },
      {
        "duration": 158,
        "start_time": "2024-02-01T04:03:40.122Z"
      },
      {
        "duration": 7,
        "start_time": "2024-02-01T04:07:14.476Z"
      },
      {
        "duration": 1130,
        "start_time": "2024-02-01T04:07:53.645Z"
      },
      {
        "duration": 995,
        "start_time": "2024-02-01T04:09:03.116Z"
      },
      {
        "duration": 74,
        "start_time": "2024-02-01T04:09:09.493Z"
      },
      {
        "duration": 1116,
        "start_time": "2024-02-01T04:09:14.013Z"
      },
      {
        "duration": 1135,
        "start_time": "2024-02-01T04:09:24.603Z"
      },
      {
        "duration": 71,
        "start_time": "2024-02-01T04:09:31.659Z"
      },
      {
        "duration": 1140,
        "start_time": "2024-02-01T04:09:37.104Z"
      },
      {
        "duration": 1132,
        "start_time": "2024-02-01T04:09:43.169Z"
      },
      {
        "duration": 53584,
        "start_time": "2024-02-01T04:09:57.637Z"
      },
      {
        "duration": 1167,
        "start_time": "2024-02-01T04:12:06.498Z"
      },
      {
        "duration": 2314,
        "start_time": "2024-02-01T04:12:17.815Z"
      },
      {
        "duration": 2275,
        "start_time": "2024-02-01T04:12:20.132Z"
      },
      {
        "duration": 4,
        "start_time": "2024-02-01T04:12:22.409Z"
      },
      {
        "duration": 83,
        "start_time": "2024-02-01T04:12:22.415Z"
      },
      {
        "duration": 12,
        "start_time": "2024-02-01T04:12:22.500Z"
      },
      {
        "duration": 43,
        "start_time": "2024-02-01T04:12:22.513Z"
      },
      {
        "duration": 18,
        "start_time": "2024-02-01T04:12:22.557Z"
      },
      {
        "duration": 10,
        "start_time": "2024-02-01T04:12:22.576Z"
      },
      {
        "duration": 27,
        "start_time": "2024-02-01T04:12:22.588Z"
      },
      {
        "duration": 36,
        "start_time": "2024-02-01T04:12:22.617Z"
      },
      {
        "duration": 26,
        "start_time": "2024-02-01T04:12:22.655Z"
      },
      {
        "duration": 934,
        "start_time": "2024-02-01T04:12:22.683Z"
      },
      {
        "duration": 133,
        "start_time": "2024-02-01T04:12:23.619Z"
      },
      {
        "duration": 6,
        "start_time": "2024-02-01T04:12:23.754Z"
      },
      {
        "duration": 107,
        "start_time": "2024-02-01T04:12:23.762Z"
      },
      {
        "duration": 11,
        "start_time": "2024-02-01T04:12:23.871Z"
      },
      {
        "duration": 106,
        "start_time": "2024-02-01T04:12:23.884Z"
      },
      {
        "duration": 6,
        "start_time": "2024-02-01T04:12:23.992Z"
      },
      {
        "duration": 123,
        "start_time": "2024-02-01T04:12:23.999Z"
      },
      {
        "duration": 116,
        "start_time": "2024-02-01T04:12:24.124Z"
      },
      {
        "duration": 13,
        "start_time": "2024-02-01T04:12:24.241Z"
      },
      {
        "duration": 17,
        "start_time": "2024-02-01T04:12:24.256Z"
      },
      {
        "duration": 2,
        "start_time": "2024-02-01T04:12:24.275Z"
      },
      {
        "duration": 18,
        "start_time": "2024-02-01T04:12:24.279Z"
      },
      {
        "duration": 7,
        "start_time": "2024-02-01T04:12:24.298Z"
      },
      {
        "duration": 33,
        "start_time": "2024-02-01T04:12:24.306Z"
      },
      {
        "duration": 47,
        "start_time": "2024-02-01T04:12:24.341Z"
      },
      {
        "duration": 20,
        "start_time": "2024-02-01T04:12:24.390Z"
      },
      {
        "duration": 31,
        "start_time": "2024-02-01T04:12:24.411Z"
      },
      {
        "duration": 39,
        "start_time": "2024-02-01T04:12:24.443Z"
      },
      {
        "duration": 69,
        "start_time": "2024-02-01T04:12:24.484Z"
      },
      {
        "duration": 8,
        "start_time": "2024-02-01T04:12:24.554Z"
      },
      {
        "duration": 467,
        "start_time": "2024-02-01T04:12:24.564Z"
      },
      {
        "duration": 43023,
        "start_time": "2024-02-01T04:12:25.033Z"
      },
      {
        "duration": 4,
        "start_time": "2024-02-01T04:13:08.058Z"
      },
      {
        "duration": 32,
        "start_time": "2024-02-01T04:13:08.063Z"
      },
      {
        "duration": 61,
        "start_time": "2024-02-01T04:13:08.097Z"
      },
      {
        "duration": 859,
        "start_time": "2024-02-01T04:13:08.161Z"
      },
      {
        "duration": 53451,
        "start_time": "2024-02-01T04:13:09.022Z"
      },
      {
        "duration": 4,
        "start_time": "2024-02-01T04:14:02.475Z"
      },
      {
        "duration": 30,
        "start_time": "2024-02-01T04:14:02.482Z"
      },
      {
        "duration": 47,
        "start_time": "2024-02-01T04:14:02.514Z"
      },
      {
        "duration": 391,
        "start_time": "2024-02-01T04:14:02.563Z"
      },
      {
        "duration": 45020,
        "start_time": "2024-02-01T04:14:02.956Z"
      },
      {
        "duration": 2,
        "start_time": "2024-02-01T04:14:47.978Z"
      },
      {
        "duration": 1201,
        "start_time": "2024-02-01T04:14:47.982Z"
      },
      {
        "duration": 158,
        "start_time": "2024-02-01T04:14:49.185Z"
      },
      {
        "duration": 30,
        "start_time": "2024-02-01T04:16:57.294Z"
      },
      {
        "duration": 1179,
        "start_time": "2024-02-01T04:17:11.490Z"
      },
      {
        "duration": 42,
        "start_time": "2024-02-01T04:18:00.621Z"
      },
      {
        "duration": 2284,
        "start_time": "2024-02-01T04:18:31.765Z"
      },
      {
        "duration": 2333,
        "start_time": "2024-02-01T04:18:34.051Z"
      },
      {
        "duration": 1290,
        "start_time": "2024-02-01T04:18:36.386Z"
      },
      {
        "duration": 54,
        "start_time": "2024-02-01T04:18:37.678Z"
      },
      {
        "duration": 13,
        "start_time": "2024-02-01T04:18:37.734Z"
      },
      {
        "duration": 67,
        "start_time": "2024-02-01T04:18:37.748Z"
      },
      {
        "duration": 11,
        "start_time": "2024-02-01T04:18:37.817Z"
      },
      {
        "duration": 27,
        "start_time": "2024-02-01T04:18:37.829Z"
      },
      {
        "duration": 24,
        "start_time": "2024-02-01T04:18:37.858Z"
      },
      {
        "duration": 23,
        "start_time": "2024-02-01T04:18:37.884Z"
      },
      {
        "duration": 17,
        "start_time": "2024-02-01T04:18:37.908Z"
      },
      {
        "duration": 927,
        "start_time": "2024-02-01T04:18:37.927Z"
      },
      {
        "duration": 152,
        "start_time": "2024-02-01T04:18:38.856Z"
      },
      {
        "duration": 7,
        "start_time": "2024-02-01T04:18:39.010Z"
      },
      {
        "duration": 107,
        "start_time": "2024-02-01T04:18:39.018Z"
      },
      {
        "duration": 10,
        "start_time": "2024-02-01T04:18:39.127Z"
      },
      {
        "duration": 103,
        "start_time": "2024-02-01T04:18:39.138Z"
      },
      {
        "duration": 8,
        "start_time": "2024-02-01T04:18:39.251Z"
      },
      {
        "duration": 126,
        "start_time": "2024-02-01T04:18:39.260Z"
      },
      {
        "duration": 128,
        "start_time": "2024-02-01T04:18:39.388Z"
      },
      {
        "duration": 15,
        "start_time": "2024-02-01T04:18:39.517Z"
      },
      {
        "duration": 37,
        "start_time": "2024-02-01T04:18:39.534Z"
      },
      {
        "duration": 2,
        "start_time": "2024-02-01T04:18:39.573Z"
      },
      {
        "duration": 24,
        "start_time": "2024-02-01T04:18:39.577Z"
      },
      {
        "duration": 14,
        "start_time": "2024-02-01T04:18:39.603Z"
      },
      {
        "duration": 23,
        "start_time": "2024-02-01T04:18:39.619Z"
      },
      {
        "duration": 28,
        "start_time": "2024-02-01T04:18:39.644Z"
      },
      {
        "duration": 23,
        "start_time": "2024-02-01T04:18:39.675Z"
      },
      {
        "duration": 23,
        "start_time": "2024-02-01T04:18:39.699Z"
      },
      {
        "duration": 47,
        "start_time": "2024-02-01T04:18:39.723Z"
      },
      {
        "duration": 81,
        "start_time": "2024-02-01T04:18:39.773Z"
      },
      {
        "duration": 101,
        "start_time": "2024-02-01T04:18:39.855Z"
      },
      {
        "duration": 352,
        "start_time": "2024-02-01T04:18:40.051Z"
      },
      {
        "duration": 44249,
        "start_time": "2024-02-01T04:18:40.405Z"
      },
      {
        "duration": 5,
        "start_time": "2024-02-01T04:19:24.656Z"
      },
      {
        "duration": 35,
        "start_time": "2024-02-01T04:19:24.662Z"
      },
      {
        "duration": 62,
        "start_time": "2024-02-01T04:19:24.699Z"
      },
      {
        "duration": 853,
        "start_time": "2024-02-01T04:19:24.763Z"
      },
      {
        "duration": 54828,
        "start_time": "2024-02-01T04:19:25.618Z"
      },
      {
        "duration": 7,
        "start_time": "2024-02-01T04:20:20.448Z"
      },
      {
        "duration": 22,
        "start_time": "2024-02-01T04:20:20.456Z"
      },
      {
        "duration": 182,
        "start_time": "2024-02-01T04:20:20.479Z"
      },
      {
        "duration": 354,
        "start_time": "2024-02-01T04:20:20.663Z"
      },
      {
        "duration": 46177,
        "start_time": "2024-02-01T04:20:21.019Z"
      },
      {
        "duration": 3,
        "start_time": "2024-02-01T04:21:07.197Z"
      },
      {
        "duration": 1209,
        "start_time": "2024-02-01T04:21:07.202Z"
      },
      {
        "duration": 164,
        "start_time": "2024-02-01T04:21:08.413Z"
      },
      {
        "duration": 218195,
        "start_time": "2024-02-01T04:22:40.327Z"
      },
      {
        "duration": 122,
        "start_time": "2024-02-01T04:27:41.078Z"
      },
      {
        "duration": 1153,
        "start_time": "2024-02-01T04:27:59.903Z"
      },
      {
        "duration": 1129,
        "start_time": "2024-02-01T04:28:04.480Z"
      },
      {
        "duration": 1127,
        "start_time": "2024-02-01T04:28:11.982Z"
      },
      {
        "duration": 1097,
        "start_time": "2024-02-01T04:28:17.644Z"
      },
      {
        "duration": 1054,
        "start_time": "2024-02-01T04:28:30.979Z"
      },
      {
        "duration": 762,
        "start_time": "2024-02-01T04:28:38.016Z"
      },
      {
        "duration": 571,
        "start_time": "2024-02-01T04:28:43.198Z"
      },
      {
        "duration": 766,
        "start_time": "2024-02-01T04:29:14.970Z"
      },
      {
        "duration": 1167,
        "start_time": "2024-02-01T04:29:31.115Z"
      },
      {
        "duration": 124,
        "start_time": "2024-02-01T04:30:11.077Z"
      },
      {
        "duration": 11,
        "start_time": "2024-02-01T04:30:23.899Z"
      },
      {
        "duration": 130668,
        "start_time": "2024-02-01T04:33:07.885Z"
      },
      {
        "duration": 110738,
        "start_time": "2024-02-01T04:35:46.550Z"
      },
      {
        "duration": 1154,
        "start_time": "2024-02-01T04:38:00.180Z"
      },
      {
        "duration": 1181,
        "start_time": "2024-02-01T04:38:10.087Z"
      },
      {
        "duration": 1197,
        "start_time": "2024-02-01T04:38:14.650Z"
      },
      {
        "duration": 1155,
        "start_time": "2024-02-01T04:38:18.665Z"
      },
      {
        "duration": 1160,
        "start_time": "2024-02-01T04:38:22.703Z"
      },
      {
        "duration": 1157,
        "start_time": "2024-02-01T04:38:27.468Z"
      },
      {
        "duration": 70,
        "start_time": "2024-02-01T04:38:35.603Z"
      },
      {
        "duration": 1109,
        "start_time": "2024-02-01T04:38:38.955Z"
      },
      {
        "duration": 1135,
        "start_time": "2024-02-01T04:38:44.394Z"
      },
      {
        "duration": 1166,
        "start_time": "2024-02-01T04:38:49.250Z"
      },
      {
        "duration": 82205,
        "start_time": "2024-02-01T04:40:13.002Z"
      },
      {
        "duration": 39050,
        "start_time": "2024-02-01T04:42:38.710Z"
      },
      {
        "duration": 28810,
        "start_time": "2024-02-01T04:44:15.498Z"
      },
      {
        "duration": 46529,
        "start_time": "2024-02-01T04:45:00.163Z"
      },
      {
        "duration": 1198,
        "start_time": "2024-02-01T04:46:27.573Z"
      },
      {
        "duration": 1170,
        "start_time": "2024-02-01T04:46:33.075Z"
      },
      {
        "duration": 9759,
        "start_time": "2024-02-01T04:50:00.277Z"
      },
      {
        "duration": 1230,
        "start_time": "2024-02-01T04:50:56.788Z"
      },
      {
        "duration": 1262,
        "start_time": "2024-02-01T04:51:06.717Z"
      },
      {
        "duration": 1235,
        "start_time": "2024-02-01T04:51:29.618Z"
      },
      {
        "duration": 26,
        "start_time": "2024-02-01T04:52:56.703Z"
      },
      {
        "duration": 21,
        "start_time": "2024-02-01T04:53:04.192Z"
      },
      {
        "duration": 2320,
        "start_time": "2024-02-01T04:53:10.363Z"
      },
      {
        "duration": 2342,
        "start_time": "2024-02-01T04:53:12.685Z"
      },
      {
        "duration": 1246,
        "start_time": "2024-02-01T04:53:15.029Z"
      },
      {
        "duration": 55,
        "start_time": "2024-02-01T04:53:16.276Z"
      },
      {
        "duration": 11,
        "start_time": "2024-02-01T04:53:16.333Z"
      },
      {
        "duration": 47,
        "start_time": "2024-02-01T04:53:16.346Z"
      },
      {
        "duration": 10,
        "start_time": "2024-02-01T04:53:16.395Z"
      },
      {
        "duration": 14,
        "start_time": "2024-02-01T04:53:16.407Z"
      },
      {
        "duration": 43,
        "start_time": "2024-02-01T04:53:16.422Z"
      },
      {
        "duration": 22,
        "start_time": "2024-02-01T04:53:16.467Z"
      },
      {
        "duration": 17,
        "start_time": "2024-02-01T04:53:16.491Z"
      },
      {
        "duration": 949,
        "start_time": "2024-02-01T04:53:16.509Z"
      },
      {
        "duration": 142,
        "start_time": "2024-02-01T04:53:17.459Z"
      },
      {
        "duration": 7,
        "start_time": "2024-02-01T04:53:17.603Z"
      },
      {
        "duration": 112,
        "start_time": "2024-02-01T04:53:17.611Z"
      },
      {
        "duration": 11,
        "start_time": "2024-02-01T04:53:17.724Z"
      },
      {
        "duration": 126,
        "start_time": "2024-02-01T04:53:17.736Z"
      },
      {
        "duration": 7,
        "start_time": "2024-02-01T04:53:17.863Z"
      },
      {
        "duration": 139,
        "start_time": "2024-02-01T04:53:17.871Z"
      },
      {
        "duration": 136,
        "start_time": "2024-02-01T04:53:18.012Z"
      },
      {
        "duration": 12,
        "start_time": "2024-02-01T04:53:18.149Z"
      },
      {
        "duration": 49,
        "start_time": "2024-02-01T04:53:18.163Z"
      },
      {
        "duration": 11,
        "start_time": "2024-02-01T04:53:18.214Z"
      },
      {
        "duration": 10,
        "start_time": "2024-02-01T04:53:18.226Z"
      },
      {
        "duration": 9,
        "start_time": "2024-02-01T04:53:18.237Z"
      },
      {
        "duration": 23,
        "start_time": "2024-02-01T04:53:18.248Z"
      },
      {
        "duration": 28,
        "start_time": "2024-02-01T04:53:18.272Z"
      },
      {
        "duration": 23,
        "start_time": "2024-02-01T04:53:18.302Z"
      },
      {
        "duration": 30,
        "start_time": "2024-02-01T04:53:18.326Z"
      },
      {
        "duration": 100,
        "start_time": "2024-02-01T04:53:18.358Z"
      },
      {
        "duration": 5,
        "start_time": "2024-02-01T04:53:18.460Z"
      },
      {
        "duration": 96,
        "start_time": "2024-02-01T04:53:18.466Z"
      },
      {
        "duration": 469,
        "start_time": "2024-02-01T04:53:18.568Z"
      },
      {
        "duration": 43782,
        "start_time": "2024-02-01T04:53:19.039Z"
      },
      {
        "duration": 4,
        "start_time": "2024-02-01T04:54:02.823Z"
      },
      {
        "duration": 72,
        "start_time": "2024-02-01T04:54:02.829Z"
      },
      {
        "duration": 60,
        "start_time": "2024-02-01T04:54:02.903Z"
      },
      {
        "duration": 837,
        "start_time": "2024-02-01T04:54:02.965Z"
      },
      {
        "duration": 9849,
        "start_time": "2024-02-01T04:54:03.804Z"
      },
      {
        "duration": 38885,
        "start_time": "2024-02-01T04:54:13.655Z"
      },
      {
        "duration": 9,
        "start_time": "2024-02-01T04:54:52.544Z"
      },
      {
        "duration": 38,
        "start_time": "2024-02-01T04:54:52.554Z"
      },
      {
        "duration": 26,
        "start_time": "2024-02-01T04:54:52.594Z"
      },
      {
        "duration": 338,
        "start_time": "2024-02-01T04:54:52.621Z"
      },
      {
        "duration": 45882,
        "start_time": "2024-02-01T04:54:52.961Z"
      },
      {
        "duration": 7,
        "start_time": "2024-02-01T04:55:38.845Z"
      },
      {
        "duration": 1182,
        "start_time": "2024-02-01T04:55:38.854Z"
      },
      {
        "duration": 157,
        "start_time": "2024-02-01T04:55:40.037Z"
      },
      {
        "duration": 351,
        "start_time": "2024-02-01T05:01:09.714Z"
      },
      {
        "duration": 376,
        "start_time": "2024-02-01T05:01:12.386Z"
      },
      {
        "duration": 1163,
        "start_time": "2024-02-01T05:01:21.440Z"
      },
      {
        "duration": 366,
        "start_time": "2024-02-01T05:01:34.259Z"
      },
      {
        "duration": 4,
        "start_time": "2024-02-01T05:02:26.580Z"
      },
      {
        "duration": 10,
        "start_time": "2024-02-01T05:03:47.230Z"
      },
      {
        "duration": 50,
        "start_time": "2024-02-01T05:03:55.819Z"
      },
      {
        "duration": 494,
        "start_time": "2024-02-01T05:04:02.873Z"
      },
      {
        "duration": 318,
        "start_time": "2024-02-01T05:04:12.411Z"
      },
      {
        "duration": 967,
        "start_time": "2024-02-01T05:04:19.804Z"
      },
      {
        "duration": 80,
        "start_time": "2024-02-01T05:07:25.472Z"
      },
      {
        "duration": 27,
        "start_time": "2024-02-01T05:07:32.792Z"
      },
      {
        "duration": 1181,
        "start_time": "2024-02-01T05:07:41.202Z"
      },
      {
        "duration": 4,
        "start_time": "2024-02-01T05:08:18.504Z"
      },
      {
        "duration": 2271,
        "start_time": "2024-02-01T05:10:10.006Z"
      },
      {
        "duration": 2265,
        "start_time": "2024-02-01T05:10:12.279Z"
      },
      {
        "duration": 1280,
        "start_time": "2024-02-01T05:10:14.546Z"
      },
      {
        "duration": 57,
        "start_time": "2024-02-01T05:10:15.828Z"
      },
      {
        "duration": 12,
        "start_time": "2024-02-01T05:10:15.887Z"
      },
      {
        "duration": 60,
        "start_time": "2024-02-01T05:10:15.900Z"
      },
      {
        "duration": 11,
        "start_time": "2024-02-01T05:10:15.961Z"
      },
      {
        "duration": 18,
        "start_time": "2024-02-01T05:10:15.973Z"
      },
      {
        "duration": 23,
        "start_time": "2024-02-01T05:10:15.992Z"
      },
      {
        "duration": 45,
        "start_time": "2024-02-01T05:10:16.016Z"
      },
      {
        "duration": 18,
        "start_time": "2024-02-01T05:10:16.062Z"
      },
      {
        "duration": 858,
        "start_time": "2024-02-01T05:10:16.081Z"
      },
      {
        "duration": 130,
        "start_time": "2024-02-01T05:10:16.940Z"
      },
      {
        "duration": 7,
        "start_time": "2024-02-01T05:10:17.073Z"
      },
      {
        "duration": 105,
        "start_time": "2024-02-01T05:10:17.081Z"
      },
      {
        "duration": 11,
        "start_time": "2024-02-01T05:10:17.188Z"
      },
      {
        "duration": 104,
        "start_time": "2024-02-01T05:10:17.200Z"
      },
      {
        "duration": 6,
        "start_time": "2024-02-01T05:10:17.306Z"
      },
      {
        "duration": 127,
        "start_time": "2024-02-01T05:10:17.314Z"
      },
      {
        "duration": 123,
        "start_time": "2024-02-01T05:10:17.442Z"
      },
      {
        "duration": 12,
        "start_time": "2024-02-01T05:10:17.567Z"
      },
      {
        "duration": 19,
        "start_time": "2024-02-01T05:10:17.581Z"
      },
      {
        "duration": 2,
        "start_time": "2024-02-01T05:10:17.602Z"
      },
      {
        "duration": 25,
        "start_time": "2024-02-01T05:10:17.605Z"
      },
      {
        "duration": 6,
        "start_time": "2024-02-01T05:10:17.631Z"
      },
      {
        "duration": 25,
        "start_time": "2024-02-01T05:10:17.638Z"
      },
      {
        "duration": 22,
        "start_time": "2024-02-01T05:10:17.664Z"
      },
      {
        "duration": 22,
        "start_time": "2024-02-01T05:10:17.688Z"
      },
      {
        "duration": 45,
        "start_time": "2024-02-01T05:10:17.712Z"
      },
      {
        "duration": 104,
        "start_time": "2024-02-01T05:10:17.758Z"
      },
      {
        "duration": 89,
        "start_time": "2024-02-01T05:10:17.864Z"
      },
      {
        "duration": 102,
        "start_time": "2024-02-01T05:10:17.955Z"
      },
      {
        "duration": 431,
        "start_time": "2024-02-01T05:10:18.060Z"
      },
      {
        "duration": 43009,
        "start_time": "2024-02-01T05:10:18.493Z"
      },
      {
        "duration": 5,
        "start_time": "2024-02-01T05:11:01.504Z"
      },
      {
        "duration": 79,
        "start_time": "2024-02-01T05:11:01.510Z"
      },
      {
        "duration": 173,
        "start_time": "2024-02-01T05:11:01.591Z"
      },
      {
        "duration": 727,
        "start_time": "2024-02-01T05:11:01.851Z"
      },
      {
        "duration": 8332,
        "start_time": "2024-02-01T05:11:02.580Z"
      },
      {
        "duration": 32325,
        "start_time": "2024-02-01T05:11:10.913Z"
      },
      {
        "duration": 4,
        "start_time": "2024-02-01T05:11:43.242Z"
      },
      {
        "duration": 12,
        "start_time": "2024-02-01T05:11:43.251Z"
      },
      {
        "duration": 88,
        "start_time": "2024-02-01T05:11:43.265Z"
      },
      {
        "duration": 326,
        "start_time": "2024-02-01T05:11:43.354Z"
      },
      {
        "duration": 45431,
        "start_time": "2024-02-01T05:11:43.682Z"
      },
      {
        "duration": 3,
        "start_time": "2024-02-01T05:12:29.115Z"
      },
      {
        "duration": 984,
        "start_time": "2024-02-01T05:12:29.119Z"
      },
      {
        "duration": 158,
        "start_time": "2024-02-01T05:12:30.104Z"
      },
      {
        "duration": 96549,
        "start_time": "2024-02-01T05:15:34.310Z"
      },
      {
        "duration": 969,
        "start_time": "2024-02-01T05:18:15.783Z"
      },
      {
        "duration": 981,
        "start_time": "2024-02-01T05:18:24.703Z"
      },
      {
        "duration": 21814,
        "start_time": "2024-02-01T05:19:53.928Z"
      },
      {
        "duration": 20055,
        "start_time": "2024-02-01T05:21:46.515Z"
      },
      {
        "duration": 17935,
        "start_time": "2024-02-01T05:22:18.333Z"
      },
      {
        "duration": 18131,
        "start_time": "2024-02-01T05:22:57.158Z"
      },
      {
        "duration": 80,
        "start_time": "2024-02-01T05:24:35.481Z"
      },
      {
        "duration": 44286,
        "start_time": "2024-02-01T05:24:42.447Z"
      },
      {
        "duration": 941,
        "start_time": "2024-02-01T05:26:06.094Z"
      },
      {
        "duration": 26761,
        "start_time": "2024-02-01T05:26:28.068Z"
      },
      {
        "duration": 96366,
        "start_time": "2024-02-01T05:27:37.649Z"
      },
      {
        "duration": 98570,
        "start_time": "2024-02-01T05:29:14.017Z"
      },
      {
        "duration": 946,
        "start_time": "2024-02-01T05:33:16.498Z"
      },
      {
        "duration": 907,
        "start_time": "2024-02-01T05:33:23.177Z"
      },
      {
        "duration": 21637,
        "start_time": "2024-02-01T05:34:21.162Z"
      },
      {
        "duration": 919,
        "start_time": "2024-02-01T05:35:26.223Z"
      },
      {
        "duration": 963,
        "start_time": "2024-02-01T05:36:09.773Z"
      },
      {
        "duration": 957,
        "start_time": "2024-02-01T05:36:19.744Z"
      },
      {
        "duration": 2274,
        "start_time": "2024-02-01T05:36:33.968Z"
      },
      {
        "duration": 2240,
        "start_time": "2024-02-01T05:36:36.244Z"
      },
      {
        "duration": 1161,
        "start_time": "2024-02-01T05:36:38.486Z"
      },
      {
        "duration": 54,
        "start_time": "2024-02-01T05:36:39.649Z"
      },
      {
        "duration": 12,
        "start_time": "2024-02-01T05:36:39.704Z"
      },
      {
        "duration": 50,
        "start_time": "2024-02-01T05:36:39.718Z"
      },
      {
        "duration": 12,
        "start_time": "2024-02-01T05:36:39.770Z"
      },
      {
        "duration": 18,
        "start_time": "2024-02-01T05:36:39.783Z"
      },
      {
        "duration": 26,
        "start_time": "2024-02-01T05:36:39.802Z"
      },
      {
        "duration": 42,
        "start_time": "2024-02-01T05:36:39.831Z"
      },
      {
        "duration": 15,
        "start_time": "2024-02-01T05:36:39.874Z"
      },
      {
        "duration": 864,
        "start_time": "2024-02-01T05:36:39.891Z"
      },
      {
        "duration": 137,
        "start_time": "2024-02-01T05:36:40.756Z"
      },
      {
        "duration": 7,
        "start_time": "2024-02-01T05:36:40.894Z"
      },
      {
        "duration": 116,
        "start_time": "2024-02-01T05:36:40.902Z"
      },
      {
        "duration": 9,
        "start_time": "2024-02-01T05:36:41.020Z"
      },
      {
        "duration": 114,
        "start_time": "2024-02-01T05:36:41.030Z"
      },
      {
        "duration": 8,
        "start_time": "2024-02-01T05:36:41.146Z"
      },
      {
        "duration": 115,
        "start_time": "2024-02-01T05:36:41.156Z"
      },
      {
        "duration": 116,
        "start_time": "2024-02-01T05:36:41.273Z"
      },
      {
        "duration": 10,
        "start_time": "2024-02-01T05:36:41.391Z"
      },
      {
        "duration": 15,
        "start_time": "2024-02-01T05:36:41.403Z"
      },
      {
        "duration": 8,
        "start_time": "2024-02-01T05:36:41.420Z"
      },
      {
        "duration": 25,
        "start_time": "2024-02-01T05:36:41.429Z"
      },
      {
        "duration": 5,
        "start_time": "2024-02-01T05:36:41.456Z"
      },
      {
        "duration": 14,
        "start_time": "2024-02-01T05:36:41.462Z"
      },
      {
        "duration": 21,
        "start_time": "2024-02-01T05:36:41.477Z"
      },
      {
        "duration": 22,
        "start_time": "2024-02-01T05:36:41.502Z"
      },
      {
        "duration": 45,
        "start_time": "2024-02-01T05:36:41.525Z"
      },
      {
        "duration": 88,
        "start_time": "2024-02-01T05:36:41.572Z"
      },
      {
        "duration": 91,
        "start_time": "2024-02-01T05:36:41.662Z"
      },
      {
        "duration": 9,
        "start_time": "2024-02-01T05:36:41.755Z"
      },
      {
        "duration": 382,
        "start_time": "2024-02-01T05:36:41.851Z"
      },
      {
        "duration": 42342,
        "start_time": "2024-02-01T05:36:42.235Z"
      },
      {
        "duration": 4,
        "start_time": "2024-02-01T05:37:24.578Z"
      },
      {
        "duration": 28,
        "start_time": "2024-02-01T05:37:24.583Z"
      },
      {
        "duration": 44,
        "start_time": "2024-02-01T05:37:24.613Z"
      },
      {
        "duration": 674,
        "start_time": "2024-02-01T05:37:24.659Z"
      },
      {
        "duration": 21431,
        "start_time": "2024-02-01T05:37:25.334Z"
      },
      {
        "duration": 3,
        "start_time": "2024-02-01T05:37:46.767Z"
      },
      {
        "duration": 9,
        "start_time": "2024-02-01T05:37:46.771Z"
      },
      {
        "duration": 76,
        "start_time": "2024-02-01T05:37:46.782Z"
      },
      {
        "duration": 314,
        "start_time": "2024-02-01T05:37:46.860Z"
      },
      {
        "duration": 43830,
        "start_time": "2024-02-01T05:37:47.176Z"
      },
      {
        "duration": 3,
        "start_time": "2024-02-01T05:38:31.008Z"
      },
      {
        "duration": 1029,
        "start_time": "2024-02-01T05:38:31.012Z"
      },
      {
        "duration": 145,
        "start_time": "2024-02-01T05:38:32.042Z"
      },
      {
        "duration": 7059,
        "start_time": "2024-02-01T10:49:01.065Z"
      },
      {
        "duration": 5940,
        "start_time": "2024-02-01T10:49:15.587Z"
      },
      {
        "duration": 11,
        "start_time": "2024-02-06T05:49:38.064Z"
      },
      {
        "duration": 12,
        "start_time": "2024-02-06T05:49:56.877Z"
      },
      {
        "duration": 4,
        "start_time": "2024-02-06T05:50:25.785Z"
      },
      {
        "duration": 5,
        "start_time": "2024-02-06T05:50:30.053Z"
      },
      {
        "duration": 5,
        "start_time": "2024-02-06T05:50:42.315Z"
      },
      {
        "duration": 5,
        "start_time": "2024-02-06T05:50:43.196Z"
      },
      {
        "duration": 4,
        "start_time": "2024-02-06T05:50:50.454Z"
      },
      {
        "duration": 3,
        "start_time": "2024-02-06T05:54:10.265Z"
      },
      {
        "duration": 3,
        "start_time": "2024-02-06T05:54:19.628Z"
      },
      {
        "duration": 4,
        "start_time": "2024-02-06T05:54:20.870Z"
      },
      {
        "duration": 3,
        "start_time": "2024-02-06T05:54:49.671Z"
      },
      {
        "duration": 3,
        "start_time": "2024-02-06T05:54:51.221Z"
      },
      {
        "duration": 55,
        "start_time": "2024-02-06T06:21:56.229Z"
      },
      {
        "duration": 7,
        "start_time": "2024-02-06T06:22:34.089Z"
      },
      {
        "duration": 4,
        "start_time": "2024-02-06T06:32:32.392Z"
      },
      {
        "duration": 8,
        "start_time": "2024-02-06T06:33:39.361Z"
      },
      {
        "duration": 10,
        "start_time": "2024-02-06T06:34:31.139Z"
      },
      {
        "duration": 4,
        "start_time": "2024-02-06T06:36:07.621Z"
      },
      {
        "duration": 5,
        "start_time": "2024-02-06T06:36:15.721Z"
      },
      {
        "duration": 52,
        "start_time": "2024-02-06T06:36:21.834Z"
      },
      {
        "duration": 6,
        "start_time": "2024-02-06T06:36:26.145Z"
      },
      {
        "duration": 11,
        "start_time": "2024-02-06T06:36:41.225Z"
      },
      {
        "duration": 5,
        "start_time": "2024-02-06T06:36:54.466Z"
      },
      {
        "duration": 5,
        "start_time": "2024-02-06T06:37:13.357Z"
      },
      {
        "duration": 82,
        "start_time": "2024-02-06T06:37:28.632Z"
      },
      {
        "duration": 4,
        "start_time": "2024-02-06T06:37:37.460Z"
      },
      {
        "duration": 5,
        "start_time": "2024-02-06T06:37:48.664Z"
      },
      {
        "duration": 6,
        "start_time": "2024-02-06T06:38:11.172Z"
      },
      {
        "duration": 5,
        "start_time": "2024-02-06T06:38:17.643Z"
      },
      {
        "duration": 16,
        "start_time": "2024-02-06T11:21:42.102Z"
      },
      {
        "duration": 4,
        "start_time": "2024-02-06T11:21:54.450Z"
      },
      {
        "duration": 4,
        "start_time": "2024-02-06T11:23:31.165Z"
      },
      {
        "duration": 4,
        "start_time": "2024-02-06T11:23:37.499Z"
      },
      {
        "duration": 7124,
        "start_time": "2024-03-04T17:22:38.229Z"
      },
      {
        "duration": 5717,
        "start_time": "2024-03-04T17:22:45.355Z"
      },
      {
        "duration": 1371,
        "start_time": "2024-03-04T17:22:51.074Z"
      },
      {
        "duration": 91,
        "start_time": "2024-03-04T17:22:52.447Z"
      },
      {
        "duration": 12,
        "start_time": "2024-03-04T17:22:52.540Z"
      },
      {
        "duration": 50,
        "start_time": "2024-03-04T17:22:52.553Z"
      },
      {
        "duration": 21,
        "start_time": "2024-03-04T17:22:52.605Z"
      },
      {
        "duration": 11,
        "start_time": "2024-03-04T17:22:52.627Z"
      },
      {
        "duration": 24,
        "start_time": "2024-03-04T17:22:52.639Z"
      },
      {
        "duration": 22,
        "start_time": "2024-03-04T17:22:52.665Z"
      },
      {
        "duration": 43,
        "start_time": "2024-03-04T17:22:52.688Z"
      },
      {
        "duration": 931,
        "start_time": "2024-03-04T17:22:52.732Z"
      },
      {
        "duration": 132,
        "start_time": "2024-03-04T17:22:53.664Z"
      },
      {
        "duration": 6,
        "start_time": "2024-03-04T17:22:53.797Z"
      },
      {
        "duration": 100,
        "start_time": "2024-03-04T17:22:53.805Z"
      },
      {
        "duration": 17,
        "start_time": "2024-03-04T17:22:53.907Z"
      },
      {
        "duration": 100,
        "start_time": "2024-03-04T17:22:53.925Z"
      },
      {
        "duration": 7,
        "start_time": "2024-03-04T17:22:54.026Z"
      },
      {
        "duration": 122,
        "start_time": "2024-03-04T17:22:54.034Z"
      },
      {
        "duration": 116,
        "start_time": "2024-03-04T17:22:54.158Z"
      },
      {
        "duration": 10,
        "start_time": "2024-03-04T17:22:54.276Z"
      },
      {
        "duration": 34,
        "start_time": "2024-03-04T17:22:54.287Z"
      },
      {
        "duration": 2,
        "start_time": "2024-03-04T17:22:54.323Z"
      },
      {
        "duration": 10,
        "start_time": "2024-03-04T17:22:54.326Z"
      },
      {
        "duration": 6,
        "start_time": "2024-03-04T17:22:54.337Z"
      },
      {
        "duration": 23,
        "start_time": "2024-03-04T17:22:54.344Z"
      },
      {
        "duration": 121,
        "start_time": "2024-03-04T17:22:57.507Z"
      },
      {
        "duration": 2333,
        "start_time": "2024-03-04T17:23:07.598Z"
      },
      {
        "duration": 2324,
        "start_time": "2024-03-04T17:23:09.933Z"
      },
      {
        "duration": 4,
        "start_time": "2024-03-04T17:23:12.260Z"
      },
      {
        "duration": 67,
        "start_time": "2024-03-04T17:23:12.267Z"
      },
      {
        "duration": 12,
        "start_time": "2024-03-04T17:23:12.335Z"
      },
      {
        "duration": 14,
        "start_time": "2024-03-04T17:23:12.348Z"
      },
      {
        "duration": 10,
        "start_time": "2024-03-04T17:23:12.364Z"
      },
      {
        "duration": 16,
        "start_time": "2024-03-04T17:23:12.375Z"
      },
      {
        "duration": 26,
        "start_time": "2024-03-04T17:23:12.419Z"
      },
      {
        "duration": 23,
        "start_time": "2024-03-04T17:23:12.447Z"
      },
      {
        "duration": 17,
        "start_time": "2024-03-04T17:23:12.471Z"
      },
      {
        "duration": 803,
        "start_time": "2024-03-04T17:23:12.489Z"
      },
      {
        "duration": 252,
        "start_time": "2024-03-04T17:23:13.294Z"
      },
      {
        "duration": 7,
        "start_time": "2024-03-04T17:23:13.547Z"
      },
      {
        "duration": 117,
        "start_time": "2024-03-04T17:23:13.555Z"
      },
      {
        "duration": 10,
        "start_time": "2024-03-04T17:23:13.674Z"
      },
      {
        "duration": 139,
        "start_time": "2024-03-04T17:23:13.686Z"
      },
      {
        "duration": 7,
        "start_time": "2024-03-04T17:23:13.826Z"
      },
      {
        "duration": 128,
        "start_time": "2024-03-04T17:23:13.835Z"
      },
      {
        "duration": 127,
        "start_time": "2024-03-04T17:23:13.964Z"
      },
      {
        "duration": 11,
        "start_time": "2024-03-04T17:23:14.093Z"
      },
      {
        "duration": 27,
        "start_time": "2024-03-04T17:23:14.106Z"
      },
      {
        "duration": 2,
        "start_time": "2024-03-04T17:23:14.135Z"
      },
      {
        "duration": 9,
        "start_time": "2024-03-04T17:23:14.139Z"
      },
      {
        "duration": 6,
        "start_time": "2024-03-04T17:23:14.149Z"
      },
      {
        "duration": 14,
        "start_time": "2024-03-04T17:23:14.157Z"
      },
      {
        "duration": 4,
        "start_time": "2024-03-04T17:38:33.095Z"
      },
      {
        "duration": 4,
        "start_time": "2024-03-04T17:38:43.842Z"
      }
    ],
    "toc": {
      "base_numbering": 1,
      "nav_menu": {},
      "number_sections": true,
      "sideBar": true,
      "skip_h1_title": true,
      "title_cell": "Содержание",
      "title_sidebar": "Contents",
      "toc_cell": true,
      "toc_position": {
        "height": "684px",
        "left": "444px",
        "top": "199.125px",
        "width": "371px"
      },
      "toc_section_display": true,
      "toc_window_display": false
    }
  },
  "nbformat_minor": 4,
  "nbformat": 4,
  "cells": [
    {
      "cell_type": "markdown",
      "source": "# Client churn",
      "metadata": {}
    },
    {
      "cell_type": "markdown",
      "source": "Clients began to leave Beta Bank. Every month. A little, but noticeable. Bank marketers have calculated that it is cheaper to retain current customers than to attract new ones.\n\nIt is necessary to predict whether the client will leave the bank in the near future or not. You are provided with historical data on customer behavior and termination of contracts with the bank.\n\nBuild a model with an extremely large *F1*-measure. To pass the project successfully, you need to bring the metric to 0.59. Check the *F1*-measure on the test sample yourself.\n\nAdditionally, measure *AUC-ROC*, compare its value with the *F1* measure.\n\nData source:[https://www.kaggle.com/barelydedicated/bank-customer-churn-modeling](https://www.kaggle.com/barelydedicated/bank-customer-churn-modeling)",
      "metadata": {}
    },
    {
      "cell_type": "markdown",
      "source": "## Data pre",
      "metadata": {}
    },
    {
      "cell_type": "markdown",
      "source": "Import of libraries:",
      "metadata": {}
    },
    {
      "cell_type": "code",
      "source": "import piplite\nawait piplite.install('numpy')\nawait piplite.install('pandas')\nawait piplite.install('matplotlib')\nawait piplite.install('seaborn')\nawait piplite.install('imblearn')\nawait piplite.install('scikit-learn')",
      "metadata": {
        "trusted": true
      },
      "outputs": [],
      "execution_count": 16
    },
    {
      "cell_type": "code",
      "source": "import pandas as pd\nimport numpy as np\nimport matplotlib.pyplot as plt\nimport seaborn as sns\n\nfrom sklearn.tree import DecisionTreeClassifier\nfrom sklearn.ensemble import RandomForestClassifier\nfrom sklearn.linear_model import LogisticRegression\nfrom sklearn.utils import shuffle\nfrom sklearn.model_selection import train_test_split\n\n#from sklearn.ensemble import RandomForestRegressor\nfrom sklearn.metrics import (accuracy_score,\n                             mean_squared_error,\n                             confusion_matrix ,\n                             f1_score,\n                             roc_curve,\n                             roc_auc_score\n                            )\n\nfrom sklearn.preprocessing import OneHotEncoder, StandardScaler\n\nfrom imblearn.over_sampling import SMOTE\nfrom imblearn.under_sampling import RandomUnderSampler \n                             ",
      "metadata": {
        "trusted": true
      },
      "outputs": [],
      "execution_count": 18
    },
    {
      "cell_type": "markdown",
      "source": "Loading data:",
      "metadata": {}
    },
    {
      "cell_type": "code",
      "source": "try:\n    df=pd.read_csv('/datasets/Churn.csv')\nexcept:\n    df=pd.read_csv('Churn.csv')\ndf.head()",
      "metadata": {
        "trusted": true
      },
      "outputs": [
        {
          "execution_count": 19,
          "output_type": "execute_result",
          "data": {
            "text/plain": "   RowNumber  CustomerId   Surname  CreditScore Geography  Gender  Age  \\\n0          1    15634602  Hargrave          619    France  Female   42   \n1          2    15647311      Hill          608     Spain  Female   41   \n2          3    15619304      Onio          502    France  Female   42   \n3          4    15701354      Boni          699    France  Female   39   \n4          5    15737888  Mitchell          850     Spain  Female   43   \n\n   Tenure    Balance  NumOfProducts  HasCrCard  IsActiveMember  \\\n0     2.0       0.00              1          1               1   \n1     1.0   83807.86              1          0               1   \n2     8.0  159660.80              3          1               0   \n3     1.0       0.00              2          0               0   \n4     2.0  125510.82              1          1               1   \n\n   EstimatedSalary  Exited  \n0        101348.88       1  \n1        112542.58       0  \n2        113931.57       1  \n3         93826.63       0  \n4         79084.10       0  ",
            "text/html": "<div>\n<style scoped>\n    .dataframe tbody tr th:only-of-type {\n        vertical-align: middle;\n    }\n\n    .dataframe tbody tr th {\n        vertical-align: top;\n    }\n\n    .dataframe thead th {\n        text-align: right;\n    }\n</style>\n<table border=\"1\" class=\"dataframe\">\n  <thead>\n    <tr style=\"text-align: right;\">\n      <th></th>\n      <th>RowNumber</th>\n      <th>CustomerId</th>\n      <th>Surname</th>\n      <th>CreditScore</th>\n      <th>Geography</th>\n      <th>Gender</th>\n      <th>Age</th>\n      <th>Tenure</th>\n      <th>Balance</th>\n      <th>NumOfProducts</th>\n      <th>HasCrCard</th>\n      <th>IsActiveMember</th>\n      <th>EstimatedSalary</th>\n      <th>Exited</th>\n    </tr>\n  </thead>\n  <tbody>\n    <tr>\n      <th>0</th>\n      <td>1</td>\n      <td>15634602</td>\n      <td>Hargrave</td>\n      <td>619</td>\n      <td>France</td>\n      <td>Female</td>\n      <td>42</td>\n      <td>2.0</td>\n      <td>0.00</td>\n      <td>1</td>\n      <td>1</td>\n      <td>1</td>\n      <td>101348.88</td>\n      <td>1</td>\n    </tr>\n    <tr>\n      <th>1</th>\n      <td>2</td>\n      <td>15647311</td>\n      <td>Hill</td>\n      <td>608</td>\n      <td>Spain</td>\n      <td>Female</td>\n      <td>41</td>\n      <td>1.0</td>\n      <td>83807.86</td>\n      <td>1</td>\n      <td>0</td>\n      <td>1</td>\n      <td>112542.58</td>\n      <td>0</td>\n    </tr>\n    <tr>\n      <th>2</th>\n      <td>3</td>\n      <td>15619304</td>\n      <td>Onio</td>\n      <td>502</td>\n      <td>France</td>\n      <td>Female</td>\n      <td>42</td>\n      <td>8.0</td>\n      <td>159660.80</td>\n      <td>3</td>\n      <td>1</td>\n      <td>0</td>\n      <td>113931.57</td>\n      <td>1</td>\n    </tr>\n    <tr>\n      <th>3</th>\n      <td>4</td>\n      <td>15701354</td>\n      <td>Boni</td>\n      <td>699</td>\n      <td>France</td>\n      <td>Female</td>\n      <td>39</td>\n      <td>1.0</td>\n      <td>0.00</td>\n      <td>2</td>\n      <td>0</td>\n      <td>0</td>\n      <td>93826.63</td>\n      <td>0</td>\n    </tr>\n    <tr>\n      <th>4</th>\n      <td>5</td>\n      <td>15737888</td>\n      <td>Mitchell</td>\n      <td>850</td>\n      <td>Spain</td>\n      <td>Female</td>\n      <td>43</td>\n      <td>2.0</td>\n      <td>125510.82</td>\n      <td>1</td>\n      <td>1</td>\n      <td>1</td>\n      <td>79084.10</td>\n      <td>0</td>\n    </tr>\n  </tbody>\n</table>\n</div>"
          },
          "metadata": {}
        }
      ],
      "execution_count": 19
    },
    {
      "cell_type": "markdown",
      "source": "Features\n- RowNumber — row index in the data\n- CustomerId — unique client identifier\n- Surname - surname\n- CreditScore - credit rating\n- Geography - country of residence\n- Gender - gender\n- Age - age\n- Tenure - how many years a person has been a bank client\n- Balance - account balance\n- NumOfProducts — number of bank products used by the client\n- HasCrCard - availability of a credit card\n- IsActiveMember — client activity\n- EstimatedSalary - estimated salary\n\nTarget feature\n- Exited—the fact that the client has left\n\nWe need to solve the problem of binary classification.",
      "metadata": {}
    },
    {
      "cell_type": "code",
      "source": "df.info()\n",
      "metadata": {
        "trusted": true
      },
      "outputs": [
        {
          "name": "stdout",
          "text": "<class 'pandas.core.frame.DataFrame'>\nRangeIndex: 10000 entries, 0 to 9999\nData columns (total 14 columns):\n #   Column           Non-Null Count  Dtype  \n---  ------           --------------  -----  \n 0   RowNumber        10000 non-null  int64  \n 1   CustomerId       10000 non-null  int64  \n 2   Surname          10000 non-null  object \n 3   CreditScore      10000 non-null  int64  \n 4   Geography        10000 non-null  object \n 5   Gender           10000 non-null  object \n 6   Age              10000 non-null  int64  \n 7   Tenure           9091 non-null   float64\n 8   Balance          10000 non-null  float64\n 9   NumOfProducts    10000 non-null  int64  \n 10  HasCrCard        10000 non-null  int64  \n 11  IsActiveMember   10000 non-null  int64  \n 12  EstimatedSalary  10000 non-null  float64\n 13  Exited           10000 non-null  int64  \ndtypes: float64(3), int64(8), object(3)\nmemory usage: 976.6+ KB\n",
          "output_type": "stream"
        }
      ],
      "execution_count": 20
    },
    {
      "cell_type": "markdown",
      "source": "Data preparation:\n\nAt first glance, data type changes are not required. Let's estimate the number of passes:",
      "metadata": {}
    },
    {
      "cell_type": "code",
      "source": "pd.DataFrame(round(df.isna().mean()*100,)).style.background_gradient('coolwarm')",
      "metadata": {
        "scrolled": true,
        "trusted": true
      },
      "outputs": [
        {
          "execution_count": 22,
          "output_type": "execute_result",
          "data": {
            "text/plain": "<pandas.io.formats.style.Styler at 0xb03aac8>",
            "text/html": "<style type=\"text/css\">\n#T_0a723_row0_col0, #T_0a723_row1_col0, #T_0a723_row2_col0, #T_0a723_row3_col0, #T_0a723_row4_col0, #T_0a723_row5_col0, #T_0a723_row6_col0, #T_0a723_row8_col0, #T_0a723_row9_col0, #T_0a723_row10_col0, #T_0a723_row11_col0, #T_0a723_row12_col0, #T_0a723_row13_col0 {\n  background-color: #3b4cc0;\n  color: #f1f1f1;\n}\n#T_0a723_row7_col0 {\n  background-color: #b40426;\n  color: #f1f1f1;\n}\n</style>\n<table id=\"T_0a723\">\n  <thead>\n    <tr>\n      <th class=\"blank level0\" >&nbsp;</th>\n      <th id=\"T_0a723_level0_col0\" class=\"col_heading level0 col0\" >0</th>\n    </tr>\n  </thead>\n  <tbody>\n    <tr>\n      <th id=\"T_0a723_level0_row0\" class=\"row_heading level0 row0\" >RowNumber</th>\n      <td id=\"T_0a723_row0_col0\" class=\"data row0 col0\" >0.000000</td>\n    </tr>\n    <tr>\n      <th id=\"T_0a723_level0_row1\" class=\"row_heading level0 row1\" >CustomerId</th>\n      <td id=\"T_0a723_row1_col0\" class=\"data row1 col0\" >0.000000</td>\n    </tr>\n    <tr>\n      <th id=\"T_0a723_level0_row2\" class=\"row_heading level0 row2\" >Surname</th>\n      <td id=\"T_0a723_row2_col0\" class=\"data row2 col0\" >0.000000</td>\n    </tr>\n    <tr>\n      <th id=\"T_0a723_level0_row3\" class=\"row_heading level0 row3\" >CreditScore</th>\n      <td id=\"T_0a723_row3_col0\" class=\"data row3 col0\" >0.000000</td>\n    </tr>\n    <tr>\n      <th id=\"T_0a723_level0_row4\" class=\"row_heading level0 row4\" >Geography</th>\n      <td id=\"T_0a723_row4_col0\" class=\"data row4 col0\" >0.000000</td>\n    </tr>\n    <tr>\n      <th id=\"T_0a723_level0_row5\" class=\"row_heading level0 row5\" >Gender</th>\n      <td id=\"T_0a723_row5_col0\" class=\"data row5 col0\" >0.000000</td>\n    </tr>\n    <tr>\n      <th id=\"T_0a723_level0_row6\" class=\"row_heading level0 row6\" >Age</th>\n      <td id=\"T_0a723_row6_col0\" class=\"data row6 col0\" >0.000000</td>\n    </tr>\n    <tr>\n      <th id=\"T_0a723_level0_row7\" class=\"row_heading level0 row7\" >Tenure</th>\n      <td id=\"T_0a723_row7_col0\" class=\"data row7 col0\" >9.000000</td>\n    </tr>\n    <tr>\n      <th id=\"T_0a723_level0_row8\" class=\"row_heading level0 row8\" >Balance</th>\n      <td id=\"T_0a723_row8_col0\" class=\"data row8 col0\" >0.000000</td>\n    </tr>\n    <tr>\n      <th id=\"T_0a723_level0_row9\" class=\"row_heading level0 row9\" >NumOfProducts</th>\n      <td id=\"T_0a723_row9_col0\" class=\"data row9 col0\" >0.000000</td>\n    </tr>\n    <tr>\n      <th id=\"T_0a723_level0_row10\" class=\"row_heading level0 row10\" >HasCrCard</th>\n      <td id=\"T_0a723_row10_col0\" class=\"data row10 col0\" >0.000000</td>\n    </tr>\n    <tr>\n      <th id=\"T_0a723_level0_row11\" class=\"row_heading level0 row11\" >IsActiveMember</th>\n      <td id=\"T_0a723_row11_col0\" class=\"data row11 col0\" >0.000000</td>\n    </tr>\n    <tr>\n      <th id=\"T_0a723_level0_row12\" class=\"row_heading level0 row12\" >EstimatedSalary</th>\n      <td id=\"T_0a723_row12_col0\" class=\"data row12 col0\" >0.000000</td>\n    </tr>\n    <tr>\n      <th id=\"T_0a723_level0_row13\" class=\"row_heading level0 row13\" >Exited</th>\n      <td id=\"T_0a723_row13_col0\" class=\"data row13 col0\" >0.000000</td>\n    </tr>\n  </tbody>\n</table>\n"
          },
          "metadata": {}
        }
      ],
      "execution_count": 22
    },
    {
      "cell_type": "markdown",
      "source": "9% of the data in 'Tenure' is missing, let's delete these lines.",
      "metadata": {}
    },
    {
      "cell_type": "markdown",
      "source": "Here we prefer deletion, because these omissions are random and cannot be restored through other columns.",
      "metadata": {}
    },
    {
      "cell_type": "code",
      "source": "df = df.dropna()\ndf.isna().sum()",
      "metadata": {
        "trusted": true
      },
      "outputs": [
        {
          "execution_count": 23,
          "output_type": "execute_result",
          "data": {
            "text/plain": "RowNumber          0\nCustomerId         0\nSurname            0\nCreditScore        0\nGeography          0\nGender             0\nAge                0\nTenure             0\nBalance            0\nNumOfProducts      0\nHasCrCard          0\nIsActiveMember     0\nEstimatedSalary    0\nExited             0\ndtype: int64"
          },
          "metadata": {}
        }
      ],
      "execution_count": 23
    },
    {
      "cell_type": "markdown",
      "source": "Checking for excplicit duplicates:",
      "metadata": {}
    },
    {
      "cell_type": "code",
      "source": "df.duplicated().sum()",
      "metadata": {
        "scrolled": true,
        "trusted": true
      },
      "outputs": [
        {
          "execution_count": 24,
          "output_type": "execute_result",
          "data": {
            "text/plain": "0"
          },
          "metadata": {}
        }
      ],
      "execution_count": 24
    },
    {
      "cell_type": "markdown",
      "source": "Checking for implicit duplicates - let's check whether there are clients with the same categorical characteristics:",
      "metadata": {}
    },
    {
      "cell_type": "code",
      "source": "df_duplicated= df[df[['Surname', 'Age','Geography','Tenure','Gender']].duplicated(keep=False)]\ndf_duplicated",
      "metadata": {
        "scrolled": true,
        "trusted": true
      },
      "outputs": [
        {
          "execution_count": 25,
          "output_type": "execute_result",
          "data": {
            "text/plain": "      RowNumber  CustomerId   Surname  CreditScore Geography  Gender  Age  \\\n437         438    15624623       Hs?          516    France    Male   35   \n1046       1047    15644200  Hamilton          807     Spain  Female   42   \n1442       1443    15796179     Moore          683    France    Male   43   \n1555       1556    15709994     Gallo          658    France  Female   40   \n1776       1777    15674851     T'ien          622    France    Male   38   \n2064       2065    15569503       Yeh          765    France    Male   44   \n2320       2321    15775888  McDonald          593   Germany  Female   38   \n2355       2356    15710366  Hamilton          569     Spain  Female   42   \n2501       2502    15753370  McDonald          691   Germany  Female   38   \n3081       3082    15603319    Graham          693    France    Male   29   \n3212       3213    15747097       Hs?          611    France    Male   35   \n5160       5161    15672299       Yeh          510    France    Male   44   \n5236       5237    15645184    Graham          701    France    Male   29   \n5748       5749    15678412   Nwankwo          645    France  Female   45   \n5944       5945    15715709      Shih          696   Germany    Male   43   \n6051       6052    15623220     Brown          723     Spain  Female   45   \n6129       6130    15727605      Shih          533   Germany    Male   43   \n6367       6368    15568742    Parkes          536    France  Female   41   \n6531       6532    15675231   Nwankwo          518    France  Female   45   \n6915       6916    15751549        H?          658   Germany    Male   31   \n7432       7433    15761047        H?          724   Germany    Male   31   \n7899       7900    15683560     Gallo          642    France  Female   40   \n8162       8163    15647333   Fleming          621    France    Male   27   \n8335       8336    15737414      Shen          647    France    Male   35   \n8453       8454    15684669    Parkes          567    France  Female   41   \n8495       8496    15801436     K'ung          696    France    Male   42   \n8738       8739    15624397     Moore          627    France    Male   43   \n8742       8743    15661827     Brown          693     Spain  Female   45   \n9235       9236    15586680   Fleming          462    France    Male   27   \n9269       9270    15705383      Shen          642    France    Male   35   \n9691       9692    15754599     K'ung          765    France    Male   42   \n9837       9838    15809124     T'ien          750    France    Male   38   \n\n      Tenure    Balance  NumOfProducts  HasCrCard  IsActiveMember  \\\n437     10.0  104088.59              2          0               0   \n1046     1.0       0.00              1          1               0   \n1442     8.0       0.00              1          1               0   \n1555     7.0  140596.95              1          0               1   \n1776     5.0       0.00              2          0               0   \n2064     6.0       0.00              2          1               1   \n2320     5.0   85626.60              1          1               1   \n2355     1.0       0.00              1          1               1   \n2501     5.0  114753.76              1          1               0   \n3081     2.0  151352.74              1          0               0   \n3212    10.0       0.00              1          1               1   \n5160     6.0       0.00              2          1               1   \n5236     2.0       0.00              2          1               0   \n5748     8.0   85325.93              1          0               0   \n5944     4.0  114091.38              1          0               1   \n6051     4.0       0.00              2          1               0   \n6129     4.0   80442.06              2          0               1   \n6367     9.0       0.00              1          1               0   \n6531     8.0       0.00              2          1               1   \n6915     2.0   77082.65              2          0               0   \n7432     2.0  160997.54              2          0               1   \n7899     7.0       0.00              2          1               0   \n8162     4.0  137003.68              1          1               0   \n8335     4.0  123761.68              1          1               0   \n8453     9.0  137891.35              1          1               0   \n8495     4.0       0.00              1          0               0   \n8738     8.0   71240.30              1          0               1   \n8742     4.0       0.00              2          1               1   \n9235     4.0  176913.52              1          1               0   \n9269     4.0  125476.31              1          1               1   \n9691     4.0  123311.39              2          1               1   \n9837     5.0  151532.40              1          1               1   \n\n      EstimatedSalary  Exited  \n437         119666.00       0  \n1046         16500.66       1  \n1442         96754.80       0  \n1555        135459.02       1  \n1776        105295.77       0  \n2064        159899.97       0  \n2320        125079.65       0  \n2355         83629.60       1  \n2501        107665.02       0  \n3081        197145.89       0  \n3212         23598.23       1  \n5160        175518.31       0  \n5236        176943.59       0  \n5748         22558.74       0  \n5944        159888.10       0  \n6051         37214.39       0  \n6129         12537.42       0  \n6367        121299.14       0  \n6531         36193.07       0  \n6915         13482.28       0  \n7432         64831.36       0  \n7899        183963.34       0  \n8162         21254.06       0  \n8335         83910.40       0  \n8453        142009.46       1  \n8495        126353.13       1  \n8738        127734.16       0  \n8742         26589.56       0  \n9235         80587.27       0  \n9269         91775.51       0  \n9691         82868.34       0  \n9837         46555.15       0  ",
            "text/html": "<div>\n<style scoped>\n    .dataframe tbody tr th:only-of-type {\n        vertical-align: middle;\n    }\n\n    .dataframe tbody tr th {\n        vertical-align: top;\n    }\n\n    .dataframe thead th {\n        text-align: right;\n    }\n</style>\n<table border=\"1\" class=\"dataframe\">\n  <thead>\n    <tr style=\"text-align: right;\">\n      <th></th>\n      <th>RowNumber</th>\n      <th>CustomerId</th>\n      <th>Surname</th>\n      <th>CreditScore</th>\n      <th>Geography</th>\n      <th>Gender</th>\n      <th>Age</th>\n      <th>Tenure</th>\n      <th>Balance</th>\n      <th>NumOfProducts</th>\n      <th>HasCrCard</th>\n      <th>IsActiveMember</th>\n      <th>EstimatedSalary</th>\n      <th>Exited</th>\n    </tr>\n  </thead>\n  <tbody>\n    <tr>\n      <th>437</th>\n      <td>438</td>\n      <td>15624623</td>\n      <td>Hs?</td>\n      <td>516</td>\n      <td>France</td>\n      <td>Male</td>\n      <td>35</td>\n      <td>10.0</td>\n      <td>104088.59</td>\n      <td>2</td>\n      <td>0</td>\n      <td>0</td>\n      <td>119666.00</td>\n      <td>0</td>\n    </tr>\n    <tr>\n      <th>1046</th>\n      <td>1047</td>\n      <td>15644200</td>\n      <td>Hamilton</td>\n      <td>807</td>\n      <td>Spain</td>\n      <td>Female</td>\n      <td>42</td>\n      <td>1.0</td>\n      <td>0.00</td>\n      <td>1</td>\n      <td>1</td>\n      <td>0</td>\n      <td>16500.66</td>\n      <td>1</td>\n    </tr>\n    <tr>\n      <th>1442</th>\n      <td>1443</td>\n      <td>15796179</td>\n      <td>Moore</td>\n      <td>683</td>\n      <td>France</td>\n      <td>Male</td>\n      <td>43</td>\n      <td>8.0</td>\n      <td>0.00</td>\n      <td>1</td>\n      <td>1</td>\n      <td>0</td>\n      <td>96754.80</td>\n      <td>0</td>\n    </tr>\n    <tr>\n      <th>1555</th>\n      <td>1556</td>\n      <td>15709994</td>\n      <td>Gallo</td>\n      <td>658</td>\n      <td>France</td>\n      <td>Female</td>\n      <td>40</td>\n      <td>7.0</td>\n      <td>140596.95</td>\n      <td>1</td>\n      <td>0</td>\n      <td>1</td>\n      <td>135459.02</td>\n      <td>1</td>\n    </tr>\n    <tr>\n      <th>1776</th>\n      <td>1777</td>\n      <td>15674851</td>\n      <td>T'ien</td>\n      <td>622</td>\n      <td>France</td>\n      <td>Male</td>\n      <td>38</td>\n      <td>5.0</td>\n      <td>0.00</td>\n      <td>2</td>\n      <td>0</td>\n      <td>0</td>\n      <td>105295.77</td>\n      <td>0</td>\n    </tr>\n    <tr>\n      <th>2064</th>\n      <td>2065</td>\n      <td>15569503</td>\n      <td>Yeh</td>\n      <td>765</td>\n      <td>France</td>\n      <td>Male</td>\n      <td>44</td>\n      <td>6.0</td>\n      <td>0.00</td>\n      <td>2</td>\n      <td>1</td>\n      <td>1</td>\n      <td>159899.97</td>\n      <td>0</td>\n    </tr>\n    <tr>\n      <th>2320</th>\n      <td>2321</td>\n      <td>15775888</td>\n      <td>McDonald</td>\n      <td>593</td>\n      <td>Germany</td>\n      <td>Female</td>\n      <td>38</td>\n      <td>5.0</td>\n      <td>85626.60</td>\n      <td>1</td>\n      <td>1</td>\n      <td>1</td>\n      <td>125079.65</td>\n      <td>0</td>\n    </tr>\n    <tr>\n      <th>2355</th>\n      <td>2356</td>\n      <td>15710366</td>\n      <td>Hamilton</td>\n      <td>569</td>\n      <td>Spain</td>\n      <td>Female</td>\n      <td>42</td>\n      <td>1.0</td>\n      <td>0.00</td>\n      <td>1</td>\n      <td>1</td>\n      <td>1</td>\n      <td>83629.60</td>\n      <td>1</td>\n    </tr>\n    <tr>\n      <th>2501</th>\n      <td>2502</td>\n      <td>15753370</td>\n      <td>McDonald</td>\n      <td>691</td>\n      <td>Germany</td>\n      <td>Female</td>\n      <td>38</td>\n      <td>5.0</td>\n      <td>114753.76</td>\n      <td>1</td>\n      <td>1</td>\n      <td>0</td>\n      <td>107665.02</td>\n      <td>0</td>\n    </tr>\n    <tr>\n      <th>3081</th>\n      <td>3082</td>\n      <td>15603319</td>\n      <td>Graham</td>\n      <td>693</td>\n      <td>France</td>\n      <td>Male</td>\n      <td>29</td>\n      <td>2.0</td>\n      <td>151352.74</td>\n      <td>1</td>\n      <td>0</td>\n      <td>0</td>\n      <td>197145.89</td>\n      <td>0</td>\n    </tr>\n    <tr>\n      <th>3212</th>\n      <td>3213</td>\n      <td>15747097</td>\n      <td>Hs?</td>\n      <td>611</td>\n      <td>France</td>\n      <td>Male</td>\n      <td>35</td>\n      <td>10.0</td>\n      <td>0.00</td>\n      <td>1</td>\n      <td>1</td>\n      <td>1</td>\n      <td>23598.23</td>\n      <td>1</td>\n    </tr>\n    <tr>\n      <th>5160</th>\n      <td>5161</td>\n      <td>15672299</td>\n      <td>Yeh</td>\n      <td>510</td>\n      <td>France</td>\n      <td>Male</td>\n      <td>44</td>\n      <td>6.0</td>\n      <td>0.00</td>\n      <td>2</td>\n      <td>1</td>\n      <td>1</td>\n      <td>175518.31</td>\n      <td>0</td>\n    </tr>\n    <tr>\n      <th>5236</th>\n      <td>5237</td>\n      <td>15645184</td>\n      <td>Graham</td>\n      <td>701</td>\n      <td>France</td>\n      <td>Male</td>\n      <td>29</td>\n      <td>2.0</td>\n      <td>0.00</td>\n      <td>2</td>\n      <td>1</td>\n      <td>0</td>\n      <td>176943.59</td>\n      <td>0</td>\n    </tr>\n    <tr>\n      <th>5748</th>\n      <td>5749</td>\n      <td>15678412</td>\n      <td>Nwankwo</td>\n      <td>645</td>\n      <td>France</td>\n      <td>Female</td>\n      <td>45</td>\n      <td>8.0</td>\n      <td>85325.93</td>\n      <td>1</td>\n      <td>0</td>\n      <td>0</td>\n      <td>22558.74</td>\n      <td>0</td>\n    </tr>\n    <tr>\n      <th>5944</th>\n      <td>5945</td>\n      <td>15715709</td>\n      <td>Shih</td>\n      <td>696</td>\n      <td>Germany</td>\n      <td>Male</td>\n      <td>43</td>\n      <td>4.0</td>\n      <td>114091.38</td>\n      <td>1</td>\n      <td>0</td>\n      <td>1</td>\n      <td>159888.10</td>\n      <td>0</td>\n    </tr>\n    <tr>\n      <th>6051</th>\n      <td>6052</td>\n      <td>15623220</td>\n      <td>Brown</td>\n      <td>723</td>\n      <td>Spain</td>\n      <td>Female</td>\n      <td>45</td>\n      <td>4.0</td>\n      <td>0.00</td>\n      <td>2</td>\n      <td>1</td>\n      <td>0</td>\n      <td>37214.39</td>\n      <td>0</td>\n    </tr>\n    <tr>\n      <th>6129</th>\n      <td>6130</td>\n      <td>15727605</td>\n      <td>Shih</td>\n      <td>533</td>\n      <td>Germany</td>\n      <td>Male</td>\n      <td>43</td>\n      <td>4.0</td>\n      <td>80442.06</td>\n      <td>2</td>\n      <td>0</td>\n      <td>1</td>\n      <td>12537.42</td>\n      <td>0</td>\n    </tr>\n    <tr>\n      <th>6367</th>\n      <td>6368</td>\n      <td>15568742</td>\n      <td>Parkes</td>\n      <td>536</td>\n      <td>France</td>\n      <td>Female</td>\n      <td>41</td>\n      <td>9.0</td>\n      <td>0.00</td>\n      <td>1</td>\n      <td>1</td>\n      <td>0</td>\n      <td>121299.14</td>\n      <td>0</td>\n    </tr>\n    <tr>\n      <th>6531</th>\n      <td>6532</td>\n      <td>15675231</td>\n      <td>Nwankwo</td>\n      <td>518</td>\n      <td>France</td>\n      <td>Female</td>\n      <td>45</td>\n      <td>8.0</td>\n      <td>0.00</td>\n      <td>2</td>\n      <td>1</td>\n      <td>1</td>\n      <td>36193.07</td>\n      <td>0</td>\n    </tr>\n    <tr>\n      <th>6915</th>\n      <td>6916</td>\n      <td>15751549</td>\n      <td>H?</td>\n      <td>658</td>\n      <td>Germany</td>\n      <td>Male</td>\n      <td>31</td>\n      <td>2.0</td>\n      <td>77082.65</td>\n      <td>2</td>\n      <td>0</td>\n      <td>0</td>\n      <td>13482.28</td>\n      <td>0</td>\n    </tr>\n    <tr>\n      <th>7432</th>\n      <td>7433</td>\n      <td>15761047</td>\n      <td>H?</td>\n      <td>724</td>\n      <td>Germany</td>\n      <td>Male</td>\n      <td>31</td>\n      <td>2.0</td>\n      <td>160997.54</td>\n      <td>2</td>\n      <td>0</td>\n      <td>1</td>\n      <td>64831.36</td>\n      <td>0</td>\n    </tr>\n    <tr>\n      <th>7899</th>\n      <td>7900</td>\n      <td>15683560</td>\n      <td>Gallo</td>\n      <td>642</td>\n      <td>France</td>\n      <td>Female</td>\n      <td>40</td>\n      <td>7.0</td>\n      <td>0.00</td>\n      <td>2</td>\n      <td>1</td>\n      <td>0</td>\n      <td>183963.34</td>\n      <td>0</td>\n    </tr>\n    <tr>\n      <th>8162</th>\n      <td>8163</td>\n      <td>15647333</td>\n      <td>Fleming</td>\n      <td>621</td>\n      <td>France</td>\n      <td>Male</td>\n      <td>27</td>\n      <td>4.0</td>\n      <td>137003.68</td>\n      <td>1</td>\n      <td>1</td>\n      <td>0</td>\n      <td>21254.06</td>\n      <td>0</td>\n    </tr>\n    <tr>\n      <th>8335</th>\n      <td>8336</td>\n      <td>15737414</td>\n      <td>Shen</td>\n      <td>647</td>\n      <td>France</td>\n      <td>Male</td>\n      <td>35</td>\n      <td>4.0</td>\n      <td>123761.68</td>\n      <td>1</td>\n      <td>1</td>\n      <td>0</td>\n      <td>83910.40</td>\n      <td>0</td>\n    </tr>\n    <tr>\n      <th>8453</th>\n      <td>8454</td>\n      <td>15684669</td>\n      <td>Parkes</td>\n      <td>567</td>\n      <td>France</td>\n      <td>Female</td>\n      <td>41</td>\n      <td>9.0</td>\n      <td>137891.35</td>\n      <td>1</td>\n      <td>1</td>\n      <td>0</td>\n      <td>142009.46</td>\n      <td>1</td>\n    </tr>\n    <tr>\n      <th>8495</th>\n      <td>8496</td>\n      <td>15801436</td>\n      <td>K'ung</td>\n      <td>696</td>\n      <td>France</td>\n      <td>Male</td>\n      <td>42</td>\n      <td>4.0</td>\n      <td>0.00</td>\n      <td>1</td>\n      <td>0</td>\n      <td>0</td>\n      <td>126353.13</td>\n      <td>1</td>\n    </tr>\n    <tr>\n      <th>8738</th>\n      <td>8739</td>\n      <td>15624397</td>\n      <td>Moore</td>\n      <td>627</td>\n      <td>France</td>\n      <td>Male</td>\n      <td>43</td>\n      <td>8.0</td>\n      <td>71240.30</td>\n      <td>1</td>\n      <td>0</td>\n      <td>1</td>\n      <td>127734.16</td>\n      <td>0</td>\n    </tr>\n    <tr>\n      <th>8742</th>\n      <td>8743</td>\n      <td>15661827</td>\n      <td>Brown</td>\n      <td>693</td>\n      <td>Spain</td>\n      <td>Female</td>\n      <td>45</td>\n      <td>4.0</td>\n      <td>0.00</td>\n      <td>2</td>\n      <td>1</td>\n      <td>1</td>\n      <td>26589.56</td>\n      <td>0</td>\n    </tr>\n    <tr>\n      <th>9235</th>\n      <td>9236</td>\n      <td>15586680</td>\n      <td>Fleming</td>\n      <td>462</td>\n      <td>France</td>\n      <td>Male</td>\n      <td>27</td>\n      <td>4.0</td>\n      <td>176913.52</td>\n      <td>1</td>\n      <td>1</td>\n      <td>0</td>\n      <td>80587.27</td>\n      <td>0</td>\n    </tr>\n    <tr>\n      <th>9269</th>\n      <td>9270</td>\n      <td>15705383</td>\n      <td>Shen</td>\n      <td>642</td>\n      <td>France</td>\n      <td>Male</td>\n      <td>35</td>\n      <td>4.0</td>\n      <td>125476.31</td>\n      <td>1</td>\n      <td>1</td>\n      <td>1</td>\n      <td>91775.51</td>\n      <td>0</td>\n    </tr>\n    <tr>\n      <th>9691</th>\n      <td>9692</td>\n      <td>15754599</td>\n      <td>K'ung</td>\n      <td>765</td>\n      <td>France</td>\n      <td>Male</td>\n      <td>42</td>\n      <td>4.0</td>\n      <td>123311.39</td>\n      <td>2</td>\n      <td>1</td>\n      <td>1</td>\n      <td>82868.34</td>\n      <td>0</td>\n    </tr>\n    <tr>\n      <th>9837</th>\n      <td>9838</td>\n      <td>15809124</td>\n      <td>T'ien</td>\n      <td>750</td>\n      <td>France</td>\n      <td>Male</td>\n      <td>38</td>\n      <td>5.0</td>\n      <td>151532.40</td>\n      <td>1</td>\n      <td>1</td>\n      <td>1</td>\n      <td>46555.15</td>\n      <td>0</td>\n    </tr>\n  </tbody>\n</table>\n</div>"
          },
          "metadata": {}
        }
      ],
      "execution_count": 25
    },
    {
      "cell_type": "markdown",
      "source": "Even though it is possible that the clients are people with the same last name, country, age, gender and they have been clients of the bank for the same length of time, this looks suspicious. It is possible that data for such clients was entered several times as for a new client. Just in case, let's delete this data. Here it would be useful to also have the client's name/passport details to eliminate such duplicates.",
      "metadata": {}
    },
    {
      "cell_type": "code",
      "source": "df = df[~(df[['Surname', 'Age','Geography','Tenure','Gender']].duplicated(keep=False))]\ndf",
      "metadata": {
        "scrolled": true,
        "trusted": true
      },
      "outputs": [
        {
          "execution_count": 26,
          "output_type": "execute_result",
          "data": {
            "text/plain": "      RowNumber  CustomerId    Surname  CreditScore Geography  Gender  Age  \\\n0             1    15634602   Hargrave          619    France  Female   42   \n1             2    15647311       Hill          608     Spain  Female   41   \n2             3    15619304       Onio          502    France  Female   42   \n3             4    15701354       Boni          699    France  Female   39   \n4             5    15737888   Mitchell          850     Spain  Female   43   \n...         ...         ...        ...          ...       ...     ...  ...   \n9994       9995    15719294       Wood          800    France  Female   29   \n9995       9996    15606229   Obijiaku          771    France    Male   39   \n9996       9997    15569892  Johnstone          516    France    Male   35   \n9997       9998    15584532        Liu          709    France  Female   36   \n9998       9999    15682355  Sabbatini          772   Germany    Male   42   \n\n      Tenure    Balance  NumOfProducts  HasCrCard  IsActiveMember  \\\n0        2.0       0.00              1          1               1   \n1        1.0   83807.86              1          0               1   \n2        8.0  159660.80              3          1               0   \n3        1.0       0.00              2          0               0   \n4        2.0  125510.82              1          1               1   \n...      ...        ...            ...        ...             ...   \n9994     2.0       0.00              2          0               0   \n9995     5.0       0.00              2          1               0   \n9996    10.0   57369.61              1          1               1   \n9997     7.0       0.00              1          0               1   \n9998     3.0   75075.31              2          1               0   \n\n      EstimatedSalary  Exited  \n0           101348.88       1  \n1           112542.58       0  \n2           113931.57       1  \n3            93826.63       0  \n4            79084.10       0  \n...               ...     ...  \n9994        167773.55       0  \n9995         96270.64       0  \n9996        101699.77       0  \n9997         42085.58       1  \n9998         92888.52       1  \n\n[9059 rows x 14 columns]",
            "text/html": "<div>\n<style scoped>\n    .dataframe tbody tr th:only-of-type {\n        vertical-align: middle;\n    }\n\n    .dataframe tbody tr th {\n        vertical-align: top;\n    }\n\n    .dataframe thead th {\n        text-align: right;\n    }\n</style>\n<table border=\"1\" class=\"dataframe\">\n  <thead>\n    <tr style=\"text-align: right;\">\n      <th></th>\n      <th>RowNumber</th>\n      <th>CustomerId</th>\n      <th>Surname</th>\n      <th>CreditScore</th>\n      <th>Geography</th>\n      <th>Gender</th>\n      <th>Age</th>\n      <th>Tenure</th>\n      <th>Balance</th>\n      <th>NumOfProducts</th>\n      <th>HasCrCard</th>\n      <th>IsActiveMember</th>\n      <th>EstimatedSalary</th>\n      <th>Exited</th>\n    </tr>\n  </thead>\n  <tbody>\n    <tr>\n      <th>0</th>\n      <td>1</td>\n      <td>15634602</td>\n      <td>Hargrave</td>\n      <td>619</td>\n      <td>France</td>\n      <td>Female</td>\n      <td>42</td>\n      <td>2.0</td>\n      <td>0.00</td>\n      <td>1</td>\n      <td>1</td>\n      <td>1</td>\n      <td>101348.88</td>\n      <td>1</td>\n    </tr>\n    <tr>\n      <th>1</th>\n      <td>2</td>\n      <td>15647311</td>\n      <td>Hill</td>\n      <td>608</td>\n      <td>Spain</td>\n      <td>Female</td>\n      <td>41</td>\n      <td>1.0</td>\n      <td>83807.86</td>\n      <td>1</td>\n      <td>0</td>\n      <td>1</td>\n      <td>112542.58</td>\n      <td>0</td>\n    </tr>\n    <tr>\n      <th>2</th>\n      <td>3</td>\n      <td>15619304</td>\n      <td>Onio</td>\n      <td>502</td>\n      <td>France</td>\n      <td>Female</td>\n      <td>42</td>\n      <td>8.0</td>\n      <td>159660.80</td>\n      <td>3</td>\n      <td>1</td>\n      <td>0</td>\n      <td>113931.57</td>\n      <td>1</td>\n    </tr>\n    <tr>\n      <th>3</th>\n      <td>4</td>\n      <td>15701354</td>\n      <td>Boni</td>\n      <td>699</td>\n      <td>France</td>\n      <td>Female</td>\n      <td>39</td>\n      <td>1.0</td>\n      <td>0.00</td>\n      <td>2</td>\n      <td>0</td>\n      <td>0</td>\n      <td>93826.63</td>\n      <td>0</td>\n    </tr>\n    <tr>\n      <th>4</th>\n      <td>5</td>\n      <td>15737888</td>\n      <td>Mitchell</td>\n      <td>850</td>\n      <td>Spain</td>\n      <td>Female</td>\n      <td>43</td>\n      <td>2.0</td>\n      <td>125510.82</td>\n      <td>1</td>\n      <td>1</td>\n      <td>1</td>\n      <td>79084.10</td>\n      <td>0</td>\n    </tr>\n    <tr>\n      <th>...</th>\n      <td>...</td>\n      <td>...</td>\n      <td>...</td>\n      <td>...</td>\n      <td>...</td>\n      <td>...</td>\n      <td>...</td>\n      <td>...</td>\n      <td>...</td>\n      <td>...</td>\n      <td>...</td>\n      <td>...</td>\n      <td>...</td>\n      <td>...</td>\n    </tr>\n    <tr>\n      <th>9994</th>\n      <td>9995</td>\n      <td>15719294</td>\n      <td>Wood</td>\n      <td>800</td>\n      <td>France</td>\n      <td>Female</td>\n      <td>29</td>\n      <td>2.0</td>\n      <td>0.00</td>\n      <td>2</td>\n      <td>0</td>\n      <td>0</td>\n      <td>167773.55</td>\n      <td>0</td>\n    </tr>\n    <tr>\n      <th>9995</th>\n      <td>9996</td>\n      <td>15606229</td>\n      <td>Obijiaku</td>\n      <td>771</td>\n      <td>France</td>\n      <td>Male</td>\n      <td>39</td>\n      <td>5.0</td>\n      <td>0.00</td>\n      <td>2</td>\n      <td>1</td>\n      <td>0</td>\n      <td>96270.64</td>\n      <td>0</td>\n    </tr>\n    <tr>\n      <th>9996</th>\n      <td>9997</td>\n      <td>15569892</td>\n      <td>Johnstone</td>\n      <td>516</td>\n      <td>France</td>\n      <td>Male</td>\n      <td>35</td>\n      <td>10.0</td>\n      <td>57369.61</td>\n      <td>1</td>\n      <td>1</td>\n      <td>1</td>\n      <td>101699.77</td>\n      <td>0</td>\n    </tr>\n    <tr>\n      <th>9997</th>\n      <td>9998</td>\n      <td>15584532</td>\n      <td>Liu</td>\n      <td>709</td>\n      <td>France</td>\n      <td>Female</td>\n      <td>36</td>\n      <td>7.0</td>\n      <td>0.00</td>\n      <td>1</td>\n      <td>0</td>\n      <td>1</td>\n      <td>42085.58</td>\n      <td>1</td>\n    </tr>\n    <tr>\n      <th>9998</th>\n      <td>9999</td>\n      <td>15682355</td>\n      <td>Sabbatini</td>\n      <td>772</td>\n      <td>Germany</td>\n      <td>Male</td>\n      <td>42</td>\n      <td>3.0</td>\n      <td>75075.31</td>\n      <td>2</td>\n      <td>1</td>\n      <td>0</td>\n      <td>92888.52</td>\n      <td>1</td>\n    </tr>\n  </tbody>\n</table>\n<p>9059 rows × 14 columns</p>\n</div>"
          },
          "metadata": {}
        }
      ],
      "execution_count": 26
    },
    {
      "cell_type": "markdown",
      "source": "You can also remove the \"RowNumber\" , \"CustomerId\" and \"Surname\" columns from the dataset.",
      "metadata": {}
    },
    {
      "cell_type": "code",
      "source": "df = df.drop(df.columns[[0,1,2]], axis=1)\ndf",
      "metadata": {
        "trusted": true
      },
      "outputs": [
        {
          "execution_count": 27,
          "output_type": "execute_result",
          "data": {
            "text/plain": "      CreditScore Geography  Gender  Age  Tenure    Balance  NumOfProducts  \\\n0             619    France  Female   42     2.0       0.00              1   \n1             608     Spain  Female   41     1.0   83807.86              1   \n2             502    France  Female   42     8.0  159660.80              3   \n3             699    France  Female   39     1.0       0.00              2   \n4             850     Spain  Female   43     2.0  125510.82              1   \n...           ...       ...     ...  ...     ...        ...            ...   \n9994          800    France  Female   29     2.0       0.00              2   \n9995          771    France    Male   39     5.0       0.00              2   \n9996          516    France    Male   35    10.0   57369.61              1   \n9997          709    France  Female   36     7.0       0.00              1   \n9998          772   Germany    Male   42     3.0   75075.31              2   \n\n      HasCrCard  IsActiveMember  EstimatedSalary  Exited  \n0             1               1        101348.88       1  \n1             0               1        112542.58       0  \n2             1               0        113931.57       1  \n3             0               0         93826.63       0  \n4             1               1         79084.10       0  \n...         ...             ...              ...     ...  \n9994          0               0        167773.55       0  \n9995          1               0         96270.64       0  \n9996          1               1        101699.77       0  \n9997          0               1         42085.58       1  \n9998          1               0         92888.52       1  \n\n[9059 rows x 11 columns]",
            "text/html": "<div>\n<style scoped>\n    .dataframe tbody tr th:only-of-type {\n        vertical-align: middle;\n    }\n\n    .dataframe tbody tr th {\n        vertical-align: top;\n    }\n\n    .dataframe thead th {\n        text-align: right;\n    }\n</style>\n<table border=\"1\" class=\"dataframe\">\n  <thead>\n    <tr style=\"text-align: right;\">\n      <th></th>\n      <th>CreditScore</th>\n      <th>Geography</th>\n      <th>Gender</th>\n      <th>Age</th>\n      <th>Tenure</th>\n      <th>Balance</th>\n      <th>NumOfProducts</th>\n      <th>HasCrCard</th>\n      <th>IsActiveMember</th>\n      <th>EstimatedSalary</th>\n      <th>Exited</th>\n    </tr>\n  </thead>\n  <tbody>\n    <tr>\n      <th>0</th>\n      <td>619</td>\n      <td>France</td>\n      <td>Female</td>\n      <td>42</td>\n      <td>2.0</td>\n      <td>0.00</td>\n      <td>1</td>\n      <td>1</td>\n      <td>1</td>\n      <td>101348.88</td>\n      <td>1</td>\n    </tr>\n    <tr>\n      <th>1</th>\n      <td>608</td>\n      <td>Spain</td>\n      <td>Female</td>\n      <td>41</td>\n      <td>1.0</td>\n      <td>83807.86</td>\n      <td>1</td>\n      <td>0</td>\n      <td>1</td>\n      <td>112542.58</td>\n      <td>0</td>\n    </tr>\n    <tr>\n      <th>2</th>\n      <td>502</td>\n      <td>France</td>\n      <td>Female</td>\n      <td>42</td>\n      <td>8.0</td>\n      <td>159660.80</td>\n      <td>3</td>\n      <td>1</td>\n      <td>0</td>\n      <td>113931.57</td>\n      <td>1</td>\n    </tr>\n    <tr>\n      <th>3</th>\n      <td>699</td>\n      <td>France</td>\n      <td>Female</td>\n      <td>39</td>\n      <td>1.0</td>\n      <td>0.00</td>\n      <td>2</td>\n      <td>0</td>\n      <td>0</td>\n      <td>93826.63</td>\n      <td>0</td>\n    </tr>\n    <tr>\n      <th>4</th>\n      <td>850</td>\n      <td>Spain</td>\n      <td>Female</td>\n      <td>43</td>\n      <td>2.0</td>\n      <td>125510.82</td>\n      <td>1</td>\n      <td>1</td>\n      <td>1</td>\n      <td>79084.10</td>\n      <td>0</td>\n    </tr>\n    <tr>\n      <th>...</th>\n      <td>...</td>\n      <td>...</td>\n      <td>...</td>\n      <td>...</td>\n      <td>...</td>\n      <td>...</td>\n      <td>...</td>\n      <td>...</td>\n      <td>...</td>\n      <td>...</td>\n      <td>...</td>\n    </tr>\n    <tr>\n      <th>9994</th>\n      <td>800</td>\n      <td>France</td>\n      <td>Female</td>\n      <td>29</td>\n      <td>2.0</td>\n      <td>0.00</td>\n      <td>2</td>\n      <td>0</td>\n      <td>0</td>\n      <td>167773.55</td>\n      <td>0</td>\n    </tr>\n    <tr>\n      <th>9995</th>\n      <td>771</td>\n      <td>France</td>\n      <td>Male</td>\n      <td>39</td>\n      <td>5.0</td>\n      <td>0.00</td>\n      <td>2</td>\n      <td>1</td>\n      <td>0</td>\n      <td>96270.64</td>\n      <td>0</td>\n    </tr>\n    <tr>\n      <th>9996</th>\n      <td>516</td>\n      <td>France</td>\n      <td>Male</td>\n      <td>35</td>\n      <td>10.0</td>\n      <td>57369.61</td>\n      <td>1</td>\n      <td>1</td>\n      <td>1</td>\n      <td>101699.77</td>\n      <td>0</td>\n    </tr>\n    <tr>\n      <th>9997</th>\n      <td>709</td>\n      <td>France</td>\n      <td>Female</td>\n      <td>36</td>\n      <td>7.0</td>\n      <td>0.00</td>\n      <td>1</td>\n      <td>0</td>\n      <td>1</td>\n      <td>42085.58</td>\n      <td>1</td>\n    </tr>\n    <tr>\n      <th>9998</th>\n      <td>772</td>\n      <td>Germany</td>\n      <td>Male</td>\n      <td>42</td>\n      <td>3.0</td>\n      <td>75075.31</td>\n      <td>2</td>\n      <td>1</td>\n      <td>0</td>\n      <td>92888.52</td>\n      <td>1</td>\n    </tr>\n  </tbody>\n</table>\n<p>9059 rows × 11 columns</p>\n</div>"
          },
          "metadata": {}
        }
      ],
      "execution_count": 27
    },
    {
      "cell_type": "markdown",
      "source": "We will work with this dataset. Let's look at the distribution of values in the columns:",
      "metadata": {}
    },
    {
      "cell_type": "code",
      "source": "df.hist(figsize=(10,10))\n\nplt.show()",
      "metadata": {
        "scrolled": true,
        "trusted": true
      },
      "outputs": [
        {
          "output_type": "display_data",
          "data": {
            "text/plain": "<Figure size 1000x1000 with 9 Axes>",
            "image/png": "[encoded data removed]"
          },
          "metadata": {}
        }
      ],
      "execution_count": 28
    },
    {
      "cell_type": "markdown",
      "source": "Note that the number of banking products for most clients is 1 or 2, and very small for 3-4. There are approximately the same number of active clients as inactive ones. The age of clients reaches a maximum of 35-40 years. For distribution by account balance there is an \"outlier\" at zero, which means that these clients do not hold money in this bank.",
      "metadata": {}
    },
    {
      "cell_type": "markdown",
      "source": "**Conclusion from step 1**. The data has been downloaded and studied - the dataset is of good quality, preprocessing was carried out only to remove gaps in one column and identify implicit duplicates.",
      "metadata": {}
    },
    {
      "cell_type": "markdown",
      "source": "## Problem research",
      "metadata": {}
    },
    {
      "cell_type": "markdown",
      "source": "Problem: Investigate class balance, train a model without taking into account imbalance. Briefly describe your findings.",
      "metadata": {}
    },
    {
      "cell_type": "markdown",
      "source": "Let's consider the balance of classes for parameters Exited, Geography, Gender.",
      "metadata": {}
    },
    {
      "cell_type": "code",
      "source": "df['Exited'].hist()\nplt.title('Number of clients who left the bank')\nplt.show()",
      "metadata": {
        "scrolled": true,
        "trusted": true
      },
      "outputs": [
        {
          "output_type": "display_data",
          "data": {
            "text/plain": "<Figure size 640x480 with 1 Axes>",
            "image/png": "[encoded data removed]"
          },
          "metadata": {}
        }
      ],
      "execution_count": 29
    },
    {
      "cell_type": "code",
      "source": "len(df.query('Exited==1'))/len(df)",
      "metadata": {
        "trusted": true
      },
      "outputs": [
        {
          "execution_count": 30,
          "output_type": "execute_result",
          "data": {
            "text/plain": "0.20399602605144054"
          },
          "metadata": {}
        }
      ],
      "execution_count": 30
    },
    {
      "cell_type": "markdown",
      "source": "The ratio of those who left the bank to those who remained ~4:1",
      "metadata": {}
    },
    {
      "cell_type": "code",
      "source": "df['Geography'].hist()\nplt.title('Client geography')\nplt.show()",
      "metadata": {
        "scrolled": true,
        "trusted": true
      },
      "outputs": [
        {
          "output_type": "display_data",
          "data": {
            "text/plain": "<Figure size 640x480 with 1 Axes>",
            "image/png": "[encoded data removed]"
          },
          "metadata": {}
        }
      ],
      "execution_count": 31
    },
    {
      "cell_type": "code",
      "source": "len(df.query('Geography==\"France\"'))/len(df), len(df.query('Geography==\"Spain\"'))/len(df), len(df.query(\n    'Geography==\"Germany\"'))/len(df)",
      "metadata": {
        "trusted": true
      },
      "outputs": [
        {
          "execution_count": 32,
          "output_type": "execute_result",
          "data": {
            "text/plain": "(0.49983441881002316, 0.24770946020532067, 0.25245612098465614)"
          },
          "metadata": {}
        }
      ],
      "execution_count": 32
    },
    {
      "cell_type": "markdown",
      "source": "Ratio by country France : Spain : Germany ~ 2:1:1",
      "metadata": {}
    },
    {
      "cell_type": "code",
      "source": "df['Gender'].hist()\nplt.title('Clients gender')\nplt.show()",
      "metadata": {
        "trusted": true
      },
      "outputs": [
        {
          "output_type": "display_data",
          "data": {
            "text/plain": "<Figure size 640x480 with 1 Axes>",
            "image/png": "[encoded data removed]"
          },
          "metadata": {}
        }
      ],
      "execution_count": 33
    },
    {
      "cell_type": "code",
      "source": "len(df.query('Gender==\"Female\"'))/len(df)",
      "metadata": {
        "scrolled": true,
        "trusted": true
      },
      "outputs": [
        {
          "execution_count": 34,
          "output_type": "execute_result",
          "data": {
            "text/plain": "0.45314052323656034"
          },
          "metadata": {}
        }
      ],
      "execution_count": 34
    },
    {
      "cell_type": "markdown",
      "source": "Gender ratio of clients F:M ~ 9:13. ",
      "metadata": {}
    },
    {
      "cell_type": "code",
      "source": "df['IsActiveMember'].hist()\nplt.title('Client activity')\nplt.show()",
      "metadata": {
        "trusted": true
      },
      "outputs": [
        {
          "output_type": "display_data",
          "data": {
            "text/plain": "<Figure size 640x480 with 1 Axes>",
            "image/png": "[encoded data removed]"
          },
          "metadata": {}
        }
      ],
      "execution_count": 35
    },
    {
      "cell_type": "code",
      "source": "df['NumOfProducts'].hist()\nplt.title('Number of customer products')\nplt.show()",
      "metadata": {
        "scrolled": true,
        "trusted": true
      },
      "outputs": [
        {
          "output_type": "display_data",
          "data": {
            "text/plain": "<Figure size 640x480 with 1 Axes>",
            "image/png": "[encoded data removed]"
          },
          "metadata": {}
        }
      ],
      "execution_count": 36
    },
    {
      "cell_type": "code",
      "source": "print(f'Proportion of customers with 1 product:, {round(len(df.query(\"NumOfProducts==1\"))/len(df),2)}')\nprint(f'Proportion of customers with 2 products:, {round(len(df.query(\"NumOfProducts==2\"))/len(df),2)}')\nprint(f'Proportion of customers with 3 products:, {round(len(df.query(\"NumOfProducts==3\"))/len(df),2)}')\nprint(f'Proportion of customers with 4 products:, {round(len(df.query(\"NumOfProducts==4\"))/len(df),2)}')",
      "metadata": {
        "trusted": true
      },
      "outputs": [
        {
          "name": "stdout",
          "text": "Proportion of customers with 1 product:, 0.51\nProportion of customers with 2 products:, 0.46\nProportion of customers with 3 products:, 0.03\nProportion of customers with 4 products:, 0.01\n",
          "output_type": "stream"
        }
      ],
      "execution_count": 37
    },
    {
      "cell_type": "code",
      "source": "#Let's look at the share of abandoned customers for each number of products\nround(len(df.query(\"NumOfProducts==1 and Exited==1\"))/len(df.query(\"NumOfProducts==1\")),2), round(\n     len(df.query(\"NumOfProducts==2 and Exited==1\"))/len(df.query(\"NumOfProducts==2\")),2), round(\n     len(df.query(\"NumOfProducts==3 and Exited==1\"))/len(df.query(\"NumOfProducts==3\")),2), round(\n     len(df.query(\"NumOfProducts==4 and Exited==1\"))/len(df.query(\"NumOfProducts==4\")),2)",
      "metadata": {
        "trusted": true
      },
      "outputs": [
        {
          "execution_count": 38,
          "output_type": "execute_result",
          "data": {
            "text/plain": "(0.28, 0.08, 0.82, 1.0)"
          },
          "metadata": {}
        }
      ],
      "execution_count": 38
    },
    {
      "cell_type": "markdown",
      "source": "It turns out that customers with 3 and 4 products left in 82 and 100% of cases, respectively.",
      "metadata": {}
    },
    {
      "cell_type": "markdown",
      "source": "There is also a class imbalance here. First, we train the model without taking this imbalance into account.",
      "metadata": {}
    },
    {
      "cell_type": "markdown",
      "source": "**Model training - feature coding**",
      "metadata": {}
    },
    {
      "cell_type": "markdown",
      "source": "Let's break down the data into samples, and then apply coding and scaling techniques.\n",
      "metadata": {}
    },
    {
      "cell_type": "markdown",
      "source": "Let's select the target feature and split the data 60-20-20%",
      "metadata": {}
    },
    {
      "cell_type": "code",
      "source": "features = df.drop('Exited', axis=1)\ntarget = df['Exited']  \n#training sample 60%\nfeatures_train, features_valid,  target_train, target_valid = train_test_split(\n    features, target, test_size=0.4, random_state=12345)\n#validation sample\nfeatures_test, features_valid,  target_test, target_valid = train_test_split(\n    features_valid, target_valid, test_size=0.5, random_state=12345)\n\nprint(features_train.shape, features_valid.shape, features_test.shape)\nprint(target_train.shape, target_valid.shape, target_test.shape)\n",
      "metadata": {
        "scrolled": true,
        "trusted": true
      },
      "outputs": [
        {
          "name": "stdout",
          "text": "(5435, 10) (1812, 10) (1812, 10)\n(5435,) (1812,) (1812,)\n",
          "output_type": "stream"
        }
      ],
      "execution_count": 40
    },
    {
      "cell_type": "markdown",
      "source": "Let's encode categorical features. First, let's extract numerical features, excluding binary ones.",
      "metadata": {}
    },
    {
      "cell_type": "code",
      "source": "num_features = features_train.select_dtypes(exclude='object').columns.to_list()\nnum_features.remove('HasCrCard')\nnum_features.remove('IsActiveMember')\nnum_features",
      "metadata": {
        "trusted": true
      },
      "outputs": [
        {
          "execution_count": 41,
          "output_type": "execute_result",
          "data": {
            "text/plain": "['CreditScore', 'Age', 'Tenure', 'Balance', 'NumOfProducts', 'EstimatedSalary']"
          },
          "metadata": {}
        }
      ],
      "execution_count": 41
    },
    {
      "cell_type": "markdown",
      "source": "Training sample encoding:",
      "metadata": {}
    },
    {
      "cell_type": "code",
      "source": "# drop='first' removes the first attribute from the encoded ones:\n# set handle_unknown='ignore':\n# previously unoccurring attribute values are ignored (during transform)\nohe_features = ['Gender', 'Geography']\nencoder_ohe = OneHotEncoder(drop='first', handle_unknown='ignore', sparse=False)\n\n# train the encoder using the given categorical features of the training set\nencoder_ohe.fit(features_train[ohe_features])\n\n# add encoded features to X_train_ohe\n# encoder_ohe.get_feature_names_out() allows you to get column names\nfeatures_train[\n     encoder_ohe.get_feature_names_out()\n] = encoder_ohe.transform(features_train[ohe_features])\n\n# remove unencoded categorical features (initial columns)\nfeatures_train = features_train.drop(ohe_features, axis=1)",
      "metadata": {
        "scrolled": true,
        "trusted": true
      },
      "outputs": [
        {
          "name": "stderr",
          "text": "/lib/python3.11/site-packages/sklearn/preprocessing/_encoders.py:975: FutureWarning: `sparse` was renamed to `sparse_output` in version 1.2 and will be removed in 1.4. `sparse_output` is ignored unless you leave `sparse` to its default value.\n  warnings.warn(\n",
          "output_type": "stream"
        }
      ],
      "execution_count": 42
    },
    {
      "cell_type": "code",
      "source": "features.shape, features_train.shape",
      "metadata": {
        "trusted": true
      },
      "outputs": [
        {
          "execution_count": 43,
          "output_type": "execute_result",
          "data": {
            "text/plain": "((9059, 10), (5435, 11))"
          },
          "metadata": {}
        }
      ],
      "execution_count": 43
    },
    {
      "cell_type": "markdown",
      "source": "Let's carry out scaling of numerical features.",
      "metadata": {}
    },
    {
      "cell_type": "code",
      "source": "# creating a scaler\nscaler = StandardScaler()\n\n# train it on the numerical characteristics of the training sample, transform it\nfeatures_train[num_features] = scaler.fit_transform(features_train[num_features])\n\n# result\nfeatures_train.head()",
      "metadata": {
        "scrolled": true,
        "trusted": true
      },
      "outputs": [
        {
          "execution_count": 44,
          "output_type": "execute_result",
          "data": {
            "text/plain": "      CreditScore       Age    Tenure   Balance  NumOfProducts  HasCrCard  \\\n5859     0.736981 -0.088648  0.692100 -1.235555      -0.910652          0   \n9659     1.776239  0.290424 -0.691718  0.172630       0.794860          1   \n4150     1.152684 -0.562488  0.346146  0.978445       0.794860          1   \n9514     2.025661 -1.036328  1.384010 -1.235555       0.794860          1   \n6448     0.310885 -0.183416  0.346146  0.755315       0.794860          1   \n\n      IsActiveMember  EstimatedSalary  Gender_Male  Geography_Germany  \\\n5859               1        -0.813980          1.0                0.0   \n9659               1        -0.621681          1.0                1.0   \n4150               0         0.839188          0.0                0.0   \n9514               1        -0.767963          0.0                0.0   \n6448               0        -0.131994          0.0                0.0   \n\n      Geography_Spain  \n5859              1.0  \n9659              0.0  \n4150              0.0  \n9514              0.0  \n6448              1.0  ",
            "text/html": "<div>\n<style scoped>\n    .dataframe tbody tr th:only-of-type {\n        vertical-align: middle;\n    }\n\n    .dataframe tbody tr th {\n        vertical-align: top;\n    }\n\n    .dataframe thead th {\n        text-align: right;\n    }\n</style>\n<table border=\"1\" class=\"dataframe\">\n  <thead>\n    <tr style=\"text-align: right;\">\n      <th></th>\n      <th>CreditScore</th>\n      <th>Age</th>\n      <th>Tenure</th>\n      <th>Balance</th>\n      <th>NumOfProducts</th>\n      <th>HasCrCard</th>\n      <th>IsActiveMember</th>\n      <th>EstimatedSalary</th>\n      <th>Gender_Male</th>\n      <th>Geography_Germany</th>\n      <th>Geography_Spain</th>\n    </tr>\n  </thead>\n  <tbody>\n    <tr>\n      <th>5859</th>\n      <td>0.736981</td>\n      <td>-0.088648</td>\n      <td>0.692100</td>\n      <td>-1.235555</td>\n      <td>-0.910652</td>\n      <td>0</td>\n      <td>1</td>\n      <td>-0.813980</td>\n      <td>1.0</td>\n      <td>0.0</td>\n      <td>1.0</td>\n    </tr>\n    <tr>\n      <th>9659</th>\n      <td>1.776239</td>\n      <td>0.290424</td>\n      <td>-0.691718</td>\n      <td>0.172630</td>\n      <td>0.794860</td>\n      <td>1</td>\n      <td>1</td>\n      <td>-0.621681</td>\n      <td>1.0</td>\n      <td>1.0</td>\n      <td>0.0</td>\n    </tr>\n    <tr>\n      <th>4150</th>\n      <td>1.152684</td>\n      <td>-0.562488</td>\n      <td>0.346146</td>\n      <td>0.978445</td>\n      <td>0.794860</td>\n      <td>1</td>\n      <td>0</td>\n      <td>0.839188</td>\n      <td>0.0</td>\n      <td>0.0</td>\n      <td>0.0</td>\n    </tr>\n    <tr>\n      <th>9514</th>\n      <td>2.025661</td>\n      <td>-1.036328</td>\n      <td>1.384010</td>\n      <td>-1.235555</td>\n      <td>0.794860</td>\n      <td>1</td>\n      <td>1</td>\n      <td>-0.767963</td>\n      <td>0.0</td>\n      <td>0.0</td>\n      <td>0.0</td>\n    </tr>\n    <tr>\n      <th>6448</th>\n      <td>0.310885</td>\n      <td>-0.183416</td>\n      <td>0.346146</td>\n      <td>0.755315</td>\n      <td>0.794860</td>\n      <td>1</td>\n      <td>0</td>\n      <td>-0.131994</td>\n      <td>0.0</td>\n      <td>0.0</td>\n      <td>1.0</td>\n    </tr>\n  </tbody>\n</table>\n</div>"
          },
          "metadata": {}
        }
      ],
      "execution_count": 44
    },
    {
      "cell_type": "markdown",
      "source": "Encoding and scaling the training set:",
      "metadata": {}
    },
    {
      "cell_type": "code",
      "source": "features_valid[\n    encoder_ohe.get_feature_names_out()\n] = encoder_ohe.transform(features_valid[ohe_features])\n\nfeatures_valid = features_valid.drop(ohe_features, axis=1)\n\n# using the scaler to fit validation data\nfeatures_valid[num_features] = scaler.transform(\n    features_valid[num_features]\n)\n\n# смотрим на результат\nfeatures_valid.head()",
      "metadata": {
        "trusted": true
      },
      "outputs": [
        {
          "execution_count": 45,
          "output_type": "execute_result",
          "data": {
            "text/plain": "      CreditScore       Age    Tenure   Balance  NumOfProducts  HasCrCard  \\\n9146     0.227744  0.100888 -0.345764  0.192173       0.794860          1   \n7424    -0.832300 -0.088648 -1.383628  0.804405      -0.910652          1   \n1704     0.040677 -0.941560 -0.345764  0.319654      -0.910652          0   \n3153     0.539522 -0.941560  0.346146  1.157494      -0.910652          1   \n6465     0.830514 -1.225864  0.346146 -1.235555       0.794860          1   \n\n      IsActiveMember  EstimatedSalary  Gender_Male  Geography_Germany  \\\n9146               0         1.535429          1.0                1.0   \n7424               0         0.811224          1.0                1.0   \n1704               1         0.711174          0.0                0.0   \n3153               1        -1.575987          0.0                0.0   \n6465               1         1.481908          1.0                0.0   \n\n      Geography_Spain  \n9146              0.0  \n7424              0.0  \n1704              0.0  \n3153              0.0  \n6465              1.0  ",
            "text/html": "<div>\n<style scoped>\n    .dataframe tbody tr th:only-of-type {\n        vertical-align: middle;\n    }\n\n    .dataframe tbody tr th {\n        vertical-align: top;\n    }\n\n    .dataframe thead th {\n        text-align: right;\n    }\n</style>\n<table border=\"1\" class=\"dataframe\">\n  <thead>\n    <tr style=\"text-align: right;\">\n      <th></th>\n      <th>CreditScore</th>\n      <th>Age</th>\n      <th>Tenure</th>\n      <th>Balance</th>\n      <th>NumOfProducts</th>\n      <th>HasCrCard</th>\n      <th>IsActiveMember</th>\n      <th>EstimatedSalary</th>\n      <th>Gender_Male</th>\n      <th>Geography_Germany</th>\n      <th>Geography_Spain</th>\n    </tr>\n  </thead>\n  <tbody>\n    <tr>\n      <th>9146</th>\n      <td>0.227744</td>\n      <td>0.100888</td>\n      <td>-0.345764</td>\n      <td>0.192173</td>\n      <td>0.794860</td>\n      <td>1</td>\n      <td>0</td>\n      <td>1.535429</td>\n      <td>1.0</td>\n      <td>1.0</td>\n      <td>0.0</td>\n    </tr>\n    <tr>\n      <th>7424</th>\n      <td>-0.832300</td>\n      <td>-0.088648</td>\n      <td>-1.383628</td>\n      <td>0.804405</td>\n      <td>-0.910652</td>\n      <td>1</td>\n      <td>0</td>\n      <td>0.811224</td>\n      <td>1.0</td>\n      <td>1.0</td>\n      <td>0.0</td>\n    </tr>\n    <tr>\n      <th>1704</th>\n      <td>0.040677</td>\n      <td>-0.941560</td>\n      <td>-0.345764</td>\n      <td>0.319654</td>\n      <td>-0.910652</td>\n      <td>0</td>\n      <td>1</td>\n      <td>0.711174</td>\n      <td>0.0</td>\n      <td>0.0</td>\n      <td>0.0</td>\n    </tr>\n    <tr>\n      <th>3153</th>\n      <td>0.539522</td>\n      <td>-0.941560</td>\n      <td>0.346146</td>\n      <td>1.157494</td>\n      <td>-0.910652</td>\n      <td>1</td>\n      <td>1</td>\n      <td>-1.575987</td>\n      <td>0.0</td>\n      <td>0.0</td>\n      <td>0.0</td>\n    </tr>\n    <tr>\n      <th>6465</th>\n      <td>0.830514</td>\n      <td>-1.225864</td>\n      <td>0.346146</td>\n      <td>-1.235555</td>\n      <td>0.794860</td>\n      <td>1</td>\n      <td>1</td>\n      <td>1.481908</td>\n      <td>1.0</td>\n      <td>0.0</td>\n      <td>1.0</td>\n    </tr>\n  </tbody>\n</table>\n</div>"
          },
          "metadata": {}
        }
      ],
      "execution_count": 45
    },
    {
      "cell_type": "markdown",
      "source": "Кодирование и масштабирование тестовой выборки:",
      "metadata": {}
    },
    {
      "cell_type": "code",
      "source": "features_test[\n    encoder_ohe.get_feature_names_out()\n] = encoder_ohe.transform(features_test[ohe_features])\n\nfeatures_test = features_test.drop(ohe_features, axis=1)\n\n# скелером, который обучен на ТРЕНИРОВОЧНОЙ ВЫБОРКЕ, масштабируем тестовую\nfeatures_test[num_features] = scaler.transform(\n    features_test[num_features]\n)\n\n# result\nfeatures_test.head()\n",
      "metadata": {
        "trusted": true
      },
      "outputs": [
        {
          "execution_count": 46,
          "output_type": "execute_result",
          "data": {
            "text/plain": "      CreditScore       Age    Tenure   Balance  NumOfProducts  HasCrCard  \\\n9917    -0.156782  1.332872  1.038055  0.640889      -0.910652          0   \n6878     0.009500 -0.372952 -1.729583  1.680365       0.794860          0   \n7278    -0.084034 -0.562488 -0.345764  0.121312       0.794860          0   \n744     -0.000893  1.996248  1.038055 -1.235555       0.794860          1   \n3387    -1.175255  4.270680  1.038055  0.243756      -0.910652          1   \n\n      IsActiveMember  EstimatedSalary  Gender_Male  Geography_Germany  \\\n9917               1         0.402955          1.0                1.0   \n6878               1        -1.102301          1.0                0.0   \n7278               1        -0.700731          0.0                0.0   \n744                1         0.043303          1.0                0.0   \n3387               1         1.489325          1.0                1.0   \n\n      Geography_Spain  \n9917              0.0  \n6878              0.0  \n7278              0.0  \n744               0.0  \n3387              0.0  ",
            "text/html": "<div>\n<style scoped>\n    .dataframe tbody tr th:only-of-type {\n        vertical-align: middle;\n    }\n\n    .dataframe tbody tr th {\n        vertical-align: top;\n    }\n\n    .dataframe thead th {\n        text-align: right;\n    }\n</style>\n<table border=\"1\" class=\"dataframe\">\n  <thead>\n    <tr style=\"text-align: right;\">\n      <th></th>\n      <th>CreditScore</th>\n      <th>Age</th>\n      <th>Tenure</th>\n      <th>Balance</th>\n      <th>NumOfProducts</th>\n      <th>HasCrCard</th>\n      <th>IsActiveMember</th>\n      <th>EstimatedSalary</th>\n      <th>Gender_Male</th>\n      <th>Geography_Germany</th>\n      <th>Geography_Spain</th>\n    </tr>\n  </thead>\n  <tbody>\n    <tr>\n      <th>9917</th>\n      <td>-0.156782</td>\n      <td>1.332872</td>\n      <td>1.038055</td>\n      <td>0.640889</td>\n      <td>-0.910652</td>\n      <td>0</td>\n      <td>1</td>\n      <td>0.402955</td>\n      <td>1.0</td>\n      <td>1.0</td>\n      <td>0.0</td>\n    </tr>\n    <tr>\n      <th>6878</th>\n      <td>0.009500</td>\n      <td>-0.372952</td>\n      <td>-1.729583</td>\n      <td>1.680365</td>\n      <td>0.794860</td>\n      <td>0</td>\n      <td>1</td>\n      <td>-1.102301</td>\n      <td>1.0</td>\n      <td>0.0</td>\n      <td>0.0</td>\n    </tr>\n    <tr>\n      <th>7278</th>\n      <td>-0.084034</td>\n      <td>-0.562488</td>\n      <td>-0.345764</td>\n      <td>0.121312</td>\n      <td>0.794860</td>\n      <td>0</td>\n      <td>1</td>\n      <td>-0.700731</td>\n      <td>0.0</td>\n      <td>0.0</td>\n      <td>0.0</td>\n    </tr>\n    <tr>\n      <th>744</th>\n      <td>-0.000893</td>\n      <td>1.996248</td>\n      <td>1.038055</td>\n      <td>-1.235555</td>\n      <td>0.794860</td>\n      <td>1</td>\n      <td>1</td>\n      <td>0.043303</td>\n      <td>1.0</td>\n      <td>0.0</td>\n      <td>0.0</td>\n    </tr>\n    <tr>\n      <th>3387</th>\n      <td>-1.175255</td>\n      <td>4.270680</td>\n      <td>1.038055</td>\n      <td>0.243756</td>\n      <td>-0.910652</td>\n      <td>1</td>\n      <td>1</td>\n      <td>1.489325</td>\n      <td>1.0</td>\n      <td>1.0</td>\n      <td>0.0</td>\n    </tr>\n  </tbody>\n</table>\n</div>"
          },
          "metadata": {}
        }
      ],
      "execution_count": 46
    },
    {
      "cell_type": "markdown",
      "source": "Let's train the model without working on the imbalance and using the class_weight argument.\n\n**Model 1. Logistic regression - without taking into account imbalance.**",
      "metadata": {}
    },
    {
      "cell_type": "markdown",
      "source": "Let's consider the model and its metric F1",
      "metadata": {}
    },
    {
      "cell_type": "code",
      "source": "model = LogisticRegression(solver='liblinear', random_state=12345)\nmodel.fit(features_train, target_train)\npredicted_valid = model.predict(features_valid)\nresult= model.score(features_valid, target_valid)\n  \nprint(\"F1:\", f1_score(target_valid, predicted_valid))",
      "metadata": {
        "scrolled": true,
        "trusted": true
      },
      "outputs": [
        {
          "name": "stdout",
          "text": "F1: 0.2901960784313726\n",
          "output_type": "stream"
        }
      ],
      "execution_count": 47
    },
    {
      "cell_type": "markdown",
      "source": "F1 low, 0.29. Let's display the ROC-AUC value",
      "metadata": {}
    },
    {
      "cell_type": "code",
      "source": "def print_auc_roc(target,features):\n    probabilities_valid = model.predict_proba(features)\n    probabilities_one_valid = probabilities_valid[:, 1]\n    \n    auc_roc = roc_auc_score(target, probabilities_one_valid)\n    print(\"ROC-AUC:\" ,auc_roc)",
      "metadata": {
        "trusted": true
      },
      "outputs": [],
      "execution_count": 48
    },
    {
      "cell_type": "code",
      "source": "print_auc_roc(target_valid,features_valid)",
      "metadata": {
        "trusted": true
      },
      "outputs": [
        {
          "name": "stdout",
          "text": "ROC-AUC: 0.75149649683695\n",
          "output_type": "stream"
        }
      ],
      "execution_count": 49
    },
    {
      "cell_type": "markdown",
      "source": "**Model 2. Decision tree.** Let's find a decision tree with a depth corresponding to the highest accuracy of the model.",
      "metadata": {}
    },
    {
      "cell_type": "code",
      "source": "best_result=0\nbest_model= None\n\nfor depth in range(1, 16):\n    model = DecisionTreeClassifier(random_state=12345, max_depth=depth)\n    model.fit(features_train, target_train)\n    predicted_valid = model.predict(features_valid)\n    result = f1_score(target_valid, predicted_valid)\n    print(result, depth)    \n    if result > best_result:\n        best_model = model\n        best_result = result\n        best_depth = depth\nprint()        \n#print('accuracy=', best_result, 'Высота дерева лучшей модели depth=', best_depth)\nprint(\"F1:\", best_result, 'Tree height of the best model depth=', best_depth)\nprint_auc_roc(target_valid,features_valid)",
      "metadata": {
        "trusted": true
      },
      "outputs": [
        {
          "name": "stdout",
          "text": "0.0 1\n0.5177195685670262 2\n0.3839662447257384 3\n0.5120274914089347 4\n0.577639751552795 5\n0.5593220338983051 6\n0.6029850746268656 7\n0.5674846625766872 8\n0.5718608169440241 9\n0.5601217656012176 10\n0.5195936139332366 11\n0.5209840810419682 12\n0.5106382978723405 13\n0.5020804438280166 14\n0.5 15\n\nF1: 0.6029850746268656 Tree height of the best model depth= 7\nROC-AUC: 0.6928119024404993\n",
          "output_type": "stream"
        }
      ],
      "execution_count": 50
    },
    {
      "cell_type": "markdown",
      "source": "When the tree height is 7, the maximum value of F1 value is 0.603. ROC-AUC value 0.693.",
      "metadata": {}
    },
    {
      "cell_type": "markdown",
      "source": "**Model 3. Random forest.** Let's select the number of trees.",
      "metadata": {}
    },
    {
      "cell_type": "code",
      "source": "best_model = None\nbest_result = 0\nfor est in range (190,200):\n    for depth in range(12,16):\n        model = RandomForestClassifier(random_state=12345, n_estimators= est, max_depth=depth) \n        model.fit(features_train, target_train)\n        predicted_valid = model.predict(features_valid)\n        result = f1_score(target_valid, predicted_valid)\n        #print(result, est, depth)\n        if result > best_result:\n            best_model = model \n            best_result = result \n            best_depth = depth\n            best_est = est\nprint()\nprint(\"F1 of the best model on the validation set:\", best_result, \"Height of trees:\", best_depth, \"Number of trees\", best_est )\n\nprint_auc_roc(target_valid,features_valid)",
      "metadata": {
        "trusted": true
      },
      "outputs": [
        {
          "name": "stdout",
          "text": "\nF1 of the best model on the validation set: 0.5699658703071673 Height of trees: 12 Number of trees 192\nROC-AUC: 0.8502520614621831\n",
          "output_type": "stream"
        }
      ],
      "execution_count": 51
    },
    {
      "cell_type": "markdown",
      "source": "The best value f1= 0.570 was achieved with 192 trees and tree height 12.",
      "metadata": {}
    },
    {
      "cell_type": "markdown",
      "source": "**Conclusion from step 2**. There is a class imbalance in the data. When building models, the highest f1-measure value of 0.603 was shown by the decision tree model with a tree height equal to 7.ROC-AUC and 0.69 being less than that of a random forest (0.853).\n\nIt is necessary to analyze the model, first eliminating the imbalance.",
      "metadata": {}
    },
    {
      "cell_type": "markdown",
      "source": "## Fighting Imbalance",
      "metadata": {}
    },
    {
      "cell_type": "markdown",
      "source": "To eliminate the imbalance we will use upsamplimg/downsampling.",
      "metadata": {}
    },
    {
      "cell_type": "code",
      "source": "\"\"\"oversample = SMOTE(random_state=12345,k_neighbors=4)\n\nfeatures_train_up, target_train_up = oversample.fit_resample(features_train, target_train)\"\"\"",
      "metadata": {
        "trusted": true
      },
      "outputs": [
        {
          "execution_count": 52,
          "output_type": "execute_result",
          "data": {
            "text/plain": "'oversample = SMOTE(random_state=12345,k_neighbors=4)\\n\\nfeatures_train_up, target_train_up = oversample.fit_resample(features_train, target_train)'"
          },
          "metadata": {}
        }
      ],
      "execution_count": 52
    },
    {
      "cell_type": "code",
      "source": "def upsample(features, target, repeat):\n    features_zeros = features[target == 0]\n    features_ones = features[target == 1]\n    target_zeros = target[target == 0]\n    target_ones = target[target == 1]\n\n    features_upsampled = pd.concat([features_zeros] + [features_ones] * repeat)\n    target_upsampled = pd.concat([target_zeros] + [target_ones] * repeat)\n    \n    features_upsampled, target_upsampled = shuffle(\n        features_upsampled, target_upsampled, random_state=12345)\n    \n    return features_upsampled, target_upsampled\n\nfeatures_train_up, target_train_up = upsample(features_train, target_train, 4)",
      "metadata": {
        "trusted": true
      },
      "outputs": [],
      "execution_count": 53
    },
    {
      "cell_type": "markdown",
      "source": "Now let's train the models with “new” samples.",
      "metadata": {}
    },
    {
      "cell_type": "markdown",
      "source": "**Logistic Regression - upsamplimg**",
      "metadata": {}
    },
    {
      "cell_type": "code",
      "source": "model = LogisticRegression(random_state=12345, solver='liblinear')\nmodel.fit(features_train_up, target_train_up)\npredicted_valid= model.predict(features_valid)\nprint(\"F1:\", f1_score(target_valid, predicted_valid))\nprint_auc_roc(target_valid,features_valid)",
      "metadata": {},
      "outputs": [
        {
          "name": "stdout",
          "output_type": "stream",
          "text": [
            "F1: 0.4919583727530748\n",
            "ROC-AUC: 0.7528437218934465\n"
          ]
        }
      ],
      "execution_count": 37
    },
    {
      "cell_type": "markdown",
      "source": "The F1 metric increased noticeably in the case of training on a balanced sample.",
      "metadata": {}
    },
    {
      "cell_type": "markdown",
      "source": "**Decision Tree - upsampling.** ",
      "metadata": {}
    },
    {
      "cell_type": "code",
      "source": "best_result=0\nbest_model= None\n\nfor depth in range(1, 20):\n    model = DecisionTreeClassifier(random_state=12345, max_depth=depth)\n    model.fit(features_train_up, target_train_up) \n    predicted_valid = model.predict(features_valid)\n    result = f1_score(target_valid, predicted_valid)\n    print(result, depth)    \n    if result > best_result:\n        best_model = model\n        best_result = result\n        best_depth = depth\nprint()        \n\nprint(\"F1:\", best_result, 'Depth of the best  model depth=', best_depth)\nprint_auc_roc(target_valid,features_valid)",
      "metadata": {
        "trusted": true
      },
      "outputs": [
        {
          "name": "stdout",
          "text": "0.4715615305067219 1\n0.5115346038114342 2\n0.532620320855615 3\n0.5216589861751152 4\n0.5878220140515223 5\n0.5656970912738215 6\n0.5571725571725572 7\n0.550098231827112 8\n0.5472527472527472 9\n0.5321888412017168 10\n0.5292792792792793 11\n0.5333333333333333 12\n0.5188794153471377 13\n0.5139949109414758 14\n0.5209656925031766 15\n0.5117493472584858 16\n0.5112582781456954 17\n0.5181208053691275 18\n0.5136612021857924 19\n\nF1: 0.5878220140515223 Depth of the best  model depth= 5\nROC-AUC: 0.6972522655299337\n",
          "output_type": "stream"
        }
      ],
      "execution_count": 55
    },
    {
      "cell_type": "markdown",
      "source": "The F1 value increased to 0.588, but still lower than in the model without taking into account imbalance.",
      "metadata": {}
    },
    {
      "cell_type": "markdown",
      "source": "**Random Forest - upsampling.**",
      "metadata": {}
    },
    {
      "cell_type": "code",
      "source": "best_model = None\nbest_result = 0\n\nfor est in range(120,125):\n    for depth in range(10,15):\n        model = RandomForestClassifier(random_state=12345, n_estimators= est, max_depth=depth) \n        model.fit(features_train_up, target_train_up)\n        predicted_valid = model.predict(features_valid)\n        result = f1_score(target_valid, predicted_valid)\n        print(result, est, depth)\n        if result > best_result:\n            best_model = model \n            best_result = result \n            best_est = est\n            best_depth= depth\nprint()\n\nprint(\"F1-measure of the best model on an enlarged validation set:\", best_result, \"Trees:\", best_est, \"Depth\", depth)\n",
      "metadata": {
        "trusted": true
      },
      "outputs": [
        {
          "name": "stdout",
          "text": "0.6206896551724138 120 10\n0.6163366336633663 120 11\n0.619718309859155 120 12\n0.6222222222222222 120 13\n0.6181318681318682 120 14\n0.6181384248210023 121 10\n0.6165228113440198 121 11\n0.6214833759590792 121 12\n0.6256544502617801 121 13\n0.6183310533515733 121 14\n0.6197854588796187 122 10\n0.617283950617284 122 11\n0.6214833759590792 122 12\n0.6264744429882044 122 13\n0.6134800550206327 122 14\n0.6214285714285716 123 10\n0.617283950617284 123 11\n0.619718309859155 123 12\n0.6264744429882044 123 13\n0.6145404663923182 123 14\n0.6205250596658711 124 10\n0.6157635467980296 124 11\n0.618925831202046 124 12\n0.6264744429882044 124 13\n0.6151724137931034 124 14\n\nF1-measure of the best model on an enlarged validation set: 0.6264744429882044 Trees: 122 Depth 14\n",
          "output_type": "stream"
        }
      ],
      "execution_count": 56
    },
    {
      "cell_type": "markdown",
      "source": "With the value max_depth=14 and the number of trees est=122, F1 0.626 was achieved.",
      "metadata": {}
    },
    {
      "cell_type": "markdown",
      "source": "Для уменьшения выборки используем RandomUnderSampler",
      "metadata": {}
    },
    {
      "cell_type": "code",
      "source": "rus = RandomUnderSampler()\nfeatures_train_down, target_train_down = rus.fit_resample(features_train, target_train)\n",
      "metadata": {},
      "outputs": [],
      "execution_count": 41
    },
    {
      "cell_type": "markdown",
      "source": "**Логистическая регрессия - downsampling**",
      "metadata": {}
    },
    {
      "cell_type": "code",
      "source": "model = LogisticRegression(solver='liblinear', random_state=12345)\nmodel.fit(features_train_down, target_train_down)\npredicted_valid = model.predict(features_valid)\n\n\nprint(\"F1:\", f1_score(target_valid, predicted_valid))\nprint_auc_roc(target_valid,features_valid)",
      "metadata": {},
      "outputs": [
        {
          "name": "stdout",
          "output_type": "stream",
          "text": [
            "F1: 0.4995251661918329\n",
            "ROC-AUC: 0.7517931508816483\n"
          ]
        }
      ],
      "execution_count": 42
    },
    {
      "cell_type": "markdown",
      "source": "Мера F1 немного ниже, чем при увеличенной выборке, но все же гораздо выше, чем для дисбалансированной выборки.",
      "metadata": {}
    },
    {
      "cell_type": "markdown",
      "source": "**Дерево решений - downsampling.**",
      "metadata": {}
    },
    {
      "cell_type": "code",
      "source": "best_result=0\nbest_model= None\n\nfor depth in range(1, 20):\n    model = DecisionTreeClassifier(random_state=12345, max_depth=depth)\n    model.fit(features_train_down, target_train_down)\n    predicted_valid = model.predict(features_valid)\n    result = f1_score(target_valid, predicted_valid)\n    print(result, depth)    \n    if result > best_result:\n        best_model = model\n        best_result = result\n        best_depth = depth\nprint()        \n\nprint(\"F1:\", best_result, 'Высота дерева лучшей модели depth=', best_depth)\nprint_auc_roc(target_valid,features_valid)",
      "metadata": {},
      "outputs": [
        {
          "name": "stdout",
          "output_type": "stream",
          "text": [
            "0.4715615305067219 1\n",
            "0.5115346038114342 2\n",
            "0.5115346038114342 3\n",
            "0.5406464250734574 4\n",
            "0.5585774058577405 5\n",
            "0.5365384615384616 6\n",
            "0.5478887744593203 7\n",
            "0.5356773526370217 8\n",
            "0.5015166835187057 9\n",
            "0.48679245283018874 10\n",
            "0.4618284637134778 11\n",
            "0.47070124879923153 12\n",
            "0.47393364928909953 13\n",
            "0.460093896713615 14\n",
            "0.45783132530120485 15\n",
            "0.44566210045662097 16\n",
            "0.4598130841121495 17\n",
            "0.455743879472693 18\n",
            "0.46139534883720934 19\n",
            "\n",
            "F1: 0.5585774058577405 Высота дерева лучшей модели depth= 5\n",
            "ROC-AUC: 0.6793925583293653\n"
          ]
        }
      ],
      "execution_count": 43
    },
    {
      "cell_type": "markdown",
      "source": "F1 здесь ниже, чем для увеличенной выборки.",
      "metadata": {}
    },
    {
      "cell_type": "markdown",
      "source": "**Случайный лес - downsampling.** Подбираем количество деревьев и глубину.",
      "metadata": {}
    },
    {
      "cell_type": "code",
      "source": "best_model = None\nbest_result = 0\n\nfor est in range(100,130,2):\n    for depth in range(5,15):\n        model = RandomForestClassifier(random_state=12345, n_estimators= est, max_depth=depth) \n        model.fit(features_train_down, target_train_down)\n        predicted_valid = model.predict(features_valid)\n        result = f1_score(target_valid, predicted_valid)\n        #print(result, est, depth)\n        if result > best_result:\n            best_model = model \n            best_result = result \n            best_est = est\n            best_depth= depth\nprint()\n\nprint(\"F1-мера наилучшей модели на уменьшенной валидационной выборке:\", best_result, \"Деревьев:\", best_est, \"Глубина\", depth)\nprint_auc_roc(target_valid,features_valid)",
      "metadata": {},
      "outputs": [
        {
          "name": "stdout",
          "output_type": "stream",
          "text": [
            "\n",
            "F1-мера наилучшей модели на уменьшенной валидационной выборке: 0.6075675675675676 Деревьев: 124 Глубина 14\n",
            "ROC-AUC: 0.849375325941546\n"
          ]
        }
      ],
      "execution_count": 44
    },
    {
      "cell_type": "markdown",
      "source": "Здесь также уменьшается мера F1.\n",
      "metadata": {}
    },
    {
      "cell_type": "markdown",
      "source": "**Вывод по шагу 3:**\n\nПри изменении размера выборки наибольшее значение F1 показала модель Случайный лес на увеличенной выборке, с max_depth=14 и n_est=125, F1 = 0.628, ROC-AUC: 0.85.\n",
      "metadata": {}
    },
    {
      "cell_type": "markdown",
      "source": "\n## Model Testng",
      "metadata": {}
    },
    {
      "cell_type": "markdown",
      "source": "Let's test the model with the hyperparameters selected earlier:",
      "metadata": {}
    },
    {
      "cell_type": "code",
      "source": "model = RandomForestClassifier(random_state=12345, n_estimators= 122, max_depth=14)\nmodel.fit(features_train_up, target_train_up)\npredicted_test= model.predict(features_test)\nresult = f1_score(target_test, predicted_test)\nprint(\"F1 on test sample:\", result) #\nprint_auc_roc(target_test,features_test)",
      "metadata": {
        "trusted": true
      },
      "outputs": [
        {
          "name": "stdout",
          "text": "F1 on test sample: 0.5908460471567268\nROC-AUC: 0.8375423391113768\n",
          "output_type": "stream"
        }
      ],
      "execution_count": 57
    },
    {
      "cell_type": "markdown",
      "source": "F1 of the best model on the test set: 0.591\n\nLet's build an ROC curve for the test sample.",
      "metadata": {}
    },
    {
      "cell_type": "code",
      "source": "probabilities_test = model.predict_proba(features_test)\nprobabilities_one_test = probabilities_test[:, 1]\nfpr, tpr, thresholds = roc_curve(target_test, probabilities_one_test)\nauc_roc = roc_auc_score(target_test, probabilities_one_test)\n\nplt.plot(fpr, tpr, label='RandomForestClassifier')\n\nplt.plot([0, 1], [0, 1], linestyle='--', label='RandomModel')\nplt.title('ROC for test sample and random model')\nplt.show()\n",
      "metadata": {
        "trusted": true
      },
      "outputs": [
        {
          "output_type": "display_data",
          "data": {
            "text/plain": "<Figure size 640x480 with 1 Axes>",
            "image/png": "[encoded data removed]"
          },
          "metadata": {}
        }
      ],
      "execution_count": 58
    },
    {
      "cell_type": "markdown",
      "source": "The higher the ROC curve, the better. In this case, a fairly high value of ROC_AUC = 0.843 was achieved for the test model.",
      "metadata": {}
    },
    {
      "cell_type": "markdown",
      "source": "# Conclusion:\n- The data has been studied and processed. A breakdown was made into training, validation and test samples.\n- Class imbalance was studied and models were trained without taking into account the imbalance.\n- Classes are balanced by increasing and decreasing samples, models are trained on balanced samples.\n- The model has been tested.\n\n     The best result F1-0.591 measure was achieved when training the Random Forest model on an enlarged sample with hyperparameters number of trees -122, depth -14. The AUC-ROC metric was 0.84, which indicates a high probability of being included in the classes.\n",
      "metadata": {}
    },
    {
      "cell_type": "code",
      "source": "",
      "metadata": {
        "trusted": true
      },
      "outputs": [],
      "execution_count": null
    }
  ]
}