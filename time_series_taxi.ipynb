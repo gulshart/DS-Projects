{
  "metadata": {
    "kernelspec": {
      "name": "python",
      "display_name": "Python (Pyodide)",
      "language": "python"
    },
    "language_info": {
      "codemirror_mode": {
        "name": "python",
        "version": 3
      },
      "file_extension": ".py",
      "mimetype": "text/x-python",
      "name": "python",
      "nbconvert_exporter": "python",
      "pygments_lexer": "ipython3",
      "version": "3.8"
    },
    "ExecuteTimeLog": [
      {
        "duration": 1656,
        "start_time": "2024-03-09T13:00:41.083Z"
      },
      {
        "duration": 116,
        "start_time": "2024-03-09T13:02:46.173Z"
      },
      {
        "duration": 11,
        "start_time": "2024-03-09T13:03:06.891Z"
      },
      {
        "duration": 15,
        "start_time": "2024-03-09T13:03:18.471Z"
      },
      {
        "duration": 15,
        "start_time": "2024-03-09T13:03:43.065Z"
      },
      {
        "duration": 13,
        "start_time": "2024-03-09T13:03:47.905Z"
      },
      {
        "duration": 52,
        "start_time": "2024-03-09T13:04:39.966Z"
      },
      {
        "duration": 4,
        "start_time": "2024-03-09T13:07:17.193Z"
      },
      {
        "duration": 54,
        "start_time": "2024-03-09T13:08:19.414Z"
      },
      {
        "duration": 10,
        "start_time": "2024-03-09T13:08:22.064Z"
      },
      {
        "duration": 4,
        "start_time": "2024-03-09T13:08:28.474Z"
      },
      {
        "duration": 5,
        "start_time": "2024-03-09T13:08:33.051Z"
      },
      {
        "duration": 113,
        "start_time": "2024-03-09T13:10:09.036Z"
      },
      {
        "duration": 6,
        "start_time": "2024-03-09T13:10:14.520Z"
      },
      {
        "duration": 12,
        "start_time": "2024-03-09T13:10:18.003Z"
      },
      {
        "duration": 8,
        "start_time": "2024-03-09T13:18:30.682Z"
      },
      {
        "duration": 14,
        "start_time": "2024-03-09T13:18:36.566Z"
      },
      {
        "duration": 4,
        "start_time": "2024-03-09T13:19:50.952Z"
      },
      {
        "duration": 10,
        "start_time": "2024-03-09T13:19:54.972Z"
      },
      {
        "duration": 10,
        "start_time": "2024-03-09T13:21:32.220Z"
      },
      {
        "duration": 4,
        "start_time": "2024-03-09T13:21:38.174Z"
      },
      {
        "duration": 62,
        "start_time": "2024-03-09T13:21:38.181Z"
      },
      {
        "duration": 11,
        "start_time": "2024-03-09T13:21:38.246Z"
      },
      {
        "duration": 4,
        "start_time": "2024-03-09T13:21:38.258Z"
      },
      {
        "duration": 14,
        "start_time": "2024-03-09T13:21:38.264Z"
      },
      {
        "duration": 13,
        "start_time": "2024-03-09T13:22:04.813Z"
      },
      {
        "duration": 10,
        "start_time": "2024-03-09T13:23:11.968Z"
      },
      {
        "duration": 266,
        "start_time": "2024-03-09T13:27:06.749Z"
      },
      {
        "duration": 300,
        "start_time": "2024-03-09T13:32:27.652Z"
      },
      {
        "duration": 261,
        "start_time": "2024-03-09T13:32:55.614Z"
      },
      {
        "duration": 335,
        "start_time": "2024-03-09T13:33:36.368Z"
      },
      {
        "duration": 264,
        "start_time": "2024-03-09T13:33:46.251Z"
      },
      {
        "duration": 4,
        "start_time": "2024-03-09T13:34:49.883Z"
      },
      {
        "duration": 255,
        "start_time": "2024-03-09T13:35:09.145Z"
      },
      {
        "duration": 285,
        "start_time": "2024-03-09T13:35:17.982Z"
      },
      {
        "duration": 13,
        "start_time": "2024-03-09T13:35:44.978Z"
      },
      {
        "duration": 10,
        "start_time": "2024-03-09T13:36:08.334Z"
      },
      {
        "duration": 4,
        "start_time": "2024-03-09T13:36:14.556Z"
      },
      {
        "duration": 57,
        "start_time": "2024-03-09T13:36:14.561Z"
      },
      {
        "duration": 9,
        "start_time": "2024-03-09T13:36:14.620Z"
      },
      {
        "duration": 11,
        "start_time": "2024-03-09T13:36:14.631Z"
      },
      {
        "duration": 12,
        "start_time": "2024-03-09T13:36:14.643Z"
      },
      {
        "duration": 4,
        "start_time": "2024-03-09T13:36:14.657Z"
      },
      {
        "duration": 10,
        "start_time": "2024-03-09T13:36:14.662Z"
      },
      {
        "duration": 9,
        "start_time": "2024-03-09T13:36:36.543Z"
      },
      {
        "duration": 5,
        "start_time": "2024-03-09T13:37:01.987Z"
      },
      {
        "duration": 11,
        "start_time": "2024-03-09T13:37:19.173Z"
      },
      {
        "duration": 330,
        "start_time": "2024-03-09T13:37:27.989Z"
      },
      {
        "duration": 253,
        "start_time": "2024-03-09T13:37:44.561Z"
      },
      {
        "duration": 9,
        "start_time": "2024-03-09T15:17:41.901Z"
      },
      {
        "duration": 232,
        "start_time": "2024-03-09T15:18:32.385Z"
      },
      {
        "duration": 253,
        "start_time": "2024-03-09T15:18:46.189Z"
      },
      {
        "duration": 272,
        "start_time": "2024-03-09T15:19:18.710Z"
      },
      {
        "duration": 364,
        "start_time": "2024-03-09T15:19:27.726Z"
      },
      {
        "duration": 254,
        "start_time": "2024-03-09T15:19:33.345Z"
      },
      {
        "duration": 240,
        "start_time": "2024-03-09T15:22:10.839Z"
      },
      {
        "duration": 174,
        "start_time": "2024-03-09T15:29:27.819Z"
      },
      {
        "duration": 3,
        "start_time": "2024-03-09T15:31:07.127Z"
      },
      {
        "duration": 246,
        "start_time": "2024-03-09T15:32:44.373Z"
      },
      {
        "duration": 192,
        "start_time": "2024-03-09T15:33:28.542Z"
      },
      {
        "duration": 92,
        "start_time": "2024-03-09T15:44:35.602Z"
      },
      {
        "duration": 229,
        "start_time": "2024-03-09T15:44:51.397Z"
      },
      {
        "duration": 4,
        "start_time": "2024-03-09T15:45:08.990Z"
      },
      {
        "duration": 360,
        "start_time": "2024-03-09T15:45:17.943Z"
      },
      {
        "duration": 275,
        "start_time": "2024-03-09T16:13:16.121Z"
      },
      {
        "duration": 245,
        "start_time": "2024-03-09T16:13:41.748Z"
      },
      {
        "duration": 238,
        "start_time": "2024-03-09T16:14:12.199Z"
      },
      {
        "duration": 271,
        "start_time": "2024-03-09T16:14:12.495Z"
      },
      {
        "duration": 273,
        "start_time": "2024-03-09T16:14:12.771Z"
      },
      {
        "duration": 203,
        "start_time": "2024-03-09T16:14:13.114Z"
      },
      {
        "duration": 328,
        "start_time": "2024-03-09T16:15:25.403Z"
      },
      {
        "duration": 263,
        "start_time": "2024-03-09T16:15:25.856Z"
      },
      {
        "duration": 255,
        "start_time": "2024-03-09T16:15:26.190Z"
      },
      {
        "duration": 193,
        "start_time": "2024-03-09T16:15:27.164Z"
      },
      {
        "duration": 179,
        "start_time": "2024-03-09T16:17:07.608Z"
      },
      {
        "duration": 4,
        "start_time": "2024-03-09T16:18:45.532Z"
      },
      {
        "duration": 1852,
        "start_time": "2024-03-12T09:59:46.433Z"
      },
      {
        "duration": 6,
        "start_time": "2024-03-12T09:59:48.287Z"
      },
      {
        "duration": 173,
        "start_time": "2024-03-12T09:59:48.295Z"
      },
      {
        "duration": 11,
        "start_time": "2024-03-12T09:59:48.471Z"
      },
      {
        "duration": 4,
        "start_time": "2024-03-12T09:59:48.485Z"
      },
      {
        "duration": 25,
        "start_time": "2024-03-12T09:59:48.491Z"
      },
      {
        "duration": 5,
        "start_time": "2024-03-12T09:59:48.518Z"
      },
      {
        "duration": 355,
        "start_time": "2024-03-12T09:59:48.525Z"
      },
      {
        "duration": 9,
        "start_time": "2024-03-12T09:59:48.881Z"
      },
      {
        "duration": 354,
        "start_time": "2024-03-12T09:59:48.891Z"
      },
      {
        "duration": 337,
        "start_time": "2024-03-12T09:59:49.247Z"
      },
      {
        "duration": 311,
        "start_time": "2024-03-12T09:59:49.586Z"
      },
      {
        "duration": 232,
        "start_time": "2024-03-12T09:59:49.900Z"
      },
      {
        "duration": 5,
        "start_time": "2024-03-12T09:59:50.134Z"
      },
      {
        "duration": 33,
        "start_time": "2024-03-12T10:00:50.346Z"
      },
      {
        "duration": 14,
        "start_time": "2024-03-12T10:09:31.243Z"
      },
      {
        "duration": 27,
        "start_time": "2024-03-12T10:09:33.223Z"
      },
      {
        "duration": 171,
        "start_time": "2024-03-12T10:11:52.107Z"
      },
      {
        "duration": 4,
        "start_time": "2024-03-12T10:12:09.016Z"
      },
      {
        "duration": 6,
        "start_time": "2024-03-12T10:12:38.912Z"
      },
      {
        "duration": 7,
        "start_time": "2024-03-12T10:12:44.304Z"
      },
      {
        "duration": 112,
        "start_time": "2024-03-12T10:15:06.687Z"
      },
      {
        "duration": 3,
        "start_time": "2024-03-12T10:17:15.210Z"
      },
      {
        "duration": 95,
        "start_time": "2024-03-12T10:22:23.548Z"
      },
      {
        "duration": 99,
        "start_time": "2024-03-12T10:22:40.527Z"
      },
      {
        "duration": 98,
        "start_time": "2024-03-12T10:22:59.314Z"
      },
      {
        "duration": 15,
        "start_time": "2024-03-12T10:23:51.816Z"
      },
      {
        "duration": 12,
        "start_time": "2024-03-12T10:24:15.327Z"
      },
      {
        "duration": 57938,
        "start_time": "2024-03-12T10:25:39.313Z"
      },
      {
        "duration": 58058,
        "start_time": "2024-03-12T10:27:59.104Z"
      },
      {
        "duration": 60189,
        "start_time": "2024-03-12T10:32:22.399Z"
      },
      {
        "duration": 150,
        "start_time": "2024-03-12T10:33:23.353Z"
      },
      {
        "duration": 61154,
        "start_time": "2024-03-12T10:35:27.927Z"
      },
      {
        "duration": 4,
        "start_time": "2024-03-12T10:41:03.216Z"
      },
      {
        "duration": 58607,
        "start_time": "2024-03-12T10:41:10.292Z"
      },
      {
        "duration": 59798,
        "start_time": "2024-03-12T10:47:40.379Z"
      },
      {
        "duration": 93,
        "start_time": "2024-03-12T10:49:28.474Z"
      },
      {
        "duration": 62511,
        "start_time": "2024-03-12T10:50:39.192Z"
      },
      {
        "duration": 59830,
        "start_time": "2024-03-12T10:51:52.241Z"
      },
      {
        "duration": 2081,
        "start_time": "2024-03-12T13:04:30.940Z"
      },
      {
        "duration": 4,
        "start_time": "2024-03-12T13:04:33.023Z"
      },
      {
        "duration": 152,
        "start_time": "2024-03-12T13:04:33.028Z"
      },
      {
        "duration": 12,
        "start_time": "2024-03-12T13:04:33.182Z"
      },
      {
        "duration": 36,
        "start_time": "2024-03-12T13:04:33.195Z"
      },
      {
        "duration": 40,
        "start_time": "2024-03-12T13:04:33.234Z"
      },
      {
        "duration": 9,
        "start_time": "2024-03-12T13:04:33.277Z"
      },
      {
        "duration": 343,
        "start_time": "2024-03-12T13:04:33.287Z"
      },
      {
        "duration": 9,
        "start_time": "2024-03-12T13:04:33.632Z"
      },
      {
        "duration": 339,
        "start_time": "2024-03-12T13:04:33.643Z"
      },
      {
        "duration": 296,
        "start_time": "2024-03-12T13:04:33.984Z"
      },
      {
        "duration": 273,
        "start_time": "2024-03-12T13:04:34.282Z"
      },
      {
        "duration": 193,
        "start_time": "2024-03-12T13:04:34.557Z"
      },
      {
        "duration": 5,
        "start_time": "2024-03-12T13:04:34.753Z"
      },
      {
        "duration": 164,
        "start_time": "2024-03-12T13:04:34.759Z"
      },
      {
        "duration": 0,
        "start_time": "2024-03-12T13:04:34.925Z"
      },
      {
        "duration": 0,
        "start_time": "2024-03-12T13:04:34.927Z"
      },
      {
        "duration": 0,
        "start_time": "2024-03-12T13:04:34.928Z"
      },
      {
        "duration": 0,
        "start_time": "2024-03-12T13:04:34.929Z"
      },
      {
        "duration": 4,
        "start_time": "2024-03-12T13:05:44.694Z"
      },
      {
        "duration": 14,
        "start_time": "2024-03-12T13:05:48.249Z"
      },
      {
        "duration": 4,
        "start_time": "2024-03-12T13:06:12.660Z"
      },
      {
        "duration": 30,
        "start_time": "2024-03-12T13:06:17.648Z"
      },
      {
        "duration": 19,
        "start_time": "2024-03-12T13:06:26.604Z"
      },
      {
        "duration": 6,
        "start_time": "2024-03-12T13:10:18.660Z"
      },
      {
        "duration": 67,
        "start_time": "2024-03-12T13:10:23.360Z"
      },
      {
        "duration": 55135,
        "start_time": "2024-03-12T13:10:29.487Z"
      },
      {
        "duration": 47,
        "start_time": "2024-03-13T02:20:37.721Z"
      },
      {
        "duration": 1561,
        "start_time": "2024-03-13T02:20:43.337Z"
      },
      {
        "duration": 3,
        "start_time": "2024-03-13T02:20:44.900Z"
      },
      {
        "duration": 130,
        "start_time": "2024-03-13T02:20:44.904Z"
      },
      {
        "duration": 9,
        "start_time": "2024-03-13T02:20:45.036Z"
      },
      {
        "duration": 21,
        "start_time": "2024-03-13T02:20:45.047Z"
      },
      {
        "duration": 31,
        "start_time": "2024-03-13T02:20:45.070Z"
      },
      {
        "duration": 4,
        "start_time": "2024-03-13T02:20:45.103Z"
      },
      {
        "duration": 295,
        "start_time": "2024-03-13T02:20:45.108Z"
      },
      {
        "duration": 8,
        "start_time": "2024-03-13T02:20:45.404Z"
      },
      {
        "duration": 350,
        "start_time": "2024-03-13T02:20:45.415Z"
      },
      {
        "duration": 261,
        "start_time": "2024-03-13T02:20:45.767Z"
      },
      {
        "duration": 246,
        "start_time": "2024-03-13T02:20:46.030Z"
      },
      {
        "duration": 165,
        "start_time": "2024-03-13T02:20:46.278Z"
      },
      {
        "duration": 5,
        "start_time": "2024-03-13T02:20:46.445Z"
      },
      {
        "duration": 27,
        "start_time": "2024-03-13T02:20:46.451Z"
      },
      {
        "duration": 6,
        "start_time": "2024-03-13T02:20:46.480Z"
      },
      {
        "duration": 144,
        "start_time": "2024-03-13T02:20:46.487Z"
      },
      {
        "duration": 13505,
        "start_time": "2024-03-13T02:25:21.497Z"
      },
      {
        "duration": 3,
        "start_time": "2024-03-13T02:26:07.225Z"
      },
      {
        "duration": 13735,
        "start_time": "2024-03-13T02:26:25.406Z"
      },
      {
        "duration": 3,
        "start_time": "2024-03-13T02:26:51.062Z"
      },
      {
        "duration": 40,
        "start_time": "2024-03-13T02:26:54.189Z"
      },
      {
        "duration": 38,
        "start_time": "2024-03-13T02:27:14.681Z"
      },
      {
        "duration": 4,
        "start_time": "2024-03-13T02:29:28.533Z"
      },
      {
        "duration": 48218,
        "start_time": "2024-03-13T02:29:29.101Z"
      },
      {
        "duration": 3,
        "start_time": "2024-03-13T02:32:36.761Z"
      },
      {
        "duration": 47732,
        "start_time": "2024-03-13T02:32:37.961Z"
      },
      {
        "duration": 4,
        "start_time": "2024-03-13T02:33:28.565Z"
      },
      {
        "duration": 3,
        "start_time": "2024-03-13T02:33:49.869Z"
      },
      {
        "duration": 121542,
        "start_time": "2024-03-13T02:33:50.771Z"
      },
      {
        "duration": 4,
        "start_time": "2024-03-13T02:36:03.678Z"
      },
      {
        "duration": 73,
        "start_time": "2024-03-13T02:36:13.593Z"
      },
      {
        "duration": 82,
        "start_time": "2024-03-13T02:43:05.934Z"
      },
      {
        "duration": 26,
        "start_time": "2024-03-13T02:43:41.657Z"
      },
      {
        "duration": 3,
        "start_time": "2024-03-13T02:43:47.477Z"
      },
      {
        "duration": 11775,
        "start_time": "2024-03-13T02:44:12.549Z"
      },
      {
        "duration": 4,
        "start_time": "2024-03-13T02:44:35.519Z"
      },
      {
        "duration": 4,
        "start_time": "2024-03-13T02:48:42.721Z"
      },
      {
        "duration": 3,
        "start_time": "2024-03-13T02:50:28.172Z"
      },
      {
        "duration": 12,
        "start_time": "2024-03-13T02:50:43.905Z"
      },
      {
        "duration": 3,
        "start_time": "2024-03-13T02:51:29.881Z"
      },
      {
        "duration": 3,
        "start_time": "2024-03-13T02:51:55.933Z"
      },
      {
        "duration": 14982,
        "start_time": "2024-03-13T02:51:55.937Z"
      },
      {
        "duration": 3,
        "start_time": "2024-03-13T02:57:21.761Z"
      },
      {
        "duration": 3,
        "start_time": "2024-03-13T02:57:26.396Z"
      },
      {
        "duration": 3,
        "start_time": "2024-03-13T03:03:55.702Z"
      },
      {
        "duration": 120817,
        "start_time": "2024-03-13T03:03:56.912Z"
      },
      {
        "duration": 3,
        "start_time": "2024-03-13T03:05:59.982Z"
      },
      {
        "duration": 3,
        "start_time": "2024-03-13T03:06:25.407Z"
      },
      {
        "duration": 72,
        "start_time": "2024-03-13T03:06:31.023Z"
      },
      {
        "duration": 2,
        "start_time": "2024-03-13T03:07:06.727Z"
      },
      {
        "duration": 3,
        "start_time": "2024-03-13T03:07:14.121Z"
      },
      {
        "duration": 2,
        "start_time": "2024-03-13T03:07:19.048Z"
      },
      {
        "duration": 299203,
        "start_time": "2024-03-13T03:07:24.173Z"
      },
      {
        "duration": 11,
        "start_time": "2024-03-13T03:18:54.721Z"
      },
      {
        "duration": 4,
        "start_time": "2024-03-13T03:19:02.832Z"
      },
      {
        "duration": 346612,
        "start_time": "2024-03-13T03:19:31.613Z"
      },
      {
        "duration": 0,
        "start_time": "2024-03-13T03:25:18.227Z"
      },
      {
        "duration": 3,
        "start_time": "2024-03-13T03:25:22.452Z"
      },
      {
        "duration": 1109634,
        "start_time": "2024-03-13T03:25:27.403Z"
      },
      {
        "duration": 4,
        "start_time": "2024-03-13T03:44:06.796Z"
      },
      {
        "duration": 6,
        "start_time": "2024-03-14T05:33:16.103Z"
      },
      {
        "duration": 1381,
        "start_time": "2024-03-14T05:39:07.234Z"
      },
      {
        "duration": 3,
        "start_time": "2024-03-14T05:39:13.334Z"
      },
      {
        "duration": 137,
        "start_time": "2024-03-14T05:39:13.339Z"
      },
      {
        "duration": 10,
        "start_time": "2024-03-14T05:39:13.477Z"
      },
      {
        "duration": 4,
        "start_time": "2024-03-14T05:39:13.488Z"
      },
      {
        "duration": 10,
        "start_time": "2024-03-14T05:39:14.112Z"
      },
      {
        "duration": 5,
        "start_time": "2024-03-14T05:39:14.123Z"
      },
      {
        "duration": 250,
        "start_time": "2024-03-14T05:39:14.130Z"
      },
      {
        "duration": 6,
        "start_time": "2024-03-14T05:39:17.177Z"
      },
      {
        "duration": 245,
        "start_time": "2024-03-14T05:39:17.185Z"
      },
      {
        "duration": 226,
        "start_time": "2024-03-14T05:39:17.431Z"
      },
      {
        "duration": 214,
        "start_time": "2024-03-14T05:44:09.929Z"
      },
      {
        "duration": 141,
        "start_time": "2024-03-14T05:44:14.182Z"
      },
      {
        "duration": 4,
        "start_time": "2024-03-14T05:44:21.365Z"
      },
      {
        "duration": 18,
        "start_time": "2024-03-14T05:44:22.561Z"
      },
      {
        "duration": 4,
        "start_time": "2024-03-14T05:44:25.617Z"
      },
      {
        "duration": 2,
        "start_time": "2024-03-14T05:44:27.342Z"
      },
      {
        "duration": 46,
        "start_time": "2024-03-14T05:44:28.658Z"
      },
      {
        "duration": 3,
        "start_time": "2024-03-14T05:44:31.887Z"
      },
      {
        "duration": 3,
        "start_time": "2024-03-14T05:44:32.830Z"
      },
      {
        "duration": 1297,
        "start_time": "2024-03-14T05:54:23.630Z"
      },
      {
        "duration": 3,
        "start_time": "2024-03-14T05:54:27.850Z"
      },
      {
        "duration": 51,
        "start_time": "2024-03-14T05:54:28.809Z"
      },
      {
        "duration": 8,
        "start_time": "2024-03-14T05:54:29.644Z"
      },
      {
        "duration": 97,
        "start_time": "2024-03-14T05:54:39.510Z"
      },
      {
        "duration": 4,
        "start_time": "2024-03-14T05:54:41.244Z"
      },
      {
        "duration": 4,
        "start_time": "2024-03-14T05:54:46.692Z"
      },
      {
        "duration": 18,
        "start_time": "2024-03-14T05:54:46.697Z"
      },
      {
        "duration": 51,
        "start_time": "2024-03-14T05:54:46.716Z"
      },
      {
        "duration": 7,
        "start_time": "2024-03-14T05:54:46.769Z"
      },
      {
        "duration": 18,
        "start_time": "2024-03-14T05:54:46.777Z"
      },
      {
        "duration": 18,
        "start_time": "2024-03-14T05:54:46.796Z"
      },
      {
        "duration": 5,
        "start_time": "2024-03-14T05:54:46.815Z"
      },
      {
        "duration": 287,
        "start_time": "2024-03-14T05:54:46.821Z"
      },
      {
        "duration": 6,
        "start_time": "2024-03-14T05:54:47.111Z"
      },
      {
        "duration": 261,
        "start_time": "2024-03-14T05:54:47.118Z"
      },
      {
        "duration": 255,
        "start_time": "2024-03-14T05:54:47.380Z"
      },
      {
        "duration": 211,
        "start_time": "2024-03-14T05:54:47.636Z"
      },
      {
        "duration": 149,
        "start_time": "2024-03-14T05:54:47.848Z"
      },
      {
        "duration": 4,
        "start_time": "2024-03-14T05:54:47.998Z"
      },
      {
        "duration": 19,
        "start_time": "2024-03-14T05:54:51.920Z"
      },
      {
        "duration": 3,
        "start_time": "2024-03-14T05:55:35.434Z"
      },
      {
        "duration": 6,
        "start_time": "2024-03-14T05:55:44.196Z"
      },
      {
        "duration": 2,
        "start_time": "2024-03-14T05:55:44.812Z"
      },
      {
        "duration": 11,
        "start_time": "2024-03-14T05:55:45.492Z"
      },
      {
        "duration": 2,
        "start_time": "2024-03-14T05:55:45.907Z"
      },
      {
        "duration": 2,
        "start_time": "2024-03-14T05:55:48.058Z"
      },
      {
        "duration": 2,
        "start_time": "2024-03-14T05:55:48.213Z"
      },
      {
        "duration": 1254,
        "start_time": "2024-03-14T06:04:44.941Z"
      },
      {
        "duration": 2,
        "start_time": "2024-03-14T06:04:46.197Z"
      },
      {
        "duration": 75,
        "start_time": "2024-03-14T06:04:46.200Z"
      },
      {
        "duration": 11,
        "start_time": "2024-03-14T06:04:46.278Z"
      },
      {
        "duration": 11,
        "start_time": "2024-03-14T06:04:46.290Z"
      },
      {
        "duration": 20,
        "start_time": "2024-03-14T06:04:46.302Z"
      },
      {
        "duration": 4,
        "start_time": "2024-03-14T06:04:46.323Z"
      },
      {
        "duration": 264,
        "start_time": "2024-03-14T06:04:46.328Z"
      },
      {
        "duration": 7,
        "start_time": "2024-03-14T06:04:46.594Z"
      },
      {
        "duration": 247,
        "start_time": "2024-03-14T06:04:46.603Z"
      },
      {
        "duration": 228,
        "start_time": "2024-03-14T06:04:46.851Z"
      },
      {
        "duration": 215,
        "start_time": "2024-03-14T06:04:47.080Z"
      },
      {
        "duration": 143,
        "start_time": "2024-03-14T06:04:47.296Z"
      },
      {
        "duration": 4,
        "start_time": "2024-03-14T06:04:47.440Z"
      },
      {
        "duration": 28,
        "start_time": "2024-03-14T06:04:47.445Z"
      },
      {
        "duration": 5,
        "start_time": "2024-03-14T06:04:47.474Z"
      },
      {
        "duration": 13,
        "start_time": "2024-03-14T06:04:47.480Z"
      },
      {
        "duration": 19,
        "start_time": "2024-03-14T06:04:47.494Z"
      },
      {
        "duration": 9,
        "start_time": "2024-03-14T06:05:46.692Z"
      },
      {
        "duration": 2,
        "start_time": "2024-03-14T06:05:47.575Z"
      },
      {
        "duration": 2,
        "start_time": "2024-03-14T06:05:48.663Z"
      },
      {
        "duration": 3,
        "start_time": "2024-03-14T06:05:49.452Z"
      },
      {
        "duration": 303336,
        "start_time": "2024-03-14T06:05:50.644Z"
      },
      {
        "duration": 3,
        "start_time": "2024-03-14T06:11:13.388Z"
      },
      {
        "duration": 3,
        "start_time": "2024-03-14T06:11:14.625Z"
      },
      {
        "duration": 2,
        "start_time": "2024-03-14T06:11:23.592Z"
      },
      {
        "duration": 2,
        "start_time": "2024-03-14T06:11:25.302Z"
      },
      {
        "duration": 2,
        "start_time": "2024-03-14T06:11:26.357Z"
      },
      {
        "duration": 31075,
        "start_time": "2024-03-14T06:11:27.827Z"
      },
      {
        "duration": 3,
        "start_time": "2024-03-14T06:12:44.825Z"
      },
      {
        "duration": 3,
        "start_time": "2024-03-14T06:12:47.185Z"
      },
      {
        "duration": 2,
        "start_time": "2024-03-14T06:12:48.780Z"
      },
      {
        "duration": 3,
        "start_time": "2024-03-14T06:12:51.930Z"
      },
      {
        "duration": 895151,
        "start_time": "2024-03-14T06:12:52.523Z"
      },
      {
        "duration": 3,
        "start_time": "2024-03-14T06:27:47.676Z"
      },
      {
        "duration": 84,
        "start_time": "2024-03-14T06:27:47.680Z"
      },
      {
        "duration": 2,
        "start_time": "2024-03-14T06:28:35.939Z"
      },
      {
        "duration": 7,
        "start_time": "2024-03-14T06:29:37.074Z"
      },
      {
        "duration": 2,
        "start_time": "2024-03-14T06:34:52.703Z"
      },
      {
        "duration": 742331,
        "start_time": "2024-03-14T06:34:55.902Z"
      },
      {
        "duration": 0,
        "start_time": "2024-03-14T06:47:18.237Z"
      },
      {
        "duration": 1656,
        "start_time": "2024-03-14T06:47:50.651Z"
      },
      {
        "duration": 3,
        "start_time": "2024-03-14T06:48:30.950Z"
      },
      {
        "duration": 910070,
        "start_time": "2024-03-14T06:48:32.914Z"
      },
      {
        "duration": 133129,
        "start_time": "2024-03-14T07:03:42.985Z"
      },
      {
        "duration": 1096,
        "start_time": "2024-03-14T07:08:33.911Z"
      },
      {
        "duration": 709,
        "start_time": "2024-03-14T07:10:02.898Z"
      },
      {
        "duration": 18,
        "start_time": "2024-03-14T07:11:12.383Z"
      },
      {
        "duration": 948,
        "start_time": "2024-03-14T07:12:17.557Z"
      },
      {
        "duration": 375,
        "start_time": "2024-03-14T07:54:32.735Z"
      },
      {
        "duration": 4,
        "start_time": "2024-03-14T07:55:04.164Z"
      },
      {
        "duration": 114,
        "start_time": "2024-03-14T07:55:04.169Z"
      },
      {
        "duration": 66,
        "start_time": "2024-03-14T07:55:04.285Z"
      },
      {
        "duration": 7,
        "start_time": "2024-03-14T07:55:04.353Z"
      },
      {
        "duration": 4,
        "start_time": "2024-03-14T07:55:04.362Z"
      },
      {
        "duration": 15,
        "start_time": "2024-03-14T07:55:04.368Z"
      },
      {
        "duration": 11,
        "start_time": "2024-03-14T07:55:04.384Z"
      },
      {
        "duration": 220,
        "start_time": "2024-03-14T07:55:04.396Z"
      },
      {
        "duration": 7,
        "start_time": "2024-03-14T07:55:04.618Z"
      },
      {
        "duration": 264,
        "start_time": "2024-03-14T07:55:04.628Z"
      },
      {
        "duration": 225,
        "start_time": "2024-03-14T07:55:04.893Z"
      },
      {
        "duration": 219,
        "start_time": "2024-03-14T07:55:05.119Z"
      },
      {
        "duration": 157,
        "start_time": "2024-03-14T07:55:05.339Z"
      },
      {
        "duration": 5,
        "start_time": "2024-03-14T07:55:05.498Z"
      },
      {
        "duration": 23,
        "start_time": "2024-03-14T07:55:05.504Z"
      },
      {
        "duration": 5,
        "start_time": "2024-03-14T07:55:05.528Z"
      },
      {
        "duration": 13,
        "start_time": "2024-03-14T07:55:05.534Z"
      },
      {
        "duration": 57,
        "start_time": "2024-03-14T07:55:05.548Z"
      },
      {
        "duration": 3,
        "start_time": "2024-03-14T07:55:05.607Z"
      },
      {
        "duration": 14,
        "start_time": "2024-03-14T07:55:05.702Z"
      },
      {
        "duration": 9,
        "start_time": "2024-03-14T07:55:05.718Z"
      },
      {
        "duration": 301046,
        "start_time": "2024-03-14T07:55:05.729Z"
      },
      {
        "duration": 3,
        "start_time": "2024-03-14T08:00:06.777Z"
      },
      {
        "duration": 20,
        "start_time": "2024-03-14T08:00:06.781Z"
      },
      {
        "duration": 25,
        "start_time": "2024-03-14T08:00:06.802Z"
      },
      {
        "duration": 26,
        "start_time": "2024-03-14T08:00:06.828Z"
      },
      {
        "duration": 16,
        "start_time": "2024-03-14T08:00:06.856Z"
      },
      {
        "duration": 31833,
        "start_time": "2024-03-14T08:00:06.875Z"
      },
      {
        "duration": 4,
        "start_time": "2024-03-14T08:00:38.709Z"
      },
      {
        "duration": 14,
        "start_time": "2024-03-14T08:00:38.715Z"
      },
      {
        "duration": 2,
        "start_time": "2024-03-14T08:00:38.802Z"
      },
      {
        "duration": 10,
        "start_time": "2024-03-14T08:00:38.805Z"
      },
      {
        "duration": 928788,
        "start_time": "2024-03-14T08:00:38.816Z"
      },
      {
        "duration": 3,
        "start_time": "2024-03-14T08:16:07.605Z"
      },
      {
        "duration": 9,
        "start_time": "2024-03-14T08:16:07.609Z"
      },
      {
        "duration": 16,
        "start_time": "2024-03-14T08:16:07.620Z"
      },
      {
        "duration": 752,
        "start_time": "2024-03-14T08:18:11.852Z"
      },
      {
        "duration": 1687,
        "start_time": "2024-03-14T08:21:21.073Z"
      },
      {
        "duration": 16,
        "start_time": "2024-03-14T08:21:58.588Z"
      },
      {
        "duration": 3,
        "start_time": "2024-03-14T08:22:16.957Z"
      },
      {
        "duration": 10,
        "start_time": "2024-03-14T08:34:39.276Z"
      },
      {
        "duration": 1753,
        "start_time": "2024-03-14T09:14:40.049Z"
      },
      {
        "duration": 2,
        "start_time": "2024-03-14T09:15:59.973Z"
      },
      {
        "duration": 2,
        "start_time": "2024-03-14T09:16:02.440Z"
      },
      {
        "duration": 130,
        "start_time": "2024-03-14T09:16:05.371Z"
      },
      {
        "duration": 9,
        "start_time": "2024-03-14T09:17:46.153Z"
      },
      {
        "duration": 5,
        "start_time": "2024-03-14T09:18:59.663Z"
      },
      {
        "duration": 3,
        "start_time": "2024-03-14T09:19:02.845Z"
      },
      {
        "duration": 130,
        "start_time": "2024-03-14T09:19:04.318Z"
      },
      {
        "duration": 13,
        "start_time": "2024-03-14T09:19:32.347Z"
      },
      {
        "duration": 6,
        "start_time": "2024-03-14T09:21:18.039Z"
      },
      {
        "duration": 4,
        "start_time": "2024-03-14T09:21:21.023Z"
      },
      {
        "duration": 3,
        "start_time": "2024-03-14T09:21:27.775Z"
      },
      {
        "duration": 99149,
        "start_time": "2024-03-14T09:21:28.754Z"
      },
      {
        "duration": 3,
        "start_time": "2024-03-14T09:23:34.965Z"
      },
      {
        "duration": 2,
        "start_time": "2024-03-14T09:23:38.081Z"
      },
      {
        "duration": 4,
        "start_time": "2024-03-14T09:23:52.382Z"
      },
      {
        "duration": 47900,
        "start_time": "2024-03-14T09:23:55.693Z"
      },
      {
        "duration": 3,
        "start_time": "2024-03-14T09:26:54.263Z"
      },
      {
        "duration": 2,
        "start_time": "2024-03-14T09:27:08.476Z"
      },
      {
        "duration": 12,
        "start_time": "2024-03-14T09:27:11.062Z"
      },
      {
        "duration": 2,
        "start_time": "2024-03-14T09:27:53.484Z"
      },
      {
        "duration": 3,
        "start_time": "2024-03-14T09:27:55.940Z"
      },
      {
        "duration": 3,
        "start_time": "2024-03-14T09:27:59.469Z"
      },
      {
        "duration": 2,
        "start_time": "2024-03-14T09:28:05.621Z"
      },
      {
        "duration": 2,
        "start_time": "2024-03-14T09:28:10.045Z"
      },
      {
        "duration": 7,
        "start_time": "2024-03-14T09:28:14.167Z"
      },
      {
        "duration": 3,
        "start_time": "2024-03-14T09:29:53.424Z"
      },
      {
        "duration": 9,
        "start_time": "2024-03-14T09:29:53.428Z"
      },
      {
        "duration": 51,
        "start_time": "2024-03-14T09:29:53.439Z"
      },
      {
        "duration": 7,
        "start_time": "2024-03-14T09:29:53.492Z"
      },
      {
        "duration": 8,
        "start_time": "2024-03-14T09:29:53.500Z"
      },
      {
        "duration": 9,
        "start_time": "2024-03-14T09:29:53.762Z"
      },
      {
        "duration": 6,
        "start_time": "2024-03-14T09:29:53.773Z"
      },
      {
        "duration": 261,
        "start_time": "2024-03-14T09:29:53.781Z"
      },
      {
        "duration": 7,
        "start_time": "2024-03-14T09:29:54.043Z"
      },
      {
        "duration": 199,
        "start_time": "2024-03-14T09:29:54.052Z"
      },
      {
        "duration": 251,
        "start_time": "2024-03-14T09:29:54.252Z"
      },
      {
        "duration": 214,
        "start_time": "2024-03-14T09:29:54.505Z"
      },
      {
        "duration": 154,
        "start_time": "2024-03-14T09:29:54.720Z"
      },
      {
        "duration": 3,
        "start_time": "2024-03-14T09:29:54.875Z"
      },
      {
        "duration": 49,
        "start_time": "2024-03-14T09:29:54.880Z"
      },
      {
        "duration": 6,
        "start_time": "2024-03-14T09:29:54.930Z"
      },
      {
        "duration": 14,
        "start_time": "2024-03-14T09:29:54.937Z"
      },
      {
        "duration": 17,
        "start_time": "2024-03-14T09:29:54.952Z"
      },
      {
        "duration": 41,
        "start_time": "2024-03-14T09:29:54.970Z"
      },
      {
        "duration": 92,
        "start_time": "2024-03-14T09:29:55.013Z"
      },
      {
        "duration": 102,
        "start_time": "2024-03-14T09:29:55.108Z"
      },
      {
        "duration": 27,
        "start_time": "2024-03-14T09:29:55.212Z"
      },
      {
        "duration": 302403,
        "start_time": "2024-03-14T09:29:55.241Z"
      },
      {
        "duration": 2,
        "start_time": "2024-03-14T09:34:57.646Z"
      },
      {
        "duration": 7,
        "start_time": "2024-03-14T09:34:57.649Z"
      },
      {
        "duration": 10,
        "start_time": "2024-03-14T09:34:57.657Z"
      },
      {
        "duration": 5,
        "start_time": "2024-03-14T09:34:57.669Z"
      },
      {
        "duration": 89629,
        "start_time": "2024-03-14T09:34:57.675Z"
      },
      {
        "duration": 3,
        "start_time": "2024-03-14T09:36:27.305Z"
      },
      {
        "duration": 19,
        "start_time": "2024-03-14T09:36:27.309Z"
      },
      {
        "duration": 11,
        "start_time": "2024-03-14T09:36:27.330Z"
      },
      {
        "duration": 9,
        "start_time": "2024-03-14T09:36:27.343Z"
      },
      {
        "duration": 45976,
        "start_time": "2024-03-14T09:36:27.353Z"
      },
      {
        "duration": 3,
        "start_time": "2024-03-14T09:37:13.330Z"
      },
      {
        "duration": 14,
        "start_time": "2024-03-14T09:37:13.334Z"
      },
      {
        "duration": 38,
        "start_time": "2024-03-14T09:37:13.349Z"
      },
      {
        "duration": 20,
        "start_time": "2024-03-14T09:37:13.388Z"
      },
      {
        "duration": 792,
        "start_time": "2024-03-14T09:37:13.409Z"
      },
      {
        "duration": 8,
        "start_time": "2024-03-14T09:40:09.478Z"
      },
      {
        "duration": 94,
        "start_time": "2024-03-14T09:40:10.643Z"
      },
      {
        "duration": 8,
        "start_time": "2024-03-14T09:40:33.337Z"
      },
      {
        "duration": 1845,
        "start_time": "2024-03-14T09:40:49.135Z"
      },
      {
        "duration": 1818,
        "start_time": "2024-03-14T09:40:57.918Z"
      },
      {
        "duration": 3,
        "start_time": "2024-03-14T09:41:27.530Z"
      },
      {
        "duration": 9,
        "start_time": "2024-03-14T09:41:47.291Z"
      },
      {
        "duration": 1801,
        "start_time": "2024-03-14T09:41:56.369Z"
      },
      {
        "duration": 7,
        "start_time": "2024-03-14T09:42:49.241Z"
      },
      {
        "duration": 574,
        "start_time": "2024-03-14T09:42:54.829Z"
      },
      {
        "duration": 2,
        "start_time": "2024-03-14T09:42:57.467Z"
      },
      {
        "duration": 1646,
        "start_time": "2024-03-14T09:43:57.897Z"
      },
      {
        "duration": 4,
        "start_time": "2024-03-14T09:44:19.370Z"
      },
      {
        "duration": 72302,
        "start_time": "2024-03-14T09:44:20.949Z"
      },
      {
        "duration": 3,
        "start_time": "2024-03-14T09:47:48.161Z"
      },
      {
        "duration": 1033,
        "start_time": "2024-03-14T09:49:07.630Z"
      },
      {
        "duration": 10,
        "start_time": "2024-03-14T09:49:21.518Z"
      },
      {
        "duration": 2,
        "start_time": "2024-03-14T09:49:23.598Z"
      },
      {
        "duration": 7,
        "start_time": "2024-03-14T09:49:25.864Z"
      },
      {
        "duration": 6,
        "start_time": "2024-03-14T09:56:04.882Z"
      },
      {
        "duration": 83,
        "start_time": "2024-03-14T09:56:26.967Z"
      },
      {
        "duration": 74,
        "start_time": "2024-03-14T10:12:13.243Z"
      },
      {
        "duration": 136,
        "start_time": "2024-03-14T10:12:13.634Z"
      },
      {
        "duration": 199,
        "start_time": "2024-03-14T10:13:29.118Z"
      },
      {
        "duration": 140,
        "start_time": "2024-03-14T10:14:01.372Z"
      },
      {
        "duration": 154,
        "start_time": "2024-03-14T10:15:16.789Z"
      },
      {
        "duration": 139,
        "start_time": "2024-03-14T10:16:03.174Z"
      },
      {
        "duration": 154,
        "start_time": "2024-03-14T10:16:20.178Z"
      },
      {
        "duration": 142,
        "start_time": "2024-03-14T10:17:24.750Z"
      },
      {
        "duration": 137,
        "start_time": "2024-03-14T10:17:28.962Z"
      },
      {
        "duration": 1312,
        "start_time": "2024-03-14T10:22:17.998Z"
      },
      {
        "duration": 4,
        "start_time": "2024-03-14T10:22:19.311Z"
      },
      {
        "duration": 63,
        "start_time": "2024-03-14T10:22:19.316Z"
      },
      {
        "duration": 10,
        "start_time": "2024-03-14T10:22:19.381Z"
      },
      {
        "duration": 4,
        "start_time": "2024-03-14T10:22:19.393Z"
      },
      {
        "duration": 11,
        "start_time": "2024-03-14T10:22:19.398Z"
      },
      {
        "duration": 5,
        "start_time": "2024-03-14T10:22:19.411Z"
      },
      {
        "duration": 279,
        "start_time": "2024-03-14T10:22:19.417Z"
      },
      {
        "duration": 7,
        "start_time": "2024-03-14T10:22:19.697Z"
      },
      {
        "duration": 253,
        "start_time": "2024-03-14T10:22:19.705Z"
      },
      {
        "duration": 255,
        "start_time": "2024-03-14T10:22:19.959Z"
      },
      {
        "duration": 235,
        "start_time": "2024-03-14T10:22:20.215Z"
      },
      {
        "duration": 230,
        "start_time": "2024-03-14T10:22:20.451Z"
      },
      {
        "duration": 166,
        "start_time": "2024-03-14T10:22:20.684Z"
      },
      {
        "duration": 149,
        "start_time": "2024-03-14T10:22:20.852Z"
      },
      {
        "duration": 3,
        "start_time": "2024-03-14T10:22:21.003Z"
      },
      {
        "duration": 29,
        "start_time": "2024-03-14T10:22:21.007Z"
      },
      {
        "duration": 10,
        "start_time": "2024-03-14T10:22:21.037Z"
      },
      {
        "duration": 28,
        "start_time": "2024-03-14T10:22:21.048Z"
      },
      {
        "duration": 14,
        "start_time": "2024-03-14T10:22:21.077Z"
      },
      {
        "duration": 209,
        "start_time": "2024-03-14T10:22:21.092Z"
      },
      {
        "duration": 3,
        "start_time": "2024-03-14T10:22:21.302Z"
      },
      {
        "duration": 16,
        "start_time": "2024-03-14T10:22:21.306Z"
      },
      {
        "duration": 18,
        "start_time": "2024-03-14T10:22:21.323Z"
      },
      {
        "duration": 9,
        "start_time": "2024-03-14T10:27:25.192Z"
      },
      {
        "duration": 6,
        "start_time": "2024-03-14T10:27:25.203Z"
      },
      {
        "duration": 18,
        "start_time": "2024-03-14T10:27:25.210Z"
      },
      {
        "duration": 18,
        "start_time": "2024-03-14T10:27:25.231Z"
      },
      {
        "duration": 851,
        "start_time": "2024-03-14T10:27:25.251Z"
      },
      {
        "duration": 0,
        "start_time": "2024-03-14T10:27:26.104Z"
      },
      {
        "duration": 0,
        "start_time": "2024-03-14T10:27:26.105Z"
      },
      {
        "duration": 0,
        "start_time": "2024-03-14T10:27:26.105Z"
      },
      {
        "duration": 0,
        "start_time": "2024-03-14T10:27:26.106Z"
      },
      {
        "duration": 0,
        "start_time": "2024-03-14T10:27:26.107Z"
      },
      {
        "duration": 0,
        "start_time": "2024-03-14T10:27:26.107Z"
      },
      {
        "duration": 0,
        "start_time": "2024-03-14T10:27:26.108Z"
      },
      {
        "duration": 0,
        "start_time": "2024-03-14T10:27:26.109Z"
      },
      {
        "duration": 0,
        "start_time": "2024-03-14T10:27:26.109Z"
      },
      {
        "duration": 0,
        "start_time": "2024-03-14T10:27:26.110Z"
      },
      {
        "duration": 0,
        "start_time": "2024-03-14T10:27:26.110Z"
      },
      {
        "duration": 0,
        "start_time": "2024-03-14T10:27:26.111Z"
      },
      {
        "duration": 0,
        "start_time": "2024-03-14T10:27:26.112Z"
      },
      {
        "duration": 0,
        "start_time": "2024-03-14T10:27:26.112Z"
      },
      {
        "duration": 0,
        "start_time": "2024-03-14T10:27:26.113Z"
      },
      {
        "duration": 0,
        "start_time": "2024-03-14T10:27:26.114Z"
      },
      {
        "duration": 0,
        "start_time": "2024-03-14T10:27:26.114Z"
      },
      {
        "duration": 20514,
        "start_time": "2024-03-14T10:27:27.995Z"
      },
      {
        "duration": 78629,
        "start_time": "2024-03-14T10:27:52.193Z"
      },
      {
        "duration": 0,
        "start_time": "2024-03-14T10:29:10.823Z"
      },
      {
        "duration": 0,
        "start_time": "2024-03-14T10:29:10.824Z"
      },
      {
        "duration": 0,
        "start_time": "2024-03-14T10:29:10.825Z"
      },
      {
        "duration": 0,
        "start_time": "2024-03-14T10:29:10.826Z"
      },
      {
        "duration": 0,
        "start_time": "2024-03-14T10:29:10.902Z"
      },
      {
        "duration": 0,
        "start_time": "2024-03-14T10:29:10.903Z"
      },
      {
        "duration": 0,
        "start_time": "2024-03-14T10:29:10.904Z"
      },
      {
        "duration": 0,
        "start_time": "2024-03-14T10:29:10.904Z"
      },
      {
        "duration": 0,
        "start_time": "2024-03-14T10:29:10.905Z"
      },
      {
        "duration": 0,
        "start_time": "2024-03-14T10:29:10.906Z"
      },
      {
        "duration": 0,
        "start_time": "2024-03-14T10:29:10.907Z"
      },
      {
        "duration": 0,
        "start_time": "2024-03-14T10:29:10.908Z"
      },
      {
        "duration": 0,
        "start_time": "2024-03-14T10:29:10.909Z"
      },
      {
        "duration": 0,
        "start_time": "2024-03-14T10:29:10.910Z"
      },
      {
        "duration": 0,
        "start_time": "2024-03-14T10:29:10.911Z"
      },
      {
        "duration": 0,
        "start_time": "2024-03-14T10:29:10.912Z"
      },
      {
        "duration": 0,
        "start_time": "2024-03-14T10:29:10.914Z"
      },
      {
        "duration": 3,
        "start_time": "2024-03-14T10:29:22.336Z"
      },
      {
        "duration": 7,
        "start_time": "2024-03-14T10:29:22.341Z"
      },
      {
        "duration": 51,
        "start_time": "2024-03-14T10:29:22.349Z"
      },
      {
        "duration": 9,
        "start_time": "2024-03-14T10:29:22.402Z"
      },
      {
        "duration": 5,
        "start_time": "2024-03-14T10:29:22.412Z"
      },
      {
        "duration": 9,
        "start_time": "2024-03-14T10:29:22.419Z"
      },
      {
        "duration": 4,
        "start_time": "2024-03-14T10:29:22.429Z"
      },
      {
        "duration": 281,
        "start_time": "2024-03-14T10:29:22.435Z"
      },
      {
        "duration": 6,
        "start_time": "2024-03-14T10:29:22.718Z"
      },
      {
        "duration": 222,
        "start_time": "2024-03-14T10:29:22.727Z"
      },
      {
        "duration": 223,
        "start_time": "2024-03-14T10:29:22.951Z"
      },
      {
        "duration": 212,
        "start_time": "2024-03-14T10:29:23.176Z"
      },
      {
        "duration": 147,
        "start_time": "2024-03-14T10:29:23.389Z"
      },
      {
        "duration": 143,
        "start_time": "2024-03-14T10:29:23.538Z"
      },
      {
        "duration": 150,
        "start_time": "2024-03-14T10:29:23.682Z"
      },
      {
        "duration": 4,
        "start_time": "2024-03-14T10:29:23.833Z"
      },
      {
        "duration": 18,
        "start_time": "2024-03-14T10:29:23.838Z"
      },
      {
        "duration": 4,
        "start_time": "2024-03-14T10:29:23.858Z"
      },
      {
        "duration": 6,
        "start_time": "2024-03-14T10:29:23.864Z"
      },
      {
        "duration": 3,
        "start_time": "2024-03-14T10:29:23.871Z"
      },
      {
        "duration": 227,
        "start_time": "2024-03-14T10:29:23.875Z"
      },
      {
        "duration": 2,
        "start_time": "2024-03-14T10:29:24.104Z"
      },
      {
        "duration": 5,
        "start_time": "2024-03-14T10:29:24.107Z"
      },
      {
        "duration": 17,
        "start_time": "2024-03-14T10:29:24.114Z"
      },
      {
        "duration": 20142,
        "start_time": "2024-03-14T10:29:24.132Z"
      },
      {
        "duration": 0,
        "start_time": "2024-03-14T10:29:44.276Z"
      },
      {
        "duration": 0,
        "start_time": "2024-03-14T10:29:44.277Z"
      },
      {
        "duration": 0,
        "start_time": "2024-03-14T10:29:44.278Z"
      },
      {
        "duration": 0,
        "start_time": "2024-03-14T10:29:44.279Z"
      },
      {
        "duration": 0,
        "start_time": "2024-03-14T10:29:44.279Z"
      },
      {
        "duration": 0,
        "start_time": "2024-03-14T10:29:44.280Z"
      },
      {
        "duration": 0,
        "start_time": "2024-03-14T10:29:44.281Z"
      },
      {
        "duration": 0,
        "start_time": "2024-03-14T10:29:44.281Z"
      },
      {
        "duration": 0,
        "start_time": "2024-03-14T10:29:44.282Z"
      },
      {
        "duration": 0,
        "start_time": "2024-03-14T10:29:44.283Z"
      },
      {
        "duration": 0,
        "start_time": "2024-03-14T10:29:44.284Z"
      },
      {
        "duration": 0,
        "start_time": "2024-03-14T10:29:44.285Z"
      },
      {
        "duration": 0,
        "start_time": "2024-03-14T10:29:44.286Z"
      },
      {
        "duration": 0,
        "start_time": "2024-03-14T10:29:44.287Z"
      },
      {
        "duration": 0,
        "start_time": "2024-03-14T10:29:44.288Z"
      },
      {
        "duration": 0,
        "start_time": "2024-03-14T10:29:44.288Z"
      },
      {
        "duration": 0,
        "start_time": "2024-03-14T10:29:44.289Z"
      },
      {
        "duration": 0,
        "start_time": "2024-03-14T10:29:44.290Z"
      },
      {
        "duration": 0,
        "start_time": "2024-03-14T10:29:44.291Z"
      },
      {
        "duration": 0,
        "start_time": "2024-03-14T10:29:44.292Z"
      },
      {
        "duration": 0,
        "start_time": "2024-03-14T10:29:44.292Z"
      },
      {
        "duration": 1328,
        "start_time": "2024-03-14T10:29:53.589Z"
      },
      {
        "duration": 3,
        "start_time": "2024-03-14T10:29:54.919Z"
      },
      {
        "duration": 70,
        "start_time": "2024-03-14T10:29:54.923Z"
      },
      {
        "duration": 9,
        "start_time": "2024-03-14T10:29:54.995Z"
      },
      {
        "duration": 3,
        "start_time": "2024-03-14T10:29:55.005Z"
      },
      {
        "duration": 15,
        "start_time": "2024-03-14T10:29:55.009Z"
      },
      {
        "duration": 6,
        "start_time": "2024-03-14T10:29:55.025Z"
      },
      {
        "duration": 300,
        "start_time": "2024-03-14T10:29:55.032Z"
      },
      {
        "duration": 7,
        "start_time": "2024-03-14T10:29:55.333Z"
      },
      {
        "duration": 251,
        "start_time": "2024-03-14T10:29:55.342Z"
      },
      {
        "duration": 234,
        "start_time": "2024-03-14T10:29:55.594Z"
      },
      {
        "duration": 210,
        "start_time": "2024-03-14T10:29:55.829Z"
      },
      {
        "duration": 152,
        "start_time": "2024-03-14T10:29:56.040Z"
      },
      {
        "duration": 151,
        "start_time": "2024-03-14T10:29:56.194Z"
      },
      {
        "duration": 171,
        "start_time": "2024-03-14T10:29:56.346Z"
      },
      {
        "duration": 5,
        "start_time": "2024-03-14T10:29:56.519Z"
      },
      {
        "duration": 31,
        "start_time": "2024-03-14T10:29:56.525Z"
      },
      {
        "duration": 4,
        "start_time": "2024-03-14T10:29:56.558Z"
      },
      {
        "duration": 23,
        "start_time": "2024-03-14T10:29:56.564Z"
      },
      {
        "duration": 5,
        "start_time": "2024-03-14T10:29:56.589Z"
      },
      {
        "duration": 13,
        "start_time": "2024-03-14T10:29:56.595Z"
      },
      {
        "duration": 93,
        "start_time": "2024-03-14T10:29:56.609Z"
      },
      {
        "duration": 4,
        "start_time": "2024-03-14T10:29:56.703Z"
      },
      {
        "duration": 97,
        "start_time": "2024-03-14T10:29:56.709Z"
      },
      {
        "duration": 303803,
        "start_time": "2024-03-14T10:29:56.807Z"
      },
      {
        "duration": 2,
        "start_time": "2024-03-14T10:35:00.612Z"
      },
      {
        "duration": 35,
        "start_time": "2024-03-14T10:35:00.616Z"
      },
      {
        "duration": 42,
        "start_time": "2024-03-14T10:35:00.654Z"
      },
      {
        "duration": 72,
        "start_time": "2024-03-14T10:35:00.698Z"
      },
      {
        "duration": 34131,
        "start_time": "2024-03-14T10:35:00.772Z"
      },
      {
        "duration": 4,
        "start_time": "2024-03-14T10:35:34.904Z"
      },
      {
        "duration": 8,
        "start_time": "2024-03-14T10:35:34.909Z"
      },
      {
        "duration": 18,
        "start_time": "2024-03-14T10:35:34.919Z"
      },
      {
        "duration": 8,
        "start_time": "2024-03-14T10:35:34.938Z"
      },
      {
        "duration": 73819,
        "start_time": "2024-03-14T10:35:34.947Z"
      },
      {
        "duration": 3,
        "start_time": "2024-03-14T10:36:48.767Z"
      },
      {
        "duration": 16,
        "start_time": "2024-03-14T10:36:48.771Z"
      },
      {
        "duration": 12,
        "start_time": "2024-03-14T10:36:48.788Z"
      },
      {
        "duration": 24,
        "start_time": "2024-03-14T10:36:48.801Z"
      },
      {
        "duration": 42,
        "start_time": "2024-03-14T10:36:48.826Z"
      },
      {
        "duration": 1968,
        "start_time": "2024-03-14T10:36:48.869Z"
      },
      {
        "duration": 566,
        "start_time": "2024-03-14T10:36:50.838Z"
      },
      {
        "duration": 3,
        "start_time": "2024-03-14T10:36:51.405Z"
      },
      {
        "duration": 1064,
        "start_time": "2024-03-14T10:36:51.409Z"
      },
      {
        "duration": 2,
        "start_time": "2024-03-14T10:36:52.475Z"
      },
      {
        "duration": 50,
        "start_time": "2024-03-14T10:36:52.478Z"
      },
      {
        "duration": 1612,
        "start_time": "2024-03-14T15:17:09.719Z"
      },
      {
        "duration": 3,
        "start_time": "2024-03-14T15:17:11.333Z"
      },
      {
        "duration": 246,
        "start_time": "2024-03-14T15:17:11.337Z"
      },
      {
        "duration": 10,
        "start_time": "2024-03-14T15:17:11.585Z"
      },
      {
        "duration": 4,
        "start_time": "2024-03-14T15:17:11.597Z"
      },
      {
        "duration": 3,
        "start_time": "2024-03-14T15:17:17.689Z"
      },
      {
        "duration": 9,
        "start_time": "2024-03-14T15:17:25.175Z"
      },
      {
        "duration": 3,
        "start_time": "2024-03-14T15:18:36.877Z"
      },
      {
        "duration": 11,
        "start_time": "2024-03-14T15:19:16.309Z"
      },
      {
        "duration": 10,
        "start_time": "2024-03-14T15:19:49.512Z"
      },
      {
        "duration": 12,
        "start_time": "2024-03-14T15:20:13.834Z"
      },
      {
        "duration": 6,
        "start_time": "2024-03-14T15:21:01.195Z"
      },
      {
        "duration": 123,
        "start_time": "2024-03-14T15:21:33.777Z"
      },
      {
        "duration": 4,
        "start_time": "2024-03-14T15:21:39.749Z"
      },
      {
        "duration": 15,
        "start_time": "2024-03-14T15:21:39.755Z"
      },
      {
        "duration": 70,
        "start_time": "2024-03-14T15:21:39.772Z"
      },
      {
        "duration": 9,
        "start_time": "2024-03-14T15:21:39.844Z"
      },
      {
        "duration": 49,
        "start_time": "2024-03-14T15:21:39.854Z"
      },
      {
        "duration": 24,
        "start_time": "2024-03-14T15:21:39.905Z"
      },
      {
        "duration": 29,
        "start_time": "2024-03-14T15:21:39.931Z"
      },
      {
        "duration": 7,
        "start_time": "2024-03-14T15:21:39.961Z"
      },
      {
        "duration": 364,
        "start_time": "2024-03-14T15:21:39.970Z"
      },
      {
        "duration": 7,
        "start_time": "2024-03-14T15:21:40.336Z"
      },
      {
        "duration": 372,
        "start_time": "2024-03-14T15:21:40.344Z"
      },
      {
        "duration": 259,
        "start_time": "2024-03-14T15:21:40.718Z"
      },
      {
        "duration": 250,
        "start_time": "2024-03-14T15:21:40.979Z"
      },
      {
        "duration": 185,
        "start_time": "2024-03-14T15:21:41.231Z"
      },
      {
        "duration": 225,
        "start_time": "2024-03-14T15:21:41.417Z"
      },
      {
        "duration": 177,
        "start_time": "2024-03-14T15:21:41.643Z"
      },
      {
        "duration": 6,
        "start_time": "2024-03-14T15:21:41.822Z"
      },
      {
        "duration": 233,
        "start_time": "2024-03-14T15:22:30.523Z"
      },
      {
        "duration": 241,
        "start_time": "2024-03-14T15:25:14.912Z"
      },
      {
        "duration": 236,
        "start_time": "2024-03-14T15:26:25.499Z"
      },
      {
        "duration": 4,
        "start_time": "2024-03-14T15:49:43.742Z"
      },
      {
        "duration": 23,
        "start_time": "2024-03-14T15:55:27.348Z"
      },
      {
        "duration": 8,
        "start_time": "2024-03-14T15:55:36.263Z"
      },
      {
        "duration": 4,
        "start_time": "2024-03-14T15:55:38.241Z"
      },
      {
        "duration": 3,
        "start_time": "2024-03-14T15:57:48.602Z"
      },
      {
        "duration": 13,
        "start_time": "2024-03-14T15:57:59.838Z"
      },
      {
        "duration": 10,
        "start_time": "2024-03-14T15:58:23.780Z"
      },
      {
        "duration": 124,
        "start_time": "2024-03-14T15:58:34.434Z"
      },
      {
        "duration": 2,
        "start_time": "2024-03-14T15:59:07.292Z"
      },
      {
        "duration": 31,
        "start_time": "2024-03-14T15:59:23.071Z"
      },
      {
        "duration": 3,
        "start_time": "2024-03-14T16:00:01.718Z"
      },
      {
        "duration": 3,
        "start_time": "2024-03-14T18:06:15.824Z"
      },
      {
        "duration": 1578,
        "start_time": "2024-03-15T03:16:09.466Z"
      },
      {
        "duration": 3,
        "start_time": "2024-03-15T03:16:11.046Z"
      },
      {
        "duration": 125,
        "start_time": "2024-03-15T03:16:11.051Z"
      },
      {
        "duration": 10,
        "start_time": "2024-03-15T03:16:11.177Z"
      },
      {
        "duration": 4,
        "start_time": "2024-03-15T03:16:11.189Z"
      },
      {
        "duration": 7,
        "start_time": "2024-03-15T03:16:11.195Z"
      },
      {
        "duration": 16,
        "start_time": "2024-03-15T03:16:11.203Z"
      },
      {
        "duration": 4,
        "start_time": "2024-03-15T03:16:11.221Z"
      },
      {
        "duration": 286,
        "start_time": "2024-03-15T03:16:11.493Z"
      },
      {
        "duration": 7,
        "start_time": "2024-03-15T03:16:11.781Z"
      },
      {
        "duration": 298,
        "start_time": "2024-03-15T03:16:11.789Z"
      },
      {
        "duration": 245,
        "start_time": "2024-03-15T03:16:12.088Z"
      },
      {
        "duration": 232,
        "start_time": "2024-03-15T03:16:12.335Z"
      },
      {
        "duration": 168,
        "start_time": "2024-03-15T03:16:12.569Z"
      },
      {
        "duration": 148,
        "start_time": "2024-03-15T03:16:16.565Z"
      },
      {
        "duration": 149,
        "start_time": "2024-03-15T03:16:16.717Z"
      },
      {
        "duration": 5,
        "start_time": "2024-03-15T03:16:16.868Z"
      },
      {
        "duration": 231,
        "start_time": "2024-03-15T03:16:16.874Z"
      },
      {
        "duration": 10,
        "start_time": "2024-03-15T03:16:17.108Z"
      },
      {
        "duration": 26,
        "start_time": "2024-03-15T03:16:17.119Z"
      },
      {
        "duration": 6,
        "start_time": "2024-03-15T03:16:17.146Z"
      },
      {
        "duration": 7,
        "start_time": "2024-03-15T03:16:17.153Z"
      },
      {
        "duration": 7,
        "start_time": "2024-03-15T03:16:17.161Z"
      },
      {
        "duration": 5,
        "start_time": "2024-03-15T03:16:17.170Z"
      },
      {
        "duration": 8,
        "start_time": "2024-03-15T03:16:17.177Z"
      },
      {
        "duration": 48,
        "start_time": "2024-03-15T03:16:17.187Z"
      },
      {
        "duration": 2,
        "start_time": "2024-03-15T03:16:17.237Z"
      },
      {
        "duration": 11,
        "start_time": "2024-03-15T03:16:17.242Z"
      },
      {
        "duration": 4,
        "start_time": "2024-03-15T04:11:33.998Z"
      },
      {
        "duration": 3,
        "start_time": "2024-03-15T04:11:34.007Z"
      },
      {
        "duration": 60,
        "start_time": "2024-03-15T04:11:34.012Z"
      },
      {
        "duration": 11,
        "start_time": "2024-03-15T04:11:34.074Z"
      },
      {
        "duration": 6,
        "start_time": "2024-03-15T04:11:34.086Z"
      },
      {
        "duration": 2,
        "start_time": "2024-03-15T04:11:34.095Z"
      },
      {
        "duration": 18,
        "start_time": "2024-03-15T04:11:34.099Z"
      },
      {
        "duration": 5,
        "start_time": "2024-03-15T04:11:34.120Z"
      },
      {
        "duration": 283,
        "start_time": "2024-03-15T04:11:34.126Z"
      },
      {
        "duration": 8,
        "start_time": "2024-03-15T04:11:34.417Z"
      },
      {
        "duration": 263,
        "start_time": "2024-03-15T04:11:34.427Z"
      },
      {
        "duration": 292,
        "start_time": "2024-03-15T04:11:34.692Z"
      },
      {
        "duration": 294,
        "start_time": "2024-03-15T04:11:34.986Z"
      },
      {
        "duration": 202,
        "start_time": "2024-03-15T04:11:35.282Z"
      },
      {
        "duration": 198,
        "start_time": "2024-03-15T04:11:35.487Z"
      },
      {
        "duration": 304,
        "start_time": "2024-03-15T04:11:35.687Z"
      },
      {
        "duration": 6,
        "start_time": "2024-03-15T04:11:35.992Z"
      },
      {
        "duration": 290,
        "start_time": "2024-03-15T04:11:36.000Z"
      },
      {
        "duration": 4,
        "start_time": "2024-03-15T04:11:36.292Z"
      },
      {
        "duration": 38,
        "start_time": "2024-03-15T04:11:36.297Z"
      },
      {
        "duration": 9,
        "start_time": "2024-03-15T04:11:36.337Z"
      },
      {
        "duration": 5,
        "start_time": "2024-03-15T04:11:36.348Z"
      },
      {
        "duration": 7,
        "start_time": "2024-03-15T04:11:36.355Z"
      },
      {
        "duration": 3,
        "start_time": "2024-03-15T04:11:36.364Z"
      },
      {
        "duration": 3,
        "start_time": "2024-03-15T04:11:36.369Z"
      },
      {
        "duration": 84,
        "start_time": "2024-03-15T04:11:36.373Z"
      },
      {
        "duration": 59,
        "start_time": "2024-03-15T04:11:36.459Z"
      },
      {
        "duration": 8,
        "start_time": "2024-03-15T04:11:36.521Z"
      },
      {
        "duration": 284122,
        "start_time": "2024-03-15T04:11:36.531Z"
      },
      {
        "duration": 3,
        "start_time": "2024-03-15T04:16:20.655Z"
      },
      {
        "duration": 14,
        "start_time": "2024-03-15T04:16:20.659Z"
      },
      {
        "duration": 6,
        "start_time": "2024-03-15T04:16:20.675Z"
      },
      {
        "duration": 5,
        "start_time": "2024-03-15T04:16:20.682Z"
      },
      {
        "duration": 31930,
        "start_time": "2024-03-15T04:16:20.689Z"
      },
      {
        "duration": 4,
        "start_time": "2024-03-15T04:16:52.621Z"
      },
      {
        "duration": 4,
        "start_time": "2024-03-15T04:16:52.626Z"
      },
      {
        "duration": 3,
        "start_time": "2024-03-15T04:16:52.632Z"
      },
      {
        "duration": 11,
        "start_time": "2024-03-15T04:16:52.637Z"
      },
      {
        "duration": 114033,
        "start_time": "2024-03-15T04:16:52.649Z"
      },
      {
        "duration": 5,
        "start_time": "2024-03-15T04:18:46.683Z"
      },
      {
        "duration": 1166,
        "start_time": "2024-03-15T04:18:46.690Z"
      },
      {
        "duration": 2296,
        "start_time": "2024-03-15T04:18:47.860Z"
      },
      {
        "duration": 2297,
        "start_time": "2024-03-15T04:18:50.157Z"
      },
      {
        "duration": 1132,
        "start_time": "2024-03-15T04:18:52.456Z"
      },
      {
        "duration": 5064,
        "start_time": "2024-03-15T04:18:53.592Z"
      },
      {
        "duration": 72980,
        "start_time": "2024-03-15T04:18:58.658Z"
      },
      {
        "duration": 3,
        "start_time": "2024-03-15T04:20:11.640Z"
      },
      {
        "duration": 1178,
        "start_time": "2024-03-15T04:20:11.645Z"
      },
      {
        "duration": 3,
        "start_time": "2024-03-15T04:20:12.825Z"
      },
      {
        "duration": 12,
        "start_time": "2024-03-15T04:20:12.829Z"
      },
      {
        "duration": 160,
        "start_time": "2024-03-15T04:38:01.404Z"
      },
      {
        "duration": 152,
        "start_time": "2024-03-15T04:38:12.884Z"
      },
      {
        "duration": 71,
        "start_time": "2024-03-15T09:18:35.250Z"
      },
      {
        "duration": 76,
        "start_time": "2024-03-15T09:19:36.177Z"
      },
      {
        "duration": 72,
        "start_time": "2024-03-15T09:19:51.664Z"
      },
      {
        "duration": 956,
        "start_time": "2024-03-15T09:20:36.805Z"
      },
      {
        "duration": 9,
        "start_time": "2024-03-15T09:21:09.044Z"
      },
      {
        "duration": 766,
        "start_time": "2024-03-15T09:21:15.774Z"
      },
      {
        "duration": 3,
        "start_time": "2024-03-15T09:21:16.542Z"
      },
      {
        "duration": 130,
        "start_time": "2024-03-15T09:21:16.547Z"
      },
      {
        "duration": 10,
        "start_time": "2024-03-15T09:21:16.679Z"
      },
      {
        "duration": 5,
        "start_time": "2024-03-15T09:21:16.691Z"
      },
      {
        "duration": 15,
        "start_time": "2024-03-15T09:21:16.697Z"
      },
      {
        "duration": 14,
        "start_time": "2024-03-15T09:21:16.714Z"
      },
      {
        "duration": 4,
        "start_time": "2024-03-15T09:21:16.730Z"
      },
      {
        "duration": 371,
        "start_time": "2024-03-15T09:21:16.736Z"
      },
      {
        "duration": 8,
        "start_time": "2024-03-15T09:21:17.109Z"
      },
      {
        "duration": 225,
        "start_time": "2024-03-15T09:21:17.118Z"
      },
      {
        "duration": 283,
        "start_time": "2024-03-15T09:21:17.344Z"
      },
      {
        "duration": 281,
        "start_time": "2024-03-15T09:21:17.628Z"
      },
      {
        "duration": 164,
        "start_time": "2024-03-15T09:21:17.911Z"
      },
      {
        "duration": 190,
        "start_time": "2024-03-15T09:21:18.076Z"
      },
      {
        "duration": 168,
        "start_time": "2024-03-15T09:21:18.267Z"
      },
      {
        "duration": 5,
        "start_time": "2024-03-15T09:21:18.436Z"
      },
      {
        "duration": 259,
        "start_time": "2024-03-15T09:21:18.443Z"
      },
      {
        "duration": 3,
        "start_time": "2024-03-15T09:21:18.704Z"
      },
      {
        "duration": 494,
        "start_time": "2024-03-15T09:21:27.153Z"
      },
      {
        "duration": 38,
        "start_time": "2024-03-15T09:22:08.941Z"
      },
      {
        "duration": 72,
        "start_time": "2024-03-15T09:26:04.756Z"
      },
      {
        "duration": 71,
        "start_time": "2024-03-15T09:27:45.931Z"
      },
      {
        "duration": 223,
        "start_time": "2024-03-15T09:27:51.352Z"
      },
      {
        "duration": 214,
        "start_time": "2024-03-15T09:27:57.963Z"
      },
      {
        "duration": 66,
        "start_time": "2024-03-15T09:28:05.731Z"
      },
      {
        "duration": 10,
        "start_time": "2024-03-15T09:28:10.730Z"
      },
      {
        "duration": 10,
        "start_time": "2024-03-15T09:28:34.885Z"
      },
      {
        "duration": 82,
        "start_time": "2024-03-15T09:28:46.032Z"
      },
      {
        "duration": 392,
        "start_time": "2024-03-15T09:28:52.709Z"
      },
      {
        "duration": 387,
        "start_time": "2024-03-15T09:30:31.590Z"
      },
      {
        "duration": 195,
        "start_time": "2024-03-15T09:30:45.272Z"
      },
      {
        "duration": 244,
        "start_time": "2024-03-15T09:31:02.239Z"
      },
      {
        "duration": 4,
        "start_time": "2024-03-15T09:31:49.516Z"
      },
      {
        "duration": 1946,
        "start_time": "2024-03-16T08:42:40.361Z"
      },
      {
        "duration": 3,
        "start_time": "2024-03-16T08:42:42.309Z"
      },
      {
        "duration": 160,
        "start_time": "2024-03-16T08:42:42.313Z"
      },
      {
        "duration": 11,
        "start_time": "2024-03-16T08:42:42.475Z"
      },
      {
        "duration": 4,
        "start_time": "2024-03-16T08:42:42.487Z"
      },
      {
        "duration": 5,
        "start_time": "2024-03-16T08:42:42.492Z"
      },
      {
        "duration": 14,
        "start_time": "2024-03-16T08:42:42.498Z"
      },
      {
        "duration": 4,
        "start_time": "2024-03-16T08:42:42.514Z"
      },
      {
        "duration": 313,
        "start_time": "2024-03-16T08:42:42.519Z"
      },
      {
        "duration": 10,
        "start_time": "2024-03-16T08:42:42.835Z"
      },
      {
        "duration": 363,
        "start_time": "2024-03-16T08:42:42.846Z"
      },
      {
        "duration": 288,
        "start_time": "2024-03-16T08:42:43.212Z"
      },
      {
        "duration": 264,
        "start_time": "2024-03-16T08:42:43.502Z"
      },
      {
        "duration": 194,
        "start_time": "2024-03-16T08:42:43.768Z"
      },
      {
        "duration": 187,
        "start_time": "2024-03-16T08:42:43.964Z"
      },
      {
        "duration": 192,
        "start_time": "2024-03-16T08:42:44.153Z"
      },
      {
        "duration": 6,
        "start_time": "2024-03-16T08:42:44.346Z"
      },
      {
        "duration": 272,
        "start_time": "2024-03-16T08:42:44.354Z"
      },
      {
        "duration": 4,
        "start_time": "2024-03-16T08:42:44.627Z"
      },
      {
        "duration": 116,
        "start_time": "2024-03-16T08:43:03.366Z"
      },
      {
        "duration": 116,
        "start_time": "2024-03-16T08:43:40.535Z"
      },
      {
        "duration": 139,
        "start_time": "2024-03-16T08:43:52.598Z"
      },
      {
        "duration": 27,
        "start_time": "2024-03-16T08:44:21.700Z"
      },
      {
        "duration": 15,
        "start_time": "2024-03-16T08:44:29.867Z"
      },
      {
        "duration": 4,
        "start_time": "2024-03-16T08:44:41.907Z"
      },
      {
        "duration": 2905,
        "start_time": "2024-03-16T08:45:03.203Z"
      },
      {
        "duration": 2540,
        "start_time": "2024-03-16T08:45:12.899Z"
      },
      {
        "duration": 5,
        "start_time": "2024-03-16T08:45:23.421Z"
      },
      {
        "duration": 17,
        "start_time": "2024-03-16T08:45:28.758Z"
      },
      {
        "duration": 13,
        "start_time": "2024-03-16T08:45:31.232Z"
      },
      {
        "duration": 4,
        "start_time": "2024-03-16T08:45:37.638Z"
      },
      {
        "duration": 2514,
        "start_time": "2024-03-16T08:46:12.401Z"
      },
      {
        "duration": 1569,
        "start_time": "2024-03-16T08:46:14.917Z"
      },
      {
        "duration": 4,
        "start_time": "2024-03-16T08:46:16.487Z"
      },
      {
        "duration": 63,
        "start_time": "2024-03-16T08:46:16.494Z"
      },
      {
        "duration": 11,
        "start_time": "2024-03-16T08:46:16.559Z"
      },
      {
        "duration": 4,
        "start_time": "2024-03-16T08:46:16.572Z"
      },
      {
        "duration": 8,
        "start_time": "2024-03-16T08:46:16.578Z"
      },
      {
        "duration": 15,
        "start_time": "2024-03-16T08:46:16.588Z"
      },
      {
        "duration": 5,
        "start_time": "2024-03-16T08:46:16.605Z"
      },
      {
        "duration": 350,
        "start_time": "2024-03-16T08:46:16.614Z"
      },
      {
        "duration": 10,
        "start_time": "2024-03-16T08:46:16.966Z"
      },
      {
        "duration": 323,
        "start_time": "2024-03-16T08:46:16.978Z"
      },
      {
        "duration": 291,
        "start_time": "2024-03-16T08:46:17.303Z"
      },
      {
        "duration": 276,
        "start_time": "2024-03-16T08:46:17.597Z"
      },
      {
        "duration": 225,
        "start_time": "2024-03-16T08:46:17.874Z"
      },
      {
        "duration": 197,
        "start_time": "2024-03-16T08:46:18.101Z"
      },
      {
        "duration": 196,
        "start_time": "2024-03-16T08:46:18.300Z"
      },
      {
        "duration": 6,
        "start_time": "2024-03-16T08:46:18.498Z"
      },
      {
        "duration": 266,
        "start_time": "2024-03-16T08:46:18.506Z"
      },
      {
        "duration": 4,
        "start_time": "2024-03-16T08:46:18.774Z"
      },
      {
        "duration": 134,
        "start_time": "2024-03-16T08:46:32.578Z"
      },
      {
        "duration": 249,
        "start_time": "2024-03-16T08:46:52.324Z"
      },
      {
        "duration": 45,
        "start_time": "2024-03-16T08:46:54.205Z"
      },
      {
        "duration": 4,
        "start_time": "2024-03-16T08:47:04.761Z"
      },
      {
        "duration": 11,
        "start_time": "2024-03-16T08:47:14.382Z"
      },
      {
        "duration": 2,
        "start_time": "2024-03-16T08:47:17.881Z"
      },
      {
        "duration": 11,
        "start_time": "2024-03-16T08:47:23.359Z"
      },
      {
        "duration": 3,
        "start_time": "2024-03-16T08:48:03.889Z"
      },
      {
        "duration": 12,
        "start_time": "2024-03-16T08:48:05.288Z"
      },
      {
        "duration": 3,
        "start_time": "2024-03-16T08:48:21.868Z"
      },
      {
        "duration": 3,
        "start_time": "2024-03-16T08:48:30.202Z"
      },
      {
        "duration": 11,
        "start_time": "2024-03-16T08:48:31.644Z"
      },
      {
        "duration": 2665,
        "start_time": "2024-03-16T08:49:08.408Z"
      },
      {
        "duration": 5,
        "start_time": "2024-03-16T08:49:11.075Z"
      },
      {
        "duration": 29,
        "start_time": "2024-03-16T08:49:11.082Z"
      },
      {
        "duration": 64,
        "start_time": "2024-03-16T08:49:11.114Z"
      },
      {
        "duration": 11,
        "start_time": "2024-03-16T08:49:11.180Z"
      },
      {
        "duration": 6,
        "start_time": "2024-03-16T08:49:11.193Z"
      },
      {
        "duration": 6,
        "start_time": "2024-03-16T08:49:11.200Z"
      },
      {
        "duration": 15,
        "start_time": "2024-03-16T08:49:11.208Z"
      },
      {
        "duration": 6,
        "start_time": "2024-03-16T08:49:11.225Z"
      },
      {
        "duration": 287,
        "start_time": "2024-03-16T08:49:11.238Z"
      },
      {
        "duration": 9,
        "start_time": "2024-03-16T08:49:11.526Z"
      },
      {
        "duration": 263,
        "start_time": "2024-03-16T08:49:11.537Z"
      },
      {
        "duration": 300,
        "start_time": "2024-03-16T08:49:11.802Z"
      },
      {
        "duration": 268,
        "start_time": "2024-03-16T08:49:12.104Z"
      },
      {
        "duration": 202,
        "start_time": "2024-03-16T08:49:12.374Z"
      },
      {
        "duration": 315,
        "start_time": "2024-03-16T08:49:12.577Z"
      },
      {
        "duration": 181,
        "start_time": "2024-03-16T08:49:12.893Z"
      },
      {
        "duration": 15,
        "start_time": "2024-03-16T08:49:13.076Z"
      },
      {
        "duration": 259,
        "start_time": "2024-03-16T08:49:13.093Z"
      },
      {
        "duration": 6,
        "start_time": "2024-03-16T08:49:13.353Z"
      },
      {
        "duration": 27,
        "start_time": "2024-03-16T08:49:13.360Z"
      },
      {
        "duration": 13,
        "start_time": "2024-03-16T08:49:13.389Z"
      },
      {
        "duration": 4,
        "start_time": "2024-03-16T09:04:14.881Z"
      },
      {
        "duration": 13,
        "start_time": "2024-03-16T09:04:16.620Z"
      },
      {
        "duration": 409,
        "start_time": "2024-03-16T09:04:31.723Z"
      },
      {
        "duration": 6,
        "start_time": "2024-03-16T09:05:04.615Z"
      },
      {
        "duration": 5,
        "start_time": "2024-03-16T09:12:50.052Z"
      },
      {
        "duration": 29,
        "start_time": "2024-03-16T09:13:01.835Z"
      },
      {
        "duration": 16,
        "start_time": "2024-03-16T09:14:14.419Z"
      },
      {
        "duration": 7,
        "start_time": "2024-03-16T09:14:18.001Z"
      },
      {
        "duration": 4,
        "start_time": "2024-03-16T09:14:19.922Z"
      },
      {
        "duration": 3,
        "start_time": "2024-03-16T09:14:24.215Z"
      },
      {
        "duration": 2737,
        "start_time": "2024-03-16T09:16:57.896Z"
      },
      {
        "duration": 6,
        "start_time": "2024-03-16T09:17:00.636Z"
      },
      {
        "duration": 120,
        "start_time": "2024-03-16T09:17:00.643Z"
      },
      {
        "duration": 160,
        "start_time": "2024-03-16T09:17:00.765Z"
      },
      {
        "duration": 27,
        "start_time": "2024-03-16T09:17:00.928Z"
      },
      {
        "duration": 49,
        "start_time": "2024-03-16T09:17:00.957Z"
      },
      {
        "duration": 44,
        "start_time": "2024-03-16T09:17:01.008Z"
      },
      {
        "duration": 75,
        "start_time": "2024-03-16T09:17:01.054Z"
      },
      {
        "duration": 61,
        "start_time": "2024-03-16T09:17:01.131Z"
      },
      {
        "duration": 342,
        "start_time": "2024-03-16T09:17:01.195Z"
      },
      {
        "duration": 9,
        "start_time": "2024-03-16T09:17:01.539Z"
      },
      {
        "duration": 382,
        "start_time": "2024-03-16T09:17:01.550Z"
      },
      {
        "duration": 327,
        "start_time": "2024-03-16T09:17:01.935Z"
      },
      {
        "duration": 408,
        "start_time": "2024-03-16T09:17:02.264Z"
      },
      {
        "duration": 201,
        "start_time": "2024-03-16T09:17:02.674Z"
      },
      {
        "duration": 192,
        "start_time": "2024-03-16T09:17:02.877Z"
      },
      {
        "duration": 208,
        "start_time": "2024-03-16T09:17:03.071Z"
      },
      {
        "duration": 12,
        "start_time": "2024-03-16T09:17:03.281Z"
      },
      {
        "duration": 265,
        "start_time": "2024-03-16T09:17:03.295Z"
      },
      {
        "duration": 4,
        "start_time": "2024-03-16T09:17:03.562Z"
      },
      {
        "duration": 451,
        "start_time": "2024-03-16T09:17:03.567Z"
      },
      {
        "duration": 25,
        "start_time": "2024-03-16T09:17:04.020Z"
      },
      {
        "duration": 7,
        "start_time": "2024-03-16T09:17:04.047Z"
      },
      {
        "duration": 25,
        "start_time": "2024-03-16T09:17:04.056Z"
      },
      {
        "duration": 11,
        "start_time": "2024-03-16T09:17:04.083Z"
      },
      {
        "duration": 15,
        "start_time": "2024-03-16T09:17:04.096Z"
      },
      {
        "duration": 10,
        "start_time": "2024-03-16T09:17:04.113Z"
      },
      {
        "duration": 185,
        "start_time": "2024-03-16T09:17:04.128Z"
      },
      {
        "duration": 4,
        "start_time": "2024-03-16T09:17:04.316Z"
      },
      {
        "duration": 4,
        "start_time": "2024-03-16T09:17:04.392Z"
      },
      {
        "duration": 236470,
        "start_time": "2024-03-16T09:17:04.398Z"
      },
      {
        "duration": 4,
        "start_time": "2024-03-16T09:21:00.870Z"
      },
      {
        "duration": 102,
        "start_time": "2024-03-16T09:21:00.876Z"
      },
      {
        "duration": 84,
        "start_time": "2024-03-16T09:21:00.979Z"
      },
      {
        "duration": 76,
        "start_time": "2024-03-16T09:21:01.065Z"
      },
      {
        "duration": 31851,
        "start_time": "2024-03-16T09:21:01.143Z"
      },
      {
        "duration": 4,
        "start_time": "2024-03-16T09:21:32.996Z"
      },
      {
        "duration": 70,
        "start_time": "2024-03-16T09:21:33.001Z"
      },
      {
        "duration": 29,
        "start_time": "2024-03-16T09:21:33.073Z"
      },
      {
        "duration": 10,
        "start_time": "2024-03-16T09:21:33.104Z"
      },
      {
        "duration": 74648,
        "start_time": "2024-03-16T09:21:33.116Z"
      },
      {
        "duration": 4,
        "start_time": "2024-03-16T09:22:47.766Z"
      },
      {
        "duration": 11,
        "start_time": "2024-03-16T09:22:47.772Z"
      },
      {
        "duration": 12,
        "start_time": "2024-03-16T09:22:47.785Z"
      },
      {
        "duration": 3,
        "start_time": "2024-03-16T09:31:16.971Z"
      },
      {
        "duration": 58370,
        "start_time": "2024-03-16T09:31:20.428Z"
      },
      {
        "duration": 5,
        "start_time": "2024-03-16T09:32:58.561Z"
      },
      {
        "duration": 4,
        "start_time": "2024-03-16T09:33:16.608Z"
      },
      {
        "duration": 0,
        "start_time": "2024-03-16T09:33:42.996Z"
      },
      {
        "duration": 0,
        "start_time": "2024-03-16T09:33:42.997Z"
      },
      {
        "duration": 2729,
        "start_time": "2024-03-16T09:34:08.571Z"
      },
      {
        "duration": 5,
        "start_time": "2024-03-16T09:34:11.303Z"
      },
      {
        "duration": 5,
        "start_time": "2024-03-16T09:34:11.310Z"
      },
      {
        "duration": 60,
        "start_time": "2024-03-16T09:34:11.317Z"
      },
      {
        "duration": 12,
        "start_time": "2024-03-16T09:34:11.379Z"
      },
      {
        "duration": 4,
        "start_time": "2024-03-16T09:34:11.393Z"
      },
      {
        "duration": 4,
        "start_time": "2024-03-16T09:34:11.399Z"
      },
      {
        "duration": 18,
        "start_time": "2024-03-16T09:34:11.406Z"
      },
      {
        "duration": 5,
        "start_time": "2024-03-16T09:34:11.426Z"
      },
      {
        "duration": 299,
        "start_time": "2024-03-16T09:34:11.434Z"
      },
      {
        "duration": 9,
        "start_time": "2024-03-16T09:34:11.734Z"
      },
      {
        "duration": 255,
        "start_time": "2024-03-16T09:34:11.745Z"
      },
      {
        "duration": 425,
        "start_time": "2024-03-16T09:34:12.002Z"
      },
      {
        "duration": 276,
        "start_time": "2024-03-16T09:34:12.428Z"
      },
      {
        "duration": 198,
        "start_time": "2024-03-16T09:34:12.706Z"
      },
      {
        "duration": 191,
        "start_time": "2024-03-16T09:34:12.906Z"
      },
      {
        "duration": 185,
        "start_time": "2024-03-16T09:34:13.098Z"
      },
      {
        "duration": 6,
        "start_time": "2024-03-16T09:34:13.291Z"
      },
      {
        "duration": 266,
        "start_time": "2024-03-16T09:34:13.298Z"
      },
      {
        "duration": 4,
        "start_time": "2024-03-16T09:34:13.565Z"
      },
      {
        "duration": 445,
        "start_time": "2024-03-16T09:34:13.571Z"
      },
      {
        "duration": 21,
        "start_time": "2024-03-16T09:34:14.018Z"
      },
      {
        "duration": 8,
        "start_time": "2024-03-16T09:34:14.041Z"
      },
      {
        "duration": 10,
        "start_time": "2024-03-16T09:34:14.051Z"
      },
      {
        "duration": 9,
        "start_time": "2024-03-16T09:34:14.062Z"
      },
      {
        "duration": 3,
        "start_time": "2024-03-16T09:34:14.092Z"
      },
      {
        "duration": 11,
        "start_time": "2024-03-16T09:34:14.096Z"
      },
      {
        "duration": 197,
        "start_time": "2024-03-16T09:34:14.111Z"
      },
      {
        "duration": 3,
        "start_time": "2024-03-16T09:34:14.309Z"
      },
      {
        "duration": 3,
        "start_time": "2024-03-16T09:34:14.314Z"
      },
      {
        "duration": 234151,
        "start_time": "2024-03-16T09:34:14.319Z"
      },
      {
        "duration": 5,
        "start_time": "2024-03-16T09:38:08.472Z"
      },
      {
        "duration": 20,
        "start_time": "2024-03-16T09:38:08.478Z"
      },
      {
        "duration": 9,
        "start_time": "2024-03-16T09:38:08.500Z"
      },
      {
        "duration": 14,
        "start_time": "2024-03-16T09:38:08.511Z"
      },
      {
        "duration": 31966,
        "start_time": "2024-03-16T09:38:08.527Z"
      },
      {
        "duration": 4,
        "start_time": "2024-03-16T09:38:40.495Z"
      },
      {
        "duration": 18,
        "start_time": "2024-03-16T09:38:40.500Z"
      },
      {
        "duration": 17,
        "start_time": "2024-03-16T09:38:40.519Z"
      },
      {
        "duration": 8,
        "start_time": "2024-03-16T09:38:40.538Z"
      },
      {
        "duration": 76082,
        "start_time": "2024-03-16T09:38:40.548Z"
      },
      {
        "duration": 4,
        "start_time": "2024-03-16T09:39:56.632Z"
      },
      {
        "duration": 35,
        "start_time": "2024-03-16T09:39:56.637Z"
      },
      {
        "duration": 8,
        "start_time": "2024-03-16T09:40:28.733Z"
      },
      {
        "duration": 4,
        "start_time": "2024-03-16T09:42:00.187Z"
      },
      {
        "duration": 247458,
        "start_time": "2024-03-16T09:42:00.524Z"
      },
      {
        "duration": 4,
        "start_time": "2024-03-16T09:47:05.450Z"
      },
      {
        "duration": 3,
        "start_time": "2024-03-16T09:47:15.653Z"
      },
      {
        "duration": 2551,
        "start_time": "2024-03-16T09:50:42.174Z"
      },
      {
        "duration": 1778,
        "start_time": "2024-03-16T09:50:44.728Z"
      },
      {
        "duration": 4,
        "start_time": "2024-03-16T09:50:46.508Z"
      },
      {
        "duration": 91,
        "start_time": "2024-03-16T09:50:46.514Z"
      },
      {
        "duration": 11,
        "start_time": "2024-03-16T09:50:46.607Z"
      },
      {
        "duration": 36,
        "start_time": "2024-03-16T09:50:46.620Z"
      },
      {
        "duration": 35,
        "start_time": "2024-03-16T09:50:46.658Z"
      },
      {
        "duration": 58,
        "start_time": "2024-03-16T09:50:46.694Z"
      },
      {
        "duration": 39,
        "start_time": "2024-03-16T09:50:46.754Z"
      },
      {
        "duration": 372,
        "start_time": "2024-03-16T09:50:46.796Z"
      },
      {
        "duration": 10,
        "start_time": "2024-03-16T09:50:47.169Z"
      },
      {
        "duration": 279,
        "start_time": "2024-03-16T09:50:47.180Z"
      },
      {
        "duration": 301,
        "start_time": "2024-03-16T09:50:47.461Z"
      },
      {
        "duration": 272,
        "start_time": "2024-03-16T09:50:47.764Z"
      },
      {
        "duration": 205,
        "start_time": "2024-03-16T09:50:48.038Z"
      },
      {
        "duration": 291,
        "start_time": "2024-03-16T09:50:48.245Z"
      },
      {
        "duration": 182,
        "start_time": "2024-03-16T09:50:48.537Z"
      },
      {
        "duration": 7,
        "start_time": "2024-03-16T09:50:48.721Z"
      },
      {
        "duration": 290,
        "start_time": "2024-03-16T09:50:48.729Z"
      },
      {
        "duration": 4,
        "start_time": "2024-03-16T09:50:49.020Z"
      },
      {
        "duration": 396,
        "start_time": "2024-03-16T09:50:49.026Z"
      },
      {
        "duration": 19,
        "start_time": "2024-03-16T09:50:49.423Z"
      },
      {
        "duration": 39,
        "start_time": "2024-03-16T09:50:49.444Z"
      },
      {
        "duration": 31,
        "start_time": "2024-03-16T09:50:49.484Z"
      },
      {
        "duration": 28,
        "start_time": "2024-03-16T09:50:49.517Z"
      },
      {
        "duration": 18,
        "start_time": "2024-03-16T09:50:49.547Z"
      },
      {
        "duration": 32,
        "start_time": "2024-03-16T09:50:49.566Z"
      },
      {
        "duration": 133,
        "start_time": "2024-03-16T09:50:49.602Z"
      },
      {
        "duration": 3,
        "start_time": "2024-03-16T09:50:49.736Z"
      },
      {
        "duration": 54,
        "start_time": "2024-03-16T09:50:49.741Z"
      },
      {
        "duration": 247832,
        "start_time": "2024-03-16T09:50:49.797Z"
      },
      {
        "duration": 3,
        "start_time": "2024-03-16T09:54:57.631Z"
      },
      {
        "duration": 29,
        "start_time": "2024-03-16T09:54:57.635Z"
      },
      {
        "duration": 6,
        "start_time": "2024-03-16T09:54:57.667Z"
      },
      {
        "duration": 20,
        "start_time": "2024-03-16T09:54:57.675Z"
      },
      {
        "duration": 36502,
        "start_time": "2024-03-16T09:54:57.697Z"
      },
      {
        "duration": 4,
        "start_time": "2024-03-16T09:55:34.201Z"
      },
      {
        "duration": 19,
        "start_time": "2024-03-16T09:55:34.206Z"
      },
      {
        "duration": 4,
        "start_time": "2024-03-16T09:55:34.227Z"
      },
      {
        "duration": 9,
        "start_time": "2024-03-16T09:55:34.233Z"
      },
      {
        "duration": 76190,
        "start_time": "2024-03-16T09:55:34.244Z"
      },
      {
        "duration": 4,
        "start_time": "2024-03-16T09:56:50.436Z"
      },
      {
        "duration": 7,
        "start_time": "2024-03-16T09:56:50.441Z"
      },
      {
        "duration": 17,
        "start_time": "2024-03-16T09:56:50.449Z"
      },
      {
        "duration": 8,
        "start_time": "2024-03-16T09:56:50.468Z"
      },
      {
        "duration": 9,
        "start_time": "2024-03-16T09:56:50.477Z"
      },
      {
        "duration": 1759,
        "start_time": "2024-03-16T09:56:50.487Z"
      },
      {
        "duration": 2,
        "start_time": "2024-03-16T09:56:52.248Z"
      },
      {
        "duration": 25,
        "start_time": "2024-03-16T09:56:52.252Z"
      },
      {
        "duration": 21,
        "start_time": "2024-03-16T09:56:52.279Z"
      },
      {
        "duration": 28,
        "start_time": "2024-03-16T09:56:52.302Z"
      },
      {
        "duration": 11,
        "start_time": "2024-03-16T09:56:52.331Z"
      },
      {
        "duration": 3,
        "start_time": "2024-03-16T09:58:12.034Z"
      },
      {
        "duration": 26904,
        "start_time": "2024-03-16T09:58:15.496Z"
      },
      {
        "duration": 5,
        "start_time": "2024-03-16T09:58:56.625Z"
      },
      {
        "duration": 8,
        "start_time": "2024-03-16T09:58:59.870Z"
      },
      {
        "duration": 1670,
        "start_time": "2024-03-16T10:08:53.372Z"
      },
      {
        "duration": 1780,
        "start_time": "2024-03-16T10:09:00.558Z"
      },
      {
        "duration": 1695,
        "start_time": "2024-03-16T10:12:12.047Z"
      },
      {
        "duration": 3,
        "start_time": "2024-03-16T10:12:31.663Z"
      },
      {
        "duration": 148352,
        "start_time": "2024-03-16T10:12:32.223Z"
      },
      {
        "duration": 4,
        "start_time": "2024-03-16T10:15:29.742Z"
      },
      {
        "duration": 3,
        "start_time": "2024-03-16T10:15:31.158Z"
      },
      {
        "duration": 3,
        "start_time": "2024-03-16T10:16:08.260Z"
      },
      {
        "duration": 25528,
        "start_time": "2024-03-16T10:16:10.767Z"
      },
      {
        "duration": 5,
        "start_time": "2024-03-16T10:17:24.073Z"
      },
      {
        "duration": 4,
        "start_time": "2024-03-16T10:17:27.232Z"
      },
      {
        "duration": 3,
        "start_time": "2024-03-16T10:17:51.088Z"
      },
      {
        "duration": 44452,
        "start_time": "2024-03-16T10:17:51.559Z"
      },
      {
        "duration": 4,
        "start_time": "2024-03-16T10:18:36.014Z"
      },
      {
        "duration": 4,
        "start_time": "2024-03-16T10:19:03.452Z"
      },
      {
        "duration": 3,
        "start_time": "2024-03-16T10:19:04.483Z"
      },
      {
        "duration": 2697,
        "start_time": "2024-03-16T10:19:20.613Z"
      },
      {
        "duration": 6,
        "start_time": "2024-03-16T10:19:23.312Z"
      },
      {
        "duration": 21,
        "start_time": "2024-03-16T10:19:23.319Z"
      },
      {
        "duration": 59,
        "start_time": "2024-03-16T10:19:23.343Z"
      },
      {
        "duration": 12,
        "start_time": "2024-03-16T10:19:23.403Z"
      },
      {
        "duration": 5,
        "start_time": "2024-03-16T10:19:23.416Z"
      },
      {
        "duration": 10,
        "start_time": "2024-03-16T10:19:23.422Z"
      },
      {
        "duration": 33,
        "start_time": "2024-03-16T10:19:23.433Z"
      },
      {
        "duration": 4,
        "start_time": "2024-03-16T10:19:23.468Z"
      },
      {
        "duration": 287,
        "start_time": "2024-03-16T10:19:23.475Z"
      },
      {
        "duration": 8,
        "start_time": "2024-03-16T10:19:23.763Z"
      },
      {
        "duration": 362,
        "start_time": "2024-03-16T10:19:23.772Z"
      },
      {
        "duration": 297,
        "start_time": "2024-03-16T10:19:24.136Z"
      },
      {
        "duration": 303,
        "start_time": "2024-03-16T10:19:24.435Z"
      },
      {
        "duration": 191,
        "start_time": "2024-03-16T10:19:24.740Z"
      },
      {
        "duration": 185,
        "start_time": "2024-03-16T10:19:24.932Z"
      },
      {
        "duration": 182,
        "start_time": "2024-03-16T10:19:25.119Z"
      },
      {
        "duration": 7,
        "start_time": "2024-03-16T10:19:25.303Z"
      },
      {
        "duration": 273,
        "start_time": "2024-03-16T10:19:25.312Z"
      },
      {
        "duration": 6,
        "start_time": "2024-03-16T10:19:25.586Z"
      },
      {
        "duration": 430,
        "start_time": "2024-03-16T10:19:25.593Z"
      },
      {
        "duration": 21,
        "start_time": "2024-03-16T10:19:26.025Z"
      },
      {
        "duration": 22,
        "start_time": "2024-03-16T10:19:26.048Z"
      },
      {
        "duration": 4,
        "start_time": "2024-03-16T10:19:26.073Z"
      },
      {
        "duration": 24,
        "start_time": "2024-03-16T10:19:26.079Z"
      },
      {
        "duration": 12,
        "start_time": "2024-03-16T10:19:26.105Z"
      },
      {
        "duration": 42,
        "start_time": "2024-03-16T10:19:26.118Z"
      },
      {
        "duration": 240,
        "start_time": "2024-03-16T10:19:26.164Z"
      },
      {
        "duration": 3,
        "start_time": "2024-03-16T10:19:26.405Z"
      },
      {
        "duration": 16,
        "start_time": "2024-03-16T10:19:26.410Z"
      },
      {
        "duration": 45417,
        "start_time": "2024-03-16T10:19:26.428Z"
      },
      {
        "duration": 4,
        "start_time": "2024-03-16T10:20:11.847Z"
      },
      {
        "duration": 5,
        "start_time": "2024-03-16T10:20:11.853Z"
      },
      {
        "duration": 3,
        "start_time": "2024-03-16T10:20:11.859Z"
      },
      {
        "duration": 4,
        "start_time": "2024-03-16T10:20:11.863Z"
      },
      {
        "duration": 27432,
        "start_time": "2024-03-16T10:20:11.869Z"
      },
      {
        "duration": 4,
        "start_time": "2024-03-16T10:20:39.303Z"
      },
      {
        "duration": 39,
        "start_time": "2024-03-16T10:20:39.309Z"
      },
      {
        "duration": 9,
        "start_time": "2024-03-16T10:20:39.392Z"
      },
      {
        "duration": 29,
        "start_time": "2024-03-16T10:20:39.403Z"
      },
      {
        "duration": 76273,
        "start_time": "2024-03-16T10:20:39.434Z"
      },
      {
        "duration": 4,
        "start_time": "2024-03-16T10:21:55.708Z"
      },
      {
        "duration": 14,
        "start_time": "2024-03-16T10:21:55.714Z"
      },
      {
        "duration": 31,
        "start_time": "2024-03-16T10:21:55.729Z"
      },
      {
        "duration": 389,
        "start_time": "2024-03-16T10:23:02.920Z"
      },
      {
        "duration": 515,
        "start_time": "2024-03-16T10:23:10.587Z"
      },
      {
        "duration": 19,
        "start_time": "2024-03-16T10:23:20.642Z"
      },
      {
        "duration": 8,
        "start_time": "2024-03-16T10:23:26.094Z"
      },
      {
        "duration": 4,
        "start_time": "2024-03-16T10:23:26.797Z"
      },
      {
        "duration": 3,
        "start_time": "2024-03-16T10:23:27.228Z"
      },
      {
        "duration": 3,
        "start_time": "2024-03-16T10:23:27.444Z"
      },
      {
        "duration": 2,
        "start_time": "2024-03-16T10:23:27.831Z"
      },
      {
        "duration": 34,
        "start_time": "2024-03-16T10:23:28.404Z"
      },
      {
        "duration": 2,
        "start_time": "2024-03-16T10:23:28.598Z"
      },
      {
        "duration": 4,
        "start_time": "2024-03-16T10:23:29.954Z"
      },
      {
        "duration": 50120,
        "start_time": "2024-03-16T10:23:30.511Z"
      },
      {
        "duration": 4,
        "start_time": "2024-03-16T10:25:16.706Z"
      },
      {
        "duration": 4,
        "start_time": "2024-03-16T10:25:23.087Z"
      },
      {
        "duration": 3,
        "start_time": "2024-03-16T10:25:23.097Z"
      },
      {
        "duration": 5,
        "start_time": "2024-03-16T10:25:23.105Z"
      },
      {
        "duration": 28976,
        "start_time": "2024-03-16T10:25:23.122Z"
      },
      {
        "duration": 4,
        "start_time": "2024-03-16T10:25:52.101Z"
      },
      {
        "duration": 7,
        "start_time": "2024-03-16T10:25:52.108Z"
      },
      {
        "duration": 12,
        "start_time": "2024-03-16T10:25:52.117Z"
      },
      {
        "duration": 11,
        "start_time": "2024-03-16T10:25:52.131Z"
      },
      {
        "duration": 81598,
        "start_time": "2024-03-16T10:25:52.191Z"
      },
      {
        "duration": 3,
        "start_time": "2024-03-16T10:27:13.791Z"
      },
      {
        "duration": 10,
        "start_time": "2024-03-16T10:27:13.795Z"
      },
      {
        "duration": 13,
        "start_time": "2024-03-16T10:27:13.806Z"
      },
      {
        "duration": 3,
        "start_time": "2024-03-16T10:27:13.822Z"
      },
      {
        "duration": 6,
        "start_time": "2024-03-16T10:27:13.826Z"
      },
      {
        "duration": 5,
        "start_time": "2024-03-16T10:27:13.834Z"
      },
      {
        "duration": 752,
        "start_time": "2024-03-16T10:27:13.840Z"
      },
      {
        "duration": 2,
        "start_time": "2024-03-16T10:27:14.594Z"
      },
      {
        "duration": 10,
        "start_time": "2024-03-16T10:27:14.598Z"
      },
      {
        "duration": 4,
        "start_time": "2024-03-16T10:27:14.610Z"
      },
      {
        "duration": 5,
        "start_time": "2024-03-16T10:27:14.616Z"
      },
      {
        "duration": 4,
        "start_time": "2024-03-16T10:29:27.715Z"
      },
      {
        "duration": 22061,
        "start_time": "2024-03-16T10:29:30.337Z"
      },
      {
        "duration": 4,
        "start_time": "2024-03-16T10:30:07.827Z"
      },
      {
        "duration": 4,
        "start_time": "2024-03-16T10:30:09.203Z"
      },
      {
        "duration": 354,
        "start_time": "2024-03-16T10:30:17.445Z"
      },
      {
        "duration": 2673,
        "start_time": "2024-03-16T10:30:30.122Z"
      },
      {
        "duration": 1832,
        "start_time": "2024-03-16T10:30:32.798Z"
      },
      {
        "duration": 3,
        "start_time": "2024-03-16T10:30:34.632Z"
      },
      {
        "duration": 72,
        "start_time": "2024-03-16T10:30:34.637Z"
      },
      {
        "duration": 10,
        "start_time": "2024-03-16T10:30:34.711Z"
      },
      {
        "duration": 23,
        "start_time": "2024-03-16T10:30:34.723Z"
      },
      {
        "duration": 19,
        "start_time": "2024-03-16T10:30:34.748Z"
      },
      {
        "duration": 24,
        "start_time": "2024-03-16T10:30:34.768Z"
      },
      {
        "duration": 4,
        "start_time": "2024-03-16T10:30:34.794Z"
      },
      {
        "duration": 312,
        "start_time": "2024-03-16T10:30:34.800Z"
      },
      {
        "duration": 8,
        "start_time": "2024-03-16T10:30:35.114Z"
      },
      {
        "duration": 247,
        "start_time": "2024-03-16T10:30:35.123Z"
      },
      {
        "duration": 301,
        "start_time": "2024-03-16T10:30:35.372Z"
      },
      {
        "duration": 280,
        "start_time": "2024-03-16T10:30:35.675Z"
      },
      {
        "duration": 206,
        "start_time": "2024-03-16T10:30:35.957Z"
      },
      {
        "duration": 283,
        "start_time": "2024-03-16T10:30:36.165Z"
      },
      {
        "duration": 183,
        "start_time": "2024-03-16T10:30:36.450Z"
      },
      {
        "duration": 6,
        "start_time": "2024-03-16T10:30:36.635Z"
      },
      {
        "duration": 281,
        "start_time": "2024-03-16T10:30:36.643Z"
      },
      {
        "duration": 5,
        "start_time": "2024-03-16T10:30:36.926Z"
      },
      {
        "duration": 406,
        "start_time": "2024-03-16T10:30:36.933Z"
      },
      {
        "duration": 22,
        "start_time": "2024-03-16T10:30:37.341Z"
      },
      {
        "duration": 11,
        "start_time": "2024-03-16T10:30:37.364Z"
      },
      {
        "duration": 25,
        "start_time": "2024-03-16T10:30:37.376Z"
      },
      {
        "duration": 7,
        "start_time": "2024-03-16T10:30:37.403Z"
      },
      {
        "duration": 15,
        "start_time": "2024-03-16T10:30:37.411Z"
      },
      {
        "duration": 5,
        "start_time": "2024-03-16T10:30:37.428Z"
      },
      {
        "duration": 66,
        "start_time": "2024-03-16T10:30:37.437Z"
      },
      {
        "duration": 2,
        "start_time": "2024-03-16T10:30:37.505Z"
      },
      {
        "duration": 11,
        "start_time": "2024-03-16T10:30:37.509Z"
      },
      {
        "duration": 49945,
        "start_time": "2024-03-16T10:30:37.522Z"
      },
      {
        "duration": 4,
        "start_time": "2024-03-16T10:31:27.469Z"
      },
      {
        "duration": 22,
        "start_time": "2024-03-16T10:31:27.474Z"
      },
      {
        "duration": 64,
        "start_time": "2024-03-16T10:31:27.498Z"
      },
      {
        "duration": 7,
        "start_time": "2024-03-16T10:31:27.564Z"
      },
      {
        "duration": 24222,
        "start_time": "2024-03-16T10:31:27.573Z"
      },
      {
        "duration": 4,
        "start_time": "2024-03-16T10:31:51.797Z"
      },
      {
        "duration": 16,
        "start_time": "2024-03-16T10:31:51.802Z"
      },
      {
        "duration": 5,
        "start_time": "2024-03-16T10:31:51.819Z"
      },
      {
        "duration": 8,
        "start_time": "2024-03-16T10:31:51.826Z"
      },
      {
        "duration": 85066,
        "start_time": "2024-03-16T10:31:51.836Z"
      },
      {
        "duration": 4,
        "start_time": "2024-03-16T10:33:16.903Z"
      },
      {
        "duration": 5,
        "start_time": "2024-03-16T10:33:16.908Z"
      },
      {
        "duration": 10,
        "start_time": "2024-03-16T10:33:16.915Z"
      },
      {
        "duration": 5,
        "start_time": "2024-03-16T10:33:16.926Z"
      },
      {
        "duration": 6,
        "start_time": "2024-03-16T10:33:16.933Z"
      },
      {
        "duration": 9,
        "start_time": "2024-03-16T10:33:16.941Z"
      },
      {
        "duration": 443,
        "start_time": "2024-03-16T10:33:16.951Z"
      },
      {
        "duration": 2,
        "start_time": "2024-03-16T10:33:17.396Z"
      },
      {
        "duration": 16,
        "start_time": "2024-03-16T10:33:17.400Z"
      },
      {
        "duration": 19,
        "start_time": "2024-03-16T10:33:17.418Z"
      },
      {
        "duration": 12,
        "start_time": "2024-03-16T10:33:17.440Z"
      },
      {
        "duration": 20,
        "start_time": "2024-03-16T10:33:49.951Z"
      },
      {
        "duration": 2705,
        "start_time": "2024-03-16T10:34:03.067Z"
      },
      {
        "duration": 1848,
        "start_time": "2024-03-16T10:34:05.774Z"
      },
      {
        "duration": 4,
        "start_time": "2024-03-16T10:34:07.624Z"
      },
      {
        "duration": 65,
        "start_time": "2024-03-16T10:34:07.630Z"
      },
      {
        "duration": 12,
        "start_time": "2024-03-16T10:34:07.697Z"
      },
      {
        "duration": 6,
        "start_time": "2024-03-16T10:34:07.719Z"
      },
      {
        "duration": 6,
        "start_time": "2024-03-16T10:34:07.727Z"
      },
      {
        "duration": 24,
        "start_time": "2024-03-16T10:34:07.734Z"
      },
      {
        "duration": 4,
        "start_time": "2024-03-16T10:34:07.759Z"
      },
      {
        "duration": 342,
        "start_time": "2024-03-16T10:34:07.766Z"
      },
      {
        "duration": 8,
        "start_time": "2024-03-16T10:34:08.109Z"
      },
      {
        "duration": 262,
        "start_time": "2024-03-16T10:34:08.119Z"
      },
      {
        "duration": 306,
        "start_time": "2024-03-16T10:34:08.383Z"
      },
      {
        "duration": 288,
        "start_time": "2024-03-16T10:34:08.690Z"
      },
      {
        "duration": 255,
        "start_time": "2024-03-16T10:34:08.980Z"
      },
      {
        "duration": 322,
        "start_time": "2024-03-16T10:34:09.237Z"
      },
      {
        "duration": 228,
        "start_time": "2024-03-16T10:34:09.561Z"
      },
      {
        "duration": 9,
        "start_time": "2024-03-16T10:34:09.792Z"
      },
      {
        "duration": 312,
        "start_time": "2024-03-16T10:34:09.805Z"
      },
      {
        "duration": 4,
        "start_time": "2024-03-16T10:34:10.119Z"
      },
      {
        "duration": 393,
        "start_time": "2024-03-16T10:34:10.125Z"
      },
      {
        "duration": 24,
        "start_time": "2024-03-16T10:34:10.520Z"
      },
      {
        "duration": 6,
        "start_time": "2024-03-16T10:34:10.546Z"
      },
      {
        "duration": 25,
        "start_time": "2024-03-16T10:34:10.554Z"
      },
      {
        "duration": 8,
        "start_time": "2024-03-16T10:34:10.581Z"
      },
      {
        "duration": 7,
        "start_time": "2024-03-16T10:34:10.592Z"
      },
      {
        "duration": 11,
        "start_time": "2024-03-16T10:34:10.601Z"
      },
      {
        "duration": 81,
        "start_time": "2024-03-16T10:34:10.616Z"
      },
      {
        "duration": 4,
        "start_time": "2024-03-16T10:34:10.699Z"
      },
      {
        "duration": 9,
        "start_time": "2024-03-16T10:34:10.705Z"
      },
      {
        "duration": 58731,
        "start_time": "2024-03-16T10:34:10.716Z"
      },
      {
        "duration": 5,
        "start_time": "2024-03-16T10:35:09.449Z"
      },
      {
        "duration": 5,
        "start_time": "2024-03-16T10:35:09.456Z"
      },
      {
        "duration": 7,
        "start_time": "2024-03-16T10:35:09.463Z"
      },
      {
        "duration": 21,
        "start_time": "2024-03-16T10:35:09.471Z"
      },
      {
        "duration": 22709,
        "start_time": "2024-03-16T10:35:09.494Z"
      },
      {
        "duration": 3,
        "start_time": "2024-03-16T10:35:32.205Z"
      },
      {
        "duration": 84,
        "start_time": "2024-03-16T10:35:32.210Z"
      },
      {
        "duration": 29,
        "start_time": "2024-03-16T10:35:32.296Z"
      },
      {
        "duration": 21,
        "start_time": "2024-03-16T10:35:32.327Z"
      },
      {
        "duration": 86674,
        "start_time": "2024-03-16T10:35:32.350Z"
      },
      {
        "duration": 5,
        "start_time": "2024-03-16T10:36:59.026Z"
      },
      {
        "duration": 9,
        "start_time": "2024-03-16T10:36:59.033Z"
      },
      {
        "duration": 17,
        "start_time": "2024-03-16T10:36:59.044Z"
      },
      {
        "duration": 11,
        "start_time": "2024-03-16T10:36:59.063Z"
      },
      {
        "duration": 10,
        "start_time": "2024-03-16T10:36:59.075Z"
      },
      {
        "duration": 13,
        "start_time": "2024-03-16T10:36:59.087Z"
      },
      {
        "duration": 792,
        "start_time": "2024-03-16T10:36:59.102Z"
      },
      {
        "duration": 2,
        "start_time": "2024-03-16T10:36:59.896Z"
      },
      {
        "duration": 8,
        "start_time": "2024-03-16T10:36:59.900Z"
      },
      {
        "duration": 6,
        "start_time": "2024-03-16T10:36:59.910Z"
      },
      {
        "duration": 4,
        "start_time": "2024-03-16T10:36:59.918Z"
      },
      {
        "duration": 338,
        "start_time": "2024-03-16T10:38:33.160Z"
      },
      {
        "duration": 1142,
        "start_time": "2024-03-16T10:38:46.260Z"
      },
      {
        "duration": 3910,
        "start_time": "2024-03-16T10:38:50.886Z"
      },
      {
        "duration": 21822,
        "start_time": "2024-03-16T10:39:00.973Z"
      },
      {
        "duration": 521,
        "start_time": "2024-03-16T10:40:08.978Z"
      },
      {
        "duration": 1104,
        "start_time": "2024-03-16T10:40:15.998Z"
      },
      {
        "duration": 756,
        "start_time": "2024-03-16T10:40:22.044Z"
      },
      {
        "duration": 760,
        "start_time": "2024-03-16T10:40:25.743Z"
      },
      {
        "duration": 1230,
        "start_time": "2024-03-16T10:40:29.879Z"
      },
      {
        "duration": 786,
        "start_time": "2024-03-16T10:41:23.006Z"
      },
      {
        "duration": 21,
        "start_time": "2024-03-16T10:41:49.707Z"
      },
      {
        "duration": 2634,
        "start_time": "2024-03-16T10:41:55.140Z"
      },
      {
        "duration": 5,
        "start_time": "2024-03-16T10:41:57.777Z"
      },
      {
        "duration": 5,
        "start_time": "2024-03-16T10:41:57.784Z"
      },
      {
        "duration": 58,
        "start_time": "2024-03-16T10:41:57.791Z"
      },
      {
        "duration": 11,
        "start_time": "2024-03-16T10:41:57.850Z"
      },
      {
        "duration": 26,
        "start_time": "2024-03-16T10:41:57.863Z"
      },
      {
        "duration": 5,
        "start_time": "2024-03-16T10:41:57.891Z"
      },
      {
        "duration": 16,
        "start_time": "2024-03-16T10:41:57.897Z"
      },
      {
        "duration": 6,
        "start_time": "2024-03-16T10:41:57.915Z"
      },
      {
        "duration": 303,
        "start_time": "2024-03-16T10:41:57.924Z"
      },
      {
        "duration": 9,
        "start_time": "2024-03-16T10:41:58.228Z"
      },
      {
        "duration": 279,
        "start_time": "2024-03-16T10:41:58.239Z"
      },
      {
        "duration": 301,
        "start_time": "2024-03-16T10:41:58.520Z"
      },
      {
        "duration": 396,
        "start_time": "2024-03-16T10:41:58.823Z"
      },
      {
        "duration": 197,
        "start_time": "2024-03-16T10:41:59.221Z"
      },
      {
        "duration": 198,
        "start_time": "2024-03-16T10:41:59.420Z"
      },
      {
        "duration": 206,
        "start_time": "2024-03-16T10:41:59.620Z"
      },
      {
        "duration": 8,
        "start_time": "2024-03-16T10:41:59.828Z"
      },
      {
        "duration": 288,
        "start_time": "2024-03-16T10:41:59.839Z"
      },
      {
        "duration": 7,
        "start_time": "2024-03-16T10:42:00.128Z"
      },
      {
        "duration": 480,
        "start_time": "2024-03-16T10:42:00.137Z"
      },
      {
        "duration": 25,
        "start_time": "2024-03-16T10:42:00.619Z"
      },
      {
        "duration": 2716,
        "start_time": "2024-03-16T10:49:07.341Z"
      },
      {
        "duration": 1937,
        "start_time": "2024-03-16T10:49:10.060Z"
      },
      {
        "duration": 4,
        "start_time": "2024-03-16T10:49:11.999Z"
      },
      {
        "duration": 79,
        "start_time": "2024-03-16T10:49:12.005Z"
      },
      {
        "duration": 12,
        "start_time": "2024-03-16T10:49:12.086Z"
      },
      {
        "duration": 5,
        "start_time": "2024-03-16T10:49:12.099Z"
      },
      {
        "duration": 8,
        "start_time": "2024-03-16T10:49:12.105Z"
      },
      {
        "duration": 13,
        "start_time": "2024-03-16T10:49:12.115Z"
      },
      {
        "duration": 4,
        "start_time": "2024-03-16T10:49:12.130Z"
      },
      {
        "duration": 350,
        "start_time": "2024-03-16T10:49:12.138Z"
      },
      {
        "duration": 9,
        "start_time": "2024-03-16T10:49:12.490Z"
      },
      {
        "duration": 290,
        "start_time": "2024-03-16T10:49:12.501Z"
      },
      {
        "duration": 296,
        "start_time": "2024-03-16T10:49:12.793Z"
      },
      {
        "duration": 278,
        "start_time": "2024-03-16T10:49:13.091Z"
      },
      {
        "duration": 198,
        "start_time": "2024-03-16T10:49:13.371Z"
      },
      {
        "duration": 295,
        "start_time": "2024-03-16T10:49:13.570Z"
      },
      {
        "duration": 236,
        "start_time": "2024-03-16T10:49:13.867Z"
      },
      {
        "duration": 7,
        "start_time": "2024-03-16T10:49:14.105Z"
      },
      {
        "duration": 289,
        "start_time": "2024-03-16T10:49:14.114Z"
      },
      {
        "duration": 4,
        "start_time": "2024-03-16T10:49:14.405Z"
      },
      {
        "duration": 383,
        "start_time": "2024-03-16T10:49:14.411Z"
      },
      {
        "duration": 25,
        "start_time": "2024-03-16T10:49:14.796Z"
      },
      {
        "duration": 7,
        "start_time": "2024-03-16T10:49:14.822Z"
      },
      {
        "duration": 12,
        "start_time": "2024-03-16T10:49:14.831Z"
      },
      {
        "duration": 5,
        "start_time": "2024-03-16T10:49:14.845Z"
      },
      {
        "duration": 14,
        "start_time": "2024-03-16T10:49:14.851Z"
      },
      {
        "duration": 25,
        "start_time": "2024-03-16T10:49:14.867Z"
      },
      {
        "duration": 38,
        "start_time": "2024-03-16T10:49:14.895Z"
      },
      {
        "duration": 3,
        "start_time": "2024-03-16T10:49:14.935Z"
      },
      {
        "duration": 4,
        "start_time": "2024-03-16T10:49:14.991Z"
      },
      {
        "duration": 61277,
        "start_time": "2024-03-16T10:49:14.996Z"
      },
      {
        "duration": 5,
        "start_time": "2024-03-16T10:50:16.274Z"
      },
      {
        "duration": 13,
        "start_time": "2024-03-16T10:50:16.280Z"
      },
      {
        "duration": 4,
        "start_time": "2024-03-16T10:50:16.294Z"
      },
      {
        "duration": 5,
        "start_time": "2024-03-16T10:50:16.299Z"
      },
      {
        "duration": 26990,
        "start_time": "2024-03-16T10:50:16.305Z"
      },
      {
        "duration": 4,
        "start_time": "2024-03-16T10:50:43.297Z"
      },
      {
        "duration": 11,
        "start_time": "2024-03-16T10:50:43.302Z"
      },
      {
        "duration": 39,
        "start_time": "2024-03-16T10:50:43.315Z"
      },
      {
        "duration": 7,
        "start_time": "2024-03-16T10:50:43.356Z"
      },
      {
        "duration": 97010,
        "start_time": "2024-03-16T10:50:43.364Z"
      },
      {
        "duration": 4,
        "start_time": "2024-03-16T10:52:20.375Z"
      },
      {
        "duration": 17,
        "start_time": "2024-03-16T10:52:20.381Z"
      },
      {
        "duration": 21,
        "start_time": "2024-03-16T10:52:20.399Z"
      },
      {
        "duration": 7,
        "start_time": "2024-03-16T10:52:20.421Z"
      },
      {
        "duration": 9,
        "start_time": "2024-03-16T10:52:20.430Z"
      },
      {
        "duration": 4,
        "start_time": "2024-03-16T10:52:20.441Z"
      },
      {
        "duration": 850,
        "start_time": "2024-03-16T10:52:20.446Z"
      },
      {
        "duration": 2,
        "start_time": "2024-03-16T10:52:21.298Z"
      },
      {
        "duration": 26,
        "start_time": "2024-03-16T10:52:21.302Z"
      },
      {
        "duration": 29,
        "start_time": "2024-03-16T10:52:21.330Z"
      },
      {
        "duration": 54,
        "start_time": "2024-03-16T10:52:21.361Z"
      },
      {
        "duration": 3,
        "start_time": "2024-03-16T10:53:03.291Z"
      },
      {
        "duration": 36777,
        "start_time": "2024-03-16T10:53:04.627Z"
      },
      {
        "duration": 4,
        "start_time": "2024-03-16T10:54:06.754Z"
      },
      {
        "duration": 623,
        "start_time": "2024-03-16T10:56:10.671Z"
      },
      {
        "duration": 561,
        "start_time": "2024-03-16T10:56:17.234Z"
      },
      {
        "duration": 424,
        "start_time": "2024-03-16T10:56:21.470Z"
      },
      {
        "duration": 2705,
        "start_time": "2024-03-16T10:57:05.900Z"
      },
      {
        "duration": 1858,
        "start_time": "2024-03-16T10:57:08.607Z"
      },
      {
        "duration": 3,
        "start_time": "2024-03-16T10:57:10.467Z"
      },
      {
        "duration": 60,
        "start_time": "2024-03-16T10:57:10.472Z"
      },
      {
        "duration": 10,
        "start_time": "2024-03-16T10:57:10.534Z"
      },
      {
        "duration": 4,
        "start_time": "2024-03-16T10:57:10.546Z"
      },
      {
        "duration": 4,
        "start_time": "2024-03-16T10:57:10.551Z"
      },
      {
        "duration": 20,
        "start_time": "2024-03-16T10:57:10.557Z"
      },
      {
        "duration": 13,
        "start_time": "2024-03-16T10:57:10.579Z"
      },
      {
        "duration": 365,
        "start_time": "2024-03-16T10:57:10.595Z"
      },
      {
        "duration": 9,
        "start_time": "2024-03-16T10:57:10.962Z"
      },
      {
        "duration": 272,
        "start_time": "2024-03-16T10:57:10.973Z"
      },
      {
        "duration": 298,
        "start_time": "2024-03-16T10:57:11.247Z"
      },
      {
        "duration": 273,
        "start_time": "2024-03-16T10:57:11.547Z"
      },
      {
        "duration": 206,
        "start_time": "2024-03-16T10:57:11.822Z"
      },
      {
        "duration": 310,
        "start_time": "2024-03-16T10:57:12.030Z"
      },
      {
        "duration": 192,
        "start_time": "2024-03-16T10:57:12.342Z"
      },
      {
        "duration": 7,
        "start_time": "2024-03-16T10:57:12.535Z"
      },
      {
        "duration": 266,
        "start_time": "2024-03-16T10:57:12.544Z"
      },
      {
        "duration": 4,
        "start_time": "2024-03-16T10:57:12.812Z"
      },
      {
        "duration": 367,
        "start_time": "2024-03-16T10:57:12.818Z"
      },
      {
        "duration": 26,
        "start_time": "2024-03-16T10:57:13.191Z"
      },
      {
        "duration": 6,
        "start_time": "2024-03-16T10:57:13.218Z"
      },
      {
        "duration": 7,
        "start_time": "2024-03-16T10:57:13.225Z"
      },
      {
        "duration": 3,
        "start_time": "2024-03-16T10:57:13.234Z"
      },
      {
        "duration": 8,
        "start_time": "2024-03-16T10:57:13.238Z"
      },
      {
        "duration": 5,
        "start_time": "2024-03-16T10:57:13.248Z"
      },
      {
        "duration": 74,
        "start_time": "2024-03-16T10:57:13.258Z"
      },
      {
        "duration": 3,
        "start_time": "2024-03-16T10:57:13.333Z"
      },
      {
        "duration": 3,
        "start_time": "2024-03-16T10:57:13.391Z"
      },
      {
        "duration": 61042,
        "start_time": "2024-03-16T10:57:13.396Z"
      },
      {
        "duration": 5,
        "start_time": "2024-03-16T10:58:14.439Z"
      },
      {
        "duration": 4,
        "start_time": "2024-03-16T10:58:14.445Z"
      },
      {
        "duration": 3,
        "start_time": "2024-03-16T10:58:14.451Z"
      },
      {
        "duration": 10,
        "start_time": "2024-03-16T10:58:14.456Z"
      },
      {
        "duration": 21329,
        "start_time": "2024-03-16T10:58:14.468Z"
      },
      {
        "duration": 4,
        "start_time": "2024-03-16T10:58:35.799Z"
      },
      {
        "duration": 29,
        "start_time": "2024-03-16T10:58:35.805Z"
      },
      {
        "duration": 29,
        "start_time": "2024-03-16T10:58:35.836Z"
      },
      {
        "duration": 52,
        "start_time": "2024-03-16T10:58:35.867Z"
      },
      {
        "duration": 95825,
        "start_time": "2024-03-16T10:58:35.921Z"
      },
      {
        "duration": 5,
        "start_time": "2024-03-16T11:00:11.748Z"
      },
      {
        "duration": 4,
        "start_time": "2024-03-16T11:00:11.755Z"
      },
      {
        "duration": 10,
        "start_time": "2024-03-16T11:00:11.760Z"
      },
      {
        "duration": 3,
        "start_time": "2024-03-16T11:00:11.772Z"
      },
      {
        "duration": 22,
        "start_time": "2024-03-16T11:00:11.776Z"
      },
      {
        "duration": 5,
        "start_time": "2024-03-16T11:00:11.800Z"
      },
      {
        "duration": 886,
        "start_time": "2024-03-16T11:00:11.807Z"
      },
      {
        "duration": 3,
        "start_time": "2024-03-16T11:00:12.694Z"
      },
      {
        "duration": 16,
        "start_time": "2024-03-16T11:00:12.699Z"
      },
      {
        "duration": 7,
        "start_time": "2024-03-16T11:00:12.717Z"
      },
      {
        "duration": 7,
        "start_time": "2024-03-16T11:00:12.726Z"
      },
      {
        "duration": 1953,
        "start_time": "2024-03-16T11:08:30.304Z"
      },
      {
        "duration": 3,
        "start_time": "2024-03-16T11:08:41.379Z"
      },
      {
        "duration": 3073,
        "start_time": "2024-03-16T18:29:01.361Z"
      },
      {
        "duration": 2978,
        "start_time": "2024-03-16T18:29:04.437Z"
      },
      {
        "duration": 5,
        "start_time": "2024-03-16T18:29:07.416Z"
      },
      {
        "duration": 62,
        "start_time": "2024-03-16T18:29:07.423Z"
      },
      {
        "duration": 13,
        "start_time": "2024-03-16T18:29:07.489Z"
      },
      {
        "duration": 8,
        "start_time": "2024-03-16T18:29:07.506Z"
      },
      {
        "duration": 4,
        "start_time": "2024-03-16T18:29:07.515Z"
      },
      {
        "duration": 14,
        "start_time": "2024-03-16T18:29:07.521Z"
      },
      {
        "duration": 4,
        "start_time": "2024-03-16T18:29:07.537Z"
      },
      {
        "duration": 364,
        "start_time": "2024-03-16T18:29:07.542Z"
      },
      {
        "duration": 8,
        "start_time": "2024-03-16T18:29:07.908Z"
      },
      {
        "duration": 263,
        "start_time": "2024-03-16T18:29:07.917Z"
      },
      {
        "duration": 304,
        "start_time": "2024-03-16T18:29:08.181Z"
      },
      {
        "duration": 303,
        "start_time": "2024-03-16T18:29:08.488Z"
      },
      {
        "duration": 205,
        "start_time": "2024-03-16T18:29:08.795Z"
      },
      {
        "duration": 277,
        "start_time": "2024-03-16T18:29:09.002Z"
      },
      {
        "duration": 222,
        "start_time": "2024-03-16T18:29:09.281Z"
      },
      {
        "duration": 8,
        "start_time": "2024-03-16T18:29:09.505Z"
      },
      {
        "duration": 241,
        "start_time": "2024-03-16T18:29:09.515Z"
      },
      {
        "duration": 4,
        "start_time": "2024-03-16T18:31:58.473Z"
      },
      {
        "duration": 357,
        "start_time": "2024-03-16T18:32:02.025Z"
      },
      {
        "duration": 322,
        "start_time": "2024-03-16T18:32:15.429Z"
      },
      {
        "duration": 364,
        "start_time": "2024-03-16T18:32:23.344Z"
      },
      {
        "duration": 25,
        "start_time": "2024-03-16T18:41:51.435Z"
      },
      {
        "duration": 7,
        "start_time": "2024-03-16T18:41:53.400Z"
      },
      {
        "duration": 4,
        "start_time": "2024-03-16T18:42:00.536Z"
      },
      {
        "duration": 4,
        "start_time": "2024-03-16T18:42:01.363Z"
      },
      {
        "duration": 3,
        "start_time": "2024-03-16T18:42:01.835Z"
      },
      {
        "duration": 4,
        "start_time": "2024-03-16T18:42:12.816Z"
      },
      {
        "duration": 46441,
        "start_time": "2024-03-16T18:42:13.715Z"
      },
      {
        "duration": 0,
        "start_time": "2024-03-16T18:43:00.158Z"
      },
      {
        "duration": 0,
        "start_time": "2024-03-16T18:43:00.159Z"
      },
      {
        "duration": 4,
        "start_time": "2024-03-16T18:43:01.670Z"
      },
      {
        "duration": 74670,
        "start_time": "2024-03-16T18:43:02.219Z"
      },
      {
        "duration": 73393,
        "start_time": "2024-03-16T18:44:22.432Z"
      },
      {
        "duration": 3,
        "start_time": "2024-03-16T18:45:35.827Z"
      },
      {
        "duration": 6,
        "start_time": "2024-03-16T18:45:35.832Z"
      },
      {
        "duration": 5,
        "start_time": "2024-03-16T18:46:41.338Z"
      },
      {
        "duration": 235502,
        "start_time": "2024-03-16T18:46:41.802Z"
      },
      {
        "duration": 4,
        "start_time": "2024-03-16T18:50:37.306Z"
      },
      {
        "duration": 5,
        "start_time": "2024-03-16T18:50:37.312Z"
      },
      {
        "duration": 1588,
        "start_time": "2024-03-16T18:54:54.917Z"
      },
      {
        "duration": 1696,
        "start_time": "2024-03-16T18:55:09.006Z"
      },
      {
        "duration": 3124,
        "start_time": "2024-03-16T18:56:51.386Z"
      },
      {
        "duration": 2991,
        "start_time": "2024-03-16T18:56:54.512Z"
      },
      {
        "duration": 5,
        "start_time": "2024-03-16T18:56:57.505Z"
      },
      {
        "duration": 61,
        "start_time": "2024-03-16T18:56:57.511Z"
      },
      {
        "duration": 10,
        "start_time": "2024-03-16T18:56:57.573Z"
      },
      {
        "duration": 9,
        "start_time": "2024-03-16T18:56:57.585Z"
      },
      {
        "duration": 8,
        "start_time": "2024-03-16T18:56:57.596Z"
      },
      {
        "duration": 19,
        "start_time": "2024-03-16T18:56:57.606Z"
      },
      {
        "duration": 4,
        "start_time": "2024-03-16T18:56:57.627Z"
      },
      {
        "duration": 345,
        "start_time": "2024-03-16T18:56:57.634Z"
      },
      {
        "duration": 8,
        "start_time": "2024-03-16T18:56:57.981Z"
      },
      {
        "duration": 268,
        "start_time": "2024-03-16T18:56:57.991Z"
      },
      {
        "duration": 309,
        "start_time": "2024-03-16T18:56:58.263Z"
      },
      {
        "duration": 291,
        "start_time": "2024-03-16T18:56:58.574Z"
      },
      {
        "duration": 219,
        "start_time": "2024-03-16T18:56:58.866Z"
      },
      {
        "duration": 293,
        "start_time": "2024-03-16T18:56:59.087Z"
      },
      {
        "duration": 209,
        "start_time": "2024-03-16T18:56:59.382Z"
      },
      {
        "duration": 14,
        "start_time": "2024-03-16T18:56:59.598Z"
      },
      {
        "duration": 268,
        "start_time": "2024-03-16T18:56:59.614Z"
      },
      {
        "duration": 8,
        "start_time": "2024-03-16T18:56:59.883Z"
      },
      {
        "duration": 372,
        "start_time": "2024-03-16T18:56:59.893Z"
      },
      {
        "duration": 39,
        "start_time": "2024-03-16T18:57:00.267Z"
      },
      {
        "duration": 9,
        "start_time": "2024-03-16T18:57:00.308Z"
      },
      {
        "duration": 85,
        "start_time": "2024-03-16T18:57:00.319Z"
      },
      {
        "duration": 45,
        "start_time": "2024-03-16T18:57:00.406Z"
      },
      {
        "duration": 47,
        "start_time": "2024-03-16T18:57:00.454Z"
      },
      {
        "duration": 4,
        "start_time": "2024-03-16T18:57:08.467Z"
      },
      {
        "duration": 27781,
        "start_time": "2024-03-16T18:57:09.053Z"
      },
      {
        "duration": 3,
        "start_time": "2024-03-16T18:57:36.836Z"
      },
      {
        "duration": 59,
        "start_time": "2024-03-16T18:57:36.841Z"
      },
      {
        "duration": 2667,
        "start_time": "2024-03-17T04:18:46.003Z"
      },
      {
        "duration": 1858,
        "start_time": "2024-03-17T04:18:48.672Z"
      },
      {
        "duration": 3,
        "start_time": "2024-03-17T04:18:50.532Z"
      },
      {
        "duration": 154,
        "start_time": "2024-03-17T04:18:50.536Z"
      },
      {
        "duration": 9,
        "start_time": "2024-03-17T04:18:50.693Z"
      },
      {
        "duration": 6,
        "start_time": "2024-03-17T04:18:50.703Z"
      },
      {
        "duration": 6,
        "start_time": "2024-03-17T04:18:50.711Z"
      },
      {
        "duration": 14,
        "start_time": "2024-03-17T04:18:50.719Z"
      },
      {
        "duration": 4,
        "start_time": "2024-03-17T04:18:50.734Z"
      },
      {
        "duration": 274,
        "start_time": "2024-03-17T04:18:50.739Z"
      },
      {
        "duration": 8,
        "start_time": "2024-03-17T04:18:51.014Z"
      },
      {
        "duration": 219,
        "start_time": "2024-03-17T04:18:51.023Z"
      },
      {
        "duration": 260,
        "start_time": "2024-03-17T04:18:51.244Z"
      },
      {
        "duration": 238,
        "start_time": "2024-03-17T04:18:51.506Z"
      },
      {
        "duration": 255,
        "start_time": "2024-03-17T04:18:51.746Z"
      },
      {
        "duration": 168,
        "start_time": "2024-03-17T04:18:52.003Z"
      },
      {
        "duration": 165,
        "start_time": "2024-03-17T04:18:52.172Z"
      },
      {
        "duration": 8,
        "start_time": "2024-03-17T04:18:52.338Z"
      },
      {
        "duration": 209,
        "start_time": "2024-03-17T04:18:52.348Z"
      },
      {
        "duration": 4,
        "start_time": "2024-03-17T04:18:58.722Z"
      },
      {
        "duration": 127,
        "start_time": "2024-03-17T04:19:27.191Z"
      },
      {
        "duration": 28,
        "start_time": "2024-03-17T04:20:00.471Z"
      },
      {
        "duration": 4,
        "start_time": "2024-03-17T04:20:03.597Z"
      },
      {
        "duration": 14,
        "start_time": "2024-03-17T04:20:13.262Z"
      },
      {
        "duration": 9,
        "start_time": "2024-03-17T04:20:17.044Z"
      },
      {
        "duration": 10,
        "start_time": "2024-03-17T04:20:59.288Z"
      },
      {
        "duration": 17,
        "start_time": "2024-03-17T04:21:03.046Z"
      },
      {
        "duration": 7,
        "start_time": "2024-03-17T04:21:20.088Z"
      },
      {
        "duration": 2368,
        "start_time": "2024-03-17T04:21:32.533Z"
      },
      {
        "duration": 4,
        "start_time": "2024-03-17T04:21:34.903Z"
      },
      {
        "duration": 5,
        "start_time": "2024-03-17T04:21:34.909Z"
      },
      {
        "duration": 69,
        "start_time": "2024-03-17T04:21:34.916Z"
      },
      {
        "duration": 9,
        "start_time": "2024-03-17T04:21:34.986Z"
      },
      {
        "duration": 6,
        "start_time": "2024-03-17T04:21:34.997Z"
      },
      {
        "duration": 12,
        "start_time": "2024-03-17T04:21:35.004Z"
      },
      {
        "duration": 16,
        "start_time": "2024-03-17T04:21:35.017Z"
      },
      {
        "duration": 7,
        "start_time": "2024-03-17T04:21:35.034Z"
      },
      {
        "duration": 237,
        "start_time": "2024-03-17T04:21:35.043Z"
      },
      {
        "duration": 7,
        "start_time": "2024-03-17T04:21:35.282Z"
      },
      {
        "duration": 248,
        "start_time": "2024-03-17T04:21:35.290Z"
      },
      {
        "duration": 272,
        "start_time": "2024-03-17T04:21:35.540Z"
      },
      {
        "duration": 340,
        "start_time": "2024-03-17T04:21:35.813Z"
      },
      {
        "duration": 173,
        "start_time": "2024-03-17T04:21:36.154Z"
      },
      {
        "duration": 167,
        "start_time": "2024-03-17T04:21:36.329Z"
      },
      {
        "duration": 163,
        "start_time": "2024-03-17T04:21:36.498Z"
      },
      {
        "duration": 14,
        "start_time": "2024-03-17T04:21:36.663Z"
      },
      {
        "duration": 221,
        "start_time": "2024-03-17T04:21:36.679Z"
      },
      {
        "duration": 5,
        "start_time": "2024-03-17T04:21:36.902Z"
      },
      {
        "duration": 356,
        "start_time": "2024-03-17T04:21:36.908Z"
      },
      {
        "duration": 10,
        "start_time": "2024-03-17T04:21:37.270Z"
      },
      {
        "duration": 15,
        "start_time": "2024-03-17T04:21:43.368Z"
      },
      {
        "duration": 6,
        "start_time": "2024-03-17T04:21:51.245Z"
      },
      {
        "duration": 5,
        "start_time": "2024-03-17T04:21:51.816Z"
      },
      {
        "duration": 3,
        "start_time": "2024-03-17T04:21:52.403Z"
      },
      {
        "duration": 2,
        "start_time": "2024-03-17T04:22:00.495Z"
      },
      {
        "duration": 3,
        "start_time": "2024-03-17T04:22:00.892Z"
      },
      {
        "duration": 199,
        "start_time": "2024-03-17T04:22:01.474Z"
      },
      {
        "duration": 32,
        "start_time": "2024-03-17T04:22:11.414Z"
      },
      {
        "duration": 3,
        "start_time": "2024-03-17T04:22:11.447Z"
      },
      {
        "duration": 13,
        "start_time": "2024-03-17T04:22:11.451Z"
      },
      {
        "duration": 44902,
        "start_time": "2024-03-17T04:22:11.470Z"
      },
      {
        "duration": 4,
        "start_time": "2024-03-17T04:22:56.373Z"
      },
      {
        "duration": 4,
        "start_time": "2024-03-17T04:22:56.379Z"
      },
      {
        "duration": 3,
        "start_time": "2024-03-17T04:22:56.384Z"
      },
      {
        "duration": 4,
        "start_time": "2024-03-17T04:22:56.388Z"
      },
      {
        "duration": 26491,
        "start_time": "2024-03-17T04:22:56.393Z"
      },
      {
        "duration": 3,
        "start_time": "2024-03-17T04:23:22.887Z"
      },
      {
        "duration": 6,
        "start_time": "2024-03-17T04:23:22.892Z"
      },
      {
        "duration": 3,
        "start_time": "2024-03-17T04:23:22.900Z"
      },
      {
        "duration": 3,
        "start_time": "2024-03-17T04:23:22.905Z"
      },
      {
        "duration": 75362,
        "start_time": "2024-03-17T04:23:22.910Z"
      },
      {
        "duration": 3,
        "start_time": "2024-03-17T04:24:38.274Z"
      },
      {
        "duration": 2,
        "start_time": "2024-03-17T04:24:38.279Z"
      },
      {
        "duration": 8,
        "start_time": "2024-03-17T04:24:38.283Z"
      },
      {
        "duration": 3,
        "start_time": "2024-03-17T04:24:38.292Z"
      },
      {
        "duration": 3,
        "start_time": "2024-03-17T04:24:38.297Z"
      },
      {
        "duration": 4,
        "start_time": "2024-03-17T04:24:38.301Z"
      },
      {
        "duration": 1602,
        "start_time": "2024-03-17T04:24:38.306Z"
      },
      {
        "duration": 3,
        "start_time": "2024-03-17T04:24:39.910Z"
      },
      {
        "duration": 4,
        "start_time": "2024-03-17T04:24:39.914Z"
      },
      {
        "duration": 2,
        "start_time": "2024-03-17T04:24:39.970Z"
      },
      {
        "duration": 4,
        "start_time": "2024-03-17T04:24:39.974Z"
      },
      {
        "duration": 4,
        "start_time": "2024-03-17T04:26:28.365Z"
      },
      {
        "duration": 59362,
        "start_time": "2024-03-17T04:26:31.441Z"
      },
      {
        "duration": 4,
        "start_time": "2024-03-17T04:27:46.046Z"
      },
      {
        "duration": 104,
        "start_time": "2024-03-17T04:29:38.771Z"
      },
      {
        "duration": 105,
        "start_time": "2024-03-17T04:29:57.060Z"
      },
      {
        "duration": 3,
        "start_time": "2024-03-17T04:30:02.290Z"
      },
      {
        "duration": 52194,
        "start_time": "2024-03-17T04:30:05.407Z"
      },
      {
        "duration": 3,
        "start_time": "2024-03-17T04:31:02.013Z"
      },
      {
        "duration": 2,
        "start_time": "2024-03-17T04:31:05.395Z"
      },
      {
        "duration": 2348,
        "start_time": "2024-03-17T04:31:24.209Z"
      },
      {
        "duration": 1615,
        "start_time": "2024-03-17T04:31:26.559Z"
      },
      {
        "duration": 2,
        "start_time": "2024-03-17T04:31:28.176Z"
      },
      {
        "duration": 57,
        "start_time": "2024-03-17T04:31:28.179Z"
      },
      {
        "duration": 8,
        "start_time": "2024-03-17T04:31:28.238Z"
      },
      {
        "duration": 3,
        "start_time": "2024-03-17T04:31:28.248Z"
      },
      {
        "duration": 5,
        "start_time": "2024-03-17T04:31:28.252Z"
      },
      {
        "duration": 12,
        "start_time": "2024-03-17T04:31:28.258Z"
      },
      {
        "duration": 3,
        "start_time": "2024-03-17T04:31:28.272Z"
      },
      {
        "duration": 272,
        "start_time": "2024-03-17T04:31:28.276Z"
      },
      {
        "duration": 6,
        "start_time": "2024-03-17T04:31:28.550Z"
      },
      {
        "duration": 220,
        "start_time": "2024-03-17T04:31:28.558Z"
      },
      {
        "duration": 254,
        "start_time": "2024-03-17T04:31:28.780Z"
      },
      {
        "duration": 240,
        "start_time": "2024-03-17T04:31:29.037Z"
      },
      {
        "duration": 167,
        "start_time": "2024-03-17T04:31:29.279Z"
      },
      {
        "duration": 252,
        "start_time": "2024-03-17T04:31:29.447Z"
      },
      {
        "duration": 169,
        "start_time": "2024-03-17T04:31:29.700Z"
      },
      {
        "duration": 9,
        "start_time": "2024-03-17T04:31:29.871Z"
      },
      {
        "duration": 242,
        "start_time": "2024-03-17T04:31:29.881Z"
      },
      {
        "duration": 4,
        "start_time": "2024-03-17T04:31:30.124Z"
      },
      {
        "duration": 454,
        "start_time": "2024-03-17T04:31:30.129Z"
      },
      {
        "duration": 11,
        "start_time": "2024-03-17T04:31:30.584Z"
      },
      {
        "duration": 153,
        "start_time": "2024-03-17T04:31:30.597Z"
      },
      {
        "duration": 56,
        "start_time": "2024-03-17T04:31:30.752Z"
      },
      {
        "duration": 34,
        "start_time": "2024-03-17T04:31:30.810Z"
      },
      {
        "duration": 35,
        "start_time": "2024-03-17T04:31:30.846Z"
      },
      {
        "duration": 30,
        "start_time": "2024-03-17T04:31:30.883Z"
      },
      {
        "duration": 34,
        "start_time": "2024-03-17T04:31:30.915Z"
      },
      {
        "duration": 63,
        "start_time": "2024-03-17T04:31:30.951Z"
      },
      {
        "duration": 13,
        "start_time": "2024-03-17T04:31:31.016Z"
      },
      {
        "duration": 41,
        "start_time": "2024-03-17T04:31:31.030Z"
      },
      {
        "duration": 45049,
        "start_time": "2024-03-17T04:31:31.075Z"
      },
      {
        "duration": 3,
        "start_time": "2024-03-17T04:32:16.126Z"
      },
      {
        "duration": 5,
        "start_time": "2024-03-17T04:32:16.131Z"
      },
      {
        "duration": 4,
        "start_time": "2024-03-17T04:32:16.137Z"
      },
      {
        "duration": 4,
        "start_time": "2024-03-17T04:32:16.143Z"
      },
      {
        "duration": 52040,
        "start_time": "2024-03-17T04:32:16.149Z"
      },
      {
        "duration": 3,
        "start_time": "2024-03-17T04:33:08.191Z"
      },
      {
        "duration": 5,
        "start_time": "2024-03-17T04:33:08.196Z"
      },
      {
        "duration": 3,
        "start_time": "2024-03-17T04:33:08.202Z"
      },
      {
        "duration": 4,
        "start_time": "2024-03-17T04:33:08.209Z"
      },
      {
        "duration": 58062,
        "start_time": "2024-03-17T04:33:08.214Z"
      },
      {
        "duration": 4,
        "start_time": "2024-03-17T04:34:06.277Z"
      },
      {
        "duration": 4,
        "start_time": "2024-03-17T04:34:06.283Z"
      },
      {
        "duration": 9,
        "start_time": "2024-03-17T04:34:06.288Z"
      },
      {
        "duration": 13,
        "start_time": "2024-03-17T04:34:06.298Z"
      },
      {
        "duration": 8,
        "start_time": "2024-03-17T04:34:06.312Z"
      },
      {
        "duration": 8,
        "start_time": "2024-03-17T04:34:06.321Z"
      },
      {
        "duration": 1570,
        "start_time": "2024-03-17T04:34:06.330Z"
      },
      {
        "duration": 3,
        "start_time": "2024-03-17T04:34:07.901Z"
      },
      {
        "duration": 65,
        "start_time": "2024-03-17T04:34:07.905Z"
      },
      {
        "duration": 4,
        "start_time": "2024-03-17T04:34:07.972Z"
      },
      {
        "duration": 4,
        "start_time": "2024-03-17T04:34:07.977Z"
      }
    ],
    "toc": {
      "base_numbering": 1,
      "nav_menu": {},
      "number_sections": true,
      "sideBar": true,
      "skip_h1_title": true,
      "title_cell": "Содержание",
      "title_sidebar": "Contents",
      "toc_cell": true,
      "toc_position": {},
      "toc_section_display": true,
      "toc_window_display": true
    }
  },
  "nbformat_minor": 4,
  "nbformat": 4,
  "cells": [
    {
      "cell_type": "markdown",
      "source": "#  Taxi order forecasting",
      "metadata": {}
    },
    {
      "cell_type": "markdown",
      "source": "The Clear Taxi company has collected historical data on taxi orders at airports. To attract more drivers during peak periods, you need to predict the number of taxi orders for the next hour. Build a model to make this prediction.\n\nThe *RMSE* metric value on the test sample should be no more than 48.\n\nYou need:\n\n1. Load the data and resample it one hour at a time.\n2. Analyze the data.\n3. Train different models with different hyperparameters. Make a test sample of 10% of the original data.\n4. Check the data on a test sample and draw conclusions.\n\n\nThe data is in the file `taxi.csv`. The number of orders is in the `num_orders` column.",
      "metadata": {}
    },
    {
      "cell_type": "markdown",
      "source": "## Preparation",
      "metadata": {}
    },
    {
      "cell_type": "code",
      "source": "pip install statsmodels -q",
      "metadata": {},
      "outputs": [
        {
          "name": "stdout",
          "output_type": "stream",
          "text": [
            "Note: you may need to restart the kernel to use updated packages.\n"
          ]
        }
      ],
      "execution_count": 1
    },
    {
      "cell_type": "code",
      "source": "import pandas as pd\nimport numpy as np \nimport matplotlib.pyplot as plt\n\nfrom sklearn.model_selection import train_test_split, GridSearchCV, TimeSeriesSplit, cross_val_score\nfrom sklearn.metrics import mean_squared_error \nfrom sklearn.linear_model import LinearRegression\n\nfrom sklearn.ensemble import RandomForestRegressor\n\nfrom catboost import CatBoostRegressor\nfrom lightgbm import LGBMRegressor \n\nfrom statsmodels.tsa.seasonal import seasonal_decompose\n\n\nRANDOM_STATE = 12345\n\nimport warnings\nwarnings.filterwarnings('ignore')\n\n\nimport statsmodels.api as sm\nfrom statsmodels.graphics.tsaplots import plot_acf\n",
      "metadata": {
        "trusted": true
      },
      "outputs": [],
      "execution_count": 8
    },
    {
      "cell_type": "markdown",
      "source": "Reading the data as df, time set as index right away",
      "metadata": {}
    },
    {
      "cell_type": "code",
      "source": "try:\n    df= pd.read_csv('/datasets/taxi.csv', index_col=['datetime'], parse_dates=['datetime'])\nexcept:\n    df = pd.read_csv('taxi.csv', index_col=['datetime'], parse_dates=['datetime'])\ndf.head(5)",
      "metadata": {
        "trusted": true
      },
      "outputs": [
        {
          "execution_count": 11,
          "output_type": "execute_result",
          "data": {
            "text/plain": "                     num_orders\ndatetime                       \n2018-03-01 00:00:00           9\n2018-03-01 00:10:00          14\n2018-03-01 00:20:00          28\n2018-03-01 00:30:00          20\n2018-03-01 00:40:00          32",
            "text/html": "<div>\n<style scoped>\n    .dataframe tbody tr th:only-of-type {\n        vertical-align: middle;\n    }\n\n    .dataframe tbody tr th {\n        vertical-align: top;\n    }\n\n    .dataframe thead th {\n        text-align: right;\n    }\n</style>\n<table border=\"1\" class=\"dataframe\">\n  <thead>\n    <tr style=\"text-align: right;\">\n      <th></th>\n      <th>num_orders</th>\n    </tr>\n    <tr>\n      <th>datetime</th>\n      <th></th>\n    </tr>\n  </thead>\n  <tbody>\n    <tr>\n      <th>2018-03-01 00:00:00</th>\n      <td>9</td>\n    </tr>\n    <tr>\n      <th>2018-03-01 00:10:00</th>\n      <td>14</td>\n    </tr>\n    <tr>\n      <th>2018-03-01 00:20:00</th>\n      <td>28</td>\n    </tr>\n    <tr>\n      <th>2018-03-01 00:30:00</th>\n      <td>20</td>\n    </tr>\n    <tr>\n      <th>2018-03-01 00:40:00</th>\n      <td>32</td>\n    </tr>\n  </tbody>\n</table>\n</div>"
          },
          "metadata": {}
        }
      ],
      "execution_count": 11
    },
    {
      "cell_type": "markdown",
      "source": "Checking the general info",
      "metadata": {}
    },
    {
      "cell_type": "code",
      "source": "df.info()",
      "metadata": {
        "trusted": true
      },
      "outputs": [
        {
          "name": "stdout",
          "text": "<class 'pandas.core.frame.DataFrame'>\nDatetimeIndex: 26496 entries, 2018-03-01 00:00:00 to 2018-08-31 23:50:00\nData columns (total 1 columns):\n #   Column      Non-Null Count  Dtype\n---  ------      --------------  -----\n 0   num_orders  26496 non-null  int64\ndtypes: int64(1)\nmemory usage: 414.0 KB\n",
          "output_type": "stream"
        }
      ],
      "execution_count": 15
    },
    {
      "cell_type": "markdown",
      "source": "Checking if the datetime monotonic",
      "metadata": {}
    },
    {
      "cell_type": "code",
      "source": "df.index.is_monotonic",
      "metadata": {
        "trusted": true
      },
      "outputs": [
        {
          "execution_count": 16,
          "output_type": "execute_result",
          "data": {
            "text/plain": "True"
          },
          "metadata": {}
        }
      ],
      "execution_count": 16
    },
    {
      "cell_type": "code",
      "source": "df_copy=df.copy()",
      "metadata": {
        "trusted": true
      },
      "outputs": [],
      "execution_count": 18
    },
    {
      "cell_type": "markdown",
      "source": "Reasmoling by hours:",
      "metadata": {}
    },
    {
      "cell_type": "code",
      "source": "df = df.resample('1H').sum()\ndf.head(10)",
      "metadata": {
        "trusted": true
      },
      "outputs": [
        {
          "execution_count": 20,
          "output_type": "execute_result",
          "data": {
            "text/plain": "                     num_orders\ndatetime                       \n2018-03-01 00:00:00         124\n2018-03-01 01:00:00          85\n2018-03-01 02:00:00          71\n2018-03-01 03:00:00          66\n2018-03-01 04:00:00          43\n2018-03-01 05:00:00           6\n2018-03-01 06:00:00          12\n2018-03-01 07:00:00          15\n2018-03-01 08:00:00          34\n2018-03-01 09:00:00          69",
            "text/html": "<div>\n<style scoped>\n    .dataframe tbody tr th:only-of-type {\n        vertical-align: middle;\n    }\n\n    .dataframe tbody tr th {\n        vertical-align: top;\n    }\n\n    .dataframe thead th {\n        text-align: right;\n    }\n</style>\n<table border=\"1\" class=\"dataframe\">\n  <thead>\n    <tr style=\"text-align: right;\">\n      <th></th>\n      <th>num_orders</th>\n    </tr>\n    <tr>\n      <th>datetime</th>\n      <th></th>\n    </tr>\n  </thead>\n  <tbody>\n    <tr>\n      <th>2018-03-01 00:00:00</th>\n      <td>124</td>\n    </tr>\n    <tr>\n      <th>2018-03-01 01:00:00</th>\n      <td>85</td>\n    </tr>\n    <tr>\n      <th>2018-03-01 02:00:00</th>\n      <td>71</td>\n    </tr>\n    <tr>\n      <th>2018-03-01 03:00:00</th>\n      <td>66</td>\n    </tr>\n    <tr>\n      <th>2018-03-01 04:00:00</th>\n      <td>43</td>\n    </tr>\n    <tr>\n      <th>2018-03-01 05:00:00</th>\n      <td>6</td>\n    </tr>\n    <tr>\n      <th>2018-03-01 06:00:00</th>\n      <td>12</td>\n    </tr>\n    <tr>\n      <th>2018-03-01 07:00:00</th>\n      <td>15</td>\n    </tr>\n    <tr>\n      <th>2018-03-01 08:00:00</th>\n      <td>34</td>\n    </tr>\n    <tr>\n      <th>2018-03-01 09:00:00</th>\n      <td>69</td>\n    </tr>\n  </tbody>\n</table>\n</div>"
          },
          "metadata": {}
        }
      ],
      "execution_count": 20
    },
    {
      "cell_type": "code",
      "source": "df.index.min(), df.index.max()",
      "metadata": {
        "trusted": true
      },
      "outputs": [
        {
          "execution_count": 21,
          "output_type": "execute_result",
          "data": {
            "text/plain": "(Timestamp('2018-03-01 00:00:00', freq='H'),\n Timestamp('2018-08-31 23:00:00', freq='H'))"
          },
          "metadata": {}
        }
      ],
      "execution_count": 21
    },
    {
      "cell_type": "markdown",
      "source": "Data is provided for the period from March 1, 2018 to August 31, 2018.",
      "metadata": {}
    },
    {
      "cell_type": "markdown",
      "source": "## Anylysis",
      "metadata": {}
    },
    {
      "cell_type": "code",
      "source": "def plot_graph(data,  title, xlabel, ylabel):\n    data.plot(grid=True, legend=False, figsize=(10, 5), title=title)\\\n            .set(xlabel=xlabel, ylabel=ylabel)\n    plt.show()\n    ",
      "metadata": {
        "trusted": true
      },
      "outputs": [],
      "execution_count": 31
    },
    {
      "cell_type": "code",
      "source": "df.plot(figsize=(10,5))\nplt.title('Number of orders from March to August')\nplt.show()",
      "metadata": {
        "scrolled": true,
        "trusted": true
      },
      "outputs": [
        {
          "output_type": "display_data",
          "data": {
            "text/plain": "<Figure size 1000x500 with 1 Axes>",
            "image/png": "[encoded data removed]"
          },
          "metadata": {}
        }
      ],
      "execution_count": 33
    },
    {
      "cell_type": "markdown",
      "source": "There is a noticeable trend in the number of orders. Let's study the trend, seasonal component and remainder using decomposition.",
      "metadata": {}
    },
    {
      "cell_type": "code",
      "source": "decomposed = seasonal_decompose(df)\n\ntrend = decomposed.trend\nseasonal = decomposed.seasonal\nresid = decomposed.resid",
      "metadata": {
        "trusted": true
      },
      "outputs": [],
      "execution_count": 23
    },
    {
      "cell_type": "code",
      "source": "plot_graph(trend, 'Trend', 'Time (1 H)', 'Number of orders')",
      "metadata": {
        "trusted": true
      },
      "outputs": [
        {
          "output_type": "display_data",
          "data": {
            "text/plain": "<Figure size 1000x500 with 1 Axes>",
            "image/png": "[encoded data removed]"
          },
          "metadata": {}
        }
      ],
      "execution_count": 34
    },
    {
      "cell_type": "code",
      "source": "plot_graph(seasonal, 'Seasonality', 'Time (1 H)', 'Number of orders')",
      "metadata": {
        "trusted": true
      },
      "outputs": [
        {
          "output_type": "display_data",
          "data": {
            "text/plain": "<Figure size 1000x500 with 1 Axes>",
            "image/png": "[encoded data removed]"
          },
          "metadata": {}
        }
      ],
      "execution_count": 35
    },
    {
      "cell_type": "code",
      "source": "plot_graph(resid, 'Remaining', 'Time (1 H)', 'Number of orders')",
      "metadata": {
        "trusted": true
      },
      "outputs": [
        {
          "output_type": "display_data",
          "data": {
            "text/plain": "<Figure size 1000x500 with 1 Axes>",
            "image/png": "[encoded data removed]"
          },
          "metadata": {}
        }
      ],
      "execution_count": 36
    },
    {
      "cell_type": "markdown",
      "source": "Посмотрим на срез длиной в одну неделю",
      "metadata": {}
    },
    {
      "cell_type": "code",
      "source": "plot_graph(seasonal.loc['2018-08-20 00:00:00':'2018-08-27 00:00:00'], 'Seasonality', 'Time (1 H)', 'Number of orders')",
      "metadata": {
        "scrolled": true,
        "trusted": true
      },
      "outputs": [
        {
          "output_type": "display_data",
          "data": {
            "text/plain": "<Figure size 1000x500 with 1 Axes>",
            "image/png": "[encoded data removed]"
          },
          "metadata": {}
        }
      ],
      "execution_count": 37
    },
    {
      "cell_type": "markdown",
      "source": "Let's look at the data for one weekday (Tuesday):",
      "metadata": {}
    },
    {
      "cell_type": "code",
      "source": "plot_graph(seasonal.loc['2018-08-28 00:00:00':'2018-08-28 23:59:00'], 'Seasonality', 'Time (1 H)', 'Number of orders')",
      "metadata": {
        "scrolled": true,
        "trusted": true
      },
      "outputs": [
        {
          "output_type": "display_data",
          "data": {
            "text/plain": "<Figure size 1000x500 with 1 Axes>",
            "image/png": "[encoded data removed]"
          },
          "metadata": {}
        }
      ],
      "execution_count": 38
    },
    {
      "cell_type": "markdown",
      "source": "Let's look at the data for one weekend (Saturday):",
      "metadata": {}
    },
    {
      "cell_type": "code",
      "source": "plot_graph(seasonal.loc['2018-08-12 00:00:00':'2018-08-12 23:59:00'], 'Seasonality', 'Time (1 H)', 'Number of orders')",
      "metadata": {
        "trusted": true
      },
      "outputs": [
        {
          "output_type": "display_data",
          "data": {
            "text/plain": "<Figure size 1000x500 with 1 Axes>",
            "image/png": "[encoded data removed]"
          },
          "metadata": {}
        }
      ],
      "execution_count": 39
    },
    {
      "cell_type": "markdown",
      "source": "**Conclusion:**",
      "metadata": {}
    },
    {
      "cell_type": "markdown",
      "source": "There is a general trend towards an increase in the number of orders. During the week, the dynamics are repeated day after day - by 6 am the number of orders is minimal, there are peaks around 9 am, 4 pm and midnight.",
      "metadata": {}
    },
    {
      "cell_type": "markdown",
      "source": "Let's resample by day and display the interval for a month, for example, April.",
      "metadata": {}
    },
    {
      "cell_type": "code",
      "source": "df_D = df_copy.resample('1D').sum()\ndecomposed_D = seasonal_decompose(df_D)\nseasonal_D = decomposed_D.seasonal",
      "metadata": {
        "trusted": true
      },
      "outputs": [],
      "execution_count": 40
    },
    {
      "cell_type": "code",
      "source": "plot_graph(seasonal_D.loc['2018-04-01 00:00:00':'2018-04-30 23:59:00'], 'Seasonality', 'Time (1 D)', 'Number of orders')",
      "metadata": {
        "trusted": true
      },
      "outputs": [
        {
          "output_type": "display_data",
          "data": {
            "text/plain": "<Figure size 1000x500 with 1 Axes>",
            "image/png": "[encoded data removed]"
          },
          "metadata": {}
        }
      ],
      "execution_count": 41
    },
    {
      "cell_type": "markdown",
      "source": "You can see how seasonality changes by day of the week.",
      "metadata": {}
    },
    {
      "cell_type": "markdown",
      "source": "## Training",
      "metadata": {}
    },
    {
      "cell_type": "markdown",
      "source": "Let's write a function to create features, determine lagging values and a moving average.",
      "metadata": {}
    },
    {
      "cell_type": "code",
      "source": "def get_features(data, max_lag):\n    #data['month'] = data.index.month\n    #data['day'] = data.index.day\n    data['dayofweek'] = data.index.dayofweek\n    data['hour'] = data.index.hour\n    \n    for lag in range(1, max_lag):\n        data['lag_{}'.format(lag)] = data['num_orders'].shift(lag)\n        \n            \n    \n    data['rolling_mean'] = data['num_orders'].shift().rolling(1).mean()\n    data.dropna(inplace=True)\n    \n    return data",
      "metadata": {
        "trusted": true
      },
      "outputs": [],
      "execution_count": 42
    },
    {
      "cell_type": "markdown",
      "source": "Let's look at the autocorrelation of features by setting the number of shifts to 49",
      "metadata": {}
    },
    {
      "cell_type": "code",
      "source": "plot_acf(df, \n                                       ax=None, \n                                       lags=np.arange(49),                                         \n                                       alpha=0.05, \n                                       use_vlines=True,\n                                       adjusted=False, \n                                       fft=False,\n                                       missing='none', \n                                       title='Autocorrelation', \n                                       zero=True,\n                                       auto_ylims=False,\n                                       bartlett_confint=True, \n                                       vlines_kwargs=None,\n                                       )",
      "metadata": {
        "scrolled": true,
        "trusted": true
      },
      "outputs": [
        {
          "execution_count": 43,
          "output_type": "execute_result",
          "data": {
            "text/plain": "<Figure size 640x480 with 1 Axes>",
            "image/png": "[encoded data removed]"
          },
          "metadata": {}
        },
        {
          "output_type": "display_data",
          "data": {
            "text/plain": "<Figure size 640x480 with 1 Axes>",
            "image/png": "[encoded data removed]"
          },
          "metadata": {}
        }
      ],
      "execution_count": 43
    },
    {
      "cell_type": "code",
      "source": "df = get_features(df, 4)",
      "metadata": {
        "trusted": true
      },
      "outputs": [],
      "execution_count": 44
    },
    {
      "cell_type": "code",
      "source": "df['lag_24'] = df['num_orders'].shift(24)\ndf.dropna(inplace=True)\ndf.head()",
      "metadata": {
        "trusted": true
      },
      "outputs": [
        {
          "execution_count": 45,
          "output_type": "execute_result",
          "data": {
            "text/plain": "                     num_orders  dayofweek  hour  lag_1  lag_2  lag_3  \\\ndatetime                                                                \n2018-03-02 03:00:00          64          4     3   75.0  120.0   90.0   \n2018-03-02 04:00:00          20          4     4   64.0   75.0  120.0   \n2018-03-02 05:00:00          11          4     5   20.0   64.0   75.0   \n2018-03-02 06:00:00          11          4     6   11.0   20.0   64.0   \n2018-03-02 07:00:00           7          4     7   11.0   11.0   20.0   \n\n                     rolling_mean  lag_24  \ndatetime                                   \n2018-03-02 03:00:00          75.0    66.0  \n2018-03-02 04:00:00          64.0    43.0  \n2018-03-02 05:00:00          20.0     6.0  \n2018-03-02 06:00:00          11.0    12.0  \n2018-03-02 07:00:00          11.0    15.0  ",
            "text/html": "<div>\n<style scoped>\n    .dataframe tbody tr th:only-of-type {\n        vertical-align: middle;\n    }\n\n    .dataframe tbody tr th {\n        vertical-align: top;\n    }\n\n    .dataframe thead th {\n        text-align: right;\n    }\n</style>\n<table border=\"1\" class=\"dataframe\">\n  <thead>\n    <tr style=\"text-align: right;\">\n      <th></th>\n      <th>num_orders</th>\n      <th>dayofweek</th>\n      <th>hour</th>\n      <th>lag_1</th>\n      <th>lag_2</th>\n      <th>lag_3</th>\n      <th>rolling_mean</th>\n      <th>lag_24</th>\n    </tr>\n    <tr>\n      <th>datetime</th>\n      <th></th>\n      <th></th>\n      <th></th>\n      <th></th>\n      <th></th>\n      <th></th>\n      <th></th>\n      <th></th>\n    </tr>\n  </thead>\n  <tbody>\n    <tr>\n      <th>2018-03-02 03:00:00</th>\n      <td>64</td>\n      <td>4</td>\n      <td>3</td>\n      <td>75.0</td>\n      <td>120.0</td>\n      <td>90.0</td>\n      <td>75.0</td>\n      <td>66.0</td>\n    </tr>\n    <tr>\n      <th>2018-03-02 04:00:00</th>\n      <td>20</td>\n      <td>4</td>\n      <td>4</td>\n      <td>64.0</td>\n      <td>75.0</td>\n      <td>120.0</td>\n      <td>64.0</td>\n      <td>43.0</td>\n    </tr>\n    <tr>\n      <th>2018-03-02 05:00:00</th>\n      <td>11</td>\n      <td>4</td>\n      <td>5</td>\n      <td>20.0</td>\n      <td>64.0</td>\n      <td>75.0</td>\n      <td>20.0</td>\n      <td>6.0</td>\n    </tr>\n    <tr>\n      <th>2018-03-02 06:00:00</th>\n      <td>11</td>\n      <td>4</td>\n      <td>6</td>\n      <td>11.0</td>\n      <td>20.0</td>\n      <td>64.0</td>\n      <td>11.0</td>\n      <td>12.0</td>\n    </tr>\n    <tr>\n      <th>2018-03-02 07:00:00</th>\n      <td>7</td>\n      <td>4</td>\n      <td>7</td>\n      <td>11.0</td>\n      <td>11.0</td>\n      <td>20.0</td>\n      <td>11.0</td>\n      <td>15.0</td>\n    </tr>\n  </tbody>\n</table>\n</div>"
          },
          "metadata": {}
        }
      ],
      "execution_count": 45
    },
    {
      "cell_type": "markdown",
      "source": "Divide into training and test samples in a ratio of 90:10, specify shuffle=False to save chronology.",
      "metadata": {}
    },
    {
      "cell_type": "code",
      "source": "features = df.drop(['num_orders'], axis=1) \ntarget = df['num_orders']\n\nfeatures_train, features_test, target_train, target_test = train_test_split(\n    features, target, shuffle=False, test_size=0.1, random_state=12345)",
      "metadata": {
        "trusted": true
      },
      "outputs": [],
      "execution_count": 46
    },
    {
      "cell_type": "code",
      "source": "features_train.shape, features_test.shape\n",
      "metadata": {
        "trusted": true
      },
      "outputs": [
        {
          "execution_count": 47,
          "output_type": "execute_result",
          "data": {
            "text/plain": "((3950, 7), (439, 7))"
          },
          "metadata": {}
        }
      ],
      "execution_count": 47
    },
    {
      "cell_type": "markdown",
      "source": "**Training various models.**\n\n",
      "metadata": {}
    },
    {
      "cell_type": "code",
      "source": "RMSE =[]",
      "metadata": {
        "trusted": true
      },
      "outputs": [],
      "execution_count": 48
    },
    {
      "cell_type": "code",
      "source": "tscv = TimeSeriesSplit(n_splits=5)",
      "metadata": {
        "trusted": true
      },
      "outputs": [],
      "execution_count": 49
    },
    {
      "cell_type": "markdown",
      "source": "**Linear Regression**",
      "metadata": {}
    },
    {
      "cell_type": "code",
      "source": "regression = LinearRegression()\nregression.fit(features_train, target_train)\n\n#Determining RMSE of a model using cross-validation\n\nRMSE_LR = pd.Series(cross_val_score(\n    regression, features_train, target_train ,scoring='neg_root_mean_squared_error',cv=tscv)).mean()*(-1)\n\nprint('Average quality of linear regression model on cross-validation:', RMSE_LR )\n",
      "metadata": {
        "trusted": true
      },
      "outputs": [
        {
          "name": "stdout",
          "text": "Average quality of linear regression model on cross-validation: 27.584346456707145\n",
          "output_type": "stream"
        }
      ],
      "execution_count": 50
    },
    {
      "cell_type": "code",
      "source": "RMSE.append(RMSE_LR)",
      "metadata": {},
      "outputs": [],
      "execution_count": 30
    },
    {
      "cell_type": "markdown",
      "source": "**RandomForestRegressor**",
      "metadata": {}
    },
    {
      "cell_type": "code",
      "source": "model = RandomForestRegressor(random_state=RANDOM_STATE)\nparameters = {'n_estimators':range(50,100,5), 'max_depth':range(0,10,2)}",
      "metadata": {
        "trusted": true
      },
      "outputs": [],
      "execution_count": 51
    },
    {
      "cell_type": "code",
      "source": "search = GridSearchCV(estimator=model, cv=tscv, param_grid=parameters, scoring='neg_root_mean_squared_error')\nsearch.fit(features_train, target_train)\n",
      "metadata": {
        "trusted": true
      },
      "outputs": [
        {
          "execution_count": 52,
          "output_type": "execute_result",
          "data": {
            "text/plain": "GridSearchCV(cv=TimeSeriesSplit(gap=0, max_train_size=None, n_splits=5, test_size=None),\n             estimator=RandomForestRegressor(random_state=12345),\n             param_grid={'max_depth': range(0, 10, 2),\n                         'n_estimators': range(50, 100, 5)},\n             scoring='neg_root_mean_squared_error')",
            "text/html": "<style>#sk-container-id-1 {color: black;}#sk-container-id-1 pre{padding: 0;}#sk-container-id-1 div.sk-toggleable {background-color: white;}#sk-container-id-1 label.sk-toggleable__label {cursor: pointer;display: block;width: 100%;margin-bottom: 0;padding: 0.3em;box-sizing: border-box;text-align: center;}#sk-container-id-1 label.sk-toggleable__label-arrow:before {content: \"▸\";float: left;margin-right: 0.25em;color: #696969;}#sk-container-id-1 label.sk-toggleable__label-arrow:hover:before {color: black;}#sk-container-id-1 div.sk-estimator:hover label.sk-toggleable__label-arrow:before {color: black;}#sk-container-id-1 div.sk-toggleable__content {max-height: 0;max-width: 0;overflow: hidden;text-align: left;background-color: #f0f8ff;}#sk-container-id-1 div.sk-toggleable__content pre {margin: 0.2em;color: black;border-radius: 0.25em;background-color: #f0f8ff;}#sk-container-id-1 input.sk-toggleable__control:checked~div.sk-toggleable__content {max-height: 200px;max-width: 100%;overflow: auto;}#sk-container-id-1 input.sk-toggleable__control:checked~label.sk-toggleable__label-arrow:before {content: \"▾\";}#sk-container-id-1 div.sk-estimator input.sk-toggleable__control:checked~label.sk-toggleable__label {background-color: #d4ebff;}#sk-container-id-1 div.sk-label input.sk-toggleable__control:checked~label.sk-toggleable__label {background-color: #d4ebff;}#sk-container-id-1 input.sk-hidden--visually {border: 0;clip: rect(1px 1px 1px 1px);clip: rect(1px, 1px, 1px, 1px);height: 1px;margin: -1px;overflow: hidden;padding: 0;position: absolute;width: 1px;}#sk-container-id-1 div.sk-estimator {font-family: monospace;background-color: #f0f8ff;border: 1px dotted black;border-radius: 0.25em;box-sizing: border-box;margin-bottom: 0.5em;}#sk-container-id-1 div.sk-estimator:hover {background-color: #d4ebff;}#sk-container-id-1 div.sk-parallel-item::after {content: \"\";width: 100%;border-bottom: 1px solid gray;flex-grow: 1;}#sk-container-id-1 div.sk-label:hover label.sk-toggleable__label {background-color: #d4ebff;}#sk-container-id-1 div.sk-serial::before {content: \"\";position: absolute;border-left: 1px solid gray;box-sizing: border-box;top: 0;bottom: 0;left: 50%;z-index: 0;}#sk-container-id-1 div.sk-serial {display: flex;flex-direction: column;align-items: center;background-color: white;padding-right: 0.2em;padding-left: 0.2em;position: relative;}#sk-container-id-1 div.sk-item {position: relative;z-index: 1;}#sk-container-id-1 div.sk-parallel {display: flex;align-items: stretch;justify-content: center;background-color: white;position: relative;}#sk-container-id-1 div.sk-item::before, #sk-container-id-1 div.sk-parallel-item::before {content: \"\";position: absolute;border-left: 1px solid gray;box-sizing: border-box;top: 0;bottom: 0;left: 50%;z-index: -1;}#sk-container-id-1 div.sk-parallel-item {display: flex;flex-direction: column;z-index: 1;position: relative;background-color: white;}#sk-container-id-1 div.sk-parallel-item:first-child::after {align-self: flex-end;width: 50%;}#sk-container-id-1 div.sk-parallel-item:last-child::after {align-self: flex-start;width: 50%;}#sk-container-id-1 div.sk-parallel-item:only-child::after {width: 0;}#sk-container-id-1 div.sk-dashed-wrapped {border: 1px dashed gray;margin: 0 0.4em 0.5em 0.4em;box-sizing: border-box;padding-bottom: 0.4em;background-color: white;}#sk-container-id-1 div.sk-label label {font-family: monospace;font-weight: bold;display: inline-block;line-height: 1.2em;}#sk-container-id-1 div.sk-label-container {text-align: center;}#sk-container-id-1 div.sk-container {/* jupyter's `normalize.less` sets `[hidden] { display: none; }` but bootstrap.min.css set `[hidden] { display: none !important; }` so we also need the `!important` here to be able to override the default hidden behavior on the sphinx rendered scikit-learn.org. See: https://github.com/scikit-learn/scikit-learn/issues/21755 */display: inline-block !important;position: relative;}#sk-container-id-1 div.sk-text-repr-fallback {display: none;}</style><div id=\"sk-container-id-1\" class=\"sk-top-container\"><div class=\"sk-text-repr-fallback\"><pre>GridSearchCV(cv=TimeSeriesSplit(gap=0, max_train_size=None, n_splits=5, test_size=None),\n             estimator=RandomForestRegressor(random_state=12345),\n             param_grid={&#x27;max_depth&#x27;: range(0, 10, 2),\n                         &#x27;n_estimators&#x27;: range(50, 100, 5)},\n             scoring=&#x27;neg_root_mean_squared_error&#x27;)</pre><b>In a Jupyter environment, please rerun this cell to show the HTML representation or trust the notebook. <br />On GitHub, the HTML representation is unable to render, please try loading this page with nbviewer.org.</b></div><div class=\"sk-container\" hidden><div class=\"sk-item sk-dashed-wrapped\"><div class=\"sk-label-container\"><div class=\"sk-label sk-toggleable\"><input class=\"sk-toggleable__control sk-hidden--visually\" id=\"sk-estimator-id-1\" type=\"checkbox\" ><label for=\"sk-estimator-id-1\" class=\"sk-toggleable__label sk-toggleable__label-arrow\">GridSearchCV</label><div class=\"sk-toggleable__content\"><pre>GridSearchCV(cv=TimeSeriesSplit(gap=0, max_train_size=None, n_splits=5, test_size=None),\n             estimator=RandomForestRegressor(random_state=12345),\n             param_grid={&#x27;max_depth&#x27;: range(0, 10, 2),\n                         &#x27;n_estimators&#x27;: range(50, 100, 5)},\n             scoring=&#x27;neg_root_mean_squared_error&#x27;)</pre></div></div></div><div class=\"sk-parallel\"><div class=\"sk-parallel-item\"><div class=\"sk-item\"><div class=\"sk-label-container\"><div class=\"sk-label sk-toggleable\"><input class=\"sk-toggleable__control sk-hidden--visually\" id=\"sk-estimator-id-2\" type=\"checkbox\" ><label for=\"sk-estimator-id-2\" class=\"sk-toggleable__label sk-toggleable__label-arrow\">estimator: RandomForestRegressor</label><div class=\"sk-toggleable__content\"><pre>RandomForestRegressor(random_state=12345)</pre></div></div></div><div class=\"sk-serial\"><div class=\"sk-item\"><div class=\"sk-estimator sk-toggleable\"><input class=\"sk-toggleable__control sk-hidden--visually\" id=\"sk-estimator-id-3\" type=\"checkbox\" ><label for=\"sk-estimator-id-3\" class=\"sk-toggleable__label sk-toggleable__label-arrow\">RandomForestRegressor</label><div class=\"sk-toggleable__content\"><pre>RandomForestRegressor(random_state=12345)</pre></div></div></div></div></div></div></div></div></div></div>"
          },
          "metadata": {}
        }
      ],
      "execution_count": 52
    },
    {
      "cell_type": "code",
      "source": "search.best_params_",
      "metadata": {
        "trusted": true
      },
      "outputs": [
        {
          "execution_count": 53,
          "output_type": "execute_result",
          "data": {
            "text/plain": "{'max_depth': 8, 'n_estimators': 50}"
          },
          "metadata": {}
        }
      ],
      "execution_count": 53
    },
    {
      "cell_type": "code",
      "source": "RMSE_RF = (-search.best_score_)\nprint(\"Lowest RMSE found:\", RMSE_RF)",
      "metadata": {
        "scrolled": true,
        "trusted": true
      },
      "outputs": [
        {
          "name": "stdout",
          "text": "Lowest RMSE found: 26.46086988847467\n",
          "output_type": "stream"
        }
      ],
      "execution_count": 54
    },
    {
      "cell_type": "code",
      "source": "RMSE.append(RMSE_RF)",
      "metadata": {
        "trusted": true
      },
      "outputs": [],
      "execution_count": 55
    },
    {
      "cell_type": "markdown",
      "source": "**LightGBM**",
      "metadata": {}
    },
    {
      "cell_type": "code",
      "source": "model = LGBMRegressor(random_state=RANDOM_STATE, silent=True, num_threads = 10)\n\nparam_grid = {\n    'learning_rate': [0.1],\n    'n_estimators': [40, 50, 80],\n    'num_leaves' : [10,20,31]\n}\n\nsearch = GridSearchCV(model, param_grid, cv=tscv, scoring='neg_root_mean_squared_error', verbose=10)\n",
      "metadata": {
        "trusted": true
      },
      "outputs": [],
      "execution_count": 56
    },
    {
      "cell_type": "code",
      "source": "%%capture\nsearch.fit(features_train, target_train)",
      "metadata": {
        "trusted": true
      },
      "outputs": [],
      "execution_count": 57
    },
    {
      "cell_type": "code",
      "source": "search.best_params_",
      "metadata": {
        "trusted": true
      },
      "outputs": [
        {
          "execution_count": 58,
          "output_type": "execute_result",
          "data": {
            "text/plain": "{'learning_rate': 0.1, 'n_estimators': 80, 'num_leaves': 10}"
          },
          "metadata": {}
        }
      ],
      "execution_count": 58
    },
    {
      "cell_type": "code",
      "source": "RMSE_LGBM = (-search.best_score_)\nprint(\"Lowest RMSE found:\", RMSE_LGBM)",
      "metadata": {
        "trusted": true
      },
      "outputs": [
        {
          "name": "stdout",
          "text": "Lowest RMSE found: 25.497194676658307\n",
          "output_type": "stream"
        }
      ],
      "execution_count": 59
    },
    {
      "cell_type": "code",
      "source": "RMSE.append(RMSE_LGBM)",
      "metadata": {
        "trusted": true
      },
      "outputs": [],
      "execution_count": 60
    },
    {
      "cell_type": "markdown",
      "source": "**CatBoost**",
      "metadata": {}
    },
    {
      "cell_type": "code",
      "source": "model = CatBoostRegressor(random_state=130324, silent=True)\n\nparam_grid = {\n    'learning_rate': [0.01, 0.1],\n     'depth': [8, 10],    \n    'n_estimators': [120, 150],    \n}\n\n\nsearch = GridSearchCV(model, param_grid, cv=tscv, scoring='neg_root_mean_squared_error', verbose=10)",
      "metadata": {},
      "outputs": [],
      "execution_count": 41
    },
    {
      "cell_type": "code",
      "source": "%%capture\nsearch.fit(features_train, target_train)",
      "metadata": {
        "scrolled": true
      },
      "outputs": [],
      "execution_count": 42
    },
    {
      "cell_type": "code",
      "source": "print(\"Best parameters found:\", search.best_params_)\nRMSE_Catboost = (-search.best_score_)\nprint(\"Lowest RMSE found:\", RMSE_Catboost)",
      "metadata": {
        "scrolled": true
      },
      "outputs": [
        {
          "name": "stdout",
          "output_type": "stream",
          "text": [
            "Best parameters found: {'depth': 8, 'learning_rate': 0.1, 'n_estimators': 150}\n",
            "Lowest RMSE found: 25.511558708487883\n"
          ]
        }
      ],
      "execution_count": 43
    },
    {
      "cell_type": "markdown",
      "source": "<font color='blue'><b>Комментарий ревьюера : </b></font> ✔️\\\n<font color='green'> 👍</font>",
      "metadata": {}
    },
    {
      "cell_type": "code",
      "source": "RMSE.append(RMSE_Catboost)",
      "metadata": {},
      "outputs": [],
      "execution_count": 44
    },
    {
      "cell_type": "markdown",
      "source": "Оформим все результаты в таблицу:",
      "metadata": {}
    },
    {
      "cell_type": "code",
      "source": "columns_df = ['RMSE']\ndf_quality = pd.DataFrame({'model': [ 'LR', 'RF', 'LGBM', 'CatBoost'], 'RMSE':RMSE })\ndf_quality",
      "metadata": {
        "scrolled": true
      },
      "outputs": [
        {
          "data": {
            "text/html": [
              "<div>\n",
              "<style scoped>\n",
              "    .dataframe tbody tr th:only-of-type {\n",
              "        vertical-align: middle;\n",
              "    }\n",
              "\n",
              "    .dataframe tbody tr th {\n",
              "        vertical-align: top;\n",
              "    }\n",
              "\n",
              "    .dataframe thead th {\n",
              "        text-align: right;\n",
              "    }\n",
              "</style>\n",
              "<table border=\"1\" class=\"dataframe\">\n",
              "  <thead>\n",
              "    <tr style=\"text-align: right;\">\n",
              "      <th></th>\n",
              "      <th>model</th>\n",
              "      <th>RMSE</th>\n",
              "    </tr>\n",
              "  </thead>\n",
              "  <tbody>\n",
              "    <tr>\n",
              "      <th>0</th>\n",
              "      <td>LR</td>\n",
              "      <td>27.575359</td>\n",
              "    </tr>\n",
              "    <tr>\n",
              "      <th>1</th>\n",
              "      <td>RF</td>\n",
              "      <td>26.460870</td>\n",
              "    </tr>\n",
              "    <tr>\n",
              "      <th>2</th>\n",
              "      <td>LGBM</td>\n",
              "      <td>25.497195</td>\n",
              "    </tr>\n",
              "    <tr>\n",
              "      <th>3</th>\n",
              "      <td>CatBoost</td>\n",
              "      <td>25.511559</td>\n",
              "    </tr>\n",
              "  </tbody>\n",
              "</table>\n",
              "</div>"
            ],
            "text/plain": [
              "      model       RMSE\n",
              "0        LR  27.575359\n",
              "1        RF  26.460870\n",
              "2      LGBM  25.497195\n",
              "3  CatBoost  25.511559"
            ]
          },
          "execution_count": 45,
          "metadata": {},
          "output_type": "execute_result"
        }
      ],
      "execution_count": 45
    },
    {
      "cell_type": "markdown",
      "source": "**Conclusion**\nThe best model was the LGBM model with RMSE 26.596826 and hyperparameters {'learning_rate': 0.1, 'n_estimators': 50}",
      "metadata": {}
    },
    {
      "cell_type": "markdown",
      "source": "## Testing",
      "metadata": {}
    },
    {
      "cell_type": "code",
      "source": "RMSE_test= []",
      "metadata": {},
      "outputs": [],
      "execution_count": 46
    },
    {
      "cell_type": "markdown",
      "source": "Let's check the data on a test sample with selected hyperparameters:",
      "metadata": {}
    },
    {
      "cell_type": "code",
      "source": "model_test = LGBMRegressor(learning_rate=0.1, \n                          random_state=12345,\n                          n_estimators=50,\n                          silent=True,\n                          ) \n\nmodel_test.fit(features_train, target_train)\n\ntarget_predict = model_test.predict(features_test)\n\nRMSE_test_LGBM = mean_squared_error(target_test, target_predict) ** 0.5\n\nprint('Значение RMSE на тестовой выборке:', RMSE_test_LGBM)",
      "metadata": {
        "trusted": true
      },
      "outputs": [
        {
          "name": "stdout",
          "text": "Значение RMSE на тестовой выборке: 44.91434895184782\n",
          "output_type": "stream"
        }
      ],
      "execution_count": 61
    },
    {
      "cell_type": "markdown",
      "source": "**Conclusion:** Data on taxi orders at airports was obtained and the task was set to predict the number of taxi orders for the next hour. Models for prediction were built - LinearRegression, RandomForestRegressor, LightGBM, Catboost. The lowest RMSE on the training set was shown by the LightGBM model - 25.497, on the test set - 44.9143.",
      "metadata": {}
    }
  ]
}