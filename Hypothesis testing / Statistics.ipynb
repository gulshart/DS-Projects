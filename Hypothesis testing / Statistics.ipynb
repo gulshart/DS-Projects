{
  "metadata": {
    "kernelspec": {
      "name": "python",
      "display_name": "Python (Pyodide)",
      "language": "python"
    },
    "language_info": {
      "codemirror_mode": {
        "name": "python",
        "version": 3
      },
      "file_extension": ".py",
      "mimetype": "text/x-python",
      "name": "python",
      "nbconvert_exporter": "python",
      "pygments_lexer": "ipython3",
      "version": "3.8"
    },
    "ExecuteTimeLog": [
      {
        "duration": 1291,
        "start_time": "2023-12-28T14:04:16.443Z"
      },
      {
        "duration": 154,
        "start_time": "2023-12-28T14:04:41.059Z"
      },
      {
        "duration": 66,
        "start_time": "2023-12-28T14:04:49.915Z"
      },
      {
        "duration": 52,
        "start_time": "2023-12-28T14:05:02.212Z"
      },
      {
        "duration": 220,
        "start_time": "2023-12-28T14:05:36.869Z"
      },
      {
        "duration": 64,
        "start_time": "2023-12-28T14:05:39.654Z"
      },
      {
        "duration": 79,
        "start_time": "2023-12-28T14:05:47.821Z"
      },
      {
        "duration": 148,
        "start_time": "2023-12-28T14:07:47.797Z"
      },
      {
        "duration": 123,
        "start_time": "2023-12-28T14:08:04.298Z"
      },
      {
        "duration": 162,
        "start_time": "2023-12-28T14:08:16.338Z"
      },
      {
        "duration": 111,
        "start_time": "2023-12-28T14:08:39.993Z"
      },
      {
        "duration": 106,
        "start_time": "2023-12-28T14:08:58.940Z"
      },
      {
        "duration": 92,
        "start_time": "2023-12-28T14:09:20.761Z"
      },
      {
        "duration": 125,
        "start_time": "2023-12-28T14:09:31.127Z"
      },
      {
        "duration": 99,
        "start_time": "2023-12-28T14:09:42.811Z"
      },
      {
        "duration": 9,
        "start_time": "2023-12-28T14:10:25.264Z"
      },
      {
        "duration": 14,
        "start_time": "2023-12-28T14:10:50.431Z"
      },
      {
        "duration": 19,
        "start_time": "2023-12-28T14:11:05.625Z"
      },
      {
        "duration": 26,
        "start_time": "2023-12-28T14:13:07.103Z"
      },
      {
        "duration": 670,
        "start_time": "2023-12-28T14:21:53.767Z"
      },
      {
        "duration": 757,
        "start_time": "2023-12-28T14:22:17.439Z"
      },
      {
        "duration": 7,
        "start_time": "2023-12-28T14:22:37.466Z"
      },
      {
        "duration": 5,
        "start_time": "2023-12-28T14:23:55.050Z"
      },
      {
        "duration": 14,
        "start_time": "2023-12-28T14:24:02.068Z"
      },
      {
        "duration": 5,
        "start_time": "2023-12-28T14:24:33.349Z"
      },
      {
        "duration": 8,
        "start_time": "2023-12-28T14:26:00.525Z"
      },
      {
        "duration": 7,
        "start_time": "2023-12-28T14:26:29.956Z"
      },
      {
        "duration": 13,
        "start_time": "2023-12-28T14:29:28.345Z"
      },
      {
        "duration": 5,
        "start_time": "2023-12-28T14:33:06.873Z"
      },
      {
        "duration": 13,
        "start_time": "2023-12-28T14:33:09.541Z"
      },
      {
        "duration": 6,
        "start_time": "2023-12-28T14:33:13.032Z"
      },
      {
        "duration": 92,
        "start_time": "2023-12-28T14:33:28.491Z"
      },
      {
        "duration": 18,
        "start_time": "2023-12-28T14:33:28.585Z"
      },
      {
        "duration": 27,
        "start_time": "2023-12-28T14:33:28.604Z"
      },
      {
        "duration": 8,
        "start_time": "2023-12-28T14:33:28.633Z"
      },
      {
        "duration": 10,
        "start_time": "2023-12-28T14:33:28.643Z"
      },
      {
        "duration": 8,
        "start_time": "2023-12-28T14:33:28.655Z"
      },
      {
        "duration": 6,
        "start_time": "2023-12-28T14:33:28.664Z"
      },
      {
        "duration": 45,
        "start_time": "2023-12-28T14:33:28.672Z"
      },
      {
        "duration": 7,
        "start_time": "2023-12-28T14:33:28.718Z"
      },
      {
        "duration": 6,
        "start_time": "2023-12-28T14:33:31.738Z"
      },
      {
        "duration": 14,
        "start_time": "2023-12-28T14:33:34.643Z"
      },
      {
        "duration": 6,
        "start_time": "2023-12-28T14:34:45.363Z"
      },
      {
        "duration": 6,
        "start_time": "2023-12-28T14:34:47.874Z"
      },
      {
        "duration": 12,
        "start_time": "2023-12-28T14:35:21.116Z"
      },
      {
        "duration": 45,
        "start_time": "2023-12-28T14:35:37.473Z"
      },
      {
        "duration": 13,
        "start_time": "2023-12-28T14:35:39.151Z"
      },
      {
        "duration": 46,
        "start_time": "2023-12-28T14:36:15.857Z"
      },
      {
        "duration": 7,
        "start_time": "2023-12-28T14:36:24.277Z"
      },
      {
        "duration": 6,
        "start_time": "2023-12-28T14:36:29.770Z"
      },
      {
        "duration": 11,
        "start_time": "2023-12-28T14:37:03.800Z"
      },
      {
        "duration": 5,
        "start_time": "2023-12-28T14:37:29.246Z"
      },
      {
        "duration": 6,
        "start_time": "2023-12-28T14:37:30.906Z"
      },
      {
        "duration": 138,
        "start_time": "2023-12-28T14:39:46.038Z"
      },
      {
        "duration": 135,
        "start_time": "2023-12-28T14:39:55.327Z"
      },
      {
        "duration": 682,
        "start_time": "2023-12-28T14:40:01.701Z"
      },
      {
        "duration": 745,
        "start_time": "2023-12-28T14:40:11.404Z"
      },
      {
        "duration": 174,
        "start_time": "2023-12-28T14:40:15.373Z"
      },
      {
        "duration": 184,
        "start_time": "2023-12-28T14:42:16.133Z"
      },
      {
        "duration": 265,
        "start_time": "2023-12-28T14:42:42.508Z"
      },
      {
        "duration": 3,
        "start_time": "2023-12-28T14:45:25.091Z"
      },
      {
        "duration": 323,
        "start_time": "2023-12-28T14:45:34.685Z"
      },
      {
        "duration": 195,
        "start_time": "2023-12-28T14:45:41.420Z"
      },
      {
        "duration": 200,
        "start_time": "2023-12-28T14:47:28.839Z"
      },
      {
        "duration": 197,
        "start_time": "2023-12-28T14:48:29.006Z"
      },
      {
        "duration": 186,
        "start_time": "2023-12-28T14:49:01.858Z"
      },
      {
        "duration": 155,
        "start_time": "2023-12-28T14:49:08.294Z"
      },
      {
        "duration": 118,
        "start_time": "2023-12-28T14:49:15.278Z"
      },
      {
        "duration": 708,
        "start_time": "2023-12-28T14:50:09.880Z"
      },
      {
        "duration": 751,
        "start_time": "2023-12-28T14:50:24.178Z"
      },
      {
        "duration": 122,
        "start_time": "2023-12-28T14:51:09.281Z"
      },
      {
        "duration": 145,
        "start_time": "2023-12-28T14:53:08.578Z"
      },
      {
        "duration": 126,
        "start_time": "2023-12-28T14:53:31.802Z"
      },
      {
        "duration": 149,
        "start_time": "2023-12-28T14:55:45.882Z"
      },
      {
        "duration": 142,
        "start_time": "2023-12-28T14:56:00.436Z"
      },
      {
        "duration": 134,
        "start_time": "2023-12-28T14:56:03.361Z"
      },
      {
        "duration": 144,
        "start_time": "2023-12-28T14:56:08.453Z"
      },
      {
        "duration": 174,
        "start_time": "2023-12-28T14:56:18.767Z"
      },
      {
        "duration": 184,
        "start_time": "2023-12-28T14:56:23.808Z"
      },
      {
        "duration": 164,
        "start_time": "2023-12-28T14:56:32.358Z"
      },
      {
        "duration": 183,
        "start_time": "2023-12-28T14:56:42.833Z"
      },
      {
        "duration": 172,
        "start_time": "2023-12-28T14:56:56.185Z"
      },
      {
        "duration": 163,
        "start_time": "2023-12-28T14:57:00.689Z"
      },
      {
        "duration": 330,
        "start_time": "2023-12-28T15:00:46.846Z"
      },
      {
        "duration": 186,
        "start_time": "2023-12-28T15:00:59.120Z"
      },
      {
        "duration": 192,
        "start_time": "2023-12-28T15:01:26.847Z"
      },
      {
        "duration": 194,
        "start_time": "2023-12-28T15:05:28.315Z"
      },
      {
        "duration": 187,
        "start_time": "2023-12-28T15:06:23.040Z"
      },
      {
        "duration": 162,
        "start_time": "2023-12-28T15:06:49.713Z"
      },
      {
        "duration": 192,
        "start_time": "2023-12-28T15:06:54.325Z"
      },
      {
        "duration": 10,
        "start_time": "2023-12-28T15:18:53.853Z"
      },
      {
        "duration": 23,
        "start_time": "2023-12-28T15:18:56.405Z"
      },
      {
        "duration": 8,
        "start_time": "2023-12-28T15:20:07.943Z"
      },
      {
        "duration": 22,
        "start_time": "2023-12-28T15:20:18.427Z"
      },
      {
        "duration": 23,
        "start_time": "2023-12-28T15:21:52.568Z"
      },
      {
        "duration": 50,
        "start_time": "2023-12-28T15:21:58.823Z"
      },
      {
        "duration": 34,
        "start_time": "2023-12-28T15:22:24.416Z"
      },
      {
        "duration": 42,
        "start_time": "2023-12-28T15:22:36.153Z"
      },
      {
        "duration": 42,
        "start_time": "2023-12-28T15:24:52.568Z"
      },
      {
        "duration": 383,
        "start_time": "2023-12-28T15:24:55.814Z"
      },
      {
        "duration": 17,
        "start_time": "2023-12-28T15:24:56.199Z"
      },
      {
        "duration": 25,
        "start_time": "2023-12-28T15:24:56.217Z"
      },
      {
        "duration": 7,
        "start_time": "2023-12-28T15:24:56.243Z"
      },
      {
        "duration": 26,
        "start_time": "2023-12-28T15:24:56.252Z"
      },
      {
        "duration": 36,
        "start_time": "2023-12-28T15:24:56.280Z"
      },
      {
        "duration": 12,
        "start_time": "2023-12-28T15:24:56.318Z"
      },
      {
        "duration": 13,
        "start_time": "2023-12-28T15:24:56.331Z"
      },
      {
        "duration": 203,
        "start_time": "2023-12-28T15:24:56.346Z"
      },
      {
        "duration": 129,
        "start_time": "2023-12-28T15:24:56.550Z"
      },
      {
        "duration": 168,
        "start_time": "2023-12-28T15:24:56.681Z"
      },
      {
        "duration": 200,
        "start_time": "2023-12-28T15:24:56.850Z"
      },
      {
        "duration": 338,
        "start_time": "2023-12-28T15:24:57.051Z"
      },
      {
        "duration": 46,
        "start_time": "2023-12-28T15:24:57.391Z"
      },
      {
        "duration": 0,
        "start_time": "2023-12-28T15:24:57.438Z"
      },
      {
        "duration": 22,
        "start_time": "2023-12-28T15:25:10.805Z"
      },
      {
        "duration": 25,
        "start_time": "2023-12-28T15:25:17.668Z"
      },
      {
        "duration": 27,
        "start_time": "2023-12-28T15:25:33.988Z"
      },
      {
        "duration": 34,
        "start_time": "2023-12-28T15:26:24.223Z"
      },
      {
        "duration": 33,
        "start_time": "2023-12-28T15:29:16.442Z"
      },
      {
        "duration": 15,
        "start_time": "2023-12-28T15:32:48.984Z"
      },
      {
        "duration": 13,
        "start_time": "2023-12-28T15:33:12.252Z"
      },
      {
        "duration": 3,
        "start_time": "2023-12-28T15:33:23.528Z"
      },
      {
        "duration": 12,
        "start_time": "2023-12-28T15:33:28.479Z"
      },
      {
        "duration": 97,
        "start_time": "2023-12-28T15:34:47.883Z"
      },
      {
        "duration": 18,
        "start_time": "2023-12-28T15:34:47.982Z"
      },
      {
        "duration": 24,
        "start_time": "2023-12-28T15:34:48.001Z"
      },
      {
        "duration": 8,
        "start_time": "2023-12-28T15:34:48.028Z"
      },
      {
        "duration": 11,
        "start_time": "2023-12-28T15:34:48.037Z"
      },
      {
        "duration": 8,
        "start_time": "2023-12-28T15:34:48.049Z"
      },
      {
        "duration": 4,
        "start_time": "2023-12-28T15:34:48.058Z"
      },
      {
        "duration": 13,
        "start_time": "2023-12-28T15:34:48.064Z"
      },
      {
        "duration": 226,
        "start_time": "2023-12-28T15:34:48.078Z"
      },
      {
        "duration": 125,
        "start_time": "2023-12-28T15:34:48.306Z"
      },
      {
        "duration": 156,
        "start_time": "2023-12-28T15:34:48.432Z"
      },
      {
        "duration": 193,
        "start_time": "2023-12-28T15:34:48.590Z"
      },
      {
        "duration": 190,
        "start_time": "2023-12-28T15:34:48.785Z"
      },
      {
        "duration": 16,
        "start_time": "2023-12-28T15:34:48.977Z"
      },
      {
        "duration": 9,
        "start_time": "2023-12-28T15:34:48.994Z"
      },
      {
        "duration": 18,
        "start_time": "2023-12-28T15:34:55.363Z"
      },
      {
        "duration": 9,
        "start_time": "2023-12-28T15:34:58.676Z"
      },
      {
        "duration": 23,
        "start_time": "2023-12-28T15:35:11.323Z"
      },
      {
        "duration": 9,
        "start_time": "2023-12-28T15:37:05.460Z"
      },
      {
        "duration": 710,
        "start_time": "2023-12-28T15:37:14.208Z"
      },
      {
        "duration": 19,
        "start_time": "2023-12-28T15:37:36.195Z"
      },
      {
        "duration": 3,
        "start_time": "2023-12-28T15:42:01.979Z"
      },
      {
        "duration": 27,
        "start_time": "2023-12-28T15:42:15.649Z"
      },
      {
        "duration": 14,
        "start_time": "2023-12-28T15:42:37.322Z"
      },
      {
        "duration": 27,
        "start_time": "2023-12-28T15:42:41.418Z"
      },
      {
        "duration": 24,
        "start_time": "2023-12-28T15:43:53.865Z"
      },
      {
        "duration": 755,
        "start_time": "2023-12-28T15:46:10.851Z"
      },
      {
        "duration": 1038,
        "start_time": "2023-12-28T15:46:29.705Z"
      },
      {
        "duration": 897,
        "start_time": "2023-12-28T15:46:59.584Z"
      },
      {
        "duration": 1073,
        "start_time": "2023-12-28T15:47:14.046Z"
      },
      {
        "duration": 1044,
        "start_time": "2023-12-28T15:47:39.870Z"
      },
      {
        "duration": 1015,
        "start_time": "2023-12-28T15:47:49.077Z"
      },
      {
        "duration": 1262,
        "start_time": "2023-12-28T15:48:10.591Z"
      },
      {
        "duration": 1129,
        "start_time": "2023-12-28T15:48:17.066Z"
      },
      {
        "duration": 1058,
        "start_time": "2023-12-28T15:48:44.589Z"
      },
      {
        "duration": 7,
        "start_time": "2023-12-28T15:48:56.778Z"
      },
      {
        "duration": 17,
        "start_time": "2023-12-28T15:49:20.727Z"
      },
      {
        "duration": 13,
        "start_time": "2023-12-28T15:49:50.807Z"
      },
      {
        "duration": 19,
        "start_time": "2023-12-28T15:49:57.816Z"
      },
      {
        "duration": 18,
        "start_time": "2023-12-28T15:50:08.633Z"
      },
      {
        "duration": 21,
        "start_time": "2023-12-28T15:50:11.159Z"
      },
      {
        "duration": 26,
        "start_time": "2023-12-28T15:50:21.243Z"
      },
      {
        "duration": 20,
        "start_time": "2023-12-28T15:50:34.976Z"
      },
      {
        "duration": 30,
        "start_time": "2023-12-28T15:50:53.631Z"
      },
      {
        "duration": 27,
        "start_time": "2023-12-28T15:51:00.062Z"
      },
      {
        "duration": 18,
        "start_time": "2023-12-28T15:51:03.785Z"
      },
      {
        "duration": 25,
        "start_time": "2023-12-28T15:51:24.540Z"
      },
      {
        "duration": 96,
        "start_time": "2023-12-28T15:52:05.142Z"
      },
      {
        "duration": 18,
        "start_time": "2023-12-28T15:52:05.240Z"
      },
      {
        "duration": 25,
        "start_time": "2023-12-28T15:52:05.260Z"
      },
      {
        "duration": 15,
        "start_time": "2023-12-28T15:52:05.286Z"
      },
      {
        "duration": 15,
        "start_time": "2023-12-28T15:52:05.303Z"
      },
      {
        "duration": 25,
        "start_time": "2023-12-28T15:52:05.319Z"
      },
      {
        "duration": 9,
        "start_time": "2023-12-28T15:52:05.345Z"
      },
      {
        "duration": 15,
        "start_time": "2023-12-28T15:52:05.356Z"
      },
      {
        "duration": 212,
        "start_time": "2023-12-28T15:52:05.372Z"
      },
      {
        "duration": 134,
        "start_time": "2023-12-28T15:52:05.586Z"
      },
      {
        "duration": 168,
        "start_time": "2023-12-28T15:52:05.721Z"
      },
      {
        "duration": 194,
        "start_time": "2023-12-28T15:52:05.890Z"
      },
      {
        "duration": 193,
        "start_time": "2023-12-28T15:52:06.085Z"
      },
      {
        "duration": 18,
        "start_time": "2023-12-28T15:52:06.282Z"
      },
      {
        "duration": 25,
        "start_time": "2023-12-28T15:52:06.302Z"
      },
      {
        "duration": 874,
        "start_time": "2023-12-28T15:52:06.329Z"
      },
      {
        "duration": 21,
        "start_time": "2023-12-28T15:52:07.205Z"
      },
      {
        "duration": 792,
        "start_time": "2023-12-28T15:52:07.227Z"
      },
      {
        "duration": 692,
        "start_time": "2023-12-28T15:57:19.512Z"
      },
      {
        "duration": 12,
        "start_time": "2023-12-28T15:57:34.740Z"
      },
      {
        "duration": 825,
        "start_time": "2023-12-28T16:00:38.230Z"
      },
      {
        "duration": 53,
        "start_time": "2023-12-28T16:02:25.480Z"
      },
      {
        "duration": 988,
        "start_time": "2023-12-28T16:02:52.574Z"
      },
      {
        "duration": 779,
        "start_time": "2023-12-28T16:02:54.080Z"
      },
      {
        "duration": 3,
        "start_time": "2023-12-28T16:09:37.884Z"
      },
      {
        "duration": 6,
        "start_time": "2023-12-28T16:09:45.326Z"
      },
      {
        "duration": 53,
        "start_time": "2023-12-28T16:11:57.941Z"
      },
      {
        "duration": 109,
        "start_time": "2023-12-28T16:12:38.071Z"
      },
      {
        "duration": 27,
        "start_time": "2023-12-28T16:12:38.181Z"
      },
      {
        "duration": 27,
        "start_time": "2023-12-28T16:12:38.210Z"
      },
      {
        "duration": 7,
        "start_time": "2023-12-28T16:12:38.239Z"
      },
      {
        "duration": 7,
        "start_time": "2023-12-28T16:12:38.247Z"
      },
      {
        "duration": 15,
        "start_time": "2023-12-28T16:12:38.255Z"
      },
      {
        "duration": 6,
        "start_time": "2023-12-28T16:12:38.271Z"
      },
      {
        "duration": 36,
        "start_time": "2023-12-28T16:12:38.279Z"
      },
      {
        "duration": 218,
        "start_time": "2023-12-28T16:12:38.317Z"
      },
      {
        "duration": 135,
        "start_time": "2023-12-28T16:12:38.537Z"
      },
      {
        "duration": 167,
        "start_time": "2023-12-28T16:12:38.673Z"
      },
      {
        "duration": 208,
        "start_time": "2023-12-28T16:12:38.841Z"
      },
      {
        "duration": 351,
        "start_time": "2023-12-28T16:12:39.050Z"
      },
      {
        "duration": 24,
        "start_time": "2023-12-28T16:12:39.403Z"
      },
      {
        "duration": 15,
        "start_time": "2023-12-28T16:12:39.429Z"
      },
      {
        "duration": 815,
        "start_time": "2023-12-28T16:12:39.445Z"
      },
      {
        "duration": 785,
        "start_time": "2023-12-28T16:12:40.262Z"
      },
      {
        "duration": 50,
        "start_time": "2023-12-28T16:12:41.049Z"
      },
      {
        "duration": 20,
        "start_time": "2023-12-28T16:12:50.546Z"
      },
      {
        "duration": 9,
        "start_time": "2023-12-28T16:13:19.042Z"
      },
      {
        "duration": 16,
        "start_time": "2023-12-28T16:13:25.009Z"
      },
      {
        "duration": 17,
        "start_time": "2023-12-28T16:14:11.800Z"
      },
      {
        "duration": 16,
        "start_time": "2023-12-28T16:15:54.953Z"
      },
      {
        "duration": 11,
        "start_time": "2023-12-28T16:15:58.533Z"
      },
      {
        "duration": 11,
        "start_time": "2023-12-28T16:16:04.382Z"
      },
      {
        "duration": 13,
        "start_time": "2023-12-28T16:16:48.206Z"
      },
      {
        "duration": 19,
        "start_time": "2023-12-28T16:16:55.123Z"
      },
      {
        "duration": 21,
        "start_time": "2023-12-28T16:17:22.512Z"
      },
      {
        "duration": 19,
        "start_time": "2023-12-28T16:17:25.216Z"
      },
      {
        "duration": 22,
        "start_time": "2023-12-28T16:17:51.032Z"
      },
      {
        "duration": 24,
        "start_time": "2023-12-28T16:17:58.234Z"
      },
      {
        "duration": 19,
        "start_time": "2023-12-28T16:18:19.661Z"
      },
      {
        "duration": 21,
        "start_time": "2023-12-28T16:19:11.657Z"
      },
      {
        "duration": 25,
        "start_time": "2023-12-28T16:20:22.008Z"
      },
      {
        "duration": 95,
        "start_time": "2023-12-28T16:20:28.250Z"
      },
      {
        "duration": 19,
        "start_time": "2023-12-28T16:20:28.347Z"
      },
      {
        "duration": 26,
        "start_time": "2023-12-28T16:20:28.367Z"
      },
      {
        "duration": 6,
        "start_time": "2023-12-28T16:20:28.395Z"
      },
      {
        "duration": 27,
        "start_time": "2023-12-28T16:20:28.403Z"
      },
      {
        "duration": 11,
        "start_time": "2023-12-28T16:20:28.432Z"
      },
      {
        "duration": 24,
        "start_time": "2023-12-28T16:20:28.444Z"
      },
      {
        "duration": 20,
        "start_time": "2023-12-28T16:20:28.469Z"
      },
      {
        "duration": 197,
        "start_time": "2023-12-28T16:20:28.490Z"
      },
      {
        "duration": 136,
        "start_time": "2023-12-28T16:20:28.689Z"
      },
      {
        "duration": 190,
        "start_time": "2023-12-28T16:20:28.827Z"
      },
      {
        "duration": 396,
        "start_time": "2023-12-28T16:20:29.018Z"
      },
      {
        "duration": 182,
        "start_time": "2023-12-28T16:20:29.416Z"
      },
      {
        "duration": 25,
        "start_time": "2023-12-28T16:20:29.600Z"
      },
      {
        "duration": 13,
        "start_time": "2023-12-28T16:20:29.626Z"
      },
      {
        "duration": 834,
        "start_time": "2023-12-28T16:20:29.641Z"
      },
      {
        "duration": 790,
        "start_time": "2023-12-28T16:20:30.477Z"
      },
      {
        "duration": 24,
        "start_time": "2023-12-28T16:20:31.268Z"
      },
      {
        "duration": 23,
        "start_time": "2023-12-28T16:21:17.307Z"
      },
      {
        "duration": 83,
        "start_time": "2023-12-28T16:21:26.722Z"
      },
      {
        "duration": 18,
        "start_time": "2023-12-28T16:21:26.807Z"
      },
      {
        "duration": 26,
        "start_time": "2023-12-28T16:21:26.826Z"
      },
      {
        "duration": 8,
        "start_time": "2023-12-28T16:21:26.854Z"
      },
      {
        "duration": 12,
        "start_time": "2023-12-28T16:21:26.863Z"
      },
      {
        "duration": 11,
        "start_time": "2023-12-28T16:21:26.876Z"
      },
      {
        "duration": 6,
        "start_time": "2023-12-28T16:21:26.915Z"
      },
      {
        "duration": 12,
        "start_time": "2023-12-28T16:21:26.922Z"
      },
      {
        "duration": 214,
        "start_time": "2023-12-28T16:21:26.936Z"
      },
      {
        "duration": 133,
        "start_time": "2023-12-28T16:21:27.153Z"
      },
      {
        "duration": 335,
        "start_time": "2023-12-28T16:21:27.288Z"
      },
      {
        "duration": 201,
        "start_time": "2023-12-28T16:21:27.625Z"
      },
      {
        "duration": 180,
        "start_time": "2023-12-28T16:21:27.828Z"
      },
      {
        "duration": 21,
        "start_time": "2023-12-28T16:21:28.009Z"
      },
      {
        "duration": 13,
        "start_time": "2023-12-28T16:21:28.032Z"
      },
      {
        "duration": 849,
        "start_time": "2023-12-28T16:21:28.047Z"
      },
      {
        "duration": 810,
        "start_time": "2023-12-28T16:21:28.897Z"
      },
      {
        "duration": 26,
        "start_time": "2023-12-28T16:21:29.708Z"
      },
      {
        "duration": 23,
        "start_time": "2023-12-28T16:21:43.939Z"
      },
      {
        "duration": 24,
        "start_time": "2023-12-28T16:22:00.543Z"
      },
      {
        "duration": 22,
        "start_time": "2023-12-28T16:22:57.866Z"
      },
      {
        "duration": 24,
        "start_time": "2023-12-28T16:23:34.190Z"
      },
      {
        "duration": 18,
        "start_time": "2023-12-28T16:24:14.060Z"
      },
      {
        "duration": 24,
        "start_time": "2023-12-28T16:24:26.256Z"
      },
      {
        "duration": 23,
        "start_time": "2023-12-28T16:24:32.330Z"
      },
      {
        "duration": 24,
        "start_time": "2023-12-28T16:30:53.975Z"
      },
      {
        "duration": 25,
        "start_time": "2023-12-28T16:31:18.569Z"
      },
      {
        "duration": 23,
        "start_time": "2023-12-28T16:31:24.052Z"
      },
      {
        "duration": 36,
        "start_time": "2023-12-28T16:39:50.400Z"
      },
      {
        "duration": 712,
        "start_time": "2023-12-28T16:39:54.224Z"
      },
      {
        "duration": 4,
        "start_time": "2023-12-28T16:40:04.915Z"
      },
      {
        "duration": 13,
        "start_time": "2023-12-28T16:40:13.073Z"
      },
      {
        "duration": 196,
        "start_time": "2023-12-28T16:40:19.212Z"
      },
      {
        "duration": 17,
        "start_time": "2023-12-28T16:40:19.410Z"
      },
      {
        "duration": 45,
        "start_time": "2023-12-28T16:40:19.428Z"
      },
      {
        "duration": 7,
        "start_time": "2023-12-28T16:40:19.474Z"
      },
      {
        "duration": 37,
        "start_time": "2023-12-28T16:40:19.482Z"
      },
      {
        "duration": 17,
        "start_time": "2023-12-28T16:40:19.520Z"
      },
      {
        "duration": 19,
        "start_time": "2023-12-28T16:40:19.538Z"
      },
      {
        "duration": 33,
        "start_time": "2023-12-28T16:40:19.558Z"
      },
      {
        "duration": 218,
        "start_time": "2023-12-28T16:40:19.592Z"
      },
      {
        "duration": 311,
        "start_time": "2023-12-28T16:40:19.815Z"
      },
      {
        "duration": 169,
        "start_time": "2023-12-28T16:40:20.127Z"
      },
      {
        "duration": 190,
        "start_time": "2023-12-28T16:40:20.298Z"
      },
      {
        "duration": 191,
        "start_time": "2023-12-28T16:40:20.490Z"
      },
      {
        "duration": 17,
        "start_time": "2023-12-28T16:40:20.682Z"
      },
      {
        "duration": 23,
        "start_time": "2023-12-28T16:40:20.701Z"
      },
      {
        "duration": 828,
        "start_time": "2023-12-28T16:40:20.726Z"
      },
      {
        "duration": 759,
        "start_time": "2023-12-28T16:40:21.555Z"
      },
      {
        "duration": 22,
        "start_time": "2023-12-28T16:40:22.316Z"
      },
      {
        "duration": 15,
        "start_time": "2023-12-28T16:40:22.339Z"
      },
      {
        "duration": 13,
        "start_time": "2023-12-28T16:40:45.430Z"
      },
      {
        "duration": 140,
        "start_time": "2023-12-28T17:23:51.896Z"
      },
      {
        "duration": 137,
        "start_time": "2023-12-28T17:24:00.426Z"
      },
      {
        "duration": 24,
        "start_time": "2023-12-28T17:24:00.565Z"
      },
      {
        "duration": 29,
        "start_time": "2023-12-28T17:24:00.592Z"
      },
      {
        "duration": 7,
        "start_time": "2023-12-28T17:24:00.624Z"
      },
      {
        "duration": 25,
        "start_time": "2023-12-28T17:24:00.633Z"
      },
      {
        "duration": 215,
        "start_time": "2023-12-28T17:24:00.659Z"
      },
      {
        "duration": 6,
        "start_time": "2023-12-28T17:24:00.875Z"
      },
      {
        "duration": 38,
        "start_time": "2023-12-28T17:24:00.883Z"
      },
      {
        "duration": 231,
        "start_time": "2023-12-28T17:24:00.922Z"
      },
      {
        "duration": 128,
        "start_time": "2023-12-28T17:24:01.155Z"
      },
      {
        "duration": 183,
        "start_time": "2023-12-28T17:24:01.285Z"
      },
      {
        "duration": 197,
        "start_time": "2023-12-28T17:24:01.469Z"
      },
      {
        "duration": 198,
        "start_time": "2023-12-28T17:24:01.668Z"
      },
      {
        "duration": 17,
        "start_time": "2023-12-28T17:24:01.868Z"
      },
      {
        "duration": 36,
        "start_time": "2023-12-28T17:24:01.887Z"
      },
      {
        "duration": 813,
        "start_time": "2023-12-28T17:24:01.924Z"
      },
      {
        "duration": 977,
        "start_time": "2023-12-28T17:24:02.738Z"
      },
      {
        "duration": 157,
        "start_time": "2023-12-28T17:24:03.717Z"
      },
      {
        "duration": 40,
        "start_time": "2023-12-28T17:24:03.876Z"
      },
      {
        "duration": 43,
        "start_time": "2023-12-28T17:24:03.917Z"
      },
      {
        "duration": 0,
        "start_time": "2023-12-28T17:24:03.962Z"
      },
      {
        "duration": 18,
        "start_time": "2023-12-28T17:24:20.352Z"
      },
      {
        "duration": 14,
        "start_time": "2023-12-28T17:24:28.269Z"
      },
      {
        "duration": 74,
        "start_time": "2023-12-28T17:24:39.591Z"
      },
      {
        "duration": 17,
        "start_time": "2023-12-28T17:24:39.666Z"
      },
      {
        "duration": 27,
        "start_time": "2023-12-28T17:24:39.684Z"
      },
      {
        "duration": 5,
        "start_time": "2023-12-28T17:24:39.713Z"
      },
      {
        "duration": 14,
        "start_time": "2023-12-28T17:24:39.720Z"
      },
      {
        "duration": 26,
        "start_time": "2023-12-28T17:24:39.735Z"
      },
      {
        "duration": 14,
        "start_time": "2023-12-28T17:24:39.763Z"
      },
      {
        "duration": 21,
        "start_time": "2023-12-28T17:24:39.779Z"
      },
      {
        "duration": 213,
        "start_time": "2023-12-28T17:24:39.801Z"
      },
      {
        "duration": 151,
        "start_time": "2023-12-28T17:24:40.016Z"
      },
      {
        "duration": 187,
        "start_time": "2023-12-28T17:24:40.168Z"
      },
      {
        "duration": 235,
        "start_time": "2023-12-28T17:24:40.357Z"
      },
      {
        "duration": 225,
        "start_time": "2023-12-28T17:24:40.593Z"
      },
      {
        "duration": 24,
        "start_time": "2023-12-28T17:24:40.821Z"
      },
      {
        "duration": 19,
        "start_time": "2023-12-28T17:24:40.847Z"
      },
      {
        "duration": 946,
        "start_time": "2023-12-28T17:24:40.868Z"
      },
      {
        "duration": 963,
        "start_time": "2023-12-28T17:24:41.816Z"
      },
      {
        "duration": 35,
        "start_time": "2023-12-28T17:24:42.781Z"
      },
      {
        "duration": 47,
        "start_time": "2023-12-28T17:24:42.817Z"
      },
      {
        "duration": 0,
        "start_time": "2023-12-28T17:24:42.865Z"
      },
      {
        "duration": 17,
        "start_time": "2023-12-28T17:26:37.587Z"
      },
      {
        "duration": 17,
        "start_time": "2023-12-28T17:26:50.587Z"
      },
      {
        "duration": 76,
        "start_time": "2023-12-28T17:26:54.343Z"
      },
      {
        "duration": 17,
        "start_time": "2023-12-28T17:26:54.421Z"
      },
      {
        "duration": 28,
        "start_time": "2023-12-28T17:26:54.440Z"
      },
      {
        "duration": 7,
        "start_time": "2023-12-28T17:26:54.471Z"
      },
      {
        "duration": 38,
        "start_time": "2023-12-28T17:26:54.479Z"
      },
      {
        "duration": 13,
        "start_time": "2023-12-28T17:26:54.519Z"
      },
      {
        "duration": 22,
        "start_time": "2023-12-28T17:26:54.534Z"
      },
      {
        "duration": 18,
        "start_time": "2023-12-28T17:26:54.558Z"
      },
      {
        "duration": 199,
        "start_time": "2023-12-28T17:26:54.578Z"
      },
      {
        "duration": 131,
        "start_time": "2023-12-28T17:26:54.779Z"
      },
      {
        "duration": 202,
        "start_time": "2023-12-28T17:26:54.915Z"
      },
      {
        "duration": 190,
        "start_time": "2023-12-28T17:26:55.119Z"
      },
      {
        "duration": 188,
        "start_time": "2023-12-28T17:26:55.311Z"
      },
      {
        "duration": 27,
        "start_time": "2023-12-28T17:26:55.501Z"
      },
      {
        "duration": 16,
        "start_time": "2023-12-28T17:26:55.530Z"
      },
      {
        "duration": 833,
        "start_time": "2023-12-28T17:26:55.548Z"
      },
      {
        "duration": 983,
        "start_time": "2023-12-28T17:26:56.383Z"
      },
      {
        "duration": 22,
        "start_time": "2023-12-28T17:26:57.367Z"
      },
      {
        "duration": 45,
        "start_time": "2023-12-28T17:26:57.391Z"
      },
      {
        "duration": 0,
        "start_time": "2023-12-28T17:26:57.437Z"
      },
      {
        "duration": 26,
        "start_time": "2023-12-28T17:27:31.082Z"
      },
      {
        "duration": 22,
        "start_time": "2023-12-28T17:27:41.813Z"
      },
      {
        "duration": 24,
        "start_time": "2023-12-28T17:28:42.432Z"
      },
      {
        "duration": 21,
        "start_time": "2023-12-28T17:28:51.089Z"
      },
      {
        "duration": 22,
        "start_time": "2023-12-28T17:28:58.153Z"
      },
      {
        "duration": 14,
        "start_time": "2023-12-28T17:29:07.256Z"
      },
      {
        "duration": 86,
        "start_time": "2023-12-28T17:29:17.473Z"
      },
      {
        "duration": 17,
        "start_time": "2023-12-28T17:29:17.561Z"
      },
      {
        "duration": 25,
        "start_time": "2023-12-28T17:29:17.579Z"
      },
      {
        "duration": 7,
        "start_time": "2023-12-28T17:29:17.605Z"
      },
      {
        "duration": 11,
        "start_time": "2023-12-28T17:29:17.614Z"
      },
      {
        "duration": 9,
        "start_time": "2023-12-28T17:29:17.626Z"
      },
      {
        "duration": 8,
        "start_time": "2023-12-28T17:29:17.637Z"
      },
      {
        "duration": 9,
        "start_time": "2023-12-28T17:29:17.647Z"
      },
      {
        "duration": 206,
        "start_time": "2023-12-28T17:29:17.658Z"
      },
      {
        "duration": 135,
        "start_time": "2023-12-28T17:29:17.866Z"
      },
      {
        "duration": 162,
        "start_time": "2023-12-28T17:29:18.003Z"
      },
      {
        "duration": 195,
        "start_time": "2023-12-28T17:29:18.167Z"
      },
      {
        "duration": 181,
        "start_time": "2023-12-28T17:29:18.363Z"
      },
      {
        "duration": 21,
        "start_time": "2023-12-28T17:29:18.547Z"
      },
      {
        "duration": 16,
        "start_time": "2023-12-28T17:29:18.570Z"
      },
      {
        "duration": 845,
        "start_time": "2023-12-28T17:29:18.587Z"
      },
      {
        "duration": 985,
        "start_time": "2023-12-28T17:29:19.433Z"
      },
      {
        "duration": 25,
        "start_time": "2023-12-28T17:29:20.419Z"
      },
      {
        "duration": 59,
        "start_time": "2023-12-28T17:29:20.446Z"
      },
      {
        "duration": 0,
        "start_time": "2023-12-28T17:29:20.506Z"
      },
      {
        "duration": 13,
        "start_time": "2023-12-28T17:29:29.199Z"
      },
      {
        "duration": 18,
        "start_time": "2023-12-28T17:30:07.876Z"
      },
      {
        "duration": 13,
        "start_time": "2023-12-28T17:30:12.382Z"
      },
      {
        "duration": 25,
        "start_time": "2023-12-28T17:30:33.755Z"
      },
      {
        "duration": 13,
        "start_time": "2023-12-28T17:30:48.887Z"
      },
      {
        "duration": 24,
        "start_time": "2023-12-28T17:31:22.411Z"
      },
      {
        "duration": 22,
        "start_time": "2023-12-28T17:31:48.263Z"
      },
      {
        "duration": 17,
        "start_time": "2023-12-28T17:32:04.718Z"
      },
      {
        "duration": 22,
        "start_time": "2023-12-28T17:35:42.892Z"
      },
      {
        "duration": 20,
        "start_time": "2023-12-28T17:37:50.231Z"
      },
      {
        "duration": 96,
        "start_time": "2023-12-28T17:38:08.798Z"
      },
      {
        "duration": 19,
        "start_time": "2023-12-28T17:38:08.897Z"
      },
      {
        "duration": 27,
        "start_time": "2023-12-28T17:38:08.917Z"
      },
      {
        "duration": 6,
        "start_time": "2023-12-28T17:38:08.945Z"
      },
      {
        "duration": 11,
        "start_time": "2023-12-28T17:38:08.953Z"
      },
      {
        "duration": 10,
        "start_time": "2023-12-28T17:38:08.965Z"
      },
      {
        "duration": 12,
        "start_time": "2023-12-28T17:38:08.977Z"
      },
      {
        "duration": 9,
        "start_time": "2023-12-28T17:38:09.014Z"
      },
      {
        "duration": 205,
        "start_time": "2023-12-28T17:38:09.024Z"
      },
      {
        "duration": 127,
        "start_time": "2023-12-28T17:38:09.230Z"
      },
      {
        "duration": 168,
        "start_time": "2023-12-28T17:38:09.358Z"
      },
      {
        "duration": 187,
        "start_time": "2023-12-28T17:38:09.527Z"
      },
      {
        "duration": 175,
        "start_time": "2023-12-28T17:38:09.716Z"
      },
      {
        "duration": 28,
        "start_time": "2023-12-28T17:38:09.893Z"
      },
      {
        "duration": 78,
        "start_time": "2023-12-28T17:38:09.922Z"
      },
      {
        "duration": 845,
        "start_time": "2023-12-28T17:38:10.002Z"
      },
      {
        "duration": 985,
        "start_time": "2023-12-28T17:38:10.849Z"
      },
      {
        "duration": 24,
        "start_time": "2023-12-28T17:38:11.836Z"
      },
      {
        "duration": 20,
        "start_time": "2023-12-28T17:38:11.861Z"
      },
      {
        "duration": 46,
        "start_time": "2023-12-28T17:38:11.883Z"
      },
      {
        "duration": 0,
        "start_time": "2023-12-28T17:38:11.931Z"
      },
      {
        "duration": 20,
        "start_time": "2023-12-28T17:38:19.790Z"
      },
      {
        "duration": 23,
        "start_time": "2023-12-28T17:38:26.588Z"
      },
      {
        "duration": 16,
        "start_time": "2023-12-28T17:38:38.383Z"
      },
      {
        "duration": 74,
        "start_time": "2023-12-28T17:38:42.079Z"
      },
      {
        "duration": 17,
        "start_time": "2023-12-28T17:38:42.155Z"
      },
      {
        "duration": 24,
        "start_time": "2023-12-28T17:38:42.174Z"
      },
      {
        "duration": 6,
        "start_time": "2023-12-28T17:38:42.199Z"
      },
      {
        "duration": 9,
        "start_time": "2023-12-28T17:38:42.207Z"
      },
      {
        "duration": 7,
        "start_time": "2023-12-28T17:38:42.217Z"
      },
      {
        "duration": 5,
        "start_time": "2023-12-28T17:38:42.225Z"
      },
      {
        "duration": 7,
        "start_time": "2023-12-28T17:38:42.231Z"
      },
      {
        "duration": 211,
        "start_time": "2023-12-28T17:38:42.240Z"
      },
      {
        "duration": 131,
        "start_time": "2023-12-28T17:38:42.452Z"
      },
      {
        "duration": 158,
        "start_time": "2023-12-28T17:38:42.584Z"
      },
      {
        "duration": 186,
        "start_time": "2023-12-28T17:38:42.743Z"
      },
      {
        "duration": 195,
        "start_time": "2023-12-28T17:38:42.931Z"
      },
      {
        "duration": 22,
        "start_time": "2023-12-28T17:38:43.129Z"
      },
      {
        "duration": 18,
        "start_time": "2023-12-28T17:38:43.153Z"
      },
      {
        "duration": 830,
        "start_time": "2023-12-28T17:38:43.172Z"
      },
      {
        "duration": 992,
        "start_time": "2023-12-28T17:38:44.014Z"
      },
      {
        "duration": 23,
        "start_time": "2023-12-28T17:38:45.015Z"
      },
      {
        "duration": 60,
        "start_time": "2023-12-28T17:38:45.040Z"
      },
      {
        "duration": 55,
        "start_time": "2023-12-28T17:38:45.102Z"
      },
      {
        "duration": 0,
        "start_time": "2023-12-28T17:38:45.158Z"
      },
      {
        "duration": 30,
        "start_time": "2023-12-28T17:39:12.963Z"
      },
      {
        "duration": 32,
        "start_time": "2023-12-28T17:39:32.579Z"
      },
      {
        "duration": 22,
        "start_time": "2023-12-28T17:39:40.681Z"
      },
      {
        "duration": 21,
        "start_time": "2023-12-28T17:40:06.389Z"
      },
      {
        "duration": 24,
        "start_time": "2023-12-28T17:40:08.339Z"
      },
      {
        "duration": 29,
        "start_time": "2023-12-28T17:40:18.109Z"
      },
      {
        "duration": 21,
        "start_time": "2023-12-28T17:40:24.893Z"
      },
      {
        "duration": 30,
        "start_time": "2023-12-28T17:40:37.619Z"
      },
      {
        "duration": 29,
        "start_time": "2023-12-28T17:41:19.737Z"
      },
      {
        "duration": 22,
        "start_time": "2023-12-28T17:41:22.692Z"
      },
      {
        "duration": 24,
        "start_time": "2023-12-28T17:41:29.845Z"
      },
      {
        "duration": 31,
        "start_time": "2023-12-28T17:41:35.729Z"
      },
      {
        "duration": 25,
        "start_time": "2023-12-28T17:41:40.623Z"
      },
      {
        "duration": 69,
        "start_time": "2023-12-28T17:44:04.338Z"
      },
      {
        "duration": 73,
        "start_time": "2023-12-28T17:44:29.853Z"
      },
      {
        "duration": 18,
        "start_time": "2023-12-28T17:47:15.956Z"
      },
      {
        "duration": 7,
        "start_time": "2023-12-28T17:48:23.463Z"
      },
      {
        "duration": 18,
        "start_time": "2023-12-28T17:48:27.394Z"
      },
      {
        "duration": 18,
        "start_time": "2023-12-28T17:48:30.988Z"
      },
      {
        "duration": 26,
        "start_time": "2023-12-28T17:48:56.142Z"
      },
      {
        "duration": 17,
        "start_time": "2023-12-28T17:57:13.579Z"
      },
      {
        "duration": 24,
        "start_time": "2023-12-28T17:59:27.064Z"
      },
      {
        "duration": 9,
        "start_time": "2023-12-28T18:13:23.311Z"
      },
      {
        "duration": 30,
        "start_time": "2023-12-28T18:13:44.080Z"
      },
      {
        "duration": 17,
        "start_time": "2023-12-28T18:14:52.617Z"
      },
      {
        "duration": 20,
        "start_time": "2023-12-28T18:15:00.218Z"
      },
      {
        "duration": 28,
        "start_time": "2023-12-28T18:15:09.682Z"
      },
      {
        "duration": 24,
        "start_time": "2023-12-28T18:15:20.500Z"
      },
      {
        "duration": 665,
        "start_time": "2023-12-28T18:25:48.903Z"
      },
      {
        "duration": 13,
        "start_time": "2023-12-28T18:35:28.488Z"
      },
      {
        "duration": 27,
        "start_time": "2023-12-28T18:35:45.051Z"
      },
      {
        "duration": 11,
        "start_time": "2023-12-28T18:36:03.229Z"
      },
      {
        "duration": 11,
        "start_time": "2023-12-28T18:36:21.804Z"
      },
      {
        "duration": 12,
        "start_time": "2023-12-28T18:37:35.672Z"
      },
      {
        "duration": 11,
        "start_time": "2023-12-28T18:37:52.195Z"
      },
      {
        "duration": 12,
        "start_time": "2023-12-28T18:39:13.441Z"
      },
      {
        "duration": 12,
        "start_time": "2023-12-28T18:40:17.480Z"
      },
      {
        "duration": 12,
        "start_time": "2023-12-28T18:40:30.397Z"
      },
      {
        "duration": 11,
        "start_time": "2023-12-28T18:40:42.253Z"
      },
      {
        "duration": 11,
        "start_time": "2023-12-28T18:40:51.548Z"
      },
      {
        "duration": 12,
        "start_time": "2023-12-28T18:40:59.646Z"
      },
      {
        "duration": 12,
        "start_time": "2023-12-28T18:42:08.826Z"
      },
      {
        "duration": 8,
        "start_time": "2023-12-28T18:42:12.865Z"
      },
      {
        "duration": 10,
        "start_time": "2023-12-28T18:42:16.981Z"
      },
      {
        "duration": 4,
        "start_time": "2023-12-28T18:42:30.672Z"
      },
      {
        "duration": 4,
        "start_time": "2023-12-28T18:42:40.312Z"
      },
      {
        "duration": 8,
        "start_time": "2023-12-28T18:43:00.431Z"
      },
      {
        "duration": 8,
        "start_time": "2023-12-28T18:43:07.006Z"
      },
      {
        "duration": 8,
        "start_time": "2023-12-28T18:43:15.165Z"
      },
      {
        "duration": 5,
        "start_time": "2023-12-28T18:43:18.679Z"
      },
      {
        "duration": 4,
        "start_time": "2023-12-28T18:43:36.441Z"
      },
      {
        "duration": 4,
        "start_time": "2023-12-28T18:43:38.688Z"
      },
      {
        "duration": 14,
        "start_time": "2023-12-28T18:43:45.474Z"
      },
      {
        "duration": 15,
        "start_time": "2023-12-28T18:44:04.219Z"
      },
      {
        "duration": 17,
        "start_time": "2023-12-28T18:44:07.514Z"
      },
      {
        "duration": 3,
        "start_time": "2023-12-28T18:44:11.287Z"
      },
      {
        "duration": 345,
        "start_time": "2023-12-28T18:44:15.108Z"
      },
      {
        "duration": 17,
        "start_time": "2023-12-28T18:44:15.455Z"
      },
      {
        "duration": 27,
        "start_time": "2023-12-28T18:44:15.473Z"
      },
      {
        "duration": 6,
        "start_time": "2023-12-28T18:44:15.502Z"
      },
      {
        "duration": 5,
        "start_time": "2023-12-28T18:44:15.510Z"
      },
      {
        "duration": 7,
        "start_time": "2023-12-28T18:44:15.517Z"
      },
      {
        "duration": 5,
        "start_time": "2023-12-28T18:44:15.526Z"
      },
      {
        "duration": 7,
        "start_time": "2023-12-28T18:44:15.533Z"
      },
      {
        "duration": 219,
        "start_time": "2023-12-28T18:44:15.541Z"
      },
      {
        "duration": 126,
        "start_time": "2023-12-28T18:44:15.763Z"
      },
      {
        "duration": 167,
        "start_time": "2023-12-28T18:44:15.891Z"
      },
      {
        "duration": 197,
        "start_time": "2023-12-28T18:44:16.059Z"
      },
      {
        "duration": 189,
        "start_time": "2023-12-28T18:44:16.257Z"
      },
      {
        "duration": 21,
        "start_time": "2023-12-28T18:44:16.448Z"
      },
      {
        "duration": 22,
        "start_time": "2023-12-28T18:44:16.471Z"
      },
      {
        "duration": 802,
        "start_time": "2023-12-28T18:44:16.495Z"
      },
      {
        "duration": 979,
        "start_time": "2023-12-28T18:44:17.299Z"
      },
      {
        "duration": 707,
        "start_time": "2023-12-28T18:44:18.279Z"
      },
      {
        "duration": 0,
        "start_time": "2023-12-28T18:44:18.987Z"
      },
      {
        "duration": 0,
        "start_time": "2023-12-28T18:44:18.988Z"
      },
      {
        "duration": 0,
        "start_time": "2023-12-28T18:44:18.989Z"
      },
      {
        "duration": 0,
        "start_time": "2023-12-28T18:44:18.989Z"
      },
      {
        "duration": 4,
        "start_time": "2023-12-28T18:44:21.844Z"
      },
      {
        "duration": 4,
        "start_time": "2023-12-28T18:44:24.818Z"
      },
      {
        "duration": 3,
        "start_time": "2023-12-28T18:44:27.150Z"
      },
      {
        "duration": 16,
        "start_time": "2023-12-28T18:44:33.356Z"
      },
      {
        "duration": 12,
        "start_time": "2023-12-28T18:45:12.714Z"
      },
      {
        "duration": 16,
        "start_time": "2023-12-28T18:45:19.399Z"
      },
      {
        "duration": 15,
        "start_time": "2023-12-28T18:45:27.653Z"
      },
      {
        "duration": 108,
        "start_time": "2023-12-28T18:45:30.418Z"
      },
      {
        "duration": 19,
        "start_time": "2023-12-28T18:45:30.528Z"
      },
      {
        "duration": 43,
        "start_time": "2023-12-28T18:45:30.549Z"
      },
      {
        "duration": 9,
        "start_time": "2023-12-28T18:45:30.594Z"
      },
      {
        "duration": 58,
        "start_time": "2023-12-28T18:45:30.605Z"
      },
      {
        "duration": 24,
        "start_time": "2023-12-28T18:45:30.665Z"
      },
      {
        "duration": 31,
        "start_time": "2023-12-28T18:45:30.691Z"
      },
      {
        "duration": 37,
        "start_time": "2023-12-28T18:45:30.724Z"
      },
      {
        "duration": 227,
        "start_time": "2023-12-28T18:45:30.763Z"
      },
      {
        "duration": 142,
        "start_time": "2023-12-28T18:45:30.993Z"
      },
      {
        "duration": 176,
        "start_time": "2023-12-28T18:45:31.136Z"
      },
      {
        "duration": 202,
        "start_time": "2023-12-28T18:45:31.315Z"
      },
      {
        "duration": 191,
        "start_time": "2023-12-28T18:45:31.519Z"
      },
      {
        "duration": 22,
        "start_time": "2023-12-28T18:45:31.714Z"
      },
      {
        "duration": 32,
        "start_time": "2023-12-28T18:45:31.738Z"
      },
      {
        "duration": 863,
        "start_time": "2023-12-28T18:45:31.772Z"
      },
      {
        "duration": 1009,
        "start_time": "2023-12-28T18:45:32.637Z"
      },
      {
        "duration": 720,
        "start_time": "2023-12-28T18:45:33.648Z"
      },
      {
        "duration": 0,
        "start_time": "2023-12-28T18:45:34.369Z"
      },
      {
        "duration": 0,
        "start_time": "2023-12-28T18:45:34.371Z"
      },
      {
        "duration": 0,
        "start_time": "2023-12-28T18:45:34.372Z"
      },
      {
        "duration": 0,
        "start_time": "2023-12-28T18:45:34.373Z"
      },
      {
        "duration": 16,
        "start_time": "2023-12-28T18:45:38.369Z"
      },
      {
        "duration": 17,
        "start_time": "2023-12-28T18:45:59.307Z"
      },
      {
        "duration": 14,
        "start_time": "2023-12-28T18:46:07.368Z"
      },
      {
        "duration": 13,
        "start_time": "2023-12-28T18:46:11.794Z"
      },
      {
        "duration": 1173,
        "start_time": "2023-12-28T18:46:23.227Z"
      },
      {
        "duration": 32,
        "start_time": "2023-12-28T18:46:24.403Z"
      },
      {
        "duration": 30,
        "start_time": "2023-12-28T18:46:24.437Z"
      },
      {
        "duration": 6,
        "start_time": "2023-12-28T18:46:24.469Z"
      },
      {
        "duration": 9,
        "start_time": "2023-12-28T18:46:24.477Z"
      },
      {
        "duration": 33,
        "start_time": "2023-12-28T18:46:24.488Z"
      },
      {
        "duration": 7,
        "start_time": "2023-12-28T18:46:24.523Z"
      },
      {
        "duration": 8,
        "start_time": "2023-12-28T18:46:24.532Z"
      },
      {
        "duration": 229,
        "start_time": "2023-12-28T18:46:24.541Z"
      },
      {
        "duration": 134,
        "start_time": "2023-12-28T18:46:24.772Z"
      },
      {
        "duration": 176,
        "start_time": "2023-12-28T18:46:24.907Z"
      },
      {
        "duration": 189,
        "start_time": "2023-12-28T18:46:25.085Z"
      },
      {
        "duration": 182,
        "start_time": "2023-12-28T18:46:25.276Z"
      },
      {
        "duration": 22,
        "start_time": "2023-12-28T18:46:25.459Z"
      },
      {
        "duration": 36,
        "start_time": "2023-12-28T18:46:25.483Z"
      },
      {
        "duration": 972,
        "start_time": "2023-12-28T18:46:25.520Z"
      },
      {
        "duration": 776,
        "start_time": "2023-12-28T18:46:26.493Z"
      },
      {
        "duration": 97,
        "start_time": "2023-12-28T18:46:27.271Z"
      },
      {
        "duration": 0,
        "start_time": "2023-12-28T18:46:27.370Z"
      },
      {
        "duration": 0,
        "start_time": "2023-12-28T18:46:27.371Z"
      },
      {
        "duration": 0,
        "start_time": "2023-12-28T18:46:27.372Z"
      },
      {
        "duration": 0,
        "start_time": "2023-12-28T18:46:27.373Z"
      },
      {
        "duration": 0,
        "start_time": "2023-12-28T18:46:27.374Z"
      },
      {
        "duration": 8,
        "start_time": "2023-12-28T18:46:31.817Z"
      },
      {
        "duration": 3,
        "start_time": "2023-12-28T18:46:34.719Z"
      },
      {
        "duration": 16,
        "start_time": "2023-12-28T18:46:36.300Z"
      },
      {
        "duration": 4,
        "start_time": "2023-12-28T18:46:41.943Z"
      },
      {
        "duration": 14,
        "start_time": "2023-12-28T18:46:47.235Z"
      },
      {
        "duration": 28,
        "start_time": "2023-12-28T18:48:23.829Z"
      },
      {
        "duration": 26,
        "start_time": "2023-12-28T18:49:16.781Z"
      },
      {
        "duration": 11,
        "start_time": "2023-12-28T18:49:29.983Z"
      },
      {
        "duration": 20,
        "start_time": "2023-12-28T18:49:43.706Z"
      },
      {
        "duration": 30,
        "start_time": "2023-12-28T18:50:23.033Z"
      },
      {
        "duration": 27,
        "start_time": "2023-12-28T18:50:39.186Z"
      },
      {
        "duration": 31,
        "start_time": "2023-12-28T18:51:06.056Z"
      },
      {
        "duration": 41,
        "start_time": "2023-12-28T18:51:19.409Z"
      },
      {
        "duration": 22,
        "start_time": "2023-12-28T18:52:08.466Z"
      },
      {
        "duration": 25,
        "start_time": "2023-12-28T18:52:27.708Z"
      },
      {
        "duration": 30,
        "start_time": "2023-12-28T18:52:52.972Z"
      },
      {
        "duration": 24,
        "start_time": "2023-12-28T18:53:34.326Z"
      },
      {
        "duration": 19,
        "start_time": "2023-12-28T18:53:53.301Z"
      },
      {
        "duration": 23,
        "start_time": "2023-12-28T18:54:11.471Z"
      },
      {
        "duration": 23,
        "start_time": "2023-12-28T18:56:53.019Z"
      },
      {
        "duration": 56,
        "start_time": "2023-12-28T18:57:23.487Z"
      },
      {
        "duration": 51,
        "start_time": "2023-12-28T18:57:31.764Z"
      },
      {
        "duration": 55,
        "start_time": "2023-12-28T18:57:47.233Z"
      },
      {
        "duration": 63,
        "start_time": "2023-12-28T18:57:54.984Z"
      },
      {
        "duration": 26,
        "start_time": "2023-12-28T18:58:04.920Z"
      },
      {
        "duration": 23,
        "start_time": "2023-12-28T18:59:02.890Z"
      },
      {
        "duration": 54,
        "start_time": "2023-12-28T19:01:01.052Z"
      },
      {
        "duration": 59,
        "start_time": "2023-12-28T19:01:15.924Z"
      },
      {
        "duration": 50,
        "start_time": "2023-12-28T19:02:11.652Z"
      },
      {
        "duration": 47,
        "start_time": "2023-12-28T19:02:36.794Z"
      },
      {
        "duration": 46,
        "start_time": "2023-12-28T19:02:45.207Z"
      },
      {
        "duration": 43,
        "start_time": "2023-12-28T19:03:03.445Z"
      },
      {
        "duration": 45,
        "start_time": "2023-12-28T19:03:14.503Z"
      },
      {
        "duration": 25,
        "start_time": "2023-12-28T19:03:37.205Z"
      },
      {
        "duration": 42,
        "start_time": "2023-12-28T19:04:23.897Z"
      },
      {
        "duration": 24,
        "start_time": "2023-12-28T19:04:36.824Z"
      },
      {
        "duration": 23,
        "start_time": "2023-12-28T19:05:46.597Z"
      },
      {
        "duration": 24,
        "start_time": "2023-12-28T19:08:15.367Z"
      },
      {
        "duration": 31,
        "start_time": "2023-12-28T19:09:04.315Z"
      },
      {
        "duration": 28,
        "start_time": "2023-12-28T19:09:21.969Z"
      },
      {
        "duration": 27,
        "start_time": "2023-12-28T19:10:59.157Z"
      },
      {
        "duration": 139,
        "start_time": "2023-12-28T19:26:05.528Z"
      },
      {
        "duration": 5,
        "start_time": "2023-12-28T19:26:42.075Z"
      },
      {
        "duration": 4,
        "start_time": "2023-12-28T19:26:44.677Z"
      },
      {
        "duration": 140,
        "start_time": "2023-12-28T19:28:29.581Z"
      },
      {
        "duration": 139,
        "start_time": "2023-12-28T19:35:05.255Z"
      },
      {
        "duration": 150,
        "start_time": "2023-12-28T19:36:04.951Z"
      },
      {
        "duration": 6,
        "start_time": "2023-12-28T19:44:04.734Z"
      },
      {
        "duration": 47,
        "start_time": "2023-12-30T13:04:47.590Z"
      },
      {
        "duration": 7,
        "start_time": "2023-12-30T13:04:50.737Z"
      },
      {
        "duration": 1836,
        "start_time": "2023-12-30T13:05:01.979Z"
      },
      {
        "duration": 22,
        "start_time": "2023-12-30T13:05:03.817Z"
      },
      {
        "duration": 29,
        "start_time": "2023-12-30T13:05:03.840Z"
      },
      {
        "duration": 8,
        "start_time": "2023-12-30T13:05:03.870Z"
      },
      {
        "duration": 20,
        "start_time": "2023-12-30T13:05:03.880Z"
      },
      {
        "duration": 24,
        "start_time": "2023-12-30T13:05:03.902Z"
      },
      {
        "duration": 26,
        "start_time": "2023-12-30T13:05:03.928Z"
      },
      {
        "duration": 29,
        "start_time": "2023-12-30T13:05:03.956Z"
      },
      {
        "duration": 243,
        "start_time": "2023-12-30T13:05:03.987Z"
      },
      {
        "duration": 138,
        "start_time": "2023-12-30T13:05:04.232Z"
      },
      {
        "duration": 173,
        "start_time": "2023-12-30T13:05:04.372Z"
      },
      {
        "duration": 219,
        "start_time": "2023-12-30T13:05:04.546Z"
      },
      {
        "duration": 227,
        "start_time": "2023-12-30T13:05:04.766Z"
      },
      {
        "duration": 29,
        "start_time": "2023-12-30T13:05:04.995Z"
      },
      {
        "duration": 27,
        "start_time": "2023-12-30T13:05:05.026Z"
      },
      {
        "duration": 1028,
        "start_time": "2023-12-30T13:05:05.054Z"
      },
      {
        "duration": 811,
        "start_time": "2023-12-30T13:05:06.084Z"
      },
      {
        "duration": 33,
        "start_time": "2023-12-30T13:05:06.897Z"
      },
      {
        "duration": 23,
        "start_time": "2023-12-30T13:05:06.931Z"
      },
      {
        "duration": 31,
        "start_time": "2023-12-30T13:05:06.956Z"
      },
      {
        "duration": 6,
        "start_time": "2023-12-30T13:05:06.989Z"
      },
      {
        "duration": 5,
        "start_time": "2023-12-30T13:05:46.977Z"
      },
      {
        "duration": 5,
        "start_time": "2023-12-30T13:06:04.993Z"
      },
      {
        "duration": 6,
        "start_time": "2023-12-30T13:06:08.448Z"
      },
      {
        "duration": 602,
        "start_time": "2023-12-30T13:08:31.142Z"
      },
      {
        "duration": 706,
        "start_time": "2023-12-30T13:09:03.591Z"
      },
      {
        "duration": 223,
        "start_time": "2023-12-30T13:09:18.907Z"
      },
      {
        "duration": 144,
        "start_time": "2023-12-30T13:09:41.813Z"
      },
      {
        "duration": 386,
        "start_time": "2023-12-30T13:09:51.903Z"
      },
      {
        "duration": 3,
        "start_time": "2023-12-30T13:10:07.779Z"
      },
      {
        "duration": 443,
        "start_time": "2023-12-30T13:10:12.790Z"
      },
      {
        "duration": 250,
        "start_time": "2023-12-30T13:10:23.183Z"
      },
      {
        "duration": 6,
        "start_time": "2023-12-30T13:28:19.324Z"
      },
      {
        "duration": 5,
        "start_time": "2023-12-30T13:28:51.990Z"
      },
      {
        "duration": 254,
        "start_time": "2023-12-30T13:36:44.539Z"
      },
      {
        "duration": 252,
        "start_time": "2023-12-30T13:36:55.210Z"
      },
      {
        "duration": 253,
        "start_time": "2023-12-30T13:37:00.656Z"
      },
      {
        "duration": 352,
        "start_time": "2023-12-30T13:37:03.604Z"
      },
      {
        "duration": 255,
        "start_time": "2023-12-30T13:58:38.780Z"
      },
      {
        "duration": 7,
        "start_time": "2023-12-30T14:00:23.424Z"
      },
      {
        "duration": 6,
        "start_time": "2023-12-30T14:00:32.630Z"
      },
      {
        "duration": 6,
        "start_time": "2023-12-30T14:14:14.158Z"
      },
      {
        "duration": 5,
        "start_time": "2023-12-30T14:14:20.257Z"
      },
      {
        "duration": 49,
        "start_time": "2023-12-30T15:57:45.145Z"
      },
      {
        "duration": 1479,
        "start_time": "2023-12-30T15:58:48.756Z"
      },
      {
        "duration": 20,
        "start_time": "2023-12-30T15:58:50.237Z"
      },
      {
        "duration": 25,
        "start_time": "2023-12-30T15:58:50.258Z"
      },
      {
        "duration": 6,
        "start_time": "2023-12-30T15:58:50.285Z"
      },
      {
        "duration": 13,
        "start_time": "2023-12-30T15:58:50.293Z"
      },
      {
        "duration": 9,
        "start_time": "2023-12-30T15:58:50.308Z"
      },
      {
        "duration": 4,
        "start_time": "2023-12-30T15:58:50.319Z"
      },
      {
        "duration": 8,
        "start_time": "2023-12-30T15:58:50.325Z"
      },
      {
        "duration": 211,
        "start_time": "2023-12-30T15:58:50.365Z"
      },
      {
        "duration": 122,
        "start_time": "2023-12-30T15:58:50.579Z"
      },
      {
        "duration": 164,
        "start_time": "2023-12-30T15:58:50.703Z"
      },
      {
        "duration": 181,
        "start_time": "2023-12-30T15:58:50.869Z"
      },
      {
        "duration": 178,
        "start_time": "2023-12-30T15:58:51.052Z"
      },
      {
        "duration": 23,
        "start_time": "2023-12-30T15:58:51.231Z"
      },
      {
        "duration": 26,
        "start_time": "2023-12-30T15:58:51.266Z"
      },
      {
        "duration": 940,
        "start_time": "2023-12-30T15:58:51.293Z"
      },
      {
        "duration": 808,
        "start_time": "2023-12-30T15:58:52.234Z"
      },
      {
        "duration": 31,
        "start_time": "2023-12-30T15:58:53.044Z"
      },
      {
        "duration": 22,
        "start_time": "2023-12-30T15:58:53.076Z"
      },
      {
        "duration": 27,
        "start_time": "2023-12-30T15:58:53.100Z"
      },
      {
        "duration": 112,
        "start_time": "2023-12-30T15:58:53.129Z"
      },
      {
        "duration": 0,
        "start_time": "2023-12-30T15:58:53.243Z"
      },
      {
        "duration": 0,
        "start_time": "2023-12-30T15:58:53.244Z"
      },
      {
        "duration": 0,
        "start_time": "2023-12-30T15:58:53.246Z"
      },
      {
        "duration": 5,
        "start_time": "2023-12-30T15:59:17.954Z"
      },
      {
        "duration": 5,
        "start_time": "2023-12-30T16:00:48.642Z"
      },
      {
        "duration": 242,
        "start_time": "2023-12-30T16:02:01.027Z"
      },
      {
        "duration": 5,
        "start_time": "2023-12-30T16:04:01.408Z"
      },
      {
        "duration": 5,
        "start_time": "2023-12-30T16:04:09.437Z"
      },
      {
        "duration": 5,
        "start_time": "2023-12-30T16:04:16.836Z"
      },
      {
        "duration": 57,
        "start_time": "2024-01-01T09:59:45.927Z"
      },
      {
        "duration": 1492,
        "start_time": "2024-01-01T09:59:56.184Z"
      },
      {
        "duration": 22,
        "start_time": "2024-01-01T09:59:57.679Z"
      },
      {
        "duration": 26,
        "start_time": "2024-01-01T09:59:57.703Z"
      },
      {
        "duration": 8,
        "start_time": "2024-01-01T09:59:57.731Z"
      },
      {
        "duration": 28,
        "start_time": "2024-01-01T09:59:57.741Z"
      },
      {
        "duration": 12,
        "start_time": "2024-01-01T09:59:57.770Z"
      },
      {
        "duration": 6,
        "start_time": "2024-01-01T09:59:57.784Z"
      },
      {
        "duration": 9,
        "start_time": "2024-01-01T09:59:57.792Z"
      },
      {
        "duration": 226,
        "start_time": "2024-01-01T09:59:57.803Z"
      },
      {
        "duration": 123,
        "start_time": "2024-01-01T09:59:58.032Z"
      },
      {
        "duration": 172,
        "start_time": "2024-01-01T09:59:58.157Z"
      },
      {
        "duration": 207,
        "start_time": "2024-01-01T09:59:58.331Z"
      },
      {
        "duration": 181,
        "start_time": "2024-01-01T09:59:58.539Z"
      },
      {
        "duration": 22,
        "start_time": "2024-01-01T09:59:58.721Z"
      },
      {
        "duration": 44,
        "start_time": "2024-01-01T09:59:58.745Z"
      },
      {
        "duration": 787,
        "start_time": "2024-01-01T09:59:58.791Z"
      },
      {
        "duration": 833,
        "start_time": "2024-01-01T09:59:59.579Z"
      },
      {
        "duration": 24,
        "start_time": "2024-01-01T10:00:00.414Z"
      },
      {
        "duration": 55,
        "start_time": "2024-01-01T10:00:00.440Z"
      },
      {
        "duration": 35,
        "start_time": "2024-01-01T10:00:00.496Z"
      },
      {
        "duration": 56,
        "start_time": "2024-01-01T10:00:00.532Z"
      },
      {
        "duration": 291,
        "start_time": "2024-01-01T10:00:00.590Z"
      },
      {
        "duration": 74,
        "start_time": "2024-01-01T10:00:00.883Z"
      },
      {
        "duration": 0,
        "start_time": "2024-01-01T10:00:00.958Z"
      },
      {
        "duration": 246,
        "start_time": "2024-01-01T10:00:25.509Z"
      },
      {
        "duration": 124,
        "start_time": "2024-01-01T10:14:21.576Z"
      },
      {
        "duration": 253,
        "start_time": "2024-01-01T10:14:32.326Z"
      },
      {
        "duration": 5,
        "start_time": "2024-01-01T10:14:35.639Z"
      },
      {
        "duration": 7,
        "start_time": "2024-01-01T11:11:38.955Z"
      },
      {
        "duration": 6,
        "start_time": "2024-01-01T13:24:56.312Z"
      },
      {
        "duration": 5,
        "start_time": "2024-01-01T13:25:48.491Z"
      },
      {
        "duration": 5,
        "start_time": "2024-01-01T13:26:22.988Z"
      },
      {
        "duration": 5,
        "start_time": "2024-01-01T13:26:35.714Z"
      },
      {
        "duration": 4,
        "start_time": "2024-01-01T13:31:09.700Z"
      },
      {
        "duration": 4,
        "start_time": "2024-01-01T13:31:24.316Z"
      },
      {
        "duration": 7,
        "start_time": "2024-01-01T13:31:49.008Z"
      },
      {
        "duration": 6,
        "start_time": "2024-01-01T13:32:36.990Z"
      },
      {
        "duration": 5,
        "start_time": "2024-01-01T13:34:33.253Z"
      },
      {
        "duration": 5,
        "start_time": "2024-01-01T13:43:58.668Z"
      },
      {
        "duration": 6,
        "start_time": "2024-01-01T13:45:01.788Z"
      },
      {
        "duration": 335,
        "start_time": "2024-01-01T13:47:03.484Z"
      },
      {
        "duration": 234,
        "start_time": "2024-01-01T13:47:17.918Z"
      },
      {
        "duration": 78,
        "start_time": "2024-01-01T13:49:17.136Z"
      },
      {
        "duration": 5,
        "start_time": "2024-01-01T13:49:45.328Z"
      },
      {
        "duration": 3,
        "start_time": "2024-01-01T13:58:02.259Z"
      },
      {
        "duration": 8,
        "start_time": "2024-01-01T14:01:05.905Z"
      },
      {
        "duration": 167,
        "start_time": "2024-01-01T14:01:46.997Z"
      },
      {
        "duration": 4,
        "start_time": "2024-01-01T14:02:24.884Z"
      },
      {
        "duration": 5,
        "start_time": "2024-01-01T14:11:49.452Z"
      },
      {
        "duration": 6,
        "start_time": "2024-01-01T14:12:18.901Z"
      },
      {
        "duration": 5,
        "start_time": "2024-01-01T14:12:39.836Z"
      },
      {
        "duration": 4,
        "start_time": "2024-01-01T14:16:49.832Z"
      },
      {
        "duration": 71,
        "start_time": "2024-01-01T14:18:22.391Z"
      },
      {
        "duration": 218,
        "start_time": "2024-01-01T14:19:43.336Z"
      },
      {
        "duration": 5,
        "start_time": "2024-01-01T14:19:46.685Z"
      },
      {
        "duration": 5,
        "start_time": "2024-01-01T14:19:56.972Z"
      },
      {
        "duration": 7,
        "start_time": "2024-01-01T14:31:20.708Z"
      },
      {
        "duration": 8,
        "start_time": "2024-01-01T14:31:31.309Z"
      },
      {
        "duration": 4,
        "start_time": "2024-01-01T14:31:47.782Z"
      },
      {
        "duration": 7,
        "start_time": "2024-01-01T14:32:00.980Z"
      },
      {
        "duration": 7,
        "start_time": "2024-01-01T14:32:22.178Z"
      },
      {
        "duration": 5,
        "start_time": "2024-01-01T14:34:00.483Z"
      },
      {
        "duration": 4,
        "start_time": "2024-01-01T14:34:21.066Z"
      },
      {
        "duration": 5,
        "start_time": "2024-01-01T15:43:33.019Z"
      },
      {
        "duration": 6,
        "start_time": "2024-01-01T15:48:35.689Z"
      },
      {
        "duration": 4,
        "start_time": "2024-01-01T15:48:54.117Z"
      },
      {
        "duration": 7,
        "start_time": "2024-01-01T15:49:12.887Z"
      },
      {
        "duration": 6,
        "start_time": "2024-01-01T15:49:28.938Z"
      },
      {
        "duration": 6,
        "start_time": "2024-01-01T15:51:18.064Z"
      },
      {
        "duration": 5,
        "start_time": "2024-01-01T15:58:47.872Z"
      },
      {
        "duration": 4,
        "start_time": "2024-01-01T15:59:33.958Z"
      },
      {
        "duration": 4,
        "start_time": "2024-01-01T15:59:43.276Z"
      },
      {
        "duration": 182,
        "start_time": "2024-01-01T16:03:53.448Z"
      },
      {
        "duration": 57,
        "start_time": "2024-01-01T16:26:17.779Z"
      },
      {
        "duration": 108,
        "start_time": "2024-01-01T16:26:39.749Z"
      },
      {
        "duration": 106,
        "start_time": "2024-01-01T16:26:43.440Z"
      },
      {
        "duration": 129,
        "start_time": "2024-01-01T16:26:52.774Z"
      },
      {
        "duration": 207,
        "start_time": "2024-01-01T16:27:00.338Z"
      },
      {
        "duration": 259,
        "start_time": "2024-01-01T16:37:29.128Z"
      },
      {
        "duration": 179,
        "start_time": "2024-01-01T16:38:44.463Z"
      },
      {
        "duration": 146,
        "start_time": "2024-01-01T17:04:00.472Z"
      },
      {
        "duration": 11,
        "start_time": "2024-01-01T17:32:04.046Z"
      },
      {
        "duration": 9,
        "start_time": "2024-01-01T17:32:18.112Z"
      },
      {
        "duration": 9,
        "start_time": "2024-01-01T17:32:20.482Z"
      },
      {
        "duration": 13,
        "start_time": "2024-01-01T17:32:59.774Z"
      },
      {
        "duration": 9,
        "start_time": "2024-01-01T17:33:41.017Z"
      },
      {
        "duration": 1658,
        "start_time": "2024-01-02T06:34:05.743Z"
      },
      {
        "duration": 24,
        "start_time": "2024-01-02T06:34:07.404Z"
      },
      {
        "duration": 35,
        "start_time": "2024-01-02T06:34:07.430Z"
      },
      {
        "duration": 7,
        "start_time": "2024-01-02T06:34:07.467Z"
      },
      {
        "duration": 13,
        "start_time": "2024-01-02T06:34:07.476Z"
      },
      {
        "duration": 10,
        "start_time": "2024-01-02T06:34:07.491Z"
      },
      {
        "duration": 29,
        "start_time": "2024-01-02T06:34:07.503Z"
      },
      {
        "duration": 8,
        "start_time": "2024-01-02T06:34:07.534Z"
      },
      {
        "duration": 250,
        "start_time": "2024-01-02T06:34:07.544Z"
      },
      {
        "duration": 136,
        "start_time": "2024-01-02T06:34:07.797Z"
      },
      {
        "duration": 167,
        "start_time": "2024-01-02T06:34:07.935Z"
      },
      {
        "duration": 184,
        "start_time": "2024-01-02T06:34:08.104Z"
      },
      {
        "duration": 180,
        "start_time": "2024-01-02T06:34:08.289Z"
      },
      {
        "duration": 23,
        "start_time": "2024-01-02T06:34:08.471Z"
      },
      {
        "duration": 48,
        "start_time": "2024-01-02T06:34:08.496Z"
      },
      {
        "duration": 761,
        "start_time": "2024-01-02T06:34:08.546Z"
      },
      {
        "duration": 868,
        "start_time": "2024-01-02T06:34:09.309Z"
      },
      {
        "duration": 26,
        "start_time": "2024-01-02T06:34:10.178Z"
      },
      {
        "duration": 37,
        "start_time": "2024-01-02T06:34:10.206Z"
      },
      {
        "duration": 27,
        "start_time": "2024-01-02T06:34:10.245Z"
      },
      {
        "duration": 6,
        "start_time": "2024-01-02T06:34:10.273Z"
      },
      {
        "duration": 253,
        "start_time": "2024-01-02T06:34:10.280Z"
      },
      {
        "duration": 6,
        "start_time": "2024-01-02T06:34:10.534Z"
      },
      {
        "duration": 10,
        "start_time": "2024-01-02T06:34:10.541Z"
      },
      {
        "duration": 5,
        "start_time": "2024-01-02T06:34:10.552Z"
      },
      {
        "duration": 5,
        "start_time": "2024-01-02T06:34:10.558Z"
      },
      {
        "duration": 15,
        "start_time": "2024-01-02T06:34:10.565Z"
      },
      {
        "duration": 106,
        "start_time": "2024-01-02T06:34:10.583Z"
      },
      {
        "duration": 119,
        "start_time": "2024-01-02T06:34:13.973Z"
      },
      {
        "duration": 225,
        "start_time": "2024-01-02T06:34:27.200Z"
      },
      {
        "duration": 329,
        "start_time": "2024-01-02T07:15:57.282Z"
      },
      {
        "duration": 352,
        "start_time": "2024-01-02T07:16:06.998Z"
      },
      {
        "duration": 248,
        "start_time": "2024-01-02T07:16:19.179Z"
      },
      {
        "duration": 1512,
        "start_time": "2024-01-02T07:24:06.854Z"
      },
      {
        "duration": 1483,
        "start_time": "2024-01-02T07:24:14.325Z"
      },
      {
        "duration": 1535,
        "start_time": "2024-01-02T11:23:14.364Z"
      },
      {
        "duration": 25,
        "start_time": "2024-01-02T11:23:15.902Z"
      },
      {
        "duration": 29,
        "start_time": "2024-01-02T11:23:15.929Z"
      },
      {
        "duration": 9,
        "start_time": "2024-01-02T11:23:15.961Z"
      },
      {
        "duration": 16,
        "start_time": "2024-01-02T11:23:15.971Z"
      },
      {
        "duration": 29,
        "start_time": "2024-01-02T11:23:15.989Z"
      },
      {
        "duration": 15,
        "start_time": "2024-01-02T11:23:16.020Z"
      },
      {
        "duration": 34,
        "start_time": "2024-01-02T11:23:16.037Z"
      },
      {
        "duration": 211,
        "start_time": "2024-01-02T11:23:16.073Z"
      },
      {
        "duration": 136,
        "start_time": "2024-01-02T11:23:16.287Z"
      },
      {
        "duration": 172,
        "start_time": "2024-01-02T11:23:16.424Z"
      },
      {
        "duration": 201,
        "start_time": "2024-01-02T11:23:16.598Z"
      },
      {
        "duration": 183,
        "start_time": "2024-01-02T11:23:16.801Z"
      },
      {
        "duration": 21,
        "start_time": "2024-01-02T11:23:16.986Z"
      },
      {
        "duration": 26,
        "start_time": "2024-01-02T11:23:17.009Z"
      },
      {
        "duration": 759,
        "start_time": "2024-01-02T11:23:17.037Z"
      },
      {
        "duration": 859,
        "start_time": "2024-01-02T11:23:17.798Z"
      },
      {
        "duration": 29,
        "start_time": "2024-01-02T11:23:18.658Z"
      },
      {
        "duration": 21,
        "start_time": "2024-01-02T11:23:18.689Z"
      },
      {
        "duration": 55,
        "start_time": "2024-01-02T11:23:18.712Z"
      },
      {
        "duration": 5,
        "start_time": "2024-01-02T11:23:18.768Z"
      },
      {
        "duration": 295,
        "start_time": "2024-01-02T11:23:18.775Z"
      },
      {
        "duration": 4,
        "start_time": "2024-01-02T11:23:19.072Z"
      },
      {
        "duration": 6,
        "start_time": "2024-01-02T11:23:19.078Z"
      },
      {
        "duration": 8,
        "start_time": "2024-01-02T11:23:19.085Z"
      },
      {
        "duration": 5,
        "start_time": "2024-01-02T11:23:19.094Z"
      },
      {
        "duration": 4,
        "start_time": "2024-01-02T11:23:19.100Z"
      },
      {
        "duration": 126,
        "start_time": "2024-01-02T11:23:19.107Z"
      },
      {
        "duration": 9,
        "start_time": "2024-01-02T11:24:11.625Z"
      },
      {
        "duration": 106,
        "start_time": "2024-01-02T11:24:56.469Z"
      },
      {
        "duration": 7,
        "start_time": "2024-01-02T11:25:03.296Z"
      },
      {
        "duration": 9,
        "start_time": "2024-01-02T11:48:08.367Z"
      },
      {
        "duration": 8,
        "start_time": "2024-01-02T11:49:01.142Z"
      },
      {
        "duration": 8,
        "start_time": "2024-01-02T11:49:03.862Z"
      },
      {
        "duration": 8,
        "start_time": "2024-01-02T11:49:10.945Z"
      },
      {
        "duration": 7,
        "start_time": "2024-01-02T11:49:29.600Z"
      },
      {
        "duration": 7,
        "start_time": "2024-01-02T11:49:32.050Z"
      },
      {
        "duration": 5,
        "start_time": "2024-01-02T11:49:49.668Z"
      },
      {
        "duration": 5,
        "start_time": "2024-01-02T11:49:51.608Z"
      },
      {
        "duration": 6,
        "start_time": "2024-01-02T11:49:56.030Z"
      },
      {
        "duration": 212,
        "start_time": "2024-01-02T12:03:23.686Z"
      },
      {
        "duration": 45,
        "start_time": "2024-01-02T13:02:25.418Z"
      },
      {
        "duration": 1664,
        "start_time": "2024-01-02T13:02:30.023Z"
      },
      {
        "duration": 67,
        "start_time": "2024-01-02T13:02:31.694Z"
      },
      {
        "duration": 0,
        "start_time": "2024-01-02T13:02:31.763Z"
      },
      {
        "duration": 0,
        "start_time": "2024-01-02T13:02:31.764Z"
      },
      {
        "duration": 0,
        "start_time": "2024-01-02T13:02:31.767Z"
      },
      {
        "duration": 0,
        "start_time": "2024-01-02T13:02:31.772Z"
      },
      {
        "duration": 0,
        "start_time": "2024-01-02T13:02:31.774Z"
      },
      {
        "duration": 0,
        "start_time": "2024-01-02T13:02:31.775Z"
      },
      {
        "duration": 0,
        "start_time": "2024-01-02T13:02:31.776Z"
      },
      {
        "duration": 0,
        "start_time": "2024-01-02T13:02:31.777Z"
      },
      {
        "duration": 1,
        "start_time": "2024-01-02T13:02:31.777Z"
      },
      {
        "duration": 0,
        "start_time": "2024-01-02T13:02:31.781Z"
      },
      {
        "duration": 0,
        "start_time": "2024-01-02T13:02:31.781Z"
      },
      {
        "duration": 0,
        "start_time": "2024-01-02T13:02:31.782Z"
      },
      {
        "duration": 0,
        "start_time": "2024-01-02T13:02:31.783Z"
      },
      {
        "duration": 0,
        "start_time": "2024-01-02T13:02:31.783Z"
      },
      {
        "duration": 0,
        "start_time": "2024-01-02T13:02:31.784Z"
      },
      {
        "duration": 0,
        "start_time": "2024-01-02T13:02:31.785Z"
      },
      {
        "duration": 0,
        "start_time": "2024-01-02T13:02:31.785Z"
      },
      {
        "duration": 0,
        "start_time": "2024-01-02T13:02:31.786Z"
      },
      {
        "duration": 0,
        "start_time": "2024-01-02T13:02:31.787Z"
      },
      {
        "duration": 0,
        "start_time": "2024-01-02T13:02:31.788Z"
      },
      {
        "duration": 0,
        "start_time": "2024-01-02T13:02:31.791Z"
      },
      {
        "duration": 0,
        "start_time": "2024-01-02T13:02:31.794Z"
      },
      {
        "duration": 0,
        "start_time": "2024-01-02T13:02:31.795Z"
      },
      {
        "duration": 0,
        "start_time": "2024-01-02T13:02:31.796Z"
      },
      {
        "duration": 0,
        "start_time": "2024-01-02T13:02:31.798Z"
      },
      {
        "duration": 0,
        "start_time": "2024-01-02T13:02:31.799Z"
      },
      {
        "duration": 0,
        "start_time": "2024-01-02T13:02:31.799Z"
      },
      {
        "duration": 0,
        "start_time": "2024-01-02T13:02:31.801Z"
      },
      {
        "duration": 10,
        "start_time": "2024-01-02T13:02:35.699Z"
      },
      {
        "duration": 131,
        "start_time": "2024-01-02T13:02:41.796Z"
      },
      {
        "duration": 18,
        "start_time": "2024-01-02T13:02:44.942Z"
      },
      {
        "duration": 25,
        "start_time": "2024-01-02T13:02:47.399Z"
      },
      {
        "duration": 6,
        "start_time": "2024-01-02T13:02:50.295Z"
      },
      {
        "duration": 731,
        "start_time": "2024-01-02T16:00:09.185Z"
      },
      {
        "duration": 998,
        "start_time": "2024-01-02T16:00:13.251Z"
      },
      {
        "duration": 117,
        "start_time": "2024-01-02T16:00:14.251Z"
      },
      {
        "duration": 0,
        "start_time": "2024-01-02T16:00:14.370Z"
      },
      {
        "duration": 0,
        "start_time": "2024-01-02T16:00:14.371Z"
      },
      {
        "duration": 0,
        "start_time": "2024-01-02T16:00:14.372Z"
      },
      {
        "duration": 0,
        "start_time": "2024-01-02T16:00:14.374Z"
      },
      {
        "duration": 0,
        "start_time": "2024-01-02T16:00:14.375Z"
      },
      {
        "duration": 0,
        "start_time": "2024-01-02T16:00:14.376Z"
      },
      {
        "duration": 0,
        "start_time": "2024-01-02T16:00:14.377Z"
      },
      {
        "duration": 0,
        "start_time": "2024-01-02T16:00:14.378Z"
      },
      {
        "duration": 0,
        "start_time": "2024-01-02T16:00:14.380Z"
      },
      {
        "duration": 0,
        "start_time": "2024-01-02T16:00:14.381Z"
      },
      {
        "duration": 0,
        "start_time": "2024-01-02T16:00:14.382Z"
      },
      {
        "duration": 0,
        "start_time": "2024-01-02T16:00:14.383Z"
      },
      {
        "duration": 0,
        "start_time": "2024-01-02T16:00:14.384Z"
      },
      {
        "duration": 0,
        "start_time": "2024-01-02T16:00:14.385Z"
      },
      {
        "duration": 0,
        "start_time": "2024-01-02T16:00:14.386Z"
      },
      {
        "duration": 0,
        "start_time": "2024-01-02T16:00:14.387Z"
      },
      {
        "duration": 0,
        "start_time": "2024-01-02T16:00:14.388Z"
      },
      {
        "duration": 0,
        "start_time": "2024-01-02T16:00:14.389Z"
      },
      {
        "duration": 0,
        "start_time": "2024-01-02T16:00:14.390Z"
      },
      {
        "duration": 0,
        "start_time": "2024-01-02T16:00:14.391Z"
      },
      {
        "duration": 0,
        "start_time": "2024-01-02T16:00:14.422Z"
      },
      {
        "duration": 0,
        "start_time": "2024-01-02T16:00:14.424Z"
      },
      {
        "duration": 0,
        "start_time": "2024-01-02T16:00:14.425Z"
      },
      {
        "duration": 0,
        "start_time": "2024-01-02T16:00:14.426Z"
      },
      {
        "duration": 0,
        "start_time": "2024-01-02T16:00:14.426Z"
      },
      {
        "duration": 0,
        "start_time": "2024-01-02T16:00:14.427Z"
      },
      {
        "duration": 1,
        "start_time": "2024-01-02T16:00:14.428Z"
      },
      {
        "duration": 1579,
        "start_time": "2024-01-02T16:00:18.303Z"
      },
      {
        "duration": 13,
        "start_time": "2024-01-02T16:20:36.688Z"
      },
      {
        "duration": 5,
        "start_time": "2024-01-02T16:20:57.988Z"
      },
      {
        "duration": 5,
        "start_time": "2024-01-02T16:21:09.515Z"
      },
      {
        "duration": 4,
        "start_time": "2024-01-02T16:21:13.606Z"
      },
      {
        "duration": 4,
        "start_time": "2024-01-02T16:21:17.922Z"
      },
      {
        "duration": 11,
        "start_time": "2024-01-02T16:21:22.250Z"
      },
      {
        "duration": 6,
        "start_time": "2024-01-02T16:21:26.360Z"
      },
      {
        "duration": 6,
        "start_time": "2024-01-02T16:21:32.418Z"
      },
      {
        "duration": 5,
        "start_time": "2024-01-02T16:21:35.582Z"
      },
      {
        "duration": 6,
        "start_time": "2024-01-02T16:21:38.331Z"
      },
      {
        "duration": 5,
        "start_time": "2024-01-02T16:21:48.225Z"
      },
      {
        "duration": 5,
        "start_time": "2024-01-02T16:21:50.626Z"
      },
      {
        "duration": 71,
        "start_time": "2024-01-02T17:29:52.778Z"
      },
      {
        "duration": 8,
        "start_time": "2024-01-02T17:30:26.599Z"
      },
      {
        "duration": 167,
        "start_time": "2024-01-02T17:30:39.130Z"
      },
      {
        "duration": 1574,
        "start_time": "2024-01-03T09:08:02.339Z"
      },
      {
        "duration": 102,
        "start_time": "2024-01-03T09:08:05.467Z"
      },
      {
        "duration": 109,
        "start_time": "2024-01-03T09:08:14.287Z"
      },
      {
        "duration": 110,
        "start_time": "2024-01-03T09:08:16.688Z"
      },
      {
        "duration": 20,
        "start_time": "2024-01-03T09:08:19.157Z"
      },
      {
        "duration": 110,
        "start_time": "2024-01-03T09:08:29.779Z"
      },
      {
        "duration": 24,
        "start_time": "2024-01-03T09:08:29.891Z"
      },
      {
        "duration": 0,
        "start_time": "2024-01-03T09:08:29.917Z"
      },
      {
        "duration": 0,
        "start_time": "2024-01-03T09:08:29.918Z"
      },
      {
        "duration": 0,
        "start_time": "2024-01-03T09:08:29.919Z"
      },
      {
        "duration": 0,
        "start_time": "2024-01-03T09:08:29.921Z"
      },
      {
        "duration": 0,
        "start_time": "2024-01-03T09:08:29.922Z"
      },
      {
        "duration": 0,
        "start_time": "2024-01-03T09:08:29.923Z"
      },
      {
        "duration": 247,
        "start_time": "2024-01-03T09:08:29.925Z"
      },
      {
        "duration": 141,
        "start_time": "2024-01-03T09:08:30.173Z"
      },
      {
        "duration": 166,
        "start_time": "2024-01-03T09:08:30.315Z"
      },
      {
        "duration": 198,
        "start_time": "2024-01-03T09:08:30.483Z"
      },
      {
        "duration": 191,
        "start_time": "2024-01-03T09:08:30.682Z"
      },
      {
        "duration": 21,
        "start_time": "2024-01-03T09:08:30.874Z"
      },
      {
        "duration": 52,
        "start_time": "2024-01-03T09:08:30.897Z"
      },
      {
        "duration": 539,
        "start_time": "2024-01-03T09:08:30.951Z"
      },
      {
        "duration": 614,
        "start_time": "2024-01-03T09:08:31.491Z"
      },
      {
        "duration": 17,
        "start_time": "2024-01-03T09:08:32.107Z"
      },
      {
        "duration": 0,
        "start_time": "2024-01-03T09:08:32.126Z"
      },
      {
        "duration": 0,
        "start_time": "2024-01-03T09:08:32.127Z"
      },
      {
        "duration": 0,
        "start_time": "2024-01-03T09:08:32.128Z"
      },
      {
        "duration": 0,
        "start_time": "2024-01-03T09:08:32.129Z"
      },
      {
        "duration": 0,
        "start_time": "2024-01-03T09:08:32.142Z"
      },
      {
        "duration": 0,
        "start_time": "2024-01-03T09:08:32.143Z"
      },
      {
        "duration": 0,
        "start_time": "2024-01-03T09:08:32.144Z"
      },
      {
        "duration": 0,
        "start_time": "2024-01-03T09:08:32.146Z"
      },
      {
        "duration": 0,
        "start_time": "2024-01-03T09:08:32.146Z"
      },
      {
        "duration": 0,
        "start_time": "2024-01-03T09:08:32.147Z"
      },
      {
        "duration": 0,
        "start_time": "2024-01-03T09:08:32.148Z"
      },
      {
        "duration": 0,
        "start_time": "2024-01-03T09:08:32.149Z"
      },
      {
        "duration": 133,
        "start_time": "2024-01-03T09:09:08.266Z"
      },
      {
        "duration": 105,
        "start_time": "2024-01-03T09:09:16.187Z"
      },
      {
        "duration": 105,
        "start_time": "2024-01-03T09:09:19.427Z"
      },
      {
        "duration": 18,
        "start_time": "2024-01-03T09:09:23.870Z"
      },
      {
        "duration": 76,
        "start_time": "2024-01-03T09:10:59.389Z"
      },
      {
        "duration": 111,
        "start_time": "2024-01-03T09:11:10.633Z"
      },
      {
        "duration": 20,
        "start_time": "2024-01-03T09:11:17.224Z"
      },
      {
        "duration": 26,
        "start_time": "2024-01-03T09:11:28.118Z"
      },
      {
        "duration": 7,
        "start_time": "2024-01-03T09:11:35.659Z"
      },
      {
        "duration": 5,
        "start_time": "2024-01-03T09:11:37.586Z"
      },
      {
        "duration": 9,
        "start_time": "2024-01-03T09:11:40.187Z"
      },
      {
        "duration": 5,
        "start_time": "2024-01-03T09:11:42.805Z"
      },
      {
        "duration": 8,
        "start_time": "2024-01-03T09:11:44.871Z"
      },
      {
        "duration": 202,
        "start_time": "2024-01-03T09:11:47.300Z"
      },
      {
        "duration": 122,
        "start_time": "2024-01-03T09:11:56.178Z"
      },
      {
        "duration": 150,
        "start_time": "2024-01-03T09:11:59.547Z"
      },
      {
        "duration": 216,
        "start_time": "2024-01-03T09:12:02.721Z"
      },
      {
        "duration": 179,
        "start_time": "2024-01-03T09:12:05.262Z"
      },
      {
        "duration": 183,
        "start_time": "2024-01-03T09:12:11.075Z"
      },
      {
        "duration": 154,
        "start_time": "2024-01-03T09:12:13.609Z"
      },
      {
        "duration": 25,
        "start_time": "2024-01-03T09:12:27.103Z"
      },
      {
        "duration": 16,
        "start_time": "2024-01-03T09:12:33.206Z"
      },
      {
        "duration": 628,
        "start_time": "2024-01-03T09:12:41.105Z"
      },
      {
        "duration": 520,
        "start_time": "2024-01-03T09:12:45.541Z"
      },
      {
        "duration": 27,
        "start_time": "2024-01-03T09:12:48.593Z"
      },
      {
        "duration": 25,
        "start_time": "2024-01-03T09:12:51.080Z"
      },
      {
        "duration": 151,
        "start_time": "2024-01-03T09:12:53.104Z"
      },
      {
        "duration": 28,
        "start_time": "2024-01-03T09:13:00.019Z"
      },
      {
        "duration": 22,
        "start_time": "2024-01-03T09:13:03.225Z"
      },
      {
        "duration": 30,
        "start_time": "2024-01-03T09:13:06.647Z"
      },
      {
        "duration": 6,
        "start_time": "2024-01-03T09:13:12.258Z"
      },
      {
        "duration": 239,
        "start_time": "2024-01-03T09:13:24.966Z"
      },
      {
        "duration": 6,
        "start_time": "2024-01-03T09:13:30.664Z"
      },
      {
        "duration": 5,
        "start_time": "2024-01-03T09:13:32.773Z"
      },
      {
        "duration": 4,
        "start_time": "2024-01-03T09:13:34.895Z"
      },
      {
        "duration": 5,
        "start_time": "2024-01-03T09:13:37.275Z"
      },
      {
        "duration": 5,
        "start_time": "2024-01-03T09:13:40.818Z"
      },
      {
        "duration": 1421,
        "start_time": "2024-01-03T09:13:45.638Z"
      },
      {
        "duration": 12,
        "start_time": "2024-01-03T09:13:51.331Z"
      },
      {
        "duration": 286,
        "start_time": "2024-01-03T09:13:56.596Z"
      },
      {
        "duration": 720,
        "start_time": "2024-01-04T06:49:40.582Z"
      },
      {
        "duration": 846,
        "start_time": "2024-01-04T06:49:50.893Z"
      },
      {
        "duration": 24,
        "start_time": "2024-01-04T06:49:54.420Z"
      },
      {
        "duration": 7,
        "start_time": "2024-01-04T06:49:58.582Z"
      },
      {
        "duration": 5,
        "start_time": "2024-01-04T06:50:01.043Z"
      },
      {
        "duration": 8,
        "start_time": "2024-01-04T06:50:03.099Z"
      },
      {
        "duration": 5,
        "start_time": "2024-01-04T06:50:06.681Z"
      },
      {
        "duration": 8,
        "start_time": "2024-01-04T06:50:09.301Z"
      },
      {
        "duration": 7,
        "start_time": "2024-01-04T09:37:38.364Z"
      },
      {
        "duration": 1267,
        "start_time": "2024-01-04T09:37:44.718Z"
      },
      {
        "duration": 22,
        "start_time": "2024-01-04T09:37:45.987Z"
      },
      {
        "duration": 32,
        "start_time": "2024-01-04T09:37:46.010Z"
      },
      {
        "duration": 6,
        "start_time": "2024-01-04T09:37:46.044Z"
      },
      {
        "duration": 5,
        "start_time": "2024-01-04T09:37:46.052Z"
      },
      {
        "duration": 8,
        "start_time": "2024-01-04T09:37:46.058Z"
      },
      {
        "duration": 6,
        "start_time": "2024-01-04T09:37:46.067Z"
      },
      {
        "duration": 46,
        "start_time": "2024-01-04T09:37:46.074Z"
      },
      {
        "duration": 241,
        "start_time": "2024-01-04T09:37:46.122Z"
      },
      {
        "duration": 138,
        "start_time": "2024-01-04T09:37:46.365Z"
      },
      {
        "duration": 174,
        "start_time": "2024-01-04T09:37:46.505Z"
      },
      {
        "duration": 199,
        "start_time": "2024-01-04T09:37:46.681Z"
      },
      {
        "duration": 168,
        "start_time": "2024-01-04T09:37:46.881Z"
      },
      {
        "duration": 23,
        "start_time": "2024-01-04T09:37:47.050Z"
      },
      {
        "duration": 41,
        "start_time": "2024-01-04T09:37:47.075Z"
      },
      {
        "duration": 792,
        "start_time": "2024-01-04T09:37:47.117Z"
      },
      {
        "duration": 996,
        "start_time": "2024-01-04T09:37:47.911Z"
      },
      {
        "duration": 34,
        "start_time": "2024-01-04T09:37:48.909Z"
      },
      {
        "duration": 23,
        "start_time": "2024-01-04T09:37:51.675Z"
      },
      {
        "duration": 25,
        "start_time": "2024-01-04T09:38:13.169Z"
      },
      {
        "duration": 32,
        "start_time": "2024-01-04T09:38:27.691Z"
      },
      {
        "duration": 23,
        "start_time": "2024-01-04T09:38:43.840Z"
      },
      {
        "duration": 27,
        "start_time": "2024-01-04T09:38:59.232Z"
      },
      {
        "duration": 29,
        "start_time": "2024-01-04T09:39:04.102Z"
      },
      {
        "duration": 27,
        "start_time": "2024-01-04T09:39:58.899Z"
      },
      {
        "duration": 22,
        "start_time": "2024-01-04T09:40:16.861Z"
      },
      {
        "duration": 28,
        "start_time": "2024-01-04T09:50:55.639Z"
      },
      {
        "duration": 110,
        "start_time": "2024-01-04T09:51:37.551Z"
      },
      {
        "duration": 68,
        "start_time": "2024-01-04T09:51:46.106Z"
      },
      {
        "duration": 27,
        "start_time": "2024-01-04T09:51:51.464Z"
      },
      {
        "duration": 24,
        "start_time": "2024-01-04T09:52:13.544Z"
      },
      {
        "duration": 23,
        "start_time": "2024-01-04T09:52:20.812Z"
      },
      {
        "duration": 6,
        "start_time": "2024-01-04T09:52:35.992Z"
      },
      {
        "duration": 1482,
        "start_time": "2024-01-04T09:53:01.977Z"
      },
      {
        "duration": 121,
        "start_time": "2024-01-04T10:43:39.522Z"
      },
      {
        "duration": 5,
        "start_time": "2024-01-04T11:01:22.905Z"
      },
      {
        "duration": 43,
        "start_time": "2024-01-04T17:30:48.279Z"
      },
      {
        "duration": 1560,
        "start_time": "2024-01-04T17:30:53.936Z"
      },
      {
        "duration": 149,
        "start_time": "2024-01-04T17:31:13.698Z"
      },
      {
        "duration": 233,
        "start_time": "2024-01-04T17:31:20.456Z"
      },
      {
        "duration": 120,
        "start_time": "2024-01-04T17:31:32.367Z"
      },
      {
        "duration": 126,
        "start_time": "2024-01-04T17:31:40.216Z"
      },
      {
        "duration": 2147,
        "start_time": "2024-01-04T18:18:06.220Z"
      },
      {
        "duration": 1601,
        "start_time": "2024-01-04T19:29:30.670Z"
      },
      {
        "duration": 1605,
        "start_time": "2024-01-04T19:29:51.660Z"
      },
      {
        "duration": 172,
        "start_time": "2024-01-04T19:30:08.785Z"
      },
      {
        "duration": 131,
        "start_time": "2024-01-04T19:30:18.552Z"
      },
      {
        "duration": 83,
        "start_time": "2024-01-07T09:25:47.429Z"
      },
      {
        "duration": 1042,
        "start_time": "2024-01-07T09:40:42.513Z"
      },
      {
        "duration": 75,
        "start_time": "2024-01-07T09:47:34.763Z"
      },
      {
        "duration": 763,
        "start_time": "2024-01-07T09:47:50.586Z"
      },
      {
        "duration": 5,
        "start_time": "2024-01-07T09:47:56.962Z"
      },
      {
        "duration": 5,
        "start_time": "2024-01-07T09:48:13.500Z"
      },
      {
        "duration": 5,
        "start_time": "2024-01-07T09:48:52.942Z"
      },
      {
        "duration": 1044,
        "start_time": "2024-01-07T13:10:12.813Z"
      },
      {
        "duration": 929,
        "start_time": "2024-01-07T13:12:28.420Z"
      },
      {
        "duration": 479,
        "start_time": "2024-01-07T13:12:45.748Z"
      },
      {
        "duration": 5,
        "start_time": "2024-01-07T13:12:49.902Z"
      },
      {
        "duration": 5,
        "start_time": "2024-01-07T13:19:57.677Z"
      },
      {
        "duration": 6,
        "start_time": "2024-01-07T13:20:30.615Z"
      },
      {
        "duration": 105,
        "start_time": "2024-01-07T13:22:54.974Z"
      },
      {
        "duration": 101,
        "start_time": "2024-01-07T13:23:07.537Z"
      },
      {
        "duration": 127,
        "start_time": "2024-01-07T13:23:10.439Z"
      },
      {
        "duration": 116,
        "start_time": "2024-01-07T13:23:13.067Z"
      },
      {
        "duration": 1188,
        "start_time": "2024-01-07T13:27:34.197Z"
      },
      {
        "duration": 5,
        "start_time": "2024-01-07T13:27:38.608Z"
      },
      {
        "duration": 810,
        "start_time": "2024-01-07T13:31:50.725Z"
      },
      {
        "duration": 65,
        "start_time": "2024-01-07T13:33:30.323Z"
      },
      {
        "duration": 405,
        "start_time": "2024-01-07T13:33:43.457Z"
      },
      {
        "duration": 157,
        "start_time": "2024-01-07T13:35:00.865Z"
      },
      {
        "duration": 156,
        "start_time": "2024-01-07T13:35:48.396Z"
      },
      {
        "duration": 168,
        "start_time": "2024-01-07T13:36:01.964Z"
      },
      {
        "duration": 153,
        "start_time": "2024-01-07T13:41:58.363Z"
      },
      {
        "duration": 1894,
        "start_time": "2024-01-07T13:44:13.373Z"
      },
      {
        "duration": 2045,
        "start_time": "2024-01-07T13:44:43.262Z"
      },
      {
        "duration": 169,
        "start_time": "2024-01-07T13:46:33.762Z"
      },
      {
        "duration": 155,
        "start_time": "2024-01-07T13:46:55.353Z"
      },
      {
        "duration": 166,
        "start_time": "2024-01-07T13:47:04.277Z"
      },
      {
        "duration": 164,
        "start_time": "2024-01-07T13:47:22.339Z"
      },
      {
        "duration": 157,
        "start_time": "2024-01-07T13:48:19.819Z"
      },
      {
        "duration": 168,
        "start_time": "2024-01-07T13:48:28.447Z"
      },
      {
        "duration": 937,
        "start_time": "2024-01-07T13:49:32.182Z"
      },
      {
        "duration": 282,
        "start_time": "2024-01-07T13:49:42.258Z"
      },
      {
        "duration": 978,
        "start_time": "2024-01-07T13:56:20.068Z"
      },
      {
        "duration": 43,
        "start_time": "2024-01-07T13:57:27.195Z"
      },
      {
        "duration": 1189,
        "start_time": "2024-01-07T13:57:33.805Z"
      },
      {
        "duration": 20,
        "start_time": "2024-01-07T13:57:34.996Z"
      },
      {
        "duration": 26,
        "start_time": "2024-01-07T13:57:35.017Z"
      },
      {
        "duration": 7,
        "start_time": "2024-01-07T13:57:35.044Z"
      },
      {
        "duration": 6,
        "start_time": "2024-01-07T13:57:35.053Z"
      },
      {
        "duration": 11,
        "start_time": "2024-01-07T13:57:35.092Z"
      },
      {
        "duration": 7,
        "start_time": "2024-01-07T13:57:35.104Z"
      },
      {
        "duration": 7,
        "start_time": "2024-01-07T13:57:35.112Z"
      },
      {
        "duration": 218,
        "start_time": "2024-01-07T13:57:35.120Z"
      },
      {
        "duration": 124,
        "start_time": "2024-01-07T13:57:35.340Z"
      },
      {
        "duration": 162,
        "start_time": "2024-01-07T13:57:35.466Z"
      },
      {
        "duration": 189,
        "start_time": "2024-01-07T13:57:35.630Z"
      },
      {
        "duration": 149,
        "start_time": "2024-01-07T13:57:35.820Z"
      },
      {
        "duration": 28,
        "start_time": "2024-01-07T13:57:35.972Z"
      },
      {
        "duration": 28,
        "start_time": "2024-01-07T13:57:36.002Z"
      },
      {
        "duration": 738,
        "start_time": "2024-01-07T13:57:36.031Z"
      },
      {
        "duration": 861,
        "start_time": "2024-01-07T13:57:36.771Z"
      },
      {
        "duration": 23,
        "start_time": "2024-01-07T13:57:37.633Z"
      },
      {
        "duration": 35,
        "start_time": "2024-01-07T13:57:37.657Z"
      },
      {
        "duration": 23,
        "start_time": "2024-01-07T13:57:37.694Z"
      },
      {
        "duration": 5,
        "start_time": "2024-01-07T13:57:37.718Z"
      },
      {
        "duration": 243,
        "start_time": "2024-01-07T13:57:37.724Z"
      },
      {
        "duration": 6,
        "start_time": "2024-01-07T13:57:37.968Z"
      },
      {
        "duration": 28,
        "start_time": "2024-01-07T13:57:37.975Z"
      },
      {
        "duration": 20,
        "start_time": "2024-01-07T13:57:38.004Z"
      },
      {
        "duration": 12,
        "start_time": "2024-01-07T13:57:38.026Z"
      },
      {
        "duration": 6,
        "start_time": "2024-01-07T13:57:38.039Z"
      },
      {
        "duration": 1962,
        "start_time": "2024-01-07T13:57:38.046Z"
      },
      {
        "duration": 5,
        "start_time": "2024-01-07T13:57:40.009Z"
      },
      {
        "duration": 1108,
        "start_time": "2024-01-07T13:59:06.337Z"
      },
      {
        "duration": 22,
        "start_time": "2024-01-07T13:59:07.446Z"
      },
      {
        "duration": 26,
        "start_time": "2024-01-07T13:59:07.469Z"
      },
      {
        "duration": 7,
        "start_time": "2024-01-07T13:59:07.497Z"
      },
      {
        "duration": 9,
        "start_time": "2024-01-07T13:59:07.505Z"
      },
      {
        "duration": 11,
        "start_time": "2024-01-07T13:59:07.515Z"
      },
      {
        "duration": 12,
        "start_time": "2024-01-07T13:59:07.527Z"
      },
      {
        "duration": 10,
        "start_time": "2024-01-07T13:59:07.540Z"
      },
      {
        "duration": 218,
        "start_time": "2024-01-07T13:59:07.552Z"
      },
      {
        "duration": 121,
        "start_time": "2024-01-07T13:59:07.772Z"
      },
      {
        "duration": 151,
        "start_time": "2024-01-07T13:59:07.895Z"
      },
      {
        "duration": 179,
        "start_time": "2024-01-07T13:59:08.047Z"
      },
      {
        "duration": 144,
        "start_time": "2024-01-07T13:59:08.228Z"
      },
      {
        "duration": 29,
        "start_time": "2024-01-07T13:59:08.373Z"
      },
      {
        "duration": 25,
        "start_time": "2024-01-07T13:59:08.403Z"
      },
      {
        "duration": 763,
        "start_time": "2024-01-07T13:59:08.429Z"
      },
      {
        "duration": 818,
        "start_time": "2024-01-07T13:59:09.194Z"
      },
      {
        "duration": 25,
        "start_time": "2024-01-07T13:59:10.013Z"
      },
      {
        "duration": 22,
        "start_time": "2024-01-07T13:59:10.039Z"
      },
      {
        "duration": 43,
        "start_time": "2024-01-07T13:59:10.062Z"
      },
      {
        "duration": 26,
        "start_time": "2024-01-07T13:59:10.106Z"
      },
      {
        "duration": 276,
        "start_time": "2024-01-07T13:59:10.133Z"
      },
      {
        "duration": 5,
        "start_time": "2024-01-07T13:59:10.410Z"
      },
      {
        "duration": 39,
        "start_time": "2024-01-07T13:59:10.416Z"
      },
      {
        "duration": 18,
        "start_time": "2024-01-07T13:59:10.457Z"
      },
      {
        "duration": 13,
        "start_time": "2024-01-07T13:59:10.476Z"
      },
      {
        "duration": 44,
        "start_time": "2024-01-07T13:59:10.491Z"
      },
      {
        "duration": 5,
        "start_time": "2024-01-07T13:59:31.732Z"
      },
      {
        "duration": 1101,
        "start_time": "2024-01-07T14:00:08.237Z"
      },
      {
        "duration": 19,
        "start_time": "2024-01-07T14:00:09.340Z"
      },
      {
        "duration": 23,
        "start_time": "2024-01-07T14:00:09.361Z"
      },
      {
        "duration": 6,
        "start_time": "2024-01-07T14:00:09.385Z"
      },
      {
        "duration": 29,
        "start_time": "2024-01-07T14:00:09.392Z"
      },
      {
        "duration": 18,
        "start_time": "2024-01-07T14:00:09.423Z"
      },
      {
        "duration": 15,
        "start_time": "2024-01-07T14:00:09.442Z"
      },
      {
        "duration": 7,
        "start_time": "2024-01-07T14:00:09.459Z"
      },
      {
        "duration": 202,
        "start_time": "2024-01-07T14:00:09.467Z"
      },
      {
        "duration": 115,
        "start_time": "2024-01-07T14:00:09.671Z"
      },
      {
        "duration": 150,
        "start_time": "2024-01-07T14:00:09.791Z"
      },
      {
        "duration": 176,
        "start_time": "2024-01-07T14:00:09.942Z"
      },
      {
        "duration": 149,
        "start_time": "2024-01-07T14:00:10.119Z"
      },
      {
        "duration": 30,
        "start_time": "2024-01-07T14:00:10.269Z"
      },
      {
        "duration": 24,
        "start_time": "2024-01-07T14:00:10.301Z"
      },
      {
        "duration": 719,
        "start_time": "2024-01-07T14:00:10.326Z"
      },
      {
        "duration": 820,
        "start_time": "2024-01-07T14:00:11.046Z"
      },
      {
        "duration": 31,
        "start_time": "2024-01-07T14:00:11.868Z"
      },
      {
        "duration": 22,
        "start_time": "2024-01-07T14:00:11.901Z"
      },
      {
        "duration": 26,
        "start_time": "2024-01-07T14:00:11.925Z"
      },
      {
        "duration": 6,
        "start_time": "2024-01-07T14:00:11.953Z"
      },
      {
        "duration": 279,
        "start_time": "2024-01-07T14:00:11.961Z"
      },
      {
        "duration": 5,
        "start_time": "2024-01-07T14:00:12.242Z"
      },
      {
        "duration": 28,
        "start_time": "2024-01-07T14:00:12.249Z"
      },
      {
        "duration": 7,
        "start_time": "2024-01-07T14:00:12.279Z"
      },
      {
        "duration": 8,
        "start_time": "2024-01-07T14:00:12.287Z"
      },
      {
        "duration": 8,
        "start_time": "2024-01-07T14:00:12.296Z"
      },
      {
        "duration": 1986,
        "start_time": "2024-01-07T14:00:12.307Z"
      },
      {
        "duration": 4,
        "start_time": "2024-01-07T14:00:14.295Z"
      },
      {
        "duration": 893457,
        "start_time": "2024-01-07T14:00:14.301Z"
      },
      {
        "duration": 0,
        "start_time": "2024-01-07T14:15:07.759Z"
      },
      {
        "duration": 5,
        "start_time": "2024-01-07T14:18:42.010Z"
      },
      {
        "duration": 321,
        "start_time": "2024-01-07T14:19:23.473Z"
      },
      {
        "duration": 223,
        "start_time": "2024-01-07T14:19:26.228Z"
      },
      {
        "duration": 5,
        "start_time": "2024-01-07T14:20:12.580Z"
      },
      {
        "duration": 5,
        "start_time": "2024-01-07T14:23:58.315Z"
      },
      {
        "duration": 5,
        "start_time": "2024-01-07T14:24:13.225Z"
      },
      {
        "duration": 5,
        "start_time": "2024-01-07T14:24:28.974Z"
      },
      {
        "duration": 249,
        "start_time": "2024-01-07T14:27:18.282Z"
      },
      {
        "duration": 220,
        "start_time": "2024-01-07T14:27:37.197Z"
      },
      {
        "duration": 241,
        "start_time": "2024-01-07T14:27:49.630Z"
      },
      {
        "duration": 5,
        "start_time": "2024-01-07T14:35:22.169Z"
      },
      {
        "duration": 4,
        "start_time": "2024-01-07T14:35:32.818Z"
      },
      {
        "duration": 4,
        "start_time": "2024-01-07T14:35:38.222Z"
      },
      {
        "duration": 135,
        "start_time": "2024-01-07T14:38:45.726Z"
      },
      {
        "duration": 31,
        "start_time": "2024-01-07T14:39:16.202Z"
      },
      {
        "duration": 25,
        "start_time": "2024-01-07T14:39:21.601Z"
      },
      {
        "duration": 8,
        "start_time": "2024-01-07T14:40:40.098Z"
      },
      {
        "duration": 255,
        "start_time": "2024-01-07T14:40:46.300Z"
      },
      {
        "duration": 5,
        "start_time": "2024-01-07T14:40:50.112Z"
      },
      {
        "duration": 5,
        "start_time": "2024-01-07T14:41:03.459Z"
      },
      {
        "duration": 4,
        "start_time": "2024-01-07T14:41:14.673Z"
      },
      {
        "duration": 4,
        "start_time": "2024-01-07T14:41:21.557Z"
      },
      {
        "duration": 5,
        "start_time": "2024-01-07T14:41:40.654Z"
      },
      {
        "duration": 5,
        "start_time": "2024-01-07T14:41:45.171Z"
      },
      {
        "duration": 5,
        "start_time": "2024-01-07T14:45:59.809Z"
      },
      {
        "duration": 7,
        "start_time": "2024-01-07T14:46:11.703Z"
      },
      {
        "duration": 7,
        "start_time": "2024-01-07T14:49:33.901Z"
      },
      {
        "duration": 6,
        "start_time": "2024-01-07T14:49:43.397Z"
      },
      {
        "duration": 5,
        "start_time": "2024-01-07T15:17:44.394Z"
      },
      {
        "duration": 5,
        "start_time": "2024-01-07T15:18:25.022Z"
      },
      {
        "duration": 5,
        "start_time": "2024-01-07T15:19:08.396Z"
      },
      {
        "duration": 5,
        "start_time": "2024-01-07T15:20:40.956Z"
      },
      {
        "duration": 6,
        "start_time": "2024-01-07T15:22:16.389Z"
      },
      {
        "duration": 12,
        "start_time": "2024-01-07T16:33:55.892Z"
      },
      {
        "duration": 5,
        "start_time": "2024-01-07T16:34:28.321Z"
      },
      {
        "duration": 7,
        "start_time": "2024-01-07T16:34:37.958Z"
      },
      {
        "duration": 5,
        "start_time": "2024-01-07T16:39:52.958Z"
      },
      {
        "duration": 6,
        "start_time": "2024-01-07T16:40:55.702Z"
      },
      {
        "duration": 5,
        "start_time": "2024-01-07T16:42:03.918Z"
      },
      {
        "duration": 7,
        "start_time": "2024-01-07T16:42:10.703Z"
      },
      {
        "duration": 5,
        "start_time": "2024-01-07T16:42:22.377Z"
      },
      {
        "duration": 5,
        "start_time": "2024-01-07T16:42:26.676Z"
      },
      {
        "duration": 6,
        "start_time": "2024-01-07T16:48:29.798Z"
      },
      {
        "duration": 12,
        "start_time": "2024-01-07T16:50:24.891Z"
      },
      {
        "duration": 5,
        "start_time": "2024-01-07T16:52:15.464Z"
      },
      {
        "duration": 5,
        "start_time": "2024-01-07T16:52:18.777Z"
      },
      {
        "duration": 6,
        "start_time": "2024-01-07T16:56:30.201Z"
      },
      {
        "duration": 5,
        "start_time": "2024-01-07T16:56:33.417Z"
      },
      {
        "duration": 5,
        "start_time": "2024-01-07T16:57:55.245Z"
      },
      {
        "duration": 6,
        "start_time": "2024-01-07T16:58:15.322Z"
      },
      {
        "duration": 6,
        "start_time": "2024-01-07T16:58:20.942Z"
      },
      {
        "duration": 5,
        "start_time": "2024-01-07T16:58:28.241Z"
      },
      {
        "duration": 5,
        "start_time": "2024-01-07T16:58:43.976Z"
      },
      {
        "duration": 3,
        "start_time": "2024-01-07T16:58:48.075Z"
      },
      {
        "duration": 4,
        "start_time": "2024-01-07T16:58:55.783Z"
      },
      {
        "duration": 5,
        "start_time": "2024-01-07T16:58:59.950Z"
      },
      {
        "duration": 265,
        "start_time": "2024-01-07T16:59:28.338Z"
      },
      {
        "duration": 19,
        "start_time": "2024-01-07T16:59:28.605Z"
      },
      {
        "duration": 43,
        "start_time": "2024-01-07T16:59:28.626Z"
      },
      {
        "duration": 7,
        "start_time": "2024-01-07T16:59:28.673Z"
      },
      {
        "duration": 16,
        "start_time": "2024-01-07T16:59:28.682Z"
      },
      {
        "duration": 18,
        "start_time": "2024-01-07T16:59:28.700Z"
      },
      {
        "duration": 15,
        "start_time": "2024-01-07T16:59:28.720Z"
      },
      {
        "duration": 18,
        "start_time": "2024-01-07T16:59:28.737Z"
      },
      {
        "duration": 238,
        "start_time": "2024-01-07T16:59:28.756Z"
      },
      {
        "duration": 143,
        "start_time": "2024-01-07T16:59:28.998Z"
      },
      {
        "duration": 187,
        "start_time": "2024-01-07T16:59:29.143Z"
      },
      {
        "duration": 206,
        "start_time": "2024-01-07T16:59:29.331Z"
      },
      {
        "duration": 163,
        "start_time": "2024-01-07T16:59:29.539Z"
      },
      {
        "duration": 23,
        "start_time": "2024-01-07T16:59:29.704Z"
      },
      {
        "duration": 26,
        "start_time": "2024-01-07T16:59:29.728Z"
      },
      {
        "duration": 888,
        "start_time": "2024-01-07T16:59:29.756Z"
      },
      {
        "duration": 894,
        "start_time": "2024-01-07T16:59:30.645Z"
      },
      {
        "duration": 24,
        "start_time": "2024-01-07T16:59:31.541Z"
      },
      {
        "duration": 58,
        "start_time": "2024-01-07T16:59:31.567Z"
      },
      {
        "duration": 53,
        "start_time": "2024-01-07T16:59:31.627Z"
      },
      {
        "duration": 6,
        "start_time": "2024-01-07T16:59:31.682Z"
      },
      {
        "duration": 27,
        "start_time": "2024-01-07T16:59:31.690Z"
      },
      {
        "duration": 22,
        "start_time": "2024-01-07T16:59:31.719Z"
      },
      {
        "duration": 20,
        "start_time": "2024-01-07T16:59:31.742Z"
      },
      {
        "duration": 6,
        "start_time": "2024-01-07T16:59:37.937Z"
      },
      {
        "duration": 8,
        "start_time": "2024-01-07T16:59:40.909Z"
      },
      {
        "duration": 5,
        "start_time": "2024-01-07T17:00:01.068Z"
      },
      {
        "duration": 6,
        "start_time": "2024-01-07T17:00:03.846Z"
      },
      {
        "duration": 8,
        "start_time": "2024-01-07T17:00:24.315Z"
      },
      {
        "duration": 27,
        "start_time": "2024-01-07T17:01:37.403Z"
      },
      {
        "duration": 31,
        "start_time": "2024-01-07T17:01:57.050Z"
      },
      {
        "duration": 29,
        "start_time": "2024-01-07T17:02:04.424Z"
      },
      {
        "duration": 6,
        "start_time": "2024-01-07T17:02:09.709Z"
      },
      {
        "duration": 5,
        "start_time": "2024-01-07T17:03:08.451Z"
      },
      {
        "duration": 2396,
        "start_time": "2024-01-07T17:08:22.038Z"
      },
      {
        "duration": 2243,
        "start_time": "2024-01-07T17:08:52.989Z"
      },
      {
        "duration": 2438,
        "start_time": "2024-01-07T17:08:58.645Z"
      },
      {
        "duration": 2010,
        "start_time": "2024-01-07T17:24:17.350Z"
      },
      {
        "duration": 2275,
        "start_time": "2024-01-07T17:24:21.984Z"
      },
      {
        "duration": 2440,
        "start_time": "2024-01-07T17:25:10.598Z"
      },
      {
        "duration": 2348,
        "start_time": "2024-01-07T17:25:26.564Z"
      },
      {
        "duration": 2273,
        "start_time": "2024-01-07T17:25:40.112Z"
      },
      {
        "duration": 2486,
        "start_time": "2024-01-07T17:26:06.471Z"
      },
      {
        "duration": 2135,
        "start_time": "2024-01-07T17:27:09.636Z"
      },
      {
        "duration": 2232,
        "start_time": "2024-01-07T17:27:48.077Z"
      },
      {
        "duration": 12,
        "start_time": "2024-01-07T17:28:09.817Z"
      },
      {
        "duration": 11,
        "start_time": "2024-01-07T17:30:12.770Z"
      },
      {
        "duration": 2113,
        "start_time": "2024-01-07T17:30:23.525Z"
      },
      {
        "duration": 2219,
        "start_time": "2024-01-07T17:30:35.926Z"
      },
      {
        "duration": 2007,
        "start_time": "2024-01-07T17:31:26.696Z"
      },
      {
        "duration": 1846,
        "start_time": "2024-01-07T17:31:39.076Z"
      },
      {
        "duration": 1987,
        "start_time": "2024-01-07T17:32:43.568Z"
      },
      {
        "duration": 329,
        "start_time": "2024-01-07T17:32:54.145Z"
      },
      {
        "duration": 247,
        "start_time": "2024-01-07T17:33:28.726Z"
      },
      {
        "duration": 239,
        "start_time": "2024-01-07T17:34:01.466Z"
      },
      {
        "duration": 238,
        "start_time": "2024-01-07T17:34:07.367Z"
      },
      {
        "duration": 1740,
        "start_time": "2024-01-07T17:34:18.101Z"
      },
      {
        "duration": 2328,
        "start_time": "2024-01-07T17:34:49.037Z"
      },
      {
        "duration": 2170,
        "start_time": "2024-01-07T17:36:35.553Z"
      },
      {
        "duration": 2250,
        "start_time": "2024-01-07T17:37:01.403Z"
      },
      {
        "duration": 2143,
        "start_time": "2024-01-07T17:38:13.994Z"
      },
      {
        "duration": 2261,
        "start_time": "2024-01-07T17:38:24.626Z"
      },
      {
        "duration": 2202,
        "start_time": "2024-01-07T17:38:52.024Z"
      },
      {
        "duration": 2282,
        "start_time": "2024-01-07T17:39:03.498Z"
      },
      {
        "duration": 2195,
        "start_time": "2024-01-07T17:40:19.330Z"
      },
      {
        "duration": 143,
        "start_time": "2024-01-07T17:40:50.503Z"
      },
      {
        "duration": 138,
        "start_time": "2024-01-07T17:41:04.004Z"
      },
      {
        "duration": 136,
        "start_time": "2024-01-07T17:41:06.064Z"
      },
      {
        "duration": 2281,
        "start_time": "2024-01-07T17:43:14.130Z"
      },
      {
        "duration": 2177,
        "start_time": "2024-01-07T17:43:19.796Z"
      },
      {
        "duration": 2301,
        "start_time": "2024-01-07T17:43:29.349Z"
      },
      {
        "duration": 2199,
        "start_time": "2024-01-07T17:43:57.042Z"
      },
      {
        "duration": 2299,
        "start_time": "2024-01-07T17:44:15.959Z"
      },
      {
        "duration": 2226,
        "start_time": "2024-01-07T17:45:38.324Z"
      },
      {
        "duration": 2245,
        "start_time": "2024-01-07T17:45:44.409Z"
      },
      {
        "duration": 2201,
        "start_time": "2024-01-07T17:45:51.051Z"
      },
      {
        "duration": 2206,
        "start_time": "2024-01-07T17:45:57.209Z"
      },
      {
        "duration": 2255,
        "start_time": "2024-01-07T17:46:02.364Z"
      },
      {
        "duration": 2354,
        "start_time": "2024-01-07T17:46:07.370Z"
      },
      {
        "duration": 2251,
        "start_time": "2024-01-07T17:46:12.975Z"
      },
      {
        "duration": 2295,
        "start_time": "2024-01-07T17:48:13.308Z"
      },
      {
        "duration": 2252,
        "start_time": "2024-01-07T17:49:06.206Z"
      },
      {
        "duration": 2153,
        "start_time": "2024-01-07T17:49:15.740Z"
      },
      {
        "duration": 2501,
        "start_time": "2024-01-07T17:49:48.021Z"
      },
      {
        "duration": 2401,
        "start_time": "2024-01-07T17:50:13.573Z"
      },
      {
        "duration": 2446,
        "start_time": "2024-01-07T17:51:06.190Z"
      },
      {
        "duration": 2278,
        "start_time": "2024-01-07T17:51:20.059Z"
      },
      {
        "duration": 2407,
        "start_time": "2024-01-07T17:51:25.681Z"
      },
      {
        "duration": 2233,
        "start_time": "2024-01-07T17:51:40.526Z"
      },
      {
        "duration": 2261,
        "start_time": "2024-01-07T17:51:52.025Z"
      },
      {
        "duration": 2282,
        "start_time": "2024-01-07T17:52:01.668Z"
      },
      {
        "duration": 2303,
        "start_time": "2024-01-07T17:53:20.912Z"
      },
      {
        "duration": 2399,
        "start_time": "2024-01-07T17:54:04.340Z"
      },
      {
        "duration": 2238,
        "start_time": "2024-01-07T17:55:58.946Z"
      },
      {
        "duration": 2359,
        "start_time": "2024-01-07T17:56:35.289Z"
      },
      {
        "duration": 69,
        "start_time": "2024-01-07T17:57:16.394Z"
      },
      {
        "duration": 2232,
        "start_time": "2024-01-07T17:57:26.088Z"
      },
      {
        "duration": 186,
        "start_time": "2024-01-07T17:58:41.094Z"
      },
      {
        "duration": 5,
        "start_time": "2024-01-07T18:10:13.931Z"
      },
      {
        "duration": 186,
        "start_time": "2024-01-07T18:11:57.056Z"
      },
      {
        "duration": 240,
        "start_time": "2024-01-07T18:12:56.285Z"
      },
      {
        "duration": 428,
        "start_time": "2024-01-07T18:13:10.799Z"
      },
      {
        "duration": 290,
        "start_time": "2024-01-07T18:14:01.904Z"
      },
      {
        "duration": 258,
        "start_time": "2024-01-07T18:15:05.071Z"
      },
      {
        "duration": 109,
        "start_time": "2024-01-07T18:15:11.333Z"
      },
      {
        "duration": 262,
        "start_time": "2024-01-07T18:15:18.478Z"
      },
      {
        "duration": 277,
        "start_time": "2024-01-07T18:15:28.799Z"
      },
      {
        "duration": 253,
        "start_time": "2024-01-07T18:15:39.302Z"
      },
      {
        "duration": 251,
        "start_time": "2024-01-07T18:16:05.541Z"
      },
      {
        "duration": 253,
        "start_time": "2024-01-07T18:16:20.750Z"
      },
      {
        "duration": 277,
        "start_time": "2024-01-07T18:16:29.277Z"
      },
      {
        "duration": 256,
        "start_time": "2024-01-07T18:16:54.977Z"
      },
      {
        "duration": 271,
        "start_time": "2024-01-07T18:17:18.457Z"
      },
      {
        "duration": 339,
        "start_time": "2024-01-07T18:17:46.872Z"
      },
      {
        "duration": 236,
        "start_time": "2024-01-07T18:18:19.587Z"
      },
      {
        "duration": 6,
        "start_time": "2024-01-07T18:20:30.288Z"
      },
      {
        "duration": 262,
        "start_time": "2024-01-07T18:20:32.215Z"
      },
      {
        "duration": 1646,
        "start_time": "2024-01-07T22:35:51.154Z"
      },
      {
        "duration": 22,
        "start_time": "2024-01-07T22:35:52.803Z"
      },
      {
        "duration": 26,
        "start_time": "2024-01-07T22:35:52.826Z"
      },
      {
        "duration": 6,
        "start_time": "2024-01-07T22:35:52.854Z"
      },
      {
        "duration": 20,
        "start_time": "2024-01-07T22:35:52.862Z"
      },
      {
        "duration": 9,
        "start_time": "2024-01-07T22:35:52.883Z"
      },
      {
        "duration": 5,
        "start_time": "2024-01-07T22:35:52.893Z"
      },
      {
        "duration": 8,
        "start_time": "2024-01-07T22:35:52.899Z"
      },
      {
        "duration": 246,
        "start_time": "2024-01-07T22:35:52.908Z"
      },
      {
        "duration": 137,
        "start_time": "2024-01-07T22:35:53.158Z"
      },
      {
        "duration": 175,
        "start_time": "2024-01-07T22:35:53.297Z"
      },
      {
        "duration": 197,
        "start_time": "2024-01-07T22:35:53.474Z"
      },
      {
        "duration": 162,
        "start_time": "2024-01-07T22:35:53.673Z"
      },
      {
        "duration": 28,
        "start_time": "2024-01-07T22:35:53.836Z"
      },
      {
        "duration": 43,
        "start_time": "2024-01-07T22:35:53.865Z"
      },
      {
        "duration": 1076,
        "start_time": "2024-01-07T22:35:53.909Z"
      },
      {
        "duration": 1034,
        "start_time": "2024-01-07T22:35:54.987Z"
      },
      {
        "duration": 26,
        "start_time": "2024-01-07T22:35:56.023Z"
      },
      {
        "duration": 42,
        "start_time": "2024-01-07T22:35:56.051Z"
      },
      {
        "duration": 29,
        "start_time": "2024-01-07T22:35:56.094Z"
      },
      {
        "duration": 6,
        "start_time": "2024-01-07T22:35:56.124Z"
      },
      {
        "duration": 15,
        "start_time": "2024-01-07T22:35:56.132Z"
      },
      {
        "duration": 13,
        "start_time": "2024-01-07T22:35:56.148Z"
      },
      {
        "duration": 20,
        "start_time": "2024-01-07T22:35:56.162Z"
      },
      {
        "duration": 6,
        "start_time": "2024-01-07T22:35:56.183Z"
      },
      {
        "duration": 5,
        "start_time": "2024-01-07T22:35:56.190Z"
      },
      {
        "duration": 2150,
        "start_time": "2024-01-07T22:35:56.197Z"
      },
      {
        "duration": 6,
        "start_time": "2024-01-07T22:35:58.350Z"
      },
      {
        "duration": 267,
        "start_time": "2024-01-07T22:35:58.357Z"
      },
      {
        "duration": 57,
        "start_time": "2024-01-08T06:41:58.968Z"
      },
      {
        "duration": 1161,
        "start_time": "2024-01-08T06:42:03.113Z"
      },
      {
        "duration": 3,
        "start_time": "2024-01-08T06:47:28.598Z"
      },
      {
        "duration": 347,
        "start_time": "2024-01-08T06:47:31.328Z"
      },
      {
        "duration": 71,
        "start_time": "2024-01-08T06:48:07.032Z"
      },
      {
        "duration": 2,
        "start_time": "2024-01-08T06:49:05.546Z"
      },
      {
        "duration": 92,
        "start_time": "2024-01-08T06:49:09.088Z"
      },
      {
        "duration": 66,
        "start_time": "2024-01-08T06:52:40.147Z"
      },
      {
        "duration": 8,
        "start_time": "2024-01-08T06:55:05.344Z"
      },
      {
        "duration": 60,
        "start_time": "2024-01-08T06:57:19.213Z"
      },
      {
        "duration": 11,
        "start_time": "2024-01-08T07:00:41.550Z"
      },
      {
        "duration": 5,
        "start_time": "2024-01-08T07:00:57.376Z"
      },
      {
        "duration": 15,
        "start_time": "2024-01-08T07:01:07.840Z"
      },
      {
        "duration": 8,
        "start_time": "2024-01-08T07:01:24.362Z"
      },
      {
        "duration": 12,
        "start_time": "2024-01-08T07:02:20.523Z"
      },
      {
        "duration": 9,
        "start_time": "2024-01-08T07:02:34.527Z"
      },
      {
        "duration": 3,
        "start_time": "2024-01-08T07:02:52.898Z"
      },
      {
        "duration": 3,
        "start_time": "2024-01-08T07:03:06.408Z"
      },
      {
        "duration": 19,
        "start_time": "2024-01-08T07:03:10.764Z"
      },
      {
        "duration": 7,
        "start_time": "2024-01-08T07:03:19.637Z"
      },
      {
        "duration": 5,
        "start_time": "2024-01-08T07:03:21.509Z"
      },
      {
        "duration": 11,
        "start_time": "2024-01-08T07:03:24.746Z"
      },
      {
        "duration": 93,
        "start_time": "2024-01-08T07:03:53.851Z"
      },
      {
        "duration": 7,
        "start_time": "2024-01-08T07:03:57.614Z"
      },
      {
        "duration": 6,
        "start_time": "2024-01-08T07:04:04.319Z"
      },
      {
        "duration": 8,
        "start_time": "2024-01-08T07:04:47.185Z"
      },
      {
        "duration": 7,
        "start_time": "2024-01-08T07:04:47.450Z"
      },
      {
        "duration": 8,
        "start_time": "2024-01-08T07:04:49.353Z"
      },
      {
        "duration": 7,
        "start_time": "2024-01-08T07:05:52.325Z"
      },
      {
        "duration": 10,
        "start_time": "2024-01-08T07:06:02.487Z"
      },
      {
        "duration": 6,
        "start_time": "2024-01-08T07:06:06.779Z"
      },
      {
        "duration": 7,
        "start_time": "2024-01-08T07:06:19.642Z"
      },
      {
        "duration": 8,
        "start_time": "2024-01-08T07:06:44.400Z"
      },
      {
        "duration": 5,
        "start_time": "2024-01-08T07:07:07.363Z"
      },
      {
        "duration": 211,
        "start_time": "2024-01-08T07:10:33.134Z"
      },
      {
        "duration": 72,
        "start_time": "2024-01-08T07:11:42.379Z"
      },
      {
        "duration": 188,
        "start_time": "2024-01-08T07:11:49.294Z"
      },
      {
        "duration": 12,
        "start_time": "2024-01-08T07:12:26.813Z"
      },
      {
        "duration": 8,
        "start_time": "2024-01-08T07:12:42.124Z"
      },
      {
        "duration": 12,
        "start_time": "2024-01-08T07:13:12.716Z"
      },
      {
        "duration": 10,
        "start_time": "2024-01-08T07:13:21.378Z"
      },
      {
        "duration": 7,
        "start_time": "2024-01-08T07:13:28.094Z"
      },
      {
        "duration": 204,
        "start_time": "2024-01-08T07:14:44.498Z"
      },
      {
        "duration": 203,
        "start_time": "2024-01-08T07:14:53.345Z"
      },
      {
        "duration": 208,
        "start_time": "2024-01-08T07:15:02.457Z"
      },
      {
        "duration": 217,
        "start_time": "2024-01-08T07:15:04.620Z"
      },
      {
        "duration": 204,
        "start_time": "2024-01-08T07:15:29.465Z"
      },
      {
        "duration": 16,
        "start_time": "2024-01-08T07:16:44.244Z"
      },
      {
        "duration": 226,
        "start_time": "2024-01-08T07:16:52.663Z"
      },
      {
        "duration": 205,
        "start_time": "2024-01-08T07:21:08.003Z"
      },
      {
        "duration": 185,
        "start_time": "2024-01-08T07:21:24.898Z"
      },
      {
        "duration": 448,
        "start_time": "2024-01-08T07:22:11.638Z"
      },
      {
        "duration": 198,
        "start_time": "2024-01-08T07:22:49.619Z"
      },
      {
        "duration": 201,
        "start_time": "2024-01-08T07:22:55.305Z"
      },
      {
        "duration": 10,
        "start_time": "2024-01-08T07:23:20.098Z"
      },
      {
        "duration": 9,
        "start_time": "2024-01-08T07:23:24.083Z"
      },
      {
        "duration": 17,
        "start_time": "2024-01-08T07:23:36.352Z"
      },
      {
        "duration": 17,
        "start_time": "2024-01-08T07:26:52.919Z"
      },
      {
        "duration": 14,
        "start_time": "2024-01-08T07:28:17.353Z"
      },
      {
        "duration": 156,
        "start_time": "2024-01-08T07:28:24.881Z"
      },
      {
        "duration": 93,
        "start_time": "2024-01-08T07:30:29.384Z"
      },
      {
        "duration": 77,
        "start_time": "2024-01-08T07:30:40.257Z"
      },
      {
        "duration": 15,
        "start_time": "2024-01-08T07:31:18.860Z"
      },
      {
        "duration": 13,
        "start_time": "2024-01-08T07:31:37.336Z"
      },
      {
        "duration": 5,
        "start_time": "2024-01-08T07:36:22.399Z"
      },
      {
        "duration": 114,
        "start_time": "2024-01-08T07:37:36.590Z"
      },
      {
        "duration": 1934,
        "start_time": "2024-01-08T07:37:52.885Z"
      },
      {
        "duration": 2003,
        "start_time": "2024-01-08T07:38:01.256Z"
      },
      {
        "duration": 2143,
        "start_time": "2024-01-08T07:38:16.157Z"
      },
      {
        "duration": 2081,
        "start_time": "2024-01-08T07:38:20.395Z"
      },
      {
        "duration": 2442,
        "start_time": "2024-01-08T07:38:42.226Z"
      },
      {
        "duration": 115,
        "start_time": "2024-01-08T07:38:49.752Z"
      },
      {
        "duration": 188,
        "start_time": "2024-01-08T07:39:02.589Z"
      },
      {
        "duration": 14,
        "start_time": "2024-01-08T07:39:49.227Z"
      },
      {
        "duration": 3277,
        "start_time": "2024-01-08T07:39:57.524Z"
      },
      {
        "duration": 2089,
        "start_time": "2024-01-08T07:40:02.485Z"
      },
      {
        "duration": 16,
        "start_time": "2024-01-08T07:40:09.022Z"
      },
      {
        "duration": 182,
        "start_time": "2024-01-08T07:40:27.884Z"
      },
      {
        "duration": 1776,
        "start_time": "2024-01-08T07:40:43.922Z"
      },
      {
        "duration": 2374,
        "start_time": "2024-01-08T07:40:57.065Z"
      },
      {
        "duration": 181,
        "start_time": "2024-01-08T07:41:12.212Z"
      },
      {
        "duration": 187,
        "start_time": "2024-01-08T07:41:25.145Z"
      },
      {
        "duration": 180,
        "start_time": "2024-01-08T07:42:29.259Z"
      },
      {
        "duration": 15,
        "start_time": "2024-01-08T07:42:32.579Z"
      },
      {
        "duration": 178,
        "start_time": "2024-01-08T07:45:42.459Z"
      },
      {
        "duration": 177,
        "start_time": "2024-01-08T07:46:23.151Z"
      },
      {
        "duration": 172,
        "start_time": "2024-01-08T07:46:33.723Z"
      },
      {
        "duration": 169,
        "start_time": "2024-01-08T07:46:55.206Z"
      },
      {
        "duration": 156,
        "start_time": "2024-01-08T07:47:18.229Z"
      },
      {
        "duration": 154,
        "start_time": "2024-01-08T07:47:24.685Z"
      },
      {
        "duration": 135,
        "start_time": "2024-01-08T07:47:33.017Z"
      },
      {
        "duration": 9,
        "start_time": "2024-01-08T07:51:32.870Z"
      },
      {
        "duration": 9,
        "start_time": "2024-01-08T07:51:42.556Z"
      },
      {
        "duration": 1628,
        "start_time": "2024-01-08T07:52:22.482Z"
      },
      {
        "duration": 29,
        "start_time": "2024-01-08T07:53:12.875Z"
      },
      {
        "duration": 16,
        "start_time": "2024-01-08T07:53:27.098Z"
      },
      {
        "duration": 21,
        "start_time": "2024-01-08T07:53:45.897Z"
      },
      {
        "duration": 19,
        "start_time": "2024-01-08T07:54:35.814Z"
      },
      {
        "duration": 6,
        "start_time": "2024-01-08T07:55:03.311Z"
      },
      {
        "duration": 8,
        "start_time": "2024-01-08T07:55:18.438Z"
      },
      {
        "duration": 107,
        "start_time": "2024-01-08T07:58:43.650Z"
      },
      {
        "duration": 1195,
        "start_time": "2024-01-08T07:59:30.139Z"
      },
      {
        "duration": 292,
        "start_time": "2024-01-08T08:00:14.352Z"
      },
      {
        "duration": 100,
        "start_time": "2024-01-08T08:01:29.812Z"
      },
      {
        "duration": 100,
        "start_time": "2024-01-08T08:02:00.748Z"
      },
      {
        "duration": 7,
        "start_time": "2024-01-08T08:03:57.475Z"
      },
      {
        "duration": 11,
        "start_time": "2024-01-08T08:08:47.646Z"
      },
      {
        "duration": 9,
        "start_time": "2024-01-08T08:08:57.471Z"
      },
      {
        "duration": 10,
        "start_time": "2024-01-08T08:09:08.907Z"
      },
      {
        "duration": 93,
        "start_time": "2024-01-08T08:10:40.206Z"
      },
      {
        "duration": 131,
        "start_time": "2024-01-08T08:11:01.064Z"
      },
      {
        "duration": 98,
        "start_time": "2024-01-08T08:11:07.772Z"
      },
      {
        "duration": 102,
        "start_time": "2024-01-08T08:11:12.687Z"
      },
      {
        "duration": 90,
        "start_time": "2024-01-08T08:11:18.346Z"
      },
      {
        "duration": 102,
        "start_time": "2024-01-08T08:11:23.211Z"
      },
      {
        "duration": 734,
        "start_time": "2024-01-08T08:11:37.794Z"
      },
      {
        "duration": 293,
        "start_time": "2024-01-08T08:12:00.419Z"
      },
      {
        "duration": 180,
        "start_time": "2024-01-08T08:12:25.114Z"
      },
      {
        "duration": 1227,
        "start_time": "2024-01-08T08:13:01.164Z"
      },
      {
        "duration": 1105,
        "start_time": "2024-01-08T08:13:08.868Z"
      },
      {
        "duration": 143,
        "start_time": "2024-01-08T08:13:20.838Z"
      },
      {
        "duration": 1273,
        "start_time": "2024-01-08T08:13:23.417Z"
      },
      {
        "duration": 3,
        "start_time": "2024-01-08T08:13:46.349Z"
      },
      {
        "duration": 277,
        "start_time": "2024-01-08T08:13:46.354Z"
      },
      {
        "duration": 16,
        "start_time": "2024-01-08T08:13:46.633Z"
      },
      {
        "duration": 23,
        "start_time": "2024-01-08T08:13:46.651Z"
      },
      {
        "duration": 5,
        "start_time": "2024-01-08T08:13:46.676Z"
      },
      {
        "duration": 5,
        "start_time": "2024-01-08T08:13:46.683Z"
      },
      {
        "duration": 5,
        "start_time": "2024-01-08T08:13:46.689Z"
      },
      {
        "duration": 7,
        "start_time": "2024-01-08T08:13:46.695Z"
      },
      {
        "duration": 4,
        "start_time": "2024-01-08T08:13:46.704Z"
      },
      {
        "duration": 7,
        "start_time": "2024-01-08T08:13:46.710Z"
      },
      {
        "duration": 51,
        "start_time": "2024-01-08T08:13:46.719Z"
      },
      {
        "duration": 9,
        "start_time": "2024-01-08T08:13:46.772Z"
      },
      {
        "duration": 20,
        "start_time": "2024-01-08T08:13:46.783Z"
      },
      {
        "duration": 194,
        "start_time": "2024-01-08T08:13:46.805Z"
      },
      {
        "duration": 139,
        "start_time": "2024-01-08T08:13:47.000Z"
      },
      {
        "duration": 117,
        "start_time": "2024-01-08T08:13:47.141Z"
      },
      {
        "duration": 7,
        "start_time": "2024-01-08T08:13:47.260Z"
      },
      {
        "duration": 18,
        "start_time": "2024-01-08T08:13:47.268Z"
      },
      {
        "duration": 90,
        "start_time": "2024-01-08T08:13:47.287Z"
      },
      {
        "duration": 153,
        "start_time": "2024-01-08T08:13:47.378Z"
      },
      {
        "duration": 1171,
        "start_time": "2024-01-08T08:14:09.766Z"
      },
      {
        "duration": 132,
        "start_time": "2024-01-08T08:14:58.876Z"
      },
      {
        "duration": 117,
        "start_time": "2024-01-08T08:15:10.049Z"
      },
      {
        "duration": 3,
        "start_time": "2024-01-08T08:15:17.121Z"
      },
      {
        "duration": 107,
        "start_time": "2024-01-08T08:15:17.552Z"
      },
      {
        "duration": 26,
        "start_time": "2024-01-08T08:15:18.358Z"
      },
      {
        "duration": 28,
        "start_time": "2024-01-08T08:15:18.633Z"
      },
      {
        "duration": 7,
        "start_time": "2024-01-08T08:15:19.723Z"
      },
      {
        "duration": 5,
        "start_time": "2024-01-08T08:15:20.021Z"
      },
      {
        "duration": 6,
        "start_time": "2024-01-08T08:15:20.576Z"
      },
      {
        "duration": 7,
        "start_time": "2024-01-08T08:15:21.019Z"
      },
      {
        "duration": 5,
        "start_time": "2024-01-08T08:15:21.185Z"
      },
      {
        "duration": 8,
        "start_time": "2024-01-08T08:15:21.509Z"
      },
      {
        "duration": 6,
        "start_time": "2024-01-08T08:15:22.219Z"
      },
      {
        "duration": 6,
        "start_time": "2024-01-08T08:15:22.411Z"
      },
      {
        "duration": 6,
        "start_time": "2024-01-08T08:15:22.817Z"
      },
      {
        "duration": 190,
        "start_time": "2024-01-08T08:15:23.857Z"
      },
      {
        "duration": 136,
        "start_time": "2024-01-08T08:15:24.822Z"
      },
      {
        "duration": 122,
        "start_time": "2024-01-08T08:15:26.423Z"
      },
      {
        "duration": 8,
        "start_time": "2024-01-08T08:15:27.719Z"
      },
      {
        "duration": 6,
        "start_time": "2024-01-08T08:15:28.082Z"
      },
      {
        "duration": 89,
        "start_time": "2024-01-08T08:15:29.036Z"
      },
      {
        "duration": 145,
        "start_time": "2024-01-08T08:15:30.113Z"
      },
      {
        "duration": 92,
        "start_time": "2024-01-08T08:15:32.056Z"
      },
      {
        "duration": 186,
        "start_time": "2024-01-08T08:15:33.619Z"
      },
      {
        "duration": 141,
        "start_time": "2024-01-08T08:15:35.853Z"
      },
      {
        "duration": 105,
        "start_time": "2024-01-08T08:15:37.491Z"
      },
      {
        "duration": 26,
        "start_time": "2024-01-08T08:15:39.316Z"
      },
      {
        "duration": 24,
        "start_time": "2024-01-08T08:15:39.866Z"
      },
      {
        "duration": 1133,
        "start_time": "2024-01-08T08:16:00.871Z"
      },
      {
        "duration": 1229,
        "start_time": "2024-01-08T08:16:04.941Z"
      },
      {
        "duration": 77,
        "start_time": "2024-01-08T08:16:38.069Z"
      },
      {
        "duration": 127,
        "start_time": "2024-01-08T08:16:49.773Z"
      },
      {
        "duration": 171,
        "start_time": "2024-01-08T08:16:59.269Z"
      },
      {
        "duration": 113,
        "start_time": "2024-01-08T08:21:16.506Z"
      },
      {
        "duration": 124,
        "start_time": "2024-01-08T08:21:38.448Z"
      },
      {
        "duration": 124,
        "start_time": "2024-01-08T08:21:50.060Z"
      },
      {
        "duration": 116,
        "start_time": "2024-01-08T08:22:28.103Z"
      },
      {
        "duration": 8,
        "start_time": "2024-01-08T08:28:00.887Z"
      },
      {
        "duration": 4,
        "start_time": "2024-01-08T08:28:04.016Z"
      },
      {
        "duration": 4,
        "start_time": "2024-01-08T08:28:18.776Z"
      },
      {
        "duration": 27,
        "start_time": "2024-01-08T08:36:07.005Z"
      },
      {
        "duration": 18,
        "start_time": "2024-01-08T08:36:19.214Z"
      },
      {
        "duration": 13,
        "start_time": "2024-01-08T08:36:24.779Z"
      },
      {
        "duration": 168,
        "start_time": "2024-01-08T08:38:33.028Z"
      },
      {
        "duration": 202,
        "start_time": "2024-01-08T08:38:37.067Z"
      },
      {
        "duration": 161,
        "start_time": "2024-01-08T08:38:46.207Z"
      },
      {
        "duration": 161,
        "start_time": "2024-01-08T08:38:59.068Z"
      },
      {
        "duration": 125,
        "start_time": "2024-01-08T08:39:26.726Z"
      },
      {
        "duration": 124,
        "start_time": "2024-01-08T08:39:29.013Z"
      },
      {
        "duration": 135,
        "start_time": "2024-01-08T08:40:51.642Z"
      },
      {
        "duration": 141,
        "start_time": "2024-01-08T08:41:24.227Z"
      },
      {
        "duration": 130,
        "start_time": "2024-01-08T08:42:36.801Z"
      },
      {
        "duration": 73,
        "start_time": "2024-01-08T08:43:45.882Z"
      },
      {
        "duration": 25,
        "start_time": "2024-01-08T08:45:59.909Z"
      },
      {
        "duration": 9,
        "start_time": "2024-01-08T08:47:17.285Z"
      },
      {
        "duration": 5,
        "start_time": "2024-01-08T08:48:09.960Z"
      },
      {
        "duration": 5,
        "start_time": "2024-01-08T08:48:43.990Z"
      },
      {
        "duration": 15,
        "start_time": "2024-01-08T08:49:25.955Z"
      },
      {
        "duration": 13,
        "start_time": "2024-01-08T08:49:38.891Z"
      },
      {
        "duration": 50,
        "start_time": "2024-01-08T08:49:44.716Z"
      },
      {
        "duration": 10,
        "start_time": "2024-01-08T08:50:22.539Z"
      },
      {
        "duration": 10,
        "start_time": "2024-01-08T08:50:25.100Z"
      },
      {
        "duration": 29,
        "start_time": "2024-01-08T08:50:27.613Z"
      },
      {
        "duration": 28,
        "start_time": "2024-01-08T08:50:36.686Z"
      },
      {
        "duration": 30,
        "start_time": "2024-01-08T08:50:51.811Z"
      },
      {
        "duration": 6,
        "start_time": "2024-01-08T08:53:41.817Z"
      },
      {
        "duration": 3,
        "start_time": "2024-01-08T08:53:51.124Z"
      },
      {
        "duration": 126,
        "start_time": "2024-01-08T08:53:51.129Z"
      },
      {
        "duration": 17,
        "start_time": "2024-01-08T08:53:51.257Z"
      },
      {
        "duration": 26,
        "start_time": "2024-01-08T08:53:51.275Z"
      },
      {
        "duration": 7,
        "start_time": "2024-01-08T08:53:51.303Z"
      },
      {
        "duration": 8,
        "start_time": "2024-01-08T08:53:51.311Z"
      },
      {
        "duration": 6,
        "start_time": "2024-01-08T08:53:51.320Z"
      },
      {
        "duration": 38,
        "start_time": "2024-01-08T08:53:51.327Z"
      },
      {
        "duration": 5,
        "start_time": "2024-01-08T08:53:51.367Z"
      },
      {
        "duration": 10,
        "start_time": "2024-01-08T08:53:51.373Z"
      },
      {
        "duration": 5,
        "start_time": "2024-01-08T08:53:51.385Z"
      },
      {
        "duration": 5,
        "start_time": "2024-01-08T08:53:51.392Z"
      },
      {
        "duration": 5,
        "start_time": "2024-01-08T08:53:51.398Z"
      },
      {
        "duration": 226,
        "start_time": "2024-01-08T08:53:51.404Z"
      },
      {
        "duration": 155,
        "start_time": "2024-01-08T08:53:51.632Z"
      },
      {
        "duration": 124,
        "start_time": "2024-01-08T08:53:51.789Z"
      },
      {
        "duration": 6,
        "start_time": "2024-01-08T08:53:51.914Z"
      },
      {
        "duration": 9,
        "start_time": "2024-01-08T08:53:51.922Z"
      },
      {
        "duration": 103,
        "start_time": "2024-01-08T08:53:51.932Z"
      },
      {
        "duration": 164,
        "start_time": "2024-01-08T08:53:52.037Z"
      },
      {
        "duration": 119,
        "start_time": "2024-01-08T08:53:52.203Z"
      },
      {
        "duration": 187,
        "start_time": "2024-01-08T08:53:52.324Z"
      },
      {
        "duration": 622,
        "start_time": "2024-01-08T08:53:52.513Z"
      },
      {
        "duration": 128,
        "start_time": "2024-01-08T08:53:53.137Z"
      },
      {
        "duration": 131,
        "start_time": "2024-01-08T08:53:53.266Z"
      },
      {
        "duration": 4,
        "start_time": "2024-01-08T08:53:53.399Z"
      },
      {
        "duration": 16,
        "start_time": "2024-01-08T08:53:53.405Z"
      },
      {
        "duration": 21,
        "start_time": "2024-01-08T08:53:53.422Z"
      },
      {
        "duration": 34,
        "start_time": "2024-01-08T08:53:53.446Z"
      },
      {
        "duration": 10,
        "start_time": "2024-01-08T08:53:53.481Z"
      },
      {
        "duration": 714,
        "start_time": "2024-01-08T08:53:53.493Z"
      },
      {
        "duration": 741,
        "start_time": "2024-01-08T08:53:54.208Z"
      },
      {
        "duration": 146,
        "start_time": "2024-01-08T08:53:54.951Z"
      },
      {
        "duration": 136,
        "start_time": "2024-01-08T08:53:55.099Z"
      },
      {
        "duration": 146,
        "start_time": "2024-01-08T08:53:55.237Z"
      },
      {
        "duration": 126,
        "start_time": "2024-01-08T08:53:55.385Z"
      },
      {
        "duration": 14,
        "start_time": "2024-01-08T08:53:55.512Z"
      },
      {
        "duration": 41,
        "start_time": "2024-01-08T08:53:55.528Z"
      },
      {
        "duration": 24,
        "start_time": "2024-01-08T08:53:55.571Z"
      },
      {
        "duration": 35,
        "start_time": "2024-01-08T08:53:55.597Z"
      },
      {
        "duration": 6,
        "start_time": "2024-01-08T08:53:55.634Z"
      },
      {
        "duration": 5,
        "start_time": "2024-01-08T08:53:55.665Z"
      },
      {
        "duration": 6,
        "start_time": "2024-01-08T08:53:55.671Z"
      },
      {
        "duration": 9,
        "start_time": "2024-01-08T08:53:55.678Z"
      },
      {
        "duration": 5,
        "start_time": "2024-01-08T08:54:05.689Z"
      },
      {
        "duration": 5,
        "start_time": "2024-01-08T08:54:21.708Z"
      },
      {
        "duration": 5,
        "start_time": "2024-01-08T08:54:44.211Z"
      },
      {
        "duration": 5,
        "start_time": "2024-01-08T08:54:50.672Z"
      },
      {
        "duration": 5,
        "start_time": "2024-01-08T08:54:53.471Z"
      },
      {
        "duration": 5,
        "start_time": "2024-01-08T08:55:02.130Z"
      },
      {
        "duration": 5,
        "start_time": "2024-01-08T08:55:13.939Z"
      },
      {
        "duration": 5,
        "start_time": "2024-01-08T08:55:54.073Z"
      },
      {
        "duration": 10,
        "start_time": "2024-01-08T09:04:08.749Z"
      },
      {
        "duration": 3,
        "start_time": "2024-01-08T09:04:24.010Z"
      },
      {
        "duration": 5,
        "start_time": "2024-01-08T09:04:29.013Z"
      },
      {
        "duration": 171,
        "start_time": "2024-01-08T09:04:32.313Z"
      },
      {
        "duration": 75,
        "start_time": "2024-01-08T09:10:14.244Z"
      },
      {
        "duration": 1033,
        "start_time": "2024-01-08T19:01:12.328Z"
      },
      {
        "duration": 255,
        "start_time": "2024-01-08T19:01:13.363Z"
      },
      {
        "duration": 21,
        "start_time": "2024-01-08T19:01:13.620Z"
      },
      {
        "duration": 40,
        "start_time": "2024-01-08T19:01:13.643Z"
      },
      {
        "duration": 7,
        "start_time": "2024-01-08T19:01:13.684Z"
      },
      {
        "duration": 21,
        "start_time": "2024-01-08T19:01:13.693Z"
      },
      {
        "duration": 10,
        "start_time": "2024-01-08T19:01:13.716Z"
      },
      {
        "duration": 14,
        "start_time": "2024-01-08T19:01:13.728Z"
      },
      {
        "duration": 6,
        "start_time": "2024-01-08T19:01:13.743Z"
      },
      {
        "duration": 15,
        "start_time": "2024-01-08T19:01:13.752Z"
      },
      {
        "duration": 17,
        "start_time": "2024-01-08T19:01:13.768Z"
      },
      {
        "duration": 15,
        "start_time": "2024-01-08T19:01:13.787Z"
      },
      {
        "duration": 24,
        "start_time": "2024-01-08T19:01:13.803Z"
      },
      {
        "duration": 231,
        "start_time": "2024-01-08T19:01:13.828Z"
      },
      {
        "duration": 141,
        "start_time": "2024-01-08T19:01:14.060Z"
      },
      {
        "duration": 130,
        "start_time": "2024-01-08T19:01:14.203Z"
      },
      {
        "duration": 7,
        "start_time": "2024-01-08T19:01:14.334Z"
      },
      {
        "duration": 28,
        "start_time": "2024-01-08T19:01:14.343Z"
      },
      {
        "duration": 107,
        "start_time": "2024-01-08T19:01:14.372Z"
      },
      {
        "duration": 167,
        "start_time": "2024-01-08T19:01:14.481Z"
      },
      {
        "duration": 127,
        "start_time": "2024-01-08T19:01:14.650Z"
      },
      {
        "duration": 200,
        "start_time": "2024-01-08T19:01:14.779Z"
      },
      {
        "duration": 186,
        "start_time": "2024-01-08T19:01:14.980Z"
      },
      {
        "duration": 131,
        "start_time": "2024-01-08T19:01:15.168Z"
      },
      {
        "duration": 214,
        "start_time": "2024-01-08T19:01:15.300Z"
      },
      {
        "duration": 4,
        "start_time": "2024-01-08T19:01:15.515Z"
      },
      {
        "duration": 6,
        "start_time": "2024-01-08T19:01:15.520Z"
      },
      {
        "duration": 21,
        "start_time": "2024-01-08T19:01:15.529Z"
      },
      {
        "duration": 24,
        "start_time": "2024-01-08T19:01:15.551Z"
      },
      {
        "duration": 41,
        "start_time": "2024-01-08T19:01:15.577Z"
      },
      {
        "duration": 984,
        "start_time": "2024-01-08T19:01:15.620Z"
      },
      {
        "duration": 1096,
        "start_time": "2024-01-08T19:01:16.606Z"
      },
      {
        "duration": 155,
        "start_time": "2024-01-08T19:01:17.704Z"
      },
      {
        "duration": 148,
        "start_time": "2024-01-08T19:01:17.861Z"
      },
      {
        "duration": 158,
        "start_time": "2024-01-08T19:01:18.014Z"
      },
      {
        "duration": 143,
        "start_time": "2024-01-08T19:01:18.173Z"
      },
      {
        "duration": 14,
        "start_time": "2024-01-08T19:01:18.318Z"
      },
      {
        "duration": 27,
        "start_time": "2024-01-08T19:01:18.334Z"
      },
      {
        "duration": 26,
        "start_time": "2024-01-08T19:01:18.362Z"
      },
      {
        "duration": 50,
        "start_time": "2024-01-08T19:01:18.389Z"
      },
      {
        "duration": 6,
        "start_time": "2024-01-08T19:01:18.441Z"
      },
      {
        "duration": 21,
        "start_time": "2024-01-08T19:01:18.448Z"
      },
      {
        "duration": 7,
        "start_time": "2024-01-08T19:01:18.470Z"
      },
      {
        "duration": 15,
        "start_time": "2024-01-08T19:01:18.478Z"
      },
      {
        "duration": 5,
        "start_time": "2024-01-08T19:01:18.494Z"
      },
      {
        "duration": 15,
        "start_time": "2024-01-08T19:01:18.500Z"
      },
      {
        "duration": 6,
        "start_time": "2024-01-08T19:01:18.517Z"
      },
      {
        "duration": 2013,
        "start_time": "2024-01-08T19:01:18.525Z"
      },
      {
        "duration": 4,
        "start_time": "2024-01-08T19:01:20.540Z"
      },
      {
        "duration": 400,
        "start_time": "2024-01-08T19:01:20.546Z"
      },
      {
        "duration": 3,
        "start_time": "2024-01-08T19:07:18.244Z"
      },
      {
        "duration": 6,
        "start_time": "2024-01-08T19:08:39.845Z"
      },
      {
        "duration": 20,
        "start_time": "2024-01-08T19:08:48.056Z"
      },
      {
        "duration": 55,
        "start_time": "2024-01-08T19:19:38.357Z"
      },
      {
        "duration": 1271,
        "start_time": "2024-01-08T19:19:43.321Z"
      },
      {
        "duration": 266,
        "start_time": "2024-01-08T19:19:44.595Z"
      },
      {
        "duration": 22,
        "start_time": "2024-01-08T19:19:44.862Z"
      },
      {
        "duration": 25,
        "start_time": "2024-01-08T19:19:44.886Z"
      },
      {
        "duration": 7,
        "start_time": "2024-01-08T19:19:44.913Z"
      },
      {
        "duration": 21,
        "start_time": "2024-01-08T19:19:44.921Z"
      },
      {
        "duration": 6,
        "start_time": "2024-01-08T19:19:44.944Z"
      },
      {
        "duration": 9,
        "start_time": "2024-01-08T19:19:44.952Z"
      },
      {
        "duration": 7,
        "start_time": "2024-01-08T19:19:44.963Z"
      },
      {
        "duration": 7,
        "start_time": "2024-01-08T19:19:44.973Z"
      },
      {
        "duration": 6,
        "start_time": "2024-01-08T19:19:44.982Z"
      },
      {
        "duration": 13,
        "start_time": "2024-01-08T19:19:44.990Z"
      },
      {
        "duration": 5,
        "start_time": "2024-01-08T19:19:45.005Z"
      },
      {
        "duration": 264,
        "start_time": "2024-01-08T19:19:45.011Z"
      },
      {
        "duration": 146,
        "start_time": "2024-01-08T19:19:45.277Z"
      },
      {
        "duration": 127,
        "start_time": "2024-01-08T19:19:45.424Z"
      },
      {
        "duration": 9,
        "start_time": "2024-01-08T19:19:45.553Z"
      },
      {
        "duration": 8,
        "start_time": "2024-01-08T19:19:45.563Z"
      },
      {
        "duration": 125,
        "start_time": "2024-01-08T19:19:45.573Z"
      },
      {
        "duration": 186,
        "start_time": "2024-01-08T19:19:45.700Z"
      },
      {
        "duration": 120,
        "start_time": "2024-01-08T19:19:45.888Z"
      },
      {
        "duration": 223,
        "start_time": "2024-01-08T19:19:46.010Z"
      },
      {
        "duration": 206,
        "start_time": "2024-01-08T19:19:46.234Z"
      },
      {
        "duration": 160,
        "start_time": "2024-01-08T19:19:46.442Z"
      },
      {
        "duration": 214,
        "start_time": "2024-01-08T19:19:46.604Z"
      },
      {
        "duration": 3,
        "start_time": "2024-01-08T19:19:46.820Z"
      },
      {
        "duration": 29,
        "start_time": "2024-01-08T19:19:46.824Z"
      },
      {
        "duration": 41,
        "start_time": "2024-01-08T19:19:46.859Z"
      },
      {
        "duration": 9,
        "start_time": "2024-01-08T19:19:46.901Z"
      },
      {
        "duration": 41,
        "start_time": "2024-01-08T19:19:46.912Z"
      },
      {
        "duration": 15,
        "start_time": "2024-01-08T19:19:46.954Z"
      },
      {
        "duration": 862,
        "start_time": "2024-01-08T19:19:46.970Z"
      },
      {
        "duration": 905,
        "start_time": "2024-01-08T19:19:47.833Z"
      },
      {
        "duration": 185,
        "start_time": "2024-01-08T19:19:48.739Z"
      },
      {
        "duration": 165,
        "start_time": "2024-01-08T19:19:48.926Z"
      },
      {
        "duration": 272,
        "start_time": "2024-01-08T19:19:49.093Z"
      },
      {
        "duration": 158,
        "start_time": "2024-01-08T19:19:49.367Z"
      },
      {
        "duration": 72,
        "start_time": "2024-01-08T19:20:10.329Z"
      },
      {
        "duration": 67,
        "start_time": "2024-01-08T19:20:23.464Z"
      },
      {
        "duration": 6,
        "start_time": "2024-01-08T19:20:29.848Z"
      },
      {
        "duration": 774,
        "start_time": "2024-01-08T19:21:56.904Z"
      },
      {
        "duration": 11,
        "start_time": "2024-01-08T19:22:08.421Z"
      },
      {
        "duration": 5,
        "start_time": "2024-01-08T19:22:15.415Z"
      },
      {
        "duration": 7,
        "start_time": "2024-01-08T19:23:11.878Z"
      },
      {
        "duration": 4,
        "start_time": "2024-01-08T19:23:14.176Z"
      },
      {
        "duration": 6,
        "start_time": "2024-01-08T19:23:16.253Z"
      },
      {
        "duration": 21,
        "start_time": "2024-01-08T19:23:18.853Z"
      },
      {
        "duration": 6,
        "start_time": "2024-01-08T19:23:24.236Z"
      },
      {
        "duration": 6,
        "start_time": "2024-01-08T19:23:25.849Z"
      },
      {
        "duration": 25,
        "start_time": "2024-01-08T19:23:37.669Z"
      },
      {
        "duration": 29,
        "start_time": "2024-01-08T19:23:40.948Z"
      },
      {
        "duration": 24,
        "start_time": "2024-01-08T19:23:46.011Z"
      },
      {
        "duration": 7,
        "start_time": "2024-01-08T19:24:15.820Z"
      },
      {
        "duration": 733,
        "start_time": "2024-01-08T19:27:07.830Z"
      },
      {
        "duration": 713,
        "start_time": "2024-01-08T19:27:10.824Z"
      },
      {
        "duration": 170,
        "start_time": "2024-01-08T19:29:03.495Z"
      },
      {
        "duration": 171,
        "start_time": "2024-01-08T19:29:59.960Z"
      },
      {
        "duration": 274,
        "start_time": "2024-01-08T19:30:05.395Z"
      },
      {
        "duration": 173,
        "start_time": "2024-01-08T19:30:17.753Z"
      },
      {
        "duration": 169,
        "start_time": "2024-01-08T19:31:04.398Z"
      },
      {
        "duration": 163,
        "start_time": "2024-01-08T19:31:13.257Z"
      },
      {
        "duration": 178,
        "start_time": "2024-01-08T19:31:40.501Z"
      },
      {
        "duration": 160,
        "start_time": "2024-01-08T19:32:08.998Z"
      },
      {
        "duration": 5,
        "start_time": "2024-01-08T19:32:25.826Z"
      },
      {
        "duration": 5,
        "start_time": "2024-01-08T19:32:29.099Z"
      },
      {
        "duration": 18,
        "start_time": "2024-01-08T19:32:32.792Z"
      },
      {
        "duration": 27,
        "start_time": "2024-01-08T19:32:37.948Z"
      },
      {
        "duration": 25,
        "start_time": "2024-01-08T19:32:42.998Z"
      },
      {
        "duration": 23,
        "start_time": "2024-01-08T19:32:54.370Z"
      },
      {
        "duration": 5,
        "start_time": "2024-01-08T19:33:05.671Z"
      },
      {
        "duration": 4,
        "start_time": "2024-01-08T19:33:20.394Z"
      },
      {
        "duration": 1164,
        "start_time": "2024-01-08T19:33:23.847Z"
      },
      {
        "duration": 1131,
        "start_time": "2024-01-08T19:33:31.629Z"
      },
      {
        "duration": 1071,
        "start_time": "2024-01-08T19:34:05.145Z"
      },
      {
        "duration": 153,
        "start_time": "2024-01-08T19:34:06.218Z"
      },
      {
        "duration": 21,
        "start_time": "2024-01-08T19:34:06.373Z"
      },
      {
        "duration": 27,
        "start_time": "2024-01-08T19:34:06.396Z"
      },
      {
        "duration": 7,
        "start_time": "2024-01-08T19:34:06.425Z"
      },
      {
        "duration": 25,
        "start_time": "2024-01-08T19:34:06.433Z"
      },
      {
        "duration": 11,
        "start_time": "2024-01-08T19:34:06.460Z"
      },
      {
        "duration": 9,
        "start_time": "2024-01-08T19:34:06.472Z"
      },
      {
        "duration": 6,
        "start_time": "2024-01-08T19:34:06.482Z"
      },
      {
        "duration": 7,
        "start_time": "2024-01-08T19:34:06.491Z"
      },
      {
        "duration": 6,
        "start_time": "2024-01-08T19:34:06.499Z"
      },
      {
        "duration": 21,
        "start_time": "2024-01-08T19:34:06.506Z"
      },
      {
        "duration": 19,
        "start_time": "2024-01-08T19:34:06.529Z"
      },
      {
        "duration": 251,
        "start_time": "2024-01-08T19:34:06.550Z"
      },
      {
        "duration": 160,
        "start_time": "2024-01-08T19:34:06.803Z"
      },
      {
        "duration": 149,
        "start_time": "2024-01-08T19:34:06.964Z"
      },
      {
        "duration": 6,
        "start_time": "2024-01-08T19:34:07.115Z"
      },
      {
        "duration": 14,
        "start_time": "2024-01-08T19:34:07.122Z"
      },
      {
        "duration": 125,
        "start_time": "2024-01-08T19:34:07.141Z"
      },
      {
        "duration": 186,
        "start_time": "2024-01-08T19:34:07.268Z"
      },
      {
        "duration": 136,
        "start_time": "2024-01-08T19:34:07.456Z"
      },
      {
        "duration": 216,
        "start_time": "2024-01-08T19:34:07.594Z"
      },
      {
        "duration": 203,
        "start_time": "2024-01-08T19:34:07.812Z"
      },
      {
        "duration": 157,
        "start_time": "2024-01-08T19:34:08.017Z"
      },
      {
        "duration": 239,
        "start_time": "2024-01-08T19:34:08.175Z"
      },
      {
        "duration": 4,
        "start_time": "2024-01-08T19:34:08.415Z"
      },
      {
        "duration": 5,
        "start_time": "2024-01-08T19:34:08.421Z"
      },
      {
        "duration": 29,
        "start_time": "2024-01-08T19:34:08.446Z"
      },
      {
        "duration": 5,
        "start_time": "2024-01-08T19:34:08.476Z"
      },
      {
        "duration": 30,
        "start_time": "2024-01-08T19:34:08.482Z"
      },
      {
        "duration": 45,
        "start_time": "2024-01-08T19:34:08.514Z"
      },
      {
        "duration": 863,
        "start_time": "2024-01-08T19:34:08.562Z"
      },
      {
        "duration": 874,
        "start_time": "2024-01-08T19:34:09.426Z"
      },
      {
        "duration": 205,
        "start_time": "2024-01-08T19:34:10.302Z"
      },
      {
        "duration": 183,
        "start_time": "2024-01-08T19:34:10.509Z"
      },
      {
        "duration": 272,
        "start_time": "2024-01-08T19:34:10.694Z"
      },
      {
        "duration": 198,
        "start_time": "2024-01-08T19:34:10.968Z"
      },
      {
        "duration": 7,
        "start_time": "2024-01-08T19:34:11.168Z"
      },
      {
        "duration": 46,
        "start_time": "2024-01-08T19:34:11.176Z"
      },
      {
        "duration": 40,
        "start_time": "2024-01-08T19:34:11.224Z"
      },
      {
        "duration": 28,
        "start_time": "2024-01-08T19:34:11.265Z"
      },
      {
        "duration": 24,
        "start_time": "2024-01-08T19:34:11.295Z"
      },
      {
        "duration": 11,
        "start_time": "2024-01-08T19:34:11.321Z"
      },
      {
        "duration": 42,
        "start_time": "2024-01-08T19:34:11.333Z"
      },
      {
        "duration": 11,
        "start_time": "2024-01-08T19:34:11.376Z"
      },
      {
        "duration": 19,
        "start_time": "2024-01-08T19:34:11.388Z"
      },
      {
        "duration": 23,
        "start_time": "2024-01-08T19:34:11.409Z"
      },
      {
        "duration": 24,
        "start_time": "2024-01-08T19:34:11.433Z"
      },
      {
        "duration": 29,
        "start_time": "2024-01-08T19:34:11.459Z"
      },
      {
        "duration": 2129,
        "start_time": "2024-01-08T19:34:11.489Z"
      },
      {
        "duration": 5,
        "start_time": "2024-01-08T19:34:13.619Z"
      },
      {
        "duration": 281,
        "start_time": "2024-01-08T19:34:13.626Z"
      },
      {
        "duration": 3,
        "start_time": "2024-01-08T19:35:00.970Z"
      },
      {
        "duration": 115,
        "start_time": "2024-01-08T19:35:01.504Z"
      },
      {
        "duration": 23,
        "start_time": "2024-01-08T19:35:04.650Z"
      },
      {
        "duration": 29,
        "start_time": "2024-01-08T19:35:05.980Z"
      },
      {
        "duration": 8,
        "start_time": "2024-01-08T19:35:09.360Z"
      },
      {
        "duration": 5,
        "start_time": "2024-01-08T19:35:10.191Z"
      },
      {
        "duration": 6,
        "start_time": "2024-01-08T19:35:11.508Z"
      },
      {
        "duration": 9,
        "start_time": "2024-01-08T19:35:13.259Z"
      },
      {
        "duration": 6,
        "start_time": "2024-01-08T19:35:13.996Z"
      },
      {
        "duration": 8,
        "start_time": "2024-01-08T19:35:15.130Z"
      },
      {
        "duration": 6,
        "start_time": "2024-01-08T19:35:16.716Z"
      },
      {
        "duration": 8,
        "start_time": "2024-01-08T19:35:17.261Z"
      },
      {
        "duration": 5,
        "start_time": "2024-01-08T19:35:17.769Z"
      },
      {
        "duration": 251,
        "start_time": "2024-01-08T19:35:21.710Z"
      },
      {
        "duration": 145,
        "start_time": "2024-01-08T19:35:23.464Z"
      },
      {
        "duration": 207,
        "start_time": "2024-01-08T19:35:25.893Z"
      },
      {
        "duration": 6,
        "start_time": "2024-01-08T19:35:28.626Z"
      },
      {
        "duration": 7,
        "start_time": "2024-01-08T19:35:29.199Z"
      },
      {
        "duration": 281,
        "start_time": "2024-01-08T19:35:30.693Z"
      },
      {
        "duration": 269,
        "start_time": "2024-01-08T19:35:32.624Z"
      },
      {
        "duration": 113,
        "start_time": "2024-01-08T19:35:36.379Z"
      },
      {
        "duration": 301,
        "start_time": "2024-01-08T19:35:39.543Z"
      },
      {
        "duration": 255,
        "start_time": "2024-01-08T19:35:42.108Z"
      },
      {
        "duration": 197,
        "start_time": "2024-01-08T19:36:14.940Z"
      },
      {
        "duration": 188,
        "start_time": "2024-01-08T19:36:23.538Z"
      },
      {
        "duration": 123,
        "start_time": "2024-01-08T19:36:28.807Z"
      },
      {
        "duration": 123,
        "start_time": "2024-01-08T19:36:33.467Z"
      },
      {
        "duration": 4,
        "start_time": "2024-01-08T19:36:36.811Z"
      },
      {
        "duration": 4,
        "start_time": "2024-01-08T19:36:37.236Z"
      },
      {
        "duration": 30,
        "start_time": "2024-01-08T19:36:38.564Z"
      },
      {
        "duration": 4,
        "start_time": "2024-01-08T19:36:38.975Z"
      },
      {
        "duration": 30,
        "start_time": "2024-01-08T19:36:40.298Z"
      },
      {
        "duration": 15,
        "start_time": "2024-01-08T19:36:42.998Z"
      },
      {
        "duration": 773,
        "start_time": "2024-01-08T19:36:45.589Z"
      },
      {
        "duration": 808,
        "start_time": "2024-01-08T19:36:46.364Z"
      },
      {
        "duration": 172,
        "start_time": "2024-01-08T19:36:47.445Z"
      },
      {
        "duration": 163,
        "start_time": "2024-01-08T19:36:48.273Z"
      },
      {
        "duration": 156,
        "start_time": "2024-01-08T19:36:49.621Z"
      },
      {
        "duration": 260,
        "start_time": "2024-01-08T19:36:50.049Z"
      },
      {
        "duration": 5,
        "start_time": "2024-01-08T19:36:53.370Z"
      },
      {
        "duration": 5,
        "start_time": "2024-01-08T19:37:01.479Z"
      },
      {
        "duration": 17,
        "start_time": "2024-01-08T19:37:09.264Z"
      },
      {
        "duration": 25,
        "start_time": "2024-01-08T19:37:16.221Z"
      },
      {
        "duration": 24,
        "start_time": "2024-01-08T19:37:19.612Z"
      },
      {
        "duration": 39,
        "start_time": "2024-01-08T19:37:23.600Z"
      },
      {
        "duration": 6,
        "start_time": "2024-01-08T19:37:30.129Z"
      },
      {
        "duration": 5,
        "start_time": "2024-01-08T19:37:38.513Z"
      },
      {
        "duration": 5,
        "start_time": "2024-01-08T19:37:45.090Z"
      },
      {
        "duration": 5,
        "start_time": "2024-01-08T19:37:49.712Z"
      },
      {
        "duration": 5,
        "start_time": "2024-01-08T19:37:54.185Z"
      },
      {
        "duration": 4,
        "start_time": "2024-01-08T19:37:59.012Z"
      },
      {
        "duration": 5,
        "start_time": "2024-01-08T19:38:03.286Z"
      },
      {
        "duration": 5,
        "start_time": "2024-01-08T19:38:06.426Z"
      },
      {
        "duration": 134,
        "start_time": "2024-01-08T19:38:57.977Z"
      },
      {
        "duration": 109,
        "start_time": "2024-01-08T19:39:37.778Z"
      },
      {
        "duration": 182,
        "start_time": "2024-01-08T19:39:52.121Z"
      },
      {
        "duration": 194,
        "start_time": "2024-01-08T19:40:04.174Z"
      },
      {
        "duration": 106,
        "start_time": "2024-01-08T19:40:20.931Z"
      },
      {
        "duration": 108,
        "start_time": "2024-01-08T19:40:27.634Z"
      },
      {
        "duration": 115,
        "start_time": "2024-01-08T19:40:45.475Z"
      },
      {
        "duration": 132,
        "start_time": "2024-01-08T19:40:58.334Z"
      },
      {
        "duration": 124,
        "start_time": "2024-01-08T19:41:11.721Z"
      },
      {
        "duration": 117,
        "start_time": "2024-01-08T19:41:15.376Z"
      },
      {
        "duration": 303,
        "start_time": "2024-01-08T19:41:28.216Z"
      },
      {
        "duration": 179,
        "start_time": "2024-01-08T19:41:38.816Z"
      },
      {
        "duration": 139,
        "start_time": "2024-01-08T19:42:10.418Z"
      },
      {
        "duration": 135,
        "start_time": "2024-01-08T19:42:39.439Z"
      },
      {
        "duration": 147,
        "start_time": "2024-01-08T19:42:52.954Z"
      },
      {
        "duration": 5,
        "start_time": "2024-01-08T19:46:01.397Z"
      },
      {
        "duration": 5,
        "start_time": "2024-01-08T19:46:05.437Z"
      },
      {
        "duration": 72,
        "start_time": "2024-01-08T19:47:35.954Z"
      },
      {
        "duration": 6,
        "start_time": "2024-01-08T19:47:44.129Z"
      },
      {
        "duration": 4,
        "start_time": "2024-01-08T19:50:50.938Z"
      },
      {
        "duration": 130,
        "start_time": "2024-01-08T19:50:51.154Z"
      },
      {
        "duration": 17,
        "start_time": "2024-01-08T19:50:52.094Z"
      },
      {
        "duration": 25,
        "start_time": "2024-01-08T19:50:52.500Z"
      },
      {
        "duration": 8,
        "start_time": "2024-01-08T19:50:55.689Z"
      },
      {
        "duration": 5,
        "start_time": "2024-01-08T19:50:56.515Z"
      },
      {
        "duration": 6,
        "start_time": "2024-01-08T19:50:57.747Z"
      },
      {
        "duration": 9,
        "start_time": "2024-01-08T19:50:58.418Z"
      },
      {
        "duration": 6,
        "start_time": "2024-01-08T19:50:58.994Z"
      },
      {
        "duration": 11,
        "start_time": "2024-01-08T19:50:59.458Z"
      },
      {
        "duration": 7,
        "start_time": "2024-01-08T19:51:00.259Z"
      },
      {
        "duration": 8,
        "start_time": "2024-01-08T19:51:00.756Z"
      },
      {
        "duration": 5,
        "start_time": "2024-01-08T19:51:00.917Z"
      },
      {
        "duration": 196,
        "start_time": "2024-01-08T19:51:02.100Z"
      },
      {
        "duration": 163,
        "start_time": "2024-01-08T19:51:02.707Z"
      },
      {
        "duration": 149,
        "start_time": "2024-01-08T19:51:03.459Z"
      },
      {
        "duration": 7,
        "start_time": "2024-01-08T19:51:04.093Z"
      },
      {
        "duration": 7,
        "start_time": "2024-01-08T19:51:04.332Z"
      },
      {
        "duration": 97,
        "start_time": "2024-01-08T19:51:05.139Z"
      },
      {
        "duration": 185,
        "start_time": "2024-01-08T19:51:07.891Z"
      },
      {
        "duration": 129,
        "start_time": "2024-01-08T19:51:09.564Z"
      },
      {
        "duration": 316,
        "start_time": "2024-01-08T19:51:13.322Z"
      },
      {
        "duration": 202,
        "start_time": "2024-01-08T19:51:15.787Z"
      },
      {
        "duration": 144,
        "start_time": "2024-01-08T19:51:17.119Z"
      },
      {
        "duration": 143,
        "start_time": "2024-01-08T19:51:18.355Z"
      },
      {
        "duration": 4,
        "start_time": "2024-01-08T19:51:22.171Z"
      },
      {
        "duration": 4,
        "start_time": "2024-01-08T19:51:22.652Z"
      },
      {
        "duration": 21,
        "start_time": "2024-01-08T19:51:23.668Z"
      },
      {
        "duration": 4,
        "start_time": "2024-01-08T19:51:24.164Z"
      },
      {
        "duration": 25,
        "start_time": "2024-01-08T19:51:26.020Z"
      },
      {
        "duration": 14,
        "start_time": "2024-01-08T19:51:28.163Z"
      },
      {
        "duration": 759,
        "start_time": "2024-01-08T19:51:30.411Z"
      },
      {
        "duration": 954,
        "start_time": "2024-01-08T19:51:31.180Z"
      },
      {
        "duration": 178,
        "start_time": "2024-01-08T19:51:33.412Z"
      },
      {
        "duration": 171,
        "start_time": "2024-01-08T19:51:40.213Z"
      },
      {
        "duration": 180,
        "start_time": "2024-01-08T19:51:41.916Z"
      },
      {
        "duration": 175,
        "start_time": "2024-01-08T19:51:42.980Z"
      },
      {
        "duration": 6,
        "start_time": "2024-01-08T19:51:51.363Z"
      },
      {
        "duration": 5,
        "start_time": "2024-01-08T19:51:56.105Z"
      },
      {
        "duration": 6,
        "start_time": "2024-01-08T19:52:05.596Z"
      },
      {
        "duration": 17,
        "start_time": "2024-01-08T19:52:06.724Z"
      },
      {
        "duration": 25,
        "start_time": "2024-01-08T19:52:08.605Z"
      },
      {
        "duration": 22,
        "start_time": "2024-01-08T19:52:09.007Z"
      },
      {
        "duration": 26,
        "start_time": "2024-01-08T19:52:09.899Z"
      },
      {
        "duration": 6,
        "start_time": "2024-01-08T19:52:14.596Z"
      },
      {
        "duration": 5,
        "start_time": "2024-01-08T19:52:17.962Z"
      },
      {
        "duration": 5,
        "start_time": "2024-01-08T19:52:22.305Z"
      },
      {
        "duration": 4,
        "start_time": "2024-01-08T19:52:23.531Z"
      },
      {
        "duration": 9,
        "start_time": "2024-01-08T19:52:25.263Z"
      },
      {
        "duration": 5,
        "start_time": "2024-01-08T19:52:26.054Z"
      },
      {
        "duration": 6,
        "start_time": "2024-01-08T19:52:26.640Z"
      },
      {
        "duration": 3,
        "start_time": "2024-01-08T19:52:35.884Z"
      },
      {
        "duration": 99,
        "start_time": "2024-01-08T19:52:35.889Z"
      },
      {
        "duration": 16,
        "start_time": "2024-01-08T19:52:35.990Z"
      },
      {
        "duration": 25,
        "start_time": "2024-01-08T19:52:36.008Z"
      },
      {
        "duration": 6,
        "start_time": "2024-01-08T19:52:36.034Z"
      },
      {
        "duration": 6,
        "start_time": "2024-01-08T19:52:36.042Z"
      },
      {
        "duration": 5,
        "start_time": "2024-01-08T19:52:36.049Z"
      },
      {
        "duration": 7,
        "start_time": "2024-01-08T19:52:36.056Z"
      },
      {
        "duration": 5,
        "start_time": "2024-01-08T19:52:36.064Z"
      },
      {
        "duration": 7,
        "start_time": "2024-01-08T19:52:36.071Z"
      },
      {
        "duration": 5,
        "start_time": "2024-01-08T19:52:36.081Z"
      },
      {
        "duration": 6,
        "start_time": "2024-01-08T19:52:36.088Z"
      },
      {
        "duration": 49,
        "start_time": "2024-01-08T19:52:36.095Z"
      },
      {
        "duration": 213,
        "start_time": "2024-01-08T19:52:36.146Z"
      },
      {
        "duration": 155,
        "start_time": "2024-01-08T19:52:36.361Z"
      },
      {
        "duration": 153,
        "start_time": "2024-01-08T19:52:36.518Z"
      },
      {
        "duration": 8,
        "start_time": "2024-01-08T19:52:36.673Z"
      },
      {
        "duration": 9,
        "start_time": "2024-01-08T19:52:36.682Z"
      },
      {
        "duration": 124,
        "start_time": "2024-01-08T19:52:36.693Z"
      },
      {
        "duration": 176,
        "start_time": "2024-01-08T19:52:36.819Z"
      },
      {
        "duration": 233,
        "start_time": "2024-01-08T19:52:36.997Z"
      },
      {
        "duration": 220,
        "start_time": "2024-01-08T19:52:37.232Z"
      },
      {
        "duration": 205,
        "start_time": "2024-01-08T19:52:37.454Z"
      },
      {
        "duration": 143,
        "start_time": "2024-01-08T19:52:37.660Z"
      },
      {
        "duration": 148,
        "start_time": "2024-01-08T19:52:37.804Z"
      },
      {
        "duration": 4,
        "start_time": "2024-01-08T19:52:37.954Z"
      },
      {
        "duration": 26,
        "start_time": "2024-01-08T19:52:37.960Z"
      },
      {
        "duration": 41,
        "start_time": "2024-01-08T19:52:37.987Z"
      },
      {
        "duration": 4,
        "start_time": "2024-01-08T19:52:38.031Z"
      },
      {
        "duration": 44,
        "start_time": "2024-01-08T19:52:38.036Z"
      },
      {
        "duration": 12,
        "start_time": "2024-01-08T19:52:38.081Z"
      },
      {
        "duration": 710,
        "start_time": "2024-01-08T19:52:38.094Z"
      },
      {
        "duration": 884,
        "start_time": "2024-01-08T19:52:38.806Z"
      },
      {
        "duration": 197,
        "start_time": "2024-01-08T19:52:39.692Z"
      },
      {
        "duration": 179,
        "start_time": "2024-01-08T19:52:39.891Z"
      },
      {
        "duration": 161,
        "start_time": "2024-01-08T19:52:40.071Z"
      },
      {
        "duration": 192,
        "start_time": "2024-01-08T19:52:40.234Z"
      },
      {
        "duration": 16,
        "start_time": "2024-01-08T19:52:40.427Z"
      },
      {
        "duration": 19,
        "start_time": "2024-01-08T19:52:40.445Z"
      },
      {
        "duration": 42,
        "start_time": "2024-01-08T19:52:40.466Z"
      },
      {
        "duration": 33,
        "start_time": "2024-01-08T19:52:40.510Z"
      },
      {
        "duration": 26,
        "start_time": "2024-01-08T19:52:40.545Z"
      },
      {
        "duration": 6,
        "start_time": "2024-01-08T19:52:40.573Z"
      },
      {
        "duration": 5,
        "start_time": "2024-01-08T19:52:40.580Z"
      },
      {
        "duration": 5,
        "start_time": "2024-01-08T19:52:40.586Z"
      },
      {
        "duration": 6,
        "start_time": "2024-01-08T19:52:40.593Z"
      },
      {
        "duration": 46,
        "start_time": "2024-01-08T19:52:40.600Z"
      },
      {
        "duration": 5,
        "start_time": "2024-01-08T19:52:40.647Z"
      },
      {
        "duration": 9,
        "start_time": "2024-01-08T19:52:40.654Z"
      },
      {
        "duration": 2179,
        "start_time": "2024-01-08T19:52:40.664Z"
      },
      {
        "duration": 6,
        "start_time": "2024-01-08T19:52:42.845Z"
      },
      {
        "duration": 308,
        "start_time": "2024-01-08T19:52:42.853Z"
      },
      {
        "duration": 3,
        "start_time": "2024-01-08T19:53:38.367Z"
      },
      {
        "duration": 92,
        "start_time": "2024-01-08T19:53:38.538Z"
      },
      {
        "duration": 20,
        "start_time": "2024-01-08T19:53:39.519Z"
      },
      {
        "duration": 26,
        "start_time": "2024-01-08T19:53:39.616Z"
      },
      {
        "duration": 10,
        "start_time": "2024-01-08T19:53:39.862Z"
      },
      {
        "duration": 5,
        "start_time": "2024-01-08T19:53:40.171Z"
      },
      {
        "duration": 7,
        "start_time": "2024-01-08T19:53:40.779Z"
      },
      {
        "duration": 8,
        "start_time": "2024-01-08T19:53:40.897Z"
      },
      {
        "duration": 6,
        "start_time": "2024-01-08T19:53:40.953Z"
      },
      {
        "duration": 8,
        "start_time": "2024-01-08T19:53:42.394Z"
      },
      {
        "duration": 9,
        "start_time": "2024-01-08T19:53:43.141Z"
      },
      {
        "duration": 10,
        "start_time": "2024-01-08T19:53:43.344Z"
      },
      {
        "duration": 6,
        "start_time": "2024-01-08T19:53:43.584Z"
      },
      {
        "duration": 216,
        "start_time": "2024-01-08T19:53:44.553Z"
      },
      {
        "duration": 162,
        "start_time": "2024-01-08T19:53:45.157Z"
      },
      {
        "duration": 162,
        "start_time": "2024-01-08T19:53:45.321Z"
      },
      {
        "duration": 6,
        "start_time": "2024-01-08T19:53:45.485Z"
      },
      {
        "duration": 6,
        "start_time": "2024-01-08T19:53:45.492Z"
      },
      {
        "duration": 101,
        "start_time": "2024-01-08T19:53:46.678Z"
      },
      {
        "duration": 171,
        "start_time": "2024-01-08T19:53:46.821Z"
      },
      {
        "duration": 121,
        "start_time": "2024-01-08T19:53:46.994Z"
      },
      {
        "duration": 219,
        "start_time": "2024-01-08T19:53:48.566Z"
      },
      {
        "duration": 209,
        "start_time": "2024-01-08T19:53:48.787Z"
      },
      {
        "duration": 136,
        "start_time": "2024-01-08T19:53:50.199Z"
      },
      {
        "duration": 148,
        "start_time": "2024-01-08T19:53:50.337Z"
      },
      {
        "duration": 4,
        "start_time": "2024-01-08T19:53:50.823Z"
      },
      {
        "duration": 5,
        "start_time": "2024-01-08T19:53:51.351Z"
      },
      {
        "duration": 22,
        "start_time": "2024-01-08T19:53:51.484Z"
      },
      {
        "duration": 7,
        "start_time": "2024-01-08T19:53:51.542Z"
      },
      {
        "duration": 30,
        "start_time": "2024-01-08T19:53:54.554Z"
      },
      {
        "duration": 14,
        "start_time": "2024-01-08T19:53:55.730Z"
      },
      {
        "duration": 892,
        "start_time": "2024-01-08T19:53:57.815Z"
      },
      {
        "duration": 837,
        "start_time": "2024-01-08T19:53:58.709Z"
      },
      {
        "duration": 201,
        "start_time": "2024-01-08T19:54:00.382Z"
      },
      {
        "duration": 178,
        "start_time": "2024-01-08T19:54:00.925Z"
      },
      {
        "duration": 182,
        "start_time": "2024-01-08T19:54:01.405Z"
      },
      {
        "duration": 189,
        "start_time": "2024-01-08T19:54:01.720Z"
      },
      {
        "duration": 7,
        "start_time": "2024-01-08T19:54:07.555Z"
      },
      {
        "duration": 22,
        "start_time": "2024-01-08T19:54:11.347Z"
      },
      {
        "duration": 16,
        "start_time": "2024-01-08T19:54:13.420Z"
      },
      {
        "duration": 6,
        "start_time": "2024-01-08T19:54:17.737Z"
      },
      {
        "duration": 7,
        "start_time": "2024-01-08T19:54:20.061Z"
      },
      {
        "duration": 5,
        "start_time": "2024-01-08T19:54:23.334Z"
      },
      {
        "duration": 24,
        "start_time": "2024-01-08T19:54:28.545Z"
      },
      {
        "duration": 30,
        "start_time": "2024-01-08T19:54:31.954Z"
      },
      {
        "duration": 31,
        "start_time": "2024-01-08T19:54:36.229Z"
      },
      {
        "duration": 29,
        "start_time": "2024-01-08T19:54:40.352Z"
      },
      {
        "duration": 2435,
        "start_time": "2024-01-08T19:54:59.097Z"
      },
      {
        "duration": 73,
        "start_time": "2024-01-08T20:21:11.124Z"
      },
      {
        "duration": 20,
        "start_time": "2024-01-08T20:21:31.666Z"
      },
      {
        "duration": 19,
        "start_time": "2024-01-08T20:21:52.314Z"
      },
      {
        "duration": 1278,
        "start_time": "2024-04-21T19:56:13.411Z"
      },
      {
        "duration": 411,
        "start_time": "2024-04-21T19:56:14.691Z"
      },
      {
        "duration": 22,
        "start_time": "2024-04-21T19:56:15.104Z"
      },
      {
        "duration": 173,
        "start_time": "2024-04-21T19:56:15.128Z"
      },
      {
        "duration": 60,
        "start_time": "2024-04-21T19:56:15.303Z"
      },
      {
        "duration": 9,
        "start_time": "2024-04-21T19:56:15.365Z"
      },
      {
        "duration": 19,
        "start_time": "2024-04-21T19:56:15.376Z"
      },
      {
        "duration": 34,
        "start_time": "2024-04-21T19:56:15.397Z"
      },
      {
        "duration": 31,
        "start_time": "2024-04-21T19:56:15.433Z"
      },
      {
        "duration": 21,
        "start_time": "2024-04-21T19:56:15.466Z"
      },
      {
        "duration": 18,
        "start_time": "2024-04-21T19:56:15.489Z"
      },
      {
        "duration": 27,
        "start_time": "2024-04-21T19:56:15.509Z"
      },
      {
        "duration": 21,
        "start_time": "2024-04-21T19:56:15.538Z"
      },
      {
        "duration": 262,
        "start_time": "2024-04-21T19:56:15.560Z"
      },
      {
        "duration": 156,
        "start_time": "2024-04-21T19:56:15.824Z"
      },
      {
        "duration": 151,
        "start_time": "2024-04-21T19:56:15.981Z"
      },
      {
        "duration": 7,
        "start_time": "2024-04-21T19:56:16.134Z"
      },
      {
        "duration": 7,
        "start_time": "2024-04-21T19:56:16.142Z"
      },
      {
        "duration": 117,
        "start_time": "2024-04-21T19:56:16.150Z"
      },
      {
        "duration": 185,
        "start_time": "2024-04-21T19:56:16.269Z"
      },
      {
        "duration": 129,
        "start_time": "2024-04-21T19:56:16.455Z"
      },
      {
        "duration": 215,
        "start_time": "2024-04-21T19:56:16.585Z"
      },
      {
        "duration": 221,
        "start_time": "2024-04-21T19:56:16.801Z"
      },
      {
        "duration": 157,
        "start_time": "2024-04-21T19:56:17.024Z"
      },
      {
        "duration": 222,
        "start_time": "2024-04-21T19:56:17.183Z"
      },
      {
        "duration": 4,
        "start_time": "2024-04-21T19:56:17.407Z"
      },
      {
        "duration": 10,
        "start_time": "2024-04-21T19:56:17.412Z"
      },
      {
        "duration": 24,
        "start_time": "2024-04-21T19:56:17.425Z"
      },
      {
        "duration": 4,
        "start_time": "2024-04-21T19:56:17.450Z"
      },
      {
        "duration": 53,
        "start_time": "2024-04-21T19:56:17.455Z"
      },
      {
        "duration": 11,
        "start_time": "2024-04-21T19:56:17.509Z"
      },
      {
        "duration": 777,
        "start_time": "2024-04-21T19:56:17.522Z"
      },
      {
        "duration": 819,
        "start_time": "2024-04-21T19:56:18.300Z"
      },
      {
        "duration": 185,
        "start_time": "2024-04-21T19:56:19.121Z"
      },
      {
        "duration": 179,
        "start_time": "2024-04-21T19:56:19.307Z"
      },
      {
        "duration": 270,
        "start_time": "2024-04-21T19:56:19.491Z"
      },
      {
        "duration": 184,
        "start_time": "2024-04-21T19:56:19.762Z"
      },
      {
        "duration": 6,
        "start_time": "2024-04-21T19:56:19.948Z"
      },
      {
        "duration": 16,
        "start_time": "2024-04-21T19:56:19.955Z"
      },
      {
        "duration": 46,
        "start_time": "2024-04-21T19:56:19.972Z"
      },
      {
        "duration": 35,
        "start_time": "2024-04-21T19:56:20.020Z"
      },
      {
        "duration": 42,
        "start_time": "2024-04-21T19:56:20.056Z"
      },
      {
        "duration": 6,
        "start_time": "2024-04-21T19:56:20.099Z"
      },
      {
        "duration": 19,
        "start_time": "2024-04-21T19:56:20.106Z"
      },
      {
        "duration": 8,
        "start_time": "2024-04-21T19:56:20.127Z"
      },
      {
        "duration": 5,
        "start_time": "2024-04-21T19:56:20.137Z"
      },
      {
        "duration": 8,
        "start_time": "2024-04-21T19:56:20.144Z"
      },
      {
        "duration": 5,
        "start_time": "2024-04-21T19:56:20.154Z"
      },
      {
        "duration": 8,
        "start_time": "2024-04-21T19:56:20.160Z"
      },
      {
        "duration": 2134,
        "start_time": "2024-04-21T19:56:20.169Z"
      },
      {
        "duration": 5,
        "start_time": "2024-04-21T19:56:22.305Z"
      },
      {
        "duration": 290,
        "start_time": "2024-04-21T19:56:22.312Z"
      },
      {
        "duration": 197,
        "start_time": "2024-04-21T19:57:46.150Z"
      },
      {
        "duration": 146,
        "start_time": "2024-04-21T19:57:55.971Z"
      }
    ],
    "toc": {
      "base_numbering": 1,
      "nav_menu": {},
      "number_sections": true,
      "sideBar": true,
      "skip_h1_title": true,
      "title_cell": "Table of Contents",
      "title_sidebar": "Contents",
      "toc_cell": false,
      "toc_position": {},
      "toc_section_display": true,
      "toc_window_display": true
    }
  },
  "nbformat_minor": 5,
  "nbformat": 4,
  "cells": [
    {
      "id": "9a653708-5677-445d-b9c1-c4322661b224",
      "cell_type": "markdown",
      "source": "#### Statistics: predictions for a scootes shop bussiness growth.",
      "metadata": {}
    },
    {
      "id": "5d98a36e",
      "cell_type": "markdown",
      "source": "Introduction.\r\n\r\nProblem statement: Data was obtained about some users of the GoFast scooter rental service from several cities, as well as about their trips. It is necessary to analyze the data and test some hypotheses that can help the business grow.\r\n\r\n\r\nTo travel around the city, users of the GoFast service use a mobile application. The service can be used:\r\n\r\n- without subscription: no subscription fee; the cost of one minute of travel is 8 rubles; cost of start (beginning of the trip) - 50 rubles;\r\n\r\n- with Ultra subscription: subscription fee - 199 rubles per month; the cost of one minute of travel is 6 rubles; start-up cost is free.\r\n\r\nThe file \"users_go.csv\" contains information about users, their trips and subscriptions.\r\n\r\nIn the file \"rides_go.csv\" - information about trips\r\n\r\nIn the file \"subscriptions_go.csv\" - information about subscriptions\r\n\r\nProgress:\r\n\r\n1. Familiarize yourself with the data.\r\n2. Pre-process the data.\r\n3. Analyze the data and describe the main characteristics - frequency of occurrence of cities, ratio of users with and without subscription, age of users, distance traveled by the user in one trip, duration of trips.\r\n4. Combine data about users, trips and subscriptions into one dataframe.\r\n5. Calculation of revenue.\r\n6. Test some hypotheses before running promotions to increase the number of subscribed users.",
      "metadata": {}
    },
    {
      "id": "c42cbe00",
      "cell_type": "markdown",
      "source": "#### Step 1: Loading data",
      "metadata": {}
    },
    {
      "id": "a60cbd6d",
      "cell_type": "markdown",
      "source": "Let's take a look at the data.",
      "metadata": {}
    },
    {
      "id": "72576667",
      "cell_type": "code",
      "source": "import pandas as pd\nfrom scipy import stats as st\nimport numpy as np\nimport matplotlib.pyplot as plt\nfrom math import factorial  \nimport warnings\nfrom datetime import date\nfrom math import sqrt\nfrom scipy.stats import binom, norm\n\n",
      "metadata": {
        "scrolled": true
      },
      "outputs": [],
      "execution_count": 1
    },
    {
      "id": "6f22d036",
      "cell_type": "code",
      "source": "try:\n    df_rides = pd.read_csv('rides_go.csv',sep=',' )\n    df_subscriptions = pd.read_csv('subscriptions_go.csv', sep=',' )\n    df_users = pd.read_csv('users_go.csv',sep=',' )\nexcept:\n    df_rides = pd.read_csv('/datasets/rides_go.csv',sep=',' )\n    df_subscriptions = pd.read_csv('/datasets/subscriptions_go.csv', sep=',' )\n    df_users = pd.read_csv('/datasets/users_go.csv', sep=',' )",
      "metadata": {},
      "outputs": [],
      "execution_count": 2
    },
    {
      "id": "073a8e6b",
      "cell_type": "markdown",
      "source": "Оwriting data\r\n\r\nuser_id - unique user identifier,\r\n\r\nname - user name,\r\n\r\nage - age\r\n\r\ncity - city\r\n\r\nsubscription_type - subscription type (free, ultra)\r\n\r\ndistance the distance the user has traveled in the current session (in meters)\r\n\r\nduration session duration (in minutes) - the time from the moment the user pressed the “Start trip” button until the moment he pressed the “End trip” button\r\n\r\ndate - date of the trip\r\n\r\nsubscription_type - subscription type\r\n\r\nminute_price - the cost of one minute of travel for this subscription\r\n\r\nstart_ride_price - cost of starting the trip\r\n\r\nsubscription_fee - monthly payment cost",
      "metadata": {}
    },
    {
      "id": "83149e85",
      "cell_type": "code",
      "source": "display(df_rides.head(10))\ndisplay(df_users.head(10))\ndf_subscriptions\n",
      "metadata": {},
      "outputs": [
        {
          "data": {
            "text/html": [
              "<div>\n",
              "<style scoped>\n",
              "    .dataframe tbody tr th:only-of-type {\n",
              "        vertical-align: middle;\n",
              "    }\n",
              "\n",
              "    .dataframe tbody tr th {\n",
              "        vertical-align: top;\n",
              "    }\n",
              "\n",
              "    .dataframe thead th {\n",
              "        text-align: right;\n",
              "    }\n",
              "</style>\n",
              "<table border=\"1\" class=\"dataframe\">\n",
              "  <thead>\n",
              "    <tr style=\"text-align: right;\">\n",
              "      <th></th>\n",
              "      <th>user_id</th>\n",
              "      <th>distance</th>\n",
              "      <th>duration</th>\n",
              "      <th>date</th>\n",
              "    </tr>\n",
              "  </thead>\n",
              "  <tbody>\n",
              "    <tr>\n",
              "      <th>0</th>\n",
              "      <td>1</td>\n",
              "      <td>4409.919140</td>\n",
              "      <td>25.599769</td>\n",
              "      <td>2021-01-01</td>\n",
              "    </tr>\n",
              "    <tr>\n",
              "      <th>1</th>\n",
              "      <td>1</td>\n",
              "      <td>2617.592153</td>\n",
              "      <td>15.816871</td>\n",
              "      <td>2021-01-18</td>\n",
              "    </tr>\n",
              "    <tr>\n",
              "      <th>2</th>\n",
              "      <td>1</td>\n",
              "      <td>754.159807</td>\n",
              "      <td>6.232113</td>\n",
              "      <td>2021-04-20</td>\n",
              "    </tr>\n",
              "    <tr>\n",
              "      <th>3</th>\n",
              "      <td>1</td>\n",
              "      <td>2694.783254</td>\n",
              "      <td>18.511000</td>\n",
              "      <td>2021-08-11</td>\n",
              "    </tr>\n",
              "    <tr>\n",
              "      <th>4</th>\n",
              "      <td>1</td>\n",
              "      <td>4028.687306</td>\n",
              "      <td>26.265803</td>\n",
              "      <td>2021-08-28</td>\n",
              "    </tr>\n",
              "    <tr>\n",
              "      <th>5</th>\n",
              "      <td>1</td>\n",
              "      <td>2770.890808</td>\n",
              "      <td>16.650138</td>\n",
              "      <td>2021-10-09</td>\n",
              "    </tr>\n",
              "    <tr>\n",
              "      <th>6</th>\n",
              "      <td>1</td>\n",
              "      <td>3039.020292</td>\n",
              "      <td>14.927879</td>\n",
              "      <td>2021-10-19</td>\n",
              "    </tr>\n",
              "    <tr>\n",
              "      <th>7</th>\n",
              "      <td>1</td>\n",
              "      <td>2842.118050</td>\n",
              "      <td>23.117468</td>\n",
              "      <td>2021-11-06</td>\n",
              "    </tr>\n",
              "    <tr>\n",
              "      <th>8</th>\n",
              "      <td>1</td>\n",
              "      <td>3412.690668</td>\n",
              "      <td>15.238072</td>\n",
              "      <td>2021-11-14</td>\n",
              "    </tr>\n",
              "    <tr>\n",
              "      <th>9</th>\n",
              "      <td>1</td>\n",
              "      <td>748.690645</td>\n",
              "      <td>15.041884</td>\n",
              "      <td>2021-11-22</td>\n",
              "    </tr>\n",
              "  </tbody>\n",
              "</table>\n",
              "</div>"
            ],
            "text/plain": [
              "   user_id     distance   duration        date\n",
              "0        1  4409.919140  25.599769  2021-01-01\n",
              "1        1  2617.592153  15.816871  2021-01-18\n",
              "2        1   754.159807   6.232113  2021-04-20\n",
              "3        1  2694.783254  18.511000  2021-08-11\n",
              "4        1  4028.687306  26.265803  2021-08-28\n",
              "5        1  2770.890808  16.650138  2021-10-09\n",
              "6        1  3039.020292  14.927879  2021-10-19\n",
              "7        1  2842.118050  23.117468  2021-11-06\n",
              "8        1  3412.690668  15.238072  2021-11-14\n",
              "9        1   748.690645  15.041884  2021-11-22"
            ]
          },
          "metadata": {},
          "output_type": "display_data"
        },
        {
          "data": {
            "text/html": [
              "<div>\n",
              "<style scoped>\n",
              "    .dataframe tbody tr th:only-of-type {\n",
              "        vertical-align: middle;\n",
              "    }\n",
              "\n",
              "    .dataframe tbody tr th {\n",
              "        vertical-align: top;\n",
              "    }\n",
              "\n",
              "    .dataframe thead th {\n",
              "        text-align: right;\n",
              "    }\n",
              "</style>\n",
              "<table border=\"1\" class=\"dataframe\">\n",
              "  <thead>\n",
              "    <tr style=\"text-align: right;\">\n",
              "      <th></th>\n",
              "      <th>user_id</th>\n",
              "      <th>name</th>\n",
              "      <th>age</th>\n",
              "      <th>city</th>\n",
              "      <th>subscription_type</th>\n",
              "    </tr>\n",
              "  </thead>\n",
              "  <tbody>\n",
              "    <tr>\n",
              "      <th>0</th>\n",
              "      <td>1</td>\n",
              "      <td>Кира</td>\n",
              "      <td>22</td>\n",
              "      <td>Тюмень</td>\n",
              "      <td>ultra</td>\n",
              "    </tr>\n",
              "    <tr>\n",
              "      <th>1</th>\n",
              "      <td>2</td>\n",
              "      <td>Станислав</td>\n",
              "      <td>31</td>\n",
              "      <td>Омск</td>\n",
              "      <td>ultra</td>\n",
              "    </tr>\n",
              "    <tr>\n",
              "      <th>2</th>\n",
              "      <td>3</td>\n",
              "      <td>Алексей</td>\n",
              "      <td>20</td>\n",
              "      <td>Москва</td>\n",
              "      <td>ultra</td>\n",
              "    </tr>\n",
              "    <tr>\n",
              "      <th>3</th>\n",
              "      <td>4</td>\n",
              "      <td>Константин</td>\n",
              "      <td>26</td>\n",
              "      <td>Ростов-на-Дону</td>\n",
              "      <td>ultra</td>\n",
              "    </tr>\n",
              "    <tr>\n",
              "      <th>4</th>\n",
              "      <td>5</td>\n",
              "      <td>Адель</td>\n",
              "      <td>28</td>\n",
              "      <td>Омск</td>\n",
              "      <td>ultra</td>\n",
              "    </tr>\n",
              "    <tr>\n",
              "      <th>5</th>\n",
              "      <td>6</td>\n",
              "      <td>Регина</td>\n",
              "      <td>25</td>\n",
              "      <td>Краснодар</td>\n",
              "      <td>ultra</td>\n",
              "    </tr>\n",
              "    <tr>\n",
              "      <th>6</th>\n",
              "      <td>7</td>\n",
              "      <td>Игорь</td>\n",
              "      <td>23</td>\n",
              "      <td>Омск</td>\n",
              "      <td>ultra</td>\n",
              "    </tr>\n",
              "    <tr>\n",
              "      <th>7</th>\n",
              "      <td>8</td>\n",
              "      <td>Юрий</td>\n",
              "      <td>23</td>\n",
              "      <td>Краснодар</td>\n",
              "      <td>ultra</td>\n",
              "    </tr>\n",
              "    <tr>\n",
              "      <th>8</th>\n",
              "      <td>9</td>\n",
              "      <td>Ян</td>\n",
              "      <td>21</td>\n",
              "      <td>Пятигорск</td>\n",
              "      <td>ultra</td>\n",
              "    </tr>\n",
              "    <tr>\n",
              "      <th>9</th>\n",
              "      <td>10</td>\n",
              "      <td>Валерий</td>\n",
              "      <td>18</td>\n",
              "      <td>Екатеринбург</td>\n",
              "      <td>ultra</td>\n",
              "    </tr>\n",
              "  </tbody>\n",
              "</table>\n",
              "</div>"
            ],
            "text/plain": [
              "   user_id        name  age            city subscription_type\n",
              "0        1        Кира   22          Тюмень             ultra\n",
              "1        2   Станислав   31            Омск             ultra\n",
              "2        3     Алексей   20          Москва             ultra\n",
              "3        4  Константин   26  Ростов-на-Дону             ultra\n",
              "4        5       Адель   28            Омск             ultra\n",
              "5        6      Регина   25       Краснодар             ultra\n",
              "6        7       Игорь   23            Омск             ultra\n",
              "7        8        Юрий   23       Краснодар             ultra\n",
              "8        9          Ян   21       Пятигорск             ultra\n",
              "9       10     Валерий   18    Екатеринбург             ultra"
            ]
          },
          "metadata": {},
          "output_type": "display_data"
        },
        {
          "data": {
            "text/html": [
              "<div>\n",
              "<style scoped>\n",
              "    .dataframe tbody tr th:only-of-type {\n",
              "        vertical-align: middle;\n",
              "    }\n",
              "\n",
              "    .dataframe tbody tr th {\n",
              "        vertical-align: top;\n",
              "    }\n",
              "\n",
              "    .dataframe thead th {\n",
              "        text-align: right;\n",
              "    }\n",
              "</style>\n",
              "<table border=\"1\" class=\"dataframe\">\n",
              "  <thead>\n",
              "    <tr style=\"text-align: right;\">\n",
              "      <th></th>\n",
              "      <th>subscription_type</th>\n",
              "      <th>minute_price</th>\n",
              "      <th>start_ride_price</th>\n",
              "      <th>subscription_fee</th>\n",
              "    </tr>\n",
              "  </thead>\n",
              "  <tbody>\n",
              "    <tr>\n",
              "      <th>0</th>\n",
              "      <td>free</td>\n",
              "      <td>8</td>\n",
              "      <td>50</td>\n",
              "      <td>0</td>\n",
              "    </tr>\n",
              "    <tr>\n",
              "      <th>1</th>\n",
              "      <td>ultra</td>\n",
              "      <td>6</td>\n",
              "      <td>0</td>\n",
              "      <td>199</td>\n",
              "    </tr>\n",
              "  </tbody>\n",
              "</table>\n",
              "</div>"
            ],
            "text/plain": [
              "  subscription_type  minute_price  start_ride_price  subscription_fee\n",
              "0              free             8                50                 0\n",
              "1             ultra             6                 0               199"
            ]
          },
          "execution_count": 3,
          "metadata": {},
          "output_type": "execute_result"
        }
      ],
      "execution_count": 3
    },
    {
      "id": "4584f981",
      "cell_type": "markdown",
      "source": "",
      "metadata": {}
    },
    {
      "id": "eff9f206",
      "cell_type": "code",
      "source": "display(df_rides.info())\ndisplay(df_users.info())\ndf_subscriptions.info()",
      "metadata": {},
      "outputs": [
        {
          "name": "stdout",
          "output_type": "stream",
          "text": [
            "<class 'pandas.core.frame.DataFrame'>\n",
            "RangeIndex: 18068 entries, 0 to 18067\n",
            "Data columns (total 4 columns):\n",
            " #   Column    Non-Null Count  Dtype  \n",
            "---  ------    --------------  -----  \n",
            " 0   user_id   18068 non-null  int64  \n",
            " 1   distance  18068 non-null  float64\n",
            " 2   duration  18068 non-null  float64\n",
            " 3   date      18068 non-null  object \n",
            "dtypes: float64(2), int64(1), object(1)\n",
            "memory usage: 564.8+ KB\n"
          ]
        },
        {
          "data": {
            "text/plain": [
              "None"
            ]
          },
          "metadata": {},
          "output_type": "display_data"
        },
        {
          "name": "stdout",
          "output_type": "stream",
          "text": [
            "<class 'pandas.core.frame.DataFrame'>\n",
            "RangeIndex: 1565 entries, 0 to 1564\n",
            "Data columns (total 5 columns):\n",
            " #   Column             Non-Null Count  Dtype \n",
            "---  ------             --------------  ----- \n",
            " 0   user_id            1565 non-null   int64 \n",
            " 1   name               1565 non-null   object\n",
            " 2   age                1565 non-null   int64 \n",
            " 3   city               1565 non-null   object\n",
            " 4   subscription_type  1565 non-null   object\n",
            "dtypes: int64(2), object(3)\n",
            "memory usage: 61.3+ KB\n"
          ]
        },
        {
          "data": {
            "text/plain": [
              "None"
            ]
          },
          "metadata": {},
          "output_type": "display_data"
        },
        {
          "name": "stdout",
          "output_type": "stream",
          "text": [
            "<class 'pandas.core.frame.DataFrame'>\n",
            "RangeIndex: 2 entries, 0 to 1\n",
            "Data columns (total 4 columns):\n",
            " #   Column             Non-Null Count  Dtype \n",
            "---  ------             --------------  ----- \n",
            " 0   subscription_type  2 non-null      object\n",
            " 1   minute_price       2 non-null      int64 \n",
            " 2   start_ride_price   2 non-null      int64 \n",
            " 3   subscription_fee   2 non-null      int64 \n",
            "dtypes: int64(3), object(1)\n",
            "memory usage: 192.0+ bytes\n"
          ]
        }
      ],
      "execution_count": 4
    },
    {
      "id": "e95ebca7",
      "cell_type": "markdown",
      "source": "#### Step 2. Data preprocessing",
      "metadata": {}
    },
    {
      "id": "53593755",
      "cell_type": "markdown",
      "source": "2.1 Convert the date column to a pandas date type",
      "metadata": {}
    },
    {
      "id": "af6d202c",
      "cell_type": "code",
      "source": "#замена на тип даты\ndf_rides['date']=pd.to_datetime(df_rides['date'], format='%Y-%m-%d') ",
      "metadata": {},
      "outputs": [],
      "execution_count": 5
    },
    {
      "id": "36f533cf",
      "cell_type": "markdown",
      "source": "2.2 Let's create a new column with the month number based on the date column.",
      "metadata": {}
    },
    {
      "id": "f8091097",
      "cell_type": "code",
      "source": "df_rides['month_nr'] = df_rides['date'].dt.month",
      "metadata": {},
      "outputs": [],
      "execution_count": 6
    },
    {
      "id": "6ee7e529",
      "cell_type": "code",
      "source": "#Проверим , за какой период данные:\ndf_rides['date'].dt.year.unique()",
      "metadata": {},
      "outputs": [
        {
          "data": {
            "text/plain": [
              "array([2021])"
            ]
          },
          "execution_count": 7,
          "metadata": {},
          "output_type": "execute_result"
        }
      ],
      "execution_count": 7
    },
    {
      "id": "53165c45",
      "cell_type": "markdown",
      "source": "The dataset provides data only for 2021.",
      "metadata": {}
    },
    {
      "id": "d8fc729e",
      "cell_type": "markdown",
      "source": "2.3 Check for missing values and duplicates in dataframes",
      "metadata": {}
    },
    {
      "id": "6a87ede5",
      "cell_type": "code",
      "source": "df_rides.duplicated().sum()",
      "metadata": {},
      "outputs": [
        {
          "data": {
            "text/plain": [
              "0"
            ]
          },
          "execution_count": 8,
          "metadata": {},
          "output_type": "execute_result"
        }
      ],
      "execution_count": 8
    },
    {
      "id": "148faec8",
      "cell_type": "code",
      "source": "df_users.duplicated().sum()",
      "metadata": {
        "scrolled": true
      },
      "outputs": [
        {
          "data": {
            "text/plain": [
              "31"
            ]
          },
          "execution_count": 9,
          "metadata": {},
          "output_type": "execute_result"
        }
      ],
      "execution_count": 9
    },
    {
      "id": "8744078b",
      "cell_type": "markdown",
      "source": "We found 31 duplicates in df_users. Let's eliminate them.",
      "metadata": {}
    },
    {
      "id": "dc75298c",
      "cell_type": "code",
      "source": "df_users = df_users.drop_duplicates().reset_index(drop=True)\n#проверка\ndf_users.duplicated().sum()",
      "metadata": {},
      "outputs": [
        {
          "data": {
            "text/plain": [
              "0"
            ]
          },
          "execution_count": 10,
          "metadata": {},
          "output_type": "execute_result"
        }
      ],
      "execution_count": 10
    },
    {
      "id": "3982380b",
      "cell_type": "markdown",
      "source": "Let's check for omissions.",
      "metadata": {}
    },
    {
      "id": "0ce30379",
      "cell_type": "code",
      "source": "df_users.isna().sum()",
      "metadata": {
        "scrolled": true
      },
      "outputs": [
        {
          "data": {
            "text/plain": [
              "user_id              0\n",
              "name                 0\n",
              "age                  0\n",
              "city                 0\n",
              "subscription_type    0\n",
              "dtype: int64"
            ]
          },
          "execution_count": 11,
          "metadata": {},
          "output_type": "execute_result"
        }
      ],
      "execution_count": 11
    },
    {
      "id": "913d9752",
      "cell_type": "code",
      "source": "df_rides.isna().sum()",
      "metadata": {
        "scrolled": true
      },
      "outputs": [
        {
          "data": {
            "text/plain": [
              "user_id     0\n",
              "distance    0\n",
              "duration    0\n",
              "date        0\n",
              "month_nr    0\n",
              "dtype: int64"
            ]
          },
          "execution_count": 12,
          "metadata": {},
          "output_type": "execute_result"
        }
      ],
      "execution_count": 12
    },
    {
      "id": "6c2848e6",
      "cell_type": "code",
      "source": "df_subscriptions.isna().sum()",
      "metadata": {},
      "outputs": [
        {
          "data": {
            "text/plain": [
              "subscription_type    0\n",
              "minute_price         0\n",
              "start_ride_price     0\n",
              "subscription_fee     0\n",
              "dtype: int64"
            ]
          },
          "execution_count": 13,
          "metadata": {},
          "output_type": "execute_result"
        }
      ],
      "execution_count": 13
    },
    {
      "id": "270f8be1",
      "cell_type": "markdown",
      "source": "**Conclusion on data quality:** In the \"df_rides\" dataset, the \"date\" column was converted to a time type. The remaining data is provided in the correct format. There are no gaps in all three dataframes.",
      "metadata": {}
    },
    {
      "id": "212593c7",
      "cell_type": "markdown",
      "source": "#### Step 3: Exploratory Data Analysis",
      "metadata": {}
    },
    {
      "id": "79368b98",
      "cell_type": "markdown",
      "source": "Let's describe and visualize general information about users and trips:",
      "metadata": {}
    },
    {
      "id": "1716fe1d",
      "cell_type": "markdown",
      "source": "3.1 frequency of occurrence of cities;",
      "metadata": {}
    },
    {
      "id": "470db55c",
      "cell_type": "code",
      "source": "df_users['city'].hist(bins=50, figsize=(15,5))\nplt.title('Occurrence of cities in the data')\nplt.ylabel('Number of trips')\nplt.xlabel('Cities')\nplt.show()",
      "metadata": {},
      "outputs": [
        {
          "data": {
            "image/png": "[encoded data removed]",
            "text/plain": [
              "<Figure size 1080x360 with 1 Axes>"
            ]
          },
          "metadata": {
            "needs_background": "light"
          },
          "output_type": "display_data"
        }
      ],
      "execution_count": 53
    },
    {
      "id": "25613951",
      "cell_type": "code",
      "source": "df_users['city'].value_counts().sort_values().plot(kind='barh', figsize=(10, 5))\nplt.title('Occurrence of cities in the data')\nplt.xlabel('Number of trips')\nplt.ylabel('Cities')\nplt.show()",
      "metadata": {},
      "outputs": [
        {
          "data": {
            "image/png": "[encoded data removed]",
            "text/plain": [
              "<Figure size 720x360 with 1 Axes>"
            ]
          },
          "metadata": {
            "needs_background": "light"
          },
          "output_type": "display_data"
        }
      ],
      "execution_count": 54
    },
    {
      "id": "c09e4288",
      "cell_type": "markdown",
      "source": "The maximum - more than 220 users are located in Pyatigorsk, the minimum - in Moscow, about 170.",
      "metadata": {}
    },
    {
      "id": "ca843249",
      "cell_type": "markdown",
      "source": "3.2 ratio of users with subscription and without subscription;",
      "metadata": {}
    },
    {
      "id": "aeb3ab7e",
      "cell_type": "code",
      "source": "df_users['subscription_type'].hist(figsize=(10,5))\nplt.title('Ratio of users with subscription and without subscription')\nplt.ylabel('Number of users')\nplt.xlabel('Type of subscriptions')\nplt.show()",
      "metadata": {},
      "outputs": [
        {
          "data": {
            "image/png": "[encoded data removed]",
            "text/plain": [
              "<Figure size 720x360 with 1 Axes>"
            ]
          },
          "metadata": {
            "needs_background": "light"
          },
          "output_type": "display_data"
        }
      ],
      "execution_count": 16
    },
    {
      "id": "47c83246",
      "cell_type": "code",
      "source": "df_users.query('subscription_type == \"free\"').shape[0]/df_users.shape[0]",
      "metadata": {},
      "outputs": [
        {
          "data": {
            "text/plain": [
              "0.5443285528031291"
            ]
          },
          "execution_count": 17,
          "metadata": {},
          "output_type": "execute_result"
        }
      ],
      "execution_count": 17
    },
    {
      "id": "a12cebd0",
      "cell_type": "code",
      "source": "df_users.query('subscription_type == \"ultra\"').shape[0]/df_users.shape[0]",
      "metadata": {},
      "outputs": [
        {
          "data": {
            "text/plain": [
              "0.4556714471968709"
            ]
          },
          "execution_count": 18,
          "metadata": {},
          "output_type": "execute_result"
        }
      ],
      "execution_count": 18
    },
    {
      "id": "d8dc4230",
      "cell_type": "markdown",
      "source": "Пользователей с бесплатной подпиской - 54,4%, с платной- 45,6%. Выведем в круговой диаграмме:\n",
      "metadata": {}
    },
    {
      "id": "28293766",
      "cell_type": "code",
      "source": "df_users['subscription_type'].value_counts().plot.pie(autopct='%1.1f%%', startangle=90, figsize=(8, 8))\nplt.title('Pie chart for subscription types')\n\nplt.show()\n",
      "metadata": {},
      "outputs": [
        {
          "data": {
            "image/png": "[encoded data removed]",
            "text/plain": [
              "<Figure size 576x576 with 1 Axes>"
            ]
          },
          "metadata": {},
          "output_type": "display_data"
        }
      ],
      "execution_count": 19
    },
    {
      "id": "96821036",
      "cell_type": "markdown",
      "source": "3.3 Age of customers",
      "metadata": {}
    },
    {
      "id": "54d425fa",
      "cell_type": "code",
      "source": "df_users['age'].hist(bins=30, figsize=(10,5))\nplt.title('Age of users')\nplt.ylabel('Number of trips')\nplt.xlabel('Age,years')\nplt.show()",
      "metadata": {},
      "outputs": [
        {
          "data": {
            "image/png": "[encoded data removed]",
            "text/plain": [
              "<Figure size 720x360 with 1 Axes>"
            ]
          },
          "metadata": {
            "needs_background": "light"
          },
          "output_type": "display_data"
        }
      ],
      "execution_count": 20
    },
    {
      "id": "b42d40a4",
      "cell_type": "markdown",
      "source": "The average user age ranges from 20 to 30 years.",
      "metadata": {}
    },
    {
      "id": "0279665b",
      "cell_type": "code",
      "source": "display(df_users['age'].describe())\ndf_users.boxplot(column='age', figsize=(10,5))\nplt.title('Age of users')\nplt.ylabel('Age, years')\nplt.show()",
      "metadata": {},
      "outputs": [
        {
          "data": {
            "text/plain": [
              "count    1534.000000\n",
              "mean       24.903520\n",
              "std         4.572367\n",
              "min        12.000000\n",
              "25%        22.000000\n",
              "50%        25.000000\n",
              "75%        28.000000\n",
              "max        43.000000\n",
              "Name: age, dtype: float64"
            ]
          },
          "metadata": {},
          "output_type": "display_data"
        },
        {
          "data": {
            "image/png": "[encoded data removed]",
            "text/plain": [
              "<Figure size 720x360 with 1 Axes>"
            ]
          },
          "metadata": {
            "needs_background": "light"
          },
          "output_type": "display_data"
        }
      ],
      "execution_count": 21
    },
    {
      "id": "91307c4c",
      "cell_type": "markdown",
      "source": "The age of users is characterized by a normal distribution, with the maximum number of users (and average age) at the age of 25 years, the minimum age is 12 years, and the maximum is 43 years. The main range of users is from 20 to 30 years old. No anomalies are observed.",
      "metadata": {}
    },
    {
      "id": "23f06a9d",
      "cell_type": "markdown",
      "source": "3.4 the distance the user has covered in one trip.",
      "metadata": {}
    },
    {
      "id": "6680f24a",
      "cell_type": "code",
      "source": "df_rides['distance'].hist(bins=50,figsize=(10,5))\nplt.title('Distance per trip')\nplt.ylabel('Number of trips')\nplt.xlabel('Distance, m')\nplt.show()",
      "metadata": {
        "trusted": true
      },
      "outputs": [
        {
          "ename": "<class 'NameError'>",
          "evalue": "name 'df_rides' is not defined",
          "traceback": [
            "\u001b[0;31m---------------------------------------------------------------------------\u001b[0m",
            "\u001b[0;31mNameError\u001b[0m                                 Traceback (most recent call last)",
            "Cell \u001b[0;32mIn[1], line 1\u001b[0m\n\u001b[0;32m----> 1\u001b[0m \u001b[43mdf_rides\u001b[49m[\u001b[38;5;124m'\u001b[39m\u001b[38;5;124mdistance\u001b[39m\u001b[38;5;124m'\u001b[39m]\u001b[38;5;241m.\u001b[39mhist(bins\u001b[38;5;241m=\u001b[39m\u001b[38;5;241m50\u001b[39m,figsize\u001b[38;5;241m=\u001b[39m(\u001b[38;5;241m10\u001b[39m,\u001b[38;5;241m5\u001b[39m))\n\u001b[1;32m      2\u001b[0m plt\u001b[38;5;241m.\u001b[39mtitle(\u001b[38;5;124m'\u001b[39m\u001b[38;5;124mDistance per trip\u001b[39m\u001b[38;5;124m'\u001b[39m)\n\u001b[1;32m      3\u001b[0m plt\u001b[38;5;241m.\u001b[39mylabel(\u001b[38;5;124m'\u001b[39m\u001b[38;5;124mNumber of trips\u001b[39m\u001b[38;5;124m'\u001b[39m)\n",
            "\u001b[0;31mNameError\u001b[0m: name 'df_rides' is not defined"
          ],
          "output_type": "error"
        }
      ],
      "execution_count": 1
    },
    {
      "id": "49bcf905",
      "cell_type": "markdown",
      "source": "Mostly users take scooters to travel from 2000m to 4500m with the highest being 3100m.",
      "metadata": {}
    },
    {
      "id": "52d8136d",
      "cell_type": "markdown",
      "source": "3.5 travel duration",
      "metadata": {}
    },
    {
      "id": "692d863e",
      "cell_type": "code",
      "source": "df_rides['duration'].hist(bins=30,figsize=(10,5))\nplt.title('Duration of trips')\nplt.ylabel('Number of trips')\nplt.xlabel('Duration, min')\nplt.show()",
      "metadata": {
        "scrolled": true
      },
      "outputs": [
        {
          "data": {
            "image/png": "[encoded data removed]",
            "text/plain": [
              "<Figure size 720x360 with 1 Axes>"
            ]
          },
          "metadata": {
            "needs_background": "light"
          },
          "output_type": "display_data"
        }
      ],
      "execution_count": 23
    },
    {
      "id": "b1cd0033",
      "cell_type": "markdown",
      "source": "The average duration of trips ranges from 10 to 25 minutes, the maximum value is about 17 minutes.",
      "metadata": {}
    },
    {
      "id": "209f0d98",
      "cell_type": "code",
      "source": "df_rides.boxplot(column='distance', figsize=(10,5))\ndf_rides['distance'].describe()\nplt.title('Travel distances')\nplt.ylabel('Distance, m')\nplt.show()",
      "metadata": {},
      "outputs": [
        {
          "data": {
            "image/png": "[encoded data removed]",
            "text/plain": [
              "<Figure size 720x360 with 1 Axes>"
            ]
          },
          "metadata": {
            "needs_background": "light"
          },
          "output_type": "display_data"
        }
      ],
      "execution_count": 24
    },
    {
      "id": "37d7766c",
      "cell_type": "markdown",
      "source": "The bulk of the trips take from 2500 to 3800 meters. Median 3133 meters. Trips over 5 km are rare. However, the graph shows that some users use scooters for short trips - up to 1500 m.",
      "metadata": {}
    },
    {
      "id": "c10061a8",
      "cell_type": "code",
      "source": "df_rides.boxplot(column='duration', figsize=(10,5))\ndf_rides['duration'].describe()\nplt.title('Trip durations')\nplt.ylabel('Time, min')\nplt.show()",
      "metadata": {},
      "outputs": [
        {
          "data": {
            "image/png": "[encoded data removed]",
            "text/plain": [
              "<Figure size 720x360 with 1 Axes>"
            ]
          },
          "metadata": {
            "needs_background": "light"
          },
          "output_type": "display_data"
        }
      ],
      "execution_count": 25
    },
    {
      "id": "1d0a0ddd",
      "cell_type": "markdown",
      "source": "Duration of trips: Most trips are between 13 and 22 minutes, there is an anomaly close to zero - perhaps the trip was completed by mistake.",
      "metadata": {}
    },
    {
      "id": "4ef51331",
      "cell_type": "markdown",
      "source": "#### Step 4: Data merging",
      "metadata": {}
    },
    {
      "id": "9954e9f4",
      "cell_type": "markdown",
      "source": "Let's check the dataset sizes",
      "metadata": {}
    },
    {
      "id": "4dd8b5f2",
      "cell_type": "code",
      "source": "df_rides.shape\n",
      "metadata": {},
      "outputs": [
        {
          "data": {
            "text/plain": [
              "(18068, 5)"
            ]
          },
          "execution_count": 26,
          "metadata": {},
          "output_type": "execute_result"
        }
      ],
      "execution_count": 26
    },
    {
      "id": "dd13e11d",
      "cell_type": "code",
      "source": "df_users.shape",
      "metadata": {
        "scrolled": true
      },
      "outputs": [
        {
          "data": {
            "text/plain": [
              "(1534, 5)"
            ]
          },
          "execution_count": 27,
          "metadata": {},
          "output_type": "execute_result"
        }
      ],
      "execution_count": 27
    },
    {
      "id": "89cfbf6f",
      "cell_type": "markdown",
      "source": "Dataframes have different numbers of rows. Since we will be merging using 'user_id', it is necessary that the first dataset also contains all the unique id values from the second and there are no “extra” ones. After the merger, we will check to see if there are any gaps.",
      "metadata": {}
    },
    {
      "id": "4ba82a95",
      "cell_type": "markdown",
      "source": "4.1 Let’s combine data about users, trips and subscriptions into one dataframe.",
      "metadata": {}
    },
    {
      "id": "6bf288b5",
      "cell_type": "code",
      "source": "df_rides_merged = df_rides.merge(df_users, on='user_id')\n\ndf_rides_merged\n",
      "metadata": {},
      "outputs": [
        {
          "data": {
            "text/html": [
              "<div>\n",
              "<style scoped>\n",
              "    .dataframe tbody tr th:only-of-type {\n",
              "        vertical-align: middle;\n",
              "    }\n",
              "\n",
              "    .dataframe tbody tr th {\n",
              "        vertical-align: top;\n",
              "    }\n",
              "\n",
              "    .dataframe thead th {\n",
              "        text-align: right;\n",
              "    }\n",
              "</style>\n",
              "<table border=\"1\" class=\"dataframe\">\n",
              "  <thead>\n",
              "    <tr style=\"text-align: right;\">\n",
              "      <th></th>\n",
              "      <th>user_id</th>\n",
              "      <th>distance</th>\n",
              "      <th>duration</th>\n",
              "      <th>date</th>\n",
              "      <th>month_nr</th>\n",
              "      <th>name</th>\n",
              "      <th>age</th>\n",
              "      <th>city</th>\n",
              "      <th>subscription_type</th>\n",
              "    </tr>\n",
              "  </thead>\n",
              "  <tbody>\n",
              "    <tr>\n",
              "      <th>0</th>\n",
              "      <td>1</td>\n",
              "      <td>4409.919140</td>\n",
              "      <td>25.599769</td>\n",
              "      <td>2021-01-01</td>\n",
              "      <td>1</td>\n",
              "      <td>Кира</td>\n",
              "      <td>22</td>\n",
              "      <td>Тюмень</td>\n",
              "      <td>ultra</td>\n",
              "    </tr>\n",
              "    <tr>\n",
              "      <th>1</th>\n",
              "      <td>1</td>\n",
              "      <td>2617.592153</td>\n",
              "      <td>15.816871</td>\n",
              "      <td>2021-01-18</td>\n",
              "      <td>1</td>\n",
              "      <td>Кира</td>\n",
              "      <td>22</td>\n",
              "      <td>Тюмень</td>\n",
              "      <td>ultra</td>\n",
              "    </tr>\n",
              "    <tr>\n",
              "      <th>2</th>\n",
              "      <td>1</td>\n",
              "      <td>754.159807</td>\n",
              "      <td>6.232113</td>\n",
              "      <td>2021-04-20</td>\n",
              "      <td>4</td>\n",
              "      <td>Кира</td>\n",
              "      <td>22</td>\n",
              "      <td>Тюмень</td>\n",
              "      <td>ultra</td>\n",
              "    </tr>\n",
              "    <tr>\n",
              "      <th>3</th>\n",
              "      <td>1</td>\n",
              "      <td>2694.783254</td>\n",
              "      <td>18.511000</td>\n",
              "      <td>2021-08-11</td>\n",
              "      <td>8</td>\n",
              "      <td>Кира</td>\n",
              "      <td>22</td>\n",
              "      <td>Тюмень</td>\n",
              "      <td>ultra</td>\n",
              "    </tr>\n",
              "    <tr>\n",
              "      <th>4</th>\n",
              "      <td>1</td>\n",
              "      <td>4028.687306</td>\n",
              "      <td>26.265803</td>\n",
              "      <td>2021-08-28</td>\n",
              "      <td>8</td>\n",
              "      <td>Кира</td>\n",
              "      <td>22</td>\n",
              "      <td>Тюмень</td>\n",
              "      <td>ultra</td>\n",
              "    </tr>\n",
              "    <tr>\n",
              "      <th>...</th>\n",
              "      <td>...</td>\n",
              "      <td>...</td>\n",
              "      <td>...</td>\n",
              "      <td>...</td>\n",
              "      <td>...</td>\n",
              "      <td>...</td>\n",
              "      <td>...</td>\n",
              "      <td>...</td>\n",
              "      <td>...</td>\n",
              "    </tr>\n",
              "    <tr>\n",
              "      <th>18063</th>\n",
              "      <td>1534</td>\n",
              "      <td>3781.098080</td>\n",
              "      <td>19.822962</td>\n",
              "      <td>2021-11-04</td>\n",
              "      <td>11</td>\n",
              "      <td>Альберт</td>\n",
              "      <td>25</td>\n",
              "      <td>Краснодар</td>\n",
              "      <td>free</td>\n",
              "    </tr>\n",
              "    <tr>\n",
              "      <th>18064</th>\n",
              "      <td>1534</td>\n",
              "      <td>2840.423057</td>\n",
              "      <td>21.409799</td>\n",
              "      <td>2021-11-16</td>\n",
              "      <td>11</td>\n",
              "      <td>Альберт</td>\n",
              "      <td>25</td>\n",
              "      <td>Краснодар</td>\n",
              "      <td>free</td>\n",
              "    </tr>\n",
              "    <tr>\n",
              "      <th>18065</th>\n",
              "      <td>1534</td>\n",
              "      <td>3826.185507</td>\n",
              "      <td>18.435051</td>\n",
              "      <td>2021-11-18</td>\n",
              "      <td>11</td>\n",
              "      <td>Альберт</td>\n",
              "      <td>25</td>\n",
              "      <td>Краснодар</td>\n",
              "      <td>free</td>\n",
              "    </tr>\n",
              "    <tr>\n",
              "      <th>18066</th>\n",
              "      <td>1534</td>\n",
              "      <td>2902.308661</td>\n",
              "      <td>16.674362</td>\n",
              "      <td>2021-11-27</td>\n",
              "      <td>11</td>\n",
              "      <td>Альберт</td>\n",
              "      <td>25</td>\n",
              "      <td>Краснодар</td>\n",
              "      <td>free</td>\n",
              "    </tr>\n",
              "    <tr>\n",
              "      <th>18067</th>\n",
              "      <td>1534</td>\n",
              "      <td>2371.711192</td>\n",
              "      <td>15.893917</td>\n",
              "      <td>2021-12-29</td>\n",
              "      <td>12</td>\n",
              "      <td>Альберт</td>\n",
              "      <td>25</td>\n",
              "      <td>Краснодар</td>\n",
              "      <td>free</td>\n",
              "    </tr>\n",
              "  </tbody>\n",
              "</table>\n",
              "<p>18068 rows × 9 columns</p>\n",
              "</div>"
            ],
            "text/plain": [
              "       user_id     distance   duration       date  month_nr     name  age  \\\n",
              "0            1  4409.919140  25.599769 2021-01-01         1     Кира   22   \n",
              "1            1  2617.592153  15.816871 2021-01-18         1     Кира   22   \n",
              "2            1   754.159807   6.232113 2021-04-20         4     Кира   22   \n",
              "3            1  2694.783254  18.511000 2021-08-11         8     Кира   22   \n",
              "4            1  4028.687306  26.265803 2021-08-28         8     Кира   22   \n",
              "...        ...          ...        ...        ...       ...      ...  ...   \n",
              "18063     1534  3781.098080  19.822962 2021-11-04        11  Альберт   25   \n",
              "18064     1534  2840.423057  21.409799 2021-11-16        11  Альберт   25   \n",
              "18065     1534  3826.185507  18.435051 2021-11-18        11  Альберт   25   \n",
              "18066     1534  2902.308661  16.674362 2021-11-27        11  Альберт   25   \n",
              "18067     1534  2371.711192  15.893917 2021-12-29        12  Альберт   25   \n",
              "\n",
              "            city subscription_type  \n",
              "0         Тюмень             ultra  \n",
              "1         Тюмень             ultra  \n",
              "2         Тюмень             ultra  \n",
              "3         Тюмень             ultra  \n",
              "4         Тюмень             ultra  \n",
              "...          ...               ...  \n",
              "18063  Краснодар              free  \n",
              "18064  Краснодар              free  \n",
              "18065  Краснодар              free  \n",
              "18066  Краснодар              free  \n",
              "18067  Краснодар              free  \n",
              "\n",
              "[18068 rows x 9 columns]"
            ]
          },
          "execution_count": 28,
          "metadata": {},
          "output_type": "execute_result"
        }
      ],
      "execution_count": 28
    },
    {
      "id": "4df86614",
      "cell_type": "code",
      "source": "df_rides_merged.shape",
      "metadata": {
        "scrolled": true
      },
      "outputs": [
        {
          "data": {
            "text/plain": [
              "(18068, 9)"
            ]
          },
          "execution_count": 29,
          "metadata": {},
          "output_type": "execute_result"
        }
      ],
      "execution_count": 29
    },
    {
      "id": "3f4d60fd",
      "cell_type": "markdown",
      "source": "The original daframs have different sizes, the final one has the number of rows of the second table, the presence of gaps is checked below.",
      "metadata": {}
    },
    {
      "id": "b9109a15",
      "cell_type": "markdown",
      "source": "4.2 Create two more dataframes from df_rides_merged\r\nwith data about users without a subscription and with data about users with a subscription.",
      "metadata": {}
    },
    {
      "id": "6e2100cd",
      "cell_type": "code",
      "source": "df_rides_merged_free = df_rides_merged.query('subscription_type == \"free\"')\ndf_rides_merged_paid = df_rides_merged.query('subscription_type == \"ultra\"')\n                                          \ndisplay(df_rides_merged_paid.head())\ndf_rides_merged_free.head()\n",
      "metadata": {},
      "outputs": [
        {
          "data": {
            "text/html": [
              "<div>\n",
              "<style scoped>\n",
              "    .dataframe tbody tr th:only-of-type {\n",
              "        vertical-align: middle;\n",
              "    }\n",
              "\n",
              "    .dataframe tbody tr th {\n",
              "        vertical-align: top;\n",
              "    }\n",
              "\n",
              "    .dataframe thead th {\n",
              "        text-align: right;\n",
              "    }\n",
              "</style>\n",
              "<table border=\"1\" class=\"dataframe\">\n",
              "  <thead>\n",
              "    <tr style=\"text-align: right;\">\n",
              "      <th></th>\n",
              "      <th>user_id</th>\n",
              "      <th>distance</th>\n",
              "      <th>duration</th>\n",
              "      <th>date</th>\n",
              "      <th>month_nr</th>\n",
              "      <th>name</th>\n",
              "      <th>age</th>\n",
              "      <th>city</th>\n",
              "      <th>subscription_type</th>\n",
              "    </tr>\n",
              "  </thead>\n",
              "  <tbody>\n",
              "    <tr>\n",
              "      <th>0</th>\n",
              "      <td>1</td>\n",
              "      <td>4409.919140</td>\n",
              "      <td>25.599769</td>\n",
              "      <td>2021-01-01</td>\n",
              "      <td>1</td>\n",
              "      <td>Кира</td>\n",
              "      <td>22</td>\n",
              "      <td>Тюмень</td>\n",
              "      <td>ultra</td>\n",
              "    </tr>\n",
              "    <tr>\n",
              "      <th>1</th>\n",
              "      <td>1</td>\n",
              "      <td>2617.592153</td>\n",
              "      <td>15.816871</td>\n",
              "      <td>2021-01-18</td>\n",
              "      <td>1</td>\n",
              "      <td>Кира</td>\n",
              "      <td>22</td>\n",
              "      <td>Тюмень</td>\n",
              "      <td>ultra</td>\n",
              "    </tr>\n",
              "    <tr>\n",
              "      <th>2</th>\n",
              "      <td>1</td>\n",
              "      <td>754.159807</td>\n",
              "      <td>6.232113</td>\n",
              "      <td>2021-04-20</td>\n",
              "      <td>4</td>\n",
              "      <td>Кира</td>\n",
              "      <td>22</td>\n",
              "      <td>Тюмень</td>\n",
              "      <td>ultra</td>\n",
              "    </tr>\n",
              "    <tr>\n",
              "      <th>3</th>\n",
              "      <td>1</td>\n",
              "      <td>2694.783254</td>\n",
              "      <td>18.511000</td>\n",
              "      <td>2021-08-11</td>\n",
              "      <td>8</td>\n",
              "      <td>Кира</td>\n",
              "      <td>22</td>\n",
              "      <td>Тюмень</td>\n",
              "      <td>ultra</td>\n",
              "    </tr>\n",
              "    <tr>\n",
              "      <th>4</th>\n",
              "      <td>1</td>\n",
              "      <td>4028.687306</td>\n",
              "      <td>26.265803</td>\n",
              "      <td>2021-08-28</td>\n",
              "      <td>8</td>\n",
              "      <td>Кира</td>\n",
              "      <td>22</td>\n",
              "      <td>Тюмень</td>\n",
              "      <td>ultra</td>\n",
              "    </tr>\n",
              "  </tbody>\n",
              "</table>\n",
              "</div>"
            ],
            "text/plain": [
              "   user_id     distance   duration       date  month_nr  name  age    city  \\\n",
              "0        1  4409.919140  25.599769 2021-01-01         1  Кира   22  Тюмень   \n",
              "1        1  2617.592153  15.816871 2021-01-18         1  Кира   22  Тюмень   \n",
              "2        1   754.159807   6.232113 2021-04-20         4  Кира   22  Тюмень   \n",
              "3        1  2694.783254  18.511000 2021-08-11         8  Кира   22  Тюмень   \n",
              "4        1  4028.687306  26.265803 2021-08-28         8  Кира   22  Тюмень   \n",
              "\n",
              "  subscription_type  \n",
              "0             ultra  \n",
              "1             ultra  \n",
              "2             ultra  \n",
              "3             ultra  \n",
              "4             ultra  "
            ]
          },
          "metadata": {},
          "output_type": "display_data"
        },
        {
          "data": {
            "text/html": [
              "<div>\n",
              "<style scoped>\n",
              "    .dataframe tbody tr th:only-of-type {\n",
              "        vertical-align: middle;\n",
              "    }\n",
              "\n",
              "    .dataframe tbody tr th {\n",
              "        vertical-align: top;\n",
              "    }\n",
              "\n",
              "    .dataframe thead th {\n",
              "        text-align: right;\n",
              "    }\n",
              "</style>\n",
              "<table border=\"1\" class=\"dataframe\">\n",
              "  <thead>\n",
              "    <tr style=\"text-align: right;\">\n",
              "      <th></th>\n",
              "      <th>user_id</th>\n",
              "      <th>distance</th>\n",
              "      <th>duration</th>\n",
              "      <th>date</th>\n",
              "      <th>month_nr</th>\n",
              "      <th>name</th>\n",
              "      <th>age</th>\n",
              "      <th>city</th>\n",
              "      <th>subscription_type</th>\n",
              "    </tr>\n",
              "  </thead>\n",
              "  <tbody>\n",
              "    <tr>\n",
              "      <th>6500</th>\n",
              "      <td>700</td>\n",
              "      <td>2515.690719</td>\n",
              "      <td>14.944286</td>\n",
              "      <td>2021-01-02</td>\n",
              "      <td>1</td>\n",
              "      <td>Айдар</td>\n",
              "      <td>22</td>\n",
              "      <td>Омск</td>\n",
              "      <td>free</td>\n",
              "    </tr>\n",
              "    <tr>\n",
              "      <th>6501</th>\n",
              "      <td>700</td>\n",
              "      <td>846.932642</td>\n",
              "      <td>16.234663</td>\n",
              "      <td>2021-02-01</td>\n",
              "      <td>2</td>\n",
              "      <td>Айдар</td>\n",
              "      <td>22</td>\n",
              "      <td>Омск</td>\n",
              "      <td>free</td>\n",
              "    </tr>\n",
              "    <tr>\n",
              "      <th>6502</th>\n",
              "      <td>700</td>\n",
              "      <td>4004.434142</td>\n",
              "      <td>20.016628</td>\n",
              "      <td>2021-02-04</td>\n",
              "      <td>2</td>\n",
              "      <td>Айдар</td>\n",
              "      <td>22</td>\n",
              "      <td>Омск</td>\n",
              "      <td>free</td>\n",
              "    </tr>\n",
              "    <tr>\n",
              "      <th>6503</th>\n",
              "      <td>700</td>\n",
              "      <td>1205.911290</td>\n",
              "      <td>9.782872</td>\n",
              "      <td>2021-02-10</td>\n",
              "      <td>2</td>\n",
              "      <td>Айдар</td>\n",
              "      <td>22</td>\n",
              "      <td>Омск</td>\n",
              "      <td>free</td>\n",
              "    </tr>\n",
              "    <tr>\n",
              "      <th>6504</th>\n",
              "      <td>700</td>\n",
              "      <td>3047.379435</td>\n",
              "      <td>17.427673</td>\n",
              "      <td>2021-02-14</td>\n",
              "      <td>2</td>\n",
              "      <td>Айдар</td>\n",
              "      <td>22</td>\n",
              "      <td>Омск</td>\n",
              "      <td>free</td>\n",
              "    </tr>\n",
              "  </tbody>\n",
              "</table>\n",
              "</div>"
            ],
            "text/plain": [
              "      user_id     distance   duration       date  month_nr   name  age  city  \\\n",
              "6500      700  2515.690719  14.944286 2021-01-02         1  Айдар   22  Омск   \n",
              "6501      700   846.932642  16.234663 2021-02-01         2  Айдар   22  Омск   \n",
              "6502      700  4004.434142  20.016628 2021-02-04         2  Айдар   22  Омск   \n",
              "6503      700  1205.911290   9.782872 2021-02-10         2  Айдар   22  Омск   \n",
              "6504      700  3047.379435  17.427673 2021-02-14         2  Айдар   22  Омск   \n",
              "\n",
              "     subscription_type  \n",
              "6500              free  \n",
              "6501              free  \n",
              "6502              free  \n",
              "6503              free  \n",
              "6504              free  "
            ]
          },
          "execution_count": 30,
          "metadata": {},
          "output_type": "execute_result"
        }
      ],
      "execution_count": 30
    },
    {
      "id": "190191bd",
      "cell_type": "markdown",
      "source": "Let's check for gaps:",
      "metadata": {}
    },
    {
      "id": "420e7773",
      "cell_type": "code",
      "source": "display(df_rides_merged_paid.isna().sum())\ndf_rides_merged_free.isna().sum()",
      "metadata": {},
      "outputs": [
        {
          "data": {
            "text/plain": [
              "user_id              0\n",
              "distance             0\n",
              "duration             0\n",
              "date                 0\n",
              "month_nr             0\n",
              "name                 0\n",
              "age                  0\n",
              "city                 0\n",
              "subscription_type    0\n",
              "dtype: int64"
            ]
          },
          "metadata": {},
          "output_type": "display_data"
        },
        {
          "data": {
            "text/plain": [
              "user_id              0\n",
              "distance             0\n",
              "duration             0\n",
              "date                 0\n",
              "month_nr             0\n",
              "name                 0\n",
              "age                  0\n",
              "city                 0\n",
              "subscription_type    0\n",
              "dtype: int64"
            ]
          },
          "execution_count": 31,
          "metadata": {},
          "output_type": "execute_result"
        }
      ],
      "execution_count": 31
    },
    {
      "id": "1a2f2173",
      "cell_type": "markdown",
      "source": "There are no gaps, merging dataframes can be considered correct.",
      "metadata": {}
    },
    {
      "id": "25a927e1",
      "cell_type": "markdown",
      "source": "4.3 We visualize information about distance and travel time for users of both categories.",
      "metadata": {}
    },
    {
      "id": "ccde6437",
      "cell_type": "code",
      "source": "df_rides_merged_free.hist(figsize=(20,10), bins=12)\nplt.show()",
      "metadata": {},
      "outputs": [
        {
          "data": {
            "image/png": "[encoded data removed]",
            "text/plain": [
              "<Figure size 1440x720 with 6 Axes>"
            ]
          },
          "metadata": {
            "needs_background": "light"
          },
          "output_type": "display_data"
        }
      ],
      "execution_count": 32
    },
    {
      "id": "9203232d",
      "cell_type": "markdown",
      "source": "Among users with no subscription, the following can be emphasized:\r\n     - travel distance 2000-4600m, maximum number of trips at 2500m\r\n    \r\n     - length of trips from 13 to 22 minutes in most and with the highest value 18 minutes\r\n    \r\n     - age from 20 to 28 years\r\n    \r\n     - approximately the same number of trips in each month of the year\n    \n    ",
      "metadata": {}
    },
    {
      "id": "756e6e3c",
      "cell_type": "code",
      "source": "df_rides_merged_paid.hist(figsize=(20,10), bins=25)\nplt.show()",
      "metadata": {
        "scrolled": true
      },
      "outputs": [
        {
          "data": {
            "image/png": "[encoded data removed]",
            "text/plain": [
              "<Figure size 1440x720 with 6 Axes>"
            ]
          },
          "metadata": {
            "needs_background": "light"
          },
          "output_type": "display_data"
        }
      ],
      "execution_count": 33
    },
    {
      "id": "c612846c",
      "cell_type": "markdown",
      "source": "Among users with a paid subscription, the following can be highlighted:\r\n\r\n     - travel distance 2500-3700m, maximum number of trips at 2500m\r\n    \r\n     - length of trips from 12 to 22 minutes in most and with the highest value 18 minutes\r\n    \r\n     - age from 22 to 28 years\r\n    \r\n     - February has the least number of trips of the year, the largest in January and May.",
      "metadata": {}
    },
    {
      "id": "c5622fa9",
      "cell_type": "code",
      "source": "df_rides_merged_free['distance'].hist(figsize=(10,5), bins=30)\nplt.title('График дистанций поездок акаунтов без подписки ')\nplt.ylabel('Количество')\nplt.xlabel('Расстояние, м')\nplt.show()\n",
      "metadata": {},
      "outputs": [
        {
          "data": {
            "image/png": "[encoded data removed]",
            "text/plain": [
              "<Figure size 720x360 with 1 Axes>"
            ]
          },
          "metadata": {
            "needs_background": "light"
          },
          "output_type": "display_data"
        }
      ],
      "execution_count": 34
    },
    {
      "id": "2e51cf98",
      "cell_type": "code",
      "source": "df_rides_merged_free['duration'].hist(figsize=(10,5), bins=20)\nplt.title('График длительности поездок акаунтов без подписки ')\nplt.ylabel('Количество поездок')\nplt.xlabel('Время, мин')\nplt.show()\n\n",
      "metadata": {
        "scrolled": true
      },
      "outputs": [
        {
          "data": {
            "image/png": "[encoded data removed]",
            "text/plain": [
              "<Figure size 720x360 with 1 Axes>"
            ]
          },
          "metadata": {
            "needs_background": "light"
          },
          "output_type": "display_data"
        }
      ],
      "execution_count": 35
    },
    {
      "id": "87ee8d18",
      "cell_type": "markdown",
      "source": "Among users with no subscription, the following can be emphasized:\r\n\r\n     - travel distance 2000-4600m, maximum number of trips at 2500m, however, the graph also includes an interval with trips up to 1200m\r\n    \r\n     - length of trips from 13 to 22 minutes in most and with the highest value 18 minutes\n    ",
      "metadata": {}
    },
    {
      "id": "5da4dd84",
      "cell_type": "code",
      "source": "df_rides_merged_paid['distance'].hist(figsize=(10,5), bins=30)\nplt.title('Schedule of travel distances for accounts with subscription')\nplt.ylabel('Quantity')\nplt.xlabel('Distance, m')\nplt.show()",
      "metadata": {
        "scrolled": true
      },
      "outputs": [
        {
          "data": {
            "image/png": "[encoded data removed]",
            "text/plain": [
              "<Figure size 720x360 with 1 Axes>"
            ]
          },
          "metadata": {
            "needs_background": "light"
          },
          "output_type": "display_data"
        }
      ],
      "execution_count": 36
    },
    {
      "id": "21b148d5",
      "cell_type": "code",
      "source": "df_rides_merged_paid['duration'].hist(figsize=(10,5), bins=20)\nplt.title('Trip duration schedule for accounts with subscription')\nplt.ylabel('Number of trips')\nplt.xlabel('Time, min')\nplt.show()",
      "metadata": {},
      "outputs": [
        {
          "data": {
            "image/png": "[encoded data removed]",
            "text/plain": [
              "<Figure size 720x360 with 1 Axes>"
            ]
          },
          "metadata": {
            "needs_background": "light"
          },
          "output_type": "display_data"
        }
      ],
      "execution_count": 37
    },
    {
      "id": "ed8fd2d6",
      "cell_type": "markdown",
      "source": "Among users with a paid subscription, the following can be highlighted:\r\n\r\n     - travel distance 2500-3700m, maximum number of trips at 3000m\r\n    \r\n     - length of trips from 12 to 22 minutes in most and with the largest value of 18 minutes\n    ",
      "metadata": {}
    },
    {
      "id": "402d620f",
      "cell_type": "markdown",
      "source": "#### Step 5. Revenue calculation",
      "metadata": {}
    },
    {
      "id": "1fff02eb",
      "cell_type": "markdown",
      "source": "5.1 Let’s create a dataframe with aggregated trip data based on the dataframe with combined data from step 4: find the total distance, number of trips and total time for each user for each month.",
      "metadata": {}
    },
    {
      "id": "4226200f",
      "cell_type": "markdown",
      "source": "Let's round up the time of each trip to the nearest minute:\n",
      "metadata": {}
    },
    {
      "id": "5441b8e5",
      "cell_type": "code",
      "source": "df_rides_merged_paid.loc[:,'duration'] = np.ceil(df_rides_merged_paid['duration'])\ndf_rides_merged_free.loc[:,'duration'] = np.ceil(df_rides_merged_free['duration'])      ",
      "metadata": {
        "scrolled": true
      },
      "outputs": [
        {
          "name": "stderr",
          "output_type": "stream",
          "text": [
            "/opt/conda/lib/python3.9/site-packages/pandas/core/indexing.py:1676: SettingWithCopyWarning: \n",
            "A value is trying to be set on a copy of a slice from a DataFrame.\n",
            "Try using .loc[row_indexer,col_indexer] = value instead\n",
            "\n",
            "See the caveats in the documentation: https://pandas.pydata.org/pandas-docs/stable/user_guide/indexing.html#returning-a-view-versus-a-copy\n",
            "  self._setitem_single_column(ilocs[0], value, pi)\n"
          ]
        }
      ],
      "execution_count": 38
    },
    {
      "id": "036a69a2",
      "cell_type": "code",
      "source": "df_rides_merged_free",
      "metadata": {},
      "outputs": [
        {
          "data": {
            "text/html": [
              "<div>\n",
              "<style scoped>\n",
              "    .dataframe tbody tr th:only-of-type {\n",
              "        vertical-align: middle;\n",
              "    }\n",
              "\n",
              "    .dataframe tbody tr th {\n",
              "        vertical-align: top;\n",
              "    }\n",
              "\n",
              "    .dataframe thead th {\n",
              "        text-align: right;\n",
              "    }\n",
              "</style>\n",
              "<table border=\"1\" class=\"dataframe\">\n",
              "  <thead>\n",
              "    <tr style=\"text-align: right;\">\n",
              "      <th></th>\n",
              "      <th>user_id</th>\n",
              "      <th>distance</th>\n",
              "      <th>duration</th>\n",
              "      <th>date</th>\n",
              "      <th>month_nr</th>\n",
              "      <th>name</th>\n",
              "      <th>age</th>\n",
              "      <th>city</th>\n",
              "      <th>subscription_type</th>\n",
              "    </tr>\n",
              "  </thead>\n",
              "  <tbody>\n",
              "    <tr>\n",
              "      <th>6500</th>\n",
              "      <td>700</td>\n",
              "      <td>2515.690719</td>\n",
              "      <td>15.0</td>\n",
              "      <td>2021-01-02</td>\n",
              "      <td>1</td>\n",
              "      <td>Айдар</td>\n",
              "      <td>22</td>\n",
              "      <td>Омск</td>\n",
              "      <td>free</td>\n",
              "    </tr>\n",
              "    <tr>\n",
              "      <th>6501</th>\n",
              "      <td>700</td>\n",
              "      <td>846.932642</td>\n",
              "      <td>17.0</td>\n",
              "      <td>2021-02-01</td>\n",
              "      <td>2</td>\n",
              "      <td>Айдар</td>\n",
              "      <td>22</td>\n",
              "      <td>Омск</td>\n",
              "      <td>free</td>\n",
              "    </tr>\n",
              "    <tr>\n",
              "      <th>6502</th>\n",
              "      <td>700</td>\n",
              "      <td>4004.434142</td>\n",
              "      <td>21.0</td>\n",
              "      <td>2021-02-04</td>\n",
              "      <td>2</td>\n",
              "      <td>Айдар</td>\n",
              "      <td>22</td>\n",
              "      <td>Омск</td>\n",
              "      <td>free</td>\n",
              "    </tr>\n",
              "    <tr>\n",
              "      <th>6503</th>\n",
              "      <td>700</td>\n",
              "      <td>1205.911290</td>\n",
              "      <td>10.0</td>\n",
              "      <td>2021-02-10</td>\n",
              "      <td>2</td>\n",
              "      <td>Айдар</td>\n",
              "      <td>22</td>\n",
              "      <td>Омск</td>\n",
              "      <td>free</td>\n",
              "    </tr>\n",
              "    <tr>\n",
              "      <th>6504</th>\n",
              "      <td>700</td>\n",
              "      <td>3047.379435</td>\n",
              "      <td>18.0</td>\n",
              "      <td>2021-02-14</td>\n",
              "      <td>2</td>\n",
              "      <td>Айдар</td>\n",
              "      <td>22</td>\n",
              "      <td>Омск</td>\n",
              "      <td>free</td>\n",
              "    </tr>\n",
              "    <tr>\n",
              "      <th>...</th>\n",
              "      <td>...</td>\n",
              "      <td>...</td>\n",
              "      <td>...</td>\n",
              "      <td>...</td>\n",
              "      <td>...</td>\n",
              "      <td>...</td>\n",
              "      <td>...</td>\n",
              "      <td>...</td>\n",
              "      <td>...</td>\n",
              "    </tr>\n",
              "    <tr>\n",
              "      <th>18063</th>\n",
              "      <td>1534</td>\n",
              "      <td>3781.098080</td>\n",
              "      <td>20.0</td>\n",
              "      <td>2021-11-04</td>\n",
              "      <td>11</td>\n",
              "      <td>Альберт</td>\n",
              "      <td>25</td>\n",
              "      <td>Краснодар</td>\n",
              "      <td>free</td>\n",
              "    </tr>\n",
              "    <tr>\n",
              "      <th>18064</th>\n",
              "      <td>1534</td>\n",
              "      <td>2840.423057</td>\n",
              "      <td>22.0</td>\n",
              "      <td>2021-11-16</td>\n",
              "      <td>11</td>\n",
              "      <td>Альберт</td>\n",
              "      <td>25</td>\n",
              "      <td>Краснодар</td>\n",
              "      <td>free</td>\n",
              "    </tr>\n",
              "    <tr>\n",
              "      <th>18065</th>\n",
              "      <td>1534</td>\n",
              "      <td>3826.185507</td>\n",
              "      <td>19.0</td>\n",
              "      <td>2021-11-18</td>\n",
              "      <td>11</td>\n",
              "      <td>Альберт</td>\n",
              "      <td>25</td>\n",
              "      <td>Краснодар</td>\n",
              "      <td>free</td>\n",
              "    </tr>\n",
              "    <tr>\n",
              "      <th>18066</th>\n",
              "      <td>1534</td>\n",
              "      <td>2902.308661</td>\n",
              "      <td>17.0</td>\n",
              "      <td>2021-11-27</td>\n",
              "      <td>11</td>\n",
              "      <td>Альберт</td>\n",
              "      <td>25</td>\n",
              "      <td>Краснодар</td>\n",
              "      <td>free</td>\n",
              "    </tr>\n",
              "    <tr>\n",
              "      <th>18067</th>\n",
              "      <td>1534</td>\n",
              "      <td>2371.711192</td>\n",
              "      <td>16.0</td>\n",
              "      <td>2021-12-29</td>\n",
              "      <td>12</td>\n",
              "      <td>Альберт</td>\n",
              "      <td>25</td>\n",
              "      <td>Краснодар</td>\n",
              "      <td>free</td>\n",
              "    </tr>\n",
              "  </tbody>\n",
              "</table>\n",
              "<p>11568 rows × 9 columns</p>\n",
              "</div>"
            ],
            "text/plain": [
              "       user_id     distance  duration       date  month_nr     name  age  \\\n",
              "6500       700  2515.690719      15.0 2021-01-02         1    Айдар   22   \n",
              "6501       700   846.932642      17.0 2021-02-01         2    Айдар   22   \n",
              "6502       700  4004.434142      21.0 2021-02-04         2    Айдар   22   \n",
              "6503       700  1205.911290      10.0 2021-02-10         2    Айдар   22   \n",
              "6504       700  3047.379435      18.0 2021-02-14         2    Айдар   22   \n",
              "...        ...          ...       ...        ...       ...      ...  ...   \n",
              "18063     1534  3781.098080      20.0 2021-11-04        11  Альберт   25   \n",
              "18064     1534  2840.423057      22.0 2021-11-16        11  Альберт   25   \n",
              "18065     1534  3826.185507      19.0 2021-11-18        11  Альберт   25   \n",
              "18066     1534  2902.308661      17.0 2021-11-27        11  Альберт   25   \n",
              "18067     1534  2371.711192      16.0 2021-12-29        12  Альберт   25   \n",
              "\n",
              "            city subscription_type  \n",
              "6500        Омск              free  \n",
              "6501        Омск              free  \n",
              "6502        Омск              free  \n",
              "6503        Омск              free  \n",
              "6504        Омск              free  \n",
              "...          ...               ...  \n",
              "18063  Краснодар              free  \n",
              "18064  Краснодар              free  \n",
              "18065  Краснодар              free  \n",
              "18066  Краснодар              free  \n",
              "18067  Краснодар              free  \n",
              "\n",
              "[11568 rows x 9 columns]"
            ]
          },
          "execution_count": 39,
          "metadata": {},
          "output_type": "execute_result"
        }
      ],
      "execution_count": 39
    },
    {
      "id": "c70b7660",
      "cell_type": "code",
      "source": "# создаем новый датафрейм для пользователей с бесплатной подпиской\n# сгруппируем таблицу по пользователям и по месяцам, суммируя значения для длительности и дальности поездок и считая кол-во поездок \nuser_data_agg_free = df_rides_merged_free.pivot_table(\n    index=['user_id','month_nr'], \n    values=['distance','duration','date'], \n    aggfunc={'distance':'sum', 'duration':'sum', 'date':'count'}\n).rename(\n    columns={'date': 'rides_total','distance': 'distance_total','duration':'duration_total'})\n\nuser_data_agg_free\n\n",
      "metadata": {},
      "outputs": [
        {
          "data": {
            "text/html": [
              "<div>\n",
              "<style scoped>\n",
              "    .dataframe tbody tr th:only-of-type {\n",
              "        vertical-align: middle;\n",
              "    }\n",
              "\n",
              "    .dataframe tbody tr th {\n",
              "        vertical-align: top;\n",
              "    }\n",
              "\n",
              "    .dataframe thead th {\n",
              "        text-align: right;\n",
              "    }\n",
              "</style>\n",
              "<table border=\"1\" class=\"dataframe\">\n",
              "  <thead>\n",
              "    <tr style=\"text-align: right;\">\n",
              "      <th></th>\n",
              "      <th></th>\n",
              "      <th>rides_total</th>\n",
              "      <th>distance_total</th>\n",
              "      <th>duration_total</th>\n",
              "    </tr>\n",
              "    <tr>\n",
              "      <th>user_id</th>\n",
              "      <th>month_nr</th>\n",
              "      <th></th>\n",
              "      <th></th>\n",
              "      <th></th>\n",
              "    </tr>\n",
              "  </thead>\n",
              "  <tbody>\n",
              "    <tr>\n",
              "      <th rowspan=\"5\" valign=\"top\">700</th>\n",
              "      <th>1</th>\n",
              "      <td>1</td>\n",
              "      <td>2515.690719</td>\n",
              "      <td>15.0</td>\n",
              "    </tr>\n",
              "    <tr>\n",
              "      <th>2</th>\n",
              "      <td>5</td>\n",
              "      <td>13446.659764</td>\n",
              "      <td>89.0</td>\n",
              "    </tr>\n",
              "    <tr>\n",
              "      <th>3</th>\n",
              "      <td>1</td>\n",
              "      <td>3798.334905</td>\n",
              "      <td>19.0</td>\n",
              "    </tr>\n",
              "    <tr>\n",
              "      <th>4</th>\n",
              "      <td>1</td>\n",
              "      <td>2984.551206</td>\n",
              "      <td>16.0</td>\n",
              "    </tr>\n",
              "    <tr>\n",
              "      <th>6</th>\n",
              "      <td>2</td>\n",
              "      <td>5927.650988</td>\n",
              "      <td>29.0</td>\n",
              "    </tr>\n",
              "    <tr>\n",
              "      <th>...</th>\n",
              "      <th>...</th>\n",
              "      <td>...</td>\n",
              "      <td>...</td>\n",
              "      <td>...</td>\n",
              "    </tr>\n",
              "    <tr>\n",
              "      <th rowspan=\"5\" valign=\"top\">1534</th>\n",
              "      <th>6</th>\n",
              "      <td>2</td>\n",
              "      <td>3409.468534</td>\n",
              "      <td>26.0</td>\n",
              "    </tr>\n",
              "    <tr>\n",
              "      <th>8</th>\n",
              "      <td>2</td>\n",
              "      <td>7622.453034</td>\n",
              "      <td>48.0</td>\n",
              "    </tr>\n",
              "    <tr>\n",
              "      <th>9</th>\n",
              "      <td>1</td>\n",
              "      <td>4928.173852</td>\n",
              "      <td>23.0</td>\n",
              "    </tr>\n",
              "    <tr>\n",
              "      <th>11</th>\n",
              "      <td>4</td>\n",
              "      <td>13350.015305</td>\n",
              "      <td>78.0</td>\n",
              "    </tr>\n",
              "    <tr>\n",
              "      <th>12</th>\n",
              "      <td>1</td>\n",
              "      <td>2371.711192</td>\n",
              "      <td>16.0</td>\n",
              "    </tr>\n",
              "  </tbody>\n",
              "</table>\n",
              "<p>6798 rows × 3 columns</p>\n",
              "</div>"
            ],
            "text/plain": [
              "                  rides_total  distance_total  duration_total\n",
              "user_id month_nr                                             \n",
              "700     1                   1     2515.690719            15.0\n",
              "        2                   5    13446.659764            89.0\n",
              "        3                   1     3798.334905            19.0\n",
              "        4                   1     2984.551206            16.0\n",
              "        6                   2     5927.650988            29.0\n",
              "...                       ...             ...             ...\n",
              "1534    6                   2     3409.468534            26.0\n",
              "        8                   2     7622.453034            48.0\n",
              "        9                   1     4928.173852            23.0\n",
              "        11                  4    13350.015305            78.0\n",
              "        12                  1     2371.711192            16.0\n",
              "\n",
              "[6798 rows x 3 columns]"
            ]
          },
          "execution_count": 40,
          "metadata": {},
          "output_type": "execute_result"
        }
      ],
      "execution_count": 40
    },
    {
      "id": "4902372e",
      "cell_type": "code",
      "source": "# создаем новый датафрейм для пользователей с платной подпиской\nuser_data_agg_paid = df_rides_merged_paid.pivot_table(\n    index=['user_id','month_nr'],\n    values=['distance','duration','date'],                                                      \n    aggfunc={'distance':'sum', 'duration':'sum', 'date':'count'}\n).rename(\n    columns={'date': 'rides_total','distance': 'distance_total','duration':'duration_total'})\n\nuser_data_agg_paid",
      "metadata": {
        "scrolled": true
      },
      "outputs": [
        {
          "data": {
            "text/html": [
              "<div>\n",
              "<style scoped>\n",
              "    .dataframe tbody tr th:only-of-type {\n",
              "        vertical-align: middle;\n",
              "    }\n",
              "\n",
              "    .dataframe tbody tr th {\n",
              "        vertical-align: top;\n",
              "    }\n",
              "\n",
              "    .dataframe thead th {\n",
              "        text-align: right;\n",
              "    }\n",
              "</style>\n",
              "<table border=\"1\" class=\"dataframe\">\n",
              "  <thead>\n",
              "    <tr style=\"text-align: right;\">\n",
              "      <th></th>\n",
              "      <th></th>\n",
              "      <th>rides_total</th>\n",
              "      <th>distance_total</th>\n",
              "      <th>duration_total</th>\n",
              "    </tr>\n",
              "    <tr>\n",
              "      <th>user_id</th>\n",
              "      <th>month_nr</th>\n",
              "      <th></th>\n",
              "      <th></th>\n",
              "      <th></th>\n",
              "    </tr>\n",
              "  </thead>\n",
              "  <tbody>\n",
              "    <tr>\n",
              "      <th rowspan=\"5\" valign=\"top\">1</th>\n",
              "      <th>1</th>\n",
              "      <td>2</td>\n",
              "      <td>7027.511294</td>\n",
              "      <td>42.0</td>\n",
              "    </tr>\n",
              "    <tr>\n",
              "      <th>4</th>\n",
              "      <td>1</td>\n",
              "      <td>754.159807</td>\n",
              "      <td>7.0</td>\n",
              "    </tr>\n",
              "    <tr>\n",
              "      <th>8</th>\n",
              "      <td>2</td>\n",
              "      <td>6723.470560</td>\n",
              "      <td>46.0</td>\n",
              "    </tr>\n",
              "    <tr>\n",
              "      <th>10</th>\n",
              "      <td>2</td>\n",
              "      <td>5809.911100</td>\n",
              "      <td>32.0</td>\n",
              "    </tr>\n",
              "    <tr>\n",
              "      <th>11</th>\n",
              "      <td>3</td>\n",
              "      <td>7003.499363</td>\n",
              "      <td>56.0</td>\n",
              "    </tr>\n",
              "    <tr>\n",
              "      <th>...</th>\n",
              "      <th>...</th>\n",
              "      <td>...</td>\n",
              "      <td>...</td>\n",
              "      <td>...</td>\n",
              "    </tr>\n",
              "    <tr>\n",
              "      <th rowspan=\"5\" valign=\"top\">699</th>\n",
              "      <th>6</th>\n",
              "      <td>1</td>\n",
              "      <td>4072.797406</td>\n",
              "      <td>17.0</td>\n",
              "    </tr>\n",
              "    <tr>\n",
              "      <th>8</th>\n",
              "      <td>2</td>\n",
              "      <td>7018.324143</td>\n",
              "      <td>45.0</td>\n",
              "    </tr>\n",
              "    <tr>\n",
              "      <th>9</th>\n",
              "      <td>2</td>\n",
              "      <td>6364.861911</td>\n",
              "      <td>31.0</td>\n",
              "    </tr>\n",
              "    <tr>\n",
              "      <th>10</th>\n",
              "      <td>1</td>\n",
              "      <td>4707.845501</td>\n",
              "      <td>16.0</td>\n",
              "    </tr>\n",
              "    <tr>\n",
              "      <th>12</th>\n",
              "      <td>1</td>\n",
              "      <td>3202.890770</td>\n",
              "      <td>26.0</td>\n",
              "    </tr>\n",
              "  </tbody>\n",
              "</table>\n",
              "<p>4533 rows × 3 columns</p>\n",
              "</div>"
            ],
            "text/plain": [
              "                  rides_total  distance_total  duration_total\n",
              "user_id month_nr                                             \n",
              "1       1                   2     7027.511294            42.0\n",
              "        4                   1      754.159807             7.0\n",
              "        8                   2     6723.470560            46.0\n",
              "        10                  2     5809.911100            32.0\n",
              "        11                  3     7003.499363            56.0\n",
              "...                       ...             ...             ...\n",
              "699     6                   1     4072.797406            17.0\n",
              "        8                   2     7018.324143            45.0\n",
              "        9                   2     6364.861911            31.0\n",
              "        10                  1     4707.845501            16.0\n",
              "        12                  1     3202.890770            26.0\n",
              "\n",
              "[4533 rows x 3 columns]"
            ]
          },
          "execution_count": 41,
          "metadata": {},
          "output_type": "execute_result"
        }
      ],
      "execution_count": 41
    },
    {
      "id": "80fd223f",
      "cell_type": "markdown",
      "source": "5.2 In the same dataframe, for each type of subscription, we will add a column with the monthly revenue brought in by each user.\n",
      "metadata": {}
    },
    {
      "id": "f98c07bc",
      "cell_type": "code",
      "source": "# каждое значение из столбца duration округляется с помощью «потолка»: \n#user_data_agg_free['duration_total'] = np.ceil(user_data_agg_free['duration_total'])\n#user_data_agg_paid['duration_total'] = np.ceil(user_data_agg_paid['duration_total'])\n# добавим столбец с помесячной выручкой\n#Для этого обратимся к информации об условиях оплаты для подписчиков и тех, у кого нет подписки.  \n#без платной подписки условия следующие\n\nprice_per_minute_free = 8\nprice_start_free = 50\n#с подпиской\nsubscription_fee_paid = 199\nprice_per_minute_paid = 6\nprice_start_paid = 0\n\n\n# добавим столбец с помесячной выручкой\nuser_data_agg_free['revenue'] = price_start_free*user_data_agg_free['rides_total'] + price_per_minute_free*user_data_agg_free['duration_total']\n\nuser_data_agg_paid['revenue'] = subscription_fee_paid + price_start_paid*user_data_agg_paid['rides_total'] + price_per_minute_paid*user_data_agg_paid['duration_total']\n\n\ndisplay(user_data_agg_free.head(20))\nuser_data_agg_paid.head(20)\n",
      "metadata": {},
      "outputs": [
        {
          "data": {
            "text/html": [
              "<div>\n",
              "<style scoped>\n",
              "    .dataframe tbody tr th:only-of-type {\n",
              "        vertical-align: middle;\n",
              "    }\n",
              "\n",
              "    .dataframe tbody tr th {\n",
              "        vertical-align: top;\n",
              "    }\n",
              "\n",
              "    .dataframe thead th {\n",
              "        text-align: right;\n",
              "    }\n",
              "</style>\n",
              "<table border=\"1\" class=\"dataframe\">\n",
              "  <thead>\n",
              "    <tr style=\"text-align: right;\">\n",
              "      <th></th>\n",
              "      <th></th>\n",
              "      <th>rides_total</th>\n",
              "      <th>distance_total</th>\n",
              "      <th>duration_total</th>\n",
              "      <th>revenue</th>\n",
              "    </tr>\n",
              "    <tr>\n",
              "      <th>user_id</th>\n",
              "      <th>month_nr</th>\n",
              "      <th></th>\n",
              "      <th></th>\n",
              "      <th></th>\n",
              "      <th></th>\n",
              "    </tr>\n",
              "  </thead>\n",
              "  <tbody>\n",
              "    <tr>\n",
              "      <th rowspan=\"9\" valign=\"top\">700</th>\n",
              "      <th>1</th>\n",
              "      <td>1</td>\n",
              "      <td>2515.690719</td>\n",
              "      <td>15.0</td>\n",
              "      <td>170.0</td>\n",
              "    </tr>\n",
              "    <tr>\n",
              "      <th>2</th>\n",
              "      <td>5</td>\n",
              "      <td>13446.659764</td>\n",
              "      <td>89.0</td>\n",
              "      <td>962.0</td>\n",
              "    </tr>\n",
              "    <tr>\n",
              "      <th>3</th>\n",
              "      <td>1</td>\n",
              "      <td>3798.334905</td>\n",
              "      <td>19.0</td>\n",
              "      <td>202.0</td>\n",
              "    </tr>\n",
              "    <tr>\n",
              "      <th>4</th>\n",
              "      <td>1</td>\n",
              "      <td>2984.551206</td>\n",
              "      <td>16.0</td>\n",
              "      <td>178.0</td>\n",
              "    </tr>\n",
              "    <tr>\n",
              "      <th>6</th>\n",
              "      <td>2</td>\n",
              "      <td>5927.650988</td>\n",
              "      <td>29.0</td>\n",
              "      <td>332.0</td>\n",
              "    </tr>\n",
              "    <tr>\n",
              "      <th>7</th>\n",
              "      <td>2</td>\n",
              "      <td>4399.206279</td>\n",
              "      <td>21.0</td>\n",
              "      <td>268.0</td>\n",
              "    </tr>\n",
              "    <tr>\n",
              "      <th>8</th>\n",
              "      <td>1</td>\n",
              "      <td>4071.654669</td>\n",
              "      <td>17.0</td>\n",
              "      <td>186.0</td>\n",
              "    </tr>\n",
              "    <tr>\n",
              "      <th>10</th>\n",
              "      <td>2</td>\n",
              "      <td>6322.578618</td>\n",
              "      <td>44.0</td>\n",
              "      <td>452.0</td>\n",
              "    </tr>\n",
              "    <tr>\n",
              "      <th>11</th>\n",
              "      <td>3</td>\n",
              "      <td>8735.782625</td>\n",
              "      <td>32.0</td>\n",
              "      <td>406.0</td>\n",
              "    </tr>\n",
              "    <tr>\n",
              "      <th rowspan=\"11\" valign=\"top\">701</th>\n",
              "      <th>1</th>\n",
              "      <td>1</td>\n",
              "      <td>2676.472894</td>\n",
              "      <td>18.0</td>\n",
              "      <td>194.0</td>\n",
              "    </tr>\n",
              "    <tr>\n",
              "      <th>2</th>\n",
              "      <td>2</td>\n",
              "      <td>5637.334007</td>\n",
              "      <td>27.0</td>\n",
              "      <td>316.0</td>\n",
              "    </tr>\n",
              "    <tr>\n",
              "      <th>3</th>\n",
              "      <td>1</td>\n",
              "      <td>2802.021357</td>\n",
              "      <td>17.0</td>\n",
              "      <td>186.0</td>\n",
              "    </tr>\n",
              "    <tr>\n",
              "      <th>4</th>\n",
              "      <td>1</td>\n",
              "      <td>3509.012965</td>\n",
              "      <td>14.0</td>\n",
              "      <td>162.0</td>\n",
              "    </tr>\n",
              "    <tr>\n",
              "      <th>5</th>\n",
              "      <td>1</td>\n",
              "      <td>2465.852577</td>\n",
              "      <td>15.0</td>\n",
              "      <td>170.0</td>\n",
              "    </tr>\n",
              "    <tr>\n",
              "      <th>6</th>\n",
              "      <td>2</td>\n",
              "      <td>4634.620760</td>\n",
              "      <td>26.0</td>\n",
              "      <td>308.0</td>\n",
              "    </tr>\n",
              "    <tr>\n",
              "      <th>7</th>\n",
              "      <td>4</td>\n",
              "      <td>12970.722682</td>\n",
              "      <td>66.0</td>\n",
              "      <td>728.0</td>\n",
              "    </tr>\n",
              "    <tr>\n",
              "      <th>8</th>\n",
              "      <td>2</td>\n",
              "      <td>7628.751294</td>\n",
              "      <td>19.0</td>\n",
              "      <td>252.0</td>\n",
              "    </tr>\n",
              "    <tr>\n",
              "      <th>9</th>\n",
              "      <td>2</td>\n",
              "      <td>8659.573699</td>\n",
              "      <td>33.0</td>\n",
              "      <td>364.0</td>\n",
              "    </tr>\n",
              "    <tr>\n",
              "      <th>10</th>\n",
              "      <td>2</td>\n",
              "      <td>8395.260013</td>\n",
              "      <td>44.0</td>\n",
              "      <td>452.0</td>\n",
              "    </tr>\n",
              "    <tr>\n",
              "      <th>12</th>\n",
              "      <td>2</td>\n",
              "      <td>2773.396606</td>\n",
              "      <td>23.0</td>\n",
              "      <td>284.0</td>\n",
              "    </tr>\n",
              "  </tbody>\n",
              "</table>\n",
              "</div>"
            ],
            "text/plain": [
              "                  rides_total  distance_total  duration_total  revenue\n",
              "user_id month_nr                                                      \n",
              "700     1                   1     2515.690719            15.0    170.0\n",
              "        2                   5    13446.659764            89.0    962.0\n",
              "        3                   1     3798.334905            19.0    202.0\n",
              "        4                   1     2984.551206            16.0    178.0\n",
              "        6                   2     5927.650988            29.0    332.0\n",
              "        7                   2     4399.206279            21.0    268.0\n",
              "        8                   1     4071.654669            17.0    186.0\n",
              "        10                  2     6322.578618            44.0    452.0\n",
              "        11                  3     8735.782625            32.0    406.0\n",
              "701     1                   1     2676.472894            18.0    194.0\n",
              "        2                   2     5637.334007            27.0    316.0\n",
              "        3                   1     2802.021357            17.0    186.0\n",
              "        4                   1     3509.012965            14.0    162.0\n",
              "        5                   1     2465.852577            15.0    170.0\n",
              "        6                   2     4634.620760            26.0    308.0\n",
              "        7                   4    12970.722682            66.0    728.0\n",
              "        8                   2     7628.751294            19.0    252.0\n",
              "        9                   2     8659.573699            33.0    364.0\n",
              "        10                  2     8395.260013            44.0    452.0\n",
              "        12                  2     2773.396606            23.0    284.0"
            ]
          },
          "metadata": {},
          "output_type": "display_data"
        },
        {
          "data": {
            "text/html": [
              "<div>\n",
              "<style scoped>\n",
              "    .dataframe tbody tr th:only-of-type {\n",
              "        vertical-align: middle;\n",
              "    }\n",
              "\n",
              "    .dataframe tbody tr th {\n",
              "        vertical-align: top;\n",
              "    }\n",
              "\n",
              "    .dataframe thead th {\n",
              "        text-align: right;\n",
              "    }\n",
              "</style>\n",
              "<table border=\"1\" class=\"dataframe\">\n",
              "  <thead>\n",
              "    <tr style=\"text-align: right;\">\n",
              "      <th></th>\n",
              "      <th></th>\n",
              "      <th>rides_total</th>\n",
              "      <th>distance_total</th>\n",
              "      <th>duration_total</th>\n",
              "      <th>revenue</th>\n",
              "    </tr>\n",
              "    <tr>\n",
              "      <th>user_id</th>\n",
              "      <th>month_nr</th>\n",
              "      <th></th>\n",
              "      <th></th>\n",
              "      <th></th>\n",
              "      <th></th>\n",
              "    </tr>\n",
              "  </thead>\n",
              "  <tbody>\n",
              "    <tr>\n",
              "      <th rowspan=\"6\" valign=\"top\">1</th>\n",
              "      <th>1</th>\n",
              "      <td>2</td>\n",
              "      <td>7027.511294</td>\n",
              "      <td>42.0</td>\n",
              "      <td>451.0</td>\n",
              "    </tr>\n",
              "    <tr>\n",
              "      <th>4</th>\n",
              "      <td>1</td>\n",
              "      <td>754.159807</td>\n",
              "      <td>7.0</td>\n",
              "      <td>241.0</td>\n",
              "    </tr>\n",
              "    <tr>\n",
              "      <th>8</th>\n",
              "      <td>2</td>\n",
              "      <td>6723.470560</td>\n",
              "      <td>46.0</td>\n",
              "      <td>475.0</td>\n",
              "    </tr>\n",
              "    <tr>\n",
              "      <th>10</th>\n",
              "      <td>2</td>\n",
              "      <td>5809.911100</td>\n",
              "      <td>32.0</td>\n",
              "      <td>391.0</td>\n",
              "    </tr>\n",
              "    <tr>\n",
              "      <th>11</th>\n",
              "      <td>3</td>\n",
              "      <td>7003.499363</td>\n",
              "      <td>56.0</td>\n",
              "      <td>535.0</td>\n",
              "    </tr>\n",
              "    <tr>\n",
              "      <th>12</th>\n",
              "      <td>2</td>\n",
              "      <td>6751.629942</td>\n",
              "      <td>28.0</td>\n",
              "      <td>367.0</td>\n",
              "    </tr>\n",
              "    <tr>\n",
              "      <th rowspan=\"7\" valign=\"top\">2</th>\n",
              "      <th>3</th>\n",
              "      <td>3</td>\n",
              "      <td>10187.723006</td>\n",
              "      <td>63.0</td>\n",
              "      <td>577.0</td>\n",
              "    </tr>\n",
              "    <tr>\n",
              "      <th>4</th>\n",
              "      <td>2</td>\n",
              "      <td>6164.381824</td>\n",
              "      <td>40.0</td>\n",
              "      <td>439.0</td>\n",
              "    </tr>\n",
              "    <tr>\n",
              "      <th>6</th>\n",
              "      <td>1</td>\n",
              "      <td>3255.338202</td>\n",
              "      <td>14.0</td>\n",
              "      <td>283.0</td>\n",
              "    </tr>\n",
              "    <tr>\n",
              "      <th>7</th>\n",
              "      <td>2</td>\n",
              "      <td>6780.722964</td>\n",
              "      <td>48.0</td>\n",
              "      <td>487.0</td>\n",
              "    </tr>\n",
              "    <tr>\n",
              "      <th>8</th>\n",
              "      <td>1</td>\n",
              "      <td>923.007439</td>\n",
              "      <td>7.0</td>\n",
              "      <td>241.0</td>\n",
              "    </tr>\n",
              "    <tr>\n",
              "      <th>10</th>\n",
              "      <td>1</td>\n",
              "      <td>2824.636598</td>\n",
              "      <td>19.0</td>\n",
              "      <td>313.0</td>\n",
              "    </tr>\n",
              "    <tr>\n",
              "      <th>12</th>\n",
              "      <td>1</td>\n",
              "      <td>3828.248580</td>\n",
              "      <td>12.0</td>\n",
              "      <td>271.0</td>\n",
              "    </tr>\n",
              "    <tr>\n",
              "      <th rowspan=\"7\" valign=\"top\">3</th>\n",
              "      <th>1</th>\n",
              "      <td>1</td>\n",
              "      <td>3061.777147</td>\n",
              "      <td>13.0</td>\n",
              "      <td>277.0</td>\n",
              "    </tr>\n",
              "    <tr>\n",
              "      <th>2</th>\n",
              "      <td>2</td>\n",
              "      <td>5421.152016</td>\n",
              "      <td>39.0</td>\n",
              "      <td>433.0</td>\n",
              "    </tr>\n",
              "    <tr>\n",
              "      <th>4</th>\n",
              "      <td>1</td>\n",
              "      <td>2956.651632</td>\n",
              "      <td>21.0</td>\n",
              "      <td>325.0</td>\n",
              "    </tr>\n",
              "    <tr>\n",
              "      <th>5</th>\n",
              "      <td>3</td>\n",
              "      <td>9064.026918</td>\n",
              "      <td>63.0</td>\n",
              "      <td>577.0</td>\n",
              "    </tr>\n",
              "    <tr>\n",
              "      <th>7</th>\n",
              "      <td>3</td>\n",
              "      <td>10919.595403</td>\n",
              "      <td>67.0</td>\n",
              "      <td>601.0</td>\n",
              "    </tr>\n",
              "    <tr>\n",
              "      <th>9</th>\n",
              "      <td>1</td>\n",
              "      <td>2891.012822</td>\n",
              "      <td>23.0</td>\n",
              "      <td>337.0</td>\n",
              "    </tr>\n",
              "    <tr>\n",
              "      <th>12</th>\n",
              "      <td>1</td>\n",
              "      <td>2593.381928</td>\n",
              "      <td>13.0</td>\n",
              "      <td>277.0</td>\n",
              "    </tr>\n",
              "  </tbody>\n",
              "</table>\n",
              "</div>"
            ],
            "text/plain": [
              "                  rides_total  distance_total  duration_total  revenue\n",
              "user_id month_nr                                                      \n",
              "1       1                   2     7027.511294            42.0    451.0\n",
              "        4                   1      754.159807             7.0    241.0\n",
              "        8                   2     6723.470560            46.0    475.0\n",
              "        10                  2     5809.911100            32.0    391.0\n",
              "        11                  3     7003.499363            56.0    535.0\n",
              "        12                  2     6751.629942            28.0    367.0\n",
              "2       3                   3    10187.723006            63.0    577.0\n",
              "        4                   2     6164.381824            40.0    439.0\n",
              "        6                   1     3255.338202            14.0    283.0\n",
              "        7                   2     6780.722964            48.0    487.0\n",
              "        8                   1      923.007439             7.0    241.0\n",
              "        10                  1     2824.636598            19.0    313.0\n",
              "        12                  1     3828.248580            12.0    271.0\n",
              "3       1                   1     3061.777147            13.0    277.0\n",
              "        2                   2     5421.152016            39.0    433.0\n",
              "        4                   1     2956.651632            21.0    325.0\n",
              "        5                   3     9064.026918            63.0    577.0\n",
              "        7                   3    10919.595403            67.0    601.0\n",
              "        9                   1     2891.012822            23.0    337.0\n",
              "        12                  1     2593.381928            13.0    277.0"
            ]
          },
          "execution_count": 42,
          "metadata": {},
          "output_type": "execute_result"
        }
      ],
      "execution_count": 42
    },
    {
      "id": "ac4bb64c",
      "cell_type": "markdown",
      "source": "We collected two dataframes for each type of subscription with the total duration and distance of trips, the number of trips and the total cost of trips for each month.",
      "metadata": {}
    },
    {
      "id": "41545ac0",
      "cell_type": "markdown",
      "source": "#### Step 6. Testing hypotheses",
      "metadata": {}
    },
    {
      "id": "da94edda",
      "cell_type": "markdown",
      "source": "**Task 6.1** It is important to understand whether users with a subscription spend more time traveling? If so, then users with a subscription may be “more profitable” for the company. We need to test the hypothesis. We use the original data on the duration of each session - separately for subscribers and those who do not have a subscription.\r\n\r\nH0 (null hypothesis) - the average duration of trips of users with a subscription and users without a subscription are equal.\r\nH1 (alternative hypothesis) - users with a subscription spend more time traveling.\r\n\r\nLet's use the method to test the hypothesis that the mean of two populations is equal (two-sample t-test for independent samples), using the argument alternative = 'greater':",
      "metadata": {}
    },
    {
      "id": "e754e6fc",
      "cell_type": "code",
      "source": "alpha = 0.05\n\nresults = st.ttest_ind( df_rides_merged_paid['duration'],  df_rides_merged_free['duration'] ,  alternative = 'greater')\nprint('p-значение:', results.pvalue)\nif results.pvalue < alpha:\n    print('Отвергаем нулевую гипотезу') \nelse:\n    print('Не получилось отвергнуть нулевую гипотезу') \n    \n   ",
      "metadata": {},
      "outputs": [
        {
          "name": "stdout",
          "output_type": "stream",
          "text": [
            "p-значение: 2.4959453720736625e-34\n",
            "Отвергаем нулевую гипотезу\n"
          ]
        }
      ],
      "execution_count": 43
    },
    {
      "id": "a1e45bf0",
      "cell_type": "markdown",
      "source": "The P-value turned out to be very small, which means the null hypothesis is not true. There is reason to believe that users of paid accounts travel longer. Let's also compare the average values of the corresponding columns:",
      "metadata": {}
    },
    {
      "id": "91229e07",
      "cell_type": "code",
      "source": "df_rides_merged_paid['duration'].mean() > df_rides_merged_free['duration'].mean()\n",
      "metadata": {},
      "outputs": [
        {
          "data": {
            "text/plain": [
              "True"
            ]
          },
          "execution_count": 44,
          "metadata": {},
          "output_type": "execute_result"
        }
      ],
      "execution_count": 44
    },
    {
      "id": "79a74114",
      "cell_type": "markdown",
      "source": "We conclude that the average trips of paid accounts are longer than those of free ones.",
      "metadata": {}
    },
    {
      "id": "e55d0c77",
      "cell_type": "markdown",
      "source": "**Task 6.2** The distance of one trip is 3130 meters - optimal from the point of view of scooter wear. Is it possible to say that the average distance traveled by users with a subscription in one trip does not exceed 3130 meters?\r\n\r\nNull (left-sided) hypothesis H0 - average df_rides_merged_paid['distance'] =3130 m.\r\n\r\nAn alternative hypothesis is that the average distance is less than 3130 m.\r\nWe apply a one-sample left-tailed test on whether the population mean is equal to the number.",
      "metadata": {}
    },
    {
      "id": "348c44cd",
      "cell_type": "code",
      "source": "average_distance = 3130  #среднее значение, которое проезжают пользователи с подпиской.\nalpha = 0.05             #уровень статистической значимости\n\nresults = st.ttest_1samp(\n    df_rides_merged_paid['distance'],\n    average_distance,\n      alternative='less')\n\nprint('p-значение:', results.pvalue) \n\nif (results.pvalue < alpha):\n    print('Отвергаем нулевую гипотезу: расстояние меньше 3130')\nelse:\n    print('Не получилось отвергнуть нулевую гипотезу: расстояние очень близко 3130')\n    ",
      "metadata": {},
      "outputs": [
        {
          "name": "stdout",
          "output_type": "stream",
          "text": [
            "p-значение: 0.08046311521502146\n",
            "Не получилось отвергнуть нулевую гипотезу: расстояние очень близко 3130\n"
          ]
        }
      ],
      "execution_count": 45
    },
    {
      "id": "de225b4b-f7e6-49cc-bdb5-6f88e8b5c747",
      "cell_type": "markdown",
      "source": "It was not possible to reject the null hypothesis: the distance is very close 3130",
      "metadata": {}
    },
    {
      "id": "97113499",
      "cell_type": "markdown",
      "source": "The P-value is quite large (~8%), which means that the equality in the null hypothesis is close to the truth. Let's look at the average average trip among users with a paid subscription.",
      "metadata": {}
    },
    {
      "id": "953c9a3c",
      "cell_type": "code",
      "source": "df_rides_merged_paid['distance'].mean()",
      "metadata": {},
      "outputs": [
        {
          "data": {
            "text/plain": [
              "3115.4453880370247"
            ]
          },
          "execution_count": 46,
          "metadata": {},
          "output_type": "execute_result"
        }
      ],
      "execution_count": 46
    },
    {
      "id": "b9556c69",
      "cell_type": "markdown",
      "source": "Here it turns out that the distance is less than 3130 m. We can say that the distance traveled by users with a subscription in one trip does not exceed the optimal one.",
      "metadata": {}
    },
    {
      "id": "3459a57a",
      "cell_type": "markdown",
      "source": "Null (left-sided) hypothesis H0 - average df_rides_merged_paid['distance'] =3130 m.\r\n\r\nAn alternative hypothesis is that the average distance is greater than 3130 m - since we are interested in the critical interval, that is, above the optimal one.\r\nWe apply a one-sample right-tailed test on whether the population mean is equal to the number.",
      "metadata": {}
    },
    {
      "id": "3d3780fe",
      "cell_type": "code",
      "source": "average_distance = 3130  #среднее значение, которое проезжают пользователи с подпиской.\nalpha = 0.05             #уровень статистической значимости\n\nresults = st.ttest_1samp(\n    df_rides_merged_paid['distance'],\n    average_distance,\n      alternative='greater')\n\nprint('p-значение:', results.pvalue) \n\nif (results.pvalue < alpha):\n    print('Отвергаем нулевую гипотезу: расстояние больше 3130')\nelse:\n    print('Не получилось отвергнуть нулевую гипотезу: расстояние очень близко 3130')\n    \n    ",
      "metadata": {},
      "outputs": [
        {
          "name": "stdout",
          "output_type": "stream",
          "text": [
            "p-значение: 0.9195368847849785\n",
            "Не получилось отвергнуть нулевую гипотезу: расстояние очень близко 3130\n"
          ]
        }
      ],
      "execution_count": 47
    },
    {
      "id": "2b4e3b7e-9902-4ddb-a7da-209afd80f431",
      "cell_type": "markdown",
      "source": "It was not possible to reject the null hypothesis: the distance is very close 3130",
      "metadata": {}
    },
    {
      "id": "a4b054fa",
      "cell_type": "markdown",
      "source": "We can say that the distance traveled by users with a subscription in one trip does not exceed the optimal one.",
      "metadata": {}
    },
    {
      "id": "2b34815d",
      "cell_type": "markdown",
      "source": "**Task 6.3** Test the hypothesis about whether monthly revenue from users with a monthly subscription will be higher\r\nthan revenue from non-subscription users.\r\n\r\nNull hypothesis: Monthly revenue from users with a monthly subscription is equal to revenue from users without a subscription.\r\n\r\nAlternative hypothesis: Monthly revenue from users with a monthly subscription is **higher**,\r\nthan revenue from non-subscription users.\n\n",
      "metadata": {}
    },
    {
      "id": "2ee45083",
      "cell_type": "code",
      "source": "alpha = 0.05    #  уровень статистической значимости\n\nresults = st.ttest_ind( user_data_agg_paid['revenue'], user_data_agg_free['revenue'] ,  alternative = 'greater')\n\n\nprint('p-значение:', results.pvalue)\n\nif results.pvalue < alpha:\n    print('Отвергаем нулевую гипотезу') \nelse:\n    \n    print('Не получилось отвергнуть нулевую гипотезу') \n    ",
      "metadata": {},
      "outputs": [
        {
          "name": "stdout",
          "output_type": "stream",
          "text": [
            "p-значение: 1.8850394384715216e-31\n",
            "Отвергаем нулевую гипотезу\n"
          ]
        }
      ],
      "execution_count": 48
    },
    {
      "id": "62bf9cf0",
      "cell_type": "markdown",
      "source": "We reject the null hypothesis in favor of the alternative - monthly revenue from paid accounts is higher than that of free ones.",
      "metadata": {}
    },
    {
      "id": "a970eb86",
      "cell_type": "code",
      "source": "user_data_agg_paid['revenue'].mean() > user_data_agg_free['revenue'].mean()\n",
      "metadata": {
        "scrolled": true
      },
      "outputs": [
        {
          "data": {
            "text/plain": [
              "True"
            ]
          },
          "execution_count": 49,
          "metadata": {},
          "output_type": "execute_result"
        }
      ],
      "execution_count": 49
    },
    {
      "id": "b64ffd74",
      "cell_type": "markdown",
      "source": "Conclusion: Users with a subscription drive longer distances than users without a subscription, and they generate more profit on average per month.",
      "metadata": {}
    },
    {
      "id": "a630a238",
      "cell_type": "markdown",
      "source": "**Conclusion**.\r\nData was provided from scooter rental service GoFast from several cities, including data on duration, distance, cost of the trip and type of subscription (free/ultra). After reviewing the data, duplicates were removed and the data type was converted to time. Next, the data was divided into two categories, depending on the type of subscription and collected by month.\r\nHypotheses for carrying out the action were tested.\r\nBased on the tests performed, we can conclude that:\r\n\r\n\r\n- users of paid subscriptions spend more time traveling.\r\n- the average travel distance of a user with a subscription does not exceed 3130m.\r\n- Subscribed users bring in more revenue.\r\n\r\nRecommendation for business: Promotions should be carried out aimed at increasing the number of paid accounts.\n",
      "metadata": {}
    },
    {
      "id": "61213c5e",
      "cell_type": "markdown",
      "source": "#### Step 7. Distributions. ",
      "metadata": {}
    },
    {
      "id": "e8a2efc8",
      "cell_type": "markdown",
      "source": "7.1 The GoFast marketing department was given a task: they need to hold a promotion with the distribution of promotional codes for one free month of subscription, within which at least 100 existing customers must renew this subscription.\r\n\r\n\r\nThat is, at the end of the subscription period, the user can either cancel it or renew it by making the appropriate payment.\r\n\r\n\r\nThis promotion has already been carried out previously and as a result it turned out that after the free trial period the subscription is extended\r\n10% of users.\r\nFind out what minimum number of promotional codes you need to send out so that the probability of not fulfilling the plan is approximately 5%.\r\n\r\nSelect the parameters of the distribution that describes this situation, construct a distribution graph and formulate an answer to the question about the number of promotional codes.",
      "metadata": {}
    },
    {
      "id": "9385a827",
      "cell_type": "markdown",
      "source": "**Solution:** This situation is described by the binomial distribution.\r\nConsidering from past experience that after a free trial period, 10% of users renew their subscription, then to attract at least 100 new subscriptions, you need to send out at least 10 * 100 = 1000 coupons.",
      "metadata": {}
    },
    {
      "id": "d00bee08",
      "cell_type": "code",
      "source": "from scipy.stats import binom, norm\n\nmin_probability = 0.95  # минимальная вероятность выполнения плана\n\np = 0.1  # вероятность подписки после акции\ngoal = 100 #цель по новым подпискам\n\n\n\nn = 1000  # изначальное число промокодов\n\nwhile True:\n    mu = n * p\n    sigma = np.sqrt(n * p * (1 - p))\n\n    #кумулятивная вероятность \n    cumulative_prob = 1 - norm.cdf(goal - 0.5, mu, sigma)\n\n    if cumulative_prob >= min_probability:\n        break # выходим из цикла, если желаемая вероятность достигнута\n\n    n += 1  \n\n\nx_values = np.arange(0, n+1)\nplt.bar(x_values, binom.pmf(x_values, n, p), label='Распределение', alpha=0.7, color='green')\n\n# покажем начало выполнения условия\nplt.fill_between(x_values, binom.pmf(x_values, n, p), where=(x_values >= min_probability), color='skyblue', alpha=0.5, label=f'Вероятность >= {min_probability})')\n\n\nplt.title('Биномиальное распределение')\nplt.xlabel('число купонов')\nplt.legend()\nplt.rcParams[\"figure.figsize\"] = (25,10 )\n\n\nprint(f\"Количество купонов для рассылки, как минимум: {n}\")\nplt.show()",
      "metadata": {
        "scrolled": true
      },
      "outputs": [
        {
          "name": "stderr",
          "output_type": "stream",
          "text": [
            "/opt/conda/lib/python3.9/site-packages/scipy/stats/_discrete_distns.py:78: RuntimeWarning: divide by zero encountered in _binom_pdf\n",
            "  return _boost._binom_pdf(x, n, p)\n"
          ]
        },
        {
          "name": "stdout",
          "output_type": "stream",
          "text": [
            "Количество купонов для рассылки, как минимум: 1164\n"
          ]
        },
        {
          "data": {
            "image/png": "[encoded data removed]",
            "text/plain": [
              "<Figure size 432x288 with 1 Axes>"
            ]
          },
          "metadata": {
            "needs_background": "light"
          },
          "output_type": "display_data"
        }
      ],
      "execution_count": 50
    },
    {
      "id": "7f5bf26a",
      "cell_type": "markdown",
      "source": "**Conclusion:** It is necessary to send out at least 1164 coupons in order for 100 people to renew their subscription with a 95% probability.",
      "metadata": {}
    },
    {
      "id": "ffefc0ad",
      "cell_type": "markdown",
      "source": "Решение: Эту ситуацию так же можно описать биномиальным распределением. Так как вероятность близка к 40%, можно воспользоваться нормальной аппроксимацией биномильного распределения. ",
      "metadata": {}
    },
    {
      "id": "0f4c482a",
      "cell_type": "code",
      "source": "\np = 0.4 # вероятность открытия уведомления\nn = 1000000 #количество уведомлений\n\n\nmu = n * p\nsigma = sqrt(n * p * (1 - p))\n\n# задаём нормальное распределение\ndistr = st.norm(mu, sigma) \n\n# считаем вероятность хвоста слева от 399,5 тысяч\nresult = distr.cdf(399500)\nprint(result)",
      "metadata": {},
      "outputs": [
        {
          "name": "stdout",
          "output_type": "stream",
          "text": [
            "0.15371708296369768\n"
          ]
        }
      ],
      "execution_count": 51
    },
    {
      "id": "3e367177",
      "cell_type": "markdown",
      "source": "The probability of achieving less than 399.5 thousand discoveries is 15%. It might be worth increasing the number of notifications. Let's plot the normal distribution:",
      "metadata": {}
    },
    {
      "id": "8aaaa5e6",
      "cell_type": "markdown",
      "source": "",
      "metadata": {}
    },
    {
      "id": "63c9a412",
      "cell_type": "code",
      "source": "x_values = np.linspace(mu - 4*sigma, mu + 4*sigma, 1000)\nplt.plot(x_values, norm.pdf(x_values, mu, sigma), label='Normal distribution')\n\nplt.title('Normal distribution of notifications')\nplt.xlabel('number of users who opened notifications')\nplt.ylabel('pdf function')\n\n\nplt.legend()\nplt.show()",
      "metadata": {},
      "outputs": [
        {
          "data": {
            "image/png": "[encoded data removed]",
            "text/plain": [
              "<Figure size 1800x720 with 1 Axes>"
            ]
          },
          "metadata": {
            "needs_background": "light"
          },
          "output_type": "display_data"
        }
      ],
      "execution_count": 52
    },
    {
      "id": "4a9ff63d",
      "cell_type": "markdown",
      "source": "Conclusion: you need to increase the number of notifications to reduce the critical zone (currently 15%)",
      "metadata": {}
    },
    {
      "id": "17af2b0f",
      "cell_type": "markdown",
      "source": "###   Conclusion\r\nData was provided from scooter rental service GoFast from several cities, including data on duration, distance, cost of the trip and type of subscription (free/ultra). After reviewing the data, duplicates were removed and the data type was converted to time. Next, the data was divided into two categories, depending on the type of subscription and collected by month. Afterwards, the monthly revenue for each user was calculated and the data was aggregated by subscription type.\r\n\r\n\r\nHypotheses for carrying out the action were tested.\r\nBased on the tests performed, we can conclude that:\r\n\r\n\r\n- users of paid subscriptions spend more time traveling.\r\n- the average travel distance of a user with a subscription does not exceed 3130m.\r\n- Subscribed users bring in more revenue.\r\n\r\nRecommendation for business: Promotions should be carried out aimed at increasing the number of paid accounts.\n",
      "metadata": {}
    },
    {
      "id": "794cf8bf-6808-4e53-9dff-b839e517f197",
      "cell_type": "code",
      "source": "",
      "metadata": {
        "trusted": true
      },
      "outputs": [],
      "execution_count": null
    }
  ]
}
