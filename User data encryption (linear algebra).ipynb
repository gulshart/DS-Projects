{
  "metadata": {
    "kernelspec": {
      "name": "python",
      "display_name": "Python (Pyodide)",
      "language": "python"
    },
    "language_info": {
      "codemirror_mode": {
        "name": "python",
        "version": 3
      },
      "file_extension": ".py",
      "mimetype": "text/x-python",
      "name": "python",
      "nbconvert_exporter": "python",
      "pygments_lexer": "ipython3",
      "version": "3.8"
    },
    "ExecuteTimeLog": [
      {
        "duration": 419,
        "start_time": "2024-02-21T16:18:52.928Z"
      },
      {
        "duration": 76,
        "start_time": "2024-02-21T16:19:25.589Z"
      },
      {
        "duration": 71,
        "start_time": "2024-02-21T16:19:31.152Z"
      },
      {
        "duration": 42,
        "start_time": "2024-02-21T16:19:35.251Z"
      },
      {
        "duration": 49,
        "start_time": "2024-02-22T06:46:11.408Z"
      },
      {
        "duration": 372,
        "start_time": "2024-02-22T06:46:14.622Z"
      },
      {
        "duration": 105,
        "start_time": "2024-02-22T06:46:15.859Z"
      },
      {
        "duration": 11,
        "start_time": "2024-02-22T06:46:17.221Z"
      },
      {
        "duration": 845,
        "start_time": "2024-02-22T06:47:00.825Z"
      },
      {
        "duration": 472,
        "start_time": "2024-02-22T06:47:10.118Z"
      },
      {
        "duration": 456,
        "start_time": "2024-02-22T06:47:15.734Z"
      },
      {
        "duration": 485,
        "start_time": "2024-02-22T06:47:25.580Z"
      },
      {
        "duration": 669,
        "start_time": "2024-02-22T06:47:37.376Z"
      },
      {
        "duration": 742,
        "start_time": "2024-02-22T06:48:03.267Z"
      },
      {
        "duration": 432,
        "start_time": "2024-02-22T16:51:18.104Z"
      },
      {
        "duration": 87,
        "start_time": "2024-02-22T16:51:20.534Z"
      },
      {
        "duration": 11,
        "start_time": "2024-02-22T16:51:21.671Z"
      },
      {
        "duration": 929,
        "start_time": "2024-02-22T16:51:46.753Z"
      },
      {
        "duration": 777,
        "start_time": "2024-02-22T16:52:03.145Z"
      },
      {
        "duration": 3,
        "start_time": "2024-02-22T16:58:54.415Z"
      },
      {
        "duration": 828,
        "start_time": "2024-02-22T16:58:56.511Z"
      },
      {
        "duration": 3,
        "start_time": "2024-02-22T16:59:03.414Z"
      },
      {
        "duration": 779,
        "start_time": "2024-02-22T16:59:03.669Z"
      },
      {
        "duration": 101,
        "start_time": "2024-02-22T16:59:31.962Z"
      },
      {
        "duration": 814,
        "start_time": "2024-02-22T16:59:32.240Z"
      },
      {
        "duration": 83,
        "start_time": "2024-02-22T17:00:11.469Z"
      },
      {
        "duration": 3,
        "start_time": "2024-02-22T17:00:18.219Z"
      },
      {
        "duration": 36,
        "start_time": "2024-02-22T17:00:18.224Z"
      },
      {
        "duration": 10,
        "start_time": "2024-02-22T17:00:18.262Z"
      },
      {
        "duration": 71,
        "start_time": "2024-02-22T17:00:18.274Z"
      },
      {
        "duration": 0,
        "start_time": "2024-02-22T17:00:18.346Z"
      },
      {
        "duration": 0,
        "start_time": "2024-02-22T17:00:18.347Z"
      },
      {
        "duration": 71,
        "start_time": "2024-02-22T17:00:37.971Z"
      },
      {
        "duration": 69,
        "start_time": "2024-02-22T17:00:43.295Z"
      },
      {
        "duration": 77,
        "start_time": "2024-02-22T17:00:52.646Z"
      },
      {
        "duration": 5,
        "start_time": "2024-02-22T17:01:42.977Z"
      },
      {
        "duration": 4,
        "start_time": "2024-02-22T17:01:45.452Z"
      },
      {
        "duration": 4,
        "start_time": "2024-02-22T17:01:58.272Z"
      },
      {
        "duration": 3,
        "start_time": "2024-02-22T17:03:05.317Z"
      },
      {
        "duration": 779,
        "start_time": "2024-02-22T17:03:12.497Z"
      },
      {
        "duration": 101,
        "start_time": "2024-02-22T17:38:19.222Z"
      },
      {
        "duration": 3,
        "start_time": "2024-02-22T17:38:25.031Z"
      },
      {
        "duration": 8,
        "start_time": "2024-02-22T17:38:28.946Z"
      },
      {
        "duration": 94,
        "start_time": "2024-02-22T17:38:39.830Z"
      },
      {
        "duration": 96,
        "start_time": "2024-02-22T17:38:48.664Z"
      },
      {
        "duration": 56,
        "start_time": "2024-02-23T04:34:32.869Z"
      },
      {
        "duration": 1456,
        "start_time": "2024-02-23T04:34:38.380Z"
      },
      {
        "duration": 94,
        "start_time": "2024-02-23T04:34:39.839Z"
      },
      {
        "duration": 12,
        "start_time": "2024-02-23T04:34:39.934Z"
      },
      {
        "duration": 4,
        "start_time": "2024-02-23T04:34:39.948Z"
      },
      {
        "duration": 6,
        "start_time": "2024-02-23T04:34:39.954Z"
      },
      {
        "duration": 836,
        "start_time": "2024-02-23T04:34:39.961Z"
      },
      {
        "duration": 1668,
        "start_time": "2024-02-23T04:34:40.799Z"
      },
      {
        "duration": 2,
        "start_time": "2024-02-23T04:34:53.220Z"
      },
      {
        "duration": 143,
        "start_time": "2024-02-23T04:34:56.668Z"
      },
      {
        "duration": 88,
        "start_time": "2024-02-23T04:35:03.593Z"
      },
      {
        "duration": 10,
        "start_time": "2024-02-23T04:52:13.918Z"
      },
      {
        "duration": 4,
        "start_time": "2024-02-23T04:52:19.760Z"
      },
      {
        "duration": 5,
        "start_time": "2024-02-23T04:52:22.483Z"
      },
      {
        "duration": 4,
        "start_time": "2024-02-23T04:52:27.360Z"
      },
      {
        "duration": 4,
        "start_time": "2024-02-23T04:53:02.697Z"
      },
      {
        "duration": 4,
        "start_time": "2024-02-23T04:53:03.415Z"
      },
      {
        "duration": 4,
        "start_time": "2024-02-23T04:53:04.156Z"
      },
      {
        "duration": 5,
        "start_time": "2024-02-23T04:53:04.897Z"
      },
      {
        "duration": 5,
        "start_time": "2024-02-23T04:53:05.468Z"
      },
      {
        "duration": 3,
        "start_time": "2024-02-23T04:53:06.088Z"
      },
      {
        "duration": 4,
        "start_time": "2024-02-23T04:53:07.511Z"
      },
      {
        "duration": 8,
        "start_time": "2024-02-23T04:53:15.146Z"
      },
      {
        "duration": 4,
        "start_time": "2024-02-23T04:53:18.000Z"
      },
      {
        "duration": 4,
        "start_time": "2024-02-23T04:53:24.584Z"
      },
      {
        "duration": 11,
        "start_time": "2024-02-23T05:22:21.544Z"
      },
      {
        "duration": 128,
        "start_time": "2024-02-23T05:22:31.636Z"
      },
      {
        "duration": 8,
        "start_time": "2024-02-23T05:38:44.755Z"
      },
      {
        "duration": 11,
        "start_time": "2024-02-23T05:38:56.643Z"
      },
      {
        "duration": 8,
        "start_time": "2024-02-23T05:39:01.238Z"
      },
      {
        "duration": 6,
        "start_time": "2024-02-23T05:39:05.627Z"
      },
      {
        "duration": 16,
        "start_time": "2024-02-23T05:39:29.750Z"
      },
      {
        "duration": 6,
        "start_time": "2024-02-23T05:39:43.376Z"
      },
      {
        "duration": 5,
        "start_time": "2024-02-23T05:40:00.788Z"
      },
      {
        "duration": 3,
        "start_time": "2024-02-23T05:40:02.022Z"
      },
      {
        "duration": 20,
        "start_time": "2024-02-23T05:42:47.633Z"
      },
      {
        "duration": 8,
        "start_time": "2024-02-23T05:43:26.292Z"
      },
      {
        "duration": 97,
        "start_time": "2024-02-23T05:44:01.698Z"
      },
      {
        "duration": 8,
        "start_time": "2024-02-23T05:44:05.052Z"
      },
      {
        "duration": 8,
        "start_time": "2024-02-23T05:44:21.835Z"
      },
      {
        "duration": 108,
        "start_time": "2024-02-23T05:47:10.667Z"
      },
      {
        "duration": 6,
        "start_time": "2024-02-23T05:47:37.386Z"
      },
      {
        "duration": 7,
        "start_time": "2024-02-23T05:48:22.914Z"
      },
      {
        "duration": 10,
        "start_time": "2024-02-23T05:48:35.919Z"
      },
      {
        "duration": 5,
        "start_time": "2024-02-23T05:49:10.010Z"
      },
      {
        "duration": 10,
        "start_time": "2024-02-23T05:49:12.194Z"
      },
      {
        "duration": 4,
        "start_time": "2024-02-23T05:49:26.368Z"
      },
      {
        "duration": 12,
        "start_time": "2024-02-23T05:49:27.317Z"
      },
      {
        "duration": 3,
        "start_time": "2024-02-23T05:50:11.365Z"
      },
      {
        "duration": 14,
        "start_time": "2024-02-23T05:50:12.217Z"
      },
      {
        "duration": 9,
        "start_time": "2024-02-23T06:15:44.426Z"
      },
      {
        "duration": 4,
        "start_time": "2024-02-23T06:15:45.330Z"
      },
      {
        "duration": 10,
        "start_time": "2024-02-23T06:15:48.279Z"
      },
      {
        "duration": 8,
        "start_time": "2024-02-23T06:15:48.983Z"
      },
      {
        "duration": 7,
        "start_time": "2024-02-23T06:15:49.679Z"
      },
      {
        "duration": 6,
        "start_time": "2024-02-23T06:15:50.429Z"
      },
      {
        "duration": 7,
        "start_time": "2024-02-23T06:15:51.080Z"
      },
      {
        "duration": 7,
        "start_time": "2024-02-23T06:15:51.650Z"
      },
      {
        "duration": 7,
        "start_time": "2024-02-23T06:15:52.270Z"
      },
      {
        "duration": 6,
        "start_time": "2024-02-23T06:15:53.193Z"
      },
      {
        "duration": 8,
        "start_time": "2024-02-23T06:15:54.015Z"
      },
      {
        "duration": 6,
        "start_time": "2024-02-23T06:15:54.838Z"
      },
      {
        "duration": 9,
        "start_time": "2024-02-23T08:51:34.464Z"
      },
      {
        "duration": 473,
        "start_time": "2024-02-23T08:54:50.443Z"
      },
      {
        "duration": 21,
        "start_time": "2024-02-23T08:58:01.191Z"
      },
      {
        "duration": 13,
        "start_time": "2024-02-23T08:58:11.279Z"
      },
      {
        "duration": 3,
        "start_time": "2024-02-23T08:58:19.256Z"
      },
      {
        "duration": 37,
        "start_time": "2024-02-23T08:58:19.261Z"
      },
      {
        "duration": 11,
        "start_time": "2024-02-23T08:58:19.300Z"
      },
      {
        "duration": 5,
        "start_time": "2024-02-23T08:58:19.314Z"
      },
      {
        "duration": 6,
        "start_time": "2024-02-23T08:58:19.321Z"
      },
      {
        "duration": 14,
        "start_time": "2024-02-23T08:58:19.328Z"
      },
      {
        "duration": 822,
        "start_time": "2024-02-23T08:58:19.344Z"
      },
      {
        "duration": 12,
        "start_time": "2024-02-23T08:58:20.168Z"
      },
      {
        "duration": 15,
        "start_time": "2024-02-23T08:58:20.182Z"
      },
      {
        "duration": 8,
        "start_time": "2024-02-23T08:58:20.199Z"
      },
      {
        "duration": 14,
        "start_time": "2024-02-23T08:58:22.858Z"
      },
      {
        "duration": 3,
        "start_time": "2024-02-23T08:58:31.285Z"
      },
      {
        "duration": 13,
        "start_time": "2024-02-23T08:58:42.382Z"
      },
      {
        "duration": 120,
        "start_time": "2024-02-23T08:58:49.217Z"
      },
      {
        "duration": 4,
        "start_time": "2024-02-23T08:58:52.832Z"
      },
      {
        "duration": 4,
        "start_time": "2024-02-23T08:59:03.030Z"
      },
      {
        "duration": 3,
        "start_time": "2024-02-23T08:59:07.737Z"
      },
      {
        "duration": 419,
        "start_time": "2024-02-23T09:48:44.324Z"
      },
      {
        "duration": 4,
        "start_time": "2024-02-23T09:49:03.071Z"
      },
      {
        "duration": 4,
        "start_time": "2024-02-23T09:51:48.786Z"
      },
      {
        "duration": 4,
        "start_time": "2024-02-23T09:51:53.830Z"
      },
      {
        "duration": 4,
        "start_time": "2024-02-23T09:51:57.678Z"
      },
      {
        "duration": 422,
        "start_time": "2024-02-23T09:52:09.450Z"
      },
      {
        "duration": 5,
        "start_time": "2024-02-23T09:52:33.675Z"
      },
      {
        "duration": 5,
        "start_time": "2024-02-23T09:53:37.347Z"
      },
      {
        "duration": 5,
        "start_time": "2024-02-23T09:54:23.596Z"
      },
      {
        "duration": 773,
        "start_time": "2024-02-23T09:54:29.052Z"
      },
      {
        "duration": 5,
        "start_time": "2024-02-23T09:54:39.838Z"
      },
      {
        "duration": 13,
        "start_time": "2024-02-23T09:55:52.639Z"
      },
      {
        "duration": 102,
        "start_time": "2024-02-23T09:56:00.338Z"
      },
      {
        "duration": 100,
        "start_time": "2024-02-23T09:56:03.950Z"
      },
      {
        "duration": 106,
        "start_time": "2024-02-23T09:56:10.031Z"
      },
      {
        "duration": 102,
        "start_time": "2024-02-23T09:56:51.624Z"
      },
      {
        "duration": 11,
        "start_time": "2024-02-23T09:57:16.988Z"
      },
      {
        "duration": 94,
        "start_time": "2024-02-23T09:57:25.300Z"
      },
      {
        "duration": 460,
        "start_time": "2024-02-23T09:57:34.633Z"
      },
      {
        "duration": 5,
        "start_time": "2024-02-23T09:58:22.004Z"
      },
      {
        "duration": 10,
        "start_time": "2024-02-23T09:58:39.010Z"
      },
      {
        "duration": 3,
        "start_time": "2024-02-23T09:59:11.407Z"
      },
      {
        "duration": 8,
        "start_time": "2024-02-23T09:59:14.293Z"
      },
      {
        "duration": 5,
        "start_time": "2024-02-23T09:59:22.092Z"
      },
      {
        "duration": 5,
        "start_time": "2024-02-23T09:59:37.783Z"
      },
      {
        "duration": 5,
        "start_time": "2024-02-23T09:59:46.056Z"
      },
      {
        "duration": 4,
        "start_time": "2024-02-23T10:00:05.805Z"
      },
      {
        "duration": 2,
        "start_time": "2024-02-23T10:00:06.151Z"
      },
      {
        "duration": 4,
        "start_time": "2024-02-23T10:00:07.365Z"
      },
      {
        "duration": 84,
        "start_time": "2024-02-23T13:33:57.058Z"
      },
      {
        "duration": 1693,
        "start_time": "2024-02-23T13:34:01.522Z"
      },
      {
        "duration": 82,
        "start_time": "2024-02-23T13:34:03.217Z"
      },
      {
        "duration": 12,
        "start_time": "2024-02-23T13:34:03.301Z"
      },
      {
        "duration": 6,
        "start_time": "2024-02-23T13:34:03.315Z"
      },
      {
        "duration": 16,
        "start_time": "2024-02-23T13:34:03.323Z"
      },
      {
        "duration": 33,
        "start_time": "2024-02-23T13:34:03.340Z"
      },
      {
        "duration": 941,
        "start_time": "2024-02-23T13:34:03.374Z"
      },
      {
        "duration": 10,
        "start_time": "2024-02-23T13:34:04.317Z"
      },
      {
        "duration": 17,
        "start_time": "2024-02-23T13:34:04.329Z"
      },
      {
        "duration": 16,
        "start_time": "2024-02-23T13:34:04.347Z"
      },
      {
        "duration": 11,
        "start_time": "2024-02-23T13:34:04.364Z"
      },
      {
        "duration": 17,
        "start_time": "2024-02-23T13:34:04.376Z"
      },
      {
        "duration": 4,
        "start_time": "2024-02-23T13:34:09.180Z"
      },
      {
        "duration": 26,
        "start_time": "2024-02-23T13:34:23.297Z"
      },
      {
        "duration": 5,
        "start_time": "2024-02-23T13:34:30.729Z"
      },
      {
        "duration": 7,
        "start_time": "2024-02-23T13:34:39.483Z"
      },
      {
        "duration": 7,
        "start_time": "2024-02-23T13:34:39.820Z"
      },
      {
        "duration": 8,
        "start_time": "2024-02-23T13:34:40.583Z"
      },
      {
        "duration": 10,
        "start_time": "2024-02-23T13:34:41.241Z"
      },
      {
        "duration": 7,
        "start_time": "2024-02-23T13:34:41.864Z"
      },
      {
        "duration": 8,
        "start_time": "2024-02-23T13:34:43.570Z"
      },
      {
        "duration": 6,
        "start_time": "2024-02-23T13:34:44.618Z"
      },
      {
        "duration": 10,
        "start_time": "2024-02-23T13:34:45.522Z"
      },
      {
        "duration": 10,
        "start_time": "2024-02-23T13:34:46.300Z"
      },
      {
        "duration": 6,
        "start_time": "2024-02-23T13:34:47.221Z"
      },
      {
        "duration": 5,
        "start_time": "2024-02-23T13:34:52.091Z"
      },
      {
        "duration": 6,
        "start_time": "2024-02-23T13:34:53.101Z"
      },
      {
        "duration": 5,
        "start_time": "2024-02-23T13:34:54.516Z"
      },
      {
        "duration": 6,
        "start_time": "2024-02-23T13:34:55.322Z"
      },
      {
        "duration": 6,
        "start_time": "2024-02-23T13:34:56.067Z"
      },
      {
        "duration": 7,
        "start_time": "2024-02-23T13:34:57.148Z"
      },
      {
        "duration": 7,
        "start_time": "2024-02-23T13:34:57.948Z"
      },
      {
        "duration": 5,
        "start_time": "2024-02-23T13:34:58.697Z"
      },
      {
        "duration": 6,
        "start_time": "2024-02-23T15:26:57.692Z"
      },
      {
        "duration": 83,
        "start_time": "2024-02-23T15:27:08.117Z"
      },
      {
        "duration": 3,
        "start_time": "2024-02-23T15:27:36.910Z"
      },
      {
        "duration": 5,
        "start_time": "2024-02-23T15:27:42.165Z"
      },
      {
        "duration": 1139,
        "start_time": "2024-02-23T15:27:44.139Z"
      },
      {
        "duration": 5,
        "start_time": "2024-02-23T15:28:17.396Z"
      },
      {
        "duration": 23,
        "start_time": "2024-02-23T15:28:20.972Z"
      },
      {
        "duration": 4,
        "start_time": "2024-02-23T15:29:03.656Z"
      },
      {
        "duration": 8,
        "start_time": "2024-02-23T15:29:15.027Z"
      },
      {
        "duration": 22,
        "start_time": "2024-02-23T15:29:15.898Z"
      },
      {
        "duration": 5,
        "start_time": "2024-02-23T15:29:24.354Z"
      },
      {
        "duration": 17,
        "start_time": "2024-02-23T15:29:25.526Z"
      },
      {
        "duration": 5,
        "start_time": "2024-02-23T15:30:37.869Z"
      },
      {
        "duration": 14,
        "start_time": "2024-02-23T15:30:40.982Z"
      },
      {
        "duration": 3,
        "start_time": "2024-02-23T15:32:39.587Z"
      },
      {
        "duration": 12,
        "start_time": "2024-02-23T15:32:45.677Z"
      },
      {
        "duration": 68,
        "start_time": "2024-02-23T15:57:41.201Z"
      },
      {
        "duration": 4,
        "start_time": "2024-02-23T15:58:03.646Z"
      },
      {
        "duration": 4,
        "start_time": "2024-02-23T15:58:14.309Z"
      },
      {
        "duration": 74,
        "start_time": "2024-02-23T15:58:26.617Z"
      },
      {
        "duration": 18,
        "start_time": "2024-02-23T15:58:30.956Z"
      },
      {
        "duration": 4,
        "start_time": "2024-02-23T16:00:30.769Z"
      },
      {
        "duration": 20,
        "start_time": "2024-02-23T16:00:36.195Z"
      },
      {
        "duration": 5,
        "start_time": "2024-02-23T16:00:51.131Z"
      },
      {
        "duration": 17,
        "start_time": "2024-02-23T18:24:58.582Z"
      },
      {
        "duration": 47,
        "start_time": "2024-02-24T05:08:18.302Z"
      },
      {
        "duration": 1509,
        "start_time": "2024-02-24T05:08:23.390Z"
      },
      {
        "duration": 84,
        "start_time": "2024-02-24T05:08:24.901Z"
      },
      {
        "duration": 10,
        "start_time": "2024-02-24T05:08:24.986Z"
      },
      {
        "duration": 3,
        "start_time": "2024-02-24T05:08:24.998Z"
      },
      {
        "duration": 15,
        "start_time": "2024-02-24T05:08:25.002Z"
      },
      {
        "duration": 21,
        "start_time": "2024-02-24T05:08:25.018Z"
      },
      {
        "duration": 820,
        "start_time": "2024-02-24T05:08:25.041Z"
      },
      {
        "duration": 5,
        "start_time": "2024-02-24T05:08:25.862Z"
      },
      {
        "duration": 8,
        "start_time": "2024-02-24T05:08:25.868Z"
      },
      {
        "duration": 6,
        "start_time": "2024-02-24T05:08:25.878Z"
      },
      {
        "duration": 3,
        "start_time": "2024-02-24T05:08:25.885Z"
      },
      {
        "duration": 3,
        "start_time": "2024-02-24T05:08:32.387Z"
      },
      {
        "duration": 4,
        "start_time": "2024-02-24T05:08:38.293Z"
      },
      {
        "duration": 519,
        "start_time": "2024-02-24T05:08:59.165Z"
      },
      {
        "duration": 12,
        "start_time": "2024-02-24T05:09:17.353Z"
      },
      {
        "duration": 10,
        "start_time": "2024-02-24T05:12:24.719Z"
      },
      {
        "duration": 2,
        "start_time": "2024-02-24T05:13:30.335Z"
      },
      {
        "duration": 4,
        "start_time": "2024-02-24T05:13:34.386Z"
      },
      {
        "duration": 2,
        "start_time": "2024-02-24T05:13:44.932Z"
      },
      {
        "duration": 12,
        "start_time": "2024-02-24T05:13:48.233Z"
      },
      {
        "duration": 14,
        "start_time": "2024-02-24T05:13:54.721Z"
      },
      {
        "duration": 11,
        "start_time": "2024-02-24T05:14:04.353Z"
      },
      {
        "duration": 11,
        "start_time": "2024-02-24T05:14:14.038Z"
      },
      {
        "duration": 4,
        "start_time": "2024-02-24T05:17:49.709Z"
      },
      {
        "duration": 4,
        "start_time": "2024-02-24T05:17:57.861Z"
      },
      {
        "duration": 8,
        "start_time": "2024-02-24T05:18:29.037Z"
      },
      {
        "duration": 4,
        "start_time": "2024-02-24T05:18:38.051Z"
      },
      {
        "duration": 3,
        "start_time": "2024-02-24T05:19:36.148Z"
      },
      {
        "duration": 5,
        "start_time": "2024-02-24T05:20:16.568Z"
      },
      {
        "duration": 2,
        "start_time": "2024-02-24T05:20:56.372Z"
      },
      {
        "duration": 17,
        "start_time": "2024-02-24T05:21:45.353Z"
      },
      {
        "duration": 4,
        "start_time": "2024-02-24T05:22:01.801Z"
      },
      {
        "duration": 9,
        "start_time": "2024-02-24T05:22:04.812Z"
      },
      {
        "duration": 10,
        "start_time": "2024-02-24T05:23:43.548Z"
      },
      {
        "duration": 4,
        "start_time": "2024-02-24T05:24:26.715Z"
      },
      {
        "duration": 88,
        "start_time": "2024-02-24T05:24:46.102Z"
      },
      {
        "duration": 12,
        "start_time": "2024-02-24T05:24:52.343Z"
      },
      {
        "duration": 3,
        "start_time": "2024-02-24T05:25:19.572Z"
      },
      {
        "duration": 5,
        "start_time": "2024-02-24T05:25:21.397Z"
      },
      {
        "duration": 12,
        "start_time": "2024-02-24T05:25:23.123Z"
      },
      {
        "duration": 2,
        "start_time": "2024-02-24T05:25:25.872Z"
      },
      {
        "duration": 10,
        "start_time": "2024-02-24T05:25:26.430Z"
      },
      {
        "duration": 10,
        "start_time": "2024-02-24T05:25:27.408Z"
      },
      {
        "duration": 4,
        "start_time": "2024-02-24T05:26:16.489Z"
      },
      {
        "duration": 6,
        "start_time": "2024-02-24T05:26:18.199Z"
      },
      {
        "duration": 12,
        "start_time": "2024-02-24T05:26:18.649Z"
      },
      {
        "duration": 2,
        "start_time": "2024-02-24T05:26:19.305Z"
      },
      {
        "duration": 12,
        "start_time": "2024-02-24T05:26:20.332Z"
      },
      {
        "duration": 4,
        "start_time": "2024-02-24T05:26:35.866Z"
      },
      {
        "duration": 5,
        "start_time": "2024-02-24T05:26:36.606Z"
      },
      {
        "duration": 13,
        "start_time": "2024-02-24T05:26:37.382Z"
      },
      {
        "duration": 2,
        "start_time": "2024-02-24T05:26:38.300Z"
      },
      {
        "duration": 8,
        "start_time": "2024-02-24T05:26:39.107Z"
      },
      {
        "duration": 9,
        "start_time": "2024-02-24T05:26:40.041Z"
      },
      {
        "duration": 9,
        "start_time": "2024-02-24T05:27:58.950Z"
      },
      {
        "duration": 10,
        "start_time": "2024-02-24T05:28:30.123Z"
      },
      {
        "duration": 10,
        "start_time": "2024-02-24T05:28:36.450Z"
      },
      {
        "duration": 3,
        "start_time": "2024-02-24T05:28:55.779Z"
      },
      {
        "duration": 42,
        "start_time": "2024-02-24T05:28:55.785Z"
      },
      {
        "duration": 10,
        "start_time": "2024-02-24T05:28:55.829Z"
      },
      {
        "duration": 4,
        "start_time": "2024-02-24T05:28:55.841Z"
      },
      {
        "duration": 18,
        "start_time": "2024-02-24T05:28:55.846Z"
      },
      {
        "duration": 21,
        "start_time": "2024-02-24T05:28:55.865Z"
      },
      {
        "duration": 833,
        "start_time": "2024-02-24T05:28:55.888Z"
      },
      {
        "duration": 6,
        "start_time": "2024-02-24T05:28:56.723Z"
      },
      {
        "duration": 5,
        "start_time": "2024-02-24T05:28:56.732Z"
      },
      {
        "duration": 8,
        "start_time": "2024-02-24T05:28:56.738Z"
      },
      {
        "duration": 4,
        "start_time": "2024-02-24T05:28:56.748Z"
      },
      {
        "duration": 7,
        "start_time": "2024-02-24T05:28:56.753Z"
      },
      {
        "duration": 18,
        "start_time": "2024-02-24T05:28:56.762Z"
      },
      {
        "duration": 3,
        "start_time": "2024-02-24T05:28:56.781Z"
      },
      {
        "duration": 10,
        "start_time": "2024-02-24T05:28:56.817Z"
      },
      {
        "duration": 10,
        "start_time": "2024-02-24T05:28:56.829Z"
      },
      {
        "duration": 4,
        "start_time": "2024-02-24T05:29:20.696Z"
      },
      {
        "duration": 7,
        "start_time": "2024-02-24T05:29:21.880Z"
      },
      {
        "duration": 13,
        "start_time": "2024-02-24T05:29:22.323Z"
      },
      {
        "duration": 3,
        "start_time": "2024-02-24T05:29:22.660Z"
      },
      {
        "duration": 10,
        "start_time": "2024-02-24T05:29:23.111Z"
      },
      {
        "duration": 9,
        "start_time": "2024-02-24T05:29:23.496Z"
      },
      {
        "duration": 66,
        "start_time": "2024-02-24T05:29:47.605Z"
      },
      {
        "duration": 6,
        "start_time": "2024-02-24T05:29:47.946Z"
      },
      {
        "duration": 14,
        "start_time": "2024-02-24T05:29:48.250Z"
      },
      {
        "duration": 3,
        "start_time": "2024-02-24T05:29:48.506Z"
      },
      {
        "duration": 11,
        "start_time": "2024-02-24T05:29:50.740Z"
      },
      {
        "duration": 11,
        "start_time": "2024-02-24T05:29:51.284Z"
      },
      {
        "duration": 5,
        "start_time": "2024-02-24T05:30:14.505Z"
      },
      {
        "duration": 5,
        "start_time": "2024-02-24T05:30:18.640Z"
      },
      {
        "duration": 7,
        "start_time": "2024-02-24T05:30:19.363Z"
      },
      {
        "duration": 18,
        "start_time": "2024-02-24T05:30:19.752Z"
      },
      {
        "duration": 3,
        "start_time": "2024-02-24T05:30:20.031Z"
      },
      {
        "duration": 12,
        "start_time": "2024-02-24T05:30:20.529Z"
      },
      {
        "duration": 12,
        "start_time": "2024-02-24T05:30:23.261Z"
      },
      {
        "duration": 10,
        "start_time": "2024-02-24T05:30:44.262Z"
      },
      {
        "duration": 10,
        "start_time": "2024-02-24T05:30:45.734Z"
      },
      {
        "duration": 2,
        "start_time": "2024-02-24T05:31:23.854Z"
      },
      {
        "duration": 10,
        "start_time": "2024-02-24T05:31:24.537Z"
      },
      {
        "duration": 7,
        "start_time": "2024-02-24T05:31:57.661Z"
      },
      {
        "duration": 2,
        "start_time": "2024-02-24T05:31:58.102Z"
      },
      {
        "duration": 13,
        "start_time": "2024-02-24T05:31:59.800Z"
      },
      {
        "duration": 5,
        "start_time": "2024-02-24T05:33:35.562Z"
      },
      {
        "duration": 5,
        "start_time": "2024-02-24T05:33:37.333Z"
      },
      {
        "duration": 2,
        "start_time": "2024-02-24T05:33:37.719Z"
      },
      {
        "duration": 13,
        "start_time": "2024-02-24T05:33:38.406Z"
      },
      {
        "duration": 4,
        "start_time": "2024-02-24T05:33:46.828Z"
      },
      {
        "duration": 5,
        "start_time": "2024-02-24T05:33:47.103Z"
      },
      {
        "duration": 3,
        "start_time": "2024-02-24T05:33:47.378Z"
      },
      {
        "duration": 12,
        "start_time": "2024-02-24T05:33:48.341Z"
      },
      {
        "duration": 12,
        "start_time": "2024-02-24T05:33:49.111Z"
      },
      {
        "duration": 20,
        "start_time": "2024-02-24T05:34:32.427Z"
      },
      {
        "duration": 1307,
        "start_time": "2024-02-24T05:46:34.776Z"
      },
      {
        "duration": 38,
        "start_time": "2024-02-24T05:46:36.085Z"
      },
      {
        "duration": 11,
        "start_time": "2024-02-24T05:46:36.124Z"
      },
      {
        "duration": 3,
        "start_time": "2024-02-24T05:46:36.137Z"
      },
      {
        "duration": 12,
        "start_time": "2024-02-24T05:46:36.142Z"
      },
      {
        "duration": 10,
        "start_time": "2024-02-24T05:46:36.156Z"
      },
      {
        "duration": 823,
        "start_time": "2024-02-24T05:46:36.168Z"
      },
      {
        "duration": 5,
        "start_time": "2024-02-24T05:46:36.993Z"
      },
      {
        "duration": 21,
        "start_time": "2024-02-24T05:46:37.000Z"
      },
      {
        "duration": 9,
        "start_time": "2024-02-24T05:46:37.023Z"
      },
      {
        "duration": 5,
        "start_time": "2024-02-24T05:46:37.034Z"
      },
      {
        "duration": 14,
        "start_time": "2024-02-24T05:46:37.040Z"
      },
      {
        "duration": 7,
        "start_time": "2024-02-24T05:46:37.056Z"
      },
      {
        "duration": 27,
        "start_time": "2024-02-24T05:46:37.064Z"
      },
      {
        "duration": 28,
        "start_time": "2024-02-24T05:46:37.092Z"
      },
      {
        "duration": 20,
        "start_time": "2024-02-24T05:46:37.122Z"
      },
      {
        "duration": 3,
        "start_time": "2024-02-24T05:56:14.688Z"
      },
      {
        "duration": 33,
        "start_time": "2024-02-24T05:56:14.969Z"
      },
      {
        "duration": 10,
        "start_time": "2024-02-24T05:56:15.374Z"
      },
      {
        "duration": 1220,
        "start_time": "2024-02-24T05:56:26.876Z"
      },
      {
        "duration": 37,
        "start_time": "2024-02-24T05:56:28.098Z"
      },
      {
        "duration": 12,
        "start_time": "2024-02-24T05:56:28.136Z"
      },
      {
        "duration": 4,
        "start_time": "2024-02-24T05:56:28.149Z"
      },
      {
        "duration": 4,
        "start_time": "2024-02-24T05:56:28.155Z"
      },
      {
        "duration": 10,
        "start_time": "2024-02-24T05:56:28.160Z"
      },
      {
        "duration": 780,
        "start_time": "2024-02-24T05:56:28.171Z"
      },
      {
        "duration": 6,
        "start_time": "2024-02-24T05:56:28.952Z"
      },
      {
        "duration": 6,
        "start_time": "2024-02-24T05:56:28.960Z"
      },
      {
        "duration": 7,
        "start_time": "2024-02-24T05:56:28.968Z"
      },
      {
        "duration": 5,
        "start_time": "2024-02-24T05:56:28.976Z"
      },
      {
        "duration": 7,
        "start_time": "2024-02-24T05:56:28.982Z"
      },
      {
        "duration": 3,
        "start_time": "2024-02-24T05:56:29.018Z"
      },
      {
        "duration": 12,
        "start_time": "2024-02-24T05:56:29.023Z"
      },
      {
        "duration": 25,
        "start_time": "2024-02-24T05:56:29.036Z"
      },
      {
        "duration": 122,
        "start_time": "2024-02-24T05:56:29.063Z"
      },
      {
        "duration": 2157,
        "start_time": "2024-02-24T07:32:42.781Z"
      },
      {
        "duration": 85,
        "start_time": "2024-02-24T07:32:44.940Z"
      },
      {
        "duration": 12,
        "start_time": "2024-02-24T07:32:45.027Z"
      },
      {
        "duration": 16,
        "start_time": "2024-02-24T07:32:45.041Z"
      },
      {
        "duration": 41,
        "start_time": "2024-02-24T07:32:45.059Z"
      },
      {
        "duration": 16,
        "start_time": "2024-02-24T07:32:45.102Z"
      },
      {
        "duration": 770,
        "start_time": "2024-02-24T07:32:45.120Z"
      },
      {
        "duration": 7,
        "start_time": "2024-02-24T07:32:45.891Z"
      },
      {
        "duration": 6,
        "start_time": "2024-02-24T07:32:45.899Z"
      },
      {
        "duration": 14,
        "start_time": "2024-02-24T07:32:45.908Z"
      },
      {
        "duration": 5,
        "start_time": "2024-02-24T07:32:45.933Z"
      },
      {
        "duration": 11,
        "start_time": "2024-02-24T07:32:45.940Z"
      },
      {
        "duration": 2,
        "start_time": "2024-02-24T07:32:45.953Z"
      },
      {
        "duration": 102,
        "start_time": "2024-02-24T07:32:45.956Z"
      },
      {
        "duration": 11,
        "start_time": "2024-02-24T07:32:46.060Z"
      },
      {
        "duration": 20,
        "start_time": "2024-02-24T07:32:46.072Z"
      },
      {
        "duration": 13,
        "start_time": "2024-02-24T07:36:57.968Z"
      },
      {
        "duration": 65,
        "start_time": "2024-02-24T11:15:06.315Z"
      },
      {
        "duration": 1421,
        "start_time": "2024-02-24T11:19:01.553Z"
      },
      {
        "duration": 37,
        "start_time": "2024-02-24T11:19:02.976Z"
      },
      {
        "duration": 11,
        "start_time": "2024-02-24T11:19:03.015Z"
      },
      {
        "duration": 14,
        "start_time": "2024-02-24T11:19:03.027Z"
      },
      {
        "duration": 14,
        "start_time": "2024-02-24T11:19:03.043Z"
      },
      {
        "duration": 9,
        "start_time": "2024-02-24T11:19:03.059Z"
      },
      {
        "duration": 724,
        "start_time": "2024-02-24T11:19:03.069Z"
      },
      {
        "duration": 5,
        "start_time": "2024-02-24T11:19:03.795Z"
      },
      {
        "duration": 17,
        "start_time": "2024-02-24T11:19:03.802Z"
      },
      {
        "duration": 8,
        "start_time": "2024-02-24T11:19:03.820Z"
      },
      {
        "duration": 4,
        "start_time": "2024-02-24T11:19:03.830Z"
      },
      {
        "duration": 15,
        "start_time": "2024-02-24T11:19:03.835Z"
      },
      {
        "duration": 3,
        "start_time": "2024-02-24T11:19:03.852Z"
      },
      {
        "duration": 12,
        "start_time": "2024-02-24T11:19:03.857Z"
      },
      {
        "duration": 11,
        "start_time": "2024-02-24T11:19:03.871Z"
      },
      {
        "duration": 126,
        "start_time": "2024-02-24T11:19:03.883Z"
      },
      {
        "duration": 2216,
        "start_time": "2024-02-24T11:48:57.154Z"
      },
      {
        "duration": 100,
        "start_time": "2024-02-24T11:48:59.372Z"
      },
      {
        "duration": 13,
        "start_time": "2024-02-24T11:48:59.474Z"
      },
      {
        "duration": 4,
        "start_time": "2024-02-24T11:48:59.489Z"
      },
      {
        "duration": 5,
        "start_time": "2024-02-24T11:48:59.494Z"
      },
      {
        "duration": 13,
        "start_time": "2024-02-24T11:48:59.500Z"
      },
      {
        "duration": 769,
        "start_time": "2024-02-24T11:48:59.514Z"
      },
      {
        "duration": 6,
        "start_time": "2024-02-24T11:49:00.284Z"
      },
      {
        "duration": 80,
        "start_time": "2024-02-24T11:49:00.292Z"
      },
      {
        "duration": 87,
        "start_time": "2024-02-24T11:49:00.374Z"
      },
      {
        "duration": 80,
        "start_time": "2024-02-24T11:49:00.462Z"
      },
      {
        "duration": 83,
        "start_time": "2024-02-24T11:49:00.544Z"
      },
      {
        "duration": 50,
        "start_time": "2024-02-24T11:49:00.628Z"
      },
      {
        "duration": 177,
        "start_time": "2024-02-24T11:49:00.679Z"
      },
      {
        "duration": 13,
        "start_time": "2024-02-24T11:49:00.857Z"
      },
      {
        "duration": 65,
        "start_time": "2024-02-24T11:49:00.871Z"
      },
      {
        "duration": 1985,
        "start_time": "2024-02-24T12:29:43.151Z"
      },
      {
        "duration": 39,
        "start_time": "2024-02-24T12:29:45.138Z"
      },
      {
        "duration": 11,
        "start_time": "2024-02-24T12:29:45.179Z"
      },
      {
        "duration": 22,
        "start_time": "2024-02-24T12:29:45.192Z"
      },
      {
        "duration": 13,
        "start_time": "2024-02-24T12:29:45.216Z"
      },
      {
        "duration": 24,
        "start_time": "2024-02-24T12:29:45.231Z"
      },
      {
        "duration": 872,
        "start_time": "2024-02-24T12:29:45.257Z"
      },
      {
        "duration": 6,
        "start_time": "2024-02-24T12:29:46.130Z"
      },
      {
        "duration": 7,
        "start_time": "2024-02-24T12:29:46.138Z"
      },
      {
        "duration": 7,
        "start_time": "2024-02-24T12:29:46.146Z"
      },
      {
        "duration": 4,
        "start_time": "2024-02-24T12:29:46.154Z"
      },
      {
        "duration": 8,
        "start_time": "2024-02-24T12:29:46.159Z"
      },
      {
        "duration": 14,
        "start_time": "2024-02-24T12:29:46.168Z"
      },
      {
        "duration": 38,
        "start_time": "2024-02-24T12:29:46.184Z"
      },
      {
        "duration": 12,
        "start_time": "2024-02-24T12:29:46.224Z"
      },
      {
        "duration": 111,
        "start_time": "2024-02-24T12:29:46.238Z"
      },
      {
        "duration": 908,
        "start_time": "2024-02-24T13:18:17.960Z"
      },
      {
        "duration": 3,
        "start_time": "2024-02-24T13:18:31.827Z"
      },
      {
        "duration": 3,
        "start_time": "2024-02-24T13:19:01.735Z"
      },
      {
        "duration": 4,
        "start_time": "2024-02-24T13:19:40.255Z"
      },
      {
        "duration": 4,
        "start_time": "2024-02-24T13:19:42.591Z"
      },
      {
        "duration": 6,
        "start_time": "2024-02-24T13:20:28.690Z"
      },
      {
        "duration": 4,
        "start_time": "2024-02-24T13:20:41.161Z"
      },
      {
        "duration": 9,
        "start_time": "2024-02-24T13:21:07.370Z"
      },
      {
        "duration": 6,
        "start_time": "2024-02-24T13:21:27.842Z"
      },
      {
        "duration": 5,
        "start_time": "2024-02-24T13:23:29.908Z"
      },
      {
        "duration": 4,
        "start_time": "2024-02-24T13:23:35.889Z"
      },
      {
        "duration": 5,
        "start_time": "2024-02-24T13:32:32.876Z"
      },
      {
        "duration": 5,
        "start_time": "2024-02-24T13:33:01.428Z"
      },
      {
        "duration": 71,
        "start_time": "2024-02-24T13:35:09.936Z"
      },
      {
        "duration": 7,
        "start_time": "2024-02-24T13:35:13.986Z"
      },
      {
        "duration": 9,
        "start_time": "2024-02-24T13:36:37.124Z"
      },
      {
        "duration": 7,
        "start_time": "2024-02-24T13:36:48.972Z"
      },
      {
        "duration": 5,
        "start_time": "2024-02-24T13:38:47.042Z"
      },
      {
        "duration": 16,
        "start_time": "2024-02-24T13:38:59.043Z"
      },
      {
        "duration": 4,
        "start_time": "2024-02-24T13:39:07.740Z"
      },
      {
        "duration": 6,
        "start_time": "2024-02-24T13:40:49.571Z"
      },
      {
        "duration": 2054,
        "start_time": "2024-02-24T13:41:30.634Z"
      },
      {
        "duration": 38,
        "start_time": "2024-02-24T13:41:32.690Z"
      },
      {
        "duration": 11,
        "start_time": "2024-02-24T13:41:32.730Z"
      },
      {
        "duration": 4,
        "start_time": "2024-02-24T13:41:32.742Z"
      },
      {
        "duration": 4,
        "start_time": "2024-02-24T13:41:32.747Z"
      },
      {
        "duration": 10,
        "start_time": "2024-02-24T13:41:32.753Z"
      },
      {
        "duration": 857,
        "start_time": "2024-02-24T13:41:32.764Z"
      },
      {
        "duration": 6,
        "start_time": "2024-02-24T13:41:33.623Z"
      },
      {
        "duration": 6,
        "start_time": "2024-02-24T13:41:33.631Z"
      },
      {
        "duration": 12,
        "start_time": "2024-02-24T13:41:33.640Z"
      },
      {
        "duration": 9,
        "start_time": "2024-02-24T13:41:33.654Z"
      },
      {
        "duration": 7,
        "start_time": "2024-02-24T13:41:33.714Z"
      },
      {
        "duration": 9,
        "start_time": "2024-02-24T13:41:33.723Z"
      },
      {
        "duration": 81,
        "start_time": "2024-02-24T13:41:33.734Z"
      },
      {
        "duration": 106,
        "start_time": "2024-02-24T13:41:33.817Z"
      },
      {
        "duration": 12,
        "start_time": "2024-02-24T13:41:33.924Z"
      },
      {
        "duration": 19,
        "start_time": "2024-02-24T13:41:33.938Z"
      }
    ],
    "toc": {
      "base_numbering": 1,
      "nav_menu": {},
      "number_sections": true,
      "sideBar": true,
      "skip_h1_title": true,
      "title_cell": "Содержание",
      "title_sidebar": "Contents",
      "toc_cell": true,
      "toc_position": {},
      "toc_section_display": true,
      "toc_window_display": true
    }
  },
  "nbformat_minor": 4,
  "nbformat": 4,
  "cells": [
    {
      "cell_type": "markdown",
      "source": "# Protection of clients' personal data",
      "metadata": {}
    },
    {
      "cell_type": "markdown",
      "source": "You need to protect the data of clients of the insurance company \"Though the Flood\". Develop a method for transforming data so that it is difficult to recover personal information from it. Justify the correctness of its operation.\nIt is necessary to protect the data so that the quality of machine learning models does not deteriorate during conversion. There is no need to select the best model.",
      "metadata": {}
    },
    {
      "cell_type": "markdown",
      "source": "<h1>Content<span class=\"tocSkip\"></span></h1>\n<div class=\"toc\"><ul class=\"toc-item\"><li><span><a href=\"#Data Loading\" data-toc-modified-id=\"Data-Loading-1\"><span class=\"toc-item-num\">1&nbsp;&nbsp;</span>Data Loading</a></span></li><li><span><a href=\"#Умножение-матриц\" data-toc-modified-id=\"Умножение-матриц-2\"><span class=\"toc-item-num\">2&nbsp;&nbsp;</span>Multiplying the matrices</a></span></li><li><span><a href=\"#Алгоритм-преобразования\" data-toc-modified-id=\"Алгоритм-преобразования-3\"><span class=\"toc-item-num\">3&nbsp;&nbsp;</span>Algorithm</a></span></li><li><span><a href=\"#Проверка-алгоритма\" data-toc-modified-id=\"Проверка-алгоритма-4\"><span class=\"toc-item-num\">4&nbsp;&nbsp;</span>Algorithm check</a></span><ul class=\"toc-item\"><li><span><a href=\"#Вывод:\" data-toc-modified-id=\"Вывод:-4.1\"><span class=\"toc-item-num\">4.1&nbsp;&nbsp;</span>Conclusion:</a>",
      "metadata": {
        "toc": true
      }
    },
    {
      "cell_type": "markdown",
      "source": "## Data Loading",
      "metadata": {}
    },
    {
      "cell_type": "code",
      "source": "import pandas as pd\nimport numpy as np\nimport matplotlib.pyplot as plt\n\nfrom sklearn.linear_model import LinearRegression\nfrom sklearn.preprocessing import StandardScaler\nfrom sklearn.model_selection import train_test_split\nfrom sklearn.metrics import r2_score",
      "metadata": {
        "trusted": true
      },
      "outputs": [],
      "execution_count": 1
    },
    {
      "cell_type": "code",
      "source": "try:\n    df = pd.read_csv('/datasets/insurance.csv')        \nexcept:\n    df = pd.read_csv('insurance.csv')\ndf.head()  ",
      "metadata": {
        "trusted": true
      },
      "outputs": [
        {
          "execution_count": 3,
          "output_type": "execute_result",
          "data": {
            "text/plain": "   Sex   Age   Salary  Family_members  Insuarance_payments\n0    1  41.0  49600.0               1                    0\n1    0  46.0  38000.0               1                    1\n2    0  29.0  21000.0               0                    0\n3    0  21.0  41700.0               2                    0\n4    1  28.0  26100.0               0                    0",
            "text/html": "<div>\n<style scoped>\n    .dataframe tbody tr th:only-of-type {\n        vertical-align: middle;\n    }\n\n    .dataframe tbody tr th {\n        vertical-align: top;\n    }\n\n    .dataframe thead th {\n        text-align: right;\n    }\n</style>\n<table border=\"1\" class=\"dataframe\">\n  <thead>\n    <tr style=\"text-align: right;\">\n      <th></th>\n      <th>Sex</th>\n      <th>Age</th>\n      <th>Salary</th>\n      <th>Family_members</th>\n      <th>Insuarance_payments</th>\n    </tr>\n  </thead>\n  <tbody>\n    <tr>\n      <th>0</th>\n      <td>1</td>\n      <td>41.0</td>\n      <td>49600.0</td>\n      <td>1</td>\n      <td>0</td>\n    </tr>\n    <tr>\n      <th>1</th>\n      <td>0</td>\n      <td>46.0</td>\n      <td>38000.0</td>\n      <td>1</td>\n      <td>1</td>\n    </tr>\n    <tr>\n      <th>2</th>\n      <td>0</td>\n      <td>29.0</td>\n      <td>21000.0</td>\n      <td>0</td>\n      <td>0</td>\n    </tr>\n    <tr>\n      <th>3</th>\n      <td>0</td>\n      <td>21.0</td>\n      <td>41700.0</td>\n      <td>2</td>\n      <td>0</td>\n    </tr>\n    <tr>\n      <th>4</th>\n      <td>1</td>\n      <td>28.0</td>\n      <td>26100.0</td>\n      <td>0</td>\n      <td>0</td>\n    </tr>\n  </tbody>\n</table>\n</div>"
          },
          "metadata": {}
        }
      ],
      "execution_count": 3
    },
    {
      "cell_type": "code",
      "source": "df.info()",
      "metadata": {
        "trusted": true
      },
      "outputs": [
        {
          "name": "stdout",
          "text": "<class 'pandas.core.frame.DataFrame'>\nRangeIndex: 5000 entries, 0 to 4999\nData columns (total 5 columns):\n #   Column               Non-Null Count  Dtype  \n---  ------               --------------  -----  \n 0   Sex                  5000 non-null   int64  \n 1   Age                  5000 non-null   float64\n 2   Salary               5000 non-null   float64\n 3   Family_members       5000 non-null   int64  \n 4   Insuarance_payments  5000 non-null   int64  \ndtypes: float64(2), int64(3)\nmemory usage: 195.4 KB\n",
          "output_type": "stream"
        }
      ],
      "execution_count": 4
    },
    {
      "cell_type": "code",
      "source": "df.rename(columns = {\n    'Sex':'gender','Age':'age' ,'Salary':'income', 'Family_members':'family_members',\n    'Insuarance_payments':'insurance_payouts'}, inplace = True )",
      "metadata": {
        "scrolled": true,
        "trusted": true
      },
      "outputs": [],
      "execution_count": 5
    },
    {
      "cell_type": "markdown",
      "source": "Converting the age format to integer:",
      "metadata": {}
    },
    {
      "cell_type": "code",
      "source": "df['age'] = df['age'].astype(int)",
      "metadata": {
        "trusted": true
      },
      "outputs": [],
      "execution_count": 6
    },
    {
      "cell_type": "code",
      "source": "df.info()",
      "metadata": {
        "scrolled": true,
        "trusted": true
      },
      "outputs": [
        {
          "name": "stdout",
          "text": "<class 'pandas.core.frame.DataFrame'>\nRangeIndex: 5000 entries, 0 to 4999\nData columns (total 5 columns):\n #   Column             Non-Null Count  Dtype  \n---  ------             --------------  -----  \n 0   gender             5000 non-null   int64  \n 1   age                5000 non-null   int32  \n 2   income             5000 non-null   float64\n 3   family_members     5000 non-null   int64  \n 4   insurance_payouts  5000 non-null   int64  \ndtypes: float64(1), int32(1), int64(3)\nmemory usage: 175.9 KB\n",
          "output_type": "stream"
        }
      ],
      "execution_count": 7
    },
    {
      "cell_type": "code",
      "source": "df.hist(bins=50, figsize=(10,10))\nplt.show()",
      "metadata": {
        "scrolled": true,
        "trusted": true
      },
      "outputs": [
        {
          "output_type": "display_data",
          "data": {
            "text/plain": "<Figure size 1000x1000 with 6 Axes>",
            "image/png": "[encoded data removed]"
          },
          "metadata": {}
        }
      ],
      "execution_count": 8
    },
    {
      "cell_type": "markdown",
      "source": "There are no anomalies in the distributions, the income is close to the normal distribution with an average value of 40,000 rubles, the majority of the insured did not apply for payments, their age ranges from 18 to 60 years.",
      "metadata": {}
    },
    {
      "cell_type": "markdown",
      "source": "Missing data:",
      "metadata": {}
    },
    {
      "cell_type": "code",
      "source": "df.isna().sum()",
      "metadata": {
        "trusted": true
      },
      "outputs": [
        {
          "execution_count": 9,
          "output_type": "execute_result",
          "data": {
            "text/plain": "gender               0\nage                  0\nincome               0\nfamily_members       0\ninsurance_payouts    0\ndtype: int64"
          },
          "metadata": {}
        }
      ],
      "execution_count": 9
    },
    {
      "cell_type": "markdown",
      "source": "Duplicates:",
      "metadata": {}
    },
    {
      "cell_type": "code",
      "source": "df.duplicated().sum()\n",
      "metadata": {
        "trusted": true
      },
      "outputs": [
        {
          "execution_count": 10,
          "output_type": "execute_result",
          "data": {
            "text/plain": "153"
          },
          "metadata": {}
        }
      ],
      "execution_count": 10
    },
    {
      "cell_type": "markdown",
      "source": "Deleting the duplicates",
      "metadata": {}
    },
    {
      "cell_type": "code",
      "source": "df= df[~df.duplicated()]\ndf.duplicated().sum()",
      "metadata": {
        "scrolled": true,
        "trusted": true
      },
      "outputs": [
        {
          "execution_count": 11,
          "output_type": "execute_result",
          "data": {
            "text/plain": "0"
          },
          "metadata": {}
        }
      ],
      "execution_count": 11
    },
    {
      "cell_type": "markdown",
      "source": "**Conclusion from step 1:** The data was downloaded and presented in good quality - no anomalies were identified. Duplicates were detected and removed.",
      "metadata": {}
    },
    {
      "cell_type": "markdown",
      "source": "## Multiplying the matrices",
      "metadata": {}
    },
    {
      "cell_type": "markdown",
      "source": "Annotations:\n\n- $X$ — matrix of features (the zero column consists of ones)\n\n- $y$ — vector of the target feature\n\n- $P$ — is the matrix by which the features are multiplied\n\n- $w$ — vector of linear regression weights (zero element equals shift)",
      "metadata": {}
    },
    {
      "cell_type": "markdown",
      "source": "Predictions:\n\n$$\na = Xw\n$$\n\nTraining objective:\n\n$$\nw = \\arg\\min_w MSE(Xw, y)\n$$\n\nTraining formula:\n\n$$\nw = (X^T X)^{-1} X^T y\n$$",
      "metadata": {}
    },
    {
      "cell_type": "markdown",
      "source": "The features are multiplied by an invertible matrix. Will the quality of linear regression change? (She can be retrained.)\n\n  a. Will change. Give examples of matrices.\n \n  b. Will not change. Indicate how the linear regression parameters in the original problem and in the transformed one are related.",
      "metadata": {}
    },
    {
      "cell_type": "markdown",
      "source": "**Answer:** it will not change\n\n**Explanation:** Using the following properties of matrices:\n\n- invertable matrix has a property:\n\n$$\nA(A)^{-1}=(A)^{-1}A=E        \\qquad \\qquad (1) \n$$\n\n- transponing the multiplied matrices\n\n$$\n(AB)^{T}=(B)^{T}(A)^{T}        \\qquad \\qquad (2) \n$$\n - multiplication\n$$\nA(BC)= (AB)C      \\qquad \\qquad (2) \n$$\n\nGiben the prediction vector $$a = Xw$$\n\nwhere $$w = (X^T X)^{-1} X^T y$$\n\nLet the matrix X be multiplied by some invertible matrix A $$X' = XA$$ $$w' = (X'^T X')^{-1}( X')^T y$$   \n$$a' = X'w'$$\nSubstitute w' into the equation for a'\n$$a' = X'(X'^T X')^{-1}( X')^T y$$\nLet's transform the expression on the right, taking into account(1):\n$$XA((XA)^T (XA))^{-1}( XA)^T y = XA(A^T X^T (XA))^{-1}(XA)^T= XA(A^T(X^T X) A)^{-1} A^T X^T y= XA A^{-1}(X^T X)^{-1}(A^T)^{-1}A^T X^T y $$\naccording to (2) $A A^{-1}= E $, and multiplication by the identity matrix does not change the matrix, we get:\n\n$$     a' = X E  (X^TX)^{-1} E X^T y  = X ( X^T X)^{-1} X^T y = Xw  $$\n\nThat is, multiplication by an invertible matrix does not affect the predictions.\n\n\n",
      "metadata": {}
    },
    {
      "cell_type": "markdown",
      "source": "Since $a'= Xw = X'w'$, then $w' = Xw/X'= Xw/XA=w/A $ \n$$\nw' = A^{-1} w\n$$",
      "metadata": {}
    },
    {
      "cell_type": "markdown",
      "source": "Correction:    \n$w' = (X'^T X')^{-1}( X')^T y = ((XA)^T (XA))^{-1}( XA)^T y  = (A^T (X^TX)A)^{-1}A^TX^T y = A^{-1}(X^TX)^{-1}(A^T)^{-1}A^TX^T y = A^{-1}(X^TX)^{-1}X^T y $ \n    \nSince $w =(X^TX)^{-1}X^T y $, then\n    \n$$w' = A^{-1}(X^TX)^{-1}X^T y = A^{-1}w $$\n</div>",
      "metadata": {}
    },
    {
      "cell_type": "markdown",
      "source": "## Transformaton algorythm",
      "metadata": {}
    },
    {
      "cell_type": "markdown",
      "source": "Propose a data transformation algorithm to solve the problem. Justify why the quality of linear regression will not change.",
      "metadata": {}
    },
    {
      "cell_type": "markdown",
      "source": "**Algorithm**\n\nLet's multiply the matrix with features by an invertible matrix.\nSteps:\n- create an invertible matrix. A matrix is invertible if its determinant is nonzero, so we need to check the determinant. Matrices can also be multiplied if the width of one matrix is equal to the height of another - you need to take into account the dimension when composing the matrix\n\n- we study the quality of the model on the initial data\n- we examine the quality of the model on the converted data; if the metrics match, it means that the encryption is working correctly.",
      "metadata": {}
    },
    {
      "cell_type": "markdown",
      "source": "**Explanation**\nIt was proven above that when the feature matrix is multiplied by an invertible matrix, the prediction vector does not change.",
      "metadata": {}
    },
    {
      "cell_type": "markdown",
      "source": "## Algorythm proof",
      "metadata": {}
    },
    {
      "cell_type": "code",
      "source": "def find_r2(data, A):\n    features = data.drop('insurance_payouts', axis=1)\n    target = data['insurance_payouts']\n    \n    features = features@A\n    \n    target_train, target_valid, features_train, features_valid = train_test_split(\n    target, features, test_size=0.25, random_state=12345)\n    \n    #scaling\n    scaler = StandardScaler()\n    scaler.fit(features_train)\n    features_train = scaler.transform(features_train)\n    features_valid = scaler.transform(features_valid)\n    \n    model = LinearRegression()\n    \n    model.fit(features_train, target_train)\n    predictions = model.predict(features_valid)\n    return r2_score(target_valid, predictions)\n        \n    ",
      "metadata": {
        "trusted": true
      },
      "outputs": [],
      "execution_count": 12
    },
    {
      "cell_type": "code",
      "source": "#generating random matrix\nrandom_matrix= np.random.randint(100, size=(df.drop('insurance_payouts', axis=1).shape[1],df.drop('insurance_payouts', axis=1).shape[1]))\n#find determinant, to make sure that the matrix is invertable\ndeterminant = np.linalg.det(random_matrix)\n\nprint(\"Determinant:\", determinant)",
      "metadata": {
        "trusted": true
      },
      "outputs": [
        {
          "name": "stdout",
          "text": "Determinant: 42053795.99999998\n",
          "output_type": "stream"
        }
      ],
      "execution_count": 13
    },
    {
      "cell_type": "code",
      "source": "#generate an identity matrix to obtain an unchanged feature matrix\neinheitsmatrix=np.eye(4)",
      "metadata": {
        "trusted": true
      },
      "outputs": [],
      "execution_count": 14
    },
    {
      "cell_type": "code",
      "source": "print('For unchanged data R2=', find_r2(df, einheitsmatrix))\n",
      "metadata": {
        "trusted": true
      },
      "outputs": [
        {
          "name": "stdout",
          "text": "For unchanged data R2= 0.42307727492148217\n",
          "output_type": "stream"
        }
      ],
      "execution_count": 17
    },
    {
      "cell_type": "code",
      "source": "print('For unchanged data R2= ', find_r2(df, random_matrix))",
      "metadata": {
        "trusted": true
      },
      "outputs": [
        {
          "name": "stdout",
          "text": "For unchanged data R2=  0.4230772749214329\n",
          "output_type": "stream"
        }
      ],
      "execution_count": 18
    },
    {
      "cell_type": "code",
      "source": "find_r2(df, einheitsmatrix)-find_r2(df, random_matrix)",
      "metadata": {
        "trusted": true
      },
      "outputs": [
        {
          "execution_count": 20,
          "output_type": "execute_result",
          "data": {
            "text/plain": "4.929390229335695e-14"
          },
          "metadata": {}
        }
      ],
      "execution_count": 20
    },
    {
      "cell_type": "markdown",
      "source": "We got a very small discrepancy in the metric. This means that the algorithm works, the features are calculated in the same way.",
      "metadata": {}
    },
    {
      "cell_type": "markdown",
      "source": "### Conclusion:\nIt has been proven that when the feature matrix is multiplied by any invertible matrix, the prediction vector does not change. An algorithm has been developed for data encryption - the features are multiplied by a matrix generated from random numbers, the invertibility of this matrix is checked by finding the determinant, and the R2 metric is checked. It was revealed that the metric is the same for unchanged data and for encrypted data.\n",
      "metadata": {}
    }
  ]
}